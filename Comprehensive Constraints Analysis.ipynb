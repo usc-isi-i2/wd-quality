{
 "cells": [
  {
   "cell_type": "code",
   "execution_count": null,
   "id": "juvenile-ability",
   "metadata": {},
   "outputs": [],
   "source": [
    "import gzip\n",
    "from tqdm.notebook import tqdm\n",
    "propFileDict = {}\n",
    "fileLineCount = 1149471184\n",
    "with gzip.open('../../gdrive-kgtk-dump-2020-12-07/claims.tsv.gz','r') as fin: \n",
    "    headerLine = next(fin).decode(\"utf-8\")\n",
    "#     tstCount = 0\n",
    "    for line in tqdm(fin, total = fileLineCount):\n",
    "        line = line.decode(\"utf-8\")\n",
    "        lineP = line.rstrip().split(\"\\t\")\n",
    "        if \"external-id\" in lineP[-1]:\n",
    "            continue\n",
    "        prop = lineP[2]\n",
    "        print('got line', lineP)\n",
    "        if prop not in propFileDict:\n",
    "            propFileDict[prop] = open(\"../../propertiesSplit/claims.\"+str(prop)+\".tsv\",\"w\")\n",
    "            propFileDict[prop].write(headerLine)\n",
    "        propFileDict[prop].write(line)\n",
    "#         tstCount += 1\n",
    "#         if tstCount == 10:\n",
    "#             break\n",
    "    for file1 in propFileDict.values():\n",
    "        file1.close()"
   ]
  },
  {
   "cell_type": "code",
   "execution_count": 2,
   "id": "knowing-bryan",
   "metadata": {},
   "outputs": [
    {
     "name": "stdout",
     "output_type": "stream",
     "text": [
      "[2021-03-12 19:33:50 sqlstore]: IMPORT graph directly into table graph_11 from /data/wd-correctness/propertiesSplit/claims.P996.tsv ...\n",
      "[2021-03-12 19:33:51 sqlstore]: IMPORT graph directly into table graph_12 from /data/wd-correctness/wikidata-20210215/derived.isastar.tsv.gz ...\n",
      "^C\n"
     ]
    }
   ],
   "source": [
    "!kgtk --debug query -i ../../propertiesSplit/claims.P996.tsv \\\n",
    "    ../../constraintsOP/typeConstraint/claims.type-constraints_all.tsv \\\n",
    "    ../../wikidata-20210215/derived.isastar.tsv.gz \\\n",
    "    --match \"m: (node1)-[nodeProp]->(node2), c: (rLabel)-[:P2308]->(parent), d: (node1)-[]->(par), c: (eLabel)-[:P2303]->(eNode)\" \\\n",
    "    --where 'nodeProp.label = rLabel and (par = parent or (rLabel = eLabel and node1 = eNode))' \\\n",
    "    --return 'nodeProp.id, node1, nodeProp.label, node2, max(parent) as `node1;ancestor`' \\\n",
    "    -o ../../constraintsOP/typeConstraint/claims.type-constraints.mandatory.instanceOf.P996.correct.tsv \\\n",
    "    --graph-cache ~/sqlite3_caches/mandConst001.sqlite3.db ; \\\n",
    " kgtk --debug ifnotexists -i ../../constraintsOP/typeConstraint/claims.type-constraints.mandatory.instanceOf.P996.all.tsv \\\n",
    "    --filter-on ../../constraintsOP/typeConstraint/claims.type-constraints.mandatory.instanceOf.P996.correct.tsv \\\n",
    "    --filter-mode NONE \\\n",
    "    --input-keys node1 label \\\n",
    "    --filter-keys node1 label \\\n",
    "    -o ../../constraintsOP/typeConstraint/claims.type-constraints.mandatory.instanceOf.P996.incorrect.tsv"
   ]
  },
  {
   "cell_type": "code",
   "execution_count": 4,
   "id": "abstract-retreat",
   "metadata": {},
   "outputs": [
    {
     "name": "stdout",
     "output_type": "stream",
     "text": [
      "[2021-03-12 22:33:26 query]: SQL Translation:\r\n",
      "---------------------------------------------\r\n",
      "  SELECT graph_11_c1.\"id\", graph_11_c1.\"node1\", graph_11_c1.\"label\", graph_11_c1.\"node2\"\r\n",
      "     FROM graph_11 AS graph_11_c1, graph_14 AS graph_14_c2\r\n",
      "     WHERE graph_11_c1.\"node1\"=graph_14_c2.\"node1\"\r\n",
      "     AND (graph_14_c2.\"node2\" IN (?, ?, ?))\r\n",
      "  PARAS: ['Q1238720', 'Q3331189', 'Q47461344']\r\n",
      "---------------------------------------------\r\n"
     ]
    }
   ],
   "source": [
    "!kgtk --debug query -i ../../propertiesSplit/claims.P996.tsv \\\n",
    "    ../../wikidata-20210215/derived.isastar.tsv.gz \\\n",
    "    --match \"m: (node1)-[nodeProp]->(node2), d: (node1)-[]->(par)\" \\\n",
    "    --where 'par in [\"Q1238720\",\"Q3331189\",\"Q47461344\"]' \\\n",
    "    --return 'nodeProp.id, node1, nodeProp.label, node2' \\\n",
    "    -o ../../constraintsOP/typeConstraint/claims.type-constraints.mandatory.instanceOf.P996.correct.tsv \\\n",
    "    --graph-cache ~/sqlite3_caches/mandConst001.sqlite3.db ; \\\n",
    " kgtk --debug ifnotexists -i ../../propertiesSplit/claims.P996.tsv \\\n",
    "    --filter-on ../../constraintsOP/typeConstraint/claims.type-constraints.mandatory.instanceOf.P996.correct.tsv \\\n",
    "    --filter-mode NONE \\\n",
    "    --input-keys node1 label \\\n",
    "    --filter-keys node1 label \\\n",
    "    -o ../../constraintsOP/typeConstraint/claims.type-constraints.mandatory.instanceOf.P996.incorrect.tsv"
   ]
  },
  {
   "cell_type": "code",
   "execution_count": 7,
   "id": "strange-truck",
   "metadata": {},
   "outputs": [
    {
     "name": "stdout",
     "output_type": "stream",
     "text": [
      "81289 ../../constraintsOP/typeConstraint/claims.type-constraints.mandatory.instanceOf.P996.correct.tsv\r\n"
     ]
    }
   ],
   "source": [
    "!wc -l ../../constraintsOP/typeConstraint/claims.type-constraints.mandatory.instanceOf.P996.correct.tsv"
   ]
  },
  {
   "cell_type": "code",
   "execution_count": 8,
   "id": "finnish-hampton",
   "metadata": {},
   "outputs": [
    {
     "name": "stdout",
     "output_type": "stream",
     "text": [
      "[2021-03-12 22:49:54 sqlstore]: IMPORT graph directly into table graph_15 from /data/wd-correctness/propertiesSplit/claims.P991.tsv ...\n",
      "[2021-03-12 22:49:54 query]: SQL Translation:\n",
      "---------------------------------------------\n",
      "  SELECT graph_15_c1.\"id\", graph_15_c1.\"node1\", graph_15_c1.\"label\", graph_15_c1.\"node2\"\n",
      "     FROM graph_15 AS graph_15_c1, graph_5 AS graph_5_c2\n",
      "     WHERE graph_15_c1.\"node1\"=graph_5_c2.\"node1\"\n",
      "     AND (graph_5_c2.\"node2\" IN (?))\n",
      "  PARAS: ['Q40231']\n",
      "---------------------------------------------\n",
      "[2021-03-12 22:49:55 sqlstore]: CREATE INDEX on table graph_15 column node1 ...\n",
      "[2021-03-12 22:49:55 sqlstore]: ANALYZE INDEX on table graph_15 column node1 ...\n"
     ]
    }
   ],
   "source": [
    "!kgtk --debug query -i ../../propertiesSplit/claims.P991.tsv \\\n",
    "    ../../wikidata-20210215/derived.P31P279star.tsv.gz \\\n",
    "    --match \"m: (node1)-[nodeProp]->(node2), d: (node1)-[]->(par)\" \\\n",
    "    --where 'par in [\"Q40231\"]' \\\n",
    "    --return 'nodeProp.id, node1, nodeProp.label, node2' \\\n",
    "    -o ../../constraintsOP/typeConstraint/claims.type-constraints.mandatory.instanceOf.P991.correct.tsv \\\n",
    "    --graph-cache ~/sqlite3_caches/mandConst001.sqlite3.db ; \\\n",
    " kgtk --debug ifnotexists -i ../../propertiesSplit/claims.P991.tsv \\\n",
    "    --filter-on ../../constraintsOP/typeConstraint/claims.type-constraints.mandatory.instanceOf.P991.correct.tsv \\\n",
    "    --filter-mode NONE \\\n",
    "    --input-keys node1 label \\\n",
    "    --filter-keys node1 label \\\n",
    "    -o ../../constraintsOP/typeConstraint/claims.type-constraints.mandatory.instanceOf.P991.incorrect.tsv"
   ]
  },
  {
   "cell_type": "code",
   "execution_count": 9,
   "id": "elegant-reverse",
   "metadata": {},
   "outputs": [
    {
     "name": "stdout",
     "output_type": "stream",
     "text": [
      "[2021-03-12 23:54:56 sqlstore]: IMPORT graph directly into table graph_16 from /data/wd-correctness/propertiesSplit/claims.P965.tsv ...\n",
      "[2021-03-12 23:54:56 query]: SQL Translation:\n",
      "---------------------------------------------\n",
      "  SELECT graph_16_c1.\"id\", graph_5_c2.\"node1\", graph_16_c1.\"label\", graph_16_c1.\"node2\"\n",
      "     FROM graph_16 AS graph_16_c1, graph_5 AS graph_5_c2\n",
      "     WHERE graph_16_c1.\"node1\"=graph_5_c2.\"node1\"\n",
      "     AND (graph_5_c2.\"node2\" IN (?))\n",
      "  PARAS: ['Q6023295']\n",
      "---------------------------------------------\n",
      "[2021-03-12 23:54:56 sqlstore]: CREATE INDEX on table graph_16 column node1 ...\n",
      "[2021-03-12 23:54:56 sqlstore]: ANALYZE INDEX on table graph_16 column node1 ...\n"
     ]
    }
   ],
   "source": [
    "!kgtk --debug query -i ../../propertiesSplit/claims.P965.tsv \\\n",
    "    ../../wikidata-20210215/derived.P31P279star.tsv.gz \\\n",
    "    --match \"m: (node1)-[nodeProp]->(node2), d: (node1)-[]->(par)\" \\\n",
    "    --where 'par in [\"Q6023295\"]' \\\n",
    "    --return 'nodeProp.id, node1, nodeProp.label, node2' \\\n",
    "    -o ../../constraintsOP/typeConstraint/claims.type-constraints.mandatory.instanceOf.P965.correct.tsv \\\n",
    "    --graph-cache ~/sqlite3_caches/mandConst001.sqlite3.db ; \\\n",
    " kgtk --debug ifnotexists -i ../../propertiesSplit/claims.P965.tsv \\\n",
    "    --filter-on ../../constraintsOP/typeConstraint/claims.type-constraints.mandatory.instanceOf.P965.correct.tsv \\\n",
    "    --filter-mode NONE \\\n",
    "    --input-keys node1 label \\\n",
    "    --filter-keys node1 label \\\n",
    "    -o ../../constraintsOP/typeConstraint/claims.type-constraints.mandatory.instanceOf.P965.incorrect.tsv"
   ]
  },
  {
   "cell_type": "markdown",
   "id": "matched-strength",
   "metadata": {},
   "source": [
    "# Generate Queries"
   ]
  },
  {
   "cell_type": "markdown",
   "id": "black-insured",
   "metadata": {},
   "source": [
    "## Type Constraint"
   ]
  },
  {
   "cell_type": "markdown",
   "id": "interior-humor",
   "metadata": {},
   "source": [
    "### Understand Constraints File"
   ]
  },
  {
   "cell_type": "code",
   "execution_count": 118,
   "id": "clinical-brunei",
   "metadata": {},
   "outputs": [],
   "source": [
    "import pandas as pd\n",
    "df = pd.read_csv('../../constraintsOP/typeConstraint/claims.type-constraints_all.tsv',sep='\\t')"
   ]
  },
  {
   "cell_type": "code",
   "execution_count": 119,
   "id": "assured-cleaners",
   "metadata": {},
   "outputs": [],
   "source": [
    "df1 = df.groupby(['node1','label']).node2.apply(lambda p: p.tolist()).reset_index()"
   ]
  },
  {
   "cell_type": "code",
   "execution_count": 120,
   "id": "sharing-evolution",
   "metadata": {},
   "outputs": [
    {
     "data": {
      "text/html": [
       "<div>\n",
       "<style scoped>\n",
       "    .dataframe tbody tr th:only-of-type {\n",
       "        vertical-align: middle;\n",
       "    }\n",
       "\n",
       "    .dataframe tbody tr th {\n",
       "        vertical-align: top;\n",
       "    }\n",
       "\n",
       "    .dataframe thead th {\n",
       "        text-align: right;\n",
       "    }\n",
       "</style>\n",
       "<table border=\"1\" class=\"dataframe\">\n",
       "  <thead>\n",
       "    <tr style=\"text-align: right;\">\n",
       "      <th></th>\n",
       "      <th>node1</th>\n",
       "      <th>label</th>\n",
       "      <th>node2</th>\n",
       "    </tr>\n",
       "  </thead>\n",
       "  <tbody>\n",
       "    <tr>\n",
       "      <th>0</th>\n",
       "      <td>P1001</td>\n",
       "      <td>P2308</td>\n",
       "      <td>[Q102496, Q105985, Q1140371, Q1151067, Q119768...</td>\n",
       "    </tr>\n",
       "    <tr>\n",
       "      <th>1</th>\n",
       "      <td>P1001</td>\n",
       "      <td>P2309</td>\n",
       "      <td>[Q30208840]</td>\n",
       "    </tr>\n",
       "    <tr>\n",
       "      <th>2</th>\n",
       "      <td>P1002</td>\n",
       "      <td>P2308</td>\n",
       "      <td>[Q630010]</td>\n",
       "    </tr>\n",
       "    <tr>\n",
       "      <th>3</th>\n",
       "      <td>P1002</td>\n",
       "      <td>P2309</td>\n",
       "      <td>[Q21514624]</td>\n",
       "    </tr>\n",
       "    <tr>\n",
       "      <th>4</th>\n",
       "      <td>P1004</td>\n",
       "      <td>P2308</td>\n",
       "      <td>[Q2221906, Q23413, Q3947, Q41176, Q88291]</td>\n",
       "    </tr>\n",
       "  </tbody>\n",
       "</table>\n",
       "</div>"
      ],
      "text/plain": [
       "   node1  label                                              node2\n",
       "0  P1001  P2308  [Q102496, Q105985, Q1140371, Q1151067, Q119768...\n",
       "1  P1001  P2309                                        [Q30208840]\n",
       "2  P1002  P2308                                          [Q630010]\n",
       "3  P1002  P2309                                        [Q21514624]\n",
       "4  P1004  P2308          [Q2221906, Q23413, Q3947, Q41176, Q88291]"
      ]
     },
     "execution_count": 120,
     "metadata": {},
     "output_type": "execute_result"
    }
   ],
   "source": [
    "df1.head()"
   ]
  },
  {
   "cell_type": "code",
   "execution_count": 121,
   "id": "still-trail",
   "metadata": {},
   "outputs": [
    {
     "data": {
      "text/html": [
       "<div>\n",
       "<style scoped>\n",
       "    .dataframe tbody tr th:only-of-type {\n",
       "        vertical-align: middle;\n",
       "    }\n",
       "\n",
       "    .dataframe tbody tr th {\n",
       "        vertical-align: top;\n",
       "    }\n",
       "\n",
       "    .dataframe thead th {\n",
       "        text-align: right;\n",
       "    }\n",
       "</style>\n",
       "<table border=\"1\" class=\"dataframe\">\n",
       "  <thead>\n",
       "    <tr style=\"text-align: right;\">\n",
       "      <th></th>\n",
       "      <th>node1</th>\n",
       "      <th>label</th>\n",
       "      <th>node2</th>\n",
       "    </tr>\n",
       "  </thead>\n",
       "  <tbody>\n",
       "    <tr>\n",
       "      <th>69</th>\n",
       "      <td>P105</td>\n",
       "      <td>P2308</td>\n",
       "      <td>[Q16521]</td>\n",
       "    </tr>\n",
       "    <tr>\n",
       "      <th>70</th>\n",
       "      <td>P105</td>\n",
       "      <td>P2309</td>\n",
       "      <td>[Q21503252]</td>\n",
       "    </tr>\n",
       "    <tr>\n",
       "      <th>71</th>\n",
       "      <td>P105</td>\n",
       "      <td>P2316</td>\n",
       "      <td>[Q21502408]</td>\n",
       "    </tr>\n",
       "  </tbody>\n",
       "</table>\n",
       "</div>"
      ],
      "text/plain": [
       "   node1  label        node2\n",
       "69  P105  P2308     [Q16521]\n",
       "70  P105  P2309  [Q21503252]\n",
       "71  P105  P2316  [Q21502408]"
      ]
     },
     "execution_count": 121,
     "metadata": {},
     "output_type": "execute_result"
    }
   ],
   "source": [
    "df1[df1['node1'] == 'P105']"
   ]
  },
  {
   "cell_type": "markdown",
   "id": "solid-browser",
   "metadata": {},
   "source": [
    "### Query Generator"
   ]
  },
  {
   "cell_type": "code",
   "execution_count": 122,
   "id": "bright-impossible",
   "metadata": {},
   "outputs": [
    {
     "data": {
      "application/vnd.jupyter.widget-view+json": {
       "model_id": "e65a9e9afc0a49ba8b0a834a89e63da1",
       "version_major": 2,
       "version_minor": 0
      },
      "text/plain": [
       "  0%|          | 0/4810 [00:00<?, ?it/s]"
      ]
     },
     "metadata": {},
     "output_type": "display_data"
    },
    {
     "name": "stdout",
     "output_type": "stream",
     "text": [
      "Something failed for prop: P1249\n",
      "Something failed for prop: P6790\n"
     ]
    }
   ],
   "source": [
    "from tqdm.notebook import tqdm\n",
    "import os.path\n",
    "\n",
    "cnt = 0\n",
    "fCnt = 1\n",
    "for prop in tqdm(df1.node1.unique()):\n",
    "    try:\n",
    "        if not(os.path.isfile(\"../../propertiesSplit/claims.\"+ prop +\".tsv\")):\n",
    "            continue\n",
    "        relation = df1[(df1['node1'] == prop) & (df1['label'] == 'P2309')].node2.values[0][0]\n",
    "        type1 = df1[(df1['node1'] == prop) & (df1['label'] == 'P2316')].node2.values\n",
    "\n",
    "        parents = df1[(df1['node1'] == prop) & (df1['label'] == 'P2308')].node2.values[0]\n",
    "        exceptions = df1[(df1['node1'] == prop) & (df1['label'] == 'P2303')].node2.values\n",
    "\n",
    "#         print(prop, relation, type1, parents, exceptions)\n",
    "\n",
    "        if relation == \"Q21503252\":\n",
    "            parentFile = \"P31P279star\"\n",
    "            parentTitle = 'instanceOf'\n",
    "        elif relation == \"Q21514624\":\n",
    "            parentFile = \"P279star\"\n",
    "            parentTitle = 'subclass'\n",
    "        else:\n",
    "            parentFile = \"isastar\"\n",
    "            parentTitle = 'instanceOfOrSubclass'\n",
    "\n",
    "        if len(type1) != 0 and type1[0][0] == \"Q21502408\":\n",
    "            typeVal = \"mandatory\"\n",
    "        elif len(type1) != 0 and type1[0][0] == \"Q62026391\":\n",
    "            typeVal = \"suggestion\"\n",
    "        else:\n",
    "            typeVal = \"normal\"\n",
    "\n",
    "        if len(exceptions):\n",
    "            exceptionPart = \"or node1 in \" + str(exceptions[0]).replace(\"'\",'\"')\n",
    "        else:\n",
    "            exceptionPart = \"\"\n",
    "        \n",
    "        if cnt % 150 == 0:\n",
    "            fOP = open(\"../../propertiesSplit/checkViolations/typeConstraintValidator\" + str(fCnt) + \".sh\",\"w\")\n",
    "            fCnt += 1\n",
    "        \n",
    "        fOP.write(\"kgtk --debug query -i ../../propertiesSplit/claims.\"+ prop +\".tsv \\\n",
    "        ../../wikidata-20210215/derived.\" + parentFile + \".tsv.gz \\\n",
    "        --match 'm: (node1)-[nodeProp]->(node2), d: (node1)-[]->(par)' \\\n",
    "        --where 'par in \" + str(parents).replace(\"'\",'\"') + \" \" + exceptionPart + \"' \\\n",
    "        --return 'nodeProp.id, node1, nodeProp.label, node2' \\\n",
    "        -o ../../allConstraintsAnalysis/typeConstraint/\" + typeVal + \"/claims.type-constraints.\" + parentTitle + \".\"+ prop +\".correct.tsv \\\n",
    "        --graph-cache ~/sqlite3_caches/const2_\" + str(fCnt) + \".sqlite3.db ; \\\n",
    "         kgtk --debug ifnotexists -i ../../propertiesSplit/claims.\"+ prop +\".tsv \\\n",
    "        --filter-on ../../allConstraintsAnalysis/typeConstraint/\" + typeVal + \"/claims.type-constraints.\" + parentTitle + \".\"+ prop +\".correct.tsv \\\n",
    "        --filter-mode NONE \\\n",
    "        --input-keys node1 label \\\n",
    "        --filter-keys node1 label \\\n",
    "        -o ../../allConstraintsAnalysis/typeConstraint/\" + typeVal + \"/claims.type-constraints.\" + parentTitle + \".\"+ prop +\".incorrect.tsv\\n\")\n",
    "\n",
    "        cnt += 1\n",
    "    except:\n",
    "        print(\"Something failed for prop:\",prop)\n",
    "    "
   ]
  },
  {
   "cell_type": "markdown",
   "id": "competitive-canvas",
   "metadata": {},
   "source": [
    "### Analyze Violations"
   ]
  },
  {
   "cell_type": "code",
   "execution_count": 4,
   "id": "casual-perth",
   "metadata": {},
   "outputs": [
    {
     "data": {
      "application/vnd.jupyter.widget-view+json": {
       "model_id": "e0dbeb907e9f4a63909dbd136622d7ae",
       "version_major": 2,
       "version_minor": 0
      },
      "text/plain": [
       "0it [00:00, ?it/s]"
      ]
     },
     "metadata": {},
     "output_type": "display_data"
    },
    {
     "data": {
      "application/vnd.jupyter.widget-view+json": {
       "model_id": "a7641e81318d4902af8c7bc237090626",
       "version_major": 2,
       "version_minor": 0
      },
      "text/plain": [
       "  0%|          | 0/330 [00:00<?, ?it/s]"
      ]
     },
     "metadata": {},
     "output_type": "display_data"
    },
    {
     "data": {
      "application/vnd.jupyter.widget-view+json": {
       "model_id": "57134dedabd543f2a3a506bf7b92fe25",
       "version_major": 2,
       "version_minor": 0
      },
      "text/plain": [
       "  0%|          | 0/22 [00:00<?, ?it/s]"
      ]
     },
     "metadata": {},
     "output_type": "display_data"
    },
    {
     "data": {
      "application/vnd.jupyter.widget-view+json": {
       "model_id": "9ab666b3c20b45238797a5650353815f",
       "version_major": 2,
       "version_minor": 0
      },
      "text/plain": [
       "  0%|          | 0/2560 [00:00<?, ?it/s]"
      ]
     },
     "metadata": {},
     "output_type": "display_data"
    }
   ],
   "source": [
    "import pandas as pd\n",
    "import os\n",
    "from tqdm.notebook import tqdm\n",
    "\n",
    "typeConstViolations = {}\n",
    "\n",
    "def countLines(fname):\n",
    "    cnt = -1\n",
    "    with open(fname, 'r') as f:\n",
    "        for line in f:\n",
    "            cnt += 1\n",
    "    return cnt\n",
    "\n",
    "propList = set()\n",
    "\n",
    "violations = {}\n",
    "\n",
    "for folder in tqdm(iter(['mandatory', 'suggestion', 'normal'])):\n",
    "    typeConstViolations[folder] = {'instanceOf': {'correct': 0, 'incorrect': 0}, 'subclass': {'correct': 0, 'incorrect': 0}, 'instanceOfOrSubclass': {'correct': 0, 'incorrect': 0}}\n",
    "    filePath = \"../../allConstraintsAnalysis/typeConstraint/\"+folder+\"/\"\n",
    "    for filename in tqdm(os.listdir(filePath)):\n",
    "        type1 = filename.split(\".\")[2]\n",
    "        prop = filename.split(\".\")[3]\n",
    "        propList.add(prop)\n",
    "        correctness = filename.split(\".\")[4]\n",
    "        count1 = countLines(filePath+filename)\n",
    "        typeConstViolations[folder][type1][correctness] += count1\n",
    "        if prop not in violations:\n",
    "            violations[prop] = {'correct': 0, 'incorrect': 0, 'paths': []}\n",
    "        violations[prop][correctness] = count1\n",
    "        violations[prop]['paths'].append(filePath+filename)\n",
    "        "
   ]
  },
  {
   "cell_type": "code",
   "execution_count": 5,
   "id": "widespread-sector",
   "metadata": {},
   "outputs": [],
   "source": [
    "# countLines(\"../../allConstraintsAnalysis/typeConstraint/mandatory/claims.type-constraints.subclass.P534.incorrect.tsv\")"
   ]
  },
  {
   "cell_type": "code",
   "execution_count": 6,
   "id": "golden-affiliate",
   "metadata": {},
   "outputs": [
    {
     "name": "stdout",
     "output_type": "stream",
     "text": [
      "1456 properties processed for type constraint for 621229658 statements\n"
     ]
    }
   ],
   "source": [
    "recordCount = 0\n",
    "for elem in typeConstViolations.keys():\n",
    "    for key1 in typeConstViolations[elem].keys():\n",
    "        recordCount += typeConstViolations[elem][key1]['correct'] + typeConstViolations[elem][key1]['incorrect']\n",
    "print(f\"{len(propList)} properties processed for type constraint for {recordCount} statements\")"
   ]
  },
  {
   "cell_type": "code",
   "execution_count": 7,
   "id": "needed-portfolio",
   "metadata": {},
   "outputs": [],
   "source": [
    "import pandas as pd\n",
    "typeConstDF = pd.DataFrame(violations).T"
   ]
  },
  {
   "cell_type": "code",
   "execution_count": 8,
   "id": "lesser-thomson",
   "metadata": {},
   "outputs": [],
   "source": [
    "typeConstDF['violation_ratio'] = typeConstDF.apply(lambda p: p.incorrect / p.correct if p.correct != 0 else p.incorrect/100, axis=1)"
   ]
  },
  {
   "cell_type": "code",
   "execution_count": 9,
   "id": "flying-context",
   "metadata": {},
   "outputs": [
    {
     "data": {
      "text/html": [
       "<div>\n",
       "<style scoped>\n",
       "    .dataframe tbody tr th:only-of-type {\n",
       "        vertical-align: middle;\n",
       "    }\n",
       "\n",
       "    .dataframe tbody tr th {\n",
       "        vertical-align: top;\n",
       "    }\n",
       "\n",
       "    .dataframe thead th {\n",
       "        text-align: right;\n",
       "    }\n",
       "</style>\n",
       "<table border=\"1\" class=\"dataframe\">\n",
       "  <thead>\n",
       "    <tr style=\"text-align: right;\">\n",
       "      <th></th>\n",
       "      <th>correct</th>\n",
       "      <th>incorrect</th>\n",
       "      <th>paths</th>\n",
       "      <th>violation_ratio</th>\n",
       "    </tr>\n",
       "  </thead>\n",
       "  <tbody>\n",
       "    <tr>\n",
       "      <th>P105</th>\n",
       "      <td>2849928</td>\n",
       "      <td>209</td>\n",
       "      <td>[../../allConstraintsAnalysis/typeConstraint/m...</td>\n",
       "      <td>0.000073</td>\n",
       "    </tr>\n",
       "    <tr>\n",
       "      <th>P1087</th>\n",
       "      <td>2585953</td>\n",
       "      <td>1331</td>\n",
       "      <td>[../../allConstraintsAnalysis/typeConstraint/m...</td>\n",
       "      <td>0.000515</td>\n",
       "    </tr>\n",
       "    <tr>\n",
       "      <th>P1090</th>\n",
       "      <td>994723</td>\n",
       "      <td>1189</td>\n",
       "      <td>[../../allConstraintsAnalysis/typeConstraint/m...</td>\n",
       "      <td>0.001195</td>\n",
       "    </tr>\n",
       "    <tr>\n",
       "      <th>P1096</th>\n",
       "      <td>84319</td>\n",
       "      <td>23</td>\n",
       "      <td>[../../allConstraintsAnalysis/typeConstraint/m...</td>\n",
       "      <td>0.000273</td>\n",
       "    </tr>\n",
       "    <tr>\n",
       "      <th>P1098</th>\n",
       "      <td>1903</td>\n",
       "      <td>0</td>\n",
       "      <td>[../../allConstraintsAnalysis/typeConstraint/m...</td>\n",
       "      <td>0.000000</td>\n",
       "    </tr>\n",
       "  </tbody>\n",
       "</table>\n",
       "</div>"
      ],
      "text/plain": [
       "       correct incorrect                                              paths  \\\n",
       "P105   2849928       209  [../../allConstraintsAnalysis/typeConstraint/m...   \n",
       "P1087  2585953      1331  [../../allConstraintsAnalysis/typeConstraint/m...   \n",
       "P1090   994723      1189  [../../allConstraintsAnalysis/typeConstraint/m...   \n",
       "P1096    84319        23  [../../allConstraintsAnalysis/typeConstraint/m...   \n",
       "P1098     1903         0  [../../allConstraintsAnalysis/typeConstraint/m...   \n",
       "\n",
       "       violation_ratio  \n",
       "P105          0.000073  \n",
       "P1087         0.000515  \n",
       "P1090         0.001195  \n",
       "P1096         0.000273  \n",
       "P1098         0.000000  "
      ]
     },
     "execution_count": 9,
     "metadata": {},
     "output_type": "execute_result"
    }
   ],
   "source": [
    "typeConstDF.head()"
   ]
  },
  {
   "cell_type": "code",
   "execution_count": 10,
   "id": "israeli-humanity",
   "metadata": {},
   "outputs": [
    {
     "data": {
      "text/html": [
       "<div>\n",
       "<style scoped>\n",
       "    .dataframe tbody tr th:only-of-type {\n",
       "        vertical-align: middle;\n",
       "    }\n",
       "\n",
       "    .dataframe tbody tr th {\n",
       "        vertical-align: top;\n",
       "    }\n",
       "\n",
       "    .dataframe thead th {\n",
       "        text-align: right;\n",
       "    }\n",
       "</style>\n",
       "<table border=\"1\" class=\"dataframe\">\n",
       "  <thead>\n",
       "    <tr style=\"text-align: right;\">\n",
       "      <th></th>\n",
       "      <th>correct</th>\n",
       "      <th>incorrect</th>\n",
       "      <th>paths</th>\n",
       "      <th>violation_ratio</th>\n",
       "    </tr>\n",
       "  </thead>\n",
       "  <tbody>\n",
       "    <tr>\n",
       "      <th>P2912</th>\n",
       "      <td>0</td>\n",
       "      <td>1</td>\n",
       "      <td>[../../allConstraintsAnalysis/typeConstraint/m...</td>\n",
       "      <td>0.01</td>\n",
       "    </tr>\n",
       "    <tr>\n",
       "      <th>P7174</th>\n",
       "      <td>0</td>\n",
       "      <td>3</td>\n",
       "      <td>[../../allConstraintsAnalysis/typeConstraint/n...</td>\n",
       "      <td>0.03</td>\n",
       "    </tr>\n",
       "    <tr>\n",
       "      <th>P6001</th>\n",
       "      <td>0</td>\n",
       "      <td>16</td>\n",
       "      <td>[../../allConstraintsAnalysis/typeConstraint/n...</td>\n",
       "      <td>0.16</td>\n",
       "    </tr>\n",
       "    <tr>\n",
       "      <th>P6014</th>\n",
       "      <td>0</td>\n",
       "      <td>3</td>\n",
       "      <td>[../../allConstraintsAnalysis/typeConstraint/n...</td>\n",
       "      <td>0.03</td>\n",
       "    </tr>\n",
       "    <tr>\n",
       "      <th>P7338</th>\n",
       "      <td>0</td>\n",
       "      <td>1</td>\n",
       "      <td>[../../allConstraintsAnalysis/typeConstraint/n...</td>\n",
       "      <td>0.01</td>\n",
       "    </tr>\n",
       "    <tr>\n",
       "      <th>P538</th>\n",
       "      <td>0</td>\n",
       "      <td>10</td>\n",
       "      <td>[../../allConstraintsAnalysis/typeConstraint/n...</td>\n",
       "      <td>0.10</td>\n",
       "    </tr>\n",
       "    <tr>\n",
       "      <th>P8738</th>\n",
       "      <td>0</td>\n",
       "      <td>14</td>\n",
       "      <td>[../../allConstraintsAnalysis/typeConstraint/n...</td>\n",
       "      <td>0.14</td>\n",
       "    </tr>\n",
       "    <tr>\n",
       "      <th>P5589</th>\n",
       "      <td>0</td>\n",
       "      <td>4</td>\n",
       "      <td>[../../allConstraintsAnalysis/typeConstraint/n...</td>\n",
       "      <td>0.04</td>\n",
       "    </tr>\n",
       "    <tr>\n",
       "      <th>P6510</th>\n",
       "      <td>0</td>\n",
       "      <td>4</td>\n",
       "      <td>[../../allConstraintsAnalysis/typeConstraint/n...</td>\n",
       "      <td>0.04</td>\n",
       "    </tr>\n",
       "    <tr>\n",
       "      <th>P7887</th>\n",
       "      <td>0</td>\n",
       "      <td>1</td>\n",
       "      <td>[../../allConstraintsAnalysis/typeConstraint/n...</td>\n",
       "      <td>0.01</td>\n",
       "    </tr>\n",
       "    <tr>\n",
       "      <th>P8004</th>\n",
       "      <td>0</td>\n",
       "      <td>6</td>\n",
       "      <td>[../../allConstraintsAnalysis/typeConstraint/n...</td>\n",
       "      <td>0.06</td>\n",
       "    </tr>\n",
       "    <tr>\n",
       "      <th>P8097</th>\n",
       "      <td>0</td>\n",
       "      <td>1</td>\n",
       "      <td>[../../allConstraintsAnalysis/typeConstraint/n...</td>\n",
       "      <td>0.01</td>\n",
       "    </tr>\n",
       "    <tr>\n",
       "      <th>P8107</th>\n",
       "      <td>0</td>\n",
       "      <td>2</td>\n",
       "      <td>[../../allConstraintsAnalysis/typeConstraint/n...</td>\n",
       "      <td>0.02</td>\n",
       "    </tr>\n",
       "    <tr>\n",
       "      <th>P8138</th>\n",
       "      <td>0</td>\n",
       "      <td>461</td>\n",
       "      <td>[../../allConstraintsAnalysis/typeConstraint/n...</td>\n",
       "      <td>4.61</td>\n",
       "    </tr>\n",
       "    <tr>\n",
       "      <th>P817</th>\n",
       "      <td>0</td>\n",
       "      <td>3</td>\n",
       "      <td>[../../allConstraintsAnalysis/typeConstraint/n...</td>\n",
       "      <td>0.03</td>\n",
       "    </tr>\n",
       "    <tr>\n",
       "      <th>P4850</th>\n",
       "      <td>0</td>\n",
       "      <td>1</td>\n",
       "      <td>[../../allConstraintsAnalysis/typeConstraint/n...</td>\n",
       "      <td>0.01</td>\n",
       "    </tr>\n",
       "    <tr>\n",
       "      <th>P4882</th>\n",
       "      <td>0</td>\n",
       "      <td>3</td>\n",
       "      <td>[../../allConstraintsAnalysis/typeConstraint/n...</td>\n",
       "      <td>0.03</td>\n",
       "    </tr>\n",
       "    <tr>\n",
       "      <th>P2136</th>\n",
       "      <td>0</td>\n",
       "      <td>1</td>\n",
       "      <td>[../../allConstraintsAnalysis/typeConstraint/n...</td>\n",
       "      <td>0.01</td>\n",
       "    </tr>\n",
       "    <tr>\n",
       "      <th>P5051</th>\n",
       "      <td>0</td>\n",
       "      <td>64</td>\n",
       "      <td>[../../allConstraintsAnalysis/typeConstraint/n...</td>\n",
       "      <td>0.64</td>\n",
       "    </tr>\n",
       "    <tr>\n",
       "      <th>P1194</th>\n",
       "      <td>0</td>\n",
       "      <td>1</td>\n",
       "      <td>[../../allConstraintsAnalysis/typeConstraint/n...</td>\n",
       "      <td>0.01</td>\n",
       "    </tr>\n",
       "    <tr>\n",
       "      <th>P1227</th>\n",
       "      <td>0</td>\n",
       "      <td>19</td>\n",
       "      <td>[../../allConstraintsAnalysis/typeConstraint/n...</td>\n",
       "      <td>0.19</td>\n",
       "    </tr>\n",
       "    <tr>\n",
       "      <th>P2303</th>\n",
       "      <td>0</td>\n",
       "      <td>39</td>\n",
       "      <td>[../../allConstraintsAnalysis/typeConstraint/n...</td>\n",
       "      <td>0.39</td>\n",
       "    </tr>\n",
       "    <tr>\n",
       "      <th>P2307</th>\n",
       "      <td>0</td>\n",
       "      <td>1</td>\n",
       "      <td>[../../allConstraintsAnalysis/typeConstraint/n...</td>\n",
       "      <td>0.01</td>\n",
       "    </tr>\n",
       "    <tr>\n",
       "      <th>P2308</th>\n",
       "      <td>0</td>\n",
       "      <td>17</td>\n",
       "      <td>[../../allConstraintsAnalysis/typeConstraint/n...</td>\n",
       "      <td>0.17</td>\n",
       "    </tr>\n",
       "    <tr>\n",
       "      <th>P2309</th>\n",
       "      <td>0</td>\n",
       "      <td>1</td>\n",
       "      <td>[../../allConstraintsAnalysis/typeConstraint/n...</td>\n",
       "      <td>0.01</td>\n",
       "    </tr>\n",
       "    <tr>\n",
       "      <th>P2311</th>\n",
       "      <td>0</td>\n",
       "      <td>1</td>\n",
       "      <td>[../../allConstraintsAnalysis/typeConstraint/n...</td>\n",
       "      <td>0.01</td>\n",
       "    </tr>\n",
       "    <tr>\n",
       "      <th>P2312</th>\n",
       "      <td>0</td>\n",
       "      <td>1</td>\n",
       "      <td>[../../allConstraintsAnalysis/typeConstraint/n...</td>\n",
       "      <td>0.01</td>\n",
       "    </tr>\n",
       "    <tr>\n",
       "      <th>P2313</th>\n",
       "      <td>0</td>\n",
       "      <td>1</td>\n",
       "      <td>[../../allConstraintsAnalysis/typeConstraint/n...</td>\n",
       "      <td>0.01</td>\n",
       "    </tr>\n",
       "    <tr>\n",
       "      <th>P2352</th>\n",
       "      <td>0</td>\n",
       "      <td>2</td>\n",
       "      <td>[../../allConstraintsAnalysis/typeConstraint/n...</td>\n",
       "      <td>0.02</td>\n",
       "    </tr>\n",
       "    <tr>\n",
       "      <th>P1354</th>\n",
       "      <td>0</td>\n",
       "      <td>1</td>\n",
       "      <td>[../../allConstraintsAnalysis/typeConstraint/n...</td>\n",
       "      <td>0.01</td>\n",
       "    </tr>\n",
       "  </tbody>\n",
       "</table>\n",
       "</div>"
      ],
      "text/plain": [
       "      correct incorrect                                              paths  \\\n",
       "P2912       0         1  [../../allConstraintsAnalysis/typeConstraint/m...   \n",
       "P7174       0         3  [../../allConstraintsAnalysis/typeConstraint/n...   \n",
       "P6001       0        16  [../../allConstraintsAnalysis/typeConstraint/n...   \n",
       "P6014       0         3  [../../allConstraintsAnalysis/typeConstraint/n...   \n",
       "P7338       0         1  [../../allConstraintsAnalysis/typeConstraint/n...   \n",
       "P538        0        10  [../../allConstraintsAnalysis/typeConstraint/n...   \n",
       "P8738       0        14  [../../allConstraintsAnalysis/typeConstraint/n...   \n",
       "P5589       0         4  [../../allConstraintsAnalysis/typeConstraint/n...   \n",
       "P6510       0         4  [../../allConstraintsAnalysis/typeConstraint/n...   \n",
       "P7887       0         1  [../../allConstraintsAnalysis/typeConstraint/n...   \n",
       "P8004       0         6  [../../allConstraintsAnalysis/typeConstraint/n...   \n",
       "P8097       0         1  [../../allConstraintsAnalysis/typeConstraint/n...   \n",
       "P8107       0         2  [../../allConstraintsAnalysis/typeConstraint/n...   \n",
       "P8138       0       461  [../../allConstraintsAnalysis/typeConstraint/n...   \n",
       "P817        0         3  [../../allConstraintsAnalysis/typeConstraint/n...   \n",
       "P4850       0         1  [../../allConstraintsAnalysis/typeConstraint/n...   \n",
       "P4882       0         3  [../../allConstraintsAnalysis/typeConstraint/n...   \n",
       "P2136       0         1  [../../allConstraintsAnalysis/typeConstraint/n...   \n",
       "P5051       0        64  [../../allConstraintsAnalysis/typeConstraint/n...   \n",
       "P1194       0         1  [../../allConstraintsAnalysis/typeConstraint/n...   \n",
       "P1227       0        19  [../../allConstraintsAnalysis/typeConstraint/n...   \n",
       "P2303       0        39  [../../allConstraintsAnalysis/typeConstraint/n...   \n",
       "P2307       0         1  [../../allConstraintsAnalysis/typeConstraint/n...   \n",
       "P2308       0        17  [../../allConstraintsAnalysis/typeConstraint/n...   \n",
       "P2309       0         1  [../../allConstraintsAnalysis/typeConstraint/n...   \n",
       "P2311       0         1  [../../allConstraintsAnalysis/typeConstraint/n...   \n",
       "P2312       0         1  [../../allConstraintsAnalysis/typeConstraint/n...   \n",
       "P2313       0         1  [../../allConstraintsAnalysis/typeConstraint/n...   \n",
       "P2352       0         2  [../../allConstraintsAnalysis/typeConstraint/n...   \n",
       "P1354       0         1  [../../allConstraintsAnalysis/typeConstraint/n...   \n",
       "\n",
       "       violation_ratio  \n",
       "P2912             0.01  \n",
       "P7174             0.03  \n",
       "P6001             0.16  \n",
       "P6014             0.03  \n",
       "P7338             0.01  \n",
       "P538              0.10  \n",
       "P8738             0.14  \n",
       "P5589             0.04  \n",
       "P6510             0.04  \n",
       "P7887             0.01  \n",
       "P8004             0.06  \n",
       "P8097             0.01  \n",
       "P8107             0.02  \n",
       "P8138             4.61  \n",
       "P817              0.03  \n",
       "P4850             0.01  \n",
       "P4882             0.03  \n",
       "P2136             0.01  \n",
       "P5051             0.64  \n",
       "P1194             0.01  \n",
       "P1227             0.19  \n",
       "P2303             0.39  \n",
       "P2307             0.01  \n",
       "P2308             0.17  \n",
       "P2309             0.01  \n",
       "P2311             0.01  \n",
       "P2312             0.01  \n",
       "P2313             0.01  \n",
       "P2352             0.02  \n",
       "P1354             0.01  "
      ]
     },
     "execution_count": 10,
     "metadata": {},
     "output_type": "execute_result"
    }
   ],
   "source": [
    "typeConstDF[typeConstDF.correct == 0]"
   ]
  },
  {
   "cell_type": "code",
   "execution_count": 11,
   "id": "competitive-peeing",
   "metadata": {},
   "outputs": [
    {
     "data": {
      "text/html": [
       "<div>\n",
       "<style scoped>\n",
       "    .dataframe tbody tr th:only-of-type {\n",
       "        vertical-align: middle;\n",
       "    }\n",
       "\n",
       "    .dataframe tbody tr th {\n",
       "        vertical-align: top;\n",
       "    }\n",
       "\n",
       "    .dataframe thead th {\n",
       "        text-align: right;\n",
       "    }\n",
       "</style>\n",
       "<table border=\"1\" class=\"dataframe\">\n",
       "  <thead>\n",
       "    <tr style=\"text-align: right;\">\n",
       "      <th></th>\n",
       "      <th>correct</th>\n",
       "      <th>incorrect</th>\n",
       "      <th>paths</th>\n",
       "      <th>violation_ratio</th>\n",
       "    </tr>\n",
       "  </thead>\n",
       "  <tbody>\n",
       "    <tr>\n",
       "      <th>P1111</th>\n",
       "      <td>7</td>\n",
       "      <td>46320</td>\n",
       "      <td>[../../allConstraintsAnalysis/typeConstraint/n...</td>\n",
       "      <td>6617.142857</td>\n",
       "    </tr>\n",
       "    <tr>\n",
       "      <th>P7535</th>\n",
       "      <td>1</td>\n",
       "      <td>208</td>\n",
       "      <td>[../../allConstraintsAnalysis/typeConstraint/n...</td>\n",
       "      <td>208.000000</td>\n",
       "    </tr>\n",
       "    <tr>\n",
       "      <th>P6753</th>\n",
       "      <td>3</td>\n",
       "      <td>425</td>\n",
       "      <td>[../../allConstraintsAnalysis/typeConstraint/n...</td>\n",
       "      <td>141.666667</td>\n",
       "    </tr>\n",
       "    <tr>\n",
       "      <th>P768</th>\n",
       "      <td>137</td>\n",
       "      <td>15139</td>\n",
       "      <td>[../../allConstraintsAnalysis/typeConstraint/n...</td>\n",
       "      <td>110.503650</td>\n",
       "    </tr>\n",
       "    <tr>\n",
       "      <th>P7290</th>\n",
       "      <td>2</td>\n",
       "      <td>149</td>\n",
       "      <td>[../../allConstraintsAnalysis/typeConstraint/n...</td>\n",
       "      <td>74.500000</td>\n",
       "    </tr>\n",
       "  </tbody>\n",
       "</table>\n",
       "</div>"
      ],
      "text/plain": [
       "      correct incorrect                                              paths  \\\n",
       "P1111       7     46320  [../../allConstraintsAnalysis/typeConstraint/n...   \n",
       "P7535       1       208  [../../allConstraintsAnalysis/typeConstraint/n...   \n",
       "P6753       3       425  [../../allConstraintsAnalysis/typeConstraint/n...   \n",
       "P768      137     15139  [../../allConstraintsAnalysis/typeConstraint/n...   \n",
       "P7290       2       149  [../../allConstraintsAnalysis/typeConstraint/n...   \n",
       "\n",
       "       violation_ratio  \n",
       "P1111      6617.142857  \n",
       "P7535       208.000000  \n",
       "P6753       141.666667  \n",
       "P768        110.503650  \n",
       "P7290        74.500000  "
      ]
     },
     "execution_count": 11,
     "metadata": {},
     "output_type": "execute_result"
    }
   ],
   "source": [
    "typeConstDF.sort_values(by=['violation_ratio'],ascending=False).head(5)"
   ]
  },
  {
   "cell_type": "code",
   "execution_count": 12,
   "id": "armed-serbia",
   "metadata": {},
   "outputs": [
    {
     "data": {
      "text/html": [
       "<div>\n",
       "<style scoped>\n",
       "    .dataframe tbody tr th:only-of-type {\n",
       "        vertical-align: middle;\n",
       "    }\n",
       "\n",
       "    .dataframe tbody tr th {\n",
       "        vertical-align: top;\n",
       "    }\n",
       "\n",
       "    .dataframe thead th {\n",
       "        text-align: right;\n",
       "    }\n",
       "</style>\n",
       "<table border=\"1\" class=\"dataframe\">\n",
       "  <thead>\n",
       "    <tr style=\"text-align: right;\">\n",
       "      <th></th>\n",
       "      <th>correct</th>\n",
       "      <th>incorrect</th>\n",
       "      <th>paths</th>\n",
       "      <th>violation_ratio</th>\n",
       "    </tr>\n",
       "  </thead>\n",
       "  <tbody>\n",
       "    <tr>\n",
       "      <th>P1001</th>\n",
       "      <td>1169808</td>\n",
       "      <td>65744</td>\n",
       "      <td>[../../allConstraintsAnalysis/typeConstraint/n...</td>\n",
       "      <td>0.056201</td>\n",
       "    </tr>\n",
       "    <tr>\n",
       "      <th>P1476</th>\n",
       "      <td>81194083</td>\n",
       "      <td>47204</td>\n",
       "      <td>[../../allConstraintsAnalysis/typeConstraint/n...</td>\n",
       "      <td>0.000581</td>\n",
       "    </tr>\n",
       "    <tr>\n",
       "      <th>P1111</th>\n",
       "      <td>7</td>\n",
       "      <td>46320</td>\n",
       "      <td>[../../allConstraintsAnalysis/typeConstraint/n...</td>\n",
       "      <td>6617.142857</td>\n",
       "    </tr>\n",
       "    <tr>\n",
       "      <th>P953</th>\n",
       "      <td>1419766</td>\n",
       "      <td>35180</td>\n",
       "      <td>[../../allConstraintsAnalysis/typeConstraint/n...</td>\n",
       "      <td>0.024779</td>\n",
       "    </tr>\n",
       "    <tr>\n",
       "      <th>P577</th>\n",
       "      <td>39403027</td>\n",
       "      <td>33977</td>\n",
       "      <td>[../../allConstraintsAnalysis/typeConstraint/n...</td>\n",
       "      <td>0.000862</td>\n",
       "    </tr>\n",
       "    <tr>\n",
       "      <th>P50</th>\n",
       "      <td>20087437</td>\n",
       "      <td>33870</td>\n",
       "      <td>[../../allConstraintsAnalysis/typeConstraint/n...</td>\n",
       "      <td>0.001686</td>\n",
       "    </tr>\n",
       "    <tr>\n",
       "      <th>P179</th>\n",
       "      <td>549561</td>\n",
       "      <td>32723</td>\n",
       "      <td>[../../allConstraintsAnalysis/typeConstraint/n...</td>\n",
       "      <td>0.059544</td>\n",
       "    </tr>\n",
       "    <tr>\n",
       "      <th>P495</th>\n",
       "      <td>1093936</td>\n",
       "      <td>30672</td>\n",
       "      <td>[../../allConstraintsAnalysis/typeConstraint/n...</td>\n",
       "      <td>0.028038</td>\n",
       "    </tr>\n",
       "    <tr>\n",
       "      <th>P1082</th>\n",
       "      <td>2911644</td>\n",
       "      <td>29132</td>\n",
       "      <td>[../../allConstraintsAnalysis/typeConstraint/n...</td>\n",
       "      <td>0.010005</td>\n",
       "    </tr>\n",
       "    <tr>\n",
       "      <th>P1346</th>\n",
       "      <td>244595</td>\n",
       "      <td>28867</td>\n",
       "      <td>[../../allConstraintsAnalysis/typeConstraint/n...</td>\n",
       "      <td>0.118020</td>\n",
       "    </tr>\n",
       "    <tr>\n",
       "      <th>P1215</th>\n",
       "      <td>33099195</td>\n",
       "      <td>24104</td>\n",
       "      <td>[../../allConstraintsAnalysis/typeConstraint/m...</td>\n",
       "      <td>0.000728</td>\n",
       "    </tr>\n",
       "    <tr>\n",
       "      <th>P6375</th>\n",
       "      <td>3228343</td>\n",
       "      <td>24104</td>\n",
       "      <td>[../../allConstraintsAnalysis/typeConstraint/n...</td>\n",
       "      <td>0.007466</td>\n",
       "    </tr>\n",
       "    <tr>\n",
       "      <th>P1191</th>\n",
       "      <td>52641</td>\n",
       "      <td>22410</td>\n",
       "      <td>[../../allConstraintsAnalysis/typeConstraint/n...</td>\n",
       "      <td>0.425714</td>\n",
       "    </tr>\n",
       "    <tr>\n",
       "      <th>P2795</th>\n",
       "      <td>172407</td>\n",
       "      <td>17914</td>\n",
       "      <td>[../../allConstraintsAnalysis/typeConstraint/s...</td>\n",
       "      <td>0.103905</td>\n",
       "    </tr>\n",
       "    <tr>\n",
       "      <th>P6216</th>\n",
       "      <td>2022136</td>\n",
       "      <td>17105</td>\n",
       "      <td>[../../allConstraintsAnalysis/typeConstraint/n...</td>\n",
       "      <td>0.008459</td>\n",
       "    </tr>\n",
       "  </tbody>\n",
       "</table>\n",
       "</div>"
      ],
      "text/plain": [
       "        correct incorrect                                              paths  \\\n",
       "P1001   1169808     65744  [../../allConstraintsAnalysis/typeConstraint/n...   \n",
       "P1476  81194083     47204  [../../allConstraintsAnalysis/typeConstraint/n...   \n",
       "P1111         7     46320  [../../allConstraintsAnalysis/typeConstraint/n...   \n",
       "P953    1419766     35180  [../../allConstraintsAnalysis/typeConstraint/n...   \n",
       "P577   39403027     33977  [../../allConstraintsAnalysis/typeConstraint/n...   \n",
       "P50    20087437     33870  [../../allConstraintsAnalysis/typeConstraint/n...   \n",
       "P179     549561     32723  [../../allConstraintsAnalysis/typeConstraint/n...   \n",
       "P495    1093936     30672  [../../allConstraintsAnalysis/typeConstraint/n...   \n",
       "P1082   2911644     29132  [../../allConstraintsAnalysis/typeConstraint/n...   \n",
       "P1346    244595     28867  [../../allConstraintsAnalysis/typeConstraint/n...   \n",
       "P1215  33099195     24104  [../../allConstraintsAnalysis/typeConstraint/m...   \n",
       "P6375   3228343     24104  [../../allConstraintsAnalysis/typeConstraint/n...   \n",
       "P1191     52641     22410  [../../allConstraintsAnalysis/typeConstraint/n...   \n",
       "P2795    172407     17914  [../../allConstraintsAnalysis/typeConstraint/s...   \n",
       "P6216   2022136     17105  [../../allConstraintsAnalysis/typeConstraint/n...   \n",
       "\n",
       "       violation_ratio  \n",
       "P1001         0.056201  \n",
       "P1476         0.000581  \n",
       "P1111      6617.142857  \n",
       "P953          0.024779  \n",
       "P577          0.000862  \n",
       "P50           0.001686  \n",
       "P179          0.059544  \n",
       "P495          0.028038  \n",
       "P1082         0.010005  \n",
       "P1346         0.118020  \n",
       "P1215         0.000728  \n",
       "P6375         0.007466  \n",
       "P1191         0.425714  \n",
       "P2795         0.103905  \n",
       "P6216         0.008459  "
      ]
     },
     "execution_count": 12,
     "metadata": {},
     "output_type": "execute_result"
    }
   ],
   "source": [
    "typeConstDF.sort_values(by=['incorrect'],ascending=False).head(15)"
   ]
  },
  {
   "cell_type": "code",
   "execution_count": 13,
   "id": "clinical-lawsuit",
   "metadata": {},
   "outputs": [
    {
     "data": {
      "text/plain": [
       "count    1456.000000\n",
       "mean        5.286054\n",
       "std       173.580696\n",
       "min         0.000000\n",
       "25%         0.000519\n",
       "50%         0.006318\n",
       "75%         0.041744\n",
       "max      6617.142857\n",
       "Name: violation_ratio, dtype: float64"
      ]
     },
     "execution_count": 13,
     "metadata": {},
     "output_type": "execute_result"
    }
   ],
   "source": [
    "typeConstDF['violation_ratio'].describe()"
   ]
  },
  {
   "cell_type": "code",
   "execution_count": 14,
   "id": "wanted-domestic",
   "metadata": {},
   "outputs": [
    {
     "data": {
      "text/plain": [
       "Text(0.5, 1.0, 'Type Constraint Violation Ratios')"
      ]
     },
     "execution_count": 14,
     "metadata": {},
     "output_type": "execute_result"
    },
    {
     "data": {
      "image/png": "[encoded data removed]",
      "text/plain": [
       "<Figure size 432x288 with 1 Axes>"
      ]
     },
     "metadata": {
      "needs_background": "light"
     },
     "output_type": "display_data"
    }
   ],
   "source": [
    "typeConstDF['violation_ratio'].plot.hist(bins=100).set_title(\"Type Constraint Violation Ratios\")"
   ]
  },
  {
   "cell_type": "code",
   "execution_count": 15,
   "id": "sufficient-hollywood",
   "metadata": {},
   "outputs": [
    {
     "data": {
      "text/plain": [
       "Text(0.5, 1.0, 'Type Constraint Violation Ratios (<=0.05)')"
      ]
     },
     "execution_count": 15,
     "metadata": {},
     "output_type": "execute_result"
    },
    {
     "data": {
      "image/png": "[encoded data removed]",
      "text/plain": [
       "<Figure size 432x288 with 1 Axes>"
      ]
     },
     "metadata": {
      "needs_background": "light"
     },
     "output_type": "display_data"
    }
   ],
   "source": [
    "typeConstDF[typeConstDF['violation_ratio'] <= 0.05].violation_ratio.plot.hist(bins=100).set_title(\"Type Constraint Violation Ratios (<=0.05)\")"
   ]
  },
  {
   "cell_type": "code",
   "execution_count": 16,
   "id": "minor-marshall",
   "metadata": {},
   "outputs": [
    {
     "name": "stdout",
     "output_type": "stream",
     "text": [
      "No. of constraints whose violation ratio is greater than mean :22/1456\n"
     ]
    }
   ],
   "source": [
    "print(f\"No. of constraints whose violation ratio is greater than mean :{sum(typeConstDF['violation_ratio'] >= 5.286054)}/{len(typeConstDF)}\")"
   ]
  },
  {
   "cell_type": "code",
   "execution_count": 17,
   "id": "special-consensus",
   "metadata": {},
   "outputs": [],
   "source": [
    "# typeConstDF.sort_values(by=['incorrect'],ascending=False).head(5).paths.values"
   ]
  },
  {
   "cell_type": "code",
   "execution_count": 18,
   "id": "excited-person",
   "metadata": {},
   "outputs": [],
   "source": [
    "# !cat ../../allConstraintsAnalysis/typeConstraint/normal/claims.type-constraints.instanceOf.P953.incorrect.tsv"
   ]
  },
  {
   "cell_type": "code",
   "execution_count": 19,
   "id": "emotional-favorite",
   "metadata": {
    "scrolled": true
   },
   "outputs": [
    {
     "data": {
      "text/plain": [
       "{'mandatory': {'instanceOf': {'correct': 44946486, 'incorrect': 35027},\n",
       "  'subclass': {'correct': 1969, 'incorrect': 29},\n",
       "  'instanceOfOrSubclass': {'correct': 223167, 'incorrect': 204}},\n",
       " 'suggestion': {'instanceOf': {'correct': 177282, 'incorrect': 18368},\n",
       "  'subclass': {'correct': 0, 'incorrect': 0},\n",
       "  'instanceOfOrSubclass': {'correct': 64302, 'incorrect': 2939}},\n",
       " 'normal': {'instanceOf': {'correct': 498988369, 'incorrect': 797888},\n",
       "  'subclass': {'correct': 103001, 'incorrect': 9440},\n",
       "  'instanceOfOrSubclass': {'correct': 75595604, 'incorrect': 265583}}}"
      ]
     },
     "execution_count": 19,
     "metadata": {},
     "output_type": "execute_result"
    }
   ],
   "source": [
    "typeConstViolations"
   ]
  },
  {
   "cell_type": "code",
   "execution_count": 20,
   "id": "aggregate-impact",
   "metadata": {},
   "outputs": [
    {
     "data": {
      "text/html": [
       "<div>\n",
       "<style scoped>\n",
       "    .dataframe tbody tr th:only-of-type {\n",
       "        vertical-align: middle;\n",
       "    }\n",
       "\n",
       "    .dataframe tbody tr th {\n",
       "        vertical-align: top;\n",
       "    }\n",
       "\n",
       "    .dataframe thead th {\n",
       "        text-align: right;\n",
       "    }\n",
       "</style>\n",
       "<table border=\"1\" class=\"dataframe\">\n",
       "  <thead>\n",
       "    <tr style=\"text-align: right;\">\n",
       "      <th></th>\n",
       "      <th>correct</th>\n",
       "      <th>incorrect</th>\n",
       "      <th>paths</th>\n",
       "      <th>violation_ratio</th>\n",
       "      <th>total</th>\n",
       "    </tr>\n",
       "  </thead>\n",
       "  <tbody>\n",
       "    <tr>\n",
       "      <th>P2093</th>\n",
       "      <td>134805889</td>\n",
       "      <td>6527</td>\n",
       "      <td>[../../allConstraintsAnalysis/typeConstraint/n...</td>\n",
       "      <td>0.000048</td>\n",
       "      <td>134812416</td>\n",
       "    </tr>\n",
       "    <tr>\n",
       "      <th>P1476</th>\n",
       "      <td>81194083</td>\n",
       "      <td>47204</td>\n",
       "      <td>[../../allConstraintsAnalysis/typeConstraint/n...</td>\n",
       "      <td>0.000581</td>\n",
       "      <td>81241287</td>\n",
       "    </tr>\n",
       "    <tr>\n",
       "      <th>P577</th>\n",
       "      <td>39403027</td>\n",
       "      <td>33977</td>\n",
       "      <td>[../../allConstraintsAnalysis/typeConstraint/n...</td>\n",
       "      <td>0.000862</td>\n",
       "      <td>39437004</td>\n",
       "    </tr>\n",
       "    <tr>\n",
       "      <th>P1433</th>\n",
       "      <td>36723283</td>\n",
       "      <td>12050</td>\n",
       "      <td>[../../allConstraintsAnalysis/typeConstraint/n...</td>\n",
       "      <td>0.000328</td>\n",
       "      <td>36735333</td>\n",
       "    </tr>\n",
       "    <tr>\n",
       "      <th>P1215</th>\n",
       "      <td>33099195</td>\n",
       "      <td>24104</td>\n",
       "      <td>[../../allConstraintsAnalysis/typeConstraint/m...</td>\n",
       "      <td>0.000728</td>\n",
       "      <td>33123299</td>\n",
       "    </tr>\n",
       "  </tbody>\n",
       "</table>\n",
       "</div>"
      ],
      "text/plain": [
       "         correct incorrect                                              paths  \\\n",
       "P2093  134805889      6527  [../../allConstraintsAnalysis/typeConstraint/n...   \n",
       "P1476   81194083     47204  [../../allConstraintsAnalysis/typeConstraint/n...   \n",
       "P577    39403027     33977  [../../allConstraintsAnalysis/typeConstraint/n...   \n",
       "P1433   36723283     12050  [../../allConstraintsAnalysis/typeConstraint/n...   \n",
       "P1215   33099195     24104  [../../allConstraintsAnalysis/typeConstraint/m...   \n",
       "\n",
       "       violation_ratio      total  \n",
       "P2093         0.000048  134812416  \n",
       "P1476         0.000581   81241287  \n",
       "P577          0.000862   39437004  \n",
       "P1433         0.000328   36735333  \n",
       "P1215         0.000728   33123299  "
      ]
     },
     "execution_count": 20,
     "metadata": {},
     "output_type": "execute_result"
    }
   ],
   "source": [
    "typeConstDF['total'] = typeConstDF['correct'] + typeConstDF['incorrect']\n",
    "typeConstDF.sort_values(by=['total'],ascending=False).head()"
   ]
  },
  {
   "cell_type": "markdown",
   "id": "bearing-kruger",
   "metadata": {},
   "source": [
    "### Find out time required"
   ]
  },
  {
   "cell_type": "code",
   "execution_count": 144,
   "id": "assumed-toner",
   "metadata": {},
   "outputs": [
    {
     "data": {
      "application/vnd.jupyter.widget-view+json": {
       "model_id": "a72a9a4b7b12465e8519815db0c50386",
       "version_major": 2,
       "version_minor": 0
      },
      "text/plain": [
       "  0%|          | 0/4810 [00:00<?, ?it/s]"
      ]
     },
     "metadata": {},
     "output_type": "display_data"
    },
    {
     "name": "stdout",
     "output_type": "stream",
     "text": [
      "Something failed for prop: P1249\n",
      "Something failed for prop: P6790\n"
     ]
    }
   ],
   "source": [
    "from tqdm.notebook import tqdm\n",
    "import os.path\n",
    "\n",
    "cnt = 0\n",
    "fCnt = 1\n",
    "for prop in tqdm(df1.node1.unique()):\n",
    "    try:\n",
    "        if not(os.path.isfile(\"../../propertiesSplit/claims.\"+ prop +\".tsv\")):\n",
    "            continue\n",
    "        relation = df1[(df1['node1'] == prop) & (df1['label'] == 'P2309')].node2.values[0][0]\n",
    "        type1 = df1[(df1['node1'] == prop) & (df1['label'] == 'P2316')].node2.values\n",
    "\n",
    "        parents = df1[(df1['node1'] == prop) & (df1['label'] == 'P2308')].node2.values[0]\n",
    "        exceptions = df1[(df1['node1'] == prop) & (df1['label'] == 'P2303')].node2.values\n",
    "\n",
    "#         print(prop, relation, type1, parents, exceptions)\n",
    "\n",
    "        if relation == \"Q21503252\":\n",
    "            parentFile = \"P31P279star\"\n",
    "            parentTitle = 'instanceOf'\n",
    "        elif relation == \"Q21514624\":\n",
    "            parentFile = \"P279star\"\n",
    "            parentTitle = 'subclass'\n",
    "        else:\n",
    "            parentFile = \"isastar\"\n",
    "            parentTitle = 'instanceOfOrSubclass'\n",
    "\n",
    "        if len(type1) != 0 and type1[0][0] == \"Q21502408\":\n",
    "            typeVal = \"mandatory\"\n",
    "        elif len(type1) != 0 and type1[0][0] == \"Q62026391\":\n",
    "            typeVal = \"suggestion\"\n",
    "        else:\n",
    "            typeVal = \"normal\"\n",
    "\n",
    "        if len(exceptions):\n",
    "            exceptionPart = \"or node1 in \" + str(exceptions[0]).replace(\"'\",'\"')\n",
    "        else:\n",
    "            exceptionPart = \"\"\n",
    "        \n",
    "        if cnt % 100 == 0:\n",
    "            fOP = open(\"../../propertiesSplit/checkViolations/TimedTypeConstraintValidator\" + str(fCnt) + \".sh\",\"w\")\n",
    "            fCnt += 1\n",
    "        \n",
    "        fOP.write(\"{ time kgtk --debug query -i ../../propertiesSplit/claims.\"+ prop +\".tsv \\\n",
    "        ../../wikidata-20210215/derived.\" + parentFile + \".tsv.gz \\\n",
    "        --match 'm: (node1)-[nodeProp]->(node2), d: (node1)-[]->(par)' \\\n",
    "        --where 'par in \" + str(parents).replace(\"'\",'\"') + \" \" + exceptionPart + \"' \\\n",
    "        --return 'nodeProp.id, node1, nodeProp.label, node2' \\\n",
    "        -o ../../allConstraintsAnalysis/TimedTypeConstraint/\" + typeVal + \"/claims.type-constraints.\" + parentTitle + \".\"+ prop +\".correct.tsv \\\n",
    "        --graph-cache ~/sqlite3_caches/const2123_\" + str(fCnt) + \".sqlite3.db; } 2>> ../../propertiesSplit/checkViolations/exec_logs/TimedTypeConstraint_TimedTypeConstraintValidator\" + str(fCnt) + \".txt ; \\\n",
    "         kgtk --debug ifnotexists -i ../../propertiesSplit/claims.\"+ prop +\".tsv \\\n",
    "        --filter-on ../../allConstraintsAnalysis/TimedTypeConstraint/\" + typeVal + \"/claims.type-constraints.\" + parentTitle + \".\"+ prop +\".correct.tsv \\\n",
    "        --filter-mode NONE \\\n",
    "        --input-keys node1 label \\\n",
    "        --filter-keys node1 label \\\n",
    "        -o ../../allConstraintsAnalysis/TimedTypeConstraint/\" + typeVal + \"/claims.type-constraints.\" + parentTitle + \".\"+ prop +\".incorrect.tsv\\n\")\n",
    "\n",
    "        cnt += 1\n",
    "    except:\n",
    "        print(\"Something failed for prop:\",prop)\n",
    "    "
   ]
  },
  {
   "cell_type": "code",
   "execution_count": 1,
   "id": "veterinary-fault",
   "metadata": {},
   "outputs": [
    {
     "data": {
      "application/vnd.jupyter.widget-view+json": {
       "model_id": "096b075625a34e1db6332fa8ca08ba86",
       "version_major": 2,
       "version_minor": 0
      },
      "text/plain": [
       "  0%|          | 0/81 [00:00<?, ?it/s]"
      ]
     },
     "metadata": {},
     "output_type": "display_data"
    }
   ],
   "source": [
    "import pandas as pd\n",
    "import os\n",
    "from tqdm.notebook import tqdm\n",
    "\n",
    "codepConstViolations = {}\n",
    "\n",
    "codepConstViolations = {}\n",
    "codepConstPropList = set()\n",
    "\n",
    "def extractTimes(filename):\n",
    "    times = []\n",
    "    with open(filename) as f:\n",
    "        for line in f:\n",
    "            if \"real\" in line:\n",
    "                line = line.strip()\n",
    "                time1 = line.split(\"\\t\")[1]\n",
    "                mins, sec = time1.split(\"m\")\n",
    "                mins = int(mins)\n",
    "                sec = float(sec[:-1])\n",
    "                times.append(60 * mins + sec)\n",
    "    return times\n",
    "\n",
    "# codepConstViolationsSummary = {}\n",
    "times = []\n",
    "filePath = '/data/wd-correctness/propertiesSplit/checkViolations/exec_logs/'\n",
    "for filename in tqdm(os.listdir(filePath)):\n",
    "    if filename.startswith(\"TimedTypeConstraint_TimedTypeConstraintValidator\"):\n",
    "        tempTimes = extractTimes(filePath + filename)\n",
    "        times += tempTimes"
   ]
  },
  {
   "cell_type": "code",
   "execution_count": 2,
   "id": "infinite-assembly",
   "metadata": {},
   "outputs": [
    {
     "name": "stdout",
     "output_type": "stream",
     "text": [
      "count     100.000000\n",
      "mean      479.249890\n",
      "std       960.978995\n",
      "min         1.555000\n",
      "25%        20.188250\n",
      "50%       118.816000\n",
      "75%       537.762500\n",
      "max      5947.610000\n",
      "dtype: float64\n"
     ]
    }
   ],
   "source": [
    "print(pd.Series(times).describe())"
   ]
  },
  {
   "cell_type": "code",
   "execution_count": 3,
   "id": "opened-essex",
   "metadata": {},
   "outputs": [
    {
     "data": {
      "text/plain": [
       "Text(0.5, 1.0, 'Distribution of times (in s) taken for first 100 type constraint checks')"
      ]
     },
     "execution_count": 3,
     "metadata": {},
     "output_type": "execute_result"
    },
    {
     "data": {
      "image/png": "[encoded data removed]",
      "text/plain": [
       "<Figure size 432x288 with 1 Axes>"
      ]
     },
     "metadata": {
      "needs_background": "light"
     },
     "output_type": "display_data"
    }
   ],
   "source": [
    "import seaborn as sns\n",
    "sns.lineplot(data=pd.Series(times)).set_title(\"Distribution of times (in s) taken for first 100 type constraint checks\")"
   ]
  },
  {
   "cell_type": "markdown",
   "id": "intense-computer",
   "metadata": {},
   "source": [
    "## Value Type Constraint"
   ]
  },
  {
   "cell_type": "markdown",
   "id": "animated-companion",
   "metadata": {},
   "source": [
    "### Understand Constraints File"
   ]
  },
  {
   "cell_type": "code",
   "execution_count": 44,
   "id": "static-profit",
   "metadata": {},
   "outputs": [],
   "source": [
    "import pandas as pd\n",
    "dfValueType = pd.read_csv('../../constraintsOP/valuetypeConstraint/claims.type-constraints_all1.tsv',sep='\\t')"
   ]
  },
  {
   "cell_type": "code",
   "execution_count": 45,
   "id": "worthy-malawi",
   "metadata": {},
   "outputs": [],
   "source": [
    "dfValueType = dfValueType.groupby(['node1','label']).node2.apply(lambda p: p.tolist()).reset_index()"
   ]
  },
  {
   "cell_type": "code",
   "execution_count": 46,
   "id": "eleven-tiffany",
   "metadata": {},
   "outputs": [
    {
     "data": {
      "text/html": [
       "<div>\n",
       "<style scoped>\n",
       "    .dataframe tbody tr th:only-of-type {\n",
       "        vertical-align: middle;\n",
       "    }\n",
       "\n",
       "    .dataframe tbody tr th {\n",
       "        vertical-align: top;\n",
       "    }\n",
       "\n",
       "    .dataframe thead th {\n",
       "        text-align: right;\n",
       "    }\n",
       "</style>\n",
       "<table border=\"1\" class=\"dataframe\">\n",
       "  <thead>\n",
       "    <tr style=\"text-align: right;\">\n",
       "      <th></th>\n",
       "      <th>node1</th>\n",
       "      <th>label</th>\n",
       "      <th>node2</th>\n",
       "    </tr>\n",
       "  </thead>\n",
       "  <tbody>\n",
       "    <tr>\n",
       "      <th>0</th>\n",
       "      <td>P1000</td>\n",
       "      <td>P2308</td>\n",
       "      <td>[Q1241356]</td>\n",
       "    </tr>\n",
       "    <tr>\n",
       "      <th>1</th>\n",
       "      <td>P1000</td>\n",
       "      <td>P2309</td>\n",
       "      <td>[Q30208840]</td>\n",
       "    </tr>\n",
       "    <tr>\n",
       "      <th>2</th>\n",
       "      <td>P1001</td>\n",
       "      <td>P2308</td>\n",
       "      <td>[Q20926517, Q2881272, Q2882257, Q3624078, Q389...</td>\n",
       "    </tr>\n",
       "    <tr>\n",
       "      <th>3</th>\n",
       "      <td>P1001</td>\n",
       "      <td>P2309</td>\n",
       "      <td>[Q30208840]</td>\n",
       "    </tr>\n",
       "    <tr>\n",
       "      <th>4</th>\n",
       "      <td>P1002</td>\n",
       "      <td>P2308</td>\n",
       "      <td>[Q2576663]</td>\n",
       "    </tr>\n",
       "  </tbody>\n",
       "</table>\n",
       "</div>"
      ],
      "text/plain": [
       "   node1  label                                              node2\n",
       "0  P1000  P2308                                         [Q1241356]\n",
       "1  P1000  P2309                                        [Q30208840]\n",
       "2  P1001  P2308  [Q20926517, Q2881272, Q2882257, Q3624078, Q389...\n",
       "3  P1001  P2309                                        [Q30208840]\n",
       "4  P1002  P2308                                         [Q2576663]"
      ]
     },
     "execution_count": 46,
     "metadata": {},
     "output_type": "execute_result"
    }
   ],
   "source": [
    "dfValueType.head()"
   ]
  },
  {
   "cell_type": "code",
   "execution_count": 17,
   "id": "expired-stuff",
   "metadata": {},
   "outputs": [
    {
     "data": {
      "text/plain": [
       "array(['P2308', 'P2309', 'P2303', 'P2316', 'P6607', 'P2304'], dtype=object)"
      ]
     },
     "execution_count": 17,
     "metadata": {},
     "output_type": "execute_result"
    }
   ],
   "source": [
    "dfValueType['label'].unique()"
   ]
  },
  {
   "cell_type": "code",
   "execution_count": 16,
   "id": "imposed-newsletter",
   "metadata": {},
   "outputs": [
    {
     "data": {
      "text/html": [
       "<div>\n",
       "<style scoped>\n",
       "    .dataframe tbody tr th:only-of-type {\n",
       "        vertical-align: middle;\n",
       "    }\n",
       "\n",
       "    .dataframe tbody tr th {\n",
       "        vertical-align: top;\n",
       "    }\n",
       "\n",
       "    .dataframe thead th {\n",
       "        text-align: right;\n",
       "    }\n",
       "</style>\n",
       "<table border=\"1\" class=\"dataframe\">\n",
       "  <thead>\n",
       "    <tr style=\"text-align: right;\">\n",
       "      <th></th>\n",
       "      <th>node1</th>\n",
       "      <th>label</th>\n",
       "      <th>node2</th>\n",
       "    </tr>\n",
       "  </thead>\n",
       "  <tbody>\n",
       "  </tbody>\n",
       "</table>\n",
       "</div>"
      ],
      "text/plain": [
       "Empty DataFrame\n",
       "Columns: [node1, label, node2]\n",
       "Index: []"
      ]
     },
     "execution_count": 16,
     "metadata": {},
     "output_type": "execute_result"
    }
   ],
   "source": [
    "dfValueType[dfValueType['label'] == '2316']"
   ]
  },
  {
   "cell_type": "code",
   "execution_count": 50,
   "id": "answering-alabama",
   "metadata": {},
   "outputs": [
    {
     "data": {
      "text/html": [
       "<div>\n",
       "<style scoped>\n",
       "    .dataframe tbody tr th:only-of-type {\n",
       "        vertical-align: middle;\n",
       "    }\n",
       "\n",
       "    .dataframe tbody tr th {\n",
       "        vertical-align: top;\n",
       "    }\n",
       "\n",
       "    .dataframe thead th {\n",
       "        text-align: right;\n",
       "    }\n",
       "</style>\n",
       "<table border=\"1\" class=\"dataframe\">\n",
       "  <thead>\n",
       "    <tr style=\"text-align: right;\">\n",
       "      <th></th>\n",
       "      <th>node1</th>\n",
       "      <th>label</th>\n",
       "      <th>node2</th>\n",
       "    </tr>\n",
       "  </thead>\n",
       "  <tbody>\n",
       "    <tr>\n",
       "      <th>330</th>\n",
       "      <td>P1659</td>\n",
       "      <td>P2308</td>\n",
       "      <td>[Q18616576]</td>\n",
       "    </tr>\n",
       "    <tr>\n",
       "      <th>331</th>\n",
       "      <td>P1659</td>\n",
       "      <td>P2309</td>\n",
       "      <td>[Q21503252]</td>\n",
       "    </tr>\n",
       "    <tr>\n",
       "      <th>332</th>\n",
       "      <td>P1659</td>\n",
       "      <td>P2316</td>\n",
       "      <td>[Q21502408]</td>\n",
       "    </tr>\n",
       "  </tbody>\n",
       "</table>\n",
       "</div>"
      ],
      "text/plain": [
       "     node1  label        node2\n",
       "330  P1659  P2308  [Q18616576]\n",
       "331  P1659  P2309  [Q21503252]\n",
       "332  P1659  P2316  [Q21502408]"
      ]
     },
     "execution_count": 50,
     "metadata": {},
     "output_type": "execute_result"
    }
   ],
   "source": [
    "dfValueType[dfValueType['node1'] == 'P1659']"
   ]
  },
  {
   "cell_type": "markdown",
   "id": "digital-harvard",
   "metadata": {},
   "source": [
    "### Query Generator"
   ]
  },
  {
   "cell_type": "code",
   "execution_count": 51,
   "id": "white-badge",
   "metadata": {},
   "outputs": [
    {
     "data": {
      "application/vnd.jupyter.widget-view+json": {
       "model_id": "4765782f913844f99358ed98ec9d119c",
       "version_major": 2,
       "version_minor": 0
      },
      "text/plain": [
       "  0%|          | 0/932 [00:00<?, ?it/s]"
      ]
     },
     "metadata": {},
     "output_type": "display_data"
    },
    {
     "name": "stdout",
     "output_type": "stream",
     "text": [
      "Something failed for prop: P1389\n"
     ]
    }
   ],
   "source": [
    "from tqdm.notebook import tqdm\n",
    "import os.path\n",
    "import os\n",
    "\n",
    "cnt = 0\n",
    "fCnt = 1\n",
    "for prop in tqdm(dfValueType.node1.unique()):\n",
    "    try:\n",
    "        if not(os.path.isfile(\"../../propertiesSplit/claims.\"+ prop +\".tsv\")):\n",
    "            continue\n",
    "        relation = dfValueType[(dfValueType['node1'] == prop) & (dfValueType['label'] == 'P2309')].node2.values[0][0]\n",
    "        type1 = dfValueType[(dfValueType['node1'] == prop) & (dfValueType['label'] == 'P2316')].node2.values\n",
    "#         print(type1)\n",
    "\n",
    "        parents = dfValueType[(dfValueType['node1'] == prop) & (dfValueType['label'] == 'P2308')].node2.values[0]\n",
    "        exceptions = dfValueType[(dfValueType['node1'] == prop) & (dfValueType['label'] == 'P2303')].node2.values\n",
    "        \n",
    "        if relation == \"Q21503252\":\n",
    "            parentFile = \"P31\"\n",
    "            parentTitle = 'instanceOf'\n",
    "        elif relation == \"Q21514624\":\n",
    "            parentFile = \"P279\"\n",
    "            parentTitle = 'subclass'\n",
    "        else:\n",
    "            parentFile = \"isa\"\n",
    "            parentTitle = 'instanceOfOrSubclass'\n",
    "\n",
    "        if len(type1) != 0 and type1[0][0] == \"Q21502408\":\n",
    "            typeVal = \"mandatory\"\n",
    "        elif len(type1) != 0 and type1[0][0] == \"Q62026391\":\n",
    "            typeVal = \"suggestion\"\n",
    "        else:\n",
    "            typeVal = \"normal\"\n",
    "\n",
    "        if len(exceptions):\n",
    "            exceptionPart = \"or node2 in \" + str(exceptions[0]).replace(\"'\",'\"')\n",
    "        else:\n",
    "            exceptionPart = \"\"\n",
    "        \n",
    "        folderName = 'valuetypeConstraint'\n",
    "        shellFileSuffix = 'valueTypeConstraintValidator'\n",
    "        \n",
    "        if cnt % 30 == 0:\n",
    "            fOP = open(\"../../propertiesSplit/checkViolations/\" + shellFileSuffix + str(fCnt) + \".sh\",\"w\")\n",
    "            fCnt += 1\n",
    "        \n",
    "        fOP.write(\"time kgtk --debug query -i ../../propertiesSplit/claims.\"+ prop +\".tsv \\\n",
    "        ../../wikidata-20210215/derived.\" + parentFile + \".tsv.gz \\\n",
    "        ../../wikidata-20210215/derived.P279star.tsv.gz \\\n",
    "        --match 'm: (node1)-[nodeProp]->(node2), \" + parentFile + \": (node2)-[]->(nodex), P279star: (nodex)-[]->(par)' \\\n",
    "        --where 'par in \" + str(parents).replace(\"'\",'\"') + \" \" + exceptionPart + \"' \\\n",
    "        --return 'nodeProp.id, node1 as `node1`, nodeProp.label as `label`, node2 as `node2`' \\\n",
    "        -o ../../allConstraintsAnalysis/\" + folderName + \"/\" + typeVal + \"/claims.type-constraints.\" + parentTitle + \".\"+ prop +\".correct.tsv \\\n",
    "        --graph-cache ~/sqlite3_caches/const4_\" + str(fCnt) + \".sqlite3.db; \\\n",
    "         kgtk --debug ifnotexists -i ../../propertiesSplit/claims.\"+ prop +\".tsv \\\n",
    "        --filter-on ../../allConstraintsAnalysis/\" + folderName + \"/\" + typeVal + \"/claims.type-constraints.\" + parentTitle + \".\"+ prop +\".correct.tsv \\\n",
    "        --filter-mode NONE \\\n",
    "        --input-keys node1 label \\\n",
    "        --filter-keys node1 label \\\n",
    "        -o ../../allConstraintsAnalysis/\" + folderName + \"/\" + typeVal + \"/claims.type-constraints.\" + parentTitle + \".\"+ prop +\".incorrect.tsv\\n\")\n",
    "\n",
    "        cnt += 1\n",
    "    except:\n",
    "        print(\"Something failed for prop:\",prop)"
   ]
  },
  {
   "cell_type": "markdown",
   "id": "spectacular-warner",
   "metadata": {},
   "source": [
    "### Analyze Violations"
   ]
  },
  {
   "cell_type": "code",
   "execution_count": 16,
   "id": "valid-defense",
   "metadata": {},
   "outputs": [
    {
     "data": {
      "application/vnd.jupyter.widget-view+json": {
       "model_id": "95e197789a794967a0dcf7b5f74eb462",
       "version_major": 2,
       "version_minor": 0
      },
      "text/plain": [
       "0it [00:00, ?it/s]"
      ]
     },
     "metadata": {},
     "output_type": "display_data"
    },
    {
     "data": {
      "application/vnd.jupyter.widget-view+json": {
       "model_id": "9d8a6d5e8370466d95dac9bc8ba42257",
       "version_major": 2,
       "version_minor": 0
      },
      "text/plain": [
       "  0%|          | 0/212 [00:00<?, ?it/s]"
      ]
     },
     "metadata": {},
     "output_type": "display_data"
    },
    {
     "data": {
      "application/vnd.jupyter.widget-view+json": {
       "model_id": "84683f54f6914432b330eca8e3e3b89e",
       "version_major": 2,
       "version_minor": 0
      },
      "text/plain": [
       "  0%|          | 0/10 [00:00<?, ?it/s]"
      ]
     },
     "metadata": {},
     "output_type": "display_data"
    },
    {
     "data": {
      "application/vnd.jupyter.widget-view+json": {
       "model_id": "2a0b24d797f043efadce411aba8eb328",
       "version_major": 2,
       "version_minor": 0
      },
      "text/plain": [
       "  0%|          | 0/1572 [00:00<?, ?it/s]"
      ]
     },
     "metadata": {},
     "output_type": "display_data"
    }
   ],
   "source": [
    "import pandas as pd\n",
    "import os\n",
    "from tqdm.notebook import tqdm\n",
    "\n",
    "valueTypeConstViolations = {}\n",
    "\n",
    "def countLines(fname):\n",
    "    cnt = -1\n",
    "    with open(fname, 'r') as f:\n",
    "        for line in f:\n",
    "            cnt += 1\n",
    "    return cnt\n",
    "\n",
    "valueTypePropList = set()\n",
    "\n",
    "violations = {}\n",
    "\n",
    "for folder in tqdm(iter(['mandatory', 'suggestion', 'normal'])):\n",
    "    valueTypeConstViolations[folder] = {'instanceOf': {'correct': 0, 'incorrect': 0}, 'subclass': {'correct': 0, 'incorrect': 0}, 'instanceOfOrSubclass': {'correct': 0, 'incorrect': 0}}\n",
    "    filePath = \"../../allConstraintsAnalysis/valuetypeConstraint/\"+folder+\"/\"\n",
    "    for filename in tqdm(os.listdir(filePath)):\n",
    "        type1 = filename.split(\".\")[2]\n",
    "        prop = filename.split(\".\")[3]\n",
    "        valueTypePropList.add(prop)\n",
    "        correctness = filename.split(\".\")[4]\n",
    "        count1 = countLines(filePath+filename)\n",
    "        valueTypeConstViolations[folder][type1][correctness] += count1\n",
    "        if prop not in violations:\n",
    "            violations[prop] = {'correct': 0, 'incorrect': 0, 'paths': []}\n",
    "        violations[prop][correctness] = count1\n",
    "        violations[prop]['paths'].append(filePath+filename)\n",
    "        "
   ]
  },
  {
   "cell_type": "code",
   "execution_count": 17,
   "id": "experienced-quick",
   "metadata": {},
   "outputs": [],
   "source": [
    "# countLines(\"../../allConstraintsAnalysis/typeConstraint/mandatory/claims.type-constraints.subclass.P534.incorrect.tsv\")"
   ]
  },
  {
   "cell_type": "code",
   "execution_count": 18,
   "id": "refined-speaking",
   "metadata": {},
   "outputs": [
    {
     "name": "stdout",
     "output_type": "stream",
     "text": [
      "897 properties processed for value type constraint for 587254089 statements\n"
     ]
    }
   ],
   "source": [
    "recordCount = 0\n",
    "for elem in valueTypeConstViolations.keys():\n",
    "    for key1 in valueTypeConstViolations[elem].keys():\n",
    "        recordCount += valueTypeConstViolations[elem][key1]['correct'] + valueTypeConstViolations[elem][key1]['incorrect']\n",
    "print(f\"{len(valueTypePropList)} properties processed for value type constraint for {recordCount} statements\")"
   ]
  },
  {
   "cell_type": "code",
   "execution_count": 19,
   "id": "designed-christian",
   "metadata": {},
   "outputs": [],
   "source": [
    "import pandas as pd\n",
    "valTypeConstDF = pd.DataFrame(violations).T"
   ]
  },
  {
   "cell_type": "code",
   "execution_count": 20,
   "id": "spare-hawaiian",
   "metadata": {},
   "outputs": [],
   "source": [
    "valTypeConstDF['violation_ratio'] = valTypeConstDF.apply(lambda p: p.incorrect / p.correct if p.correct != 0 else p.incorrect/100, axis=1)"
   ]
  },
  {
   "cell_type": "code",
   "execution_count": 21,
   "id": "provincial-diploma",
   "metadata": {},
   "outputs": [
    {
     "data": {
      "text/html": [
       "<div>\n",
       "<style scoped>\n",
       "    .dataframe tbody tr th:only-of-type {\n",
       "        vertical-align: middle;\n",
       "    }\n",
       "\n",
       "    .dataframe tbody tr th {\n",
       "        vertical-align: top;\n",
       "    }\n",
       "\n",
       "    .dataframe thead th {\n",
       "        text-align: right;\n",
       "    }\n",
       "</style>\n",
       "<table border=\"1\" class=\"dataframe\">\n",
       "  <thead>\n",
       "    <tr style=\"text-align: right;\">\n",
       "      <th></th>\n",
       "      <th>correct</th>\n",
       "      <th>incorrect</th>\n",
       "      <th>paths</th>\n",
       "      <th>violation_ratio</th>\n",
       "    </tr>\n",
       "  </thead>\n",
       "  <tbody>\n",
       "    <tr>\n",
       "      <th>P1659</th>\n",
       "      <td>33728</td>\n",
       "      <td>1</td>\n",
       "      <td>[../../allConstraintsAnalysis/valuetypeConstra...</td>\n",
       "      <td>0.000030</td>\n",
       "    </tr>\n",
       "    <tr>\n",
       "      <th>P185</th>\n",
       "      <td>273396</td>\n",
       "      <td>147</td>\n",
       "      <td>[../../allConstraintsAnalysis/valuetypeConstra...</td>\n",
       "      <td>0.000538</td>\n",
       "    </tr>\n",
       "    <tr>\n",
       "      <th>P4006</th>\n",
       "      <td>18</td>\n",
       "      <td>0</td>\n",
       "      <td>[../../allConstraintsAnalysis/valuetypeConstra...</td>\n",
       "      <td>0.000000</td>\n",
       "    </tr>\n",
       "    <tr>\n",
       "      <th>P8882</th>\n",
       "      <td>184</td>\n",
       "      <td>0</td>\n",
       "      <td>[../../allConstraintsAnalysis/valuetypeConstra...</td>\n",
       "      <td>0.000000</td>\n",
       "    </tr>\n",
       "    <tr>\n",
       "      <th>P2679</th>\n",
       "      <td>898</td>\n",
       "      <td>2</td>\n",
       "      <td>[../../allConstraintsAnalysis/valuetypeConstra...</td>\n",
       "      <td>0.002227</td>\n",
       "    </tr>\n",
       "  </tbody>\n",
       "</table>\n",
       "</div>"
      ],
      "text/plain": [
       "      correct incorrect                                              paths  \\\n",
       "P1659   33728         1  [../../allConstraintsAnalysis/valuetypeConstra...   \n",
       "P185   273396       147  [../../allConstraintsAnalysis/valuetypeConstra...   \n",
       "P4006      18         0  [../../allConstraintsAnalysis/valuetypeConstra...   \n",
       "P8882     184         0  [../../allConstraintsAnalysis/valuetypeConstra...   \n",
       "P2679     898         2  [../../allConstraintsAnalysis/valuetypeConstra...   \n",
       "\n",
       "       violation_ratio  \n",
       "P1659         0.000030  \n",
       "P185          0.000538  \n",
       "P4006         0.000000  \n",
       "P8882         0.000000  \n",
       "P2679         0.002227  "
      ]
     },
     "execution_count": 21,
     "metadata": {},
     "output_type": "execute_result"
    }
   ],
   "source": [
    "valTypeConstDF.head()"
   ]
  },
  {
   "cell_type": "code",
   "execution_count": 22,
   "id": "neural-trail",
   "metadata": {},
   "outputs": [
    {
     "data": {
      "text/html": [
       "<div>\n",
       "<style scoped>\n",
       "    .dataframe tbody tr th:only-of-type {\n",
       "        vertical-align: middle;\n",
       "    }\n",
       "\n",
       "    .dataframe tbody tr th {\n",
       "        vertical-align: top;\n",
       "    }\n",
       "\n",
       "    .dataframe thead th {\n",
       "        text-align: right;\n",
       "    }\n",
       "</style>\n",
       "<table border=\"1\" class=\"dataframe\">\n",
       "  <thead>\n",
       "    <tr style=\"text-align: right;\">\n",
       "      <th></th>\n",
       "      <th>correct</th>\n",
       "      <th>incorrect</th>\n",
       "      <th>paths</th>\n",
       "      <th>violation_ratio</th>\n",
       "    </tr>\n",
       "  </thead>\n",
       "  <tbody>\n",
       "    <tr>\n",
       "      <th>P5008</th>\n",
       "      <td>0</td>\n",
       "      <td>331026</td>\n",
       "      <td>[../../allConstraintsAnalysis/valuetypeConstra...</td>\n",
       "      <td>3310.260000</td>\n",
       "    </tr>\n",
       "    <tr>\n",
       "      <th>P6104</th>\n",
       "      <td>0</td>\n",
       "      <td>9764</td>\n",
       "      <td>[../../allConstraintsAnalysis/valuetypeConstra...</td>\n",
       "      <td>97.640000</td>\n",
       "    </tr>\n",
       "    <tr>\n",
       "      <th>P2545</th>\n",
       "      <td>0</td>\n",
       "      <td>1369</td>\n",
       "      <td>[../../allConstraintsAnalysis/valuetypeConstra...</td>\n",
       "      <td>13.690000</td>\n",
       "    </tr>\n",
       "    <tr>\n",
       "      <th>P5051</th>\n",
       "      <td>5</td>\n",
       "      <td>59</td>\n",
       "      <td>[../../allConstraintsAnalysis/valuetypeConstra...</td>\n",
       "      <td>11.800000</td>\n",
       "    </tr>\n",
       "    <tr>\n",
       "      <th>P1227</th>\n",
       "      <td>2</td>\n",
       "      <td>16</td>\n",
       "      <td>[../../allConstraintsAnalysis/valuetypeConstra...</td>\n",
       "      <td>8.000000</td>\n",
       "    </tr>\n",
       "    <tr>\n",
       "      <th>P1880</th>\n",
       "      <td>24</td>\n",
       "      <td>173</td>\n",
       "      <td>[../../allConstraintsAnalysis/valuetypeConstra...</td>\n",
       "      <td>7.208333</td>\n",
       "    </tr>\n",
       "    <tr>\n",
       "      <th>P1039</th>\n",
       "      <td>6</td>\n",
       "      <td>41</td>\n",
       "      <td>[../../allConstraintsAnalysis/valuetypeConstra...</td>\n",
       "      <td>6.833333</td>\n",
       "    </tr>\n",
       "    <tr>\n",
       "      <th>P516</th>\n",
       "      <td>1379</td>\n",
       "      <td>7993</td>\n",
       "      <td>[../../allConstraintsAnalysis/valuetypeConstra...</td>\n",
       "      <td>5.796229</td>\n",
       "    </tr>\n",
       "    <tr>\n",
       "      <th>P1210</th>\n",
       "      <td>1</td>\n",
       "      <td>5</td>\n",
       "      <td>[../../allConstraintsAnalysis/valuetypeConstra...</td>\n",
       "      <td>5.000000</td>\n",
       "    </tr>\n",
       "    <tr>\n",
       "      <th>P1455</th>\n",
       "      <td>198</td>\n",
       "      <td>721</td>\n",
       "      <td>[../../allConstraintsAnalysis/valuetypeConstra...</td>\n",
       "      <td>3.641414</td>\n",
       "    </tr>\n",
       "    <tr>\n",
       "      <th>P1686</th>\n",
       "      <td>11</td>\n",
       "      <td>37</td>\n",
       "      <td>[../../allConstraintsAnalysis/valuetypeConstra...</td>\n",
       "      <td>3.363636</td>\n",
       "    </tr>\n",
       "    <tr>\n",
       "      <th>P453</th>\n",
       "      <td>128</td>\n",
       "      <td>415</td>\n",
       "      <td>[../../allConstraintsAnalysis/valuetypeConstra...</td>\n",
       "      <td>3.242188</td>\n",
       "    </tr>\n",
       "    <tr>\n",
       "      <th>P3356</th>\n",
       "      <td>30</td>\n",
       "      <td>95</td>\n",
       "      <td>[../../allConstraintsAnalysis/valuetypeConstra...</td>\n",
       "      <td>3.166667</td>\n",
       "    </tr>\n",
       "    <tr>\n",
       "      <th>P4968</th>\n",
       "      <td>9</td>\n",
       "      <td>22</td>\n",
       "      <td>[../../allConstraintsAnalysis/valuetypeConstra...</td>\n",
       "      <td>2.444444</td>\n",
       "    </tr>\n",
       "    <tr>\n",
       "      <th>P8786</th>\n",
       "      <td>39</td>\n",
       "      <td>95</td>\n",
       "      <td>[../../allConstraintsAnalysis/valuetypeConstra...</td>\n",
       "      <td>2.435897</td>\n",
       "    </tr>\n",
       "  </tbody>\n",
       "</table>\n",
       "</div>"
      ],
      "text/plain": [
       "      correct incorrect                                              paths  \\\n",
       "P5008       0    331026  [../../allConstraintsAnalysis/valuetypeConstra...   \n",
       "P6104       0      9764  [../../allConstraintsAnalysis/valuetypeConstra...   \n",
       "P2545       0      1369  [../../allConstraintsAnalysis/valuetypeConstra...   \n",
       "P5051       5        59  [../../allConstraintsAnalysis/valuetypeConstra...   \n",
       "P1227       2        16  [../../allConstraintsAnalysis/valuetypeConstra...   \n",
       "P1880      24       173  [../../allConstraintsAnalysis/valuetypeConstra...   \n",
       "P1039       6        41  [../../allConstraintsAnalysis/valuetypeConstra...   \n",
       "P516     1379      7993  [../../allConstraintsAnalysis/valuetypeConstra...   \n",
       "P1210       1         5  [../../allConstraintsAnalysis/valuetypeConstra...   \n",
       "P1455     198       721  [../../allConstraintsAnalysis/valuetypeConstra...   \n",
       "P1686      11        37  [../../allConstraintsAnalysis/valuetypeConstra...   \n",
       "P453      128       415  [../../allConstraintsAnalysis/valuetypeConstra...   \n",
       "P3356      30        95  [../../allConstraintsAnalysis/valuetypeConstra...   \n",
       "P4968       9        22  [../../allConstraintsAnalysis/valuetypeConstra...   \n",
       "P8786      39        95  [../../allConstraintsAnalysis/valuetypeConstra...   \n",
       "\n",
       "       violation_ratio  \n",
       "P5008      3310.260000  \n",
       "P6104        97.640000  \n",
       "P2545        13.690000  \n",
       "P5051        11.800000  \n",
       "P1227         8.000000  \n",
       "P1880         7.208333  \n",
       "P1039         6.833333  \n",
       "P516          5.796229  \n",
       "P1210         5.000000  \n",
       "P1455         3.641414  \n",
       "P1686         3.363636  \n",
       "P453          3.242188  \n",
       "P3356         3.166667  \n",
       "P4968         2.444444  \n",
       "P8786         2.435897  "
      ]
     },
     "execution_count": 22,
     "metadata": {},
     "output_type": "execute_result"
    }
   ],
   "source": [
    "valTypeConstDF.sort_values(by=['violation_ratio'],ascending=False).head(15)"
   ]
  },
  {
   "cell_type": "code",
   "execution_count": 23,
   "id": "governing-relative",
   "metadata": {},
   "outputs": [
    {
     "data": {
      "text/html": [
       "<div>\n",
       "<style scoped>\n",
       "    .dataframe tbody tr th:only-of-type {\n",
       "        vertical-align: middle;\n",
       "    }\n",
       "\n",
       "    .dataframe tbody tr th {\n",
       "        vertical-align: top;\n",
       "    }\n",
       "\n",
       "    .dataframe thead th {\n",
       "        text-align: right;\n",
       "    }\n",
       "</style>\n",
       "<table border=\"1\" class=\"dataframe\">\n",
       "  <thead>\n",
       "    <tr style=\"text-align: right;\">\n",
       "      <th></th>\n",
       "      <th>correct</th>\n",
       "      <th>incorrect</th>\n",
       "      <th>paths</th>\n",
       "      <th>violation_ratio</th>\n",
       "    </tr>\n",
       "  </thead>\n",
       "  <tbody>\n",
       "    <tr>\n",
       "      <th>P5008</th>\n",
       "      <td>0</td>\n",
       "      <td>331026</td>\n",
       "      <td>[../../allConstraintsAnalysis/valuetypeConstra...</td>\n",
       "      <td>3310.260000</td>\n",
       "    </tr>\n",
       "    <tr>\n",
       "      <th>P131</th>\n",
       "      <td>13988974</td>\n",
       "      <td>70786</td>\n",
       "      <td>[../../allConstraintsAnalysis/valuetypeConstra...</td>\n",
       "      <td>0.005060</td>\n",
       "    </tr>\n",
       "    <tr>\n",
       "      <th>P69</th>\n",
       "      <td>3678858</td>\n",
       "      <td>36323</td>\n",
       "      <td>[../../allConstraintsAnalysis/valuetypeConstra...</td>\n",
       "      <td>0.009873</td>\n",
       "    </tr>\n",
       "    <tr>\n",
       "      <th>P136</th>\n",
       "      <td>1405096</td>\n",
       "      <td>36152</td>\n",
       "      <td>[../../allConstraintsAnalysis/valuetypeConstra...</td>\n",
       "      <td>0.025729</td>\n",
       "    </tr>\n",
       "    <tr>\n",
       "      <th>P150</th>\n",
       "      <td>990010</td>\n",
       "      <td>33888</td>\n",
       "      <td>[../../allConstraintsAnalysis/valuetypeConstra...</td>\n",
       "      <td>0.034230</td>\n",
       "    </tr>\n",
       "    <tr>\n",
       "      <th>P1433</th>\n",
       "      <td>138352116</td>\n",
       "      <td>22053</td>\n",
       "      <td>[../../allConstraintsAnalysis/valuetypeConstra...</td>\n",
       "      <td>0.000159</td>\n",
       "    </tr>\n",
       "    <tr>\n",
       "      <th>P50</th>\n",
       "      <td>39989016</td>\n",
       "      <td>18955</td>\n",
       "      <td>[../../allConstraintsAnalysis/valuetypeConstra...</td>\n",
       "      <td>0.000474</td>\n",
       "    </tr>\n",
       "    <tr>\n",
       "      <th>P106</th>\n",
       "      <td>30054276</td>\n",
       "      <td>17832</td>\n",
       "      <td>[../../allConstraintsAnalysis/valuetypeConstra...</td>\n",
       "      <td>0.000593</td>\n",
       "    </tr>\n",
       "    <tr>\n",
       "      <th>P400</th>\n",
       "      <td>62062</td>\n",
       "      <td>14718</td>\n",
       "      <td>[../../allConstraintsAnalysis/valuetypeConstra...</td>\n",
       "      <td>0.237150</td>\n",
       "    </tr>\n",
       "    <tr>\n",
       "      <th>P276</th>\n",
       "      <td>9014884</td>\n",
       "      <td>12395</td>\n",
       "      <td>[../../allConstraintsAnalysis/valuetypeConstra...</td>\n",
       "      <td>0.001375</td>\n",
       "    </tr>\n",
       "    <tr>\n",
       "      <th>P452</th>\n",
       "      <td>114902</td>\n",
       "      <td>12329</td>\n",
       "      <td>[../../allConstraintsAnalysis/valuetypeConstra...</td>\n",
       "      <td>0.107300</td>\n",
       "    </tr>\n",
       "    <tr>\n",
       "      <th>P1454</th>\n",
       "      <td>132424</td>\n",
       "      <td>10056</td>\n",
       "      <td>[../../allConstraintsAnalysis/valuetypeConstra...</td>\n",
       "      <td>0.075938</td>\n",
       "    </tr>\n",
       "    <tr>\n",
       "      <th>P6104</th>\n",
       "      <td>0</td>\n",
       "      <td>9764</td>\n",
       "      <td>[../../allConstraintsAnalysis/valuetypeConstra...</td>\n",
       "      <td>97.640000</td>\n",
       "    </tr>\n",
       "    <tr>\n",
       "      <th>P516</th>\n",
       "      <td>1379</td>\n",
       "      <td>7993</td>\n",
       "      <td>[../../allConstraintsAnalysis/valuetypeConstra...</td>\n",
       "      <td>5.796229</td>\n",
       "    </tr>\n",
       "    <tr>\n",
       "      <th>P179</th>\n",
       "      <td>862371</td>\n",
       "      <td>7267</td>\n",
       "      <td>[../../allConstraintsAnalysis/valuetypeConstra...</td>\n",
       "      <td>0.008427</td>\n",
       "    </tr>\n",
       "  </tbody>\n",
       "</table>\n",
       "</div>"
      ],
      "text/plain": [
       "         correct incorrect                                              paths  \\\n",
       "P5008          0    331026  [../../allConstraintsAnalysis/valuetypeConstra...   \n",
       "P131    13988974     70786  [../../allConstraintsAnalysis/valuetypeConstra...   \n",
       "P69      3678858     36323  [../../allConstraintsAnalysis/valuetypeConstra...   \n",
       "P136     1405096     36152  [../../allConstraintsAnalysis/valuetypeConstra...   \n",
       "P150      990010     33888  [../../allConstraintsAnalysis/valuetypeConstra...   \n",
       "P1433  138352116     22053  [../../allConstraintsAnalysis/valuetypeConstra...   \n",
       "P50     39989016     18955  [../../allConstraintsAnalysis/valuetypeConstra...   \n",
       "P106    30054276     17832  [../../allConstraintsAnalysis/valuetypeConstra...   \n",
       "P400       62062     14718  [../../allConstraintsAnalysis/valuetypeConstra...   \n",
       "P276     9014884     12395  [../../allConstraintsAnalysis/valuetypeConstra...   \n",
       "P452      114902     12329  [../../allConstraintsAnalysis/valuetypeConstra...   \n",
       "P1454     132424     10056  [../../allConstraintsAnalysis/valuetypeConstra...   \n",
       "P6104          0      9764  [../../allConstraintsAnalysis/valuetypeConstra...   \n",
       "P516        1379      7993  [../../allConstraintsAnalysis/valuetypeConstra...   \n",
       "P179      862371      7267  [../../allConstraintsAnalysis/valuetypeConstra...   \n",
       "\n",
       "       violation_ratio  \n",
       "P5008      3310.260000  \n",
       "P131          0.005060  \n",
       "P69           0.009873  \n",
       "P136          0.025729  \n",
       "P150          0.034230  \n",
       "P1433         0.000159  \n",
       "P50           0.000474  \n",
       "P106          0.000593  \n",
       "P400          0.237150  \n",
       "P276          0.001375  \n",
       "P452          0.107300  \n",
       "P1454         0.075938  \n",
       "P6104        97.640000  \n",
       "P516          5.796229  \n",
       "P179          0.008427  "
      ]
     },
     "execution_count": 23,
     "metadata": {},
     "output_type": "execute_result"
    }
   ],
   "source": [
    "valTypeConstDF.sort_values(by=['incorrect'],ascending=False).head(15)"
   ]
  },
  {
   "cell_type": "code",
   "execution_count": 24,
   "id": "cutting-polyester",
   "metadata": {},
   "outputs": [
    {
     "data": {
      "text/plain": [
       "count     897.000000\n",
       "mean        3.950680\n",
       "std       110.568790\n",
       "min         0.000000\n",
       "25%         0.000247\n",
       "50%         0.003824\n",
       "75%         0.033113\n",
       "max      3310.260000\n",
       "Name: violation_ratio, dtype: float64"
      ]
     },
     "execution_count": 24,
     "metadata": {},
     "output_type": "execute_result"
    }
   ],
   "source": [
    "valTypeConstDF['violation_ratio'].describe()"
   ]
  },
  {
   "cell_type": "code",
   "execution_count": 25,
   "id": "alert-receiver",
   "metadata": {},
   "outputs": [
    {
     "data": {
      "text/plain": [
       "Text(0.5, 1.0, 'Value Type Constraint Violation Ratios')"
      ]
     },
     "execution_count": 25,
     "metadata": {},
     "output_type": "execute_result"
    },
    {
     "data": {
      "image/png": "[encoded data removed]",
      "text/plain": [
       "<Figure size 432x288 with 1 Axes>"
      ]
     },
     "metadata": {
      "needs_background": "light"
     },
     "output_type": "display_data"
    }
   ],
   "source": [
    "valTypeConstDF['violation_ratio'].plot.hist(bins=100).set_title(\"Value Type Constraint Violation Ratios\")"
   ]
  },
  {
   "cell_type": "code",
   "execution_count": 26,
   "id": "italian-motel",
   "metadata": {},
   "outputs": [
    {
     "data": {
      "text/plain": [
       "Text(0.5, 1.0, 'Value Type Constraint Violation Ratios (<=0.04)')"
      ]
     },
     "execution_count": 26,
     "metadata": {},
     "output_type": "execute_result"
    },
    {
     "data": {
      "image/png": "[encoded data removed]",
      "text/plain": [
       "<Figure size 432x288 with 1 Axes>"
      ]
     },
     "metadata": {
      "needs_background": "light"
     },
     "output_type": "display_data"
    }
   ],
   "source": [
    "valTypeConstDF[valTypeConstDF['violation_ratio'] <= 0.04].violation_ratio.plot.hist(bins=100).set_title(\"Value Type Constraint Violation Ratios (<=0.04)\")"
   ]
  },
  {
   "cell_type": "code",
   "execution_count": 78,
   "id": "prescription-ceramic",
   "metadata": {},
   "outputs": [
    {
     "name": "stdout",
     "output_type": "stream",
     "text": [
      "No. of constraints whose violation ratio is greater than mean :9/897\n"
     ]
    }
   ],
   "source": [
    "print(f\"No. of constraints whose violation ratio is greater than mean :{sum(valTypeConstDF['violation_ratio'] >= 3.950680)}/{len(valTypeConstDF)}\")"
   ]
  },
  {
   "cell_type": "code",
   "execution_count": 27,
   "id": "quiet-gardening",
   "metadata": {
    "scrolled": true
   },
   "outputs": [],
   "source": [
    "# valTypeConstDF.sort_values(by=['violation_ratio'],ascending=False).head().paths.values"
   ]
  },
  {
   "cell_type": "code",
   "execution_count": 28,
   "id": "documentary-pipeline",
   "metadata": {},
   "outputs": [],
   "source": [
    "# !cat ../../allConstraintsAnalysis/typeConstraint/normal/claims.type-constraints.instanceOf.P7535.incorrect.tsv"
   ]
  },
  {
   "cell_type": "code",
   "execution_count": 29,
   "id": "satellite-concern",
   "metadata": {
    "scrolled": true
   },
   "outputs": [
    {
     "data": {
      "text/plain": [
       "{'mandatory': {'instanceOf': {'correct': 19317112, 'incorrect': 3339},\n",
       "  'subclass': {'correct': 45282, 'incorrect': 1},\n",
       "  'instanceOfOrSubclass': {'correct': 17510, 'incorrect': 35}},\n",
       " 'suggestion': {'instanceOf': {'correct': 46358, 'incorrect': 474},\n",
       "  'subclass': {'correct': 179, 'incorrect': 18},\n",
       "  'instanceOfOrSubclass': {'correct': 0, 'incorrect': 0}},\n",
       " 'normal': {'instanceOf': {'correct': 280749268, 'incorrect': 689971},\n",
       "  'subclass': {'correct': 8644651, 'incorrect': 6190},\n",
       "  'instanceOfOrSubclass': {'correct': 277569918, 'incorrect': 163783}}}"
      ]
     },
     "execution_count": 29,
     "metadata": {},
     "output_type": "execute_result"
    }
   ],
   "source": [
    "valueTypeConstViolations"
   ]
  },
  {
   "cell_type": "markdown",
   "id": "motivated-sympathy",
   "metadata": {},
   "source": [
    "## Item Requires Statement Constraint"
   ]
  },
  {
   "cell_type": "markdown",
   "id": "chubby-glass",
   "metadata": {},
   "source": [
    "### Understand Constraints File"
   ]
  },
  {
   "cell_type": "code",
   "execution_count": 49,
   "id": "funny-batch",
   "metadata": {},
   "outputs": [],
   "source": [
    "import pandas as pd\n",
    "import math\n",
    "dfItemRequires = pd.read_csv('../../constraintsOP/itemRequiresConstraint/claims.type-constraints_all.tsv',sep='\\t')"
   ]
  },
  {
   "cell_type": "code",
   "execution_count": 50,
   "id": "original-expression",
   "metadata": {},
   "outputs": [],
   "source": [
    "dfItemRequires = dfItemRequires.groupby(['id','node1','label']).node2.apply(lambda p: p.tolist()).reset_index()"
   ]
  },
  {
   "cell_type": "code",
   "execution_count": 51,
   "id": "adequate-symphony",
   "metadata": {},
   "outputs": [
    {
     "data": {
      "text/plain": [
       "array(['P2306', 'P2305', 'P2316', 'P2304', 'P2303', 'P6607', 'P4155',\n",
       "       'P31', 'P2916', 'P4680', 'P2308'], dtype=object)"
      ]
     },
     "execution_count": 51,
     "metadata": {},
     "output_type": "execute_result"
    }
   ],
   "source": [
    "dfItemRequires['label'].unique()"
   ]
  },
  {
   "cell_type": "code",
   "execution_count": 52,
   "id": "infrared-canal",
   "metadata": {},
   "outputs": [
    {
     "data": {
      "text/plain": [
       "P2306    7182\n",
       "P2305    2540\n",
       "P2316    2523\n",
       "P2303     422\n",
       "P6607      14\n",
       "P2304      14\n",
       "P2916       5\n",
       "P4680       2\n",
       "P31         1\n",
       "P4155       1\n",
       "P2308       1\n",
       "Name: label, dtype: int64"
      ]
     },
     "execution_count": 52,
     "metadata": {},
     "output_type": "execute_result"
    }
   ],
   "source": [
    "dfItemRequires['label'].value_counts()"
   ]
  },
  {
   "cell_type": "code",
   "execution_count": 53,
   "id": "focused-karen",
   "metadata": {},
   "outputs": [],
   "source": [
    "#Reference: https://stackoverflow.com/a/17298454\n",
    "# dfItemRequires.pivot_table('node2', ['node1', 'id'], 'label')\n",
    "dfItemRequires = dfItemRequires.pivot(index=['node1','id'], columns='label', values='node2')"
   ]
  },
  {
   "cell_type": "code",
   "execution_count": 54,
   "id": "private-boundary",
   "metadata": {},
   "outputs": [
    {
     "data": {
      "text/html": [
       "<div>\n",
       "<style scoped>\n",
       "    .dataframe tbody tr th:only-of-type {\n",
       "        vertical-align: middle;\n",
       "    }\n",
       "\n",
       "    .dataframe tbody tr th {\n",
       "        vertical-align: top;\n",
       "    }\n",
       "\n",
       "    .dataframe thead th {\n",
       "        text-align: right;\n",
       "    }\n",
       "</style>\n",
       "<table border=\"1\" class=\"dataframe\">\n",
       "  <thead>\n",
       "    <tr style=\"text-align: right;\">\n",
       "      <th></th>\n",
       "      <th>label</th>\n",
       "      <th>P2303</th>\n",
       "      <th>P2304</th>\n",
       "      <th>P2305</th>\n",
       "      <th>P2306</th>\n",
       "      <th>P2308</th>\n",
       "      <th>P2316</th>\n",
       "      <th>P2916</th>\n",
       "      <th>P31</th>\n",
       "      <th>P4155</th>\n",
       "      <th>P4680</th>\n",
       "      <th>P6607</th>\n",
       "    </tr>\n",
       "    <tr>\n",
       "      <th>node1</th>\n",
       "      <th>id</th>\n",
       "      <th></th>\n",
       "      <th></th>\n",
       "      <th></th>\n",
       "      <th></th>\n",
       "      <th></th>\n",
       "      <th></th>\n",
       "      <th></th>\n",
       "      <th></th>\n",
       "      <th></th>\n",
       "      <th></th>\n",
       "      <th></th>\n",
       "    </tr>\n",
       "  </thead>\n",
       "  <tbody>\n",
       "    <tr>\n",
       "      <th>P1006</th>\n",
       "      <th>P1006-P2302-Q21503247-0451ef47-0</th>\n",
       "      <td>NaN</td>\n",
       "      <td>NaN</td>\n",
       "      <td>NaN</td>\n",
       "      <td>[P214]</td>\n",
       "      <td>NaN</td>\n",
       "      <td>NaN</td>\n",
       "      <td>NaN</td>\n",
       "      <td>NaN</td>\n",
       "      <td>NaN</td>\n",
       "      <td>NaN</td>\n",
       "      <td>NaN</td>\n",
       "    </tr>\n",
       "    <tr>\n",
       "      <th rowspan=\"2\" valign=\"top\">P1010</th>\n",
       "      <th>P1010-P2302-Q21503247-56183614-0</th>\n",
       "      <td>NaN</td>\n",
       "      <td>NaN</td>\n",
       "      <td>NaN</td>\n",
       "      <td>[P31]</td>\n",
       "      <td>NaN</td>\n",
       "      <td>NaN</td>\n",
       "      <td>NaN</td>\n",
       "      <td>NaN</td>\n",
       "      <td>NaN</td>\n",
       "      <td>NaN</td>\n",
       "      <td>NaN</td>\n",
       "    </tr>\n",
       "    <tr>\n",
       "      <th>P1010-P2302-Q21503247-fd256eaf-0</th>\n",
       "      <td>NaN</td>\n",
       "      <td>NaN</td>\n",
       "      <td>[Q794]</td>\n",
       "      <td>[P17]</td>\n",
       "      <td>NaN</td>\n",
       "      <td>[Q21502408]</td>\n",
       "      <td>NaN</td>\n",
       "      <td>NaN</td>\n",
       "      <td>NaN</td>\n",
       "      <td>NaN</td>\n",
       "      <td>NaN</td>\n",
       "    </tr>\n",
       "    <tr>\n",
       "      <th>P1015</th>\n",
       "      <th>P1015-P2302-Q21503247-20e3bfc5-0</th>\n",
       "      <td>NaN</td>\n",
       "      <td>NaN</td>\n",
       "      <td>NaN</td>\n",
       "      <td>[P31]</td>\n",
       "      <td>NaN</td>\n",
       "      <td>NaN</td>\n",
       "      <td>NaN</td>\n",
       "      <td>NaN</td>\n",
       "      <td>NaN</td>\n",
       "      <td>NaN</td>\n",
       "      <td>NaN</td>\n",
       "    </tr>\n",
       "    <tr>\n",
       "      <th>P1017</th>\n",
       "      <th>P1017-P2302-Q21503247-bbac2ce3-0</th>\n",
       "      <td>NaN</td>\n",
       "      <td>NaN</td>\n",
       "      <td>NaN</td>\n",
       "      <td>[P214]</td>\n",
       "      <td>NaN</td>\n",
       "      <td>NaN</td>\n",
       "      <td>NaN</td>\n",
       "      <td>NaN</td>\n",
       "      <td>NaN</td>\n",
       "      <td>NaN</td>\n",
       "      <td>NaN</td>\n",
       "    </tr>\n",
       "  </tbody>\n",
       "</table>\n",
       "</div>"
      ],
      "text/plain": [
       "label                                  P2303 P2304   P2305   P2306 P2308  \\\n",
       "node1 id                                                                   \n",
       "P1006 P1006-P2302-Q21503247-0451ef47-0   NaN   NaN     NaN  [P214]   NaN   \n",
       "P1010 P1010-P2302-Q21503247-56183614-0   NaN   NaN     NaN   [P31]   NaN   \n",
       "      P1010-P2302-Q21503247-fd256eaf-0   NaN   NaN  [Q794]   [P17]   NaN   \n",
       "P1015 P1015-P2302-Q21503247-20e3bfc5-0   NaN   NaN     NaN   [P31]   NaN   \n",
       "P1017 P1017-P2302-Q21503247-bbac2ce3-0   NaN   NaN     NaN  [P214]   NaN   \n",
       "\n",
       "label                                         P2316 P2916  P31 P4155 P4680  \\\n",
       "node1 id                                                                     \n",
       "P1006 P1006-P2302-Q21503247-0451ef47-0          NaN   NaN  NaN   NaN   NaN   \n",
       "P1010 P1010-P2302-Q21503247-56183614-0          NaN   NaN  NaN   NaN   NaN   \n",
       "      P1010-P2302-Q21503247-fd256eaf-0  [Q21502408]   NaN  NaN   NaN   NaN   \n",
       "P1015 P1015-P2302-Q21503247-20e3bfc5-0          NaN   NaN  NaN   NaN   NaN   \n",
       "P1017 P1017-P2302-Q21503247-bbac2ce3-0          NaN   NaN  NaN   NaN   NaN   \n",
       "\n",
       "label                                  P6607  \n",
       "node1 id                                      \n",
       "P1006 P1006-P2302-Q21503247-0451ef47-0   NaN  \n",
       "P1010 P1010-P2302-Q21503247-56183614-0   NaN  \n",
       "      P1010-P2302-Q21503247-fd256eaf-0   NaN  \n",
       "P1015 P1015-P2302-Q21503247-20e3bfc5-0   NaN  \n",
       "P1017 P1017-P2302-Q21503247-bbac2ce3-0   NaN  "
      ]
     },
     "execution_count": 54,
     "metadata": {},
     "output_type": "execute_result"
    }
   ],
   "source": [
    "dfItemRequires.head()"
   ]
  },
  {
   "cell_type": "code",
   "execution_count": 55,
   "id": "conceptual-schedule",
   "metadata": {},
   "outputs": [],
   "source": [
    "dfItemRequires = dfItemRequires.droplevel(1)"
   ]
  },
  {
   "cell_type": "code",
   "execution_count": 56,
   "id": "third-hayes",
   "metadata": {},
   "outputs": [
    {
     "data": {
      "text/html": [
       "<div>\n",
       "<style scoped>\n",
       "    .dataframe tbody tr th:only-of-type {\n",
       "        vertical-align: middle;\n",
       "    }\n",
       "\n",
       "    .dataframe tbody tr th {\n",
       "        vertical-align: top;\n",
       "    }\n",
       "\n",
       "    .dataframe thead th {\n",
       "        text-align: right;\n",
       "    }\n",
       "</style>\n",
       "<table border=\"1\" class=\"dataframe\">\n",
       "  <thead>\n",
       "    <tr style=\"text-align: right;\">\n",
       "      <th>label</th>\n",
       "      <th>P2303</th>\n",
       "      <th>P2304</th>\n",
       "      <th>P2305</th>\n",
       "      <th>P2306</th>\n",
       "      <th>P2308</th>\n",
       "      <th>P2316</th>\n",
       "      <th>P2916</th>\n",
       "      <th>P31</th>\n",
       "      <th>P4155</th>\n",
       "      <th>P4680</th>\n",
       "      <th>P6607</th>\n",
       "    </tr>\n",
       "    <tr>\n",
       "      <th>node1</th>\n",
       "      <th></th>\n",
       "      <th></th>\n",
       "      <th></th>\n",
       "      <th></th>\n",
       "      <th></th>\n",
       "      <th></th>\n",
       "      <th></th>\n",
       "      <th></th>\n",
       "      <th></th>\n",
       "      <th></th>\n",
       "      <th></th>\n",
       "    </tr>\n",
       "  </thead>\n",
       "  <tbody>\n",
       "    <tr>\n",
       "      <th>P1006</th>\n",
       "      <td>NaN</td>\n",
       "      <td>NaN</td>\n",
       "      <td>NaN</td>\n",
       "      <td>[P214]</td>\n",
       "      <td>NaN</td>\n",
       "      <td>NaN</td>\n",
       "      <td>NaN</td>\n",
       "      <td>NaN</td>\n",
       "      <td>NaN</td>\n",
       "      <td>NaN</td>\n",
       "      <td>NaN</td>\n",
       "    </tr>\n",
       "    <tr>\n",
       "      <th>P1010</th>\n",
       "      <td>NaN</td>\n",
       "      <td>NaN</td>\n",
       "      <td>NaN</td>\n",
       "      <td>[P31]</td>\n",
       "      <td>NaN</td>\n",
       "      <td>NaN</td>\n",
       "      <td>NaN</td>\n",
       "      <td>NaN</td>\n",
       "      <td>NaN</td>\n",
       "      <td>NaN</td>\n",
       "      <td>NaN</td>\n",
       "    </tr>\n",
       "    <tr>\n",
       "      <th>P1010</th>\n",
       "      <td>NaN</td>\n",
       "      <td>NaN</td>\n",
       "      <td>[Q794]</td>\n",
       "      <td>[P17]</td>\n",
       "      <td>NaN</td>\n",
       "      <td>[Q21502408]</td>\n",
       "      <td>NaN</td>\n",
       "      <td>NaN</td>\n",
       "      <td>NaN</td>\n",
       "      <td>NaN</td>\n",
       "      <td>NaN</td>\n",
       "    </tr>\n",
       "    <tr>\n",
       "      <th>P1015</th>\n",
       "      <td>NaN</td>\n",
       "      <td>NaN</td>\n",
       "      <td>NaN</td>\n",
       "      <td>[P31]</td>\n",
       "      <td>NaN</td>\n",
       "      <td>NaN</td>\n",
       "      <td>NaN</td>\n",
       "      <td>NaN</td>\n",
       "      <td>NaN</td>\n",
       "      <td>NaN</td>\n",
       "      <td>NaN</td>\n",
       "    </tr>\n",
       "    <tr>\n",
       "      <th>P1017</th>\n",
       "      <td>NaN</td>\n",
       "      <td>NaN</td>\n",
       "      <td>NaN</td>\n",
       "      <td>[P214]</td>\n",
       "      <td>NaN</td>\n",
       "      <td>NaN</td>\n",
       "      <td>NaN</td>\n",
       "      <td>NaN</td>\n",
       "      <td>NaN</td>\n",
       "      <td>NaN</td>\n",
       "      <td>NaN</td>\n",
       "    </tr>\n",
       "  </tbody>\n",
       "</table>\n",
       "</div>"
      ],
      "text/plain": [
       "label P2303 P2304   P2305   P2306 P2308        P2316 P2916  P31 P4155 P4680  \\\n",
       "node1                                                                         \n",
       "P1006   NaN   NaN     NaN  [P214]   NaN          NaN   NaN  NaN   NaN   NaN   \n",
       "P1010   NaN   NaN     NaN   [P31]   NaN          NaN   NaN  NaN   NaN   NaN   \n",
       "P1010   NaN   NaN  [Q794]   [P17]   NaN  [Q21502408]   NaN  NaN   NaN   NaN   \n",
       "P1015   NaN   NaN     NaN   [P31]   NaN          NaN   NaN  NaN   NaN   NaN   \n",
       "P1017   NaN   NaN     NaN  [P214]   NaN          NaN   NaN  NaN   NaN   NaN   \n",
       "\n",
       "label P6607  \n",
       "node1        \n",
       "P1006   NaN  \n",
       "P1010   NaN  \n",
       "P1010   NaN  \n",
       "P1015   NaN  \n",
       "P1017   NaN  "
      ]
     },
     "execution_count": 56,
     "metadata": {},
     "output_type": "execute_result"
    }
   ],
   "source": [
    "dfItemRequires.head()"
   ]
  },
  {
   "cell_type": "markdown",
   "id": "shaped-companion",
   "metadata": {},
   "source": [
    "However, there is one anomaly where the property does not have a co-dependency constraint associated with it, but still has a link to this constraint."
   ]
  },
  {
   "cell_type": "code",
   "execution_count": 57,
   "id": "indian-journal",
   "metadata": {},
   "outputs": [
    {
     "data": {
      "text/html": [
       "<div>\n",
       "<style scoped>\n",
       "    .dataframe tbody tr th:only-of-type {\n",
       "        vertical-align: middle;\n",
       "    }\n",
       "\n",
       "    .dataframe tbody tr th {\n",
       "        vertical-align: top;\n",
       "    }\n",
       "\n",
       "    .dataframe thead th {\n",
       "        text-align: right;\n",
       "    }\n",
       "</style>\n",
       "<table border=\"1\" class=\"dataframe\">\n",
       "  <thead>\n",
       "    <tr style=\"text-align: right;\">\n",
       "      <th>label</th>\n",
       "      <th>P2303</th>\n",
       "      <th>P2304</th>\n",
       "      <th>P2305</th>\n",
       "      <th>P2306</th>\n",
       "      <th>P2308</th>\n",
       "      <th>P2316</th>\n",
       "      <th>P2916</th>\n",
       "      <th>P31</th>\n",
       "      <th>P4155</th>\n",
       "      <th>P4680</th>\n",
       "      <th>P6607</th>\n",
       "    </tr>\n",
       "    <tr>\n",
       "      <th>node1</th>\n",
       "      <th></th>\n",
       "      <th></th>\n",
       "      <th></th>\n",
       "      <th></th>\n",
       "      <th></th>\n",
       "      <th></th>\n",
       "      <th></th>\n",
       "      <th></th>\n",
       "      <th></th>\n",
       "      <th></th>\n",
       "      <th></th>\n",
       "    </tr>\n",
       "  </thead>\n",
       "  <tbody>\n",
       "    <tr>\n",
       "      <th>P5447</th>\n",
       "      <td>NaN</td>\n",
       "      <td>NaN</td>\n",
       "      <td>[Q55426051]</td>\n",
       "      <td>[P5446]</td>\n",
       "      <td>NaN</td>\n",
       "      <td>NaN</td>\n",
       "      <td>NaN</td>\n",
       "      <td>NaN</td>\n",
       "      <td>NaN</td>\n",
       "      <td>[Q46466783]</td>\n",
       "      <td>NaN</td>\n",
       "    </tr>\n",
       "    <tr>\n",
       "      <th>P5448</th>\n",
       "      <td>NaN</td>\n",
       "      <td>NaN</td>\n",
       "      <td>[Q55426051]</td>\n",
       "      <td>[P5446]</td>\n",
       "      <td>NaN</td>\n",
       "      <td>NaN</td>\n",
       "      <td>NaN</td>\n",
       "      <td>NaN</td>\n",
       "      <td>NaN</td>\n",
       "      <td>[Q46466783]</td>\n",
       "      <td>NaN</td>\n",
       "    </tr>\n",
       "  </tbody>\n",
       "</table>\n",
       "</div>"
      ],
      "text/plain": [
       "label P2303 P2304        P2305    P2306 P2308 P2316 P2916  P31 P4155  \\\n",
       "node1                                                                  \n",
       "P5447   NaN   NaN  [Q55426051]  [P5446]   NaN   NaN   NaN  NaN   NaN   \n",
       "P5448   NaN   NaN  [Q55426051]  [P5446]   NaN   NaN   NaN  NaN   NaN   \n",
       "\n",
       "label        P4680 P6607  \n",
       "node1                     \n",
       "P5447  [Q46466783]   NaN  \n",
       "P5448  [Q46466783]   NaN  "
      ]
     },
     "execution_count": 57,
     "metadata": {},
     "output_type": "execute_result"
    }
   ],
   "source": [
    "dfItemRequires[dfItemRequires['P4680'].apply(lambda p: type(p) == list)]"
   ]
  },
  {
   "cell_type": "code",
   "execution_count": 80,
   "id": "discrete-template",
   "metadata": {},
   "outputs": [
    {
     "data": {
      "text/html": [
       "<div>\n",
       "<style scoped>\n",
       "    .dataframe tbody tr th:only-of-type {\n",
       "        vertical-align: middle;\n",
       "    }\n",
       "\n",
       "    .dataframe tbody tr th {\n",
       "        vertical-align: top;\n",
       "    }\n",
       "\n",
       "    .dataframe thead th {\n",
       "        text-align: right;\n",
       "    }\n",
       "</style>\n",
       "<table border=\"1\" class=\"dataframe\">\n",
       "  <thead>\n",
       "    <tr style=\"text-align: right;\">\n",
       "      <th>label</th>\n",
       "      <th>P2303</th>\n",
       "      <th>P2304</th>\n",
       "      <th>P2305</th>\n",
       "      <th>P2306</th>\n",
       "      <th>P2308</th>\n",
       "      <th>P2316</th>\n",
       "      <th>P2916</th>\n",
       "      <th>P31</th>\n",
       "      <th>P4155</th>\n",
       "      <th>P4680</th>\n",
       "      <th>P6607</th>\n",
       "    </tr>\n",
       "    <tr>\n",
       "      <th>node1</th>\n",
       "      <th></th>\n",
       "      <th></th>\n",
       "      <th></th>\n",
       "      <th></th>\n",
       "      <th></th>\n",
       "      <th></th>\n",
       "      <th></th>\n",
       "      <th></th>\n",
       "      <th></th>\n",
       "      <th></th>\n",
       "      <th></th>\n",
       "    </tr>\n",
       "  </thead>\n",
       "  <tbody>\n",
       "    <tr>\n",
       "      <th>P1010</th>\n",
       "      <td>NaN</td>\n",
       "      <td>NaN</td>\n",
       "      <td>[Q794]</td>\n",
       "      <td>[P17]</td>\n",
       "      <td>NaN</td>\n",
       "      <td>[Q21502408]</td>\n",
       "      <td>NaN</td>\n",
       "      <td>NaN</td>\n",
       "      <td>NaN</td>\n",
       "      <td>NaN</td>\n",
       "      <td>NaN</td>\n",
       "    </tr>\n",
       "    <tr>\n",
       "      <th>P1045</th>\n",
       "      <td>NaN</td>\n",
       "      <td>NaN</td>\n",
       "      <td>[Q20808382, Q28218485, Q3044918]</td>\n",
       "      <td>[P39]</td>\n",
       "      <td>NaN</td>\n",
       "      <td>NaN</td>\n",
       "      <td>NaN</td>\n",
       "      <td>NaN</td>\n",
       "      <td>NaN</td>\n",
       "      <td>NaN</td>\n",
       "      <td>NaN</td>\n",
       "    </tr>\n",
       "    <tr>\n",
       "      <th>P1045</th>\n",
       "      <td>NaN</td>\n",
       "      <td>NaN</td>\n",
       "      <td>[Q82955]</td>\n",
       "      <td>[P106]</td>\n",
       "      <td>NaN</td>\n",
       "      <td>NaN</td>\n",
       "      <td>NaN</td>\n",
       "      <td>NaN</td>\n",
       "      <td>NaN</td>\n",
       "      <td>NaN</td>\n",
       "      <td>NaN</td>\n",
       "    </tr>\n",
       "    <tr>\n",
       "      <th>P1045</th>\n",
       "      <td>NaN</td>\n",
       "      <td>NaN</td>\n",
       "      <td>[Q5]</td>\n",
       "      <td>[P31]</td>\n",
       "      <td>NaN</td>\n",
       "      <td>[Q21502408]</td>\n",
       "      <td>NaN</td>\n",
       "      <td>NaN</td>\n",
       "      <td>NaN</td>\n",
       "      <td>NaN</td>\n",
       "      <td>NaN</td>\n",
       "    </tr>\n",
       "    <tr>\n",
       "      <th>P1045</th>\n",
       "      <td>NaN</td>\n",
       "      <td>NaN</td>\n",
       "      <td>[Q142, Q71084]</td>\n",
       "      <td>[P27]</td>\n",
       "      <td>NaN</td>\n",
       "      <td>NaN</td>\n",
       "      <td>NaN</td>\n",
       "      <td>NaN</td>\n",
       "      <td>NaN</td>\n",
       "      <td>NaN</td>\n",
       "      <td>NaN</td>\n",
       "    </tr>\n",
       "    <tr>\n",
       "      <th>...</th>\n",
       "      <td>...</td>\n",
       "      <td>...</td>\n",
       "      <td>...</td>\n",
       "      <td>...</td>\n",
       "      <td>...</td>\n",
       "      <td>...</td>\n",
       "      <td>...</td>\n",
       "      <td>...</td>\n",
       "      <td>...</td>\n",
       "      <td>...</td>\n",
       "      <td>...</td>\n",
       "    </tr>\n",
       "    <tr>\n",
       "      <th>P980</th>\n",
       "      <td>NaN</td>\n",
       "      <td>NaN</td>\n",
       "      <td>[Q34]</td>\n",
       "      <td>[P17]</td>\n",
       "      <td>NaN</td>\n",
       "      <td>[Q21502408]</td>\n",
       "      <td>NaN</td>\n",
       "      <td>NaN</td>\n",
       "      <td>NaN</td>\n",
       "      <td>NaN</td>\n",
       "      <td>NaN</td>\n",
       "    </tr>\n",
       "    <tr>\n",
       "      <th>P981</th>\n",
       "      <td>NaN</td>\n",
       "      <td>NaN</td>\n",
       "      <td>[Q55]</td>\n",
       "      <td>[P17]</td>\n",
       "      <td>NaN</td>\n",
       "      <td>[Q21502408]</td>\n",
       "      <td>NaN</td>\n",
       "      <td>NaN</td>\n",
       "      <td>NaN</td>\n",
       "      <td>NaN</td>\n",
       "      <td>NaN</td>\n",
       "    </tr>\n",
       "    <tr>\n",
       "      <th>P981</th>\n",
       "      <td>NaN</td>\n",
       "      <td>NaN</td>\n",
       "      <td>[Q1852859]</td>\n",
       "      <td>[P31]</td>\n",
       "      <td>NaN</td>\n",
       "      <td>NaN</td>\n",
       "      <td>NaN</td>\n",
       "      <td>NaN</td>\n",
       "      <td>NaN</td>\n",
       "      <td>NaN</td>\n",
       "      <td>NaN</td>\n",
       "    </tr>\n",
       "    <tr>\n",
       "      <th>P988</th>\n",
       "      <td>NaN</td>\n",
       "      <td>NaN</td>\n",
       "      <td>[Q928]</td>\n",
       "      <td>[P17]</td>\n",
       "      <td>NaN</td>\n",
       "      <td>[Q21502408]</td>\n",
       "      <td>NaN</td>\n",
       "      <td>NaN</td>\n",
       "      <td>NaN</td>\n",
       "      <td>NaN</td>\n",
       "      <td>NaN</td>\n",
       "    </tr>\n",
       "    <tr>\n",
       "      <th>P990</th>\n",
       "      <td>[Q49678, Q853715]</td>\n",
       "      <td>NaN</td>\n",
       "      <td>[Q5]</td>\n",
       "      <td>[P31]</td>\n",
       "      <td>NaN</td>\n",
       "      <td>NaN</td>\n",
       "      <td>NaN</td>\n",
       "      <td>NaN</td>\n",
       "      <td>NaN</td>\n",
       "      <td>NaN</td>\n",
       "      <td>NaN</td>\n",
       "    </tr>\n",
       "  </tbody>\n",
       "</table>\n",
       "<p>2540 rows × 11 columns</p>\n",
       "</div>"
      ],
      "text/plain": [
       "label              P2303 P2304                             P2305   P2306  \\\n",
       "node1                                                                      \n",
       "P1010                NaN   NaN                            [Q794]   [P17]   \n",
       "P1045                NaN   NaN  [Q20808382, Q28218485, Q3044918]   [P39]   \n",
       "P1045                NaN   NaN                          [Q82955]  [P106]   \n",
       "P1045                NaN   NaN                              [Q5]   [P31]   \n",
       "P1045                NaN   NaN                    [Q142, Q71084]   [P27]   \n",
       "...                  ...   ...                               ...     ...   \n",
       "P980                 NaN   NaN                             [Q34]   [P17]   \n",
       "P981                 NaN   NaN                             [Q55]   [P17]   \n",
       "P981                 NaN   NaN                        [Q1852859]   [P31]   \n",
       "P988                 NaN   NaN                            [Q928]   [P17]   \n",
       "P990   [Q49678, Q853715]   NaN                              [Q5]   [P31]   \n",
       "\n",
       "label P2308        P2316 P2916  P31 P4155 P4680 P6607  \n",
       "node1                                                  \n",
       "P1010   NaN  [Q21502408]   NaN  NaN   NaN   NaN   NaN  \n",
       "P1045   NaN          NaN   NaN  NaN   NaN   NaN   NaN  \n",
       "P1045   NaN          NaN   NaN  NaN   NaN   NaN   NaN  \n",
       "P1045   NaN  [Q21502408]   NaN  NaN   NaN   NaN   NaN  \n",
       "P1045   NaN          NaN   NaN  NaN   NaN   NaN   NaN  \n",
       "...     ...          ...   ...  ...   ...   ...   ...  \n",
       "P980    NaN  [Q21502408]   NaN  NaN   NaN   NaN   NaN  \n",
       "P981    NaN  [Q21502408]   NaN  NaN   NaN   NaN   NaN  \n",
       "P981    NaN          NaN   NaN  NaN   NaN   NaN   NaN  \n",
       "P988    NaN  [Q21502408]   NaN  NaN   NaN   NaN   NaN  \n",
       "P990    NaN          NaN   NaN  NaN   NaN   NaN   NaN  \n",
       "\n",
       "[2540 rows x 11 columns]"
      ]
     },
     "execution_count": 80,
     "metadata": {},
     "output_type": "execute_result"
    }
   ],
   "source": [
    "dfItemRequires[dfItemRequires['P2305'].apply(lambda p: type(p) == list)]"
   ]
  },
  {
   "cell_type": "markdown",
   "id": "forced-christmas",
   "metadata": {},
   "source": [
    "### Query Generator"
   ]
  },
  {
   "cell_type": "markdown",
   "id": "acquired-floor",
   "metadata": {},
   "source": [
    "#### Version 1 - Mandatory + Suggestion + Normal"
   ]
  },
  {
   "cell_type": "code",
   "execution_count": 24,
   "id": "turkish-establishment",
   "metadata": {
    "scrolled": true
   },
   "outputs": [
    {
     "data": {
      "application/vnd.jupyter.widget-view+json": {
       "model_id": "47402b54613f4271b593d946c0ea63c9",
       "version_major": 2,
       "version_minor": 0
      },
      "text/plain": [
       "  0%|          | 0/3147 [00:00<?, ?it/s]"
      ]
     },
     "metadata": {},
     "output_type": "display_data"
    },
    {
     "name": "stdout",
     "output_type": "stream",
     "text": [
      "File: ../../propertiesSplit/claims.P345.tsv does not exist\n",
      "File: ../../propertiesSplit/claims.P2604.tsv does not exist\n",
      "File: ../../propertiesSplit/claims.P1566.tsv does not exist\n",
      "File: ../../propertiesSplit/claims.P1566.tsv does not exist\n",
      "File: ../../propertiesSplit/claims.P2355.tsv does not exist\n",
      "File: ../../propertiesSplit/claims.P3350.tsv does not exist\n",
      "File: ../../propertiesSplit/claims.P1014.tsv does not exist\n",
      "File: ../../propertiesSplit/claims.P2636.tsv does not exist\n",
      "File: ../../propertiesSplit/claims.P1771.tsv does not exist\n",
      "File: ../../propertiesSplit/claims.P2755.tsv does not exist\n",
      "File: ../../propertiesSplit/claims.P8326.tsv does not exist\n",
      "File: ../../propertiesSplit/claims.P5128.tsv does not exist\n",
      "File: ../../propertiesSplit/claims.P1627.tsv does not exist\n",
      "File: ../../propertiesSplit/claims.P954.tsv does not exist\n",
      "File: ../../propertiesSplit/claims.P498.tsv does not exist\n",
      "File: ../../propertiesSplit/claims.P1297.tsv does not exist\n",
      "File: ../../propertiesSplit/claims.P8680.tsv does not exist\n",
      "File: ../../propertiesSplit/claims.P715.tsv does not exist\n",
      "File: ../../propertiesSplit/claims.P2606.tsv does not exist\n",
      "File: ../../propertiesSplit/claims.P8303.tsv does not exist\n",
      "File: ../../propertiesSplit/claims.P1874.tsv does not exist\n"
     ]
    }
   ],
   "source": [
    "from tqdm.notebook import tqdm\n",
    "import os.path\n",
    "import os\n",
    "\n",
    "cnt = 0\n",
    "fCnt = 0\n",
    "\n",
    "folderName = 'codependencyConstraint_Final'\n",
    "subFolderName = \"Mand_Sugg_Normal\"\n",
    "shellFileSuffix = 'codepConst_MSN_Validator_new2_'\n",
    "\n",
    "for prop in tqdm(dfItemRequires.index.unique()):\n",
    "#     try:\n",
    "        mandatory = []\n",
    "        suggestion = []\n",
    "        normal = []\n",
    "        prop = str(prop)\n",
    "        \n",
    "        for _, constraint in dfItemRequires.loc[[prop]].iterrows():\n",
    "            if type(constraint['P2316']) == list:\n",
    "                if constraint['P2316'][0] == 'Q21502408':\n",
    "                    mandatory.append(constraint)\n",
    "                elif constraint['P2316'][0] == 'Q62026391':\n",
    "                    suggestion.append(constraint)\n",
    "            else:\n",
    "                normal.append(constraint)\n",
    "        \n",
    "        if not(os.path.isfile(\"../../propertiesSplit/claims.\"+ prop +\".tsv\")):\n",
    "            continue\n",
    "                \n",
    "        commandInit = \"{ time kgtk --debug query -i ../../propertiesSplit/claims.\"+ prop +\".tsv \"\n",
    "        commandOtherFiles = \"\"\n",
    "        commandMatch = \"--match '\"\n",
    "        commandMatchMoreFiles = [f\"{prop}: (node1)-[nodeProp]->(node2)\"]\n",
    "        commandWhere = \" --where '\"\n",
    "        commandWhere = []\n",
    "        \n",
    "        # Version 1 <<<<<<<<<<<<<<<<<<<<<<<<<<<<<<<<<<<<<<<<<<<<<<<<<<<<<<<<<<<<<<<<<<<<<<<<<<<<<<<<<<\n",
    "        constSet = mandatory + suggestion + normal\n",
    "        \n",
    "        if len(constSet) == 0:\n",
    "            continue\n",
    "        excptns = set()\n",
    "        for (rowNo, constraint) in enumerate(constSet):\n",
    "            prop2 = constraint['P2306']\n",
    "            \n",
    "            if type(prop2) != list:\n",
    "                continue\n",
    "            prop2 = prop2[0]\n",
    "                \n",
    "            if not(os.path.isfile(\"../../propertiesSplit/claims.\"+ prop2 +\".tsv\")):\n",
    "                print(f\"File: ../../propertiesSplit/claims.{prop2}.tsv does not exist\")\n",
    "                continue\n",
    "            \n",
    "            commandOtherFiles += \"../../propertiesSplit/claims.\"+ prop2 +\".tsv \"\n",
    "            if type(constraint['P2303']) == list: # Exceptions present\n",
    "                if len(excptns) == 0:\n",
    "                    excptns = set(constraint['P2303'])\n",
    "                else:\n",
    "                    excptns = excptns.intersection(set(constraint['P2303']))\n",
    "            if type(constraint['P2305']) == list:\n",
    "                commandMatchMoreFiles += [f\"{prop2}: (node1)-[]->(node2_{prop2})\"]\n",
    "                commandWhere += [\"node2_\" + prop2 + \" in \" + str(list(constraint['P2305'])).replace(\"'\",'\"')]\n",
    "            else:\n",
    "                commandMatchMoreFiles += [f\"{prop2}: (node1)-[]->()\"]\n",
    "#         print(commandMatchMoreFiles)\n",
    "        if len(commandWhere) == 0:\n",
    "            command = commandInit + commandOtherFiles + commandMatch + (\", \".join(commandMatchMoreFiles)) + \"'\"\n",
    "        else:\n",
    "            command = commandInit + commandOtherFiles + commandMatch + (\", \".join(commandMatchMoreFiles)) + \"'\" + \" --where '\"+(\" and \".join(commandWhere))+\"'\"\n",
    "        \n",
    "        if cnt % 20 == 0:\n",
    "            fCnt += 1\n",
    "            fOP = open(\"../../propertiesSplit/checkViolations/\" + shellFileSuffix + str(fCnt) + \".sh\",\"w\")\n",
    "        \n",
    "        if len(excptns) == 0:\n",
    "            commandRest = \" --return 'distinct nodeProp.id, node1 as `node1`, nodeProp.label as `label`, node2 as `node2`'  \\\n",
    "            -o ../../allConstraintsAnalysis/\" + folderName + \"/\" + subFolderName + \"/claims.\"+ prop +\".correct.tsv \\\n",
    "            --graph-cache ~/sqlite3_caches/codep_new2_01_\" + str(fCnt) + \".sqlite3.db; } 2>> ../../propertiesSplit/checkViolations/exec_logs/timeLog_\" + shellFileSuffix + str(fCnt) + \".txt; \\\n",
    "             kgtk --debug ifnotexists -i ../../propertiesSplit/claims.\"+ prop +\".tsv \\\n",
    "            --filter-on ../../allConstraintsAnalysis/\" + folderName + \"/\" + subFolderName + \"/claims.\"+ prop +\".correct.tsv \\\n",
    "            --filter-mode NONE \\\n",
    "            --input-keys node1 label \\\n",
    "            --filter-keys node1 label \"\n",
    "            \n",
    "            commandOPFile = \"-o ../../allConstraintsAnalysis/\" + folderName + \"/\" + subFolderName + \"/claims.\"+ prop +\".\"\n",
    "            \n",
    "            command += commandRest + commandOPFile + \"incorrect.tsv\\n\"\n",
    "            fOP.write(command)\n",
    "        else:\n",
    "            commandRest = \" --return 'distinct nodeProp.id, node1 as `node1`, nodeProp.label as `label`, node2 as `node2`'  \\\n",
    "            -o ../../allConstraintsAnalysis/\" + folderName + \"/\" + subFolderName + \"/claims.\"+ prop +\".correct_wo_exceptions.tsv \\\n",
    "            --graph-cache ~/sqlite3_caches/codep_new2_01_\" + str(fCnt) + \".sqlite3.db; } 2>> ../../propertiesSplit/checkViolations/exec_logs/timeLog_\" + shellFileSuffix + str(fCnt) + \".txt; \\\n",
    "             kgtk --debug ifnotexists -i ../../propertiesSplit/claims.\"+ prop +\".tsv \\\n",
    "            --filter-on ../../allConstraintsAnalysis/\" + folderName + \"/\" + subFolderName + \"/claims.\"+ prop +\".correct_wo_exceptions.tsv \\\n",
    "            --filter-mode NONE \\\n",
    "            --input-keys node1 label \\\n",
    "            --filter-keys node1 label \"\n",
    "            \n",
    "            commandOPFile = \"-o ../../allConstraintsAnalysis/\" + folderName + \"/\" + subFolderName + \"/claims.\"+ prop +\".\"\n",
    "            \n",
    "            command += commandRest + commandOPFile + \"incorrect_wo_exceptions.tsv\\n\"\n",
    "            fOP.write(command)\n",
    "            \n",
    "            command = \"  { time kgtk --debug query -i ../../allConstraintsAnalysis/\" + folderName + \"/\" + subFolderName + \"/claims.\" + prop + \".incorrect_wo_exceptions.tsv \\\n",
    "                    --match '(node1)-[]->()' --where 'node1 in \" + str(list(excptns)).replace(\"'\",'\"') + \"' -o ../../allConstraintsAnalysis/\" + folderName + \"/\" + subFolderName + \"/claims.\" + prop + \".incorrect_w_exceptions.tsv --graph-cache ~/sqlite3_caches/codep_new2_01_\" + str(fCnt) + \".sqlite3.db; } 2>> ../../propertiesSplit/checkViolations/exec_logs/timeLog_\" + shellFileSuffix + str(fCnt) + \".txt\\n\"\n",
    "            fOP.write(command)\n",
    "            \n",
    "            command = \"  kgtk --debug ifnotexists -i ../../allConstraintsAnalysis/\" + folderName + \"/\" + subFolderName + \"/claims.\" + prop + \".incorrect_wo_exceptions.tsv \\\n",
    "            --filter-on ../../allConstraintsAnalysis/\" + folderName + \"/\" + subFolderName + \"/claims.\" + prop + \".incorrect_w_exceptions.tsv \\\n",
    "            --filter-mode NONE \\\n",
    "            --input-keys node1 label \\\n",
    "            --filter-keys node1 label \\\n",
    "            -o ../../allConstraintsAnalysis/\" + folderName + \"/\" + subFolderName + \"/claims.\"+ prop +\".incorrect.tsv\\n\"\n",
    "            fOP.write(command)\n",
    "            \n",
    "            command = \"  kgtk cat -i ../../allConstraintsAnalysis/\" + folderName + \"/\" + subFolderName + \"/claims.\"+ prop +\".correct_wo_exceptions.tsv \\\n",
    "                    ../../allConstraintsAnalysis/\" + folderName + \"/\" + subFolderName + \"/claims.\"+ prop +\".incorrect_w_exceptions.tsv \\\n",
    "                    -o ../../allConstraintsAnalysis/\" + folderName + \"/\" + subFolderName + \"/claims.\"+ prop +\".correct.tsv\\n\"\n",
    "            fOP.write(command)\n",
    "        \n",
    "        \n",
    "        cnt += 1\n",
    "#     except:\n",
    "#         print(\"Something failed for prop:\",prop)"
   ]
  },
  {
   "cell_type": "code",
   "execution_count": 13,
   "id": "peripheral-herald",
   "metadata": {},
   "outputs": [
    {
     "data": {
      "text/plain": [
       "527"
      ]
     },
     "execution_count": 13,
     "metadata": {},
     "output_type": "execute_result"
    }
   ],
   "source": [
    "cnt"
   ]
  },
  {
   "cell_type": "code",
   "execution_count": 123,
   "id": "welcome-welding",
   "metadata": {},
   "outputs": [],
   "source": [
    "# from tqdm.notebook import tqdm\n",
    "# import os.path\n",
    "# import os\n",
    "# folderName = 'codependencyConstraint'\n",
    "# for prop in tqdm(dfItemRequires.index.unique()):\n",
    "#     for subFolderName in ['Mand_Sugg_Normal', 'Mand_Normal', 'Mand', 'Normal']:\n",
    "#         if os.path.isfile(\"../../allConstraintsAnalysis/\" + folderName + \"/\" + subFolderName + \"/claims.\"+ prop +\".correct.tsv\") and \\\n",
    "#             os.path.isfile(\"../../allConstraintsAnalysis/\" + folderName + \"/\" + subFolderName + \"/claims.\"+ prop +\".incorrect_w_exceptions.tsv\"):\n",
    "#                 os.system(\"kgtk cat -i ../../allConstraintsAnalysis/\" + folderName + \"/\" + subFolderName + \"/claims.\"+ prop +\".correct.tsv \\\n",
    "#                     ../../allConstraintsAnalysis/\" + folderName + \"/\" + subFolderName + \"/claims.\"+ prop +\".incorrect_w_exceptions.tsv \\\n",
    "#                     -o ../../allConstraintsAnalysis/\" + folderName + \"/\" + subFolderName + \"/claims.\"+ prop +\".correct_w_exceptions.tsv\")"
   ]
  },
  {
   "cell_type": "code",
   "execution_count": 25,
   "id": "optimum-blowing",
   "metadata": {},
   "outputs": [],
   "source": [
    "# import os\n",
    "# for i in range(1,28):\n",
    "#     os.system(\"screen -dm sh ../../propertiesSplit/checkViolations/codepConst_MSN_Validator_new2_\"+str(i)+\".sh\")"
   ]
  },
  {
   "cell_type": "markdown",
   "id": "indoor-verse",
   "metadata": {},
   "source": [
    "#### Version 2 - Mandatory + Normal"
   ]
  },
  {
   "cell_type": "code",
   "execution_count": 28,
   "id": "furnished-paradise",
   "metadata": {
    "scrolled": true
   },
   "outputs": [
    {
     "data": {
      "application/vnd.jupyter.widget-view+json": {
       "model_id": "1d75b0c13b67414095611b115a00b085",
       "version_major": 2,
       "version_minor": 0
      },
      "text/plain": [
       "  0%|          | 0/3147 [00:00<?, ?it/s]"
      ]
     },
     "metadata": {},
     "output_type": "display_data"
    },
    {
     "name": "stdout",
     "output_type": "stream",
     "text": [
      "File: ../../propertiesSplit/claims.P345.tsv does not exist\n",
      "File: ../../propertiesSplit/claims.P2604.tsv does not exist\n",
      "File: ../../propertiesSplit/claims.P1566.tsv does not exist\n",
      "File: ../../propertiesSplit/claims.P2355.tsv does not exist\n",
      "File: ../../propertiesSplit/claims.P1014.tsv does not exist\n",
      "File: ../../propertiesSplit/claims.P2636.tsv does not exist\n",
      "File: ../../propertiesSplit/claims.P1771.tsv does not exist\n",
      "File: ../../propertiesSplit/claims.P2755.tsv does not exist\n",
      "File: ../../propertiesSplit/claims.P8326.tsv does not exist\n",
      "File: ../../propertiesSplit/claims.P1627.tsv does not exist\n",
      "File: ../../propertiesSplit/claims.P954.tsv does not exist\n",
      "File: ../../propertiesSplit/claims.P498.tsv does not exist\n",
      "File: ../../propertiesSplit/claims.P1297.tsv does not exist\n",
      "File: ../../propertiesSplit/claims.P8680.tsv does not exist\n",
      "File: ../../propertiesSplit/claims.P715.tsv does not exist\n",
      "File: ../../propertiesSplit/claims.P2606.tsv does not exist\n",
      "File: ../../propertiesSplit/claims.P8303.tsv does not exist\n",
      "File: ../../propertiesSplit/claims.P1874.tsv does not exist\n"
     ]
    }
   ],
   "source": [
    "from tqdm.notebook import tqdm\n",
    "import os.path\n",
    "import os\n",
    "\n",
    "cnt = 0\n",
    "fCnt = 0\n",
    "\n",
    "folderName = 'codependencyConstraint_Final'\n",
    "subFolderName = \"Mand_Normal\"\n",
    "shellFileSuffix = 'codepConst_MN_Validator_new2_'\n",
    "\n",
    "for prop in tqdm(dfItemRequires.index.unique()):\n",
    "#     try:\n",
    "        mandatory = []\n",
    "        suggestion = []\n",
    "        normal = []\n",
    "        prop = str(prop)\n",
    "        \n",
    "        for _, constraint in dfItemRequires.loc[[prop]].iterrows():\n",
    "            if type(constraint['P2316']) == list:\n",
    "                if constraint['P2316'][0] == 'Q21502408':\n",
    "                    mandatory.append(constraint)\n",
    "                elif constraint['P2316'][0] == 'Q62026391':\n",
    "                    suggestion.append(constraint)\n",
    "            else:\n",
    "                normal.append(constraint)\n",
    "        \n",
    "        if not(os.path.isfile(\"../../propertiesSplit/claims.\"+ prop +\".tsv\")):\n",
    "            continue\n",
    "                \n",
    "        commandInit = \"{ time kgtk --debug query -i ../../propertiesSplit/claims.\"+ prop +\".tsv \"\n",
    "        commandOtherFiles = \"\"\n",
    "        commandMatch = \"--match '\"\n",
    "        commandMatchMoreFiles = [f\"{prop}: (node1)-[nodeProp]->(node2)\"]\n",
    "        commandWhere = \" --where '\"\n",
    "        commandWhere = []\n",
    "        \n",
    "        # Version 1 <<<<<<<<<<<<<<<<<<<<<<<<<<<<<<<<<<<<<<<<<<<<<<<<<<<<<<<<<<<<<<<<<<<<<<<<<<<<<<<<<<\n",
    "        constSet = mandatory + normal\n",
    "        \n",
    "        if len(constSet) == 0:\n",
    "            continue\n",
    "        excptns = set()\n",
    "        for (rowNo, constraint) in enumerate(constSet):\n",
    "            prop2 = constraint['P2306']\n",
    "            \n",
    "            if type(prop2) != list:\n",
    "                continue\n",
    "            prop2 = prop2[0]\n",
    "                \n",
    "            if not(os.path.isfile(\"../../propertiesSplit/claims.\"+ prop2 +\".tsv\")):\n",
    "                print(f\"File: ../../propertiesSplit/claims.{prop2}.tsv does not exist\")\n",
    "                continue\n",
    "            \n",
    "            commandOtherFiles += \"../../propertiesSplit/claims.\"+ prop2 +\".tsv \"\n",
    "            if type(constraint['P2303']) == list: # Exceptions present\n",
    "                if len(excptns) == 0:\n",
    "                    excptns = set(constraint['P2303'])\n",
    "                else:\n",
    "                    excptns = excptns.intersection(set(constraint['P2303']))\n",
    "            if type(constraint['P2305']) == list:\n",
    "                commandMatchMoreFiles += [f\"{prop2}: (node1)-[]->(node2_{prop2})\"]\n",
    "                commandWhere += [\"node2_\" + prop2 + \" in \" + str(list(constraint['P2305'])).replace(\"'\",'\"')]\n",
    "            else:\n",
    "                commandMatchMoreFiles += [f\"{prop2}: (node1)-[]->()\"]\n",
    "#         print(commandMatchMoreFiles)\n",
    "        if len(commandWhere) == 0:\n",
    "            command = commandInit + commandOtherFiles + commandMatch + (\", \".join(commandMatchMoreFiles)) + \"'\"\n",
    "        else:\n",
    "            command = commandInit + commandOtherFiles + commandMatch + (\", \".join(commandMatchMoreFiles)) + \"'\" + \" --where '\"+(\" and \".join(commandWhere))+\"'\"\n",
    "        \n",
    "        if cnt % 20 == 0:\n",
    "            fCnt += 1\n",
    "            fOP = open(\"../../propertiesSplit/checkViolations/\" + shellFileSuffix + str(fCnt) + \".sh\",\"w\")\n",
    "        \n",
    "        if len(excptns) == 0:\n",
    "            commandRest = \" --return 'distinct nodeProp.id, node1 as `node1`, nodeProp.label as `label`, node2 as `node2`'  \\\n",
    "            -o ../../allConstraintsAnalysis/\" + folderName + \"/\" + subFolderName + \"/claims.\"+ prop +\".correct.tsv \\\n",
    "            --graph-cache ~/sqlite3_caches/codep_new2_03_\" + str(fCnt) + \".sqlite3.db; } 2>> ../../propertiesSplit/checkViolations/exec_logs/timeLog_\" + shellFileSuffix + str(fCnt) + \".txt; \\\n",
    "             kgtk --debug ifnotexists -i ../../propertiesSplit/claims.\"+ prop +\".tsv \\\n",
    "            --filter-on ../../allConstraintsAnalysis/\" + folderName + \"/\" + subFolderName + \"/claims.\"+ prop +\".correct.tsv \\\n",
    "            --filter-mode NONE \\\n",
    "            --input-keys node1 label \\\n",
    "            --filter-keys node1 label \"\n",
    "            \n",
    "            commandOPFile = \"-o ../../allConstraintsAnalysis/\" + folderName + \"/\" + subFolderName + \"/claims.\"+ prop +\".\"\n",
    "            \n",
    "            command += commandRest + commandOPFile + \"incorrect.tsv\\n\"\n",
    "            fOP.write(command)\n",
    "        else:\n",
    "            commandRest = \" --return 'distinct nodeProp.id, node1 as `node1`, nodeProp.label as `label`, node2 as `node2`'  \\\n",
    "            -o ../../allConstraintsAnalysis/\" + folderName + \"/\" + subFolderName + \"/claims.\"+ prop +\".correct_wo_exceptions.tsv \\\n",
    "            --graph-cache ~/sqlite3_caches/codep_new2_03_\" + str(fCnt) + \".sqlite3.db; } 2>> ../../propertiesSplit/checkViolations/exec_logs/timeLog_\" + shellFileSuffix + str(fCnt) + \".txt; \\\n",
    "             kgtk --debug ifnotexists -i ../../propertiesSplit/claims.\"+ prop +\".tsv \\\n",
    "            --filter-on ../../allConstraintsAnalysis/\" + folderName + \"/\" + subFolderName + \"/claims.\"+ prop +\".correct_wo_exceptions.tsv \\\n",
    "            --filter-mode NONE \\\n",
    "            --input-keys node1 label \\\n",
    "            --filter-keys node1 label \"\n",
    "            \n",
    "            commandOPFile = \"-o ../../allConstraintsAnalysis/\" + folderName + \"/\" + subFolderName + \"/claims.\"+ prop +\".\"\n",
    "            \n",
    "            command += commandRest + commandOPFile + \"incorrect_wo_exceptions.tsv\\n\"\n",
    "            fOP.write(command)\n",
    "            \n",
    "            command = \"  { time kgtk --debug query -i ../../allConstraintsAnalysis/\" + folderName + \"/\" + subFolderName + \"/claims.\" + prop + \".incorrect_wo_exceptions.tsv \\\n",
    "                    --match '(node1)-[]->()' --where 'node1 in \" + str(list(excptns)).replace(\"'\",'\"') + \"' -o ../../allConstraintsAnalysis/\" + folderName + \"/\" + subFolderName + \"/claims.\" + prop + \".incorrect_w_exceptions.tsv --graph-cache ~/sqlite3_caches/codep_new2_03_\" + str(fCnt) + \".sqlite3.db; } 2>> ../../propertiesSplit/checkViolations/exec_logs/timeLog_\" + shellFileSuffix + str(fCnt) + \".txt\\n\"\n",
    "            fOP.write(command)\n",
    "            \n",
    "            command = \"  kgtk --debug ifnotexists -i ../../allConstraintsAnalysis/\" + folderName + \"/\" + subFolderName + \"/claims.\" + prop + \".incorrect_wo_exceptions.tsv \\\n",
    "            --filter-on ../../allConstraintsAnalysis/\" + folderName + \"/\" + subFolderName + \"/claims.\" + prop + \".incorrect_w_exceptions.tsv \\\n",
    "            --filter-mode NONE \\\n",
    "            --input-keys node1 label \\\n",
    "            --filter-keys node1 label \\\n",
    "            -o ../../allConstraintsAnalysis/\" + folderName + \"/\" + subFolderName + \"/claims.\"+ prop +\".incorrect.tsv\\n\"\n",
    "            fOP.write(command)\n",
    "            \n",
    "            command = \"  kgtk cat -i ../../allConstraintsAnalysis/\" + folderName + \"/\" + subFolderName + \"/claims.\"+ prop +\".correct_wo_exceptions.tsv \\\n",
    "                    ../../allConstraintsAnalysis/\" + folderName + \"/\" + subFolderName + \"/claims.\"+ prop +\".incorrect_w_exceptions.tsv \\\n",
    "                    -o ../../allConstraintsAnalysis/\" + folderName + \"/\" + subFolderName + \"/claims.\"+ prop +\".correct.tsv\\n\"\n",
    "            fOP.write(command)\n",
    "        \n",
    "        \n",
    "        cnt += 1\n",
    "#     except:\n",
    "#         print(\"Something failed for prop:\",prop)"
   ]
  },
  {
   "cell_type": "code",
   "execution_count": 16,
   "id": "searching-individual",
   "metadata": {},
   "outputs": [
    {
     "data": {
      "text/plain": [
       "468"
      ]
     },
     "execution_count": 16,
     "metadata": {},
     "output_type": "execute_result"
    }
   ],
   "source": [
    "cnt"
   ]
  },
  {
   "cell_type": "code",
   "execution_count": 30,
   "id": "silver-clarity",
   "metadata": {},
   "outputs": [],
   "source": [
    "# import os\n",
    "# for i in range(1,25):\n",
    "#     os.system(\"screen -dm sh ../../propertiesSplit/checkViolations/codepConst_MN_Validator_new2_\"+str(i)+\".sh\")"
   ]
  },
  {
   "cell_type": "markdown",
   "id": "prescription-access",
   "metadata": {},
   "source": [
    "#### Version 3 - Mandatory"
   ]
  },
  {
   "cell_type": "code",
   "execution_count": 26,
   "id": "married-porter",
   "metadata": {},
   "outputs": [
    {
     "data": {
      "application/vnd.jupyter.widget-view+json": {
       "model_id": "8777c64b91ed4952aa40607c6eb919b6",
       "version_major": 2,
       "version_minor": 0
      },
      "text/plain": [
       "  0%|          | 0/3147 [00:00<?, ?it/s]"
      ]
     },
     "metadata": {},
     "output_type": "display_data"
    },
    {
     "name": "stdout",
     "output_type": "stream",
     "text": [
      "File: ../../propertiesSplit/claims.P1627.tsv does not exist\n"
     ]
    }
   ],
   "source": [
    "from tqdm.notebook import tqdm\n",
    "import os.path\n",
    "import os\n",
    "\n",
    "cnt = 0\n",
    "fCnt = 0\n",
    "\n",
    "folderName = 'codependencyConstraint_Final'\n",
    "subFolderName = \"Mand\"\n",
    "shellFileSuffix = 'codepConst_M_Validator_new2_'\n",
    "\n",
    "for prop in tqdm(dfItemRequires.index.unique()):\n",
    "#     try:\n",
    "        mandatory = []\n",
    "        suggestion = []\n",
    "        normal = []\n",
    "        prop = str(prop)\n",
    "        \n",
    "        for _, constraint in dfItemRequires.loc[[prop]].iterrows():\n",
    "            if type(constraint['P2316']) == list:\n",
    "                if constraint['P2316'][0] == 'Q21502408':\n",
    "                    mandatory.append(constraint)\n",
    "                elif constraint['P2316'][0] == 'Q62026391':\n",
    "                    suggestion.append(constraint)\n",
    "            else:\n",
    "                normal.append(constraint)\n",
    "        \n",
    "        if not(os.path.isfile(\"../../propertiesSplit/claims.\"+ prop +\".tsv\")):\n",
    "            continue\n",
    "                \n",
    "        commandInit = \"{ time kgtk --debug query -i ../../propertiesSplit/claims.\"+ prop +\".tsv \"\n",
    "        commandOtherFiles = \"\"\n",
    "        commandMatch = \"--match '\"\n",
    "        commandMatchMoreFiles = [f\"{prop}: (node1)-[nodeProp]->(node2)\"]\n",
    "        commandWhere = \" --where '\"\n",
    "        commandWhere = []\n",
    "        \n",
    "        # Version 1 <<<<<<<<<<<<<<<<<<<<<<<<<<<<<<<<<<<<<<<<<<<<<<<<<<<<<<<<<<<<<<<<<<<<<<<<<<<<<<<<<<\n",
    "        constSet = mandatory\n",
    "        \n",
    "        if len(constSet) == 0:\n",
    "            continue\n",
    "        excptns = set()\n",
    "        for (rowNo, constraint) in enumerate(constSet):\n",
    "            prop2 = constraint['P2306']\n",
    "            \n",
    "            if type(prop2) != list:\n",
    "                continue\n",
    "            prop2 = prop2[0]\n",
    "                \n",
    "            if not(os.path.isfile(\"../../propertiesSplit/claims.\"+ prop2 +\".tsv\")):\n",
    "                print(f\"File: ../../propertiesSplit/claims.{prop2}.tsv does not exist\")\n",
    "                continue\n",
    "            \n",
    "            commandOtherFiles += \"../../propertiesSplit/claims.\"+ prop2 +\".tsv \"\n",
    "            if type(constraint['P2303']) == list: # Exceptions present\n",
    "                if len(excptns) == 0:\n",
    "                    excptns = set(constraint['P2303'])\n",
    "                else:\n",
    "                    excptns = excptns.intersection(set(constraint['P2303']))\n",
    "            if type(constraint['P2305']) == list:\n",
    "                commandMatchMoreFiles += [f\"{prop2}: (node1)-[]->(node2_{prop2})\"]\n",
    "                commandWhere += [\"node2_\" + prop2 + \" in \" + str(list(constraint['P2305'])).replace(\"'\",'\"')]\n",
    "            else:\n",
    "                commandMatchMoreFiles += [f\"{prop2}: (node1)-[]->()\"]\n",
    "#         print(commandMatchMoreFiles)\n",
    "        if len(commandWhere) == 0:\n",
    "            command = commandInit + commandOtherFiles + commandMatch + (\", \".join(commandMatchMoreFiles)) + \"'\"\n",
    "        else:\n",
    "            command = commandInit + commandOtherFiles + commandMatch + (\", \".join(commandMatchMoreFiles)) + \"'\" + \" --where '\"+(\" and \".join(commandWhere))+\"'\"\n",
    "        \n",
    "        if cnt % 20 == 0:\n",
    "            fCnt += 1\n",
    "            fOP = open(\"../../propertiesSplit/checkViolations/\" + shellFileSuffix + str(fCnt) + \".sh\",\"w\")\n",
    "        \n",
    "        if len(excptns) == 0:\n",
    "            commandRest = \" --return 'distinct nodeProp.id, node1 as `node1`, nodeProp.label as `label`, node2 as `node2`'  \\\n",
    "            -o ../../allConstraintsAnalysis/\" + folderName + \"/\" + subFolderName + \"/claims.\"+ prop +\".correct.tsv \\\n",
    "            --graph-cache ~/sqlite3_caches/codep_new2_02_\" + str(fCnt) + \".sqlite3.db; } 2>> ../../propertiesSplit/checkViolations/exec_logs/timeLog_\" + shellFileSuffix + str(fCnt) + \".txt; \\\n",
    "             kgtk --debug ifnotexists -i ../../propertiesSplit/claims.\"+ prop +\".tsv \\\n",
    "            --filter-on ../../allConstraintsAnalysis/\" + folderName + \"/\" + subFolderName + \"/claims.\"+ prop +\".correct.tsv \\\n",
    "            --filter-mode NONE \\\n",
    "            --input-keys node1 label \\\n",
    "            --filter-keys node1 label \"\n",
    "            \n",
    "            commandOPFile = \"-o ../../allConstraintsAnalysis/\" + folderName + \"/\" + subFolderName + \"/claims.\"+ prop +\".\"\n",
    "            \n",
    "            command += commandRest + commandOPFile + \"incorrect.tsv\\n\"\n",
    "            fOP.write(command)\n",
    "        else:\n",
    "            commandRest = \" --return 'distinct nodeProp.id, node1 as `node1`, nodeProp.label as `label`, node2 as `node2`'  \\\n",
    "            -o ../../allConstraintsAnalysis/\" + folderName + \"/\" + subFolderName + \"/claims.\"+ prop +\".correct_wo_exceptions.tsv \\\n",
    "            --graph-cache ~/sqlite3_caches/codep_new2_02_\" + str(fCnt) + \".sqlite3.db; } 2>> ../../propertiesSplit/checkViolations/exec_logs/timeLog_\" + shellFileSuffix + str(fCnt) + \".txt; \\\n",
    "             kgtk --debug ifnotexists -i ../../propertiesSplit/claims.\"+ prop +\".tsv \\\n",
    "            --filter-on ../../allConstraintsAnalysis/\" + folderName + \"/\" + subFolderName + \"/claims.\"+ prop +\".correct_wo_exceptions.tsv \\\n",
    "            --filter-mode NONE \\\n",
    "            --input-keys node1 label \\\n",
    "            --filter-keys node1 label \"\n",
    "            \n",
    "            commandOPFile = \"-o ../../allConstraintsAnalysis/\" + folderName + \"/\" + subFolderName + \"/claims.\"+ prop +\".\"\n",
    "            \n",
    "            command += commandRest + commandOPFile + \"incorrect_wo_exceptions.tsv\\n\"\n",
    "            fOP.write(command)\n",
    "            \n",
    "            command = \"  { time kgtk --debug query -i ../../allConstraintsAnalysis/\" + folderName + \"/\" + subFolderName + \"/claims.\" + prop + \".incorrect_wo_exceptions.tsv \\\n",
    "                    --match '(node1)-[]->()' --where 'node1 in \" + str(list(excptns)).replace(\"'\",'\"') + \"' -o ../../allConstraintsAnalysis/\" + folderName + \"/\" + subFolderName + \"/claims.\" + prop + \".incorrect_w_exceptions.tsv --graph-cache ~/sqlite3_caches/codep_new2_02_\" + str(fCnt) + \".sqlite3.db; } 2>> ../../propertiesSplit/checkViolations/exec_logs/timeLog_\" + shellFileSuffix + str(fCnt) + \".txt\\n\"\n",
    "            fOP.write(command)\n",
    "            \n",
    "            command = \"  kgtk --debug ifnotexists -i ../../allConstraintsAnalysis/\" + folderName + \"/\" + subFolderName + \"/claims.\" + prop + \".incorrect_wo_exceptions.tsv \\\n",
    "            --filter-on ../../allConstraintsAnalysis/\" + folderName + \"/\" + subFolderName + \"/claims.\" + prop + \".incorrect_w_exceptions.tsv \\\n",
    "            --filter-mode NONE \\\n",
    "            --input-keys node1 label \\\n",
    "            --filter-keys node1 label \\\n",
    "            -o ../../allConstraintsAnalysis/\" + folderName + \"/\" + subFolderName + \"/claims.\"+ prop +\".incorrect.tsv\\n\"\n",
    "            fOP.write(command)\n",
    "            \n",
    "            command = \"  kgtk cat -i ../../allConstraintsAnalysis/\" + folderName + \"/\" + subFolderName + \"/claims.\"+ prop +\".correct_wo_exceptions.tsv \\\n",
    "                    ../../allConstraintsAnalysis/\" + folderName + \"/\" + subFolderName + \"/claims.\"+ prop +\".incorrect_w_exceptions.tsv \\\n",
    "                    -o ../../allConstraintsAnalysis/\" + folderName + \"/\" + subFolderName + \"/claims.\"+ prop +\".correct.tsv\\n\"\n",
    "            fOP.write(command)\n",
    "        \n",
    "        \n",
    "        cnt += 1\n",
    "#     except:\n",
    "#         print(\"Something failed for prop:\",prop)"
   ]
  },
  {
   "cell_type": "code",
   "execution_count": 18,
   "id": "according-blackberry",
   "metadata": {},
   "outputs": [
    {
     "data": {
      "text/plain": [
       "78"
      ]
     },
     "execution_count": 18,
     "metadata": {},
     "output_type": "execute_result"
    }
   ],
   "source": [
    "cnt"
   ]
  },
  {
   "cell_type": "code",
   "execution_count": 27,
   "id": "extraordinary-drawing",
   "metadata": {},
   "outputs": [],
   "source": [
    "# import os\n",
    "# for i in range(1,5):\n",
    "#     os.system(\"screen -dm sh ../../propertiesSplit/checkViolations/codepConst_M_Validator_new2_\"+str(i)+\".sh\")"
   ]
  },
  {
   "cell_type": "markdown",
   "id": "subsequent-brown",
   "metadata": {},
   "source": [
    "#### Version 4 - Normal"
   ]
  },
  {
   "cell_type": "code",
   "execution_count": 29,
   "id": "operational-migration",
   "metadata": {},
   "outputs": [
    {
     "data": {
      "application/vnd.jupyter.widget-view+json": {
       "model_id": "ee03d63eec664ca59be1a552b0efdff4",
       "version_major": 2,
       "version_minor": 0
      },
      "text/plain": [
       "  0%|          | 0/3147 [00:00<?, ?it/s]"
      ]
     },
     "metadata": {},
     "output_type": "display_data"
    },
    {
     "name": "stdout",
     "output_type": "stream",
     "text": [
      "File: ../../propertiesSplit/claims.P345.tsv does not exist\n",
      "File: ../../propertiesSplit/claims.P2604.tsv does not exist\n",
      "File: ../../propertiesSplit/claims.P1566.tsv does not exist\n",
      "File: ../../propertiesSplit/claims.P2355.tsv does not exist\n",
      "File: ../../propertiesSplit/claims.P1014.tsv does not exist\n",
      "File: ../../propertiesSplit/claims.P2636.tsv does not exist\n",
      "File: ../../propertiesSplit/claims.P1771.tsv does not exist\n",
      "File: ../../propertiesSplit/claims.P2755.tsv does not exist\n",
      "File: ../../propertiesSplit/claims.P8326.tsv does not exist\n",
      "File: ../../propertiesSplit/claims.P954.tsv does not exist\n",
      "File: ../../propertiesSplit/claims.P498.tsv does not exist\n",
      "File: ../../propertiesSplit/claims.P1297.tsv does not exist\n",
      "File: ../../propertiesSplit/claims.P8680.tsv does not exist\n",
      "File: ../../propertiesSplit/claims.P715.tsv does not exist\n",
      "File: ../../propertiesSplit/claims.P2606.tsv does not exist\n",
      "File: ../../propertiesSplit/claims.P8303.tsv does not exist\n",
      "File: ../../propertiesSplit/claims.P1874.tsv does not exist\n"
     ]
    }
   ],
   "source": [
    "from tqdm.notebook import tqdm\n",
    "import os.path\n",
    "import os\n",
    "\n",
    "cnt = 0\n",
    "fCnt = 0\n",
    "\n",
    "folderName = 'codependencyConstraint_Final'\n",
    "subFolderName = \"Normal\"\n",
    "shellFileSuffix = 'codepConst_N_Validator_new2_'\n",
    "\n",
    "for prop in tqdm(dfItemRequires.index.unique()):\n",
    "#     try:\n",
    "        mandatory = []\n",
    "        suggestion = []\n",
    "        normal = []\n",
    "        prop = str(prop)\n",
    "        \n",
    "        for _, constraint in dfItemRequires.loc[[prop]].iterrows():\n",
    "            if type(constraint['P2316']) == list:\n",
    "                if constraint['P2316'][0] == 'Q21502408':\n",
    "                    mandatory.append(constraint)\n",
    "                elif constraint['P2316'][0] == 'Q62026391':\n",
    "                    suggestion.append(constraint)\n",
    "            else:\n",
    "                normal.append(constraint)\n",
    "        \n",
    "        if not(os.path.isfile(\"../../propertiesSplit/claims.\"+ prop +\".tsv\")):\n",
    "            continue\n",
    "                \n",
    "        commandInit = \"{ time kgtk --debug query -i ../../propertiesSplit/claims.\"+ prop +\".tsv \"\n",
    "        commandOtherFiles = \"\"\n",
    "        commandMatch = \"--match '\"\n",
    "        commandMatchMoreFiles = [f\"{prop}: (node1)-[nodeProp]->(node2)\"]\n",
    "        commandWhere = \" --where '\"\n",
    "        commandWhere = []\n",
    "        \n",
    "        # Version 1 <<<<<<<<<<<<<<<<<<<<<<<<<<<<<<<<<<<<<<<<<<<<<<<<<<<<<<<<<<<<<<<<<<<<<<<<<<<<<<<<<<\n",
    "        constSet = normal\n",
    "        \n",
    "        if len(constSet) == 0:\n",
    "            continue\n",
    "        excptns = set()\n",
    "        for (rowNo, constraint) in enumerate(constSet):\n",
    "            prop2 = constraint['P2306']\n",
    "            \n",
    "            if type(prop2) != list:\n",
    "                continue\n",
    "            prop2 = prop2[0]\n",
    "                \n",
    "            if not(os.path.isfile(\"../../propertiesSplit/claims.\"+ prop2 +\".tsv\")):\n",
    "                print(f\"File: ../../propertiesSplit/claims.{prop2}.tsv does not exist\")\n",
    "                continue\n",
    "            \n",
    "            commandOtherFiles += \"../../propertiesSplit/claims.\"+ prop2 +\".tsv \"\n",
    "            if type(constraint['P2303']) == list: # Exceptions present\n",
    "                if len(excptns) == 0:\n",
    "                    excptns = set(constraint['P2303'])\n",
    "                else:\n",
    "                    excptns = excptns.intersection(set(constraint['P2303']))\n",
    "            if type(constraint['P2305']) == list:\n",
    "                commandMatchMoreFiles += [f\"{prop2}: (node1)-[]->(node2_{prop2})\"]\n",
    "                commandWhere += [\"node2_\" + prop2 + \" in \" + str(list(constraint['P2305'])).replace(\"'\",'\"')]\n",
    "            else:\n",
    "                commandMatchMoreFiles += [f\"{prop2}: (node1)-[]->()\"]\n",
    "#         print(commandMatchMoreFiles)\n",
    "        if len(commandWhere) == 0:\n",
    "            command = commandInit + commandOtherFiles + commandMatch + (\", \".join(commandMatchMoreFiles)) + \"'\"\n",
    "        else:\n",
    "            command = commandInit + commandOtherFiles + commandMatch + (\", \".join(commandMatchMoreFiles)) + \"'\" + \" --where '\"+(\" and \".join(commandWhere))+\"'\"\n",
    "        \n",
    "        if cnt % 20 == 0:\n",
    "            fCnt += 1\n",
    "            fOP = open(\"../../propertiesSplit/checkViolations/\" + shellFileSuffix + str(fCnt) + \".sh\",\"w\")\n",
    "        \n",
    "        if len(excptns) == 0:\n",
    "            commandRest = \" --return 'distinct nodeProp.id, node1 as `node1`, nodeProp.label as `label`, node2 as `node2`'  \\\n",
    "            -o ../../allConstraintsAnalysis/\" + folderName + \"/\" + subFolderName + \"/claims.\"+ prop +\".correct.tsv \\\n",
    "            --graph-cache ~/sqlite3_caches/codep_new2_04_\" + str(fCnt) + \".sqlite3.db; } 2>> ../../propertiesSplit/checkViolations/exec_logs/timeLog_\" + shellFileSuffix + str(fCnt) + \".txt; \\\n",
    "             kgtk --debug ifnotexists -i ../../propertiesSplit/claims.\"+ prop +\".tsv \\\n",
    "            --filter-on ../../allConstraintsAnalysis/\" + folderName + \"/\" + subFolderName + \"/claims.\"+ prop +\".correct.tsv \\\n",
    "            --filter-mode NONE \\\n",
    "            --input-keys node1 label \\\n",
    "            --filter-keys node1 label \"\n",
    "            \n",
    "            commandOPFile = \"-o ../../allConstraintsAnalysis/\" + folderName + \"/\" + subFolderName + \"/claims.\"+ prop +\".\"\n",
    "            \n",
    "            command += commandRest + commandOPFile + \"incorrect.tsv\\n\"\n",
    "            fOP.write(command)\n",
    "        else:\n",
    "            commandRest = \" --return 'distinct nodeProp.id, node1 as `node1`, nodeProp.label as `label`, node2 as `node2`'  \\\n",
    "            -o ../../allConstraintsAnalysis/\" + folderName + \"/\" + subFolderName + \"/claims.\"+ prop +\".correct_wo_exceptions.tsv \\\n",
    "            --graph-cache ~/sqlite3_caches/codep_new2_04_\" + str(fCnt) + \".sqlite3.db; } 2>> ../../propertiesSplit/checkViolations/exec_logs/timeLog_\" + shellFileSuffix + str(fCnt) + \".txt; \\\n",
    "             kgtk --debug ifnotexists -i ../../propertiesSplit/claims.\"+ prop +\".tsv \\\n",
    "            --filter-on ../../allConstraintsAnalysis/\" + folderName + \"/\" + subFolderName + \"/claims.\"+ prop +\".correct_wo_exceptions.tsv \\\n",
    "            --filter-mode NONE \\\n",
    "            --input-keys node1 label \\\n",
    "            --filter-keys node1 label \"\n",
    "            \n",
    "            commandOPFile = \"-o ../../allConstraintsAnalysis/\" + folderName + \"/\" + subFolderName + \"/claims.\"+ prop +\".\"\n",
    "            \n",
    "            command += commandRest + commandOPFile + \"incorrect_wo_exceptions.tsv\\n\"\n",
    "            fOP.write(command)\n",
    "            \n",
    "            command = \"  { time kgtk --debug query -i ../../allConstraintsAnalysis/\" + folderName + \"/\" + subFolderName + \"/claims.\" + prop + \".incorrect_wo_exceptions.tsv \\\n",
    "                    --match '(node1)-[]->()' --where 'node1 in \" + str(list(excptns)).replace(\"'\",'\"') + \"' -o ../../allConstraintsAnalysis/\" + folderName + \"/\" + subFolderName + \"/claims.\" + prop + \".incorrect_w_exceptions.tsv --graph-cache ~/sqlite3_caches/codep_new2_04_\" + str(fCnt) + \".sqlite3.db; } 2>> ../../propertiesSplit/checkViolations/exec_logs/timeLog_\" + shellFileSuffix + str(fCnt) + \".txt\\n\"\n",
    "            fOP.write(command)\n",
    "            \n",
    "            command = \"  kgtk --debug ifnotexists -i ../../allConstraintsAnalysis/\" + folderName + \"/\" + subFolderName + \"/claims.\" + prop + \".incorrect_wo_exceptions.tsv \\\n",
    "            --filter-on ../../allConstraintsAnalysis/\" + folderName + \"/\" + subFolderName + \"/claims.\" + prop + \".incorrect_w_exceptions.tsv \\\n",
    "            --filter-mode NONE \\\n",
    "            --input-keys node1 label \\\n",
    "            --filter-keys node1 label \\\n",
    "            -o ../../allConstraintsAnalysis/\" + folderName + \"/\" + subFolderName + \"/claims.\"+ prop +\".incorrect.tsv\\n\"\n",
    "            fOP.write(command)\n",
    "            \n",
    "            command = \"  kgtk cat -i ../../allConstraintsAnalysis/\" + folderName + \"/\" + subFolderName + \"/claims.\"+ prop +\".correct_wo_exceptions.tsv \\\n",
    "                    ../../allConstraintsAnalysis/\" + folderName + \"/\" + subFolderName + \"/claims.\"+ prop +\".incorrect_w_exceptions.tsv \\\n",
    "                    -o ../../allConstraintsAnalysis/\" + folderName + \"/\" + subFolderName + \"/claims.\"+ prop +\".correct.tsv\\n\"\n",
    "            fOP.write(command)\n",
    "        \n",
    "        \n",
    "        cnt += 1\n",
    "#     except:\n",
    "#         print(\"Something failed for prop:\",prop)"
   ]
  },
  {
   "cell_type": "code",
   "execution_count": 20,
   "id": "harmful-binary",
   "metadata": {},
   "outputs": [
    {
     "data": {
      "text/plain": [
       "418"
      ]
     },
     "execution_count": 20,
     "metadata": {},
     "output_type": "execute_result"
    }
   ],
   "source": [
    "cnt"
   ]
  },
  {
   "cell_type": "code",
   "execution_count": 31,
   "id": "advance-married",
   "metadata": {},
   "outputs": [],
   "source": [
    "# import os\n",
    "# for i in range(1,23):\n",
    "#     os.system(\"screen -dm sh ../../propertiesSplit/checkViolations/codepConst_N_Validator_new2_\"+str(i)+\".sh\")"
   ]
  },
  {
   "cell_type": "markdown",
   "id": "structural-envelope",
   "metadata": {},
   "source": [
    "### Merge all correct/incorrect outputs"
   ]
  },
  {
   "cell_type": "code",
   "execution_count": 17,
   "id": "joined-invention",
   "metadata": {},
   "outputs": [
    {
     "data": {
      "application/vnd.jupyter.widget-view+json": {
       "model_id": "57dcbdd4c8014c9288dbb92b331a05a6",
       "version_major": 2,
       "version_minor": 0
      },
      "text/plain": [
       "0it [00:00, ?it/s]"
      ]
     },
     "metadata": {},
     "output_type": "display_data"
    }
   ],
   "source": [
    "# import os\n",
    "# from tqdm.notebook import tqdm\n",
    "\n",
    "# for folder in tqdm(iter(['Mand_Sugg_Normal', 'Mand_Normal', 'Mand', 'Normal'])):\n",
    "#     folderPath = \"../../allConstraintsAnalysis/codependencyConstraint/\" + folder + \"/\"\n",
    "#     correct_files_list = \" \".join([folderPath + f for f in filter(lambda f: \".correct.\" in f, os.listdir(folderPath))])\n",
    "#     incorrect_files_list = \" \".join([folderPath + f for f in filter(lambda f: \".incorrect.\" in f, os.listdir(folderPath))])\n",
    "# #     print(files_list)\n",
    "#     os.system(\"{ kgtk cat -i \"+ correct_files_list + \" -o \"+folderPath+\"claims.all.correctSuperSet.tsv -v True; } 2> \"+folderPath+\"claims.all.correctSuperSet.log\")\n",
    "#     os.system(\"{ kgtk cat -i \"+ incorrect_files_list + \" -o \"+folderPath+\"claims.all.incorrectSuperSet.tsv -v True; } 2> \"+folderPath+\"claims.all.incorrectSuperSet.log\")"
   ]
  },
  {
   "cell_type": "code",
   "execution_count": 15,
   "id": "stopped-bolivia",
   "metadata": {},
   "outputs": [
    {
     "data": {
      "application/vnd.jupyter.widget-view+json": {
       "model_id": "68395f72036a469fad8908d916303bcd",
       "version_major": 2,
       "version_minor": 0
      },
      "text/plain": [
       "0it [00:00, ?it/s]"
      ]
     },
     "metadata": {},
     "output_type": "display_data"
    }
   ],
   "source": [
    "# import os\n",
    "# from tqdm.notebook import tqdm\n",
    "\n",
    "# for folder in tqdm(iter(['Mand_Sugg_Normal', 'Mand_Normal', 'Mand', 'Normal'])):\n",
    "#     folderPath = \"../../allConstraintsAnalysis/codependencyConstraint_Final/\" + folder + \"/\"\n",
    "#     correct_files_list = \" \".join([folderPath + f for f in filter(lambda f: \".correct.\" in f, os.listdir(folderPath))])\n",
    "#     incorrect_files_list = \" \".join([folderPath + f for f in filter(lambda f: \".incorrect.\" in f, os.listdir(folderPath))])\n",
    "# #     print(files_list)\n",
    "#     os.system(\"{ kgtk cat -i \"+ correct_files_list + \" -o \"+folderPath+\"claims.all.correctSuperSet.tsv; } 2> \"+folderPath+\"claims.all.correctSuperSet.log\")\n",
    "#     os.system(\"{ kgtk cat -i \"+ incorrect_files_list + \" -o \"+folderPath+\"claims.all.incorrectSuperSet.tsv; } 2> \"+folderPath+\"claims.all.incorrectSuperSet.log\")"
   ]
  },
  {
   "cell_type": "code",
   "execution_count": null,
   "id": "criminal-central",
   "metadata": {},
   "outputs": [],
   "source": [
    "# for folder in tqdm(iter(['Mand_Sugg_Normal', 'Mand_Normal', 'Mand', 'Normal'])):\n",
    "#     folderPath = \"../../allConstraintsAnalysis/codependencyConstraint/\" + folder + \"/\"\n",
    "#     folderPathNew = \"../../allConstraintsAnalysis/codependencyConstraint_Final/\" + folder + \"/\"\n",
    "#     os.system(f\"screen -dm kgtk ifnotexists -i {folderPathNew}claims.all.correctSuperSet.tsv --filter-on {folderPath}claims.all.correctSuperSet.tsv -o {folderPathNew}claims.all.correctSuperSet.diff.tsv\")\n",
    "#     os.system(f\"screen -dm kgtk ifnotexists -i {folderPathNew}claims.all.incorrectSuperSet.tsv --filter-on {folderPath}claims.all.incorrectSuperSet.tsv -o {folderPathNew}claims.all.incorrectSuperSet.diff.tsv\")\n",
    "    "
   ]
  },
  {
   "cell_type": "markdown",
   "id": "homeless-pleasure",
   "metadata": {},
   "source": [
    "### Analyze Violations"
   ]
  },
  {
   "cell_type": "code",
   "execution_count": 2,
   "id": "welcome-dependence",
   "metadata": {
    "scrolled": true
   },
   "outputs": [
    {
     "data": {
      "application/vnd.jupyter.widget-view+json": {
       "model_id": "4a5eafa716824fb7ac75aecd5db6d0e2",
       "version_major": 2,
       "version_minor": 0
      },
      "text/plain": [
       "0it [00:00, ?it/s]"
      ]
     },
     "metadata": {},
     "output_type": "display_data"
    },
    {
     "data": {
      "application/vnd.jupyter.widget-view+json": {
       "model_id": "23894bed8d0f4347b720c2b5f1a9f141",
       "version_major": 2,
       "version_minor": 0
      },
      "text/plain": [
       "  0%|          | 0/1195 [00:00<?, ?it/s]"
      ]
     },
     "metadata": {},
     "output_type": "display_data"
    },
    {
     "data": {
      "application/vnd.jupyter.widget-view+json": {
       "model_id": "9d31d850230649e1b452caba3a0ca3dd",
       "version_major": 2,
       "version_minor": 0
      },
      "text/plain": [
       "  0%|          | 0/1057 [00:00<?, ?it/s]"
      ]
     },
     "metadata": {},
     "output_type": "display_data"
    },
    {
     "data": {
      "application/vnd.jupyter.widget-view+json": {
       "model_id": "61ca9772641f47db8dda90de38f090fd",
       "version_major": 2,
       "version_minor": 0
      },
      "text/plain": [
       "  0%|          | 0/160 [00:00<?, ?it/s]"
      ]
     },
     "metadata": {},
     "output_type": "display_data"
    },
    {
     "data": {
      "application/vnd.jupyter.widget-view+json": {
       "model_id": "52a7c85b2a43443d9b0f6c9bc6cc18ce",
       "version_major": 2,
       "version_minor": 0
      },
      "text/plain": [
       "  0%|          | 0/950 [00:00<?, ?it/s]"
      ]
     },
     "metadata": {},
     "output_type": "display_data"
    }
   ],
   "source": [
    "import pandas as pd\n",
    "import os\n",
    "from tqdm.notebook import tqdm\n",
    "\n",
    "codepConstViolations = {}\n",
    "\n",
    "def countLines(fname):\n",
    "    cnt = -1\n",
    "    with open(fname, 'r') as f:\n",
    "        for line in f:\n",
    "            cnt += 1\n",
    "    return cnt\n",
    "\n",
    "codepConstViolations = {}\n",
    "codepConstPropList = set()\n",
    "\n",
    "# codepConstViolationsSummary = {}\n",
    "\n",
    "for folder in tqdm(iter(['Mand_Sugg_Normal', 'Mand_Normal', 'Mand', 'Normal'])):\n",
    "    filePath = \"../../allConstraintsAnalysis/codependencyConstraint_Final/\"+folder+\"/\"\n",
    "    for filename in tqdm(os.listdir(filePath)):\n",
    "        prop = filename.split(\".\")[1]\n",
    "        correctness = filename.split(\".\")[2]\n",
    "        if correctness not in ['correct','incorrect']:\n",
    "            continue\n",
    "        codepConstPropList.add(prop)\n",
    "        count1 = countLines(filePath+filename)\n",
    "        if folder not in codepConstViolations:\n",
    "            codepConstViolations[folder] = {}\n",
    "        if prop not in codepConstViolations[folder]:\n",
    "            codepConstViolations[folder][prop] = {'correct': 0, 'incorrect': 0, 'paths': []}\n",
    "        codepConstViolations[folder][prop][correctness] = count1\n",
    "        codepConstViolations[folder][prop]['paths'].append(filePath+filename)\n",
    "        \n",
    "#         if folder not in codepConstViolationsSummary:\n",
    "#             codepConstViolationsSummary[folder] = {'correct': 0, 'incorrect': 0}\n",
    "#         codepConstViolationsSummary[folder][correctness] += count1"
   ]
  },
  {
   "cell_type": "code",
   "execution_count": 3,
   "id": "heated-astrology",
   "metadata": {},
   "outputs": [],
   "source": [
    "codepConstViolationsSummary = {}\n",
    "for folder in codepConstViolations.keys():\n",
    "    for prop in codepConstViolations[folder].keys():\n",
    "        if folder not in codepConstViolationsSummary:\n",
    "            codepConstViolationsSummary[folder] = {'correct': 0, 'incorrect': 0}\n",
    "        codepConstViolationsSummary[folder]['correct'] += codepConstViolations[folder][prop]['correct']\n",
    "        codepConstViolationsSummary[folder]['incorrect'] += codepConstViolations[folder][prop]['incorrect']"
   ]
  },
  {
   "cell_type": "code",
   "execution_count": 4,
   "id": "grateful-catalog",
   "metadata": {},
   "outputs": [],
   "source": [
    "for elem in codepConstViolationsSummary.keys():\n",
    "    codepConstViolationsSummary[elem]['total'] = codepConstViolationsSummary[elem]['correct'] + codepConstViolationsSummary[elem]['incorrect']\n",
    "    codepConstViolationsSummary[elem]['percIncorrect'] = codepConstViolationsSummary[elem]['incorrect'] / codepConstViolationsSummary[elem]['total'] * 100"
   ]
  },
  {
   "cell_type": "code",
   "execution_count": 5,
   "id": "physical-soviet",
   "metadata": {},
   "outputs": [
    {
     "data": {
      "text/plain": [
       "{'Mand_Sugg_Normal': {'correct': 297984434,\n",
       "  'incorrect': 4623299,\n",
       "  'total': 302607733,\n",
       "  'percIncorrect': 1.5278191849776688},\n",
       " 'Mand_Normal': {'correct': 273602683,\n",
       "  'incorrect': 2229992,\n",
       "  'total': 275832675,\n",
       "  'percIncorrect': 0.8084582437523038},\n",
       " 'Mand': {'correct': 3984740,\n",
       "  'incorrect': 717,\n",
       "  'total': 3985457,\n",
       "  'percIncorrect': 0.01799040862816987},\n",
       " 'Normal': {'correct': 272691305,\n",
       "  'incorrect': 2227002,\n",
       "  'total': 274918307,\n",
       "  'percIncorrect': 0.8100595497992792}}"
      ]
     },
     "execution_count": 5,
     "metadata": {},
     "output_type": "execute_result"
    }
   ],
   "source": [
    "codepConstViolationsSummary"
   ]
  },
  {
   "cell_type": "code",
   "execution_count": 64,
   "id": "permanent-triumph",
   "metadata": {},
   "outputs": [
    {
     "data": {
      "application/vnd.jupyter.widget-view+json": {
       "model_id": "026f661aaf7a485ca1c8f4b765370541",
       "version_major": 2,
       "version_minor": 0
      },
      "text/plain": [
       "  0%|          | 0/3147 [00:00<?, ?it/s]"
      ]
     },
     "metadata": {},
     "output_type": "display_data"
    },
    {
     "name": "stdout",
     "output_type": "stream",
     "text": [
      "File: ../../propertiesSplit/claims.P345.tsv does not exist\n",
      "File: ../../propertiesSplit/claims.P2604.tsv does not exist\n",
      "File: ../../propertiesSplit/claims.P1566.tsv does not exist\n",
      "File: ../../propertiesSplit/claims.P1566.tsv does not exist\n",
      "File: ../../propertiesSplit/claims.P2355.tsv does not exist\n",
      "File: ../../propertiesSplit/claims.P3350.tsv does not exist\n",
      "File: ../../propertiesSplit/claims.P1014.tsv does not exist\n",
      "File: ../../propertiesSplit/claims.P2636.tsv does not exist\n",
      "File: ../../propertiesSplit/claims.P1771.tsv does not exist\n",
      "File: ../../propertiesSplit/claims.P2755.tsv does not exist\n",
      "File: ../../propertiesSplit/claims.P8326.tsv does not exist\n",
      "File: ../../propertiesSplit/claims.P5128.tsv does not exist\n",
      "File: ../../propertiesSplit/claims.P1627.tsv does not exist\n",
      "File: ../../propertiesSplit/claims.P954.tsv does not exist\n",
      "File: ../../propertiesSplit/claims.P498.tsv does not exist\n",
      "File: ../../propertiesSplit/claims.P1297.tsv does not exist\n",
      "File: ../../propertiesSplit/claims.P8680.tsv does not exist\n",
      "File: ../../propertiesSplit/claims.P715.tsv does not exist\n",
      "File: ../../propertiesSplit/claims.P2606.tsv does not exist\n",
      "File: ../../propertiesSplit/claims.P8303.tsv does not exist\n",
      "File: ../../propertiesSplit/claims.P1874.tsv does not exist\n"
     ]
    }
   ],
   "source": [
    "mandatoryPropCount = 0\n",
    "suggestionPropCount = 0\n",
    "normalPropCount = 0\n",
    "for prop in tqdm(dfItemRequires.index.unique()):\n",
    "    if not(os.path.isfile(\"../../propertiesSplit/claims.\"+ prop +\".tsv\")):\n",
    "        continue\n",
    "    prop = str(prop)\n",
    "    hasMandatory = False\n",
    "    hasSuggestion = False\n",
    "    hasNormal = False\n",
    "\n",
    "    for _, constraint in dfItemRequires.loc[[prop]].iterrows():\n",
    "        prop2 = constraint['P2306']\n",
    "            \n",
    "        if type(prop2) != list:\n",
    "            continue\n",
    "        prop2 = prop2[0]\n",
    "\n",
    "        if not(os.path.isfile(\"../../propertiesSplit/claims.\"+ prop2 +\".tsv\")):\n",
    "            print(f\"File: ../../propertiesSplit/claims.{prop2}.tsv does not exist\")\n",
    "            continue\n",
    "            \n",
    "        if type(constraint['P2316']) == list:\n",
    "            if constraint['P2316'][0] == 'Q21502408':\n",
    "                hasMandatory = True\n",
    "            elif constraint['P2316'][0] == 'Q62026391':\n",
    "                hasSuggestion = True\n",
    "        else:\n",
    "            hasNormal = True\n",
    "    if hasMandatory:\n",
    "        mandatoryPropCount += 1\n",
    "    if hasSuggestion:\n",
    "        suggestionPropCount += 1\n",
    "    if hasNormal:\n",
    "        normalPropCount += 1"
   ]
  },
  {
   "cell_type": "code",
   "execution_count": 65,
   "id": "boring-tooth",
   "metadata": {},
   "outputs": [
    {
     "name": "stdout",
     "output_type": "stream",
     "text": [
      "No. of props having at least 1 mandatory constraint: 76\n",
      "No. of props having at least 1 suggestion constraint: 95\n",
      "No. of props having at least 1 normal constraint: 408\n"
     ]
    }
   ],
   "source": [
    "print(f\"No. of props having at least 1 mandatory constraint: {mandatoryPropCount}\")\n",
    "print(f\"No. of props having at least 1 suggestion constraint: {suggestionPropCount}\")\n",
    "print(f\"No. of props having at least 1 normal constraint: {normalPropCount}\")"
   ]
  },
  {
   "cell_type": "markdown",
   "id": "loving-double",
   "metadata": {},
   "source": [
    "#### Version 1 - Mand Sugg Normal"
   ]
  },
  {
   "cell_type": "code",
   "execution_count": 6,
   "id": "beautiful-xerox",
   "metadata": {},
   "outputs": [],
   "source": [
    "import pandas as pd\n",
    "codepConstDF1 = pd.DataFrame(codepConstViolations['Mand_Sugg_Normal']).T"
   ]
  },
  {
   "cell_type": "code",
   "execution_count": 7,
   "id": "genetic-venezuela",
   "metadata": {},
   "outputs": [
    {
     "data": {
      "text/html": [
       "<div>\n",
       "<style scoped>\n",
       "    .dataframe tbody tr th:only-of-type {\n",
       "        vertical-align: middle;\n",
       "    }\n",
       "\n",
       "    .dataframe tbody tr th {\n",
       "        vertical-align: top;\n",
       "    }\n",
       "\n",
       "    .dataframe thead th {\n",
       "        text-align: right;\n",
       "    }\n",
       "</style>\n",
       "<table border=\"1\" class=\"dataframe\">\n",
       "  <thead>\n",
       "    <tr style=\"text-align: right;\">\n",
       "      <th></th>\n",
       "      <th>correct</th>\n",
       "      <th>incorrect</th>\n",
       "      <th>paths</th>\n",
       "    </tr>\n",
       "  </thead>\n",
       "  <tbody>\n",
       "    <tr>\n",
       "      <th>P1345</th>\n",
       "      <td>113</td>\n",
       "      <td>48</td>\n",
       "      <td>[../../allConstraintsAnalysis/codependencyCons...</td>\n",
       "    </tr>\n",
       "    <tr>\n",
       "      <th>P3610</th>\n",
       "      <td>3519</td>\n",
       "      <td>64</td>\n",
       "      <td>[../../allConstraintsAnalysis/codependencyCons...</td>\n",
       "    </tr>\n",
       "    <tr>\n",
       "      <th>P1464</th>\n",
       "      <td>35000</td>\n",
       "      <td>831</td>\n",
       "      <td>[../../allConstraintsAnalysis/codependencyCons...</td>\n",
       "    </tr>\n",
       "    <tr>\n",
       "      <th>P1629</th>\n",
       "      <td>7531</td>\n",
       "      <td>88</td>\n",
       "      <td>[../../allConstraintsAnalysis/codependencyCons...</td>\n",
       "    </tr>\n",
       "    <tr>\n",
       "      <th>P3909</th>\n",
       "      <td>125</td>\n",
       "      <td>76</td>\n",
       "      <td>[../../allConstraintsAnalysis/codependencyCons...</td>\n",
       "    </tr>\n",
       "    <tr>\n",
       "      <th>...</th>\n",
       "      <td>...</td>\n",
       "      <td>...</td>\n",
       "      <td>...</td>\n",
       "    </tr>\n",
       "    <tr>\n",
       "      <th>P6261</th>\n",
       "      <td>5</td>\n",
       "      <td>0</td>\n",
       "      <td>[../../allConstraintsAnalysis/codependencyCons...</td>\n",
       "    </tr>\n",
       "    <tr>\n",
       "      <th>P2873</th>\n",
       "      <td>642</td>\n",
       "      <td>8</td>\n",
       "      <td>[../../allConstraintsAnalysis/codependencyCons...</td>\n",
       "    </tr>\n",
       "    <tr>\n",
       "      <th>P2875</th>\n",
       "      <td>3547</td>\n",
       "      <td>16</td>\n",
       "      <td>[../../allConstraintsAnalysis/codependencyCons...</td>\n",
       "    </tr>\n",
       "    <tr>\n",
       "      <th>P2876</th>\n",
       "      <td>51</td>\n",
       "      <td>14</td>\n",
       "      <td>[../../allConstraintsAnalysis/codependencyCons...</td>\n",
       "    </tr>\n",
       "    <tr>\n",
       "      <th>P2900</th>\n",
       "      <td>21844</td>\n",
       "      <td>813</td>\n",
       "      <td>[../../allConstraintsAnalysis/codependencyCons...</td>\n",
       "    </tr>\n",
       "  </tbody>\n",
       "</table>\n",
       "<p>527 rows × 3 columns</p>\n",
       "</div>"
      ],
      "text/plain": [
       "      correct incorrect                                              paths\n",
       "P1345     113        48  [../../allConstraintsAnalysis/codependencyCons...\n",
       "P3610    3519        64  [../../allConstraintsAnalysis/codependencyCons...\n",
       "P1464   35000       831  [../../allConstraintsAnalysis/codependencyCons...\n",
       "P1629    7531        88  [../../allConstraintsAnalysis/codependencyCons...\n",
       "P3909     125        76  [../../allConstraintsAnalysis/codependencyCons...\n",
       "...       ...       ...                                                ...\n",
       "P6261       5         0  [../../allConstraintsAnalysis/codependencyCons...\n",
       "P2873     642         8  [../../allConstraintsAnalysis/codependencyCons...\n",
       "P2875    3547        16  [../../allConstraintsAnalysis/codependencyCons...\n",
       "P2876      51        14  [../../allConstraintsAnalysis/codependencyCons...\n",
       "P2900   21844       813  [../../allConstraintsAnalysis/codependencyCons...\n",
       "\n",
       "[527 rows x 3 columns]"
      ]
     },
     "execution_count": 7,
     "metadata": {},
     "output_type": "execute_result"
    }
   ],
   "source": [
    "codepConstDF1"
   ]
  },
  {
   "cell_type": "code",
   "execution_count": 8,
   "id": "powered-residence",
   "metadata": {},
   "outputs": [],
   "source": [
    "codepConstDF1['violation_ratio'] = codepConstDF1.apply(lambda p: p.incorrect / p.correct if p.correct != 0 else p.incorrect/100, axis=1)"
   ]
  },
  {
   "cell_type": "code",
   "execution_count": 9,
   "id": "chinese-pressing",
   "metadata": {},
   "outputs": [
    {
     "data": {
      "text/html": [
       "<div>\n",
       "<style scoped>\n",
       "    .dataframe tbody tr th:only-of-type {\n",
       "        vertical-align: middle;\n",
       "    }\n",
       "\n",
       "    .dataframe tbody tr th {\n",
       "        vertical-align: top;\n",
       "    }\n",
       "\n",
       "    .dataframe thead th {\n",
       "        text-align: right;\n",
       "    }\n",
       "</style>\n",
       "<table border=\"1\" class=\"dataframe\">\n",
       "  <thead>\n",
       "    <tr style=\"text-align: right;\">\n",
       "      <th></th>\n",
       "      <th>correct</th>\n",
       "      <th>incorrect</th>\n",
       "      <th>paths</th>\n",
       "      <th>violation_ratio</th>\n",
       "    </tr>\n",
       "  </thead>\n",
       "  <tbody>\n",
       "    <tr>\n",
       "      <th>P1111</th>\n",
       "      <td>0</td>\n",
       "      <td>46327</td>\n",
       "      <td>[../../allConstraintsAnalysis/codependencyCons...</td>\n",
       "      <td>463.270000</td>\n",
       "    </tr>\n",
       "    <tr>\n",
       "      <th>P2302</th>\n",
       "      <td>0</td>\n",
       "      <td>42211</td>\n",
       "      <td>[../../allConstraintsAnalysis/codependencyCons...</td>\n",
       "      <td>422.110000</td>\n",
       "    </tr>\n",
       "    <tr>\n",
       "      <th>P2317</th>\n",
       "      <td>102</td>\n",
       "      <td>21320</td>\n",
       "      <td>[../../allConstraintsAnalysis/codependencyCons...</td>\n",
       "      <td>209.019608</td>\n",
       "    </tr>\n",
       "    <tr>\n",
       "      <th>P1995</th>\n",
       "      <td>80</td>\n",
       "      <td>9985</td>\n",
       "      <td>[../../allConstraintsAnalysis/codependencyCons...</td>\n",
       "      <td>124.812500</td>\n",
       "    </tr>\n",
       "    <tr>\n",
       "      <th>P768</th>\n",
       "      <td>133</td>\n",
       "      <td>15143</td>\n",
       "      <td>[../../allConstraintsAnalysis/codependencyCons...</td>\n",
       "      <td>113.857143</td>\n",
       "    </tr>\n",
       "    <tr>\n",
       "      <th>P5051</th>\n",
       "      <td>1</td>\n",
       "      <td>63</td>\n",
       "      <td>[../../allConstraintsAnalysis/codependencyCons...</td>\n",
       "      <td>63.000000</td>\n",
       "    </tr>\n",
       "    <tr>\n",
       "      <th>P1630</th>\n",
       "      <td>111</td>\n",
       "      <td>6220</td>\n",
       "      <td>[../../allConstraintsAnalysis/codependencyCons...</td>\n",
       "      <td>56.036036</td>\n",
       "    </tr>\n",
       "    <tr>\n",
       "      <th>P4501</th>\n",
       "      <td>419</td>\n",
       "      <td>22682</td>\n",
       "      <td>[../../allConstraintsAnalysis/codependencyCons...</td>\n",
       "      <td>54.133652</td>\n",
       "    </tr>\n",
       "    <tr>\n",
       "      <th>P2715</th>\n",
       "      <td>4</td>\n",
       "      <td>158</td>\n",
       "      <td>[../../allConstraintsAnalysis/codependencyCons...</td>\n",
       "      <td>39.500000</td>\n",
       "    </tr>\n",
       "    <tr>\n",
       "      <th>P2351</th>\n",
       "      <td>18</td>\n",
       "      <td>697</td>\n",
       "      <td>[../../allConstraintsAnalysis/codependencyCons...</td>\n",
       "      <td>38.722222</td>\n",
       "    </tr>\n",
       "    <tr>\n",
       "      <th>P8031</th>\n",
       "      <td>8</td>\n",
       "      <td>246</td>\n",
       "      <td>[../../allConstraintsAnalysis/codependencyCons...</td>\n",
       "      <td>30.750000</td>\n",
       "    </tr>\n",
       "    <tr>\n",
       "      <th>P275</th>\n",
       "      <td>5955</td>\n",
       "      <td>123578</td>\n",
       "      <td>[../../allConstraintsAnalysis/codependencyCons...</td>\n",
       "      <td>20.751973</td>\n",
       "    </tr>\n",
       "    <tr>\n",
       "      <th>P7707</th>\n",
       "      <td>25</td>\n",
       "      <td>485</td>\n",
       "      <td>[../../allConstraintsAnalysis/codependencyCons...</td>\n",
       "      <td>19.400000</td>\n",
       "    </tr>\n",
       "    <tr>\n",
       "      <th>P2376</th>\n",
       "      <td>1</td>\n",
       "      <td>19</td>\n",
       "      <td>[../../allConstraintsAnalysis/codependencyCons...</td>\n",
       "      <td>19.000000</td>\n",
       "    </tr>\n",
       "    <tr>\n",
       "      <th>P470</th>\n",
       "      <td>70</td>\n",
       "      <td>894</td>\n",
       "      <td>[../../allConstraintsAnalysis/codependencyCons...</td>\n",
       "      <td>12.771429</td>\n",
       "    </tr>\n",
       "  </tbody>\n",
       "</table>\n",
       "</div>"
      ],
      "text/plain": [
       "      correct incorrect                                              paths  \\\n",
       "P1111       0     46327  [../../allConstraintsAnalysis/codependencyCons...   \n",
       "P2302       0     42211  [../../allConstraintsAnalysis/codependencyCons...   \n",
       "P2317     102     21320  [../../allConstraintsAnalysis/codependencyCons...   \n",
       "P1995      80      9985  [../../allConstraintsAnalysis/codependencyCons...   \n",
       "P768      133     15143  [../../allConstraintsAnalysis/codependencyCons...   \n",
       "P5051       1        63  [../../allConstraintsAnalysis/codependencyCons...   \n",
       "P1630     111      6220  [../../allConstraintsAnalysis/codependencyCons...   \n",
       "P4501     419     22682  [../../allConstraintsAnalysis/codependencyCons...   \n",
       "P2715       4       158  [../../allConstraintsAnalysis/codependencyCons...   \n",
       "P2351      18       697  [../../allConstraintsAnalysis/codependencyCons...   \n",
       "P8031       8       246  [../../allConstraintsAnalysis/codependencyCons...   \n",
       "P275     5955    123578  [../../allConstraintsAnalysis/codependencyCons...   \n",
       "P7707      25       485  [../../allConstraintsAnalysis/codependencyCons...   \n",
       "P2376       1        19  [../../allConstraintsAnalysis/codependencyCons...   \n",
       "P470       70       894  [../../allConstraintsAnalysis/codependencyCons...   \n",
       "\n",
       "       violation_ratio  \n",
       "P1111       463.270000  \n",
       "P2302       422.110000  \n",
       "P2317       209.019608  \n",
       "P1995       124.812500  \n",
       "P768        113.857143  \n",
       "P5051        63.000000  \n",
       "P1630        56.036036  \n",
       "P4501        54.133652  \n",
       "P2715        39.500000  \n",
       "P2351        38.722222  \n",
       "P8031        30.750000  \n",
       "P275         20.751973  \n",
       "P7707        19.400000  \n",
       "P2376        19.000000  \n",
       "P470         12.771429  "
      ]
     },
     "execution_count": 9,
     "metadata": {},
     "output_type": "execute_result"
    }
   ],
   "source": [
    "codepConstDF1.sort_values(by=['violation_ratio'],ascending=False).head(15)"
   ]
  },
  {
   "cell_type": "code",
   "execution_count": 43,
   "id": "armed-constitution",
   "metadata": {},
   "outputs": [
    {
     "data": {
      "text/plain": [
       "['../../allConstraintsAnalysis/codependencyConstraint_Final/Mand_Sugg_Normal/claims.P2302.correct.tsv',\n",
       " '../../allConstraintsAnalysis/codependencyConstraint_Final/Mand_Sugg_Normal/claims.P2302.incorrect.tsv']"
      ]
     },
     "execution_count": 43,
     "metadata": {},
     "output_type": "execute_result"
    }
   ],
   "source": [
    "list(codepConstDF1.loc['P2302']['paths'])"
   ]
  },
  {
   "cell_type": "code",
   "execution_count": 45,
   "id": "continued-desire",
   "metadata": {},
   "outputs": [
    {
     "name": "stdout",
     "output_type": "stream",
     "text": [
      "id\tnode1\tlabel\tnode2\trank\tnode2;wikidatatype\r\n",
      "P10-P2302-Q21502404-d012aef4-0\tP10\tP2302\tQ21502404\tnormal\twikibase-item\r\n",
      "P10-P2302-Q21510851-5224fe0b-0\tP10\tP2302\tQ21510851\tnormal\twikibase-item\r\n",
      "P10-P2302-Q21510852-dde2f0ce-0\tP10\tP2302\tQ21510852\tnormal\twikibase-item\r\n",
      "P10-P2302-Q52004125-d0288d06-0\tP10\tP2302\tQ52004125\tnormal\twikibase-item\r\n",
      "P10-P2302-Q53869507-974ce3b1-0\tP10\tP2302\tQ53869507\tnormal\twikibase-item\r\n",
      "P1000-P2302-Q21510856-b2772a67-0\tP1000\tP2302\tQ21510856\tnormal\twikibase-item\r\n",
      "P1000-P2302-Q21510865-1f5093e9-0\tP1000\tP2302\tQ21510865\tnormal\twikibase-item\r\n",
      "P1000-P2302-Q53869507-36dbee67-0\tP1000\tP2302\tQ53869507\tnormal\twikibase-item\r\n",
      "P1001-P2302-Q21502838-3cc7ade2-0\tP1001\tP2302\tQ21502838\tnormal\twikibase-item\r\n"
     ]
    }
   ],
   "source": [
    "!head ../../allConstraintsAnalysis/codependencyConstraint_Final/Mand_Sugg_Normal/claims.P2302.incorrect.tsv"
   ]
  },
  {
   "cell_type": "code",
   "execution_count": 10,
   "id": "demonstrated-debut",
   "metadata": {
    "scrolled": false
   },
   "outputs": [
    {
     "data": {
      "text/html": [
       "<div>\n",
       "<style scoped>\n",
       "    .dataframe tbody tr th:only-of-type {\n",
       "        vertical-align: middle;\n",
       "    }\n",
       "\n",
       "    .dataframe tbody tr th {\n",
       "        vertical-align: top;\n",
       "    }\n",
       "\n",
       "    .dataframe thead th {\n",
       "        text-align: right;\n",
       "    }\n",
       "</style>\n",
       "<table border=\"1\" class=\"dataframe\">\n",
       "  <thead>\n",
       "    <tr style=\"text-align: right;\">\n",
       "      <th></th>\n",
       "      <th>correct</th>\n",
       "      <th>incorrect</th>\n",
       "      <th>paths</th>\n",
       "      <th>violation_ratio</th>\n",
       "    </tr>\n",
       "  </thead>\n",
       "  <tbody>\n",
       "    <tr>\n",
       "      <th>P2214</th>\n",
       "      <td>2962988</td>\n",
       "      <td>711699</td>\n",
       "      <td>[../../allConstraintsAnalysis/codependencyCons...</td>\n",
       "      <td>0.240196</td>\n",
       "    </tr>\n",
       "    <tr>\n",
       "      <th>P734</th>\n",
       "      <td>2001246</td>\n",
       "      <td>704728</td>\n",
       "      <td>[../../allConstraintsAnalysis/codependencyCons...</td>\n",
       "      <td>0.352145</td>\n",
       "    </tr>\n",
       "    <tr>\n",
       "      <th>P433</th>\n",
       "      <td>31028893</td>\n",
       "      <td>435483</td>\n",
       "      <td>[../../allConstraintsAnalysis/codependencyCons...</td>\n",
       "      <td>0.014035</td>\n",
       "    </tr>\n",
       "    <tr>\n",
       "      <th>P195</th>\n",
       "      <td>1132062</td>\n",
       "      <td>384602</td>\n",
       "      <td>[../../allConstraintsAnalysis/codependencyCons...</td>\n",
       "      <td>0.339736</td>\n",
       "    </tr>\n",
       "    <tr>\n",
       "      <th>P569</th>\n",
       "      <td>4646728</td>\n",
       "      <td>241105</td>\n",
       "      <td>[../../allConstraintsAnalysis/codependencyCons...</td>\n",
       "      <td>0.051887</td>\n",
       "    </tr>\n",
       "    <tr>\n",
       "      <th>P131</th>\n",
       "      <td>10056935</td>\n",
       "      <td>198870</td>\n",
       "      <td>[../../allConstraintsAnalysis/codependencyCons...</td>\n",
       "      <td>0.019774</td>\n",
       "    </tr>\n",
       "    <tr>\n",
       "      <th>P275</th>\n",
       "      <td>5955</td>\n",
       "      <td>123578</td>\n",
       "      <td>[../../allConstraintsAnalysis/codependencyCons...</td>\n",
       "      <td>20.751973</td>\n",
       "    </tr>\n",
       "    <tr>\n",
       "      <th>P2860</th>\n",
       "      <td>174402886</td>\n",
       "      <td>114713</td>\n",
       "      <td>[../../allConstraintsAnalysis/codependencyCons...</td>\n",
       "      <td>0.000658</td>\n",
       "    </tr>\n",
       "    <tr>\n",
       "      <th>P570</th>\n",
       "      <td>2332611</td>\n",
       "      <td>94455</td>\n",
       "      <td>[../../allConstraintsAnalysis/codependencyCons...</td>\n",
       "      <td>0.040493</td>\n",
       "    </tr>\n",
       "    <tr>\n",
       "      <th>P1540</th>\n",
       "      <td>143802</td>\n",
       "      <td>93033</td>\n",
       "      <td>[../../allConstraintsAnalysis/codependencyCons...</td>\n",
       "      <td>0.646952</td>\n",
       "    </tr>\n",
       "    <tr>\n",
       "      <th>P1539</th>\n",
       "      <td>143761</td>\n",
       "      <td>93028</td>\n",
       "      <td>[../../allConstraintsAnalysis/codependencyCons...</td>\n",
       "      <td>0.647102</td>\n",
       "    </tr>\n",
       "    <tr>\n",
       "      <th>P2017</th>\n",
       "      <td>84792</td>\n",
       "      <td>90131</td>\n",
       "      <td>[../../allConstraintsAnalysis/codependencyCons...</td>\n",
       "      <td>1.062966</td>\n",
       "    </tr>\n",
       "    <tr>\n",
       "      <th>P1435</th>\n",
       "      <td>1893874</td>\n",
       "      <td>79479</td>\n",
       "      <td>[../../allConstraintsAnalysis/codependencyCons...</td>\n",
       "      <td>0.041966</td>\n",
       "    </tr>\n",
       "    <tr>\n",
       "      <th>P1922</th>\n",
       "      <td>30451</td>\n",
       "      <td>63440</td>\n",
       "      <td>[../../allConstraintsAnalysis/codependencyCons...</td>\n",
       "      <td>2.083347</td>\n",
       "    </tr>\n",
       "    <tr>\n",
       "      <th>P708</th>\n",
       "      <td>45253</td>\n",
       "      <td>54258</td>\n",
       "      <td>[../../allConstraintsAnalysis/codependencyCons...</td>\n",
       "      <td>1.198992</td>\n",
       "    </tr>\n",
       "  </tbody>\n",
       "</table>\n",
       "</div>"
      ],
      "text/plain": [
       "         correct incorrect                                              paths  \\\n",
       "P2214    2962988    711699  [../../allConstraintsAnalysis/codependencyCons...   \n",
       "P734     2001246    704728  [../../allConstraintsAnalysis/codependencyCons...   \n",
       "P433    31028893    435483  [../../allConstraintsAnalysis/codependencyCons...   \n",
       "P195     1132062    384602  [../../allConstraintsAnalysis/codependencyCons...   \n",
       "P569     4646728    241105  [../../allConstraintsAnalysis/codependencyCons...   \n",
       "P131    10056935    198870  [../../allConstraintsAnalysis/codependencyCons...   \n",
       "P275        5955    123578  [../../allConstraintsAnalysis/codependencyCons...   \n",
       "P2860  174402886    114713  [../../allConstraintsAnalysis/codependencyCons...   \n",
       "P570     2332611     94455  [../../allConstraintsAnalysis/codependencyCons...   \n",
       "P1540     143802     93033  [../../allConstraintsAnalysis/codependencyCons...   \n",
       "P1539     143761     93028  [../../allConstraintsAnalysis/codependencyCons...   \n",
       "P2017      84792     90131  [../../allConstraintsAnalysis/codependencyCons...   \n",
       "P1435    1893874     79479  [../../allConstraintsAnalysis/codependencyCons...   \n",
       "P1922      30451     63440  [../../allConstraintsAnalysis/codependencyCons...   \n",
       "P708       45253     54258  [../../allConstraintsAnalysis/codependencyCons...   \n",
       "\n",
       "       violation_ratio  \n",
       "P2214         0.240196  \n",
       "P734          0.352145  \n",
       "P433          0.014035  \n",
       "P195          0.339736  \n",
       "P569          0.051887  \n",
       "P131          0.019774  \n",
       "P275         20.751973  \n",
       "P2860         0.000658  \n",
       "P570          0.040493  \n",
       "P1540         0.646952  \n",
       "P1539         0.647102  \n",
       "P2017         1.062966  \n",
       "P1435         0.041966  \n",
       "P1922         2.083347  \n",
       "P708          1.198992  "
      ]
     },
     "execution_count": 10,
     "metadata": {},
     "output_type": "execute_result"
    }
   ],
   "source": [
    "codepConstDF1.sort_values(by=['incorrect'],ascending=False).head(15)"
   ]
  },
  {
   "cell_type": "code",
   "execution_count": 11,
   "id": "developed-zimbabwe",
   "metadata": {
    "scrolled": true
   },
   "outputs": [
    {
     "data": {
      "text/plain": [
       "count    527.000000\n",
       "mean       3.731911\n",
       "std       30.036451\n",
       "min        0.000000\n",
       "25%        0.001076\n",
       "50%        0.029891\n",
       "75%        0.352771\n",
       "max      463.270000\n",
       "Name: violation_ratio, dtype: float64"
      ]
     },
     "execution_count": 11,
     "metadata": {},
     "output_type": "execute_result"
    }
   ],
   "source": [
    "codepConstDF1['violation_ratio'].describe()"
   ]
  },
  {
   "cell_type": "code",
   "execution_count": 12,
   "id": "unknown-johnston",
   "metadata": {},
   "outputs": [
    {
     "data": {
      "text/plain": [
       "Text(0.5, 1.0, 'Co-Dependency Constraint - Version 1 - Violation Ratios')"
      ]
     },
     "execution_count": 12,
     "metadata": {},
     "output_type": "execute_result"
    },
    {
     "data": {
      "image/png": "[encoded data removed]",
      "text/plain": [
       "<Figure size 432x288 with 1 Axes>"
      ]
     },
     "metadata": {
      "needs_background": "light"
     },
     "output_type": "display_data"
    }
   ],
   "source": [
    "codepConstDF1['violation_ratio'].plot.hist(bins=100).set_title(\"Co-Dependency Constraint - Version 1 - Violation Ratios\")"
   ]
  },
  {
   "cell_type": "code",
   "execution_count": 13,
   "id": "exceptional-dakota",
   "metadata": {
    "scrolled": true
   },
   "outputs": [
    {
     "data": {
      "text/plain": [
       "Text(0.5, 1.0, 'Co-Dependency Constraint - Version 1 - Violation Ratios <= 0.5')"
      ]
     },
     "execution_count": 13,
     "metadata": {},
     "output_type": "execute_result"
    },
    {
     "data": {
      "image/png": "[encoded data removed]",
      "text/plain": [
       "<Figure size 432x288 with 1 Axes>"
      ]
     },
     "metadata": {
      "needs_background": "light"
     },
     "output_type": "display_data"
    }
   ],
   "source": [
    "codepConstDF1[codepConstDF1['violation_ratio'] <= 0.5].violation_ratio.plot.hist(bins=100).set_title(\"Co-Dependency Constraint - Version 1 - Violation Ratios <= 0.5\")"
   ]
  },
  {
   "cell_type": "code",
   "execution_count": 69,
   "id": "interior-joseph",
   "metadata": {},
   "outputs": [
    {
     "name": "stdout",
     "output_type": "stream",
     "text": [
      "No. of properties whose violation ratio is greater than mean: 36/527\n"
     ]
    }
   ],
   "source": [
    "print(f\"No. of properties whose violation ratio is greater than mean: {sum(codepConstDF1['violation_ratio'] >= 3.539484)}/{len(codepConstDF1)}\")"
   ]
  },
  {
   "cell_type": "markdown",
   "id": "greater-genetics",
   "metadata": {},
   "source": [
    "#### Version 2 - Mand Normal"
   ]
  },
  {
   "cell_type": "code",
   "execution_count": 15,
   "id": "constant-chance",
   "metadata": {},
   "outputs": [],
   "source": [
    "import pandas as pd\n",
    "codepConstDF2 = pd.DataFrame(codepConstViolations['Mand_Normal']).T"
   ]
  },
  {
   "cell_type": "code",
   "execution_count": 16,
   "id": "included-adjustment",
   "metadata": {},
   "outputs": [
    {
     "data": {
      "text/html": [
       "<div>\n",
       "<style scoped>\n",
       "    .dataframe tbody tr th:only-of-type {\n",
       "        vertical-align: middle;\n",
       "    }\n",
       "\n",
       "    .dataframe tbody tr th {\n",
       "        vertical-align: top;\n",
       "    }\n",
       "\n",
       "    .dataframe thead th {\n",
       "        text-align: right;\n",
       "    }\n",
       "</style>\n",
       "<table border=\"1\" class=\"dataframe\">\n",
       "  <thead>\n",
       "    <tr style=\"text-align: right;\">\n",
       "      <th></th>\n",
       "      <th>correct</th>\n",
       "      <th>incorrect</th>\n",
       "      <th>paths</th>\n",
       "    </tr>\n",
       "  </thead>\n",
       "  <tbody>\n",
       "    <tr>\n",
       "      <th>P1196</th>\n",
       "      <td>85037</td>\n",
       "      <td>3039</td>\n",
       "      <td>[../../allConstraintsAnalysis/codependencyCons...</td>\n",
       "    </tr>\n",
       "    <tr>\n",
       "      <th>P1018</th>\n",
       "      <td>156</td>\n",
       "      <td>28</td>\n",
       "      <td>[../../allConstraintsAnalysis/codependencyCons...</td>\n",
       "    </tr>\n",
       "    <tr>\n",
       "      <th>P1685</th>\n",
       "      <td>4321</td>\n",
       "      <td>0</td>\n",
       "      <td>[../../allConstraintsAnalysis/codependencyCons...</td>\n",
       "    </tr>\n",
       "    <tr>\n",
       "      <th>P1843</th>\n",
       "      <td>575709</td>\n",
       "      <td>250</td>\n",
       "      <td>[../../allConstraintsAnalysis/codependencyCons...</td>\n",
       "    </tr>\n",
       "    <tr>\n",
       "      <th>P1538</th>\n",
       "      <td>194334</td>\n",
       "      <td>152</td>\n",
       "      <td>[../../allConstraintsAnalysis/codependencyCons...</td>\n",
       "    </tr>\n",
       "    <tr>\n",
       "      <th>...</th>\n",
       "      <td>...</td>\n",
       "      <td>...</td>\n",
       "      <td>...</td>\n",
       "    </tr>\n",
       "    <tr>\n",
       "      <th>P2900</th>\n",
       "      <td>21844</td>\n",
       "      <td>813</td>\n",
       "      <td>[../../allConstraintsAnalysis/codependencyCons...</td>\n",
       "    </tr>\n",
       "    <tr>\n",
       "      <th>P2916</th>\n",
       "      <td>0</td>\n",
       "      <td>1</td>\n",
       "      <td>[../../allConstraintsAnalysis/codependencyCons...</td>\n",
       "    </tr>\n",
       "    <tr>\n",
       "      <th>P2923</th>\n",
       "      <td>2687</td>\n",
       "      <td>2738</td>\n",
       "      <td>[../../allConstraintsAnalysis/codependencyCons...</td>\n",
       "    </tr>\n",
       "    <tr>\n",
       "      <th>P2929</th>\n",
       "      <td>5511</td>\n",
       "      <td>81</td>\n",
       "      <td>[../../allConstraintsAnalysis/codependencyCons...</td>\n",
       "    </tr>\n",
       "    <tr>\n",
       "      <th>P2962</th>\n",
       "      <td>26803</td>\n",
       "      <td>2</td>\n",
       "      <td>[../../allConstraintsAnalysis/codependencyCons...</td>\n",
       "    </tr>\n",
       "  </tbody>\n",
       "</table>\n",
       "<p>468 rows × 3 columns</p>\n",
       "</div>"
      ],
      "text/plain": [
       "      correct incorrect                                              paths\n",
       "P1196   85037      3039  [../../allConstraintsAnalysis/codependencyCons...\n",
       "P1018     156        28  [../../allConstraintsAnalysis/codependencyCons...\n",
       "P1685    4321         0  [../../allConstraintsAnalysis/codependencyCons...\n",
       "P1843  575709       250  [../../allConstraintsAnalysis/codependencyCons...\n",
       "P1538  194334       152  [../../allConstraintsAnalysis/codependencyCons...\n",
       "...       ...       ...                                                ...\n",
       "P2900   21844       813  [../../allConstraintsAnalysis/codependencyCons...\n",
       "P2916       0         1  [../../allConstraintsAnalysis/codependencyCons...\n",
       "P2923    2687      2738  [../../allConstraintsAnalysis/codependencyCons...\n",
       "P2929    5511        81  [../../allConstraintsAnalysis/codependencyCons...\n",
       "P2962   26803         2  [../../allConstraintsAnalysis/codependencyCons...\n",
       "\n",
       "[468 rows x 3 columns]"
      ]
     },
     "execution_count": 16,
     "metadata": {},
     "output_type": "execute_result"
    }
   ],
   "source": [
    "codepConstDF2"
   ]
  },
  {
   "cell_type": "code",
   "execution_count": 17,
   "id": "fundamental-knowing",
   "metadata": {},
   "outputs": [],
   "source": [
    "codepConstDF2['violation_ratio'] = codepConstDF2.apply(lambda p: p.incorrect / p.correct if p.correct != 0 else p.incorrect/100, axis=1)"
   ]
  },
  {
   "cell_type": "code",
   "execution_count": 18,
   "id": "harmful-discipline",
   "metadata": {},
   "outputs": [
    {
     "data": {
      "text/html": [
       "<div>\n",
       "<style scoped>\n",
       "    .dataframe tbody tr th:only-of-type {\n",
       "        vertical-align: middle;\n",
       "    }\n",
       "\n",
       "    .dataframe tbody tr th {\n",
       "        vertical-align: top;\n",
       "    }\n",
       "\n",
       "    .dataframe thead th {\n",
       "        text-align: right;\n",
       "    }\n",
       "</style>\n",
       "<table border=\"1\" class=\"dataframe\">\n",
       "  <thead>\n",
       "    <tr style=\"text-align: right;\">\n",
       "      <th></th>\n",
       "      <th>correct</th>\n",
       "      <th>incorrect</th>\n",
       "      <th>paths</th>\n",
       "      <th>violation_ratio</th>\n",
       "    </tr>\n",
       "  </thead>\n",
       "  <tbody>\n",
       "    <tr>\n",
       "      <th>P1111</th>\n",
       "      <td>0</td>\n",
       "      <td>46327</td>\n",
       "      <td>[../../allConstraintsAnalysis/codependencyCons...</td>\n",
       "      <td>463.270000</td>\n",
       "    </tr>\n",
       "    <tr>\n",
       "      <th>P1995</th>\n",
       "      <td>80</td>\n",
       "      <td>9985</td>\n",
       "      <td>[../../allConstraintsAnalysis/codependencyCons...</td>\n",
       "      <td>124.812500</td>\n",
       "    </tr>\n",
       "    <tr>\n",
       "      <th>P768</th>\n",
       "      <td>133</td>\n",
       "      <td>15143</td>\n",
       "      <td>[../../allConstraintsAnalysis/codependencyCons...</td>\n",
       "      <td>113.857143</td>\n",
       "    </tr>\n",
       "    <tr>\n",
       "      <th>P5051</th>\n",
       "      <td>1</td>\n",
       "      <td>63</td>\n",
       "      <td>[../../allConstraintsAnalysis/codependencyCons...</td>\n",
       "      <td>63.000000</td>\n",
       "    </tr>\n",
       "    <tr>\n",
       "      <th>P4501</th>\n",
       "      <td>419</td>\n",
       "      <td>22682</td>\n",
       "      <td>[../../allConstraintsAnalysis/codependencyCons...</td>\n",
       "      <td>54.133652</td>\n",
       "    </tr>\n",
       "    <tr>\n",
       "      <th>P2715</th>\n",
       "      <td>4</td>\n",
       "      <td>158</td>\n",
       "      <td>[../../allConstraintsAnalysis/codependencyCons...</td>\n",
       "      <td>39.500000</td>\n",
       "    </tr>\n",
       "    <tr>\n",
       "      <th>P275</th>\n",
       "      <td>5955</td>\n",
       "      <td>123578</td>\n",
       "      <td>[../../allConstraintsAnalysis/codependencyCons...</td>\n",
       "      <td>20.751973</td>\n",
       "    </tr>\n",
       "    <tr>\n",
       "      <th>P2376</th>\n",
       "      <td>1</td>\n",
       "      <td>19</td>\n",
       "      <td>[../../allConstraintsAnalysis/codependencyCons...</td>\n",
       "      <td>19.000000</td>\n",
       "    </tr>\n",
       "    <tr>\n",
       "      <th>P3912</th>\n",
       "      <td>297</td>\n",
       "      <td>3705</td>\n",
       "      <td>[../../allConstraintsAnalysis/codependencyCons...</td>\n",
       "      <td>12.474747</td>\n",
       "    </tr>\n",
       "    <tr>\n",
       "      <th>P2720</th>\n",
       "      <td>12</td>\n",
       "      <td>134</td>\n",
       "      <td>[../../allConstraintsAnalysis/codependencyCons...</td>\n",
       "      <td>11.166667</td>\n",
       "    </tr>\n",
       "    <tr>\n",
       "      <th>P2248</th>\n",
       "      <td>4020</td>\n",
       "      <td>41566</td>\n",
       "      <td>[../../allConstraintsAnalysis/codependencyCons...</td>\n",
       "      <td>10.339801</td>\n",
       "    </tr>\n",
       "    <tr>\n",
       "      <th>P2325</th>\n",
       "      <td>4071</td>\n",
       "      <td>40611</td>\n",
       "      <td>[../../allConstraintsAnalysis/codependencyCons...</td>\n",
       "      <td>9.975682</td>\n",
       "    </tr>\n",
       "    <tr>\n",
       "      <th>P2243</th>\n",
       "      <td>4025</td>\n",
       "      <td>36540</td>\n",
       "      <td>[../../allConstraintsAnalysis/codependencyCons...</td>\n",
       "      <td>9.078261</td>\n",
       "    </tr>\n",
       "    <tr>\n",
       "      <th>P2244</th>\n",
       "      <td>4027</td>\n",
       "      <td>36527</td>\n",
       "      <td>[../../allConstraintsAnalysis/codependencyCons...</td>\n",
       "      <td>9.070524</td>\n",
       "    </tr>\n",
       "    <tr>\n",
       "      <th>P3448</th>\n",
       "      <td>547</td>\n",
       "      <td>4302</td>\n",
       "      <td>[../../allConstraintsAnalysis/codependencyCons...</td>\n",
       "      <td>7.864717</td>\n",
       "    </tr>\n",
       "  </tbody>\n",
       "</table>\n",
       "</div>"
      ],
      "text/plain": [
       "      correct incorrect                                              paths  \\\n",
       "P1111       0     46327  [../../allConstraintsAnalysis/codependencyCons...   \n",
       "P1995      80      9985  [../../allConstraintsAnalysis/codependencyCons...   \n",
       "P768      133     15143  [../../allConstraintsAnalysis/codependencyCons...   \n",
       "P5051       1        63  [../../allConstraintsAnalysis/codependencyCons...   \n",
       "P4501     419     22682  [../../allConstraintsAnalysis/codependencyCons...   \n",
       "P2715       4       158  [../../allConstraintsAnalysis/codependencyCons...   \n",
       "P275     5955    123578  [../../allConstraintsAnalysis/codependencyCons...   \n",
       "P2376       1        19  [../../allConstraintsAnalysis/codependencyCons...   \n",
       "P3912     297      3705  [../../allConstraintsAnalysis/codependencyCons...   \n",
       "P2720      12       134  [../../allConstraintsAnalysis/codependencyCons...   \n",
       "P2248    4020     41566  [../../allConstraintsAnalysis/codependencyCons...   \n",
       "P2325    4071     40611  [../../allConstraintsAnalysis/codependencyCons...   \n",
       "P2243    4025     36540  [../../allConstraintsAnalysis/codependencyCons...   \n",
       "P2244    4027     36527  [../../allConstraintsAnalysis/codependencyCons...   \n",
       "P3448     547      4302  [../../allConstraintsAnalysis/codependencyCons...   \n",
       "\n",
       "       violation_ratio  \n",
       "P1111       463.270000  \n",
       "P1995       124.812500  \n",
       "P768        113.857143  \n",
       "P5051        63.000000  \n",
       "P4501        54.133652  \n",
       "P2715        39.500000  \n",
       "P275         20.751973  \n",
       "P2376        19.000000  \n",
       "P3912        12.474747  \n",
       "P2720        11.166667  \n",
       "P2248        10.339801  \n",
       "P2325         9.975682  \n",
       "P2243         9.078261  \n",
       "P2244         9.070524  \n",
       "P3448         7.864717  "
      ]
     },
     "execution_count": 18,
     "metadata": {},
     "output_type": "execute_result"
    }
   ],
   "source": [
    "codepConstDF2.sort_values(by=['violation_ratio'],ascending=False).head(15)"
   ]
  },
  {
   "cell_type": "code",
   "execution_count": 19,
   "id": "unlikely-chamber",
   "metadata": {
    "scrolled": false
   },
   "outputs": [
    {
     "data": {
      "text/html": [
       "<div>\n",
       "<style scoped>\n",
       "    .dataframe tbody tr th:only-of-type {\n",
       "        vertical-align: middle;\n",
       "    }\n",
       "\n",
       "    .dataframe tbody tr th {\n",
       "        vertical-align: top;\n",
       "    }\n",
       "\n",
       "    .dataframe thead th {\n",
       "        text-align: right;\n",
       "    }\n",
       "</style>\n",
       "<table border=\"1\" class=\"dataframe\">\n",
       "  <thead>\n",
       "    <tr style=\"text-align: right;\">\n",
       "      <th></th>\n",
       "      <th>correct</th>\n",
       "      <th>incorrect</th>\n",
       "      <th>paths</th>\n",
       "      <th>violation_ratio</th>\n",
       "    </tr>\n",
       "  </thead>\n",
       "  <tbody>\n",
       "    <tr>\n",
       "      <th>P2214</th>\n",
       "      <td>2962988</td>\n",
       "      <td>711699</td>\n",
       "      <td>[../../allConstraintsAnalysis/codependencyCons...</td>\n",
       "      <td>0.240196</td>\n",
       "    </tr>\n",
       "    <tr>\n",
       "      <th>P433</th>\n",
       "      <td>31028893</td>\n",
       "      <td>435483</td>\n",
       "      <td>[../../allConstraintsAnalysis/codependencyCons...</td>\n",
       "      <td>0.014035</td>\n",
       "    </tr>\n",
       "    <tr>\n",
       "      <th>P275</th>\n",
       "      <td>5955</td>\n",
       "      <td>123578</td>\n",
       "      <td>[../../allConstraintsAnalysis/codependencyCons...</td>\n",
       "      <td>20.751973</td>\n",
       "    </tr>\n",
       "    <tr>\n",
       "      <th>P2860</th>\n",
       "      <td>174402886</td>\n",
       "      <td>114713</td>\n",
       "      <td>[../../allConstraintsAnalysis/codependencyCons...</td>\n",
       "      <td>0.000658</td>\n",
       "    </tr>\n",
       "    <tr>\n",
       "      <th>P1435</th>\n",
       "      <td>1893874</td>\n",
       "      <td>79479</td>\n",
       "      <td>[../../allConstraintsAnalysis/codependencyCons...</td>\n",
       "      <td>0.041966</td>\n",
       "    </tr>\n",
       "    <tr>\n",
       "      <th>P708</th>\n",
       "      <td>45253</td>\n",
       "      <td>54258</td>\n",
       "      <td>[../../allConstraintsAnalysis/codependencyCons...</td>\n",
       "      <td>1.198992</td>\n",
       "    </tr>\n",
       "    <tr>\n",
       "      <th>P197</th>\n",
       "      <td>117522</td>\n",
       "      <td>49904</td>\n",
       "      <td>[../../allConstraintsAnalysis/codependencyCons...</td>\n",
       "      <td>0.424635</td>\n",
       "    </tr>\n",
       "    <tr>\n",
       "      <th>P1598</th>\n",
       "      <td>36978</td>\n",
       "      <td>46481</td>\n",
       "      <td>[../../allConstraintsAnalysis/codependencyCons...</td>\n",
       "      <td>1.256991</td>\n",
       "    </tr>\n",
       "    <tr>\n",
       "      <th>P1111</th>\n",
       "      <td>0</td>\n",
       "      <td>46327</td>\n",
       "      <td>[../../allConstraintsAnalysis/codependencyCons...</td>\n",
       "      <td>463.270000</td>\n",
       "    </tr>\n",
       "    <tr>\n",
       "      <th>P2248</th>\n",
       "      <td>4020</td>\n",
       "      <td>41566</td>\n",
       "      <td>[../../allConstraintsAnalysis/codependencyCons...</td>\n",
       "      <td>10.339801</td>\n",
       "    </tr>\n",
       "    <tr>\n",
       "      <th>P2325</th>\n",
       "      <td>4071</td>\n",
       "      <td>40611</td>\n",
       "      <td>[../../allConstraintsAnalysis/codependencyCons...</td>\n",
       "      <td>9.975682</td>\n",
       "    </tr>\n",
       "    <tr>\n",
       "      <th>P856</th>\n",
       "      <td>1239292</td>\n",
       "      <td>38026</td>\n",
       "      <td>[../../allConstraintsAnalysis/codependencyCons...</td>\n",
       "      <td>0.030684</td>\n",
       "    </tr>\n",
       "    <tr>\n",
       "      <th>P2243</th>\n",
       "      <td>4025</td>\n",
       "      <td>36540</td>\n",
       "      <td>[../../allConstraintsAnalysis/codependencyCons...</td>\n",
       "      <td>9.078261</td>\n",
       "    </tr>\n",
       "    <tr>\n",
       "      <th>P2244</th>\n",
       "      <td>4027</td>\n",
       "      <td>36527</td>\n",
       "      <td>[../../allConstraintsAnalysis/codependencyCons...</td>\n",
       "      <td>9.070524</td>\n",
       "    </tr>\n",
       "    <tr>\n",
       "      <th>P413</th>\n",
       "      <td>357793</td>\n",
       "      <td>33607</td>\n",
       "      <td>[../../allConstraintsAnalysis/codependencyCons...</td>\n",
       "      <td>0.093929</td>\n",
       "    </tr>\n",
       "  </tbody>\n",
       "</table>\n",
       "</div>"
      ],
      "text/plain": [
       "         correct incorrect                                              paths  \\\n",
       "P2214    2962988    711699  [../../allConstraintsAnalysis/codependencyCons...   \n",
       "P433    31028893    435483  [../../allConstraintsAnalysis/codependencyCons...   \n",
       "P275        5955    123578  [../../allConstraintsAnalysis/codependencyCons...   \n",
       "P2860  174402886    114713  [../../allConstraintsAnalysis/codependencyCons...   \n",
       "P1435    1893874     79479  [../../allConstraintsAnalysis/codependencyCons...   \n",
       "P708       45253     54258  [../../allConstraintsAnalysis/codependencyCons...   \n",
       "P197      117522     49904  [../../allConstraintsAnalysis/codependencyCons...   \n",
       "P1598      36978     46481  [../../allConstraintsAnalysis/codependencyCons...   \n",
       "P1111          0     46327  [../../allConstraintsAnalysis/codependencyCons...   \n",
       "P2248       4020     41566  [../../allConstraintsAnalysis/codependencyCons...   \n",
       "P2325       4071     40611  [../../allConstraintsAnalysis/codependencyCons...   \n",
       "P856     1239292     38026  [../../allConstraintsAnalysis/codependencyCons...   \n",
       "P2243       4025     36540  [../../allConstraintsAnalysis/codependencyCons...   \n",
       "P2244       4027     36527  [../../allConstraintsAnalysis/codependencyCons...   \n",
       "P413      357793     33607  [../../allConstraintsAnalysis/codependencyCons...   \n",
       "\n",
       "       violation_ratio  \n",
       "P2214         0.240196  \n",
       "P433          0.014035  \n",
       "P275         20.751973  \n",
       "P2860         0.000658  \n",
       "P1435         0.041966  \n",
       "P708          1.198992  \n",
       "P197          0.424635  \n",
       "P1598         1.256991  \n",
       "P1111       463.270000  \n",
       "P2248        10.339801  \n",
       "P2325         9.975682  \n",
       "P856          0.030684  \n",
       "P2243         9.078261  \n",
       "P2244         9.070524  \n",
       "P413          0.093929  "
      ]
     },
     "execution_count": 19,
     "metadata": {},
     "output_type": "execute_result"
    }
   ],
   "source": [
    "codepConstDF2.sort_values(by=['incorrect'],ascending=False).head(15)"
   ]
  },
  {
   "cell_type": "code",
   "execution_count": 20,
   "id": "violent-match",
   "metadata": {
    "scrolled": true
   },
   "outputs": [
    {
     "data": {
      "text/plain": [
       "count    468.000000\n",
       "mean       2.322334\n",
       "std       23.177891\n",
       "min        0.000000\n",
       "25%        0.000663\n",
       "50%        0.014876\n",
       "75%        0.177430\n",
       "max      463.270000\n",
       "Name: violation_ratio, dtype: float64"
      ]
     },
     "execution_count": 20,
     "metadata": {},
     "output_type": "execute_result"
    }
   ],
   "source": [
    "codepConstDF2['violation_ratio'].describe()"
   ]
  },
  {
   "cell_type": "code",
   "execution_count": 21,
   "id": "educational-thickness",
   "metadata": {},
   "outputs": [
    {
     "data": {
      "text/plain": [
       "Text(0.5, 1.0, 'Co-Dependency Constraint - Version 2 - Violation Ratios')"
      ]
     },
     "execution_count": 21,
     "metadata": {},
     "output_type": "execute_result"
    },
    {
     "data": {
      "image/png": "[encoded data removed]",
      "text/plain": [
       "<Figure size 432x288 with 1 Axes>"
      ]
     },
     "metadata": {
      "needs_background": "light"
     },
     "output_type": "display_data"
    }
   ],
   "source": [
    "codepConstDF2['violation_ratio'].plot.hist(bins=100).set_title(\"Co-Dependency Constraint - Version 2 - Violation Ratios\")"
   ]
  },
  {
   "cell_type": "code",
   "execution_count": 22,
   "id": "latin-mitchell",
   "metadata": {
    "scrolled": true
   },
   "outputs": [
    {
     "data": {
      "text/plain": [
       "Text(0.5, 1.0, 'Co-Dependency Constraint - Version 2 - Violation Ratios <= 0.5')"
      ]
     },
     "execution_count": 22,
     "metadata": {},
     "output_type": "execute_result"
    },
    {
     "data": {
      "image/png": "[encoded data removed]",
      "text/plain": [
       "<Figure size 432x288 with 1 Axes>"
      ]
     },
     "metadata": {
      "needs_background": "light"
     },
     "output_type": "display_data"
    }
   ],
   "source": [
    "codepConstDF2[codepConstDF2['violation_ratio'] <= 0.5].violation_ratio.plot.hist(bins=100).set_title(\"Co-Dependency Constraint - Version 2 - Violation Ratios <= 0.5\")"
   ]
  },
  {
   "cell_type": "code",
   "execution_count": 70,
   "id": "asian-forwarding",
   "metadata": {},
   "outputs": [
    {
     "name": "stdout",
     "output_type": "stream",
     "text": [
      "No. of properties whose violation ratio is greater than mean: 30/468\n"
     ]
    }
   ],
   "source": [
    "print(f\"No. of properties whose violation ratio is greater than mean: {sum(codepConstDF2['violation_ratio'] >= 2.290915)}/{len(codepConstDF2)}\")"
   ]
  },
  {
   "cell_type": "markdown",
   "id": "destroyed-flash",
   "metadata": {},
   "source": [
    "#### Version 3 - Mand"
   ]
  },
  {
   "cell_type": "code",
   "execution_count": 24,
   "id": "consecutive-plenty",
   "metadata": {},
   "outputs": [],
   "source": [
    "import pandas as pd\n",
    "codepConstDF3 = pd.DataFrame(codepConstViolations['Mand']).T"
   ]
  },
  {
   "cell_type": "code",
   "execution_count": 25,
   "id": "digital-mileage",
   "metadata": {},
   "outputs": [
    {
     "data": {
      "text/html": [
       "<div>\n",
       "<style scoped>\n",
       "    .dataframe tbody tr th:only-of-type {\n",
       "        vertical-align: middle;\n",
       "    }\n",
       "\n",
       "    .dataframe tbody tr th {\n",
       "        vertical-align: top;\n",
       "    }\n",
       "\n",
       "    .dataframe thead th {\n",
       "        text-align: right;\n",
       "    }\n",
       "</style>\n",
       "<table border=\"1\" class=\"dataframe\">\n",
       "  <thead>\n",
       "    <tr style=\"text-align: right;\">\n",
       "      <th></th>\n",
       "      <th>correct</th>\n",
       "      <th>incorrect</th>\n",
       "      <th>paths</th>\n",
       "    </tr>\n",
       "  </thead>\n",
       "  <tbody>\n",
       "    <tr>\n",
       "      <th>P1081</th>\n",
       "      <td>12300</td>\n",
       "      <td>0</td>\n",
       "      <td>[../../allConstraintsAnalysis/codependencyCons...</td>\n",
       "    </tr>\n",
       "    <tr>\n",
       "      <th>P3744</th>\n",
       "      <td>311</td>\n",
       "      <td>0</td>\n",
       "      <td>[../../allConstraintsAnalysis/codependencyCons...</td>\n",
       "    </tr>\n",
       "    <tr>\n",
       "      <th>P2021</th>\n",
       "      <td>2303</td>\n",
       "      <td>1</td>\n",
       "      <td>[../../allConstraintsAnalysis/codependencyCons...</td>\n",
       "    </tr>\n",
       "    <tr>\n",
       "      <th>P5982</th>\n",
       "      <td>1326</td>\n",
       "      <td>0</td>\n",
       "      <td>[../../allConstraintsAnalysis/codependencyCons...</td>\n",
       "    </tr>\n",
       "    <tr>\n",
       "      <th>P2095</th>\n",
       "      <td>38</td>\n",
       "      <td>3</td>\n",
       "      <td>[../../allConstraintsAnalysis/codependencyCons...</td>\n",
       "    </tr>\n",
       "    <tr>\n",
       "      <th>...</th>\n",
       "      <td>...</td>\n",
       "      <td>...</td>\n",
       "      <td>...</td>\n",
       "    </tr>\n",
       "    <tr>\n",
       "      <th>P1879</th>\n",
       "      <td>1695</td>\n",
       "      <td>0</td>\n",
       "      <td>[../../allConstraintsAnalysis/codependencyCons...</td>\n",
       "    </tr>\n",
       "    <tr>\n",
       "      <th>P3648</th>\n",
       "      <td>7</td>\n",
       "      <td>0</td>\n",
       "      <td>[../../allConstraintsAnalysis/codependencyCons...</td>\n",
       "    </tr>\n",
       "    <tr>\n",
       "      <th>P197</th>\n",
       "      <td>167392</td>\n",
       "      <td>34</td>\n",
       "      <td>[../../allConstraintsAnalysis/codependencyCons...</td>\n",
       "    </tr>\n",
       "    <tr>\n",
       "      <th>P1990</th>\n",
       "      <td>7619</td>\n",
       "      <td>1</td>\n",
       "      <td>[../../allConstraintsAnalysis/codependencyCons...</td>\n",
       "    </tr>\n",
       "    <tr>\n",
       "      <th>P2009</th>\n",
       "      <td>1019</td>\n",
       "      <td>15</td>\n",
       "      <td>[../../allConstraintsAnalysis/codependencyCons...</td>\n",
       "    </tr>\n",
       "  </tbody>\n",
       "</table>\n",
       "<p>78 rows × 3 columns</p>\n",
       "</div>"
      ],
      "text/plain": [
       "      correct incorrect                                              paths\n",
       "P1081   12300         0  [../../allConstraintsAnalysis/codependencyCons...\n",
       "P3744     311         0  [../../allConstraintsAnalysis/codependencyCons...\n",
       "P2021    2303         1  [../../allConstraintsAnalysis/codependencyCons...\n",
       "P5982    1326         0  [../../allConstraintsAnalysis/codependencyCons...\n",
       "P2095      38         3  [../../allConstraintsAnalysis/codependencyCons...\n",
       "...       ...       ...                                                ...\n",
       "P1879    1695         0  [../../allConstraintsAnalysis/codependencyCons...\n",
       "P3648       7         0  [../../allConstraintsAnalysis/codependencyCons...\n",
       "P197   167392        34  [../../allConstraintsAnalysis/codependencyCons...\n",
       "P1990    7619         1  [../../allConstraintsAnalysis/codependencyCons...\n",
       "P2009    1019        15  [../../allConstraintsAnalysis/codependencyCons...\n",
       "\n",
       "[78 rows x 3 columns]"
      ]
     },
     "execution_count": 25,
     "metadata": {},
     "output_type": "execute_result"
    }
   ],
   "source": [
    "codepConstDF3"
   ]
  },
  {
   "cell_type": "code",
   "execution_count": 26,
   "id": "formed-battle",
   "metadata": {},
   "outputs": [],
   "source": [
    "codepConstDF3['violation_ratio'] = codepConstDF3.apply(lambda p: p.incorrect / p.correct if p.correct != 0 else p.incorrect/100, axis=1)"
   ]
  },
  {
   "cell_type": "code",
   "execution_count": 27,
   "id": "numerous-construction",
   "metadata": {},
   "outputs": [
    {
     "data": {
      "text/html": [
       "<div>\n",
       "<style scoped>\n",
       "    .dataframe tbody tr th:only-of-type {\n",
       "        vertical-align: middle;\n",
       "    }\n",
       "\n",
       "    .dataframe tbody tr th {\n",
       "        vertical-align: top;\n",
       "    }\n",
       "\n",
       "    .dataframe thead th {\n",
       "        text-align: right;\n",
       "    }\n",
       "</style>\n",
       "<table border=\"1\" class=\"dataframe\">\n",
       "  <thead>\n",
       "    <tr style=\"text-align: right;\">\n",
       "      <th></th>\n",
       "      <th>correct</th>\n",
       "      <th>incorrect</th>\n",
       "      <th>paths</th>\n",
       "      <th>violation_ratio</th>\n",
       "    </tr>\n",
       "  </thead>\n",
       "  <tbody>\n",
       "    <tr>\n",
       "      <th>P5051</th>\n",
       "      <td>1</td>\n",
       "      <td>63</td>\n",
       "      <td>[../../allConstraintsAnalysis/codependencyCons...</td>\n",
       "      <td>63.000000</td>\n",
       "    </tr>\n",
       "    <tr>\n",
       "      <th>P4341</th>\n",
       "      <td>7</td>\n",
       "      <td>1</td>\n",
       "      <td>[../../allConstraintsAnalysis/codependencyCons...</td>\n",
       "      <td>0.142857</td>\n",
       "    </tr>\n",
       "    <tr>\n",
       "      <th>P2095</th>\n",
       "      <td>38</td>\n",
       "      <td>3</td>\n",
       "      <td>[../../allConstraintsAnalysis/codependencyCons...</td>\n",
       "      <td>0.078947</td>\n",
       "    </tr>\n",
       "    <tr>\n",
       "      <th>P3931</th>\n",
       "      <td>2250</td>\n",
       "      <td>64</td>\n",
       "      <td>[../../allConstraintsAnalysis/codependencyCons...</td>\n",
       "      <td>0.028444</td>\n",
       "    </tr>\n",
       "    <tr>\n",
       "      <th>P1731</th>\n",
       "      <td>363</td>\n",
       "      <td>9</td>\n",
       "      <td>[../../allConstraintsAnalysis/codependencyCons...</td>\n",
       "      <td>0.024793</td>\n",
       "    </tr>\n",
       "    <tr>\n",
       "      <th>P2009</th>\n",
       "      <td>1019</td>\n",
       "      <td>15</td>\n",
       "      <td>[../../allConstraintsAnalysis/codependencyCons...</td>\n",
       "      <td>0.014720</td>\n",
       "    </tr>\n",
       "    <tr>\n",
       "      <th>P246</th>\n",
       "      <td>169</td>\n",
       "      <td>2</td>\n",
       "      <td>[../../allConstraintsAnalysis/codependencyCons...</td>\n",
       "      <td>0.011834</td>\n",
       "    </tr>\n",
       "    <tr>\n",
       "      <th>P8264</th>\n",
       "      <td>0</td>\n",
       "      <td>1</td>\n",
       "      <td>[../../allConstraintsAnalysis/codependencyCons...</td>\n",
       "      <td>0.010000</td>\n",
       "    </tr>\n",
       "    <tr>\n",
       "      <th>P944</th>\n",
       "      <td>577</td>\n",
       "      <td>4</td>\n",
       "      <td>[../../allConstraintsAnalysis/codependencyCons...</td>\n",
       "      <td>0.006932</td>\n",
       "    </tr>\n",
       "    <tr>\n",
       "      <th>P1560</th>\n",
       "      <td>3235</td>\n",
       "      <td>20</td>\n",
       "      <td>[../../allConstraintsAnalysis/codependencyCons...</td>\n",
       "      <td>0.006182</td>\n",
       "    </tr>\n",
       "    <tr>\n",
       "      <th>P2679</th>\n",
       "      <td>887</td>\n",
       "      <td>5</td>\n",
       "      <td>[../../allConstraintsAnalysis/codependencyCons...</td>\n",
       "      <td>0.005637</td>\n",
       "    </tr>\n",
       "    <tr>\n",
       "      <th>P451</th>\n",
       "      <td>10502</td>\n",
       "      <td>36</td>\n",
       "      <td>[../../allConstraintsAnalysis/codependencyCons...</td>\n",
       "      <td>0.003428</td>\n",
       "    </tr>\n",
       "    <tr>\n",
       "      <th>P2365</th>\n",
       "      <td>1650</td>\n",
       "      <td>5</td>\n",
       "      <td>[../../allConstraintsAnalysis/codependencyCons...</td>\n",
       "      <td>0.003030</td>\n",
       "    </tr>\n",
       "    <tr>\n",
       "      <th>P915</th>\n",
       "      <td>28364</td>\n",
       "      <td>45</td>\n",
       "      <td>[../../allConstraintsAnalysis/codependencyCons...</td>\n",
       "      <td>0.001587</td>\n",
       "    </tr>\n",
       "    <tr>\n",
       "      <th>P1635</th>\n",
       "      <td>890</td>\n",
       "      <td>1</td>\n",
       "      <td>[../../allConstraintsAnalysis/codependencyCons...</td>\n",
       "      <td>0.001124</td>\n",
       "    </tr>\n",
       "  </tbody>\n",
       "</table>\n",
       "</div>"
      ],
      "text/plain": [
       "      correct incorrect                                              paths  \\\n",
       "P5051       1        63  [../../allConstraintsAnalysis/codependencyCons...   \n",
       "P4341       7         1  [../../allConstraintsAnalysis/codependencyCons...   \n",
       "P2095      38         3  [../../allConstraintsAnalysis/codependencyCons...   \n",
       "P3931    2250        64  [../../allConstraintsAnalysis/codependencyCons...   \n",
       "P1731     363         9  [../../allConstraintsAnalysis/codependencyCons...   \n",
       "P2009    1019        15  [../../allConstraintsAnalysis/codependencyCons...   \n",
       "P246      169         2  [../../allConstraintsAnalysis/codependencyCons...   \n",
       "P8264       0         1  [../../allConstraintsAnalysis/codependencyCons...   \n",
       "P944      577         4  [../../allConstraintsAnalysis/codependencyCons...   \n",
       "P1560    3235        20  [../../allConstraintsAnalysis/codependencyCons...   \n",
       "P2679     887         5  [../../allConstraintsAnalysis/codependencyCons...   \n",
       "P451    10502        36  [../../allConstraintsAnalysis/codependencyCons...   \n",
       "P2365    1650         5  [../../allConstraintsAnalysis/codependencyCons...   \n",
       "P915    28364        45  [../../allConstraintsAnalysis/codependencyCons...   \n",
       "P1635     890         1  [../../allConstraintsAnalysis/codependencyCons...   \n",
       "\n",
       "       violation_ratio  \n",
       "P5051        63.000000  \n",
       "P4341         0.142857  \n",
       "P2095         0.078947  \n",
       "P3931         0.028444  \n",
       "P1731         0.024793  \n",
       "P2009         0.014720  \n",
       "P246          0.011834  \n",
       "P8264         0.010000  \n",
       "P944          0.006932  \n",
       "P1560         0.006182  \n",
       "P2679         0.005637  \n",
       "P451          0.003428  \n",
       "P2365         0.003030  \n",
       "P915          0.001587  \n",
       "P1635         0.001124  "
      ]
     },
     "execution_count": 27,
     "metadata": {},
     "output_type": "execute_result"
    }
   ],
   "source": [
    "codepConstDF3.sort_values(by=['violation_ratio'],ascending=False).head(15)"
   ]
  },
  {
   "cell_type": "code",
   "execution_count": 83,
   "id": "identified-marble",
   "metadata": {},
   "outputs": [
    {
     "data": {
      "text/plain": [
       "correct                                                         1980\n",
       "incorrect                                                          1\n",
       "paths              [../../allConstraintsAnalysis/codependencyCons...\n",
       "violation_ratio                                             0.000505\n",
       "Name: P1713, dtype: object"
      ]
     },
     "execution_count": 83,
     "metadata": {},
     "output_type": "execute_result"
    }
   ],
   "source": [
    "codepConstDF3.loc['P1713']"
   ]
  },
  {
   "cell_type": "code",
   "execution_count": 84,
   "id": "established-mounting",
   "metadata": {},
   "outputs": [
    {
     "name": "stdout",
     "output_type": "stream",
     "text": [
      "id\tnode1\tlabel\tnode2\trank\tnode2;wikidatatype\r\n",
      "Q4681882-P1713-d878eb-9fff460e-0\tQ4681882\tP1713\t\"https://heightnetworth.com/adele-givens-net-worth-2020/\"\tnormal\turl\r\n"
     ]
    }
   ],
   "source": [
    "!head ../../allConstraintsAnalysis/codependencyConstraint_Final/Mand/claims.P1713.incorrect.tsv"
   ]
  },
  {
   "cell_type": "code",
   "execution_count": 85,
   "id": "naval-functionality",
   "metadata": {},
   "outputs": [
    {
     "name": "stdout",
     "output_type": "stream",
     "text": [
      "id\tnode1\tlabel\tnode2\trank\tnode2;wikidatatype\r\n",
      "Q1000195-P1713-e792ce-9b50511b-0\tQ1000195\tP1713\t\"http://webarchiv.bundestag.de/archive/2007/0206/mdb/mdb13/bio/T/thiesdi0.html\"\tnormal\turl\r\n",
      "Q100218-P1713-3e741f-4bb9633d-0\tQ100218\tP1713\t\"http://webarchiv.bundestag.de/archive/2013/1212/bundestag/abgeordnete17/biografien/B/bunge_martina.html\"\tnormal\turl\r\n",
      "Q100250-P1713-33d6e4-326e7a64-0\tQ100250\tP1713\t\"http://webarchiv.bundestag.de/archive/2010/0427/bundestag/abgeordnete/bio/B/bauerwo0.html\"\tnormal\turl\r\n",
      "Q100357-P1713-f75a30-72e42938-0\tQ100357\tP1713\t\"http://webarchiv.bundestag.de/archive/2007/0206/mdb/mdb14/bio/J/juengsa0.html\"\tnormal\turl\r\n",
      "Q100615-P1713-cd17a0-c89f234d-0\tQ100615\tP1713\t\"http://webarchiv.bundestag.de/archive/2013/1212/bundestag/abgeordnete17/biografien/P/ploetz_yvonne.html\"\tnormal\turl\r\n",
      "Q100617-P1713-2396a5-62789180-0\tQ100617\tP1713\t\"http://webarchiv.bundestag.de/archive/2013/1212/bundestag/abgeordnete17/biografien/S/schwanitz_rolf.html\"\tnormal\turl\r\n",
      "Q100717883-P1713-bd827f-36a0ade3-0\tQ100717883\tP1713\t\"https://www.bundestag.de/abgeordnete/biografien/W/524570-524570\"\tnormal\turl\r\n",
      "Q100797-P1713-c9a2d4-f898748f-0\tQ100797\tP1713\t\"https://www.bundestag.de/abgeordnete/biografien/P/pronold_florian/522720\"\tnormal\turl\r\n",
      "Q100960-P1713-7a9695-4d24386e-0\tQ100960\tP1713\t\"http://webarchiv.bundestag.de/archive/2007/0206/mdb/mdb14/bio/G/geigemi0.html\"\tnormal\turl\r\n",
      "Q100986-P1713-09ed67-8a983157-0\tQ100986\tP1713\t\"http://www.bundestag.de/bundestag/abgeordnete18/biografien/B/becker_dirk/258158\"\tnormal\turl\r\n",
      "Q100986-P1713-0c450a-871bc22b-0\tQ100986\tP1713\t\"http://www.bundestag.de/bundestag/abgeordnete18/biografien/B/becker_dirk.html\"\tnormal\turl\r\n",
      "Q101192-P1713-712026-5576cf80-0\tQ101192\tP1713\t\"http://www.bundestag.de/bundestag/abgeordnete18/biografien/B/bartels_hans_peter.html\"\tnormal\turl\r\n",
      "Q101192-P1713-c1d1cb-90bf9b39-0\tQ101192\tP1713\t\"http://www.bundestag.de/bundestag/abgeordnete18/biografien/B/bartels_hans_peter/258234\"\tnormal\turl\r\n",
      "Q101206-P1713-f2dc25-f3b5f511-0\tQ101206\tP1713\t\"http://webarchiv.bundestag.de/archive/2013/1212/bundestag/abgeordnete17/biografien/S/schreiner_ottmar.html\"\tnormal\turl\r\n",
      "Q101296-P1713-5850b9-d4983cc9-0\tQ101296\tP1713\t\"http://webarchiv.bundestag.de/archive/2013/1212/bundestag/abgeordnete17/biografien/M/merkel_petra.html\"\tnormal\turl\r\n",
      "Q101481413-P1713-e36b80-6e010c1d-0\tQ101481413\tP1713\t\"https://www.bundestag.de/abgeordnete/biografien/D/518958-518958\"\tnormal\turl\r\n",
      "Q101504-P1713-2b19ec-bab3dc39-0\tQ101504\tP1713\t\"https://www.bundestag.de/abgeordnete/biografien/W/willsch_klaus_peter/524612\"\tnormal\turl\r\n",
      "Q101533533-P1713-bf5149-3cb91260-0\tQ101533533\tP1713\t\"https://www.bundestag.de/abgeordnete/biografien/N/522272-522272\"\tnormal\turl\r\n",
      "Q101617-P1713-d046b6-7e1394d5-0\tQ101617\tP1713\t\"https://www.bundestag.de/abgeordnete/biografien/B/bluhm_heidrun/518490\"\tnormal\turl\r\n",
      "Q101632-P1713-0a7355-6fa52c85-0\tQ101632\tP1713\t\"http://webarchiv.bundestag.de/archive/2010/0427/bundestag/abgeordnete/bio/A/albacpe0.html\"\tnormal\turl\r\n",
      "Q1016467-P1713-ff16af-475eaf2e-0\tQ1016467\tP1713\t\"https://www.bundestag.de/abgeordnete/biografien/L/lischka_burkhard/521668\"\tnormal\turl\r\n",
      "Q1016541-P1713-c620a6-bf28fbf5-0\tQ1016541\tP1713\t\"http://webarchiv.bundestag.de/archive/2013/1212/bundestag/abgeordnete17/biografien/M/mueller_soenksen_burkhardt.html\"\tnormal\turl\r\n",
      "Q101662-P1713-9e254f-1d37dd01-0\tQ101662\tP1713\t\"http://webarchiv.bundestag.de/archive/2013/1212/bundestag/abgeordnete17/biografien/H/hagemann_klaus.html\"\tnormal\turl\r\n",
      "Q101701-P1713-d2d742-b14a2f67-0\tQ101701\tP1713\t\"http://webarchiv.bundestag.de/archive/2007/0206/mdb/mdb15/bio/G/goennta0.html\"\tnormal\turl\r\n",
      "Q101703-P1713-86bfef-179d0c06-0\tQ101703\tP1713\t\"https://www.bundestag.de/abgeordnete/biografien/G/grotelueschen_astrid/519912\"\tnormal\turl\r\n",
      "Q1019016-P1713-707a97-4f43e3ab-0\tQ1019016\tP1713\t\"https://www.bundestag.de/abgeordnete/biografien/B/bas_baerbel/518186\"\tnormal\turl\r\n",
      "Q1019023-P1713-4b05d8-54e704ae-0\tQ1019023\tP1713\t\"http://webarchiv.bundestag.de/archive/2007/0206/mdb/mdb14/bio/G/grygiba0.html\"\tnormal\turl\r\n",
      "Q1019029-P1713-6f6eed-942d192f-0\tQ1019029\tP1713\t\"https://www.bundestag.de/abgeordnete/biografien/K/kofler_baerbel/521198\"\tnormal\turl\r\n",
      "Q1019050-P1713-3d5c18-83064a52-0\tQ1019050\tP1713\t\"http://webarchiv.bundestag.de/archive/2007/0206/mdb/mdb14/bio/S/sothmba0.html\"\tnormal\turl\r\n",
      "Q101967-P1713-b19158-a5b76799-0\tQ101967\tP1713\t\"http://webarchiv.bundestag.de/archive/2010/0427/bundestag/abgeordnete/bio/B/bruenmo0.html\"\tnormal\turl\r\n",
      "Q101987-P1713-e8184f-e2226a1f-0\tQ101987\tP1713\t\"http://webarchiv.bundestag.de/archive/2007/0206/mdb/mdb15/bio/L/lucygch0.html\"\tnormal\turl\r\n",
      "Q4681882-P1713-d878eb-9fff460e-0\tQ4681882\tP1713\t\"https://heightnetworth.com/adele-givens-net-worth-2020/\"\tnormal\turl\r\n"
     ]
    }
   ],
   "source": [
    "!cat ../../allConstraintsAnalysis/codependencyConstraint/Mand/claims.P1713.incorrect.tsv"
   ]
  },
  {
   "cell_type": "code",
   "execution_count": 28,
   "id": "imposed-bibliography",
   "metadata": {
    "scrolled": false
   },
   "outputs": [
    {
     "data": {
      "text/html": [
       "<div>\n",
       "<style scoped>\n",
       "    .dataframe tbody tr th:only-of-type {\n",
       "        vertical-align: middle;\n",
       "    }\n",
       "\n",
       "    .dataframe tbody tr th {\n",
       "        vertical-align: top;\n",
       "    }\n",
       "\n",
       "    .dataframe thead th {\n",
       "        text-align: right;\n",
       "    }\n",
       "</style>\n",
       "<table border=\"1\" class=\"dataframe\">\n",
       "  <thead>\n",
       "    <tr style=\"text-align: right;\">\n",
       "      <th></th>\n",
       "      <th>correct</th>\n",
       "      <th>incorrect</th>\n",
       "      <th>paths</th>\n",
       "      <th>violation_ratio</th>\n",
       "    </tr>\n",
       "  </thead>\n",
       "  <tbody>\n",
       "    <tr>\n",
       "      <th>P7959</th>\n",
       "      <td>655743</td>\n",
       "      <td>376</td>\n",
       "      <td>[../../allConstraintsAnalysis/codependencyCons...</td>\n",
       "      <td>0.000573</td>\n",
       "    </tr>\n",
       "    <tr>\n",
       "      <th>P3931</th>\n",
       "      <td>2250</td>\n",
       "      <td>64</td>\n",
       "      <td>[../../allConstraintsAnalysis/codependencyCons...</td>\n",
       "      <td>0.028444</td>\n",
       "    </tr>\n",
       "    <tr>\n",
       "      <th>P5051</th>\n",
       "      <td>1</td>\n",
       "      <td>63</td>\n",
       "      <td>[../../allConstraintsAnalysis/codependencyCons...</td>\n",
       "      <td>63.000000</td>\n",
       "    </tr>\n",
       "    <tr>\n",
       "      <th>P915</th>\n",
       "      <td>28364</td>\n",
       "      <td>45</td>\n",
       "      <td>[../../allConstraintsAnalysis/codependencyCons...</td>\n",
       "      <td>0.001587</td>\n",
       "    </tr>\n",
       "    <tr>\n",
       "      <th>P451</th>\n",
       "      <td>10502</td>\n",
       "      <td>36</td>\n",
       "      <td>[../../allConstraintsAnalysis/codependencyCons...</td>\n",
       "      <td>0.003428</td>\n",
       "    </tr>\n",
       "    <tr>\n",
       "      <th>P197</th>\n",
       "      <td>167392</td>\n",
       "      <td>34</td>\n",
       "      <td>[../../allConstraintsAnalysis/codependencyCons...</td>\n",
       "      <td>0.000203</td>\n",
       "    </tr>\n",
       "    <tr>\n",
       "      <th>P1560</th>\n",
       "      <td>3235</td>\n",
       "      <td>20</td>\n",
       "      <td>[../../allConstraintsAnalysis/codependencyCons...</td>\n",
       "      <td>0.006182</td>\n",
       "    </tr>\n",
       "    <tr>\n",
       "      <th>P2009</th>\n",
       "      <td>1019</td>\n",
       "      <td>15</td>\n",
       "      <td>[../../allConstraintsAnalysis/codependencyCons...</td>\n",
       "      <td>0.014720</td>\n",
       "    </tr>\n",
       "    <tr>\n",
       "      <th>P1731</th>\n",
       "      <td>363</td>\n",
       "      <td>9</td>\n",
       "      <td>[../../allConstraintsAnalysis/codependencyCons...</td>\n",
       "      <td>0.024793</td>\n",
       "    </tr>\n",
       "    <tr>\n",
       "      <th>P1196</th>\n",
       "      <td>88070</td>\n",
       "      <td>6</td>\n",
       "      <td>[../../allConstraintsAnalysis/codependencyCons...</td>\n",
       "      <td>0.000068</td>\n",
       "    </tr>\n",
       "    <tr>\n",
       "      <th>P2365</th>\n",
       "      <td>1650</td>\n",
       "      <td>5</td>\n",
       "      <td>[../../allConstraintsAnalysis/codependencyCons...</td>\n",
       "      <td>0.003030</td>\n",
       "    </tr>\n",
       "    <tr>\n",
       "      <th>P2679</th>\n",
       "      <td>887</td>\n",
       "      <td>5</td>\n",
       "      <td>[../../allConstraintsAnalysis/codependencyCons...</td>\n",
       "      <td>0.005637</td>\n",
       "    </tr>\n",
       "    <tr>\n",
       "      <th>P141</th>\n",
       "      <td>121709</td>\n",
       "      <td>4</td>\n",
       "      <td>[../../allConstraintsAnalysis/codependencyCons...</td>\n",
       "      <td>0.000033</td>\n",
       "    </tr>\n",
       "    <tr>\n",
       "      <th>P944</th>\n",
       "      <td>577</td>\n",
       "      <td>4</td>\n",
       "      <td>[../../allConstraintsAnalysis/codependencyCons...</td>\n",
       "      <td>0.006932</td>\n",
       "    </tr>\n",
       "    <tr>\n",
       "      <th>P613</th>\n",
       "      <td>68854</td>\n",
       "      <td>3</td>\n",
       "      <td>[../../allConstraintsAnalysis/codependencyCons...</td>\n",
       "      <td>0.000044</td>\n",
       "    </tr>\n",
       "  </tbody>\n",
       "</table>\n",
       "</div>"
      ],
      "text/plain": [
       "      correct incorrect                                              paths  \\\n",
       "P7959  655743       376  [../../allConstraintsAnalysis/codependencyCons...   \n",
       "P3931    2250        64  [../../allConstraintsAnalysis/codependencyCons...   \n",
       "P5051       1        63  [../../allConstraintsAnalysis/codependencyCons...   \n",
       "P915    28364        45  [../../allConstraintsAnalysis/codependencyCons...   \n",
       "P451    10502        36  [../../allConstraintsAnalysis/codependencyCons...   \n",
       "P197   167392        34  [../../allConstraintsAnalysis/codependencyCons...   \n",
       "P1560    3235        20  [../../allConstraintsAnalysis/codependencyCons...   \n",
       "P2009    1019        15  [../../allConstraintsAnalysis/codependencyCons...   \n",
       "P1731     363         9  [../../allConstraintsAnalysis/codependencyCons...   \n",
       "P1196   88070         6  [../../allConstraintsAnalysis/codependencyCons...   \n",
       "P2365    1650         5  [../../allConstraintsAnalysis/codependencyCons...   \n",
       "P2679     887         5  [../../allConstraintsAnalysis/codependencyCons...   \n",
       "P141   121709         4  [../../allConstraintsAnalysis/codependencyCons...   \n",
       "P944      577         4  [../../allConstraintsAnalysis/codependencyCons...   \n",
       "P613    68854         3  [../../allConstraintsAnalysis/codependencyCons...   \n",
       "\n",
       "       violation_ratio  \n",
       "P7959         0.000573  \n",
       "P3931         0.028444  \n",
       "P5051        63.000000  \n",
       "P915          0.001587  \n",
       "P451          0.003428  \n",
       "P197          0.000203  \n",
       "P1560         0.006182  \n",
       "P2009         0.014720  \n",
       "P1731         0.024793  \n",
       "P1196         0.000068  \n",
       "P2365         0.003030  \n",
       "P2679         0.005637  \n",
       "P141          0.000033  \n",
       "P944          0.006932  \n",
       "P613          0.000044  "
      ]
     },
     "execution_count": 28,
     "metadata": {},
     "output_type": "execute_result"
    }
   ],
   "source": [
    "codepConstDF3.sort_values(by=['incorrect'],ascending=False).head(15)"
   ]
  },
  {
   "cell_type": "code",
   "execution_count": 29,
   "id": "emotional-crown",
   "metadata": {
    "scrolled": true
   },
   "outputs": [
    {
     "data": {
      "text/plain": [
       "count    78.000000\n",
       "mean      0.812130\n",
       "std       7.132861\n",
       "min       0.000000\n",
       "25%       0.000000\n",
       "50%       0.000000\n",
       "75%       0.000558\n",
       "max      63.000000\n",
       "Name: violation_ratio, dtype: float64"
      ]
     },
     "execution_count": 29,
     "metadata": {},
     "output_type": "execute_result"
    }
   ],
   "source": [
    "codepConstDF3['violation_ratio'].describe()"
   ]
  },
  {
   "cell_type": "code",
   "execution_count": 30,
   "id": "certain-freeze",
   "metadata": {},
   "outputs": [
    {
     "data": {
      "text/plain": [
       "Text(0.5, 1.0, 'Co-Dependency Constraint - Version 3 - Violation Ratios')"
      ]
     },
     "execution_count": 30,
     "metadata": {},
     "output_type": "execute_result"
    },
    {
     "data": {
      "image/png": "[encoded data removed]",
      "text/plain": [
       "<Figure size 432x288 with 1 Axes>"
      ]
     },
     "metadata": {
      "needs_background": "light"
     },
     "output_type": "display_data"
    }
   ],
   "source": [
    "codepConstDF3['violation_ratio'].plot.hist(bins=100).set_title(\"Co-Dependency Constraint - Version 3 - Violation Ratios\")"
   ]
  },
  {
   "cell_type": "code",
   "execution_count": 31,
   "id": "cooperative-ownership",
   "metadata": {
    "scrolled": true
   },
   "outputs": [
    {
     "data": {
      "text/plain": [
       "Text(0.5, 1.0, 'Co-Dependency Constraint - Version 3 - Violation Ratios <= 0.0005')"
      ]
     },
     "execution_count": 31,
     "metadata": {},
     "output_type": "execute_result"
    },
    {
     "data": {
      "image/png": "[encoded data removed]",
      "text/plain": [
       "<Figure size 432x288 with 1 Axes>"
      ]
     },
     "metadata": {
      "needs_background": "light"
     },
     "output_type": "display_data"
    }
   ],
   "source": [
    "codepConstDF3[codepConstDF3['violation_ratio'] <= 0.0005].violation_ratio.plot.hist(bins=100).set_title(\"Co-Dependency Constraint - Version 3 - Violation Ratios <= 0.0005\")"
   ]
  },
  {
   "cell_type": "code",
   "execution_count": 77,
   "id": "studied-inclusion",
   "metadata": {},
   "outputs": [
    {
     "name": "stdout",
     "output_type": "stream",
     "text": [
      "No. of properties whose violation ratio is greater than mean: 1/78\n"
     ]
    }
   ],
   "source": [
    "print(f\"No. of properties whose violation ratio is greater than mean: {sum(codepConstDF3['violation_ratio'] >= 0.922928)}/{len(codepConstDF3)}\")"
   ]
  },
  {
   "cell_type": "markdown",
   "id": "protective-brazil",
   "metadata": {},
   "source": [
    "#### Version 4 - Normal"
   ]
  },
  {
   "cell_type": "code",
   "execution_count": 33,
   "id": "laughing-pressing",
   "metadata": {},
   "outputs": [],
   "source": [
    "import pandas as pd\n",
    "codepConstDF4 = pd.DataFrame(codepConstViolations['Normal']).T"
   ]
  },
  {
   "cell_type": "code",
   "execution_count": 34,
   "id": "loving-swift",
   "metadata": {},
   "outputs": [
    {
     "data": {
      "text/html": [
       "<div>\n",
       "<style scoped>\n",
       "    .dataframe tbody tr th:only-of-type {\n",
       "        vertical-align: middle;\n",
       "    }\n",
       "\n",
       "    .dataframe tbody tr th {\n",
       "        vertical-align: top;\n",
       "    }\n",
       "\n",
       "    .dataframe thead th {\n",
       "        text-align: right;\n",
       "    }\n",
       "</style>\n",
       "<table border=\"1\" class=\"dataframe\">\n",
       "  <thead>\n",
       "    <tr style=\"text-align: right;\">\n",
       "      <th></th>\n",
       "      <th>correct</th>\n",
       "      <th>incorrect</th>\n",
       "      <th>paths</th>\n",
       "    </tr>\n",
       "  </thead>\n",
       "  <tbody>\n",
       "    <tr>\n",
       "      <th>P1018</th>\n",
       "      <td>156</td>\n",
       "      <td>28</td>\n",
       "      <td>[../../allConstraintsAnalysis/codependencyCons...</td>\n",
       "    </tr>\n",
       "    <tr>\n",
       "      <th>P171</th>\n",
       "      <td>2856794</td>\n",
       "      <td>2307</td>\n",
       "      <td>[../../allConstraintsAnalysis/codependencyCons...</td>\n",
       "    </tr>\n",
       "    <tr>\n",
       "      <th>P1283</th>\n",
       "      <td>1383</td>\n",
       "      <td>0</td>\n",
       "      <td>[../../allConstraintsAnalysis/codependencyCons...</td>\n",
       "    </tr>\n",
       "    <tr>\n",
       "      <th>P1540</th>\n",
       "      <td>236379</td>\n",
       "      <td>456</td>\n",
       "      <td>[../../allConstraintsAnalysis/codependencyCons...</td>\n",
       "    </tr>\n",
       "    <tr>\n",
       "      <th>P14</th>\n",
       "      <td>18073</td>\n",
       "      <td>27</td>\n",
       "      <td>[../../allConstraintsAnalysis/codependencyCons...</td>\n",
       "    </tr>\n",
       "    <tr>\n",
       "      <th>...</th>\n",
       "      <td>...</td>\n",
       "      <td>...</td>\n",
       "      <td>...</td>\n",
       "    </tr>\n",
       "    <tr>\n",
       "      <th>P2876</th>\n",
       "      <td>51</td>\n",
       "      <td>14</td>\n",
       "      <td>[../../allConstraintsAnalysis/codependencyCons...</td>\n",
       "    </tr>\n",
       "    <tr>\n",
       "      <th>P2900</th>\n",
       "      <td>21844</td>\n",
       "      <td>813</td>\n",
       "      <td>[../../allConstraintsAnalysis/codependencyCons...</td>\n",
       "    </tr>\n",
       "    <tr>\n",
       "      <th>P2916</th>\n",
       "      <td>0</td>\n",
       "      <td>1</td>\n",
       "      <td>[../../allConstraintsAnalysis/codependencyCons...</td>\n",
       "    </tr>\n",
       "    <tr>\n",
       "      <th>P2923</th>\n",
       "      <td>2687</td>\n",
       "      <td>2738</td>\n",
       "      <td>[../../allConstraintsAnalysis/codependencyCons...</td>\n",
       "    </tr>\n",
       "    <tr>\n",
       "      <th>P2929</th>\n",
       "      <td>5511</td>\n",
       "      <td>81</td>\n",
       "      <td>[../../allConstraintsAnalysis/codependencyCons...</td>\n",
       "    </tr>\n",
       "  </tbody>\n",
       "</table>\n",
       "<p>416 rows × 3 columns</p>\n",
       "</div>"
      ],
      "text/plain": [
       "       correct incorrect                                              paths\n",
       "P1018      156        28  [../../allConstraintsAnalysis/codependencyCons...\n",
       "P171   2856794      2307  [../../allConstraintsAnalysis/codependencyCons...\n",
       "P1283     1383         0  [../../allConstraintsAnalysis/codependencyCons...\n",
       "P1540   236379       456  [../../allConstraintsAnalysis/codependencyCons...\n",
       "P14      18073        27  [../../allConstraintsAnalysis/codependencyCons...\n",
       "...        ...       ...                                                ...\n",
       "P2876       51        14  [../../allConstraintsAnalysis/codependencyCons...\n",
       "P2900    21844       813  [../../allConstraintsAnalysis/codependencyCons...\n",
       "P2916        0         1  [../../allConstraintsAnalysis/codependencyCons...\n",
       "P2923     2687      2738  [../../allConstraintsAnalysis/codependencyCons...\n",
       "P2929     5511        81  [../../allConstraintsAnalysis/codependencyCons...\n",
       "\n",
       "[416 rows x 3 columns]"
      ]
     },
     "execution_count": 34,
     "metadata": {},
     "output_type": "execute_result"
    }
   ],
   "source": [
    "codepConstDF4"
   ]
  },
  {
   "cell_type": "code",
   "execution_count": 35,
   "id": "north-christian",
   "metadata": {},
   "outputs": [],
   "source": [
    "codepConstDF4['violation_ratio'] = codepConstDF4.apply(lambda p: p.incorrect / p.correct if p.correct != 0 else p.incorrect/100, axis=1)"
   ]
  },
  {
   "cell_type": "code",
   "execution_count": 36,
   "id": "closing-causing",
   "metadata": {},
   "outputs": [
    {
     "data": {
      "text/html": [
       "<div>\n",
       "<style scoped>\n",
       "    .dataframe tbody tr th:only-of-type {\n",
       "        vertical-align: middle;\n",
       "    }\n",
       "\n",
       "    .dataframe tbody tr th {\n",
       "        vertical-align: top;\n",
       "    }\n",
       "\n",
       "    .dataframe thead th {\n",
       "        text-align: right;\n",
       "    }\n",
       "</style>\n",
       "<table border=\"1\" class=\"dataframe\">\n",
       "  <thead>\n",
       "    <tr style=\"text-align: right;\">\n",
       "      <th></th>\n",
       "      <th>correct</th>\n",
       "      <th>incorrect</th>\n",
       "      <th>paths</th>\n",
       "      <th>violation_ratio</th>\n",
       "    </tr>\n",
       "  </thead>\n",
       "  <tbody>\n",
       "    <tr>\n",
       "      <th>P1111</th>\n",
       "      <td>0</td>\n",
       "      <td>46327</td>\n",
       "      <td>[../../allConstraintsAnalysis/codependencyCons...</td>\n",
       "      <td>463.270000</td>\n",
       "    </tr>\n",
       "    <tr>\n",
       "      <th>P1995</th>\n",
       "      <td>80</td>\n",
       "      <td>9985</td>\n",
       "      <td>[../../allConstraintsAnalysis/codependencyCons...</td>\n",
       "      <td>124.812500</td>\n",
       "    </tr>\n",
       "    <tr>\n",
       "      <th>P768</th>\n",
       "      <td>133</td>\n",
       "      <td>15143</td>\n",
       "      <td>[../../allConstraintsAnalysis/codependencyCons...</td>\n",
       "      <td>113.857143</td>\n",
       "    </tr>\n",
       "    <tr>\n",
       "      <th>P4501</th>\n",
       "      <td>419</td>\n",
       "      <td>22682</td>\n",
       "      <td>[../../allConstraintsAnalysis/codependencyCons...</td>\n",
       "      <td>54.133652</td>\n",
       "    </tr>\n",
       "    <tr>\n",
       "      <th>P2715</th>\n",
       "      <td>4</td>\n",
       "      <td>158</td>\n",
       "      <td>[../../allConstraintsAnalysis/codependencyCons...</td>\n",
       "      <td>39.500000</td>\n",
       "    </tr>\n",
       "    <tr>\n",
       "      <th>P275</th>\n",
       "      <td>5955</td>\n",
       "      <td>123578</td>\n",
       "      <td>[../../allConstraintsAnalysis/codependencyCons...</td>\n",
       "      <td>20.751973</td>\n",
       "    </tr>\n",
       "    <tr>\n",
       "      <th>P2376</th>\n",
       "      <td>1</td>\n",
       "      <td>19</td>\n",
       "      <td>[../../allConstraintsAnalysis/codependencyCons...</td>\n",
       "      <td>19.000000</td>\n",
       "    </tr>\n",
       "    <tr>\n",
       "      <th>P3912</th>\n",
       "      <td>297</td>\n",
       "      <td>3705</td>\n",
       "      <td>[../../allConstraintsAnalysis/codependencyCons...</td>\n",
       "      <td>12.474747</td>\n",
       "    </tr>\n",
       "    <tr>\n",
       "      <th>P2720</th>\n",
       "      <td>12</td>\n",
       "      <td>134</td>\n",
       "      <td>[../../allConstraintsAnalysis/codependencyCons...</td>\n",
       "      <td>11.166667</td>\n",
       "    </tr>\n",
       "    <tr>\n",
       "      <th>P2248</th>\n",
       "      <td>4020</td>\n",
       "      <td>41566</td>\n",
       "      <td>[../../allConstraintsAnalysis/codependencyCons...</td>\n",
       "      <td>10.339801</td>\n",
       "    </tr>\n",
       "    <tr>\n",
       "      <th>P2325</th>\n",
       "      <td>4071</td>\n",
       "      <td>40611</td>\n",
       "      <td>[../../allConstraintsAnalysis/codependencyCons...</td>\n",
       "      <td>9.975682</td>\n",
       "    </tr>\n",
       "    <tr>\n",
       "      <th>P2243</th>\n",
       "      <td>4025</td>\n",
       "      <td>36540</td>\n",
       "      <td>[../../allConstraintsAnalysis/codependencyCons...</td>\n",
       "      <td>9.078261</td>\n",
       "    </tr>\n",
       "    <tr>\n",
       "      <th>P2244</th>\n",
       "      <td>4027</td>\n",
       "      <td>36527</td>\n",
       "      <td>[../../allConstraintsAnalysis/codependencyCons...</td>\n",
       "      <td>9.070524</td>\n",
       "    </tr>\n",
       "    <tr>\n",
       "      <th>P3448</th>\n",
       "      <td>547</td>\n",
       "      <td>4302</td>\n",
       "      <td>[../../allConstraintsAnalysis/codependencyCons...</td>\n",
       "      <td>7.864717</td>\n",
       "    </tr>\n",
       "    <tr>\n",
       "      <th>P7707</th>\n",
       "      <td>65</td>\n",
       "      <td>445</td>\n",
       "      <td>[../../allConstraintsAnalysis/codependencyCons...</td>\n",
       "      <td>6.846154</td>\n",
       "    </tr>\n",
       "  </tbody>\n",
       "</table>\n",
       "</div>"
      ],
      "text/plain": [
       "      correct incorrect                                              paths  \\\n",
       "P1111       0     46327  [../../allConstraintsAnalysis/codependencyCons...   \n",
       "P1995      80      9985  [../../allConstraintsAnalysis/codependencyCons...   \n",
       "P768      133     15143  [../../allConstraintsAnalysis/codependencyCons...   \n",
       "P4501     419     22682  [../../allConstraintsAnalysis/codependencyCons...   \n",
       "P2715       4       158  [../../allConstraintsAnalysis/codependencyCons...   \n",
       "P275     5955    123578  [../../allConstraintsAnalysis/codependencyCons...   \n",
       "P2376       1        19  [../../allConstraintsAnalysis/codependencyCons...   \n",
       "P3912     297      3705  [../../allConstraintsAnalysis/codependencyCons...   \n",
       "P2720      12       134  [../../allConstraintsAnalysis/codependencyCons...   \n",
       "P2248    4020     41566  [../../allConstraintsAnalysis/codependencyCons...   \n",
       "P2325    4071     40611  [../../allConstraintsAnalysis/codependencyCons...   \n",
       "P2243    4025     36540  [../../allConstraintsAnalysis/codependencyCons...   \n",
       "P2244    4027     36527  [../../allConstraintsAnalysis/codependencyCons...   \n",
       "P3448     547      4302  [../../allConstraintsAnalysis/codependencyCons...   \n",
       "P7707      65       445  [../../allConstraintsAnalysis/codependencyCons...   \n",
       "\n",
       "       violation_ratio  \n",
       "P1111       463.270000  \n",
       "P1995       124.812500  \n",
       "P768        113.857143  \n",
       "P4501        54.133652  \n",
       "P2715        39.500000  \n",
       "P275         20.751973  \n",
       "P2376        19.000000  \n",
       "P3912        12.474747  \n",
       "P2720        11.166667  \n",
       "P2248        10.339801  \n",
       "P2325         9.975682  \n",
       "P2243         9.078261  \n",
       "P2244         9.070524  \n",
       "P3448         7.864717  \n",
       "P7707         6.846154  "
      ]
     },
     "execution_count": 36,
     "metadata": {},
     "output_type": "execute_result"
    }
   ],
   "source": [
    "codepConstDF4.sort_values(by=['violation_ratio'],ascending=False).head(15)"
   ]
  },
  {
   "cell_type": "code",
   "execution_count": 37,
   "id": "weighted-input",
   "metadata": {},
   "outputs": [],
   "source": [
    "# list(codepConstDF4.sort_values(by=['violation_ratio'],ascending=False).head(5).paths)"
   ]
  },
  {
   "cell_type": "code",
   "execution_count": 38,
   "id": "brief-effect",
   "metadata": {
    "scrolled": false
   },
   "outputs": [
    {
     "data": {
      "text/html": [
       "<div>\n",
       "<style scoped>\n",
       "    .dataframe tbody tr th:only-of-type {\n",
       "        vertical-align: middle;\n",
       "    }\n",
       "\n",
       "    .dataframe tbody tr th {\n",
       "        vertical-align: top;\n",
       "    }\n",
       "\n",
       "    .dataframe thead th {\n",
       "        text-align: right;\n",
       "    }\n",
       "</style>\n",
       "<table border=\"1\" class=\"dataframe\">\n",
       "  <thead>\n",
       "    <tr style=\"text-align: right;\">\n",
       "      <th></th>\n",
       "      <th>correct</th>\n",
       "      <th>incorrect</th>\n",
       "      <th>paths</th>\n",
       "      <th>violation_ratio</th>\n",
       "    </tr>\n",
       "  </thead>\n",
       "  <tbody>\n",
       "    <tr>\n",
       "      <th>P2214</th>\n",
       "      <td>2962988</td>\n",
       "      <td>711699</td>\n",
       "      <td>[../../allConstraintsAnalysis/codependencyCons...</td>\n",
       "      <td>0.240196</td>\n",
       "    </tr>\n",
       "    <tr>\n",
       "      <th>P433</th>\n",
       "      <td>31028893</td>\n",
       "      <td>435483</td>\n",
       "      <td>[../../allConstraintsAnalysis/codependencyCons...</td>\n",
       "      <td>0.014035</td>\n",
       "    </tr>\n",
       "    <tr>\n",
       "      <th>P275</th>\n",
       "      <td>5955</td>\n",
       "      <td>123578</td>\n",
       "      <td>[../../allConstraintsAnalysis/codependencyCons...</td>\n",
       "      <td>20.751973</td>\n",
       "    </tr>\n",
       "    <tr>\n",
       "      <th>P2860</th>\n",
       "      <td>174402886</td>\n",
       "      <td>114713</td>\n",
       "      <td>[../../allConstraintsAnalysis/codependencyCons...</td>\n",
       "      <td>0.000658</td>\n",
       "    </tr>\n",
       "    <tr>\n",
       "      <th>P1435</th>\n",
       "      <td>1893874</td>\n",
       "      <td>79479</td>\n",
       "      <td>[../../allConstraintsAnalysis/codependencyCons...</td>\n",
       "      <td>0.041966</td>\n",
       "    </tr>\n",
       "    <tr>\n",
       "      <th>P708</th>\n",
       "      <td>45253</td>\n",
       "      <td>54258</td>\n",
       "      <td>[../../allConstraintsAnalysis/codependencyCons...</td>\n",
       "      <td>1.198992</td>\n",
       "    </tr>\n",
       "    <tr>\n",
       "      <th>P197</th>\n",
       "      <td>117523</td>\n",
       "      <td>49903</td>\n",
       "      <td>[../../allConstraintsAnalysis/codependencyCons...</td>\n",
       "      <td>0.424623</td>\n",
       "    </tr>\n",
       "    <tr>\n",
       "      <th>P1598</th>\n",
       "      <td>36978</td>\n",
       "      <td>46481</td>\n",
       "      <td>[../../allConstraintsAnalysis/codependencyCons...</td>\n",
       "      <td>1.256991</td>\n",
       "    </tr>\n",
       "    <tr>\n",
       "      <th>P1111</th>\n",
       "      <td>0</td>\n",
       "      <td>46327</td>\n",
       "      <td>[../../allConstraintsAnalysis/codependencyCons...</td>\n",
       "      <td>463.270000</td>\n",
       "    </tr>\n",
       "    <tr>\n",
       "      <th>P2248</th>\n",
       "      <td>4020</td>\n",
       "      <td>41566</td>\n",
       "      <td>[../../allConstraintsAnalysis/codependencyCons...</td>\n",
       "      <td>10.339801</td>\n",
       "    </tr>\n",
       "    <tr>\n",
       "      <th>P2325</th>\n",
       "      <td>4071</td>\n",
       "      <td>40611</td>\n",
       "      <td>[../../allConstraintsAnalysis/codependencyCons...</td>\n",
       "      <td>9.975682</td>\n",
       "    </tr>\n",
       "    <tr>\n",
       "      <th>P856</th>\n",
       "      <td>1239292</td>\n",
       "      <td>38026</td>\n",
       "      <td>[../../allConstraintsAnalysis/codependencyCons...</td>\n",
       "      <td>0.030684</td>\n",
       "    </tr>\n",
       "    <tr>\n",
       "      <th>P2243</th>\n",
       "      <td>4025</td>\n",
       "      <td>36540</td>\n",
       "      <td>[../../allConstraintsAnalysis/codependencyCons...</td>\n",
       "      <td>9.078261</td>\n",
       "    </tr>\n",
       "    <tr>\n",
       "      <th>P2244</th>\n",
       "      <td>4027</td>\n",
       "      <td>36527</td>\n",
       "      <td>[../../allConstraintsAnalysis/codependencyCons...</td>\n",
       "      <td>9.070524</td>\n",
       "    </tr>\n",
       "    <tr>\n",
       "      <th>P413</th>\n",
       "      <td>357793</td>\n",
       "      <td>33607</td>\n",
       "      <td>[../../allConstraintsAnalysis/codependencyCons...</td>\n",
       "      <td>0.093929</td>\n",
       "    </tr>\n",
       "  </tbody>\n",
       "</table>\n",
       "</div>"
      ],
      "text/plain": [
       "         correct incorrect                                              paths  \\\n",
       "P2214    2962988    711699  [../../allConstraintsAnalysis/codependencyCons...   \n",
       "P433    31028893    435483  [../../allConstraintsAnalysis/codependencyCons...   \n",
       "P275        5955    123578  [../../allConstraintsAnalysis/codependencyCons...   \n",
       "P2860  174402886    114713  [../../allConstraintsAnalysis/codependencyCons...   \n",
       "P1435    1893874     79479  [../../allConstraintsAnalysis/codependencyCons...   \n",
       "P708       45253     54258  [../../allConstraintsAnalysis/codependencyCons...   \n",
       "P197      117523     49903  [../../allConstraintsAnalysis/codependencyCons...   \n",
       "P1598      36978     46481  [../../allConstraintsAnalysis/codependencyCons...   \n",
       "P1111          0     46327  [../../allConstraintsAnalysis/codependencyCons...   \n",
       "P2248       4020     41566  [../../allConstraintsAnalysis/codependencyCons...   \n",
       "P2325       4071     40611  [../../allConstraintsAnalysis/codependencyCons...   \n",
       "P856     1239292     38026  [../../allConstraintsAnalysis/codependencyCons...   \n",
       "P2243       4025     36540  [../../allConstraintsAnalysis/codependencyCons...   \n",
       "P2244       4027     36527  [../../allConstraintsAnalysis/codependencyCons...   \n",
       "P413      357793     33607  [../../allConstraintsAnalysis/codependencyCons...   \n",
       "\n",
       "       violation_ratio  \n",
       "P2214         0.240196  \n",
       "P433          0.014035  \n",
       "P275         20.751973  \n",
       "P2860         0.000658  \n",
       "P1435         0.041966  \n",
       "P708          1.198992  \n",
       "P197          0.424623  \n",
       "P1598         1.256991  \n",
       "P1111       463.270000  \n",
       "P2248        10.339801  \n",
       "P2325         9.975682  \n",
       "P856          0.030684  \n",
       "P2243         9.078261  \n",
       "P2244         9.070524  \n",
       "P413          0.093929  "
      ]
     },
     "execution_count": 38,
     "metadata": {},
     "output_type": "execute_result"
    }
   ],
   "source": [
    "codepConstDF4.sort_values(by=['incorrect'],ascending=False).head(15)"
   ]
  },
  {
   "cell_type": "code",
   "execution_count": 39,
   "id": "wireless-passenger",
   "metadata": {
    "scrolled": true
   },
   "outputs": [
    {
     "data": {
      "text/plain": [
       "count    416.000000\n",
       "mean       2.458610\n",
       "std       24.392334\n",
       "min        0.000000\n",
       "25%        0.001374\n",
       "50%        0.021510\n",
       "75%        0.217518\n",
       "max      463.270000\n",
       "Name: violation_ratio, dtype: float64"
      ]
     },
     "execution_count": 39,
     "metadata": {},
     "output_type": "execute_result"
    }
   ],
   "source": [
    "codepConstDF4['violation_ratio'].describe()"
   ]
  },
  {
   "cell_type": "code",
   "execution_count": 40,
   "id": "civilian-arnold",
   "metadata": {},
   "outputs": [
    {
     "data": {
      "text/plain": [
       "Text(0.5, 1.0, 'Co-Dependency Constraint - Version 4 - Violation Ratios')"
      ]
     },
     "execution_count": 40,
     "metadata": {},
     "output_type": "execute_result"
    },
    {
     "data": {
      "image/png": "[encoded data removed]",
      "text/plain": [
       "<Figure size 432x288 with 1 Axes>"
      ]
     },
     "metadata": {
      "needs_background": "light"
     },
     "output_type": "display_data"
    }
   ],
   "source": [
    "codepConstDF4['violation_ratio'].plot.hist(bins=100).set_title(\"Co-Dependency Constraint - Version 4 - Violation Ratios\")"
   ]
  },
  {
   "cell_type": "code",
   "execution_count": 41,
   "id": "threaded-cooler",
   "metadata": {
    "scrolled": true
   },
   "outputs": [
    {
     "data": {
      "text/plain": [
       "Text(0.5, 1.0, 'Co-Dependency Constraint - Version 4 - Violation Ratios <= 0.5')"
      ]
     },
     "execution_count": 41,
     "metadata": {},
     "output_type": "execute_result"
    },
    {
     "data": {
      "image/png": "[encoded data removed]",
      "text/plain": [
       "<Figure size 432x288 with 1 Axes>"
      ]
     },
     "metadata": {
      "needs_background": "light"
     },
     "output_type": "display_data"
    }
   ],
   "source": [
    "codepConstDF4[codepConstDF4['violation_ratio'] <= 0.5].violation_ratio.plot.hist(bins=100).set_title(\"Co-Dependency Constraint - Version 4 - Violation Ratios <= 0.5\")"
   ]
  },
  {
   "cell_type": "code",
   "execution_count": 78,
   "id": "olympic-charlotte",
   "metadata": {},
   "outputs": [
    {
     "name": "stdout",
     "output_type": "stream",
     "text": [
      "No. of properties whose violation ratio is greater than mean: 25/416\n"
     ]
    }
   ],
   "source": [
    "print(f\"No. of properties whose violation ratio is greater than mean: {sum(codepConstDF4['violation_ratio'] >= 2.414703)}/{len(codepConstDF4)}\")"
   ]
  },
  {
   "cell_type": "markdown",
   "id": "published-affiliate",
   "metadata": {},
   "source": [
    "### Find out time required"
   ]
  },
  {
   "cell_type": "code",
   "execution_count": 78,
   "id": "aggregate-conservative",
   "metadata": {},
   "outputs": [
    {
     "data": {
      "application/vnd.jupyter.widget-view+json": {
       "model_id": "e017f8292d534b0c872789141a718a68",
       "version_major": 2,
       "version_minor": 0
      },
      "text/plain": [
       "  0%|          | 0/81 [00:00<?, ?it/s]"
      ]
     },
     "metadata": {},
     "output_type": "display_data"
    },
    {
     "name": "stdout",
     "output_type": "stream",
     "text": [
      "count    1613.000000\n",
      "mean       43.621681\n",
      "std       109.482634\n",
      "min         0.781000\n",
      "25%         4.833000\n",
      "50%        10.424000\n",
      "75%        32.526000\n",
      "max      1386.353000\n",
      "dtype: float64\n"
     ]
    }
   ],
   "source": [
    "import pandas as pd\n",
    "import os\n",
    "from tqdm.notebook import tqdm\n",
    "\n",
    "codepConstViolations = {}\n",
    "\n",
    "codepConstViolations = {}\n",
    "codepConstPropList = set()\n",
    "\n",
    "def extractTimes(filename):\n",
    "    times = []\n",
    "    with open(filename) as f:\n",
    "        for line in f:\n",
    "            if \"real\" in line:\n",
    "                line = line.strip()\n",
    "                time1 = line.split(\"\\t\")[1]\n",
    "                mins, sec = time1.split(\"m\")\n",
    "                mins = int(mins)\n",
    "                sec = float(sec[:-1])\n",
    "                times.append(60 * mins + sec)\n",
    "    return times\n",
    "\n",
    "# codepConstViolationsSummary = {}\n",
    "times = []\n",
    "timesVersion = {\"MSN\": [], \"MN\": [], \"M\": [], \"N\": []}\n",
    "filePath = '/data/wd-correctness/propertiesSplit/checkViolations/exec_logs/'\n",
    "for filename in tqdm(os.listdir(filePath)):\n",
    "    if filename.startswith(\"timeLog_codepConst_\"):\n",
    "        ver = filename.split('_')[2]\n",
    "        tempTimes = extractTimes(filePath + filename)\n",
    "        times += tempTimes\n",
    "        timesVersion[ver] += tempTimes\n",
    "print(pd.Series(times).describe())"
   ]
  },
  {
   "cell_type": "code",
   "execution_count": 79,
   "id": "hearing-treasury",
   "metadata": {},
   "outputs": [
    {
     "name": "stdout",
     "output_type": "stream",
     "text": [
      "count    574.000000\n",
      "mean      19.207840\n",
      "std       44.611055\n",
      "min        0.781000\n",
      "25%        4.293250\n",
      "50%        7.367500\n",
      "75%       15.204000\n",
      "max      735.489000\n",
      "dtype: float64\n"
     ]
    }
   ],
   "source": [
    "print(pd.Series(timesVersion['MSN']).describe())"
   ]
  },
  {
   "cell_type": "code",
   "execution_count": 80,
   "id": "animal-vocabulary",
   "metadata": {},
   "outputs": [
    {
     "name": "stdout",
     "output_type": "stream",
     "text": [
      "count     507.000000\n",
      "mean       62.641158\n",
      "std       142.860974\n",
      "min         0.841000\n",
      "25%         6.228000\n",
      "50%        17.467000\n",
      "75%        47.264500\n",
      "max      1291.840000\n",
      "dtype: float64\n"
     ]
    }
   ],
   "source": [
    "print(pd.Series(timesVersion['MN']).describe())"
   ]
  },
  {
   "cell_type": "code",
   "execution_count": 81,
   "id": "gentle-accessory",
   "metadata": {},
   "outputs": [
    {
     "name": "stdout",
     "output_type": "stream",
     "text": [
      "count     78.000000\n",
      "mean      28.893218\n",
      "std       65.301546\n",
      "min        1.392000\n",
      "25%        4.018250\n",
      "50%        8.596000\n",
      "75%       22.877250\n",
      "max      302.819000\n",
      "dtype: float64\n"
     ]
    }
   ],
   "source": [
    "print(pd.Series(timesVersion['M']).describe())"
   ]
  },
  {
   "cell_type": "code",
   "execution_count": 82,
   "id": "fresh-namibia",
   "metadata": {},
   "outputs": [
    {
     "name": "stdout",
     "output_type": "stream",
     "text": [
      "count     454.000000\n",
      "mean       55.779150\n",
      "std       123.567409\n",
      "min         0.942000\n",
      "25%         4.964250\n",
      "50%        13.229000\n",
      "75%        47.667000\n",
      "max      1386.353000\n",
      "dtype: float64\n"
     ]
    }
   ],
   "source": [
    "print(pd.Series(timesVersion['N']).describe())"
   ]
  },
  {
   "cell_type": "markdown",
   "id": "industrial-parcel",
   "metadata": {},
   "source": [
    "## Symmetric Constraint (Q21510862)\n",
    "\n",
    "This constraint says, if node1 has a property with this constraint, then both `(node1)-[prop]->(node2)` and `(node2)-[prop]->(node1)` must be present with few exceptions"
   ]
  },
  {
   "cell_type": "markdown",
   "id": "silent-fundamentals",
   "metadata": {},
   "source": [
    "### Constraints File"
   ]
  },
  {
   "cell_type": "code",
   "execution_count": 9,
   "id": "known-wednesday",
   "metadata": {},
   "outputs": [
    {
     "name": "stdout",
     "output_type": "stream",
     "text": [
      "[2021-03-28 11:05:06 query]: SQL Translation:\r\n",
      "---------------------------------------------\r\n",
      "  SELECT *\r\n",
      "     FROM graph_1 AS graph_1_c1\r\n",
      "     WHERE graph_1_c1.\"label\"=?\r\n",
      "     AND graph_1_c1.\"node2\"=?\r\n",
      "  PARAS: ['P2302', 'Q21510862']\r\n",
      "---------------------------------------------\r\n"
     ]
    }
   ],
   "source": [
    "!kgtk --debug query -i ../../gdrive-kgtk-dump-2020-12-07/claims.properties.tsv.gz \\\n",
    "    ../../gdrive-kgtk-dump-2020-12-07/qualifiers.properties.tsv.gz \\\n",
    "    --match \"p: (nodeProp1)-[nodePropEdge:P2302]->(:Q21510862)\" \\\n",
    "    -o ../../constraintsOP/symmetricConstraint/claims.constraints_list.tsv \\\n",
    "    --graph-cache ~/sqlite3_caches/temp1345.valuetype.sqlite3.db"
   ]
  },
  {
   "cell_type": "code",
   "execution_count": 10,
   "id": "legal-diamond",
   "metadata": {},
   "outputs": [],
   "source": [
    "import pandas as pd\n",
    "qualiDF = pd.read_csv(\"../../gdrive-kgtk-dump-2020-12-07/qualifiers.properties.tsv.gz\",sep='\\t')\n",
    "constDF = pd.read_csv(\"../../constraintsOP/symmetricConstraint/claims.constraints_list.tsv\",sep='\\t')"
   ]
  },
  {
   "cell_type": "code",
   "execution_count": 11,
   "id": "exceptional-morris",
   "metadata": {},
   "outputs": [],
   "source": [
    "constDF2 = constDF.set_index('id').join(qualiDF.set_index('node1'),rsuffix='_qualifier').drop(columns=['id', 'node2;wikidatatype_qualifier', 'rank', 'node2', 'label', 'node2;wikidatatype']).rename(columns={'label_qualifier':'label', 'node2_qualifier': 'node2'})\n",
    "constDF2 = constDF2.reset_index()\n",
    "constDF2 = constDF2.rename(columns={'index':'id'})\n",
    "constDF2['label'] = constDF2.label.fillna(\"P2316\")\n",
    "constDF2['node2'] = constDF2.node2.fillna(\"Normal\")"
   ]
  },
  {
   "cell_type": "code",
   "execution_count": 12,
   "id": "burning-involvement",
   "metadata": {},
   "outputs": [],
   "source": [
    "constDF2.to_csv(\"../../constraintsOP/symmetricConstraint/claims.constraints_all.tsv\",sep=\"\\t\",index=False)"
   ]
  },
  {
   "cell_type": "code",
   "execution_count": 13,
   "id": "naval-identification",
   "metadata": {},
   "outputs": [],
   "source": [
    "import pandas as pd\n",
    "import math\n",
    "dfItemRequires = pd.read_csv('../../constraintsOP/symmetricConstraint/claims.constraints_all.tsv',sep='\\t')"
   ]
  },
  {
   "cell_type": "code",
   "execution_count": 14,
   "id": "considered-madison",
   "metadata": {},
   "outputs": [],
   "source": [
    "dfItemRequires = dfItemRequires.groupby(['id','node1','label']).node2.apply(lambda p: p.tolist()).reset_index()"
   ]
  },
  {
   "cell_type": "code",
   "execution_count": 15,
   "id": "alone-cattle",
   "metadata": {},
   "outputs": [
    {
     "data": {
      "text/plain": [
       "array(['P2316', 'P2303'], dtype=object)"
      ]
     },
     "execution_count": 15,
     "metadata": {},
     "output_type": "execute_result"
    }
   ],
   "source": [
    "dfItemRequires['label'].unique()"
   ]
  },
  {
   "cell_type": "code",
   "execution_count": 16,
   "id": "mighty-ordinary",
   "metadata": {},
   "outputs": [
    {
     "data": {
      "text/plain": [
       "P2316    42\n",
       "P2303     3\n",
       "Name: label, dtype: int64"
      ]
     },
     "execution_count": 16,
     "metadata": {},
     "output_type": "execute_result"
    }
   ],
   "source": [
    "dfItemRequires['label'].value_counts()"
   ]
  },
  {
   "cell_type": "code",
   "execution_count": 17,
   "id": "sensitive-alliance",
   "metadata": {},
   "outputs": [],
   "source": [
    "#Reference: https://stackoverflow.com/a/17298454\n",
    "# dfItemRequires.pivot_table('node2', ['node1', 'id'], 'label')\n",
    "dfItemRequires = dfItemRequires.pivot(index=['node1','id'], columns='label', values='node2')"
   ]
  },
  {
   "cell_type": "code",
   "execution_count": 18,
   "id": "tender-valley",
   "metadata": {},
   "outputs": [
    {
     "data": {
      "text/html": [
       "<div>\n",
       "<style scoped>\n",
       "    .dataframe tbody tr th:only-of-type {\n",
       "        vertical-align: middle;\n",
       "    }\n",
       "\n",
       "    .dataframe tbody tr th {\n",
       "        vertical-align: top;\n",
       "    }\n",
       "\n",
       "    .dataframe thead th {\n",
       "        text-align: right;\n",
       "    }\n",
       "</style>\n",
       "<table border=\"1\" class=\"dataframe\">\n",
       "  <thead>\n",
       "    <tr style=\"text-align: right;\">\n",
       "      <th></th>\n",
       "      <th>label</th>\n",
       "      <th>P2303</th>\n",
       "      <th>P2316</th>\n",
       "    </tr>\n",
       "    <tr>\n",
       "      <th>node1</th>\n",
       "      <th>id</th>\n",
       "      <th></th>\n",
       "      <th></th>\n",
       "    </tr>\n",
       "  </thead>\n",
       "  <tbody>\n",
       "    <tr>\n",
       "      <th>P1322</th>\n",
       "      <th>P1322-P2302-Q21510862-85dea891-0</th>\n",
       "      <td>NaN</td>\n",
       "      <td>[Normal]</td>\n",
       "    </tr>\n",
       "    <tr>\n",
       "      <th>P1327</th>\n",
       "      <th>P1327-P2302-Q21510862-a3c3a094-0</th>\n",
       "      <td>NaN</td>\n",
       "      <td>[Normal]</td>\n",
       "    </tr>\n",
       "    <tr>\n",
       "      <th>P1382</th>\n",
       "      <th>P1382-P2302-Q21510862-f6bcfecf-0</th>\n",
       "      <td>NaN</td>\n",
       "      <td>[Normal]</td>\n",
       "    </tr>\n",
       "    <tr>\n",
       "      <th>P1560</th>\n",
       "      <th>P1560-P2302-Q21510862-fabecaeb-0</th>\n",
       "      <td>NaN</td>\n",
       "      <td>[Q21502408]</td>\n",
       "    </tr>\n",
       "    <tr>\n",
       "      <th>P1639</th>\n",
       "      <th>P1639-P2302-Q21510862-384edcd4-0</th>\n",
       "      <td>NaN</td>\n",
       "      <td>[Q21502408]</td>\n",
       "    </tr>\n",
       "  </tbody>\n",
       "</table>\n",
       "</div>"
      ],
      "text/plain": [
       "label                                  P2303        P2316\n",
       "node1 id                                                 \n",
       "P1322 P1322-P2302-Q21510862-85dea891-0   NaN     [Normal]\n",
       "P1327 P1327-P2302-Q21510862-a3c3a094-0   NaN     [Normal]\n",
       "P1382 P1382-P2302-Q21510862-f6bcfecf-0   NaN     [Normal]\n",
       "P1560 P1560-P2302-Q21510862-fabecaeb-0   NaN  [Q21502408]\n",
       "P1639 P1639-P2302-Q21510862-384edcd4-0   NaN  [Q21502408]"
      ]
     },
     "execution_count": 18,
     "metadata": {},
     "output_type": "execute_result"
    }
   ],
   "source": [
    "dfItemRequires.head()"
   ]
  },
  {
   "cell_type": "code",
   "execution_count": 19,
   "id": "cellular-canal",
   "metadata": {},
   "outputs": [],
   "source": [
    "dfItemRequires = dfItemRequires.droplevel(1)"
   ]
  },
  {
   "cell_type": "code",
   "execution_count": 20,
   "id": "desperate-poster",
   "metadata": {},
   "outputs": [
    {
     "data": {
      "text/html": [
       "<div>\n",
       "<style scoped>\n",
       "    .dataframe tbody tr th:only-of-type {\n",
       "        vertical-align: middle;\n",
       "    }\n",
       "\n",
       "    .dataframe tbody tr th {\n",
       "        vertical-align: top;\n",
       "    }\n",
       "\n",
       "    .dataframe thead th {\n",
       "        text-align: right;\n",
       "    }\n",
       "</style>\n",
       "<table border=\"1\" class=\"dataframe\">\n",
       "  <thead>\n",
       "    <tr style=\"text-align: right;\">\n",
       "      <th>label</th>\n",
       "      <th>P2303</th>\n",
       "      <th>P2316</th>\n",
       "    </tr>\n",
       "    <tr>\n",
       "      <th>node1</th>\n",
       "      <th></th>\n",
       "      <th></th>\n",
       "    </tr>\n",
       "  </thead>\n",
       "  <tbody>\n",
       "    <tr>\n",
       "      <th>P1322</th>\n",
       "      <td>NaN</td>\n",
       "      <td>[Normal]</td>\n",
       "    </tr>\n",
       "    <tr>\n",
       "      <th>P1327</th>\n",
       "      <td>NaN</td>\n",
       "      <td>[Normal]</td>\n",
       "    </tr>\n",
       "    <tr>\n",
       "      <th>P1382</th>\n",
       "      <td>NaN</td>\n",
       "      <td>[Normal]</td>\n",
       "    </tr>\n",
       "    <tr>\n",
       "      <th>P1560</th>\n",
       "      <td>NaN</td>\n",
       "      <td>[Q21502408]</td>\n",
       "    </tr>\n",
       "    <tr>\n",
       "      <th>P1639</th>\n",
       "      <td>NaN</td>\n",
       "      <td>[Q21502408]</td>\n",
       "    </tr>\n",
       "  </tbody>\n",
       "</table>\n",
       "</div>"
      ],
      "text/plain": [
       "label P2303        P2316\n",
       "node1                   \n",
       "P1322   NaN     [Normal]\n",
       "P1327   NaN     [Normal]\n",
       "P1382   NaN     [Normal]\n",
       "P1560   NaN  [Q21502408]\n",
       "P1639   NaN  [Q21502408]"
      ]
     },
     "execution_count": 20,
     "metadata": {},
     "output_type": "execute_result"
    }
   ],
   "source": [
    "dfItemRequires.head()"
   ]
  },
  {
   "cell_type": "markdown",
   "id": "primary-netherlands",
   "metadata": {},
   "source": [
    "### Query Generator"
   ]
  },
  {
   "cell_type": "code",
   "execution_count": 21,
   "id": "pointed-haven",
   "metadata": {},
   "outputs": [
    {
     "data": {
      "application/vnd.jupyter.widget-view+json": {
       "model_id": "96c4046bd4504eb7af1a2fa453b971c4",
       "version_major": 2,
       "version_minor": 0
      },
      "text/plain": [
       "0it [00:00, ?it/s]"
      ]
     },
     "metadata": {},
     "output_type": "display_data"
    }
   ],
   "source": [
    "from tqdm.notebook import tqdm\n",
    "import os.path\n",
    "import os\n",
    "\n",
    "cnt = 0\n",
    "fCnt = 0\n",
    "\n",
    "folderName = 'symmetricConstraint'\n",
    "shellFileSuffix = 'symmConst_Validator_'\n",
    "graph_cache_prefix = 'symm_03'\n",
    "\n",
    "for row in tqdm(dfItemRequires.iterrows()):\n",
    "#     try:\n",
    "        prop = row[0]\n",
    "        constraint = row[1]\n",
    "        mandatory = []\n",
    "        suggestion = []\n",
    "        normal = []\n",
    "        prop = str(prop)\n",
    "        \n",
    "        if type(constraint['P2316']) == list:\n",
    "            if constraint['P2316'][0] == 'Q21502408':\n",
    "                sfname = 'mandatory'\n",
    "            elif constraint['P2316'][0] == 'Q62026391':\n",
    "                sfname = 'suggestion'\n",
    "            elif constraint['P2316'][0] == 'Normal':\n",
    "                sfname = 'normal'\n",
    "        else:\n",
    "            sfname = 'normal'\n",
    "        \n",
    "        if not(os.path.isfile(\"../../propertiesSplit/claims.\"+ prop +\".tsv\")):\n",
    "            continue\n",
    "                \n",
    "        command = \"{ time kgtk --debug query -i ../../propertiesSplit/claims.\"+ prop +\".tsv \\\n",
    "                    ../../propertiesSplit/claims.\"+ prop +\".copy2.tsv \\\n",
    "                    --match 'tsv: (node1)-[nodeProp]->(node2), copy2: (node2)-[]->(node1)' \"\n",
    "        \n",
    "        os.system(\"cp ../../propertiesSplit/claims.\"+ prop +\".tsv ../../propertiesSplit/claims.\"+ prop +\".copy2.tsv\")\n",
    "        \n",
    "        if cnt % 20 == 0:\n",
    "            fCnt += 1\n",
    "            fOP = open(\"../../propertiesSplit/checkViolations/\" + shellFileSuffix + str(fCnt) + \".sh\",\"w\")\n",
    "        command\n",
    "        if type(constraint['P2303']) != list: # Exceptions not present\n",
    "            commandRest = \" --return 'nodeProp.id, node1 as `node1`, nodeProp.label as `label`, node2 as `node2`'  \\\n",
    "            -o ../../allConstraintsAnalysis/\" + folderName + \"/\" + sfname + \"/claims.\"+ prop +\".correct.tsv \\\n",
    "            --graph-cache ~/sqlite3_caches/\"+graph_cache_prefix+\"_\" + str(fCnt) + \".sqlite3.db; } 2>> ../../propertiesSplit/checkViolations/exec_logs/\" + shellFileSuffix + str(fCnt) + \".txt; \\\n",
    "             kgtk --debug ifnotexists -i ../../propertiesSplit/claims.\"+ prop +\".tsv \\\n",
    "            --filter-on ../../allConstraintsAnalysis/\" + folderName + \"/\" + sfname + \"/claims.\"+ prop +\".correct.tsv \\\n",
    "            --filter-mode NONE \\\n",
    "            --input-keys node1 label \\\n",
    "            --filter-keys node1 label \"\n",
    "            \n",
    "            commandOPFile = \"-o ../../allConstraintsAnalysis/\" + folderName + \"/\" + sfname + \"/claims.\"+ prop +\".\"\n",
    "            \n",
    "            command += commandRest + commandOPFile + \"incorrect.tsv\\n\"\n",
    "#             print(command)\n",
    "            fOP.write(command)\n",
    "        else:\n",
    "            excptns = constraint['P2303']\n",
    "            commandRest = \" --return 'distinct nodeProp.id, node1 as `node1`, nodeProp.label as `label`, node2 as `node2`'  \\\n",
    "            -o ../../allConstraintsAnalysis/\" + folderName + \"/\" + sfname + \"/claims.\"+ prop +\".correct_wo_exceptions.tsv \\\n",
    "            --graph-cache ~/sqlite3_caches/\"+graph_cache_prefix+\"_\" + str(fCnt) + \".sqlite3.db; } 2>> ../../propertiesSplit/checkViolations/exec_logs/\" + shellFileSuffix + str(fCnt) + \".txt; \\\n",
    "             kgtk --debug ifnotexists -i ../../propertiesSplit/claims.\"+ prop +\".tsv \\\n",
    "            --filter-on ../../allConstraintsAnalysis/\" + folderName + \"/\" + sfname + \"/claims.\"+ prop +\".correct_wo_exceptions.tsv \\\n",
    "            --filter-mode NONE \\\n",
    "            --input-keys node1 label \\\n",
    "            --filter-keys node1 label \"\n",
    "            \n",
    "            commandOPFile = \"-o ../../allConstraintsAnalysis/\" + folderName + \"/\" + sfname + \"/claims.\"+ prop +\".\"\n",
    "            \n",
    "            command += commandRest + commandOPFile + \"incorrect_wo_exceptions.tsv\\n\"\n",
    "#             print(command)\n",
    "            fOP.write(command)\n",
    "            \n",
    "            command = \"  { time kgtk --debug query -i ../../allConstraintsAnalysis/\" + folderName + \"/\" + sfname + \"/claims.\" + prop + \".incorrect_wo_exceptions.tsv \\\n",
    "                    --match '(node1)-[]->()' --where 'node1 in \" + str(list(excptns)).replace(\"'\",'\"') + \"' \\\n",
    "                    -o ../../allConstraintsAnalysis/\" + folderName + \"/\" + sfname + \"/claims.\" + prop + \".correct_exceptions.tsv \\\n",
    "                    --graph-cache ~/sqlite3_caches/\"+graph_cache_prefix+\"_\" + str(fCnt) + \".sqlite3.db; } 2>> ../../propertiesSplit/checkViolations/exec_logs/\" + shellFileSuffix + str(fCnt) + \".txt\\n\"\n",
    "#             print(command)\n",
    "            fOP.write(command)\n",
    "            \n",
    "            command = \"  kgtk --debug ifnotexists -i ../../allConstraintsAnalysis/\" + folderName + \"/\" + sfname + \"/claims.\" + prop + \".incorrect_wo_exceptions.tsv \\\n",
    "            --filter-on ../../allConstraintsAnalysis/\" + folderName + \"/\" + sfname + \"/claims.\" + prop + \".correct_exceptions.tsv \\\n",
    "            --filter-mode NONE \\\n",
    "            --input-keys node1 label \\\n",
    "            --filter-keys node1 label \\\n",
    "            -o ../../allConstraintsAnalysis/\" + folderName + \"/\" + sfname + \"/claims.\"+ prop +\".incorrect.tsv\\n\"\n",
    "#             print(command)\n",
    "            fOP.write(command)\n",
    "            \n",
    "            command = \"  kgtk cat -i ../../allConstraintsAnalysis/\" + folderName + \"/\" + sfname + \"/claims.\"+ prop +\".correct_wo_exceptions.tsv \\\n",
    "                    ../../allConstraintsAnalysis/\" + folderName + \"/\" + sfname + \"/claims.\"+ prop +\".correct_exceptions.tsv \\\n",
    "                    -o ../../allConstraintsAnalysis/\" + folderName + \"/\" + sfname + \"/claims.\"+ prop +\".correct.tsv\\n\"\n",
    "#             print(command)\n",
    "            fOP.write(command)\n",
    "        \n",
    "        \n",
    "        cnt += 1\n",
    "#     except:\n",
    "#         print(\"Something failed for prop:\",prop)"
   ]
  },
  {
   "cell_type": "code",
   "execution_count": 22,
   "id": "polar-canada",
   "metadata": {},
   "outputs": [
    {
     "data": {
      "text/plain": [
       "38"
      ]
     },
     "execution_count": 22,
     "metadata": {},
     "output_type": "execute_result"
    }
   ],
   "source": [
    "cnt"
   ]
  },
  {
   "cell_type": "code",
   "execution_count": 23,
   "id": "virtual-disney",
   "metadata": {},
   "outputs": [],
   "source": [
    "# import os\n",
    "# for i in range(1,3):\n",
    "#     os.system(\"screen -dm sh ../../propertiesSplit/checkViolations/symmConst_Validator_\"+str(i)+\".sh\")"
   ]
  },
  {
   "cell_type": "markdown",
   "id": "coral-cheese",
   "metadata": {},
   "source": [
    "### Analyze Violations"
   ]
  },
  {
   "cell_type": "code",
   "execution_count": 46,
   "id": "governmental-backup",
   "metadata": {},
   "outputs": [
    {
     "data": {
      "application/vnd.jupyter.widget-view+json": {
       "model_id": "a42710fdc9234423bd55f52d61bc8687",
       "version_major": 2,
       "version_minor": 0
      },
      "text/plain": [
       "0it [00:00, ?it/s]"
      ]
     },
     "metadata": {},
     "output_type": "display_data"
    },
    {
     "data": {
      "application/vnd.jupyter.widget-view+json": {
       "model_id": "bdd00d3eb7114e199bffdd209a5e368f",
       "version_major": 2,
       "version_minor": 0
      },
      "text/plain": [
       "  0%|          | 0/13 [00:00<?, ?it/s]"
      ]
     },
     "metadata": {},
     "output_type": "display_data"
    },
    {
     "data": {
      "application/vnd.jupyter.widget-view+json": {
       "model_id": "a5aa7d7ee1fa4f3b981c7f6f2c28764a",
       "version_major": 2,
       "version_minor": 0
      },
      "text/plain": [
       "  0%|          | 0/62 [00:00<?, ?it/s]"
      ]
     },
     "metadata": {},
     "output_type": "display_data"
    },
    {
     "data": {
      "application/vnd.jupyter.widget-view+json": {
       "model_id": "39db3cf2aaba4cd081e69eae1d4400f2",
       "version_major": 2,
       "version_minor": 0
      },
      "text/plain": [
       "  0%|          | 0/6 [00:00<?, ?it/s]"
      ]
     },
     "metadata": {},
     "output_type": "display_data"
    }
   ],
   "source": [
    "import pandas as pd\n",
    "import os\n",
    "from tqdm.notebook import tqdm\n",
    "\n",
    "symmConstViolations = {}\n",
    "\n",
    "def countLines(fname):\n",
    "    cnt = -1\n",
    "    with open(fname, 'r') as f:\n",
    "        for line in f:\n",
    "            cnt += 1\n",
    "    return cnt\n",
    "\n",
    "symmConstViolations = {}\n",
    "symmConstPropList = set()\n",
    "\n",
    "# codepConstViolationsSummary = {}\n",
    "\n",
    "\n",
    "filePath = \"../../allConstraintsAnalysis/symmetricConstraint/\"\n",
    "for folder in tqdm(iter(['mandatory','normal','suggestion'])):\n",
    "    for filename in tqdm(os.listdir(filePath + folder)):\n",
    "        prop = filename.split(\".\")[1]\n",
    "        correctness = filename.split(\".\")[2]\n",
    "        if correctness not in ['correct','incorrect']:\n",
    "            continue\n",
    "        symmConstPropList.add(prop)\n",
    "        count1 = countLines(filePath+folder+'/'+filename)\n",
    "        if folder not in symmConstViolations:\n",
    "            symmConstViolations[folder] = {}\n",
    "        if prop not in symmConstViolations[folder]:\n",
    "            symmConstViolations[folder][prop] = {'correct': 0, 'incorrect': 0, 'paths': []}\n",
    "        symmConstViolations[folder][prop][correctness] = count1\n",
    "        symmConstViolations[folder][prop]['paths'].append(filePath+folder+'/'+filename)"
   ]
  },
  {
   "cell_type": "code",
   "execution_count": 47,
   "id": "helpful-offset",
   "metadata": {},
   "outputs": [
    {
     "data": {
      "text/plain": [
       "36"
      ]
     },
     "execution_count": 47,
     "metadata": {},
     "output_type": "execute_result"
    }
   ],
   "source": [
    "len(symmConstPropList)"
   ]
  },
  {
   "cell_type": "code",
   "execution_count": 48,
   "id": "entertaining-rescue",
   "metadata": {},
   "outputs": [
    {
     "data": {
      "application/vnd.jupyter.widget-view+json": {
       "model_id": "b70260cae00b4e07a7f2bf396abc6da7",
       "version_major": 2,
       "version_minor": 0
      },
      "text/plain": [
       "0it [00:00, ?it/s]"
      ]
     },
     "metadata": {},
     "output_type": "display_data"
    }
   ],
   "source": [
    "symmConstViolationsSummary = {}\n",
    "for folder in tqdm(iter(['mandatory','normal','suggestion'])):\n",
    "    symmConstViolationsSummary[folder] = {'correct': 0, 'incorrect': 0}\n",
    "    for prop in symmConstViolations[folder].keys():\n",
    "        symmConstViolationsSummary[folder]['correct'] += symmConstViolations[folder][prop]['correct']\n",
    "        symmConstViolationsSummary[folder]['incorrect'] += symmConstViolations[folder][prop]['incorrect']\n",
    "    symmConstViolationsSummary[folder]['total'] = symmConstViolationsSummary[folder]['correct'] + symmConstViolationsSummary[folder]['incorrect']\n",
    "    symmConstViolationsSummary[folder]['percIncorrect'] = symmConstViolationsSummary[folder]['incorrect'] / symmConstViolationsSummary[folder]['total'] * 100\n",
    "    symmConstViolationsSummary[folder]['propCount'] = len(symmConstViolations[folder].keys())"
   ]
  },
  {
   "cell_type": "code",
   "execution_count": 49,
   "id": "copyrighted-marshall",
   "metadata": {},
   "outputs": [
    {
     "data": {
      "text/plain": [
       "{'mandatory': {'correct': 7439,\n",
       "  'incorrect': 34,\n",
       "  'total': 7473,\n",
       "  'percIncorrect': 0.454971229760471,\n",
       "  'propCount': 5},\n",
       " 'normal': {'correct': 6239704,\n",
       "  'incorrect': 47959,\n",
       "  'total': 6287663,\n",
       "  'percIncorrect': 0.7627476218111562,\n",
       "  'propCount': 28},\n",
       " 'suggestion': {'correct': 782869,\n",
       "  'incorrect': 31595,\n",
       "  'total': 814464,\n",
       "  'percIncorrect': 3.879238370265598,\n",
       "  'propCount': 3}}"
      ]
     },
     "execution_count": 49,
     "metadata": {},
     "output_type": "execute_result"
    }
   ],
   "source": [
    "symmConstViolationsSummary"
   ]
  },
  {
   "cell_type": "code",
   "execution_count": 50,
   "id": "enhanced-ontario",
   "metadata": {},
   "outputs": [
    {
     "data": {
      "text/plain": [
       "7109600"
      ]
     },
     "execution_count": 50,
     "metadata": {},
     "output_type": "execute_result"
    }
   ],
   "source": [
    "noOfStmts = 0\n",
    "for fold in symmConstViolationsSummary.keys():\n",
    "    noOfStmts += symmConstViolationsSummary[fold]['total']\n",
    "noOfStmts"
   ]
  },
  {
   "cell_type": "code",
   "execution_count": 51,
   "id": "representative-conjunction",
   "metadata": {},
   "outputs": [
    {
     "data": {
      "text/html": [
       "<div>\n",
       "<style scoped>\n",
       "    .dataframe tbody tr th:only-of-type {\n",
       "        vertical-align: middle;\n",
       "    }\n",
       "\n",
       "    .dataframe tbody tr th {\n",
       "        vertical-align: top;\n",
       "    }\n",
       "\n",
       "    .dataframe thead th {\n",
       "        text-align: right;\n",
       "    }\n",
       "</style>\n",
       "<table border=\"1\" class=\"dataframe\">\n",
       "  <thead>\n",
       "    <tr style=\"text-align: right;\">\n",
       "      <th></th>\n",
       "      <th>correct</th>\n",
       "      <th>incorrect</th>\n",
       "      <th>paths</th>\n",
       "      <th>violation_ratio</th>\n",
       "    </tr>\n",
       "  </thead>\n",
       "  <tbody>\n",
       "    <tr>\n",
       "      <th>P2152</th>\n",
       "      <td>75</td>\n",
       "      <td>1</td>\n",
       "      <td>[../../allConstraintsAnalysis/symmetricConstra...</td>\n",
       "      <td>0.013333</td>\n",
       "    </tr>\n",
       "    <tr>\n",
       "      <th>P1639</th>\n",
       "      <td>2059</td>\n",
       "      <td>20</td>\n",
       "      <td>[../../allConstraintsAnalysis/symmetricConstra...</td>\n",
       "      <td>0.009713</td>\n",
       "    </tr>\n",
       "    <tr>\n",
       "      <th>P1560</th>\n",
       "      <td>3239</td>\n",
       "      <td>13</td>\n",
       "      <td>[../../allConstraintsAnalysis/symmetricConstra...</td>\n",
       "      <td>0.004014</td>\n",
       "    </tr>\n",
       "    <tr>\n",
       "      <th>P6185</th>\n",
       "      <td>280</td>\n",
       "      <td>0</td>\n",
       "      <td>[../../allConstraintsAnalysis/symmetricConstra...</td>\n",
       "      <td>0.000000</td>\n",
       "    </tr>\n",
       "    <tr>\n",
       "      <th>P3364</th>\n",
       "      <td>1786</td>\n",
       "      <td>0</td>\n",
       "      <td>[../../allConstraintsAnalysis/symmetricConstra...</td>\n",
       "      <td>0.000000</td>\n",
       "    </tr>\n",
       "  </tbody>\n",
       "</table>\n",
       "</div>"
      ],
      "text/plain": [
       "      correct incorrect                                              paths  \\\n",
       "P2152      75         1  [../../allConstraintsAnalysis/symmetricConstra...   \n",
       "P1639    2059        20  [../../allConstraintsAnalysis/symmetricConstra...   \n",
       "P1560    3239        13  [../../allConstraintsAnalysis/symmetricConstra...   \n",
       "P6185     280         0  [../../allConstraintsAnalysis/symmetricConstra...   \n",
       "P3364    1786         0  [../../allConstraintsAnalysis/symmetricConstra...   \n",
       "\n",
       "       violation_ratio  \n",
       "P2152         0.013333  \n",
       "P1639         0.009713  \n",
       "P1560         0.004014  \n",
       "P6185         0.000000  \n",
       "P3364         0.000000  "
      ]
     },
     "execution_count": 51,
     "metadata": {},
     "output_type": "execute_result"
    }
   ],
   "source": [
    "symmConstDF1 = pd.DataFrame(symmConstViolations['mandatory']).T\n",
    "symmConstDF1['violation_ratio'] = symmConstDF1.apply(lambda p: p.incorrect / p.correct if p.correct != 0 else p.incorrect/100, axis=1)\n",
    "symmConstDF1.sort_values(by=['violation_ratio'],ascending=False).head(15)"
   ]
  },
  {
   "cell_type": "code",
   "execution_count": 57,
   "id": "gross-extraction",
   "metadata": {},
   "outputs": [
    {
     "data": {
      "text/html": [
       "<div>\n",
       "<style scoped>\n",
       "    .dataframe tbody tr th:only-of-type {\n",
       "        vertical-align: middle;\n",
       "    }\n",
       "\n",
       "    .dataframe tbody tr th {\n",
       "        vertical-align: top;\n",
       "    }\n",
       "\n",
       "    .dataframe thead th {\n",
       "        text-align: right;\n",
       "    }\n",
       "</style>\n",
       "<table border=\"1\" class=\"dataframe\">\n",
       "  <thead>\n",
       "    <tr style=\"text-align: right;\">\n",
       "      <th></th>\n",
       "      <th>correct</th>\n",
       "      <th>incorrect</th>\n",
       "      <th>paths</th>\n",
       "      <th>violation_ratio</th>\n",
       "    </tr>\n",
       "  </thead>\n",
       "  <tbody>\n",
       "    <tr>\n",
       "      <th>P2789</th>\n",
       "      <td>103892</td>\n",
       "      <td>6058</td>\n",
       "      <td>[../../allConstraintsAnalysis/symmetricConstra...</td>\n",
       "      <td>0.058311</td>\n",
       "    </tr>\n",
       "    <tr>\n",
       "      <th>P1889</th>\n",
       "      <td>505954</td>\n",
       "      <td>23764</td>\n",
       "      <td>[../../allConstraintsAnalysis/symmetricConstra...</td>\n",
       "      <td>0.046969</td>\n",
       "    </tr>\n",
       "    <tr>\n",
       "      <th>P197</th>\n",
       "      <td>173023</td>\n",
       "      <td>1773</td>\n",
       "      <td>[../../allConstraintsAnalysis/symmetricConstra...</td>\n",
       "      <td>0.010247</td>\n",
       "    </tr>\n",
       "  </tbody>\n",
       "</table>\n",
       "</div>"
      ],
      "text/plain": [
       "      correct incorrect                                              paths  \\\n",
       "P2789  103892      6058  [../../allConstraintsAnalysis/symmetricConstra...   \n",
       "P1889  505954     23764  [../../allConstraintsAnalysis/symmetricConstra...   \n",
       "P197   173023      1773  [../../allConstraintsAnalysis/symmetricConstra...   \n",
       "\n",
       "       violation_ratio  \n",
       "P2789         0.058311  \n",
       "P1889         0.046969  \n",
       "P197          0.010247  "
      ]
     },
     "execution_count": 57,
     "metadata": {},
     "output_type": "execute_result"
    }
   ],
   "source": [
    "symmConstDF2 = pd.DataFrame(symmConstViolations['suggestion']).T\n",
    "symmConstDF2['violation_ratio'] = symmConstDF2.apply(lambda p: p.incorrect / p.correct if p.correct != 0 else p.incorrect/100, axis=1)\n",
    "symmConstDF2.sort_values(by=['violation_ratio'],ascending=False).head(15)"
   ]
  },
  {
   "cell_type": "code",
   "execution_count": 64,
   "id": "heavy-scout",
   "metadata": {},
   "outputs": [
    {
     "data": {
      "text/html": [
       "<div>\n",
       "<style scoped>\n",
       "    .dataframe tbody tr th:only-of-type {\n",
       "        vertical-align: middle;\n",
       "    }\n",
       "\n",
       "    .dataframe tbody tr th {\n",
       "        vertical-align: top;\n",
       "    }\n",
       "\n",
       "    .dataframe thead th {\n",
       "        text-align: right;\n",
       "    }\n",
       "</style>\n",
       "<table border=\"1\" class=\"dataframe\">\n",
       "  <thead>\n",
       "    <tr style=\"text-align: right;\">\n",
       "      <th></th>\n",
       "      <th>correct</th>\n",
       "      <th>incorrect</th>\n",
       "      <th>paths</th>\n",
       "      <th>violation_ratio</th>\n",
       "    </tr>\n",
       "  </thead>\n",
       "  <tbody>\n",
       "    <tr>\n",
       "      <th>P1706</th>\n",
       "      <td>4</td>\n",
       "      <td>49</td>\n",
       "      <td>[../../allConstraintsAnalysis/symmetricConstra...</td>\n",
       "      <td>12.250000</td>\n",
       "    </tr>\n",
       "    <tr>\n",
       "      <th>P2652</th>\n",
       "      <td>460</td>\n",
       "      <td>777</td>\n",
       "      <td>[../../allConstraintsAnalysis/symmetricConstra...</td>\n",
       "      <td>1.689130</td>\n",
       "    </tr>\n",
       "    <tr>\n",
       "      <th>P521</th>\n",
       "      <td>418</td>\n",
       "      <td>144</td>\n",
       "      <td>[../../allConstraintsAnalysis/symmetricConstra...</td>\n",
       "      <td>0.344498</td>\n",
       "    </tr>\n",
       "    <tr>\n",
       "      <th>P2293</th>\n",
       "      <td>9984</td>\n",
       "      <td>1919</td>\n",
       "      <td>[../../allConstraintsAnalysis/symmetricConstra...</td>\n",
       "      <td>0.192208</td>\n",
       "    </tr>\n",
       "    <tr>\n",
       "      <th>P3032</th>\n",
       "      <td>1674</td>\n",
       "      <td>320</td>\n",
       "      <td>[../../allConstraintsAnalysis/symmetricConstra...</td>\n",
       "      <td>0.191159</td>\n",
       "    </tr>\n",
       "    <tr>\n",
       "      <th>P1382</th>\n",
       "      <td>10807</td>\n",
       "      <td>1587</td>\n",
       "      <td>[../../allConstraintsAnalysis/symmetricConstra...</td>\n",
       "      <td>0.146849</td>\n",
       "    </tr>\n",
       "    <tr>\n",
       "      <th>P1327</th>\n",
       "      <td>7754</td>\n",
       "      <td>638</td>\n",
       "      <td>[../../allConstraintsAnalysis/symmetricConstra...</td>\n",
       "      <td>0.082280</td>\n",
       "    </tr>\n",
       "    <tr>\n",
       "      <th>P451</th>\n",
       "      <td>9549</td>\n",
       "      <td>749</td>\n",
       "      <td>[../../allConstraintsAnalysis/symmetricConstra...</td>\n",
       "      <td>0.078438</td>\n",
       "    </tr>\n",
       "    <tr>\n",
       "      <th>P3403</th>\n",
       "      <td>2130</td>\n",
       "      <td>110</td>\n",
       "      <td>[../../allConstraintsAnalysis/symmetricConstra...</td>\n",
       "      <td>0.051643</td>\n",
       "    </tr>\n",
       "    <tr>\n",
       "      <th>P460</th>\n",
       "      <td>238980</td>\n",
       "      <td>8022</td>\n",
       "      <td>[../../allConstraintsAnalysis/symmetricConstra...</td>\n",
       "      <td>0.033568</td>\n",
       "    </tr>\n",
       "    <tr>\n",
       "      <th>P514</th>\n",
       "      <td>30</td>\n",
       "      <td>1</td>\n",
       "      <td>[../../allConstraintsAnalysis/symmetricConstra...</td>\n",
       "      <td>0.033333</td>\n",
       "    </tr>\n",
       "    <tr>\n",
       "      <th>P530</th>\n",
       "      <td>6595</td>\n",
       "      <td>213</td>\n",
       "      <td>[../../allConstraintsAnalysis/symmetricConstra...</td>\n",
       "      <td>0.032297</td>\n",
       "    </tr>\n",
       "    <tr>\n",
       "      <th>P461</th>\n",
       "      <td>15535</td>\n",
       "      <td>474</td>\n",
       "      <td>[../../allConstraintsAnalysis/symmetricConstra...</td>\n",
       "      <td>0.030512</td>\n",
       "    </tr>\n",
       "    <tr>\n",
       "      <th>P47</th>\n",
       "      <td>548251</td>\n",
       "      <td>13705</td>\n",
       "      <td>[../../allConstraintsAnalysis/symmetricConstra...</td>\n",
       "      <td>0.024998</td>\n",
       "    </tr>\n",
       "    <tr>\n",
       "      <th>P1322</th>\n",
       "      <td>325</td>\n",
       "      <td>8</td>\n",
       "      <td>[../../allConstraintsAnalysis/symmetricConstra...</td>\n",
       "      <td>0.024615</td>\n",
       "    </tr>\n",
       "  </tbody>\n",
       "</table>\n",
       "</div>"
      ],
      "text/plain": [
       "      correct incorrect                                              paths  \\\n",
       "P1706       4        49  [../../allConstraintsAnalysis/symmetricConstra...   \n",
       "P2652     460       777  [../../allConstraintsAnalysis/symmetricConstra...   \n",
       "P521      418       144  [../../allConstraintsAnalysis/symmetricConstra...   \n",
       "P2293    9984      1919  [../../allConstraintsAnalysis/symmetricConstra...   \n",
       "P3032    1674       320  [../../allConstraintsAnalysis/symmetricConstra...   \n",
       "P1382   10807      1587  [../../allConstraintsAnalysis/symmetricConstra...   \n",
       "P1327    7754       638  [../../allConstraintsAnalysis/symmetricConstra...   \n",
       "P451     9549       749  [../../allConstraintsAnalysis/symmetricConstra...   \n",
       "P3403    2130       110  [../../allConstraintsAnalysis/symmetricConstra...   \n",
       "P460   238980      8022  [../../allConstraintsAnalysis/symmetricConstra...   \n",
       "P514       30         1  [../../allConstraintsAnalysis/symmetricConstra...   \n",
       "P530     6595       213  [../../allConstraintsAnalysis/symmetricConstra...   \n",
       "P461    15535       474  [../../allConstraintsAnalysis/symmetricConstra...   \n",
       "P47    548251     13705  [../../allConstraintsAnalysis/symmetricConstra...   \n",
       "P1322     325         8  [../../allConstraintsAnalysis/symmetricConstra...   \n",
       "\n",
       "       violation_ratio  \n",
       "P1706        12.250000  \n",
       "P2652         1.689130  \n",
       "P521          0.344498  \n",
       "P2293         0.192208  \n",
       "P3032         0.191159  \n",
       "P1382         0.146849  \n",
       "P1327         0.082280  \n",
       "P451          0.078438  \n",
       "P3403         0.051643  \n",
       "P460          0.033568  \n",
       "P514          0.033333  \n",
       "P530          0.032297  \n",
       "P461          0.030512  \n",
       "P47           0.024998  \n",
       "P1322         0.024615  "
      ]
     },
     "execution_count": 64,
     "metadata": {},
     "output_type": "execute_result"
    }
   ],
   "source": [
    "symmConstDF3 = pd.DataFrame(symmConstViolations['normal']).T\n",
    "symmConstDF3['violation_ratio'] = symmConstDF3.apply(lambda p: p.incorrect / p.correct if p.correct != 0 else p.incorrect/100, axis=1)\n",
    "symmConstDF3.sort_values(by=['violation_ratio'],ascending=False).head(15)"
   ]
  },
  {
   "cell_type": "code",
   "execution_count": 73,
   "id": "sexual-blowing",
   "metadata": {},
   "outputs": [],
   "source": [
    "# !head ../../allConstraintsAnalysis/symmetricConstraint/normal/claims.P3032.incorrect.tsv\n",
    "\n"
   ]
  },
  {
   "cell_type": "code",
   "execution_count": 77,
   "id": "legitimate-aspect",
   "metadata": {},
   "outputs": [
    {
     "data": {
      "text/plain": [
       "Text(0.5, 1.0, 'Symmetric Normal Constraint - Violation Ratios')"
      ]
     },
     "execution_count": 77,
     "metadata": {},
     "output_type": "execute_result"
    },
    {
     "data": {
      "image/png": "[encoded data removed]",
      "text/plain": [
       "<Figure size 432x288 with 1 Axes>"
      ]
     },
     "metadata": {
      "needs_background": "light"
     },
     "output_type": "display_data"
    }
   ],
   "source": [
    "symmConstDF3.sort_values(by=['violation_ratio'],ascending=False)['violation_ratio'].plot.hist(bins=100).set_title(\"Symmetric Normal Constraint - Violation Ratios\")"
   ]
  },
  {
   "cell_type": "markdown",
   "id": "informed-animal",
   "metadata": {},
   "source": [
    "## Inverse Constraint (Q21510855) - Pending\n",
    "\n",
    "This constraint says, if node1 has a property with this constraint, then both `(node1)-[prop]->(node2)` and `(node2)-[prop]->(node1)` must be present with few exceptions"
   ]
  },
  {
   "cell_type": "markdown",
   "id": "dramatic-manchester",
   "metadata": {},
   "source": [
    "### Constraints File"
   ]
  },
  {
   "cell_type": "code",
   "execution_count": 21,
   "id": "leading-server",
   "metadata": {},
   "outputs": [
    {
     "name": "stdout",
     "output_type": "stream",
     "text": [
      "[2021-03-28 12:37:57 query]: SQL Translation:\r\n",
      "---------------------------------------------\r\n",
      "  SELECT *\r\n",
      "     FROM graph_1 AS graph_1_c1\r\n",
      "     WHERE graph_1_c1.\"label\"=?\r\n",
      "     AND graph_1_c1.\"node2\"=?\r\n",
      "  PARAS: ['P2302', 'Q21510855']\r\n",
      "---------------------------------------------\r\n"
     ]
    }
   ],
   "source": [
    "!kgtk --debug query -i ../../gdrive-kgtk-dump-2020-12-07/claims.properties.tsv.gz \\\n",
    "    ../../gdrive-kgtk-dump-2020-12-07/qualifiers.properties.tsv.gz \\\n",
    "    --match \"p: (nodeProp1)-[nodePropEdge:P2302]->(:Q21510855)\" \\\n",
    "    -o ../../constraintsOP/inverseConstraint/claims.constraints_list.tsv \\\n",
    "    --graph-cache ~/sqlite3_caches/temp1345.valuetype.sqlite3.db"
   ]
  },
  {
   "cell_type": "code",
   "execution_count": 23,
   "id": "offshore-sudan",
   "metadata": {},
   "outputs": [
    {
     "name": "stdout",
     "output_type": "stream",
     "text": [
      "id\tnode1\tlabel\tnode2\trank\tnode2;wikidatatype\r\n",
      "P1026-P2302-Q21510855-adc83b86-0\tP1026\tP2302\tQ21510855\tnormal\twikibase-item\r\n",
      "P1029-P2302-Q21510855-6b55e057-0\tP1029\tP2302\tQ21510855\tnormal\twikibase-item\r\n",
      "P115-P2302-Q21510855-f7aa0b78-0\tP115\tP2302\tQ21510855\tnormal\twikibase-item\r\n",
      "P1151-P2302-Q21510855-0d9aa9c6-0\tP1151\tP2302\tQ21510855\tnormal\twikibase-item\r\n",
      "P1204-P2302-Q21510855-e3d53bb6-0\tP1204\tP2302\tQ21510855\tnormal\twikibase-item\r\n",
      "P1283-P2302-Q21510855-0e7699bb-0\tP1283\tP2302\tQ21510855\tnormal\twikibase-item\r\n",
      "P1308-P2302-Q21510855-2aba96b7-0\tP1308\tP2302\tQ21510855\tnormal\twikibase-item\r\n",
      "P1365-P2302-Q21510855-c809b758-0\tP1365\tP2302\tQ21510855\tnormal\twikibase-item\r\n",
      "P1366-P2302-Q21510855-eee12ef8-0\tP1366\tP2302\tQ21510855\tnormal\twikibase-item\r\n"
     ]
    }
   ],
   "source": [
    "!head ../../constraintsOP/inverseConstraint/claims.constraints_list.tsv"
   ]
  },
  {
   "cell_type": "code",
   "execution_count": 22,
   "id": "received-colonial",
   "metadata": {},
   "outputs": [],
   "source": [
    "import pandas as pd\n",
    "qualiDF = pd.read_csv(\"../../gdrive-kgtk-dump-2020-12-07/qualifiers.properties.tsv.gz\",sep='\\t')\n",
    "constDF = pd.read_csv(\"../../constraintsOP/inverseConstraint/claims.constraints_list.tsv\",sep='\\t')"
   ]
  },
  {
   "cell_type": "code",
   "execution_count": 11,
   "id": "overall-expense",
   "metadata": {},
   "outputs": [],
   "source": [
    "constDF2 = constDF.set_index('id').join(qualiDF.set_index('node1'),rsuffix='_qualifier').drop(columns=['id', 'node2;wikidatatype_qualifier', 'rank', 'node2', 'label', 'node2;wikidatatype']).rename(columns={'label_qualifier':'label', 'node2_qualifier': 'node2'})\n",
    "constDF2 = constDF2.reset_index()\n",
    "constDF2 = constDF2.rename(columns={'index':'id'})\n",
    "constDF2['label'] = constDF2.label.fillna(\"P2316\")\n",
    "constDF2['node2'] = constDF2.node2.fillna(\"Normal\")"
   ]
  },
  {
   "cell_type": "code",
   "execution_count": 12,
   "id": "valid-throat",
   "metadata": {},
   "outputs": [],
   "source": [
    "constDF2.to_csv(\"../../constraintsOP/symmetricConstraint/claims.constraints_all.tsv\",sep=\"\\t\",index=False)"
   ]
  },
  {
   "cell_type": "code",
   "execution_count": 13,
   "id": "focused-pennsylvania",
   "metadata": {},
   "outputs": [],
   "source": [
    "import pandas as pd\n",
    "import math\n",
    "dfItemRequires = pd.read_csv('../../constraintsOP/symmetricConstraint/claims.constraints_all.tsv',sep='\\t')"
   ]
  },
  {
   "cell_type": "code",
   "execution_count": 14,
   "id": "moved-rental",
   "metadata": {},
   "outputs": [],
   "source": [
    "dfItemRequires = dfItemRequires.groupby(['id','node1','label']).node2.apply(lambda p: p.tolist()).reset_index()"
   ]
  },
  {
   "cell_type": "code",
   "execution_count": 15,
   "id": "attached-rings",
   "metadata": {},
   "outputs": [
    {
     "data": {
      "text/plain": [
       "array(['P2316', 'P2303'], dtype=object)"
      ]
     },
     "execution_count": 15,
     "metadata": {},
     "output_type": "execute_result"
    }
   ],
   "source": [
    "dfItemRequires['label'].unique()"
   ]
  },
  {
   "cell_type": "code",
   "execution_count": 16,
   "id": "loving-mileage",
   "metadata": {},
   "outputs": [
    {
     "data": {
      "text/plain": [
       "P2316    42\n",
       "P2303     3\n",
       "Name: label, dtype: int64"
      ]
     },
     "execution_count": 16,
     "metadata": {},
     "output_type": "execute_result"
    }
   ],
   "source": [
    "dfItemRequires['label'].value_counts()"
   ]
  },
  {
   "cell_type": "code",
   "execution_count": 17,
   "id": "local-forty",
   "metadata": {},
   "outputs": [],
   "source": [
    "#Reference: https://stackoverflow.com/a/17298454\n",
    "# dfItemRequires.pivot_table('node2', ['node1', 'id'], 'label')\n",
    "dfItemRequires = dfItemRequires.pivot(index=['node1','id'], columns='label', values='node2')"
   ]
  },
  {
   "cell_type": "code",
   "execution_count": 18,
   "id": "pressed-upset",
   "metadata": {},
   "outputs": [
    {
     "data": {
      "text/html": [
       "<div>\n",
       "<style scoped>\n",
       "    .dataframe tbody tr th:only-of-type {\n",
       "        vertical-align: middle;\n",
       "    }\n",
       "\n",
       "    .dataframe tbody tr th {\n",
       "        vertical-align: top;\n",
       "    }\n",
       "\n",
       "    .dataframe thead th {\n",
       "        text-align: right;\n",
       "    }\n",
       "</style>\n",
       "<table border=\"1\" class=\"dataframe\">\n",
       "  <thead>\n",
       "    <tr style=\"text-align: right;\">\n",
       "      <th></th>\n",
       "      <th>label</th>\n",
       "      <th>P2303</th>\n",
       "      <th>P2316</th>\n",
       "    </tr>\n",
       "    <tr>\n",
       "      <th>node1</th>\n",
       "      <th>id</th>\n",
       "      <th></th>\n",
       "      <th></th>\n",
       "    </tr>\n",
       "  </thead>\n",
       "  <tbody>\n",
       "    <tr>\n",
       "      <th>P1322</th>\n",
       "      <th>P1322-P2302-Q21510862-85dea891-0</th>\n",
       "      <td>NaN</td>\n",
       "      <td>[Normal]</td>\n",
       "    </tr>\n",
       "    <tr>\n",
       "      <th>P1327</th>\n",
       "      <th>P1327-P2302-Q21510862-a3c3a094-0</th>\n",
       "      <td>NaN</td>\n",
       "      <td>[Normal]</td>\n",
       "    </tr>\n",
       "    <tr>\n",
       "      <th>P1382</th>\n",
       "      <th>P1382-P2302-Q21510862-f6bcfecf-0</th>\n",
       "      <td>NaN</td>\n",
       "      <td>[Normal]</td>\n",
       "    </tr>\n",
       "    <tr>\n",
       "      <th>P1560</th>\n",
       "      <th>P1560-P2302-Q21510862-fabecaeb-0</th>\n",
       "      <td>NaN</td>\n",
       "      <td>[Q21502408]</td>\n",
       "    </tr>\n",
       "    <tr>\n",
       "      <th>P1639</th>\n",
       "      <th>P1639-P2302-Q21510862-384edcd4-0</th>\n",
       "      <td>NaN</td>\n",
       "      <td>[Q21502408]</td>\n",
       "    </tr>\n",
       "  </tbody>\n",
       "</table>\n",
       "</div>"
      ],
      "text/plain": [
       "label                                  P2303        P2316\n",
       "node1 id                                                 \n",
       "P1322 P1322-P2302-Q21510862-85dea891-0   NaN     [Normal]\n",
       "P1327 P1327-P2302-Q21510862-a3c3a094-0   NaN     [Normal]\n",
       "P1382 P1382-P2302-Q21510862-f6bcfecf-0   NaN     [Normal]\n",
       "P1560 P1560-P2302-Q21510862-fabecaeb-0   NaN  [Q21502408]\n",
       "P1639 P1639-P2302-Q21510862-384edcd4-0   NaN  [Q21502408]"
      ]
     },
     "execution_count": 18,
     "metadata": {},
     "output_type": "execute_result"
    }
   ],
   "source": [
    "dfItemRequires.head()"
   ]
  },
  {
   "cell_type": "code",
   "execution_count": 19,
   "id": "extra-stomach",
   "metadata": {},
   "outputs": [],
   "source": [
    "dfItemRequires = dfItemRequires.droplevel(1)"
   ]
  },
  {
   "cell_type": "code",
   "execution_count": 20,
   "id": "seeing-marine",
   "metadata": {},
   "outputs": [
    {
     "data": {
      "text/html": [
       "<div>\n",
       "<style scoped>\n",
       "    .dataframe tbody tr th:only-of-type {\n",
       "        vertical-align: middle;\n",
       "    }\n",
       "\n",
       "    .dataframe tbody tr th {\n",
       "        vertical-align: top;\n",
       "    }\n",
       "\n",
       "    .dataframe thead th {\n",
       "        text-align: right;\n",
       "    }\n",
       "</style>\n",
       "<table border=\"1\" class=\"dataframe\">\n",
       "  <thead>\n",
       "    <tr style=\"text-align: right;\">\n",
       "      <th>label</th>\n",
       "      <th>P2303</th>\n",
       "      <th>P2316</th>\n",
       "    </tr>\n",
       "    <tr>\n",
       "      <th>node1</th>\n",
       "      <th></th>\n",
       "      <th></th>\n",
       "    </tr>\n",
       "  </thead>\n",
       "  <tbody>\n",
       "    <tr>\n",
       "      <th>P1322</th>\n",
       "      <td>NaN</td>\n",
       "      <td>[Normal]</td>\n",
       "    </tr>\n",
       "    <tr>\n",
       "      <th>P1327</th>\n",
       "      <td>NaN</td>\n",
       "      <td>[Normal]</td>\n",
       "    </tr>\n",
       "    <tr>\n",
       "      <th>P1382</th>\n",
       "      <td>NaN</td>\n",
       "      <td>[Normal]</td>\n",
       "    </tr>\n",
       "    <tr>\n",
       "      <th>P1560</th>\n",
       "      <td>NaN</td>\n",
       "      <td>[Q21502408]</td>\n",
       "    </tr>\n",
       "    <tr>\n",
       "      <th>P1639</th>\n",
       "      <td>NaN</td>\n",
       "      <td>[Q21502408]</td>\n",
       "    </tr>\n",
       "  </tbody>\n",
       "</table>\n",
       "</div>"
      ],
      "text/plain": [
       "label P2303        P2316\n",
       "node1                   \n",
       "P1322   NaN     [Normal]\n",
       "P1327   NaN     [Normal]\n",
       "P1382   NaN     [Normal]\n",
       "P1560   NaN  [Q21502408]\n",
       "P1639   NaN  [Q21502408]"
      ]
     },
     "execution_count": 20,
     "metadata": {},
     "output_type": "execute_result"
    }
   ],
   "source": [
    "dfItemRequires.head()"
   ]
  },
  {
   "cell_type": "markdown",
   "id": "outdoor-language",
   "metadata": {},
   "source": [
    "# Comparing isa + P279star with isastar"
   ]
  },
  {
   "cell_type": "code",
   "execution_count": 13,
   "id": "killing-amsterdam",
   "metadata": {},
   "outputs": [],
   "source": [
    "import os\n",
    "wiki_root_folder = \"../../gdrive-kgtk-dump-2020-12-07/\"\n",
    "\n",
    "claims_file = \"claims.tsv.gz\"\n",
    "label_file = \"labels.en.tsv.gz\"\n",
    "\n",
    "derived_files_root_folder = \"../../wikidata-20210215/\"\n",
    "p279file = \"derived.P279star.tsv.gz\"\n",
    "isa_file = \"derived.isa.tsv.gz\"\n",
    "isa_star_file = \"derived.isastar.tsv.gz\"\n",
    "\n",
    "os.environ['CLAIMS'] = wiki_root_folder + claims_file\n",
    "os.environ['LABEL'] = wiki_root_folder + label_file\n",
    "os.environ['P279STAR'] = derived_files_root_folder + p279file\n",
    "os.environ['ISASTAR'] = derived_files_root_folder + isa_star_file\n",
    "os.environ['ISA'] = derived_files_root_folder + isa_file\n",
    "os.environ['TEMP'] = \"../../temp\""
   ]
  },
  {
   "cell_type": "code",
   "execution_count": 14,
   "id": "overhead-ferry",
   "metadata": {},
   "outputs": [
    {
     "name": "stdout",
     "output_type": "stream",
     "text": [
      "[2021-03-13 13:03:17 sqlstore]: IMPORT graph directly into table graph_3 from /data/wd-correctness/wikidata-20210215/derived.P279star.tsv.gz ...\n",
      "[2021-03-13 13:05:15 sqlstore]: IMPORT graph directly into table graph_4 from /data/wd-correctness/wikidata-20210215/derived.isa.tsv.gz ...\n",
      "[2021-03-13 13:06:41 query]: SQL Translation:\n",
      "---------------------------------------------\n",
      "  SELECT DISTINCT graph_1_c1.\"node1\", graph_1_c1.\"label\" \"_aLias.label\", graph_4_c2.\"node1\" \"_aLias.node2\"\n",
      "     FROM graph_1 AS graph_1_c1, graph_3 AS graph_3_c3, graph_4 AS graph_4_c2\n",
      "     WHERE graph_1_c1.\"label\"=?\n",
      "     AND graph_1_c1.\"node2\"=graph_4_c2.\"node1\"\n",
      "     AND graph_3_c3.\"node1\"=graph_4_c2.\"node2\"\n",
      "     AND (graph_3_c3.\"node2\" IN (?, ?, ?, ?, ?, ?, ?, ?, ?, ?, ?, ?, ?, ?, ?))\n",
      "  PARAS: ['P166', 'Q618779', 'Q2003221', 'Q38033430', 'Q131647', 'Q193622', 'Q60754876', 'Q7810129', 'Q4164871', 'Q2658935', 'Q1046088', 'Q3001412', 'Q3320743', 'Q657438', 'Q841654', 'Q103880535']\n",
      "---------------------------------------------\n",
      "[2021-03-13 13:06:41 sqlstore]: CREATE INDEX on table graph_4 column node2 ...\n",
      "[2021-03-13 13:08:02 sqlstore]: ANALYZE INDEX on table graph_4 column node2 ...\n",
      "[2021-03-13 13:08:09 sqlstore]: CREATE INDEX on table graph_4 column node1 ...\n",
      "[2021-03-13 13:08:59 sqlstore]: ANALYZE INDEX on table graph_4 column node1 ...\n",
      "[2021-03-13 13:09:07 sqlstore]: CREATE INDEX on table graph_1 column label ...\n",
      "[2021-03-13 13:38:29 sqlstore]: ANALYZE INDEX on table graph_1 column label ...\n",
      "[2021-03-13 13:39:49 sqlstore]: CREATE INDEX on table graph_3 column node1 ...\n",
      "[2021-03-13 13:41:04 sqlstore]: ANALYZE INDEX on table graph_3 column node1 ...\n",
      "[2021-03-13 13:41:10 sqlstore]: CREATE INDEX on table graph_1 column node2 ...\n",
      "[2021-03-13 14:22:16 sqlstore]: ANALYZE INDEX on table graph_1 column node2 ...\n",
      "\n",
      "real\t91m9.845s\n",
      "user\t59m11.425s\n",
      "sys\t7m18.944s\n"
     ]
    }
   ],
   "source": [
    "!time kgtk --debug query -i \"$CLAIMS\" -i \"$LABEL\" -i \"$P279STAR\" -i \"$ISA\"  \\\n",
    "--match '\\\n",
    "  claims: (n1)-[l:P166]->(award), \\\n",
    "  isa: (award)-[]->(x), \\\n",
    "  P279star: (x)-[]->(valid)' \\\n",
    "--where 'valid in [\"Q618779\", \"Q2003221\" ,\"Q38033430\" ,\"Q131647\" ,\"Q193622\" ,\"Q60754876\" ,\"Q7810129\" ,\"Q4164871\" ,\"Q2658935\" ,\"Q1046088\" ,\"Q3001412\" ,\"Q3320743\" ,\"Q657438\" ,\"Q841654\" ,\"Q103880535\"]' \\\n",
    "--return 'distinct n1, l.label as label, award as node2' \\\n",
    "-o \"$TEMP/constraint.award.tsv.gz\""
   ]
  },
  {
   "cell_type": "code",
   "execution_count": 15,
   "id": "weird-weekly",
   "metadata": {},
   "outputs": [
    {
     "name": "stdout",
     "output_type": "stream",
     "text": [
      "[2021-03-13 14:34:21 query]: SQL Translation:\n",
      "---------------------------------------------\n",
      "  SELECT DISTINCT graph_1_c1.\"node1\", graph_1_c1.\"label\" \"_aLias.label\", graph_4_c2.\"node1\" \"_aLias.node2\"\n",
      "     FROM graph_1 AS graph_1_c1, graph_3 AS graph_3_c3, graph_4 AS graph_4_c2\n",
      "     WHERE graph_1_c1.\"label\"=?\n",
      "     AND graph_1_c1.\"node2\"=graph_4_c2.\"node1\"\n",
      "     AND graph_3_c3.\"node1\"=graph_4_c2.\"node2\"\n",
      "     AND (graph_3_c3.\"node2\" IN (?, ?, ?, ?, ?, ?, ?, ?, ?, ?, ?, ?, ?, ?, ?))\n",
      "  PARAS: ['P166', 'Q618779', 'Q2003221', 'Q38033430', 'Q131647', 'Q193622', 'Q60754876', 'Q7810129', 'Q4164871', 'Q2658935', 'Q1046088', 'Q3001412', 'Q3320743', 'Q657438', 'Q841654', 'Q103880535']\n",
      "---------------------------------------------\n",
      "\n",
      "real\t4m13.305s\n",
      "user\t0m42.020s\n",
      "sys\t0m7.273s\n"
     ]
    }
   ],
   "source": [
    "!time kgtk --debug query -i \"$CLAIMS\" -i \"$LABEL\" -i \"$P279STAR\" -i \"$ISA\"  \\\n",
    "--match '\\\n",
    "  claims: (n1)-[l:P166]->(award), \\\n",
    "  isa: (award)-[]->(x), \\\n",
    "  P279star: (x)-[]->(valid)' \\\n",
    "--where 'valid in [\"Q618779\", \"Q2003221\" ,\"Q38033430\" ,\"Q131647\" ,\"Q193622\" ,\"Q60754876\" ,\"Q7810129\" ,\"Q4164871\" ,\"Q2658935\" ,\"Q1046088\" ,\"Q3001412\" ,\"Q3320743\" ,\"Q657438\" ,\"Q841654\" ,\"Q103880535\"]' \\\n",
    "--return 'distinct n1, l.label as label, award as node2' \\\n",
    "-o \"$TEMP/constraint.award.tsv.gz\""
   ]
  },
  {
   "cell_type": "code",
   "execution_count": 16,
   "id": "clean-crisis",
   "metadata": {},
   "outputs": [
    {
     "name": "stdout",
     "output_type": "stream",
     "text": [
      "[2021-03-13 14:38:37 sqlstore]: IMPORT graph directly into table graph_5 from /data/wd-correctness/wikidata-20210215/derived.isastar.tsv.gz ...\n",
      "[2021-03-13 15:37:18 query]: SQL Translation:\n",
      "---------------------------------------------\n",
      "  SELECT DISTINCT graph_1_c1.\"node1\", graph_1_c1.\"label\" \"_aLias.label\", graph_1_c1.\"node2\" \"_aLias.node2\"\n",
      "     FROM graph_1 AS graph_1_c1, graph_5 AS graph_5_c2\n",
      "     WHERE graph_1_c1.\"label\"=?\n",
      "     AND graph_1_c1.\"node2\"=graph_5_c2.\"node1\"\n",
      "     AND (graph_5_c2.\"node2\" IN (?, ?, ?, ?, ?, ?, ?, ?, ?, ?, ?, ?, ?, ?, ?))\n",
      "  PARAS: ['P166', 'Q618779', 'Q2003221', 'Q38033430', 'Q131647', 'Q193622', 'Q60754876', 'Q7810129', 'Q4164871', 'Q2658935', 'Q1046088', 'Q3001412', 'Q3320743', 'Q657438', 'Q841654', 'Q103880535']\n",
      "---------------------------------------------\n",
      "[2021-03-13 15:37:18 sqlstore]: CREATE INDEX on table graph_5 column node1 ...\n",
      "[2021-03-13 16:15:50 sqlstore]: ANALYZE INDEX on table graph_5 column node1 ...\n",
      "\n",
      "real\t109m29.885s\n",
      "user\t90m41.390s\n",
      "sys\t13m32.324s\n"
     ]
    }
   ],
   "source": [
    "!time kgtk --debug query -i \"$CLAIMS\" -i \"$LABEL\" -i \"$ISASTAR\"  \\\n",
    "--match '\\\n",
    "  claims: (n1)-[l:P166]->(award), \\\n",
    "  isastar: (award)-[]->(valid)' \\\n",
    "--where 'valid in [\"Q618779\", \"Q2003221\" ,\"Q38033430\" ,\"Q131647\" ,\"Q193622\" ,\"Q60754876\" ,\"Q7810129\" ,\"Q4164871\" ,\"Q2658935\" ,\"Q1046088\" ,\"Q3001412\" ,\"Q3320743\" ,\"Q657438\" ,\"Q841654\" ,\"Q103880535\"]' \\\n",
    "--return 'distinct n1, l.label as label, award as node2' \\\n",
    "-o \"$TEMP/constraint.award.tsv.gz\""
   ]
  },
  {
   "cell_type": "code",
   "execution_count": 17,
   "id": "opposed-compensation",
   "metadata": {},
   "outputs": [
    {
     "name": "stdout",
     "output_type": "stream",
     "text": [
      "[2021-03-13 16:28:05 query]: SQL Translation:\n",
      "---------------------------------------------\n",
      "  SELECT DISTINCT graph_1_c1.\"node1\", graph_1_c1.\"label\" \"_aLias.label\", graph_5_c2.\"node1\" \"_aLias.node2\"\n",
      "     FROM graph_1 AS graph_1_c1, graph_5 AS graph_5_c2\n",
      "     WHERE graph_1_c1.\"label\"=?\n",
      "     AND graph_1_c1.\"node2\"=graph_5_c2.\"node1\"\n",
      "     AND (graph_5_c2.\"node2\" IN (?, ?, ?, ?, ?, ?, ?, ?, ?, ?, ?, ?, ?, ?, ?))\n",
      "  PARAS: ['P166', 'Q618779', 'Q2003221', 'Q38033430', 'Q131647', 'Q193622', 'Q60754876', 'Q7810129', 'Q4164871', 'Q2658935', 'Q1046088', 'Q3001412', 'Q3320743', 'Q657438', 'Q841654', 'Q103880535']\n",
      "---------------------------------------------\n",
      "\n",
      "real\t0m31.045s\n",
      "user\t0m23.087s\n",
      "sys\t0m3.079s\n"
     ]
    }
   ],
   "source": [
    "!time kgtk --debug query -i \"$CLAIMS\" -i \"$LABEL\" -i \"$ISASTAR\"  \\\n",
    "--match '\\\n",
    "  claims: (n1)-[l:P166]->(award), \\\n",
    "  isastar: (award)-[]->(valid)' \\\n",
    "--where 'valid in [\"Q618779\", \"Q2003221\" ,\"Q38033430\" ,\"Q131647\" ,\"Q193622\" ,\"Q60754876\" ,\"Q7810129\" ,\"Q4164871\" ,\"Q2658935\" ,\"Q1046088\" ,\"Q3001412\" ,\"Q3320743\" ,\"Q657438\" ,\"Q841654\" ,\"Q103880535\"]' \\\n",
    "--return 'distinct n1, l.label as label, award as node2' \\\n",
    "-o \"$TEMP/constraint.award.tsv.gz\""
   ]
  },
  {
   "cell_type": "code",
   "execution_count": null,
   "id": "greatest-communist",
   "metadata": {},
   "outputs": [],
   "source": []
  }
 ],
 "metadata": {
  "kernelspec": {
   "display_name": "kgtkEnv",
   "language": "python",
   "name": "kgtkenv"
  },
  "language_info": {
   "codemirror_mode": {
    "name": "ipython",
    "version": 3
   },
   "file_extension": ".py",
   "mimetype": "text/x-python",
   "name": "python",
   "nbconvert_exporter": "python",
   "pygments_lexer": "ipython3",
   "version": "3.8.5"
  },
  "toc": {
   "base_numbering": 1,
   "nav_menu": {},
   "number_sections": true,
   "sideBar": true,
   "skip_h1_title": false,
   "title_cell": "Table of Contents",
   "title_sidebar": "Contents",
   "toc_cell": false,
   "toc_position": {
    "height": "calc(100% - 180px)",
    "left": "10px",
    "top": "150px",
    "width": "334px"
   },
   "toc_section_display": true,
   "toc_window_display": true
  },
  "varInspector": {
   "cols": {
    "lenName": 16,
    "lenType": 16,
    "lenVar": 40
   },
   "kernels_config": {
    "python": {
     "delete_cmd_postfix": "",
     "delete_cmd_prefix": "del ",
     "library": "var_list.py",
     "varRefreshCmd": "print(var_dic_list())"
    },
    "r": {
     "delete_cmd_postfix": ") ",
     "delete_cmd_prefix": "rm(",
     "library": "var_list.r",
     "varRefreshCmd": "cat(var_dic_list()) "
    }
   },
   "oldHeight": 122,
   "position": {
    "height": "40px",
    "left": "1170px",
    "right": "20px",
    "top": "120px",
    "width": "250px"
   },
   "types_to_exclude": [
    "module",
    "function",
    "builtin_function_or_method",
    "instance",
    "_Feature"
   ],
   "varInspector_section_display": "none",
   "window_display": false
  }
 },
 "nbformat": 4,
 "nbformat_minor": 5
}
