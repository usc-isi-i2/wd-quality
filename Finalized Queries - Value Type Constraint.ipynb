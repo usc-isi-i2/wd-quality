{
 "cells": [
  {
   "cell_type": "code",
   "execution_count": 11,
   "id": "imposed-fellow",
   "metadata": {},
   "outputs": [],
   "source": [
    "# !kgtk --debug query -i ../../gdrive-kgtk-dump-2020-12-07/claims.tsv.gz \\\n",
    "#     ../../gdrive-kgtk-dump-2020-12-07/claims.properties.tsv.gz \\\n",
    "#     ../../gdrive-kgtk-dump-2020-12-07/qualifiers.properties.tsv.gz \\\n",
    "#     --match \"c: (node1)-[nodeProp]->(node2), p: (nodeProp1)-[nodePropEdge:P2302]->(:Q21510865), q: (nodePropEdge1)-[nodePropEdgeProps]->(val)\" \\\n",
    "#     --where 'nodeProp.label = nodeProp1 and nodePropEdge.id = nodePropEdge1 and nodePropEdgeProps.label in [\"P2308\", \"P2309\", \"P2316\", \"P2303\"]' \\\n",
    "#     --return 'nodeProp.id as id, node1, nodeProp.label as label, node2, nodePropEdgeProps.label as `node1;constLabel`, val as `node1;constVal`' \\\n",
    "#     -o ../../constraintsOP/valuetypeConstraint/claims.type-constraints.tsv \\\n",
    "#     --graph-cache ~/sqlite3_caches/temp1.valuetype.sqlite3.db"
   ]
  },
  {
   "cell_type": "code",
   "execution_count": 9,
   "id": "ceramic-diesel",
   "metadata": {},
   "outputs": [
    {
     "name": "stdout",
     "output_type": "stream",
     "text": [
      "[2021-03-04 14:26:38 query]: SQL Translation:\r\n",
      "---------------------------------------------\r\n",
      "  SELECT graph_1_c1.\"id\" \"_aLias.id\", graph_1_c1.\"node1\" \"_aLias.node1\", graph_2_c2.\"label\" \"_aLias.label\", graph_2_c2.\"node2\" \"_aLias.node2\"\r\n",
      "     FROM graph_1 AS graph_1_c1, graph_2 AS graph_2_c2\r\n",
      "     WHERE graph_1_c1.\"label\"=?\r\n",
      "     AND graph_1_c1.\"node2\"=?\r\n",
      "     AND (graph_1_c1.\"id\" = graph_2_c2.\"node1\")\r\n",
      "  PARAS: ['P2302', 'Q21510865']\r\n",
      "---------------------------------------------\r\n"
     ]
    }
   ],
   "source": [
    "!kgtk --debug query -i ../../gdrive-kgtk-dump-2020-12-07/claims.properties.tsv.gz \\\n",
    "    ../../gdrive-kgtk-dump-2020-12-07/qualifiers.properties.tsv.gz \\\n",
    "    --match \"p: (nodeProp1)-[nodePropEdge:P2302]->(:Q21510865), q: (nodePropEdge1)-[nodePropEdgeProps]->(val)\" \\\n",
    "    --where 'nodePropEdge.id = nodePropEdge1' \\\n",
    "    --return 'nodePropEdge.id as id, nodeProp1 as node1, nodePropEdgeProps.label as label, val as node2' \\\n",
    "    -o ../../constraintsOP/valuetypeConstraint/claims.type-constraints_all.tsv \\\n",
    "    --graph-cache ~/sqlite3_caches/temp1345.valuetype.sqlite3.db"
   ]
  },
  {
   "cell_type": "code",
   "execution_count": 1,
   "id": "pending-toddler",
   "metadata": {},
   "outputs": [
    {
     "name": "stdout",
     "output_type": "stream",
     "text": [
      "[2021-03-06 08:01:11 query]: SQL Translation:\r\n",
      "---------------------------------------------\r\n",
      "  SELECT graph_1_c1.\"id\" \"_aLias.id\", graph_1_c1.\"node1\", graph_1_c1.\"label\" \"_aLias.label\", graph_1_c1.\"node2\"\r\n",
      "     FROM graph_1 AS graph_1_c1, graph_2 AS graph_2_c2\r\n",
      "     WHERE graph_2_c2.\"label\"=?\r\n",
      "     AND graph_2_c2.\"node2\"=?\r\n",
      "     AND (\"_aLias.label;label\" = graph_2_c2.\"node1\")\r\n",
      "  PARAS: ['P2302', 'Q21510865']\r\n",
      "---------------------------------------------\r\n"
     ]
    }
   ],
   "source": [
    "!kgtk --debug query -i ../../gdrive-kgtk-dump-2020-12-07/claims.tsv.gz \\\n",
    "    ../../gdrive-kgtk-dump-2020-12-07/claims.properties.tsv.gz \\\n",
    "    --match \"t: (node1)-[label]->(node2), p: (nodeProp1)-[:P2302]->(:Q21510865)\" \\\n",
    "    --where 'label.label = nodeProp1' \\\n",
    "    --return 'label.id as id, node1, label.label as label, node2' \\\n",
    "    -o ../../constraintsOP/valuetypeConstraint/claims_truncated1.tsv \\\n",
    "    --graph-cache ~/sqlite3_caches/temp101.sqlite3.db"
   ]
  },
  {
   "cell_type": "code",
   "execution_count": null,
   "id": "static-dodge",
   "metadata": {},
   "outputs": [],
   "source": [
    "!kgtk --debug query -i ../../constraintsOP/typeConstraint/claims.type-constraints.tsv \\\n",
    "    ../../gdrive-kgtk-dump-2020-12-07/claims.wikibase-item.tsv.gz \\\n",
    "    --match '(a{constLabel:constLabel,constVal:constVal})-[label]->(node2)' \\\n",
    "    --return 'label.label as `node1`, constLabel as `label`, constVal as `node2`, max(a) as `node1;exampleQnode`' \\\n",
    "    --where 'constLabel = \"P2309\"' \\\n",
    "    -o ../../constraintsOP/typeConstraint/claims.type-constraints_relation.tsv\n",
    "!kgtk --debug query -i ../../constraintsOP/typeConstraint/claims.type-constraints.tsv \\\n",
    "    --match '(a{constLabel:constLabel,constVal:constVal})-[label]->(node2)' \\\n",
    "    --return 'label.label as `node1`, constLabel as `label`, constVal as `node2`, max(a) as `node1;exampleQnode`' \\\n",
    "    --where 'constLabel = \"P2316\"' \\\n",
    "    -o ../../constraintsOP/typeConstraint/claims.type-constraints_mandSug.tsv \\\n",
    "    --graph-cache ~/sqlite3_caches/temp11.sqlite3.db\n",
    "!kgtk --debug query -i ../../constraintsOP/typeConstraint/claims.type-constraints.tsv \\\n",
    "    --match '(a{constLabel:constLabel,constVal:constVal})-[label]->(node2)' \\\n",
    "    --return 'label.label as `node1`, constLabel as `label`, constVal as `node2`, max(a) as `node1;exampleQnode`' \\\n",
    "    --where 'constLabel = \"P2308\"' \\\n",
    "    -o ../../constraintsOP/typeConstraint/claims.type-constraints_classes.tsv \\\n",
    "    --graph-cache ~/sqlite3_caches/temp12.sqlite3.db\n",
    "!kgtk --debug query -i ../../gdrive-kgtk-dump-2020-12-07/claims.properties.tsv.gz \\\n",
    "    ../../gdrive-kgtk-dump-2020-12-07/qualifiers.properties.tsv.gz \\\n",
    "    --match \"p: (nodeProp1)-[nodePropEdge:P2302]->(:Q21503250), q: (nodePropEdge1)-[nodePropEdgeProps:P2303]->(val)\" \\\n",
    "    --where 'nodePropEdge.id = nodePropEdge1' \\\n",
    "    --return 'nodeProp1 as node1, nodePropEdgeProps.label as label, val as node2' \\\n",
    "    -o ../../constraintsOP/typeConstraint/claims.type-constraints_exceptions_diff_way.tsv \\\n",
    "    --graph-cache ~/sqlite3_caches/temp1.sqlite3.db"
   ]
  }
 ],
 "metadata": {
  "kernelspec": {
   "display_name": "kgtkEnv",
   "language": "python",
   "name": "kgtkenv"
  },
  "language_info": {
   "codemirror_mode": {
    "name": "ipython",
    "version": 3
   },
   "file_extension": ".py",
   "mimetype": "text/x-python",
   "name": "python",
   "nbconvert_exporter": "python",
   "pygments_lexer": "ipython3",
   "version": "3.8.5"
  }
 },
 "nbformat": 4,
 "nbformat_minor": 5
}
