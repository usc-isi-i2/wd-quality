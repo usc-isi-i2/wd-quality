{
 "cells": [
  {
   "cell_type": "code",
   "execution_count": null,
   "id": "latin-young",
   "metadata": {},
   "outputs": [],
   "source": [
    "!kgtk --debug query -i ../../gdrive-kgtk-dump-2020-12-07/claims.tsv.gz \\\n",
    "    ../../gdrive-kgtk-dump-2020-12-07/claims.properties.tsv.gz \\\n",
    "    --match \"t: (node1)-[label1]->(node2), p: (nodeProp1)-[:P2302]->(:Q21503247)\" \\\n",
    "    --where 'label1.label = nodeProp1' \\\n",
    "    --return 'label1.id as id, node1, label1.label as label, node2' \\\n",
    "    -o ../../constraintsOP/itemRequiresConstraint/claims_truncated.tsv \\\n",
    "    --graph-cache ~/sqlite3_caches/itemReq1.sqlite3.db"
   ]
  }
 ],
 "metadata": {
  "kernelspec": {
   "display_name": "kgtkEnv",
   "language": "python",
   "name": "kgtkenv"
  },
  "language_info": {
   "codemirror_mode": {
    "name": "ipython",
    "version": 3
   },
   "file_extension": ".py",
   "mimetype": "text/x-python",
   "name": "python",
   "nbconvert_exporter": "python",
   "pygments_lexer": "ipython3",
   "version": "3.8.5"
  }
 },
 "nbformat": 4,
 "nbformat_minor": 5
}
