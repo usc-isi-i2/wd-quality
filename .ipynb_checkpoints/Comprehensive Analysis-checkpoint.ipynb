{
 "cells": [
  {
   "cell_type": "code",
   "execution_count": null,
   "id": "juvenile-ability",
   "metadata": {},
   "outputs": [],
   "source": [
    "import gzip\n",
    "from tqdm.notebook import tqdm\n",
    "propFileDict = {}\n",
    "fileLineCount = 1149471184\n",
    "with gzip.open('../../gdrive-kgtk-dump-2020-12-07/claims.tsv.gz','r') as fin: \n",
    "    headerLine = next(fin).decode(\"utf-8\")\n",
    "#     tstCount = 0\n",
    "    for line in tqdm(fin, total = fileLineCount):\n",
    "        line = line.decode(\"utf-8\")\n",
    "        lineP = line.rstrip().split(\"\\t\")\n",
    "        if \"external-id\" in lineP[-1]:\n",
    "            continue\n",
    "        prop = lineP[2]\n",
    "        print('got line', lineP)\n",
    "        if prop not in propFileDict:\n",
    "            propFileDict[prop] = open(\"../../propertiesSplit/claims.\"+str(prop)+\".tsv\",\"w\")\n",
    "            propFileDict[prop].write(headerLine)\n",
    "        propFileDict[prop].write(line)\n",
    "#         tstCount += 1\n",
    "#         if tstCount == 10:\n",
    "#             break\n",
    "    for file1 in propFileDict.values():\n",
    "        file1.close()"
   ]
  },
  {
   "cell_type": "code",
   "execution_count": 2,
   "id": "knowing-bryan",
   "metadata": {},
   "outputs": [
    {
     "name": "stdout",
     "output_type": "stream",
     "text": [
      "[2021-03-12 19:33:50 sqlstore]: IMPORT graph directly into table graph_11 from /data/wd-correctness/propertiesSplit/claims.P996.tsv ...\n",
      "[2021-03-12 19:33:51 sqlstore]: IMPORT graph directly into table graph_12 from /data/wd-correctness/wikidata-20210215/derived.isastar.tsv.gz ...\n",
      "^C\n"
     ]
    }
   ],
   "source": [
    "!kgtk --debug query -i ../../propertiesSplit/claims.P996.tsv \\\n",
    "    ../../constraintsOP/typeConstraint/claims.type-constraints_all.tsv \\\n",
    "    ../../wikidata-20210215/derived.isastar.tsv.gz \\\n",
    "    --match \"m: (node1)-[nodeProp]->(node2), c: (rLabel)-[:P2308]->(parent), d: (node1)-[]->(par), c: (eLabel)-[:P2303]->(eNode)\" \\\n",
    "    --where 'nodeProp.label = rLabel and (par = parent or (rLabel = eLabel and node1 = eNode))' \\\n",
    "    --return 'nodeProp.id, node1, nodeProp.label, node2, max(parent) as `node1;ancestor`' \\\n",
    "    -o ../../constraintsOP/typeConstraint/claims.type-constraints.mandatory.instanceOf.P996.correct.tsv \\\n",
    "    --graph-cache ~/sqlite3_caches/mandConst001.sqlite3.db ; \\\n",
    " kgtk --debug ifnotexists -i ../../constraintsOP/typeConstraint/claims.type-constraints.mandatory.instanceOf.P996.all.tsv \\\n",
    "    --filter-on ../../constraintsOP/typeConstraint/claims.type-constraints.mandatory.instanceOf.P996.correct.tsv \\\n",
    "    --filter-mode NONE \\\n",
    "    --input-keys node1 label \\\n",
    "    --filter-keys node1 label \\\n",
    "    -o ../../constraintsOP/typeConstraint/claims.type-constraints.mandatory.instanceOf.P996.incorrect.tsv"
   ]
  },
  {
   "cell_type": "code",
   "execution_count": 4,
   "id": "abstract-retreat",
   "metadata": {},
   "outputs": [
    {
     "name": "stdout",
     "output_type": "stream",
     "text": [
      "[2021-03-12 22:33:26 query]: SQL Translation:\r\n",
      "---------------------------------------------\r\n",
      "  SELECT graph_11_c1.\"id\", graph_11_c1.\"node1\", graph_11_c1.\"label\", graph_11_c1.\"node2\"\r\n",
      "     FROM graph_11 AS graph_11_c1, graph_14 AS graph_14_c2\r\n",
      "     WHERE graph_11_c1.\"node1\"=graph_14_c2.\"node1\"\r\n",
      "     AND (graph_14_c2.\"node2\" IN (?, ?, ?))\r\n",
      "  PARAS: ['Q1238720', 'Q3331189', 'Q47461344']\r\n",
      "---------------------------------------------\r\n"
     ]
    }
   ],
   "source": [
    "!kgtk --debug query -i ../../propertiesSplit/claims.P996.tsv \\\n",
    "    ../../wikidata-20210215/derived.isastar.tsv.gz \\\n",
    "    --match \"m: (node1)-[nodeProp]->(node2), d: (node1)-[]->(par)\" \\\n",
    "    --where 'par in [\"Q1238720\",\"Q3331189\",\"Q47461344\"]' \\\n",
    "    --return 'nodeProp.id, node1, nodeProp.label, node2' \\\n",
    "    -o ../../constraintsOP/typeConstraint/claims.type-constraints.mandatory.instanceOf.P996.correct.tsv \\\n",
    "    --graph-cache ~/sqlite3_caches/mandConst001.sqlite3.db ; \\\n",
    " kgtk --debug ifnotexists -i ../../propertiesSplit/claims.P996.tsv \\\n",
    "    --filter-on ../../constraintsOP/typeConstraint/claims.type-constraints.mandatory.instanceOf.P996.correct.tsv \\\n",
    "    --filter-mode NONE \\\n",
    "    --input-keys node1 label \\\n",
    "    --filter-keys node1 label \\\n",
    "    -o ../../constraintsOP/typeConstraint/claims.type-constraints.mandatory.instanceOf.P996.incorrect.tsv"
   ]
  },
  {
   "cell_type": "code",
   "execution_count": 7,
   "id": "strange-truck",
   "metadata": {},
   "outputs": [
    {
     "name": "stdout",
     "output_type": "stream",
     "text": [
      "81289 ../../constraintsOP/typeConstraint/claims.type-constraints.mandatory.instanceOf.P996.correct.tsv\r\n"
     ]
    }
   ],
   "source": [
    "!wc -l ../../constraintsOP/typeConstraint/claims.type-constraints.mandatory.instanceOf.P996.correct.tsv"
   ]
  },
  {
   "cell_type": "code",
   "execution_count": 8,
   "id": "finnish-hampton",
   "metadata": {},
   "outputs": [
    {
     "name": "stdout",
     "output_type": "stream",
     "text": [
      "[2021-03-12 22:49:54 sqlstore]: IMPORT graph directly into table graph_15 from /data/wd-correctness/propertiesSplit/claims.P991.tsv ...\n",
      "[2021-03-12 22:49:54 query]: SQL Translation:\n",
      "---------------------------------------------\n",
      "  SELECT graph_15_c1.\"id\", graph_15_c1.\"node1\", graph_15_c1.\"label\", graph_15_c1.\"node2\"\n",
      "     FROM graph_15 AS graph_15_c1, graph_5 AS graph_5_c2\n",
      "     WHERE graph_15_c1.\"node1\"=graph_5_c2.\"node1\"\n",
      "     AND (graph_5_c2.\"node2\" IN (?))\n",
      "  PARAS: ['Q40231']\n",
      "---------------------------------------------\n",
      "[2021-03-12 22:49:55 sqlstore]: CREATE INDEX on table graph_15 column node1 ...\n",
      "[2021-03-12 22:49:55 sqlstore]: ANALYZE INDEX on table graph_15 column node1 ...\n"
     ]
    }
   ],
   "source": [
    "!kgtk --debug query -i ../../propertiesSplit/claims.P991.tsv \\\n",
    "    ../../wikidata-20210215/derived.P31P279star.tsv.gz \\\n",
    "    --match \"m: (node1)-[nodeProp]->(node2), d: (node1)-[]->(par)\" \\\n",
    "    --where 'par in [\"Q40231\"]' \\\n",
    "    --return 'nodeProp.id, node1, nodeProp.label, node2' \\\n",
    "    -o ../../constraintsOP/typeConstraint/claims.type-constraints.mandatory.instanceOf.P991.correct.tsv \\\n",
    "    --graph-cache ~/sqlite3_caches/mandConst001.sqlite3.db ; \\\n",
    " kgtk --debug ifnotexists -i ../../propertiesSplit/claims.P991.tsv \\\n",
    "    --filter-on ../../constraintsOP/typeConstraint/claims.type-constraints.mandatory.instanceOf.P991.correct.tsv \\\n",
    "    --filter-mode NONE \\\n",
    "    --input-keys node1 label \\\n",
    "    --filter-keys node1 label \\\n",
    "    -o ../../constraintsOP/typeConstraint/claims.type-constraints.mandatory.instanceOf.P991.incorrect.tsv"
   ]
  },
  {
   "cell_type": "code",
   "execution_count": 9,
   "id": "elegant-reverse",
   "metadata": {},
   "outputs": [
    {
     "name": "stdout",
     "output_type": "stream",
     "text": [
      "[2021-03-12 23:54:56 sqlstore]: IMPORT graph directly into table graph_16 from /data/wd-correctness/propertiesSplit/claims.P965.tsv ...\n",
      "[2021-03-12 23:54:56 query]: SQL Translation:\n",
      "---------------------------------------------\n",
      "  SELECT graph_16_c1.\"id\", graph_5_c2.\"node1\", graph_16_c1.\"label\", graph_16_c1.\"node2\"\n",
      "     FROM graph_16 AS graph_16_c1, graph_5 AS graph_5_c2\n",
      "     WHERE graph_16_c1.\"node1\"=graph_5_c2.\"node1\"\n",
      "     AND (graph_5_c2.\"node2\" IN (?))\n",
      "  PARAS: ['Q6023295']\n",
      "---------------------------------------------\n",
      "[2021-03-12 23:54:56 sqlstore]: CREATE INDEX on table graph_16 column node1 ...\n",
      "[2021-03-12 23:54:56 sqlstore]: ANALYZE INDEX on table graph_16 column node1 ...\n"
     ]
    }
   ],
   "source": [
    "!kgtk --debug query -i ../../propertiesSplit/claims.P965.tsv \\\n",
    "    ../../wikidata-20210215/derived.P31P279star.tsv.gz \\\n",
    "    --match \"m: (node1)-[nodeProp]->(node2), d: (node1)-[]->(par)\" \\\n",
    "    --where 'par in [\"Q6023295\"]' \\\n",
    "    --return 'nodeProp.id, node1, nodeProp.label, node2' \\\n",
    "    -o ../../constraintsOP/typeConstraint/claims.type-constraints.mandatory.instanceOf.P965.correct.tsv \\\n",
    "    --graph-cache ~/sqlite3_caches/mandConst001.sqlite3.db ; \\\n",
    " kgtk --debug ifnotexists -i ../../propertiesSplit/claims.P965.tsv \\\n",
    "    --filter-on ../../constraintsOP/typeConstraint/claims.type-constraints.mandatory.instanceOf.P965.correct.tsv \\\n",
    "    --filter-mode NONE \\\n",
    "    --input-keys node1 label \\\n",
    "    --filter-keys node1 label \\\n",
    "    -o ../../constraintsOP/typeConstraint/claims.type-constraints.mandatory.instanceOf.P965.incorrect.tsv"
   ]
  },
  {
   "cell_type": "markdown",
   "id": "matched-strength",
   "metadata": {},
   "source": [
    "# Generate Queries"
   ]
  },
  {
   "cell_type": "markdown",
   "id": "terminal-beast",
   "metadata": {},
   "source": [
    "## Type Constraint"
   ]
  },
  {
   "cell_type": "code",
   "execution_count": 35,
   "id": "clinical-brunei",
   "metadata": {},
   "outputs": [],
   "source": [
    "import pandas as pd\n",
    "df = pd.read_csv('../../constraintsOP/typeConstraint/claims.type-constraints_all.tsv',sep='\\t')"
   ]
  },
  {
   "cell_type": "code",
   "execution_count": 36,
   "id": "assured-cleaners",
   "metadata": {},
   "outputs": [],
   "source": [
    "df1 = df.groupby(['node1','label']).node2.apply(lambda p: p.tolist()).reset_index()"
   ]
  },
  {
   "cell_type": "code",
   "execution_count": 37,
   "id": "sharing-evolution",
   "metadata": {},
   "outputs": [
    {
     "data": {
      "text/html": [
       "<div>\n",
       "<style scoped>\n",
       "    .dataframe tbody tr th:only-of-type {\n",
       "        vertical-align: middle;\n",
       "    }\n",
       "\n",
       "    .dataframe tbody tr th {\n",
       "        vertical-align: top;\n",
       "    }\n",
       "\n",
       "    .dataframe thead th {\n",
       "        text-align: right;\n",
       "    }\n",
       "</style>\n",
       "<table border=\"1\" class=\"dataframe\">\n",
       "  <thead>\n",
       "    <tr style=\"text-align: right;\">\n",
       "      <th></th>\n",
       "      <th>node1</th>\n",
       "      <th>label</th>\n",
       "      <th>node2</th>\n",
       "    </tr>\n",
       "  </thead>\n",
       "  <tbody>\n",
       "    <tr>\n",
       "      <th>0</th>\n",
       "      <td>P1001</td>\n",
       "      <td>P2308</td>\n",
       "      <td>[Q102496, Q105985, Q1140371, Q1151067, Q119768...</td>\n",
       "    </tr>\n",
       "    <tr>\n",
       "      <th>1</th>\n",
       "      <td>P1001</td>\n",
       "      <td>P2309</td>\n",
       "      <td>[Q30208840]</td>\n",
       "    </tr>\n",
       "    <tr>\n",
       "      <th>2</th>\n",
       "      <td>P1002</td>\n",
       "      <td>P2308</td>\n",
       "      <td>[Q630010]</td>\n",
       "    </tr>\n",
       "    <tr>\n",
       "      <th>3</th>\n",
       "      <td>P1002</td>\n",
       "      <td>P2309</td>\n",
       "      <td>[Q21514624]</td>\n",
       "    </tr>\n",
       "    <tr>\n",
       "      <th>4</th>\n",
       "      <td>P1004</td>\n",
       "      <td>P2308</td>\n",
       "      <td>[Q2221906, Q23413, Q3947, Q41176, Q88291]</td>\n",
       "    </tr>\n",
       "  </tbody>\n",
       "</table>\n",
       "</div>"
      ],
      "text/plain": [
       "   node1  label                                              node2\n",
       "0  P1001  P2308  [Q102496, Q105985, Q1140371, Q1151067, Q119768...\n",
       "1  P1001  P2309                                        [Q30208840]\n",
       "2  P1002  P2308                                          [Q630010]\n",
       "3  P1002  P2309                                        [Q21514624]\n",
       "4  P1004  P2308          [Q2221906, Q23413, Q3947, Q41176, Q88291]"
      ]
     },
     "execution_count": 37,
     "metadata": {},
     "output_type": "execute_result"
    }
   ],
   "source": [
    "df1.head()"
   ]
  },
  {
   "cell_type": "code",
   "execution_count": 40,
   "id": "affecting-battle",
   "metadata": {},
   "outputs": [
    {
     "data": {
      "text/html": [
       "<div>\n",
       "<style scoped>\n",
       "    .dataframe tbody tr th:only-of-type {\n",
       "        vertical-align: middle;\n",
       "    }\n",
       "\n",
       "    .dataframe tbody tr th {\n",
       "        vertical-align: top;\n",
       "    }\n",
       "\n",
       "    .dataframe thead th {\n",
       "        text-align: right;\n",
       "    }\n",
       "</style>\n",
       "<table border=\"1\" class=\"dataframe\">\n",
       "  <thead>\n",
       "    <tr style=\"text-align: right;\">\n",
       "      <th></th>\n",
       "      <th>node1</th>\n",
       "      <th>label</th>\n",
       "      <th>node2</th>\n",
       "    </tr>\n",
       "  </thead>\n",
       "  <tbody>\n",
       "    <tr>\n",
       "      <th>69</th>\n",
       "      <td>P105</td>\n",
       "      <td>P2308</td>\n",
       "      <td>[Q16521]</td>\n",
       "    </tr>\n",
       "    <tr>\n",
       "      <th>70</th>\n",
       "      <td>P105</td>\n",
       "      <td>P2309</td>\n",
       "      <td>[Q21503252]</td>\n",
       "    </tr>\n",
       "    <tr>\n",
       "      <th>71</th>\n",
       "      <td>P105</td>\n",
       "      <td>P2316</td>\n",
       "      <td>[Q21502408]</td>\n",
       "    </tr>\n",
       "  </tbody>\n",
       "</table>\n",
       "</div>"
      ],
      "text/plain": [
       "   node1  label        node2\n",
       "69  P105  P2308     [Q16521]\n",
       "70  P105  P2309  [Q21503252]\n",
       "71  P105  P2316  [Q21502408]"
      ]
     },
     "execution_count": 40,
     "metadata": {},
     "output_type": "execute_result"
    }
   ],
   "source": [
    "df1[df1['node1'] == 'P105']"
   ]
  },
  {
   "cell_type": "code",
   "execution_count": 38,
   "id": "bright-impossible",
   "metadata": {},
   "outputs": [
    {
     "data": {
      "application/vnd.jupyter.widget-view+json": {
       "model_id": "d6774dc319384fe2ac5aec84d97a2014",
       "version_major": 2,
       "version_minor": 0
      },
      "text/plain": [
       "  0%|          | 0/4810 [00:00<?, ?it/s]"
      ]
     },
     "metadata": {},
     "output_type": "display_data"
    },
    {
     "name": "stdout",
     "output_type": "stream",
     "text": [
      "Something failed for prop: P1249\n",
      "Something failed for prop: P6790\n"
     ]
    }
   ],
   "source": [
    "from tqdm.notebook import tqdm\n",
    "import os.path\n",
    "\n",
    "cnt = 0\n",
    "fCnt = 1\n",
    "for prop in tqdm(df1.node1.unique()):\n",
    "    try:\n",
    "        if not(os.path.isfile(\"../../propertiesSplit/claims.\"+ prop +\".tsv\")):\n",
    "            continue\n",
    "        relation = df1[(df1['node1'] == prop) & (df1['label'] == 'P2309')].node2.values[0][0]\n",
    "        type1 = df1[(df1['node1'] == prop) & (df1['label'] == 'P2316')].node2.values\n",
    "\n",
    "        parents = df1[(df1['node1'] == prop) & (df1['label'] == 'P2308')].node2.values[0]\n",
    "        exceptions = df1[(df1['node1'] == prop) & (df1['label'] == 'P2303')].node2.values\n",
    "\n",
    "#         print(prop, relation, type1, parents, exceptions)\n",
    "\n",
    "        if relation == \"Q21503252\":\n",
    "            parentFile = \"P31P279star\"\n",
    "            parentTitle = 'instanceOf'\n",
    "        elif relation == \"Q21514624\":\n",
    "            parentFile = \"P279star\"\n",
    "            parentTitle = 'subclass'\n",
    "        else:\n",
    "            parentFile = \"isastar\"\n",
    "            parentTitle = 'instanceOfOrSubclass'\n",
    "\n",
    "        if len(type1) != 0 and type1[0][0] == \"Q21502408\":\n",
    "            typeVal = \"mandatory\"\n",
    "        elif len(type1) != 0 and type1[0][0] == \"Q62026391\":\n",
    "            typeVal = \"suggestion\"\n",
    "        else:\n",
    "            typeVal = \"normal\"\n",
    "\n",
    "        if len(exceptions):\n",
    "            exceptionPart = \"or node1 in \" + str(exceptions[0]).replace(\"'\",'\"')\n",
    "        else:\n",
    "            exceptionPart = \"\"\n",
    "        \n",
    "        if cnt % 150 == 0:\n",
    "            fOP = open(\"../../propertiesSplit/checkViolations/typeConstraintValidator\" + str(fCnt) + \".sh\",\"w\")\n",
    "            fCnt += 1\n",
    "        \n",
    "        fOP.write(\"kgtk --debug query -i ../../propertiesSplit/claims.\"+ prop +\".tsv \\\n",
    "        ../../wikidata-20210215/derived.\" + parentFile + \".tsv.gz \\\n",
    "        --match 'm: (node1)-[nodeProp]->(node2), d: (node1)-[]->(par)' \\\n",
    "        --where 'par in \" + str(parents).replace(\"'\",'\"') + \" \" + exceptionPart + \"' \\\n",
    "        --return 'nodeProp.id, node1, nodeProp.label, node2' \\\n",
    "        -o ../../allConstraintsAnalysis/typeConstraint/\" + typeVal + \"/claims.type-constraints.\" + parentTitle + \".\"+ prop +\".correct.tsv \\\n",
    "        --graph-cache ~/sqlite3_caches/const2_\" + str(fCnt) + \".sqlite3.db ; \\\n",
    "         kgtk --debug ifnotexists -i ../../propertiesSplit/claims.\"+ prop +\".tsv \\\n",
    "        --filter-on ../../allConstraintsAnalysis/typeConstraint/\" + typeVal + \"/claims.type-constraints.\" + parentTitle + \".\"+ prop +\".correct.tsv \\\n",
    "        --filter-mode NONE \\\n",
    "        --input-keys node1 label \\\n",
    "        --filter-keys node1 label \\\n",
    "        -o ../../allConstraintsAnalysis/typeConstraint/\" + typeVal + \"/claims.type-constraints.\" + parentTitle + \".\"+ prop +\".incorrect.tsv\\n\")\n",
    "\n",
    "        cnt += 1\n",
    "    except:\n",
    "        print(\"Something failed for prop:\",prop)\n",
    "    "
   ]
  },
  {
   "cell_type": "code",
   "execution_count": 8,
   "id": "animated-cedar",
   "metadata": {},
   "outputs": [
    {
     "data": {
      "application/vnd.jupyter.widget-view+json": {
       "model_id": "965a0ce774374d07a5c18cda211038f8",
       "version_major": 2,
       "version_minor": 0
      },
      "text/plain": [
       "0it [00:00, ?it/s]"
      ]
     },
     "metadata": {},
     "output_type": "display_data"
    },
    {
     "data": {
      "application/vnd.jupyter.widget-view+json": {
       "model_id": "465d560723e243aa98aedb6817f1f3f3",
       "version_major": 2,
       "version_minor": 0
      },
      "text/plain": [
       "  0%|          | 0/330 [00:00<?, ?it/s]"
      ]
     },
     "metadata": {},
     "output_type": "display_data"
    },
    {
     "data": {
      "application/vnd.jupyter.widget-view+json": {
       "model_id": "207fb4967e354f9281d26714252c86c8",
       "version_major": 2,
       "version_minor": 0
      },
      "text/plain": [
       "  0%|          | 0/22 [00:00<?, ?it/s]"
      ]
     },
     "metadata": {},
     "output_type": "display_data"
    },
    {
     "data": {
      "application/vnd.jupyter.widget-view+json": {
       "model_id": "55879b3510724404ad8b7555e59d7b53",
       "version_major": 2,
       "version_minor": 0
      },
      "text/plain": [
       "  0%|          | 0/2560 [00:00<?, ?it/s]"
      ]
     },
     "metadata": {},
     "output_type": "display_data"
    }
   ],
   "source": [
    "import pandas as pd\n",
    "import os\n",
    "from tqdm.notebook import tqdm\n",
    "\n",
    "typeConstViolations = {}\n",
    "\n",
    "def countLines(fname):\n",
    "    cnt = -1\n",
    "    with open(fname, 'r') as f:\n",
    "        for line in f:\n",
    "            cnt += 1\n",
    "    return cnt\n",
    "\n",
    "propList = set()\n",
    "\n",
    "violations = {}\n",
    "\n",
    "for folder in tqdm(iter(['mandatory', 'suggestion', 'normal'])):\n",
    "    typeConstViolations[folder] = {'instanceOf': {'correct': 0, 'incorrect': 0}, 'subclass': {'correct': 0, 'incorrect': 0}, 'instanceOfOrSubclass': {'correct': 0, 'incorrect': 0}}\n",
    "    filePath = \"../../allConstraintsAnalysis/typeConstraint/\"+folder+\"/\"\n",
    "    for filename in tqdm(os.listdir(filePath)):\n",
    "        type1 = filename.split(\".\")[2]\n",
    "        prop = filename.split(\".\")[3]\n",
    "        propList.add(prop)\n",
    "        correctness = filename.split(\".\")[4]\n",
    "        count1 = countLines(filePath+filename)\n",
    "        typeConstViolations[folder][type1][correctness] += count1\n",
    "        if prop not in violations:\n",
    "            violations[prop] = {'correct': 0, 'incorrect': 0, 'paths': []}\n",
    "        violations[prop][correctness] = count1\n",
    "        violations[prop]['paths'].append(filePath+filename)\n",
    "        "
   ]
  },
  {
   "cell_type": "code",
   "execution_count": 9,
   "id": "secure-count",
   "metadata": {},
   "outputs": [],
   "source": [
    "# countLines(\"../../allConstraintsAnalysis/typeConstraint/mandatory/claims.type-constraints.subclass.P534.incorrect.tsv\")"
   ]
  },
  {
   "cell_type": "code",
   "execution_count": 31,
   "id": "subject-samoa",
   "metadata": {},
   "outputs": [
    {
     "name": "stdout",
     "output_type": "stream",
     "text": [
      "1456 properties processed for type constraint for 621229658 statements\n"
     ]
    }
   ],
   "source": [
    "recordCount = 0\n",
    "for elem in typeConstViolations.keys():\n",
    "    for key1 in typeConstViolations[elem].keys():\n",
    "        recordCount += typeConstViolations[elem][key1]['correct'] + typeConstViolations[elem][key1]['incorrect']\n",
    "print(f\"{len(propList)} properties processed for type constraint for {recordCount} statements\")"
   ]
  },
  {
   "cell_type": "code",
   "execution_count": 11,
   "id": "contrary-swiss",
   "metadata": {},
   "outputs": [],
   "source": [
    "import pandas as pd\n",
    "typeConstDF = pd.DataFrame(violations).T"
   ]
  },
  {
   "cell_type": "code",
   "execution_count": 12,
   "id": "level-emperor",
   "metadata": {},
   "outputs": [],
   "source": [
    "typeConstDF['violation_ratio'] = typeConstDF.apply(lambda p: p.incorrect / p.correct if p.correct != 0 else p.incorrect/100, axis=1)"
   ]
  },
  {
   "cell_type": "code",
   "execution_count": 13,
   "id": "convertible-munich",
   "metadata": {},
   "outputs": [
    {
     "data": {
      "text/html": [
       "<div>\n",
       "<style scoped>\n",
       "    .dataframe tbody tr th:only-of-type {\n",
       "        vertical-align: middle;\n",
       "    }\n",
       "\n",
       "    .dataframe tbody tr th {\n",
       "        vertical-align: top;\n",
       "    }\n",
       "\n",
       "    .dataframe thead th {\n",
       "        text-align: right;\n",
       "    }\n",
       "</style>\n",
       "<table border=\"1\" class=\"dataframe\">\n",
       "  <thead>\n",
       "    <tr style=\"text-align: right;\">\n",
       "      <th></th>\n",
       "      <th>correct</th>\n",
       "      <th>incorrect</th>\n",
       "      <th>paths</th>\n",
       "      <th>violation_ratio</th>\n",
       "    </tr>\n",
       "  </thead>\n",
       "  <tbody>\n",
       "    <tr>\n",
       "      <th>P105</th>\n",
       "      <td>2849928</td>\n",
       "      <td>209</td>\n",
       "      <td>[../../allConstraintsAnalysis/typeConstraint/m...</td>\n",
       "      <td>0.000073</td>\n",
       "    </tr>\n",
       "    <tr>\n",
       "      <th>P1087</th>\n",
       "      <td>2585953</td>\n",
       "      <td>1331</td>\n",
       "      <td>[../../allConstraintsAnalysis/typeConstraint/m...</td>\n",
       "      <td>0.000515</td>\n",
       "    </tr>\n",
       "    <tr>\n",
       "      <th>P1090</th>\n",
       "      <td>994723</td>\n",
       "      <td>1189</td>\n",
       "      <td>[../../allConstraintsAnalysis/typeConstraint/m...</td>\n",
       "      <td>0.001195</td>\n",
       "    </tr>\n",
       "    <tr>\n",
       "      <th>P1096</th>\n",
       "      <td>84319</td>\n",
       "      <td>23</td>\n",
       "      <td>[../../allConstraintsAnalysis/typeConstraint/m...</td>\n",
       "      <td>0.000273</td>\n",
       "    </tr>\n",
       "    <tr>\n",
       "      <th>P1098</th>\n",
       "      <td>1903</td>\n",
       "      <td>0</td>\n",
       "      <td>[../../allConstraintsAnalysis/typeConstraint/m...</td>\n",
       "      <td>0.000000</td>\n",
       "    </tr>\n",
       "  </tbody>\n",
       "</table>\n",
       "</div>"
      ],
      "text/plain": [
       "       correct incorrect                                              paths  \\\n",
       "P105   2849928       209  [../../allConstraintsAnalysis/typeConstraint/m...   \n",
       "P1087  2585953      1331  [../../allConstraintsAnalysis/typeConstraint/m...   \n",
       "P1090   994723      1189  [../../allConstraintsAnalysis/typeConstraint/m...   \n",
       "P1096    84319        23  [../../allConstraintsAnalysis/typeConstraint/m...   \n",
       "P1098     1903         0  [../../allConstraintsAnalysis/typeConstraint/m...   \n",
       "\n",
       "       violation_ratio  \n",
       "P105          0.000073  \n",
       "P1087         0.000515  \n",
       "P1090         0.001195  \n",
       "P1096         0.000273  \n",
       "P1098         0.000000  "
      ]
     },
     "execution_count": 13,
     "metadata": {},
     "output_type": "execute_result"
    }
   ],
   "source": [
    "typeConstDF.head()"
   ]
  },
  {
   "cell_type": "code",
   "execution_count": 37,
   "id": "norwegian-wagner",
   "metadata": {},
   "outputs": [
    {
     "data": {
      "text/html": [
       "<div>\n",
       "<style scoped>\n",
       "    .dataframe tbody tr th:only-of-type {\n",
       "        vertical-align: middle;\n",
       "    }\n",
       "\n",
       "    .dataframe tbody tr th {\n",
       "        vertical-align: top;\n",
       "    }\n",
       "\n",
       "    .dataframe thead th {\n",
       "        text-align: right;\n",
       "    }\n",
       "</style>\n",
       "<table border=\"1\" class=\"dataframe\">\n",
       "  <thead>\n",
       "    <tr style=\"text-align: right;\">\n",
       "      <th></th>\n",
       "      <th>correct</th>\n",
       "      <th>incorrect</th>\n",
       "      <th>paths</th>\n",
       "      <th>violation_ratio</th>\n",
       "    </tr>\n",
       "  </thead>\n",
       "  <tbody>\n",
       "    <tr>\n",
       "      <th>P2912</th>\n",
       "      <td>0</td>\n",
       "      <td>1</td>\n",
       "      <td>[../../allConstraintsAnalysis/typeConstraint/m...</td>\n",
       "      <td>1.0</td>\n",
       "    </tr>\n",
       "    <tr>\n",
       "      <th>P7174</th>\n",
       "      <td>0</td>\n",
       "      <td>3</td>\n",
       "      <td>[../../allConstraintsAnalysis/typeConstraint/n...</td>\n",
       "      <td>3.0</td>\n",
       "    </tr>\n",
       "    <tr>\n",
       "      <th>P6001</th>\n",
       "      <td>0</td>\n",
       "      <td>16</td>\n",
       "      <td>[../../allConstraintsAnalysis/typeConstraint/n...</td>\n",
       "      <td>16.0</td>\n",
       "    </tr>\n",
       "    <tr>\n",
       "      <th>P6014</th>\n",
       "      <td>0</td>\n",
       "      <td>3</td>\n",
       "      <td>[../../allConstraintsAnalysis/typeConstraint/n...</td>\n",
       "      <td>3.0</td>\n",
       "    </tr>\n",
       "    <tr>\n",
       "      <th>P7338</th>\n",
       "      <td>0</td>\n",
       "      <td>1</td>\n",
       "      <td>[../../allConstraintsAnalysis/typeConstraint/n...</td>\n",
       "      <td>1.0</td>\n",
       "    </tr>\n",
       "    <tr>\n",
       "      <th>P538</th>\n",
       "      <td>0</td>\n",
       "      <td>10</td>\n",
       "      <td>[../../allConstraintsAnalysis/typeConstraint/n...</td>\n",
       "      <td>10.0</td>\n",
       "    </tr>\n",
       "    <tr>\n",
       "      <th>P8738</th>\n",
       "      <td>0</td>\n",
       "      <td>14</td>\n",
       "      <td>[../../allConstraintsAnalysis/typeConstraint/n...</td>\n",
       "      <td>14.0</td>\n",
       "    </tr>\n",
       "    <tr>\n",
       "      <th>P5589</th>\n",
       "      <td>0</td>\n",
       "      <td>4</td>\n",
       "      <td>[../../allConstraintsAnalysis/typeConstraint/n...</td>\n",
       "      <td>4.0</td>\n",
       "    </tr>\n",
       "    <tr>\n",
       "      <th>P6510</th>\n",
       "      <td>0</td>\n",
       "      <td>4</td>\n",
       "      <td>[../../allConstraintsAnalysis/typeConstraint/n...</td>\n",
       "      <td>4.0</td>\n",
       "    </tr>\n",
       "    <tr>\n",
       "      <th>P7887</th>\n",
       "      <td>0</td>\n",
       "      <td>1</td>\n",
       "      <td>[../../allConstraintsAnalysis/typeConstraint/n...</td>\n",
       "      <td>1.0</td>\n",
       "    </tr>\n",
       "    <tr>\n",
       "      <th>P8004</th>\n",
       "      <td>0</td>\n",
       "      <td>6</td>\n",
       "      <td>[../../allConstraintsAnalysis/typeConstraint/n...</td>\n",
       "      <td>6.0</td>\n",
       "    </tr>\n",
       "    <tr>\n",
       "      <th>P8097</th>\n",
       "      <td>0</td>\n",
       "      <td>1</td>\n",
       "      <td>[../../allConstraintsAnalysis/typeConstraint/n...</td>\n",
       "      <td>1.0</td>\n",
       "    </tr>\n",
       "    <tr>\n",
       "      <th>P8107</th>\n",
       "      <td>0</td>\n",
       "      <td>2</td>\n",
       "      <td>[../../allConstraintsAnalysis/typeConstraint/n...</td>\n",
       "      <td>2.0</td>\n",
       "    </tr>\n",
       "    <tr>\n",
       "      <th>P8138</th>\n",
       "      <td>0</td>\n",
       "      <td>461</td>\n",
       "      <td>[../../allConstraintsAnalysis/typeConstraint/n...</td>\n",
       "      <td>461.0</td>\n",
       "    </tr>\n",
       "    <tr>\n",
       "      <th>P817</th>\n",
       "      <td>0</td>\n",
       "      <td>3</td>\n",
       "      <td>[../../allConstraintsAnalysis/typeConstraint/n...</td>\n",
       "      <td>3.0</td>\n",
       "    </tr>\n",
       "    <tr>\n",
       "      <th>P4850</th>\n",
       "      <td>0</td>\n",
       "      <td>1</td>\n",
       "      <td>[../../allConstraintsAnalysis/typeConstraint/n...</td>\n",
       "      <td>1.0</td>\n",
       "    </tr>\n",
       "    <tr>\n",
       "      <th>P4882</th>\n",
       "      <td>0</td>\n",
       "      <td>3</td>\n",
       "      <td>[../../allConstraintsAnalysis/typeConstraint/n...</td>\n",
       "      <td>3.0</td>\n",
       "    </tr>\n",
       "    <tr>\n",
       "      <th>P2136</th>\n",
       "      <td>0</td>\n",
       "      <td>1</td>\n",
       "      <td>[../../allConstraintsAnalysis/typeConstraint/n...</td>\n",
       "      <td>1.0</td>\n",
       "    </tr>\n",
       "    <tr>\n",
       "      <th>P5051</th>\n",
       "      <td>0</td>\n",
       "      <td>64</td>\n",
       "      <td>[../../allConstraintsAnalysis/typeConstraint/n...</td>\n",
       "      <td>64.0</td>\n",
       "    </tr>\n",
       "    <tr>\n",
       "      <th>P1194</th>\n",
       "      <td>0</td>\n",
       "      <td>1</td>\n",
       "      <td>[../../allConstraintsAnalysis/typeConstraint/n...</td>\n",
       "      <td>1.0</td>\n",
       "    </tr>\n",
       "    <tr>\n",
       "      <th>P1227</th>\n",
       "      <td>0</td>\n",
       "      <td>19</td>\n",
       "      <td>[../../allConstraintsAnalysis/typeConstraint/n...</td>\n",
       "      <td>19.0</td>\n",
       "    </tr>\n",
       "    <tr>\n",
       "      <th>P2303</th>\n",
       "      <td>0</td>\n",
       "      <td>39</td>\n",
       "      <td>[../../allConstraintsAnalysis/typeConstraint/n...</td>\n",
       "      <td>39.0</td>\n",
       "    </tr>\n",
       "    <tr>\n",
       "      <th>P2307</th>\n",
       "      <td>0</td>\n",
       "      <td>1</td>\n",
       "      <td>[../../allConstraintsAnalysis/typeConstraint/n...</td>\n",
       "      <td>1.0</td>\n",
       "    </tr>\n",
       "    <tr>\n",
       "      <th>P2308</th>\n",
       "      <td>0</td>\n",
       "      <td>17</td>\n",
       "      <td>[../../allConstraintsAnalysis/typeConstraint/n...</td>\n",
       "      <td>17.0</td>\n",
       "    </tr>\n",
       "    <tr>\n",
       "      <th>P2309</th>\n",
       "      <td>0</td>\n",
       "      <td>1</td>\n",
       "      <td>[../../allConstraintsAnalysis/typeConstraint/n...</td>\n",
       "      <td>1.0</td>\n",
       "    </tr>\n",
       "    <tr>\n",
       "      <th>P2311</th>\n",
       "      <td>0</td>\n",
       "      <td>1</td>\n",
       "      <td>[../../allConstraintsAnalysis/typeConstraint/n...</td>\n",
       "      <td>1.0</td>\n",
       "    </tr>\n",
       "    <tr>\n",
       "      <th>P2312</th>\n",
       "      <td>0</td>\n",
       "      <td>1</td>\n",
       "      <td>[../../allConstraintsAnalysis/typeConstraint/n...</td>\n",
       "      <td>1.0</td>\n",
       "    </tr>\n",
       "    <tr>\n",
       "      <th>P2313</th>\n",
       "      <td>0</td>\n",
       "      <td>1</td>\n",
       "      <td>[../../allConstraintsAnalysis/typeConstraint/n...</td>\n",
       "      <td>1.0</td>\n",
       "    </tr>\n",
       "    <tr>\n",
       "      <th>P2352</th>\n",
       "      <td>0</td>\n",
       "      <td>2</td>\n",
       "      <td>[../../allConstraintsAnalysis/typeConstraint/n...</td>\n",
       "      <td>2.0</td>\n",
       "    </tr>\n",
       "    <tr>\n",
       "      <th>P1354</th>\n",
       "      <td>0</td>\n",
       "      <td>1</td>\n",
       "      <td>[../../allConstraintsAnalysis/typeConstraint/n...</td>\n",
       "      <td>1.0</td>\n",
       "    </tr>\n",
       "  </tbody>\n",
       "</table>\n",
       "</div>"
      ],
      "text/plain": [
       "      correct incorrect                                              paths  \\\n",
       "P2912       0         1  [../../allConstraintsAnalysis/typeConstraint/m...   \n",
       "P7174       0         3  [../../allConstraintsAnalysis/typeConstraint/n...   \n",
       "P6001       0        16  [../../allConstraintsAnalysis/typeConstraint/n...   \n",
       "P6014       0         3  [../../allConstraintsAnalysis/typeConstraint/n...   \n",
       "P7338       0         1  [../../allConstraintsAnalysis/typeConstraint/n...   \n",
       "P538        0        10  [../../allConstraintsAnalysis/typeConstraint/n...   \n",
       "P8738       0        14  [../../allConstraintsAnalysis/typeConstraint/n...   \n",
       "P5589       0         4  [../../allConstraintsAnalysis/typeConstraint/n...   \n",
       "P6510       0         4  [../../allConstraintsAnalysis/typeConstraint/n...   \n",
       "P7887       0         1  [../../allConstraintsAnalysis/typeConstraint/n...   \n",
       "P8004       0         6  [../../allConstraintsAnalysis/typeConstraint/n...   \n",
       "P8097       0         1  [../../allConstraintsAnalysis/typeConstraint/n...   \n",
       "P8107       0         2  [../../allConstraintsAnalysis/typeConstraint/n...   \n",
       "P8138       0       461  [../../allConstraintsAnalysis/typeConstraint/n...   \n",
       "P817        0         3  [../../allConstraintsAnalysis/typeConstraint/n...   \n",
       "P4850       0         1  [../../allConstraintsAnalysis/typeConstraint/n...   \n",
       "P4882       0         3  [../../allConstraintsAnalysis/typeConstraint/n...   \n",
       "P2136       0         1  [../../allConstraintsAnalysis/typeConstraint/n...   \n",
       "P5051       0        64  [../../allConstraintsAnalysis/typeConstraint/n...   \n",
       "P1194       0         1  [../../allConstraintsAnalysis/typeConstraint/n...   \n",
       "P1227       0        19  [../../allConstraintsAnalysis/typeConstraint/n...   \n",
       "P2303       0        39  [../../allConstraintsAnalysis/typeConstraint/n...   \n",
       "P2307       0         1  [../../allConstraintsAnalysis/typeConstraint/n...   \n",
       "P2308       0        17  [../../allConstraintsAnalysis/typeConstraint/n...   \n",
       "P2309       0         1  [../../allConstraintsAnalysis/typeConstraint/n...   \n",
       "P2311       0         1  [../../allConstraintsAnalysis/typeConstraint/n...   \n",
       "P2312       0         1  [../../allConstraintsAnalysis/typeConstraint/n...   \n",
       "P2313       0         1  [../../allConstraintsAnalysis/typeConstraint/n...   \n",
       "P2352       0         2  [../../allConstraintsAnalysis/typeConstraint/n...   \n",
       "P1354       0         1  [../../allConstraintsAnalysis/typeConstraint/n...   \n",
       "\n",
       "       violation_ratio  \n",
       "P2912              1.0  \n",
       "P7174              3.0  \n",
       "P6001             16.0  \n",
       "P6014              3.0  \n",
       "P7338              1.0  \n",
       "P538              10.0  \n",
       "P8738             14.0  \n",
       "P5589              4.0  \n",
       "P6510              4.0  \n",
       "P7887              1.0  \n",
       "P8004              6.0  \n",
       "P8097              1.0  \n",
       "P8107              2.0  \n",
       "P8138            461.0  \n",
       "P817               3.0  \n",
       "P4850              1.0  \n",
       "P4882              3.0  \n",
       "P2136              1.0  \n",
       "P5051             64.0  \n",
       "P1194              1.0  \n",
       "P1227             19.0  \n",
       "P2303             39.0  \n",
       "P2307              1.0  \n",
       "P2308             17.0  \n",
       "P2309              1.0  \n",
       "P2311              1.0  \n",
       "P2312              1.0  \n",
       "P2313              1.0  \n",
       "P2352              2.0  \n",
       "P1354              1.0  "
      ]
     },
     "execution_count": 37,
     "metadata": {},
     "output_type": "execute_result"
    }
   ],
   "source": [
    "typeConstDF[typeConstDF.correct == 0]"
   ]
  },
  {
   "cell_type": "code",
   "execution_count": 20,
   "id": "facial-support",
   "metadata": {},
   "outputs": [
    {
     "data": {
      "text/html": [
       "<div>\n",
       "<style scoped>\n",
       "    .dataframe tbody tr th:only-of-type {\n",
       "        vertical-align: middle;\n",
       "    }\n",
       "\n",
       "    .dataframe tbody tr th {\n",
       "        vertical-align: top;\n",
       "    }\n",
       "\n",
       "    .dataframe thead th {\n",
       "        text-align: right;\n",
       "    }\n",
       "</style>\n",
       "<table border=\"1\" class=\"dataframe\">\n",
       "  <thead>\n",
       "    <tr style=\"text-align: right;\">\n",
       "      <th></th>\n",
       "      <th>correct</th>\n",
       "      <th>incorrect</th>\n",
       "      <th>paths</th>\n",
       "      <th>violation_ratio</th>\n",
       "    </tr>\n",
       "  </thead>\n",
       "  <tbody>\n",
       "    <tr>\n",
       "      <th>P1111</th>\n",
       "      <td>7</td>\n",
       "      <td>46320</td>\n",
       "      <td>[../../allConstraintsAnalysis/typeConstraint/n...</td>\n",
       "      <td>6617.142857</td>\n",
       "    </tr>\n",
       "    <tr>\n",
       "      <th>P7535</th>\n",
       "      <td>1</td>\n",
       "      <td>208</td>\n",
       "      <td>[../../allConstraintsAnalysis/typeConstraint/n...</td>\n",
       "      <td>208.000000</td>\n",
       "    </tr>\n",
       "    <tr>\n",
       "      <th>P6753</th>\n",
       "      <td>3</td>\n",
       "      <td>425</td>\n",
       "      <td>[../../allConstraintsAnalysis/typeConstraint/n...</td>\n",
       "      <td>141.666667</td>\n",
       "    </tr>\n",
       "    <tr>\n",
       "      <th>P768</th>\n",
       "      <td>137</td>\n",
       "      <td>15139</td>\n",
       "      <td>[../../allConstraintsAnalysis/typeConstraint/n...</td>\n",
       "      <td>110.503650</td>\n",
       "    </tr>\n",
       "    <tr>\n",
       "      <th>P7290</th>\n",
       "      <td>2</td>\n",
       "      <td>149</td>\n",
       "      <td>[../../allConstraintsAnalysis/typeConstraint/n...</td>\n",
       "      <td>74.500000</td>\n",
       "    </tr>\n",
       "  </tbody>\n",
       "</table>\n",
       "</div>"
      ],
      "text/plain": [
       "      correct incorrect                                              paths  \\\n",
       "P1111       7     46320  [../../allConstraintsAnalysis/typeConstraint/n...   \n",
       "P7535       1       208  [../../allConstraintsAnalysis/typeConstraint/n...   \n",
       "P6753       3       425  [../../allConstraintsAnalysis/typeConstraint/n...   \n",
       "P768      137     15139  [../../allConstraintsAnalysis/typeConstraint/n...   \n",
       "P7290       2       149  [../../allConstraintsAnalysis/typeConstraint/n...   \n",
       "\n",
       "       violation_ratio  \n",
       "P1111      6617.142857  \n",
       "P7535       208.000000  \n",
       "P6753       141.666667  \n",
       "P768        110.503650  \n",
       "P7290        74.500000  "
      ]
     },
     "execution_count": 20,
     "metadata": {},
     "output_type": "execute_result"
    }
   ],
   "source": [
    "typeConstDF.sort_values(by=['violation_ratio'],ascending=False).head(5)"
   ]
  },
  {
   "cell_type": "code",
   "execution_count": 22,
   "id": "saving-suite",
   "metadata": {},
   "outputs": [
    {
     "data": {
      "text/html": [
       "<div>\n",
       "<style scoped>\n",
       "    .dataframe tbody tr th:only-of-type {\n",
       "        vertical-align: middle;\n",
       "    }\n",
       "\n",
       "    .dataframe tbody tr th {\n",
       "        vertical-align: top;\n",
       "    }\n",
       "\n",
       "    .dataframe thead th {\n",
       "        text-align: right;\n",
       "    }\n",
       "</style>\n",
       "<table border=\"1\" class=\"dataframe\">\n",
       "  <thead>\n",
       "    <tr style=\"text-align: right;\">\n",
       "      <th></th>\n",
       "      <th>correct</th>\n",
       "      <th>incorrect</th>\n",
       "      <th>paths</th>\n",
       "      <th>violation_ratio</th>\n",
       "    </tr>\n",
       "  </thead>\n",
       "  <tbody>\n",
       "    <tr>\n",
       "      <th>P1001</th>\n",
       "      <td>1169808</td>\n",
       "      <td>65744</td>\n",
       "      <td>[../../allConstraintsAnalysis/typeConstraint/n...</td>\n",
       "      <td>0.056201</td>\n",
       "    </tr>\n",
       "    <tr>\n",
       "      <th>P1476</th>\n",
       "      <td>81194083</td>\n",
       "      <td>47204</td>\n",
       "      <td>[../../allConstraintsAnalysis/typeConstraint/n...</td>\n",
       "      <td>0.000581</td>\n",
       "    </tr>\n",
       "    <tr>\n",
       "      <th>P1111</th>\n",
       "      <td>7</td>\n",
       "      <td>46320</td>\n",
       "      <td>[../../allConstraintsAnalysis/typeConstraint/n...</td>\n",
       "      <td>6617.142857</td>\n",
       "    </tr>\n",
       "    <tr>\n",
       "      <th>P953</th>\n",
       "      <td>1419766</td>\n",
       "      <td>35180</td>\n",
       "      <td>[../../allConstraintsAnalysis/typeConstraint/n...</td>\n",
       "      <td>0.024779</td>\n",
       "    </tr>\n",
       "    <tr>\n",
       "      <th>P577</th>\n",
       "      <td>39403027</td>\n",
       "      <td>33977</td>\n",
       "      <td>[../../allConstraintsAnalysis/typeConstraint/n...</td>\n",
       "      <td>0.000862</td>\n",
       "    </tr>\n",
       "    <tr>\n",
       "      <th>P50</th>\n",
       "      <td>20087437</td>\n",
       "      <td>33870</td>\n",
       "      <td>[../../allConstraintsAnalysis/typeConstraint/n...</td>\n",
       "      <td>0.001686</td>\n",
       "    </tr>\n",
       "    <tr>\n",
       "      <th>P179</th>\n",
       "      <td>549561</td>\n",
       "      <td>32723</td>\n",
       "      <td>[../../allConstraintsAnalysis/typeConstraint/n...</td>\n",
       "      <td>0.059544</td>\n",
       "    </tr>\n",
       "    <tr>\n",
       "      <th>P495</th>\n",
       "      <td>1093936</td>\n",
       "      <td>30672</td>\n",
       "      <td>[../../allConstraintsAnalysis/typeConstraint/n...</td>\n",
       "      <td>0.028038</td>\n",
       "    </tr>\n",
       "    <tr>\n",
       "      <th>P1082</th>\n",
       "      <td>2911644</td>\n",
       "      <td>29132</td>\n",
       "      <td>[../../allConstraintsAnalysis/typeConstraint/n...</td>\n",
       "      <td>0.010005</td>\n",
       "    </tr>\n",
       "    <tr>\n",
       "      <th>P1346</th>\n",
       "      <td>244595</td>\n",
       "      <td>28867</td>\n",
       "      <td>[../../allConstraintsAnalysis/typeConstraint/n...</td>\n",
       "      <td>0.118020</td>\n",
       "    </tr>\n",
       "    <tr>\n",
       "      <th>P1215</th>\n",
       "      <td>33099195</td>\n",
       "      <td>24104</td>\n",
       "      <td>[../../allConstraintsAnalysis/typeConstraint/m...</td>\n",
       "      <td>0.000728</td>\n",
       "    </tr>\n",
       "    <tr>\n",
       "      <th>P6375</th>\n",
       "      <td>3228343</td>\n",
       "      <td>24104</td>\n",
       "      <td>[../../allConstraintsAnalysis/typeConstraint/n...</td>\n",
       "      <td>0.007466</td>\n",
       "    </tr>\n",
       "    <tr>\n",
       "      <th>P1191</th>\n",
       "      <td>52641</td>\n",
       "      <td>22410</td>\n",
       "      <td>[../../allConstraintsAnalysis/typeConstraint/n...</td>\n",
       "      <td>0.425714</td>\n",
       "    </tr>\n",
       "    <tr>\n",
       "      <th>P2795</th>\n",
       "      <td>172407</td>\n",
       "      <td>17914</td>\n",
       "      <td>[../../allConstraintsAnalysis/typeConstraint/s...</td>\n",
       "      <td>0.103905</td>\n",
       "    </tr>\n",
       "    <tr>\n",
       "      <th>P6216</th>\n",
       "      <td>2022136</td>\n",
       "      <td>17105</td>\n",
       "      <td>[../../allConstraintsAnalysis/typeConstraint/n...</td>\n",
       "      <td>0.008459</td>\n",
       "    </tr>\n",
       "  </tbody>\n",
       "</table>\n",
       "</div>"
      ],
      "text/plain": [
       "        correct incorrect                                              paths  \\\n",
       "P1001   1169808     65744  [../../allConstraintsAnalysis/typeConstraint/n...   \n",
       "P1476  81194083     47204  [../../allConstraintsAnalysis/typeConstraint/n...   \n",
       "P1111         7     46320  [../../allConstraintsAnalysis/typeConstraint/n...   \n",
       "P953    1419766     35180  [../../allConstraintsAnalysis/typeConstraint/n...   \n",
       "P577   39403027     33977  [../../allConstraintsAnalysis/typeConstraint/n...   \n",
       "P50    20087437     33870  [../../allConstraintsAnalysis/typeConstraint/n...   \n",
       "P179     549561     32723  [../../allConstraintsAnalysis/typeConstraint/n...   \n",
       "P495    1093936     30672  [../../allConstraintsAnalysis/typeConstraint/n...   \n",
       "P1082   2911644     29132  [../../allConstraintsAnalysis/typeConstraint/n...   \n",
       "P1346    244595     28867  [../../allConstraintsAnalysis/typeConstraint/n...   \n",
       "P1215  33099195     24104  [../../allConstraintsAnalysis/typeConstraint/m...   \n",
       "P6375   3228343     24104  [../../allConstraintsAnalysis/typeConstraint/n...   \n",
       "P1191     52641     22410  [../../allConstraintsAnalysis/typeConstraint/n...   \n",
       "P2795    172407     17914  [../../allConstraintsAnalysis/typeConstraint/s...   \n",
       "P6216   2022136     17105  [../../allConstraintsAnalysis/typeConstraint/n...   \n",
       "\n",
       "       violation_ratio  \n",
       "P1001         0.056201  \n",
       "P1476         0.000581  \n",
       "P1111      6617.142857  \n",
       "P953          0.024779  \n",
       "P577          0.000862  \n",
       "P50           0.001686  \n",
       "P179          0.059544  \n",
       "P495          0.028038  \n",
       "P1082         0.010005  \n",
       "P1346         0.118020  \n",
       "P1215         0.000728  \n",
       "P6375         0.007466  \n",
       "P1191         0.425714  \n",
       "P2795         0.103905  \n",
       "P6216         0.008459  "
      ]
     },
     "execution_count": 22,
     "metadata": {},
     "output_type": "execute_result"
    }
   ],
   "source": [
    "typeConstDF.sort_values(by=['incorrect'],ascending=False).head(15)"
   ]
  },
  {
   "cell_type": "code",
   "execution_count": 29,
   "id": "domestic-excuse",
   "metadata": {},
   "outputs": [],
   "source": [
    "# typeConstDF.sort_values(by=['incorrect'],ascending=False).head(5).paths.values"
   ]
  },
  {
   "cell_type": "code",
   "execution_count": 28,
   "id": "breathing-edition",
   "metadata": {},
   "outputs": [],
   "source": [
    "# !cat ../../allConstraintsAnalysis/typeConstraint/normal/claims.type-constraints.instanceOf.P953.incorrect.tsv"
   ]
  },
  {
   "cell_type": "code",
   "execution_count": 19,
   "id": "standing-quarter",
   "metadata": {
    "scrolled": true
   },
   "outputs": [
    {
     "data": {
      "text/plain": [
       "{'mandatory': {'instanceOf': {'correct': 44946486, 'incorrect': 35027},\n",
       "  'subclass': {'correct': 1969, 'incorrect': 29},\n",
       "  'instanceOfOrSubclass': {'correct': 223167, 'incorrect': 204}},\n",
       " 'suggestion': {'instanceOf': {'correct': 177282, 'incorrect': 18368},\n",
       "  'subclass': {'correct': 0, 'incorrect': 0},\n",
       "  'instanceOfOrSubclass': {'correct': 64302, 'incorrect': 2939}},\n",
       " 'normal': {'instanceOf': {'correct': 498988369, 'incorrect': 797888},\n",
       "  'subclass': {'correct': 103001, 'incorrect': 9440},\n",
       "  'instanceOfOrSubclass': {'correct': 75595604, 'incorrect': 265583}}}"
      ]
     },
     "execution_count": 19,
     "metadata": {},
     "output_type": "execute_result"
    }
   ],
   "source": [
    "typeConstViolations"
   ]
  },
  {
   "cell_type": "markdown",
   "id": "residential-damages",
   "metadata": {},
   "source": [
    "## Value Type Constraint"
   ]
  },
  {
   "cell_type": "code",
   "execution_count": 44,
   "id": "forced-separation",
   "metadata": {},
   "outputs": [],
   "source": [
    "import pandas as pd\n",
    "dfValueType = pd.read_csv('../../constraintsOP/valuetypeConstraint/claims.type-constraints_all1.tsv',sep='\\t')"
   ]
  },
  {
   "cell_type": "code",
   "execution_count": 45,
   "id": "demanding-final",
   "metadata": {},
   "outputs": [],
   "source": [
    "dfValueType = dfValueType.groupby(['node1','label']).node2.apply(lambda p: p.tolist()).reset_index()"
   ]
  },
  {
   "cell_type": "code",
   "execution_count": 46,
   "id": "thrown-essence",
   "metadata": {},
   "outputs": [
    {
     "data": {
      "text/html": [
       "<div>\n",
       "<style scoped>\n",
       "    .dataframe tbody tr th:only-of-type {\n",
       "        vertical-align: middle;\n",
       "    }\n",
       "\n",
       "    .dataframe tbody tr th {\n",
       "        vertical-align: top;\n",
       "    }\n",
       "\n",
       "    .dataframe thead th {\n",
       "        text-align: right;\n",
       "    }\n",
       "</style>\n",
       "<table border=\"1\" class=\"dataframe\">\n",
       "  <thead>\n",
       "    <tr style=\"text-align: right;\">\n",
       "      <th></th>\n",
       "      <th>node1</th>\n",
       "      <th>label</th>\n",
       "      <th>node2</th>\n",
       "    </tr>\n",
       "  </thead>\n",
       "  <tbody>\n",
       "    <tr>\n",
       "      <th>0</th>\n",
       "      <td>P1000</td>\n",
       "      <td>P2308</td>\n",
       "      <td>[Q1241356]</td>\n",
       "    </tr>\n",
       "    <tr>\n",
       "      <th>1</th>\n",
       "      <td>P1000</td>\n",
       "      <td>P2309</td>\n",
       "      <td>[Q30208840]</td>\n",
       "    </tr>\n",
       "    <tr>\n",
       "      <th>2</th>\n",
       "      <td>P1001</td>\n",
       "      <td>P2308</td>\n",
       "      <td>[Q20926517, Q2881272, Q2882257, Q3624078, Q389...</td>\n",
       "    </tr>\n",
       "    <tr>\n",
       "      <th>3</th>\n",
       "      <td>P1001</td>\n",
       "      <td>P2309</td>\n",
       "      <td>[Q30208840]</td>\n",
       "    </tr>\n",
       "    <tr>\n",
       "      <th>4</th>\n",
       "      <td>P1002</td>\n",
       "      <td>P2308</td>\n",
       "      <td>[Q2576663]</td>\n",
       "    </tr>\n",
       "  </tbody>\n",
       "</table>\n",
       "</div>"
      ],
      "text/plain": [
       "   node1  label                                              node2\n",
       "0  P1000  P2308                                         [Q1241356]\n",
       "1  P1000  P2309                                        [Q30208840]\n",
       "2  P1001  P2308  [Q20926517, Q2881272, Q2882257, Q3624078, Q389...\n",
       "3  P1001  P2309                                        [Q30208840]\n",
       "4  P1002  P2308                                         [Q2576663]"
      ]
     },
     "execution_count": 46,
     "metadata": {},
     "output_type": "execute_result"
    }
   ],
   "source": [
    "dfValueType.head()"
   ]
  },
  {
   "cell_type": "code",
   "execution_count": 17,
   "id": "disciplinary-dallas",
   "metadata": {},
   "outputs": [
    {
     "data": {
      "text/plain": [
       "array(['P2308', 'P2309', 'P2303', 'P2316', 'P6607', 'P2304'], dtype=object)"
      ]
     },
     "execution_count": 17,
     "metadata": {},
     "output_type": "execute_result"
    }
   ],
   "source": [
    "dfValueType['label'].unique()"
   ]
  },
  {
   "cell_type": "code",
   "execution_count": 16,
   "id": "separated-morocco",
   "metadata": {},
   "outputs": [
    {
     "data": {
      "text/html": [
       "<div>\n",
       "<style scoped>\n",
       "    .dataframe tbody tr th:only-of-type {\n",
       "        vertical-align: middle;\n",
       "    }\n",
       "\n",
       "    .dataframe tbody tr th {\n",
       "        vertical-align: top;\n",
       "    }\n",
       "\n",
       "    .dataframe thead th {\n",
       "        text-align: right;\n",
       "    }\n",
       "</style>\n",
       "<table border=\"1\" class=\"dataframe\">\n",
       "  <thead>\n",
       "    <tr style=\"text-align: right;\">\n",
       "      <th></th>\n",
       "      <th>node1</th>\n",
       "      <th>label</th>\n",
       "      <th>node2</th>\n",
       "    </tr>\n",
       "  </thead>\n",
       "  <tbody>\n",
       "  </tbody>\n",
       "</table>\n",
       "</div>"
      ],
      "text/plain": [
       "Empty DataFrame\n",
       "Columns: [node1, label, node2]\n",
       "Index: []"
      ]
     },
     "execution_count": 16,
     "metadata": {},
     "output_type": "execute_result"
    }
   ],
   "source": [
    "dfValueType[dfValueType['label'] == '2316']"
   ]
  },
  {
   "cell_type": "code",
   "execution_count": 50,
   "id": "caring-halifax",
   "metadata": {},
   "outputs": [
    {
     "data": {
      "text/html": [
       "<div>\n",
       "<style scoped>\n",
       "    .dataframe tbody tr th:only-of-type {\n",
       "        vertical-align: middle;\n",
       "    }\n",
       "\n",
       "    .dataframe tbody tr th {\n",
       "        vertical-align: top;\n",
       "    }\n",
       "\n",
       "    .dataframe thead th {\n",
       "        text-align: right;\n",
       "    }\n",
       "</style>\n",
       "<table border=\"1\" class=\"dataframe\">\n",
       "  <thead>\n",
       "    <tr style=\"text-align: right;\">\n",
       "      <th></th>\n",
       "      <th>node1</th>\n",
       "      <th>label</th>\n",
       "      <th>node2</th>\n",
       "    </tr>\n",
       "  </thead>\n",
       "  <tbody>\n",
       "    <tr>\n",
       "      <th>330</th>\n",
       "      <td>P1659</td>\n",
       "      <td>P2308</td>\n",
       "      <td>[Q18616576]</td>\n",
       "    </tr>\n",
       "    <tr>\n",
       "      <th>331</th>\n",
       "      <td>P1659</td>\n",
       "      <td>P2309</td>\n",
       "      <td>[Q21503252]</td>\n",
       "    </tr>\n",
       "    <tr>\n",
       "      <th>332</th>\n",
       "      <td>P1659</td>\n",
       "      <td>P2316</td>\n",
       "      <td>[Q21502408]</td>\n",
       "    </tr>\n",
       "  </tbody>\n",
       "</table>\n",
       "</div>"
      ],
      "text/plain": [
       "     node1  label        node2\n",
       "330  P1659  P2308  [Q18616576]\n",
       "331  P1659  P2309  [Q21503252]\n",
       "332  P1659  P2316  [Q21502408]"
      ]
     },
     "execution_count": 50,
     "metadata": {},
     "output_type": "execute_result"
    }
   ],
   "source": [
    "dfValueType[dfValueType['node1'] == 'P1659']"
   ]
  },
  {
   "cell_type": "code",
   "execution_count": 51,
   "id": "alpha-conclusion",
   "metadata": {},
   "outputs": [
    {
     "data": {
      "application/vnd.jupyter.widget-view+json": {
       "model_id": "4765782f913844f99358ed98ec9d119c",
       "version_major": 2,
       "version_minor": 0
      },
      "text/plain": [
       "  0%|          | 0/932 [00:00<?, ?it/s]"
      ]
     },
     "metadata": {},
     "output_type": "display_data"
    },
    {
     "name": "stdout",
     "output_type": "stream",
     "text": [
      "Something failed for prop: P1389\n"
     ]
    }
   ],
   "source": [
    "from tqdm.notebook import tqdm\n",
    "import os.path\n",
    "import os\n",
    "\n",
    "cnt = 0\n",
    "fCnt = 1\n",
    "for prop in tqdm(dfValueType.node1.unique()):\n",
    "    try:\n",
    "        if not(os.path.isfile(\"../../propertiesSplit/claims.\"+ prop +\".tsv\")):\n",
    "            continue\n",
    "        relation = dfValueType[(dfValueType['node1'] == prop) & (dfValueType['label'] == 'P2309')].node2.values[0][0]\n",
    "        type1 = dfValueType[(dfValueType['node1'] == prop) & (dfValueType['label'] == 'P2316')].node2.values\n",
    "#         print(type1)\n",
    "\n",
    "        parents = dfValueType[(dfValueType['node1'] == prop) & (dfValueType['label'] == 'P2308')].node2.values[0]\n",
    "        exceptions = dfValueType[(dfValueType['node1'] == prop) & (dfValueType['label'] == 'P2303')].node2.values\n",
    "        \n",
    "        if relation == \"Q21503252\":\n",
    "            parentFile = \"P31\"\n",
    "            parentTitle = 'instanceOf'\n",
    "        elif relation == \"Q21514624\":\n",
    "            parentFile = \"P279\"\n",
    "            parentTitle = 'subclass'\n",
    "        else:\n",
    "            parentFile = \"isa\"\n",
    "            parentTitle = 'instanceOfOrSubclass'\n",
    "\n",
    "        if len(type1) != 0 and type1[0][0] == \"Q21502408\":\n",
    "            typeVal = \"mandatory\"\n",
    "        elif len(type1) != 0 and type1[0][0] == \"Q62026391\":\n",
    "            typeVal = \"suggestion\"\n",
    "        else:\n",
    "            typeVal = \"normal\"\n",
    "\n",
    "        if len(exceptions):\n",
    "            exceptionPart = \"or node2 in \" + str(exceptions[0]).replace(\"'\",'\"')\n",
    "        else:\n",
    "            exceptionPart = \"\"\n",
    "        \n",
    "        folderName = 'valuetypeConstraint'\n",
    "        shellFileSuffix = 'valueTypeConstraintValidator'\n",
    "        \n",
    "        if cnt % 30 == 0:\n",
    "            fOP = open(\"../../propertiesSplit/checkViolations/\" + shellFileSuffix + str(fCnt) + \".sh\",\"w\")\n",
    "            fCnt += 1\n",
    "        \n",
    "        fOP.write(\"time kgtk --debug query -i ../../propertiesSplit/claims.\"+ prop +\".tsv \\\n",
    "        ../../wikidata-20210215/derived.\" + parentFile + \".tsv.gz \\\n",
    "        ../../wikidata-20210215/derived.P279star.tsv.gz \\\n",
    "        --match 'm: (node1)-[nodeProp]->(node2), \" + parentFile + \": (node2)-[]->(nodex), P279star: (nodex)-[]->(par)' \\\n",
    "        --where 'par in \" + str(parents).replace(\"'\",'\"') + \" \" + exceptionPart + \"' \\\n",
    "        --return 'nodeProp.id, node1 as `node1`, nodeProp.label as `label`, node2 as `node2`' \\\n",
    "        -o ../../allConstraintsAnalysis/\" + folderName + \"/\" + typeVal + \"/claims.type-constraints.\" + parentTitle + \".\"+ prop +\".correct.tsv \\\n",
    "        --graph-cache ~/sqlite3_caches/const4_\" + str(fCnt) + \".sqlite3.db; \\\n",
    "         kgtk --debug ifnotexists -i ../../propertiesSplit/claims.\"+ prop +\".tsv \\\n",
    "        --filter-on ../../allConstraintsAnalysis/\" + folderName + \"/\" + typeVal + \"/claims.type-constraints.\" + parentTitle + \".\"+ prop +\".correct.tsv \\\n",
    "        --filter-mode NONE \\\n",
    "        --input-keys node1 label \\\n",
    "        --filter-keys node1 label \\\n",
    "        -o ../../allConstraintsAnalysis/\" + folderName + \"/\" + typeVal + \"/claims.type-constraints.\" + parentTitle + \".\"+ prop +\".incorrect.tsv\\n\")\n",
    "\n",
    "        cnt += 1\n",
    "    except:\n",
    "        print(\"Something failed for prop:\",prop)"
   ]
  },
  {
   "cell_type": "code",
   "execution_count": 22,
   "id": "balanced-dallas",
   "metadata": {},
   "outputs": [
    {
     "data": {
      "application/vnd.jupyter.widget-view+json": {
       "model_id": "",
       "version_major": 2,
       "version_minor": 0
      },
      "text/plain": [
       "0it [00:00, ?it/s]"
      ]
     },
     "metadata": {},
     "output_type": "display_data"
    },
    {
     "data": {
      "application/vnd.jupyter.widget-view+json": {
       "model_id": "",
       "version_major": 2,
       "version_minor": 0
      },
      "text/plain": [
       "  0%|          | 0/330 [00:00<?, ?it/s]"
      ]
     },
     "metadata": {},
     "output_type": "display_data"
    },
    {
     "data": {
      "application/vnd.jupyter.widget-view+json": {
       "model_id": "",
       "version_major": 2,
       "version_minor": 0
      },
      "text/plain": [
       "  0%|          | 0/22 [00:00<?, ?it/s]"
      ]
     },
     "metadata": {},
     "output_type": "display_data"
    },
    {
     "data": {
      "application/vnd.jupyter.widget-view+json": {
       "model_id": "",
       "version_major": 2,
       "version_minor": 0
      },
      "text/plain": [
       "  0%|          | 0/2560 [00:00<?, ?it/s]"
      ]
     },
     "metadata": {},
     "output_type": "display_data"
    }
   ],
   "source": [
    "import pandas as pd\n",
    "import os\n",
    "from tqdm.notebook import tqdm\n",
    "\n",
    "typeConstViolations = {}\n",
    "\n",
    "def countLines(fname):\n",
    "    cnt = -1\n",
    "    with open(fname, 'r') as f:\n",
    "        for line in f:\n",
    "            cnt += 1\n",
    "    return cnt\n",
    "\n",
    "propList = set()\n",
    "\n",
    "violations = {}\n",
    "\n",
    "for folder in tqdm(iter(['mandatory', 'suggestion', 'normal'])):\n",
    "    typeConstViolations[folder] = {'instanceOf': {'correct': 0, 'incorrect': 0}, 'subclass': {'correct': 0, 'incorrect': 0}, 'instanceOfOrSubclass': {'correct': 0, 'incorrect': 0}}\n",
    "    filePath = \"../../allConstraintsAnalysis/typeConstraint/\"+folder+\"/\"\n",
    "    for filename in tqdm(os.listdir(filePath)):\n",
    "        type1 = filename.split(\".\")[2]\n",
    "        prop = filename.split(\".\")[3]\n",
    "        propList.add(prop)\n",
    "        correctness = filename.split(\".\")[4]\n",
    "        count1 = countLines(filePath+filename)\n",
    "        typeConstViolations[folder][type1][correctness] += count1\n",
    "        if prop not in violations:\n",
    "            violations[prop] = {'correct': 0, 'incorrect': 0, 'paths': []}\n",
    "        violations[prop][correctness] = count1\n",
    "        violations[prop]['paths'].append(filePath+filename)\n",
    "        "
   ]
  },
  {
   "cell_type": "code",
   "execution_count": 23,
   "id": "harmful-burlington",
   "metadata": {},
   "outputs": [],
   "source": [
    "# countLines(\"../../allConstraintsAnalysis/typeConstraint/mandatory/claims.type-constraints.subclass.P534.incorrect.tsv\")"
   ]
  },
  {
   "cell_type": "code",
   "execution_count": 24,
   "id": "illegal-flooring",
   "metadata": {},
   "outputs": [
    {
     "name": "stdout",
     "output_type": "stream",
     "text": [
      "No. of properties processed for type constraint: 1456\n"
     ]
    }
   ],
   "source": [
    "print(\"No. of properties processed for type constraint:\",len(propList))"
   ]
  },
  {
   "cell_type": "code",
   "execution_count": 26,
   "id": "political-upgrade",
   "metadata": {},
   "outputs": [],
   "source": [
    "import pandas as pd\n",
    "typeConstDF = pd.DataFrame(violations).T"
   ]
  },
  {
   "cell_type": "code",
   "execution_count": 38,
   "id": "pediatric-origin",
   "metadata": {},
   "outputs": [],
   "source": [
    "typeConstDF['violation_ratio'] = typeConstDF.apply(lambda p: p.incorrect / p.correct if p.correct != 0 else p.incorrect/100, axis=1)"
   ]
  },
  {
   "cell_type": "code",
   "execution_count": 39,
   "id": "legislative-holmes",
   "metadata": {},
   "outputs": [
    {
     "data": {
      "text/html": [
       "<div>\n",
       "<style scoped>\n",
       "    .dataframe tbody tr th:only-of-type {\n",
       "        vertical-align: middle;\n",
       "    }\n",
       "\n",
       "    .dataframe tbody tr th {\n",
       "        vertical-align: top;\n",
       "    }\n",
       "\n",
       "    .dataframe thead th {\n",
       "        text-align: right;\n",
       "    }\n",
       "</style>\n",
       "<table border=\"1\" class=\"dataframe\">\n",
       "  <thead>\n",
       "    <tr style=\"text-align: right;\">\n",
       "      <th></th>\n",
       "      <th>correct</th>\n",
       "      <th>incorrect</th>\n",
       "      <th>paths</th>\n",
       "      <th>violation_ratio</th>\n",
       "    </tr>\n",
       "  </thead>\n",
       "  <tbody>\n",
       "    <tr>\n",
       "      <th>P105</th>\n",
       "      <td>2849928</td>\n",
       "      <td>209</td>\n",
       "      <td>[../../allConstraintsAnalysis/typeConstraint/m...</td>\n",
       "      <td>0.000073</td>\n",
       "    </tr>\n",
       "    <tr>\n",
       "      <th>P1087</th>\n",
       "      <td>2585953</td>\n",
       "      <td>1331</td>\n",
       "      <td>[../../allConstraintsAnalysis/typeConstraint/m...</td>\n",
       "      <td>0.000515</td>\n",
       "    </tr>\n",
       "    <tr>\n",
       "      <th>P1090</th>\n",
       "      <td>994723</td>\n",
       "      <td>1189</td>\n",
       "      <td>[../../allConstraintsAnalysis/typeConstraint/m...</td>\n",
       "      <td>0.001195</td>\n",
       "    </tr>\n",
       "    <tr>\n",
       "      <th>P1096</th>\n",
       "      <td>84319</td>\n",
       "      <td>23</td>\n",
       "      <td>[../../allConstraintsAnalysis/typeConstraint/m...</td>\n",
       "      <td>0.000273</td>\n",
       "    </tr>\n",
       "    <tr>\n",
       "      <th>P1098</th>\n",
       "      <td>1903</td>\n",
       "      <td>0</td>\n",
       "      <td>[../../allConstraintsAnalysis/typeConstraint/m...</td>\n",
       "      <td>0.000000</td>\n",
       "    </tr>\n",
       "  </tbody>\n",
       "</table>\n",
       "</div>"
      ],
      "text/plain": [
       "       correct incorrect                                              paths  \\\n",
       "P105   2849928       209  [../../allConstraintsAnalysis/typeConstraint/m...   \n",
       "P1087  2585953      1331  [../../allConstraintsAnalysis/typeConstraint/m...   \n",
       "P1090   994723      1189  [../../allConstraintsAnalysis/typeConstraint/m...   \n",
       "P1096    84319        23  [../../allConstraintsAnalysis/typeConstraint/m...   \n",
       "P1098     1903         0  [../../allConstraintsAnalysis/typeConstraint/m...   \n",
       "\n",
       "       violation_ratio  \n",
       "P105          0.000073  \n",
       "P1087         0.000515  \n",
       "P1090         0.001195  \n",
       "P1096         0.000273  \n",
       "P1098         0.000000  "
      ]
     },
     "execution_count": 39,
     "metadata": {},
     "output_type": "execute_result"
    }
   ],
   "source": [
    "typeConstDF.head()"
   ]
  },
  {
   "cell_type": "code",
   "execution_count": 42,
   "id": "broadband-threshold",
   "metadata": {},
   "outputs": [
    {
     "data": {
      "text/html": [
       "<div>\n",
       "<style scoped>\n",
       "    .dataframe tbody tr th:only-of-type {\n",
       "        vertical-align: middle;\n",
       "    }\n",
       "\n",
       "    .dataframe tbody tr th {\n",
       "        vertical-align: top;\n",
       "    }\n",
       "\n",
       "    .dataframe thead th {\n",
       "        text-align: right;\n",
       "    }\n",
       "</style>\n",
       "<table border=\"1\" class=\"dataframe\">\n",
       "  <thead>\n",
       "    <tr style=\"text-align: right;\">\n",
       "      <th></th>\n",
       "      <th>correct</th>\n",
       "      <th>incorrect</th>\n",
       "      <th>paths</th>\n",
       "      <th>violation_ratio</th>\n",
       "    </tr>\n",
       "  </thead>\n",
       "  <tbody>\n",
       "    <tr>\n",
       "      <th>P1111</th>\n",
       "      <td>7</td>\n",
       "      <td>46320</td>\n",
       "      <td>[../../allConstraintsAnalysis/typeConstraint/n...</td>\n",
       "      <td>6617.142857</td>\n",
       "    </tr>\n",
       "    <tr>\n",
       "      <th>P7535</th>\n",
       "      <td>1</td>\n",
       "      <td>208</td>\n",
       "      <td>[../../allConstraintsAnalysis/typeConstraint/n...</td>\n",
       "      <td>208.000000</td>\n",
       "    </tr>\n",
       "    <tr>\n",
       "      <th>P6753</th>\n",
       "      <td>3</td>\n",
       "      <td>425</td>\n",
       "      <td>[../../allConstraintsAnalysis/typeConstraint/n...</td>\n",
       "      <td>141.666667</td>\n",
       "    </tr>\n",
       "    <tr>\n",
       "      <th>P768</th>\n",
       "      <td>137</td>\n",
       "      <td>15139</td>\n",
       "      <td>[../../allConstraintsAnalysis/typeConstraint/n...</td>\n",
       "      <td>110.503650</td>\n",
       "    </tr>\n",
       "    <tr>\n",
       "      <th>P7290</th>\n",
       "      <td>2</td>\n",
       "      <td>149</td>\n",
       "      <td>[../../allConstraintsAnalysis/typeConstraint/n...</td>\n",
       "      <td>74.500000</td>\n",
       "    </tr>\n",
       "    <tr>\n",
       "      <th>P1595</th>\n",
       "      <td>68</td>\n",
       "      <td>4262</td>\n",
       "      <td>[../../allConstraintsAnalysis/typeConstraint/n...</td>\n",
       "      <td>62.676471</td>\n",
       "    </tr>\n",
       "    <tr>\n",
       "      <th>P7080</th>\n",
       "      <td>4</td>\n",
       "      <td>208</td>\n",
       "      <td>[../../allConstraintsAnalysis/typeConstraint/n...</td>\n",
       "      <td>52.000000</td>\n",
       "    </tr>\n",
       "    <tr>\n",
       "      <th>P7045</th>\n",
       "      <td>1</td>\n",
       "      <td>42</td>\n",
       "      <td>[../../allConstraintsAnalysis/typeConstraint/n...</td>\n",
       "      <td>42.000000</td>\n",
       "    </tr>\n",
       "    <tr>\n",
       "      <th>P207</th>\n",
       "      <td>6</td>\n",
       "      <td>196</td>\n",
       "      <td>[../../allConstraintsAnalysis/typeConstraint/n...</td>\n",
       "      <td>32.666667</td>\n",
       "    </tr>\n",
       "    <tr>\n",
       "      <th>P2228</th>\n",
       "      <td>2</td>\n",
       "      <td>59</td>\n",
       "      <td>[../../allConstraintsAnalysis/typeConstraint/n...</td>\n",
       "      <td>29.500000</td>\n",
       "    </tr>\n",
       "    <tr>\n",
       "      <th>P4945</th>\n",
       "      <td>312</td>\n",
       "      <td>7495</td>\n",
       "      <td>[../../allConstraintsAnalysis/typeConstraint/n...</td>\n",
       "      <td>24.022436</td>\n",
       "    </tr>\n",
       "    <tr>\n",
       "      <th>P2964</th>\n",
       "      <td>4</td>\n",
       "      <td>61</td>\n",
       "      <td>[../../allConstraintsAnalysis/typeConstraint/n...</td>\n",
       "      <td>15.250000</td>\n",
       "    </tr>\n",
       "    <tr>\n",
       "      <th>P2715</th>\n",
       "      <td>11</td>\n",
       "      <td>151</td>\n",
       "      <td>[../../allConstraintsAnalysis/typeConstraint/n...</td>\n",
       "      <td>13.727273</td>\n",
       "    </tr>\n",
       "    <tr>\n",
       "      <th>P878</th>\n",
       "      <td>12</td>\n",
       "      <td>154</td>\n",
       "      <td>[../../allConstraintsAnalysis/typeConstraint/n...</td>\n",
       "      <td>12.833333</td>\n",
       "    </tr>\n",
       "    <tr>\n",
       "      <th>P5203</th>\n",
       "      <td>1</td>\n",
       "      <td>11</td>\n",
       "      <td>[../../allConstraintsAnalysis/typeConstraint/n...</td>\n",
       "      <td>11.000000</td>\n",
       "    </tr>\n",
       "  </tbody>\n",
       "</table>\n",
       "</div>"
      ],
      "text/plain": [
       "      correct incorrect                                              paths  \\\n",
       "P1111       7     46320  [../../allConstraintsAnalysis/typeConstraint/n...   \n",
       "P7535       1       208  [../../allConstraintsAnalysis/typeConstraint/n...   \n",
       "P6753       3       425  [../../allConstraintsAnalysis/typeConstraint/n...   \n",
       "P768      137     15139  [../../allConstraintsAnalysis/typeConstraint/n...   \n",
       "P7290       2       149  [../../allConstraintsAnalysis/typeConstraint/n...   \n",
       "P1595      68      4262  [../../allConstraintsAnalysis/typeConstraint/n...   \n",
       "P7080       4       208  [../../allConstraintsAnalysis/typeConstraint/n...   \n",
       "P7045       1        42  [../../allConstraintsAnalysis/typeConstraint/n...   \n",
       "P207        6       196  [../../allConstraintsAnalysis/typeConstraint/n...   \n",
       "P2228       2        59  [../../allConstraintsAnalysis/typeConstraint/n...   \n",
       "P4945     312      7495  [../../allConstraintsAnalysis/typeConstraint/n...   \n",
       "P2964       4        61  [../../allConstraintsAnalysis/typeConstraint/n...   \n",
       "P2715      11       151  [../../allConstraintsAnalysis/typeConstraint/n...   \n",
       "P878       12       154  [../../allConstraintsAnalysis/typeConstraint/n...   \n",
       "P5203       1        11  [../../allConstraintsAnalysis/typeConstraint/n...   \n",
       "\n",
       "       violation_ratio  \n",
       "P1111      6617.142857  \n",
       "P7535       208.000000  \n",
       "P6753       141.666667  \n",
       "P768        110.503650  \n",
       "P7290        74.500000  \n",
       "P1595        62.676471  \n",
       "P7080        52.000000  \n",
       "P7045        42.000000  \n",
       "P207         32.666667  \n",
       "P2228        29.500000  \n",
       "P4945        24.022436  \n",
       "P2964        15.250000  \n",
       "P2715        13.727273  \n",
       "P878         12.833333  \n",
       "P5203        11.000000  "
      ]
     },
     "execution_count": 42,
     "metadata": {},
     "output_type": "execute_result"
    }
   ],
   "source": [
    "typeConstDF.sort_values(by=['violation_ratio'],ascending=False).head(15)"
   ]
  },
  {
   "cell_type": "code",
   "execution_count": 19,
   "id": "favorite-bottle",
   "metadata": {
    "scrolled": true
   },
   "outputs": [
    {
     "data": {
      "text/plain": [
       "{'mandatory': {'instanceOf': {'correct': 44946486, 'incorrect': 35027},\n",
       "  'subclass': {'correct': 1969, 'incorrect': 29},\n",
       "  'instanceOfOrSubclass': {'correct': 223167, 'incorrect': 204}},\n",
       " 'suggestion': {'instanceOf': {'correct': 177282, 'incorrect': 18368},\n",
       "  'subclass': {'correct': 0, 'incorrect': 0},\n",
       "  'instanceOfOrSubclass': {'correct': 64302, 'incorrect': 2939}},\n",
       " 'normal': {'instanceOf': {'correct': 498988369, 'incorrect': 797888},\n",
       "  'subclass': {'correct': 103001, 'incorrect': 9440},\n",
       "  'instanceOfOrSubclass': {'correct': 75595604, 'incorrect': 265583}}}"
      ]
     },
     "execution_count": 19,
     "metadata": {},
     "output_type": "execute_result"
    }
   ],
   "source": [
    "typeConstViolations"
   ]
  },
  {
   "cell_type": "code",
   "execution_count": 52,
   "id": "tested-boards",
   "metadata": {},
   "outputs": [],
   "source": [
    "# for i in range(1,31):\n",
    "#     os.system(\"screen -dm sh ../../propertiesSplit/checkViolations/valueTypeConstraintValidator\" + str(i) + \".sh\")"
   ]
  },
  {
   "cell_type": "code",
   "execution_count": 32,
   "id": "spatial-blank",
   "metadata": {},
   "outputs": [
    {
     "data": {
      "application/vnd.jupyter.widget-view+json": {
       "model_id": "d2d44798f2e940a4a9c707b6af61638e",
       "version_major": 2,
       "version_minor": 0
      },
      "text/plain": [
       "0it [00:00, ?it/s]"
      ]
     },
     "metadata": {},
     "output_type": "display_data"
    },
    {
     "data": {
      "application/vnd.jupyter.widget-view+json": {
       "model_id": "e754477ebf344581982265ac3692a3b1",
       "version_major": 2,
       "version_minor": 0
      },
      "text/plain": [
       "  0%|          | 0/212 [00:00<?, ?it/s]"
      ]
     },
     "metadata": {},
     "output_type": "display_data"
    },
    {
     "data": {
      "application/vnd.jupyter.widget-view+json": {
       "model_id": "c5ad0bfe7350490eb9c8e80d7760ef7e",
       "version_major": 2,
       "version_minor": 0
      },
      "text/plain": [
       "  0%|          | 0/10 [00:00<?, ?it/s]"
      ]
     },
     "metadata": {},
     "output_type": "display_data"
    },
    {
     "data": {
      "application/vnd.jupyter.widget-view+json": {
       "model_id": "1ef0344fc22740778d54e4d9a60e80dd",
       "version_major": 2,
       "version_minor": 0
      },
      "text/plain": [
       "  0%|          | 0/1572 [00:00<?, ?it/s]"
      ]
     },
     "metadata": {},
     "output_type": "display_data"
    }
   ],
   "source": [
    "import pandas as pd\n",
    "import os\n",
    "from tqdm.notebook import tqdm\n",
    "\n",
    "valueTypeConstViolations = {}\n",
    "\n",
    "def countLines(fname):\n",
    "    cnt = -1\n",
    "    with open(fname, 'r') as f:\n",
    "        for line in f:\n",
    "            cnt += 1\n",
    "    return cnt\n",
    "\n",
    "valueTypePropList = set()\n",
    "\n",
    "violations = {}\n",
    "\n",
    "for folder in tqdm(iter(['mandatory', 'suggestion', 'normal'])):\n",
    "    valueTypeConstViolations[folder] = {'instanceOf': {'correct': 0, 'incorrect': 0}, 'subclass': {'correct': 0, 'incorrect': 0}, 'instanceOfOrSubclass': {'correct': 0, 'incorrect': 0}}\n",
    "    filePath = \"../../allConstraintsAnalysis/valuetypeConstraint/\"+folder+\"/\"\n",
    "    for filename in tqdm(os.listdir(filePath)):\n",
    "        type1 = filename.split(\".\")[2]\n",
    "        prop = filename.split(\".\")[3]\n",
    "        valueTypePropList.add(prop)\n",
    "        correctness = filename.split(\".\")[4]\n",
    "        count1 = countLines(filePath+filename)\n",
    "        valueTypeConstViolations[folder][type1][correctness] += count1\n",
    "        if prop not in violations:\n",
    "            violations[prop] = {'correct': 0, 'incorrect': 0, 'paths': []}\n",
    "        violations[prop][correctness] = count1\n",
    "        violations[prop]['paths'].append(filePath+filename)\n",
    "        "
   ]
  },
  {
   "cell_type": "code",
   "execution_count": 33,
   "id": "hourly-firmware",
   "metadata": {},
   "outputs": [],
   "source": [
    "# countLines(\"../../allConstraintsAnalysis/typeConstraint/mandatory/claims.type-constraints.subclass.P534.incorrect.tsv\")"
   ]
  },
  {
   "cell_type": "code",
   "execution_count": 34,
   "id": "respective-richardson",
   "metadata": {},
   "outputs": [
    {
     "name": "stdout",
     "output_type": "stream",
     "text": [
      "897 properties processed for value type constraint for 587254089 statements\n"
     ]
    }
   ],
   "source": [
    "recordCount = 0\n",
    "for elem in valueTypeConstViolations.keys():\n",
    "    for key1 in valueTypeConstViolations[elem].keys():\n",
    "        recordCount += valueTypeConstViolations[elem][key1]['correct'] + valueTypeConstViolations[elem][key1]['incorrect']\n",
    "print(f\"{len(valueTypePropList)} properties processed for value type constraint for {recordCount} statements\")"
   ]
  },
  {
   "cell_type": "code",
   "execution_count": 5,
   "id": "normal-statement",
   "metadata": {},
   "outputs": [],
   "source": [
    "import pandas as pd\n",
    "valTypeConstDF = pd.DataFrame(violations).T"
   ]
  },
  {
   "cell_type": "code",
   "execution_count": 6,
   "id": "documented-startup",
   "metadata": {},
   "outputs": [],
   "source": [
    "valTypeConstDF['violation_ratio'] = valTypeConstDF.apply(lambda p: p.incorrect / p.correct if p.correct != 0 else p.incorrect/100, axis=1)"
   ]
  },
  {
   "cell_type": "code",
   "execution_count": 12,
   "id": "reasonable-yacht",
   "metadata": {},
   "outputs": [
    {
     "data": {
      "text/html": [
       "<div>\n",
       "<style scoped>\n",
       "    .dataframe tbody tr th:only-of-type {\n",
       "        vertical-align: middle;\n",
       "    }\n",
       "\n",
       "    .dataframe tbody tr th {\n",
       "        vertical-align: top;\n",
       "    }\n",
       "\n",
       "    .dataframe thead th {\n",
       "        text-align: right;\n",
       "    }\n",
       "</style>\n",
       "<table border=\"1\" class=\"dataframe\">\n",
       "  <thead>\n",
       "    <tr style=\"text-align: right;\">\n",
       "      <th></th>\n",
       "      <th>correct</th>\n",
       "      <th>incorrect</th>\n",
       "      <th>paths</th>\n",
       "      <th>violation_ratio</th>\n",
       "    </tr>\n",
       "  </thead>\n",
       "  <tbody>\n",
       "    <tr>\n",
       "      <th>P1659</th>\n",
       "      <td>33728</td>\n",
       "      <td>1</td>\n",
       "      <td>[../../allConstraintsAnalysis/valuetypeConstra...</td>\n",
       "      <td>0.000030</td>\n",
       "    </tr>\n",
       "    <tr>\n",
       "      <th>P185</th>\n",
       "      <td>273396</td>\n",
       "      <td>147</td>\n",
       "      <td>[../../allConstraintsAnalysis/valuetypeConstra...</td>\n",
       "      <td>0.000538</td>\n",
       "    </tr>\n",
       "    <tr>\n",
       "      <th>P4006</th>\n",
       "      <td>18</td>\n",
       "      <td>0</td>\n",
       "      <td>[../../allConstraintsAnalysis/valuetypeConstra...</td>\n",
       "      <td>0.000000</td>\n",
       "    </tr>\n",
       "    <tr>\n",
       "      <th>P8882</th>\n",
       "      <td>184</td>\n",
       "      <td>0</td>\n",
       "      <td>[../../allConstraintsAnalysis/valuetypeConstra...</td>\n",
       "      <td>0.000000</td>\n",
       "    </tr>\n",
       "    <tr>\n",
       "      <th>P2679</th>\n",
       "      <td>898</td>\n",
       "      <td>2</td>\n",
       "      <td>[../../allConstraintsAnalysis/valuetypeConstra...</td>\n",
       "      <td>0.002227</td>\n",
       "    </tr>\n",
       "  </tbody>\n",
       "</table>\n",
       "</div>"
      ],
      "text/plain": [
       "      correct incorrect                                              paths  \\\n",
       "P1659   33728         1  [../../allConstraintsAnalysis/valuetypeConstra...   \n",
       "P185   273396       147  [../../allConstraintsAnalysis/valuetypeConstra...   \n",
       "P4006      18         0  [../../allConstraintsAnalysis/valuetypeConstra...   \n",
       "P8882     184         0  [../../allConstraintsAnalysis/valuetypeConstra...   \n",
       "P2679     898         2  [../../allConstraintsAnalysis/valuetypeConstra...   \n",
       "\n",
       "       violation_ratio  \n",
       "P1659         0.000030  \n",
       "P185          0.000538  \n",
       "P4006         0.000000  \n",
       "P8882         0.000000  \n",
       "P2679         0.002227  "
      ]
     },
     "execution_count": 12,
     "metadata": {},
     "output_type": "execute_result"
    }
   ],
   "source": [
    "valTypeConstDF.head()"
   ]
  },
  {
   "cell_type": "code",
   "execution_count": 13,
   "id": "ordered-honor",
   "metadata": {},
   "outputs": [
    {
     "data": {
      "text/html": [
       "<div>\n",
       "<style scoped>\n",
       "    .dataframe tbody tr th:only-of-type {\n",
       "        vertical-align: middle;\n",
       "    }\n",
       "\n",
       "    .dataframe tbody tr th {\n",
       "        vertical-align: top;\n",
       "    }\n",
       "\n",
       "    .dataframe thead th {\n",
       "        text-align: right;\n",
       "    }\n",
       "</style>\n",
       "<table border=\"1\" class=\"dataframe\">\n",
       "  <thead>\n",
       "    <tr style=\"text-align: right;\">\n",
       "      <th></th>\n",
       "      <th>correct</th>\n",
       "      <th>incorrect</th>\n",
       "      <th>paths</th>\n",
       "      <th>violation_ratio</th>\n",
       "    </tr>\n",
       "  </thead>\n",
       "  <tbody>\n",
       "    <tr>\n",
       "      <th>P5008</th>\n",
       "      <td>0</td>\n",
       "      <td>331026</td>\n",
       "      <td>[../../allConstraintsAnalysis/valuetypeConstra...</td>\n",
       "      <td>3310.260000</td>\n",
       "    </tr>\n",
       "    <tr>\n",
       "      <th>P6104</th>\n",
       "      <td>0</td>\n",
       "      <td>9764</td>\n",
       "      <td>[../../allConstraintsAnalysis/valuetypeConstra...</td>\n",
       "      <td>97.640000</td>\n",
       "    </tr>\n",
       "    <tr>\n",
       "      <th>P2545</th>\n",
       "      <td>0</td>\n",
       "      <td>1369</td>\n",
       "      <td>[../../allConstraintsAnalysis/valuetypeConstra...</td>\n",
       "      <td>13.690000</td>\n",
       "    </tr>\n",
       "    <tr>\n",
       "      <th>P5051</th>\n",
       "      <td>5</td>\n",
       "      <td>59</td>\n",
       "      <td>[../../allConstraintsAnalysis/valuetypeConstra...</td>\n",
       "      <td>11.800000</td>\n",
       "    </tr>\n",
       "    <tr>\n",
       "      <th>P1227</th>\n",
       "      <td>2</td>\n",
       "      <td>16</td>\n",
       "      <td>[../../allConstraintsAnalysis/valuetypeConstra...</td>\n",
       "      <td>8.000000</td>\n",
       "    </tr>\n",
       "    <tr>\n",
       "      <th>P1880</th>\n",
       "      <td>24</td>\n",
       "      <td>173</td>\n",
       "      <td>[../../allConstraintsAnalysis/valuetypeConstra...</td>\n",
       "      <td>7.208333</td>\n",
       "    </tr>\n",
       "    <tr>\n",
       "      <th>P1039</th>\n",
       "      <td>6</td>\n",
       "      <td>41</td>\n",
       "      <td>[../../allConstraintsAnalysis/valuetypeConstra...</td>\n",
       "      <td>6.833333</td>\n",
       "    </tr>\n",
       "    <tr>\n",
       "      <th>P516</th>\n",
       "      <td>1379</td>\n",
       "      <td>7993</td>\n",
       "      <td>[../../allConstraintsAnalysis/valuetypeConstra...</td>\n",
       "      <td>5.796229</td>\n",
       "    </tr>\n",
       "    <tr>\n",
       "      <th>P1210</th>\n",
       "      <td>1</td>\n",
       "      <td>5</td>\n",
       "      <td>[../../allConstraintsAnalysis/valuetypeConstra...</td>\n",
       "      <td>5.000000</td>\n",
       "    </tr>\n",
       "    <tr>\n",
       "      <th>P1455</th>\n",
       "      <td>198</td>\n",
       "      <td>721</td>\n",
       "      <td>[../../allConstraintsAnalysis/valuetypeConstra...</td>\n",
       "      <td>3.641414</td>\n",
       "    </tr>\n",
       "    <tr>\n",
       "      <th>P1686</th>\n",
       "      <td>11</td>\n",
       "      <td>37</td>\n",
       "      <td>[../../allConstraintsAnalysis/valuetypeConstra...</td>\n",
       "      <td>3.363636</td>\n",
       "    </tr>\n",
       "    <tr>\n",
       "      <th>P453</th>\n",
       "      <td>128</td>\n",
       "      <td>415</td>\n",
       "      <td>[../../allConstraintsAnalysis/valuetypeConstra...</td>\n",
       "      <td>3.242188</td>\n",
       "    </tr>\n",
       "    <tr>\n",
       "      <th>P3356</th>\n",
       "      <td>30</td>\n",
       "      <td>95</td>\n",
       "      <td>[../../allConstraintsAnalysis/valuetypeConstra...</td>\n",
       "      <td>3.166667</td>\n",
       "    </tr>\n",
       "    <tr>\n",
       "      <th>P4968</th>\n",
       "      <td>9</td>\n",
       "      <td>22</td>\n",
       "      <td>[../../allConstraintsAnalysis/valuetypeConstra...</td>\n",
       "      <td>2.444444</td>\n",
       "    </tr>\n",
       "    <tr>\n",
       "      <th>P8786</th>\n",
       "      <td>39</td>\n",
       "      <td>95</td>\n",
       "      <td>[../../allConstraintsAnalysis/valuetypeConstra...</td>\n",
       "      <td>2.435897</td>\n",
       "    </tr>\n",
       "  </tbody>\n",
       "</table>\n",
       "</div>"
      ],
      "text/plain": [
       "      correct incorrect                                              paths  \\\n",
       "P5008       0    331026  [../../allConstraintsAnalysis/valuetypeConstra...   \n",
       "P6104       0      9764  [../../allConstraintsAnalysis/valuetypeConstra...   \n",
       "P2545       0      1369  [../../allConstraintsAnalysis/valuetypeConstra...   \n",
       "P5051       5        59  [../../allConstraintsAnalysis/valuetypeConstra...   \n",
       "P1227       2        16  [../../allConstraintsAnalysis/valuetypeConstra...   \n",
       "P1880      24       173  [../../allConstraintsAnalysis/valuetypeConstra...   \n",
       "P1039       6        41  [../../allConstraintsAnalysis/valuetypeConstra...   \n",
       "P516     1379      7993  [../../allConstraintsAnalysis/valuetypeConstra...   \n",
       "P1210       1         5  [../../allConstraintsAnalysis/valuetypeConstra...   \n",
       "P1455     198       721  [../../allConstraintsAnalysis/valuetypeConstra...   \n",
       "P1686      11        37  [../../allConstraintsAnalysis/valuetypeConstra...   \n",
       "P453      128       415  [../../allConstraintsAnalysis/valuetypeConstra...   \n",
       "P3356      30        95  [../../allConstraintsAnalysis/valuetypeConstra...   \n",
       "P4968       9        22  [../../allConstraintsAnalysis/valuetypeConstra...   \n",
       "P8786      39        95  [../../allConstraintsAnalysis/valuetypeConstra...   \n",
       "\n",
       "       violation_ratio  \n",
       "P5008      3310.260000  \n",
       "P6104        97.640000  \n",
       "P2545        13.690000  \n",
       "P5051        11.800000  \n",
       "P1227         8.000000  \n",
       "P1880         7.208333  \n",
       "P1039         6.833333  \n",
       "P516          5.796229  \n",
       "P1210         5.000000  \n",
       "P1455         3.641414  \n",
       "P1686         3.363636  \n",
       "P453          3.242188  \n",
       "P3356         3.166667  \n",
       "P4968         2.444444  \n",
       "P8786         2.435897  "
      ]
     },
     "execution_count": 13,
     "metadata": {},
     "output_type": "execute_result"
    }
   ],
   "source": [
    "valTypeConstDF.sort_values(by=['violation_ratio'],ascending=False).head(15)"
   ]
  },
  {
   "cell_type": "code",
   "execution_count": 27,
   "id": "human-editor",
   "metadata": {},
   "outputs": [
    {
     "data": {
      "text/html": [
       "<div>\n",
       "<style scoped>\n",
       "    .dataframe tbody tr th:only-of-type {\n",
       "        vertical-align: middle;\n",
       "    }\n",
       "\n",
       "    .dataframe tbody tr th {\n",
       "        vertical-align: top;\n",
       "    }\n",
       "\n",
       "    .dataframe thead th {\n",
       "        text-align: right;\n",
       "    }\n",
       "</style>\n",
       "<table border=\"1\" class=\"dataframe\">\n",
       "  <thead>\n",
       "    <tr style=\"text-align: right;\">\n",
       "      <th></th>\n",
       "      <th>correct</th>\n",
       "      <th>incorrect</th>\n",
       "      <th>paths</th>\n",
       "      <th>violation_ratio</th>\n",
       "    </tr>\n",
       "  </thead>\n",
       "  <tbody>\n",
       "    <tr>\n",
       "      <th>P5008</th>\n",
       "      <td>0</td>\n",
       "      <td>331026</td>\n",
       "      <td>[../../allConstraintsAnalysis/valuetypeConstra...</td>\n",
       "      <td>3310.260000</td>\n",
       "    </tr>\n",
       "    <tr>\n",
       "      <th>P131</th>\n",
       "      <td>13988974</td>\n",
       "      <td>70786</td>\n",
       "      <td>[../../allConstraintsAnalysis/valuetypeConstra...</td>\n",
       "      <td>0.005060</td>\n",
       "    </tr>\n",
       "    <tr>\n",
       "      <th>P69</th>\n",
       "      <td>3678858</td>\n",
       "      <td>36323</td>\n",
       "      <td>[../../allConstraintsAnalysis/valuetypeConstra...</td>\n",
       "      <td>0.009873</td>\n",
       "    </tr>\n",
       "    <tr>\n",
       "      <th>P136</th>\n",
       "      <td>1405096</td>\n",
       "      <td>36152</td>\n",
       "      <td>[../../allConstraintsAnalysis/valuetypeConstra...</td>\n",
       "      <td>0.025729</td>\n",
       "    </tr>\n",
       "    <tr>\n",
       "      <th>P150</th>\n",
       "      <td>990010</td>\n",
       "      <td>33888</td>\n",
       "      <td>[../../allConstraintsAnalysis/valuetypeConstra...</td>\n",
       "      <td>0.034230</td>\n",
       "    </tr>\n",
       "    <tr>\n",
       "      <th>P1433</th>\n",
       "      <td>138352116</td>\n",
       "      <td>22053</td>\n",
       "      <td>[../../allConstraintsAnalysis/valuetypeConstra...</td>\n",
       "      <td>0.000159</td>\n",
       "    </tr>\n",
       "    <tr>\n",
       "      <th>P50</th>\n",
       "      <td>39989016</td>\n",
       "      <td>18955</td>\n",
       "      <td>[../../allConstraintsAnalysis/valuetypeConstra...</td>\n",
       "      <td>0.000474</td>\n",
       "    </tr>\n",
       "    <tr>\n",
       "      <th>P106</th>\n",
       "      <td>30054276</td>\n",
       "      <td>17832</td>\n",
       "      <td>[../../allConstraintsAnalysis/valuetypeConstra...</td>\n",
       "      <td>0.000593</td>\n",
       "    </tr>\n",
       "    <tr>\n",
       "      <th>P400</th>\n",
       "      <td>62062</td>\n",
       "      <td>14718</td>\n",
       "      <td>[../../allConstraintsAnalysis/valuetypeConstra...</td>\n",
       "      <td>0.237150</td>\n",
       "    </tr>\n",
       "    <tr>\n",
       "      <th>P276</th>\n",
       "      <td>9014884</td>\n",
       "      <td>12395</td>\n",
       "      <td>[../../allConstraintsAnalysis/valuetypeConstra...</td>\n",
       "      <td>0.001375</td>\n",
       "    </tr>\n",
       "    <tr>\n",
       "      <th>P452</th>\n",
       "      <td>114902</td>\n",
       "      <td>12329</td>\n",
       "      <td>[../../allConstraintsAnalysis/valuetypeConstra...</td>\n",
       "      <td>0.107300</td>\n",
       "    </tr>\n",
       "    <tr>\n",
       "      <th>P1454</th>\n",
       "      <td>132424</td>\n",
       "      <td>10056</td>\n",
       "      <td>[../../allConstraintsAnalysis/valuetypeConstra...</td>\n",
       "      <td>0.075938</td>\n",
       "    </tr>\n",
       "    <tr>\n",
       "      <th>P6104</th>\n",
       "      <td>0</td>\n",
       "      <td>9764</td>\n",
       "      <td>[../../allConstraintsAnalysis/valuetypeConstra...</td>\n",
       "      <td>97.640000</td>\n",
       "    </tr>\n",
       "    <tr>\n",
       "      <th>P516</th>\n",
       "      <td>1379</td>\n",
       "      <td>7993</td>\n",
       "      <td>[../../allConstraintsAnalysis/valuetypeConstra...</td>\n",
       "      <td>5.796229</td>\n",
       "    </tr>\n",
       "    <tr>\n",
       "      <th>P179</th>\n",
       "      <td>862371</td>\n",
       "      <td>7267</td>\n",
       "      <td>[../../allConstraintsAnalysis/valuetypeConstra...</td>\n",
       "      <td>0.008427</td>\n",
       "    </tr>\n",
       "  </tbody>\n",
       "</table>\n",
       "</div>"
      ],
      "text/plain": [
       "         correct incorrect                                              paths  \\\n",
       "P5008          0    331026  [../../allConstraintsAnalysis/valuetypeConstra...   \n",
       "P131    13988974     70786  [../../allConstraintsAnalysis/valuetypeConstra...   \n",
       "P69      3678858     36323  [../../allConstraintsAnalysis/valuetypeConstra...   \n",
       "P136     1405096     36152  [../../allConstraintsAnalysis/valuetypeConstra...   \n",
       "P150      990010     33888  [../../allConstraintsAnalysis/valuetypeConstra...   \n",
       "P1433  138352116     22053  [../../allConstraintsAnalysis/valuetypeConstra...   \n",
       "P50     39989016     18955  [../../allConstraintsAnalysis/valuetypeConstra...   \n",
       "P106    30054276     17832  [../../allConstraintsAnalysis/valuetypeConstra...   \n",
       "P400       62062     14718  [../../allConstraintsAnalysis/valuetypeConstra...   \n",
       "P276     9014884     12395  [../../allConstraintsAnalysis/valuetypeConstra...   \n",
       "P452      114902     12329  [../../allConstraintsAnalysis/valuetypeConstra...   \n",
       "P1454     132424     10056  [../../allConstraintsAnalysis/valuetypeConstra...   \n",
       "P6104          0      9764  [../../allConstraintsAnalysis/valuetypeConstra...   \n",
       "P516        1379      7993  [../../allConstraintsAnalysis/valuetypeConstra...   \n",
       "P179      862371      7267  [../../allConstraintsAnalysis/valuetypeConstra...   \n",
       "\n",
       "       violation_ratio  \n",
       "P5008      3310.260000  \n",
       "P131          0.005060  \n",
       "P69           0.009873  \n",
       "P136          0.025729  \n",
       "P150          0.034230  \n",
       "P1433         0.000159  \n",
       "P50           0.000474  \n",
       "P106          0.000593  \n",
       "P400          0.237150  \n",
       "P276          0.001375  \n",
       "P452          0.107300  \n",
       "P1454         0.075938  \n",
       "P6104        97.640000  \n",
       "P516          5.796229  \n",
       "P179          0.008427  "
      ]
     },
     "execution_count": 27,
     "metadata": {},
     "output_type": "execute_result"
    }
   ],
   "source": [
    "valTypeConstDF.sort_values(by=['incorrect'],ascending=False).head(15)"
   ]
  },
  {
   "cell_type": "code",
   "execution_count": 35,
   "id": "weekly-zimbabwe",
   "metadata": {
    "scrolled": true
   },
   "outputs": [],
   "source": [
    "# valTypeConstDF.sort_values(by=['violation_ratio'],ascending=False).head().paths.values"
   ]
  },
  {
   "cell_type": "code",
   "execution_count": 36,
   "id": "mobile-rogers",
   "metadata": {},
   "outputs": [],
   "source": [
    "# !cat ../../allConstraintsAnalysis/typeConstraint/normal/claims.type-constraints.instanceOf.P7535.incorrect.tsv"
   ]
  },
  {
   "cell_type": "code",
   "execution_count": 15,
   "id": "legal-monitoring",
   "metadata": {
    "scrolled": false
   },
   "outputs": [
    {
     "data": {
      "text/plain": [
       "{'mandatory': {'instanceOf': {'correct': 19317112, 'incorrect': 3339},\n",
       "  'subclass': {'correct': 45282, 'incorrect': 1},\n",
       "  'instanceOfOrSubclass': {'correct': 17510, 'incorrect': 35}},\n",
       " 'suggestion': {'instanceOf': {'correct': 46358, 'incorrect': 474},\n",
       "  'subclass': {'correct': 179, 'incorrect': 18},\n",
       "  'instanceOfOrSubclass': {'correct': 0, 'incorrect': 0}},\n",
       " 'normal': {'instanceOf': {'correct': 280749268, 'incorrect': 689971},\n",
       "  'subclass': {'correct': 8644651, 'incorrect': 6190},\n",
       "  'instanceOfOrSubclass': {'correct': 277569918, 'incorrect': 163783}}}"
      ]
     },
     "execution_count": 15,
     "metadata": {},
     "output_type": "execute_result"
    }
   ],
   "source": [
    "valueTypeConstViolations"
   ]
  },
  {
   "cell_type": "markdown",
   "id": "embedded-shaft",
   "metadata": {},
   "source": [
    "## Item Requires Statement Constraint"
   ]
  },
  {
   "cell_type": "code",
   "execution_count": 37,
   "id": "martial-continuity",
   "metadata": {},
   "outputs": [],
   "source": [
    "import pandas as pd\n",
    "dfValueType = pd.read_csv('../../constraintsOP/itemRequiresConstraint/claims.type-constraints_all.tsv',sep='\\t')"
   ]
  },
  {
   "cell_type": "code",
   "execution_count": 38,
   "id": "absolute-nirvana",
   "metadata": {},
   "outputs": [],
   "source": [
    "dfValueType = dfValueType.groupby(['node1','label']).node2.apply(lambda p: p.tolist()).reset_index()"
   ]
  },
  {
   "cell_type": "code",
   "execution_count": 39,
   "id": "equipped-stable",
   "metadata": {},
   "outputs": [
    {
     "data": {
      "text/html": [
       "<div>\n",
       "<style scoped>\n",
       "    .dataframe tbody tr th:only-of-type {\n",
       "        vertical-align: middle;\n",
       "    }\n",
       "\n",
       "    .dataframe tbody tr th {\n",
       "        vertical-align: top;\n",
       "    }\n",
       "\n",
       "    .dataframe thead th {\n",
       "        text-align: right;\n",
       "    }\n",
       "</style>\n",
       "<table border=\"1\" class=\"dataframe\">\n",
       "  <thead>\n",
       "    <tr style=\"text-align: right;\">\n",
       "      <th></th>\n",
       "      <th>node1</th>\n",
       "      <th>label</th>\n",
       "      <th>node2</th>\n",
       "    </tr>\n",
       "  </thead>\n",
       "  <tbody>\n",
       "    <tr>\n",
       "      <th>0</th>\n",
       "      <td>P1006</td>\n",
       "      <td>P2306</td>\n",
       "      <td>[P214]</td>\n",
       "    </tr>\n",
       "    <tr>\n",
       "      <th>1</th>\n",
       "      <td>P1010</td>\n",
       "      <td>P2305</td>\n",
       "      <td>[Q794]</td>\n",
       "    </tr>\n",
       "    <tr>\n",
       "      <th>2</th>\n",
       "      <td>P1010</td>\n",
       "      <td>P2306</td>\n",
       "      <td>[P31, P17]</td>\n",
       "    </tr>\n",
       "    <tr>\n",
       "      <th>3</th>\n",
       "      <td>P1010</td>\n",
       "      <td>P2316</td>\n",
       "      <td>[Q21502408]</td>\n",
       "    </tr>\n",
       "    <tr>\n",
       "      <th>4</th>\n",
       "      <td>P1015</td>\n",
       "      <td>P2306</td>\n",
       "      <td>[P31]</td>\n",
       "    </tr>\n",
       "  </tbody>\n",
       "</table>\n",
       "</div>"
      ],
      "text/plain": [
       "   node1  label        node2\n",
       "0  P1006  P2306       [P214]\n",
       "1  P1010  P2305       [Q794]\n",
       "2  P1010  P2306   [P31, P17]\n",
       "3  P1010  P2316  [Q21502408]\n",
       "4  P1015  P2306        [P31]"
      ]
     },
     "execution_count": 39,
     "metadata": {},
     "output_type": "execute_result"
    }
   ],
   "source": [
    "dfValueType.head()"
   ]
  },
  {
   "cell_type": "code",
   "execution_count": 40,
   "id": "engaging-vienna",
   "metadata": {},
   "outputs": [
    {
     "data": {
      "text/plain": [
       "array(['P2306', 'P2305', 'P2316', 'P2304', 'P2303', 'P6607', 'P4155',\n",
       "       'P31', 'P2916', 'P4680', 'P2308'], dtype=object)"
      ]
     },
     "execution_count": 40,
     "metadata": {},
     "output_type": "execute_result"
    }
   ],
   "source": [
    "dfValueType['label'].unique()"
   ]
  },
  {
   "cell_type": "code",
   "execution_count": 16,
   "id": "involved-subscription",
   "metadata": {},
   "outputs": [
    {
     "data": {
      "text/html": [
       "<div>\n",
       "<style scoped>\n",
       "    .dataframe tbody tr th:only-of-type {\n",
       "        vertical-align: middle;\n",
       "    }\n",
       "\n",
       "    .dataframe tbody tr th {\n",
       "        vertical-align: top;\n",
       "    }\n",
       "\n",
       "    .dataframe thead th {\n",
       "        text-align: right;\n",
       "    }\n",
       "</style>\n",
       "<table border=\"1\" class=\"dataframe\">\n",
       "  <thead>\n",
       "    <tr style=\"text-align: right;\">\n",
       "      <th></th>\n",
       "      <th>node1</th>\n",
       "      <th>label</th>\n",
       "      <th>node2</th>\n",
       "    </tr>\n",
       "  </thead>\n",
       "  <tbody>\n",
       "  </tbody>\n",
       "</table>\n",
       "</div>"
      ],
      "text/plain": [
       "Empty DataFrame\n",
       "Columns: [node1, label, node2]\n",
       "Index: []"
      ]
     },
     "execution_count": 16,
     "metadata": {},
     "output_type": "execute_result"
    }
   ],
   "source": [
    "dfValueType[dfValueType['label'] == '2316']"
   ]
  },
  {
   "cell_type": "code",
   "execution_count": 50,
   "id": "recent-profession",
   "metadata": {},
   "outputs": [
    {
     "data": {
      "text/html": [
       "<div>\n",
       "<style scoped>\n",
       "    .dataframe tbody tr th:only-of-type {\n",
       "        vertical-align: middle;\n",
       "    }\n",
       "\n",
       "    .dataframe tbody tr th {\n",
       "        vertical-align: top;\n",
       "    }\n",
       "\n",
       "    .dataframe thead th {\n",
       "        text-align: right;\n",
       "    }\n",
       "</style>\n",
       "<table border=\"1\" class=\"dataframe\">\n",
       "  <thead>\n",
       "    <tr style=\"text-align: right;\">\n",
       "      <th></th>\n",
       "      <th>node1</th>\n",
       "      <th>label</th>\n",
       "      <th>node2</th>\n",
       "    </tr>\n",
       "  </thead>\n",
       "  <tbody>\n",
       "    <tr>\n",
       "      <th>330</th>\n",
       "      <td>P1659</td>\n",
       "      <td>P2308</td>\n",
       "      <td>[Q18616576]</td>\n",
       "    </tr>\n",
       "    <tr>\n",
       "      <th>331</th>\n",
       "      <td>P1659</td>\n",
       "      <td>P2309</td>\n",
       "      <td>[Q21503252]</td>\n",
       "    </tr>\n",
       "    <tr>\n",
       "      <th>332</th>\n",
       "      <td>P1659</td>\n",
       "      <td>P2316</td>\n",
       "      <td>[Q21502408]</td>\n",
       "    </tr>\n",
       "  </tbody>\n",
       "</table>\n",
       "</div>"
      ],
      "text/plain": [
       "     node1  label        node2\n",
       "330  P1659  P2308  [Q18616576]\n",
       "331  P1659  P2309  [Q21503252]\n",
       "332  P1659  P2316  [Q21502408]"
      ]
     },
     "execution_count": 50,
     "metadata": {},
     "output_type": "execute_result"
    }
   ],
   "source": [
    "dfValueType[dfValueType['node1'] == 'P1659']"
   ]
  },
  {
   "cell_type": "code",
   "execution_count": 51,
   "id": "british-sarah",
   "metadata": {},
   "outputs": [
    {
     "data": {
      "application/vnd.jupyter.widget-view+json": {
       "model_id": "4765782f913844f99358ed98ec9d119c",
       "version_major": 2,
       "version_minor": 0
      },
      "text/plain": [
       "  0%|          | 0/932 [00:00<?, ?it/s]"
      ]
     },
     "metadata": {},
     "output_type": "display_data"
    },
    {
     "name": "stdout",
     "output_type": "stream",
     "text": [
      "Something failed for prop: P1389\n"
     ]
    }
   ],
   "source": [
    "from tqdm.notebook import tqdm\n",
    "import os.path\n",
    "import os\n",
    "\n",
    "cnt = 0\n",
    "fCnt = 1\n",
    "for prop in tqdm(dfValueType.node1.unique()):\n",
    "    try:\n",
    "        if not(os.path.isfile(\"../../propertiesSplit/claims.\"+ prop +\".tsv\")):\n",
    "            continue\n",
    "        relation = dfValueType[(dfValueType['node1'] == prop) & (dfValueType['label'] == 'P2309')].node2.values[0][0]\n",
    "        type1 = dfValueType[(dfValueType['node1'] == prop) & (dfValueType['label'] == 'P2316')].node2.values\n",
    "#         print(type1)\n",
    "\n",
    "        parents = dfValueType[(dfValueType['node1'] == prop) & (dfValueType['label'] == 'P2308')].node2.values[0]\n",
    "        exceptions = dfValueType[(dfValueType['node1'] == prop) & (dfValueType['label'] == 'P2303')].node2.values\n",
    "        \n",
    "        if relation == \"Q21503252\":\n",
    "            parentFile = \"P31\"\n",
    "            parentTitle = 'instanceOf'\n",
    "        elif relation == \"Q21514624\":\n",
    "            parentFile = \"P279\"\n",
    "            parentTitle = 'subclass'\n",
    "        else:\n",
    "            parentFile = \"isa\"\n",
    "            parentTitle = 'instanceOfOrSubclass'\n",
    "\n",
    "        if len(type1) != 0 and type1[0][0] == \"Q21502408\":\n",
    "            typeVal = \"mandatory\"\n",
    "        elif len(type1) != 0 and type1[0][0] == \"Q62026391\":\n",
    "            typeVal = \"suggestion\"\n",
    "        else:\n",
    "            typeVal = \"normal\"\n",
    "\n",
    "        if len(exceptions):\n",
    "            exceptionPart = \"or node2 in \" + str(exceptions[0]).replace(\"'\",'\"')\n",
    "        else:\n",
    "            exceptionPart = \"\"\n",
    "        \n",
    "        folderName = 'valuetypeConstraint'\n",
    "        shellFileSuffix = 'valueTypeConstraintValidator'\n",
    "        \n",
    "        if cnt % 30 == 0:\n",
    "            fOP = open(\"../../propertiesSplit/checkViolations/\" + shellFileSuffix + str(fCnt) + \".sh\",\"w\")\n",
    "            fCnt += 1\n",
    "        \n",
    "        fOP.write(\"time kgtk --debug query -i ../../propertiesSplit/claims.\"+ prop +\".tsv \\\n",
    "        ../../wikidata-20210215/derived.\" + parentFile + \".tsv.gz \\\n",
    "        ../../wikidata-20210215/derived.P279star.tsv.gz \\\n",
    "        --match 'm: (node1)-[nodeProp]->(node2), \" + parentFile + \": (node2)-[]->(nodex), P279star: (nodex)-[]->(par)' \\\n",
    "        --where 'par in \" + str(parents).replace(\"'\",'\"') + \" \" + exceptionPart + \"' \\\n",
    "        --return 'nodeProp.id, node1 as `node1`, nodeProp.label as `label`, node2 as `node2`' \\\n",
    "        -o ../../allConstraintsAnalysis/\" + folderName + \"/\" + typeVal + \"/claims.type-constraints.\" + parentTitle + \".\"+ prop +\".correct.tsv \\\n",
    "        --graph-cache ~/sqlite3_caches/const4_\" + str(fCnt) + \".sqlite3.db; \\\n",
    "         kgtk --debug ifnotexists -i ../../propertiesSplit/claims.\"+ prop +\".tsv \\\n",
    "        --filter-on ../../allConstraintsAnalysis/\" + folderName + \"/\" + typeVal + \"/claims.type-constraints.\" + parentTitle + \".\"+ prop +\".correct.tsv \\\n",
    "        --filter-mode NONE \\\n",
    "        --input-keys node1 label \\\n",
    "        --filter-keys node1 label \\\n",
    "        -o ../../allConstraintsAnalysis/\" + folderName + \"/\" + typeVal + \"/claims.type-constraints.\" + parentTitle + \".\"+ prop +\".incorrect.tsv\\n\")\n",
    "\n",
    "        cnt += 1\n",
    "    except:\n",
    "        print(\"Something failed for prop:\",prop)"
   ]
  },
  {
   "cell_type": "markdown",
   "id": "outdoor-language",
   "metadata": {},
   "source": [
    "# Comparing isa + P279star with isastar"
   ]
  },
  {
   "cell_type": "code",
   "execution_count": 13,
   "id": "killing-amsterdam",
   "metadata": {},
   "outputs": [],
   "source": [
    "import os\n",
    "wiki_root_folder = \"../../gdrive-kgtk-dump-2020-12-07/\"\n",
    "\n",
    "claims_file = \"claims.tsv.gz\"\n",
    "label_file = \"labels.en.tsv.gz\"\n",
    "\n",
    "derived_files_root_folder = \"../../wikidata-20210215/\"\n",
    "p279file = \"derived.P279star.tsv.gz\"\n",
    "isa_file = \"derived.isa.tsv.gz\"\n",
    "isa_star_file = \"derived.isastar.tsv.gz\"\n",
    "\n",
    "os.environ['CLAIMS'] = wiki_root_folder + claims_file\n",
    "os.environ['LABEL'] = wiki_root_folder + label_file\n",
    "os.environ['P279STAR'] = derived_files_root_folder + p279file\n",
    "os.environ['ISASTAR'] = derived_files_root_folder + isa_star_file\n",
    "os.environ['ISA'] = derived_files_root_folder + isa_file\n",
    "os.environ['TEMP'] = \"../../temp\""
   ]
  },
  {
   "cell_type": "code",
   "execution_count": 14,
   "id": "overhead-ferry",
   "metadata": {},
   "outputs": [
    {
     "name": "stdout",
     "output_type": "stream",
     "text": [
      "[2021-03-13 13:03:17 sqlstore]: IMPORT graph directly into table graph_3 from /data/wd-correctness/wikidata-20210215/derived.P279star.tsv.gz ...\n",
      "[2021-03-13 13:05:15 sqlstore]: IMPORT graph directly into table graph_4 from /data/wd-correctness/wikidata-20210215/derived.isa.tsv.gz ...\n",
      "[2021-03-13 13:06:41 query]: SQL Translation:\n",
      "---------------------------------------------\n",
      "  SELECT DISTINCT graph_1_c1.\"node1\", graph_1_c1.\"label\" \"_aLias.label\", graph_4_c2.\"node1\" \"_aLias.node2\"\n",
      "     FROM graph_1 AS graph_1_c1, graph_3 AS graph_3_c3, graph_4 AS graph_4_c2\n",
      "     WHERE graph_1_c1.\"label\"=?\n",
      "     AND graph_1_c1.\"node2\"=graph_4_c2.\"node1\"\n",
      "     AND graph_3_c3.\"node1\"=graph_4_c2.\"node2\"\n",
      "     AND (graph_3_c3.\"node2\" IN (?, ?, ?, ?, ?, ?, ?, ?, ?, ?, ?, ?, ?, ?, ?))\n",
      "  PARAS: ['P166', 'Q618779', 'Q2003221', 'Q38033430', 'Q131647', 'Q193622', 'Q60754876', 'Q7810129', 'Q4164871', 'Q2658935', 'Q1046088', 'Q3001412', 'Q3320743', 'Q657438', 'Q841654', 'Q103880535']\n",
      "---------------------------------------------\n",
      "[2021-03-13 13:06:41 sqlstore]: CREATE INDEX on table graph_4 column node2 ...\n",
      "[2021-03-13 13:08:02 sqlstore]: ANALYZE INDEX on table graph_4 column node2 ...\n",
      "[2021-03-13 13:08:09 sqlstore]: CREATE INDEX on table graph_4 column node1 ...\n",
      "[2021-03-13 13:08:59 sqlstore]: ANALYZE INDEX on table graph_4 column node1 ...\n",
      "[2021-03-13 13:09:07 sqlstore]: CREATE INDEX on table graph_1 column label ...\n",
      "[2021-03-13 13:38:29 sqlstore]: ANALYZE INDEX on table graph_1 column label ...\n",
      "[2021-03-13 13:39:49 sqlstore]: CREATE INDEX on table graph_3 column node1 ...\n",
      "[2021-03-13 13:41:04 sqlstore]: ANALYZE INDEX on table graph_3 column node1 ...\n",
      "[2021-03-13 13:41:10 sqlstore]: CREATE INDEX on table graph_1 column node2 ...\n",
      "[2021-03-13 14:22:16 sqlstore]: ANALYZE INDEX on table graph_1 column node2 ...\n",
      "\n",
      "real\t91m9.845s\n",
      "user\t59m11.425s\n",
      "sys\t7m18.944s\n"
     ]
    }
   ],
   "source": [
    "!time kgtk --debug query -i \"$CLAIMS\" -i \"$LABEL\" -i \"$P279STAR\" -i \"$ISA\"  \\\n",
    "--match '\\\n",
    "  claims: (n1)-[l:P166]->(award), \\\n",
    "  isa: (award)-[]->(x), \\\n",
    "  P279star: (x)-[]->(valid)' \\\n",
    "--where 'valid in [\"Q618779\", \"Q2003221\" ,\"Q38033430\" ,\"Q131647\" ,\"Q193622\" ,\"Q60754876\" ,\"Q7810129\" ,\"Q4164871\" ,\"Q2658935\" ,\"Q1046088\" ,\"Q3001412\" ,\"Q3320743\" ,\"Q657438\" ,\"Q841654\" ,\"Q103880535\"]' \\\n",
    "--return 'distinct n1, l.label as label, award as node2' \\\n",
    "-o \"$TEMP/constraint.award.tsv.gz\""
   ]
  },
  {
   "cell_type": "code",
   "execution_count": 15,
   "id": "weird-weekly",
   "metadata": {},
   "outputs": [
    {
     "name": "stdout",
     "output_type": "stream",
     "text": [
      "[2021-03-13 14:34:21 query]: SQL Translation:\n",
      "---------------------------------------------\n",
      "  SELECT DISTINCT graph_1_c1.\"node1\", graph_1_c1.\"label\" \"_aLias.label\", graph_4_c2.\"node1\" \"_aLias.node2\"\n",
      "     FROM graph_1 AS graph_1_c1, graph_3 AS graph_3_c3, graph_4 AS graph_4_c2\n",
      "     WHERE graph_1_c1.\"label\"=?\n",
      "     AND graph_1_c1.\"node2\"=graph_4_c2.\"node1\"\n",
      "     AND graph_3_c3.\"node1\"=graph_4_c2.\"node2\"\n",
      "     AND (graph_3_c3.\"node2\" IN (?, ?, ?, ?, ?, ?, ?, ?, ?, ?, ?, ?, ?, ?, ?))\n",
      "  PARAS: ['P166', 'Q618779', 'Q2003221', 'Q38033430', 'Q131647', 'Q193622', 'Q60754876', 'Q7810129', 'Q4164871', 'Q2658935', 'Q1046088', 'Q3001412', 'Q3320743', 'Q657438', 'Q841654', 'Q103880535']\n",
      "---------------------------------------------\n",
      "\n",
      "real\t4m13.305s\n",
      "user\t0m42.020s\n",
      "sys\t0m7.273s\n"
     ]
    }
   ],
   "source": [
    "!time kgtk --debug query -i \"$CLAIMS\" -i \"$LABEL\" -i \"$P279STAR\" -i \"$ISA\"  \\\n",
    "--match '\\\n",
    "  claims: (n1)-[l:P166]->(award), \\\n",
    "  isa: (award)-[]->(x), \\\n",
    "  P279star: (x)-[]->(valid)' \\\n",
    "--where 'valid in [\"Q618779\", \"Q2003221\" ,\"Q38033430\" ,\"Q131647\" ,\"Q193622\" ,\"Q60754876\" ,\"Q7810129\" ,\"Q4164871\" ,\"Q2658935\" ,\"Q1046088\" ,\"Q3001412\" ,\"Q3320743\" ,\"Q657438\" ,\"Q841654\" ,\"Q103880535\"]' \\\n",
    "--return 'distinct n1, l.label as label, award as node2' \\\n",
    "-o \"$TEMP/constraint.award.tsv.gz\""
   ]
  },
  {
   "cell_type": "code",
   "execution_count": 16,
   "id": "clean-crisis",
   "metadata": {},
   "outputs": [
    {
     "name": "stdout",
     "output_type": "stream",
     "text": [
      "[2021-03-13 14:38:37 sqlstore]: IMPORT graph directly into table graph_5 from /data/wd-correctness/wikidata-20210215/derived.isastar.tsv.gz ...\n",
      "[2021-03-13 15:37:18 query]: SQL Translation:\n",
      "---------------------------------------------\n",
      "  SELECT DISTINCT graph_1_c1.\"node1\", graph_1_c1.\"label\" \"_aLias.label\", graph_1_c1.\"node2\" \"_aLias.node2\"\n",
      "     FROM graph_1 AS graph_1_c1, graph_5 AS graph_5_c2\n",
      "     WHERE graph_1_c1.\"label\"=?\n",
      "     AND graph_1_c1.\"node2\"=graph_5_c2.\"node1\"\n",
      "     AND (graph_5_c2.\"node2\" IN (?, ?, ?, ?, ?, ?, ?, ?, ?, ?, ?, ?, ?, ?, ?))\n",
      "  PARAS: ['P166', 'Q618779', 'Q2003221', 'Q38033430', 'Q131647', 'Q193622', 'Q60754876', 'Q7810129', 'Q4164871', 'Q2658935', 'Q1046088', 'Q3001412', 'Q3320743', 'Q657438', 'Q841654', 'Q103880535']\n",
      "---------------------------------------------\n",
      "[2021-03-13 15:37:18 sqlstore]: CREATE INDEX on table graph_5 column node1 ...\n",
      "[2021-03-13 16:15:50 sqlstore]: ANALYZE INDEX on table graph_5 column node1 ...\n",
      "\n",
      "real\t109m29.885s\n",
      "user\t90m41.390s\n",
      "sys\t13m32.324s\n"
     ]
    }
   ],
   "source": [
    "!time kgtk --debug query -i \"$CLAIMS\" -i \"$LABEL\" -i \"$ISASTAR\"  \\\n",
    "--match '\\\n",
    "  claims: (n1)-[l:P166]->(award), \\\n",
    "  isastar: (award)-[]->(valid)' \\\n",
    "--where 'valid in [\"Q618779\", \"Q2003221\" ,\"Q38033430\" ,\"Q131647\" ,\"Q193622\" ,\"Q60754876\" ,\"Q7810129\" ,\"Q4164871\" ,\"Q2658935\" ,\"Q1046088\" ,\"Q3001412\" ,\"Q3320743\" ,\"Q657438\" ,\"Q841654\" ,\"Q103880535\"]' \\\n",
    "--return 'distinct n1, l.label as label, award as node2' \\\n",
    "-o \"$TEMP/constraint.award.tsv.gz\""
   ]
  },
  {
   "cell_type": "code",
   "execution_count": 17,
   "id": "opposed-compensation",
   "metadata": {},
   "outputs": [
    {
     "name": "stdout",
     "output_type": "stream",
     "text": [
      "[2021-03-13 16:28:05 query]: SQL Translation:\n",
      "---------------------------------------------\n",
      "  SELECT DISTINCT graph_1_c1.\"node1\", graph_1_c1.\"label\" \"_aLias.label\", graph_5_c2.\"node1\" \"_aLias.node2\"\n",
      "     FROM graph_1 AS graph_1_c1, graph_5 AS graph_5_c2\n",
      "     WHERE graph_1_c1.\"label\"=?\n",
      "     AND graph_1_c1.\"node2\"=graph_5_c2.\"node1\"\n",
      "     AND (graph_5_c2.\"node2\" IN (?, ?, ?, ?, ?, ?, ?, ?, ?, ?, ?, ?, ?, ?, ?))\n",
      "  PARAS: ['P166', 'Q618779', 'Q2003221', 'Q38033430', 'Q131647', 'Q193622', 'Q60754876', 'Q7810129', 'Q4164871', 'Q2658935', 'Q1046088', 'Q3001412', 'Q3320743', 'Q657438', 'Q841654', 'Q103880535']\n",
      "---------------------------------------------\n",
      "\n",
      "real\t0m31.045s\n",
      "user\t0m23.087s\n",
      "sys\t0m3.079s\n"
     ]
    }
   ],
   "source": [
    "!time kgtk --debug query -i \"$CLAIMS\" -i \"$LABEL\" -i \"$ISASTAR\"  \\\n",
    "--match '\\\n",
    "  claims: (n1)-[l:P166]->(award), \\\n",
    "  isastar: (award)-[]->(valid)' \\\n",
    "--where 'valid in [\"Q618779\", \"Q2003221\" ,\"Q38033430\" ,\"Q131647\" ,\"Q193622\" ,\"Q60754876\" ,\"Q7810129\" ,\"Q4164871\" ,\"Q2658935\" ,\"Q1046088\" ,\"Q3001412\" ,\"Q3320743\" ,\"Q657438\" ,\"Q841654\" ,\"Q103880535\"]' \\\n",
    "--return 'distinct n1, l.label as label, award as node2' \\\n",
    "-o \"$TEMP/constraint.award.tsv.gz\""
   ]
  },
  {
   "cell_type": "code",
   "execution_count": null,
   "id": "greatest-communist",
   "metadata": {},
   "outputs": [],
   "source": []
  }
 ],
 "metadata": {
  "kernelspec": {
   "display_name": "kgtkEnv",
   "language": "python",
   "name": "kgtkenv"
  }
 },
 "nbformat": 4,
 "nbformat_minor": 5
}
