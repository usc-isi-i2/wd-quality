{
 "cells": [
  {
   "cell_type": "code",
   "execution_count": null,
   "id": "juvenile-ability",
   "metadata": {},
   "outputs": [],
   "source": [
    "import gzip\n",
    "from tqdm.notebook import tqdm\n",
    "propFileDict = {}\n",
    "fileLineCount = 1149471184\n",
    "with gzip.open('../../gdrive-kgtk-dump-2020-12-07/claims.tsv.gz','r') as fin: \n",
    "    headerLine = next(fin).decode(\"utf-8\")\n",
    "#     tstCount = 0\n",
    "    for line in tqdm(fin, total = fileLineCount):\n",
    "        line = line.decode(\"utf-8\")\n",
    "        lineP = line.rstrip().split(\"\\t\")\n",
    "        if \"external-id\" in lineP[-1]:\n",
    "            continue\n",
    "        prop = lineP[2]\n",
    "        print('got line', lineP)\n",
    "        if prop not in propFileDict:\n",
    "            propFileDict[prop] = open(\"../../propertiesSplit/claims.\"+str(prop)+\".tsv\",\"w\")\n",
    "            propFileDict[prop].write(headerLine)\n",
    "        propFileDict[prop].write(line)\n",
    "#         tstCount += 1\n",
    "#         if tstCount == 10:\n",
    "#             break\n",
    "    for file1 in propFileDict.values():\n",
    "        file1.close()"
   ]
  },
  {
   "cell_type": "code",
   "execution_count": 2,
   "id": "knowing-bryan",
   "metadata": {},
   "outputs": [
    {
     "name": "stdout",
     "output_type": "stream",
     "text": [
      "[2021-03-12 19:33:50 sqlstore]: IMPORT graph directly into table graph_11 from /data/wd-correctness/propertiesSplit/claims.P996.tsv ...\n",
      "[2021-03-12 19:33:51 sqlstore]: IMPORT graph directly into table graph_12 from /data/wd-correctness/wikidata-20210215/derived.isastar.tsv.gz ...\n",
      "^C\n"
     ]
    }
   ],
   "source": [
    "!kgtk --debug query -i ../../propertiesSplit/claims.P996.tsv \\\n",
    "    ../../constraintsOP/typeConstraint/claims.type-constraints_all.tsv \\\n",
    "    ../../wikidata-20210215/derived.isastar.tsv.gz \\\n",
    "    --match \"m: (node1)-[nodeProp]->(node2), c: (rLabel)-[:P2308]->(parent), d: (node1)-[]->(par), c: (eLabel)-[:P2303]->(eNode)\" \\\n",
    "    --where 'nodeProp.label = rLabel and (par = parent or (rLabel = eLabel and node1 = eNode))' \\\n",
    "    --return 'nodeProp.id, node1, nodeProp.label, node2, max(parent) as `node1;ancestor`' \\\n",
    "    -o ../../constraintsOP/typeConstraint/claims.type-constraints.mandatory.instanceOf.P996.correct.tsv \\\n",
    "    --graph-cache ~/sqlite3_caches/mandConst001.sqlite3.db ; \\\n",
    " kgtk --debug ifnotexists -i ../../constraintsOP/typeConstraint/claims.type-constraints.mandatory.instanceOf.P996.all.tsv \\\n",
    "    --filter-on ../../constraintsOP/typeConstraint/claims.type-constraints.mandatory.instanceOf.P996.correct.tsv \\\n",
    "    --filter-mode NONE \\\n",
    "    --input-keys node1 label \\\n",
    "    --filter-keys node1 label \\\n",
    "    -o ../../constraintsOP/typeConstraint/claims.type-constraints.mandatory.instanceOf.P996.incorrect.tsv"
   ]
  },
  {
   "cell_type": "code",
   "execution_count": 4,
   "id": "abstract-retreat",
   "metadata": {},
   "outputs": [
    {
     "name": "stdout",
     "output_type": "stream",
     "text": [
      "[2021-03-12 22:33:26 query]: SQL Translation:\r\n",
      "---------------------------------------------\r\n",
      "  SELECT graph_11_c1.\"id\", graph_11_c1.\"node1\", graph_11_c1.\"label\", graph_11_c1.\"node2\"\r\n",
      "     FROM graph_11 AS graph_11_c1, graph_14 AS graph_14_c2\r\n",
      "     WHERE graph_11_c1.\"node1\"=graph_14_c2.\"node1\"\r\n",
      "     AND (graph_14_c2.\"node2\" IN (?, ?, ?))\r\n",
      "  PARAS: ['Q1238720', 'Q3331189', 'Q47461344']\r\n",
      "---------------------------------------------\r\n"
     ]
    }
   ],
   "source": [
    "!kgtk --debug query -i ../../propertiesSplit/claims.P996.tsv \\\n",
    "    ../../wikidata-20210215/derived.isastar.tsv.gz \\\n",
    "    --match \"m: (node1)-[nodeProp]->(node2), d: (node1)-[]->(par)\" \\\n",
    "    --where 'par in [\"Q1238720\",\"Q3331189\",\"Q47461344\"]' \\\n",
    "    --return 'nodeProp.id, node1, nodeProp.label, node2' \\\n",
    "    -o ../../constraintsOP/typeConstraint/claims.type-constraints.mandatory.instanceOf.P996.correct.tsv \\\n",
    "    --graph-cache ~/sqlite3_caches/mandConst001.sqlite3.db ; \\\n",
    " kgtk --debug ifnotexists -i ../../propertiesSplit/claims.P996.tsv \\\n",
    "    --filter-on ../../constraintsOP/typeConstraint/claims.type-constraints.mandatory.instanceOf.P996.correct.tsv \\\n",
    "    --filter-mode NONE \\\n",
    "    --input-keys node1 label \\\n",
    "    --filter-keys node1 label \\\n",
    "    -o ../../constraintsOP/typeConstraint/claims.type-constraints.mandatory.instanceOf.P996.incorrect.tsv"
   ]
  },
  {
   "cell_type": "code",
   "execution_count": 7,
   "id": "strange-truck",
   "metadata": {},
   "outputs": [
    {
     "name": "stdout",
     "output_type": "stream",
     "text": [
      "81289 ../../constraintsOP/typeConstraint/claims.type-constraints.mandatory.instanceOf.P996.correct.tsv\r\n"
     ]
    }
   ],
   "source": [
    "!wc -l ../../constraintsOP/typeConstraint/claims.type-constraints.mandatory.instanceOf.P996.correct.tsv"
   ]
  },
  {
   "cell_type": "code",
   "execution_count": 8,
   "id": "finnish-hampton",
   "metadata": {},
   "outputs": [
    {
     "name": "stdout",
     "output_type": "stream",
     "text": [
      "[2021-03-12 22:49:54 sqlstore]: IMPORT graph directly into table graph_15 from /data/wd-correctness/propertiesSplit/claims.P991.tsv ...\n",
      "[2021-03-12 22:49:54 query]: SQL Translation:\n",
      "---------------------------------------------\n",
      "  SELECT graph_15_c1.\"id\", graph_15_c1.\"node1\", graph_15_c1.\"label\", graph_15_c1.\"node2\"\n",
      "     FROM graph_15 AS graph_15_c1, graph_5 AS graph_5_c2\n",
      "     WHERE graph_15_c1.\"node1\"=graph_5_c2.\"node1\"\n",
      "     AND (graph_5_c2.\"node2\" IN (?))\n",
      "  PARAS: ['Q40231']\n",
      "---------------------------------------------\n",
      "[2021-03-12 22:49:55 sqlstore]: CREATE INDEX on table graph_15 column node1 ...\n",
      "[2021-03-12 22:49:55 sqlstore]: ANALYZE INDEX on table graph_15 column node1 ...\n"
     ]
    }
   ],
   "source": [
    "!kgtk --debug query -i ../../propertiesSplit/claims.P991.tsv \\\n",
    "    ../../wikidata-20210215/derived.P31P279star.tsv.gz \\\n",
    "    --match \"m: (node1)-[nodeProp]->(node2), d: (node1)-[]->(par)\" \\\n",
    "    --where 'par in [\"Q40231\"]' \\\n",
    "    --return 'nodeProp.id, node1, nodeProp.label, node2' \\\n",
    "    -o ../../constraintsOP/typeConstraint/claims.type-constraints.mandatory.instanceOf.P991.correct.tsv \\\n",
    "    --graph-cache ~/sqlite3_caches/mandConst001.sqlite3.db ; \\\n",
    " kgtk --debug ifnotexists -i ../../propertiesSplit/claims.P991.tsv \\\n",
    "    --filter-on ../../constraintsOP/typeConstraint/claims.type-constraints.mandatory.instanceOf.P991.correct.tsv \\\n",
    "    --filter-mode NONE \\\n",
    "    --input-keys node1 label \\\n",
    "    --filter-keys node1 label \\\n",
    "    -o ../../constraintsOP/typeConstraint/claims.type-constraints.mandatory.instanceOf.P991.incorrect.tsv"
   ]
  },
  {
   "cell_type": "code",
   "execution_count": 9,
   "id": "elegant-reverse",
   "metadata": {},
   "outputs": [
    {
     "name": "stdout",
     "output_type": "stream",
     "text": [
      "[2021-03-12 23:54:56 sqlstore]: IMPORT graph directly into table graph_16 from /data/wd-correctness/propertiesSplit/claims.P965.tsv ...\n",
      "[2021-03-12 23:54:56 query]: SQL Translation:\n",
      "---------------------------------------------\n",
      "  SELECT graph_16_c1.\"id\", graph_5_c2.\"node1\", graph_16_c1.\"label\", graph_16_c1.\"node2\"\n",
      "     FROM graph_16 AS graph_16_c1, graph_5 AS graph_5_c2\n",
      "     WHERE graph_16_c1.\"node1\"=graph_5_c2.\"node1\"\n",
      "     AND (graph_5_c2.\"node2\" IN (?))\n",
      "  PARAS: ['Q6023295']\n",
      "---------------------------------------------\n",
      "[2021-03-12 23:54:56 sqlstore]: CREATE INDEX on table graph_16 column node1 ...\n",
      "[2021-03-12 23:54:56 sqlstore]: ANALYZE INDEX on table graph_16 column node1 ...\n"
     ]
    }
   ],
   "source": [
    "!kgtk --debug query -i ../../propertiesSplit/claims.P965.tsv \\\n",
    "    ../../wikidata-20210215/derived.P31P279star.tsv.gz \\\n",
    "    --match \"m: (node1)-[nodeProp]->(node2), d: (node1)-[]->(par)\" \\\n",
    "    --where 'par in [\"Q6023295\"]' \\\n",
    "    --return 'nodeProp.id, node1, nodeProp.label, node2' \\\n",
    "    -o ../../constraintsOP/typeConstraint/claims.type-constraints.mandatory.instanceOf.P965.correct.tsv \\\n",
    "    --graph-cache ~/sqlite3_caches/mandConst001.sqlite3.db ; \\\n",
    " kgtk --debug ifnotexists -i ../../propertiesSplit/claims.P965.tsv \\\n",
    "    --filter-on ../../constraintsOP/typeConstraint/claims.type-constraints.mandatory.instanceOf.P965.correct.tsv \\\n",
    "    --filter-mode NONE \\\n",
    "    --input-keys node1 label \\\n",
    "    --filter-keys node1 label \\\n",
    "    -o ../../constraintsOP/typeConstraint/claims.type-constraints.mandatory.instanceOf.P965.incorrect.tsv"
   ]
  },
  {
   "cell_type": "markdown",
   "id": "matched-strength",
   "metadata": {},
   "source": [
    "# Generate Queries"
   ]
  },
  {
   "cell_type": "code",
   "execution_count": 10,
   "id": "clinical-brunei",
   "metadata": {},
   "outputs": [],
   "source": [
    "import pandas as pd\n",
    "df = pd.read_csv('../../constraintsOP/typeConstraint/claims.type-constraints_all.tsv',sep='\\t')"
   ]
  },
  {
   "cell_type": "code",
   "execution_count": 18,
   "id": "assured-cleaners",
   "metadata": {},
   "outputs": [],
   "source": [
    "df1 = df.groupby(['node1','label']).node2.apply(lambda p: p.tolist()).reset_index()"
   ]
  },
  {
   "cell_type": "code",
   "execution_count": 19,
   "id": "sharing-evolution",
   "metadata": {},
   "outputs": [
    {
     "data": {
      "text/html": [
       "<div>\n",
       "<style scoped>\n",
       "    .dataframe tbody tr th:only-of-type {\n",
       "        vertical-align: middle;\n",
       "    }\n",
       "\n",
       "    .dataframe tbody tr th {\n",
       "        vertical-align: top;\n",
       "    }\n",
       "\n",
       "    .dataframe thead th {\n",
       "        text-align: right;\n",
       "    }\n",
       "</style>\n",
       "<table border=\"1\" class=\"dataframe\">\n",
       "  <thead>\n",
       "    <tr style=\"text-align: right;\">\n",
       "      <th></th>\n",
       "      <th>node1</th>\n",
       "      <th>label</th>\n",
       "      <th>node2</th>\n",
       "    </tr>\n",
       "  </thead>\n",
       "  <tbody>\n",
       "    <tr>\n",
       "      <th>0</th>\n",
       "      <td>P1001</td>\n",
       "      <td>P2308</td>\n",
       "      <td>[Q102496, Q105985, Q1140371, Q1151067, Q119768...</td>\n",
       "    </tr>\n",
       "    <tr>\n",
       "      <th>1</th>\n",
       "      <td>P1001</td>\n",
       "      <td>P2309</td>\n",
       "      <td>[Q30208840]</td>\n",
       "    </tr>\n",
       "    <tr>\n",
       "      <th>2</th>\n",
       "      <td>P1002</td>\n",
       "      <td>P2308</td>\n",
       "      <td>[Q630010]</td>\n",
       "    </tr>\n",
       "    <tr>\n",
       "      <th>3</th>\n",
       "      <td>P1002</td>\n",
       "      <td>P2309</td>\n",
       "      <td>[Q21514624]</td>\n",
       "    </tr>\n",
       "    <tr>\n",
       "      <th>4</th>\n",
       "      <td>P1004</td>\n",
       "      <td>P2308</td>\n",
       "      <td>[Q2221906, Q23413, Q3947, Q41176, Q88291]</td>\n",
       "    </tr>\n",
       "  </tbody>\n",
       "</table>\n",
       "</div>"
      ],
      "text/plain": [
       "   node1  label                                              node2\n",
       "0  P1001  P2308  [Q102496, Q105985, Q1140371, Q1151067, Q119768...\n",
       "1  P1001  P2309                                        [Q30208840]\n",
       "2  P1002  P2308                                          [Q630010]\n",
       "3  P1002  P2309                                        [Q21514624]\n",
       "4  P1004  P2308          [Q2221906, Q23413, Q3947, Q41176, Q88291]"
      ]
     },
     "execution_count": 19,
     "metadata": {},
     "output_type": "execute_result"
    }
   ],
   "source": [
    "df1.head()"
   ]
  },
  {
   "cell_type": "code",
   "execution_count": 76,
   "id": "bright-impossible",
   "metadata": {},
   "outputs": [
    {
     "data": {
      "application/vnd.jupyter.widget-view+json": {
       "model_id": "f12bd2f5ae504b0a9fa937c07afd9f03",
       "version_major": 2,
       "version_minor": 0
      },
      "text/plain": [
       "  0%|          | 0/4810 [00:00<?, ?it/s]"
      ]
     },
     "metadata": {},
     "output_type": "display_data"
    },
    {
     "name": "stderr",
     "output_type": "stream",
     "text": [
      "<ipython-input-76-1ff2d277bbcf>:28: DeprecationWarning: The truth value of an empty array is ambiguous. Returning False, but in future this will result in an error. Use `array.size > 0` to check that an array is not empty.\n",
      "  if type1 == \"Q21502408\":\n",
      "<ipython-input-76-1ff2d277bbcf>:30: DeprecationWarning: The truth value of an empty array is ambiguous. Returning False, but in future this will result in an error. Use `array.size > 0` to check that an array is not empty.\n",
      "  elif type1 == \"Q62026391\":\n"
     ]
    },
    {
     "name": "stdout",
     "output_type": "stream",
     "text": [
      "Something failed for prop: P1249\n",
      "Something failed for prop: P6790\n"
     ]
    }
   ],
   "source": [
    "from tqdm.notebook import tqdm\n",
    "import os.path\n",
    "\n",
    "cnt = 0\n",
    "fCnt = 1\n",
    "for prop in tqdm(df1.node1.unique()):\n",
    "    try:\n",
    "        if not(os.path.isfile(\"../../propertiesSplit/claims.\"+ prop +\".tsv\")):\n",
    "            continue\n",
    "        relation = df1[(df1['node1'] == prop) & (df1['label'] == 'P2309')].node2.values[0][0]\n",
    "        type1 = df1[(df1['node1'] == prop) & (df1['label'] == 'P2316')].node2.values\n",
    "\n",
    "        parents = df1[(df1['node1'] == prop) & (df1['label'] == 'P2308')].node2.values[0]\n",
    "        exceptions = df1[(df1['node1'] == prop) & (df1['label'] == 'P2303')].node2.values\n",
    "\n",
    "#         print(prop, relation, type1, parents, exceptions)\n",
    "\n",
    "        if relation == \"Q21503252\":\n",
    "            parentFile = \"P31P279star\"\n",
    "            parentTitle = 'instanceOf'\n",
    "        elif relation == \"Q21514624\":\n",
    "            parentFile = \"P279star\"\n",
    "            parentTitle = 'subclass'\n",
    "        else:\n",
    "            parentFile = \"isastar\"\n",
    "            parentTitle = 'instanceOfOrSubclass'\n",
    "\n",
    "        if type1 == \"Q21502408\":\n",
    "            typeVal = \"mandatory\"\n",
    "        elif type1 == \"Q62026391\":\n",
    "            typeVal = \"suggestion\"\n",
    "        else:\n",
    "            typeVal = \"normal\"\n",
    "\n",
    "        if len(exceptions):\n",
    "            exceptionPart = \"or node1 in \" + str(exceptions[0]).replace(\"'\",'\"')\n",
    "        else:\n",
    "            exceptionPart = \"\"\n",
    "        \n",
    "        if cnt % 150 == 0:\n",
    "            fOP = open(\"../../propertiesSplit/checkViolations/constraintValidator\" + str(fCnt) + \".sh\",\"w\")\n",
    "            fCnt += 1\n",
    "        \n",
    "        fOP.write(\"kgtk --debug query -i ../../propertiesSplit/claims.\"+ prop +\".tsv \\\n",
    "        ../../wikidata-20210215/derived.\" + parentFile + \".tsv.gz \\\n",
    "        --match 'm: (node1)-[nodeProp]->(node2), d: (node1)-[]->(par)' \\\n",
    "        --where 'par in \" + str(parents).replace(\"'\",'\"') + \" \" + exceptionPart + \"' \\\n",
    "        --return 'nodeProp.id, node1, nodeProp.label, node2' \\\n",
    "        -o ../../allConstraintsAnalysis/typeConstraint/\" + typeVal + \"/claims.type-constraints.\" + parentTitle + \".\"+ prop +\".correct.tsv \\\n",
    "        --graph-cache ~/sqlite3_caches/const2_\" + str(fCnt) + \".sqlite3.db ; \\\n",
    "         kgtk --debug ifnotexists -i ../../propertiesSplit/claims.\"+ prop +\".tsv \\\n",
    "        --filter-on ../../allConstraintsAnalysis/typeConstraint/\" + typeVal + \"/claims.type-constraints.\" + parentTitle + \".\"+ prop +\".correct.tsv \\\n",
    "        --filter-mode NONE \\\n",
    "        --input-keys node1 label \\\n",
    "        --filter-keys node1 label \\\n",
    "        -o ../../allConstraintsAnalysis/typeConstraint/\" + typeVal + \"/claims.type-constraints.\" + parentTitle + \".\"+ prop +\".incorrect.tsv\\n\")\n",
    "\n",
    "        cnt += 1\n",
    "    except:\n",
    "        print(\"Something failed for prop:\",prop)\n",
    "    "
   ]
  },
  {
   "cell_type": "code",
   "execution_count": null,
   "id": "overhead-ferry",
   "metadata": {},
   "outputs": [],
   "source": []
  }
 ],
 "metadata": {
  "kernelspec": {
   "display_name": "kgtkEnv",
   "language": "python",
   "name": "kgtkenv"
  },
  "language_info": {
   "codemirror_mode": {
    "name": "ipython",
    "version": 3
   },
   "file_extension": ".py",
   "mimetype": "text/x-python",
   "name": "python",
   "nbconvert_exporter": "python",
   "pygments_lexer": "ipython3",
   "version": "3.8.5"
  }
 },
 "nbformat": 4,
 "nbformat_minor": 5
}
