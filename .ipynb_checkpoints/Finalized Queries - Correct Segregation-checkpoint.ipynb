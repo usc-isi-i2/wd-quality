{
 "cells": [
  {
   "cell_type": "markdown",
   "id": "statutory-onion",
   "metadata": {},
   "source": [
    "# Understanding Removed Statements Dataset\n",
    "\n",
    "Source of data: [GDrive | Removed Stataments of Wikidata | Feb 1 2021](https://drive.google.com/file/d/1TQP1rADdvhDjsvBpLzSE9Bx3n73wf-Md/view?usp=sharing)\n",
    "\n",
    "Steps performed:\n",
    "* Divide dataset into 2 halves - redirected and non-redirected. Redirected dataset has either node1 or node2 as redirected. But non-redirected has both node1, node2 not redirected\n",
    "\n",
    "\n",
    "**Summary**\n",
    "\n",
    "Removed Statements dataset has 76.5M removed statements. Out of these, "
   ]
  },
  {
   "cell_type": "markdown",
   "id": "christian-mounting",
   "metadata": {},
   "source": [
    "## Redirects determination and division of dataset into 2 halves\n",
    "\n",
    "* Since, redirects dataset was not present, a SPARQL query was run to determine all the redirects existing at the moment. This was done on Feb 19, 2021. This was executed using [SPARQL query](https://query.wikidata.org/). Query run was:\n",
    "    ```\n",
    "    SELECT ?old_node\n",
    "    WHERE {\n",
    "      ?old_node owl:sameAs ?new_node.\n",
    "    }\n",
    "    ```\n",
    "* This has few lexemes as well which we don't need. So, I then ran the query:\n",
    "    ```\n",
    "    SELECT ?old_node\n",
    "    WHERE {\n",
    "      ?old_node owl:sameAs ?new_node.\n",
    "      ?new_node rdf:type ontolex:LexicalEntry.\n",
    "    }\n",
    "    ```\n",
    "* After removing the lexemes from the nodes file, a final redirected non-lexemes file was created with data from Feb 19, 2021: `data/SPARQL_redirects_non-lexemes.tsv`.\n",
    "* Using this reduced dataset, I was able to determine in the removed_statements.tsv dataset, which nodes have been redirected - `../opAnalysis/removed_statements_redirects_basis_node1or2.tsv`. This has removed statements in which either node1 or node2 is redirected.\n",
    "* After this, I am extracting the removed statements not present in this subset meaning it would correspond to all removed statements in neither node1 nor node2 is redirected - `../opAnalysis/removed_statements_both_nonredirects.tsv`\n",
    "\n",
    "For this, I am using the following set of commands"
   ]
  },
  {
   "cell_type": "code",
   "execution_count": 2,
   "id": "thick-absorption",
   "metadata": {},
   "outputs": [],
   "source": [
    "import pandas as pd\n",
    "import seaborn as sns"
   ]
  },
  {
   "cell_type": "code",
   "execution_count": null,
   "id": "boolean-string",
   "metadata": {},
   "outputs": [],
   "source": [
    "# On the basis of SPARQL\n",
    "!kgtk ifexists -i ../../data/removed_statements.tsv\\\n",
    "    --filter-on ../../data/SPARQL_redirects_non-lexemes.tsv \\\n",
    "    --filter-mode NONE \\\n",
    "    --input-keys node1 \\\n",
    "    --filter-keys id \\\n",
    "    -o ../../opAnalysis/removed_statements_redirects_basis_node1.tsv\n",
    "!kgtk ifnotexists -i ../../data/removed_statements.tsv\\\n",
    "    --filter-on ../../data/SPARQL_redirects_non-lexemes.tsv \\\n",
    "    --filter-mode NONE \\\n",
    "    --input-keys node1 \\\n",
    "    --filter-keys id \\\n",
    "    -o ../../opAnalysis/removed_statements_nonredirects_basis_node1.tsv\n",
    "!kgtk ifexists -i ../../data/removed_statements.tsv\\\n",
    "    --filter-on ../../data/SPARQL_redirects_non-lexemes.tsv \\\n",
    "    --filter-mode NONE \\\n",
    "    --input-keys node2 \\\n",
    "    --filter-keys id \\\n",
    "    -o ../../opAnalysis/removed_statements_redirects_basis_node2.tsv\n",
    "!kgtk ifnotexists -i ../../data/removed_statements.tsv\\\n",
    "    --filter-on ../../data/SPARQL_redirects_non-lexemes.tsv \\\n",
    "    --filter-mode NONE \\\n",
    "    --input-keys node2 \\\n",
    "    --filter-keys id \\\n",
    "    -o ../../opAnalysis/removed_statements_nonredirects_basis_node2.tsv\n",
    "!kgtk ifnotexists -i ../../opAnalysis/removed_statements_redirects_basis_node1.tsv \\\n",
    "    --filter-on ../../opAnalysis/removed_statements_redirects_basis_node2.tsv \\\n",
    "    -o ../../opAnalysis/temp1.tsv\n",
    "!kgtk cat -i ../../opAnalysis/temp1.tsv \\\n",
    "    ../../opAnalysis/removed_statements_redirects_basis_node2.tsv \\\n",
    "    -o ../../opAnalysis/removed_statements_redirects_basis_node1or2.tsv\n",
    "!kgtk ifnotexists -i ../../data/removed_statements.tsv\\\n",
    "    --filter-on ../../opAnalysis/removed_statements_redirects_basis_node1or2.tsv \\\n",
    "    -o ../../opAnalysis/removed_statements_both_nonredirects.tsv"
   ]
  },
  {
   "cell_type": "markdown",
   "id": "committed-volunteer",
   "metadata": {},
   "source": [
    "## P31 edges distribution"
   ]
  },
  {
   "cell_type": "markdown",
   "id": "objective-range",
   "metadata": {},
   "source": [
    "Now, we'll determine in this redirected dataset - `../../opAnalysis/removed_statements_redirects_basis_node1or2.tsv`, how many of these are P31 edges and determine more stats on these"
   ]
  },
  {
   "cell_type": "markdown",
   "id": "final-fraud",
   "metadata": {},
   "source": [
    "### For Redirected Removed Statements"
   ]
  },
  {
   "cell_type": "code",
   "execution_count": null,
   "id": "analyzed-silicon",
   "metadata": {},
   "outputs": [],
   "source": [
    "!kgtk --debug query -i ../../opAnalysis/removed_statements_redirects_basis_node1or2.tsv \\\n",
    "    --match 'o: (a)-[:P31]->(b)' \\\n",
    "    --return 'b, count(distinct a)' \\\n",
    "    -o ../../opAnalysis/removed_statements_redirects_P31_stats1.tsv"
   ]
  },
  {
   "cell_type": "code",
   "execution_count": 7,
   "id": "smaller-eugene",
   "metadata": {},
   "outputs": [
    {
     "data": {
      "text/html": [
       "<div>\n",
       "<style scoped>\n",
       "    .dataframe tbody tr th:only-of-type {\n",
       "        vertical-align: middle;\n",
       "    }\n",
       "\n",
       "    .dataframe tbody tr th {\n",
       "        vertical-align: top;\n",
       "    }\n",
       "\n",
       "    .dataframe thead th {\n",
       "        text-align: right;\n",
       "    }\n",
       "</style>\n",
       "<table border=\"1\" class=\"dataframe\">\n",
       "  <thead>\n",
       "    <tr style=\"text-align: right;\">\n",
       "      <th></th>\n",
       "      <th>count</th>\n",
       "      <th>perc</th>\n",
       "    </tr>\n",
       "    <tr>\n",
       "      <th>parent</th>\n",
       "      <th></th>\n",
       "      <th></th>\n",
       "    </tr>\n",
       "  </thead>\n",
       "  <tbody>\n",
       "    <tr>\n",
       "      <th>Q4167836</th>\n",
       "      <td>526207</td>\n",
       "      <td>0.213808</td>\n",
       "    </tr>\n",
       "    <tr>\n",
       "      <th>Q17329259</th>\n",
       "      <td>301359</td>\n",
       "      <td>0.122448</td>\n",
       "    </tr>\n",
       "    <tr>\n",
       "      <th>Q5</th>\n",
       "      <td>222809</td>\n",
       "      <td>0.090531</td>\n",
       "    </tr>\n",
       "    <tr>\n",
       "      <th>Q4167410</th>\n",
       "      <td>108583</td>\n",
       "      <td>0.044119</td>\n",
       "    </tr>\n",
       "    <tr>\n",
       "      <th>Q13442814</th>\n",
       "      <td>101156</td>\n",
       "      <td>0.041102</td>\n",
       "    </tr>\n",
       "    <tr>\n",
       "      <th>Q7187</th>\n",
       "      <td>88231</td>\n",
       "      <td>0.035850</td>\n",
       "    </tr>\n",
       "    <tr>\n",
       "      <th>Q11266439</th>\n",
       "      <td>61007</td>\n",
       "      <td>0.024788</td>\n",
       "    </tr>\n",
       "    <tr>\n",
       "      <th>Q4423781</th>\n",
       "      <td>53671</td>\n",
       "      <td>0.021808</td>\n",
       "    </tr>\n",
       "    <tr>\n",
       "      <th>Q17143521</th>\n",
       "      <td>51581</td>\n",
       "      <td>0.020958</td>\n",
       "    </tr>\n",
       "    <tr>\n",
       "      <th>Q15917122</th>\n",
       "      <td>50642</td>\n",
       "      <td>0.020577</td>\n",
       "    </tr>\n",
       "    <tr>\n",
       "      <th>Q486972</th>\n",
       "      <td>49257</td>\n",
       "      <td>0.020014</td>\n",
       "    </tr>\n",
       "    <tr>\n",
       "      <th>Q16521</th>\n",
       "      <td>46522</td>\n",
       "      <td>0.018903</td>\n",
       "    </tr>\n",
       "    <tr>\n",
       "      <th>Q318</th>\n",
       "      <td>26722</td>\n",
       "      <td>0.010858</td>\n",
       "    </tr>\n",
       "    <tr>\n",
       "      <th>Q532</th>\n",
       "      <td>23721</td>\n",
       "      <td>0.009638</td>\n",
       "    </tr>\n",
       "    <tr>\n",
       "      <th>Q20900710</th>\n",
       "      <td>23482</td>\n",
       "      <td>0.009541</td>\n",
       "    </tr>\n",
       "  </tbody>\n",
       "</table>\n",
       "</div>"
      ],
      "text/plain": [
       "            count      perc\n",
       "parent                     \n",
       "Q4167836   526207  0.213808\n",
       "Q17329259  301359  0.122448\n",
       "Q5         222809  0.090531\n",
       "Q4167410   108583  0.044119\n",
       "Q13442814  101156  0.041102\n",
       "Q7187       88231  0.035850\n",
       "Q11266439   61007  0.024788\n",
       "Q4423781    53671  0.021808\n",
       "Q17143521   51581  0.020958\n",
       "Q15917122   50642  0.020577\n",
       "Q486972     49257  0.020014\n",
       "Q16521      46522  0.018903\n",
       "Q318        26722  0.010858\n",
       "Q532        23721  0.009638\n",
       "Q20900710   23482  0.009541"
      ]
     },
     "execution_count": 7,
     "metadata": {},
     "output_type": "execute_result"
    }
   ],
   "source": [
    "df1 = pd.read_csv('../../opAnalysis/removed_statements_redirects_P31_stats1.tsv',sep='\\t')\n",
    "df1.columns = ['parent','count']\n",
    "df1 = df1.sort_values(by=['count'],ascending=False)\n",
    "df1 = df1.set_index('parent')\n",
    "tot = df1['count'].sum()\n",
    "df1['perc'] = df1['count'] / tot\n",
    "df1.head(15)"
   ]
  },
  {
   "cell_type": "markdown",
   "id": "japanese-upgrade",
   "metadata": {},
   "source": [
    "Find unique list of redirected nodes"
   ]
  },
  {
   "cell_type": "code",
   "execution_count": 9,
   "id": "former-hudson",
   "metadata": {},
   "outputs": [],
   "source": [
    "!kgtk unique -i ../../opAnalysis/removed_statements_redirects_basis_node1.tsv --column node1 -o ../../opAnalysis/removed_statements_redirects_basis_node1_nodes_only.tsv"
   ]
  },
  {
   "cell_type": "code",
   "execution_count": 20,
   "id": "circular-heritage",
   "metadata": {},
   "outputs": [],
   "source": [
    "!kgtk unique -i ../../opAnalysis/removed_statements_redirects_basis_node2.tsv --column node2 -o ../../opAnalysis/removed_statements_redirects_basis_node2_nodes_only.tsv"
   ]
  },
  {
   "cell_type": "code",
   "execution_count": 21,
   "id": "irish-envelope",
   "metadata": {},
   "outputs": [],
   "source": [
    "!kgtk cat -i ../../opAnalysis/removed_statements_redirects_basis_node1_nodes_only.tsv \\\n",
    "    ../../opAnalysis/removed_statements_redirects_basis_node2_nodes_only.tsv \\\n",
    "    -o ../../opAnalysis/removed_statements_redirects_nodes_only.tsv"
   ]
  },
  {
   "cell_type": "code",
   "execution_count": 22,
   "id": "bridal-effort",
   "metadata": {},
   "outputs": [],
   "source": [
    "!kgtk query -i ../../opAnalysis/removed_statements_redirects_nodes_only.tsv \\\n",
    "    --match '(node1)-[label]->(node2)' \\\n",
    "    --return 'node1, label.label, sum(node2)' \\\n",
    "    -o ../../opAnalysis/removed_statements_redirects_nodes_only_unique.tsv"
   ]
  },
  {
   "cell_type": "code",
   "execution_count": 23,
   "id": "accomplished-wallpaper",
   "metadata": {},
   "outputs": [
    {
     "name": "stdout",
     "output_type": "stream",
     "text": [
      "1864249 ../../opAnalysis/removed_statements_redirects_nodes_only_unique.tsv\r\n"
     ]
    }
   ],
   "source": [
    "!wc -l ../../opAnalysis/removed_statements_redirects_nodes_only_unique.tsv"
   ]
  },
  {
   "cell_type": "markdown",
   "id": "suburban-cosmetic",
   "metadata": {},
   "source": [
    "### For non-redirected removed statements"
   ]
  },
  {
   "cell_type": "code",
   "execution_count": null,
   "id": "characteristic-still",
   "metadata": {},
   "outputs": [],
   "source": [
    "!kgtk --debug query -i ../../opAnalysis/removed_statements_both_nonredirects.tsv \\\n",
    "    --match 'o: (a)-[:P31]->(b)' \\\n",
    "    --return 'b, count(distinct a)' \\\n",
    "    -o ../../opAnalysis/removed_statements_nonredirects_P31_stats1.tsv"
   ]
  },
  {
   "cell_type": "code",
   "execution_count": 9,
   "id": "subsequent-dutch",
   "metadata": {},
   "outputs": [
    {
     "data": {
      "text/html": [
       "<div>\n",
       "<style scoped>\n",
       "    .dataframe tbody tr th:only-of-type {\n",
       "        vertical-align: middle;\n",
       "    }\n",
       "\n",
       "    .dataframe tbody tr th {\n",
       "        vertical-align: top;\n",
       "    }\n",
       "\n",
       "    .dataframe thead th {\n",
       "        text-align: right;\n",
       "    }\n",
       "</style>\n",
       "<table border=\"1\" class=\"dataframe\">\n",
       "  <thead>\n",
       "    <tr style=\"text-align: right;\">\n",
       "      <th></th>\n",
       "      <th>count</th>\n",
       "      <th>perc</th>\n",
       "    </tr>\n",
       "    <tr>\n",
       "      <th>parent</th>\n",
       "      <th></th>\n",
       "      <th></th>\n",
       "    </tr>\n",
       "  </thead>\n",
       "  <tbody>\n",
       "    <tr>\n",
       "      <th>Q4167836</th>\n",
       "      <td>368888</td>\n",
       "      <td>0.102453</td>\n",
       "    </tr>\n",
       "    <tr>\n",
       "      <th>Q4167410</th>\n",
       "      <td>132403</td>\n",
       "      <td>0.036773</td>\n",
       "    </tr>\n",
       "    <tr>\n",
       "      <th>Q5</th>\n",
       "      <td>130252</td>\n",
       "      <td>0.036176</td>\n",
       "    </tr>\n",
       "    <tr>\n",
       "      <th>Q571</th>\n",
       "      <td>126883</td>\n",
       "      <td>0.035240</td>\n",
       "    </tr>\n",
       "    <tr>\n",
       "      <th>Q11266439</th>\n",
       "      <td>125824</td>\n",
       "      <td>0.034946</td>\n",
       "    </tr>\n",
       "    <tr>\n",
       "      <th>Q838948</th>\n",
       "      <td>119928</td>\n",
       "      <td>0.033308</td>\n",
       "    </tr>\n",
       "    <tr>\n",
       "      <th>Q486972</th>\n",
       "      <td>108105</td>\n",
       "      <td>0.030025</td>\n",
       "    </tr>\n",
       "    <tr>\n",
       "      <th>Q532</th>\n",
       "      <td>106786</td>\n",
       "      <td>0.029658</td>\n",
       "    </tr>\n",
       "    <tr>\n",
       "      <th>Q783794</th>\n",
       "      <td>101121</td>\n",
       "      <td>0.028085</td>\n",
       "    </tr>\n",
       "    <tr>\n",
       "      <th>Q1539532</th>\n",
       "      <td>78186</td>\n",
       "      <td>0.021715</td>\n",
       "    </tr>\n",
       "    <tr>\n",
       "      <th>Q916333</th>\n",
       "      <td>62789</td>\n",
       "      <td>0.017439</td>\n",
       "    </tr>\n",
       "    <tr>\n",
       "      <th>Q16521</th>\n",
       "      <td>53402</td>\n",
       "      <td>0.014832</td>\n",
       "    </tr>\n",
       "    <tr>\n",
       "      <th>Q7366</th>\n",
       "      <td>45005</td>\n",
       "      <td>0.012499</td>\n",
       "    </tr>\n",
       "    <tr>\n",
       "      <th>Q13406463</th>\n",
       "      <td>42582</td>\n",
       "      <td>0.011827</td>\n",
       "    </tr>\n",
       "    <tr>\n",
       "      <th>Q18593264</th>\n",
       "      <td>40505</td>\n",
       "      <td>0.011250</td>\n",
       "    </tr>\n",
       "  </tbody>\n",
       "</table>\n",
       "</div>"
      ],
      "text/plain": [
       "            count      perc\n",
       "parent                     \n",
       "Q4167836   368888  0.102453\n",
       "Q4167410   132403  0.036773\n",
       "Q5         130252  0.036176\n",
       "Q571       126883  0.035240\n",
       "Q11266439  125824  0.034946\n",
       "Q838948    119928  0.033308\n",
       "Q486972    108105  0.030025\n",
       "Q532       106786  0.029658\n",
       "Q783794    101121  0.028085\n",
       "Q1539532    78186  0.021715\n",
       "Q916333     62789  0.017439\n",
       "Q16521      53402  0.014832\n",
       "Q7366       45005  0.012499\n",
       "Q13406463   42582  0.011827\n",
       "Q18593264   40505  0.011250"
      ]
     },
     "execution_count": 9,
     "metadata": {},
     "output_type": "execute_result"
    }
   ],
   "source": [
    "df1 = pd.read_csv('../../opAnalysis/removed_statements_nonredirects_P31_stats1.tsv',sep='\\t')\n",
    "df1.columns = ['parent','count']\n",
    "df1 = df1.sort_values(by=['count'],ascending=False)\n",
    "df1 = df1.set_index('parent')\n",
    "tot = df1['count'].sum()\n",
    "df1['perc'] = df1['count'] / tot\n",
    "df1.head(15)"
   ]
  },
  {
   "cell_type": "markdown",
   "id": "whole-influence",
   "metadata": {},
   "source": [
    "## Properties Distribution"
   ]
  },
  {
   "cell_type": "markdown",
   "id": "international-conditioning",
   "metadata": {},
   "source": [
    "### For redirected removed statements"
   ]
  },
  {
   "cell_type": "code",
   "execution_count": null,
   "id": "known-moore",
   "metadata": {},
   "outputs": [],
   "source": [
    "!kgtk --debug query -i ../../opAnalysis/removed_statements_redirects_basis_node1or2.tsv \\\n",
    "    --match 'o: (a)-[r]->(b)' \\\n",
    "    --return 'r.label, count(distinct a)' \\\n",
    "    -o ../../opAnalysis/removed_statements_redirects_props_dist.tsv"
   ]
  },
  {
   "cell_type": "code",
   "execution_count": 6,
   "id": "unlikely-default",
   "metadata": {},
   "outputs": [
    {
     "data": {
      "text/html": [
       "<div>\n",
       "<style scoped>\n",
       "    .dataframe tbody tr th:only-of-type {\n",
       "        vertical-align: middle;\n",
       "    }\n",
       "\n",
       "    .dataframe tbody tr th {\n",
       "        vertical-align: top;\n",
       "    }\n",
       "\n",
       "    .dataframe thead th {\n",
       "        text-align: right;\n",
       "    }\n",
       "</style>\n",
       "<table border=\"1\" class=\"dataframe\">\n",
       "  <thead>\n",
       "    <tr style=\"text-align: right;\">\n",
       "      <th></th>\n",
       "      <th>count</th>\n",
       "      <th>perc</th>\n",
       "    </tr>\n",
       "    <tr>\n",
       "      <th>parent</th>\n",
       "      <th></th>\n",
       "      <th></th>\n",
       "    </tr>\n",
       "  </thead>\n",
       "  <tbody>\n",
       "    <tr>\n",
       "      <th>P31</th>\n",
       "      <td>2381072</td>\n",
       "      <td>0.234921</td>\n",
       "    </tr>\n",
       "    <tr>\n",
       "      <th>P17</th>\n",
       "      <td>357286</td>\n",
       "      <td>0.035251</td>\n",
       "    </tr>\n",
       "    <tr>\n",
       "      <th>P1433</th>\n",
       "      <td>299464</td>\n",
       "      <td>0.029546</td>\n",
       "    </tr>\n",
       "    <tr>\n",
       "      <th>P735</th>\n",
       "      <td>295778</td>\n",
       "      <td>0.029182</td>\n",
       "    </tr>\n",
       "    <tr>\n",
       "      <th>P50</th>\n",
       "      <td>268412</td>\n",
       "      <td>0.026482</td>\n",
       "    </tr>\n",
       "    <tr>\n",
       "      <th>P2860</th>\n",
       "      <td>243607</td>\n",
       "      <td>0.024035</td>\n",
       "    </tr>\n",
       "    <tr>\n",
       "      <th>P625</th>\n",
       "      <td>227779</td>\n",
       "      <td>0.022473</td>\n",
       "    </tr>\n",
       "    <tr>\n",
       "      <th>P106</th>\n",
       "      <td>185184</td>\n",
       "      <td>0.018271</td>\n",
       "    </tr>\n",
       "    <tr>\n",
       "      <th>P131</th>\n",
       "      <td>183759</td>\n",
       "      <td>0.018130</td>\n",
       "    </tr>\n",
       "    <tr>\n",
       "      <th>P21</th>\n",
       "      <td>179069</td>\n",
       "      <td>0.017667</td>\n",
       "    </tr>\n",
       "    <tr>\n",
       "      <th>P921</th>\n",
       "      <td>167723</td>\n",
       "      <td>0.016548</td>\n",
       "    </tr>\n",
       "    <tr>\n",
       "      <th>P279</th>\n",
       "      <td>162394</td>\n",
       "      <td>0.016022</td>\n",
       "    </tr>\n",
       "    <tr>\n",
       "      <th>P1566</th>\n",
       "      <td>160213</td>\n",
       "      <td>0.015807</td>\n",
       "    </tr>\n",
       "    <tr>\n",
       "      <th>P684</th>\n",
       "      <td>152695</td>\n",
       "      <td>0.015065</td>\n",
       "    </tr>\n",
       "    <tr>\n",
       "      <th>P703</th>\n",
       "      <td>119182</td>\n",
       "      <td>0.011759</td>\n",
       "    </tr>\n",
       "  </tbody>\n",
       "</table>\n",
       "</div>"
      ],
      "text/plain": [
       "          count      perc\n",
       "parent                   \n",
       "P31     2381072  0.234921\n",
       "P17      357286  0.035251\n",
       "P1433    299464  0.029546\n",
       "P735     295778  0.029182\n",
       "P50      268412  0.026482\n",
       "P2860    243607  0.024035\n",
       "P625     227779  0.022473\n",
       "P106     185184  0.018271\n",
       "P131     183759  0.018130\n",
       "P21      179069  0.017667\n",
       "P921     167723  0.016548\n",
       "P279     162394  0.016022\n",
       "P1566    160213  0.015807\n",
       "P684     152695  0.015065\n",
       "P703     119182  0.011759"
      ]
     },
     "execution_count": 6,
     "metadata": {},
     "output_type": "execute_result"
    }
   ],
   "source": [
    "df1 = pd.read_csv('../../opAnalysis/removed_statements_redirects_props_dist.tsv',sep='\\t')\n",
    "df1.columns = ['parent','count']\n",
    "df1 = df1.sort_values(by=['count'],ascending=False)\n",
    "df1 = df1.set_index('parent')\n",
    "tot = df1['count'].sum()\n",
    "df1['perc'] = df1['count'] / tot\n",
    "df1.head(15)"
   ]
  },
  {
   "cell_type": "markdown",
   "id": "satisfactory-future",
   "metadata": {},
   "source": [
    "### For non-redirected removed statements"
   ]
  },
  {
   "cell_type": "code",
   "execution_count": null,
   "id": "seasonal-composite",
   "metadata": {},
   "outputs": [],
   "source": [
    "!kgtk --debug query -i ../../opAnalysis/removed_statements_both_nonredirects.tsv \\\n",
    "    --match 'o: (a)-[r]->(b)' \\\n",
    "    --return 'r.label, count(distinct a)' \\\n",
    "    -o ../../opAnalysis/removed_statements_nonredirects_props_dist.tsv"
   ]
  },
  {
   "cell_type": "code",
   "execution_count": 11,
   "id": "straight-haiti",
   "metadata": {},
   "outputs": [
    {
     "data": {
      "text/html": [
       "<div>\n",
       "<style scoped>\n",
       "    .dataframe tbody tr th:only-of-type {\n",
       "        vertical-align: middle;\n",
       "    }\n",
       "\n",
       "    .dataframe tbody tr th {\n",
       "        vertical-align: top;\n",
       "    }\n",
       "\n",
       "    .dataframe thead th {\n",
       "        text-align: right;\n",
       "    }\n",
       "</style>\n",
       "<table border=\"1\" class=\"dataframe\">\n",
       "  <thead>\n",
       "    <tr style=\"text-align: right;\">\n",
       "      <th></th>\n",
       "      <th>count</th>\n",
       "      <th>perc</th>\n",
       "    </tr>\n",
       "    <tr>\n",
       "      <th>parent</th>\n",
       "      <th></th>\n",
       "      <th></th>\n",
       "    </tr>\n",
       "  </thead>\n",
       "  <tbody>\n",
       "    <tr>\n",
       "      <th>P2093</th>\n",
       "      <td>6173393</td>\n",
       "      <td>0.161314</td>\n",
       "    </tr>\n",
       "    <tr>\n",
       "      <th>P1476</th>\n",
       "      <td>4238487</td>\n",
       "      <td>0.110754</td>\n",
       "    </tr>\n",
       "    <tr>\n",
       "      <th>P31</th>\n",
       "      <td>3327644</td>\n",
       "      <td>0.086953</td>\n",
       "    </tr>\n",
       "    <tr>\n",
       "      <th>P569</th>\n",
       "      <td>2011539</td>\n",
       "      <td>0.052563</td>\n",
       "    </tr>\n",
       "    <tr>\n",
       "      <th>P625</th>\n",
       "      <td>1494410</td>\n",
       "      <td>0.039050</td>\n",
       "    </tr>\n",
       "    <tr>\n",
       "      <th>P577</th>\n",
       "      <td>1116328</td>\n",
       "      <td>0.029170</td>\n",
       "    </tr>\n",
       "    <tr>\n",
       "      <th>P234</th>\n",
       "      <td>999522</td>\n",
       "      <td>0.026118</td>\n",
       "    </tr>\n",
       "    <tr>\n",
       "      <th>P570</th>\n",
       "      <td>983201</td>\n",
       "      <td>0.025692</td>\n",
       "    </tr>\n",
       "    <tr>\n",
       "      <th>P131</th>\n",
       "      <td>927413</td>\n",
       "      <td>0.024234</td>\n",
       "    </tr>\n",
       "    <tr>\n",
       "      <th>P364</th>\n",
       "      <td>870224</td>\n",
       "      <td>0.022739</td>\n",
       "    </tr>\n",
       "    <tr>\n",
       "      <th>P2044</th>\n",
       "      <td>780870</td>\n",
       "      <td>0.020405</td>\n",
       "    </tr>\n",
       "    <tr>\n",
       "      <th>P279</th>\n",
       "      <td>765112</td>\n",
       "      <td>0.019993</td>\n",
       "    </tr>\n",
       "    <tr>\n",
       "      <th>P969</th>\n",
       "      <td>732461</td>\n",
       "      <td>0.019140</td>\n",
       "    </tr>\n",
       "    <tr>\n",
       "      <th>P356</th>\n",
       "      <td>413439</td>\n",
       "      <td>0.010803</td>\n",
       "    </tr>\n",
       "    <tr>\n",
       "      <th>P637</th>\n",
       "      <td>387091</td>\n",
       "      <td>0.010115</td>\n",
       "    </tr>\n",
       "  </tbody>\n",
       "</table>\n",
       "</div>"
      ],
      "text/plain": [
       "          count      perc\n",
       "parent                   \n",
       "P2093   6173393  0.161314\n",
       "P1476   4238487  0.110754\n",
       "P31     3327644  0.086953\n",
       "P569    2011539  0.052563\n",
       "P625    1494410  0.039050\n",
       "P577    1116328  0.029170\n",
       "P234     999522  0.026118\n",
       "P570     983201  0.025692\n",
       "P131     927413  0.024234\n",
       "P364     870224  0.022739\n",
       "P2044    780870  0.020405\n",
       "P279     765112  0.019993\n",
       "P969     732461  0.019140\n",
       "P356     413439  0.010803\n",
       "P637     387091  0.010115"
      ]
     },
     "execution_count": 11,
     "metadata": {},
     "output_type": "execute_result"
    }
   ],
   "source": [
    "df1 = pd.read_csv('../../opAnalysis/removed_statements_nonredirects_props_dist.tsv',sep='\\t')\n",
    "df1.columns = ['parent','count']\n",
    "df1 = df1.sort_values(by=['count'],ascending=False)\n",
    "df1 = df1.set_index('parent')\n",
    "tot = df1['count'].sum()\n",
    "df1['perc'] = df1['count'] / tot\n",
    "df1.head(15)"
   ]
  },
  {
   "cell_type": "markdown",
   "id": "martial-friday",
   "metadata": {},
   "source": [
    "# Comparison Removed NR dataset with Qnodes, literals\n",
    "\n",
    "First, let's split this dataset"
   ]
  },
  {
   "cell_type": "code",
   "execution_count": null,
   "id": "engaging-salon",
   "metadata": {},
   "outputs": [],
   "source": [
    "!kgtk --debug query -i ../../opAnalysis/removed_statements_both_nonredirects.tsv \\\n",
    "    ../../gdrive-kgtk-dump-2020-12-07/metadata.property.datatypes.tsv.gz \\\n",
    "    --match \"non: (x)-[r{label: property}]->(y), datatypes: (property)-[]->(:wikibase\\-item)\" \\\n",
    "    -o ../../opAnalysis/removed_statements_both_nonredirects_newSeg_qnode.tsv"
   ]
  },
  {
   "cell_type": "code",
   "execution_count": null,
   "id": "closed-toyota",
   "metadata": {},
   "outputs": [],
   "source": [
    "!kgtk --debug query -i ../../opAnalysis/removed_statements_both_nonredirects.tsv \\\n",
    "    ../../gdrive-kgtk-dump-2020-12-07/metadata.property.datatypes.tsv.gz \\\n",
    "    --match \"non: (x)-[r{label: property}]->(y), datatypes: (property)-[]->(:quantity)\" \\\n",
    "    -o ../../opAnalysis/removed_statements_both_nonredirects_newSeg_qty.tsv\n",
    "!kgtk --debug query -i ../../opAnalysis/removed_statements_both_nonredirects.tsv \\\n",
    "    ../../gdrive-kgtk-dump-2020-12-07/metadata.property.datatypes.tsv.gz \\\n",
    "    --match \"non: (x)-[r{label: property}]->(y), datatypes: (property)-[]->(:string)\" \\\n",
    "    -o ../../opAnalysis/removed_statements_both_nonredirects_newSeg_str.tsv\n",
    "!kgtk --debug query -i ../../opAnalysis/removed_statements_both_nonredirects.tsv \\\n",
    "    ../../gdrive-kgtk-dump-2020-12-07/metadata.property.datatypes.tsv.gz \\\n",
    "    --match \"non: (x)-[r{label: property}]->(y), datatypes: (property)-[]->(:`wikibase-item`)\" \\\n",
    "    -o ../../opAnalysis/removed_statements_both_nonredirects_newSeg_qnode.tsv\n",
    "!kgtk --debug query -i ../../opAnalysis/removed_statements_both_nonredirects.tsv \\\n",
    "    ../../gdrive-kgtk-dump-2020-12-07/metadata.property.datatypes.tsv.gz \\\n",
    "    --match \"non: (x)-[r{label: property}]->(y), datatypes: (property)-[]->(:time)\" \\\n",
    "    -o ../../opAnalysis/removed_statements_both_nonredirects_newSeg_date.tsv\n"
   ]
  },
  {
   "cell_type": "markdown",
   "id": "rough-emerald",
   "metadata": {},
   "source": [
    "### String Comparison"
   ]
  },
  {
   "cell_type": "code",
   "execution_count": 3,
   "id": "amateur-effort",
   "metadata": {},
   "outputs": [
    {
     "name": "stdout",
     "output_type": "stream",
     "text": [
      "^C\r\n"
     ]
    }
   ],
   "source": [
    "!kgtk query -i ../../opAnalysis/removed_statements_both_nonredirects_newSeg_str.tsv     \\\n",
    "    ../../gdrive-kgtk-dump-2020-12-07/claims.string.tsv.gz     \\\n",
    "    --match \"r: (x)-[r]->(y), c: (x)-[s]->(z)\"     \\\n",
    "    --where \"r.label = s.label\"     \\\n",
    "    --return 'x as `node1`, r.label as `label`, y as `node2`, s.label as `node2;newLabl`, z as `node2;nw`'     \\\n",
    "    -o ../../opAnalysis/removed_statements_both_nonredirects_newSeg_str_new_vals.tsv \\\n",
    "    --graph-cache ~/temp2.sqlite3.db"
   ]
  },
  {
   "cell_type": "code",
   "execution_count": null,
   "id": "separate-georgia",
   "metadata": {},
   "outputs": [],
   "source": [
    "# !sed -i '1s/.*/node1\\tlabel\\tnode2\\tnode2;newLabl\\tnode2;nw/' removed_statements_both_nonredirects_newSeg_str_new_vals.tsv"
   ]
  },
  {
   "cell_type": "markdown",
   "id": "disturbed-geology",
   "metadata": {},
   "source": [
    "The strings subset has a branching factor of approx 10. i.e. 1 removed statement with string literal has been replaced by around 10 new statements (with same node1-label combination). Doing the same comparisons won't give us much insights. Instead, let's truncate this dataset while retaining just the counts of branching factor from each of these node1-label combinations. "
   ]
  },
  {
   "cell_type": "code",
   "execution_count": null,
   "id": "downtown-alabama",
   "metadata": {},
   "outputs": [
    {
     "name": "stdout",
     "output_type": "stream",
     "text": [
      "[2021-04-12 08:48:21 sqlstore]: IMPORT graph directly into table graph_1 from /data/wd-correctness/opAnalysis/removed_statements_both_nonredirects_newSeg_str_new_vals.tsv ...\n",
      "[2021-04-12 09:25:32 query]: SQL Translation:\n",
      "---------------------------------------------\n",
      "  SELECT graph_1_c1.\"node1\", graph_1_c1.\"label\", graph_1_c1.\"node2\", graph_1_c1.\"node2;newLabl\" \"_aLias.node2;newLabel\", max(graph_1_c1.\"node2;nw\") \"_aLias.node2;newValue\", count(graph_1_c1.\"node2;nw\") \"_aLias.node2;branching\"\n",
      "     FROM graph_1 AS graph_1_c1\n",
      "     WHERE graph_1_c1.\"node2;newLabl\"=graph_1_c1.\"node2;newLabl\"\n",
      "     AND graph_1_c1.\"node2;nw\"=graph_1_c1.\"node2;nw\"\n",
      "     GROUP BY graph_1_c1.\"node1\", graph_1_c1.\"label\", graph_1_c1.\"node2\", \"_aLias.node2;newLabel\"\n",
      "  PARAS: []\n",
      "---------------------------------------------\n"
     ]
    }
   ],
   "source": [
    "!kgtk --debug query -i ../../opAnalysis/removed_statements_both_nonredirects_newSeg_str_new_vals.tsv \\\n",
    "    --match \"(node1)-[r]->(node2{newLabl: newLabel, nw: newValue})\" \\\n",
    "    --return 'node1, r.label, node2, newLabel as `node2;newLabel`, max(newValue) as `node2;newValue`, count(newValue) as `node2;branching`' \\\n",
    "    -o ../../opAnalysis/removed_statements_both_nonredirects_newSeg_str_new_vals_truncated.tsv \\\n",
    "    --graph-cache ~/sqlite3_caches/temptrunc.sqlite3.db"
   ]
  },
  {
   "cell_type": "markdown",
   "id": "tropical-cooperation",
   "metadata": {},
   "source": [
    "On this truncated dataset, we will next compute the stats and comparisons. Note: Our original string literals subset of removed statements was around 9 GB. With the join operation with claims, this had increased to 90 GB. We have now truncated this dataset to 778 MB"
   ]
  },
  {
   "cell_type": "code",
   "execution_count": 8,
   "id": "meaning-closure",
   "metadata": {},
   "outputs": [
    {
     "name": "stdout",
     "output_type": "stream",
     "text": [
      "14349490 ../../opAnalysis/removed_statements_both_nonredirects_newSeg_str_new_vals_truncated.tsv\r\n"
     ]
    }
   ],
   "source": [
    "!wc -l ../../opAnalysis/removed_statements_both_nonredirects_newSeg_str_new_vals_truncated.tsv"
   ]
  },
  {
   "cell_type": "code",
   "execution_count": null,
   "id": "crude-denmark",
   "metadata": {},
   "outputs": [],
   "source": [
    "!wc -l ../../opAnalysis/removed_statements_both_nonredirects_newSeg_str_new_vals_measured.tsv"
   ]
  },
  {
   "cell_type": "code",
   "execution_count": 12,
   "id": "white-valuation",
   "metadata": {},
   "outputs": [
    {
     "name": "stdout",
     "output_type": "stream",
     "text": [
      "node1\tlabel\tnode2\tnode2;newLabel\tnode2;newValue\tnode2;branching\r\n",
      "P1003\tP1630\thttp://alephnew.bibnat.ro:8991/F?func=find-b&request=$1&find_code=SYS&adjacent=Y&local_base=NLR10\tP1630\t\"http://aleph.bibnat.ro:8991/F/?func=direct&local_base=NLR10&doc_number=$1\"\t1\r\n",
      "P1004\tP1921\thttp://musicbrainz.org/$1/place\tP1921\t\"http://musicbrainz.org/place/$1\"\t1\r\n",
      "P1004\tP1921\thttps://musicbrainz.org/place/$1\tP1921\t\"http://musicbrainz.org/place/$1\"\t1\r\n",
      "P1005\tP1630\thttp://purl.pt/index/geral/aut/PT/$1.html\tP1630\t\"http://urn.bn.pt/nca/unimarc-authorities/html?id=$1\"\t3\r\n",
      "P1005\tP1630\thttp://urn.bn.pt/nca/unimarc-authorities/txt?id=$1\tP1630\t\"http://urn.bn.pt/nca/unimarc-authorities/html?id=$1\"\t3\r\n",
      "P1006\tP1630\thttp://data.bibliotheken.nl/id/thes/p$1\tP1630\t\"https://opc-kb.oclc.org/PPN?PPN=$1\"\t3\r\n",
      "P1006\tP1630\thttp://opc4.kb.nl/DB=1/XMLPRS=Y/PPN?PPN=$1\tP1630\t\"https://opc-kb.oclc.org/PPN?PPN=$1\"\t3\r\n",
      "P1006\tP1630\thttp://opc4.kb.nl/PPN?PPN=$1\tP1630\t\"https://opc-kb.oclc.org/PPN?PPN=$1\"\t3\r\n",
      "P1006\tP1630\thttps://data.bibliotheken.nl/doc/thes/p$1\tP1630\t\"https://opc-kb.oclc.org/PPN?PPN=$1\"\t3\r\n"
     ]
    }
   ],
   "source": [
    "!head ../../opAnalysis/removed_statements_both_nonredirects_newSeg_str_new_vals_truncated.tsv"
   ]
  },
  {
   "cell_type": "code",
   "execution_count": 12,
   "id": "successful-singer",
   "metadata": {},
   "outputs": [
    {
     "data": {
      "application/vnd.jupyter.widget-view+json": {
       "model_id": "17865317d0014ed9bed573ef559e6d8c",
       "version_major": 2,
       "version_minor": 0
      },
      "text/plain": [
       "0it [00:00, ?it/s]"
      ]
     },
     "metadata": {},
     "output_type": "display_data"
    }
   ],
   "source": [
    "from dateutil.parser import parse\n",
    "import re\n",
    "import rltk\n",
    "from rltk.similarity import levenshtein_distance as ld\n",
    "from nltk.tokenize import word_tokenize as wt\n",
    "from tqdm.notebook import tqdm\n",
    "\n",
    "f1 = open(\"../../opAnalysis/removed_statements_both_nonredirects_newSeg_str_new_vals_truncated.tsv\",\"r\")\n",
    "fStr = open(\"../../opAnalysis/removed_statements_both_nonredirects_newSeg_str_new_vals_measured2.tsv\",\"w\")\n",
    "\n",
    "firstLine = next(f1).rstrip()\n",
    "\n",
    "fStr.write(firstLine+\"\\tVersionBool\\tRangeBool\\tLevDist\\tRearranged\\tRearrangedFirstNP\\n\")\n",
    "\n",
    "for line in tqdm(f1):\n",
    "    line = line.rstrip()\n",
    "    val1 = line.split(\"\\t\")[2]\n",
    "    val2 = line.split(\"\\t\")[4]\n",
    "    val2 = val2[1:-1]\n",
    "    versionBool = bool(re.fullmatch(\"[\\d\\.]+[\\w\\s\\d]*\",val1))\n",
    "    rangeBool = bool(re.fullmatch(\"[\\d]+[-|–][\\d]+\",val1))\n",
    "    LevDist = ld(val1,val2)\n",
    "    rearranged = set(wt(val1)) == set(wt(val2))\n",
    "    rearrangedFirstNP = set(wt(val1)) == set(wt(val2[1:]))\n",
    "    fStr.write(line+ \"\\t\" + str(versionBool) + \"\\t\" + str(rangeBool) + \"\\t\" + \\\n",
    "               str(LevDist) + \"\\t\" + str(rearranged) + \"\\t\" + str(rearrangedFirstNP) + \"\\n\")\n",
    "\n",
    "fStr.close()"
   ]
  },
  {
   "cell_type": "code",
   "execution_count": null,
   "id": "international-violation",
   "metadata": {},
   "outputs": [],
   "source": [
    "!kgtk ifnotexists -i ../../opAnalysis/removed_statements_both_nonredirects_newSeg_str_new_vals.tsv \\\n",
    "    --filter-on ../../opAnalysis/removed_statements_both_nonredirects_newSeg_str_new_vals_measured2.tsv \\\n",
    "    --filter-mode NONE \\\n",
    "    --input-keys label node1 \\\n",
    "    --filter-keys label node1 \\\n",
    "    -o ../../opAnalysis/removed_statements_both_nonredirects_newSeg_str_unmatched2.tsv"
   ]
  },
  {
   "cell_type": "code",
   "execution_count": 13,
   "id": "tracked-carroll",
   "metadata": {},
   "outputs": [
    {
     "name": "stdout",
     "output_type": "stream",
     "text": [
      "1927007651 ../../opAnalysis/removed_statements_both_nonredirects_newSeg_str_new_vals.tsv\r\n"
     ]
    }
   ],
   "source": [
    "!wc -l ../../opAnalysis/removed_statements_both_nonredirects_newSeg_str_new_vals.tsv"
   ]
  },
  {
   "cell_type": "code",
   "execution_count": 14,
   "id": "vocational-pound",
   "metadata": {},
   "outputs": [
    {
     "name": "stdout",
     "output_type": "stream",
     "text": [
      "14349490 ../../opAnalysis/removed_statements_both_nonredirects_newSeg_str_new_vals_measured2.tsv\r\n"
     ]
    }
   ],
   "source": [
    "!wc -l ../../opAnalysis/removed_statements_both_nonredirects_newSeg_str_new_vals_measured2.tsv"
   ]
  },
  {
   "cell_type": "code",
   "execution_count": 4,
   "id": "trained-tuning",
   "metadata": {},
   "outputs": [
    {
     "name": "stdout",
     "output_type": "stream",
     "text": [
      "1 ../../opAnalysis/removed_statements_both_nonredirects_newSeg_str_unmatched.tsv\r\n"
     ]
    }
   ],
   "source": [
    "!wc -l ../../opAnalysis/removed_statements_both_nonredirects_newSeg_str_unmatched.tsv"
   ]
  },
  {
   "cell_type": "code",
   "execution_count": 15,
   "id": "economic-friday",
   "metadata": {},
   "outputs": [
    {
     "name": "stdout",
     "output_type": "stream",
     "text": [
      "node1\tlabel\tnode2\tnode2;newLabel\tnode2;newValue\tnode2;branching\tVersionBool\tRangeBool\tLevDist\tRearranged\tRearrangedFirstNP\r\n",
      "P1003\tP1630\thttp://alephnew.bibnat.ro:8991/F?func=find-b&request=$1&find_code=SYS&adjacent=Y&local_base=NLR10\tP1630\t\"http://aleph.bibnat.ro:8991/F/?func=direct&local_base=NLR10&doc_number=$1\"\t1\r\n",
      "\tFalse\tFalse\t51\tFalse\tFalse\r\n",
      "P1004\tP1921\thttp://musicbrainz.org/$1/place\tP1921\t\"http://musicbrainz.org/place/$1\"\t1\r\n",
      "\tFalse\tFalse\t6\tFalse\tFalse\r\n",
      "P1004\tP1921\thttps://musicbrainz.org/place/$1\tP1921\t\"http://musicbrainz.org/place/$1\"\t1\r\n",
      "\tFalse\tFalse\t1\tFalse\tFalse\r\n",
      "P1005\tP1630\thttp://purl.pt/index/geral/aut/PT/$1.html\tP1630\t\"http://urn.bn.pt/nca/unimarc-authorities/html?id=$1\"\t3\r\n",
      "\tFalse\tFalse\t31\tFalse\tFalse\r\n",
      "P1005\tP1630\thttp://urn.bn.pt/nca/unimarc-authorities/txt?id=$1\tP1630\t\"http://urn.bn.pt/nca/unimarc-authorities/html?id=$1\"\t3\r\n"
     ]
    }
   ],
   "source": [
    "!head ../../opAnalysis/removed_statements_both_nonredirects_newSeg_str_new_vals_measured.tsv"
   ]
  },
  {
   "cell_type": "code",
   "execution_count": 1,
   "id": "daily-complexity",
   "metadata": {},
   "outputs": [],
   "source": [
    "import pandas as pd\n",
    "str_df = pd.read_csv(\"../../opAnalysis/removed_statements_both_nonredirects_newSeg_str_new_vals_measured2.tsv\",sep='\\t')"
   ]
  },
  {
   "cell_type": "code",
   "execution_count": 2,
   "id": "otherwise-bones",
   "metadata": {},
   "outputs": [
    {
     "data": {
      "text/html": [
       "<div>\n",
       "<style scoped>\n",
       "    .dataframe tbody tr th:only-of-type {\n",
       "        vertical-align: middle;\n",
       "    }\n",
       "\n",
       "    .dataframe tbody tr th {\n",
       "        vertical-align: top;\n",
       "    }\n",
       "\n",
       "    .dataframe thead th {\n",
       "        text-align: right;\n",
       "    }\n",
       "</style>\n",
       "<table border=\"1\" class=\"dataframe\">\n",
       "  <thead>\n",
       "    <tr style=\"text-align: right;\">\n",
       "      <th></th>\n",
       "      <th>node1</th>\n",
       "      <th>label</th>\n",
       "      <th>node2</th>\n",
       "      <th>node2;newLabel</th>\n",
       "      <th>node2;newValue</th>\n",
       "      <th>node2;branching</th>\n",
       "      <th>VersionBool</th>\n",
       "      <th>RangeBool</th>\n",
       "      <th>LevDist</th>\n",
       "      <th>Rearranged</th>\n",
       "      <th>RearrangedFirstNP</th>\n",
       "    </tr>\n",
       "  </thead>\n",
       "  <tbody>\n",
       "    <tr>\n",
       "      <th>0</th>\n",
       "      <td>P1003</td>\n",
       "      <td>P1630</td>\n",
       "      <td>http://alephnew.bibnat.ro:8991/F?func=find-b&amp;r...</td>\n",
       "      <td>P1630</td>\n",
       "      <td>http://aleph.bibnat.ro:8991/F/?func=direct&amp;loc...</td>\n",
       "      <td>1</td>\n",
       "      <td>False</td>\n",
       "      <td>False</td>\n",
       "      <td>51</td>\n",
       "      <td>False</td>\n",
       "      <td>False</td>\n",
       "    </tr>\n",
       "    <tr>\n",
       "      <th>1</th>\n",
       "      <td>P1004</td>\n",
       "      <td>P1921</td>\n",
       "      <td>http://musicbrainz.org/$1/place</td>\n",
       "      <td>P1921</td>\n",
       "      <td>http://musicbrainz.org/place/$1</td>\n",
       "      <td>1</td>\n",
       "      <td>False</td>\n",
       "      <td>False</td>\n",
       "      <td>6</td>\n",
       "      <td>False</td>\n",
       "      <td>False</td>\n",
       "    </tr>\n",
       "    <tr>\n",
       "      <th>2</th>\n",
       "      <td>P1004</td>\n",
       "      <td>P1921</td>\n",
       "      <td>https://musicbrainz.org/place/$1</td>\n",
       "      <td>P1921</td>\n",
       "      <td>http://musicbrainz.org/place/$1</td>\n",
       "      <td>1</td>\n",
       "      <td>False</td>\n",
       "      <td>False</td>\n",
       "      <td>1</td>\n",
       "      <td>False</td>\n",
       "      <td>False</td>\n",
       "    </tr>\n",
       "    <tr>\n",
       "      <th>3</th>\n",
       "      <td>P1005</td>\n",
       "      <td>P1630</td>\n",
       "      <td>http://purl.pt/index/geral/aut/PT/$1.html</td>\n",
       "      <td>P1630</td>\n",
       "      <td>http://urn.bn.pt/nca/unimarc-authorities/html?...</td>\n",
       "      <td>3</td>\n",
       "      <td>False</td>\n",
       "      <td>False</td>\n",
       "      <td>31</td>\n",
       "      <td>False</td>\n",
       "      <td>False</td>\n",
       "    </tr>\n",
       "    <tr>\n",
       "      <th>4</th>\n",
       "      <td>P1005</td>\n",
       "      <td>P1630</td>\n",
       "      <td>http://urn.bn.pt/nca/unimarc-authorities/txt?i...</td>\n",
       "      <td>P1630</td>\n",
       "      <td>http://urn.bn.pt/nca/unimarc-authorities/html?...</td>\n",
       "      <td>3</td>\n",
       "      <td>False</td>\n",
       "      <td>False</td>\n",
       "      <td>3</td>\n",
       "      <td>False</td>\n",
       "      <td>False</td>\n",
       "    </tr>\n",
       "  </tbody>\n",
       "</table>\n",
       "</div>"
      ],
      "text/plain": [
       "   node1  label                                              node2  \\\n",
       "0  P1003  P1630  http://alephnew.bibnat.ro:8991/F?func=find-b&r...   \n",
       "1  P1004  P1921                    http://musicbrainz.org/$1/place   \n",
       "2  P1004  P1921                   https://musicbrainz.org/place/$1   \n",
       "3  P1005  P1630          http://purl.pt/index/geral/aut/PT/$1.html   \n",
       "4  P1005  P1630  http://urn.bn.pt/nca/unimarc-authorities/txt?i...   \n",
       "\n",
       "  node2;newLabel                                     node2;newValue  \\\n",
       "0          P1630  http://aleph.bibnat.ro:8991/F/?func=direct&loc...   \n",
       "1          P1921                    http://musicbrainz.org/place/$1   \n",
       "2          P1921                    http://musicbrainz.org/place/$1   \n",
       "3          P1630  http://urn.bn.pt/nca/unimarc-authorities/html?...   \n",
       "4          P1630  http://urn.bn.pt/nca/unimarc-authorities/html?...   \n",
       "\n",
       "   node2;branching  VersionBool  RangeBool  LevDist  Rearranged  \\\n",
       "0                1        False      False       51       False   \n",
       "1                1        False      False        6       False   \n",
       "2                1        False      False        1       False   \n",
       "3                3        False      False       31       False   \n",
       "4                3        False      False        3       False   \n",
       "\n",
       "   RearrangedFirstNP  \n",
       "0              False  \n",
       "1              False  \n",
       "2              False  \n",
       "3              False  \n",
       "4              False  "
      ]
     },
     "execution_count": 2,
     "metadata": {},
     "output_type": "execute_result"
    }
   ],
   "source": [
    "str_df.head()"
   ]
  },
  {
   "cell_type": "code",
   "execution_count": 32,
   "id": "mounted-saint",
   "metadata": {},
   "outputs": [
    {
     "data": {
      "text/plain": [
       "62146"
      ]
     },
     "execution_count": 32,
     "metadata": {},
     "output_type": "execute_result"
    }
   ],
   "source": [
    "len(str_df[str_df['LevDist'] == 0])"
   ]
  },
  {
   "cell_type": "code",
   "execution_count": 5,
   "id": "senior-custom",
   "metadata": {},
   "outputs": [
    {
     "data": {
      "text/plain": [
       "False"
      ]
     },
     "execution_count": 5,
     "metadata": {},
     "output_type": "execute_result"
    }
   ],
   "source": [
    "import re\n",
    "bool(re.fullmatch(\"[\\d\\.]+[\\w\\s\\d]*\",\"http://purl.pt/index/geral/aut/PT/$1.html\"))"
   ]
  },
  {
   "cell_type": "code",
   "execution_count": null,
   "id": "restricted-locking",
   "metadata": {},
   "outputs": [],
   "source": [
    "str_df['node2;branching'].mean()"
   ]
  },
  {
   "cell_type": "code",
   "execution_count": null,
   "id": "hundred-entrepreneur",
   "metadata": {},
   "outputs": [],
   "source": [
    "str_df['node2;branching'].value_counts().sort_index()"
   ]
  },
  {
   "cell_type": "code",
   "execution_count": 3,
   "id": "secret-contest",
   "metadata": {},
   "outputs": [
    {
     "data": {
      "text/plain": [
       "14349489"
      ]
     },
     "execution_count": 3,
     "metadata": {},
     "output_type": "execute_result"
    }
   ],
   "source": [
    "str_df['node2;branching'].value_counts().sum()"
   ]
  },
  {
   "cell_type": "code",
   "execution_count": 4,
   "id": "editorial-romance",
   "metadata": {},
   "outputs": [
    {
     "name": "stdout",
     "output_type": "stream",
     "text": [
      "Out of 14349489 updates, 254884 correspond to changes due to version change with average branching factor: 1.7222579683306916\n"
     ]
    }
   ],
   "source": [
    "print(f\"Out of {len(str_df)} updates, {str_df['VersionBool'].sum()} correspond to changes due to version change with average branching factor: {str_df[str_df['VersionBool'] == True]['node2;branching'].mean()}\")"
   ]
  },
  {
   "cell_type": "code",
   "execution_count": 5,
   "id": "social-plenty",
   "metadata": {},
   "outputs": [
    {
     "data": {
      "text/plain": [
       "count    254884.000000\n",
       "mean          3.783427\n",
       "std           3.277387\n",
       "min           0.000000\n",
       "25%           2.000000\n",
       "50%           3.000000\n",
       "75%           5.000000\n",
       "max         209.000000\n",
       "Name: LevDist, dtype: float64"
      ]
     },
     "execution_count": 5,
     "metadata": {},
     "output_type": "execute_result"
    }
   ],
   "source": [
    "str_df[str_df['VersionBool'] == True].LevDist.describe()"
   ]
  },
  {
   "cell_type": "code",
   "execution_count": 6,
   "id": "promising-hopkins",
   "metadata": {},
   "outputs": [
    {
     "name": "stdout",
     "output_type": "stream",
     "text": [
      "Out of 14349489 updates, 321953 correspond to changes due to range change with average branching factor: 1.0656493339089868\n"
     ]
    }
   ],
   "source": [
    "print(f\"Out of {len(str_df)} updates, {str_df['RangeBool'].sum()} correspond to changes due to range change with average branching factor: {str_df[str_df['RangeBool'] == True]['node2;branching'].mean()}\")"
   ]
  },
  {
   "cell_type": "code",
   "execution_count": 7,
   "id": "varied-reform",
   "metadata": {
    "scrolled": true
   },
   "outputs": [
    {
     "data": {
      "text/plain": [
       "count    321953.000000\n",
       "mean          2.343702\n",
       "std           2.188649\n",
       "min           0.000000\n",
       "25%           1.000000\n",
       "50%           2.000000\n",
       "75%           3.000000\n",
       "max          47.000000\n",
       "Name: LevDist, dtype: float64"
      ]
     },
     "execution_count": 7,
     "metadata": {},
     "output_type": "execute_result"
    }
   ],
   "source": [
    "str_df[str_df['RangeBool'] == True].LevDist.describe()"
   ]
  },
  {
   "cell_type": "code",
   "execution_count": 8,
   "id": "annoying-transaction",
   "metadata": {},
   "outputs": [
    {
     "name": "stdout",
     "output_type": "stream",
     "text": [
      "Out of 14349489 updates, 234286 correspond to changes due to rearrangement with average branching factor: 3.4882536728613744\n"
     ]
    }
   ],
   "source": [
    "print(f\"Out of {len(str_df)} updates, {str_df['Rearranged'].sum()} correspond to changes due to rearrangement with average branching factor: {str_df[str_df['Rearranged'] == True]['node2;branching'].mean()}\")"
   ]
  },
  {
   "cell_type": "code",
   "execution_count": 9,
   "id": "three-characteristic",
   "metadata": {},
   "outputs": [
    {
     "data": {
      "text/plain": [
       "count    234286.000000\n",
       "mean          2.873257\n",
       "std           2.006146\n",
       "min           0.000000\n",
       "25%           0.000000\n",
       "50%           4.000000\n",
       "75%           4.000000\n",
       "max          56.000000\n",
       "Name: LevDist, dtype: float64"
      ]
     },
     "execution_count": 9,
     "metadata": {},
     "output_type": "execute_result"
    }
   ],
   "source": [
    "str_df[str_df['Rearranged'] == True].LevDist.describe()"
   ]
  },
  {
   "cell_type": "code",
   "execution_count": 10,
   "id": "military-coordinator",
   "metadata": {},
   "outputs": [
    {
     "data": {
      "text/plain": [
       "count    1.434949e+07\n",
       "mean     1.153558e+01\n",
       "std      5.467439e+00\n",
       "min      0.000000e+00\n",
       "25%      9.000000e+00\n",
       "50%      1.200000e+01\n",
       "75%      1.400000e+01\n",
       "max      1.445000e+03\n",
       "Name: LevDist, dtype: float64"
      ]
     },
     "execution_count": 10,
     "metadata": {},
     "output_type": "execute_result"
    }
   ],
   "source": [
    "str_df.LevDist.describe()"
   ]
  },
  {
   "cell_type": "code",
   "execution_count": 11,
   "id": "european-treat",
   "metadata": {},
   "outputs": [
    {
     "data": {
      "text/plain": [
       "Text(0.5, 1.0, 'count v/s Lev edit distances')"
      ]
     },
     "execution_count": 11,
     "metadata": {},
     "output_type": "execute_result"
    },
    {
     "data": {
      "image/png": "[encoded data removed]",
      "text/plain": [
       "<Figure size 432x288 with 1 Axes>"
      ]
     },
     "metadata": {
      "needs_background": "light"
     },
     "output_type": "display_data"
    }
   ],
   "source": [
    "str_df.LevDist.hist(bins=50).set_title(\"count v/s Lev edit distances\")"
   ]
  },
  {
   "cell_type": "code",
   "execution_count": 12,
   "id": "dangerous-civilian",
   "metadata": {},
   "outputs": [
    {
     "data": {
      "text/plain": [
       "[Text(0.5, 0, 'Levenshtein Distance'), Text(0, 0.5, 'Count (in millions)')]"
      ]
     },
     "execution_count": 12,
     "metadata": {},
     "output_type": "execute_result"
    },
    {
     "data": {
      "image/png": "[encoded data removed]",
      "text/plain": [
       "<Figure size 720x432 with 1 Axes>"
      ]
     },
     "metadata": {
      "needs_background": "light"
     },
     "output_type": "display_data"
    }
   ],
   "source": [
    "import seaborn as sns\n",
    "import matplotlib.pyplot as plt\n",
    "plt.figure(figsize=(10, 6))\n",
    "ax = sns.histplot(data=str_df[str_df.LevDist <= 40], x=\"LevDist\", bins=100)\n",
    "ax.set(xlabel=\"Levenshtein Distance\", ylabel = \"Count (in millions)\")"
   ]
  },
  {
   "cell_type": "code",
   "execution_count": 13,
   "id": "hundred-bowling",
   "metadata": {},
   "outputs": [],
   "source": [
    "# pd.qcut(str_df[str_df.LevDist <= 100]['LevDist'], q=100, retbins=True)"
   ]
  },
  {
   "cell_type": "code",
   "execution_count": null,
   "id": "quarterly-shock",
   "metadata": {},
   "outputs": [],
   "source": [
    "str_df.LevDist[str_df.LevDist <= 20].hist(bins=100).set_title(\"count v/s Lev edit distances till 20\")"
   ]
  },
  {
   "cell_type": "code",
   "execution_count": null,
   "id": "entire-candle",
   "metadata": {},
   "outputs": [],
   "source": [
    "!kgtk ifnotexists -i ../../opAnalysis/removed_statements_both_nonredirects_node2_string.tsv     \\\n",
    "    --filter-on ../../opAnalysis/removed_statements_both_nonredirects_str_new_vals.tsv     \\\n",
    "    --filter-mode NONE \\\n",
    "    --input-keys node1 label \\\n",
    "    --filter-keys node1 label \\\n",
    "    -o ../../opAnalysis/removed_statements_both_nonredirects_str_not_updated.tsv"
   ]
  },
  {
   "cell_type": "code",
   "execution_count": 35,
   "id": "similar-nevada",
   "metadata": {},
   "outputs": [
    {
     "name": "stdout",
     "output_type": "stream",
     "text": [
      "16922584 ../../opAnalysis/removed_statements_both_nonredirects_str_not_updated.tsv\r\n"
     ]
    }
   ],
   "source": [
    "!wc -l ../../opAnalysis/removed_statements_both_nonredirects_str_not_updated.tsv"
   ]
  },
  {
   "cell_type": "markdown",
   "id": "administrative-barbados",
   "metadata": {},
   "source": [
    "### Dates Comparison"
   ]
  },
  {
   "cell_type": "code",
   "execution_count": 63,
   "id": "creative-office",
   "metadata": {},
   "outputs": [
    {
     "name": "stdout",
     "output_type": "stream",
     "text": [
      "[2021-03-15 01:44:30 query]: SQL Translation:\n",
      "---------------------------------------------\n",
      "  SELECT graph_22_c1.\"node1\", graph_22_c1.\"label\", graph_22_c1.\"node2\", graph_24_c2.\"label\" \"_aLias.newNode2Label\", graph_24_c2.\"node2\" \"_aLias.newNode2\"\n",
      "     FROM graph_22 AS graph_22_c1, graph_24 AS graph_24_c2\n",
      "     WHERE graph_22_c1.\"node1\"=graph_24_c2.\"node1\"\n",
      "     AND (graph_22_c1.\"label\" = graph_24_c2.\"label\")\n",
      "  PARAS: []\n",
      "---------------------------------------------\n",
      "[2021-03-15 01:44:30 sqlstore]: CREATE INDEX on table graph_22 column node1 ...\n",
      "[2021-03-15 01:44:33 sqlstore]: ANALYZE INDEX on table graph_22 column node1 ...\n",
      "[2021-03-15 01:44:34 sqlstore]: CREATE INDEX on table graph_24 column node1 ...\n",
      "[2021-03-15 01:45:08 sqlstore]: ANALYZE INDEX on table graph_24 column node1 ...\n"
     ]
    }
   ],
   "source": [
    "!kgtk --debug query -i ../../opAnalysis/removed_statements_both_nonredirects_newSeg_date.tsv \\\n",
    "    ../../gdrive-kgtk-dump-2020-12-07/claims.time.tsv.gz \\\n",
    "    --match \"newSeg: (x)-[r]->(y), time: (x)-[s]->(z)\" \\\n",
    "    --where \"r.label = s.label\" \\\n",
    "    --return 'x, r.label, y, s.label as newNode2Label, z as newNode2' \\\n",
    "    -o ../../opAnalysis/removed_statements_both_nonredirects_newSeg_date_new_vals_rightone.tsv \\\n",
    "    --graph-cache ~/temp1.sqlite3.db\n"
   ]
  },
  {
   "cell_type": "code",
   "execution_count": null,
   "id": "identified-calculation",
   "metadata": {},
   "outputs": [],
   "source": [
    "import pandas as pd\n",
    "date_df = pd.read_csv(\"../../opAnalysis/removed_statements_both_nonredirects_newSeg_date_new_vals_rightone.tsv\",sep='\\t')"
   ]
  },
  {
   "cell_type": "code",
   "execution_count": null,
   "id": "federal-cursor",
   "metadata": {},
   "outputs": [],
   "source": [
    "# date_df1 = pd.read_csv(\"../../opAnalysis/removed_statements_both_nonredirects_new_vals_date.tsv\",sep='\\t')"
   ]
  },
  {
   "cell_type": "code",
   "execution_count": null,
   "id": "infinite-handbook",
   "metadata": {},
   "outputs": [],
   "source": [
    "date_df.head()"
   ]
  },
  {
   "cell_type": "code",
   "execution_count": null,
   "id": "established-joining",
   "metadata": {},
   "outputs": [],
   "source": [
    "def parseDate(str):\n",
    "#     try:\n",
    "        if str == '' or str == \" \": return []\n",
    "        elems = []\n",
    "        toFetchI = 1\n",
    "        dash1 = str.find(\"-\",toFetchI)\n",
    "        toFetchI = dash1 + 1\n",
    "        elems.append(int(str[:dash1]))\n",
    "\n",
    "        dash2 = str.find(\"-\",toFetchI)\n",
    "        toFetchI = dash2 + 1\n",
    "        elems.append(int(str[dash1+1:dash2]))\n",
    "\n",
    "        dashT = str.find(\"T\",toFetchI)\n",
    "        toFetchI = dashT + 1\n",
    "        elems.append(int(str[dash2+1:dashT]))\n",
    "\n",
    "        dashC = str.find(\":\",toFetchI)\n",
    "        toFetchI = dashC + 1\n",
    "        elems.append(int(str[dashT+1:dashC]))\n",
    "\n",
    "        dashC2 = str.find(\":\",toFetchI)\n",
    "        toFetchI = dashC2 + 1\n",
    "        elems.append(int(str[dashC+1:dashC2]))\n",
    "\n",
    "        dashZ = str.find(\"Z\",toFetchI)\n",
    "        toFetchI = dashZ + 2\n",
    "        elems.append(int(str[dashC2+1:dashZ]))\n",
    "\n",
    "        elems.append(int(str[toFetchI:]))\n",
    "        return elems\n",
    "#     except:\n",
    "#         print(str)\n",
    "#         return []\n",
    "    "
   ]
  },
  {
   "cell_type": "code",
   "execution_count": null,
   "id": "lucky-gossip",
   "metadata": {},
   "outputs": [],
   "source": [
    "import datetime\n",
    "def validateDate(elems):\n",
    "    if len(elems) == 0:\n",
    "        return False\n",
    "    precision = elems[-1]\n",
    "#     assert precision >= 9\n",
    "    elems = elems[:-1]\n",
    "    if elems[1] == 0: elems[1] = 1\n",
    "    if elems[2] == 0: elems[2] = 1\n",
    "    \n",
    "    if elems[0] < 1970 or elems[0] > 9999: \n",
    "        if elems[0] % 400 == 0 or (elems[0] % 4 == 0 and elems[0] % 100 != 0):\n",
    "            elems[0] = 1972\n",
    "        else:\n",
    "            elems[0] = 1970\n",
    "    if precision < 0 or precision > 14:\n",
    "        return False\n",
    "    try:\n",
    "        datetime.datetime(*elems)\n",
    "        return True\n",
    "    except:\n",
    "        return False\n",
    "    return status"
   ]
  },
  {
   "cell_type": "code",
   "execution_count": null,
   "id": "executed-theater",
   "metadata": {},
   "outputs": [],
   "source": [
    "validateDate(parseDate(\"1887-00-00T00:00:00Z/9\"))"
   ]
  },
  {
   "cell_type": "code",
   "execution_count": null,
   "id": "enormous-carpet",
   "metadata": {},
   "outputs": [],
   "source": [
    "datetime.datetime(*[1948, 2, 29, 0, 0, 0, 11])"
   ]
  },
  {
   "cell_type": "code",
   "execution_count": null,
   "id": "complete-index",
   "metadata": {},
   "outputs": [],
   "source": [
    "date_df['parsed_date'] = date_df['node2'].apply(lambda x: parseDate(x[1:]))\n",
    "date_df['parsed_date2'] = date_df['newNode2'].apply(lambda x: parseDate(x[1:]))\n",
    "date_df['valid_date'] = date_df['node2'].apply(lambda x: validateDate(parseDate(x[1:])))\n",
    "date_df['same_date'] = date_df.apply(lambda p: p.parsed_date == p.parsed_date2, axis=1)\n",
    "date_df['str_same_date'] = date_df.apply(lambda p: p.node2 == p.newNode2, axis=1)"
   ]
  },
  {
   "cell_type": "code",
   "execution_count": null,
   "id": "surface-warehouse",
   "metadata": {},
   "outputs": [],
   "source": [
    "len(date_df)"
   ]
  },
  {
   "cell_type": "code",
   "execution_count": null,
   "id": "diagnostic-satellite",
   "metadata": {},
   "outputs": [],
   "source": [
    "date_df[date_df['valid_date'] == False]"
   ]
  },
  {
   "cell_type": "code",
   "execution_count": null,
   "id": "seventh-sister",
   "metadata": {},
   "outputs": [],
   "source": [
    "date_df[date_df['same_date']]"
   ]
  },
  {
   "cell_type": "code",
   "execution_count": null,
   "id": "failing-mileage",
   "metadata": {},
   "outputs": [],
   "source": [
    "print(f\"No. of deleted statements having exact same date in dataset as of 7th December 2020: {sum(date_df['str_same_date'])}\")"
   ]
  },
  {
   "cell_type": "code",
   "execution_count": null,
   "id": "clean-canon",
   "metadata": {},
   "outputs": [],
   "source": [
    "import sys\n",
    "def customTimeDelta(date1,date2):\n",
    "    try:\n",
    "#         print(date1,date2)\n",
    "        if date1[0] > sys.maxint or date2[0] > sys.maxint:\n",
    "            return None\n",
    "        if date1 == None or date2 == None:\n",
    "            return None\n",
    "        date1 = datetime.datetime(*date1[:-1])\n",
    "        date2 = datetime.datetime(*date2[:-1])\n",
    "        timeDelta = date1 - date2\n",
    "        return timeDelta\n",
    "    except OverflowError:\n",
    "        return None\n",
    "    except TypeError:\n",
    "        return None\n",
    "    except:\n",
    "        return None"
   ]
  },
  {
   "cell_type": "code",
   "execution_count": null,
   "id": "waiting-thumbnail",
   "metadata": {},
   "outputs": [],
   "source": [
    "date_df1 = date_df[(date_df['valid_date'] == True) & (date_df['same_date'] == False)]"
   ]
  },
  {
   "cell_type": "code",
   "execution_count": null,
   "id": "superior-gothic",
   "metadata": {},
   "outputs": [],
   "source": [
    "date_df1['time_delta'] = date_df1.apply(lambda x: customTimeDelta(x.parsed_date, x.parsed_date2), axis=1)"
   ]
  },
  {
   "cell_type": "code",
   "execution_count": null,
   "id": "muslim-stephen",
   "metadata": {},
   "outputs": [],
   "source": [
    "date_df1['time_delta']"
   ]
  },
  {
   "cell_type": "markdown",
   "id": "relative-tomorrow",
   "metadata": {},
   "source": [
    "### Numeric Values Comparison"
   ]
  },
  {
   "cell_type": "code",
   "execution_count": null,
   "id": "revolutionary-mistake",
   "metadata": {},
   "outputs": [],
   "source": [
    "!kgtk --debug query -i ../../opAnalysis/removed_statements_both_nonredirects.tsv \\\n",
    "    ../../gdrive-kgtk-dump-2020-12-07/metadata.property.datatypes.tsv.gz \\\n",
    "    --match \"non: (x)-[r{label: property}]->(y), datatypes: (property)-[]->(:quantity)\" \\\n",
    "    -o ../../opAnalysis/removed_statements_both_nonredirects_num_qty.tsv\n"
   ]
  },
  {
   "cell_type": "code",
   "execution_count": 1,
   "id": "eight-haven",
   "metadata": {},
   "outputs": [
    {
     "name": "stdout",
     "output_type": "stream",
     "text": [
      "4323460 ../../opAnalysis/removed_statements_both_nonredirects_num_qty.tsv\r\n"
     ]
    }
   ],
   "source": [
    "!wc -l ../../opAnalysis/removed_statements_both_nonredirects_num_qty.tsv"
   ]
  },
  {
   "cell_type": "code",
   "execution_count": 2,
   "id": "unknown-nirvana",
   "metadata": {},
   "outputs": [
    {
     "name": "stdout",
     "output_type": "stream",
     "text": [
      "[2021-04-09 15:19:10 sqlstore]: IMPORT graph directly into table graph_71 from /data/wd-correctness/opAnalysis/removed_statements_both_nonredirects_num_qty.tsv ...\n",
      "[2021-04-09 15:19:30 query]: SQL Translation:\n",
      "---------------------------------------------\n",
      "  SELECT graph_71_c1.\"node1\", graph_71_c1.\"label\", graph_71_c1.\"node2\", graph_51_c2.\"label\" \"_aLias.node2;newLabel\", graph_51_c2.\"node2\" \"_aLias.node2;newVal\"\n",
      "     FROM graph_51 AS graph_51_c2, graph_71 AS graph_71_c1\n",
      "     WHERE graph_51_c2.\"node1\"=graph_71_c1.\"node1\"\n",
      "     AND (graph_71_c1.\"label\" = graph_51_c2.\"label\")\n",
      "  PARAS: []\n",
      "---------------------------------------------\n",
      "[2021-04-09 15:19:30 sqlstore]: CREATE INDEX on table graph_71 column node1 ...\n",
      "[2021-04-09 15:19:32 sqlstore]: ANALYZE INDEX on table graph_71 column node1 ...\n"
     ]
    }
   ],
   "source": [
    "!kgtk --debug query -i ../../opAnalysis/removed_statements_both_nonredirects_num_qty.tsv \\\n",
    "    ../../gdrive-kgtk-dump-2020-12-07/claims.quantity.tsv.gz \\\n",
    "    --match \"non: (x)-[r]->(y), quantity: (x)-[s]->(z)\" \\\n",
    "    --where \"r.label = s.label\" \\\n",
    "    --return 'x, r.label, y, s.label as `node2;newLabel`, z as `node2;newVal`' \\\n",
    "    -o ../../opAnalysis/removed_statements_both_nonredirects_num_new_vals_rightone2.tsv\n"
   ]
  },
  {
   "cell_type": "code",
   "execution_count": 10,
   "id": "convertible-softball",
   "metadata": {},
   "outputs": [
    {
     "name": "stdout",
     "output_type": "stream",
     "text": [
      "3239699 ../../opAnalysis/removed_statements_both_nonredirects_node2_num.tsv\r\n"
     ]
    }
   ],
   "source": [
    "!wc -l ../../opAnalysis/removed_statements_both_nonredirects_node2_num.tsv"
   ]
  },
  {
   "cell_type": "code",
   "execution_count": 61,
   "id": "unlikely-overhead",
   "metadata": {},
   "outputs": [
    {
     "name": "stdout",
     "output_type": "stream",
     "text": [
      "168439415 ../../opAnalysis/removed_statements_both_nonredirects_num_new_vals_rightone1.tsv\r\n"
     ]
    }
   ],
   "source": [
    "!wc -l ../../opAnalysis/removed_statements_both_nonredirects_num_new_vals_rightone1.tsv"
   ]
  },
  {
   "cell_type": "code",
   "execution_count": 3,
   "id": "historical-copying",
   "metadata": {},
   "outputs": [
    {
     "name": "stdout",
     "output_type": "stream",
     "text": [
      "[2021-04-09 15:26:38 sqlstore]: IMPORT graph directly into table graph_72 from /data/wd-correctness/opAnalysis/removed_statements_both_nonredirects_num_new_vals_rightone2.tsv ...\n",
      "[2021-04-09 15:29:43 query]: SQL Translation:\n",
      "---------------------------------------------\n",
      "  SELECT graph_72_c1.\"node1\", graph_72_c1.\"label\", graph_72_c1.\"node2\", graph_72_c1.\"node2;newLabel\" \"_aLias.node2;newLabel\", max(graph_72_c1.\"node2;newVal\") \"_aLias.node2;newValue\", count(graph_72_c1.\"node2;newVal\") \"_aLias.node2;branching\"\n",
      "     FROM graph_72 AS graph_72_c1\n",
      "     WHERE graph_72_c1.\"node2;newLabel\"=graph_72_c1.\"node2;newLabel\"\n",
      "     AND graph_72_c1.\"node2;newVal\"=graph_72_c1.\"node2;newVal\"\n",
      "     GROUP BY graph_72_c1.\"node1\", graph_72_c1.\"label\", graph_72_c1.\"node2\", \"_aLias.node2;newLabel\"\n",
      "  PARAS: []\n",
      "---------------------------------------------\n"
     ]
    }
   ],
   "source": [
    "!kgtk --debug query -i ../../opAnalysis/removed_statements_both_nonredirects_num_new_vals_rightone2.tsv \\\n",
    "    --match \"(node1)-[r]->(node2{newLabel: newLabel, newVal: newValue})\" \\\n",
    "    --return 'node1, r.label, node2, newLabel as `node2;newLabel`, max(newValue) as `node2;newValue`, count(newValue) as `node2;branching`' \\\n",
    "    -o ../../opAnalysis/removed_statements_both_nonredirects_num_new_vals_truncated2.tsv"
   ]
  },
  {
   "cell_type": "code",
   "execution_count": 4,
   "id": "waiting-citizenship",
   "metadata": {},
   "outputs": [],
   "source": [
    "import pandas as pd\n",
    "df1 = pd.read_csv(\"../../opAnalysis/removed_statements_both_nonredirects_num_new_vals_truncated2.tsv\",sep='\\t')"
   ]
  },
  {
   "cell_type": "code",
   "execution_count": 5,
   "id": "unlike-huntington",
   "metadata": {},
   "outputs": [
    {
     "data": {
      "text/html": [
       "<div>\n",
       "<style scoped>\n",
       "    .dataframe tbody tr th:only-of-type {\n",
       "        vertical-align: middle;\n",
       "    }\n",
       "\n",
       "    .dataframe tbody tr th {\n",
       "        vertical-align: top;\n",
       "    }\n",
       "\n",
       "    .dataframe thead th {\n",
       "        text-align: right;\n",
       "    }\n",
       "</style>\n",
       "<table border=\"1\" class=\"dataframe\">\n",
       "  <thead>\n",
       "    <tr style=\"text-align: right;\">\n",
       "      <th></th>\n",
       "      <th>node1</th>\n",
       "      <th>label</th>\n",
       "      <th>node2</th>\n",
       "      <th>node2;newLabel</th>\n",
       "      <th>node2;newValue</th>\n",
       "      <th>node2;branching</th>\n",
       "    </tr>\n",
       "  </thead>\n",
       "  <tbody>\n",
       "    <tr>\n",
       "      <th>2501639</th>\n",
       "      <td>Q999961</td>\n",
       "      <td>P1082</td>\n",
       "      <td>+17243[+17243,+17243]</td>\n",
       "      <td>P1082</td>\n",
       "      <td>+8883</td>\n",
       "      <td>27</td>\n",
       "    </tr>\n",
       "    <tr>\n",
       "      <th>2501640</th>\n",
       "      <td>Q999961</td>\n",
       "      <td>P1082</td>\n",
       "      <td>+6925</td>\n",
       "      <td>P1082</td>\n",
       "      <td>+8883</td>\n",
       "      <td>27</td>\n",
       "    </tr>\n",
       "    <tr>\n",
       "      <th>2501641</th>\n",
       "      <td>Q999961</td>\n",
       "      <td>P1082</td>\n",
       "      <td>+8653[+8653,+8653]</td>\n",
       "      <td>P1082</td>\n",
       "      <td>+8883</td>\n",
       "      <td>27</td>\n",
       "    </tr>\n",
       "    <tr>\n",
       "      <th>2501642</th>\n",
       "      <td>Q999961</td>\n",
       "      <td>P2046</td>\n",
       "      <td>+23.95Q712226</td>\n",
       "      <td>P2046</td>\n",
       "      <td>+23.952616Q712226</td>\n",
       "      <td>1</td>\n",
       "    </tr>\n",
       "    <tr>\n",
       "      <th>2501643</th>\n",
       "      <td>Q999988</td>\n",
       "      <td>P2046</td>\n",
       "      <td>+1000[+1000,+1000]Q81292</td>\n",
       "      <td>P2046</td>\n",
       "      <td>+1000Q81292</td>\n",
       "      <td>1</td>\n",
       "    </tr>\n",
       "  </tbody>\n",
       "</table>\n",
       "</div>"
      ],
      "text/plain": [
       "           node1  label                     node2 node2;newLabel  \\\n",
       "2501639  Q999961  P1082     +17243[+17243,+17243]          P1082   \n",
       "2501640  Q999961  P1082                     +6925          P1082   \n",
       "2501641  Q999961  P1082        +8653[+8653,+8653]          P1082   \n",
       "2501642  Q999961  P2046             +23.95Q712226          P2046   \n",
       "2501643  Q999988  P2046  +1000[+1000,+1000]Q81292          P2046   \n",
       "\n",
       "            node2;newValue  node2;branching  \n",
       "2501639              +8883               27  \n",
       "2501640              +8883               27  \n",
       "2501641              +8883               27  \n",
       "2501642  +23.952616Q712226                1  \n",
       "2501643        +1000Q81292                1  "
      ]
     },
     "execution_count": 5,
     "metadata": {},
     "output_type": "execute_result"
    }
   ],
   "source": [
    "df1.tail()"
   ]
  },
  {
   "cell_type": "code",
   "execution_count": 6,
   "id": "confident-carolina",
   "metadata": {},
   "outputs": [
    {
     "name": "stdout",
     "output_type": "stream",
     "text": [
      "node1\tlabel\tnode2\tnode2;newLabel\tnode2;newValue\tnode2;branching\r\n",
      "P1733\tP4876\t+1014280\tP4876\t+28977\t1\r\n",
      "P2040\tP4876\t+34596\tP4876\t+38623\t1\r\n",
      "P2349\tP4876\t+12367\tP4876\t+12500\t3\r\n",
      "P2427\tP4876\t+95000\tP4876\t+96793\t4\r\n",
      "P2518\tP4876\t+11126\tP4876\t+11145\t1\r\n",
      "P2725\tP4876\t+2232\tP4876\t+3907\t1\r\n",
      "P2816\tP4876\t+32155\tP4876\t+34149\t2\r\n",
      "P3289\tP4876\t+113576\tP4876\t+123199\t1\r\n",
      "P3400\tP4876\t+123817\tP4876\t+123817\t4\r\n"
     ]
    }
   ],
   "source": [
    "!head ../../opAnalysis/removed_statements_both_nonredirects_num_new_vals_truncated2.tsv"
   ]
  },
  {
   "cell_type": "code",
   "execution_count": 7,
   "id": "adjusted-discretion",
   "metadata": {},
   "outputs": [
    {
     "name": "stdout",
     "output_type": "stream",
     "text": [
      "7\n"
     ]
    }
   ],
   "source": [
    "import re\n",
    "test_str = \"+123817Q\"\n",
    "temp = re.search(r'[a-z]', test_str, re.I)\n",
    "if temp is not None:\n",
    "    print(temp.start())\n",
    "else:\n",
    "    print(\"Not found\")"
   ]
  },
  {
   "cell_type": "code",
   "execution_count": 8,
   "id": "toxic-heart",
   "metadata": {},
   "outputs": [],
   "source": [
    "def splitIntoParts(text):\n",
    "    temp = re.search(r'[a-z]', text, re.I)\n",
    "    firstAlpha1 = -1 if temp is None else temp.start()\n",
    "    alpha1 = \"\" if firstAlpha1 == -1 else text[firstAlpha1:]\n",
    "    text = text if firstAlpha1 == -1 else text[:firstAlpha1]\n",
    "    \n",
    "    temp = re.search(r'\\[', text, re.I)\n",
    "    firstBracket1 = -1 if temp is None else temp.start()\n",
    "    brack1 = \"\" if firstBracket1 == -1 else text[firstBracket1:]\n",
    "    \n",
    "    num1 = text if firstBracket1 == -1 else text[:firstBracket1]\n",
    "    \n",
    "    return num1, brack1, alpha1"
   ]
  },
  {
   "cell_type": "code",
   "execution_count": 9,
   "id": "impressed-monthly",
   "metadata": {},
   "outputs": [
    {
     "data": {
      "text/plain": [
       "('+1234', '[+1, -1]', 'Q12345')"
      ]
     },
     "execution_count": 9,
     "metadata": {},
     "output_type": "execute_result"
    }
   ],
   "source": [
    "splitIntoParts(\"+1234[+1, -1]Q12345\")"
   ]
  },
  {
   "cell_type": "code",
   "execution_count": 10,
   "id": "sunset-fraction",
   "metadata": {},
   "outputs": [
    {
     "data": {
      "application/vnd.jupyter.widget-view+json": {
       "model_id": "c86b1765daec4bc084f0c0f399a69dfd",
       "version_major": 2,
       "version_minor": 0
      },
      "text/plain": [
       "  0%|          | 0/2501645 [00:00<?, ?it/s]"
      ]
     },
     "metadata": {},
     "output_type": "display_data"
    },
    {
     "ename": "IndexError",
     "evalue": "list index out of range",
     "output_type": "error",
     "traceback": [
      "\u001b[0;31m---------------------------------------------------------------------------\u001b[0m",
      "\u001b[0;31mIndexError\u001b[0m                                Traceback (most recent call last)",
      "\u001b[0;32m<ipython-input-10-fbed13436405>\u001b[0m in \u001b[0;36m<module>\u001b[0;34m\u001b[0m\n\u001b[1;32m     23\u001b[0m \u001b[0;32mfor\u001b[0m \u001b[0mi\u001b[0m \u001b[0;32min\u001b[0m \u001b[0mtqdm\u001b[0m\u001b[0;34m(\u001b[0m\u001b[0mrange\u001b[0m\u001b[0;34m(\u001b[0m\u001b[0;36m1\u001b[0m\u001b[0;34m,\u001b[0m\u001b[0mlen\u001b[0m\u001b[0;34m(\u001b[0m\u001b[0mf1\u001b[0m\u001b[0;34m)\u001b[0m\u001b[0;34m)\u001b[0m\u001b[0;34m)\u001b[0m\u001b[0;34m:\u001b[0m\u001b[0;34m\u001b[0m\u001b[0;34m\u001b[0m\u001b[0m\n\u001b[1;32m     24\u001b[0m     \u001b[0mline\u001b[0m \u001b[0;34m=\u001b[0m \u001b[0mf1\u001b[0m\u001b[0;34m[\u001b[0m\u001b[0mi\u001b[0m\u001b[0;34m]\u001b[0m\u001b[0;34m\u001b[0m\u001b[0;34m\u001b[0m\u001b[0m\n\u001b[0;32m---> 25\u001b[0;31m     \u001b[0mval1\u001b[0m \u001b[0;34m=\u001b[0m \u001b[0mline\u001b[0m\u001b[0;34m.\u001b[0m\u001b[0msplit\u001b[0m\u001b[0;34m(\u001b[0m\u001b[0;34m\"\\t\"\u001b[0m\u001b[0;34m)\u001b[0m\u001b[0;34m[\u001b[0m\u001b[0;36m2\u001b[0m\u001b[0;34m]\u001b[0m\u001b[0;34m\u001b[0m\u001b[0;34m\u001b[0m\u001b[0m\n\u001b[0m\u001b[1;32m     26\u001b[0m     \u001b[0mval2\u001b[0m \u001b[0;34m=\u001b[0m \u001b[0mline\u001b[0m\u001b[0;34m.\u001b[0m\u001b[0msplit\u001b[0m\u001b[0;34m(\u001b[0m\u001b[0;34m\"\\t\"\u001b[0m\u001b[0;34m)\u001b[0m\u001b[0;34m[\u001b[0m\u001b[0;36m4\u001b[0m\u001b[0;34m]\u001b[0m\u001b[0;34m\u001b[0m\u001b[0;34m\u001b[0m\u001b[0m\n\u001b[1;32m     27\u001b[0m \u001b[0;34m\u001b[0m\u001b[0m\n",
      "\u001b[0;31mIndexError\u001b[0m: list index out of range"
     ]
    }
   ],
   "source": [
    "from dateutil.parser import parse\n",
    "import re\n",
    "import rltk\n",
    "from rltk.similarity import levenshtein_distance as ld\n",
    "from nltk.tokenize import word_tokenize as wt\n",
    "from tqdm.notebook import tqdm\n",
    "\n",
    "def is_num(string):\n",
    "    try: \n",
    "        float(string)\n",
    "        return True\n",
    "\n",
    "    except ValueError:\n",
    "        return False\n",
    "    \n",
    "f1 = open(\"../../opAnalysis/removed_statements_both_nonredirects_num_new_vals_truncated2.tsv\",\"r\").read().split(\"\\n\")\n",
    "fNum = open(\"../../opAnalysis/removed_statements_both_nonredirects_num_new_vals_truncated_measured2.tsv\",\"w\")\n",
    "firstLine = f1[0]\n",
    "\n",
    "fNum.write(firstLine+\"\\tNumNE\\tRangeNE\\tNumNRangeNE\\tUnitNE\\n\")\n",
    "# fnonQnd.write(f1[0]+\"\\n\")\n",
    "\n",
    "for i in tqdm(range(1,len(f1))):\n",
    "    line = f1[i]\n",
    "    val1 = line.split(\"\\t\")[2]\n",
    "    val2 = line.split(\"\\t\")[4]\n",
    "    \n",
    "    \n",
    "    num1, brack1, alpha1 = splitIntoParts(val1)\n",
    "    num2, brack2, alpha2 = splitIntoParts(val2)\n",
    "    \n",
    "#     print(val1, num1, brack1, alpha1)\n",
    "#     print(val2, num2, brack2, alpha2)\n",
    "    \n",
    "    fNum.write(line + \"\\t\" + str(num1 != num2) + \"\\t\" + str(brack1 != brack2) + \"\\t\" + str((num1 != num2) and (brack1 != brack2)) + \"\\t\" + str(alpha1 != alpha2) + \"\\n\")\n",
    "\n",
    "fNum.close()"
   ]
  },
  {
   "cell_type": "code",
   "execution_count": 11,
   "id": "impaired-venue",
   "metadata": {},
   "outputs": [],
   "source": [
    "import pandas as pd\n",
    "num_df = pd.read_csv(\"../../opAnalysis/removed_statements_both_nonredirects_num_new_vals_truncated_measured2.tsv\",sep='\\t')"
   ]
  },
  {
   "cell_type": "code",
   "execution_count": 12,
   "id": "strange-alcohol",
   "metadata": {},
   "outputs": [
    {
     "data": {
      "text/html": [
       "<div>\n",
       "<style scoped>\n",
       "    .dataframe tbody tr th:only-of-type {\n",
       "        vertical-align: middle;\n",
       "    }\n",
       "\n",
       "    .dataframe tbody tr th {\n",
       "        vertical-align: top;\n",
       "    }\n",
       "\n",
       "    .dataframe thead th {\n",
       "        text-align: right;\n",
       "    }\n",
       "</style>\n",
       "<table border=\"1\" class=\"dataframe\">\n",
       "  <thead>\n",
       "    <tr style=\"text-align: right;\">\n",
       "      <th></th>\n",
       "      <th>node1</th>\n",
       "      <th>label</th>\n",
       "      <th>node2</th>\n",
       "      <th>node2;newLabel</th>\n",
       "      <th>node2;newValue</th>\n",
       "      <th>node2;branching</th>\n",
       "      <th>NumNE</th>\n",
       "      <th>RangeNE</th>\n",
       "      <th>NumNRangeNE</th>\n",
       "      <th>UnitNE</th>\n",
       "    </tr>\n",
       "  </thead>\n",
       "  <tbody>\n",
       "    <tr>\n",
       "      <th>0</th>\n",
       "      <td>P1733</td>\n",
       "      <td>P4876</td>\n",
       "      <td>+1014280</td>\n",
       "      <td>P4876</td>\n",
       "      <td>+28977</td>\n",
       "      <td>1</td>\n",
       "      <td>True</td>\n",
       "      <td>False</td>\n",
       "      <td>False</td>\n",
       "      <td>False</td>\n",
       "    </tr>\n",
       "    <tr>\n",
       "      <th>1</th>\n",
       "      <td>P2040</td>\n",
       "      <td>P4876</td>\n",
       "      <td>+34596</td>\n",
       "      <td>P4876</td>\n",
       "      <td>+38623</td>\n",
       "      <td>1</td>\n",
       "      <td>True</td>\n",
       "      <td>False</td>\n",
       "      <td>False</td>\n",
       "      <td>False</td>\n",
       "    </tr>\n",
       "    <tr>\n",
       "      <th>2</th>\n",
       "      <td>P2349</td>\n",
       "      <td>P4876</td>\n",
       "      <td>+12367</td>\n",
       "      <td>P4876</td>\n",
       "      <td>+12500</td>\n",
       "      <td>3</td>\n",
       "      <td>True</td>\n",
       "      <td>False</td>\n",
       "      <td>False</td>\n",
       "      <td>False</td>\n",
       "    </tr>\n",
       "    <tr>\n",
       "      <th>3</th>\n",
       "      <td>P2427</td>\n",
       "      <td>P4876</td>\n",
       "      <td>+95000</td>\n",
       "      <td>P4876</td>\n",
       "      <td>+96793</td>\n",
       "      <td>4</td>\n",
       "      <td>True</td>\n",
       "      <td>False</td>\n",
       "      <td>False</td>\n",
       "      <td>False</td>\n",
       "    </tr>\n",
       "    <tr>\n",
       "      <th>4</th>\n",
       "      <td>P2518</td>\n",
       "      <td>P4876</td>\n",
       "      <td>+11126</td>\n",
       "      <td>P4876</td>\n",
       "      <td>+11145</td>\n",
       "      <td>1</td>\n",
       "      <td>True</td>\n",
       "      <td>False</td>\n",
       "      <td>False</td>\n",
       "      <td>False</td>\n",
       "    </tr>\n",
       "  </tbody>\n",
       "</table>\n",
       "</div>"
      ],
      "text/plain": [
       "   node1  label     node2 node2;newLabel node2;newValue  node2;branching  \\\n",
       "0  P1733  P4876  +1014280          P4876         +28977                1   \n",
       "1  P2040  P4876    +34596          P4876         +38623                1   \n",
       "2  P2349  P4876    +12367          P4876         +12500                3   \n",
       "3  P2427  P4876    +95000          P4876         +96793                4   \n",
       "4  P2518  P4876    +11126          P4876         +11145                1   \n",
       "\n",
       "   NumNE  RangeNE  NumNRangeNE  UnitNE  \n",
       "0   True    False        False   False  \n",
       "1   True    False        False   False  \n",
       "2   True    False        False   False  \n",
       "3   True    False        False   False  \n",
       "4   True    False        False   False  "
      ]
     },
     "execution_count": 12,
     "metadata": {},
     "output_type": "execute_result"
    }
   ],
   "source": [
    "num_df.head()"
   ]
  },
  {
   "cell_type": "code",
   "execution_count": 13,
   "id": "hindu-merit",
   "metadata": {},
   "outputs": [
    {
     "name": "stdout",
     "output_type": "stream",
     "text": [
      "168439415 ../../opAnalysis/removed_statements_both_nonredirects_num_new_vals_rightone1.tsv\r\n"
     ]
    }
   ],
   "source": [
    "!wc -l ../../opAnalysis/removed_statements_both_nonredirects_num_new_vals_rightone1.tsv"
   ]
  },
  {
   "cell_type": "code",
   "execution_count": 14,
   "id": "hollywood-boring",
   "metadata": {},
   "outputs": [
    {
     "data": {
      "text/plain": [
       "count    2.501575e+06\n",
       "mean     6.733284e+01\n",
       "std      5.003042e+02\n",
       "min      1.000000e+00\n",
       "25%      1.000000e+00\n",
       "50%      2.000000e+00\n",
       "75%      1.100000e+01\n",
       "max      2.132100e+04\n",
       "Name: node2;branching, dtype: float64"
      ]
     },
     "execution_count": 14,
     "metadata": {},
     "output_type": "execute_result"
    }
   ],
   "source": [
    "num_df['node2;branching'].describe()"
   ]
  },
  {
   "cell_type": "code",
   "execution_count": 15,
   "id": "moral-history",
   "metadata": {},
   "outputs": [
    {
     "name": "stdout",
     "output_type": "stream",
     "text": [
      "Out of 2501575 quantities, there are 1496454 cases where numbers have got updated, 2037283 cases where ranges have got updated, 1069289 cases where number and range both have got updated, 78048 cases were the unit has got updated\n"
     ]
    }
   ],
   "source": [
    "print(f\"Out of {len(num_df)} quantities, there are {num_df['NumNE'].sum()} cases where numbers have got updated, {num_df['RangeNE'].sum()} cases where ranges have got updated, {num_df['NumNRangeNE'].sum()} cases where number and range both have got updated, {num_df['UnitNE'].sum()} cases were the unit has got updated\")"
   ]
  },
  {
   "cell_type": "markdown",
   "id": "muslim-dryer",
   "metadata": {},
   "source": [
    "### Qnodes comparison"
   ]
  },
  {
   "cell_type": "markdown",
   "id": "brilliant-picnic",
   "metadata": {},
   "source": [
    "#### Qnodes type segregation\n",
    "\n",
    "Here, for each qnode to qnode removed statement, we analyze:\n",
    "* How many statements have node1 which is an instance/subclass/both of something else\n",
    "* How many statements have node2 which is an instance/subclass/both of something else"
   ]
  },
  {
   "cell_type": "code",
   "execution_count": null,
   "id": "described-america",
   "metadata": {},
   "outputs": [],
   "source": [
    "!kgtk ifexists -i ../../opAnalysis/removed_statements_both_nonredirects_node2_qnode.tsv \\\n",
    "    --filter-on ../../wikidata-20210215/derived.P31.tsv.gz \\\n",
    "    --filter-mode NONE \\\n",
    "    --input-keys node1 \\\n",
    "    --filter-keys node1 \\\n",
    "    -o ../../opAnalysis/removed_statements_both_nonredirects_node_qnode1.P31.tsv"
   ]
  },
  {
   "cell_type": "code",
   "execution_count": null,
   "id": "universal-surprise",
   "metadata": {},
   "outputs": [],
   "source": [
    "!kgtk ifexists -i ../../opAnalysis/removed_statements_both_nonredirects_node2_qnode.tsv \\\n",
    "    --filter-on ../../wikidata-20210215/derived.P279.tsv.gz \\\n",
    "    --filter-mode NONE \\\n",
    "    --input-keys node1 \\\n",
    "    --filter-keys node1 \\\n",
    "    -o ../../opAnalysis/removed_statements_both_nonredirects_node_qnode1.P279.tsv"
   ]
  },
  {
   "cell_type": "code",
   "execution_count": 60,
   "id": "elder-tissue",
   "metadata": {},
   "outputs": [],
   "source": [
    "!kgtk ifexists -i ../../opAnalysis/removed_statements_both_nonredirects_node_qnode1.P279.tsv \\\n",
    "    --filter-on ../../wikidata-20210215/derived.P31.tsv.gz \\\n",
    "    --filter-mode NONE \\\n",
    "    --input-keys node1 \\\n",
    "    --filter-keys node1 \\\n",
    "    -o ../../opAnalysis/removed_statements_both_nonredirects_node_qnode1.P31andP279.tsv"
   ]
  },
  {
   "cell_type": "code",
   "execution_count": null,
   "id": "killing-emphasis",
   "metadata": {},
   "outputs": [],
   "source": [
    "!kgtk ifexists -i ../../opAnalysis/removed_statements_both_nonredirects_node2_qnode.tsv \\\n",
    "    --filter-on ../../wikidata-20210215/derived.P31.tsv.gz \\\n",
    "    --filter-mode NONE \\\n",
    "    --input-keys node2 \\\n",
    "    --filter-keys node1 \\\n",
    "    -o ../../opAnalysis/removed_statements_both_nonredirects_node_qnode2.P31.tsv"
   ]
  },
  {
   "cell_type": "code",
   "execution_count": null,
   "id": "answering-sheriff",
   "metadata": {},
   "outputs": [],
   "source": [
    "!kgtk ifexists -i ../../opAnalysis/removed_statements_both_nonredirects_node2_qnode.tsv \\\n",
    "    --filter-on ../../wikidata-20210215/derived.P279.tsv.gz \\\n",
    "    --filter-mode NONE \\\n",
    "    --input-keys node2 \\\n",
    "    --filter-keys node1 \\\n",
    "    -o ../../opAnalysis/removed_statements_both_nonredirects_node_qnode2.P279.tsv"
   ]
  },
  {
   "cell_type": "code",
   "execution_count": 61,
   "id": "intimate-sullivan",
   "metadata": {},
   "outputs": [],
   "source": [
    "!kgtk ifexists -i ../../opAnalysis/removed_statements_both_nonredirects_node_qnode2.P279.tsv \\\n",
    "    --filter-on ../../wikidata-20210215/derived.P31.tsv.gz \\\n",
    "    --filter-mode NONE \\\n",
    "    --input-keys node2 \\\n",
    "    --filter-keys node1 \\\n",
    "    -o ../../opAnalysis/removed_statements_both_nonredirects_node_qnode2.P31andP279.tsv"
   ]
  },
  {
   "cell_type": "code",
   "execution_count": 57,
   "id": "surprising-clone",
   "metadata": {},
   "outputs": [
    {
     "name": "stdout",
     "output_type": "stream",
     "text": [
      "15682364 ../../opAnalysis/removed_statements_both_nonredirects_node2_qnode.tsv\r\n"
     ]
    }
   ],
   "source": [
    "!wc -l ../../opAnalysis/removed_statements_both_nonredirects_node2_qnode.tsv"
   ]
  },
  {
   "cell_type": "code",
   "execution_count": 62,
   "id": "innovative-thread",
   "metadata": {},
   "outputs": [
    {
     "name": "stdout",
     "output_type": "stream",
     "text": [
      "   3500869 ../../opAnalysis/removed_statements_both_nonredirects_node_qnode1.P279.tsv\n",
      "   3396316 ../../opAnalysis/removed_statements_both_nonredirects_node_qnode1.P31andP279.tsv\n",
      "  14206459 ../../opAnalysis/removed_statements_both_nonredirects_node_qnode1.P31.tsv\n",
      "  21103644 total\n"
     ]
    }
   ],
   "source": [
    "!wc -l ../../opAnalysis/removed_statements_both_nonredirects_node_qnode1*"
   ]
  },
  {
   "cell_type": "code",
   "execution_count": 63,
   "id": "accompanied-lighting",
   "metadata": {},
   "outputs": [
    {
     "name": "stdout",
     "output_type": "stream",
     "text": [
      "  10064419 ../../opAnalysis/removed_statements_both_nonredirects_node_qnode2.P279.tsv\n",
      "   6622159 ../../opAnalysis/removed_statements_both_nonredirects_node_qnode2.P31andP279.tsv\n",
      "  12057758 ../../opAnalysis/removed_statements_both_nonredirects_node_qnode2.P31.tsv\n",
      "  28744336 total\n"
     ]
    }
   ],
   "source": [
    "!wc -l ../../opAnalysis/removed_statements_both_nonredirects_node_qnode2*"
   ]
  },
  {
   "cell_type": "markdown",
   "id": "verified-vegetable",
   "metadata": {},
   "source": [
    "#### Qnodes to Qnodes (instance/subclass analysis)\n",
    "\n",
    "Here, we analyze how many P31 relations were deleted, how many were updated to P31/P279/nothing. We do the same thing for P279 relations that were deleted"
   ]
  },
  {
   "cell_type": "code",
   "execution_count": null,
   "id": "quick-welsh",
   "metadata": {},
   "outputs": [],
   "source": [
    "!kgtk query -i ../../opAnalysis/removed_statements_both_nonredirects_node2_qnode.tsv \\\n",
    "    --match 'o: (a)-[:P31]->(b)' \\\n",
    "    --return 'count(a)' \\\n",
    "    --graph-cache ~/sqlite3_caches/db1.sqlite3.db \\\n",
    "    -o ../../opAnalysis/removed_statements_both_nonredirects_node2_qnode_count_P31.tsv"
   ]
  },
  {
   "cell_type": "code",
   "execution_count": null,
   "id": "satisfied-philosophy",
   "metadata": {},
   "outputs": [],
   "source": [
    "!kgtk query -i ../../opAnalysis/removed_statements_both_nonredirects_node2_qnode.tsv \\\n",
    "    --match 'o: (a)-[:P31]->(b)' \\\n",
    "    --graph-cache ~/sqlite3_caches/db1.sqlite3.db \\\n",
    "    -o ../../opAnalysis/removed_statements_both_nonredirects_node2_qnode_P31_extract.tsv"
   ]
  },
  {
   "cell_type": "code",
   "execution_count": null,
   "id": "southern-daisy",
   "metadata": {},
   "outputs": [],
   "source": [
    "!kgtk query -i ../../opAnalysis/removed_statements_both_nonredirects_node2_qnode.tsv \\\n",
    "    --match 'o: (a)-[:P279]->(b)' \\\n",
    "    --return 'count(a)' \\\n",
    "    --graph-cache ~/sqlite3_caches/db2.sqlite3.db \\\n",
    "    -o ../../opAnalysis/removed_statements_both_nonredirects_node2_qnode_count_P279.tsv"
   ]
  },
  {
   "cell_type": "code",
   "execution_count": 1,
   "id": "subtle-tract",
   "metadata": {},
   "outputs": [],
   "source": [
    "!kgtk query -i ../../opAnalysis/removed_statements_both_nonredirects_node2_qnode.tsv \\\n",
    "    --match 'o: (a)-[:P279]->(b)' \\\n",
    "    --graph-cache ~/sqlite3_caches/db2.sqlite3.db \\\n",
    "    -o ../../opAnalysis/removed_statements_both_nonredirects_node2_qnode_P279_extract.tsv"
   ]
  },
  {
   "cell_type": "markdown",
   "id": "opponent-bible",
   "metadata": {},
   "source": [
    "##### Analyze for P31 relations"
   ]
  },
  {
   "cell_type": "code",
   "execution_count": 4,
   "id": "soviet-liverpool",
   "metadata": {},
   "outputs": [],
   "source": [
    "!kgtk ifexists -i ../../opAnalysis/removed_statements_both_nonredirects_node2_qnode_P31_extract.tsv \\\n",
    "    --filter-on ../../wikidata-20210215/derived.P31.tsv.gz \\\n",
    "    --filter-mode NONE \\\n",
    "    --input-keys node1 \\\n",
    "    --filter-keys node1 \\\n",
    "    -o ../../opAnalysis/removed_statements_both_nonredirects_node2_qnode_P31_extract_newP31.tsv"
   ]
  },
  {
   "cell_type": "code",
   "execution_count": 5,
   "id": "imposed-pound",
   "metadata": {},
   "outputs": [],
   "source": [
    "!kgtk ifexists -i ../../opAnalysis/removed_statements_both_nonredirects_node2_qnode_P31_extract.tsv \\\n",
    "    --filter-on ../../wikidata-20210215/derived.P279.tsv.gz \\\n",
    "    --filter-mode NONE \\\n",
    "    --input-keys node1 \\\n",
    "    --filter-keys node1 \\\n",
    "    -o ../../opAnalysis/removed_statements_both_nonredirects_node2_qnode_P31_extract_newP279.tsv"
   ]
  },
  {
   "cell_type": "code",
   "execution_count": 16,
   "id": "provincial-limit",
   "metadata": {},
   "outputs": [],
   "source": [
    "!kgtk ifexists -i ../../opAnalysis/removed_statements_both_nonredirects_node2_qnode_P31_extract_newP31.tsv \\\n",
    "    --filter-on ../../wikidata-20210215/derived.P279.tsv.gz \\\n",
    "    --filter-mode NONE \\\n",
    "    --input-keys node1 \\\n",
    "    --filter-keys node1 \\\n",
    "    -o ../../opAnalysis/removed_statements_both_nonredirects_node2_qnode_P31_extract_newP31andP279.tsv"
   ]
  },
  {
   "cell_type": "code",
   "execution_count": 6,
   "id": "dynamic-persian",
   "metadata": {},
   "outputs": [],
   "source": [
    "!kgtk cat -i ../../opAnalysis/removed_statements_both_nonredirects_node2_qnode_P31_extract_newP31.tsv \\\n",
    "    ../../opAnalysis/removed_statements_both_nonredirects_node2_qnode_P31_extract_newP279.tsv \\\n",
    "    -o ../../opAnalysis/removed_statements_both_nonredirects_node2_qnode_P31_extract_newP31orP279.tsv"
   ]
  },
  {
   "cell_type": "code",
   "execution_count": 7,
   "id": "material-routine",
   "metadata": {},
   "outputs": [],
   "source": [
    "!kgtk ifnotexists -i ../../opAnalysis/removed_statements_both_nonredirects_node2_qnode_P31_extract.tsv \\\n",
    "    --filter-on ../../opAnalysis/removed_statements_both_nonredirects_node2_qnode_P31_extract_newP31orP279.tsv \\\n",
    "    --filter-mode NONE \\\n",
    "    --input-keys node1 \\\n",
    "    --filter-keys node1 \\\n",
    "    -o ../../opAnalysis/removed_statements_both_nonredirects_node2_qnode_P31_extract_nothingnew.tsv"
   ]
  },
  {
   "cell_type": "code",
   "execution_count": 18,
   "id": "aboriginal-injection",
   "metadata": {},
   "outputs": [
    {
     "name": "stdout",
     "output_type": "stream",
     "text": [
      "3611396 ../../opAnalysis/removed_statements_both_nonredirects_node2_qnode_P31_extract.tsv\n",
      "2864334 ../../opAnalysis/removed_statements_both_nonredirects_node2_qnode_P31_extract_newP31.tsv\n",
      "150123 ../../opAnalysis/removed_statements_both_nonredirects_node2_qnode_P31_extract_newP279.tsv\n",
      "106540 ../../opAnalysis/removed_statements_both_nonredirects_node2_qnode_P31_extract_newP31andP279.tsv\n",
      "703480 ../../opAnalysis/removed_statements_both_nonredirects_node2_qnode_P31_extract_nothingnew.tsv\n"
     ]
    }
   ],
   "source": [
    "!wc -l ../../opAnalysis/removed_statements_both_nonredirects_node2_qnode_P31_extract.tsv\n",
    "!wc -l ../../opAnalysis/removed_statements_both_nonredirects_node2_qnode_P31_extract_newP31.tsv\n",
    "!wc -l ../../opAnalysis/removed_statements_both_nonredirects_node2_qnode_P31_extract_newP279.tsv\n",
    "!wc -l ../../opAnalysis/removed_statements_both_nonredirects_node2_qnode_P31_extract_newP31andP279.tsv\n",
    "!wc -l ../../opAnalysis/removed_statements_both_nonredirects_node2_qnode_P31_extract_nothingnew.tsv"
   ]
  },
  {
   "cell_type": "code",
   "execution_count": null,
   "id": "perceived-hopkins",
   "metadata": {},
   "outputs": [],
   "source": [
    "!kgtk ifnotexists -i ../../opAnalysis/removed_statements_both_nonredirects_node2_qnode_P31_extract_nothingnew.tsv \\\n",
    "    --filter-on ../../gdrive-kgtk-dump-2020-12-07/claims.tsv.gz \\\n",
    "    --filter-mode NONE \\\n",
    "    --input-keys node1 \\\n",
    "    --filter-keys node1 \\\n",
    "    -o ../../opAnalysis/removed_statements_both_nonredirects_node2_qnode_P31_extract_nothingnew_deleted.tsv"
   ]
  },
  {
   "cell_type": "code",
   "execution_count": 1,
   "id": "antique-neighborhood",
   "metadata": {},
   "outputs": [],
   "source": [
    "!kgtk ifnotexists -i ../../opAnalysis/removed_statements_both_nonredirects_node2_qnode_P31_extract_nothingnew.tsv \\\n",
    "    --filter-on ../../opAnalysis/removed_statements_both_nonredirects_node2_qnode_P31_extract_nothingnew_deleted.tsv \\\n",
    "    -o ../../opAnalysis/removed_statements_both_nonredirects_node2_qnode_P31_extract_nothingnew_existing.tsv"
   ]
  },
  {
   "cell_type": "code",
   "execution_count": 2,
   "id": "alleged-destiny",
   "metadata": {},
   "outputs": [
    {
     "name": "stdout",
     "output_type": "stream",
     "text": [
      "  626925 ../../opAnalysis/removed_statements_both_nonredirects_node2_qnode_P31_extract_nothingnew_deleted.tsv\r\n",
      "   76556 ../../opAnalysis/removed_statements_both_nonredirects_node2_qnode_P31_extract_nothingnew_existing.tsv\r\n",
      "  703481 total\r\n"
     ]
    }
   ],
   "source": [
    "!wc -l ../../opAnalysis/removed_statements_both_nonredirects_node2_qnode_P31_extract_nothingnew_*"
   ]
  },
  {
   "cell_type": "markdown",
   "id": "opposed-palmer",
   "metadata": {},
   "source": [
    "##### Analyze for P279 relations"
   ]
  },
  {
   "cell_type": "code",
   "execution_count": 8,
   "id": "hybrid-hacker",
   "metadata": {},
   "outputs": [],
   "source": [
    "!kgtk ifexists -i ../../opAnalysis/removed_statements_both_nonredirects_node2_qnode_P279_extract.tsv \\\n",
    "    --filter-on ../../wikidata-20210215/derived.P31.tsv.gz \\\n",
    "    --filter-mode NONE \\\n",
    "    --input-keys node1 \\\n",
    "    --filter-keys node1 \\\n",
    "    -o ../../opAnalysis/removed_statements_both_nonredirects_node2_qnode_P279_extract_newP31.tsv"
   ]
  },
  {
   "cell_type": "code",
   "execution_count": 9,
   "id": "reliable-ontario",
   "metadata": {},
   "outputs": [],
   "source": [
    "!kgtk ifexists -i ../../opAnalysis/removed_statements_both_nonredirects_node2_qnode_P279_extract.tsv \\\n",
    "    --filter-on ../../wikidata-20210215/derived.P279.tsv.gz \\\n",
    "    --filter-mode NONE \\\n",
    "    --input-keys node1 \\\n",
    "    --filter-keys node1 \\\n",
    "    -o ../../opAnalysis/removed_statements_both_nonredirects_node2_qnode_P279_extract_newP279.tsv"
   ]
  },
  {
   "cell_type": "code",
   "execution_count": 17,
   "id": "radio-bumper",
   "metadata": {},
   "outputs": [],
   "source": [
    "!kgtk ifexists -i ../../opAnalysis/removed_statements_both_nonredirects_node2_qnode_P279_extract_newP31.tsv \\\n",
    "    --filter-on ../../wikidata-20210215/derived.P279.tsv.gz \\\n",
    "    --filter-mode NONE \\\n",
    "    --input-keys node1 \\\n",
    "    --filter-keys node1 \\\n",
    "    -o ../../opAnalysis/removed_statements_both_nonredirects_node2_qnode_P279_extract_newP31andP279.tsv"
   ]
  },
  {
   "cell_type": "code",
   "execution_count": 10,
   "id": "loving-switzerland",
   "metadata": {},
   "outputs": [],
   "source": [
    "!kgtk cat -i ../../opAnalysis/removed_statements_both_nonredirects_node2_qnode_P279_extract_newP31.tsv \\\n",
    "    ../../opAnalysis/removed_statements_both_nonredirects_node2_qnode_P279_extract_newP279.tsv \\\n",
    "    -o ../../opAnalysis/removed_statements_both_nonredirects_node2_qnode_P279_extract_newP31orP279.tsv"
   ]
  },
  {
   "cell_type": "code",
   "execution_count": 11,
   "id": "prostate-trace",
   "metadata": {},
   "outputs": [],
   "source": [
    "!kgtk ifnotexists -i ../../opAnalysis/removed_statements_both_nonredirects_node2_qnode_P279_extract.tsv \\\n",
    "    --filter-on ../../opAnalysis/removed_statements_both_nonredirects_node2_qnode_P279_extract_newP31orP279.tsv \\\n",
    "    --filter-mode NONE \\\n",
    "    --input-keys node1 \\\n",
    "    --filter-keys node1 \\\n",
    "    -o ../../opAnalysis/removed_statements_both_nonredirects_node2_qnode_P279_extract_nothingnew.tsv"
   ]
  },
  {
   "cell_type": "code",
   "execution_count": 19,
   "id": "subsequent-recovery",
   "metadata": {},
   "outputs": [
    {
     "name": "stdout",
     "output_type": "stream",
     "text": [
      "935667 ../../opAnalysis/removed_statements_both_nonredirects_node2_qnode_P279_extract.tsv\n",
      "865917 ../../opAnalysis/removed_statements_both_nonredirects_node2_qnode_P279_extract_newP31.tsv\n",
      "454917 ../../opAnalysis/removed_statements_both_nonredirects_node2_qnode_P279_extract_newP279.tsv\n",
      "421734 ../../opAnalysis/removed_statements_both_nonredirects_node2_qnode_P279_extract_newP31andP279.tsv\n",
      "36568 ../../opAnalysis/removed_statements_both_nonredirects_node2_qnode_P279_extract_nothingnew.tsv\n"
     ]
    }
   ],
   "source": [
    "!wc -l ../../opAnalysis/removed_statements_both_nonredirects_node2_qnode_P279_extract.tsv\n",
    "!wc -l ../../opAnalysis/removed_statements_both_nonredirects_node2_qnode_P279_extract_newP31.tsv\n",
    "!wc -l ../../opAnalysis/removed_statements_both_nonredirects_node2_qnode_P279_extract_newP279.tsv\n",
    "!wc -l ../../opAnalysis/removed_statements_both_nonredirects_node2_qnode_P279_extract_newP31andP279.tsv\n",
    "!wc -l ../../opAnalysis/removed_statements_both_nonredirects_node2_qnode_P279_extract_nothingnew.tsv"
   ]
  },
  {
   "cell_type": "code",
   "execution_count": 3,
   "id": "hazardous-liberal",
   "metadata": {},
   "outputs": [
    {
     "name": "stdout",
     "output_type": "stream",
     "text": [
      "^C\r\n",
      "\r\n",
      "Keyboard interrupt in ifnotexists -i ../../opAnalysis/removed_statements_both_nonredirects_node2_qnode_P279_extract_nothingnew.tsv --filter-on ../../gdrive-kgtk-dump-2020-12-07/claims.tsv.gz --filter-mode NONE --input-keys node1 --filter-keys node1 -o ../../opAnalysis/removed_statements_both_nonredirects_node2_qnode_P279_extract_nothingnew_deleted.tsv.\r\n"
     ]
    }
   ],
   "source": [
    "!kgtk ifnotexists -i ../../opAnalysis/removed_statements_both_nonredirects_node2_qnode_P279_extract_nothingnew.tsv \\\n",
    "    --filter-on ../../gdrive-kgtk-dump-2020-12-07/claims.tsv.gz \\\n",
    "    --filter-mode NONE \\\n",
    "    --input-keys node1 \\\n",
    "    --filter-keys node1 \\\n",
    "    -o ../../opAnalysis/removed_statements_both_nonredirects_node2_qnode_P279_extract_nothingnew_deleted.tsv"
   ]
  },
  {
   "cell_type": "code",
   "execution_count": 3,
   "id": "manual-embassy",
   "metadata": {},
   "outputs": [],
   "source": [
    "!kgtk ifnotexists -i ../../opAnalysis/removed_statements_both_nonredirects_node2_qnode_P279_extract_nothingnew.tsv \\\n",
    "    --filter-on ../../opAnalysis/removed_statements_both_nonredirects_node2_qnode_P279_extract_nothingnew_deleted.tsv \\\n",
    "    -o ../../opAnalysis/removed_statements_both_nonredirects_node2_qnode_P279_extract_nothingnew_existing.tsv"
   ]
  },
  {
   "cell_type": "code",
   "execution_count": 4,
   "id": "determined-wonder",
   "metadata": {},
   "outputs": [
    {
     "name": "stdout",
     "output_type": "stream",
     "text": [
      "  35004 ../../opAnalysis/removed_statements_both_nonredirects_node2_qnode_P279_extract_nothingnew_deleted.tsv\r\n",
      "   1565 ../../opAnalysis/removed_statements_both_nonredirects_node2_qnode_P279_extract_nothingnew_existing.tsv\r\n",
      "  36569 total\r\n"
     ]
    }
   ],
   "source": [
    "!wc -l ../../opAnalysis/removed_statements_both_nonredirects_node2_qnode_P279_extract_nothingnew_*"
   ]
  },
  {
   "cell_type": "markdown",
   "id": "dramatic-spyware",
   "metadata": {},
   "source": [
    "Fin."
   ]
  },
  {
   "cell_type": "code",
   "execution_count": null,
   "id": "general-hometown",
   "metadata": {},
   "outputs": [],
   "source": []
  }
 ],
 "metadata": {
  "kernelspec": {
   "display_name": "kgtkEnv",
   "language": "python",
   "name": "kgtkenv"
  },
  "language_info": {
   "codemirror_mode": {
    "name": "ipython",
    "version": 3
   },
   "file_extension": ".py",
   "mimetype": "text/x-python",
   "name": "python",
   "nbconvert_exporter": "python",
   "pygments_lexer": "ipython3",
   "version": "3.8.5"
  },
  "toc": {
   "base_numbering": 1,
   "nav_menu": {},
   "number_sections": true,
   "sideBar": true,
   "skip_h1_title": false,
   "title_cell": "Table of Contents",
   "title_sidebar": "Contents",
   "toc_cell": false,
   "toc_position": {
    "height": "calc(100% - 180px)",
    "left": "10px",
    "top": "150px",
    "width": "288px"
   },
   "toc_section_display": true,
   "toc_window_display": true
  },
  "varInspector": {
   "cols": {
    "lenName": 16,
    "lenType": 16,
    "lenVar": 40
   },
   "kernels_config": {
    "python": {
     "delete_cmd_postfix": "",
     "delete_cmd_prefix": "del ",
     "library": "var_list.py",
     "varRefreshCmd": "print(var_dic_list())"
    },
    "r": {
     "delete_cmd_postfix": ") ",
     "delete_cmd_prefix": "rm(",
     "library": "var_list.r",
     "varRefreshCmd": "cat(var_dic_list()) "
    }
   },
   "types_to_exclude": [
    "module",
    "function",
    "builtin_function_or_method",
    "instance",
    "_Feature"
   ],
   "window_display": false
  }
 },
 "nbformat": 4,
 "nbformat_minor": 5
}
