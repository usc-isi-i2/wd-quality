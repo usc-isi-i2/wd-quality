{
 "cells": [
  {
   "cell_type": "code",
   "execution_count": null,
   "id": "juvenile-ability",
   "metadata": {},
   "outputs": [],
   "source": [
    "import gzip\n",
    "from tqdm.notebook import tqdm\n",
    "propFileDict = {}\n",
    "fileLineCount = 1149471184\n",
    "with gzip.open('../../gdrive-kgtk-dump-2020-12-07/claims.tsv.gz','r') as fin: \n",
    "    headerLine = next(fin).decode(\"utf-8\")\n",
    "#     tstCount = 0\n",
    "    for line in tqdm(fin, total = fileLineCount):\n",
    "        line = line.decode(\"utf-8\")\n",
    "        lineP = line.rstrip().split(\"\\t\")\n",
    "        if \"external-id\" in lineP[-1]:\n",
    "            continue\n",
    "        prop = lineP[2]\n",
    "        print('got line', lineP)\n",
    "        if prop not in propFileDict:\n",
    "            propFileDict[prop] = open(\"../../propertiesSplit/claims.\"+str(prop)+\".tsv\",\"w\")\n",
    "            propFileDict[prop].write(headerLine)\n",
    "        propFileDict[prop].write(line)\n",
    "#         tstCount += 1\n",
    "#         if tstCount == 10:\n",
    "#             break\n",
    "    for file1 in propFileDict.values():\n",
    "        file1.close()"
   ]
  },
  {
   "cell_type": "code",
   "execution_count": 2,
   "id": "knowing-bryan",
   "metadata": {},
   "outputs": [
    {
     "name": "stdout",
     "output_type": "stream",
     "text": [
      "[2021-03-12 19:33:50 sqlstore]: IMPORT graph directly into table graph_11 from /data/wd-correctness/propertiesSplit/claims.P996.tsv ...\n",
      "[2021-03-12 19:33:51 sqlstore]: IMPORT graph directly into table graph_12 from /data/wd-correctness/wikidata-20210215/derived.isastar.tsv.gz ...\n",
      "^C\n"
     ]
    }
   ],
   "source": [
    "!kgtk --debug query -i ../../propertiesSplit/claims.P996.tsv \\\n",
    "    ../../constraintsOP/typeConstraint/claims.type-constraints_all.tsv \\\n",
    "    ../../wikidata-20210215/derived.isastar.tsv.gz \\\n",
    "    --match \"m: (node1)-[nodeProp]->(node2), c: (rLabel)-[:P2308]->(parent), d: (node1)-[]->(par), c: (eLabel)-[:P2303]->(eNode)\" \\\n",
    "    --where 'nodeProp.label = rLabel and (par = parent or (rLabel = eLabel and node1 = eNode))' \\\n",
    "    --return 'nodeProp.id, node1, nodeProp.label, node2, max(parent) as `node1;ancestor`' \\\n",
    "    -o ../../constraintsOP/typeConstraint/claims.type-constraints.mandatory.instanceOf.P996.correct.tsv \\\n",
    "    --graph-cache ~/sqlite3_caches/mandConst001.sqlite3.db ; \\\n",
    " kgtk --debug ifnotexists -i ../../constraintsOP/typeConstraint/claims.type-constraints.mandatory.instanceOf.P996.all.tsv \\\n",
    "    --filter-on ../../constraintsOP/typeConstraint/claims.type-constraints.mandatory.instanceOf.P996.correct.tsv \\\n",
    "    --filter-mode NONE \\\n",
    "    --input-keys node1 label \\\n",
    "    --filter-keys node1 label \\\n",
    "    -o ../../constraintsOP/typeConstraint/claims.type-constraints.mandatory.instanceOf.P996.incorrect.tsv"
   ]
  },
  {
   "cell_type": "code",
   "execution_count": 4,
   "id": "abstract-retreat",
   "metadata": {},
   "outputs": [
    {
     "name": "stdout",
     "output_type": "stream",
     "text": [
      "[2021-03-12 22:33:26 query]: SQL Translation:\r\n",
      "---------------------------------------------\r\n",
      "  SELECT graph_11_c1.\"id\", graph_11_c1.\"node1\", graph_11_c1.\"label\", graph_11_c1.\"node2\"\r\n",
      "     FROM graph_11 AS graph_11_c1, graph_14 AS graph_14_c2\r\n",
      "     WHERE graph_11_c1.\"node1\"=graph_14_c2.\"node1\"\r\n",
      "     AND (graph_14_c2.\"node2\" IN (?, ?, ?))\r\n",
      "  PARAS: ['Q1238720', 'Q3331189', 'Q47461344']\r\n",
      "---------------------------------------------\r\n"
     ]
    }
   ],
   "source": [
    "!kgtk --debug query -i ../../propertiesSplit/claims.P996.tsv \\\n",
    "    ../../wikidata-20210215/derived.isastar.tsv.gz \\\n",
    "    --match \"m: (node1)-[nodeProp]->(node2), d: (node1)-[]->(par)\" \\\n",
    "    --where 'par in [\"Q1238720\",\"Q3331189\",\"Q47461344\"]' \\\n",
    "    --return 'nodeProp.id, node1, nodeProp.label, node2' \\\n",
    "    -o ../../constraintsOP/typeConstraint/claims.type-constraints.mandatory.instanceOf.P996.correct.tsv \\\n",
    "    --graph-cache ~/sqlite3_caches/mandConst001.sqlite3.db ; \\\n",
    " kgtk --debug ifnotexists -i ../../propertiesSplit/claims.P996.tsv \\\n",
    "    --filter-on ../../constraintsOP/typeConstraint/claims.type-constraints.mandatory.instanceOf.P996.correct.tsv \\\n",
    "    --filter-mode NONE \\\n",
    "    --input-keys node1 label \\\n",
    "    --filter-keys node1 label \\\n",
    "    -o ../../constraintsOP/typeConstraint/claims.type-constraints.mandatory.instanceOf.P996.incorrect.tsv"
   ]
  },
  {
   "cell_type": "code",
   "execution_count": 7,
   "id": "strange-truck",
   "metadata": {},
   "outputs": [
    {
     "name": "stdout",
     "output_type": "stream",
     "text": [
      "81289 ../../constraintsOP/typeConstraint/claims.type-constraints.mandatory.instanceOf.P996.correct.tsv\r\n"
     ]
    }
   ],
   "source": [
    "!wc -l ../../constraintsOP/typeConstraint/claims.type-constraints.mandatory.instanceOf.P996.correct.tsv"
   ]
  },
  {
   "cell_type": "code",
   "execution_count": 8,
   "id": "finnish-hampton",
   "metadata": {},
   "outputs": [
    {
     "name": "stdout",
     "output_type": "stream",
     "text": [
      "[2021-03-12 22:49:54 sqlstore]: IMPORT graph directly into table graph_15 from /data/wd-correctness/propertiesSplit/claims.P991.tsv ...\n",
      "[2021-03-12 22:49:54 query]: SQL Translation:\n",
      "---------------------------------------------\n",
      "  SELECT graph_15_c1.\"id\", graph_15_c1.\"node1\", graph_15_c1.\"label\", graph_15_c1.\"node2\"\n",
      "     FROM graph_15 AS graph_15_c1, graph_5 AS graph_5_c2\n",
      "     WHERE graph_15_c1.\"node1\"=graph_5_c2.\"node1\"\n",
      "     AND (graph_5_c2.\"node2\" IN (?))\n",
      "  PARAS: ['Q40231']\n",
      "---------------------------------------------\n",
      "[2021-03-12 22:49:55 sqlstore]: CREATE INDEX on table graph_15 column node1 ...\n",
      "[2021-03-12 22:49:55 sqlstore]: ANALYZE INDEX on table graph_15 column node1 ...\n"
     ]
    }
   ],
   "source": [
    "!kgtk --debug query -i ../../propertiesSplit/claims.P991.tsv \\\n",
    "    ../../wikidata-20210215/derived.P31P279star.tsv.gz \\\n",
    "    --match \"m: (node1)-[nodeProp]->(node2), d: (node1)-[]->(par)\" \\\n",
    "    --where 'par in [\"Q40231\"]' \\\n",
    "    --return 'nodeProp.id, node1, nodeProp.label, node2' \\\n",
    "    -o ../../constraintsOP/typeConstraint/claims.type-constraints.mandatory.instanceOf.P991.correct.tsv \\\n",
    "    --graph-cache ~/sqlite3_caches/mandConst001.sqlite3.db ; \\\n",
    " kgtk --debug ifnotexists -i ../../propertiesSplit/claims.P991.tsv \\\n",
    "    --filter-on ../../constraintsOP/typeConstraint/claims.type-constraints.mandatory.instanceOf.P991.correct.tsv \\\n",
    "    --filter-mode NONE \\\n",
    "    --input-keys node1 label \\\n",
    "    --filter-keys node1 label \\\n",
    "    -o ../../constraintsOP/typeConstraint/claims.type-constraints.mandatory.instanceOf.P991.incorrect.tsv"
   ]
  },
  {
   "cell_type": "code",
   "execution_count": 9,
   "id": "elegant-reverse",
   "metadata": {},
   "outputs": [
    {
     "name": "stdout",
     "output_type": "stream",
     "text": [
      "[2021-03-12 23:54:56 sqlstore]: IMPORT graph directly into table graph_16 from /data/wd-correctness/propertiesSplit/claims.P965.tsv ...\n",
      "[2021-03-12 23:54:56 query]: SQL Translation:\n",
      "---------------------------------------------\n",
      "  SELECT graph_16_c1.\"id\", graph_5_c2.\"node1\", graph_16_c1.\"label\", graph_16_c1.\"node2\"\n",
      "     FROM graph_16 AS graph_16_c1, graph_5 AS graph_5_c2\n",
      "     WHERE graph_16_c1.\"node1\"=graph_5_c2.\"node1\"\n",
      "     AND (graph_5_c2.\"node2\" IN (?))\n",
      "  PARAS: ['Q6023295']\n",
      "---------------------------------------------\n",
      "[2021-03-12 23:54:56 sqlstore]: CREATE INDEX on table graph_16 column node1 ...\n",
      "[2021-03-12 23:54:56 sqlstore]: ANALYZE INDEX on table graph_16 column node1 ...\n"
     ]
    }
   ],
   "source": [
    "!kgtk --debug query -i ../../propertiesSplit/claims.P965.tsv \\\n",
    "    ../../wikidata-20210215/derived.P31P279star.tsv.gz \\\n",
    "    --match \"m: (node1)-[nodeProp]->(node2), d: (node1)-[]->(par)\" \\\n",
    "    --where 'par in [\"Q6023295\"]' \\\n",
    "    --return 'nodeProp.id, node1, nodeProp.label, node2' \\\n",
    "    -o ../../constraintsOP/typeConstraint/claims.type-constraints.mandatory.instanceOf.P965.correct.tsv \\\n",
    "    --graph-cache ~/sqlite3_caches/mandConst001.sqlite3.db ; \\\n",
    " kgtk --debug ifnotexists -i ../../propertiesSplit/claims.P965.tsv \\\n",
    "    --filter-on ../../constraintsOP/typeConstraint/claims.type-constraints.mandatory.instanceOf.P965.correct.tsv \\\n",
    "    --filter-mode NONE \\\n",
    "    --input-keys node1 label \\\n",
    "    --filter-keys node1 label \\\n",
    "    -o ../../constraintsOP/typeConstraint/claims.type-constraints.mandatory.instanceOf.P965.incorrect.tsv"
   ]
  },
  {
   "cell_type": "markdown",
   "id": "matched-strength",
   "metadata": {},
   "source": [
    "# Generate Queries"
   ]
  },
  {
   "cell_type": "markdown",
   "id": "black-insured",
   "metadata": {},
   "source": [
    "## Type Constraint"
   ]
  },
  {
   "cell_type": "markdown",
   "id": "interior-humor",
   "metadata": {},
   "source": [
    "### Understand Constraints File"
   ]
  },
  {
   "cell_type": "code",
   "execution_count": 3,
   "id": "clinical-brunei",
   "metadata": {},
   "outputs": [],
   "source": [
    "import pandas as pd\n",
    "df = pd.read_csv('../../constraintsOP/typeConstraint/claims.type-constraints_all.tsv',sep='\\t')"
   ]
  },
  {
   "cell_type": "code",
   "execution_count": 4,
   "id": "assured-cleaners",
   "metadata": {},
   "outputs": [],
   "source": [
    "df1 = df.groupby(['node1','label']).node2.apply(lambda p: p.tolist()).reset_index()"
   ]
  },
  {
   "cell_type": "code",
   "execution_count": 5,
   "id": "sharing-evolution",
   "metadata": {},
   "outputs": [
    {
     "data": {
      "text/html": [
       "<div>\n",
       "<style scoped>\n",
       "    .dataframe tbody tr th:only-of-type {\n",
       "        vertical-align: middle;\n",
       "    }\n",
       "\n",
       "    .dataframe tbody tr th {\n",
       "        vertical-align: top;\n",
       "    }\n",
       "\n",
       "    .dataframe thead th {\n",
       "        text-align: right;\n",
       "    }\n",
       "</style>\n",
       "<table border=\"1\" class=\"dataframe\">\n",
       "  <thead>\n",
       "    <tr style=\"text-align: right;\">\n",
       "      <th></th>\n",
       "      <th>node1</th>\n",
       "      <th>label</th>\n",
       "      <th>node2</th>\n",
       "    </tr>\n",
       "  </thead>\n",
       "  <tbody>\n",
       "    <tr>\n",
       "      <th>0</th>\n",
       "      <td>P1001</td>\n",
       "      <td>P2308</td>\n",
       "      <td>[Q102496, Q105985, Q1140371, Q1151067, Q119768...</td>\n",
       "    </tr>\n",
       "    <tr>\n",
       "      <th>1</th>\n",
       "      <td>P1001</td>\n",
       "      <td>P2309</td>\n",
       "      <td>[Q30208840]</td>\n",
       "    </tr>\n",
       "    <tr>\n",
       "      <th>2</th>\n",
       "      <td>P1002</td>\n",
       "      <td>P2308</td>\n",
       "      <td>[Q630010]</td>\n",
       "    </tr>\n",
       "    <tr>\n",
       "      <th>3</th>\n",
       "      <td>P1002</td>\n",
       "      <td>P2309</td>\n",
       "      <td>[Q21514624]</td>\n",
       "    </tr>\n",
       "    <tr>\n",
       "      <th>4</th>\n",
       "      <td>P1004</td>\n",
       "      <td>P2308</td>\n",
       "      <td>[Q2221906, Q23413, Q3947, Q41176, Q88291]</td>\n",
       "    </tr>\n",
       "  </tbody>\n",
       "</table>\n",
       "</div>"
      ],
      "text/plain": [
       "   node1  label                                              node2\n",
       "0  P1001  P2308  [Q102496, Q105985, Q1140371, Q1151067, Q119768...\n",
       "1  P1001  P2309                                        [Q30208840]\n",
       "2  P1002  P2308                                          [Q630010]\n",
       "3  P1002  P2309                                        [Q21514624]\n",
       "4  P1004  P2308          [Q2221906, Q23413, Q3947, Q41176, Q88291]"
      ]
     },
     "execution_count": 5,
     "metadata": {},
     "output_type": "execute_result"
    }
   ],
   "source": [
    "df1.head()"
   ]
  },
  {
   "cell_type": "code",
   "execution_count": 7,
   "id": "still-trail",
   "metadata": {},
   "outputs": [
    {
     "data": {
      "text/html": [
       "<div>\n",
       "<style scoped>\n",
       "    .dataframe tbody tr th:only-of-type {\n",
       "        vertical-align: middle;\n",
       "    }\n",
       "\n",
       "    .dataframe tbody tr th {\n",
       "        vertical-align: top;\n",
       "    }\n",
       "\n",
       "    .dataframe thead th {\n",
       "        text-align: right;\n",
       "    }\n",
       "</style>\n",
       "<table border=\"1\" class=\"dataframe\">\n",
       "  <thead>\n",
       "    <tr style=\"text-align: right;\">\n",
       "      <th></th>\n",
       "      <th>node1</th>\n",
       "      <th>label</th>\n",
       "      <th>node2</th>\n",
       "    </tr>\n",
       "  </thead>\n",
       "  <tbody>\n",
       "    <tr>\n",
       "      <th>69</th>\n",
       "      <td>P105</td>\n",
       "      <td>P2308</td>\n",
       "      <td>[Q16521]</td>\n",
       "    </tr>\n",
       "    <tr>\n",
       "      <th>70</th>\n",
       "      <td>P105</td>\n",
       "      <td>P2309</td>\n",
       "      <td>[Q21503252]</td>\n",
       "    </tr>\n",
       "    <tr>\n",
       "      <th>71</th>\n",
       "      <td>P105</td>\n",
       "      <td>P2316</td>\n",
       "      <td>[Q21502408]</td>\n",
       "    </tr>\n",
       "  </tbody>\n",
       "</table>\n",
       "</div>"
      ],
      "text/plain": [
       "   node1  label        node2\n",
       "69  P105  P2308     [Q16521]\n",
       "70  P105  P2309  [Q21503252]\n",
       "71  P105  P2316  [Q21502408]"
      ]
     },
     "execution_count": 7,
     "metadata": {},
     "output_type": "execute_result"
    }
   ],
   "source": [
    "df1[df1['node1'] == 'P105']"
   ]
  },
  {
   "cell_type": "markdown",
   "id": "solid-browser",
   "metadata": {},
   "source": [
    "### Query Generator"
   ]
  },
  {
   "cell_type": "code",
   "execution_count": 8,
   "id": "bright-impossible",
   "metadata": {},
   "outputs": [
    {
     "data": {
      "application/vnd.jupyter.widget-view+json": {
       "model_id": "95b7843f9024492698ef1b367b6db289",
       "version_major": 2,
       "version_minor": 0
      },
      "text/plain": [
       "  0%|          | 0/4810 [00:00<?, ?it/s]"
      ]
     },
     "metadata": {},
     "output_type": "display_data"
    },
    {
     "name": "stdout",
     "output_type": "stream",
     "text": [
      "Something failed for prop: P1249\n",
      "Something failed for prop: P6790\n"
     ]
    },
    {
     "ename": "NameError",
     "evalue": "name 'fOP' is not defined",
     "output_type": "error",
     "traceback": [
      "\u001b[0;31m---------------------------------------------------------------------------\u001b[0m",
      "\u001b[0;31mNameError\u001b[0m                                 Traceback (most recent call last)",
      "\u001b[0;32m<ipython-input-8-49b85119986b>\u001b[0m in \u001b[0;36m<module>\u001b[0;34m\u001b[0m\n\u001b[1;32m     66\u001b[0m         \u001b[0mprint\u001b[0m\u001b[0;34m(\u001b[0m\u001b[0;34m\"Something failed for prop:\"\u001b[0m\u001b[0;34m,\u001b[0m\u001b[0mprop\u001b[0m\u001b[0;34m)\u001b[0m\u001b[0;34m\u001b[0m\u001b[0;34m\u001b[0m\u001b[0m\n\u001b[1;32m     67\u001b[0m \u001b[0;34m\u001b[0m\u001b[0m\n\u001b[0;32m---> 68\u001b[0;31m \u001b[0;32mif\u001b[0m \u001b[0mfOP\u001b[0m\u001b[0;34m:\u001b[0m\u001b[0;34m\u001b[0m\u001b[0;34m\u001b[0m\u001b[0m\n\u001b[0m\u001b[1;32m     69\u001b[0m     \u001b[0mfOP\u001b[0m\u001b[0;34m.\u001b[0m\u001b[0mclose\u001b[0m\u001b[0;34m(\u001b[0m\u001b[0;34m)\u001b[0m\u001b[0;34m\u001b[0m\u001b[0;34m\u001b[0m\u001b[0m\n",
      "\u001b[0;31mNameError\u001b[0m: name 'fOP' is not defined"
     ]
    }
   ],
   "source": [
    "from tqdm.notebook import tqdm\n",
    "import os.path\n",
    "import os\n",
    "\n",
    "cnt = 0\n",
    "fCnt = 1\n",
    "for prop in tqdm(df1.node1.unique()):\n",
    "    try:\n",
    "        if not(os.path.isfile(\"../../propertiesSplit/claims.\"+ prop +\".tsv\")):\n",
    "            continue\n",
    "        relation = df1[(df1['node1'] == prop) & (df1['label'] == 'P2309')].node2.values[0][0]\n",
    "        type1 = df1[(df1['node1'] == prop) & (df1['label'] == 'P2316')].node2.values\n",
    "#         print(type1)\n",
    "\n",
    "        parents = df1[(df1['node1'] == prop) & (df1['label'] == 'P2308')].node2.values[0]\n",
    "        exceptions = df1[(df1['node1'] == prop) & (df1['label'] == 'P2303')].node2.values\n",
    "        \n",
    "        if relation == \"Q21503252\":\n",
    "            parentFile = \"P31\"\n",
    "            parentTitle = 'instanceOf'\n",
    "        elif relation == \"Q21514624\":\n",
    "            parentFile = \"P279\"\n",
    "            parentTitle = 'subclass'\n",
    "        else:\n",
    "            parentFile = \"isa\"\n",
    "            parentTitle = 'instanceOfOrSubclass'\n",
    "\n",
    "        if len(type1) != 0 and type1[0][0] == \"Q21502408\":\n",
    "            typeVal = \"mandatory\"\n",
    "        elif len(type1) != 0 and type1[0][0] == \"Q62026391\":\n",
    "            typeVal = \"suggestion\"\n",
    "        else:\n",
    "            typeVal = \"normal\"\n",
    "\n",
    "        if len(exceptions):\n",
    "            exceptionPart = \"or node1 in \" + str(exceptions[0]).replace(\"'\",'\"')\n",
    "        else:\n",
    "            exceptionPart = \"\"\n",
    "        \n",
    "        folderName = 'typeConstraint_Final'\n",
    "        shellFileSuffix = 'typeConstraintValidator'\n",
    "        \n",
    "        if cnt % 120 == 0:\n",
    "            if fOP:\n",
    "                fOP.close()\n",
    "            fOP = open(\"../../propertiesSplit/checkViolations/\" + shellFileSuffix + str(fCnt) + \".sh\",\"w\")\n",
    "            fCnt += 1\n",
    "        \n",
    "        fOP.write(\"{ time (kgtk --debug query -i ../../propertiesSplit/claims.\"+ prop +\".tsv \\\n",
    "        ../../wikidata-20210215/derived.\" + parentFile + \".tsv.gz \\\n",
    "        ../../wikidata-20210215/derived.P279star.tsv.gz \\\n",
    "        --match 'm: (node1)-[nodeProp]->(node2), \" + parentFile + \": (node1)-[]->(nodex), P279star: (nodex)-[]->(par)' \\\n",
    "        --where 'par in \" + str(parents).replace(\"'\",'\"') + \" \" + exceptionPart + \"' \\\n",
    "        --return 'distinct nodeProp.id, node1 as `node1`, nodeProp.label as `label`, node2 as `node2`' \\\n",
    "        -o ../../allConstraintsAnalysis/\" + folderName + \"/\" + typeVal + \"/claims.type-constraints.\" + parentTitle + \".\"+ prop +\".correct.tsv \\\n",
    "        --graph-cache ~/sqlite3_caches/const110_\" + str(fCnt) + \".sqlite3.db; \\\n",
    "         kgtk --debug ifnotexists -i ../../propertiesSplit/claims.\"+ prop +\".tsv \\\n",
    "        --filter-on ../../allConstraintsAnalysis/\" + folderName + \"/\" + typeVal + \"/claims.type-constraints.\" + parentTitle + \".\"+ prop +\".correct.tsv \\\n",
    "        --filter-mode NONE \\\n",
    "        --input-keys node1 label \\\n",
    "        --filter-keys node1 label \\\n",
    "        -o ../../allConstraintsAnalysis/\" + folderName + \"/\" + typeVal + \"/claims.type-constraints.\" + parentTitle + \".\"+ prop +\".incorrect.tsv ) } 2>> ../../propertiesSplit/checkViolations/exec_logs/\" + shellFileSuffix + str(fCnt) + \".txt;\")\n",
    "\n",
    "        cnt += 1\n",
    "    except:\n",
    "        print(\"Something failed for prop:\",prop)\n",
    "\n",
    "if fOP:\n",
    "    fOP.close()"
   ]
  },
  {
   "cell_type": "code",
   "execution_count": 9,
   "id": "electrical-agreement",
   "metadata": {},
   "outputs": [
    {
     "data": {
      "text/plain": [
       "1456"
      ]
     },
     "execution_count": 9,
     "metadata": {},
     "output_type": "execute_result"
    }
   ],
   "source": [
    "cnt"
   ]
  },
  {
   "cell_type": "code",
   "execution_count": 72,
   "id": "outside-stupid",
   "metadata": {},
   "outputs": [],
   "source": [
    "# import os\n",
    "# for i in range(1,14):\n",
    "#     os.system(\"screen -dm sh ../../propertiesSplit/checkViolations/typeConstraintValidator\"+str(i)+\".sh\")\n",
    "    "
   ]
  },
  {
   "cell_type": "markdown",
   "id": "competitive-canvas",
   "metadata": {},
   "source": [
    "### Analyze Violations"
   ]
  },
  {
   "cell_type": "code",
   "execution_count": 33,
   "id": "casual-perth",
   "metadata": {},
   "outputs": [
    {
     "data": {
      "application/vnd.jupyter.widget-view+json": {
       "model_id": "f14fb41a11474c79a4e03c391151de92",
       "version_major": 2,
       "version_minor": 0
      },
      "text/plain": [
       "0it [00:00, ?it/s]"
      ]
     },
     "metadata": {},
     "output_type": "display_data"
    },
    {
     "data": {
      "application/vnd.jupyter.widget-view+json": {
       "model_id": "1c8272e68ff941bb8d9453f8de872e8a",
       "version_major": 2,
       "version_minor": 0
      },
      "text/plain": [
       "  0%|          | 0/330 [00:00<?, ?it/s]"
      ]
     },
     "metadata": {},
     "output_type": "display_data"
    },
    {
     "data": {
      "application/vnd.jupyter.widget-view+json": {
       "model_id": "0406a7c498cb4dafa813ec4e6c8a499a",
       "version_major": 2,
       "version_minor": 0
      },
      "text/plain": [
       "  0%|          | 0/22 [00:00<?, ?it/s]"
      ]
     },
     "metadata": {},
     "output_type": "display_data"
    },
    {
     "data": {
      "application/vnd.jupyter.widget-view+json": {
       "model_id": "4f1f1b1ef6e24c6a92027e231ac71167",
       "version_major": 2,
       "version_minor": 0
      },
      "text/plain": [
       "  0%|          | 0/2560 [00:00<?, ?it/s]"
      ]
     },
     "metadata": {},
     "output_type": "display_data"
    }
   ],
   "source": [
    "import pandas as pd\n",
    "import os\n",
    "from tqdm.notebook import tqdm\n",
    "\n",
    "typeConstViolations = {}\n",
    "\n",
    "def countLines(fname):\n",
    "    cnt = -1\n",
    "    with open(fname, 'r') as f:\n",
    "        for line in f:\n",
    "            cnt += 1\n",
    "    return cnt\n",
    "\n",
    "propList = set()\n",
    "\n",
    "violations = {}\n",
    "\n",
    "for folder in tqdm(iter(['mandatory', 'suggestion', 'normal'])):\n",
    "    typeConstViolations[folder] = {'instanceOf': {'correct': 0, 'incorrect': 0}, 'subclass': {'correct': 0, 'incorrect': 0}, 'instanceOfOrSubclass': {'correct': 0, 'incorrect': 0},'propCount': 0}\n",
    "    filePath = \"../../allConstraintsAnalysis/typeConstraint_Final/\"+folder+\"/\"\n",
    "    for filename in tqdm(os.listdir(filePath)):\n",
    "        type1 = filename.split(\".\")[2]\n",
    "        prop = filename.split(\".\")[3]\n",
    "        propList.add(prop)\n",
    "        correctness = filename.split(\".\")[4]\n",
    "        count1 = countLines(filePath+filename)\n",
    "        typeConstViolations[folder][type1][correctness] += count1\n",
    "        if prop not in violations:\n",
    "            violations[prop] = {'correct': 0, 'incorrect': 0, 'paths': []}\n",
    "        violations[prop][correctness] = count1\n",
    "        violations[prop]['paths'].append(filePath+filename)\n",
    "        if correctness == 'correct':\n",
    "            typeConstViolations[folder]['propCount'] += 1\n",
    "        "
   ]
  },
  {
   "cell_type": "code",
   "execution_count": 34,
   "id": "widespread-sector",
   "metadata": {},
   "outputs": [],
   "source": [
    "# countLines(\"../../allConstraintsAnalysis/typeConstraint/mandatory/claims.type-constraints.subclass.P534.incorrect.tsv\")"
   ]
  },
  {
   "cell_type": "code",
   "execution_count": 35,
   "id": "golden-affiliate",
   "metadata": {},
   "outputs": [
    {
     "name": "stdout",
     "output_type": "stream",
     "text": [
      "1456 properties processed for type constraint for 510762035 statements\n"
     ]
    }
   ],
   "source": [
    "recordCount = 0\n",
    "for elem in typeConstViolations.keys():\n",
    "    for key1 in typeConstViolations[elem].keys():\n",
    "        try:\n",
    "            recordCount += typeConstViolations[elem][key1]['correct'] + typeConstViolations[elem][key1]['incorrect']\n",
    "        except:\n",
    "            continue\n",
    "print(f\"{len(propList)} properties processed for type constraint for {recordCount} statements\")"
   ]
  },
  {
   "cell_type": "code",
   "execution_count": 36,
   "id": "needed-portfolio",
   "metadata": {},
   "outputs": [],
   "source": [
    "import pandas as pd\n",
    "typeConstDF = pd.DataFrame(violations).T"
   ]
  },
  {
   "cell_type": "code",
   "execution_count": 37,
   "id": "lesser-thomson",
   "metadata": {},
   "outputs": [],
   "source": [
    "typeConstDF['violation_ratio'] = typeConstDF.apply(lambda p: p.incorrect / (p.correct + p.incorrect), axis=1)"
   ]
  },
  {
   "cell_type": "code",
   "execution_count": 38,
   "id": "flying-context",
   "metadata": {},
   "outputs": [
    {
     "data": {
      "text/html": [
       "<div>\n",
       "<style scoped>\n",
       "    .dataframe tbody tr th:only-of-type {\n",
       "        vertical-align: middle;\n",
       "    }\n",
       "\n",
       "    .dataframe tbody tr th {\n",
       "        vertical-align: top;\n",
       "    }\n",
       "\n",
       "    .dataframe thead th {\n",
       "        text-align: right;\n",
       "    }\n",
       "</style>\n",
       "<table border=\"1\" class=\"dataframe\">\n",
       "  <thead>\n",
       "    <tr style=\"text-align: right;\">\n",
       "      <th></th>\n",
       "      <th>correct</th>\n",
       "      <th>incorrect</th>\n",
       "      <th>paths</th>\n",
       "      <th>violation_ratio</th>\n",
       "    </tr>\n",
       "  </thead>\n",
       "  <tbody>\n",
       "    <tr>\n",
       "      <th>P742</th>\n",
       "      <td>48903</td>\n",
       "      <td>89</td>\n",
       "      <td>[../../allConstraintsAnalysis/typeConstraint_F...</td>\n",
       "      <td>0.001817</td>\n",
       "    </tr>\n",
       "    <tr>\n",
       "      <th>P2663</th>\n",
       "      <td>554</td>\n",
       "      <td>7</td>\n",
       "      <td>[../../allConstraintsAnalysis/typeConstraint_F...</td>\n",
       "      <td>0.012478</td>\n",
       "    </tr>\n",
       "    <tr>\n",
       "      <th>P5105</th>\n",
       "      <td>1919</td>\n",
       "      <td>95</td>\n",
       "      <td>[../../allConstraintsAnalysis/typeConstraint_F...</td>\n",
       "      <td>0.047170</td>\n",
       "    </tr>\n",
       "    <tr>\n",
       "      <th>P6938</th>\n",
       "      <td>3</td>\n",
       "      <td>2</td>\n",
       "      <td>[../../allConstraintsAnalysis/typeConstraint_F...</td>\n",
       "      <td>0.400000</td>\n",
       "    </tr>\n",
       "    <tr>\n",
       "      <th>P3179</th>\n",
       "      <td>5052</td>\n",
       "      <td>13</td>\n",
       "      <td>[../../allConstraintsAnalysis/typeConstraint_F...</td>\n",
       "      <td>0.002567</td>\n",
       "    </tr>\n",
       "  </tbody>\n",
       "</table>\n",
       "</div>"
      ],
      "text/plain": [
       "      correct incorrect                                              paths  \\\n",
       "P742    48903        89  [../../allConstraintsAnalysis/typeConstraint_F...   \n",
       "P2663     554         7  [../../allConstraintsAnalysis/typeConstraint_F...   \n",
       "P5105    1919        95  [../../allConstraintsAnalysis/typeConstraint_F...   \n",
       "P6938       3         2  [../../allConstraintsAnalysis/typeConstraint_F...   \n",
       "P3179    5052        13  [../../allConstraintsAnalysis/typeConstraint_F...   \n",
       "\n",
       "       violation_ratio  \n",
       "P742          0.001817  \n",
       "P2663         0.012478  \n",
       "P5105         0.047170  \n",
       "P6938         0.400000  \n",
       "P3179         0.002567  "
      ]
     },
     "execution_count": 38,
     "metadata": {},
     "output_type": "execute_result"
    }
   ],
   "source": [
    "typeConstDF.head()"
   ]
  },
  {
   "cell_type": "code",
   "execution_count": 39,
   "id": "competitive-peeing",
   "metadata": {},
   "outputs": [
    {
     "data": {
      "text/html": [
       "<div>\n",
       "<style scoped>\n",
       "    .dataframe tbody tr th:only-of-type {\n",
       "        vertical-align: middle;\n",
       "    }\n",
       "\n",
       "    .dataframe tbody tr th {\n",
       "        vertical-align: top;\n",
       "    }\n",
       "\n",
       "    .dataframe thead th {\n",
       "        text-align: right;\n",
       "    }\n",
       "</style>\n",
       "<table border=\"1\" class=\"dataframe\">\n",
       "  <thead>\n",
       "    <tr style=\"text-align: right;\">\n",
       "      <th></th>\n",
       "      <th>correct</th>\n",
       "      <th>incorrect</th>\n",
       "      <th>paths</th>\n",
       "      <th>violation_ratio</th>\n",
       "    </tr>\n",
       "  </thead>\n",
       "  <tbody>\n",
       "    <tr>\n",
       "      <th>P8138</th>\n",
       "      <td>0</td>\n",
       "      <td>461</td>\n",
       "      <td>[../../allConstraintsAnalysis/typeConstraint_F...</td>\n",
       "      <td>1.0</td>\n",
       "    </tr>\n",
       "    <tr>\n",
       "      <th>P5051</th>\n",
       "      <td>0</td>\n",
       "      <td>64</td>\n",
       "      <td>[../../allConstraintsAnalysis/typeConstraint_F...</td>\n",
       "      <td>1.0</td>\n",
       "    </tr>\n",
       "    <tr>\n",
       "      <th>P2303</th>\n",
       "      <td>0</td>\n",
       "      <td>39</td>\n",
       "      <td>[../../allConstraintsAnalysis/typeConstraint_F...</td>\n",
       "      <td>1.0</td>\n",
       "    </tr>\n",
       "    <tr>\n",
       "      <th>P1227</th>\n",
       "      <td>0</td>\n",
       "      <td>19</td>\n",
       "      <td>[../../allConstraintsAnalysis/typeConstraint_F...</td>\n",
       "      <td>1.0</td>\n",
       "    </tr>\n",
       "    <tr>\n",
       "      <th>P2308</th>\n",
       "      <td>0</td>\n",
       "      <td>17</td>\n",
       "      <td>[../../allConstraintsAnalysis/typeConstraint_F...</td>\n",
       "      <td>1.0</td>\n",
       "    </tr>\n",
       "    <tr>\n",
       "      <th>P6001</th>\n",
       "      <td>0</td>\n",
       "      <td>16</td>\n",
       "      <td>[../../allConstraintsAnalysis/typeConstraint_F...</td>\n",
       "      <td>1.0</td>\n",
       "    </tr>\n",
       "    <tr>\n",
       "      <th>P8738</th>\n",
       "      <td>0</td>\n",
       "      <td>14</td>\n",
       "      <td>[../../allConstraintsAnalysis/typeConstraint_F...</td>\n",
       "      <td>1.0</td>\n",
       "    </tr>\n",
       "    <tr>\n",
       "      <th>P538</th>\n",
       "      <td>0</td>\n",
       "      <td>10</td>\n",
       "      <td>[../../allConstraintsAnalysis/typeConstraint_F...</td>\n",
       "      <td>1.0</td>\n",
       "    </tr>\n",
       "    <tr>\n",
       "      <th>P8004</th>\n",
       "      <td>0</td>\n",
       "      <td>6</td>\n",
       "      <td>[../../allConstraintsAnalysis/typeConstraint_F...</td>\n",
       "      <td>1.0</td>\n",
       "    </tr>\n",
       "    <tr>\n",
       "      <th>P5589</th>\n",
       "      <td>0</td>\n",
       "      <td>4</td>\n",
       "      <td>[../../allConstraintsAnalysis/typeConstraint_F...</td>\n",
       "      <td>1.0</td>\n",
       "    </tr>\n",
       "    <tr>\n",
       "      <th>P6510</th>\n",
       "      <td>0</td>\n",
       "      <td>4</td>\n",
       "      <td>[../../allConstraintsAnalysis/typeConstraint_F...</td>\n",
       "      <td>1.0</td>\n",
       "    </tr>\n",
       "    <tr>\n",
       "      <th>P7174</th>\n",
       "      <td>0</td>\n",
       "      <td>3</td>\n",
       "      <td>[../../allConstraintsAnalysis/typeConstraint_F...</td>\n",
       "      <td>1.0</td>\n",
       "    </tr>\n",
       "    <tr>\n",
       "      <th>P6014</th>\n",
       "      <td>0</td>\n",
       "      <td>3</td>\n",
       "      <td>[../../allConstraintsAnalysis/typeConstraint_F...</td>\n",
       "      <td>1.0</td>\n",
       "    </tr>\n",
       "    <tr>\n",
       "      <th>P817</th>\n",
       "      <td>0</td>\n",
       "      <td>3</td>\n",
       "      <td>[../../allConstraintsAnalysis/typeConstraint_F...</td>\n",
       "      <td>1.0</td>\n",
       "    </tr>\n",
       "    <tr>\n",
       "      <th>P4882</th>\n",
       "      <td>0</td>\n",
       "      <td>3</td>\n",
       "      <td>[../../allConstraintsAnalysis/typeConstraint_F...</td>\n",
       "      <td>1.0</td>\n",
       "    </tr>\n",
       "  </tbody>\n",
       "</table>\n",
       "</div>"
      ],
      "text/plain": [
       "      correct incorrect                                              paths  \\\n",
       "P8138       0       461  [../../allConstraintsAnalysis/typeConstraint_F...   \n",
       "P5051       0        64  [../../allConstraintsAnalysis/typeConstraint_F...   \n",
       "P2303       0        39  [../../allConstraintsAnalysis/typeConstraint_F...   \n",
       "P1227       0        19  [../../allConstraintsAnalysis/typeConstraint_F...   \n",
       "P2308       0        17  [../../allConstraintsAnalysis/typeConstraint_F...   \n",
       "P6001       0        16  [../../allConstraintsAnalysis/typeConstraint_F...   \n",
       "P8738       0        14  [../../allConstraintsAnalysis/typeConstraint_F...   \n",
       "P538        0        10  [../../allConstraintsAnalysis/typeConstraint_F...   \n",
       "P8004       0         6  [../../allConstraintsAnalysis/typeConstraint_F...   \n",
       "P5589       0         4  [../../allConstraintsAnalysis/typeConstraint_F...   \n",
       "P6510       0         4  [../../allConstraintsAnalysis/typeConstraint_F...   \n",
       "P7174       0         3  [../../allConstraintsAnalysis/typeConstraint_F...   \n",
       "P6014       0         3  [../../allConstraintsAnalysis/typeConstraint_F...   \n",
       "P817        0         3  [../../allConstraintsAnalysis/typeConstraint_F...   \n",
       "P4882       0         3  [../../allConstraintsAnalysis/typeConstraint_F...   \n",
       "\n",
       "       violation_ratio  \n",
       "P8138              1.0  \n",
       "P5051              1.0  \n",
       "P2303              1.0  \n",
       "P1227              1.0  \n",
       "P2308              1.0  \n",
       "P6001              1.0  \n",
       "P8738              1.0  \n",
       "P538               1.0  \n",
       "P8004              1.0  \n",
       "P5589              1.0  \n",
       "P6510              1.0  \n",
       "P7174              1.0  \n",
       "P6014              1.0  \n",
       "P817               1.0  \n",
       "P4882              1.0  "
      ]
     },
     "execution_count": 39,
     "metadata": {},
     "output_type": "execute_result"
    }
   ],
   "source": [
    "typeConstDF.sort_values(by=['violation_ratio','incorrect'],ascending=False).head(15)"
   ]
  },
  {
   "cell_type": "code",
   "execution_count": 40,
   "id": "backed-corruption",
   "metadata": {},
   "outputs": [
    {
     "data": {
      "text/plain": [
       "['../../allConstraintsAnalysis/typeConstraint_Final/normal/claims.type-constraints.instanceOf.P4945.correct.tsv',\n",
       " '../../allConstraintsAnalysis/typeConstraint_Final/normal/claims.type-constraints.instanceOf.P4945.incorrect.tsv']"
      ]
     },
     "execution_count": 40,
     "metadata": {},
     "output_type": "execute_result"
    }
   ],
   "source": [
    "list(typeConstDF.loc['P4945'].paths)"
   ]
  },
  {
   "cell_type": "code",
   "execution_count": 41,
   "id": "interracial-fraud",
   "metadata": {
    "scrolled": true
   },
   "outputs": [
    {
     "name": "stdout",
     "output_type": "stream",
     "text": [
      "id\tnode1\tlabel\tnode2\r\n",
      "Q100369299-P4945-eb5028-ee746175-0\tQ100369299\tP4945\t\"https://bonjour.tousanticovid.gouv.fr/apk/tousanticovid-release.apk\"\r\n",
      "Q1061377-P4945-5f55df-75d6a31c-0\tQ1061377\tP4945\t\"https://trafficserver.apache.org/downloads.html\"\r\n",
      "Q11190364-P4945-f18659-1f0573b8-0\tQ11190364\tP4945\t\"http://commons.apache.org/collections/download_collections.cgi\"\r\n",
      "Q11190367-P4945-788edf-bf5a627c-0\tQ11190367\tP4945\t\"http://commons.apache.org/dbutils/download_dbutils.cgi\"\r\n",
      "Q11190369-P4945-2b14ae-4099fae3-0\tQ11190369\tP4945\t\"http://commons.apache.org/io/download_io.cgi\"\r\n",
      "Q11190370-P4945-07ba13-56eaa8a0-0\tQ11190370\tP4945\t\"http://commons.apache.org/lang/download_lang.cgi\"\r\n",
      "Q11190372-P4945-67697a-1f4f8077-0\tQ11190372\tP4945\t\"http://commons.apache.org/math/download_math.cgi\"\r\n",
      "Q11251534-P4945-7c85e2-194f2c16-0\tQ11251534\tP4945\t\"http://turbine.apache.org/download.html\"\r\n",
      "Q11354-P4945-3884b2-b4ccc33e-0\tQ11354\tP4945\t\"http://httpd.apache.org/download.cgi\"\r\n",
      "Q1136882-P4945-a9b3e3-be788e46-0\tQ1136882\tP4945\t\"https://couchdb.apache.org/#download\"\r\n",
      "Q11498400-P4945-abba76-e84ad6f9-0\tQ11498400\tP4945\t\"http://bloodhound.apache.org/\"\r\n",
      "Q1152468-P4945-7a41e3-d34b5a91-0\tQ1152468\tP4945\t\"https://www.microsoft.com/en-us/download/details.aspx?id=8247\"\r\n",
      "Q1370963-P4945-d9a152-93d10d8d-0\tQ1370963\tP4945\t\"http://etch.apache.org/downloads.html\"\r\n",
      "Q139941-P4945-15ca5c-a8f7c264-0\tQ139941\tP4945\t\"https://maven.apache.org/download.html\"\r\n",
      "Q1503674-P4945-af6a2d-33a39dce-0\tQ1503674\tP4945\t\"https://spamassassin.apache.org/downloads.html\"\r\n",
      "Q15256687-P4945-1a8612-014dc675-0\tQ15256687\tP4945\t\"http://www.kas.de/upload/ACDP/CDU/Koalitionsvertraege/Koalitionsvertrag2013.pdf\"\r\n",
      "Q1539155-P4945-3fd440-f5b627b4-0\tQ1539155\tP4945\t\"http://uima.apache.org/downloads.cgi\"\r\n",
      "Q1575028-P4945-76ba09-deb90898-0\tQ1575028\tP4945\t\"http://chemistry.apache.org/\"\r\n",
      "Q16235208-P4945-4841f6-a3e3d4be-0\tQ16235208\tP4945\t\"https://kafka.apache.org/downloads.html\"\r\n",
      "Q16242762-P4945-4ac3ee-d07e072b-0\tQ16242762\tP4945\t\"http://allura.apache.org/\"\r\n",
      "Q16626338-P4945-1c6c0c-871b990f-0\tQ16626338\tP4945\t\"https://cordova.apache.org/#download\"\r\n",
      "Q16687448-P4945-723d09-2e6052ed-0\tQ16687448\tP4945\t\"http://tajo.apache.org/downloads.html\"\r\n",
      "Q16829151-P4945-2f7020-f598ce2f-0\tQ16829151\tP4945\t\"http://gora.apache.org/releases.html\"\r\n",
      "Q1686799-P4945-e9979f-a3d9a6a6-0\tQ1686799\tP4945\t\"http://jena.apache.org/download/index.cgi\"\r\n",
      "Q16927968-P4945-a50edc-101f8685-0\tQ16927968\tP4945\t\"http://www.apache.org/dyn/closer.cgi/giraph\"\r\n",
      "Q16928009-P4945-a65cc4-d50a9264-0\tQ16928009\tP4945\t\"http://marmotta.apache.org/download.html\"\r\n",
      "Q17004140-P4945-14a066-d9be3a6b-0\tQ17004140\tP4945\t\"http://samza.apache.org/startup/download\"\r\n",
      "Q1706815-P4945-3dd5b4-2ceb402e-0\tQ1706815\tP4945\t\"http://isis.apache.org/downloads.html\"\r\n",
      "Q17122268-P4945-8c7ad8-42754568-0\tQ17122268\tP4945\t\"http://mina.apache.org/vysper-project/downloads.html\"\r\n",
      "Q17512395-P4945-b9ae04-3bc11e1b-0\tQ17512395\tP4945\t\"https://pdfbox.apache.org/download.cgi\"\r\n",
      "Q17724-P4945-434eb3-8dc07fd0-0\tQ17724\tP4945\t\"http://spectromancer.com/index.cgi?p=3\"\r\n",
      "Q18156745-P4945-1fd1e2-ba756504-0\tQ18156745\tP4945\t\"http://trafodion.apache.org/download.html\"\r\n",
      "Q18341825-P4945-c1c0f9-0c23cdd2-0\tQ18341825\tP4945\t\"https://downloads.lxqt.org/\"\r\n",
      "Q19315319-P4945-1be23b-711cc208-0\tQ19315319\tP4945\t\"http://mesos.apache.org/downloads/\"\r\n",
      "Q19599376-P4945-b655fe-2dd34386-0\tQ19599376\tP4945\t\"http://flume.apache.org/download.html\"\r\n",
      "Q19646047-P4945-463cb0-d7ffd372-0\tQ19646047\tP4945\t\"http://phoenix.apache.org/download.html\"\r\n",
      "Q20072429-P4945-ed1c95-2c5cf1c1-0\tQ20072429\tP4945\t\"http://stratos.apache.org/releases/index.html\"\r\n",
      "Q2060395-P4945-c9558c-eca3ccde-0\tQ2060395\tP4945\t\"https://thepdfsite.blogspot.com/\"\r\n",
      "Q20714460-P4945-33c311-1ff7d5ac-0\tQ20714460\tP4945\t\"https://flink.apache.org/downloads.html\"\r\n",
      "Q20897604-P4945-ec3d0f-ddad40d9-0\tQ20897604\tP4945\t\"http://xmlgraphics.apache.org/commons/download.html\"\r\n",
      "Q21634642-P4945-49e6b1-bb992e23-0\tQ21634642\tP4945\t\"http://www.apache.org/dyn/closer.cgi/openwebbeans/\"\r\n",
      "Q223449-P4945-553d66-766c7968-0\tQ223449\tP4945\t\"http://cxf.apache.org/download.html\"\r\n",
      "Q22681944-P4945-1f9cbb-ce961359-0\tQ22681944\tP4945\t\"https://calcite.apache.org/downloads\"\r\n",
      "Q22682008-P4945-410af1-33f82546-0\tQ22682008\tP4945\t\"http://brooklyn.apache.org/download/index.html\"\r\n",
      "Q22906426-P4945-79b61e-1b1a0e55-0\tQ22906426\tP4945\t\"http://commons.apache.org/logging/download_logging.cgi\"\r\n",
      "Q2300252-P4945-dc5ff3-d36ad74f-0\tQ2300252\tP4945\t\"https://sourceforge.net/projects/lxde/files/LXPanel%20(desktop%20panel)/\"\r\n",
      "Q23011420-P4945-1e7181-8e479f4c-0\tQ23011420\tP4945\t\"http://zeppelin.apache.org/download.html\"\r\n",
      "Q2445002-P4945-c183d0-d252f9ef-0\tQ2445002\tP4945\t\"http://axis.apache.org/axis2/java/core/download.cgi\"\r\n",
      "Q2496860-P4945-4cd342-dd636fd7-0\tQ2496860\tP4945\t\"http://cloudstack.apache.org/downloads.html\"\r\n",
      "Q25006181-P4945-33a568-37ce9e83-0\tQ25006181\tP4945\t\"http://apex.apache.org/downloads.html\"\r\n",
      "Q25006778-P4945-84b372-3071742c-0\tQ25006778\tP4945\t\"https://yetus.apache.org/downloads/\"\r\n",
      "Q25104626-P4945-981263-5a45dbb8-0\tQ25104626\tP4945\t\"https://directory.apache.org/fortress/downloads.html\"\r\n",
      "Q2538066-P4945-f86de9-45c51d49-0\tQ2538066\tP4945\t\"http://www.apache.org/dyn/closer.lua/hbase/\"\r\n",
      "Q266257-P4945-22fe35-3db888ce-0\tQ266257\tP4945\t\"http://thrift.apache.org/download/\"\r\n",
      "Q267913-P4945-790f7f-370456ca-0\tQ267913\tP4945\t\"http://xmlgraphics.apache.org/fop/download.html\"\r\n",
      "Q27926168-P4945-4beb3c-ab590dfe-0\tQ27926168\tP4945\t\"https://beam.apache.org/get-started/downloads/\"\r\n",
      "Q28064867-P4945-73d8e5-8a00b02d-0\tQ28064867\tP4945\t\"http://tez.apache.org/releases/\"\r\n",
      "Q2822898-P4945-25994c-f068c7ea-0\tQ2822898\tP4945\t\"https://accumulo.apache.org/downloads\"\r\n",
      "Q283469-P4945-2883d9-19c54a0f-0\tQ283469\tP4945\t\"https://www.microsoft.com/de-de/p/icloud/9pktq5699m62?activetab=pivot:overviewtab\"\r\n",
      "Q283966-P4945-62e505-9c3072a3-0\tQ283966\tP4945\t\"http://roller.apache.org/downloads.html\"\r\n",
      "Q284945-P4945-b2942c-a70a11b5-0\tQ284945\tP4945\t\"http://james.apache.org/download.cgi\"\r\n",
      "Q2858084-P4945-eea140-180614c5-0\tQ2858084\tP4945\t\"http://karaf.apache.org/download.html\"\r\n",
      "Q2858088-P4945-450f8c-d22531f0-0\tQ2858088\tP4945\t\"https://tika.apache.org/download.html\"\r\n",
      "Q2858103-P4945-c80516-d3fb6795-0\tQ2858103\tP4945\t\"http://lucene.apache.org/solr/downloads.html\"\r\n",
      "Q28912522-P4945-760d75-27cc2074-0\tQ28912522\tP4945\t\"http://ws.apache.org/axiom/download.cgi\"\r\n",
      "Q28912538-P4945-b23c03-917651ed-0\tQ28912538\tP4945\t\"http://www.apache.org/dyn/closer.cgi/bigtop/\"\r\n",
      "Q28912547-P4945-4e8b09-f99b30b2-0\tQ28912547\tP4945\t\"http://commons.apache.org/bcel/download_bcel.cgi\"\r\n",
      "Q28912561-P4945-ac481a-dc122470-0\tQ28912561\tP4945\t\"http://ws.apache.org/woden/dev/1.0/builds.html\"\r\n",
      "Q28912569-P4945-9aed2d-014f0ec7-0\tQ28912569\tP4945\t\"http://wookie.apache.org/docs/download.html\"\r\n",
      "Q28912580-P4945-78a079-2ff7f264-0\tQ28912580\tP4945\t\"http://tcl.apache.org/websh/download.html\"\r\n",
      "Q28912588-P4945-3c5e4c-62213be2-0\tQ28912588\tP4945\t\"http://myfaces.apache.org/tobago/download.html\"\r\n",
      "Q28912908-P4945-fdc031-f91b4756-0\tQ28912908\tP4945\t\"http://tiles.apache.org/download.html\"\r\n",
      "Q28912973-P4945-4e1b24-c22eb407-0\tQ28912973\tP4945\t\"http://velocity.apache.org/download.cgi\"\r\n",
      "Q28915060-P4945-6831a1-33cec450-0\tQ28915060\tP4945\t\"http://ace.apache.org/downloads.html\"\r\n",
      "Q28915104-P4945-4e1b24-f3e17edb-0\tQ28915104\tP4945\t\"http://velocity.apache.org/download.cgi\"\r\n",
      "Q28915107-P4945-47da3a-27b7805d-0\tQ28915107\tP4945\t\"http://ant.apache.org/antlibs/bindownload.cgi\"\r\n",
      "Q28915117-P4945-766e72-55bc8008-0\tQ28915117\tP4945\t\"http://any23.apache.org//download.html\"\r\n",
      "Q28915131-P4945-35158f-5503453b-0\tQ28915131\tP4945\t\"https://bookkeeper.apache.org/releases.html\"\r\n",
      "Q28915137-P4945-387962-0d70fb03-0\tQ28915137\tP4945\t\"http://celix.apache.org/download.cgi\"\r\n",
      "Q28915138-P4945-e6fbdd-e5c3421a-0\tQ28915138\tP4945\t\"http://www.apache.org/dyn/closer.cgi/chukwa/\"\r\n",
      "Q28915139-P4945-fe9644-75ff6277-0\tQ28915139\tP4945\t\"http://clerezza.apache.org/downloads/\"\r\n",
      "Q28915144-P4945-6e5a02-d733d8bd-0\tQ28915144\tP4945\t\"http://www.apache.org/dyn/closer.cgi/curator/\"\r\n",
      "Q28915145-P4945-fe5397-caa1e677-0\tQ28915145\tP4945\t\"http://deltacloud.apache.org/download.html\"\r\n",
      "Q28915147-P4945-a3300b-ee862490-0\tQ28915147\tP4945\t\"http://devicemap.apache.org/download/\"\r\n",
      "Q28915149-P4945-21d04a-2ce56313-0\tQ28915149\tP4945\t\"http://directmemory.apache.org/downloads.html\"\r\n",
      "Q28915151-P4945-fdaadd-1652938a-0\tQ28915151\tP4945\t\"http://jakarta.apache.org/site/downloads/downloads_ecs.cgi\"\r\n",
      "Q28915155-P4945-816a84-7d5d90de-0\tQ28915155\tP4945\t\"http://www.apache.org/dyn/closer.lua/incubator/falcon/\"\r\n",
      "Q28915160-P4945-5b81e4-5fae0f2e-0\tQ28915160\tP4945\t\"https://fluo.apache.org/releases/\"\r\n",
      "Q28915163-P4945-3e8848-b3a11548-0\tQ28915163\tP4945\t\"https://freemarker.apache.org/freemarkerdownload.html\"\r\n",
      "Q28915172-P4945-fc6080-6fcde769-0\tQ28915172\tP4945\t\"http://mina.apache.org/ftpserver-project/downloads.html\"\r\n",
      "Q28915193-P4945-6b3377-09b7acfe-0\tQ28915193\tP4945\t\"http://groovy-lang.org/download.html\"\r\n",
      "Q28915196-P4945-b7eef3-99c0e3fd-0\tQ28915196\tP4945\t\"http://guacamole.apache.org/releases/\"\r\n",
      "Q28915228-P4945-518431-09a3b2a8-0\tQ28915228\tP4945\t\"http://www.apache.org/dyn/closer.cgi/helix\"\r\n",
      "Q28915265-P4945-7c0795-8c22316d-0\tQ28915265\tP4945\t\"https://ignite.apache.org/download\"\r\n",
      "Q28915300-P4945-2e1ba8-69cd2a66-0\tQ28915300\tP4945\t\"http://ant.apache.org/ivy/ivyde/download.cgi\"\r\n",
      "Q28915302-P4945-664a8e-39e79194-0\tQ28915302\tP4945\t\"http://jclouds.apache.org/start/install/\"\r\n",
      "Q28915328-P4945-c4022b-840b0776-0\tQ28915328\tP4945\t\"http://jspwiki.apache.org/general/downloads.html\"\r\n",
      "Q28915335-P4945-af3c17-187f740d-0\tQ28915335\tP4945\t\"https://directory.apache.org/kerby/downloads.html\"\r\n",
      "Q28915354-P4945-b4ed39-ff531a13-0\tQ28915354\tP4945\t\"https://cwiki.apache.org/confluence/display/KNOX/Release+1.2.0\"\r\n",
      "Q28915356-P4945-aa1b15-938dca4f-0\tQ28915356\tP4945\t\"https://kudu.apache.org/releases/\"\r\n",
      "Q28915387-P4945-429da7-248a1cb7-0\tQ28915387\tP4945\t\"http://lens.apache.org/releases/download.html\"\r\n",
      "Q28915391-P4945-694762-8bd5cd90-0\tQ28915391\tP4945\t\"http://libcloud.apache.org/downloads.html\"\r\n",
      "Q28915393-P4945-4f1d59-581159f9-0\tQ28915393\tP4945\t\"http://logging.apache.org/log4cxx/download.html\"\r\n",
      "Q28915426-P4945-99ede8-ed8e5529-0\tQ28915426\tP4945\t\"http://lucy.apache.org/download.html\"\r\n",
      "Q28915431-P4945-3c41d4-188f0548-0\tQ28915431\tP4945\t\"http://manifoldcf.apache.org/en_US/download.html\"\r\n",
      "Q28915453-P4945-a294e2-89c7836d-0\tQ28915453\tP4945\t\"http://metamodel.apache.org/#download\"\r\n",
      "Q28915458-P4945-481472-c729d3a8-0\tQ28915458\tP4945\t\"http://milagro.incubator.apache.org/\"\r\n",
      "Q28915580-P4945-3884b2-793c8f57-0\tQ28915580\tP4945\t\"http://httpd.apache.org/download.cgi\"\r\n",
      "Q28915585-P4945-282232-3a7cc997-0\tQ28915585\tP4945\t\"http://mrunit.apache.org/general/downloads.html\"\r\n",
      "Q28915628-P4945-da8cf0-3681d711-0\tQ28915628\tP4945\t\"https://www.apache.org/dyn/closer.cgi/nutch/\"\r\n",
      "Q28915630-P4945-5983ed-c67cbf29-0\tQ28915630\tP4945\t\"http://olingo.apache.org/download.html\"\r\n",
      "Q28915658-P4945-dcbbcf-52369a69-0\tQ28915658\tP4945\t\"http://oodt.apache.org/download.html\"\r\n",
      "Q28915662-P4945-622799-7e331537-0\tQ28915662\tP4945\t\"https://openmeetings.apache.org/downloads.html\"\r\n",
      "Q28915683-P4945-4d2463-0a55128d-0\tQ28915683\tP4945\t\"https://parquet.apache.org/downloads/\"\r\n",
      "Q28915716-P4945-03361b-512b210c-0\tQ28915716\tP4945\t\"https://polygene.apache.org/download.html\"\r\n",
      "Q28915721-P4945-7b12b7-b2a4ea27-0\tQ28915721\tP4945\t\"http://creadur.apache.org/rat/download_rat.cgi\"\r\n",
      "Q28915756-P4945-575202-fdea0443-0\tQ28915756\tP4945\t\"http://reef.apache.org/downloads.html\"\r\n",
      "Q28915759-P4945-c2b721-38e78cd4-0\tQ28915759\tP4945\t\"http://jakarta.apache.org/site/downloads/downloads_regexp.cgi\"\r\n",
      "Q28915761-P4945-61911d-5c36ab24-0\tQ28915761\tP4945\t\"http://river.apache.org/downloads.html\"\r\n",
      "Q28915763-P4945-4f8f22-1e52e105-0\tQ28915763\tP4945\t\"http://www.apache.org/dyn/closer.cgi/tcl/rivet\"\r\n",
      "Q28915802-P4945-7825d8-9b78b8ed-0\tQ28915802\tP4945\t\"http://axis.apache.org/axis2/java/sandesha/download.cgi\"\r\n",
      "Q28915804-P4945-d1b67b-d9d2dd3c-0\tQ28915804\tP4945\t\"http://santuario.apache.org/mirrors.cgi\"\r\n",
      "Q28915807-P4945-450050-5702fd40-0\tQ28915807\tP4945\t\"http://juddi.apache.org/scout/downloads.html\"\r\n",
      "Q28915815-P4945-9bd9b4-e7373562-0\tQ28915815\tP4945\t\"http://serf.apache.org/download\"\r\n",
      "Q28915852-P4945-112d6c-742236b1-0\tQ28915852\tP4945\t\"http://mina.apache.org/sshd-project/downloads.html\"\r\n",
      "Q28915886-P4945-965259-c70798e2-0\tQ28915886\tP4945\t\"http://steve.apache.org/downloads.html\"\r\n",
      "Q28915889-P4945-259f8f-ea8cbf5c-0\tQ28915889\tP4945\t\"http://syncope.apache.org/downloads.html\"\r\n",
      "Q28916245-P4945-a95435-05103b50-0\tQ28916245\tP4945\t\"https://commons.apache.org/proper/commons-beanutils/download_beanutils.cgi\"\r\n",
      "Q28916246-P4945-26173f-5c5112f4-0\tQ28916246\tP4945\t\"http://commons.apache.org/chain/download_chain.cgi\"\r\n",
      "Q28916248-P4945-fcf138-e07e8291-0\tQ28916248\tP4945\t\"http://commons.apache.org/cli/download_cli.cgi\"\r\n",
      "Q28916249-P4945-8f3db9-7d4ff909-0\tQ28916249\tP4945\t\"http://commons.apache.org/codec/download_codec.cgi\"\r\n",
      "Q28916251-P4945-d13f79-b6e9d6cc-0\tQ28916251\tP4945\t\"http://commons.apache.org/compress/download_compress.cgi\"\r\n",
      "Q28916252-P4945-ee43e0-a5551a42-0\tQ28916252\tP4945\t\"http://commons.apache.org/configuration/download_configuration.cgi\"\r\n",
      "Q28916257-P4945-55177d-df683460-0\tQ28916257\tP4945\t\"http://commons.apache.org/dbcp/download_dbcp.cgi\"\r\n",
      "Q28916258-P4945-62910c-91bf85e3-0\tQ28916258\tP4945\t\"http://commons.apache.org/digester/download_digester.cgi\"\r\n",
      "Q28916259-P4945-f3000a-6aec0316-0\tQ28916259\tP4945\t\"http://commons.apache.org/discovery/download_discovery.cgi\"\r\n",
      "Q28916260-P4945-0bc80a-294806f1-0\tQ28916260\tP4945\t\"http://commons.apache.org/el/download_el.cgi\"\r\n",
      "Q28916261-P4945-9688bc-86a77277-0\tQ28916261\tP4945\t\"http://commons.apache.org/email/download_email.cgi\"\r\n",
      "Q28916262-P4945-92da8c-f670c7da-0\tQ28916262\tP4945\t\"http://commons.apache.org/exec/download_exec.cgi\"\r\n",
      "Q28916263-P4945-ce1cc7-80504a6c-0\tQ28916263\tP4945\t\"http://commons.apache.org/fileupload/download_fileupload.cgi\"\r\n",
      "Q28916264-P4945-57bb4a-ff4b05fc-0\tQ28916264\tP4945\t\"http://commons.apache.org/functor/download_functor.cgi\"\r\n",
      "Q28916266-P4945-cfa438-ef98bbf9-0\tQ28916266\tP4945\t\"http://httpcomponents.apache.org/downloads.cgi\"\r\n",
      "Q28916267-P4945-0803c1-713f6ecf-0\tQ28916267\tP4945\t\"http://commons.apache.org/jci/download_jci.cgi\"\r\n",
      "Q28916268-P4945-67fbca-ff17c9b3-0\tQ28916268\tP4945\t\"http://commons.apache.org/proper/commons-jcs/download_jcs.cgi\"\r\n",
      "Q28916269-P4945-d09c66-8ed01b1f-0\tQ28916269\tP4945\t\"http://commons.apache.org/jelly/download_jelly.cgi\"\r\n",
      "Q28916270-P4945-4a970b-2a3bead5-0\tQ28916270\tP4945\t\"http://commons.apache.org/jexl/download_jexl.cgi\"\r\n",
      "Q28916271-P4945-2fd398-ea8dda12-0\tQ28916271\tP4945\t\"http://commons.apache.org/jxpath/download_jxpath.cgi\"\r\n",
      "Q28916274-P4945-2f3e29-3108173b-0\tQ28916274\tP4945\t\"http://commons.apache.org/launcher/download_launcher.cgi\"\r\n",
      "Q28916277-P4945-3e13ed-bec61e7d-0\tQ28916277\tP4945\t\"http://commons.apache.org/modeler/download_modeler.cgi\"\r\n",
      "Q28916278-P4945-e5a52e-95345123-0\tQ28916278\tP4945\t\"http://commons.apache.org/net/download_net.cgi\"\r\n",
      "Q28916279-P4945-634bfb-b2cfaafd-0\tQ28916279\tP4945\t\"http://commons.apache.org/proper/commons-ognl/download_ognl.cgi\"\r\n",
      "Q28916280-P4945-1b87cf-624cf60a-0\tQ28916280\tP4945\t\"http://commons.apache.org/pool/download_pool.cgi\"\r\n",
      "Q28916281-P4945-e4496d-494ed162-0\tQ28916281\tP4945\t\"http://commons.apache.org/proxy/download_proxy.cgi\"\r\n",
      "Q28916282-P4945-b7dc5f-b9d0ea88-0\tQ28916282\tP4945\t\"https://commons.apache.org/rng/download_rng.cgi\"\r\n",
      "Q28916283-P4945-093a18-4b5d9ed4-0\tQ28916283\tP4945\t\"http://commons.apache.org/scxml/download_scxml.cgi\"\r\n",
      "Q28916285-P4945-4bd449-c5d8d852-0\tQ28916285\tP4945\t\"http://commons.apache.org/validator/downloads.html\"\r\n",
      "Q28916286-P4945-1b26e4-adaaf6b9-0\tQ28916286\tP4945\t\"http://commons.apache.org/vfs/download_vfs.cgi\"\r\n",
      "Q28916287-P4945-f8e0cc-cf29f435-0\tQ28916287\tP4945\t\"http://commons.apache.org/weaver/download_weaver.cgi\"\r\n",
      "Q28916289-P4945-47da3a-e8f3595f-0\tQ28916289\tP4945\t\"http://ant.apache.org/antlibs/bindownload.cgi\"\r\n",
      "Q28916290-P4945-f6c9aa-602eae3f-0\tQ28916290\tP4945\t\"http://www.apache.org/dyn/closer.cgi/crunch\"\r\n",
      "Q28916292-P4945-d5a93f-7433de92-0\tQ28916292\tP4945\t\"http://www.apache.org/dyn/closer.cgi/directory/apacheds/\"\r\n",
      "Q28916293-P4945-3ab295-08bca34f-0\tQ28916293\tP4945\t\"http://directory.apache.org/studio/downloads.html\"\r\n",
      "Q28916296-P4945-cfa438-5ad33b3f-0\tQ28916296\tP4945\t\"http://httpcomponents.apache.org/downloads.cgi\"\r\n",
      "Q28916297-P4945-cfa438-43c867b4-0\tQ28916297\tP4945\t\"http://httpcomponents.apache.org/downloads.cgi\"\r\n",
      "Q28916299-P4945-87bb50-0398bfd9-0\tQ28916299\tP4945\t\"http://logging.apache.org/log4php/download.html\"\r\n",
      "Q28916300-P4945-0b845d-ad5407a9-0\tQ28916300\tP4945\t\"https://maven.apache.org/doxia/download.html\"\r\n",
      "Q28916305-P4945-e53781-3c695586-0\tQ28916305\tP4945\t\"https://oltu.apache.org/download.html\"\r\n",
      "Q28916306-P4945-bdf170-8b6880fa-0\tQ28916306\tP4945\t\"http://climate.apache.org/\"\r\n",
      "Q28916307-P4945-2b85e4-5fcc285f-0\tQ28916307\tP4945\t\"http://jakarta.apache.org/site/downloads/downloads_oro.cgi\"\r\n",
      "Q28916311-P4945-47da3a-ac61e3f1-0\tQ28916311\tP4945\t\"http://ant.apache.org/antlibs/bindownload.cgi\"\r\n",
      "Q28916315-P4945-8b0174-32e8505f-0\tQ28916315\tP4945\t\"http://sis.apache.org/downloads.html\"\r\n",
      "Q28916327-P4945-17d3d4-3a9b4117-0\tQ28916327\tP4945\t\"http://vcl.apache.org/downloads/download.cgi\"\r\n",
      "Q28916328-P4945-4e1b24-a6b6dda3-0\tQ28916328\tP4945\t\"http://velocity.apache.org/download.cgi\"\r\n",
      "Q28916329-P4945-94d3f5-7f2d2f60-0\tQ28916329\tP4945\t\"http://velocity.apache.org/download.cgi#tools\"\r\n",
      "Q28916330-P4945-47da3a-ec267252-0\tQ28916330\tP4945\t\"http://ant.apache.org/antlibs/bindownload.cgi\"\r\n",
      "Q28916336-P4945-fbd183-216fa906-0\tQ28916336\tP4945\t\"http://www.apache.org/dyn/closer.cgi/whirr/\"\r\n",
      "Q28916340-P4945-64b5d0-befbe13a-0\tQ28916340\tP4945\t\"http://xerces.apache.org/mirrors.cgi\"\r\n",
      "Q28916341-P4945-0dceda-b2f34ed2-0\tQ28916341\tP4945\t\"http://xml.apache.org/xindice/download.cgi\"\r\n",
      "Q28916342-P4945-64b5d0-c50071a2-0\tQ28916342\tP4945\t\"http://xerces.apache.org/mirrors.cgi\"\r\n",
      "Q28916343-P4945-561c1e-8447f002-0\tQ28916343\tP4945\t\"http://www.apache.org/dyn/closer.cgi/xmlbeans/\"\r\n",
      "Q28974890-P4945-a9b9c8-f21c336e-0\tQ28974890\tP4945\t\"https://gqrx.dk/download\"\r\n",
      "Q30243079-P4945-9f1049-65324adf-0\tQ30243079\tP4945\t\"https://data.stadt-zuerich.ch/dataset/denkmalschutzobjekt/resource/4abb2915-6ed7-4759-8969-15061235d669/download/denkmalschutzobjekt.zip\"\r\n",
      "Q30243243-P4945-cf46b9-991cfb66-0\tQ30243243\tP4945\t\"https://data.stadt-zuerich.ch/dataset/denkmalschutzobjekt/resource/c92191f6-2bec-43a8-b4ea-43b3af282f6f/download/denkmalschutzobjekt.kmz\"\r\n",
      "Q328-P4945-a87b29-adecb482-0\tQ328\tP4945\t\"http://download.kiwix.org/zim/wikipedia_en_all_novid.zim\"\r\n",
      "Q328-P4945-d61276-35781260-0\tQ328\tP4945\t\"http://download.kiwix.org/zim/wikipedia_en_all_novid.zim.torrent\"\r\n",
      "Q369425-P4945-c5495f-1d7efb69-0\tQ369425\tP4945\t\"http://geronimo.apache.org/downloads.html\"\r\n",
      "Q371501-P4945-4b3eab-3bfd9a08-0\tQ371501\tP4945\t\"http://lenya.apache.org/docs/2_0_x/installation/index.html\"\r\n",
      "Q378758-P4945-6e66e9-f57320e8-0\tQ378758\tP4945\t\"http://mina.apache.org/downloads.html\"\r\n",
      "Q385970-P4945-d762f3-15515fa6-0\tQ385970\tP4945\t\"http://ant.apache.org/bindownload.cgi\"\r\n",
      "Q39155733-P4945-db599e-9097f3a9-0\tQ39155733\tP4945\t\"https://everest.hds.utc.fr/lib/exe/fetch.php?media=en:fb15k.tgz\"\r\n",
      "Q39238-P4945-ae39ee-19ca2fb8-0\tQ39238\tP4945\t\"https://lubuntu.me/downloads/\"\r\n",
      "Q4034164-P4945-e4fcc2-55ec60b4-0\tQ4034164\tP4945\t\"http://felix.apache.org/downloads.cgi\"\r\n",
      "Q4113362-P4945-c44f2b-504e8886-0\tQ4113362\tP4945\t\"http://www.astralmasters.com:8086/index.cgi?q=download\"\r\n",
      "Q4778891-P4945-7114d4-5c731dbf-0\tQ4778891\tP4945\t\"http://airavata.apache.org/about/downloads.html\"\r\n",
      "Q4778896-P4945-d540d1-93580e1d-0\tQ4778896\tP4945\t\"http://buildr.apache.org/download.html\"\r\n",
      "Q4778901-P4945-5b4bef-319ad001-0\tQ4778901\tP4945\t\"http://beehive.apache.org/downloads.html\"\r\n",
      "Q4778906-P4945-042bc0-b6bae11e-0\tQ4778906\tP4945\t\"http://click.apache.org/docs/downloads.html\"\r\n",
      "Q4778908-P4945-d164b8-4d967d83-0\tQ4778908\tP4945\t\"http://drill.apache.org/download/\"\r\n",
      "Q4778910-P4945-c2a184-a6f65f41-0\tQ4778910\tP4945\t\"http://empire-db.apache.org/downloads/latest.htm\"\r\n",
      "Q4778912-P4945-9b8cc9-0496ac66-0\tQ4778912\tP4945\t\"http://hama.apache.org/downloads.html\"\r\n",
      "Q4778914-P4945-32524a-d6a13aec-0\tQ4778914\tP4945\t\"http://hive.apache.org/releases.html\"\r\n",
      "Q4778918-P4945-896bf8-0f9fcc30-0\tQ4778918\tP4945\t\"http://hivemind.apache.org/download.html\"\r\n",
      "Q4778931-P4945-840b15-7a55b74c-0\tQ4778931\tP4945\t\"http://mahout.apache.org/general/downloads.html\"\r\n",
      "Q4778935-P4945-9ed59c-71afe27a-0\tQ4778935\tP4945\t\"http://ode.apache.org/getting-ode.html\"\r\n",
      "Q4778948-P4945-613f63-2fbc6a02-0\tQ4778948\tP4945\t\"http://sling.apache.org/site/downloads.cgi\"\r\n",
      "Q4778949-P4945-a3077f-639761ed-0\tQ4778949\tP4945\t\"http://stanbol.apache.org/downloads/\"\r\n",
      "Q4778953-P4945-2795bd-59f26017-0\tQ4778953\tP4945\t\"http://synapse.apache.org/download.cgi\"\r\n",
      "Q4778956-P4945-bfa77a-4aa08f49-0\tQ4778956\tP4945\t\"http://db.apache.org/torque/download.html\"\r\n",
      "Q4778958-P4945-0e96fd-c2425ed6-0\tQ4778958\tP4945\t\"http://www.apache.org/dyn/closer.cgi/vxquery/\"\r\n",
      "Q4778959-P4945-9584e3-74c1be5e-0\tQ4778959\tP4945\t\"http://tomee.apache.org/downloads.html\"\r\n",
      "Q4778968-P4945-07af5c-3dda1a47-0\tQ4778968\tP4945\t\"https://www.apache.org/dyn/closer.cgi/zookeeper/\"\r\n",
      "Q5014525-P4945-1bc34e-20874e52-0\tQ5014525\tP4945\t\"http://ctakes.apache.org/downloads.cgi\"\r\n",
      "Q50413281-P4945-934f9c-956263ba-0\tQ50413281\tP4945\t\"https://www.nachhaltigkeit.info/media/1248173898php7wc9Pc.pdf\"\r\n",
      "Q50413425-P4945-1a2c0f-2184ebda-0\tQ50413425\tP4945\t\"http://www.kas.de/upload/ACDP/CDU/Koalitionsvertraege/Koalitionsvertrag1994.pdf\"\r\n",
      "Q50413431-P4945-576fa9-cfb8bcc5-0\tQ50413431\tP4945\t\"http://www.kas.de/wf/doc/kas_27202-544-1-30.pdf\"\r\n",
      "Q51370083-P4945-14a4bb-af5b3449-0\tQ51370083\tP4945\t\"http://astralheroes.com/files/AHsetup101a.exe?m=A\"\r\n",
      "Q51370083-P4945-22409b-e41b01e7-0\tQ51370083\tP4945\t\"http://astralheroes.com/files/ahsetup11t.exe\"\r\n",
      "Q539347-P4945-e379d4-4e819287-0\tQ539347\tP4945\t\"http://myfaces.apache.org/download.html\"\r\n",
      "Q54228663-P4945-b1864b-a0112d9b-0\tQ54228663\tP4945\t\"https://www.data.gouv.fr/fr/datasets/donnees-de-comptabilite-generale-de-letat/\"\r\n",
      "Q55179527-P4945-eee021-7a94afa1-0\tQ55179527\tP4945\t\"http://www.ssc.smr.ru/ftp/2001/02_ii.pdf\"\r\n",
      "Q55989133-P4945-01dcbd-d7cf9a23-0\tQ55989133\tP4945\t\"https://www.regjeringen.no/contentassets/bf7a48eac08a42a5a8758969c5ec64f8/no/pdfs/handbok-for-politisk-ledelse-2017.pdf\"\r\n",
      "Q568991-P4945-79ca53-4e5e410a-0\tQ568991\tP4945\t\"https://addons.mozilla.org/firefox/addon/mozilla-labs-prism/\"\r\n",
      "Q5700838-P4945-796698-f45030dc-0\tQ5700838\tP4945\t\"http://bval.apache.org/downloads.html\"\r\n",
      "Q5700844-P4945-456de0-03ec5a0e-0\tQ5700844\tP4945\t\"http://svn.apache.org/repos/asf/esme/\"\r\n",
      "Q59593930-P4945-845486-f5f05d3a-0\tQ59593930\tP4945\t\"http://vnuf.cz/sbornik_old/software/Famulus/Famulus.zip\"\r\n",
      "Q599731-P4945-65e64e-bd48c26d-0\tQ599731\tP4945\t\"http://harmony.apache.org/download.cgi\"\r\n",
      "Q60767426-P4945-f82a02-77203694-0\tQ60767426\tP4945\t\"https://orc.apache.org/docs/releases.html\"\r\n",
      "Q616321-P4945-bdcdb3-354f3deb-0\tQ616321\tP4945\t\"http://www.apache.org/dyn/closer.cgi/directory\"\r\n",
      "Q616575-P4945-0e11e1-15d3dff3-0\tQ616575\tP4945\t\"http://archiva.apache.org/download.html\"\r\n",
      "Q616580-P4945-235913-b170e6ed-0\tQ616580\tP4945\t\"http://avro.apache.org/releases.html\"\r\n",
      "Q616626-P4945-bb441b-bcb9890f-0\tQ616626\tP4945\t\"https://camel.apache.org/download.html\"\r\n",
      "Q616639-P4945-d19ff7-e2e8eb40-0\tQ616639\tP4945\t\"http://cassandra.apache.org/download/\"\r\n",
      "Q616663-P4945-03f689-4aed2db4-0\tQ616663\tP4945\t\"http://cocoon.apache.org/1284_1_1.html\"\r\n",
      "Q616706-P4945-2ae1d7-38864d78-0\tQ616706\tP4945\t\"http://db.apache.org/derby/derby_downloads.html\"\r\n",
      "Q616749-P4945-54d18d-114120ed-0\tQ616749\tP4945\t\"http://forrest.apache.org/mirrors.cgi\"\r\n",
      "Q616759-P4945-0fa4da-6bdbb60b-0\tQ616759\tP4945\t\"http://flex.apache.org/download-source.html\"\r\n",
      "Q616872-P4945-fc7474-af2dc01d-0\tQ616872\tP4945\t\"http://ant.apache.org/ivy/download.cgi\"\r\n",
      "Q616885-P4945-b5bba1-0493c758-0\tQ616885\tP4945\t\"http://jmeter.apache.org/download_jmeter.cgi\"\r\n",
      "Q616893-P4945-754e31-dc3163e7-0\tQ616893\tP4945\t\"http://jackrabbit.apache.org/download.cgi\"\r\n",
      "Q616979-P4945-35f849-9ef7b76b-0\tQ616979\tP4945\t\"http://ofbiz.apache.org/download.html\"\r\n",
      "Q616991-P4945-11fc18-4168f71c-0\tQ616991\tP4945\t\"https://www.apache.org/dyn/closer.lua/poi/\"\r\n",
      "Q616999-P4945-bd7929-e7a00257-0\tQ616999\tP4945\t\"http://pivot.apache.org/download.cgi\"\r\n",
      "Q617014-P4945-1f49fe-2a980fc9-0\tQ617014\tP4945\t\"https://apr.apache.org/download.cgi\"\r\n",
      "Q617024-P4945-51a2ff-fab9aebe-0\tQ617024\tP4945\t\"http://www.apache.org/dyn/closer.cgi/portals\"\r\n",
      "Q617093-P4945-1899d8-e6000fe8-0\tQ617093\tP4945\t\"http://tapestry.apache.org/download.html\"\r\n",
      "Q617133-P4945-3d507b-0509b382-0\tQ617133\tP4945\t\"http://tuscany.apache.org/tuscany-downloads-documentations.html\"\r\n",
      "Q617156-P4945-4e1b24-5180065e-0\tQ617156\tP4945\t\"http://velocity.apache.org/download.cgi\"\r\n",
      "Q617162-P4945-1e2d2a-3aca8a79-0\tQ617162\tP4945\t\"http://wicket.apache.org\"\r\n",
      "Q61939444-P4945-e1d8ee-cf5fc533-0\tQ61939444\tP4945\t\"https://code.google.com/archive/p/exchangerxml/downloads\"\r\n",
      "Q62084229-P4945-080be5-4c7508f5-0\tQ62084229\tP4945\t\"http://data.europa.eu/euodp/data/dataset/jrc-emm-jrc-names\"\r\n",
      "Q62084229-P4945-4a1758-c4b7c95b-0\tQ62084229\tP4945\t\"https://ec.europa.eu/jrc/en/language-technologies/jrc-names#Download%20JRC-Names\"\r\n",
      "Q63761446-P4945-daace4-a4b53f51-0\tQ63761446\tP4945\t\"https://www.microsoft.com/en-us/download/details.aspx?id=52312\"\r\n",
      "Q64944572-P4945-17a4e1-d7931f7b-0\tQ64944572\tP4945\t\"https://www.verfassungsschutz.de/download/vsbericht-2018.pdf\"\r\n",
      "Q65054325-P4945-5c6e46-a5869a39-0\tQ65054325\tP4945\t\"https://yuzu-emu.org/downloads/\"\r\n",
      "Q70658231-P4945-9c4c48-a9ab2b07-0\tQ70658231\tP4945\t\"https://www.academia.edu/16912821/PEREIRA_Mateus_H._F._A_M%C3%A1quina_da_Mem%C3%B3ria_Almanaque_Abril_o_tempo_presente_entre_a_hist%C3%B3ria_e_o_jornalismo._Bauru_EDUSC_2009._312p_\"\r\n",
      "Q7095477-P4945-d1656a-2bccc79b-0\tQ7095477\tP4945\t\"http://www.apache.org/dyn/closer.lua/oozie/\"\r\n",
      "Q7095836-P4945-5d3829-7bb625da-0\tQ7095836\tP4945\t\"http://opennlp.apache.org/download.html\"\r\n",
      "Q70994775-P4945-872fcd-dd4743a7-0\tQ70994775\tP4945\t\"https://jlsc-pub.org/articles/10.7710/2162-3309.2220/galley/211/download/\"\r\n",
      "Q71283660-P4945-8f21ae-3847d9d1-0\tQ71283660\tP4945\t\"https://web.archive.org/web/20161221091748/http://shron.chtyvo.org.ua/Levchenko_SP/Kataloh_richok_Ukrainy.pdf\"\r\n",
      "Q7193204-P4945-b400e6-4d8de681-0\tQ7193204\tP4945\t\"http://pig.apache.org/releases.html\"\r\n",
      "Q7392862-P4945-a4ff2b-54dcec54-0\tQ7392862\tP4945\t\"https://dds.cr.usgs.gov/srtm/version2_1/SWBD/\"\r\n",
      "Q7573619-P4945-0be8bb-0383c86d-0\tQ7573619\tP4945\t\"http://spark.apache.org/downloads.html\"\r\n",
      "Q7620099-P4945-b64577-34eba6f7-0\tQ7620099\tP4945\t\"http://storm.apache.org/downloads.html\"\r\n",
      "Q76259035-P4945-27dd7e-7f2232ac-0\tQ76259035\tP4945\t\"https://www.babelstone.co.uk/Fonts/Download/BabelStoneHan.ttf\"\r\n",
      "Q7689070-P4945-7a69d8-bb63d5c8-0\tQ7689070\tP4945\t\"http://taverna.incubator.apache.org/download/\"\r\n",
      "Q7725312-P4945-790164-381599ba-0\tQ7725312\tP4945\t\"https://www.vagrantup.com/downloads\"\r\n",
      "Q773121-P4945-d0cdc6-d472f171-0\tQ773121\tP4945\t\"http://abdera.apache.org/#downloads\"\r\n",
      "Q773131-P4945-d0543a-59e01299-0\tQ773131\tP4945\t\"http://aries.apache.org/downloads/currentrelease.html\"\r\n",
      "Q773135-P4945-1a0663-31b70397-0\tQ773135\tP4945\t\"http://activemq.apache.org/download.html\"\r\n",
      "Q773142-P4945-53b924-335cf490-0\tQ773142\tP4945\t\"http://cayenne.apache.org/download.html\"\r\n",
      "Q773148-P4945-215361-68e58846-0\tQ773148\tP4945\t\"http://continuum.apache.org/download.html\"\r\n",
      "Q773156-P4945-91880a-57c1742f-0\tQ773156\tP4945\t\"http://excalibur.apache.org/download.cgi\"\r\n",
      "Q773173-P4945-1ce140-15b99865-0\tQ773173\tP4945\t\"http://lucenenet.apache.org/download.cgi\"\r\n",
      "Q773188-P4945-a9484a-254b2d8a-0\tQ773188\tP4945\t\"http://qpid.apache.org/download.html\"\r\n",
      "Q773193-P4945-b10bb1-80c418f6-0\tQ773193\tP4945\t\"http://openjpa.apache.org/downloads.html\"\r\n",
      "Q773207-P4945-b050c8-cd3ed309-0\tQ773207\tP4945\t\"http://shindig.apache.org/download\"\r\n",
      "Q773211-P4945-a7f90c-2c258388-0\tQ773211\tP4945\t\"http://shale.apache.org/downloads.html\"\r\n",
      "Q773212-P4945-a42285-a8820c5e-0\tQ773212\tP4945\t\"http://servicemix.apache.org/download.html\"\r\n",
      "Q773217-P4945-6ab8f4-05b42fe5-0\tQ773217\tP4945\t\"https://shiro.apache.org/download.html\"\r\n",
      "Q773220-P4945-a99414-41909054-0\tQ773220\tP4945\t\"http://sqoop.apache.org/\"\r\n",
      "Q773231-P4945-f4b3d8-37e797f7-0\tQ773231\tP4945\t\"http://wink.apache.org/downloads.html\"\r\n",
      "Q777840-P4945-caf469-70194110-0\tQ777840\tP4945\t\"https://workrave.org/download/\"\r\n",
      "Q78174778-P4945-253ff8-8420bcfc-0\tQ78174778\tP4945\t\"https://sourceforge.net/projects/lxde/files/LXLauncher%20(for%20Asus%20EeePC)/\"\r\n",
      "Q7884429-P4945-6cac85-06403101-0\tQ7884429\tP4945\t\"http://logging.apache.org/log4net/download_log4net.cgi\"\r\n",
      "Q79687304-P4945-a25931-132bfe97-0\tQ79687304\tP4945\t\"https://goodnight.games/GOODNIGHT_setup.exe\"\r\n",
      "Q80455831-P4945-17b1c1-56186132-0\tQ80455831\tP4945\t\"https://cdn.netzpolitik.org/wp-upload/2019/12/Systemabsturz-Verd%C3%A4chtig.mp3\"\r\n",
      "Q80455831-P4945-34bb3d-b6fc1d59-0\tQ80455831\tP4945\t\"https://ipfs.io/ipfs/QmetipSfNvWL59VNQ2z9wQzZd4sbrKW8RNk9Lqfx7bu3ct?filename=Systemabsturz%20-%20Verd%C3%A4chtig.flac\"\r\n",
      "Q810829-P4945-86705a-aec95e19-0\tQ810829\tP4945\t\"http://xmlgraphics.apache.org/download.cgi\"\r\n",
      "Q83276370-P4945-3f6c38-950f4eb5-0\tQ83276370\tP4945\t\"http://cue.tools/wiki/CUETools_Download\"\r\n",
      "Q84847170-P4945-53c565-c05996f0-0\tQ84847170\tP4945\t\"https://www.microsoft.com/en-us/download/details.aspx?id=100847\"\r\n",
      "Q88583276-P4945-38b421-81073e65-0\tQ88583276\tP4945\t\"https://hexaspectrum.bandcamp.com/album/twin\"\r\n",
      "Q88801455-P4945-2690d9-a68d0cb7-0\tQ88801455\tP4945\t\"https://www.medrxiv.org/content/10.1101/2020.03.24.20043026v1.full.pdf\"\r\n",
      "Q89674438-P4945-4ab892-27c9470c-0\tQ89674438\tP4945\t\"http://www.mediafire.com/file/gqhrn1t7gdt0hmu/Lok_Low_-_BONNE_ANNE%25CC%2581E.mp3/file\"\r\n",
      "Q89675643-P4945-f80fe9-048131a8-0\tQ89675643\tP4945\t\"http://www.mediafire.com/file/6gk3r3vazmc9zey/Lok_Low_ft_Yremia_-_Ma_Own_Way.mp3/file\"\r\n",
      "Q89685338-P4945-76675e-b9bab5f9-0\tQ89685338\tP4945\t\"http://www.mediafire.com/file/c45g5ir94avatal/Lok_Low_-_Retour_%25C3%2580_L%2527Art.mp3/file\"\r\n",
      "Q89685749-P4945-8a3d39-1e3d3b33-0\tQ89685749\tP4945\t\"http://www.mediafire.com/file/dbzky8k8p5946ui/Lok_Low_-_IRRESPONSABLES.mp3/file\"\r\n",
      "Q89686381-P4945-1f321c-487c76b5-0\tQ89686381\tP4945\t\"https://www.mediafire.com/folder/oluch38jb4q29/Lok?fbclid=IwAR2Y1BmRB1eqesnrTzIJuHdvTgTdlhwsK8RIEhK2qSsDdNIyT5sYRNs5CDc\"\r\n",
      "Q89686560-P4945-d57178-a007a505-0\tQ89686560\tP4945\t\"http://www.mediafire.com/file/h5d5och3f25m1l5/Lok_Low_-_BBR.mp3/file\"\r\n",
      "Q89798349-P4945-3a6b93-c289cbe7-0\tQ89798349\tP4945\t\"https://hexaspectrum.bandcamp.com/track/dementia-2013\"\r\n",
      "Q89798487-P4945-a2b186-aa122f0b-0\tQ89798487\tP4945\t\"https://hexaspectrum.bandcamp.com/track/hesytation-part-i-2011\"\r\n",
      "Q89798776-P4945-630671-bd8aca24-0\tQ89798776\tP4945\t\"https://hexaspectrum.bandcamp.com/track/the-rainmaker-2012\"\r\n",
      "Q89799185-P4945-a336fe-9aab3076-0\tQ89799185\tP4945\t\"https://hexaspectrum.bandcamp.com/track/bleed-for-the-undiscovered-2011\"\r\n",
      "Q89799477-P4945-5b2594-ff427c3b-0\tQ89799477\tP4945\t\"https://hexaspectrum.bandcamp.com/track/hesytation-part-ii-2012\"\r\n",
      "Q89799631-P4945-3012a3-b094208e-0\tQ89799631\tP4945\t\"https://hexaspectrum.bandcamp.com/track/a-path-to-reality-2013\"\r\n",
      "Q89799638-P4945-a8622b-f8a65c23-0\tQ89799638\tP4945\t\"https://hexaspectrum.bandcamp.com/track/urban-conundrum-2012\"\r\n",
      "Q89799669-P4945-47cc91-44ddc7b9-0\tQ89799669\tP4945\t\"https://hexaspectrum.bandcamp.com/track/toxic-mind-2013\"\r\n",
      "Q89799913-P4945-f10f38-0beac24b-0\tQ89799913\tP4945\t\"https://hexaspectrum.bandcamp.com/track/illumination-2014\"\r\n",
      "Q900957-P4945-fcdf4f-edfb1342-0\tQ900957\tP4945\t\"http://struts.apache.org/releases.html\"\r\n",
      "Q92821558-P4945-65f496-5bd9916e-0\tQ92821558\tP4945\t\"https://www.mediafire.com/file/fzoetj7i0q6d2jo/Lok_Low_-_Ton_Requiem_%255BProd._Floyd%255D.mp3/file\"\r\n",
      "Q92953148-P4945-442210-fba16ead-0\tQ92953148\tP4945\t\"https://www2.census.gov/topics/genealogy/2010surnames/names.zip\"\r\n",
      "Q94326697-P4945-77a1ce-4e6b0956-0\tQ94326697\tP4945\t\"https://jembendell.com/2019/05/15/deep-adaptation-versions/\"\r\n",
      "Q95028671-P4945-3c1f9e-d83f55d2-0\tQ95028671\tP4945\t\"http://wartimecanada.ca/sites/default/files/documents/War%20Memorial.pdf\"\r\n"
     ]
    }
   ],
   "source": [
    "!cat ../../allConstraintsAnalysis/typeConstraint_Final/normal/claims.type-constraints.instanceOf.P4945.correct.tsv"
   ]
  },
  {
   "cell_type": "code",
   "execution_count": 42,
   "id": "interested-cleaner",
   "metadata": {},
   "outputs": [
    {
     "name": "stdout",
     "output_type": "stream",
     "text": [
      "node1\tlabel\tnode2\r\n",
      "\"http://abdera.apache.org/#downloads\"\tcount\t1\r\n",
      "\"http://ace.apache.org/downloads.html\"\tcount\t1\r\n",
      "\"http://activemq.apache.org/download.html\"\tcount\t1\r\n",
      "\"http://airavata.apache.org/about/downloads.html\"\tcount\t1\r\n",
      "\"http://allura.apache.org/\"\tcount\t1\r\n",
      "\"http://ant.apache.org/antlibs/bindownload.cgi\"\tcount\t4\r\n",
      "\"http://ant.apache.org/bindownload.cgi\"\tcount\t1\r\n",
      "\"http://ant.apache.org/ivy/download.cgi\"\tcount\t1\r\n",
      "\"http://ant.apache.org/ivy/ivyde/download.cgi\"\tcount\t1\r\n",
      "\"http://any23.apache.org//download.html\"\tcount\t1\r\n",
      "\"http://apex.apache.org/downloads.html\"\tcount\t1\r\n",
      "\"http://archiva.apache.org/download.html\"\tcount\t1\r\n",
      "\"http://aries.apache.org/downloads/currentrelease.html\"\tcount\t1\r\n",
      "\"http://astralheroes.com/files/AHsetup101a.exe?m=A\"\tcount\t1\r\n",
      "\"http://astralheroes.com/files/ahsetup11t.exe\"\tcount\t1\r\n",
      "\"http://avro.apache.org/releases.html\"\tcount\t1\r\n",
      "\"http://axis.apache.org/axis2/java/core/download.cgi\"\tcount\t1\r\n",
      "\"http://axis.apache.org/axis2/java/sandesha/download.cgi\"\tcount\t1\r\n",
      "\"http://beehive.apache.org/downloads.html\"\tcount\t1\r\n",
      "\"http://bloodhound.apache.org/\"\tcount\t1\r\n",
      "\"http://brooklyn.apache.org/download/index.html\"\tcount\t1\r\n",
      "\"http://buildr.apache.org/download.html\"\tcount\t1\r\n",
      "\"http://bval.apache.org/downloads.html\"\tcount\t1\r\n",
      "\"http://cassandra.apache.org/download/\"\tcount\t1\r\n",
      "\"http://cayenne.apache.org/download.html\"\tcount\t1\r\n",
      "\"http://celix.apache.org/download.cgi\"\tcount\t1\r\n",
      "\"http://chemistry.apache.org/\"\tcount\t1\r\n",
      "\"http://clerezza.apache.org/downloads/\"\tcount\t1\r\n",
      "\"http://click.apache.org/docs/downloads.html\"\tcount\t1\r\n",
      "\"http://climate.apache.org/\"\tcount\t1\r\n",
      "\"http://cloudstack.apache.org/downloads.html\"\tcount\t1\r\n",
      "\"http://cocoon.apache.org/1284_1_1.html\"\tcount\t1\r\n",
      "\"http://commons.apache.org/bcel/download_bcel.cgi\"\tcount\t1\r\n",
      "\"http://commons.apache.org/chain/download_chain.cgi\"\tcount\t1\r\n",
      "\"http://commons.apache.org/cli/download_cli.cgi\"\tcount\t1\r\n",
      "\"http://commons.apache.org/codec/download_codec.cgi\"\tcount\t1\r\n",
      "\"http://commons.apache.org/collections/download_collections.cgi\"\tcount\t1\r\n",
      "\"http://commons.apache.org/compress/download_compress.cgi\"\tcount\t1\r\n",
      "\"http://commons.apache.org/configuration/download_configuration.cgi\"\tcount\t1\r\n",
      "\"http://commons.apache.org/dbcp/download_dbcp.cgi\"\tcount\t1\r\n",
      "\"http://commons.apache.org/dbutils/download_dbutils.cgi\"\tcount\t1\r\n",
      "\"http://commons.apache.org/digester/download_digester.cgi\"\tcount\t1\r\n",
      "\"http://commons.apache.org/discovery/download_discovery.cgi\"\tcount\t1\r\n",
      "\"http://commons.apache.org/el/download_el.cgi\"\tcount\t1\r\n",
      "\"http://commons.apache.org/email/download_email.cgi\"\tcount\t1\r\n",
      "\"http://commons.apache.org/exec/download_exec.cgi\"\tcount\t1\r\n",
      "\"http://commons.apache.org/fileupload/download_fileupload.cgi\"\tcount\t1\r\n",
      "\"http://commons.apache.org/functor/download_functor.cgi\"\tcount\t1\r\n",
      "\"http://commons.apache.org/io/download_io.cgi\"\tcount\t1\r\n",
      "\"http://commons.apache.org/jci/download_jci.cgi\"\tcount\t1\r\n",
      "\"http://commons.apache.org/jelly/download_jelly.cgi\"\tcount\t1\r\n",
      "\"http://commons.apache.org/jexl/download_jexl.cgi\"\tcount\t1\r\n",
      "\"http://commons.apache.org/jxpath/download_jxpath.cgi\"\tcount\t1\r\n",
      "\"http://commons.apache.org/lang/download_lang.cgi\"\tcount\t1\r\n",
      "\"http://commons.apache.org/launcher/download_launcher.cgi\"\tcount\t1\r\n",
      "\"http://commons.apache.org/logging/download_logging.cgi\"\tcount\t1\r\n",
      "\"http://commons.apache.org/math/download_math.cgi\"\tcount\t1\r\n",
      "\"http://commons.apache.org/modeler/download_modeler.cgi\"\tcount\t1\r\n",
      "\"http://commons.apache.org/net/download_net.cgi\"\tcount\t1\r\n",
      "\"http://commons.apache.org/pool/download_pool.cgi\"\tcount\t1\r\n",
      "\"http://commons.apache.org/proper/commons-jcs/download_jcs.cgi\"\tcount\t1\r\n",
      "\"http://commons.apache.org/proper/commons-ognl/download_ognl.cgi\"\tcount\t1\r\n",
      "\"http://commons.apache.org/proxy/download_proxy.cgi\"\tcount\t1\r\n",
      "\"http://commons.apache.org/scxml/download_scxml.cgi\"\tcount\t1\r\n",
      "\"http://commons.apache.org/validator/downloads.html\"\tcount\t1\r\n",
      "\"http://commons.apache.org/vfs/download_vfs.cgi\"\tcount\t1\r\n",
      "\"http://commons.apache.org/weaver/download_weaver.cgi\"\tcount\t1\r\n",
      "\"http://continuum.apache.org/download.html\"\tcount\t1\r\n",
      "\"http://creadur.apache.org/rat/download_rat.cgi\"\tcount\t1\r\n",
      "\"http://ctakes.apache.org/downloads.cgi\"\tcount\t1\r\n",
      "\"http://cue.tools/wiki/CUETools_Download\"\tcount\t1\r\n",
      "\"http://cxf.apache.org/download.html\"\tcount\t1\r\n",
      "\"http://data.europa.eu/euodp/data/dataset/jrc-emm-jrc-names\"\tcount\t1\r\n",
      "\"http://db.apache.org/derby/derby_downloads.html\"\tcount\t1\r\n",
      "\"http://db.apache.org/torque/download.html\"\tcount\t1\r\n",
      "\"http://deltacloud.apache.org/download.html\"\tcount\t1\r\n",
      "\"http://devicemap.apache.org/download/\"\tcount\t1\r\n",
      "\"http://directmemory.apache.org/downloads.html\"\tcount\t1\r\n",
      "\"http://directory.apache.org/studio/downloads.html\"\tcount\t1\r\n",
      "\"http://download.kiwix.org/zim/wikipedia_en_all_novid.zim\"\tcount\t1\r\n",
      "\"http://download.kiwix.org/zim/wikipedia_en_all_novid.zim.torrent\"\tcount\t1\r\n",
      "\"http://drill.apache.org/download/\"\tcount\t1\r\n",
      "\"http://empire-db.apache.org/downloads/latest.htm\"\tcount\t1\r\n",
      "\"http://etch.apache.org/downloads.html\"\tcount\t1\r\n",
      "\"http://excalibur.apache.org/download.cgi\"\tcount\t1\r\n",
      "\"http://felix.apache.org/downloads.cgi\"\tcount\t1\r\n",
      "\"http://flex.apache.org/download-source.html\"\tcount\t1\r\n",
      "\"http://flume.apache.org/download.html\"\tcount\t1\r\n",
      "\"http://forrest.apache.org/mirrors.cgi\"\tcount\t1\r\n",
      "\"http://geronimo.apache.org/downloads.html\"\tcount\t1\r\n",
      "\"http://gora.apache.org/releases.html\"\tcount\t1\r\n",
      "\"http://groovy-lang.org/download.html\"\tcount\t1\r\n",
      "\"http://guacamole.apache.org/releases/\"\tcount\t1\r\n",
      "\"http://hama.apache.org/downloads.html\"\tcount\t1\r\n",
      "\"http://harmony.apache.org/download.cgi\"\tcount\t1\r\n",
      "\"http://hive.apache.org/releases.html\"\tcount\t1\r\n",
      "\"http://hivemind.apache.org/download.html\"\tcount\t1\r\n",
      "\"http://httpcomponents.apache.org/downloads.cgi\"\tcount\t3\r\n",
      "\"http://httpd.apache.org/download.cgi\"\tcount\t2\r\n",
      "\"http://isis.apache.org/downloads.html\"\tcount\t1\r\n",
      "\"http://jackrabbit.apache.org/download.cgi\"\tcount\t1\r\n",
      "\"http://jakarta.apache.org/site/downloads/downloads_ecs.cgi\"\tcount\t1\r\n",
      "\"http://jakarta.apache.org/site/downloads/downloads_oro.cgi\"\tcount\t1\r\n",
      "\"http://jakarta.apache.org/site/downloads/downloads_regexp.cgi\"\tcount\t1\r\n",
      "\"http://james.apache.org/download.cgi\"\tcount\t1\r\n",
      "\"http://jclouds.apache.org/start/install/\"\tcount\t1\r\n",
      "\"http://jena.apache.org/download/index.cgi\"\tcount\t1\r\n",
      "\"http://jmeter.apache.org/download_jmeter.cgi\"\tcount\t1\r\n",
      "\"http://jspwiki.apache.org/general/downloads.html\"\tcount\t1\r\n",
      "\"http://juddi.apache.org/scout/downloads.html\"\tcount\t1\r\n",
      "\"http://karaf.apache.org/download.html\"\tcount\t1\r\n",
      "\"http://lens.apache.org/releases/download.html\"\tcount\t1\r\n",
      "\"http://lenya.apache.org/docs/2_0_x/installation/index.html\"\tcount\t1\r\n",
      "\"http://libcloud.apache.org/downloads.html\"\tcount\t1\r\n",
      "\"http://logging.apache.org/log4cxx/download.html\"\tcount\t1\r\n",
      "\"http://logging.apache.org/log4net/download_log4net.cgi\"\tcount\t1\r\n",
      "\"http://logging.apache.org/log4php/download.html\"\tcount\t1\r\n",
      "\"http://lucene.apache.org/solr/downloads.html\"\tcount\t1\r\n",
      "\"http://lucenenet.apache.org/download.cgi\"\tcount\t1\r\n",
      "\"http://lucy.apache.org/download.html\"\tcount\t1\r\n",
      "\"http://mahout.apache.org/general/downloads.html\"\tcount\t1\r\n",
      "\"http://manifoldcf.apache.org/en_US/download.html\"\tcount\t1\r\n",
      "\"http://marmotta.apache.org/download.html\"\tcount\t1\r\n",
      "\"http://mesos.apache.org/downloads/\"\tcount\t1\r\n",
      "\"http://metamodel.apache.org/#download\"\tcount\t1\r\n",
      "\"http://milagro.incubator.apache.org/\"\tcount\t1\r\n",
      "\"http://mina.apache.org/downloads.html\"\tcount\t1\r\n",
      "\"http://mina.apache.org/ftpserver-project/downloads.html\"\tcount\t1\r\n",
      "\"http://mina.apache.org/sshd-project/downloads.html\"\tcount\t1\r\n",
      "\"http://mina.apache.org/vysper-project/downloads.html\"\tcount\t1\r\n",
      "\"http://mrunit.apache.org/general/downloads.html\"\tcount\t1\r\n",
      "\"http://myfaces.apache.org/download.html\"\tcount\t1\r\n",
      "\"http://myfaces.apache.org/tobago/download.html\"\tcount\t1\r\n",
      "\"http://ode.apache.org/getting-ode.html\"\tcount\t1\r\n",
      "\"http://ofbiz.apache.org/download.html\"\tcount\t1\r\n",
      "\"http://olingo.apache.org/download.html\"\tcount\t1\r\n",
      "\"http://oodt.apache.org/download.html\"\tcount\t1\r\n",
      "\"http://openjpa.apache.org/downloads.html\"\tcount\t1\r\n",
      "\"http://opennlp.apache.org/download.html\"\tcount\t1\r\n",
      "\"http://phoenix.apache.org/download.html\"\tcount\t1\r\n",
      "\"http://pig.apache.org/releases.html\"\tcount\t1\r\n",
      "\"http://pivot.apache.org/download.cgi\"\tcount\t1\r\n",
      "\"http://qpid.apache.org/download.html\"\tcount\t1\r\n",
      "\"http://reef.apache.org/downloads.html\"\tcount\t1\r\n",
      "\"http://river.apache.org/downloads.html\"\tcount\t1\r\n",
      "\"http://roller.apache.org/downloads.html\"\tcount\t1\r\n",
      "\"http://samza.apache.org/startup/download\"\tcount\t1\r\n",
      "\"http://santuario.apache.org/mirrors.cgi\"\tcount\t1\r\n",
      "\"http://serf.apache.org/download\"\tcount\t1\r\n",
      "\"http://servicemix.apache.org/download.html\"\tcount\t1\r\n",
      "\"http://shale.apache.org/downloads.html\"\tcount\t1\r\n",
      "\"http://shindig.apache.org/download\"\tcount\t1\r\n",
      "\"http://sis.apache.org/downloads.html\"\tcount\t1\r\n",
      "\"http://sling.apache.org/site/downloads.cgi\"\tcount\t1\r\n",
      "\"http://spark.apache.org/downloads.html\"\tcount\t1\r\n",
      "\"http://spectromancer.com/index.cgi?p=3\"\tcount\t1\r\n",
      "\"http://sqoop.apache.org/\"\tcount\t1\r\n",
      "\"http://stanbol.apache.org/downloads/\"\tcount\t1\r\n",
      "\"http://steve.apache.org/downloads.html\"\tcount\t1\r\n",
      "\"http://storm.apache.org/downloads.html\"\tcount\t1\r\n",
      "\"http://stratos.apache.org/releases/index.html\"\tcount\t1\r\n",
      "\"http://struts.apache.org/releases.html\"\tcount\t1\r\n",
      "\"http://svn.apache.org/repos/asf/esme/\"\tcount\t1\r\n",
      "\"http://synapse.apache.org/download.cgi\"\tcount\t1\r\n",
      "\"http://syncope.apache.org/downloads.html\"\tcount\t1\r\n",
      "\"http://tajo.apache.org/downloads.html\"\tcount\t1\r\n",
      "\"http://tapestry.apache.org/download.html\"\tcount\t1\r\n",
      "\"http://taverna.incubator.apache.org/download/\"\tcount\t1\r\n",
      "\"http://tcl.apache.org/websh/download.html\"\tcount\t1\r\n",
      "\"http://tez.apache.org/releases/\"\tcount\t1\r\n",
      "\"http://thrift.apache.org/download/\"\tcount\t1\r\n",
      "\"http://tiles.apache.org/download.html\"\tcount\t1\r\n",
      "\"http://tomee.apache.org/downloads.html\"\tcount\t1\r\n",
      "\"http://trafodion.apache.org/download.html\"\tcount\t1\r\n",
      "\"http://turbine.apache.org/download.html\"\tcount\t1\r\n",
      "\"http://tuscany.apache.org/tuscany-downloads-documentations.html\"\tcount\t1\r\n",
      "\"http://uima.apache.org/downloads.cgi\"\tcount\t1\r\n",
      "\"http://vcl.apache.org/downloads/download.cgi\"\tcount\t1\r\n",
      "\"http://velocity.apache.org/download.cgi\"\tcount\t4\r\n",
      "\"http://velocity.apache.org/download.cgi#tools\"\tcount\t1\r\n",
      "\"http://vnuf.cz/sbornik_old/software/Famulus/Famulus.zip\"\tcount\t1\r\n",
      "\"http://wartimecanada.ca/sites/default/files/documents/War%20Memorial.pdf\"\tcount\t1\r\n",
      "\"http://wicket.apache.org\"\tcount\t1\r\n",
      "\"http://wink.apache.org/downloads.html\"\tcount\t1\r\n",
      "\"http://wookie.apache.org/docs/download.html\"\tcount\t1\r\n",
      "\"http://ws.apache.org/axiom/download.cgi\"\tcount\t1\r\n",
      "\"http://ws.apache.org/woden/dev/1.0/builds.html\"\tcount\t1\r\n",
      "\"http://www.apache.org/dyn/closer.cgi/bigtop/\"\tcount\t1\r\n",
      "\"http://www.apache.org/dyn/closer.cgi/chukwa/\"\tcount\t1\r\n",
      "\"http://www.apache.org/dyn/closer.cgi/crunch\"\tcount\t1\r\n",
      "\"http://www.apache.org/dyn/closer.cgi/curator/\"\tcount\t1\r\n",
      "\"http://www.apache.org/dyn/closer.cgi/directory\"\tcount\t1\r\n",
      "\"http://www.apache.org/dyn/closer.cgi/directory/apacheds/\"\tcount\t1\r\n",
      "\"http://www.apache.org/dyn/closer.cgi/giraph\"\tcount\t1\r\n",
      "\"http://www.apache.org/dyn/closer.cgi/helix\"\tcount\t1\r\n",
      "\"http://www.apache.org/dyn/closer.cgi/openwebbeans/\"\tcount\t1\r\n",
      "\"http://www.apache.org/dyn/closer.cgi/portals\"\tcount\t1\r\n",
      "\"http://www.apache.org/dyn/closer.cgi/tcl/rivet\"\tcount\t1\r\n",
      "\"http://www.apache.org/dyn/closer.cgi/vxquery/\"\tcount\t1\r\n",
      "\"http://www.apache.org/dyn/closer.cgi/whirr/\"\tcount\t1\r\n",
      "\"http://www.apache.org/dyn/closer.cgi/xmlbeans/\"\tcount\t1\r\n",
      "\"http://www.apache.org/dyn/closer.lua/hbase/\"\tcount\t1\r\n",
      "\"http://www.apache.org/dyn/closer.lua/incubator/falcon/\"\tcount\t1\r\n",
      "\"http://www.apache.org/dyn/closer.lua/oozie/\"\tcount\t1\r\n",
      "\"http://www.astralmasters.com:8086/index.cgi?q=download\"\tcount\t1\r\n",
      "\"http://www.kas.de/upload/ACDP/CDU/Koalitionsvertraege/Koalitionsvertrag1994.pdf\"\tcount\t1\r\n",
      "\"http://www.kas.de/upload/ACDP/CDU/Koalitionsvertraege/Koalitionsvertrag2013.pdf\"\tcount\t1\r\n",
      "\"http://www.kas.de/wf/doc/kas_27202-544-1-30.pdf\"\tcount\t1\r\n",
      "\"http://www.mediafire.com/file/6gk3r3vazmc9zey/Lok_Low_ft_Yremia_-_Ma_Own_Way.mp3/file\"\tcount\t1\r\n",
      "\"http://www.mediafire.com/file/c45g5ir94avatal/Lok_Low_-_Retour_%25C3%2580_L%2527Art.mp3/file\"\tcount\t1\r\n",
      "\"http://www.mediafire.com/file/dbzky8k8p5946ui/Lok_Low_-_IRRESPONSABLES.mp3/file\"\tcount\t1\r\n",
      "\"http://www.mediafire.com/file/gqhrn1t7gdt0hmu/Lok_Low_-_BONNE_ANNE%25CC%2581E.mp3/file\"\tcount\t1\r\n",
      "\"http://www.mediafire.com/file/h5d5och3f25m1l5/Lok_Low_-_BBR.mp3/file\"\tcount\t1\r\n",
      "\"http://www.ssc.smr.ru/ftp/2001/02_ii.pdf\"\tcount\t1\r\n",
      "\"http://xerces.apache.org/mirrors.cgi\"\tcount\t2\r\n",
      "\"http://xml.apache.org/xindice/download.cgi\"\tcount\t1\r\n",
      "\"http://xmlgraphics.apache.org/commons/download.html\"\tcount\t1\r\n",
      "\"http://xmlgraphics.apache.org/download.cgi\"\tcount\t1\r\n",
      "\"http://xmlgraphics.apache.org/fop/download.html\"\tcount\t1\r\n",
      "\"http://zeppelin.apache.org/download.html\"\tcount\t1\r\n",
      "\"https://accumulo.apache.org/downloads\"\tcount\t1\r\n",
      "\"https://addons.mozilla.org/firefox/addon/mozilla-labs-prism/\"\tcount\t1\r\n",
      "\"https://apr.apache.org/download.cgi\"\tcount\t1\r\n",
      "\"https://beam.apache.org/get-started/downloads/\"\tcount\t1\r\n",
      "\"https://bonjour.tousanticovid.gouv.fr/apk/tousanticovid-release.apk\"\tcount\t1\r\n",
      "\"https://bookkeeper.apache.org/releases.html\"\tcount\t1\r\n",
      "\"https://calcite.apache.org/downloads\"\tcount\t1\r\n",
      "\"https://camel.apache.org/download.html\"\tcount\t1\r\n",
      "\"https://cdn.netzpolitik.org/wp-upload/2019/12/Systemabsturz-Verd%C3%A4chtig.mp3\"\tcount\t1\r\n",
      "\"https://code.google.com/archive/p/exchangerxml/downloads\"\tcount\t1\r\n",
      "\"https://commons.apache.org/proper/commons-beanutils/download_beanutils.cgi\"\tcount\t1\r\n",
      "\"https://commons.apache.org/rng/download_rng.cgi\"\tcount\t1\r\n",
      "\"https://cordova.apache.org/#download\"\tcount\t1\r\n",
      "\"https://couchdb.apache.org/#download\"\tcount\t1\r\n",
      "\"https://cwiki.apache.org/confluence/display/KNOX/Release+1.2.0\"\tcount\t1\r\n",
      "\"https://data.stadt-zuerich.ch/dataset/denkmalschutzobjekt/resource/4abb2915-6ed7-4759-8969-15061235d669/download/denkmalschutzobjekt.zip\"\tcount\t1\r\n",
      "\"https://data.stadt-zuerich.ch/dataset/denkmalschutzobjekt/resource/c92191f6-2bec-43a8-b4ea-43b3af282f6f/download/denkmalschutzobjekt.kmz\"\tcount\t1\r\n",
      "\"https://dds.cr.usgs.gov/srtm/version2_1/SWBD/\"\tcount\t1\r\n",
      "\"https://directory.apache.org/fortress/downloads.html\"\tcount\t1\r\n",
      "\"https://directory.apache.org/kerby/downloads.html\"\tcount\t1\r\n",
      "\"https://downloads.lxqt.org/\"\tcount\t1\r\n",
      "\"https://ec.europa.eu/jrc/en/language-technologies/jrc-names#Download%20JRC-Names\"\tcount\t1\r\n",
      "\"https://everest.hds.utc.fr/lib/exe/fetch.php?media=en:fb15k.tgz\"\tcount\t1\r\n",
      "\"https://flink.apache.org/downloads.html\"\tcount\t1\r\n",
      "\"https://fluo.apache.org/releases/\"\tcount\t1\r\n",
      "\"https://freemarker.apache.org/freemarkerdownload.html\"\tcount\t1\r\n",
      "\"https://goodnight.games/GOODNIGHT_setup.exe\"\tcount\t1\r\n",
      "\"https://gqrx.dk/download\"\tcount\t1\r\n",
      "\"https://hexaspectrum.bandcamp.com/album/twin\"\tcount\t1\r\n",
      "\"https://hexaspectrum.bandcamp.com/track/a-path-to-reality-2013\"\tcount\t1\r\n",
      "\"https://hexaspectrum.bandcamp.com/track/bleed-for-the-undiscovered-2011\"\tcount\t1\r\n",
      "\"https://hexaspectrum.bandcamp.com/track/dementia-2013\"\tcount\t1\r\n",
      "\"https://hexaspectrum.bandcamp.com/track/hesytation-part-i-2011\"\tcount\t1\r\n",
      "\"https://hexaspectrum.bandcamp.com/track/hesytation-part-ii-2012\"\tcount\t1\r\n",
      "\"https://hexaspectrum.bandcamp.com/track/illumination-2014\"\tcount\t1\r\n",
      "\"https://hexaspectrum.bandcamp.com/track/the-rainmaker-2012\"\tcount\t1\r\n",
      "\"https://hexaspectrum.bandcamp.com/track/toxic-mind-2013\"\tcount\t1\r\n",
      "\"https://hexaspectrum.bandcamp.com/track/urban-conundrum-2012\"\tcount\t1\r\n",
      "\"https://ignite.apache.org/download\"\tcount\t1\r\n",
      "\"https://ipfs.io/ipfs/QmetipSfNvWL59VNQ2z9wQzZd4sbrKW8RNk9Lqfx7bu3ct?filename=Systemabsturz%20-%20Verd%C3%A4chtig.flac\"\tcount\t1\r\n",
      "\"https://jembendell.com/2019/05/15/deep-adaptation-versions/\"\tcount\t1\r\n",
      "\"https://jlsc-pub.org/articles/10.7710/2162-3309.2220/galley/211/download/\"\tcount\t1\r\n",
      "\"https://kafka.apache.org/downloads.html\"\tcount\t1\r\n",
      "\"https://kudu.apache.org/releases/\"\tcount\t1\r\n",
      "\"https://lubuntu.me/downloads/\"\tcount\t1\r\n",
      "\"https://maven.apache.org/download.html\"\tcount\t1\r\n",
      "\"https://maven.apache.org/doxia/download.html\"\tcount\t1\r\n",
      "\"https://oltu.apache.org/download.html\"\tcount\t1\r\n",
      "\"https://openmeetings.apache.org/downloads.html\"\tcount\t1\r\n",
      "\"https://orc.apache.org/docs/releases.html\"\tcount\t1\r\n",
      "\"https://parquet.apache.org/downloads/\"\tcount\t1\r\n",
      "\"https://pdfbox.apache.org/download.cgi\"\tcount\t1\r\n",
      "\"https://polygene.apache.org/download.html\"\tcount\t1\r\n",
      "\"https://shiro.apache.org/download.html\"\tcount\t1\r\n",
      "\"https://sourceforge.net/projects/lxde/files/LXLauncher%20(for%20Asus%20EeePC)/\"\tcount\t1\r\n",
      "\"https://sourceforge.net/projects/lxde/files/LXPanel%20(desktop%20panel)/\"\tcount\t1\r\n",
      "\"https://spamassassin.apache.org/downloads.html\"\tcount\t1\r\n",
      "\"https://thepdfsite.blogspot.com/\"\tcount\t1\r\n",
      "\"https://tika.apache.org/download.html\"\tcount\t1\r\n",
      "\"https://trafficserver.apache.org/downloads.html\"\tcount\t1\r\n",
      "\"https://web.archive.org/web/20161221091748/http://shron.chtyvo.org.ua/Levchenko_SP/Kataloh_richok_Ukrainy.pdf\"\tcount\t1\r\n",
      "\"https://workrave.org/download/\"\tcount\t1\r\n",
      "\"https://www.academia.edu/16912821/PEREIRA_Mateus_H._F._A_M%C3%A1quina_da_Mem%C3%B3ria_Almanaque_Abril_o_tempo_presente_entre_a_hist%C3%B3ria_e_o_jornalismo._Bauru_EDUSC_2009._312p_\"\tcount\t1\r\n",
      "\"https://www.apache.org/dyn/closer.cgi/nutch/\"\tcount\t1\r\n",
      "\"https://www.apache.org/dyn/closer.cgi/zookeeper/\"\tcount\t1\r\n",
      "\"https://www.apache.org/dyn/closer.lua/poi/\"\tcount\t1\r\n",
      "\"https://www.babelstone.co.uk/Fonts/Download/BabelStoneHan.ttf\"\tcount\t1\r\n",
      "\"https://www.data.gouv.fr/fr/datasets/donnees-de-comptabilite-generale-de-letat/\"\tcount\t1\r\n",
      "\"https://www.mediafire.com/file/fzoetj7i0q6d2jo/Lok_Low_-_Ton_Requiem_%255BProd._Floyd%255D.mp3/file\"\tcount\t1\r\n",
      "\"https://www.mediafire.com/folder/oluch38jb4q29/Lok?fbclid=IwAR2Y1BmRB1eqesnrTzIJuHdvTgTdlhwsK8RIEhK2qSsDdNIyT5sYRNs5CDc\"\tcount\t1\r\n",
      "\"https://www.medrxiv.org/content/10.1101/2020.03.24.20043026v1.full.pdf\"\tcount\t1\r\n",
      "\"https://www.microsoft.com/de-de/p/icloud/9pktq5699m62?activetab=pivot:overviewtab\"\tcount\t1\r\n",
      "\"https://www.microsoft.com/en-us/download/details.aspx?id=100847\"\tcount\t1\r\n",
      "\"https://www.microsoft.com/en-us/download/details.aspx?id=52312\"\tcount\t1\r\n",
      "\"https://www.microsoft.com/en-us/download/details.aspx?id=8247\"\tcount\t1\r\n",
      "\"https://www.nachhaltigkeit.info/media/1248173898php7wc9Pc.pdf\"\tcount\t1\r\n",
      "\"https://www.regjeringen.no/contentassets/bf7a48eac08a42a5a8758969c5ec64f8/no/pdfs/handbok-for-politisk-ledelse-2017.pdf\"\tcount\t1\r\n",
      "\"https://www.vagrantup.com/downloads\"\tcount\t1\r\n",
      "\"https://www.verfassungsschutz.de/download/vsbericht-2018.pdf\"\tcount\t1\r\n",
      "\"https://www2.census.gov/topics/genealogy/2010surnames/names.zip\"\tcount\t1\r\n",
      "\"https://yetus.apache.org/downloads/\"\tcount\t1\r\n",
      "\"https://yuzu-emu.org/downloads/\"\tcount\t1\r\n"
     ]
    }
   ],
   "source": [
    "!kgtk unique -i ../../allConstraintsAnalysis/typeConstraint_Final/normal/claims.type-constraints.instanceOf.P4945.correct.tsv\n"
   ]
  },
  {
   "cell_type": "code",
   "execution_count": 43,
   "id": "clinical-lawsuit",
   "metadata": {},
   "outputs": [
    {
     "data": {
      "text/plain": [
       "count    1456.000000\n",
       "mean        0.095964\n",
       "std         0.221602\n",
       "min         0.000000\n",
       "25%         0.000594\n",
       "50%         0.008160\n",
       "75%         0.054471\n",
       "max         1.000000\n",
       "Name: violation_ratio, dtype: float64"
      ]
     },
     "execution_count": 43,
     "metadata": {},
     "output_type": "execute_result"
    }
   ],
   "source": [
    "typeConstDF['violation_ratio'].describe()"
   ]
  },
  {
   "cell_type": "code",
   "execution_count": 44,
   "id": "wanted-domestic",
   "metadata": {},
   "outputs": [
    {
     "data": {
      "text/plain": [
       "Text(0.5, 1.0, 'Type Constraint Violation Ratios')"
      ]
     },
     "execution_count": 44,
     "metadata": {},
     "output_type": "execute_result"
    },
    {
     "data": {
      "image/png": "[encoded data removed]",
      "text/plain": [
       "<Figure size 432x288 with 1 Axes>"
      ]
     },
     "metadata": {
      "needs_background": "light"
     },
     "output_type": "display_data"
    }
   ],
   "source": [
    "typeConstDF['violation_ratio'].plot.hist(bins=100).set_title(\"Type Constraint Violation Ratios\")"
   ]
  },
  {
   "cell_type": "code",
   "execution_count": 45,
   "id": "sufficient-hollywood",
   "metadata": {},
   "outputs": [
    {
     "data": {
      "text/plain": [
       "Text(0.5, 1.0, 'Type Constraint Violation Ratios (<=0.05)')"
      ]
     },
     "execution_count": 45,
     "metadata": {},
     "output_type": "execute_result"
    },
    {
     "data": {
      "image/png": "[encoded data removed]",
      "text/plain": [
       "<Figure size 432x288 with 1 Axes>"
      ]
     },
     "metadata": {
      "needs_background": "light"
     },
     "output_type": "display_data"
    }
   ],
   "source": [
    "typeConstDF[typeConstDF['violation_ratio'] <= 0.05].violation_ratio.plot.hist(bins=100).set_title(\"Type Constraint Violation Ratios (<=0.05)\")"
   ]
  },
  {
   "cell_type": "code",
   "execution_count": 46,
   "id": "minor-marshall",
   "metadata": {},
   "outputs": [
    {
     "name": "stdout",
     "output_type": "stream",
     "text": [
      "No. of constraints whose violation ratio is greater than mean :0/1456\n"
     ]
    }
   ],
   "source": [
    "print(f\"No. of constraints whose violation ratio is greater than mean :{sum(typeConstDF['violation_ratio'] >= 5.286054)}/{len(typeConstDF)}\")"
   ]
  },
  {
   "cell_type": "code",
   "execution_count": 47,
   "id": "special-consensus",
   "metadata": {},
   "outputs": [],
   "source": [
    "# typeConstDF.sort_values(by=['incorrect'],ascending=False).head(5).paths.values"
   ]
  },
  {
   "cell_type": "code",
   "execution_count": 48,
   "id": "excited-person",
   "metadata": {},
   "outputs": [],
   "source": [
    "# !cat ../../allConstraintsAnalysis/typeConstraint/normal/claims.type-constraints.instanceOf.P953.incorrect.tsv"
   ]
  },
  {
   "cell_type": "code",
   "execution_count": 49,
   "id": "revolutionary-violence",
   "metadata": {},
   "outputs": [],
   "source": [
    "for key1 in typeConstViolations.keys():\n",
    "    typeConstViolations[key1]['correct'] = typeConstViolations[key1]['instanceOf']['correct'] + typeConstViolations[key1]['subclass']['correct'] + typeConstViolations[key1]['instanceOfOrSubclass']['correct']\n",
    "    typeConstViolations[key1]['incorrect'] = typeConstViolations[key1]['instanceOf']['incorrect'] + typeConstViolations[key1]['subclass']['incorrect'] + typeConstViolations[key1]['instanceOfOrSubclass']['incorrect']\n",
    "    typeConstViolations[key1]['VR'] = typeConstViolations[key1]['incorrect'] / (typeConstViolations[key1]['correct'] + typeConstViolations[key1]['incorrect'])\n",
    "        "
   ]
  },
  {
   "cell_type": "code",
   "execution_count": 50,
   "id": "emotional-favorite",
   "metadata": {
    "scrolled": true
   },
   "outputs": [
    {
     "data": {
      "text/plain": [
       "{'mandatory': {'instanceOf': {'correct': 44768778, 'incorrect': 35027},\n",
       "  'subclass': {'correct': 1966, 'incorrect': 30},\n",
       "  'instanceOfOrSubclass': {'correct': 221394, 'incorrect': 204},\n",
       "  'propCount': 165,\n",
       "  'correct': 44992138,\n",
       "  'incorrect': 35261,\n",
       "  'VR': 0.0007831009736982587},\n",
       " 'suggestion': {'instanceOf': {'correct': 61486, 'incorrect': 18368},\n",
       "  'subclass': {'correct': 0, 'incorrect': 0},\n",
       "  'instanceOfOrSubclass': {'correct': 23314, 'incorrect': 2939},\n",
       "  'propCount': 11,\n",
       "  'correct': 84800,\n",
       "  'incorrect': 21307,\n",
       "  'VR': 0.200806732826298},\n",
       " 'normal': {'instanceOf': {'correct': 398100301, 'incorrect': 797888},\n",
       "  'subclass': {'correct': 96605, 'incorrect': 9442},\n",
       "  'instanceOfOrSubclass': {'correct': 66358710, 'incorrect': 265583},\n",
       "  'propCount': 1280,\n",
       "  'correct': 464555616,\n",
       "  'incorrect': 1072913,\n",
       "  'VR': 0.0023042252207016293}}"
      ]
     },
     "execution_count": 50,
     "metadata": {},
     "output_type": "execute_result"
    }
   ],
   "source": [
    "typeConstViolations"
   ]
  },
  {
   "cell_type": "code",
   "execution_count": 51,
   "id": "aggregate-impact",
   "metadata": {},
   "outputs": [
    {
     "data": {
      "text/html": [
       "<div>\n",
       "<style scoped>\n",
       "    .dataframe tbody tr th:only-of-type {\n",
       "        vertical-align: middle;\n",
       "    }\n",
       "\n",
       "    .dataframe tbody tr th {\n",
       "        vertical-align: top;\n",
       "    }\n",
       "\n",
       "    .dataframe thead th {\n",
       "        text-align: right;\n",
       "    }\n",
       "</style>\n",
       "<table border=\"1\" class=\"dataframe\">\n",
       "  <thead>\n",
       "    <tr style=\"text-align: right;\">\n",
       "      <th></th>\n",
       "      <th>correct</th>\n",
       "      <th>incorrect</th>\n",
       "      <th>paths</th>\n",
       "      <th>violation_ratio</th>\n",
       "      <th>total</th>\n",
       "    </tr>\n",
       "  </thead>\n",
       "  <tbody>\n",
       "    <tr>\n",
       "      <th>P2093</th>\n",
       "      <td>134805157</td>\n",
       "      <td>6527</td>\n",
       "      <td>[../../allConstraintsAnalysis/typeConstraint_F...</td>\n",
       "      <td>0.000048</td>\n",
       "      <td>134811684</td>\n",
       "    </tr>\n",
       "    <tr>\n",
       "      <th>P1476</th>\n",
       "      <td>39856876</td>\n",
       "      <td>47204</td>\n",
       "      <td>[../../allConstraintsAnalysis/typeConstraint_F...</td>\n",
       "      <td>0.001183</td>\n",
       "      <td>39904080</td>\n",
       "    </tr>\n",
       "    <tr>\n",
       "      <th>P577</th>\n",
       "      <td>38855314</td>\n",
       "      <td>33977</td>\n",
       "      <td>[../../allConstraintsAnalysis/typeConstraint_F...</td>\n",
       "      <td>0.000874</td>\n",
       "      <td>38889291</td>\n",
       "    </tr>\n",
       "    <tr>\n",
       "      <th>P1433</th>\n",
       "      <td>36723283</td>\n",
       "      <td>12050</td>\n",
       "      <td>[../../allConstraintsAnalysis/typeConstraint_F...</td>\n",
       "      <td>0.000328</td>\n",
       "      <td>36735333</td>\n",
       "    </tr>\n",
       "    <tr>\n",
       "      <th>P1215</th>\n",
       "      <td>33099195</td>\n",
       "      <td>24104</td>\n",
       "      <td>[../../allConstraintsAnalysis/typeConstraint_F...</td>\n",
       "      <td>0.000728</td>\n",
       "      <td>33123299</td>\n",
       "    </tr>\n",
       "  </tbody>\n",
       "</table>\n",
       "</div>"
      ],
      "text/plain": [
       "         correct incorrect                                              paths  \\\n",
       "P2093  134805157      6527  [../../allConstraintsAnalysis/typeConstraint_F...   \n",
       "P1476   39856876     47204  [../../allConstraintsAnalysis/typeConstraint_F...   \n",
       "P577    38855314     33977  [../../allConstraintsAnalysis/typeConstraint_F...   \n",
       "P1433   36723283     12050  [../../allConstraintsAnalysis/typeConstraint_F...   \n",
       "P1215   33099195     24104  [../../allConstraintsAnalysis/typeConstraint_F...   \n",
       "\n",
       "       violation_ratio      total  \n",
       "P2093         0.000048  134811684  \n",
       "P1476         0.001183   39904080  \n",
       "P577          0.000874   38889291  \n",
       "P1433         0.000328   36735333  \n",
       "P1215         0.000728   33123299  "
      ]
     },
     "execution_count": 51,
     "metadata": {},
     "output_type": "execute_result"
    }
   ],
   "source": [
    "typeConstDF['total'] = typeConstDF['correct'] + typeConstDF['incorrect']\n",
    "typeConstDF.sort_values(by=['total'],ascending=False).head()"
   ]
  },
  {
   "cell_type": "code",
   "execution_count": 52,
   "id": "bearing-lotus",
   "metadata": {},
   "outputs": [],
   "source": [
    "typeConstDF.to_csv('../../allConstraintsAnalysis/typeConstDFAnalysis.csv')"
   ]
  },
  {
   "cell_type": "markdown",
   "id": "bearing-kruger",
   "metadata": {},
   "source": [
    "### Find out time required"
   ]
  },
  {
   "cell_type": "code",
   "execution_count": 18,
   "id": "assumed-toner",
   "metadata": {},
   "outputs": [],
   "source": [
    "# from tqdm.notebook import tqdm\n",
    "# import os.path\n",
    "\n",
    "# cnt = 0\n",
    "# fCnt = 1\n",
    "# for prop in tqdm(df1.node1.unique()):\n",
    "#     try:\n",
    "#         if not(os.path.isfile(\"../../propertiesSplit/claims.\"+ prop +\".tsv\")):\n",
    "#             continue\n",
    "#         relation = df1[(df1['node1'] == prop) & (df1['label'] == 'P2309')].node2.values[0][0]\n",
    "#         type1 = df1[(df1['node1'] == prop) & (df1['label'] == 'P2316')].node2.values\n",
    "\n",
    "#         parents = df1[(df1['node1'] == prop) & (df1['label'] == 'P2308')].node2.values[0]\n",
    "#         exceptions = df1[(df1['node1'] == prop) & (df1['label'] == 'P2303')].node2.values\n",
    "\n",
    "# #         print(prop, relation, type1, parents, exceptions)\n",
    "\n",
    "#         if relation == \"Q21503252\":\n",
    "#             parentFile = \"P31P279star\"\n",
    "#             parentTitle = 'instanceOf'\n",
    "#         elif relation == \"Q21514624\":\n",
    "#             parentFile = \"P279star\"\n",
    "#             parentTitle = 'subclass'\n",
    "#         else:\n",
    "#             parentFile = \"isastar\"\n",
    "#             parentTitle = 'instanceOfOrSubclass'\n",
    "\n",
    "#         if len(type1) != 0 and type1[0][0] == \"Q21502408\":\n",
    "#             typeVal = \"mandatory\"\n",
    "#         elif len(type1) != 0 and type1[0][0] == \"Q62026391\":\n",
    "#             typeVal = \"suggestion\"\n",
    "#         else:\n",
    "#             typeVal = \"normal\"\n",
    "\n",
    "#         if len(exceptions):\n",
    "#             exceptionPart = \"or node1 in \" + str(exceptions[0]).replace(\"'\",'\"')\n",
    "#         else:\n",
    "#             exceptionPart = \"\"\n",
    "        \n",
    "#         if cnt % 100 == 0:\n",
    "#             fOP = open(\"../../propertiesSplit/checkViolations/TimedTypeConstraintValidator\" + str(fCnt) + \".sh\",\"w\")\n",
    "#             fCnt += 1\n",
    "        \n",
    "#         fOP.write(\"{ time kgtk --debug query -i ../../propertiesSplit/claims.\"+ prop +\".tsv \\\n",
    "#         ../../wikidata-20210215/derived.\" + parentFile + \".tsv.gz \\\n",
    "#         --match 'm: (node1)-[nodeProp]->(node2), d: (node1)-[]->(par)' \\\n",
    "#         --where 'par in \" + str(parents).replace(\"'\",'\"') + \" \" + exceptionPart + \"' \\\n",
    "#         --return 'nodeProp.id, node1, nodeProp.label, node2' \\\n",
    "#         -o ../../allConstraintsAnalysis/TimedTypeConstraint/\" + typeVal + \"/claims.type-constraints.\" + parentTitle + \".\"+ prop +\".correct.tsv \\\n",
    "#         --graph-cache ~/sqlite3_caches/const2123_\" + str(fCnt) + \".sqlite3.db; } 2>> ../../propertiesSplit/checkViolations/exec_logs/TimedTypeConstraint_TimedTypeConstraintValidator\" + str(fCnt) + \".txt ; \\\n",
    "#          kgtk --debug ifnotexists -i ../../propertiesSplit/claims.\"+ prop +\".tsv \\\n",
    "#         --filter-on ../../allConstraintsAnalysis/TimedTypeConstraint/\" + typeVal + \"/claims.type-constraints.\" + parentTitle + \".\"+ prop +\".correct.tsv \\\n",
    "#         --filter-mode NONE \\\n",
    "#         --input-keys node1 label \\\n",
    "#         --filter-keys node1 label \\\n",
    "#         -o ../../allConstraintsAnalysis/TimedTypeConstraint/\" + typeVal + \"/claims.type-constraints.\" + parentTitle + \".\"+ prop +\".incorrect.tsv\\n\")\n",
    "\n",
    "#         cnt += 1\n",
    "#     except:\n",
    "#         print(\"Something failed for prop:\",prop)\n",
    "    "
   ]
  },
  {
   "cell_type": "code",
   "execution_count": 93,
   "id": "veterinary-fault",
   "metadata": {},
   "outputs": [
    {
     "data": {
      "application/vnd.jupyter.widget-view+json": {
       "model_id": "52944ea021934d23b3d4ab3fb1f091f7",
       "version_major": 2,
       "version_minor": 0
      },
      "text/plain": [
       "  0%|          | 0/122 [00:00<?, ?it/s]"
      ]
     },
     "metadata": {},
     "output_type": "display_data"
    }
   ],
   "source": [
    "import pandas as pd\n",
    "import os\n",
    "from tqdm.notebook import tqdm\n",
    "\n",
    "codepConstViolations = {}\n",
    "\n",
    "codepConstViolations = {}\n",
    "codepConstPropList = set()\n",
    "\n",
    "def extractTimes(filename):\n",
    "    times = []\n",
    "    with open(filename) as f:\n",
    "        for line in f:\n",
    "            if \"real\" in line:\n",
    "                line = line.strip()\n",
    "                time1 = line.split(\"\\t\")[1]\n",
    "                mins, sec = time1.split(\"m\")\n",
    "                mins = int(mins)\n",
    "                sec = float(sec[:-1])\n",
    "                times.append(60 * mins + sec)\n",
    "    return times\n",
    "\n",
    "# codepConstViolationsSummary = {}\n",
    "times = []\n",
    "filePath = '/data/wd-correctness/propertiesSplit/checkViolations/exec_logs/'\n",
    "for filename in tqdm(os.listdir(filePath)):\n",
    "    if filename.startswith(\"typeConstraintValidator\"):\n",
    "        tempTimes = extractTimes(filePath + filename)\n",
    "        times += tempTimes"
   ]
  },
  {
   "cell_type": "code",
   "execution_count": 94,
   "id": "infinite-assembly",
   "metadata": {},
   "outputs": [
    {
     "name": "stdout",
     "output_type": "stream",
     "text": [
      "count    1456.000000\n",
      "mean      138.470137\n",
      "std       216.121977\n",
      "min         2.111000\n",
      "25%        23.664500\n",
      "50%        43.875000\n",
      "75%       158.037250\n",
      "max      2177.421000\n",
      "dtype: float64\n"
     ]
    }
   ],
   "source": [
    "print(pd.Series(times).describe())"
   ]
  },
  {
   "cell_type": "code",
   "execution_count": 95,
   "id": "opened-essex",
   "metadata": {},
   "outputs": [
    {
     "data": {
      "text/plain": [
       "Text(0.5, 1.0, 'Distribution of times (in s) taken for type constraint checks')"
      ]
     },
     "execution_count": 95,
     "metadata": {},
     "output_type": "execute_result"
    },
    {
     "data": {
      "image/png": "[encoded data removed]",
      "text/plain": [
       "<Figure size 432x288 with 1 Axes>"
      ]
     },
     "metadata": {
      "needs_background": "light"
     },
     "output_type": "display_data"
    }
   ],
   "source": [
    "import seaborn as sns\n",
    "sns.lineplot(data=pd.Series(times)).set_title(\"Distribution of times (in s) taken for type constraint checks\")"
   ]
  },
  {
   "cell_type": "markdown",
   "id": "intense-computer",
   "metadata": {},
   "source": [
    "## Value Type Constraint"
   ]
  },
  {
   "cell_type": "markdown",
   "id": "animated-companion",
   "metadata": {},
   "source": [
    "### Understand Constraints File"
   ]
  },
  {
   "cell_type": "code",
   "execution_count": 36,
   "id": "static-profit",
   "metadata": {},
   "outputs": [],
   "source": [
    "import pandas as pd\n",
    "dfValueType = pd.read_csv('../../constraintsOP/valuetypeConstraint/claims.type-constraints_all1.tsv',sep='\\t')"
   ]
  },
  {
   "cell_type": "code",
   "execution_count": 37,
   "id": "worthy-malawi",
   "metadata": {},
   "outputs": [],
   "source": [
    "dfValueType = dfValueType.groupby(['node1','label']).node2.apply(lambda p: p.tolist()).reset_index()"
   ]
  },
  {
   "cell_type": "code",
   "execution_count": 38,
   "id": "eleven-tiffany",
   "metadata": {},
   "outputs": [
    {
     "data": {
      "text/html": [
       "<div>\n",
       "<style scoped>\n",
       "    .dataframe tbody tr th:only-of-type {\n",
       "        vertical-align: middle;\n",
       "    }\n",
       "\n",
       "    .dataframe tbody tr th {\n",
       "        vertical-align: top;\n",
       "    }\n",
       "\n",
       "    .dataframe thead th {\n",
       "        text-align: right;\n",
       "    }\n",
       "</style>\n",
       "<table border=\"1\" class=\"dataframe\">\n",
       "  <thead>\n",
       "    <tr style=\"text-align: right;\">\n",
       "      <th></th>\n",
       "      <th>node1</th>\n",
       "      <th>label</th>\n",
       "      <th>node2</th>\n",
       "    </tr>\n",
       "  </thead>\n",
       "  <tbody>\n",
       "    <tr>\n",
       "      <th>0</th>\n",
       "      <td>P1000</td>\n",
       "      <td>P2308</td>\n",
       "      <td>[Q1241356]</td>\n",
       "    </tr>\n",
       "    <tr>\n",
       "      <th>1</th>\n",
       "      <td>P1000</td>\n",
       "      <td>P2309</td>\n",
       "      <td>[Q30208840]</td>\n",
       "    </tr>\n",
       "    <tr>\n",
       "      <th>2</th>\n",
       "      <td>P1001</td>\n",
       "      <td>P2308</td>\n",
       "      <td>[Q20926517, Q2881272, Q2882257, Q3624078, Q389...</td>\n",
       "    </tr>\n",
       "    <tr>\n",
       "      <th>3</th>\n",
       "      <td>P1001</td>\n",
       "      <td>P2309</td>\n",
       "      <td>[Q30208840]</td>\n",
       "    </tr>\n",
       "    <tr>\n",
       "      <th>4</th>\n",
       "      <td>P1002</td>\n",
       "      <td>P2308</td>\n",
       "      <td>[Q2576663]</td>\n",
       "    </tr>\n",
       "  </tbody>\n",
       "</table>\n",
       "</div>"
      ],
      "text/plain": [
       "   node1  label                                              node2\n",
       "0  P1000  P2308                                         [Q1241356]\n",
       "1  P1000  P2309                                        [Q30208840]\n",
       "2  P1001  P2308  [Q20926517, Q2881272, Q2882257, Q3624078, Q389...\n",
       "3  P1001  P2309                                        [Q30208840]\n",
       "4  P1002  P2308                                         [Q2576663]"
      ]
     },
     "execution_count": 38,
     "metadata": {},
     "output_type": "execute_result"
    }
   ],
   "source": [
    "dfValueType.head()"
   ]
  },
  {
   "cell_type": "code",
   "execution_count": 39,
   "id": "expired-stuff",
   "metadata": {},
   "outputs": [
    {
     "data": {
      "text/plain": [
       "array(['P2308', 'P2309', 'P2303', 'P2316', 'P6607', 'P2304'], dtype=object)"
      ]
     },
     "execution_count": 39,
     "metadata": {},
     "output_type": "execute_result"
    }
   ],
   "source": [
    "dfValueType['label'].unique()"
   ]
  },
  {
   "cell_type": "code",
   "execution_count": 40,
   "id": "imposed-newsletter",
   "metadata": {},
   "outputs": [
    {
     "data": {
      "text/html": [
       "<div>\n",
       "<style scoped>\n",
       "    .dataframe tbody tr th:only-of-type {\n",
       "        vertical-align: middle;\n",
       "    }\n",
       "\n",
       "    .dataframe tbody tr th {\n",
       "        vertical-align: top;\n",
       "    }\n",
       "\n",
       "    .dataframe thead th {\n",
       "        text-align: right;\n",
       "    }\n",
       "</style>\n",
       "<table border=\"1\" class=\"dataframe\">\n",
       "  <thead>\n",
       "    <tr style=\"text-align: right;\">\n",
       "      <th></th>\n",
       "      <th>node1</th>\n",
       "      <th>label</th>\n",
       "      <th>node2</th>\n",
       "    </tr>\n",
       "  </thead>\n",
       "  <tbody>\n",
       "  </tbody>\n",
       "</table>\n",
       "</div>"
      ],
      "text/plain": [
       "Empty DataFrame\n",
       "Columns: [node1, label, node2]\n",
       "Index: []"
      ]
     },
     "execution_count": 40,
     "metadata": {},
     "output_type": "execute_result"
    }
   ],
   "source": [
    "dfValueType[dfValueType['label'] == '2316']"
   ]
  },
  {
   "cell_type": "code",
   "execution_count": 41,
   "id": "answering-alabama",
   "metadata": {},
   "outputs": [
    {
     "data": {
      "text/html": [
       "<div>\n",
       "<style scoped>\n",
       "    .dataframe tbody tr th:only-of-type {\n",
       "        vertical-align: middle;\n",
       "    }\n",
       "\n",
       "    .dataframe tbody tr th {\n",
       "        vertical-align: top;\n",
       "    }\n",
       "\n",
       "    .dataframe thead th {\n",
       "        text-align: right;\n",
       "    }\n",
       "</style>\n",
       "<table border=\"1\" class=\"dataframe\">\n",
       "  <thead>\n",
       "    <tr style=\"text-align: right;\">\n",
       "      <th></th>\n",
       "      <th>node1</th>\n",
       "      <th>label</th>\n",
       "      <th>node2</th>\n",
       "    </tr>\n",
       "  </thead>\n",
       "  <tbody>\n",
       "    <tr>\n",
       "      <th>330</th>\n",
       "      <td>P1659</td>\n",
       "      <td>P2308</td>\n",
       "      <td>[Q18616576]</td>\n",
       "    </tr>\n",
       "    <tr>\n",
       "      <th>331</th>\n",
       "      <td>P1659</td>\n",
       "      <td>P2309</td>\n",
       "      <td>[Q21503252]</td>\n",
       "    </tr>\n",
       "    <tr>\n",
       "      <th>332</th>\n",
       "      <td>P1659</td>\n",
       "      <td>P2316</td>\n",
       "      <td>[Q21502408]</td>\n",
       "    </tr>\n",
       "  </tbody>\n",
       "</table>\n",
       "</div>"
      ],
      "text/plain": [
       "     node1  label        node2\n",
       "330  P1659  P2308  [Q18616576]\n",
       "331  P1659  P2309  [Q21503252]\n",
       "332  P1659  P2316  [Q21502408]"
      ]
     },
     "execution_count": 41,
     "metadata": {},
     "output_type": "execute_result"
    }
   ],
   "source": [
    "dfValueType[dfValueType['node1'] == 'P1659']"
   ]
  },
  {
   "cell_type": "code",
   "execution_count": 42,
   "id": "danish-blackberry",
   "metadata": {},
   "outputs": [
    {
     "data": {
      "text/html": [
       "<div>\n",
       "<style scoped>\n",
       "    .dataframe tbody tr th:only-of-type {\n",
       "        vertical-align: middle;\n",
       "    }\n",
       "\n",
       "    .dataframe tbody tr th {\n",
       "        vertical-align: top;\n",
       "    }\n",
       "\n",
       "    .dataframe thead th {\n",
       "        text-align: right;\n",
       "    }\n",
       "</style>\n",
       "<table border=\"1\" class=\"dataframe\">\n",
       "  <thead>\n",
       "    <tr style=\"text-align: right;\">\n",
       "      <th></th>\n",
       "      <th>node1</th>\n",
       "      <th>label</th>\n",
       "      <th>node2</th>\n",
       "    </tr>\n",
       "  </thead>\n",
       "  <tbody>\n",
       "    <tr>\n",
       "      <th>2031</th>\n",
       "      <td>P991</td>\n",
       "      <td>P2308</td>\n",
       "      <td>[Q5, Q7210356]</td>\n",
       "    </tr>\n",
       "    <tr>\n",
       "      <th>2032</th>\n",
       "      <td>P991</td>\n",
       "      <td>P2309</td>\n",
       "      <td>[Q21503252]</td>\n",
       "    </tr>\n",
       "  </tbody>\n",
       "</table>\n",
       "</div>"
      ],
      "text/plain": [
       "     node1  label           node2\n",
       "2031  P991  P2308  [Q5, Q7210356]\n",
       "2032  P991  P2309     [Q21503252]"
      ]
     },
     "execution_count": 42,
     "metadata": {},
     "output_type": "execute_result"
    }
   ],
   "source": [
    "dfValueType[dfValueType.node1 == 'P991']"
   ]
  },
  {
   "cell_type": "markdown",
   "id": "digital-harvard",
   "metadata": {},
   "source": [
    "### Query Generator"
   ]
  },
  {
   "cell_type": "code",
   "execution_count": 43,
   "id": "white-badge",
   "metadata": {},
   "outputs": [
    {
     "data": {
      "application/vnd.jupyter.widget-view+json": {
       "model_id": "bb623e1d72164970a40f3bc2d9ab6346",
       "version_major": 2,
       "version_minor": 0
      },
      "text/plain": [
       "  0%|          | 0/932 [00:00<?, ?it/s]"
      ]
     },
     "metadata": {},
     "output_type": "display_data"
    },
    {
     "name": "stdout",
     "output_type": "stream",
     "text": [
      "Something failed for prop: P1389\n"
     ]
    }
   ],
   "source": [
    "from tqdm.notebook import tqdm\n",
    "import os.path\n",
    "import os\n",
    "\n",
    "cnt = 0\n",
    "fCnt = 1\n",
    "for prop in tqdm(dfValueType.node1.unique()):\n",
    "    try:\n",
    "        \n",
    "        if not(os.path.isfile(\"../../propertiesSplit/claims.\"+ prop +\".tsv\")):\n",
    "            continue\n",
    "        relation = dfValueType[(dfValueType['node1'] == prop) & (dfValueType['label'] == 'P2309')].node2.values[0][0]\n",
    "        type1 = dfValueType[(dfValueType['node1'] == prop) & (dfValueType['label'] == 'P2316')].node2.values\n",
    "#         print(type1)\n",
    "\n",
    "        parents = dfValueType[(dfValueType['node1'] == prop) & (dfValueType['label'] == 'P2308')].node2.values[0]\n",
    "        exceptions = dfValueType[(dfValueType['node1'] == prop) & (dfValueType['label'] == 'P2303')].node2.values\n",
    "        \n",
    "        if relation == \"Q21503252\":\n",
    "            parentFile = \"P31\"\n",
    "            parentTitle = 'instanceOf'\n",
    "        elif relation == \"Q21514624\":\n",
    "            parentFile = \"P279\"\n",
    "            parentTitle = 'subclass'\n",
    "        else:\n",
    "            parentFile = \"isa\"\n",
    "            parentTitle = 'instanceOfOrSubclass'\n",
    "\n",
    "        if len(type1) != 0 and type1[0][0] == \"Q21502408\":\n",
    "            typeVal = \"mandatory\"\n",
    "        elif len(type1) != 0 and type1[0][0] == \"Q62026391\":\n",
    "            typeVal = \"suggestion\"\n",
    "        else:\n",
    "            typeVal = \"normal\"\n",
    "\n",
    "        if len(exceptions):\n",
    "            exceptionPart = \"or node2 in \" + str(exceptions[0]).replace(\"'\",'\"')\n",
    "        else:\n",
    "            exceptionPart = \"\"\n",
    "        \n",
    "        folderName = 'valuetypeConstraint_Final4'\n",
    "        shellFileSuffix = 'valueTypeConstraintValidator_xverify3'\n",
    "        \n",
    "        if cnt % 120 == 0:\n",
    "            if fOP:\n",
    "                fOP.close()\n",
    "            fOP = open(\"../../propertiesSplit/checkViolations/\" + shellFileSuffix + str(fCnt) + \".sh\",\"w\")\n",
    "            fCnt += 1\n",
    "        \n",
    "        fOP.write(\"{ time (kgtk --debug query -i ../../propertiesSplit/claims.\"+ prop +\".tsv \\\n",
    "        ../../wikidata-20210215/derived.\" + parentFile + \".tsv.gz \\\n",
    "        ../../wikidata-20210215/derived.P279star.tsv.gz \\\n",
    "        --match 'm: (node1)-[nodeProp]->(node2), \" + parentFile + \": (node2)-[]->(nodex), P279star: (nodex)-[]->(par)' \\\n",
    "        --where 'par in \" + str(parents).replace(\"'\",'\"') + \" \" + exceptionPart + \"' \\\n",
    "        --return 'distinct nodeProp.id, node1 as `node1`, nodeProp.label as `label`, node2 as `node2`' \\\n",
    "        -o ../../allConstraintsAnalysis/\" + folderName + \"/\" + typeVal + \"/claims.type-constraints.\" + parentTitle + \".\"+ prop +\".correct.tsv \\\n",
    "        --graph-cache ~/sqlite3_caches/const111_\" + str(fCnt) + \".sqlite3.db; \\\n",
    "         kgtk --debug ifnotexists -i ../../propertiesSplit/claims.\"+ prop +\".tsv \\\n",
    "        --filter-on ../../allConstraintsAnalysis/\" + folderName + \"/\" + typeVal + \"/claims.type-constraints.\" + parentTitle + \".\"+ prop +\".correct.tsv \\\n",
    "        --filter-mode NONE \\\n",
    "        --input-keys node1 label \\\n",
    "        --filter-keys node1 label \\\n",
    "        -o ../../allConstraintsAnalysis/\" + folderName + \"/\" + typeVal + \"/claims.type-constraints.\" + parentTitle + \".\"+ prop +\".incorrect.tsv ) } 2>> ../../propertiesSplit/checkViolations/exec_logs/\" + shellFileSuffix + str(fCnt) + \".txt;\\n\")\n",
    "        \n",
    "        cnt += 1\n",
    "    except:\n",
    "        print(\"Something failed for prop:\",prop)\n",
    "if fOP:\n",
    "    fOP.close()"
   ]
  },
  {
   "cell_type": "code",
   "execution_count": 44,
   "id": "qualified-cursor",
   "metadata": {},
   "outputs": [
    {
     "data": {
      "text/plain": [
       "897"
      ]
     },
     "execution_count": 44,
     "metadata": {},
     "output_type": "execute_result"
    }
   ],
   "source": [
    "cnt"
   ]
  },
  {
   "cell_type": "code",
   "execution_count": 45,
   "id": "simplified-cameroon",
   "metadata": {},
   "outputs": [],
   "source": [
    "# import os\n",
    "# for i in range(1,9):\n",
    "#     os.system(\"screen -dm sh ../../propertiesSplit/checkViolations/valueTypeConstraintValidator_xverify3\"+str(i)+\".sh\")\n",
    "    "
   ]
  },
  {
   "cell_type": "markdown",
   "id": "spectacular-warner",
   "metadata": {},
   "source": [
    "### Analyze Violations"
   ]
  },
  {
   "cell_type": "code",
   "execution_count": 21,
   "id": "valid-defense",
   "metadata": {},
   "outputs": [
    {
     "data": {
      "application/vnd.jupyter.widget-view+json": {
       "model_id": "c2c49c85190949669392e7e39bec677f",
       "version_major": 2,
       "version_minor": 0
      },
      "text/plain": [
       "0it [00:00, ?it/s]"
      ]
     },
     "metadata": {},
     "output_type": "display_data"
    },
    {
     "data": {
      "application/vnd.jupyter.widget-view+json": {
       "model_id": "285e1c2ed86c4e27be672d341374c5a8",
       "version_major": 2,
       "version_minor": 0
      },
      "text/plain": [
       "  0%|          | 0/212 [00:00<?, ?it/s]"
      ]
     },
     "metadata": {},
     "output_type": "display_data"
    },
    {
     "data": {
      "application/vnd.jupyter.widget-view+json": {
       "model_id": "f3d70806dba44c59962ff94a7167d20a",
       "version_major": 2,
       "version_minor": 0
      },
      "text/plain": [
       "  0%|          | 0/10 [00:00<?, ?it/s]"
      ]
     },
     "metadata": {},
     "output_type": "display_data"
    },
    {
     "data": {
      "application/vnd.jupyter.widget-view+json": {
       "model_id": "ecb4aff26e9d491593bacf478827d38d",
       "version_major": 2,
       "version_minor": 0
      },
      "text/plain": [
       "  0%|          | 0/1572 [00:00<?, ?it/s]"
      ]
     },
     "metadata": {},
     "output_type": "display_data"
    }
   ],
   "source": [
    "import pandas as pd\n",
    "import os\n",
    "from tqdm.notebook import tqdm\n",
    "\n",
    "valueTypeConstViolations = {}\n",
    "\n",
    "def countLines(fname):\n",
    "    cnt = -1\n",
    "    with open(fname, 'r') as f:\n",
    "        for line in f:\n",
    "            cnt += 1\n",
    "    return cnt\n",
    "\n",
    "valueTypePropList = set()\n",
    "\n",
    "violations = {}\n",
    "\n",
    "for folder in tqdm(iter(['mandatory', 'suggestion', 'normal'])):\n",
    "    valueTypeConstViolations[folder] = {'instanceOf': {'correct': 0, 'incorrect': 0}, 'subclass': {'correct': 0, 'incorrect': 0}, 'instanceOfOrSubclass': {'correct': 0, 'incorrect': 0}, 'propCount':0}\n",
    "    filePath = \"../../allConstraintsAnalysis/valuetypeConstraint_Final4/\"+folder+\"/\"\n",
    "    for filename in tqdm(os.listdir(filePath)):\n",
    "        type1 = filename.split(\".\")[2]\n",
    "        prop = filename.split(\".\")[3]\n",
    "        valueTypePropList.add(prop)\n",
    "        correctness = filename.split(\".\")[4]\n",
    "        count1 = countLines(filePath+filename)\n",
    "        valueTypeConstViolations[folder][type1][correctness] += count1\n",
    "        if prop not in violations:\n",
    "            violations[prop] = {'correct': 0, 'incorrect': 0, 'paths': []}\n",
    "        violations[prop][correctness] = count1\n",
    "        violations[prop]['paths'].append(filePath+filename)\n",
    "        if correctness == 'correct':\n",
    "            valueTypeConstViolations[folder]['propCount'] += 1\n",
    "        "
   ]
  },
  {
   "cell_type": "code",
   "execution_count": 22,
   "id": "experienced-quick",
   "metadata": {},
   "outputs": [],
   "source": [
    "# countLines(\"../../allConstraintsAnalysis/typeConstraint/mandatory/claims.type-constraints.subclass.P534.incorrect.tsv\")"
   ]
  },
  {
   "cell_type": "code",
   "execution_count": 23,
   "id": "refined-speaking",
   "metadata": {},
   "outputs": [
    {
     "name": "stdout",
     "output_type": "stream",
     "text": [
      "897 properties processed for value type constraint for 181823950 statements\n"
     ]
    }
   ],
   "source": [
    "recordCount = 0\n",
    "for elem in valueTypeConstViolations.keys():\n",
    "    for key1 in valueTypeConstViolations[elem].keys():\n",
    "        try:\n",
    "            recordCount += valueTypeConstViolations[elem][key1]['correct'] + valueTypeConstViolations[elem][key1]['incorrect']\n",
    "        except:\n",
    "            continue\n",
    "print(f\"{len(valueTypePropList)} properties processed for value type constraint for {recordCount} statements\")"
   ]
  },
  {
   "cell_type": "code",
   "execution_count": 24,
   "id": "designed-christian",
   "metadata": {},
   "outputs": [],
   "source": [
    "import pandas as pd\n",
    "valTypeConstDF = pd.DataFrame(violations).T"
   ]
  },
  {
   "cell_type": "code",
   "execution_count": 25,
   "id": "spare-hawaiian",
   "metadata": {},
   "outputs": [],
   "source": [
    "valTypeConstDF['violation_ratio'] = valTypeConstDF.apply(lambda p: p.incorrect / (p.incorrect + p.correct), axis=1)"
   ]
  },
  {
   "cell_type": "code",
   "execution_count": 26,
   "id": "provincial-diploma",
   "metadata": {},
   "outputs": [
    {
     "data": {
      "text/html": [
       "<div>\n",
       "<style scoped>\n",
       "    .dataframe tbody tr th:only-of-type {\n",
       "        vertical-align: middle;\n",
       "    }\n",
       "\n",
       "    .dataframe tbody tr th {\n",
       "        vertical-align: top;\n",
       "    }\n",
       "\n",
       "    .dataframe thead th {\n",
       "        text-align: right;\n",
       "    }\n",
       "</style>\n",
       "<table border=\"1\" class=\"dataframe\">\n",
       "  <thead>\n",
       "    <tr style=\"text-align: right;\">\n",
       "      <th></th>\n",
       "      <th>correct</th>\n",
       "      <th>incorrect</th>\n",
       "      <th>paths</th>\n",
       "      <th>violation_ratio</th>\n",
       "    </tr>\n",
       "  </thead>\n",
       "  <tbody>\n",
       "    <tr>\n",
       "      <th>P2302</th>\n",
       "      <td>42211</td>\n",
       "      <td>0</td>\n",
       "      <td>[../../allConstraintsAnalysis/valuetypeConstra...</td>\n",
       "      <td>0.000000</td>\n",
       "    </tr>\n",
       "    <tr>\n",
       "      <th>P3092</th>\n",
       "      <td>4620</td>\n",
       "      <td>1</td>\n",
       "      <td>[../../allConstraintsAnalysis/valuetypeConstra...</td>\n",
       "      <td>0.000216</td>\n",
       "    </tr>\n",
       "    <tr>\n",
       "      <th>P3096</th>\n",
       "      <td>11150</td>\n",
       "      <td>2</td>\n",
       "      <td>[../../allConstraintsAnalysis/valuetypeConstra...</td>\n",
       "      <td>0.000179</td>\n",
       "    </tr>\n",
       "    <tr>\n",
       "      <th>P3156</th>\n",
       "      <td>348</td>\n",
       "      <td>0</td>\n",
       "      <td>[../../allConstraintsAnalysis/valuetypeConstra...</td>\n",
       "      <td>0.000000</td>\n",
       "    </tr>\n",
       "    <tr>\n",
       "      <th>P87</th>\n",
       "      <td>4766</td>\n",
       "      <td>3</td>\n",
       "      <td>[../../allConstraintsAnalysis/valuetypeConstra...</td>\n",
       "      <td>0.000629</td>\n",
       "    </tr>\n",
       "  </tbody>\n",
       "</table>\n",
       "</div>"
      ],
      "text/plain": [
       "      correct incorrect                                              paths  \\\n",
       "P2302   42211         0  [../../allConstraintsAnalysis/valuetypeConstra...   \n",
       "P3092    4620         1  [../../allConstraintsAnalysis/valuetypeConstra...   \n",
       "P3096   11150         2  [../../allConstraintsAnalysis/valuetypeConstra...   \n",
       "P3156     348         0  [../../allConstraintsAnalysis/valuetypeConstra...   \n",
       "P87      4766         3  [../../allConstraintsAnalysis/valuetypeConstra...   \n",
       "\n",
       "       violation_ratio  \n",
       "P2302         0.000000  \n",
       "P3092         0.000216  \n",
       "P3096         0.000179  \n",
       "P3156         0.000000  \n",
       "P87           0.000629  "
      ]
     },
     "execution_count": 26,
     "metadata": {},
     "output_type": "execute_result"
    }
   ],
   "source": [
    "valTypeConstDF.head()"
   ]
  },
  {
   "cell_type": "code",
   "execution_count": 27,
   "id": "neural-trail",
   "metadata": {},
   "outputs": [
    {
     "data": {
      "text/html": [
       "<div>\n",
       "<style scoped>\n",
       "    .dataframe tbody tr th:only-of-type {\n",
       "        vertical-align: middle;\n",
       "    }\n",
       "\n",
       "    .dataframe tbody tr th {\n",
       "        vertical-align: top;\n",
       "    }\n",
       "\n",
       "    .dataframe thead th {\n",
       "        text-align: right;\n",
       "    }\n",
       "</style>\n",
       "<table border=\"1\" class=\"dataframe\">\n",
       "  <thead>\n",
       "    <tr style=\"text-align: right;\">\n",
       "      <th></th>\n",
       "      <th>correct</th>\n",
       "      <th>incorrect</th>\n",
       "      <th>paths</th>\n",
       "      <th>violation_ratio</th>\n",
       "    </tr>\n",
       "  </thead>\n",
       "  <tbody>\n",
       "    <tr>\n",
       "      <th>P5008</th>\n",
       "      <td>0</td>\n",
       "      <td>331026</td>\n",
       "      <td>[../../allConstraintsAnalysis/valuetypeConstra...</td>\n",
       "      <td>1.0</td>\n",
       "    </tr>\n",
       "    <tr>\n",
       "      <th>P6104</th>\n",
       "      <td>0</td>\n",
       "      <td>9764</td>\n",
       "      <td>[../../allConstraintsAnalysis/valuetypeConstra...</td>\n",
       "      <td>1.0</td>\n",
       "    </tr>\n",
       "    <tr>\n",
       "      <th>P2545</th>\n",
       "      <td>0</td>\n",
       "      <td>1369</td>\n",
       "      <td>[../../allConstraintsAnalysis/valuetypeConstra...</td>\n",
       "      <td>1.0</td>\n",
       "    </tr>\n",
       "    <tr>\n",
       "      <th>P2668</th>\n",
       "      <td>0</td>\n",
       "      <td>168</td>\n",
       "      <td>[../../allConstraintsAnalysis/valuetypeConstra...</td>\n",
       "      <td>1.0</td>\n",
       "    </tr>\n",
       "    <tr>\n",
       "      <th>P7374</th>\n",
       "      <td>0</td>\n",
       "      <td>32</td>\n",
       "      <td>[../../allConstraintsAnalysis/valuetypeConstra...</td>\n",
       "      <td>1.0</td>\n",
       "    </tr>\n",
       "    <tr>\n",
       "      <th>P2839</th>\n",
       "      <td>0</td>\n",
       "      <td>14</td>\n",
       "      <td>[../../allConstraintsAnalysis/valuetypeConstra...</td>\n",
       "      <td>1.0</td>\n",
       "    </tr>\n",
       "    <tr>\n",
       "      <th>P3028</th>\n",
       "      <td>0</td>\n",
       "      <td>13</td>\n",
       "      <td>[../../allConstraintsAnalysis/valuetypeConstra...</td>\n",
       "      <td>1.0</td>\n",
       "    </tr>\n",
       "    <tr>\n",
       "      <th>P3027</th>\n",
       "      <td>0</td>\n",
       "      <td>12</td>\n",
       "      <td>[../../allConstraintsAnalysis/valuetypeConstra...</td>\n",
       "      <td>1.0</td>\n",
       "    </tr>\n",
       "    <tr>\n",
       "      <th>P2127</th>\n",
       "      <td>0</td>\n",
       "      <td>11</td>\n",
       "      <td>[../../allConstraintsAnalysis/valuetypeConstra...</td>\n",
       "      <td>1.0</td>\n",
       "    </tr>\n",
       "    <tr>\n",
       "      <th>P538</th>\n",
       "      <td>0</td>\n",
       "      <td>10</td>\n",
       "      <td>[../../allConstraintsAnalysis/valuetypeConstra...</td>\n",
       "      <td>1.0</td>\n",
       "    </tr>\n",
       "    <tr>\n",
       "      <th>P143</th>\n",
       "      <td>0</td>\n",
       "      <td>7</td>\n",
       "      <td>[../../allConstraintsAnalysis/valuetypeConstra...</td>\n",
       "      <td>1.0</td>\n",
       "    </tr>\n",
       "    <tr>\n",
       "      <th>P4425</th>\n",
       "      <td>0</td>\n",
       "      <td>6</td>\n",
       "      <td>[../../allConstraintsAnalysis/valuetypeConstra...</td>\n",
       "      <td>1.0</td>\n",
       "    </tr>\n",
       "    <tr>\n",
       "      <th>P6191</th>\n",
       "      <td>0</td>\n",
       "      <td>5</td>\n",
       "      <td>[../../allConstraintsAnalysis/valuetypeConstra...</td>\n",
       "      <td>1.0</td>\n",
       "    </tr>\n",
       "    <tr>\n",
       "      <th>P6533</th>\n",
       "      <td>0</td>\n",
       "      <td>5</td>\n",
       "      <td>[../../allConstraintsAnalysis/valuetypeConstra...</td>\n",
       "      <td>1.0</td>\n",
       "    </tr>\n",
       "    <tr>\n",
       "      <th>P6534</th>\n",
       "      <td>0</td>\n",
       "      <td>5</td>\n",
       "      <td>[../../allConstraintsAnalysis/valuetypeConstra...</td>\n",
       "      <td>1.0</td>\n",
       "    </tr>\n",
       "  </tbody>\n",
       "</table>\n",
       "</div>"
      ],
      "text/plain": [
       "      correct incorrect                                              paths  \\\n",
       "P5008       0    331026  [../../allConstraintsAnalysis/valuetypeConstra...   \n",
       "P6104       0      9764  [../../allConstraintsAnalysis/valuetypeConstra...   \n",
       "P2545       0      1369  [../../allConstraintsAnalysis/valuetypeConstra...   \n",
       "P2668       0       168  [../../allConstraintsAnalysis/valuetypeConstra...   \n",
       "P7374       0        32  [../../allConstraintsAnalysis/valuetypeConstra...   \n",
       "P2839       0        14  [../../allConstraintsAnalysis/valuetypeConstra...   \n",
       "P3028       0        13  [../../allConstraintsAnalysis/valuetypeConstra...   \n",
       "P3027       0        12  [../../allConstraintsAnalysis/valuetypeConstra...   \n",
       "P2127       0        11  [../../allConstraintsAnalysis/valuetypeConstra...   \n",
       "P538        0        10  [../../allConstraintsAnalysis/valuetypeConstra...   \n",
       "P143        0         7  [../../allConstraintsAnalysis/valuetypeConstra...   \n",
       "P4425       0         6  [../../allConstraintsAnalysis/valuetypeConstra...   \n",
       "P6191       0         5  [../../allConstraintsAnalysis/valuetypeConstra...   \n",
       "P6533       0         5  [../../allConstraintsAnalysis/valuetypeConstra...   \n",
       "P6534       0         5  [../../allConstraintsAnalysis/valuetypeConstra...   \n",
       "\n",
       "       violation_ratio  \n",
       "P5008              1.0  \n",
       "P6104              1.0  \n",
       "P2545              1.0  \n",
       "P2668              1.0  \n",
       "P7374              1.0  \n",
       "P2839              1.0  \n",
       "P3028              1.0  \n",
       "P3027              1.0  \n",
       "P2127              1.0  \n",
       "P538               1.0  \n",
       "P143               1.0  \n",
       "P4425              1.0  \n",
       "P6191              1.0  \n",
       "P6533              1.0  \n",
       "P6534              1.0  "
      ]
     },
     "execution_count": 27,
     "metadata": {},
     "output_type": "execute_result"
    }
   ],
   "source": [
    "valTypeConstDF.sort_values(by=['violation_ratio','incorrect'],ascending=False).head(15)"
   ]
  },
  {
   "cell_type": "code",
   "execution_count": 28,
   "id": "cutting-polyester",
   "metadata": {},
   "outputs": [
    {
     "data": {
      "text/plain": [
       "count    897.000000\n",
       "mean       0.083622\n",
       "std        0.205759\n",
       "min        0.000000\n",
       "25%        0.000451\n",
       "50%        0.006186\n",
       "75%        0.042042\n",
       "max        1.000000\n",
       "Name: violation_ratio, dtype: float64"
      ]
     },
     "execution_count": 28,
     "metadata": {},
     "output_type": "execute_result"
    }
   ],
   "source": [
    "valTypeConstDF['violation_ratio'].describe()"
   ]
  },
  {
   "cell_type": "code",
   "execution_count": 29,
   "id": "alert-receiver",
   "metadata": {},
   "outputs": [
    {
     "data": {
      "text/plain": [
       "Text(0.5, 1.0, 'Value Type Constraint Violation Ratios')"
      ]
     },
     "execution_count": 29,
     "metadata": {},
     "output_type": "execute_result"
    },
    {
     "data": {
      "image/png": "[encoded data removed]",
      "text/plain": [
       "<Figure size 432x288 with 1 Axes>"
      ]
     },
     "metadata": {
      "needs_background": "light"
     },
     "output_type": "display_data"
    }
   ],
   "source": [
    "valTypeConstDF['violation_ratio'].plot.hist(bins=100).set_title(\"Value Type Constraint Violation Ratios\")"
   ]
  },
  {
   "cell_type": "code",
   "execution_count": 30,
   "id": "italian-motel",
   "metadata": {},
   "outputs": [
    {
     "data": {
      "text/plain": [
       "Text(0.5, 1.0, 'Value Type Constraint Violation Ratios (<=0.04)')"
      ]
     },
     "execution_count": 30,
     "metadata": {},
     "output_type": "execute_result"
    },
    {
     "data": {
      "image/png": "[encoded data removed]",
      "text/plain": [
       "<Figure size 432x288 with 1 Axes>"
      ]
     },
     "metadata": {
      "needs_background": "light"
     },
     "output_type": "display_data"
    }
   ],
   "source": [
    "valTypeConstDF[valTypeConstDF['violation_ratio'] <= 0.04].violation_ratio.plot.hist(bins=100).set_title(\"Value Type Constraint Violation Ratios (<=0.04)\")"
   ]
  },
  {
   "cell_type": "code",
   "execution_count": 31,
   "id": "prescription-ceramic",
   "metadata": {},
   "outputs": [
    {
     "name": "stdout",
     "output_type": "stream",
     "text": [
      "No. of constraints whose violation ratio is greater than mean :0/897\n"
     ]
    }
   ],
   "source": [
    "print(f\"No. of constraints whose violation ratio is greater than mean :{sum(valTypeConstDF['violation_ratio'] >= 3.950680)}/{len(valTypeConstDF)}\")"
   ]
  },
  {
   "cell_type": "code",
   "execution_count": 32,
   "id": "quiet-gardening",
   "metadata": {
    "scrolled": true
   },
   "outputs": [],
   "source": [
    "# valTypeConstDF.sort_values(by=['violation_ratio'],ascending=False).head().paths.values"
   ]
  },
  {
   "cell_type": "code",
   "execution_count": 33,
   "id": "documentary-pipeline",
   "metadata": {},
   "outputs": [],
   "source": [
    "# !head ../../allConstraintsAnalysis/typeConstraint/normal/claims.type-constraints.instanceOf.P7535.incorrect.tsv"
   ]
  },
  {
   "cell_type": "code",
   "execution_count": 34,
   "id": "tutorial-mineral",
   "metadata": {},
   "outputs": [],
   "source": [
    "for key1 in valueTypeConstViolations.keys():\n",
    "    valueTypeConstViolations[key1]['correct'] = valueTypeConstViolations[key1]['instanceOf']['correct'] + valueTypeConstViolations[key1]['subclass']['correct'] + valueTypeConstViolations[key1]['instanceOfOrSubclass']['correct']\n",
    "    valueTypeConstViolations[key1]['incorrect'] = valueTypeConstViolations[key1]['instanceOf']['incorrect'] + valueTypeConstViolations[key1]['subclass']['incorrect'] + valueTypeConstViolations[key1]['instanceOfOrSubclass']['incorrect']\n",
    "    valueTypeConstViolations[key1]['VR'] = valueTypeConstViolations[key1]['incorrect'] / (valueTypeConstViolations[key1]['correct'] + valueTypeConstViolations[key1]['incorrect'])\n",
    "        "
   ]
  },
  {
   "cell_type": "code",
   "execution_count": 35,
   "id": "satellite-concern",
   "metadata": {
    "scrolled": false
   },
   "outputs": [
    {
     "data": {
      "text/plain": [
       "{'mandatory': {'instanceOf': {'correct': 11391695, 'incorrect': 3339},\n",
       "  'subclass': {'correct': 44764, 'incorrect': 1},\n",
       "  'instanceOfOrSubclass': {'correct': 11638, 'incorrect': 35},\n",
       "  'propCount': 106,\n",
       "  'correct': 11448097,\n",
       "  'incorrect': 3375,\n",
       "  'VR': 0.00029472193618427394},\n",
       " 'suggestion': {'instanceOf': {'correct': 46036, 'incorrect': 474},\n",
       "  'subclass': {'correct': 118, 'incorrect': 18},\n",
       "  'instanceOfOrSubclass': {'correct': 0, 'incorrect': 0},\n",
       "  'propCount': 5,\n",
       "  'correct': 46154,\n",
       "  'incorrect': 492,\n",
       "  'VR': 0.01054752819105604},\n",
       " 'normal': {'instanceOf': {'correct': 88858176, 'incorrect': 689971},\n",
       "  'subclass': {'correct': 4373665, 'incorrect': 6190},\n",
       "  'instanceOfOrSubclass': {'correct': 76234047, 'incorrect': 163783},\n",
       "  'propCount': 786,\n",
       "  'correct': 169465888,\n",
       "  'incorrect': 859944,\n",
       "  'VR': 0.00504881725750208}}"
      ]
     },
     "execution_count": 35,
     "metadata": {},
     "output_type": "execute_result"
    }
   ],
   "source": [
    "valueTypeConstViolations"
   ]
  },
  {
   "cell_type": "code",
   "execution_count": 36,
   "id": "assigned-signature",
   "metadata": {},
   "outputs": [],
   "source": [
    "valTypeConstDF.to_csv('../../allConstraintsAnalysis/valueTypeConstDFAnalysis.csv')"
   ]
  },
  {
   "cell_type": "markdown",
   "id": "traditional-shakespeare",
   "metadata": {},
   "source": [
    "### Find out time required"
   ]
  },
  {
   "cell_type": "code",
   "execution_count": 35,
   "id": "spoken-symphony",
   "metadata": {},
   "outputs": [
    {
     "data": {
      "application/vnd.jupyter.widget-view+json": {
       "model_id": "c60118b9694f4447b22fbe6ab5e113ff",
       "version_major": 2,
       "version_minor": 0
      },
      "text/plain": [
       "  0%|          | 0/313 [00:00<?, ?it/s]"
      ]
     },
     "metadata": {},
     "output_type": "display_data"
    }
   ],
   "source": [
    "import pandas as pd\n",
    "import os\n",
    "from tqdm.notebook import tqdm\n",
    "\n",
    "codepConstViolations = {}\n",
    "\n",
    "codepConstViolations = {}\n",
    "codepConstPropList = set()\n",
    "\n",
    "def extractTimes(filename):\n",
    "    times = []\n",
    "    with open(filename) as f:\n",
    "        for line in f:\n",
    "            if \"real\" in line:\n",
    "                line = line.strip()\n",
    "                time1 = line.split(\"\\t\")[1]\n",
    "                mins, sec = time1.split(\"m\")\n",
    "                mins = int(mins)\n",
    "                sec = float(sec[:-1])\n",
    "                times.append(60 * mins + sec)\n",
    "    return times\n",
    "\n",
    "# codepConstViolationsSummary = {}\n",
    "times = []\n",
    "filePath = '/data/wd-correctness/propertiesSplit/checkViolations/exec_logs/'\n",
    "for filename in tqdm(os.listdir(filePath)):\n",
    "    if filename.startswith(\"valueTypeConstraintValidator_xverify3\"):\n",
    "        tempTimes = extractTimes(filePath + filename)\n",
    "        times += tempTimes"
   ]
  },
  {
   "cell_type": "code",
   "execution_count": 79,
   "id": "heavy-argentina",
   "metadata": {},
   "outputs": [
    {
     "name": "stdout",
     "output_type": "stream",
     "text": [
      "count     897.000000\n",
      "mean       41.756467\n",
      "std       133.639231\n",
      "min         1.516000\n",
      "25%         3.236000\n",
      "50%         6.851000\n",
      "75%        24.280000\n",
      "max      1683.328000\n",
      "dtype: float64\n"
     ]
    }
   ],
   "source": [
    "print(pd.Series(times).describe())"
   ]
  },
  {
   "cell_type": "code",
   "execution_count": 80,
   "id": "organized-mixer",
   "metadata": {},
   "outputs": [
    {
     "data": {
      "text/plain": [
       "Text(0.5, 1.0, 'Distribution of times (in s) taken for value type constraint checks')"
      ]
     },
     "execution_count": 80,
     "metadata": {},
     "output_type": "execute_result"
    },
    {
     "data": {
      "image/png": "[encoded data removed]",
      "text/plain": [
       "<Figure size 432x288 with 1 Axes>"
      ]
     },
     "metadata": {
      "needs_background": "light"
     },
     "output_type": "display_data"
    }
   ],
   "source": [
    "import seaborn as sns\n",
    "sns.lineplot(data=pd.Series(times)).set_title(\"Distribution of times (in s) taken for value type constraint checks\")"
   ]
  },
  {
   "cell_type": "markdown",
   "id": "motivated-sympathy",
   "metadata": {},
   "source": [
    "## Item Requires Statement Constraint"
   ]
  },
  {
   "cell_type": "markdown",
   "id": "chubby-glass",
   "metadata": {},
   "source": [
    "### Understand Constraints File"
   ]
  },
  {
   "cell_type": "code",
   "execution_count": 37,
   "id": "funny-batch",
   "metadata": {},
   "outputs": [],
   "source": [
    "import pandas as pd\n",
    "import math\n",
    "dfItemRequires = pd.read_csv('../../constraintsOP/itemRequiresConstraint/claims.type-constraints_all.tsv',sep='\\t')"
   ]
  },
  {
   "cell_type": "code",
   "execution_count": 38,
   "id": "original-expression",
   "metadata": {},
   "outputs": [],
   "source": [
    "dfItemRequires = dfItemRequires.groupby(['id','node1','label']).node2.apply(lambda p: p.tolist()).reset_index()"
   ]
  },
  {
   "cell_type": "code",
   "execution_count": 39,
   "id": "adequate-symphony",
   "metadata": {},
   "outputs": [
    {
     "data": {
      "text/plain": [
       "array(['P2306', 'P2305', 'P2316', 'P2304', 'P2303', 'P6607', 'P4155',\n",
       "       'P31', 'P2916', 'P4680', 'P2308'], dtype=object)"
      ]
     },
     "execution_count": 39,
     "metadata": {},
     "output_type": "execute_result"
    }
   ],
   "source": [
    "dfItemRequires['label'].unique()"
   ]
  },
  {
   "cell_type": "code",
   "execution_count": 40,
   "id": "infrared-canal",
   "metadata": {},
   "outputs": [
    {
     "data": {
      "text/plain": [
       "P2306    7182\n",
       "P2305    2540\n",
       "P2316    2523\n",
       "P2303     422\n",
       "P2304      14\n",
       "P6607      14\n",
       "P2916       5\n",
       "P4680       2\n",
       "P2308       1\n",
       "P4155       1\n",
       "P31         1\n",
       "Name: label, dtype: int64"
      ]
     },
     "execution_count": 40,
     "metadata": {},
     "output_type": "execute_result"
    }
   ],
   "source": [
    "dfItemRequires['label'].value_counts()"
   ]
  },
  {
   "cell_type": "code",
   "execution_count": 41,
   "id": "focused-karen",
   "metadata": {},
   "outputs": [],
   "source": [
    "#Reference: https://stackoverflow.com/a/17298454\n",
    "# dfItemRequires.pivot_table('node2', ['node1', 'id'], 'label')\n",
    "dfItemRequires = dfItemRequires.pivot(index=['node1','id'], columns='label', values='node2')"
   ]
  },
  {
   "cell_type": "code",
   "execution_count": 42,
   "id": "private-boundary",
   "metadata": {},
   "outputs": [
    {
     "data": {
      "text/html": [
       "<div>\n",
       "<style scoped>\n",
       "    .dataframe tbody tr th:only-of-type {\n",
       "        vertical-align: middle;\n",
       "    }\n",
       "\n",
       "    .dataframe tbody tr th {\n",
       "        vertical-align: top;\n",
       "    }\n",
       "\n",
       "    .dataframe thead th {\n",
       "        text-align: right;\n",
       "    }\n",
       "</style>\n",
       "<table border=\"1\" class=\"dataframe\">\n",
       "  <thead>\n",
       "    <tr style=\"text-align: right;\">\n",
       "      <th></th>\n",
       "      <th>label</th>\n",
       "      <th>P2303</th>\n",
       "      <th>P2304</th>\n",
       "      <th>P2305</th>\n",
       "      <th>P2306</th>\n",
       "      <th>P2308</th>\n",
       "      <th>P2316</th>\n",
       "      <th>P2916</th>\n",
       "      <th>P31</th>\n",
       "      <th>P4155</th>\n",
       "      <th>P4680</th>\n",
       "      <th>P6607</th>\n",
       "    </tr>\n",
       "    <tr>\n",
       "      <th>node1</th>\n",
       "      <th>id</th>\n",
       "      <th></th>\n",
       "      <th></th>\n",
       "      <th></th>\n",
       "      <th></th>\n",
       "      <th></th>\n",
       "      <th></th>\n",
       "      <th></th>\n",
       "      <th></th>\n",
       "      <th></th>\n",
       "      <th></th>\n",
       "      <th></th>\n",
       "    </tr>\n",
       "  </thead>\n",
       "  <tbody>\n",
       "    <tr>\n",
       "      <th>P1006</th>\n",
       "      <th>P1006-P2302-Q21503247-0451ef47-0</th>\n",
       "      <td>NaN</td>\n",
       "      <td>NaN</td>\n",
       "      <td>NaN</td>\n",
       "      <td>[P214]</td>\n",
       "      <td>NaN</td>\n",
       "      <td>NaN</td>\n",
       "      <td>NaN</td>\n",
       "      <td>NaN</td>\n",
       "      <td>NaN</td>\n",
       "      <td>NaN</td>\n",
       "      <td>NaN</td>\n",
       "    </tr>\n",
       "    <tr>\n",
       "      <th rowspan=\"2\" valign=\"top\">P1010</th>\n",
       "      <th>P1010-P2302-Q21503247-56183614-0</th>\n",
       "      <td>NaN</td>\n",
       "      <td>NaN</td>\n",
       "      <td>NaN</td>\n",
       "      <td>[P31]</td>\n",
       "      <td>NaN</td>\n",
       "      <td>NaN</td>\n",
       "      <td>NaN</td>\n",
       "      <td>NaN</td>\n",
       "      <td>NaN</td>\n",
       "      <td>NaN</td>\n",
       "      <td>NaN</td>\n",
       "    </tr>\n",
       "    <tr>\n",
       "      <th>P1010-P2302-Q21503247-fd256eaf-0</th>\n",
       "      <td>NaN</td>\n",
       "      <td>NaN</td>\n",
       "      <td>[Q794]</td>\n",
       "      <td>[P17]</td>\n",
       "      <td>NaN</td>\n",
       "      <td>[Q21502408]</td>\n",
       "      <td>NaN</td>\n",
       "      <td>NaN</td>\n",
       "      <td>NaN</td>\n",
       "      <td>NaN</td>\n",
       "      <td>NaN</td>\n",
       "    </tr>\n",
       "    <tr>\n",
       "      <th>P1015</th>\n",
       "      <th>P1015-P2302-Q21503247-20e3bfc5-0</th>\n",
       "      <td>NaN</td>\n",
       "      <td>NaN</td>\n",
       "      <td>NaN</td>\n",
       "      <td>[P31]</td>\n",
       "      <td>NaN</td>\n",
       "      <td>NaN</td>\n",
       "      <td>NaN</td>\n",
       "      <td>NaN</td>\n",
       "      <td>NaN</td>\n",
       "      <td>NaN</td>\n",
       "      <td>NaN</td>\n",
       "    </tr>\n",
       "    <tr>\n",
       "      <th>P1017</th>\n",
       "      <th>P1017-P2302-Q21503247-bbac2ce3-0</th>\n",
       "      <td>NaN</td>\n",
       "      <td>NaN</td>\n",
       "      <td>NaN</td>\n",
       "      <td>[P214]</td>\n",
       "      <td>NaN</td>\n",
       "      <td>NaN</td>\n",
       "      <td>NaN</td>\n",
       "      <td>NaN</td>\n",
       "      <td>NaN</td>\n",
       "      <td>NaN</td>\n",
       "      <td>NaN</td>\n",
       "    </tr>\n",
       "  </tbody>\n",
       "</table>\n",
       "</div>"
      ],
      "text/plain": [
       "label                                  P2303 P2304   P2305   P2306 P2308  \\\n",
       "node1 id                                                                   \n",
       "P1006 P1006-P2302-Q21503247-0451ef47-0   NaN   NaN     NaN  [P214]   NaN   \n",
       "P1010 P1010-P2302-Q21503247-56183614-0   NaN   NaN     NaN   [P31]   NaN   \n",
       "      P1010-P2302-Q21503247-fd256eaf-0   NaN   NaN  [Q794]   [P17]   NaN   \n",
       "P1015 P1015-P2302-Q21503247-20e3bfc5-0   NaN   NaN     NaN   [P31]   NaN   \n",
       "P1017 P1017-P2302-Q21503247-bbac2ce3-0   NaN   NaN     NaN  [P214]   NaN   \n",
       "\n",
       "label                                         P2316 P2916  P31 P4155 P4680  \\\n",
       "node1 id                                                                     \n",
       "P1006 P1006-P2302-Q21503247-0451ef47-0          NaN   NaN  NaN   NaN   NaN   \n",
       "P1010 P1010-P2302-Q21503247-56183614-0          NaN   NaN  NaN   NaN   NaN   \n",
       "      P1010-P2302-Q21503247-fd256eaf-0  [Q21502408]   NaN  NaN   NaN   NaN   \n",
       "P1015 P1015-P2302-Q21503247-20e3bfc5-0          NaN   NaN  NaN   NaN   NaN   \n",
       "P1017 P1017-P2302-Q21503247-bbac2ce3-0          NaN   NaN  NaN   NaN   NaN   \n",
       "\n",
       "label                                  P6607  \n",
       "node1 id                                      \n",
       "P1006 P1006-P2302-Q21503247-0451ef47-0   NaN  \n",
       "P1010 P1010-P2302-Q21503247-56183614-0   NaN  \n",
       "      P1010-P2302-Q21503247-fd256eaf-0   NaN  \n",
       "P1015 P1015-P2302-Q21503247-20e3bfc5-0   NaN  \n",
       "P1017 P1017-P2302-Q21503247-bbac2ce3-0   NaN  "
      ]
     },
     "execution_count": 42,
     "metadata": {},
     "output_type": "execute_result"
    }
   ],
   "source": [
    "dfItemRequires.head()"
   ]
  },
  {
   "cell_type": "code",
   "execution_count": 43,
   "id": "conceptual-schedule",
   "metadata": {},
   "outputs": [],
   "source": [
    "dfItemRequires = dfItemRequires.droplevel(1)"
   ]
  },
  {
   "cell_type": "code",
   "execution_count": 44,
   "id": "third-hayes",
   "metadata": {},
   "outputs": [
    {
     "data": {
      "text/html": [
       "<div>\n",
       "<style scoped>\n",
       "    .dataframe tbody tr th:only-of-type {\n",
       "        vertical-align: middle;\n",
       "    }\n",
       "\n",
       "    .dataframe tbody tr th {\n",
       "        vertical-align: top;\n",
       "    }\n",
       "\n",
       "    .dataframe thead th {\n",
       "        text-align: right;\n",
       "    }\n",
       "</style>\n",
       "<table border=\"1\" class=\"dataframe\">\n",
       "  <thead>\n",
       "    <tr style=\"text-align: right;\">\n",
       "      <th>label</th>\n",
       "      <th>P2303</th>\n",
       "      <th>P2304</th>\n",
       "      <th>P2305</th>\n",
       "      <th>P2306</th>\n",
       "      <th>P2308</th>\n",
       "      <th>P2316</th>\n",
       "      <th>P2916</th>\n",
       "      <th>P31</th>\n",
       "      <th>P4155</th>\n",
       "      <th>P4680</th>\n",
       "      <th>P6607</th>\n",
       "    </tr>\n",
       "    <tr>\n",
       "      <th>node1</th>\n",
       "      <th></th>\n",
       "      <th></th>\n",
       "      <th></th>\n",
       "      <th></th>\n",
       "      <th></th>\n",
       "      <th></th>\n",
       "      <th></th>\n",
       "      <th></th>\n",
       "      <th></th>\n",
       "      <th></th>\n",
       "      <th></th>\n",
       "    </tr>\n",
       "  </thead>\n",
       "  <tbody>\n",
       "    <tr>\n",
       "      <th>P1006</th>\n",
       "      <td>NaN</td>\n",
       "      <td>NaN</td>\n",
       "      <td>NaN</td>\n",
       "      <td>[P214]</td>\n",
       "      <td>NaN</td>\n",
       "      <td>NaN</td>\n",
       "      <td>NaN</td>\n",
       "      <td>NaN</td>\n",
       "      <td>NaN</td>\n",
       "      <td>NaN</td>\n",
       "      <td>NaN</td>\n",
       "    </tr>\n",
       "    <tr>\n",
       "      <th>P1010</th>\n",
       "      <td>NaN</td>\n",
       "      <td>NaN</td>\n",
       "      <td>NaN</td>\n",
       "      <td>[P31]</td>\n",
       "      <td>NaN</td>\n",
       "      <td>NaN</td>\n",
       "      <td>NaN</td>\n",
       "      <td>NaN</td>\n",
       "      <td>NaN</td>\n",
       "      <td>NaN</td>\n",
       "      <td>NaN</td>\n",
       "    </tr>\n",
       "    <tr>\n",
       "      <th>P1010</th>\n",
       "      <td>NaN</td>\n",
       "      <td>NaN</td>\n",
       "      <td>[Q794]</td>\n",
       "      <td>[P17]</td>\n",
       "      <td>NaN</td>\n",
       "      <td>[Q21502408]</td>\n",
       "      <td>NaN</td>\n",
       "      <td>NaN</td>\n",
       "      <td>NaN</td>\n",
       "      <td>NaN</td>\n",
       "      <td>NaN</td>\n",
       "    </tr>\n",
       "    <tr>\n",
       "      <th>P1015</th>\n",
       "      <td>NaN</td>\n",
       "      <td>NaN</td>\n",
       "      <td>NaN</td>\n",
       "      <td>[P31]</td>\n",
       "      <td>NaN</td>\n",
       "      <td>NaN</td>\n",
       "      <td>NaN</td>\n",
       "      <td>NaN</td>\n",
       "      <td>NaN</td>\n",
       "      <td>NaN</td>\n",
       "      <td>NaN</td>\n",
       "    </tr>\n",
       "    <tr>\n",
       "      <th>P1017</th>\n",
       "      <td>NaN</td>\n",
       "      <td>NaN</td>\n",
       "      <td>NaN</td>\n",
       "      <td>[P214]</td>\n",
       "      <td>NaN</td>\n",
       "      <td>NaN</td>\n",
       "      <td>NaN</td>\n",
       "      <td>NaN</td>\n",
       "      <td>NaN</td>\n",
       "      <td>NaN</td>\n",
       "      <td>NaN</td>\n",
       "    </tr>\n",
       "  </tbody>\n",
       "</table>\n",
       "</div>"
      ],
      "text/plain": [
       "label P2303 P2304   P2305   P2306 P2308        P2316 P2916  P31 P4155 P4680  \\\n",
       "node1                                                                         \n",
       "P1006   NaN   NaN     NaN  [P214]   NaN          NaN   NaN  NaN   NaN   NaN   \n",
       "P1010   NaN   NaN     NaN   [P31]   NaN          NaN   NaN  NaN   NaN   NaN   \n",
       "P1010   NaN   NaN  [Q794]   [P17]   NaN  [Q21502408]   NaN  NaN   NaN   NaN   \n",
       "P1015   NaN   NaN     NaN   [P31]   NaN          NaN   NaN  NaN   NaN   NaN   \n",
       "P1017   NaN   NaN     NaN  [P214]   NaN          NaN   NaN  NaN   NaN   NaN   \n",
       "\n",
       "label P6607  \n",
       "node1        \n",
       "P1006   NaN  \n",
       "P1010   NaN  \n",
       "P1010   NaN  \n",
       "P1015   NaN  \n",
       "P1017   NaN  "
      ]
     },
     "execution_count": 44,
     "metadata": {},
     "output_type": "execute_result"
    }
   ],
   "source": [
    "dfItemRequires.head()"
   ]
  },
  {
   "cell_type": "markdown",
   "id": "shaped-companion",
   "metadata": {},
   "source": [
    "However, there is one anomaly where the property does not have a co-dependency constraint associated with it, but still has a link to this constraint."
   ]
  },
  {
   "cell_type": "code",
   "execution_count": 45,
   "id": "indian-journal",
   "metadata": {},
   "outputs": [
    {
     "data": {
      "text/html": [
       "<div>\n",
       "<style scoped>\n",
       "    .dataframe tbody tr th:only-of-type {\n",
       "        vertical-align: middle;\n",
       "    }\n",
       "\n",
       "    .dataframe tbody tr th {\n",
       "        vertical-align: top;\n",
       "    }\n",
       "\n",
       "    .dataframe thead th {\n",
       "        text-align: right;\n",
       "    }\n",
       "</style>\n",
       "<table border=\"1\" class=\"dataframe\">\n",
       "  <thead>\n",
       "    <tr style=\"text-align: right;\">\n",
       "      <th>label</th>\n",
       "      <th>P2303</th>\n",
       "      <th>P2304</th>\n",
       "      <th>P2305</th>\n",
       "      <th>P2306</th>\n",
       "      <th>P2308</th>\n",
       "      <th>P2316</th>\n",
       "      <th>P2916</th>\n",
       "      <th>P31</th>\n",
       "      <th>P4155</th>\n",
       "      <th>P4680</th>\n",
       "      <th>P6607</th>\n",
       "    </tr>\n",
       "    <tr>\n",
       "      <th>node1</th>\n",
       "      <th></th>\n",
       "      <th></th>\n",
       "      <th></th>\n",
       "      <th></th>\n",
       "      <th></th>\n",
       "      <th></th>\n",
       "      <th></th>\n",
       "      <th></th>\n",
       "      <th></th>\n",
       "      <th></th>\n",
       "      <th></th>\n",
       "    </tr>\n",
       "  </thead>\n",
       "  <tbody>\n",
       "    <tr>\n",
       "      <th>P5447</th>\n",
       "      <td>NaN</td>\n",
       "      <td>NaN</td>\n",
       "      <td>[Q55426051]</td>\n",
       "      <td>[P5446]</td>\n",
       "      <td>NaN</td>\n",
       "      <td>NaN</td>\n",
       "      <td>NaN</td>\n",
       "      <td>NaN</td>\n",
       "      <td>NaN</td>\n",
       "      <td>[Q46466783]</td>\n",
       "      <td>NaN</td>\n",
       "    </tr>\n",
       "    <tr>\n",
       "      <th>P5448</th>\n",
       "      <td>NaN</td>\n",
       "      <td>NaN</td>\n",
       "      <td>[Q55426051]</td>\n",
       "      <td>[P5446]</td>\n",
       "      <td>NaN</td>\n",
       "      <td>NaN</td>\n",
       "      <td>NaN</td>\n",
       "      <td>NaN</td>\n",
       "      <td>NaN</td>\n",
       "      <td>[Q46466783]</td>\n",
       "      <td>NaN</td>\n",
       "    </tr>\n",
       "  </tbody>\n",
       "</table>\n",
       "</div>"
      ],
      "text/plain": [
       "label P2303 P2304        P2305    P2306 P2308 P2316 P2916  P31 P4155  \\\n",
       "node1                                                                  \n",
       "P5447   NaN   NaN  [Q55426051]  [P5446]   NaN   NaN   NaN  NaN   NaN   \n",
       "P5448   NaN   NaN  [Q55426051]  [P5446]   NaN   NaN   NaN  NaN   NaN   \n",
       "\n",
       "label        P4680 P6607  \n",
       "node1                     \n",
       "P5447  [Q46466783]   NaN  \n",
       "P5448  [Q46466783]   NaN  "
      ]
     },
     "execution_count": 45,
     "metadata": {},
     "output_type": "execute_result"
    }
   ],
   "source": [
    "dfItemRequires[dfItemRequires['P4680'].apply(lambda p: type(p) == list)]"
   ]
  },
  {
   "cell_type": "code",
   "execution_count": 46,
   "id": "discrete-template",
   "metadata": {},
   "outputs": [
    {
     "data": {
      "text/html": [
       "<div>\n",
       "<style scoped>\n",
       "    .dataframe tbody tr th:only-of-type {\n",
       "        vertical-align: middle;\n",
       "    }\n",
       "\n",
       "    .dataframe tbody tr th {\n",
       "        vertical-align: top;\n",
       "    }\n",
       "\n",
       "    .dataframe thead th {\n",
       "        text-align: right;\n",
       "    }\n",
       "</style>\n",
       "<table border=\"1\" class=\"dataframe\">\n",
       "  <thead>\n",
       "    <tr style=\"text-align: right;\">\n",
       "      <th>label</th>\n",
       "      <th>P2303</th>\n",
       "      <th>P2304</th>\n",
       "      <th>P2305</th>\n",
       "      <th>P2306</th>\n",
       "      <th>P2308</th>\n",
       "      <th>P2316</th>\n",
       "      <th>P2916</th>\n",
       "      <th>P31</th>\n",
       "      <th>P4155</th>\n",
       "      <th>P4680</th>\n",
       "      <th>P6607</th>\n",
       "    </tr>\n",
       "    <tr>\n",
       "      <th>node1</th>\n",
       "      <th></th>\n",
       "      <th></th>\n",
       "      <th></th>\n",
       "      <th></th>\n",
       "      <th></th>\n",
       "      <th></th>\n",
       "      <th></th>\n",
       "      <th></th>\n",
       "      <th></th>\n",
       "      <th></th>\n",
       "      <th></th>\n",
       "    </tr>\n",
       "  </thead>\n",
       "  <tbody>\n",
       "    <tr>\n",
       "      <th>P1010</th>\n",
       "      <td>NaN</td>\n",
       "      <td>NaN</td>\n",
       "      <td>[Q794]</td>\n",
       "      <td>[P17]</td>\n",
       "      <td>NaN</td>\n",
       "      <td>[Q21502408]</td>\n",
       "      <td>NaN</td>\n",
       "      <td>NaN</td>\n",
       "      <td>NaN</td>\n",
       "      <td>NaN</td>\n",
       "      <td>NaN</td>\n",
       "    </tr>\n",
       "    <tr>\n",
       "      <th>P1045</th>\n",
       "      <td>NaN</td>\n",
       "      <td>NaN</td>\n",
       "      <td>[Q20808382, Q28218485, Q3044918]</td>\n",
       "      <td>[P39]</td>\n",
       "      <td>NaN</td>\n",
       "      <td>NaN</td>\n",
       "      <td>NaN</td>\n",
       "      <td>NaN</td>\n",
       "      <td>NaN</td>\n",
       "      <td>NaN</td>\n",
       "      <td>NaN</td>\n",
       "    </tr>\n",
       "    <tr>\n",
       "      <th>P1045</th>\n",
       "      <td>NaN</td>\n",
       "      <td>NaN</td>\n",
       "      <td>[Q82955]</td>\n",
       "      <td>[P106]</td>\n",
       "      <td>NaN</td>\n",
       "      <td>NaN</td>\n",
       "      <td>NaN</td>\n",
       "      <td>NaN</td>\n",
       "      <td>NaN</td>\n",
       "      <td>NaN</td>\n",
       "      <td>NaN</td>\n",
       "    </tr>\n",
       "    <tr>\n",
       "      <th>P1045</th>\n",
       "      <td>NaN</td>\n",
       "      <td>NaN</td>\n",
       "      <td>[Q5]</td>\n",
       "      <td>[P31]</td>\n",
       "      <td>NaN</td>\n",
       "      <td>[Q21502408]</td>\n",
       "      <td>NaN</td>\n",
       "      <td>NaN</td>\n",
       "      <td>NaN</td>\n",
       "      <td>NaN</td>\n",
       "      <td>NaN</td>\n",
       "    </tr>\n",
       "    <tr>\n",
       "      <th>P1045</th>\n",
       "      <td>NaN</td>\n",
       "      <td>NaN</td>\n",
       "      <td>[Q142, Q71084]</td>\n",
       "      <td>[P27]</td>\n",
       "      <td>NaN</td>\n",
       "      <td>NaN</td>\n",
       "      <td>NaN</td>\n",
       "      <td>NaN</td>\n",
       "      <td>NaN</td>\n",
       "      <td>NaN</td>\n",
       "      <td>NaN</td>\n",
       "    </tr>\n",
       "    <tr>\n",
       "      <th>...</th>\n",
       "      <td>...</td>\n",
       "      <td>...</td>\n",
       "      <td>...</td>\n",
       "      <td>...</td>\n",
       "      <td>...</td>\n",
       "      <td>...</td>\n",
       "      <td>...</td>\n",
       "      <td>...</td>\n",
       "      <td>...</td>\n",
       "      <td>...</td>\n",
       "      <td>...</td>\n",
       "    </tr>\n",
       "    <tr>\n",
       "      <th>P980</th>\n",
       "      <td>NaN</td>\n",
       "      <td>NaN</td>\n",
       "      <td>[Q34]</td>\n",
       "      <td>[P17]</td>\n",
       "      <td>NaN</td>\n",
       "      <td>[Q21502408]</td>\n",
       "      <td>NaN</td>\n",
       "      <td>NaN</td>\n",
       "      <td>NaN</td>\n",
       "      <td>NaN</td>\n",
       "      <td>NaN</td>\n",
       "    </tr>\n",
       "    <tr>\n",
       "      <th>P981</th>\n",
       "      <td>NaN</td>\n",
       "      <td>NaN</td>\n",
       "      <td>[Q55]</td>\n",
       "      <td>[P17]</td>\n",
       "      <td>NaN</td>\n",
       "      <td>[Q21502408]</td>\n",
       "      <td>NaN</td>\n",
       "      <td>NaN</td>\n",
       "      <td>NaN</td>\n",
       "      <td>NaN</td>\n",
       "      <td>NaN</td>\n",
       "    </tr>\n",
       "    <tr>\n",
       "      <th>P981</th>\n",
       "      <td>NaN</td>\n",
       "      <td>NaN</td>\n",
       "      <td>[Q1852859]</td>\n",
       "      <td>[P31]</td>\n",
       "      <td>NaN</td>\n",
       "      <td>NaN</td>\n",
       "      <td>NaN</td>\n",
       "      <td>NaN</td>\n",
       "      <td>NaN</td>\n",
       "      <td>NaN</td>\n",
       "      <td>NaN</td>\n",
       "    </tr>\n",
       "    <tr>\n",
       "      <th>P988</th>\n",
       "      <td>NaN</td>\n",
       "      <td>NaN</td>\n",
       "      <td>[Q928]</td>\n",
       "      <td>[P17]</td>\n",
       "      <td>NaN</td>\n",
       "      <td>[Q21502408]</td>\n",
       "      <td>NaN</td>\n",
       "      <td>NaN</td>\n",
       "      <td>NaN</td>\n",
       "      <td>NaN</td>\n",
       "      <td>NaN</td>\n",
       "    </tr>\n",
       "    <tr>\n",
       "      <th>P990</th>\n",
       "      <td>[Q49678, Q853715]</td>\n",
       "      <td>NaN</td>\n",
       "      <td>[Q5]</td>\n",
       "      <td>[P31]</td>\n",
       "      <td>NaN</td>\n",
       "      <td>NaN</td>\n",
       "      <td>NaN</td>\n",
       "      <td>NaN</td>\n",
       "      <td>NaN</td>\n",
       "      <td>NaN</td>\n",
       "      <td>NaN</td>\n",
       "    </tr>\n",
       "  </tbody>\n",
       "</table>\n",
       "<p>2540 rows × 11 columns</p>\n",
       "</div>"
      ],
      "text/plain": [
       "label              P2303 P2304                             P2305   P2306  \\\n",
       "node1                                                                      \n",
       "P1010                NaN   NaN                            [Q794]   [P17]   \n",
       "P1045                NaN   NaN  [Q20808382, Q28218485, Q3044918]   [P39]   \n",
       "P1045                NaN   NaN                          [Q82955]  [P106]   \n",
       "P1045                NaN   NaN                              [Q5]   [P31]   \n",
       "P1045                NaN   NaN                    [Q142, Q71084]   [P27]   \n",
       "...                  ...   ...                               ...     ...   \n",
       "P980                 NaN   NaN                             [Q34]   [P17]   \n",
       "P981                 NaN   NaN                             [Q55]   [P17]   \n",
       "P981                 NaN   NaN                        [Q1852859]   [P31]   \n",
       "P988                 NaN   NaN                            [Q928]   [P17]   \n",
       "P990   [Q49678, Q853715]   NaN                              [Q5]   [P31]   \n",
       "\n",
       "label P2308        P2316 P2916  P31 P4155 P4680 P6607  \n",
       "node1                                                  \n",
       "P1010   NaN  [Q21502408]   NaN  NaN   NaN   NaN   NaN  \n",
       "P1045   NaN          NaN   NaN  NaN   NaN   NaN   NaN  \n",
       "P1045   NaN          NaN   NaN  NaN   NaN   NaN   NaN  \n",
       "P1045   NaN  [Q21502408]   NaN  NaN   NaN   NaN   NaN  \n",
       "P1045   NaN          NaN   NaN  NaN   NaN   NaN   NaN  \n",
       "...     ...          ...   ...  ...   ...   ...   ...  \n",
       "P980    NaN  [Q21502408]   NaN  NaN   NaN   NaN   NaN  \n",
       "P981    NaN  [Q21502408]   NaN  NaN   NaN   NaN   NaN  \n",
       "P981    NaN          NaN   NaN  NaN   NaN   NaN   NaN  \n",
       "P988    NaN  [Q21502408]   NaN  NaN   NaN   NaN   NaN  \n",
       "P990    NaN          NaN   NaN  NaN   NaN   NaN   NaN  \n",
       "\n",
       "[2540 rows x 11 columns]"
      ]
     },
     "execution_count": 46,
     "metadata": {},
     "output_type": "execute_result"
    }
   ],
   "source": [
    "dfItemRequires[dfItemRequires['P2305'].apply(lambda p: type(p) == list)]"
   ]
  },
  {
   "cell_type": "markdown",
   "id": "forced-christmas",
   "metadata": {},
   "source": [
    "### Query Generator"
   ]
  },
  {
   "cell_type": "markdown",
   "id": "acquired-floor",
   "metadata": {},
   "source": [
    "#### Version 1 - Mandatory + Suggestion + Normal"
   ]
  },
  {
   "cell_type": "code",
   "execution_count": 86,
   "id": "turkish-establishment",
   "metadata": {
    "scrolled": true
   },
   "outputs": [
    {
     "data": {
      "application/vnd.jupyter.widget-view+json": {
       "model_id": "37c6488e55b04219bea1391f9dfa247e",
       "version_major": 2,
       "version_minor": 0
      },
      "text/plain": [
       "  0%|          | 0/3147 [00:00<?, ?it/s]"
      ]
     },
     "metadata": {},
     "output_type": "display_data"
    },
    {
     "name": "stdout",
     "output_type": "stream",
     "text": [
      "File: ../../propertiesSplit/claims.P345.tsv does not exist\n",
      "File: ../../propertiesSplit/claims.P2604.tsv does not exist\n",
      "File: ../../propertiesSplit/claims.P1566.tsv does not exist\n",
      "File: ../../propertiesSplit/claims.P1566.tsv does not exist\n",
      "File: ../../propertiesSplit/claims.P2355.tsv does not exist\n",
      "File: ../../propertiesSplit/claims.P3350.tsv does not exist\n",
      "File: ../../propertiesSplit/claims.P1014.tsv does not exist\n",
      "File: ../../propertiesSplit/claims.P2636.tsv does not exist\n",
      "File: ../../propertiesSplit/claims.P1771.tsv does not exist\n",
      "File: ../../propertiesSplit/claims.P2755.tsv does not exist\n",
      "File: ../../propertiesSplit/claims.P8326.tsv does not exist\n",
      "File: ../../propertiesSplit/claims.P5128.tsv does not exist\n",
      "File: ../../propertiesSplit/claims.P1627.tsv does not exist\n",
      "File: ../../propertiesSplit/claims.P954.tsv does not exist\n",
      "File: ../../propertiesSplit/claims.P498.tsv does not exist\n",
      "File: ../../propertiesSplit/claims.P1297.tsv does not exist\n",
      "File: ../../propertiesSplit/claims.P8680.tsv does not exist\n",
      "File: ../../propertiesSplit/claims.P715.tsv does not exist\n",
      "File: ../../propertiesSplit/claims.P2606.tsv does not exist\n",
      "File: ../../propertiesSplit/claims.P8303.tsv does not exist\n",
      "File: ../../propertiesSplit/claims.P1874.tsv does not exist\n"
     ]
    }
   ],
   "source": [
    "from tqdm.notebook import tqdm\n",
    "import os.path\n",
    "import os\n",
    "\n",
    "cnt = 0\n",
    "fCnt = 0\n",
    "\n",
    "folderName = 'codependencyConstraint_Final'\n",
    "subFolderName = \"Mand_Sugg_Normal\"\n",
    "shellFileSuffix = 'codepConst_MSN_Validator_new2_'\n",
    "graph_cache_file_prefix = \"codep_new3_001_\"\n",
    "\n",
    "for prop in tqdm(dfItemRequires.index.unique()):\n",
    "#     try:\n",
    "        mandatory = []\n",
    "        suggestion = []\n",
    "        normal = []\n",
    "        prop = str(prop)\n",
    "        \n",
    "        for _, constraint in dfItemRequires.loc[[prop]].iterrows():\n",
    "            if type(constraint['P2316']) == list:\n",
    "                if constraint['P2316'][0] == 'Q21502408':\n",
    "                    mandatory.append(constraint)\n",
    "                elif constraint['P2316'][0] == 'Q62026391':\n",
    "                    suggestion.append(constraint)\n",
    "            else:\n",
    "                normal.append(constraint)\n",
    "        \n",
    "        if not(os.path.isfile(\"../../propertiesSplit/claims.\"+ prop +\".tsv\")):\n",
    "            continue\n",
    "                \n",
    "        commandInit = \"{ time ( kgtk --debug query -i ../../propertiesSplit/claims.\"+ prop +\".tsv \"\n",
    "        commandOtherFiles = \"\"\n",
    "        commandMatch = \"--match '\"\n",
    "        commandMatchMoreFiles = [f\"{prop}: (node1)-[nodeProp]->(node2)\"]\n",
    "        commandWhere = \" --where '\"\n",
    "        commandWhere = []\n",
    "        \n",
    "        # Version 1 <<<<<<<<<<<<<<<<<<<<<<<<<<<<<<<<<<<<<<<<<<<<<<<<<<<<<<<<<<<<<<<<<<<<<<<<<<<<<<<<<<\n",
    "        constSet = mandatory + suggestion + normal\n",
    "        \n",
    "        if len(constSet) == 0:\n",
    "            continue\n",
    "        excptns = set()\n",
    "        for (rowNo, constraint) in enumerate(constSet):\n",
    "            prop2 = constraint['P2306']\n",
    "            \n",
    "            if type(prop2) != list:\n",
    "                continue\n",
    "            prop2 = prop2[0]\n",
    "                \n",
    "            if not(os.path.isfile(\"../../propertiesSplit/claims.\"+ prop2 +\".tsv\")):\n",
    "                print(f\"File: ../../propertiesSplit/claims.{prop2}.tsv does not exist\")\n",
    "                continue\n",
    "            \n",
    "            commandOtherFiles += \"../../propertiesSplit/claims.\"+ prop2 +\".tsv \"\n",
    "            if type(constraint['P2303']) == list: # Exceptions present\n",
    "                if len(excptns) == 0:\n",
    "                    excptns = set(constraint['P2303'])\n",
    "                else:\n",
    "                    excptns = excptns.intersection(set(constraint['P2303']))\n",
    "            if type(constraint['P2305']) == list:\n",
    "                commandMatchMoreFiles += [f\"{prop2}: (node1)-[]->(node2_{prop2})\"]\n",
    "                commandWhere += [\"node2_\" + prop2 + \" in \" + str(list(constraint['P2305'])).replace(\"'\",'\"')]\n",
    "            else:\n",
    "                commandMatchMoreFiles += [f\"{prop2}: (node1)-[]->()\"]\n",
    "#         print(commandMatchMoreFiles)\n",
    "        if len(commandWhere) == 0:\n",
    "            command = commandInit + commandOtherFiles + commandMatch + (\", \".join(commandMatchMoreFiles)) + \"'\"\n",
    "        else:\n",
    "            command = commandInit + commandOtherFiles + commandMatch + (\", \".join(commandMatchMoreFiles)) + \"'\" + \" --where '\"+(\" and \".join(commandWhere))+\"'\"\n",
    "        \n",
    "        if cnt % 20 == 0:\n",
    "            if fOP:\n",
    "                fOP.close()\n",
    "            fCnt += 1\n",
    "            fOP = open(\"../../propertiesSplit/checkViolations/\" + shellFileSuffix + str(fCnt) + \".sh\",\"w\")\n",
    "        \n",
    "        if len(excptns) == 0:\n",
    "            commandRest = \" --return 'distinct nodeProp.id, node1 as `node1`, nodeProp.label as `label`, node2 as `node2`'  \\\n",
    "            -o ../../allConstraintsAnalysis/\" + folderName + \"/\" + subFolderName + \"/claims.\"+ prop +\".correct.tsv \\\n",
    "            --graph-cache ~/sqlite3_caches/\" + str(graph_cache_file_prefix) + str(fCnt) + \".sqlite3.db; \\\n",
    "             kgtk --debug ifnotexists -i ../../propertiesSplit/claims.\"+ prop +\".tsv \\\n",
    "            --filter-on ../../allConstraintsAnalysis/\" + folderName + \"/\" + subFolderName + \"/claims.\"+ prop +\".correct.tsv \\\n",
    "            --filter-mode NONE \\\n",
    "            --input-keys node1 label \\\n",
    "            --filter-keys node1 label \"\n",
    "            \n",
    "            commandOPFile = \"-o ../../allConstraintsAnalysis/\" + folderName + \"/\" + subFolderName + \"/claims.\"+ prop +\".\"\n",
    "            \n",
    "            command += commandRest + commandOPFile + \"incorrect.tsv ) } 2>> ../../propertiesSplit/checkViolations/exec_logs/timeLog_\" + shellFileSuffix + str(fCnt) + \".txt;\\n\"\n",
    "            fOP.write(command)\n",
    "        else:\n",
    "            commandRest = \" --return 'distinct nodeProp.id, node1 as `node1`, nodeProp.label as `label`, node2 as `node2`'  \\\n",
    "            -o ../../allConstraintsAnalysis/\" + folderName + \"/\" + subFolderName + \"/claims.\"+ prop +\".correct_wo_exceptions.tsv \\\n",
    "            --graph-cache ~/sqlite3_caches/\" + str(graph_cache_file_prefix) + str(fCnt) + \".sqlite3.db; \\\n",
    "             kgtk --debug ifnotexists -i ../../propertiesSplit/claims.\"+ prop +\".tsv \\\n",
    "            --filter-on ../../allConstraintsAnalysis/\" + folderName + \"/\" + subFolderName + \"/claims.\"+ prop +\".correct_wo_exceptions.tsv \\\n",
    "            --filter-mode NONE \\\n",
    "            --input-keys node1 label \\\n",
    "            --filter-keys node1 label \"\n",
    "            \n",
    "            commandOPFile = \"-o ../../allConstraintsAnalysis/\" + folderName + \"/\" + subFolderName + \"/claims.\"+ prop +\".\"\n",
    "            \n",
    "            command += commandRest + commandOPFile + \"incorrect_wo_exceptions.tsv\\n\"\n",
    "            fOP.write(command)\n",
    "            \n",
    "            command = \"  kgtk --debug query -i ../../allConstraintsAnalysis/\" + folderName + \"/\" + subFolderName + \"/claims.\" + prop + \".incorrect_wo_exceptions.tsv \\\n",
    "                    --match '(node1)-[]->()' --where 'node1 in \" + str(list(excptns)).replace(\"'\",'\"') + \"' \\\n",
    "                    -o ../../allConstraintsAnalysis/\" + folderName + \"/\" + subFolderName + \"/claims.\" + prop + \".incorrect_w_exceptions.tsv \\\n",
    "                    --graph-cache ~/sqlite3_caches/\" + str(graph_cache_file_prefix) + str(fCnt) + \".sqlite3.db; \"\n",
    "            fOP.write(command)\n",
    "            \n",
    "            command = \"  kgtk --debug ifnotexists -i ../../allConstraintsAnalysis/\" + folderName + \"/\" + subFolderName + \"/claims.\" + prop + \".incorrect_wo_exceptions.tsv \\\n",
    "            --filter-on ../../allConstraintsAnalysis/\" + folderName + \"/\" + subFolderName + \"/claims.\" + prop + \".incorrect_w_exceptions.tsv \\\n",
    "            --filter-mode NONE \\\n",
    "            --input-keys node1 label \\\n",
    "            --filter-keys node1 label \\\n",
    "            -o ../../allConstraintsAnalysis/\" + folderName + \"/\" + subFolderName + \"/claims.\"+ prop +\".incorrect.tsv; \"\n",
    "            fOP.write(command)\n",
    "            \n",
    "            command = \"  kgtk cat -i ../../allConstraintsAnalysis/\" + folderName + \"/\" + subFolderName + \"/claims.\"+ prop +\".correct_wo_exceptions.tsv \\\n",
    "                    ../../allConstraintsAnalysis/\" + folderName + \"/\" + subFolderName + \"/claims.\"+ prop +\".incorrect_w_exceptions.tsv \\\n",
    "                    -o ../../allConstraintsAnalysis/\" + folderName + \"/\" + subFolderName + \"/claims.\"+ prop +\".correct.tsv ) } 2>> ../../propertiesSplit/checkViolations/exec_logs/timeLog_\" + shellFileSuffix + str(fCnt) + \".txt; \\n\"\n",
    "            fOP.write(command)\n",
    "        \n",
    "        \n",
    "        cnt += 1\n",
    "#     except:\n",
    "#         print(\"Something failed for prop:\",prop)\n",
    "if fOP:\n",
    "    fOP.close()"
   ]
  },
  {
   "cell_type": "code",
   "execution_count": 11,
   "id": "peripheral-herald",
   "metadata": {},
   "outputs": [
    {
     "ename": "NameError",
     "evalue": "name 'cnt' is not defined",
     "output_type": "error",
     "traceback": [
      "\u001b[0;31m---------------------------------------------------------------------------\u001b[0m",
      "\u001b[0;31mNameError\u001b[0m                                 Traceback (most recent call last)",
      "\u001b[0;32m<ipython-input-11-89ff4c596af5>\u001b[0m in \u001b[0;36m<module>\u001b[0;34m\u001b[0m\n\u001b[0;32m----> 1\u001b[0;31m \u001b[0mcnt\u001b[0m\u001b[0;34m\u001b[0m\u001b[0;34m\u001b[0m\u001b[0m\n\u001b[0m",
      "\u001b[0;31mNameError\u001b[0m: name 'cnt' is not defined"
     ]
    }
   ],
   "source": [
    "cnt"
   ]
  },
  {
   "cell_type": "code",
   "execution_count": 88,
   "id": "incorporated-logistics",
   "metadata": {},
   "outputs": [
    {
     "data": {
      "text/plain": [
       "27"
      ]
     },
     "execution_count": 88,
     "metadata": {},
     "output_type": "execute_result"
    }
   ],
   "source": [
    "fCnt"
   ]
  },
  {
   "cell_type": "code",
   "execution_count": 123,
   "id": "welcome-welding",
   "metadata": {},
   "outputs": [],
   "source": [
    "# from tqdm.notebook import tqdm\n",
    "# import os.path\n",
    "# import os\n",
    "# folderName = 'codependencyConstraint'\n",
    "# for prop in tqdm(dfItemRequires.index.unique()):\n",
    "#     for subFolderName in ['Mand_Sugg_Normal', 'Mand_Normal', 'Mand', 'Normal']:\n",
    "#         if os.path.isfile(\"../../allConstraintsAnalysis/\" + folderName + \"/\" + subFolderName + \"/claims.\"+ prop +\".correct.tsv\") and \\\n",
    "#             os.path.isfile(\"../../allConstraintsAnalysis/\" + folderName + \"/\" + subFolderName + \"/claims.\"+ prop +\".incorrect_w_exceptions.tsv\"):\n",
    "#                 os.system(\"kgtk cat -i ../../allConstraintsAnalysis/\" + folderName + \"/\" + subFolderName + \"/claims.\"+ prop +\".correct.tsv \\\n",
    "#                     ../../allConstraintsAnalysis/\" + folderName + \"/\" + subFolderName + \"/claims.\"+ prop +\".incorrect_w_exceptions.tsv \\\n",
    "#                     -o ../../allConstraintsAnalysis/\" + folderName + \"/\" + subFolderName + \"/claims.\"+ prop +\".correct_w_exceptions.tsv\")"
   ]
  },
  {
   "cell_type": "code",
   "execution_count": 16,
   "id": "optimum-blowing",
   "metadata": {},
   "outputs": [],
   "source": [
    "# import os\n",
    "# for i in range(1,28):\n",
    "#     os.system(\"screen -dm sh ../../propertiesSplit/checkViolations/codepConst_MSN_Validator_new2_\"+str(i)+\".sh\")"
   ]
  },
  {
   "cell_type": "markdown",
   "id": "indoor-verse",
   "metadata": {},
   "source": [
    "#### Version 2 - Mandatory + Normal"
   ]
  },
  {
   "cell_type": "code",
   "execution_count": 89,
   "id": "furnished-paradise",
   "metadata": {
    "scrolled": true
   },
   "outputs": [
    {
     "data": {
      "application/vnd.jupyter.widget-view+json": {
       "model_id": "edc18c3904494784866a2d8be0d744f4",
       "version_major": 2,
       "version_minor": 0
      },
      "text/plain": [
       "  0%|          | 0/3147 [00:00<?, ?it/s]"
      ]
     },
     "metadata": {},
     "output_type": "display_data"
    },
    {
     "name": "stdout",
     "output_type": "stream",
     "text": [
      "File: ../../propertiesSplit/claims.P345.tsv does not exist\n",
      "File: ../../propertiesSplit/claims.P2604.tsv does not exist\n",
      "File: ../../propertiesSplit/claims.P1566.tsv does not exist\n",
      "File: ../../propertiesSplit/claims.P2355.tsv does not exist\n",
      "File: ../../propertiesSplit/claims.P1014.tsv does not exist\n",
      "File: ../../propertiesSplit/claims.P2636.tsv does not exist\n",
      "File: ../../propertiesSplit/claims.P1771.tsv does not exist\n",
      "File: ../../propertiesSplit/claims.P2755.tsv does not exist\n",
      "File: ../../propertiesSplit/claims.P8326.tsv does not exist\n",
      "File: ../../propertiesSplit/claims.P1627.tsv does not exist\n",
      "File: ../../propertiesSplit/claims.P954.tsv does not exist\n",
      "File: ../../propertiesSplit/claims.P498.tsv does not exist\n",
      "File: ../../propertiesSplit/claims.P1297.tsv does not exist\n",
      "File: ../../propertiesSplit/claims.P8680.tsv does not exist\n",
      "File: ../../propertiesSplit/claims.P715.tsv does not exist\n",
      "File: ../../propertiesSplit/claims.P2606.tsv does not exist\n",
      "File: ../../propertiesSplit/claims.P8303.tsv does not exist\n",
      "File: ../../propertiesSplit/claims.P1874.tsv does not exist\n"
     ]
    }
   ],
   "source": [
    "from tqdm.notebook import tqdm\n",
    "import os.path\n",
    "import os\n",
    "\n",
    "cnt = 0\n",
    "fCnt = 0\n",
    "\n",
    "folderName = 'codependencyConstraint_Final'\n",
    "subFolderName = \"Mand_Normal\"\n",
    "shellFileSuffix = 'codepConst_MN_Validator_new2_'\n",
    "graph_cache_file_prefix = \"codep_new3_02_\"\n",
    "\n",
    "for prop in tqdm(dfItemRequires.index.unique()):\n",
    "#     try:\n",
    "        mandatory = []\n",
    "        suggestion = []\n",
    "        normal = []\n",
    "        prop = str(prop)\n",
    "        \n",
    "        for _, constraint in dfItemRequires.loc[[prop]].iterrows():\n",
    "            if type(constraint['P2316']) == list:\n",
    "                if constraint['P2316'][0] == 'Q21502408':\n",
    "                    mandatory.append(constraint)\n",
    "                elif constraint['P2316'][0] == 'Q62026391':\n",
    "                    suggestion.append(constraint)\n",
    "            else:\n",
    "                normal.append(constraint)\n",
    "        \n",
    "        if not(os.path.isfile(\"../../propertiesSplit/claims.\"+ prop +\".tsv\")):\n",
    "            continue\n",
    "                \n",
    "        commandInit = \"{ time ( kgtk --debug query -i ../../propertiesSplit/claims.\"+ prop +\".tsv \"\n",
    "        commandOtherFiles = \"\"\n",
    "        commandMatch = \"--match '\"\n",
    "        commandMatchMoreFiles = [f\"{prop}: (node1)-[nodeProp]->(node2)\"]\n",
    "        commandWhere = \" --where '\"\n",
    "        commandWhere = []\n",
    "        \n",
    "        # Version 1 <<<<<<<<<<<<<<<<<<<<<<<<<<<<<<<<<<<<<<<<<<<<<<<<<<<<<<<<<<<<<<<<<<<<<<<<<<<<<<<<<<\n",
    "        constSet = mandatory + normal\n",
    "        \n",
    "        if len(constSet) == 0:\n",
    "            continue\n",
    "        excptns = set()\n",
    "        for (rowNo, constraint) in enumerate(constSet):\n",
    "            prop2 = constraint['P2306']\n",
    "            \n",
    "            if type(prop2) != list:\n",
    "                continue\n",
    "            prop2 = prop2[0]\n",
    "                \n",
    "            if not(os.path.isfile(\"../../propertiesSplit/claims.\"+ prop2 +\".tsv\")):\n",
    "                print(f\"File: ../../propertiesSplit/claims.{prop2}.tsv does not exist\")\n",
    "                continue\n",
    "            \n",
    "            commandOtherFiles += \"../../propertiesSplit/claims.\"+ prop2 +\".tsv \"\n",
    "            if type(constraint['P2303']) == list: # Exceptions present\n",
    "                if len(excptns) == 0:\n",
    "                    excptns = set(constraint['P2303'])\n",
    "                else:\n",
    "                    excptns = excptns.intersection(set(constraint['P2303']))\n",
    "            if type(constraint['P2305']) == list:\n",
    "                commandMatchMoreFiles += [f\"{prop2}: (node1)-[]->(node2_{prop2})\"]\n",
    "                commandWhere += [\"node2_\" + prop2 + \" in \" + str(list(constraint['P2305'])).replace(\"'\",'\"')]\n",
    "            else:\n",
    "                commandMatchMoreFiles += [f\"{prop2}: (node1)-[]->()\"]\n",
    "#         print(commandMatchMoreFiles)\n",
    "        if len(commandWhere) == 0:\n",
    "            command = commandInit + commandOtherFiles + commandMatch + (\", \".join(commandMatchMoreFiles)) + \"'\"\n",
    "        else:\n",
    "            command = commandInit + commandOtherFiles + commandMatch + (\", \".join(commandMatchMoreFiles)) + \"'\" + \" --where '\"+(\" and \".join(commandWhere))+\"'\"\n",
    "        \n",
    "        if cnt % 20 == 0:\n",
    "            if fOP:\n",
    "                fOP.close()\n",
    "            fCnt += 1\n",
    "            fOP = open(\"../../propertiesSplit/checkViolations/\" + shellFileSuffix + str(fCnt) + \".sh\",\"w\")\n",
    "        \n",
    "        if len(excptns) == 0:\n",
    "            commandRest = \" --return 'distinct nodeProp.id, node1 as `node1`, nodeProp.label as `label`, node2 as `node2`'  \\\n",
    "            -o ../../allConstraintsAnalysis/\" + folderName + \"/\" + subFolderName + \"/claims.\"+ prop +\".correct.tsv \\\n",
    "            --graph-cache ~/sqlite3_caches/\" + str(graph_cache_file_prefix) + str(fCnt) + \".sqlite3.db; \\\n",
    "             kgtk --debug ifnotexists -i ../../propertiesSplit/claims.\"+ prop +\".tsv \\\n",
    "            --filter-on ../../allConstraintsAnalysis/\" + folderName + \"/\" + subFolderName + \"/claims.\"+ prop +\".correct.tsv \\\n",
    "            --filter-mode NONE \\\n",
    "            --input-keys node1 label \\\n",
    "            --filter-keys node1 label \"\n",
    "            \n",
    "            commandOPFile = \"-o ../../allConstraintsAnalysis/\" + folderName + \"/\" + subFolderName + \"/claims.\"+ prop +\".\"\n",
    "            \n",
    "            command += commandRest + commandOPFile + \"incorrect.tsv ) } 2>> ../../propertiesSplit/checkViolations/exec_logs/timeLog_\" + shellFileSuffix + str(fCnt) + \".txt;\\n\"\n",
    "            fOP.write(command)\n",
    "        else:\n",
    "            commandRest = \" --return 'distinct nodeProp.id, node1 as `node1`, nodeProp.label as `label`, node2 as `node2`'  \\\n",
    "            -o ../../allConstraintsAnalysis/\" + folderName + \"/\" + subFolderName + \"/claims.\"+ prop +\".correct_wo_exceptions.tsv \\\n",
    "            --graph-cache ~/sqlite3_caches/\" + str(graph_cache_file_prefix) + str(fCnt) + \".sqlite3.db; \\\n",
    "             kgtk --debug ifnotexists -i ../../propertiesSplit/claims.\"+ prop +\".tsv \\\n",
    "            --filter-on ../../allConstraintsAnalysis/\" + folderName + \"/\" + subFolderName + \"/claims.\"+ prop +\".correct_wo_exceptions.tsv \\\n",
    "            --filter-mode NONE \\\n",
    "            --input-keys node1 label \\\n",
    "            --filter-keys node1 label \"\n",
    "            \n",
    "            commandOPFile = \"-o ../../allConstraintsAnalysis/\" + folderName + \"/\" + subFolderName + \"/claims.\"+ prop +\".\"\n",
    "            \n",
    "            command += commandRest + commandOPFile + \"incorrect_wo_exceptions.tsv\\n\"\n",
    "            fOP.write(command)\n",
    "            \n",
    "            command = \"  kgtk --debug query -i ../../allConstraintsAnalysis/\" + folderName + \"/\" + subFolderName + \"/claims.\" + prop + \".incorrect_wo_exceptions.tsv \\\n",
    "                    --match '(node1)-[]->()' --where 'node1 in \" + str(list(excptns)).replace(\"'\",'\"') + \"' \\\n",
    "                    -o ../../allConstraintsAnalysis/\" + folderName + \"/\" + subFolderName + \"/claims.\" + prop + \".incorrect_w_exceptions.tsv \\\n",
    "                    --graph-cache ~/sqlite3_caches/\" + str(graph_cache_file_prefix) + str(fCnt) + \".sqlite3.db; \"\n",
    "            fOP.write(command)\n",
    "            \n",
    "            command = \"  kgtk --debug ifnotexists -i ../../allConstraintsAnalysis/\" + folderName + \"/\" + subFolderName + \"/claims.\" + prop + \".incorrect_wo_exceptions.tsv \\\n",
    "            --filter-on ../../allConstraintsAnalysis/\" + folderName + \"/\" + subFolderName + \"/claims.\" + prop + \".incorrect_w_exceptions.tsv \\\n",
    "            --filter-mode NONE \\\n",
    "            --input-keys node1 label \\\n",
    "            --filter-keys node1 label \\\n",
    "            -o ../../allConstraintsAnalysis/\" + folderName + \"/\" + subFolderName + \"/claims.\"+ prop +\".incorrect.tsv; \"\n",
    "            fOP.write(command)\n",
    "            \n",
    "            command = \"  kgtk cat -i ../../allConstraintsAnalysis/\" + folderName + \"/\" + subFolderName + \"/claims.\"+ prop +\".correct_wo_exceptions.tsv \\\n",
    "                    ../../allConstraintsAnalysis/\" + folderName + \"/\" + subFolderName + \"/claims.\"+ prop +\".incorrect_w_exceptions.tsv \\\n",
    "                    -o ../../allConstraintsAnalysis/\" + folderName + \"/\" + subFolderName + \"/claims.\"+ prop +\".correct.tsv ) } 2>> ../../propertiesSplit/checkViolations/exec_logs/timeLog_\" + shellFileSuffix + str(fCnt) + \".txt; \\n\"\n",
    "            fOP.write(command)\n",
    "        \n",
    "        \n",
    "        cnt += 1\n",
    "#     except:\n",
    "#         print(\"Something failed for prop:\",prop)\n",
    "if fOP:\n",
    "    fOP.close()"
   ]
  },
  {
   "cell_type": "code",
   "execution_count": 14,
   "id": "searching-individual",
   "metadata": {},
   "outputs": [
    {
     "data": {
      "text/plain": [
       "468"
      ]
     },
     "execution_count": 14,
     "metadata": {},
     "output_type": "execute_result"
    }
   ],
   "source": [
    "cnt"
   ]
  },
  {
   "cell_type": "code",
   "execution_count": 18,
   "id": "silver-clarity",
   "metadata": {},
   "outputs": [],
   "source": [
    "# import os\n",
    "# for i in range(1,25):\n",
    "#     os.system(\"screen -dm sh ../../propertiesSplit/checkViolations/codepConst_MN_Validator_new2_\"+str(i)+\".sh\")"
   ]
  },
  {
   "cell_type": "markdown",
   "id": "prescription-access",
   "metadata": {},
   "source": [
    "#### Version 3 - Mandatory"
   ]
  },
  {
   "cell_type": "code",
   "execution_count": 90,
   "id": "married-porter",
   "metadata": {},
   "outputs": [
    {
     "data": {
      "application/vnd.jupyter.widget-view+json": {
       "model_id": "2bff77e903334ba7aac27fa465eb5541",
       "version_major": 2,
       "version_minor": 0
      },
      "text/plain": [
       "  0%|          | 0/3147 [00:00<?, ?it/s]"
      ]
     },
     "metadata": {},
     "output_type": "display_data"
    },
    {
     "name": "stdout",
     "output_type": "stream",
     "text": [
      "File: ../../propertiesSplit/claims.P1627.tsv does not exist\n"
     ]
    }
   ],
   "source": [
    "from tqdm.notebook import tqdm\n",
    "import os.path\n",
    "import os\n",
    "\n",
    "cnt = 0\n",
    "fCnt = 0\n",
    "\n",
    "folderName = 'codependencyConstraint_Final'\n",
    "subFolderName = \"Mand\"\n",
    "shellFileSuffix = 'codepConst_M_Validator_new2_'\n",
    "graph_cache_file_prefix = \"codep_new3_03_\"\n",
    "\n",
    "for prop in tqdm(dfItemRequires.index.unique()):\n",
    "#     try:\n",
    "        mandatory = []\n",
    "        suggestion = []\n",
    "        normal = []\n",
    "        prop = str(prop)\n",
    "        \n",
    "        for _, constraint in dfItemRequires.loc[[prop]].iterrows():\n",
    "            if type(constraint['P2316']) == list:\n",
    "                if constraint['P2316'][0] == 'Q21502408':\n",
    "                    mandatory.append(constraint)\n",
    "                elif constraint['P2316'][0] == 'Q62026391':\n",
    "                    suggestion.append(constraint)\n",
    "            else:\n",
    "                normal.append(constraint)\n",
    "        \n",
    "        if not(os.path.isfile(\"../../propertiesSplit/claims.\"+ prop +\".tsv\")):\n",
    "            continue\n",
    "                \n",
    "        commandInit = \"{ time ( kgtk --debug query -i ../../propertiesSplit/claims.\"+ prop +\".tsv \"\n",
    "        commandOtherFiles = \"\"\n",
    "        commandMatch = \"--match '\"\n",
    "        commandMatchMoreFiles = [f\"{prop}: (node1)-[nodeProp]->(node2)\"]\n",
    "        commandWhere = \" --where '\"\n",
    "        commandWhere = []\n",
    "        \n",
    "        # Version 1 <<<<<<<<<<<<<<<<<<<<<<<<<<<<<<<<<<<<<<<<<<<<<<<<<<<<<<<<<<<<<<<<<<<<<<<<<<<<<<<<<<\n",
    "        constSet = mandatory\n",
    "        \n",
    "        if len(constSet) == 0:\n",
    "            continue\n",
    "        excptns = set()\n",
    "        for (rowNo, constraint) in enumerate(constSet):\n",
    "            prop2 = constraint['P2306']\n",
    "            \n",
    "            if type(prop2) != list:\n",
    "                continue\n",
    "            prop2 = prop2[0]\n",
    "                \n",
    "            if not(os.path.isfile(\"../../propertiesSplit/claims.\"+ prop2 +\".tsv\")):\n",
    "                print(f\"File: ../../propertiesSplit/claims.{prop2}.tsv does not exist\")\n",
    "                continue\n",
    "            \n",
    "            commandOtherFiles += \"../../propertiesSplit/claims.\"+ prop2 +\".tsv \"\n",
    "            if type(constraint['P2303']) == list: # Exceptions present\n",
    "                if len(excptns) == 0:\n",
    "                    excptns = set(constraint['P2303'])\n",
    "                else:\n",
    "                    excptns = excptns.intersection(set(constraint['P2303']))\n",
    "            if type(constraint['P2305']) == list:\n",
    "                commandMatchMoreFiles += [f\"{prop2}: (node1)-[]->(node2_{prop2})\"]\n",
    "                commandWhere += [\"node2_\" + prop2 + \" in \" + str(list(constraint['P2305'])).replace(\"'\",'\"')]\n",
    "            else:\n",
    "                commandMatchMoreFiles += [f\"{prop2}: (node1)-[]->()\"]\n",
    "#         print(commandMatchMoreFiles)\n",
    "        if len(commandWhere) == 0:\n",
    "            command = commandInit + commandOtherFiles + commandMatch + (\", \".join(commandMatchMoreFiles)) + \"'\"\n",
    "        else:\n",
    "            command = commandInit + commandOtherFiles + commandMatch + (\", \".join(commandMatchMoreFiles)) + \"'\" + \" --where '\"+(\" and \".join(commandWhere))+\"'\"\n",
    "        \n",
    "        if cnt % 20 == 0:\n",
    "            if fOP:\n",
    "                fOP.close()\n",
    "            fCnt += 1\n",
    "            fOP = open(\"../../propertiesSplit/checkViolations/\" + shellFileSuffix + str(fCnt) + \".sh\",\"w\")\n",
    "        \n",
    "        if len(excptns) == 0:\n",
    "            commandRest = \" --return 'distinct nodeProp.id, node1 as `node1`, nodeProp.label as `label`, node2 as `node2`'  \\\n",
    "            -o ../../allConstraintsAnalysis/\" + folderName + \"/\" + subFolderName + \"/claims.\"+ prop +\".correct.tsv \\\n",
    "            --graph-cache ~/sqlite3_caches/\" + str(graph_cache_file_prefix) + str(fCnt) + \".sqlite3.db; \\\n",
    "             kgtk --debug ifnotexists -i ../../propertiesSplit/claims.\"+ prop +\".tsv \\\n",
    "            --filter-on ../../allConstraintsAnalysis/\" + folderName + \"/\" + subFolderName + \"/claims.\"+ prop +\".correct.tsv \\\n",
    "            --filter-mode NONE \\\n",
    "            --input-keys node1 label \\\n",
    "            --filter-keys node1 label \"\n",
    "            \n",
    "            commandOPFile = \"-o ../../allConstraintsAnalysis/\" + folderName + \"/\" + subFolderName + \"/claims.\"+ prop +\".\"\n",
    "            \n",
    "            command += commandRest + commandOPFile + \"incorrect.tsv ) } 2>> ../../propertiesSplit/checkViolations/exec_logs/timeLog_\" + shellFileSuffix + str(fCnt) + \".txt;\\n\"\n",
    "            fOP.write(command)\n",
    "        else:\n",
    "            commandRest = \" --return 'distinct nodeProp.id, node1 as `node1`, nodeProp.label as `label`, node2 as `node2`'  \\\n",
    "            -o ../../allConstraintsAnalysis/\" + folderName + \"/\" + subFolderName + \"/claims.\"+ prop +\".correct_wo_exceptions.tsv \\\n",
    "            --graph-cache ~/sqlite3_caches/\" + str(graph_cache_file_prefix) + str(fCnt) + \".sqlite3.db; \\\n",
    "             kgtk --debug ifnotexists -i ../../propertiesSplit/claims.\"+ prop +\".tsv \\\n",
    "            --filter-on ../../allConstraintsAnalysis/\" + folderName + \"/\" + subFolderName + \"/claims.\"+ prop +\".correct_wo_exceptions.tsv \\\n",
    "            --filter-mode NONE \\\n",
    "            --input-keys node1 label \\\n",
    "            --filter-keys node1 label \"\n",
    "            \n",
    "            commandOPFile = \"-o ../../allConstraintsAnalysis/\" + folderName + \"/\" + subFolderName + \"/claims.\"+ prop +\".\"\n",
    "            \n",
    "            command += commandRest + commandOPFile + \"incorrect_wo_exceptions.tsv\\n\"\n",
    "            fOP.write(command)\n",
    "            \n",
    "            command = \"  kgtk --debug query -i ../../allConstraintsAnalysis/\" + folderName + \"/\" + subFolderName + \"/claims.\" + prop + \".incorrect_wo_exceptions.tsv \\\n",
    "                    --match '(node1)-[]->()' --where 'node1 in \" + str(list(excptns)).replace(\"'\",'\"') + \"' \\\n",
    "                    -o ../../allConstraintsAnalysis/\" + folderName + \"/\" + subFolderName + \"/claims.\" + prop + \".incorrect_w_exceptions.tsv \\\n",
    "                    --graph-cache ~/sqlite3_caches/\" + str(graph_cache_file_prefix) + str(fCnt) + \".sqlite3.db; \"\n",
    "            fOP.write(command)\n",
    "            \n",
    "            command = \"  kgtk --debug ifnotexists -i ../../allConstraintsAnalysis/\" + folderName + \"/\" + subFolderName + \"/claims.\" + prop + \".incorrect_wo_exceptions.tsv \\\n",
    "            --filter-on ../../allConstraintsAnalysis/\" + folderName + \"/\" + subFolderName + \"/claims.\" + prop + \".incorrect_w_exceptions.tsv \\\n",
    "            --filter-mode NONE \\\n",
    "            --input-keys node1 label \\\n",
    "            --filter-keys node1 label \\\n",
    "            -o ../../allConstraintsAnalysis/\" + folderName + \"/\" + subFolderName + \"/claims.\"+ prop +\".incorrect.tsv; \"\n",
    "            fOP.write(command)\n",
    "            \n",
    "            command = \"  kgtk cat -i ../../allConstraintsAnalysis/\" + folderName + \"/\" + subFolderName + \"/claims.\"+ prop +\".correct_wo_exceptions.tsv \\\n",
    "                    ../../allConstraintsAnalysis/\" + folderName + \"/\" + subFolderName + \"/claims.\"+ prop +\".incorrect_w_exceptions.tsv \\\n",
    "                    -o ../../allConstraintsAnalysis/\" + folderName + \"/\" + subFolderName + \"/claims.\"+ prop +\".correct.tsv ) } 2>> ../../propertiesSplit/checkViolations/exec_logs/timeLog_\" + shellFileSuffix + str(fCnt) + \".txt; \\n\"\n",
    "            fOP.write(command)\n",
    "        \n",
    "        \n",
    "        cnt += 1\n",
    "#     except:\n",
    "#         print(\"Something failed for prop:\",prop)\n",
    "if fOP:\n",
    "    fOP.close()"
   ]
  },
  {
   "cell_type": "code",
   "execution_count": 91,
   "id": "according-blackberry",
   "metadata": {},
   "outputs": [
    {
     "data": {
      "text/plain": [
       "78"
      ]
     },
     "execution_count": 91,
     "metadata": {},
     "output_type": "execute_result"
    }
   ],
   "source": [
    "cnt"
   ]
  },
  {
   "cell_type": "code",
   "execution_count": 17,
   "id": "extraordinary-drawing",
   "metadata": {},
   "outputs": [],
   "source": [
    "# import os\n",
    "# for i in range(1,5):\n",
    "#     os.system(\"screen -dm sh ../../propertiesSplit/checkViolations/codepConst_M_Validator_new2_\"+str(i)+\".sh\")"
   ]
  },
  {
   "cell_type": "markdown",
   "id": "subsequent-brown",
   "metadata": {},
   "source": [
    "#### Version 4 - Normal"
   ]
  },
  {
   "cell_type": "code",
   "execution_count": 92,
   "id": "operational-migration",
   "metadata": {},
   "outputs": [
    {
     "data": {
      "application/vnd.jupyter.widget-view+json": {
       "model_id": "23671bc603f64352967ca76b3f0a1aba",
       "version_major": 2,
       "version_minor": 0
      },
      "text/plain": [
       "  0%|          | 0/3147 [00:00<?, ?it/s]"
      ]
     },
     "metadata": {},
     "output_type": "display_data"
    },
    {
     "name": "stdout",
     "output_type": "stream",
     "text": [
      "File: ../../propertiesSplit/claims.P345.tsv does not exist\n",
      "File: ../../propertiesSplit/claims.P2604.tsv does not exist\n",
      "File: ../../propertiesSplit/claims.P1566.tsv does not exist\n",
      "File: ../../propertiesSplit/claims.P2355.tsv does not exist\n",
      "File: ../../propertiesSplit/claims.P1014.tsv does not exist\n",
      "File: ../../propertiesSplit/claims.P2636.tsv does not exist\n",
      "File: ../../propertiesSplit/claims.P1771.tsv does not exist\n",
      "File: ../../propertiesSplit/claims.P2755.tsv does not exist\n",
      "File: ../../propertiesSplit/claims.P8326.tsv does not exist\n",
      "File: ../../propertiesSplit/claims.P954.tsv does not exist\n",
      "File: ../../propertiesSplit/claims.P498.tsv does not exist\n",
      "File: ../../propertiesSplit/claims.P1297.tsv does not exist\n",
      "File: ../../propertiesSplit/claims.P8680.tsv does not exist\n",
      "File: ../../propertiesSplit/claims.P715.tsv does not exist\n",
      "File: ../../propertiesSplit/claims.P2606.tsv does not exist\n",
      "File: ../../propertiesSplit/claims.P8303.tsv does not exist\n",
      "File: ../../propertiesSplit/claims.P1874.tsv does not exist\n"
     ]
    }
   ],
   "source": [
    "from tqdm.notebook import tqdm\n",
    "import os.path\n",
    "import os\n",
    "\n",
    "cnt = 0\n",
    "fCnt = 0\n",
    "\n",
    "folderName = 'codependencyConstraint_Final'\n",
    "subFolderName = \"Normal\"\n",
    "shellFileSuffix = 'codepConst_N_Validator_new2_'\n",
    "graph_cache_file_prefix = \"codep_new3_04_\"\n",
    "\n",
    "for prop in tqdm(dfItemRequires.index.unique()):\n",
    "#     try:\n",
    "        mandatory = []\n",
    "        suggestion = []\n",
    "        normal = []\n",
    "        prop = str(prop)\n",
    "        \n",
    "        for _, constraint in dfItemRequires.loc[[prop]].iterrows():\n",
    "            if type(constraint['P2316']) == list:\n",
    "                if constraint['P2316'][0] == 'Q21502408':\n",
    "                    mandatory.append(constraint)\n",
    "                elif constraint['P2316'][0] == 'Q62026391':\n",
    "                    suggestion.append(constraint)\n",
    "            else:\n",
    "                normal.append(constraint)\n",
    "        \n",
    "        if not(os.path.isfile(\"../../propertiesSplit/claims.\"+ prop +\".tsv\")):\n",
    "            continue\n",
    "                \n",
    "        commandInit = \"{ time ( kgtk --debug query -i ../../propertiesSplit/claims.\"+ prop +\".tsv \"\n",
    "        commandOtherFiles = \"\"\n",
    "        commandMatch = \"--match '\"\n",
    "        commandMatchMoreFiles = [f\"{prop}: (node1)-[nodeProp]->(node2)\"]\n",
    "        commandWhere = \" --where '\"\n",
    "        commandWhere = []\n",
    "        \n",
    "        # Version 1 <<<<<<<<<<<<<<<<<<<<<<<<<<<<<<<<<<<<<<<<<<<<<<<<<<<<<<<<<<<<<<<<<<<<<<<<<<<<<<<<<<\n",
    "        constSet = normal\n",
    "        \n",
    "        if len(constSet) == 0:\n",
    "            continue\n",
    "        excptns = set()\n",
    "        for (rowNo, constraint) in enumerate(constSet):\n",
    "            prop2 = constraint['P2306']\n",
    "            \n",
    "            if type(prop2) != list:\n",
    "                continue\n",
    "            prop2 = prop2[0]\n",
    "                \n",
    "            if not(os.path.isfile(\"../../propertiesSplit/claims.\"+ prop2 +\".tsv\")):\n",
    "                print(f\"File: ../../propertiesSplit/claims.{prop2}.tsv does not exist\")\n",
    "                continue\n",
    "            \n",
    "            commandOtherFiles += \"../../propertiesSplit/claims.\"+ prop2 +\".tsv \"\n",
    "            if type(constraint['P2303']) == list: # Exceptions present\n",
    "                if len(excptns) == 0:\n",
    "                    excptns = set(constraint['P2303'])\n",
    "                else:\n",
    "                    excptns = excptns.intersection(set(constraint['P2303']))\n",
    "            if type(constraint['P2305']) == list:\n",
    "                commandMatchMoreFiles += [f\"{prop2}: (node1)-[]->(node2_{prop2})\"]\n",
    "                commandWhere += [\"node2_\" + prop2 + \" in \" + str(list(constraint['P2305'])).replace(\"'\",'\"')]\n",
    "            else:\n",
    "                commandMatchMoreFiles += [f\"{prop2}: (node1)-[]->()\"]\n",
    "#         print(commandMatchMoreFiles)\n",
    "        if len(commandWhere) == 0:\n",
    "            command = commandInit + commandOtherFiles + commandMatch + (\", \".join(commandMatchMoreFiles)) + \"'\"\n",
    "        else:\n",
    "            command = commandInit + commandOtherFiles + commandMatch + (\", \".join(commandMatchMoreFiles)) + \"'\" + \" --where '\"+(\" and \".join(commandWhere))+\"'\"\n",
    "        \n",
    "        if cnt % 20 == 0:\n",
    "            if fOP:\n",
    "                fOP.close()\n",
    "            fCnt += 1\n",
    "            fOP = open(\"../../propertiesSplit/checkViolations/\" + shellFileSuffix + str(fCnt) + \".sh\",\"w\")\n",
    "        \n",
    "        if len(excptns) == 0:\n",
    "            commandRest = \" --return 'distinct nodeProp.id, node1 as `node1`, nodeProp.label as `label`, node2 as `node2`'  \\\n",
    "            -o ../../allConstraintsAnalysis/\" + folderName + \"/\" + subFolderName + \"/claims.\"+ prop +\".correct.tsv \\\n",
    "            --graph-cache ~/sqlite3_caches/\" + str(graph_cache_file_prefix) + str(fCnt) + \".sqlite3.db; \\\n",
    "             kgtk --debug ifnotexists -i ../../propertiesSplit/claims.\"+ prop +\".tsv \\\n",
    "            --filter-on ../../allConstraintsAnalysis/\" + folderName + \"/\" + subFolderName + \"/claims.\"+ prop +\".correct.tsv \\\n",
    "            --filter-mode NONE \\\n",
    "            --input-keys node1 label \\\n",
    "            --filter-keys node1 label \"\n",
    "            \n",
    "            commandOPFile = \"-o ../../allConstraintsAnalysis/\" + folderName + \"/\" + subFolderName + \"/claims.\"+ prop +\".\"\n",
    "            \n",
    "            command += commandRest + commandOPFile + \"incorrect.tsv ) } 2>> ../../propertiesSplit/checkViolations/exec_logs/timeLog_\" + shellFileSuffix + str(fCnt) + \".txt;\\n\"\n",
    "            fOP.write(command)\n",
    "        else:\n",
    "            commandRest = \" --return 'distinct nodeProp.id, node1 as `node1`, nodeProp.label as `label`, node2 as `node2`'  \\\n",
    "            -o ../../allConstraintsAnalysis/\" + folderName + \"/\" + subFolderName + \"/claims.\"+ prop +\".correct_wo_exceptions.tsv \\\n",
    "            --graph-cache ~/sqlite3_caches/\" + str(graph_cache_file_prefix) + str(fCnt) + \".sqlite3.db; \\\n",
    "             kgtk --debug ifnotexists -i ../../propertiesSplit/claims.\"+ prop +\".tsv \\\n",
    "            --filter-on ../../allConstraintsAnalysis/\" + folderName + \"/\" + subFolderName + \"/claims.\"+ prop +\".correct_wo_exceptions.tsv \\\n",
    "            --filter-mode NONE \\\n",
    "            --input-keys node1 label \\\n",
    "            --filter-keys node1 label \"\n",
    "            \n",
    "            commandOPFile = \"-o ../../allConstraintsAnalysis/\" + folderName + \"/\" + subFolderName + \"/claims.\"+ prop +\".\"\n",
    "            \n",
    "            command += commandRest + commandOPFile + \"incorrect_wo_exceptions.tsv\\n\"\n",
    "            fOP.write(command)\n",
    "            \n",
    "            command = \"  kgtk --debug query -i ../../allConstraintsAnalysis/\" + folderName + \"/\" + subFolderName + \"/claims.\" + prop + \".incorrect_wo_exceptions.tsv \\\n",
    "                    --match '(node1)-[]->()' --where 'node1 in \" + str(list(excptns)).replace(\"'\",'\"') + \"' \\\n",
    "                    -o ../../allConstraintsAnalysis/\" + folderName + \"/\" + subFolderName + \"/claims.\" + prop + \".incorrect_w_exceptions.tsv \\\n",
    "                    --graph-cache ~/sqlite3_caches/\" + str(graph_cache_file_prefix) + str(fCnt) + \".sqlite3.db; \"\n",
    "            fOP.write(command)\n",
    "            \n",
    "            command = \"  kgtk --debug ifnotexists -i ../../allConstraintsAnalysis/\" + folderName + \"/\" + subFolderName + \"/claims.\" + prop + \".incorrect_wo_exceptions.tsv \\\n",
    "            --filter-on ../../allConstraintsAnalysis/\" + folderName + \"/\" + subFolderName + \"/claims.\" + prop + \".incorrect_w_exceptions.tsv \\\n",
    "            --filter-mode NONE \\\n",
    "            --input-keys node1 label \\\n",
    "            --filter-keys node1 label \\\n",
    "            -o ../../allConstraintsAnalysis/\" + folderName + \"/\" + subFolderName + \"/claims.\"+ prop +\".incorrect.tsv; \"\n",
    "            fOP.write(command)\n",
    "            \n",
    "            command = \"  kgtk cat -i ../../allConstraintsAnalysis/\" + folderName + \"/\" + subFolderName + \"/claims.\"+ prop +\".correct_wo_exceptions.tsv \\\n",
    "                    ../../allConstraintsAnalysis/\" + folderName + \"/\" + subFolderName + \"/claims.\"+ prop +\".incorrect_w_exceptions.tsv \\\n",
    "                    -o ../../allConstraintsAnalysis/\" + folderName + \"/\" + subFolderName + \"/claims.\"+ prop +\".correct.tsv ) } 2>> ../../propertiesSplit/checkViolations/exec_logs/timeLog_\" + shellFileSuffix + str(fCnt) + \".txt; \\n\"\n",
    "            fOP.write(command)\n",
    "        \n",
    "        \n",
    "        cnt += 1\n",
    "#     except:\n",
    "#         print(\"Something failed for prop:\",prop)\n",
    "if fOP:\n",
    "    fOP.close()"
   ]
  },
  {
   "cell_type": "code",
   "execution_count": 93,
   "id": "harmful-binary",
   "metadata": {},
   "outputs": [
    {
     "data": {
      "text/plain": [
       "418"
      ]
     },
     "execution_count": 93,
     "metadata": {},
     "output_type": "execute_result"
    }
   ],
   "source": [
    "cnt"
   ]
  },
  {
   "cell_type": "code",
   "execution_count": 19,
   "id": "advance-married",
   "metadata": {},
   "outputs": [],
   "source": [
    "# import os\n",
    "# for i in range(1,23):\n",
    "#     os.system(\"screen -dm sh ../../propertiesSplit/checkViolations/codepConst_N_Validator_new2_\"+str(i)+\".sh\")"
   ]
  },
  {
   "cell_type": "markdown",
   "id": "ranging-journal",
   "metadata": {},
   "source": [
    "#### Version 5 - Suggestion"
   ]
  },
  {
   "cell_type": "code",
   "execution_count": 16,
   "id": "missing-jordan",
   "metadata": {},
   "outputs": [
    {
     "data": {
      "application/vnd.jupyter.widget-view+json": {
       "model_id": "bdc942cb17d9460fa2421475c3489d1a",
       "version_major": 2,
       "version_minor": 0
      },
      "text/plain": [
       "  0%|          | 0/3147 [00:00<?, ?it/s]"
      ]
     },
     "metadata": {},
     "output_type": "display_data"
    },
    {
     "name": "stdout",
     "output_type": "stream",
     "text": [
      "File: ../../propertiesSplit/claims.P1566.tsv does not exist\n",
      "File: ../../propertiesSplit/claims.P3350.tsv does not exist\n",
      "File: ../../propertiesSplit/claims.P5128.tsv does not exist\n"
     ]
    }
   ],
   "source": [
    "from tqdm.notebook import tqdm\n",
    "import os.path\n",
    "import os\n",
    "\n",
    "cnt = 0\n",
    "fCnt = 0\n",
    "\n",
    "folderName = 'codependencyConstraint_Final'\n",
    "subFolderName = \"Suggestion\"\n",
    "shellFileSuffix = 'codepConst_S_Validator_new_3_'\n",
    "graph_cache_file_prefix = \"codep_new4_05_\"\n",
    "\n",
    "fOP = None\n",
    "\n",
    "for prop in tqdm(dfItemRequires.index.unique()):\n",
    "#     try:\n",
    "        mandatory = []\n",
    "        suggestion = []\n",
    "        normal = []\n",
    "        prop = str(prop)\n",
    "        \n",
    "        for _, constraint in dfItemRequires.loc[[prop]].iterrows():\n",
    "            if type(constraint['P2316']) == list:\n",
    "                if constraint['P2316'][0] == 'Q21502408':\n",
    "                    mandatory.append(constraint)\n",
    "                elif constraint['P2316'][0] == 'Q62026391':\n",
    "                    suggestion.append(constraint)\n",
    "            else:\n",
    "                normal.append(constraint)\n",
    "        \n",
    "        if not(os.path.isfile(\"../../propertiesSplit/claims.\"+ prop +\".tsv\")):\n",
    "            continue\n",
    "                \n",
    "        commandInit = \"{ time ( kgtk --debug query -i ../../propertiesSplit/claims.\"+ prop +\".tsv \"\n",
    "        commandOtherFiles = \"\"\n",
    "        commandMatch = \"--match '\"\n",
    "        commandMatchMoreFiles = [f\"{prop}: (node1)-[nodeProp]->(node2)\"]\n",
    "        commandWhere = \" --where '\"\n",
    "        commandWhere = []\n",
    "        \n",
    "        # Version 1 <<<<<<<<<<<<<<<<<<<<<<<<<<<<<<<<<<<<<<<<<<<<<<<<<<<<<<<<<<<<<<<<<<<<<<<<<<<<<<<<<<\n",
    "        constSet = suggestion\n",
    "        \n",
    "        if len(constSet) == 0:\n",
    "            continue\n",
    "        excptns = set()\n",
    "        for (rowNo, constraint) in enumerate(constSet):\n",
    "            prop2 = constraint['P2306']\n",
    "            \n",
    "            if type(prop2) != list:\n",
    "                continue\n",
    "            prop2 = prop2[0]\n",
    "                \n",
    "            if not(os.path.isfile(\"../../propertiesSplit/claims.\"+ prop2 +\".tsv\")):\n",
    "                print(f\"File: ../../propertiesSplit/claims.{prop2}.tsv does not exist\")\n",
    "                continue\n",
    "            \n",
    "            commandOtherFiles += \"../../propertiesSplit/claims.\"+ prop2 +\".tsv \"\n",
    "            if type(constraint['P2303']) == list: # Exceptions present\n",
    "                if len(excptns) == 0:\n",
    "                    excptns = set(constraint['P2303'])\n",
    "                else:\n",
    "                    excptns = excptns.intersection(set(constraint['P2303']))\n",
    "            if type(constraint['P2305']) == list:\n",
    "                commandMatchMoreFiles += [f\"{prop2}: (node1)-[]->(node2_{prop2})\"]\n",
    "                commandWhere += [\"node2_\" + prop2 + \" in \" + str(list(constraint['P2305'])).replace(\"'\",'\"')]\n",
    "            else:\n",
    "                commandMatchMoreFiles += [f\"{prop2}: (node1)-[]->()\"]\n",
    "#         print(commandMatchMoreFiles)\n",
    "        if len(commandWhere) == 0:\n",
    "            command = commandInit + commandOtherFiles + commandMatch + (\", \".join(commandMatchMoreFiles)) + \"'\"\n",
    "        else:\n",
    "            command = commandInit + commandOtherFiles + commandMatch + (\", \".join(commandMatchMoreFiles)) + \"'\" + \" --where '\"+(\" and \".join(commandWhere))+\"'\"\n",
    "        \n",
    "        if cnt % 20 == 0:\n",
    "            if fOP:\n",
    "                fOP.close()\n",
    "            fCnt += 1\n",
    "            fOP = open(\"../../propertiesSplit/checkViolations/\" + shellFileSuffix + str(fCnt) + \".sh\",\"w\")\n",
    "        \n",
    "        if len(excptns) == 0:\n",
    "            commandRest = \" --return 'distinct nodeProp.id, node1 as `node1`, nodeProp.label as `label`, node2 as `node2`'  \\\n",
    "            -o ../../allConstraintsAnalysis/\" + folderName + \"/\" + subFolderName + \"/claims.\"+ prop +\".correct.tsv \\\n",
    "            --graph-cache ~/sqlite3_caches/\" + str(graph_cache_file_prefix) + str(fCnt) + \".sqlite3.db; \\\n",
    "             kgtk --debug ifnotexists -i ../../propertiesSplit/claims.\"+ prop +\".tsv \\\n",
    "            --filter-on ../../allConstraintsAnalysis/\" + folderName + \"/\" + subFolderName + \"/claims.\"+ prop +\".correct.tsv \\\n",
    "            --filter-mode NONE \\\n",
    "            --input-keys node1 label \\\n",
    "            --filter-keys node1 label \"\n",
    "            \n",
    "            commandOPFile = \"-o ../../allConstraintsAnalysis/\" + folderName + \"/\" + subFolderName + \"/claims.\"+ prop +\".\"\n",
    "            \n",
    "            command += commandRest + commandOPFile + \"incorrect.tsv ) } 2>> ../../propertiesSplit/checkViolations/exec_logs/timeLog_\" + shellFileSuffix + str(fCnt) + \".txt;\\n\"\n",
    "            fOP.write(command)\n",
    "        else:\n",
    "            commandRest = \" --return 'distinct nodeProp.id, node1 as `node1`, nodeProp.label as `label`, node2 as `node2`'  \\\n",
    "            -o ../../allConstraintsAnalysis/\" + folderName + \"/\" + subFolderName + \"/claims.\"+ prop +\".correct_wo_exceptions.tsv \\\n",
    "            --graph-cache ~/sqlite3_caches/\" + str(graph_cache_file_prefix) + str(fCnt) + \".sqlite3.db; \\\n",
    "             kgtk --debug ifnotexists -i ../../propertiesSplit/claims.\"+ prop +\".tsv \\\n",
    "            --filter-on ../../allConstraintsAnalysis/\" + folderName + \"/\" + subFolderName + \"/claims.\"+ prop +\".correct_wo_exceptions.tsv \\\n",
    "            --filter-mode NONE \\\n",
    "            --input-keys node1 label \\\n",
    "            --filter-keys node1 label \"\n",
    "            \n",
    "            commandOPFile = \"-o ../../allConstraintsAnalysis/\" + folderName + \"/\" + subFolderName + \"/claims.\"+ prop +\".\"\n",
    "            \n",
    "            command += commandRest + commandOPFile + \"incorrect_wo_exceptions.tsv\\n\"\n",
    "            fOP.write(command)\n",
    "            \n",
    "            command = \"  kgtk --debug query -i ../../allConstraintsAnalysis/\" + folderName + \"/\" + subFolderName + \"/claims.\" + prop + \".incorrect_wo_exceptions.tsv \\\n",
    "                    --match '(node1)-[]->()' --where 'node1 in \" + str(list(excptns)).replace(\"'\",'\"') + \"' \\\n",
    "                    -o ../../allConstraintsAnalysis/\" + folderName + \"/\" + subFolderName + \"/claims.\" + prop + \".incorrect_w_exceptions.tsv \\\n",
    "                    --graph-cache ~/sqlite3_caches/\" + str(graph_cache_file_prefix) + str(fCnt) + \".sqlite3.db; \"\n",
    "            fOP.write(command)\n",
    "            \n",
    "            command = \"  kgtk --debug ifnotexists -i ../../allConstraintsAnalysis/\" + folderName + \"/\" + subFolderName + \"/claims.\" + prop + \".incorrect_wo_exceptions.tsv \\\n",
    "            --filter-on ../../allConstraintsAnalysis/\" + folderName + \"/\" + subFolderName + \"/claims.\" + prop + \".incorrect_w_exceptions.tsv \\\n",
    "            --filter-mode NONE \\\n",
    "            --input-keys node1 label \\\n",
    "            --filter-keys node1 label \\\n",
    "            -o ../../allConstraintsAnalysis/\" + folderName + \"/\" + subFolderName + \"/claims.\"+ prop +\".incorrect.tsv; \"\n",
    "            fOP.write(command)\n",
    "            \n",
    "            command = \"  kgtk cat -i ../../allConstraintsAnalysis/\" + folderName + \"/\" + subFolderName + \"/claims.\"+ prop +\".correct_wo_exceptions.tsv \\\n",
    "                    ../../allConstraintsAnalysis/\" + folderName + \"/\" + subFolderName + \"/claims.\"+ prop +\".incorrect_w_exceptions.tsv \\\n",
    "                    -o ../../allConstraintsAnalysis/\" + folderName + \"/\" + subFolderName + \"/claims.\"+ prop +\".correct.tsv ) } 2>> ../../propertiesSplit/checkViolations/exec_logs/timeLog_\" + shellFileSuffix + str(fCnt) + \".txt; \\n\"\n",
    "            fOP.write(command)\n",
    "        \n",
    "        \n",
    "        cnt += 1\n",
    "#     except:\n",
    "#         print(\"Something failed for prop:\",prop)\n",
    "if fOP:\n",
    "    fOP.close()"
   ]
  },
  {
   "cell_type": "code",
   "execution_count": 17,
   "id": "soviet-forth",
   "metadata": {},
   "outputs": [
    {
     "data": {
      "text/plain": [
       "97"
      ]
     },
     "execution_count": 17,
     "metadata": {},
     "output_type": "execute_result"
    }
   ],
   "source": [
    "cnt"
   ]
  },
  {
   "cell_type": "code",
   "execution_count": 18,
   "id": "racial-stationery",
   "metadata": {},
   "outputs": [],
   "source": [
    "import os\n",
    "for i in range(1,6):\n",
    "    os.system(\"screen -dm sh ../../propertiesSplit/checkViolations/codepConst_S_Validator_new_3_\"+str(i)+\".sh\")"
   ]
  },
  {
   "cell_type": "markdown",
   "id": "structural-envelope",
   "metadata": {},
   "source": [
    "### Merge all correct/incorrect outputs"
   ]
  },
  {
   "cell_type": "code",
   "execution_count": 17,
   "id": "joined-invention",
   "metadata": {},
   "outputs": [
    {
     "data": {
      "application/vnd.jupyter.widget-view+json": {
       "model_id": "57dcbdd4c8014c9288dbb92b331a05a6",
       "version_major": 2,
       "version_minor": 0
      },
      "text/plain": [
       "0it [00:00, ?it/s]"
      ]
     },
     "metadata": {},
     "output_type": "display_data"
    }
   ],
   "source": [
    "# import os\n",
    "# from tqdm.notebook import tqdm\n",
    "\n",
    "# for folder in tqdm(iter(['Mand_Sugg_Normal', 'Mand_Normal', 'Mand', 'Normal'])):\n",
    "#     folderPath = \"../../allConstraintsAnalysis/codependencyConstraint/\" + folder + \"/\"\n",
    "#     correct_files_list = \" \".join([folderPath + f for f in filter(lambda f: \".correct.\" in f, os.listdir(folderPath))])\n",
    "#     incorrect_files_list = \" \".join([folderPath + f for f in filter(lambda f: \".incorrect.\" in f, os.listdir(folderPath))])\n",
    "# #     print(files_list)\n",
    "#     os.system(\"{ kgtk cat -i \"+ correct_files_list + \" -o \"+folderPath+\"claims.all.correctSuperSet.tsv -v True; } 2> \"+folderPath+\"claims.all.correctSuperSet.log\")\n",
    "#     os.system(\"{ kgtk cat -i \"+ incorrect_files_list + \" -o \"+folderPath+\"claims.all.incorrectSuperSet.tsv -v True; } 2> \"+folderPath+\"claims.all.incorrectSuperSet.log\")"
   ]
  },
  {
   "cell_type": "code",
   "execution_count": 15,
   "id": "stopped-bolivia",
   "metadata": {},
   "outputs": [
    {
     "data": {
      "application/vnd.jupyter.widget-view+json": {
       "model_id": "68395f72036a469fad8908d916303bcd",
       "version_major": 2,
       "version_minor": 0
      },
      "text/plain": [
       "0it [00:00, ?it/s]"
      ]
     },
     "metadata": {},
     "output_type": "display_data"
    }
   ],
   "source": [
    "# import os\n",
    "# from tqdm.notebook import tqdm\n",
    "\n",
    "# for folder in tqdm(iter(['Mand_Sugg_Normal', 'Mand_Normal', 'Mand', 'Normal'])):\n",
    "#     folderPath = \"../../allConstraintsAnalysis/codependencyConstraint_Final/\" + folder + \"/\"\n",
    "#     correct_files_list = \" \".join([folderPath + f for f in filter(lambda f: \".correct.\" in f, os.listdir(folderPath))])\n",
    "#     incorrect_files_list = \" \".join([folderPath + f for f in filter(lambda f: \".incorrect.\" in f, os.listdir(folderPath))])\n",
    "# #     print(files_list)\n",
    "#     os.system(\"{ kgtk cat -i \"+ correct_files_list + \" -o \"+folderPath+\"claims.all.correctSuperSet.tsv; } 2> \"+folderPath+\"claims.all.correctSuperSet.log\")\n",
    "#     os.system(\"{ kgtk cat -i \"+ incorrect_files_list + \" -o \"+folderPath+\"claims.all.incorrectSuperSet.tsv; } 2> \"+folderPath+\"claims.all.incorrectSuperSet.log\")"
   ]
  },
  {
   "cell_type": "code",
   "execution_count": null,
   "id": "criminal-central",
   "metadata": {},
   "outputs": [],
   "source": [
    "# for folder in tqdm(iter(['Mand_Sugg_Normal', 'Mand_Normal', 'Mand', 'Normal'])):\n",
    "#     folderPath = \"../../allConstraintsAnalysis/codependencyConstraint/\" + folder + \"/\"\n",
    "#     folderPathNew = \"../../allConstraintsAnalysis/codependencyConstraint_Final/\" + folder + \"/\"\n",
    "#     os.system(f\"screen -dm kgtk ifnotexists -i {folderPathNew}claims.all.correctSuperSet.tsv --filter-on {folderPath}claims.all.correctSuperSet.tsv -o {folderPathNew}claims.all.correctSuperSet.diff.tsv\")\n",
    "#     os.system(f\"screen -dm kgtk ifnotexists -i {folderPathNew}claims.all.incorrectSuperSet.tsv --filter-on {folderPath}claims.all.incorrectSuperSet.tsv -o {folderPathNew}claims.all.incorrectSuperSet.diff.tsv\")\n",
    "    "
   ]
  },
  {
   "cell_type": "markdown",
   "id": "homeless-pleasure",
   "metadata": {},
   "source": [
    "### Analyze Violations"
   ]
  },
  {
   "cell_type": "code",
   "execution_count": 1,
   "id": "welcome-dependence",
   "metadata": {
    "scrolled": true
   },
   "outputs": [
    {
     "data": {
      "application/vnd.jupyter.widget-view+json": {
       "model_id": "49ad7c0dd97442abab9ed035960b1fc1",
       "version_major": 2,
       "version_minor": 0
      },
      "text/plain": [
       "0it [00:00, ?it/s]"
      ]
     },
     "metadata": {},
     "output_type": "display_data"
    },
    {
     "data": {
      "application/vnd.jupyter.widget-view+json": {
       "model_id": "8b2d6ff907d6473da6617fb4a3c76273",
       "version_major": 2,
       "version_minor": 0
      },
      "text/plain": [
       "  0%|          | 0/1192 [00:00<?, ?it/s]"
      ]
     },
     "metadata": {},
     "output_type": "display_data"
    },
    {
     "data": {
      "application/vnd.jupyter.widget-view+json": {
       "model_id": "6c112a088e0c444989ff42ec25032eb3",
       "version_major": 2,
       "version_minor": 0
      },
      "text/plain": [
       "  0%|          | 0/1053 [00:00<?, ?it/s]"
      ]
     },
     "metadata": {},
     "output_type": "display_data"
    },
    {
     "data": {
      "application/vnd.jupyter.widget-view+json": {
       "model_id": "449a697cb1144c0d9f29adbbaf7038c5",
       "version_major": 2,
       "version_minor": 0
      },
      "text/plain": [
       "  0%|          | 0/156 [00:00<?, ?it/s]"
      ]
     },
     "metadata": {},
     "output_type": "display_data"
    },
    {
     "data": {
      "application/vnd.jupyter.widget-view+json": {
       "model_id": "2f14f45b18ab44b79c8eeef8023ec16d",
       "version_major": 2,
       "version_minor": 0
      },
      "text/plain": [
       "  0%|          | 0/953 [00:00<?, ?it/s]"
      ]
     },
     "metadata": {},
     "output_type": "display_data"
    },
    {
     "data": {
      "application/vnd.jupyter.widget-view+json": {
       "model_id": "0193c41d38f243e5860940bbe3f4e744",
       "version_major": 2,
       "version_minor": 0
      },
      "text/plain": [
       "  0%|          | 0/215 [00:00<?, ?it/s]"
      ]
     },
     "metadata": {},
     "output_type": "display_data"
    }
   ],
   "source": [
    "import pandas as pd\n",
    "import os\n",
    "from tqdm.notebook import tqdm\n",
    "\n",
    "codepConstViolations = {}\n",
    "\n",
    "def countLines(fname):\n",
    "    cnt = -1\n",
    "    with open(fname, 'r') as f:\n",
    "        for line in f:\n",
    "            cnt += 1\n",
    "    return cnt\n",
    "\n",
    "codepConstViolations = {}\n",
    "codepConstPropList = set()\n",
    "\n",
    "# codepConstViolationsSummary = {}\n",
    "\n",
    "for folder in tqdm(iter(['Mand_Sugg_Normal', 'Mand_Normal', 'Mand', 'Normal','Suggestion'])):\n",
    "    filePath = \"../../allConstraintsAnalysis/codependencyConstraint_Final/\"+folder+\"/\"\n",
    "    for filename in tqdm(os.listdir(filePath)):\n",
    "        prop = filename.split(\".\")[1]\n",
    "        correctness = filename.split(\".\")[2]\n",
    "        if correctness not in ['correct','incorrect']:\n",
    "            continue\n",
    "        codepConstPropList.add(prop)\n",
    "        count1 = countLines(filePath+filename)\n",
    "        if folder not in codepConstViolations:\n",
    "            codepConstViolations[folder] = {}\n",
    "        if prop not in codepConstViolations[folder]:\n",
    "            codepConstViolations[folder][prop] = {'correct': 0, 'incorrect': 0, 'paths': []}\n",
    "        codepConstViolations[folder][prop][correctness] = count1\n",
    "        codepConstViolations[folder][prop]['paths'].append(filePath+filename)\n",
    "        \n",
    "#         if folder not in codepConstViolationsSummary:\n",
    "#             codepConstViolationsSummary[folder] = {'correct': 0, 'incorrect': 0}\n",
    "#         codepConstViolationsSummary[folder][correctness] += count1"
   ]
  },
  {
   "cell_type": "code",
   "execution_count": null,
   "id": "heated-astrology",
   "metadata": {},
   "outputs": [],
   "source": [
    "codepConstViolationsSummary = {}\n",
    "for folder in codepConstViolations.keys():\n",
    "    for prop in codepConstViolations[folder].keys():\n",
    "        if folder not in codepConstViolationsSummary:\n",
    "            codepConstViolationsSummary[folder] = {'correct': 0, 'incorrect': 0, 'propCount': 0}\n",
    "        codepConstViolationsSummary[folder]['correct'] += codepConstViolations[folder][prop]['correct']\n",
    "        codepConstViolationsSummary[folder]['incorrect'] += codepConstViolations[folder][prop]['incorrect']\n",
    "        codepConstViolationsSummary[folder]['propCount'] += 1"
   ]
  },
  {
   "cell_type": "code",
   "execution_count": null,
   "id": "grateful-catalog",
   "metadata": {},
   "outputs": [],
   "source": [
    "for elem in codepConstViolationsSummary.keys():\n",
    "    codepConstViolationsSummary[elem]['total'] = codepConstViolationsSummary[elem]['correct'] + codepConstViolationsSummary[elem]['incorrect']\n",
    "    codepConstViolationsSummary[elem]['percIncorrect'] = codepConstViolationsSummary[elem]['incorrect'] / codepConstViolationsSummary[elem]['total'] * 100"
   ]
  },
  {
   "cell_type": "code",
   "execution_count": null,
   "id": "physical-soviet",
   "metadata": {},
   "outputs": [],
   "source": [
    "codepConstViolationsSummary"
   ]
  },
  {
   "cell_type": "code",
   "execution_count": null,
   "id": "permanent-triumph",
   "metadata": {},
   "outputs": [],
   "source": [
    "mandatoryPropCount = 0\n",
    "suggestionPropCount = 0\n",
    "normalPropCount = 0\n",
    "for prop in tqdm(dfItemRequires.index.unique()):\n",
    "    if not(os.path.isfile(\"../../propertiesSplit/claims.\"+ prop +\".tsv\")):\n",
    "        continue\n",
    "    prop = str(prop)\n",
    "    hasMandatory = False\n",
    "    hasSuggestion = False\n",
    "    hasNormal = False\n",
    "\n",
    "    for _, constraint in dfItemRequires.loc[[prop]].iterrows():\n",
    "        prop2 = constraint['P2306']\n",
    "            \n",
    "        if type(prop2) != list:\n",
    "            continue\n",
    "        prop2 = prop2[0]\n",
    "\n",
    "        if not(os.path.isfile(\"../../propertiesSplit/claims.\"+ prop2 +\".tsv\")):\n",
    "            print(f\"File: ../../propertiesSplit/claims.{prop2}.tsv does not exist\")\n",
    "            continue\n",
    "            \n",
    "        if type(constraint['P2316']) == list:\n",
    "            if constraint['P2316'][0] == 'Q21502408':\n",
    "                hasMandatory = True\n",
    "            elif constraint['P2316'][0] == 'Q62026391':\n",
    "                hasSuggestion = True\n",
    "        else:\n",
    "            hasNormal = True\n",
    "    if hasMandatory:\n",
    "        mandatoryPropCount += 1\n",
    "    if hasSuggestion:\n",
    "        suggestionPropCount += 1\n",
    "    if hasNormal:\n",
    "        normalPropCount += 1"
   ]
  },
  {
   "cell_type": "code",
   "execution_count": null,
   "id": "boring-tooth",
   "metadata": {},
   "outputs": [],
   "source": [
    "print(f\"No. of props having at least 1 mandatory constraint: {mandatoryPropCount}\")\n",
    "print(f\"No. of props having at least 1 suggestion constraint: {suggestionPropCount}\")\n",
    "print(f\"No. of props having at least 1 normal constraint: {normalPropCount}\")"
   ]
  },
  {
   "cell_type": "markdown",
   "id": "loving-double",
   "metadata": {},
   "source": [
    "#### Version 1 - Mand Sugg Normal"
   ]
  },
  {
   "cell_type": "code",
   "execution_count": null,
   "id": "beautiful-xerox",
   "metadata": {},
   "outputs": [],
   "source": [
    "import pandas as pd\n",
    "codepConstDF1 = pd.DataFrame(codepConstViolations['Mand_Sugg_Normal']).T"
   ]
  },
  {
   "cell_type": "code",
   "execution_count": null,
   "id": "genetic-venezuela",
   "metadata": {},
   "outputs": [],
   "source": [
    "codepConstDF1"
   ]
  },
  {
   "cell_type": "code",
   "execution_count": null,
   "id": "powered-residence",
   "metadata": {},
   "outputs": [],
   "source": [
    "codepConstDF1['violation_ratio'] = codepConstDF1.apply(lambda p: p.incorrect / (p.correct + p.incorrect), axis=1)"
   ]
  },
  {
   "cell_type": "code",
   "execution_count": null,
   "id": "chinese-pressing",
   "metadata": {},
   "outputs": [],
   "source": [
    "codepConstDF1.sort_values(by=['violation_ratio', 'incorrect'],ascending=False).head(15)"
   ]
  },
  {
   "cell_type": "code",
   "execution_count": 57,
   "id": "armed-constitution",
   "metadata": {},
   "outputs": [
    {
     "data": {
      "text/plain": [
       "['../../allConstraintsAnalysis/codependencyConstraint_Final/Mand_Sugg_Normal/claims.P2302.correct.tsv',\n",
       " '../../allConstraintsAnalysis/codependencyConstraint_Final/Mand_Sugg_Normal/claims.P2302.incorrect.tsv']"
      ]
     },
     "execution_count": 57,
     "metadata": {},
     "output_type": "execute_result"
    }
   ],
   "source": [
    "list(codepConstDF1.loc['P2302']['paths'])"
   ]
  },
  {
   "cell_type": "code",
   "execution_count": 58,
   "id": "continued-desire",
   "metadata": {},
   "outputs": [
    {
     "name": "stdout",
     "output_type": "stream",
     "text": [
      "id\tnode1\tlabel\tnode2\trank\tnode2;wikidatatype\r\n",
      "P10-P2302-Q21502404-d012aef4-0\tP10\tP2302\tQ21502404\tnormal\twikibase-item\r\n",
      "P10-P2302-Q21510851-5224fe0b-0\tP10\tP2302\tQ21510851\tnormal\twikibase-item\r\n",
      "P10-P2302-Q21510852-dde2f0ce-0\tP10\tP2302\tQ21510852\tnormal\twikibase-item\r\n",
      "P10-P2302-Q52004125-d0288d06-0\tP10\tP2302\tQ52004125\tnormal\twikibase-item\r\n",
      "P10-P2302-Q53869507-974ce3b1-0\tP10\tP2302\tQ53869507\tnormal\twikibase-item\r\n",
      "P1000-P2302-Q21510856-b2772a67-0\tP1000\tP2302\tQ21510856\tnormal\twikibase-item\r\n",
      "P1000-P2302-Q21510865-1f5093e9-0\tP1000\tP2302\tQ21510865\tnormal\twikibase-item\r\n",
      "P1000-P2302-Q53869507-36dbee67-0\tP1000\tP2302\tQ53869507\tnormal\twikibase-item\r\n",
      "P1001-P2302-Q21502838-3cc7ade2-0\tP1001\tP2302\tQ21502838\tnormal\twikibase-item\r\n"
     ]
    }
   ],
   "source": [
    "!head ../../allConstraintsAnalysis/codependencyConstraint_Final/Mand_Sugg_Normal/claims.P2302.incorrect.tsv"
   ]
  },
  {
   "cell_type": "code",
   "execution_count": 59,
   "id": "demonstrated-debut",
   "metadata": {
    "scrolled": false
   },
   "outputs": [
    {
     "data": {
      "text/html": [
       "<div>\n",
       "<style scoped>\n",
       "    .dataframe tbody tr th:only-of-type {\n",
       "        vertical-align: middle;\n",
       "    }\n",
       "\n",
       "    .dataframe tbody tr th {\n",
       "        vertical-align: top;\n",
       "    }\n",
       "\n",
       "    .dataframe thead th {\n",
       "        text-align: right;\n",
       "    }\n",
       "</style>\n",
       "<table border=\"1\" class=\"dataframe\">\n",
       "  <thead>\n",
       "    <tr style=\"text-align: right;\">\n",
       "      <th></th>\n",
       "      <th>correct</th>\n",
       "      <th>incorrect</th>\n",
       "      <th>paths</th>\n",
       "      <th>violation_ratio</th>\n",
       "    </tr>\n",
       "  </thead>\n",
       "  <tbody>\n",
       "    <tr>\n",
       "      <th>P2214</th>\n",
       "      <td>2962988</td>\n",
       "      <td>711699</td>\n",
       "      <td>[../../allConstraintsAnalysis/codependencyCons...</td>\n",
       "      <td>0.193676</td>\n",
       "    </tr>\n",
       "    <tr>\n",
       "      <th>P734</th>\n",
       "      <td>2001246</td>\n",
       "      <td>704728</td>\n",
       "      <td>[../../allConstraintsAnalysis/codependencyCons...</td>\n",
       "      <td>0.260434</td>\n",
       "    </tr>\n",
       "    <tr>\n",
       "      <th>P433</th>\n",
       "      <td>31028893</td>\n",
       "      <td>435483</td>\n",
       "      <td>[../../allConstraintsAnalysis/codependencyCons...</td>\n",
       "      <td>0.013841</td>\n",
       "    </tr>\n",
       "    <tr>\n",
       "      <th>P195</th>\n",
       "      <td>1132062</td>\n",
       "      <td>384602</td>\n",
       "      <td>[../../allConstraintsAnalysis/codependencyCons...</td>\n",
       "      <td>0.253584</td>\n",
       "    </tr>\n",
       "    <tr>\n",
       "      <th>P569</th>\n",
       "      <td>4646728</td>\n",
       "      <td>241105</td>\n",
       "      <td>[../../allConstraintsAnalysis/codependencyCons...</td>\n",
       "      <td>0.049328</td>\n",
       "    </tr>\n",
       "    <tr>\n",
       "      <th>P131</th>\n",
       "      <td>10056935</td>\n",
       "      <td>198870</td>\n",
       "      <td>[../../allConstraintsAnalysis/codependencyCons...</td>\n",
       "      <td>0.019391</td>\n",
       "    </tr>\n",
       "    <tr>\n",
       "      <th>P275</th>\n",
       "      <td>5955</td>\n",
       "      <td>123578</td>\n",
       "      <td>[../../allConstraintsAnalysis/codependencyCons...</td>\n",
       "      <td>0.954027</td>\n",
       "    </tr>\n",
       "    <tr>\n",
       "      <th>P2860</th>\n",
       "      <td>174402886</td>\n",
       "      <td>114713</td>\n",
       "      <td>[../../allConstraintsAnalysis/codependencyCons...</td>\n",
       "      <td>0.000657</td>\n",
       "    </tr>\n",
       "    <tr>\n",
       "      <th>P570</th>\n",
       "      <td>2332611</td>\n",
       "      <td>94455</td>\n",
       "      <td>[../../allConstraintsAnalysis/codependencyCons...</td>\n",
       "      <td>0.038917</td>\n",
       "    </tr>\n",
       "    <tr>\n",
       "      <th>P2017</th>\n",
       "      <td>84792</td>\n",
       "      <td>90131</td>\n",
       "      <td>[../../allConstraintsAnalysis/codependencyCons...</td>\n",
       "      <td>0.515261</td>\n",
       "    </tr>\n",
       "    <tr>\n",
       "      <th>P1435</th>\n",
       "      <td>1893874</td>\n",
       "      <td>79479</td>\n",
       "      <td>[../../allConstraintsAnalysis/codependencyCons...</td>\n",
       "      <td>0.040276</td>\n",
       "    </tr>\n",
       "    <tr>\n",
       "      <th>P1922</th>\n",
       "      <td>30451</td>\n",
       "      <td>63440</td>\n",
       "      <td>[../../allConstraintsAnalysis/codependencyCons...</td>\n",
       "      <td>0.675677</td>\n",
       "    </tr>\n",
       "    <tr>\n",
       "      <th>P708</th>\n",
       "      <td>45253</td>\n",
       "      <td>54258</td>\n",
       "      <td>[../../allConstraintsAnalysis/codependencyCons...</td>\n",
       "      <td>0.545246</td>\n",
       "    </tr>\n",
       "    <tr>\n",
       "      <th>P197</th>\n",
       "      <td>117522</td>\n",
       "      <td>49904</td>\n",
       "      <td>[../../allConstraintsAnalysis/codependencyCons...</td>\n",
       "      <td>0.298066</td>\n",
       "    </tr>\n",
       "    <tr>\n",
       "      <th>P1598</th>\n",
       "      <td>36544</td>\n",
       "      <td>46915</td>\n",
       "      <td>[../../allConstraintsAnalysis/codependencyCons...</td>\n",
       "      <td>0.562132</td>\n",
       "    </tr>\n",
       "  </tbody>\n",
       "</table>\n",
       "</div>"
      ],
      "text/plain": [
       "         correct incorrect                                              paths  \\\n",
       "P2214    2962988    711699  [../../allConstraintsAnalysis/codependencyCons...   \n",
       "P734     2001246    704728  [../../allConstraintsAnalysis/codependencyCons...   \n",
       "P433    31028893    435483  [../../allConstraintsAnalysis/codependencyCons...   \n",
       "P195     1132062    384602  [../../allConstraintsAnalysis/codependencyCons...   \n",
       "P569     4646728    241105  [../../allConstraintsAnalysis/codependencyCons...   \n",
       "P131    10056935    198870  [../../allConstraintsAnalysis/codependencyCons...   \n",
       "P275        5955    123578  [../../allConstraintsAnalysis/codependencyCons...   \n",
       "P2860  174402886    114713  [../../allConstraintsAnalysis/codependencyCons...   \n",
       "P570     2332611     94455  [../../allConstraintsAnalysis/codependencyCons...   \n",
       "P2017      84792     90131  [../../allConstraintsAnalysis/codependencyCons...   \n",
       "P1435    1893874     79479  [../../allConstraintsAnalysis/codependencyCons...   \n",
       "P1922      30451     63440  [../../allConstraintsAnalysis/codependencyCons...   \n",
       "P708       45253     54258  [../../allConstraintsAnalysis/codependencyCons...   \n",
       "P197      117522     49904  [../../allConstraintsAnalysis/codependencyCons...   \n",
       "P1598      36544     46915  [../../allConstraintsAnalysis/codependencyCons...   \n",
       "\n",
       "       violation_ratio  \n",
       "P2214         0.193676  \n",
       "P734          0.260434  \n",
       "P433          0.013841  \n",
       "P195          0.253584  \n",
       "P569          0.049328  \n",
       "P131          0.019391  \n",
       "P275          0.954027  \n",
       "P2860         0.000657  \n",
       "P570          0.038917  \n",
       "P2017         0.515261  \n",
       "P1435         0.040276  \n",
       "P1922         0.675677  \n",
       "P708          0.545246  \n",
       "P197          0.298066  \n",
       "P1598         0.562132  "
      ]
     },
     "execution_count": 59,
     "metadata": {},
     "output_type": "execute_result"
    }
   ],
   "source": [
    "codepConstDF1.sort_values(by=['incorrect'],ascending=False).head(15)"
   ]
  },
  {
   "cell_type": "code",
   "execution_count": 60,
   "id": "developed-zimbabwe",
   "metadata": {
    "scrolled": true
   },
   "outputs": [
    {
     "data": {
      "text/plain": [
       "count    527.000000\n",
       "mean       0.206083\n",
       "std        0.305674\n",
       "min        0.000000\n",
       "25%        0.000929\n",
       "50%        0.032847\n",
       "75%        0.298101\n",
       "max        1.000000\n",
       "Name: violation_ratio, dtype: float64"
      ]
     },
     "execution_count": 60,
     "metadata": {},
     "output_type": "execute_result"
    }
   ],
   "source": [
    "codepConstDF1['violation_ratio'].describe()"
   ]
  },
  {
   "cell_type": "code",
   "execution_count": 61,
   "id": "unknown-johnston",
   "metadata": {},
   "outputs": [
    {
     "data": {
      "text/plain": [
       "Text(0.5, 1.0, 'Co-Dependency Constraint - Version 1 - Violation Ratios')"
      ]
     },
     "execution_count": 61,
     "metadata": {},
     "output_type": "execute_result"
    },
    {
     "data": {
      "image/png": "[encoded data removed]",
      "text/plain": [
       "<Figure size 432x288 with 1 Axes>"
      ]
     },
     "metadata": {
      "needs_background": "light"
     },
     "output_type": "display_data"
    }
   ],
   "source": [
    "codepConstDF1['violation_ratio'].plot.hist(bins=100).set_title(\"Co-Dependency Constraint - Version 1 - Violation Ratios\")"
   ]
  },
  {
   "cell_type": "code",
   "execution_count": 62,
   "id": "exceptional-dakota",
   "metadata": {
    "scrolled": true
   },
   "outputs": [
    {
     "data": {
      "text/plain": [
       "Text(0.5, 1.0, 'Co-Dependency Constraint - Version 1 - Violation Ratios <= 0.5')"
      ]
     },
     "execution_count": 62,
     "metadata": {},
     "output_type": "execute_result"
    },
    {
     "data": {
      "image/png": "[encoded data removed]",
      "text/plain": [
       "<Figure size 432x288 with 1 Axes>"
      ]
     },
     "metadata": {
      "needs_background": "light"
     },
     "output_type": "display_data"
    }
   ],
   "source": [
    "codepConstDF1[codepConstDF1['violation_ratio'] <= 0.5].violation_ratio.plot.hist(bins=100).set_title(\"Co-Dependency Constraint - Version 1 - Violation Ratios <= 0.5\")"
   ]
  },
  {
   "cell_type": "code",
   "execution_count": 63,
   "id": "interior-joseph",
   "metadata": {},
   "outputs": [
    {
     "name": "stdout",
     "output_type": "stream",
     "text": [
      "No. of properties whose violation ratio is greater than mean: 0/527\n"
     ]
    }
   ],
   "source": [
    "print(f\"No. of properties whose violation ratio is greater than mean: {sum(codepConstDF1['violation_ratio'] >= 3.539484)}/{len(codepConstDF1)}\")"
   ]
  },
  {
   "cell_type": "code",
   "execution_count": 64,
   "id": "compound-prefix",
   "metadata": {},
   "outputs": [],
   "source": [
    "codepConstDF1.to_csv('../../allConstraintsAnalysis/codepConstDFAnalysis.csv')"
   ]
  },
  {
   "cell_type": "markdown",
   "id": "greater-genetics",
   "metadata": {},
   "source": [
    "#### Version 2 - Mand Normal"
   ]
  },
  {
   "cell_type": "code",
   "execution_count": 179,
   "id": "constant-chance",
   "metadata": {},
   "outputs": [],
   "source": [
    "import pandas as pd\n",
    "codepConstDF2 = pd.DataFrame(codepConstViolations['Mand_Normal']).T"
   ]
  },
  {
   "cell_type": "code",
   "execution_count": 180,
   "id": "included-adjustment",
   "metadata": {},
   "outputs": [
    {
     "data": {
      "text/html": [
       "<div>\n",
       "<style scoped>\n",
       "    .dataframe tbody tr th:only-of-type {\n",
       "        vertical-align: middle;\n",
       "    }\n",
       "\n",
       "    .dataframe tbody tr th {\n",
       "        vertical-align: top;\n",
       "    }\n",
       "\n",
       "    .dataframe thead th {\n",
       "        text-align: right;\n",
       "    }\n",
       "</style>\n",
       "<table border=\"1\" class=\"dataframe\">\n",
       "  <thead>\n",
       "    <tr style=\"text-align: right;\">\n",
       "      <th></th>\n",
       "      <th>correct</th>\n",
       "      <th>incorrect</th>\n",
       "      <th>paths</th>\n",
       "    </tr>\n",
       "  </thead>\n",
       "  <tbody>\n",
       "    <tr>\n",
       "      <th>P1196</th>\n",
       "      <td>85037</td>\n",
       "      <td>3039</td>\n",
       "      <td>[../../allConstraintsAnalysis/codependencyCons...</td>\n",
       "    </tr>\n",
       "    <tr>\n",
       "      <th>P1383</th>\n",
       "      <td>31726</td>\n",
       "      <td>41</td>\n",
       "      <td>[../../allConstraintsAnalysis/codependencyCons...</td>\n",
       "    </tr>\n",
       "    <tr>\n",
       "      <th>P1018</th>\n",
       "      <td>156</td>\n",
       "      <td>28</td>\n",
       "      <td>[../../allConstraintsAnalysis/codependencyCons...</td>\n",
       "    </tr>\n",
       "    <tr>\n",
       "      <th>P1538</th>\n",
       "      <td>194334</td>\n",
       "      <td>152</td>\n",
       "      <td>[../../allConstraintsAnalysis/codependencyCons...</td>\n",
       "    </tr>\n",
       "    <tr>\n",
       "      <th>P1685</th>\n",
       "      <td>4321</td>\n",
       "      <td>0</td>\n",
       "      <td>[../../allConstraintsAnalysis/codependencyCons...</td>\n",
       "    </tr>\n",
       "    <tr>\n",
       "      <th>...</th>\n",
       "      <td>...</td>\n",
       "      <td>...</td>\n",
       "      <td>...</td>\n",
       "    </tr>\n",
       "    <tr>\n",
       "      <th>P2962</th>\n",
       "      <td>26803</td>\n",
       "      <td>2</td>\n",
       "      <td>[../../allConstraintsAnalysis/codependencyCons...</td>\n",
       "    </tr>\n",
       "    <tr>\n",
       "      <th>P183</th>\n",
       "      <td>19026</td>\n",
       "      <td>140</td>\n",
       "      <td>[../../allConstraintsAnalysis/codependencyCons...</td>\n",
       "    </tr>\n",
       "    <tr>\n",
       "      <th>P1999</th>\n",
       "      <td>2403</td>\n",
       "      <td>0</td>\n",
       "      <td>[../../allConstraintsAnalysis/codependencyCons...</td>\n",
       "    </tr>\n",
       "    <tr>\n",
       "      <th>P2009</th>\n",
       "      <td>1019</td>\n",
       "      <td>15</td>\n",
       "      <td>[../../allConstraintsAnalysis/codependencyCons...</td>\n",
       "    </tr>\n",
       "    <tr>\n",
       "      <th>P1376</th>\n",
       "      <td>79449</td>\n",
       "      <td>106</td>\n",
       "      <td>[../../allConstraintsAnalysis/codependencyCons...</td>\n",
       "    </tr>\n",
       "  </tbody>\n",
       "</table>\n",
       "<p>468 rows × 3 columns</p>\n",
       "</div>"
      ],
      "text/plain": [
       "      correct incorrect                                              paths\n",
       "P1196   85037      3039  [../../allConstraintsAnalysis/codependencyCons...\n",
       "P1383   31726        41  [../../allConstraintsAnalysis/codependencyCons...\n",
       "P1018     156        28  [../../allConstraintsAnalysis/codependencyCons...\n",
       "P1538  194334       152  [../../allConstraintsAnalysis/codependencyCons...\n",
       "P1685    4321         0  [../../allConstraintsAnalysis/codependencyCons...\n",
       "...       ...       ...                                                ...\n",
       "P2962   26803         2  [../../allConstraintsAnalysis/codependencyCons...\n",
       "P183    19026       140  [../../allConstraintsAnalysis/codependencyCons...\n",
       "P1999    2403         0  [../../allConstraintsAnalysis/codependencyCons...\n",
       "P2009    1019        15  [../../allConstraintsAnalysis/codependencyCons...\n",
       "P1376   79449       106  [../../allConstraintsAnalysis/codependencyCons...\n",
       "\n",
       "[468 rows x 3 columns]"
      ]
     },
     "execution_count": 180,
     "metadata": {},
     "output_type": "execute_result"
    }
   ],
   "source": [
    "codepConstDF2"
   ]
  },
  {
   "cell_type": "code",
   "execution_count": 181,
   "id": "fundamental-knowing",
   "metadata": {},
   "outputs": [],
   "source": [
    "codepConstDF2['violation_ratio'] = codepConstDF2.apply(lambda p: p.incorrect / (p.correct + p.incorrect), axis=1)"
   ]
  },
  {
   "cell_type": "code",
   "execution_count": 182,
   "id": "harmful-discipline",
   "metadata": {},
   "outputs": [
    {
     "data": {
      "text/html": [
       "<div>\n",
       "<style scoped>\n",
       "    .dataframe tbody tr th:only-of-type {\n",
       "        vertical-align: middle;\n",
       "    }\n",
       "\n",
       "    .dataframe tbody tr th {\n",
       "        vertical-align: top;\n",
       "    }\n",
       "\n",
       "    .dataframe thead th {\n",
       "        text-align: right;\n",
       "    }\n",
       "</style>\n",
       "<table border=\"1\" class=\"dataframe\">\n",
       "  <thead>\n",
       "    <tr style=\"text-align: right;\">\n",
       "      <th></th>\n",
       "      <th>correct</th>\n",
       "      <th>incorrect</th>\n",
       "      <th>paths</th>\n",
       "      <th>violation_ratio</th>\n",
       "    </tr>\n",
       "  </thead>\n",
       "  <tbody>\n",
       "    <tr>\n",
       "      <th>P2307</th>\n",
       "      <td>0</td>\n",
       "      <td>1</td>\n",
       "      <td>[../../allConstraintsAnalysis/codependencyCons...</td>\n",
       "      <td>1.0</td>\n",
       "    </tr>\n",
       "    <tr>\n",
       "      <th>P1111</th>\n",
       "      <td>0</td>\n",
       "      <td>46327</td>\n",
       "      <td>[../../allConstraintsAnalysis/codependencyCons...</td>\n",
       "      <td>1.0</td>\n",
       "    </tr>\n",
       "    <tr>\n",
       "      <th>P7569</th>\n",
       "      <td>0</td>\n",
       "      <td>8</td>\n",
       "      <td>[../../allConstraintsAnalysis/codependencyCons...</td>\n",
       "      <td>1.0</td>\n",
       "    </tr>\n",
       "    <tr>\n",
       "      <th>P2916</th>\n",
       "      <td>0</td>\n",
       "      <td>1</td>\n",
       "      <td>[../../allConstraintsAnalysis/codependencyCons...</td>\n",
       "      <td>1.0</td>\n",
       "    </tr>\n",
       "    <tr>\n",
       "      <th>P2309</th>\n",
       "      <td>0</td>\n",
       "      <td>1</td>\n",
       "      <td>[../../allConstraintsAnalysis/codependencyCons...</td>\n",
       "      <td>1.0</td>\n",
       "    </tr>\n",
       "    <tr>\n",
       "      <th>P7903</th>\n",
       "      <td>0</td>\n",
       "      <td>7</td>\n",
       "      <td>[../../allConstraintsAnalysis/codependencyCons...</td>\n",
       "      <td>1.0</td>\n",
       "    </tr>\n",
       "    <tr>\n",
       "      <th>P5447</th>\n",
       "      <td>0</td>\n",
       "      <td>23</td>\n",
       "      <td>[../../allConstraintsAnalysis/codependencyCons...</td>\n",
       "      <td>1.0</td>\n",
       "    </tr>\n",
       "    <tr>\n",
       "      <th>P2311</th>\n",
       "      <td>0</td>\n",
       "      <td>1</td>\n",
       "      <td>[../../allConstraintsAnalysis/codependencyCons...</td>\n",
       "      <td>1.0</td>\n",
       "    </tr>\n",
       "    <tr>\n",
       "      <th>P2433</th>\n",
       "      <td>0</td>\n",
       "      <td>1</td>\n",
       "      <td>[../../allConstraintsAnalysis/codependencyCons...</td>\n",
       "      <td>1.0</td>\n",
       "    </tr>\n",
       "    <tr>\n",
       "      <th>P2313</th>\n",
       "      <td>0</td>\n",
       "      <td>1</td>\n",
       "      <td>[../../allConstraintsAnalysis/codependencyCons...</td>\n",
       "      <td>1.0</td>\n",
       "    </tr>\n",
       "    <tr>\n",
       "      <th>P5448</th>\n",
       "      <td>0</td>\n",
       "      <td>23</td>\n",
       "      <td>[../../allConstraintsAnalysis/codependencyCons...</td>\n",
       "      <td>1.0</td>\n",
       "    </tr>\n",
       "    <tr>\n",
       "      <th>P2308</th>\n",
       "      <td>0</td>\n",
       "      <td>17</td>\n",
       "      <td>[../../allConstraintsAnalysis/codependencyCons...</td>\n",
       "      <td>1.0</td>\n",
       "    </tr>\n",
       "    <tr>\n",
       "      <th>P2303</th>\n",
       "      <td>0</td>\n",
       "      <td>39</td>\n",
       "      <td>[../../allConstraintsAnalysis/codependencyCons...</td>\n",
       "      <td>1.0</td>\n",
       "    </tr>\n",
       "    <tr>\n",
       "      <th>P2306</th>\n",
       "      <td>0</td>\n",
       "      <td>3</td>\n",
       "      <td>[../../allConstraintsAnalysis/codependencyCons...</td>\n",
       "      <td>1.0</td>\n",
       "    </tr>\n",
       "    <tr>\n",
       "      <th>P2312</th>\n",
       "      <td>0</td>\n",
       "      <td>1</td>\n",
       "      <td>[../../allConstraintsAnalysis/codependencyCons...</td>\n",
       "      <td>1.0</td>\n",
       "    </tr>\n",
       "  </tbody>\n",
       "</table>\n",
       "</div>"
      ],
      "text/plain": [
       "      correct incorrect                                              paths  \\\n",
       "P2307       0         1  [../../allConstraintsAnalysis/codependencyCons...   \n",
       "P1111       0     46327  [../../allConstraintsAnalysis/codependencyCons...   \n",
       "P7569       0         8  [../../allConstraintsAnalysis/codependencyCons...   \n",
       "P2916       0         1  [../../allConstraintsAnalysis/codependencyCons...   \n",
       "P2309       0         1  [../../allConstraintsAnalysis/codependencyCons...   \n",
       "P7903       0         7  [../../allConstraintsAnalysis/codependencyCons...   \n",
       "P5447       0        23  [../../allConstraintsAnalysis/codependencyCons...   \n",
       "P2311       0         1  [../../allConstraintsAnalysis/codependencyCons...   \n",
       "P2433       0         1  [../../allConstraintsAnalysis/codependencyCons...   \n",
       "P2313       0         1  [../../allConstraintsAnalysis/codependencyCons...   \n",
       "P5448       0        23  [../../allConstraintsAnalysis/codependencyCons...   \n",
       "P2308       0        17  [../../allConstraintsAnalysis/codependencyCons...   \n",
       "P2303       0        39  [../../allConstraintsAnalysis/codependencyCons...   \n",
       "P2306       0         3  [../../allConstraintsAnalysis/codependencyCons...   \n",
       "P2312       0         1  [../../allConstraintsAnalysis/codependencyCons...   \n",
       "\n",
       "       violation_ratio  \n",
       "P2307              1.0  \n",
       "P1111              1.0  \n",
       "P7569              1.0  \n",
       "P2916              1.0  \n",
       "P2309              1.0  \n",
       "P7903              1.0  \n",
       "P5447              1.0  \n",
       "P2311              1.0  \n",
       "P2433              1.0  \n",
       "P2313              1.0  \n",
       "P5448              1.0  \n",
       "P2308              1.0  \n",
       "P2303              1.0  \n",
       "P2306              1.0  \n",
       "P2312              1.0  "
      ]
     },
     "execution_count": 182,
     "metadata": {},
     "output_type": "execute_result"
    }
   ],
   "source": [
    "codepConstDF2.sort_values(by=['violation_ratio'],ascending=False).head(15)"
   ]
  },
  {
   "cell_type": "code",
   "execution_count": 183,
   "id": "unlikely-chamber",
   "metadata": {
    "scrolled": false
   },
   "outputs": [
    {
     "data": {
      "text/html": [
       "<div>\n",
       "<style scoped>\n",
       "    .dataframe tbody tr th:only-of-type {\n",
       "        vertical-align: middle;\n",
       "    }\n",
       "\n",
       "    .dataframe tbody tr th {\n",
       "        vertical-align: top;\n",
       "    }\n",
       "\n",
       "    .dataframe thead th {\n",
       "        text-align: right;\n",
       "    }\n",
       "</style>\n",
       "<table border=\"1\" class=\"dataframe\">\n",
       "  <thead>\n",
       "    <tr style=\"text-align: right;\">\n",
       "      <th></th>\n",
       "      <th>correct</th>\n",
       "      <th>incorrect</th>\n",
       "      <th>paths</th>\n",
       "      <th>violation_ratio</th>\n",
       "    </tr>\n",
       "  </thead>\n",
       "  <tbody>\n",
       "    <tr>\n",
       "      <th>P2214</th>\n",
       "      <td>2962988</td>\n",
       "      <td>711699</td>\n",
       "      <td>[../../allConstraintsAnalysis/codependencyCons...</td>\n",
       "      <td>0.193676</td>\n",
       "    </tr>\n",
       "    <tr>\n",
       "      <th>P433</th>\n",
       "      <td>31028893</td>\n",
       "      <td>435483</td>\n",
       "      <td>[../../allConstraintsAnalysis/codependencyCons...</td>\n",
       "      <td>0.013841</td>\n",
       "    </tr>\n",
       "    <tr>\n",
       "      <th>P275</th>\n",
       "      <td>5955</td>\n",
       "      <td>123578</td>\n",
       "      <td>[../../allConstraintsAnalysis/codependencyCons...</td>\n",
       "      <td>0.954027</td>\n",
       "    </tr>\n",
       "    <tr>\n",
       "      <th>P2860</th>\n",
       "      <td>174402886</td>\n",
       "      <td>114713</td>\n",
       "      <td>[../../allConstraintsAnalysis/codependencyCons...</td>\n",
       "      <td>0.000657</td>\n",
       "    </tr>\n",
       "    <tr>\n",
       "      <th>P1435</th>\n",
       "      <td>1893874</td>\n",
       "      <td>79479</td>\n",
       "      <td>[../../allConstraintsAnalysis/codependencyCons...</td>\n",
       "      <td>0.040276</td>\n",
       "    </tr>\n",
       "    <tr>\n",
       "      <th>P708</th>\n",
       "      <td>45253</td>\n",
       "      <td>54258</td>\n",
       "      <td>[../../allConstraintsAnalysis/codependencyCons...</td>\n",
       "      <td>0.545246</td>\n",
       "    </tr>\n",
       "    <tr>\n",
       "      <th>P197</th>\n",
       "      <td>117522</td>\n",
       "      <td>49904</td>\n",
       "      <td>[../../allConstraintsAnalysis/codependencyCons...</td>\n",
       "      <td>0.298066</td>\n",
       "    </tr>\n",
       "    <tr>\n",
       "      <th>P1598</th>\n",
       "      <td>36978</td>\n",
       "      <td>46481</td>\n",
       "      <td>[../../allConstraintsAnalysis/codependencyCons...</td>\n",
       "      <td>0.556932</td>\n",
       "    </tr>\n",
       "    <tr>\n",
       "      <th>P1111</th>\n",
       "      <td>0</td>\n",
       "      <td>46327</td>\n",
       "      <td>[../../allConstraintsAnalysis/codependencyCons...</td>\n",
       "      <td>1.000000</td>\n",
       "    </tr>\n",
       "    <tr>\n",
       "      <th>P2248</th>\n",
       "      <td>4020</td>\n",
       "      <td>41566</td>\n",
       "      <td>[../../allConstraintsAnalysis/codependencyCons...</td>\n",
       "      <td>0.911815</td>\n",
       "    </tr>\n",
       "    <tr>\n",
       "      <th>P2325</th>\n",
       "      <td>4071</td>\n",
       "      <td>40611</td>\n",
       "      <td>[../../allConstraintsAnalysis/codependencyCons...</td>\n",
       "      <td>0.908889</td>\n",
       "    </tr>\n",
       "    <tr>\n",
       "      <th>P856</th>\n",
       "      <td>1239292</td>\n",
       "      <td>38026</td>\n",
       "      <td>[../../allConstraintsAnalysis/codependencyCons...</td>\n",
       "      <td>0.029770</td>\n",
       "    </tr>\n",
       "    <tr>\n",
       "      <th>P2243</th>\n",
       "      <td>4025</td>\n",
       "      <td>36540</td>\n",
       "      <td>[../../allConstraintsAnalysis/codependencyCons...</td>\n",
       "      <td>0.900777</td>\n",
       "    </tr>\n",
       "    <tr>\n",
       "      <th>P2244</th>\n",
       "      <td>4027</td>\n",
       "      <td>36527</td>\n",
       "      <td>[../../allConstraintsAnalysis/codependencyCons...</td>\n",
       "      <td>0.900700</td>\n",
       "    </tr>\n",
       "    <tr>\n",
       "      <th>P413</th>\n",
       "      <td>357793</td>\n",
       "      <td>33607</td>\n",
       "      <td>[../../allConstraintsAnalysis/codependencyCons...</td>\n",
       "      <td>0.085864</td>\n",
       "    </tr>\n",
       "  </tbody>\n",
       "</table>\n",
       "</div>"
      ],
      "text/plain": [
       "         correct incorrect                                              paths  \\\n",
       "P2214    2962988    711699  [../../allConstraintsAnalysis/codependencyCons...   \n",
       "P433    31028893    435483  [../../allConstraintsAnalysis/codependencyCons...   \n",
       "P275        5955    123578  [../../allConstraintsAnalysis/codependencyCons...   \n",
       "P2860  174402886    114713  [../../allConstraintsAnalysis/codependencyCons...   \n",
       "P1435    1893874     79479  [../../allConstraintsAnalysis/codependencyCons...   \n",
       "P708       45253     54258  [../../allConstraintsAnalysis/codependencyCons...   \n",
       "P197      117522     49904  [../../allConstraintsAnalysis/codependencyCons...   \n",
       "P1598      36978     46481  [../../allConstraintsAnalysis/codependencyCons...   \n",
       "P1111          0     46327  [../../allConstraintsAnalysis/codependencyCons...   \n",
       "P2248       4020     41566  [../../allConstraintsAnalysis/codependencyCons...   \n",
       "P2325       4071     40611  [../../allConstraintsAnalysis/codependencyCons...   \n",
       "P856     1239292     38026  [../../allConstraintsAnalysis/codependencyCons...   \n",
       "P2243       4025     36540  [../../allConstraintsAnalysis/codependencyCons...   \n",
       "P2244       4027     36527  [../../allConstraintsAnalysis/codependencyCons...   \n",
       "P413      357793     33607  [../../allConstraintsAnalysis/codependencyCons...   \n",
       "\n",
       "       violation_ratio  \n",
       "P2214         0.193676  \n",
       "P433          0.013841  \n",
       "P275          0.954027  \n",
       "P2860         0.000657  \n",
       "P1435         0.040276  \n",
       "P708          0.545246  \n",
       "P197          0.298066  \n",
       "P1598         0.556932  \n",
       "P1111         1.000000  \n",
       "P2248         0.911815  \n",
       "P2325         0.908889  \n",
       "P856          0.029770  \n",
       "P2243         0.900777  \n",
       "P2244         0.900700  \n",
       "P413          0.085864  "
      ]
     },
     "execution_count": 183,
     "metadata": {},
     "output_type": "execute_result"
    }
   ],
   "source": [
    "codepConstDF2.sort_values(by=['incorrect'],ascending=False).head(15)"
   ]
  },
  {
   "cell_type": "code",
   "execution_count": 184,
   "id": "violent-match",
   "metadata": {
    "scrolled": true
   },
   "outputs": [
    {
     "data": {
      "text/plain": [
       "count    468.000000\n",
       "mean       0.169189\n",
       "std        0.285155\n",
       "min        0.000000\n",
       "25%        0.000663\n",
       "50%        0.016656\n",
       "75%        0.193986\n",
       "max        1.000000\n",
       "Name: violation_ratio, dtype: float64"
      ]
     },
     "execution_count": 184,
     "metadata": {},
     "output_type": "execute_result"
    }
   ],
   "source": [
    "codepConstDF2['violation_ratio'].describe()"
   ]
  },
  {
   "cell_type": "code",
   "execution_count": 185,
   "id": "educational-thickness",
   "metadata": {},
   "outputs": [
    {
     "data": {
      "text/plain": [
       "Text(0.5, 1.0, 'Co-Dependency Constraint - Version 2 - Violation Ratios')"
      ]
     },
     "execution_count": 185,
     "metadata": {},
     "output_type": "execute_result"
    },
    {
     "data": {
      "image/png": "[encoded data removed]",
      "text/plain": [
       "<Figure size 432x288 with 1 Axes>"
      ]
     },
     "metadata": {
      "needs_background": "light"
     },
     "output_type": "display_data"
    }
   ],
   "source": [
    "codepConstDF2['violation_ratio'].plot.hist(bins=100).set_title(\"Co-Dependency Constraint - Version 2 - Violation Ratios\")"
   ]
  },
  {
   "cell_type": "code",
   "execution_count": 186,
   "id": "latin-mitchell",
   "metadata": {
    "scrolled": true
   },
   "outputs": [
    {
     "data": {
      "text/plain": [
       "Text(0.5, 1.0, 'Co-Dependency Constraint - Version 2 - Violation Ratios <= 0.5')"
      ]
     },
     "execution_count": 186,
     "metadata": {},
     "output_type": "execute_result"
    },
    {
     "data": {
      "image/png": "[encoded data removed]",
      "text/plain": [
       "<Figure size 432x288 with 1 Axes>"
      ]
     },
     "metadata": {
      "needs_background": "light"
     },
     "output_type": "display_data"
    }
   ],
   "source": [
    "codepConstDF2[codepConstDF2['violation_ratio'] <= 0.5].violation_ratio.plot.hist(bins=100).set_title(\"Co-Dependency Constraint - Version 2 - Violation Ratios <= 0.5\")"
   ]
  },
  {
   "cell_type": "code",
   "execution_count": 187,
   "id": "asian-forwarding",
   "metadata": {},
   "outputs": [
    {
     "name": "stdout",
     "output_type": "stream",
     "text": [
      "No. of properties whose violation ratio is greater than mean: 0/468\n"
     ]
    }
   ],
   "source": [
    "print(f\"No. of properties whose violation ratio is greater than mean: {sum(codepConstDF2['violation_ratio'] >= 2.290915)}/{len(codepConstDF2)}\")"
   ]
  },
  {
   "cell_type": "markdown",
   "id": "destroyed-flash",
   "metadata": {},
   "source": [
    "#### Version 3 - Mand"
   ]
  },
  {
   "cell_type": "code",
   "execution_count": 188,
   "id": "consecutive-plenty",
   "metadata": {},
   "outputs": [],
   "source": [
    "import pandas as pd\n",
    "codepConstDF3 = pd.DataFrame(codepConstViolations['Mand']).T"
   ]
  },
  {
   "cell_type": "code",
   "execution_count": 189,
   "id": "digital-mileage",
   "metadata": {},
   "outputs": [
    {
     "data": {
      "text/html": [
       "<div>\n",
       "<style scoped>\n",
       "    .dataframe tbody tr th:only-of-type {\n",
       "        vertical-align: middle;\n",
       "    }\n",
       "\n",
       "    .dataframe tbody tr th {\n",
       "        vertical-align: top;\n",
       "    }\n",
       "\n",
       "    .dataframe thead th {\n",
       "        text-align: right;\n",
       "    }\n",
       "</style>\n",
       "<table border=\"1\" class=\"dataframe\">\n",
       "  <thead>\n",
       "    <tr style=\"text-align: right;\">\n",
       "      <th></th>\n",
       "      <th>correct</th>\n",
       "      <th>incorrect</th>\n",
       "      <th>paths</th>\n",
       "    </tr>\n",
       "  </thead>\n",
       "  <tbody>\n",
       "    <tr>\n",
       "      <th>P1081</th>\n",
       "      <td>12300</td>\n",
       "      <td>0</td>\n",
       "      <td>[../../allConstraintsAnalysis/codependencyCons...</td>\n",
       "    </tr>\n",
       "    <tr>\n",
       "      <th>P2021</th>\n",
       "      <td>2303</td>\n",
       "      <td>1</td>\n",
       "      <td>[../../allConstraintsAnalysis/codependencyCons...</td>\n",
       "    </tr>\n",
       "    <tr>\n",
       "      <th>P3744</th>\n",
       "      <td>311</td>\n",
       "      <td>0</td>\n",
       "      <td>[../../allConstraintsAnalysis/codependencyCons...</td>\n",
       "    </tr>\n",
       "    <tr>\n",
       "      <th>P5982</th>\n",
       "      <td>1326</td>\n",
       "      <td>0</td>\n",
       "      <td>[../../allConstraintsAnalysis/codependencyCons...</td>\n",
       "    </tr>\n",
       "    <tr>\n",
       "      <th>P3815</th>\n",
       "      <td>580</td>\n",
       "      <td>0</td>\n",
       "      <td>[../../allConstraintsAnalysis/codependencyCons...</td>\n",
       "    </tr>\n",
       "    <tr>\n",
       "      <th>...</th>\n",
       "      <td>...</td>\n",
       "      <td>...</td>\n",
       "      <td>...</td>\n",
       "    </tr>\n",
       "    <tr>\n",
       "      <th>P1879</th>\n",
       "      <td>1695</td>\n",
       "      <td>0</td>\n",
       "      <td>[../../allConstraintsAnalysis/codependencyCons...</td>\n",
       "    </tr>\n",
       "    <tr>\n",
       "      <th>P3648</th>\n",
       "      <td>7</td>\n",
       "      <td>0</td>\n",
       "      <td>[../../allConstraintsAnalysis/codependencyCons...</td>\n",
       "    </tr>\n",
       "    <tr>\n",
       "      <th>P197</th>\n",
       "      <td>167392</td>\n",
       "      <td>34</td>\n",
       "      <td>[../../allConstraintsAnalysis/codependencyCons...</td>\n",
       "    </tr>\n",
       "    <tr>\n",
       "      <th>P1990</th>\n",
       "      <td>7619</td>\n",
       "      <td>1</td>\n",
       "      <td>[../../allConstraintsAnalysis/codependencyCons...</td>\n",
       "    </tr>\n",
       "    <tr>\n",
       "      <th>P2009</th>\n",
       "      <td>1019</td>\n",
       "      <td>15</td>\n",
       "      <td>[../../allConstraintsAnalysis/codependencyCons...</td>\n",
       "    </tr>\n",
       "  </tbody>\n",
       "</table>\n",
       "<p>78 rows × 3 columns</p>\n",
       "</div>"
      ],
      "text/plain": [
       "      correct incorrect                                              paths\n",
       "P1081   12300         0  [../../allConstraintsAnalysis/codependencyCons...\n",
       "P2021    2303         1  [../../allConstraintsAnalysis/codependencyCons...\n",
       "P3744     311         0  [../../allConstraintsAnalysis/codependencyCons...\n",
       "P5982    1326         0  [../../allConstraintsAnalysis/codependencyCons...\n",
       "P3815     580         0  [../../allConstraintsAnalysis/codependencyCons...\n",
       "...       ...       ...                                                ...\n",
       "P1879    1695         0  [../../allConstraintsAnalysis/codependencyCons...\n",
       "P3648       7         0  [../../allConstraintsAnalysis/codependencyCons...\n",
       "P197   167392        34  [../../allConstraintsAnalysis/codependencyCons...\n",
       "P1990    7619         1  [../../allConstraintsAnalysis/codependencyCons...\n",
       "P2009    1019        15  [../../allConstraintsAnalysis/codependencyCons...\n",
       "\n",
       "[78 rows x 3 columns]"
      ]
     },
     "execution_count": 189,
     "metadata": {},
     "output_type": "execute_result"
    }
   ],
   "source": [
    "codepConstDF3"
   ]
  },
  {
   "cell_type": "code",
   "execution_count": 190,
   "id": "formed-battle",
   "metadata": {},
   "outputs": [],
   "source": [
    "codepConstDF3['violation_ratio'] = codepConstDF3.apply(lambda p: p.incorrect / p.correct if p.correct != 0 else p.incorrect/100, axis=1)"
   ]
  },
  {
   "cell_type": "code",
   "execution_count": 191,
   "id": "numerous-construction",
   "metadata": {},
   "outputs": [
    {
     "data": {
      "text/html": [
       "<div>\n",
       "<style scoped>\n",
       "    .dataframe tbody tr th:only-of-type {\n",
       "        vertical-align: middle;\n",
       "    }\n",
       "\n",
       "    .dataframe tbody tr th {\n",
       "        vertical-align: top;\n",
       "    }\n",
       "\n",
       "    .dataframe thead th {\n",
       "        text-align: right;\n",
       "    }\n",
       "</style>\n",
       "<table border=\"1\" class=\"dataframe\">\n",
       "  <thead>\n",
       "    <tr style=\"text-align: right;\">\n",
       "      <th></th>\n",
       "      <th>correct</th>\n",
       "      <th>incorrect</th>\n",
       "      <th>paths</th>\n",
       "      <th>violation_ratio</th>\n",
       "    </tr>\n",
       "  </thead>\n",
       "  <tbody>\n",
       "    <tr>\n",
       "      <th>P5051</th>\n",
       "      <td>1</td>\n",
       "      <td>63</td>\n",
       "      <td>[../../allConstraintsAnalysis/codependencyCons...</td>\n",
       "      <td>63.000000</td>\n",
       "    </tr>\n",
       "    <tr>\n",
       "      <th>P4341</th>\n",
       "      <td>7</td>\n",
       "      <td>1</td>\n",
       "      <td>[../../allConstraintsAnalysis/codependencyCons...</td>\n",
       "      <td>0.142857</td>\n",
       "    </tr>\n",
       "    <tr>\n",
       "      <th>P2095</th>\n",
       "      <td>38</td>\n",
       "      <td>3</td>\n",
       "      <td>[../../allConstraintsAnalysis/codependencyCons...</td>\n",
       "      <td>0.078947</td>\n",
       "    </tr>\n",
       "    <tr>\n",
       "      <th>P3931</th>\n",
       "      <td>2250</td>\n",
       "      <td>64</td>\n",
       "      <td>[../../allConstraintsAnalysis/codependencyCons...</td>\n",
       "      <td>0.028444</td>\n",
       "    </tr>\n",
       "    <tr>\n",
       "      <th>P1731</th>\n",
       "      <td>363</td>\n",
       "      <td>9</td>\n",
       "      <td>[../../allConstraintsAnalysis/codependencyCons...</td>\n",
       "      <td>0.024793</td>\n",
       "    </tr>\n",
       "    <tr>\n",
       "      <th>P2009</th>\n",
       "      <td>1019</td>\n",
       "      <td>15</td>\n",
       "      <td>[../../allConstraintsAnalysis/codependencyCons...</td>\n",
       "      <td>0.014720</td>\n",
       "    </tr>\n",
       "    <tr>\n",
       "      <th>P246</th>\n",
       "      <td>169</td>\n",
       "      <td>2</td>\n",
       "      <td>[../../allConstraintsAnalysis/codependencyCons...</td>\n",
       "      <td>0.011834</td>\n",
       "    </tr>\n",
       "    <tr>\n",
       "      <th>P8264</th>\n",
       "      <td>0</td>\n",
       "      <td>1</td>\n",
       "      <td>[../../allConstraintsAnalysis/codependencyCons...</td>\n",
       "      <td>0.010000</td>\n",
       "    </tr>\n",
       "    <tr>\n",
       "      <th>P944</th>\n",
       "      <td>577</td>\n",
       "      <td>4</td>\n",
       "      <td>[../../allConstraintsAnalysis/codependencyCons...</td>\n",
       "      <td>0.006932</td>\n",
       "    </tr>\n",
       "    <tr>\n",
       "      <th>P1560</th>\n",
       "      <td>3235</td>\n",
       "      <td>20</td>\n",
       "      <td>[../../allConstraintsAnalysis/codependencyCons...</td>\n",
       "      <td>0.006182</td>\n",
       "    </tr>\n",
       "    <tr>\n",
       "      <th>P2679</th>\n",
       "      <td>887</td>\n",
       "      <td>5</td>\n",
       "      <td>[../../allConstraintsAnalysis/codependencyCons...</td>\n",
       "      <td>0.005637</td>\n",
       "    </tr>\n",
       "    <tr>\n",
       "      <th>P451</th>\n",
       "      <td>10502</td>\n",
       "      <td>36</td>\n",
       "      <td>[../../allConstraintsAnalysis/codependencyCons...</td>\n",
       "      <td>0.003428</td>\n",
       "    </tr>\n",
       "    <tr>\n",
       "      <th>P2365</th>\n",
       "      <td>1650</td>\n",
       "      <td>5</td>\n",
       "      <td>[../../allConstraintsAnalysis/codependencyCons...</td>\n",
       "      <td>0.003030</td>\n",
       "    </tr>\n",
       "    <tr>\n",
       "      <th>P915</th>\n",
       "      <td>28364</td>\n",
       "      <td>45</td>\n",
       "      <td>[../../allConstraintsAnalysis/codependencyCons...</td>\n",
       "      <td>0.001587</td>\n",
       "    </tr>\n",
       "    <tr>\n",
       "      <th>P1635</th>\n",
       "      <td>890</td>\n",
       "      <td>1</td>\n",
       "      <td>[../../allConstraintsAnalysis/codependencyCons...</td>\n",
       "      <td>0.001124</td>\n",
       "    </tr>\n",
       "  </tbody>\n",
       "</table>\n",
       "</div>"
      ],
      "text/plain": [
       "      correct incorrect                                              paths  \\\n",
       "P5051       1        63  [../../allConstraintsAnalysis/codependencyCons...   \n",
       "P4341       7         1  [../../allConstraintsAnalysis/codependencyCons...   \n",
       "P2095      38         3  [../../allConstraintsAnalysis/codependencyCons...   \n",
       "P3931    2250        64  [../../allConstraintsAnalysis/codependencyCons...   \n",
       "P1731     363         9  [../../allConstraintsAnalysis/codependencyCons...   \n",
       "P2009    1019        15  [../../allConstraintsAnalysis/codependencyCons...   \n",
       "P246      169         2  [../../allConstraintsAnalysis/codependencyCons...   \n",
       "P8264       0         1  [../../allConstraintsAnalysis/codependencyCons...   \n",
       "P944      577         4  [../../allConstraintsAnalysis/codependencyCons...   \n",
       "P1560    3235        20  [../../allConstraintsAnalysis/codependencyCons...   \n",
       "P2679     887         5  [../../allConstraintsAnalysis/codependencyCons...   \n",
       "P451    10502        36  [../../allConstraintsAnalysis/codependencyCons...   \n",
       "P2365    1650         5  [../../allConstraintsAnalysis/codependencyCons...   \n",
       "P915    28364        45  [../../allConstraintsAnalysis/codependencyCons...   \n",
       "P1635     890         1  [../../allConstraintsAnalysis/codependencyCons...   \n",
       "\n",
       "       violation_ratio  \n",
       "P5051        63.000000  \n",
       "P4341         0.142857  \n",
       "P2095         0.078947  \n",
       "P3931         0.028444  \n",
       "P1731         0.024793  \n",
       "P2009         0.014720  \n",
       "P246          0.011834  \n",
       "P8264         0.010000  \n",
       "P944          0.006932  \n",
       "P1560         0.006182  \n",
       "P2679         0.005637  \n",
       "P451          0.003428  \n",
       "P2365         0.003030  \n",
       "P915          0.001587  \n",
       "P1635         0.001124  "
      ]
     },
     "execution_count": 191,
     "metadata": {},
     "output_type": "execute_result"
    }
   ],
   "source": [
    "codepConstDF3.sort_values(by=['violation_ratio'],ascending=False).head(15)"
   ]
  },
  {
   "cell_type": "code",
   "execution_count": 192,
   "id": "identified-marble",
   "metadata": {},
   "outputs": [
    {
     "data": {
      "text/plain": [
       "correct                                                         1980\n",
       "incorrect                                                          1\n",
       "paths              [../../allConstraintsAnalysis/codependencyCons...\n",
       "violation_ratio                                             0.000505\n",
       "Name: P1713, dtype: object"
      ]
     },
     "execution_count": 192,
     "metadata": {},
     "output_type": "execute_result"
    }
   ],
   "source": [
    "codepConstDF3.loc['P1713']"
   ]
  },
  {
   "cell_type": "code",
   "execution_count": 193,
   "id": "established-mounting",
   "metadata": {},
   "outputs": [
    {
     "name": "stdout",
     "output_type": "stream",
     "text": [
      "id\tnode1\tlabel\tnode2\trank\tnode2;wikidatatype\r\n",
      "Q4681882-P1713-d878eb-9fff460e-0\tQ4681882\tP1713\t\"https://heightnetworth.com/adele-givens-net-worth-2020/\"\tnormal\turl\r\n"
     ]
    }
   ],
   "source": [
    "!head ../../allConstraintsAnalysis/codependencyConstraint_Final/Mand/claims.P1713.incorrect.tsv"
   ]
  },
  {
   "cell_type": "code",
   "execution_count": 77,
   "id": "naval-functionality",
   "metadata": {},
   "outputs": [
    {
     "name": "stdout",
     "output_type": "stream",
     "text": [
      "id\tnode1\tlabel\tnode2\trank\tnode2;wikidatatype\r\n",
      "Q1000195-P1713-e792ce-9b50511b-0\tQ1000195\tP1713\t\"http://webarchiv.bundestag.de/archive/2007/0206/mdb/mdb13/bio/T/thiesdi0.html\"\tnormal\turl\r\n",
      "Q100218-P1713-3e741f-4bb9633d-0\tQ100218\tP1713\t\"http://webarchiv.bundestag.de/archive/2013/1212/bundestag/abgeordnete17/biografien/B/bunge_martina.html\"\tnormal\turl\r\n",
      "Q100250-P1713-33d6e4-326e7a64-0\tQ100250\tP1713\t\"http://webarchiv.bundestag.de/archive/2010/0427/bundestag/abgeordnete/bio/B/bauerwo0.html\"\tnormal\turl\r\n",
      "Q100357-P1713-f75a30-72e42938-0\tQ100357\tP1713\t\"http://webarchiv.bundestag.de/archive/2007/0206/mdb/mdb14/bio/J/juengsa0.html\"\tnormal\turl\r\n",
      "Q100615-P1713-cd17a0-c89f234d-0\tQ100615\tP1713\t\"http://webarchiv.bundestag.de/archive/2013/1212/bundestag/abgeordnete17/biografien/P/ploetz_yvonne.html\"\tnormal\turl\r\n",
      "Q100617-P1713-2396a5-62789180-0\tQ100617\tP1713\t\"http://webarchiv.bundestag.de/archive/2013/1212/bundestag/abgeordnete17/biografien/S/schwanitz_rolf.html\"\tnormal\turl\r\n",
      "Q100717883-P1713-bd827f-36a0ade3-0\tQ100717883\tP1713\t\"https://www.bundestag.de/abgeordnete/biografien/W/524570-524570\"\tnormal\turl\r\n",
      "Q100797-P1713-c9a2d4-f898748f-0\tQ100797\tP1713\t\"https://www.bundestag.de/abgeordnete/biografien/P/pronold_florian/522720\"\tnormal\turl\r\n",
      "Q100960-P1713-7a9695-4d24386e-0\tQ100960\tP1713\t\"http://webarchiv.bundestag.de/archive/2007/0206/mdb/mdb14/bio/G/geigemi0.html\"\tnormal\turl\r\n",
      "Q100986-P1713-09ed67-8a983157-0\tQ100986\tP1713\t\"http://www.bundestag.de/bundestag/abgeordnete18/biografien/B/becker_dirk/258158\"\tnormal\turl\r\n",
      "Q100986-P1713-0c450a-871bc22b-0\tQ100986\tP1713\t\"http://www.bundestag.de/bundestag/abgeordnete18/biografien/B/becker_dirk.html\"\tnormal\turl\r\n",
      "Q101192-P1713-712026-5576cf80-0\tQ101192\tP1713\t\"http://www.bundestag.de/bundestag/abgeordnete18/biografien/B/bartels_hans_peter.html\"\tnormal\turl\r\n",
      "Q101192-P1713-c1d1cb-90bf9b39-0\tQ101192\tP1713\t\"http://www.bundestag.de/bundestag/abgeordnete18/biografien/B/bartels_hans_peter/258234\"\tnormal\turl\r\n",
      "Q101206-P1713-f2dc25-f3b5f511-0\tQ101206\tP1713\t\"http://webarchiv.bundestag.de/archive/2013/1212/bundestag/abgeordnete17/biografien/S/schreiner_ottmar.html\"\tnormal\turl\r\n",
      "Q101296-P1713-5850b9-d4983cc9-0\tQ101296\tP1713\t\"http://webarchiv.bundestag.de/archive/2013/1212/bundestag/abgeordnete17/biografien/M/merkel_petra.html\"\tnormal\turl\r\n",
      "Q101481413-P1713-e36b80-6e010c1d-0\tQ101481413\tP1713\t\"https://www.bundestag.de/abgeordnete/biografien/D/518958-518958\"\tnormal\turl\r\n",
      "Q101504-P1713-2b19ec-bab3dc39-0\tQ101504\tP1713\t\"https://www.bundestag.de/abgeordnete/biografien/W/willsch_klaus_peter/524612\"\tnormal\turl\r\n",
      "Q101533533-P1713-bf5149-3cb91260-0\tQ101533533\tP1713\t\"https://www.bundestag.de/abgeordnete/biografien/N/522272-522272\"\tnormal\turl\r\n",
      "Q101617-P1713-d046b6-7e1394d5-0\tQ101617\tP1713\t\"https://www.bundestag.de/abgeordnete/biografien/B/bluhm_heidrun/518490\"\tnormal\turl\r\n",
      "Q101632-P1713-0a7355-6fa52c85-0\tQ101632\tP1713\t\"http://webarchiv.bundestag.de/archive/2010/0427/bundestag/abgeordnete/bio/A/albacpe0.html\"\tnormal\turl\r\n",
      "Q1016467-P1713-ff16af-475eaf2e-0\tQ1016467\tP1713\t\"https://www.bundestag.de/abgeordnete/biografien/L/lischka_burkhard/521668\"\tnormal\turl\r\n",
      "Q1016541-P1713-c620a6-bf28fbf5-0\tQ1016541\tP1713\t\"http://webarchiv.bundestag.de/archive/2013/1212/bundestag/abgeordnete17/biografien/M/mueller_soenksen_burkhardt.html\"\tnormal\turl\r\n",
      "Q101662-P1713-9e254f-1d37dd01-0\tQ101662\tP1713\t\"http://webarchiv.bundestag.de/archive/2013/1212/bundestag/abgeordnete17/biografien/H/hagemann_klaus.html\"\tnormal\turl\r\n",
      "Q101701-P1713-d2d742-b14a2f67-0\tQ101701\tP1713\t\"http://webarchiv.bundestag.de/archive/2007/0206/mdb/mdb15/bio/G/goennta0.html\"\tnormal\turl\r\n",
      "Q101703-P1713-86bfef-179d0c06-0\tQ101703\tP1713\t\"https://www.bundestag.de/abgeordnete/biografien/G/grotelueschen_astrid/519912\"\tnormal\turl\r\n",
      "Q1019016-P1713-707a97-4f43e3ab-0\tQ1019016\tP1713\t\"https://www.bundestag.de/abgeordnete/biografien/B/bas_baerbel/518186\"\tnormal\turl\r\n",
      "Q1019023-P1713-4b05d8-54e704ae-0\tQ1019023\tP1713\t\"http://webarchiv.bundestag.de/archive/2007/0206/mdb/mdb14/bio/G/grygiba0.html\"\tnormal\turl\r\n",
      "Q1019029-P1713-6f6eed-942d192f-0\tQ1019029\tP1713\t\"https://www.bundestag.de/abgeordnete/biografien/K/kofler_baerbel/521198\"\tnormal\turl\r\n",
      "Q1019050-P1713-3d5c18-83064a52-0\tQ1019050\tP1713\t\"http://webarchiv.bundestag.de/archive/2007/0206/mdb/mdb14/bio/S/sothmba0.html\"\tnormal\turl\r\n",
      "Q101967-P1713-b19158-a5b76799-0\tQ101967\tP1713\t\"http://webarchiv.bundestag.de/archive/2010/0427/bundestag/abgeordnete/bio/B/bruenmo0.html\"\tnormal\turl\r\n",
      "Q101987-P1713-e8184f-e2226a1f-0\tQ101987\tP1713\t\"http://webarchiv.bundestag.de/archive/2007/0206/mdb/mdb15/bio/L/lucygch0.html\"\tnormal\turl\r\n",
      "Q4681882-P1713-d878eb-9fff460e-0\tQ4681882\tP1713\t\"https://heightnetworth.com/adele-givens-net-worth-2020/\"\tnormal\turl\r\n"
     ]
    }
   ],
   "source": [
    "!cat ../../allConstraintsAnalysis/codependencyConstraint/Mand/claims.P1713.incorrect.tsv"
   ]
  },
  {
   "cell_type": "code",
   "execution_count": 78,
   "id": "imposed-bibliography",
   "metadata": {
    "scrolled": false
   },
   "outputs": [
    {
     "data": {
      "text/html": [
       "<div>\n",
       "<style scoped>\n",
       "    .dataframe tbody tr th:only-of-type {\n",
       "        vertical-align: middle;\n",
       "    }\n",
       "\n",
       "    .dataframe tbody tr th {\n",
       "        vertical-align: top;\n",
       "    }\n",
       "\n",
       "    .dataframe thead th {\n",
       "        text-align: right;\n",
       "    }\n",
       "</style>\n",
       "<table border=\"1\" class=\"dataframe\">\n",
       "  <thead>\n",
       "    <tr style=\"text-align: right;\">\n",
       "      <th></th>\n",
       "      <th>correct</th>\n",
       "      <th>incorrect</th>\n",
       "      <th>paths</th>\n",
       "      <th>violation_ratio</th>\n",
       "    </tr>\n",
       "  </thead>\n",
       "  <tbody>\n",
       "    <tr>\n",
       "      <th>P7959</th>\n",
       "      <td>655743</td>\n",
       "      <td>376</td>\n",
       "      <td>[../../allConstraintsAnalysis/codependencyCons...</td>\n",
       "      <td>0.000573</td>\n",
       "    </tr>\n",
       "    <tr>\n",
       "      <th>P3931</th>\n",
       "      <td>2250</td>\n",
       "      <td>64</td>\n",
       "      <td>[../../allConstraintsAnalysis/codependencyCons...</td>\n",
       "      <td>0.028444</td>\n",
       "    </tr>\n",
       "    <tr>\n",
       "      <th>P5051</th>\n",
       "      <td>1</td>\n",
       "      <td>63</td>\n",
       "      <td>[../../allConstraintsAnalysis/codependencyCons...</td>\n",
       "      <td>63.000000</td>\n",
       "    </tr>\n",
       "    <tr>\n",
       "      <th>P915</th>\n",
       "      <td>28364</td>\n",
       "      <td>45</td>\n",
       "      <td>[../../allConstraintsAnalysis/codependencyCons...</td>\n",
       "      <td>0.001587</td>\n",
       "    </tr>\n",
       "    <tr>\n",
       "      <th>P451</th>\n",
       "      <td>10502</td>\n",
       "      <td>36</td>\n",
       "      <td>[../../allConstraintsAnalysis/codependencyCons...</td>\n",
       "      <td>0.003428</td>\n",
       "    </tr>\n",
       "    <tr>\n",
       "      <th>P197</th>\n",
       "      <td>167392</td>\n",
       "      <td>34</td>\n",
       "      <td>[../../allConstraintsAnalysis/codependencyCons...</td>\n",
       "      <td>0.000203</td>\n",
       "    </tr>\n",
       "    <tr>\n",
       "      <th>P1560</th>\n",
       "      <td>3235</td>\n",
       "      <td>20</td>\n",
       "      <td>[../../allConstraintsAnalysis/codependencyCons...</td>\n",
       "      <td>0.006182</td>\n",
       "    </tr>\n",
       "    <tr>\n",
       "      <th>P2009</th>\n",
       "      <td>1019</td>\n",
       "      <td>15</td>\n",
       "      <td>[../../allConstraintsAnalysis/codependencyCons...</td>\n",
       "      <td>0.014720</td>\n",
       "    </tr>\n",
       "    <tr>\n",
       "      <th>P1731</th>\n",
       "      <td>363</td>\n",
       "      <td>9</td>\n",
       "      <td>[../../allConstraintsAnalysis/codependencyCons...</td>\n",
       "      <td>0.024793</td>\n",
       "    </tr>\n",
       "    <tr>\n",
       "      <th>P1196</th>\n",
       "      <td>88070</td>\n",
       "      <td>6</td>\n",
       "      <td>[../../allConstraintsAnalysis/codependencyCons...</td>\n",
       "      <td>0.000068</td>\n",
       "    </tr>\n",
       "    <tr>\n",
       "      <th>P2365</th>\n",
       "      <td>1650</td>\n",
       "      <td>5</td>\n",
       "      <td>[../../allConstraintsAnalysis/codependencyCons...</td>\n",
       "      <td>0.003030</td>\n",
       "    </tr>\n",
       "    <tr>\n",
       "      <th>P2679</th>\n",
       "      <td>887</td>\n",
       "      <td>5</td>\n",
       "      <td>[../../allConstraintsAnalysis/codependencyCons...</td>\n",
       "      <td>0.005637</td>\n",
       "    </tr>\n",
       "    <tr>\n",
       "      <th>P944</th>\n",
       "      <td>577</td>\n",
       "      <td>4</td>\n",
       "      <td>[../../allConstraintsAnalysis/codependencyCons...</td>\n",
       "      <td>0.006932</td>\n",
       "    </tr>\n",
       "    <tr>\n",
       "      <th>P141</th>\n",
       "      <td>121709</td>\n",
       "      <td>4</td>\n",
       "      <td>[../../allConstraintsAnalysis/codependencyCons...</td>\n",
       "      <td>0.000033</td>\n",
       "    </tr>\n",
       "    <tr>\n",
       "      <th>P1809</th>\n",
       "      <td>4006</td>\n",
       "      <td>3</td>\n",
       "      <td>[../../allConstraintsAnalysis/codependencyCons...</td>\n",
       "      <td>0.000749</td>\n",
       "    </tr>\n",
       "  </tbody>\n",
       "</table>\n",
       "</div>"
      ],
      "text/plain": [
       "      correct incorrect                                              paths  \\\n",
       "P7959  655743       376  [../../allConstraintsAnalysis/codependencyCons...   \n",
       "P3931    2250        64  [../../allConstraintsAnalysis/codependencyCons...   \n",
       "P5051       1        63  [../../allConstraintsAnalysis/codependencyCons...   \n",
       "P915    28364        45  [../../allConstraintsAnalysis/codependencyCons...   \n",
       "P451    10502        36  [../../allConstraintsAnalysis/codependencyCons...   \n",
       "P197   167392        34  [../../allConstraintsAnalysis/codependencyCons...   \n",
       "P1560    3235        20  [../../allConstraintsAnalysis/codependencyCons...   \n",
       "P2009    1019        15  [../../allConstraintsAnalysis/codependencyCons...   \n",
       "P1731     363         9  [../../allConstraintsAnalysis/codependencyCons...   \n",
       "P1196   88070         6  [../../allConstraintsAnalysis/codependencyCons...   \n",
       "P2365    1650         5  [../../allConstraintsAnalysis/codependencyCons...   \n",
       "P2679     887         5  [../../allConstraintsAnalysis/codependencyCons...   \n",
       "P944      577         4  [../../allConstraintsAnalysis/codependencyCons...   \n",
       "P141   121709         4  [../../allConstraintsAnalysis/codependencyCons...   \n",
       "P1809    4006         3  [../../allConstraintsAnalysis/codependencyCons...   \n",
       "\n",
       "       violation_ratio  \n",
       "P7959         0.000573  \n",
       "P3931         0.028444  \n",
       "P5051        63.000000  \n",
       "P915          0.001587  \n",
       "P451          0.003428  \n",
       "P197          0.000203  \n",
       "P1560         0.006182  \n",
       "P2009         0.014720  \n",
       "P1731         0.024793  \n",
       "P1196         0.000068  \n",
       "P2365         0.003030  \n",
       "P2679         0.005637  \n",
       "P944          0.006932  \n",
       "P141          0.000033  \n",
       "P1809         0.000749  "
      ]
     },
     "execution_count": 78,
     "metadata": {},
     "output_type": "execute_result"
    }
   ],
   "source": [
    "codepConstDF3.sort_values(by=['incorrect'],ascending=False).head(15)"
   ]
  },
  {
   "cell_type": "code",
   "execution_count": 79,
   "id": "emotional-crown",
   "metadata": {
    "scrolled": true
   },
   "outputs": [
    {
     "data": {
      "text/plain": [
       "count    78.000000\n",
       "mean      0.812130\n",
       "std       7.132861\n",
       "min       0.000000\n",
       "25%       0.000000\n",
       "50%       0.000000\n",
       "75%       0.000558\n",
       "max      63.000000\n",
       "Name: violation_ratio, dtype: float64"
      ]
     },
     "execution_count": 79,
     "metadata": {},
     "output_type": "execute_result"
    }
   ],
   "source": [
    "codepConstDF3['violation_ratio'].describe()"
   ]
  },
  {
   "cell_type": "code",
   "execution_count": 80,
   "id": "certain-freeze",
   "metadata": {},
   "outputs": [
    {
     "data": {
      "text/plain": [
       "Text(0.5, 1.0, 'Co-Dependency Constraint - Version 3 - Violation Ratios')"
      ]
     },
     "execution_count": 80,
     "metadata": {},
     "output_type": "execute_result"
    },
    {
     "data": {
      "image/png": "[encoded data removed]",
      "text/plain": [
       "<Figure size 432x288 with 1 Axes>"
      ]
     },
     "metadata": {
      "needs_background": "light"
     },
     "output_type": "display_data"
    }
   ],
   "source": [
    "codepConstDF3['violation_ratio'].plot.hist(bins=100).set_title(\"Co-Dependency Constraint - Version 3 - Violation Ratios\")"
   ]
  },
  {
   "cell_type": "code",
   "execution_count": 81,
   "id": "cooperative-ownership",
   "metadata": {
    "scrolled": true
   },
   "outputs": [
    {
     "data": {
      "text/plain": [
       "Text(0.5, 1.0, 'Co-Dependency Constraint - Version 3 - Violation Ratios <= 0.0005')"
      ]
     },
     "execution_count": 81,
     "metadata": {},
     "output_type": "execute_result"
    },
    {
     "data": {
      "image/png": "[encoded data removed]",
      "text/plain": [
       "<Figure size 432x288 with 1 Axes>"
      ]
     },
     "metadata": {
      "needs_background": "light"
     },
     "output_type": "display_data"
    }
   ],
   "source": [
    "codepConstDF3[codepConstDF3['violation_ratio'] <= 0.0005].violation_ratio.plot.hist(bins=100).set_title(\"Co-Dependency Constraint - Version 3 - Violation Ratios <= 0.0005\")"
   ]
  },
  {
   "cell_type": "code",
   "execution_count": 82,
   "id": "studied-inclusion",
   "metadata": {},
   "outputs": [
    {
     "name": "stdout",
     "output_type": "stream",
     "text": [
      "No. of properties whose violation ratio is greater than mean: 1/78\n"
     ]
    }
   ],
   "source": [
    "print(f\"No. of properties whose violation ratio is greater than mean: {sum(codepConstDF3['violation_ratio'] >= 0.922928)}/{len(codepConstDF3)}\")"
   ]
  },
  {
   "cell_type": "markdown",
   "id": "protective-brazil",
   "metadata": {},
   "source": [
    "#### Version 4 - Normal"
   ]
  },
  {
   "cell_type": "code",
   "execution_count": 83,
   "id": "laughing-pressing",
   "metadata": {},
   "outputs": [],
   "source": [
    "import pandas as pd\n",
    "codepConstDF4 = pd.DataFrame(codepConstViolations['Normal']).T"
   ]
  },
  {
   "cell_type": "code",
   "execution_count": 84,
   "id": "loving-swift",
   "metadata": {},
   "outputs": [
    {
     "data": {
      "text/html": [
       "<div>\n",
       "<style scoped>\n",
       "    .dataframe tbody tr th:only-of-type {\n",
       "        vertical-align: middle;\n",
       "    }\n",
       "\n",
       "    .dataframe tbody tr th {\n",
       "        vertical-align: top;\n",
       "    }\n",
       "\n",
       "    .dataframe thead th {\n",
       "        text-align: right;\n",
       "    }\n",
       "</style>\n",
       "<table border=\"1\" class=\"dataframe\">\n",
       "  <thead>\n",
       "    <tr style=\"text-align: right;\">\n",
       "      <th></th>\n",
       "      <th>correct</th>\n",
       "      <th>incorrect</th>\n",
       "      <th>paths</th>\n",
       "    </tr>\n",
       "  </thead>\n",
       "  <tbody>\n",
       "    <tr>\n",
       "      <th>P1018</th>\n",
       "      <td>156</td>\n",
       "      <td>28</td>\n",
       "      <td>[../../allConstraintsAnalysis/codependencyCons...</td>\n",
       "    </tr>\n",
       "    <tr>\n",
       "      <th>P1540</th>\n",
       "      <td>236379</td>\n",
       "      <td>456</td>\n",
       "      <td>[../../allConstraintsAnalysis/codependencyCons...</td>\n",
       "    </tr>\n",
       "    <tr>\n",
       "      <th>P1283</th>\n",
       "      <td>1383</td>\n",
       "      <td>0</td>\n",
       "      <td>[../../allConstraintsAnalysis/codependencyCons...</td>\n",
       "    </tr>\n",
       "    <tr>\n",
       "      <th>P1896</th>\n",
       "      <td>4779</td>\n",
       "      <td>322</td>\n",
       "      <td>[../../allConstraintsAnalysis/codependencyCons...</td>\n",
       "    </tr>\n",
       "    <tr>\n",
       "      <th>P171</th>\n",
       "      <td>2856794</td>\n",
       "      <td>2307</td>\n",
       "      <td>[../../allConstraintsAnalysis/codependencyCons...</td>\n",
       "    </tr>\n",
       "    <tr>\n",
       "      <th>...</th>\n",
       "      <td>...</td>\n",
       "      <td>...</td>\n",
       "      <td>...</td>\n",
       "    </tr>\n",
       "    <tr>\n",
       "      <th>P2916</th>\n",
       "      <td>0</td>\n",
       "      <td>1</td>\n",
       "      <td>[../../allConstraintsAnalysis/codependencyCons...</td>\n",
       "    </tr>\n",
       "    <tr>\n",
       "      <th>P1873</th>\n",
       "      <td>394</td>\n",
       "      <td>61</td>\n",
       "      <td>[../../allConstraintsAnalysis/codependencyCons...</td>\n",
       "    </tr>\n",
       "    <tr>\n",
       "      <th>P2923</th>\n",
       "      <td>2687</td>\n",
       "      <td>2738</td>\n",
       "      <td>[../../allConstraintsAnalysis/codependencyCons...</td>\n",
       "    </tr>\n",
       "    <tr>\n",
       "      <th>P1879</th>\n",
       "      <td>1695</td>\n",
       "      <td>0</td>\n",
       "      <td>[../../allConstraintsAnalysis/codependencyCons...</td>\n",
       "    </tr>\n",
       "    <tr>\n",
       "      <th>P2929</th>\n",
       "      <td>5511</td>\n",
       "      <td>81</td>\n",
       "      <td>[../../allConstraintsAnalysis/codependencyCons...</td>\n",
       "    </tr>\n",
       "  </tbody>\n",
       "</table>\n",
       "<p>418 rows × 3 columns</p>\n",
       "</div>"
      ],
      "text/plain": [
       "       correct incorrect                                              paths\n",
       "P1018      156        28  [../../allConstraintsAnalysis/codependencyCons...\n",
       "P1540   236379       456  [../../allConstraintsAnalysis/codependencyCons...\n",
       "P1283     1383         0  [../../allConstraintsAnalysis/codependencyCons...\n",
       "P1896     4779       322  [../../allConstraintsAnalysis/codependencyCons...\n",
       "P171   2856794      2307  [../../allConstraintsAnalysis/codependencyCons...\n",
       "...        ...       ...                                                ...\n",
       "P2916        0         1  [../../allConstraintsAnalysis/codependencyCons...\n",
       "P1873      394        61  [../../allConstraintsAnalysis/codependencyCons...\n",
       "P2923     2687      2738  [../../allConstraintsAnalysis/codependencyCons...\n",
       "P1879     1695         0  [../../allConstraintsAnalysis/codependencyCons...\n",
       "P2929     5511        81  [../../allConstraintsAnalysis/codependencyCons...\n",
       "\n",
       "[418 rows x 3 columns]"
      ]
     },
     "execution_count": 84,
     "metadata": {},
     "output_type": "execute_result"
    }
   ],
   "source": [
    "codepConstDF4"
   ]
  },
  {
   "cell_type": "code",
   "execution_count": 85,
   "id": "north-christian",
   "metadata": {},
   "outputs": [],
   "source": [
    "codepConstDF4['violation_ratio'] = codepConstDF4.apply(lambda p: p.incorrect / p.correct if p.correct != 0 else p.incorrect/100, axis=1)"
   ]
  },
  {
   "cell_type": "code",
   "execution_count": 86,
   "id": "closing-causing",
   "metadata": {},
   "outputs": [
    {
     "data": {
      "text/html": [
       "<div>\n",
       "<style scoped>\n",
       "    .dataframe tbody tr th:only-of-type {\n",
       "        vertical-align: middle;\n",
       "    }\n",
       "\n",
       "    .dataframe tbody tr th {\n",
       "        vertical-align: top;\n",
       "    }\n",
       "\n",
       "    .dataframe thead th {\n",
       "        text-align: right;\n",
       "    }\n",
       "</style>\n",
       "<table border=\"1\" class=\"dataframe\">\n",
       "  <thead>\n",
       "    <tr style=\"text-align: right;\">\n",
       "      <th></th>\n",
       "      <th>correct</th>\n",
       "      <th>incorrect</th>\n",
       "      <th>paths</th>\n",
       "      <th>violation_ratio</th>\n",
       "    </tr>\n",
       "  </thead>\n",
       "  <tbody>\n",
       "    <tr>\n",
       "      <th>P1111</th>\n",
       "      <td>0</td>\n",
       "      <td>46327</td>\n",
       "      <td>[../../allConstraintsAnalysis/codependencyCons...</td>\n",
       "      <td>463.270000</td>\n",
       "    </tr>\n",
       "    <tr>\n",
       "      <th>P1995</th>\n",
       "      <td>80</td>\n",
       "      <td>9985</td>\n",
       "      <td>[../../allConstraintsAnalysis/codependencyCons...</td>\n",
       "      <td>124.812500</td>\n",
       "    </tr>\n",
       "    <tr>\n",
       "      <th>P768</th>\n",
       "      <td>133</td>\n",
       "      <td>15143</td>\n",
       "      <td>[../../allConstraintsAnalysis/codependencyCons...</td>\n",
       "      <td>113.857143</td>\n",
       "    </tr>\n",
       "    <tr>\n",
       "      <th>P4501</th>\n",
       "      <td>419</td>\n",
       "      <td>22682</td>\n",
       "      <td>[../../allConstraintsAnalysis/codependencyCons...</td>\n",
       "      <td>54.133652</td>\n",
       "    </tr>\n",
       "    <tr>\n",
       "      <th>P2715</th>\n",
       "      <td>4</td>\n",
       "      <td>158</td>\n",
       "      <td>[../../allConstraintsAnalysis/codependencyCons...</td>\n",
       "      <td>39.500000</td>\n",
       "    </tr>\n",
       "    <tr>\n",
       "      <th>P275</th>\n",
       "      <td>5955</td>\n",
       "      <td>123578</td>\n",
       "      <td>[../../allConstraintsAnalysis/codependencyCons...</td>\n",
       "      <td>20.751973</td>\n",
       "    </tr>\n",
       "    <tr>\n",
       "      <th>P2376</th>\n",
       "      <td>1</td>\n",
       "      <td>19</td>\n",
       "      <td>[../../allConstraintsAnalysis/codependencyCons...</td>\n",
       "      <td>19.000000</td>\n",
       "    </tr>\n",
       "    <tr>\n",
       "      <th>P3912</th>\n",
       "      <td>297</td>\n",
       "      <td>3705</td>\n",
       "      <td>[../../allConstraintsAnalysis/codependencyCons...</td>\n",
       "      <td>12.474747</td>\n",
       "    </tr>\n",
       "    <tr>\n",
       "      <th>P2720</th>\n",
       "      <td>12</td>\n",
       "      <td>134</td>\n",
       "      <td>[../../allConstraintsAnalysis/codependencyCons...</td>\n",
       "      <td>11.166667</td>\n",
       "    </tr>\n",
       "    <tr>\n",
       "      <th>P2248</th>\n",
       "      <td>4020</td>\n",
       "      <td>41566</td>\n",
       "      <td>[../../allConstraintsAnalysis/codependencyCons...</td>\n",
       "      <td>10.339801</td>\n",
       "    </tr>\n",
       "    <tr>\n",
       "      <th>P2325</th>\n",
       "      <td>4071</td>\n",
       "      <td>40611</td>\n",
       "      <td>[../../allConstraintsAnalysis/codependencyCons...</td>\n",
       "      <td>9.975682</td>\n",
       "    </tr>\n",
       "    <tr>\n",
       "      <th>P2243</th>\n",
       "      <td>4025</td>\n",
       "      <td>36540</td>\n",
       "      <td>[../../allConstraintsAnalysis/codependencyCons...</td>\n",
       "      <td>9.078261</td>\n",
       "    </tr>\n",
       "    <tr>\n",
       "      <th>P2244</th>\n",
       "      <td>4027</td>\n",
       "      <td>36527</td>\n",
       "      <td>[../../allConstraintsAnalysis/codependencyCons...</td>\n",
       "      <td>9.070524</td>\n",
       "    </tr>\n",
       "    <tr>\n",
       "      <th>P3448</th>\n",
       "      <td>547</td>\n",
       "      <td>4302</td>\n",
       "      <td>[../../allConstraintsAnalysis/codependencyCons...</td>\n",
       "      <td>7.864717</td>\n",
       "    </tr>\n",
       "    <tr>\n",
       "      <th>P7707</th>\n",
       "      <td>65</td>\n",
       "      <td>445</td>\n",
       "      <td>[../../allConstraintsAnalysis/codependencyCons...</td>\n",
       "      <td>6.846154</td>\n",
       "    </tr>\n",
       "  </tbody>\n",
       "</table>\n",
       "</div>"
      ],
      "text/plain": [
       "      correct incorrect                                              paths  \\\n",
       "P1111       0     46327  [../../allConstraintsAnalysis/codependencyCons...   \n",
       "P1995      80      9985  [../../allConstraintsAnalysis/codependencyCons...   \n",
       "P768      133     15143  [../../allConstraintsAnalysis/codependencyCons...   \n",
       "P4501     419     22682  [../../allConstraintsAnalysis/codependencyCons...   \n",
       "P2715       4       158  [../../allConstraintsAnalysis/codependencyCons...   \n",
       "P275     5955    123578  [../../allConstraintsAnalysis/codependencyCons...   \n",
       "P2376       1        19  [../../allConstraintsAnalysis/codependencyCons...   \n",
       "P3912     297      3705  [../../allConstraintsAnalysis/codependencyCons...   \n",
       "P2720      12       134  [../../allConstraintsAnalysis/codependencyCons...   \n",
       "P2248    4020     41566  [../../allConstraintsAnalysis/codependencyCons...   \n",
       "P2325    4071     40611  [../../allConstraintsAnalysis/codependencyCons...   \n",
       "P2243    4025     36540  [../../allConstraintsAnalysis/codependencyCons...   \n",
       "P2244    4027     36527  [../../allConstraintsAnalysis/codependencyCons...   \n",
       "P3448     547      4302  [../../allConstraintsAnalysis/codependencyCons...   \n",
       "P7707      65       445  [../../allConstraintsAnalysis/codependencyCons...   \n",
       "\n",
       "       violation_ratio  \n",
       "P1111       463.270000  \n",
       "P1995       124.812500  \n",
       "P768        113.857143  \n",
       "P4501        54.133652  \n",
       "P2715        39.500000  \n",
       "P275         20.751973  \n",
       "P2376        19.000000  \n",
       "P3912        12.474747  \n",
       "P2720        11.166667  \n",
       "P2248        10.339801  \n",
       "P2325         9.975682  \n",
       "P2243         9.078261  \n",
       "P2244         9.070524  \n",
       "P3448         7.864717  \n",
       "P7707         6.846154  "
      ]
     },
     "execution_count": 86,
     "metadata": {},
     "output_type": "execute_result"
    }
   ],
   "source": [
    "codepConstDF4.sort_values(by=['violation_ratio'],ascending=False).head(15)"
   ]
  },
  {
   "cell_type": "code",
   "execution_count": 87,
   "id": "weighted-input",
   "metadata": {},
   "outputs": [],
   "source": [
    "# list(codepConstDF4.sort_values(by=['violation_ratio'],ascending=False).head(5).paths)"
   ]
  },
  {
   "cell_type": "code",
   "execution_count": 88,
   "id": "brief-effect",
   "metadata": {
    "scrolled": false
   },
   "outputs": [
    {
     "data": {
      "text/html": [
       "<div>\n",
       "<style scoped>\n",
       "    .dataframe tbody tr th:only-of-type {\n",
       "        vertical-align: middle;\n",
       "    }\n",
       "\n",
       "    .dataframe tbody tr th {\n",
       "        vertical-align: top;\n",
       "    }\n",
       "\n",
       "    .dataframe thead th {\n",
       "        text-align: right;\n",
       "    }\n",
       "</style>\n",
       "<table border=\"1\" class=\"dataframe\">\n",
       "  <thead>\n",
       "    <tr style=\"text-align: right;\">\n",
       "      <th></th>\n",
       "      <th>correct</th>\n",
       "      <th>incorrect</th>\n",
       "      <th>paths</th>\n",
       "      <th>violation_ratio</th>\n",
       "    </tr>\n",
       "  </thead>\n",
       "  <tbody>\n",
       "    <tr>\n",
       "      <th>P2214</th>\n",
       "      <td>2962988</td>\n",
       "      <td>711699</td>\n",
       "      <td>[../../allConstraintsAnalysis/codependencyCons...</td>\n",
       "      <td>0.240196</td>\n",
       "    </tr>\n",
       "    <tr>\n",
       "      <th>P433</th>\n",
       "      <td>31028893</td>\n",
       "      <td>435483</td>\n",
       "      <td>[../../allConstraintsAnalysis/codependencyCons...</td>\n",
       "      <td>0.014035</td>\n",
       "    </tr>\n",
       "    <tr>\n",
       "      <th>P275</th>\n",
       "      <td>5955</td>\n",
       "      <td>123578</td>\n",
       "      <td>[../../allConstraintsAnalysis/codependencyCons...</td>\n",
       "      <td>20.751973</td>\n",
       "    </tr>\n",
       "    <tr>\n",
       "      <th>P2860</th>\n",
       "      <td>174402886</td>\n",
       "      <td>114713</td>\n",
       "      <td>[../../allConstraintsAnalysis/codependencyCons...</td>\n",
       "      <td>0.000658</td>\n",
       "    </tr>\n",
       "    <tr>\n",
       "      <th>P1435</th>\n",
       "      <td>1893874</td>\n",
       "      <td>79479</td>\n",
       "      <td>[../../allConstraintsAnalysis/codependencyCons...</td>\n",
       "      <td>0.041966</td>\n",
       "    </tr>\n",
       "    <tr>\n",
       "      <th>P708</th>\n",
       "      <td>45253</td>\n",
       "      <td>54258</td>\n",
       "      <td>[../../allConstraintsAnalysis/codependencyCons...</td>\n",
       "      <td>1.198992</td>\n",
       "    </tr>\n",
       "    <tr>\n",
       "      <th>P197</th>\n",
       "      <td>117523</td>\n",
       "      <td>49903</td>\n",
       "      <td>[../../allConstraintsAnalysis/codependencyCons...</td>\n",
       "      <td>0.424623</td>\n",
       "    </tr>\n",
       "    <tr>\n",
       "      <th>P1598</th>\n",
       "      <td>36978</td>\n",
       "      <td>46481</td>\n",
       "      <td>[../../allConstraintsAnalysis/codependencyCons...</td>\n",
       "      <td>1.256991</td>\n",
       "    </tr>\n",
       "    <tr>\n",
       "      <th>P1111</th>\n",
       "      <td>0</td>\n",
       "      <td>46327</td>\n",
       "      <td>[../../allConstraintsAnalysis/codependencyCons...</td>\n",
       "      <td>463.270000</td>\n",
       "    </tr>\n",
       "    <tr>\n",
       "      <th>P2248</th>\n",
       "      <td>4020</td>\n",
       "      <td>41566</td>\n",
       "      <td>[../../allConstraintsAnalysis/codependencyCons...</td>\n",
       "      <td>10.339801</td>\n",
       "    </tr>\n",
       "    <tr>\n",
       "      <th>P2325</th>\n",
       "      <td>4071</td>\n",
       "      <td>40611</td>\n",
       "      <td>[../../allConstraintsAnalysis/codependencyCons...</td>\n",
       "      <td>9.975682</td>\n",
       "    </tr>\n",
       "    <tr>\n",
       "      <th>P856</th>\n",
       "      <td>1239292</td>\n",
       "      <td>38026</td>\n",
       "      <td>[../../allConstraintsAnalysis/codependencyCons...</td>\n",
       "      <td>0.030684</td>\n",
       "    </tr>\n",
       "    <tr>\n",
       "      <th>P2243</th>\n",
       "      <td>4025</td>\n",
       "      <td>36540</td>\n",
       "      <td>[../../allConstraintsAnalysis/codependencyCons...</td>\n",
       "      <td>9.078261</td>\n",
       "    </tr>\n",
       "    <tr>\n",
       "      <th>P2244</th>\n",
       "      <td>4027</td>\n",
       "      <td>36527</td>\n",
       "      <td>[../../allConstraintsAnalysis/codependencyCons...</td>\n",
       "      <td>9.070524</td>\n",
       "    </tr>\n",
       "    <tr>\n",
       "      <th>P413</th>\n",
       "      <td>357793</td>\n",
       "      <td>33607</td>\n",
       "      <td>[../../allConstraintsAnalysis/codependencyCons...</td>\n",
       "      <td>0.093929</td>\n",
       "    </tr>\n",
       "  </tbody>\n",
       "</table>\n",
       "</div>"
      ],
      "text/plain": [
       "         correct incorrect                                              paths  \\\n",
       "P2214    2962988    711699  [../../allConstraintsAnalysis/codependencyCons...   \n",
       "P433    31028893    435483  [../../allConstraintsAnalysis/codependencyCons...   \n",
       "P275        5955    123578  [../../allConstraintsAnalysis/codependencyCons...   \n",
       "P2860  174402886    114713  [../../allConstraintsAnalysis/codependencyCons...   \n",
       "P1435    1893874     79479  [../../allConstraintsAnalysis/codependencyCons...   \n",
       "P708       45253     54258  [../../allConstraintsAnalysis/codependencyCons...   \n",
       "P197      117523     49903  [../../allConstraintsAnalysis/codependencyCons...   \n",
       "P1598      36978     46481  [../../allConstraintsAnalysis/codependencyCons...   \n",
       "P1111          0     46327  [../../allConstraintsAnalysis/codependencyCons...   \n",
       "P2248       4020     41566  [../../allConstraintsAnalysis/codependencyCons...   \n",
       "P2325       4071     40611  [../../allConstraintsAnalysis/codependencyCons...   \n",
       "P856     1239292     38026  [../../allConstraintsAnalysis/codependencyCons...   \n",
       "P2243       4025     36540  [../../allConstraintsAnalysis/codependencyCons...   \n",
       "P2244       4027     36527  [../../allConstraintsAnalysis/codependencyCons...   \n",
       "P413      357793     33607  [../../allConstraintsAnalysis/codependencyCons...   \n",
       "\n",
       "       violation_ratio  \n",
       "P2214         0.240196  \n",
       "P433          0.014035  \n",
       "P275         20.751973  \n",
       "P2860         0.000658  \n",
       "P1435         0.041966  \n",
       "P708          1.198992  \n",
       "P197          0.424623  \n",
       "P1598         1.256991  \n",
       "P1111       463.270000  \n",
       "P2248        10.339801  \n",
       "P2325         9.975682  \n",
       "P856          0.030684  \n",
       "P2243         9.078261  \n",
       "P2244         9.070524  \n",
       "P413          0.093929  "
      ]
     },
     "execution_count": 88,
     "metadata": {},
     "output_type": "execute_result"
    }
   ],
   "source": [
    "codepConstDF4.sort_values(by=['incorrect'],ascending=False).head(15)"
   ]
  },
  {
   "cell_type": "code",
   "execution_count": 89,
   "id": "wireless-passenger",
   "metadata": {
    "scrolled": true
   },
   "outputs": [
    {
     "data": {
      "text/plain": [
       "count    418.000000\n",
       "mean       2.448558\n",
       "std       24.334208\n",
       "min        0.000000\n",
       "25%        0.001391\n",
       "50%        0.022781\n",
       "75%        0.220654\n",
       "max      463.270000\n",
       "Name: violation_ratio, dtype: float64"
      ]
     },
     "execution_count": 89,
     "metadata": {},
     "output_type": "execute_result"
    }
   ],
   "source": [
    "codepConstDF4['violation_ratio'].describe()"
   ]
  },
  {
   "cell_type": "code",
   "execution_count": 90,
   "id": "civilian-arnold",
   "metadata": {},
   "outputs": [
    {
     "data": {
      "text/plain": [
       "Text(0.5, 1.0, 'Co-Dependency Constraint - Version 4 - Violation Ratios')"
      ]
     },
     "execution_count": 90,
     "metadata": {},
     "output_type": "execute_result"
    },
    {
     "data": {
      "image/png": "[encoded data removed]",
      "text/plain": [
       "<Figure size 432x288 with 1 Axes>"
      ]
     },
     "metadata": {
      "needs_background": "light"
     },
     "output_type": "display_data"
    }
   ],
   "source": [
    "codepConstDF4['violation_ratio'].plot.hist(bins=100).set_title(\"Co-Dependency Constraint - Version 4 - Violation Ratios\")"
   ]
  },
  {
   "cell_type": "code",
   "execution_count": 91,
   "id": "threaded-cooler",
   "metadata": {
    "scrolled": true
   },
   "outputs": [
    {
     "data": {
      "text/plain": [
       "Text(0.5, 1.0, 'Co-Dependency Constraint - Version 4 - Violation Ratios <= 0.5')"
      ]
     },
     "execution_count": 91,
     "metadata": {},
     "output_type": "execute_result"
    },
    {
     "data": {
      "image/png": "[encoded data removed]",
      "text/plain": [
       "<Figure size 432x288 with 1 Axes>"
      ]
     },
     "metadata": {
      "needs_background": "light"
     },
     "output_type": "display_data"
    }
   ],
   "source": [
    "codepConstDF4[codepConstDF4['violation_ratio'] <= 0.5].violation_ratio.plot.hist(bins=100).set_title(\"Co-Dependency Constraint - Version 4 - Violation Ratios <= 0.5\")"
   ]
  },
  {
   "cell_type": "code",
   "execution_count": 92,
   "id": "olympic-charlotte",
   "metadata": {},
   "outputs": [
    {
     "name": "stdout",
     "output_type": "stream",
     "text": [
      "No. of properties whose violation ratio is greater than mean: 25/418\n"
     ]
    }
   ],
   "source": [
    "print(f\"No. of properties whose violation ratio is greater than mean: {sum(codepConstDF4['violation_ratio'] >= 2.414703)}/{len(codepConstDF4)}\")"
   ]
  },
  {
   "cell_type": "code",
   "execution_count": null,
   "id": "green-entertainment",
   "metadata": {},
   "outputs": [],
   "source": []
  },
  {
   "cell_type": "markdown",
   "id": "published-affiliate",
   "metadata": {},
   "source": [
    "### Find out time required"
   ]
  },
  {
   "cell_type": "code",
   "execution_count": null,
   "id": "aggregate-conservative",
   "metadata": {},
   "outputs": [],
   "source": [
    "import pandas as pd\n",
    "import os\n",
    "from tqdm.notebook import tqdm\n",
    "\n",
    "codepConstViolations = {}\n",
    "\n",
    "codepConstViolations = {}\n",
    "codepConstPropList = set()\n",
    "\n",
    "def extractTimes(filename):\n",
    "    times = []\n",
    "    with open(filename) as f:\n",
    "        for line in f:\n",
    "            if \"real\" in line:\n",
    "                line = line.strip()\n",
    "                time1 = line.split(\"\\t\")[1]\n",
    "                mins, sec = time1.split(\"m\")\n",
    "                mins = int(mins)\n",
    "                sec = float(sec[:-1])\n",
    "                times.append(60 * mins + sec)\n",
    "    return times\n",
    "\n",
    "# codepConstViolationsSummary = {}\n",
    "times = []\n",
    "timesVersion = {\"MSN\": [], \"MN\": [], \"M\": [], \"N\": [], \"S\": []}\n",
    "filePath = '/data/wd-correctness/propertiesSplit/checkViolations/exec_logs/'\n",
    "for filename in tqdm(os.listdir(filePath)):\n",
    "    if filename.startswith(\"timeLog_codepConst_\"):\n",
    "        ver = filename.split('_')[2]\n",
    "        tempTimes = extractTimes(filePath + filename)\n",
    "        times += tempTimes\n",
    "        timesVersion[ver] += tempTimes\n",
    "print(pd.Series(times).describe())"
   ]
  },
  {
   "cell_type": "code",
   "execution_count": null,
   "id": "hearing-treasury",
   "metadata": {},
   "outputs": [],
   "source": [
    "print(pd.Series(timesVersion['MSN']).describe())"
   ]
  },
  {
   "cell_type": "code",
   "execution_count": null,
   "id": "animal-vocabulary",
   "metadata": {},
   "outputs": [],
   "source": [
    "print(pd.Series(timesVersion['MN']).describe())"
   ]
  },
  {
   "cell_type": "code",
   "execution_count": null,
   "id": "gentle-accessory",
   "metadata": {},
   "outputs": [],
   "source": [
    "print(pd.Series(timesVersion['M']).describe())"
   ]
  },
  {
   "cell_type": "code",
   "execution_count": null,
   "id": "fresh-namibia",
   "metadata": {},
   "outputs": [],
   "source": [
    "print(pd.Series(timesVersion['N']).describe())"
   ]
  },
  {
   "cell_type": "markdown",
   "id": "industrial-parcel",
   "metadata": {},
   "source": [
    "## Symmetric Constraint (Q21510862)\n",
    "\n",
    "This constraint says, if node1 has a property with this constraint, then both `(node1)-[prop]->(node2)` and `(node2)-[prop]->(node1)` must be present with few exceptions"
   ]
  },
  {
   "cell_type": "markdown",
   "id": "silent-fundamentals",
   "metadata": {},
   "source": [
    "### Constraints File"
   ]
  },
  {
   "cell_type": "code",
   "execution_count": 1,
   "id": "known-wednesday",
   "metadata": {},
   "outputs": [
    {
     "name": "stdout",
     "output_type": "stream",
     "text": [
      "[2021-04-01 11:07:06 query]: SQL Translation:\r\n",
      "---------------------------------------------\r\n",
      "  SELECT *\r\n",
      "     FROM graph_1 AS graph_1_c1\r\n",
      "     WHERE graph_1_c1.\"label\"=?\r\n",
      "     AND graph_1_c1.\"node2\"=?\r\n",
      "  PARAS: ['P2302', 'Q21510862']\r\n",
      "---------------------------------------------\r\n"
     ]
    }
   ],
   "source": [
    "!kgtk --debug query -i ../../gdrive-kgtk-dump-2020-12-07/claims.properties.tsv.gz \\\n",
    "    ../../gdrive-kgtk-dump-2020-12-07/qualifiers.properties.tsv.gz \\\n",
    "    --match \"p: (nodeProp1)-[nodePropEdge:P2302]->(:Q21510862)\" \\\n",
    "    -o ../../constraintsOP/symmetricConstraint/claims.constraints_list.tsv \\\n",
    "    --graph-cache ~/sqlite3_caches/temp1345.valuetype.sqlite3.db"
   ]
  },
  {
   "cell_type": "code",
   "execution_count": 2,
   "id": "legal-diamond",
   "metadata": {},
   "outputs": [],
   "source": [
    "import pandas as pd\n",
    "qualiDF = pd.read_csv(\"../../gdrive-kgtk-dump-2020-12-07/qualifiers.properties.tsv.gz\",sep='\\t')\n",
    "constDF = pd.read_csv(\"../../constraintsOP/symmetricConstraint/claims.constraints_list.tsv\",sep='\\t')"
   ]
  },
  {
   "cell_type": "code",
   "execution_count": 3,
   "id": "exceptional-morris",
   "metadata": {},
   "outputs": [],
   "source": [
    "constDF2 = constDF.set_index('id').join(qualiDF.set_index('node1'),rsuffix='_qualifier').drop(columns=['id', 'node2;wikidatatype_qualifier', 'rank', 'node2', 'label', 'node2;wikidatatype']).rename(columns={'label_qualifier':'label', 'node2_qualifier': 'node2'})\n",
    "constDF2 = constDF2.reset_index()\n",
    "constDF2 = constDF2.rename(columns={'index':'id'})\n",
    "constDF2['label'] = constDF2.label.fillna(\"P2316\")\n",
    "constDF2['node2'] = constDF2.node2.fillna(\"Normal\")"
   ]
  },
  {
   "cell_type": "code",
   "execution_count": 4,
   "id": "burning-involvement",
   "metadata": {},
   "outputs": [],
   "source": [
    "constDF2.to_csv(\"../../constraintsOP/symmetricConstraint/claims.constraints_all.tsv\",sep=\"\\t\",index=False)"
   ]
  },
  {
   "cell_type": "code",
   "execution_count": 5,
   "id": "naval-identification",
   "metadata": {},
   "outputs": [],
   "source": [
    "import pandas as pd\n",
    "import math\n",
    "dfItemRequires = pd.read_csv('../../constraintsOP/symmetricConstraint/claims.constraints_all.tsv',sep='\\t')"
   ]
  },
  {
   "cell_type": "code",
   "execution_count": 6,
   "id": "considered-madison",
   "metadata": {},
   "outputs": [],
   "source": [
    "dfItemRequires = dfItemRequires.groupby(['id','node1','label']).node2.apply(lambda p: p.tolist()).reset_index()"
   ]
  },
  {
   "cell_type": "code",
   "execution_count": 7,
   "id": "alone-cattle",
   "metadata": {},
   "outputs": [
    {
     "data": {
      "text/plain": [
       "array(['P2316', 'P2303'], dtype=object)"
      ]
     },
     "execution_count": 7,
     "metadata": {},
     "output_type": "execute_result"
    }
   ],
   "source": [
    "dfItemRequires['label'].unique()"
   ]
  },
  {
   "cell_type": "code",
   "execution_count": 8,
   "id": "mighty-ordinary",
   "metadata": {},
   "outputs": [
    {
     "data": {
      "text/plain": [
       "P2316    42\n",
       "P2303     3\n",
       "Name: label, dtype: int64"
      ]
     },
     "execution_count": 8,
     "metadata": {},
     "output_type": "execute_result"
    }
   ],
   "source": [
    "dfItemRequires['label'].value_counts()"
   ]
  },
  {
   "cell_type": "code",
   "execution_count": 9,
   "id": "sensitive-alliance",
   "metadata": {},
   "outputs": [],
   "source": [
    "#Reference: https://stackoverflow.com/a/17298454\n",
    "# dfItemRequires.pivot_table('node2', ['node1', 'id'], 'label')\n",
    "dfItemRequires = dfItemRequires.pivot(index=['node1','id'], columns='label', values='node2')"
   ]
  },
  {
   "cell_type": "code",
   "execution_count": 10,
   "id": "tender-valley",
   "metadata": {},
   "outputs": [
    {
     "data": {
      "text/html": [
       "<div>\n",
       "<style scoped>\n",
       "    .dataframe tbody tr th:only-of-type {\n",
       "        vertical-align: middle;\n",
       "    }\n",
       "\n",
       "    .dataframe tbody tr th {\n",
       "        vertical-align: top;\n",
       "    }\n",
       "\n",
       "    .dataframe thead th {\n",
       "        text-align: right;\n",
       "    }\n",
       "</style>\n",
       "<table border=\"1\" class=\"dataframe\">\n",
       "  <thead>\n",
       "    <tr style=\"text-align: right;\">\n",
       "      <th></th>\n",
       "      <th>label</th>\n",
       "      <th>P2303</th>\n",
       "      <th>P2316</th>\n",
       "    </tr>\n",
       "    <tr>\n",
       "      <th>node1</th>\n",
       "      <th>id</th>\n",
       "      <th></th>\n",
       "      <th></th>\n",
       "    </tr>\n",
       "  </thead>\n",
       "  <tbody>\n",
       "    <tr>\n",
       "      <th>P1322</th>\n",
       "      <th>P1322-P2302-Q21510862-85dea891-0</th>\n",
       "      <td>NaN</td>\n",
       "      <td>[Normal]</td>\n",
       "    </tr>\n",
       "    <tr>\n",
       "      <th>P1327</th>\n",
       "      <th>P1327-P2302-Q21510862-a3c3a094-0</th>\n",
       "      <td>NaN</td>\n",
       "      <td>[Normal]</td>\n",
       "    </tr>\n",
       "    <tr>\n",
       "      <th>P1382</th>\n",
       "      <th>P1382-P2302-Q21510862-f6bcfecf-0</th>\n",
       "      <td>NaN</td>\n",
       "      <td>[Normal]</td>\n",
       "    </tr>\n",
       "    <tr>\n",
       "      <th>P1560</th>\n",
       "      <th>P1560-P2302-Q21510862-fabecaeb-0</th>\n",
       "      <td>NaN</td>\n",
       "      <td>[Q21502408]</td>\n",
       "    </tr>\n",
       "    <tr>\n",
       "      <th>P1639</th>\n",
       "      <th>P1639-P2302-Q21510862-384edcd4-0</th>\n",
       "      <td>NaN</td>\n",
       "      <td>[Q21502408]</td>\n",
       "    </tr>\n",
       "  </tbody>\n",
       "</table>\n",
       "</div>"
      ],
      "text/plain": [
       "label                                  P2303        P2316\n",
       "node1 id                                                 \n",
       "P1322 P1322-P2302-Q21510862-85dea891-0   NaN     [Normal]\n",
       "P1327 P1327-P2302-Q21510862-a3c3a094-0   NaN     [Normal]\n",
       "P1382 P1382-P2302-Q21510862-f6bcfecf-0   NaN     [Normal]\n",
       "P1560 P1560-P2302-Q21510862-fabecaeb-0   NaN  [Q21502408]\n",
       "P1639 P1639-P2302-Q21510862-384edcd4-0   NaN  [Q21502408]"
      ]
     },
     "execution_count": 10,
     "metadata": {},
     "output_type": "execute_result"
    }
   ],
   "source": [
    "dfItemRequires.head()"
   ]
  },
  {
   "cell_type": "code",
   "execution_count": 11,
   "id": "cellular-canal",
   "metadata": {},
   "outputs": [],
   "source": [
    "dfItemRequires = dfItemRequires.droplevel(1)"
   ]
  },
  {
   "cell_type": "code",
   "execution_count": 12,
   "id": "desperate-poster",
   "metadata": {},
   "outputs": [
    {
     "data": {
      "text/html": [
       "<div>\n",
       "<style scoped>\n",
       "    .dataframe tbody tr th:only-of-type {\n",
       "        vertical-align: middle;\n",
       "    }\n",
       "\n",
       "    .dataframe tbody tr th {\n",
       "        vertical-align: top;\n",
       "    }\n",
       "\n",
       "    .dataframe thead th {\n",
       "        text-align: right;\n",
       "    }\n",
       "</style>\n",
       "<table border=\"1\" class=\"dataframe\">\n",
       "  <thead>\n",
       "    <tr style=\"text-align: right;\">\n",
       "      <th>label</th>\n",
       "      <th>P2303</th>\n",
       "      <th>P2316</th>\n",
       "    </tr>\n",
       "    <tr>\n",
       "      <th>node1</th>\n",
       "      <th></th>\n",
       "      <th></th>\n",
       "    </tr>\n",
       "  </thead>\n",
       "  <tbody>\n",
       "    <tr>\n",
       "      <th>P1322</th>\n",
       "      <td>NaN</td>\n",
       "      <td>[Normal]</td>\n",
       "    </tr>\n",
       "    <tr>\n",
       "      <th>P1327</th>\n",
       "      <td>NaN</td>\n",
       "      <td>[Normal]</td>\n",
       "    </tr>\n",
       "    <tr>\n",
       "      <th>P1382</th>\n",
       "      <td>NaN</td>\n",
       "      <td>[Normal]</td>\n",
       "    </tr>\n",
       "    <tr>\n",
       "      <th>P1560</th>\n",
       "      <td>NaN</td>\n",
       "      <td>[Q21502408]</td>\n",
       "    </tr>\n",
       "    <tr>\n",
       "      <th>P1639</th>\n",
       "      <td>NaN</td>\n",
       "      <td>[Q21502408]</td>\n",
       "    </tr>\n",
       "  </tbody>\n",
       "</table>\n",
       "</div>"
      ],
      "text/plain": [
       "label P2303        P2316\n",
       "node1                   \n",
       "P1322   NaN     [Normal]\n",
       "P1327   NaN     [Normal]\n",
       "P1382   NaN     [Normal]\n",
       "P1560   NaN  [Q21502408]\n",
       "P1639   NaN  [Q21502408]"
      ]
     },
     "execution_count": 12,
     "metadata": {},
     "output_type": "execute_result"
    }
   ],
   "source": [
    "dfItemRequires.head()"
   ]
  },
  {
   "cell_type": "markdown",
   "id": "primary-netherlands",
   "metadata": {},
   "source": [
    "### Query Generator"
   ]
  },
  {
   "cell_type": "code",
   "execution_count": 14,
   "id": "pointed-haven",
   "metadata": {},
   "outputs": [
    {
     "data": {
      "application/vnd.jupyter.widget-view+json": {
       "model_id": "354610f2497449c79eb9bec3e2c76294",
       "version_major": 2,
       "version_minor": 0
      },
      "text/plain": [
       "0it [00:00, ?it/s]"
      ]
     },
     "metadata": {},
     "output_type": "display_data"
    }
   ],
   "source": [
    "from tqdm.notebook import tqdm\n",
    "import os.path\n",
    "import os\n",
    "\n",
    "cnt = 0\n",
    "fCnt = 0\n",
    "\n",
    "folderName = 'symmetricConstraint'\n",
    "shellFileSuffix = 'symmConst_Validator_'\n",
    "graph_cache_prefix = 'symm_03'\n",
    "\n",
    "for row in tqdm(dfItemRequires.iterrows()):\n",
    "#     try:\n",
    "        prop = row[0]\n",
    "        constraint = row[1]\n",
    "        mandatory = []\n",
    "        suggestion = []\n",
    "        normal = []\n",
    "        prop = str(prop)\n",
    "        \n",
    "        if type(constraint['P2316']) == list:\n",
    "            if constraint['P2316'][0] == 'Q21502408':\n",
    "                sfname = 'mandatory'\n",
    "            elif constraint['P2316'][0] == 'Q62026391':\n",
    "                sfname = 'suggestion'\n",
    "            elif constraint['P2316'][0] == 'Normal':\n",
    "                sfname = 'normal'\n",
    "        else:\n",
    "            sfname = 'normal'\n",
    "        \n",
    "        if not(os.path.isfile(\"../../propertiesSplit/claims.\"+ prop +\".tsv\")):\n",
    "            continue\n",
    "                \n",
    "        command = \"{ time ( kgtk --debug query -i ../../propertiesSplit/claims.\"+ prop +\".tsv \\\n",
    "                    ../../propertiesSplit/claims.\"+ prop +\".copy2.tsv \\\n",
    "                    --match 'tsv: (node1)-[nodeProp]->(node2), copy2: (node2)-[]->(node1)' \"\n",
    "        \n",
    "        os.system(\"cp ../../propertiesSplit/claims.\"+ prop +\".tsv ../../propertiesSplit/claims.\"+ prop +\".copy2.tsv\")\n",
    "        \n",
    "        if cnt % 20 == 0:\n",
    "            fCnt += 1\n",
    "            fOP = open(\"../../propertiesSplit/checkViolations/\" + shellFileSuffix + str(fCnt) + \".sh\",\"w\")\n",
    "        command\n",
    "        if type(constraint['P2303']) != list: # Exceptions not present\n",
    "            commandRest = \" --return 'nodeProp.id, node1 as `node1`, nodeProp.label as `label`, node2 as `node2`'  \\\n",
    "            -o ../../allConstraintsAnalysis/\" + folderName + \"/\" + sfname + \"/claims.\"+ prop +\".correct.tsv \\\n",
    "            --graph-cache ~/sqlite3_caches/\"+graph_cache_prefix+\"_\" + str(fCnt) + \".sqlite3.db; \\\n",
    "             kgtk --debug ifnotexists -i ../../propertiesSplit/claims.\"+ prop +\".tsv \\\n",
    "            --filter-on ../../allConstraintsAnalysis/\" + folderName + \"/\" + sfname + \"/claims.\"+ prop +\".correct.tsv \\\n",
    "            --filter-mode NONE \\\n",
    "            --input-keys node1 label \\\n",
    "            --filter-keys node1 label \"\n",
    "            \n",
    "            commandOPFile = \"-o ../../allConstraintsAnalysis/\" + folderName + \"/\" + sfname + \"/claims.\"+ prop +\".\"\n",
    "            \n",
    "            command += commandRest + commandOPFile + \"incorrect.tsv ) } 2>> ../../propertiesSplit/checkViolations/exec_logs/\" + shellFileSuffix + str(fCnt) + \".txt;\\n\"\n",
    "#             print(command)\n",
    "            fOP.write(command)\n",
    "        else:\n",
    "            excptns = constraint['P2303']\n",
    "            commandRest = \" --return 'distinct nodeProp.id, node1 as `node1`, nodeProp.label as `label`, node2 as `node2`'  \\\n",
    "            -o ../../allConstraintsAnalysis/\" + folderName + \"/\" + sfname + \"/claims.\"+ prop +\".correct_wo_exceptions.tsv \\\n",
    "            --graph-cache ~/sqlite3_caches/\"+graph_cache_prefix+\"_\" + str(fCnt) + \".sqlite3.db; \\\n",
    "             kgtk --debug ifnotexists -i ../../propertiesSplit/claims.\"+ prop +\".tsv \\\n",
    "            --filter-on ../../allConstraintsAnalysis/\" + folderName + \"/\" + sfname + \"/claims.\"+ prop +\".correct_wo_exceptions.tsv \\\n",
    "            --filter-mode NONE \\\n",
    "            --input-keys node1 label \\\n",
    "            --filter-keys node1 label \"\n",
    "            \n",
    "            commandOPFile = \"-o ../../allConstraintsAnalysis/\" + folderName + \"/\" + sfname + \"/claims.\"+ prop +\".\"\n",
    "            \n",
    "            command += commandRest + commandOPFile + \"incorrect_wo_exceptions.tsv; \"\n",
    "#             print(command)\n",
    "            fOP.write(command)\n",
    "            \n",
    "            command = \" kgtk --debug query -i ../../allConstraintsAnalysis/\" + folderName + \"/\" + sfname + \"/claims.\" + prop + \".incorrect_wo_exceptions.tsv \\\n",
    "                    --match '(node1)-[]->()' --where 'node1 in \" + str(list(excptns)).replace(\"'\",'\"') + \"' \\\n",
    "                    -o ../../allConstraintsAnalysis/\" + folderName + \"/\" + sfname + \"/claims.\" + prop + \".correct_exceptions.tsv \\\n",
    "                    --graph-cache ~/sqlite3_caches/\"+graph_cache_prefix+\"_\" + str(fCnt) + \".sqlite3.db; \"\n",
    "#             print(command)\n",
    "            fOP.write(command)\n",
    "            \n",
    "            command = \"  kgtk --debug ifnotexists -i ../../allConstraintsAnalysis/\" + folderName + \"/\" + sfname + \"/claims.\" + prop + \".incorrect_wo_exceptions.tsv \\\n",
    "            --filter-on ../../allConstraintsAnalysis/\" + folderName + \"/\" + sfname + \"/claims.\" + prop + \".correct_exceptions.tsv \\\n",
    "            --filter-mode NONE \\\n",
    "            --input-keys node1 label \\\n",
    "            --filter-keys node1 label \\\n",
    "            -o ../../allConstraintsAnalysis/\" + folderName + \"/\" + sfname + \"/claims.\"+ prop +\".incorrect.tsv; \"\n",
    "#             print(command)\n",
    "            fOP.write(command)\n",
    "            \n",
    "            command = \" kgtk cat -i ../../allConstraintsAnalysis/\" + folderName + \"/\" + sfname + \"/claims.\"+ prop +\".correct_wo_exceptions.tsv \\\n",
    "                    ../../allConstraintsAnalysis/\" + folderName + \"/\" + sfname + \"/claims.\"+ prop +\".correct_exceptions.tsv \\\n",
    "                    -o ../../allConstraintsAnalysis/\" + folderName + \"/\" + sfname + \"/claims.\"+ prop +\".correct.tsv ) } 2>> ../../propertiesSplit/checkViolations/exec_logs/\" + shellFileSuffix + str(fCnt) + \".txt;\\n\"\n",
    "#             print(command)\n",
    "            fOP.write(command)\n",
    "        \n",
    "        \n",
    "        cnt += 1\n",
    "#     except:\n",
    "#         print(\"Something failed for prop:\",prop)"
   ]
  },
  {
   "cell_type": "code",
   "execution_count": 15,
   "id": "polar-canada",
   "metadata": {},
   "outputs": [
    {
     "data": {
      "text/plain": [
       "38"
      ]
     },
     "execution_count": 15,
     "metadata": {},
     "output_type": "execute_result"
    }
   ],
   "source": [
    "cnt"
   ]
  },
  {
   "cell_type": "code",
   "execution_count": 16,
   "id": "virtual-disney",
   "metadata": {},
   "outputs": [],
   "source": [
    "# import os\n",
    "# for i in range(1,3):\n",
    "#     os.system(\"screen -dm sh ../../propertiesSplit/checkViolations/symmConst_Validator_\"+str(i)+\".sh\")"
   ]
  },
  {
   "cell_type": "markdown",
   "id": "coral-cheese",
   "metadata": {},
   "source": [
    "### Analyze Violations"
   ]
  },
  {
   "cell_type": "code",
   "execution_count": 2,
   "id": "governmental-backup",
   "metadata": {},
   "outputs": [
    {
     "data": {
      "application/vnd.jupyter.widget-view+json": {
       "model_id": "d19bfcb280e649a996395694bd18bb6c",
       "version_major": 2,
       "version_minor": 0
      },
      "text/plain": [
       "0it [00:00, ?it/s]"
      ]
     },
     "metadata": {},
     "output_type": "display_data"
    },
    {
     "data": {
      "application/vnd.jupyter.widget-view+json": {
       "model_id": "7f12ce1ceba5485d96a83c3fe719d485",
       "version_major": 2,
       "version_minor": 0
      },
      "text/plain": [
       "  0%|          | 0/13 [00:00<?, ?it/s]"
      ]
     },
     "metadata": {},
     "output_type": "display_data"
    },
    {
     "data": {
      "application/vnd.jupyter.widget-view+json": {
       "model_id": "d19bfcb280e649a996395694bd18bb6c",
       "version_major": 2,
       "version_minor": 0
      },
      "text/plain": [
       "0it [00:00, ?it/s]"
      ]
     },
     "metadata": {},
     "output_type": "display_data"
    },
    {
     "data": {
      "application/vnd.jupyter.widget-view+json": {
       "model_id": "7f12ce1ceba5485d96a83c3fe719d485",
       "version_major": 2,
       "version_minor": 0
      },
      "text/plain": [
       "  0%|          | 0/13 [00:00<?, ?it/s]"
      ]
     },
     "metadata": {},
     "output_type": "display_data"
    },
    {
     "data": {
      "application/vnd.jupyter.widget-view+json": {
       "model_id": "521ab2dfb1864a2b84466a46e9bf4218",
       "version_major": 2,
       "version_minor": 0
      },
      "text/plain": [
       "  0%|          | 0/66 [00:00<?, ?it/s]"
      ]
     },
     "metadata": {},
     "output_type": "display_data"
    },
    {
     "data": {
      "application/vnd.jupyter.widget-view+json": {
       "model_id": "521ab2dfb1864a2b84466a46e9bf4218",
       "version_major": 2,
       "version_minor": 0
      },
      "text/plain": [
       "  0%|          | 0/66 [00:00<?, ?it/s]"
      ]
     },
     "metadata": {},
     "output_type": "display_data"
    },
    {
     "data": {
      "application/vnd.jupyter.widget-view+json": {
       "model_id": "06a7d4ea954c4c10bbd3cf486beda734",
       "version_major": 2,
       "version_minor": 0
      },
      "text/plain": [
       "  0%|          | 0/6 [00:00<?, ?it/s]"
      ]
     },
     "metadata": {},
     "output_type": "display_data"
    },
    {
     "data": {
      "application/vnd.jupyter.widget-view+json": {
       "model_id": "06a7d4ea954c4c10bbd3cf486beda734",
       "version_major": 2,
       "version_minor": 0
      },
      "text/plain": [
       "  0%|          | 0/6 [00:00<?, ?it/s]"
      ]
     },
     "metadata": {},
     "output_type": "display_data"
    }
   ],
   "source": [
    "import pandas as pd\n",
    "import os\n",
    "from tqdm.notebook import tqdm\n",
    "\n",
    "symmConstViolations = {}\n",
    "\n",
    "def countLines(fname):\n",
    "    cnt = -1\n",
    "    with open(fname, 'r') as f:\n",
    "        for line in f:\n",
    "            cnt += 1\n",
    "    return cnt \n",
    "\n",
    "symmConstViolations = {}\n",
    "symmConstPropList = set()\n",
    "\n",
    "# codepConstViolationsSummary = {}\n",
    "\n",
    "\n",
    "filePath = \"../../allConstraintsAnalysis/symmetricConstraint/\"\n",
    "for folder in tqdm(iter(['mandatory','normal','suggestion'])):\n",
    "    for filename in tqdm(os.listdir(filePath + folder)):\n",
    "        prop = filename.split(\".\")[1]\n",
    "        correctness = filename.split(\".\")[2]\n",
    "        if correctness not in ['correct','incorrect']:\n",
    "            continue\n",
    "        symmConstPropList.add(prop)\n",
    "        count1 = countLines(filePath+folder+'/'+filename)\n",
    "        if folder not in symmConstViolations:\n",
    "            symmConstViolations[folder] = {}\n",
    "        if prop not in symmConstViolations[folder]:\n",
    "            symmConstViolations[folder][prop] = {'correct': 0, 'incorrect': 0, 'paths': []}\n",
    "        symmConstViolations[folder][prop][correctness] = count1\n",
    "        symmConstViolations[folder][prop]['paths'].append(filePath+folder+'/'+filename)"
   ]
  },
  {
   "cell_type": "code",
   "execution_count": 3,
   "id": "helpful-offset",
   "metadata": {},
   "outputs": [
    {
     "data": {
      "text/plain": [
       "38"
      ]
     },
     "execution_count": 3,
     "metadata": {},
     "output_type": "execute_result"
    },
    {
     "data": {
      "text/plain": [
       "38"
      ]
     },
     "execution_count": 3,
     "metadata": {},
     "output_type": "execute_result"
    }
   ],
   "source": [
    "len(symmConstPropList)"
   ]
  },
  {
   "cell_type": "code",
   "execution_count": 4,
   "id": "entertaining-rescue",
   "metadata": {},
   "outputs": [
    {
     "data": {
      "application/vnd.jupyter.widget-view+json": {
       "model_id": "358d3569b52b43218580a11f83b86046",
       "version_major": 2,
       "version_minor": 0
      },
      "text/plain": [
       "0it [00:00, ?it/s]"
      ]
     },
     "metadata": {},
     "output_type": "display_data"
    },
    {
     "data": {
      "application/vnd.jupyter.widget-view+json": {
       "model_id": "358d3569b52b43218580a11f83b86046",
       "version_major": 2,
       "version_minor": 0
      },
      "text/plain": [
       "0it [00:00, ?it/s]"
      ]
     },
     "metadata": {},
     "output_type": "display_data"
    }
   ],
   "source": [
    "symmConstViolationsSummary = {}\n",
    "for folder in tqdm(iter(['mandatory','normal','suggestion'])):\n",
    "    symmConstViolationsSummary[folder] = {'correct': 0, 'incorrect': 0}\n",
    "    for prop in symmConstViolations[folder].keys():\n",
    "        symmConstViolationsSummary[folder]['correct'] += symmConstViolations[folder][prop]['correct']\n",
    "        symmConstViolationsSummary[folder]['incorrect'] += symmConstViolations[folder][prop]['incorrect']\n",
    "    symmConstViolationsSummary[folder]['total'] = symmConstViolationsSummary[folder]['correct'] + symmConstViolationsSummary[folder]['incorrect']\n",
    "    symmConstViolationsSummary[folder]['percIncorrect'] = symmConstViolationsSummary[folder]['incorrect'] / symmConstViolationsSummary[folder]['total'] * 100\n",
    "    symmConstViolationsSummary[folder]['propCount'] = len(symmConstViolations[folder].keys())"
   ]
  },
  {
   "cell_type": "code",
   "execution_count": 5,
   "id": "copyrighted-marshall",
   "metadata": {},
   "outputs": [
    {
     "data": {
      "text/plain": [
       "{'mandatory': {'correct': 7439,\n",
       "  'incorrect': 34,\n",
       "  'total': 7473,\n",
       "  'percIncorrect': 0.454971229760471,\n",
       "  'propCount': 5},\n",
       " 'normal': {'correct': 6241838,\n",
       "  'incorrect': 47970,\n",
       "  'total': 6289808,\n",
       "  'percIncorrect': 0.7626623896945661,\n",
       "  'propCount': 30},\n",
       " 'suggestion': {'correct': 782869,\n",
       "  'incorrect': 31595,\n",
       "  'total': 814464,\n",
       "  'percIncorrect': 3.879238370265598,\n",
       "  'propCount': 3}}"
      ]
     },
     "execution_count": 5,
     "metadata": {},
     "output_type": "execute_result"
    },
    {
     "data": {
      "text/plain": [
       "{'mandatory': {'correct': 7439,\n",
       "  'incorrect': 34,\n",
       "  'total': 7473,\n",
       "  'percIncorrect': 0.454971229760471,\n",
       "  'propCount': 5},\n",
       " 'normal': {'correct': 6241838,\n",
       "  'incorrect': 47970,\n",
       "  'total': 6289808,\n",
       "  'percIncorrect': 0.7626623896945661,\n",
       "  'propCount': 30},\n",
       " 'suggestion': {'correct': 782869,\n",
       "  'incorrect': 31595,\n",
       "  'total': 814464,\n",
       "  'percIncorrect': 3.879238370265598,\n",
       "  'propCount': 3}}"
      ]
     },
     "execution_count": 5,
     "metadata": {},
     "output_type": "execute_result"
    }
   ],
   "source": [
    "symmConstViolationsSummary"
   ]
  },
  {
   "cell_type": "code",
   "execution_count": 6,
   "id": "enhanced-ontario",
   "metadata": {},
   "outputs": [
    {
     "data": {
      "text/plain": [
       "7111745"
      ]
     },
     "execution_count": 6,
     "metadata": {},
     "output_type": "execute_result"
    },
    {
     "data": {
      "text/plain": [
       "7111745"
      ]
     },
     "execution_count": 6,
     "metadata": {},
     "output_type": "execute_result"
    }
   ],
   "source": [
    "noOfStmts = 0\n",
    "for fold in symmConstViolationsSummary.keys():\n",
    "    noOfStmts += symmConstViolationsSummary[fold]['total']\n",
    "noOfStmts"
   ]
  },
  {
   "cell_type": "code",
   "execution_count": 7,
   "id": "representative-conjunction",
   "metadata": {},
   "outputs": [
    {
     "data": {
      "text/html": [
       "<div>\n",
       "<style scoped>\n",
       "    .dataframe tbody tr th:only-of-type {\n",
       "        vertical-align: middle;\n",
       "    }\n",
       "\n",
       "    .dataframe tbody tr th {\n",
       "        vertical-align: top;\n",
       "    }\n",
       "\n",
       "    .dataframe thead th {\n",
       "        text-align: right;\n",
       "    }\n",
       "</style>\n",
       "<table border=\"1\" class=\"dataframe\">\n",
       "  <thead>\n",
       "    <tr style=\"text-align: right;\">\n",
       "      <th></th>\n",
       "      <th>correct</th>\n",
       "      <th>incorrect</th>\n",
       "      <th>paths</th>\n",
       "      <th>violation_ratio</th>\n",
       "    </tr>\n",
       "  </thead>\n",
       "  <tbody>\n",
       "    <tr>\n",
       "      <th>P2152</th>\n",
       "      <td>75</td>\n",
       "      <td>1</td>\n",
       "      <td>[../../allConstraintsAnalysis/symmetricConstra...</td>\n",
       "      <td>0.013158</td>\n",
       "    </tr>\n",
       "    <tr>\n",
       "      <th>P1639</th>\n",
       "      <td>2059</td>\n",
       "      <td>20</td>\n",
       "      <td>[../../allConstraintsAnalysis/symmetricConstra...</td>\n",
       "      <td>0.009620</td>\n",
       "    </tr>\n",
       "    <tr>\n",
       "      <th>P1560</th>\n",
       "      <td>3239</td>\n",
       "      <td>13</td>\n",
       "      <td>[../../allConstraintsAnalysis/symmetricConstra...</td>\n",
       "      <td>0.003998</td>\n",
       "    </tr>\n",
       "    <tr>\n",
       "      <th>P6185</th>\n",
       "      <td>280</td>\n",
       "      <td>0</td>\n",
       "      <td>[../../allConstraintsAnalysis/symmetricConstra...</td>\n",
       "      <td>0.000000</td>\n",
       "    </tr>\n",
       "    <tr>\n",
       "      <th>P3364</th>\n",
       "      <td>1786</td>\n",
       "      <td>0</td>\n",
       "      <td>[../../allConstraintsAnalysis/symmetricConstra...</td>\n",
       "      <td>0.000000</td>\n",
       "    </tr>\n",
       "  </tbody>\n",
       "</table>\n",
       "</div>"
      ],
      "text/plain": [
       "      correct incorrect                                              paths  \\\n",
       "P2152      75         1  [../../allConstraintsAnalysis/symmetricConstra...   \n",
       "P1639    2059        20  [../../allConstraintsAnalysis/symmetricConstra...   \n",
       "P1560    3239        13  [../../allConstraintsAnalysis/symmetricConstra...   \n",
       "P6185     280         0  [../../allConstraintsAnalysis/symmetricConstra...   \n",
       "P3364    1786         0  [../../allConstraintsAnalysis/symmetricConstra...   \n",
       "\n",
       "       violation_ratio  \n",
       "P2152         0.013158  \n",
       "P1639         0.009620  \n",
       "P1560         0.003998  \n",
       "P6185         0.000000  \n",
       "P3364         0.000000  "
      ]
     },
     "execution_count": 7,
     "metadata": {},
     "output_type": "execute_result"
    },
    {
     "data": {
      "text/html": [
       "<div>\n",
       "<style scoped>\n",
       "    .dataframe tbody tr th:only-of-type {\n",
       "        vertical-align: middle;\n",
       "    }\n",
       "\n",
       "    .dataframe tbody tr th {\n",
       "        vertical-align: top;\n",
       "    }\n",
       "\n",
       "    .dataframe thead th {\n",
       "        text-align: right;\n",
       "    }\n",
       "</style>\n",
       "<table border=\"1\" class=\"dataframe\">\n",
       "  <thead>\n",
       "    <tr style=\"text-align: right;\">\n",
       "      <th></th>\n",
       "      <th>correct</th>\n",
       "      <th>incorrect</th>\n",
       "      <th>paths</th>\n",
       "      <th>violation_ratio</th>\n",
       "    </tr>\n",
       "  </thead>\n",
       "  <tbody>\n",
       "    <tr>\n",
       "      <th>P2152</th>\n",
       "      <td>75</td>\n",
       "      <td>1</td>\n",
       "      <td>[../../allConstraintsAnalysis/symmetricConstra...</td>\n",
       "      <td>0.013158</td>\n",
       "    </tr>\n",
       "    <tr>\n",
       "      <th>P1639</th>\n",
       "      <td>2059</td>\n",
       "      <td>20</td>\n",
       "      <td>[../../allConstraintsAnalysis/symmetricConstra...</td>\n",
       "      <td>0.009620</td>\n",
       "    </tr>\n",
       "    <tr>\n",
       "      <th>P1560</th>\n",
       "      <td>3239</td>\n",
       "      <td>13</td>\n",
       "      <td>[../../allConstraintsAnalysis/symmetricConstra...</td>\n",
       "      <td>0.003998</td>\n",
       "    </tr>\n",
       "    <tr>\n",
       "      <th>P6185</th>\n",
       "      <td>280</td>\n",
       "      <td>0</td>\n",
       "      <td>[../../allConstraintsAnalysis/symmetricConstra...</td>\n",
       "      <td>0.000000</td>\n",
       "    </tr>\n",
       "    <tr>\n",
       "      <th>P3364</th>\n",
       "      <td>1786</td>\n",
       "      <td>0</td>\n",
       "      <td>[../../allConstraintsAnalysis/symmetricConstra...</td>\n",
       "      <td>0.000000</td>\n",
       "    </tr>\n",
       "  </tbody>\n",
       "</table>\n",
       "</div>"
      ],
      "text/plain": [
       "      correct incorrect                                              paths  \\\n",
       "P2152      75         1  [../../allConstraintsAnalysis/symmetricConstra...   \n",
       "P1639    2059        20  [../../allConstraintsAnalysis/symmetricConstra...   \n",
       "P1560    3239        13  [../../allConstraintsAnalysis/symmetricConstra...   \n",
       "P6185     280         0  [../../allConstraintsAnalysis/symmetricConstra...   \n",
       "P3364    1786         0  [../../allConstraintsAnalysis/symmetricConstra...   \n",
       "\n",
       "       violation_ratio  \n",
       "P2152         0.013158  \n",
       "P1639         0.009620  \n",
       "P1560         0.003998  \n",
       "P6185         0.000000  \n",
       "P3364         0.000000  "
      ]
     },
     "execution_count": 7,
     "metadata": {},
     "output_type": "execute_result"
    }
   ],
   "source": [
    "symmConstDF1 = pd.DataFrame(symmConstViolations['mandatory']).T\n",
    "symmConstDF1['violation_ratio'] = symmConstDF1.apply(lambda p: p.incorrect / (p.incorrect + p.correct), axis=1)\n",
    "symmConstDF1.sort_values(by=['violation_ratio'],ascending=False).head(15)"
   ]
  },
  {
   "cell_type": "code",
   "execution_count": 8,
   "id": "gross-extraction",
   "metadata": {},
   "outputs": [
    {
     "data": {
      "text/html": [
       "<div>\n",
       "<style scoped>\n",
       "    .dataframe tbody tr th:only-of-type {\n",
       "        vertical-align: middle;\n",
       "    }\n",
       "\n",
       "    .dataframe tbody tr th {\n",
       "        vertical-align: top;\n",
       "    }\n",
       "\n",
       "    .dataframe thead th {\n",
       "        text-align: right;\n",
       "    }\n",
       "</style>\n",
       "<table border=\"1\" class=\"dataframe\">\n",
       "  <thead>\n",
       "    <tr style=\"text-align: right;\">\n",
       "      <th></th>\n",
       "      <th>correct</th>\n",
       "      <th>incorrect</th>\n",
       "      <th>paths</th>\n",
       "      <th>violation_ratio</th>\n",
       "    </tr>\n",
       "  </thead>\n",
       "  <tbody>\n",
       "    <tr>\n",
       "      <th>P2789</th>\n",
       "      <td>103892</td>\n",
       "      <td>6058</td>\n",
       "      <td>[../../allConstraintsAnalysis/symmetricConstra...</td>\n",
       "      <td>0.055098</td>\n",
       "    </tr>\n",
       "    <tr>\n",
       "      <th>P1889</th>\n",
       "      <td>505954</td>\n",
       "      <td>23764</td>\n",
       "      <td>[../../allConstraintsAnalysis/symmetricConstra...</td>\n",
       "      <td>0.044862</td>\n",
       "    </tr>\n",
       "    <tr>\n",
       "      <th>P197</th>\n",
       "      <td>173023</td>\n",
       "      <td>1773</td>\n",
       "      <td>[../../allConstraintsAnalysis/symmetricConstra...</td>\n",
       "      <td>0.010143</td>\n",
       "    </tr>\n",
       "  </tbody>\n",
       "</table>\n",
       "</div>"
      ],
      "text/plain": [
       "      correct incorrect                                              paths  \\\n",
       "P2789  103892      6058  [../../allConstraintsAnalysis/symmetricConstra...   \n",
       "P1889  505954     23764  [../../allConstraintsAnalysis/symmetricConstra...   \n",
       "P197   173023      1773  [../../allConstraintsAnalysis/symmetricConstra...   \n",
       "\n",
       "       violation_ratio  \n",
       "P2789         0.055098  \n",
       "P1889         0.044862  \n",
       "P197          0.010143  "
      ]
     },
     "execution_count": 8,
     "metadata": {},
     "output_type": "execute_result"
    },
    {
     "data": {
      "text/html": [
       "<div>\n",
       "<style scoped>\n",
       "    .dataframe tbody tr th:only-of-type {\n",
       "        vertical-align: middle;\n",
       "    }\n",
       "\n",
       "    .dataframe tbody tr th {\n",
       "        vertical-align: top;\n",
       "    }\n",
       "\n",
       "    .dataframe thead th {\n",
       "        text-align: right;\n",
       "    }\n",
       "</style>\n",
       "<table border=\"1\" class=\"dataframe\">\n",
       "  <thead>\n",
       "    <tr style=\"text-align: right;\">\n",
       "      <th></th>\n",
       "      <th>correct</th>\n",
       "      <th>incorrect</th>\n",
       "      <th>paths</th>\n",
       "      <th>violation_ratio</th>\n",
       "    </tr>\n",
       "  </thead>\n",
       "  <tbody>\n",
       "    <tr>\n",
       "      <th>P2789</th>\n",
       "      <td>103892</td>\n",
       "      <td>6058</td>\n",
       "      <td>[../../allConstraintsAnalysis/symmetricConstra...</td>\n",
       "      <td>0.055098</td>\n",
       "    </tr>\n",
       "    <tr>\n",
       "      <th>P1889</th>\n",
       "      <td>505954</td>\n",
       "      <td>23764</td>\n",
       "      <td>[../../allConstraintsAnalysis/symmetricConstra...</td>\n",
       "      <td>0.044862</td>\n",
       "    </tr>\n",
       "    <tr>\n",
       "      <th>P197</th>\n",
       "      <td>173023</td>\n",
       "      <td>1773</td>\n",
       "      <td>[../../allConstraintsAnalysis/symmetricConstra...</td>\n",
       "      <td>0.010143</td>\n",
       "    </tr>\n",
       "  </tbody>\n",
       "</table>\n",
       "</div>"
      ],
      "text/plain": [
       "      correct incorrect                                              paths  \\\n",
       "P2789  103892      6058  [../../allConstraintsAnalysis/symmetricConstra...   \n",
       "P1889  505954     23764  [../../allConstraintsAnalysis/symmetricConstra...   \n",
       "P197   173023      1773  [../../allConstraintsAnalysis/symmetricConstra...   \n",
       "\n",
       "       violation_ratio  \n",
       "P2789         0.055098  \n",
       "P1889         0.044862  \n",
       "P197          0.010143  "
      ]
     },
     "execution_count": 8,
     "metadata": {},
     "output_type": "execute_result"
    }
   ],
   "source": [
    "symmConstDF2 = pd.DataFrame(symmConstViolations['suggestion']).T\n",
    "symmConstDF2['violation_ratio'] = symmConstDF2.apply(lambda p: p.incorrect / (p.incorrect + p.correct), axis=1)\n",
    "symmConstDF2.sort_values(by=['violation_ratio'],ascending=False).head(15)"
   ]
  },
  {
   "cell_type": "code",
   "execution_count": 9,
   "id": "heavy-scout",
   "metadata": {},
   "outputs": [
    {
     "data": {
      "text/html": [
       "<div>\n",
       "<style scoped>\n",
       "    .dataframe tbody tr th:only-of-type {\n",
       "        vertical-align: middle;\n",
       "    }\n",
       "\n",
       "    .dataframe tbody tr th {\n",
       "        vertical-align: top;\n",
       "    }\n",
       "\n",
       "    .dataframe thead th {\n",
       "        text-align: right;\n",
       "    }\n",
       "</style>\n",
       "<table border=\"1\" class=\"dataframe\">\n",
       "  <thead>\n",
       "    <tr style=\"text-align: right;\">\n",
       "      <th></th>\n",
       "      <th>correct</th>\n",
       "      <th>incorrect</th>\n",
       "      <th>paths</th>\n",
       "      <th>violation_ratio</th>\n",
       "    </tr>\n",
       "  </thead>\n",
       "  <tbody>\n",
       "    <tr>\n",
       "      <th>P5188</th>\n",
       "      <td>0</td>\n",
       "      <td>2</td>\n",
       "      <td>[../../allConstraintsAnalysis/symmetricConstra...</td>\n",
       "      <td>1.000000</td>\n",
       "    </tr>\n",
       "    <tr>\n",
       "      <th>P1706</th>\n",
       "      <td>4</td>\n",
       "      <td>49</td>\n",
       "      <td>[../../allConstraintsAnalysis/symmetricConstra...</td>\n",
       "      <td>0.924528</td>\n",
       "    </tr>\n",
       "    <tr>\n",
       "      <th>P2652</th>\n",
       "      <td>460</td>\n",
       "      <td>777</td>\n",
       "      <td>[../../allConstraintsAnalysis/symmetricConstra...</td>\n",
       "      <td>0.628133</td>\n",
       "    </tr>\n",
       "    <tr>\n",
       "      <th>P521</th>\n",
       "      <td>418</td>\n",
       "      <td>144</td>\n",
       "      <td>[../../allConstraintsAnalysis/symmetricConstra...</td>\n",
       "      <td>0.256228</td>\n",
       "    </tr>\n",
       "    <tr>\n",
       "      <th>P2293</th>\n",
       "      <td>9984</td>\n",
       "      <td>1919</td>\n",
       "      <td>[../../allConstraintsAnalysis/symmetricConstra...</td>\n",
       "      <td>0.161220</td>\n",
       "    </tr>\n",
       "    <tr>\n",
       "      <th>P3032</th>\n",
       "      <td>1674</td>\n",
       "      <td>320</td>\n",
       "      <td>[../../allConstraintsAnalysis/symmetricConstra...</td>\n",
       "      <td>0.160481</td>\n",
       "    </tr>\n",
       "    <tr>\n",
       "      <th>P1382</th>\n",
       "      <td>10807</td>\n",
       "      <td>1587</td>\n",
       "      <td>[../../allConstraintsAnalysis/symmetricConstra...</td>\n",
       "      <td>0.128046</td>\n",
       "    </tr>\n",
       "    <tr>\n",
       "      <th>P1327</th>\n",
       "      <td>7754</td>\n",
       "      <td>638</td>\n",
       "      <td>[../../allConstraintsAnalysis/symmetricConstra...</td>\n",
       "      <td>0.076025</td>\n",
       "    </tr>\n",
       "    <tr>\n",
       "      <th>P451</th>\n",
       "      <td>9549</td>\n",
       "      <td>749</td>\n",
       "      <td>[../../allConstraintsAnalysis/symmetricConstra...</td>\n",
       "      <td>0.072733</td>\n",
       "    </tr>\n",
       "    <tr>\n",
       "      <th>P3403</th>\n",
       "      <td>2130</td>\n",
       "      <td>110</td>\n",
       "      <td>[../../allConstraintsAnalysis/symmetricConstra...</td>\n",
       "      <td>0.049107</td>\n",
       "    </tr>\n",
       "    <tr>\n",
       "      <th>P460</th>\n",
       "      <td>238980</td>\n",
       "      <td>8022</td>\n",
       "      <td>[../../allConstraintsAnalysis/symmetricConstra...</td>\n",
       "      <td>0.032477</td>\n",
       "    </tr>\n",
       "    <tr>\n",
       "      <th>P514</th>\n",
       "      <td>30</td>\n",
       "      <td>1</td>\n",
       "      <td>[../../allConstraintsAnalysis/symmetricConstra...</td>\n",
       "      <td>0.032258</td>\n",
       "    </tr>\n",
       "    <tr>\n",
       "      <th>P530</th>\n",
       "      <td>6595</td>\n",
       "      <td>213</td>\n",
       "      <td>[../../allConstraintsAnalysis/symmetricConstra...</td>\n",
       "      <td>0.031287</td>\n",
       "    </tr>\n",
       "    <tr>\n",
       "      <th>P461</th>\n",
       "      <td>15535</td>\n",
       "      <td>474</td>\n",
       "      <td>[../../allConstraintsAnalysis/symmetricConstra...</td>\n",
       "      <td>0.029608</td>\n",
       "    </tr>\n",
       "    <tr>\n",
       "      <th>P47</th>\n",
       "      <td>548251</td>\n",
       "      <td>13705</td>\n",
       "      <td>[../../allConstraintsAnalysis/symmetricConstra...</td>\n",
       "      <td>0.024388</td>\n",
       "    </tr>\n",
       "  </tbody>\n",
       "</table>\n",
       "</div>"
      ],
      "text/plain": [
       "      correct incorrect                                              paths  \\\n",
       "P5188       0         2  [../../allConstraintsAnalysis/symmetricConstra...   \n",
       "P1706       4        49  [../../allConstraintsAnalysis/symmetricConstra...   \n",
       "P2652     460       777  [../../allConstraintsAnalysis/symmetricConstra...   \n",
       "P521      418       144  [../../allConstraintsAnalysis/symmetricConstra...   \n",
       "P2293    9984      1919  [../../allConstraintsAnalysis/symmetricConstra...   \n",
       "P3032    1674       320  [../../allConstraintsAnalysis/symmetricConstra...   \n",
       "P1382   10807      1587  [../../allConstraintsAnalysis/symmetricConstra...   \n",
       "P1327    7754       638  [../../allConstraintsAnalysis/symmetricConstra...   \n",
       "P451     9549       749  [../../allConstraintsAnalysis/symmetricConstra...   \n",
       "P3403    2130       110  [../../allConstraintsAnalysis/symmetricConstra...   \n",
       "P460   238980      8022  [../../allConstraintsAnalysis/symmetricConstra...   \n",
       "P514       30         1  [../../allConstraintsAnalysis/symmetricConstra...   \n",
       "P530     6595       213  [../../allConstraintsAnalysis/symmetricConstra...   \n",
       "P461    15535       474  [../../allConstraintsAnalysis/symmetricConstra...   \n",
       "P47    548251     13705  [../../allConstraintsAnalysis/symmetricConstra...   \n",
       "\n",
       "       violation_ratio  \n",
       "P5188         1.000000  \n",
       "P1706         0.924528  \n",
       "P2652         0.628133  \n",
       "P521          0.256228  \n",
       "P2293         0.161220  \n",
       "P3032         0.160481  \n",
       "P1382         0.128046  \n",
       "P1327         0.076025  \n",
       "P451          0.072733  \n",
       "P3403         0.049107  \n",
       "P460          0.032477  \n",
       "P514          0.032258  \n",
       "P530          0.031287  \n",
       "P461          0.029608  \n",
       "P47           0.024388  "
      ]
     },
     "execution_count": 9,
     "metadata": {},
     "output_type": "execute_result"
    },
    {
     "data": {
      "text/html": [
       "<div>\n",
       "<style scoped>\n",
       "    .dataframe tbody tr th:only-of-type {\n",
       "        vertical-align: middle;\n",
       "    }\n",
       "\n",
       "    .dataframe tbody tr th {\n",
       "        vertical-align: top;\n",
       "    }\n",
       "\n",
       "    .dataframe thead th {\n",
       "        text-align: right;\n",
       "    }\n",
       "</style>\n",
       "<table border=\"1\" class=\"dataframe\">\n",
       "  <thead>\n",
       "    <tr style=\"text-align: right;\">\n",
       "      <th></th>\n",
       "      <th>correct</th>\n",
       "      <th>incorrect</th>\n",
       "      <th>paths</th>\n",
       "      <th>violation_ratio</th>\n",
       "    </tr>\n",
       "  </thead>\n",
       "  <tbody>\n",
       "    <tr>\n",
       "      <th>P5188</th>\n",
       "      <td>0</td>\n",
       "      <td>2</td>\n",
       "      <td>[../../allConstraintsAnalysis/symmetricConstra...</td>\n",
       "      <td>1.000000</td>\n",
       "    </tr>\n",
       "    <tr>\n",
       "      <th>P1706</th>\n",
       "      <td>4</td>\n",
       "      <td>49</td>\n",
       "      <td>[../../allConstraintsAnalysis/symmetricConstra...</td>\n",
       "      <td>0.924528</td>\n",
       "    </tr>\n",
       "    <tr>\n",
       "      <th>P2652</th>\n",
       "      <td>460</td>\n",
       "      <td>777</td>\n",
       "      <td>[../../allConstraintsAnalysis/symmetricConstra...</td>\n",
       "      <td>0.628133</td>\n",
       "    </tr>\n",
       "    <tr>\n",
       "      <th>P521</th>\n",
       "      <td>418</td>\n",
       "      <td>144</td>\n",
       "      <td>[../../allConstraintsAnalysis/symmetricConstra...</td>\n",
       "      <td>0.256228</td>\n",
       "    </tr>\n",
       "    <tr>\n",
       "      <th>P2293</th>\n",
       "      <td>9984</td>\n",
       "      <td>1919</td>\n",
       "      <td>[../../allConstraintsAnalysis/symmetricConstra...</td>\n",
       "      <td>0.161220</td>\n",
       "    </tr>\n",
       "    <tr>\n",
       "      <th>P3032</th>\n",
       "      <td>1674</td>\n",
       "      <td>320</td>\n",
       "      <td>[../../allConstraintsAnalysis/symmetricConstra...</td>\n",
       "      <td>0.160481</td>\n",
       "    </tr>\n",
       "    <tr>\n",
       "      <th>P1382</th>\n",
       "      <td>10807</td>\n",
       "      <td>1587</td>\n",
       "      <td>[../../allConstraintsAnalysis/symmetricConstra...</td>\n",
       "      <td>0.128046</td>\n",
       "    </tr>\n",
       "    <tr>\n",
       "      <th>P1327</th>\n",
       "      <td>7754</td>\n",
       "      <td>638</td>\n",
       "      <td>[../../allConstraintsAnalysis/symmetricConstra...</td>\n",
       "      <td>0.076025</td>\n",
       "    </tr>\n",
       "    <tr>\n",
       "      <th>P451</th>\n",
       "      <td>9549</td>\n",
       "      <td>749</td>\n",
       "      <td>[../../allConstraintsAnalysis/symmetricConstra...</td>\n",
       "      <td>0.072733</td>\n",
       "    </tr>\n",
       "    <tr>\n",
       "      <th>P3403</th>\n",
       "      <td>2130</td>\n",
       "      <td>110</td>\n",
       "      <td>[../../allConstraintsAnalysis/symmetricConstra...</td>\n",
       "      <td>0.049107</td>\n",
       "    </tr>\n",
       "    <tr>\n",
       "      <th>P460</th>\n",
       "      <td>238980</td>\n",
       "      <td>8022</td>\n",
       "      <td>[../../allConstraintsAnalysis/symmetricConstra...</td>\n",
       "      <td>0.032477</td>\n",
       "    </tr>\n",
       "    <tr>\n",
       "      <th>P514</th>\n",
       "      <td>30</td>\n",
       "      <td>1</td>\n",
       "      <td>[../../allConstraintsAnalysis/symmetricConstra...</td>\n",
       "      <td>0.032258</td>\n",
       "    </tr>\n",
       "    <tr>\n",
       "      <th>P530</th>\n",
       "      <td>6595</td>\n",
       "      <td>213</td>\n",
       "      <td>[../../allConstraintsAnalysis/symmetricConstra...</td>\n",
       "      <td>0.031287</td>\n",
       "    </tr>\n",
       "    <tr>\n",
       "      <th>P461</th>\n",
       "      <td>15535</td>\n",
       "      <td>474</td>\n",
       "      <td>[../../allConstraintsAnalysis/symmetricConstra...</td>\n",
       "      <td>0.029608</td>\n",
       "    </tr>\n",
       "    <tr>\n",
       "      <th>P47</th>\n",
       "      <td>548251</td>\n",
       "      <td>13705</td>\n",
       "      <td>[../../allConstraintsAnalysis/symmetricConstra...</td>\n",
       "      <td>0.024388</td>\n",
       "    </tr>\n",
       "  </tbody>\n",
       "</table>\n",
       "</div>"
      ],
      "text/plain": [
       "      correct incorrect                                              paths  \\\n",
       "P5188       0         2  [../../allConstraintsAnalysis/symmetricConstra...   \n",
       "P1706       4        49  [../../allConstraintsAnalysis/symmetricConstra...   \n",
       "P2652     460       777  [../../allConstraintsAnalysis/symmetricConstra...   \n",
       "P521      418       144  [../../allConstraintsAnalysis/symmetricConstra...   \n",
       "P2293    9984      1919  [../../allConstraintsAnalysis/symmetricConstra...   \n",
       "P3032    1674       320  [../../allConstraintsAnalysis/symmetricConstra...   \n",
       "P1382   10807      1587  [../../allConstraintsAnalysis/symmetricConstra...   \n",
       "P1327    7754       638  [../../allConstraintsAnalysis/symmetricConstra...   \n",
       "P451     9549       749  [../../allConstraintsAnalysis/symmetricConstra...   \n",
       "P3403    2130       110  [../../allConstraintsAnalysis/symmetricConstra...   \n",
       "P460   238980      8022  [../../allConstraintsAnalysis/symmetricConstra...   \n",
       "P514       30         1  [../../allConstraintsAnalysis/symmetricConstra...   \n",
       "P530     6595       213  [../../allConstraintsAnalysis/symmetricConstra...   \n",
       "P461    15535       474  [../../allConstraintsAnalysis/symmetricConstra...   \n",
       "P47    548251     13705  [../../allConstraintsAnalysis/symmetricConstra...   \n",
       "\n",
       "       violation_ratio  \n",
       "P5188         1.000000  \n",
       "P1706         0.924528  \n",
       "P2652         0.628133  \n",
       "P521          0.256228  \n",
       "P2293         0.161220  \n",
       "P3032         0.160481  \n",
       "P1382         0.128046  \n",
       "P1327         0.076025  \n",
       "P451          0.072733  \n",
       "P3403         0.049107  \n",
       "P460          0.032477  \n",
       "P514          0.032258  \n",
       "P530          0.031287  \n",
       "P461          0.029608  \n",
       "P47           0.024388  "
      ]
     },
     "execution_count": 9,
     "metadata": {},
     "output_type": "execute_result"
    }
   ],
   "source": [
    "symmConstDF3 = pd.DataFrame(symmConstViolations['normal']).T\n",
    "symmConstDF3['violation_ratio'] = symmConstDF3.apply(lambda p: p.incorrect / (p.incorrect + p.correct), axis=1)\n",
    "symmConstDF3.sort_values(by=['violation_ratio'],ascending=False).head(15)"
   ]
  },
  {
   "cell_type": "code",
   "execution_count": 10,
   "id": "sexual-blowing",
   "metadata": {},
   "outputs": [],
   "source": [
    "# !head ../../allConstraintsAnalysis/symmetricConstraint/normal/claims.P3032.incorrect.tsv\n",
    "\n"
   ]
  },
  {
   "cell_type": "code",
   "execution_count": 11,
   "id": "legitimate-aspect",
   "metadata": {},
   "outputs": [
    {
     "data": {
      "text/plain": [
       "Text(0.5, 1.0, 'Symmetric Normal Constraint - Violation Ratios')"
      ]
     },
     "execution_count": 11,
     "metadata": {},
     "output_type": "execute_result"
    },
    {
     "data": {
      "text/plain": [
       "Text(0.5, 1.0, 'Symmetric Normal Constraint - Violation Ratios')"
      ]
     },
     "execution_count": 11,
     "metadata": {},
     "output_type": "execute_result"
    },
    {
     "data": {
      "image/png": "[encoded data removed]",
      "text/plain": [
       "<Figure size 432x288 with 1 Axes>"
      ]
     },
     "metadata": {
      "needs_background": "light"
     },
     "output_type": "display_data"
    },
    {
     "data": {
      "image/png": "[encoded data removed]",
      "text/plain": [
       "<Figure size 432x288 with 1 Axes>"
      ]
     },
     "metadata": {
      "needs_background": "light"
     },
     "output_type": "display_data"
    }
   ],
   "source": [
    "symmConstDF3.sort_values(by=['violation_ratio'],ascending=False)['violation_ratio'].plot.hist(bins=100).set_title(\"Symmetric Normal Constraint - Violation Ratios\")"
   ]
  },
  {
   "cell_type": "code",
   "execution_count": 12,
   "id": "amber-diesel",
   "metadata": {},
   "outputs": [],
   "source": [
    "pd.concat([symmConstDF1, symmConstDF2, symmConstDF3]).to_csv('../../allConstraintsAnalysis/symmConstDFAnalysis.csv')"
   ]
  },
  {
   "cell_type": "markdown",
   "id": "unlikely-sewing",
   "metadata": {},
   "source": [
    "### Find out time required"
   ]
  },
  {
   "cell_type": "code",
   "execution_count": 11,
   "id": "southern-reasoning",
   "metadata": {},
   "outputs": [
    {
     "data": {
      "application/vnd.jupyter.widget-view+json": {
       "model_id": "01675fcd83284c8ab2aa683f43fef458",
       "version_major": 2,
       "version_minor": 0
      },
      "text/plain": [
       "  0%|          | 0/108 [00:00<?, ?it/s]"
      ]
     },
     "metadata": {},
     "output_type": "display_data"
    }
   ],
   "source": [
    "import pandas as pd\n",
    "import os\n",
    "from tqdm.notebook import tqdm\n",
    "\n",
    "codepConstViolations = {}\n",
    "\n",
    "codepConstViolations = {}\n",
    "codepConstPropList = set()\n",
    "\n",
    "def extractTimes(filename):\n",
    "    times = []\n",
    "    with open(filename) as f:\n",
    "        for line in f:\n",
    "            if \"real\" in line:\n",
    "                line = line.strip()\n",
    "                time1 = line.split(\"\\t\")[1]\n",
    "                mins, sec = time1.split(\"m\")\n",
    "                mins = int(mins)\n",
    "                sec = float(sec[:-1])\n",
    "                times.append(60 * mins + sec)\n",
    "    return times\n",
    "\n",
    "# codepConstViolationsSummary = {}\n",
    "times = []\n",
    "filePath = '/data/wd-correctness/propertiesSplit/checkViolations/exec_logs/'\n",
    "for filename in tqdm(os.listdir(filePath)):\n",
    "    if filename.startswith(\"symmConst_Validator_\"):\n",
    "        tempTimes = extractTimes(filePath + filename)\n",
    "        times += tempTimes"
   ]
  },
  {
   "cell_type": "code",
   "execution_count": 12,
   "id": "classical-updating",
   "metadata": {},
   "outputs": [
    {
     "name": "stdout",
     "output_type": "stream",
     "text": [
      "count     38.000000\n",
      "mean      15.315868\n",
      "std       61.526228\n",
      "min        2.069000\n",
      "25%        2.617750\n",
      "50%        3.003000\n",
      "75%        5.889250\n",
      "max      383.135000\n",
      "dtype: float64\n"
     ]
    }
   ],
   "source": [
    "print(pd.Series(times).describe())"
   ]
  },
  {
   "cell_type": "code",
   "execution_count": 13,
   "id": "fundamental-bottle",
   "metadata": {},
   "outputs": [
    {
     "data": {
      "text/plain": [
       "Text(0.5, 1.0, 'Distribution of times (in s) taken for symmetric constraint checks')"
      ]
     },
     "execution_count": 13,
     "metadata": {},
     "output_type": "execute_result"
    },
    {
     "data": {
      "image/png": "[encoded data removed]",
      "text/plain": [
       "<Figure size 432x288 with 1 Axes>"
      ]
     },
     "metadata": {
      "needs_background": "light"
     },
     "output_type": "display_data"
    }
   ],
   "source": [
    "import seaborn as sns\n",
    "sns.lineplot(data=pd.Series(times)).set_title(\"Distribution of times (in s) taken for symmetric constraint checks\")"
   ]
  },
  {
   "cell_type": "markdown",
   "id": "informed-animal",
   "metadata": {},
   "source": [
    "## Inverse Constraint (Q21510855)\n",
    "\n",
    "This constraint says, if node1 has a property with this constraint, then both `(node1)-[prop]->(node2)` and `(node2)-[prop]->(node1)` must be present with few exceptions"
   ]
  },
  {
   "cell_type": "markdown",
   "id": "dramatic-manchester",
   "metadata": {},
   "source": [
    "### Constraints File"
   ]
  },
  {
   "cell_type": "code",
   "execution_count": 1,
   "id": "leading-server",
   "metadata": {},
   "outputs": [
    {
     "name": "stdout",
     "output_type": "stream",
     "text": [
      "[2021-04-11 11:02:04 query]: SQL Translation:\r\n",
      "---------------------------------------------\r\n",
      "  SELECT *\r\n",
      "     FROM graph_1 AS graph_1_c1\r\n",
      "     WHERE graph_1_c1.\"label\"=?\r\n",
      "     AND graph_1_c1.\"node2\"=?\r\n",
      "  PARAS: ['P2302', 'Q21510855']\r\n",
      "---------------------------------------------\r\n"
     ]
    }
   ],
   "source": [
    "!kgtk --debug query -i ../../gdrive-kgtk-dump-2020-12-07/claims.properties.tsv.gz \\\n",
    "    ../../gdrive-kgtk-dump-2020-12-07/qualifiers.properties.tsv.gz \\\n",
    "    --match \"p: (nodeProp1)-[nodePropEdge:P2302]->(:Q21510855)\" \\\n",
    "    -o ../../constraintsOP/inverseConstraint/claims.constraints_list.tsv \\\n",
    "    --graph-cache ~/sqlite3_caches/temp1345.valuetype.sqlite3.db"
   ]
  },
  {
   "cell_type": "code",
   "execution_count": 2,
   "id": "offshore-sudan",
   "metadata": {},
   "outputs": [
    {
     "name": "stdout",
     "output_type": "stream",
     "text": [
      "id\tnode1\tlabel\tnode2\trank\tnode2;wikidatatype\r\n",
      "P1026-P2302-Q21510855-adc83b86-0\tP1026\tP2302\tQ21510855\tnormal\twikibase-item\r\n",
      "P1029-P2302-Q21510855-6b55e057-0\tP1029\tP2302\tQ21510855\tnormal\twikibase-item\r\n",
      "P115-P2302-Q21510855-f7aa0b78-0\tP115\tP2302\tQ21510855\tnormal\twikibase-item\r\n",
      "P1151-P2302-Q21510855-0d9aa9c6-0\tP1151\tP2302\tQ21510855\tnormal\twikibase-item\r\n",
      "P1204-P2302-Q21510855-e3d53bb6-0\tP1204\tP2302\tQ21510855\tnormal\twikibase-item\r\n",
      "P1283-P2302-Q21510855-0e7699bb-0\tP1283\tP2302\tQ21510855\tnormal\twikibase-item\r\n",
      "P1308-P2302-Q21510855-2aba96b7-0\tP1308\tP2302\tQ21510855\tnormal\twikibase-item\r\n",
      "P1365-P2302-Q21510855-c809b758-0\tP1365\tP2302\tQ21510855\tnormal\twikibase-item\r\n",
      "P1366-P2302-Q21510855-eee12ef8-0\tP1366\tP2302\tQ21510855\tnormal\twikibase-item\r\n"
     ]
    }
   ],
   "source": [
    "!head ../../constraintsOP/inverseConstraint/claims.constraints_list.tsv"
   ]
  },
  {
   "cell_type": "code",
   "execution_count": 3,
   "id": "received-colonial",
   "metadata": {},
   "outputs": [],
   "source": [
    "import pandas as pd\n",
    "qualiDF = pd.read_csv(\"../../gdrive-kgtk-dump-2020-12-07/qualifiers.properties.tsv.gz\",sep='\\t')\n",
    "constDF = pd.read_csv(\"../../constraintsOP/inverseConstraint/claims.constraints_list.tsv\",sep='\\t')"
   ]
  },
  {
   "cell_type": "code",
   "execution_count": 4,
   "id": "overall-expense",
   "metadata": {},
   "outputs": [],
   "source": [
    "constDF2 = constDF.set_index('id').join(qualiDF.set_index('node1'),rsuffix='_qualifier').drop(columns=['id', 'node2;wikidatatype_qualifier', 'rank', 'node2', 'label', 'node2;wikidatatype']).rename(columns={'label_qualifier':'label', 'node2_qualifier': 'node2'})\n",
    "constDF2 = constDF2.reset_index()\n",
    "constDF2 = constDF2.rename(columns={'index':'id'})\n",
    "constDF2['label'] = constDF2.label.fillna(\"P2316\")\n",
    "constDF2['node2'] = constDF2.node2.fillna(\"Normal\")"
   ]
  },
  {
   "cell_type": "code",
   "execution_count": 5,
   "id": "valid-throat",
   "metadata": {},
   "outputs": [],
   "source": [
    "constDF2.to_csv(\"../../constraintsOP/inverseConstraint/claims.constraints_all.tsv\",sep=\"\\t\",index=False)"
   ]
  },
  {
   "cell_type": "code",
   "execution_count": 6,
   "id": "focused-pennsylvania",
   "metadata": {},
   "outputs": [],
   "source": [
    "import pandas as pd\n",
    "import math\n",
    "dfItemRequires = pd.read_csv('../../constraintsOP/inverseConstraint/claims.constraints_all.tsv',sep='\\t')"
   ]
  },
  {
   "cell_type": "code",
   "execution_count": 7,
   "id": "moved-rental",
   "metadata": {},
   "outputs": [],
   "source": [
    "dfItemRequires = dfItemRequires.groupby(['id','node1','label']).node2.apply(lambda p: p.tolist()).reset_index()"
   ]
  },
  {
   "cell_type": "code",
   "execution_count": 8,
   "id": "attached-rings",
   "metadata": {},
   "outputs": [
    {
     "data": {
      "text/plain": [
       "array(['P2306', 'P2316', 'P4155', 'P2303'], dtype=object)"
      ]
     },
     "execution_count": 8,
     "metadata": {},
     "output_type": "execute_result"
    }
   ],
   "source": [
    "dfItemRequires['label'].unique()"
   ]
  },
  {
   "cell_type": "code",
   "execution_count": 9,
   "id": "loving-mileage",
   "metadata": {},
   "outputs": [
    {
     "data": {
      "text/plain": [
       "P2306    110\n",
       "P2316     10\n",
       "P2303      2\n",
       "P4155      1\n",
       "Name: label, dtype: int64"
      ]
     },
     "execution_count": 9,
     "metadata": {},
     "output_type": "execute_result"
    }
   ],
   "source": [
    "dfItemRequires['label'].value_counts()"
   ]
  },
  {
   "cell_type": "code",
   "execution_count": 10,
   "id": "local-forty",
   "metadata": {},
   "outputs": [],
   "source": [
    "#Reference: https://stackoverflow.com/a/17298454\n",
    "# dfItemRequires.pivot_table('node2', ['node1', 'id'], 'label')\n",
    "dfItemRequires = dfItemRequires.pivot(index=['node1','id'], columns='label', values='node2')"
   ]
  },
  {
   "cell_type": "code",
   "execution_count": 11,
   "id": "pressed-upset",
   "metadata": {},
   "outputs": [
    {
     "data": {
      "text/html": [
       "<div>\n",
       "<style scoped>\n",
       "    .dataframe tbody tr th:only-of-type {\n",
       "        vertical-align: middle;\n",
       "    }\n",
       "\n",
       "    .dataframe tbody tr th {\n",
       "        vertical-align: top;\n",
       "    }\n",
       "\n",
       "    .dataframe thead th {\n",
       "        text-align: right;\n",
       "    }\n",
       "</style>\n",
       "<table border=\"1\" class=\"dataframe\">\n",
       "  <thead>\n",
       "    <tr style=\"text-align: right;\">\n",
       "      <th></th>\n",
       "      <th>label</th>\n",
       "      <th>P2303</th>\n",
       "      <th>P2306</th>\n",
       "      <th>P2316</th>\n",
       "      <th>P4155</th>\n",
       "    </tr>\n",
       "    <tr>\n",
       "      <th>node1</th>\n",
       "      <th>id</th>\n",
       "      <th></th>\n",
       "      <th></th>\n",
       "      <th></th>\n",
       "      <th></th>\n",
       "    </tr>\n",
       "  </thead>\n",
       "  <tbody>\n",
       "    <tr>\n",
       "      <th>P1026</th>\n",
       "      <th>P1026-P2302-Q21510855-adc83b86-0</th>\n",
       "      <td>NaN</td>\n",
       "      <td>[P50]</td>\n",
       "      <td>NaN</td>\n",
       "      <td>NaN</td>\n",
       "    </tr>\n",
       "    <tr>\n",
       "      <th>P1029</th>\n",
       "      <th>P1029-P2302-Q21510855-6b55e057-0</th>\n",
       "      <td>NaN</td>\n",
       "      <td>[P5096]</td>\n",
       "      <td>NaN</td>\n",
       "      <td>NaN</td>\n",
       "    </tr>\n",
       "    <tr>\n",
       "      <th>P115</th>\n",
       "      <th>P115-P2302-Q21510855-f7aa0b78-0</th>\n",
       "      <td>NaN</td>\n",
       "      <td>[P466]</td>\n",
       "      <td>NaN</td>\n",
       "      <td>NaN</td>\n",
       "    </tr>\n",
       "    <tr>\n",
       "      <th>P1151</th>\n",
       "      <th>P1151-P2302-Q21510855-0d9aa9c6-0</th>\n",
       "      <td>NaN</td>\n",
       "      <td>[P1204]</td>\n",
       "      <td>[Q21502408]</td>\n",
       "      <td>NaN</td>\n",
       "    </tr>\n",
       "    <tr>\n",
       "      <th>P1204</th>\n",
       "      <th>P1204-P2302-Q21510855-e3d53bb6-0</th>\n",
       "      <td>NaN</td>\n",
       "      <td>[P1151]</td>\n",
       "      <td>NaN</td>\n",
       "      <td>NaN</td>\n",
       "    </tr>\n",
       "  </tbody>\n",
       "</table>\n",
       "</div>"
      ],
      "text/plain": [
       "label                                  P2303    P2306        P2316 P4155\n",
       "node1 id                                                                \n",
       "P1026 P1026-P2302-Q21510855-adc83b86-0   NaN    [P50]          NaN   NaN\n",
       "P1029 P1029-P2302-Q21510855-6b55e057-0   NaN  [P5096]          NaN   NaN\n",
       "P115  P115-P2302-Q21510855-f7aa0b78-0    NaN   [P466]          NaN   NaN\n",
       "P1151 P1151-P2302-Q21510855-0d9aa9c6-0   NaN  [P1204]  [Q21502408]   NaN\n",
       "P1204 P1204-P2302-Q21510855-e3d53bb6-0   NaN  [P1151]          NaN   NaN"
      ]
     },
     "execution_count": 11,
     "metadata": {},
     "output_type": "execute_result"
    }
   ],
   "source": [
    "dfItemRequires.head()"
   ]
  },
  {
   "cell_type": "code",
   "execution_count": 12,
   "id": "extra-stomach",
   "metadata": {},
   "outputs": [],
   "source": [
    "dfItemRequires = dfItemRequires.droplevel(1)"
   ]
  },
  {
   "cell_type": "code",
   "execution_count": 13,
   "id": "seeing-marine",
   "metadata": {},
   "outputs": [
    {
     "data": {
      "text/html": [
       "<div>\n",
       "<style scoped>\n",
       "    .dataframe tbody tr th:only-of-type {\n",
       "        vertical-align: middle;\n",
       "    }\n",
       "\n",
       "    .dataframe tbody tr th {\n",
       "        vertical-align: top;\n",
       "    }\n",
       "\n",
       "    .dataframe thead th {\n",
       "        text-align: right;\n",
       "    }\n",
       "</style>\n",
       "<table border=\"1\" class=\"dataframe\">\n",
       "  <thead>\n",
       "    <tr style=\"text-align: right;\">\n",
       "      <th>label</th>\n",
       "      <th>P2303</th>\n",
       "      <th>P2306</th>\n",
       "      <th>P2316</th>\n",
       "      <th>P4155</th>\n",
       "    </tr>\n",
       "    <tr>\n",
       "      <th>node1</th>\n",
       "      <th></th>\n",
       "      <th></th>\n",
       "      <th></th>\n",
       "      <th></th>\n",
       "    </tr>\n",
       "  </thead>\n",
       "  <tbody>\n",
       "    <tr>\n",
       "      <th>P1026</th>\n",
       "      <td>NaN</td>\n",
       "      <td>[P50]</td>\n",
       "      <td>NaN</td>\n",
       "      <td>NaN</td>\n",
       "    </tr>\n",
       "    <tr>\n",
       "      <th>P1029</th>\n",
       "      <td>NaN</td>\n",
       "      <td>[P5096]</td>\n",
       "      <td>NaN</td>\n",
       "      <td>NaN</td>\n",
       "    </tr>\n",
       "    <tr>\n",
       "      <th>P115</th>\n",
       "      <td>NaN</td>\n",
       "      <td>[P466]</td>\n",
       "      <td>NaN</td>\n",
       "      <td>NaN</td>\n",
       "    </tr>\n",
       "    <tr>\n",
       "      <th>P1151</th>\n",
       "      <td>NaN</td>\n",
       "      <td>[P1204]</td>\n",
       "      <td>[Q21502408]</td>\n",
       "      <td>NaN</td>\n",
       "    </tr>\n",
       "    <tr>\n",
       "      <th>P1204</th>\n",
       "      <td>NaN</td>\n",
       "      <td>[P1151]</td>\n",
       "      <td>NaN</td>\n",
       "      <td>NaN</td>\n",
       "    </tr>\n",
       "  </tbody>\n",
       "</table>\n",
       "</div>"
      ],
      "text/plain": [
       "label P2303    P2306        P2316 P4155\n",
       "node1                                  \n",
       "P1026   NaN    [P50]          NaN   NaN\n",
       "P1029   NaN  [P5096]          NaN   NaN\n",
       "P115    NaN   [P466]          NaN   NaN\n",
       "P1151   NaN  [P1204]  [Q21502408]   NaN\n",
       "P1204   NaN  [P1151]          NaN   NaN"
      ]
     },
     "execution_count": 13,
     "metadata": {},
     "output_type": "execute_result"
    }
   ],
   "source": [
    "dfItemRequires.head()"
   ]
  },
  {
   "cell_type": "markdown",
   "id": "composite-cutting",
   "metadata": {},
   "source": [
    "### Query Generator"
   ]
  },
  {
   "cell_type": "code",
   "execution_count": 48,
   "id": "acoustic-belarus",
   "metadata": {},
   "outputs": [
    {
     "data": {
      "application/vnd.jupyter.widget-view+json": {
       "model_id": "0d0055aba376447a853b9ca80241247a",
       "version_major": 2,
       "version_minor": 0
      },
      "text/plain": [
       "0it [00:00, ?it/s]"
      ]
     },
     "metadata": {},
     "output_type": "display_data"
    }
   ],
   "source": [
    "from tqdm.notebook import tqdm\n",
    "import os.path\n",
    "import os\n",
    "\n",
    "cnt = 0\n",
    "fCnt = 0\n",
    "fOP = None\n",
    "\n",
    "folderName = 'inverseConstraint_Final'\n",
    "shellFileSuffix = 'invConst_Validator_new3_'\n",
    "graph_cache_file_prefix = \"inv_2_\"\n",
    "\n",
    "for prop, constraint in tqdm(dfItemRequires.iterrows()):\n",
    "#     try:\n",
    "        \n",
    "        if type(constraint['P2316']) == list:\n",
    "            if constraint['P2316'][0] == 'Q21502408':\n",
    "                subFolderName = \"mandatory\"\n",
    "            elif constraint['P2316'][0] == 'Q62026391':\n",
    "                subFolderName = \"suggestion\"\n",
    "        else:\n",
    "            subFolderName = \"normal\"\n",
    "        \n",
    "        if not(os.path.isfile(\"../../propertiesSplit/claims.\"+ prop +\".tsv\")):\n",
    "            continue\n",
    "            \n",
    "        prop2 = constraint['P2306']\n",
    "\n",
    "        if type(prop2) != list:\n",
    "            continue\n",
    "        prop2 = prop2[0]\n",
    "\n",
    "        if not(os.path.isfile(\"../../propertiesSplit/claims.\"+ prop2 +\".tsv\")):\n",
    "            print(f\"File: ../../propertiesSplit/claims.{prop2}.tsv does not exist\")\n",
    "            continue\n",
    "        \n",
    "        if cnt % 20 == 0:\n",
    "            if fOP:\n",
    "                fOP.close()\n",
    "            fCnt += 1\n",
    "            fOP = open(\"../../propertiesSplit/checkViolations/\" + shellFileSuffix + str(fCnt) + \".sh\",\"w\")\n",
    "        \n",
    "            \n",
    "        command = \"{ time ( kgtk --debug query -i ../../propertiesSplit/claims.\"+ prop +\".tsv \\\n",
    "                        ../../propertiesSplit/claims.\"+ prop2 +\".tsv \\\n",
    "                        --match '\"+ \\\n",
    "                        f\"{prop}: (node1)-[nodeProp]->(node2), {prop2}: (node2)-[]->(node1)' \"\n",
    "\n",
    "        if type(constraint['P2303']) != list: # Exceptions not present\n",
    "            commandRest = \" --return 'distinct nodeProp.id, node1 as `node1`, nodeProp.label as `label`, node2 as `node2`'  \\\n",
    "            -o ../../allConstraintsAnalysis/\" + folderName + \"/\" + subFolderName + \"/claims.\"+ prop +\".correct.tsv \\\n",
    "            --graph-cache ~/sqlite3_caches/\" + str(graph_cache_file_prefix) + str(fCnt) + \".sqlite3.db; \\\n",
    "             kgtk --debug ifnotexists -i ../../propertiesSplit/claims.\"+ prop +\".tsv \\\n",
    "            --filter-on ../../allConstraintsAnalysis/\" + folderName + \"/\" + subFolderName + \"/claims.\"+ prop +\".correct.tsv \\\n",
    "            --filter-mode NONE \\\n",
    "            --input-keys node1 label \\\n",
    "            --filter-keys node1 label \"\n",
    "            \n",
    "            commandOPFile = \"-o ../../allConstraintsAnalysis/\" + folderName + \"/\" + subFolderName + \"/claims.\"+ prop +\".\"\n",
    "            \n",
    "            command += commandRest + commandOPFile + \"incorrect.tsv ) } 2>> ../../propertiesSplit/checkViolations/exec_logs/\" + shellFileSuffix + str(fCnt) + \".txt;\\n\"\n",
    "#             print(command)\n",
    "            fOP.write(command)\n",
    "        else:\n",
    "            excptns = set(constraint['P2303'])\n",
    "            commandRest = \" --return 'distinct nodeProp.id, node1 as `node1`, nodeProp.label as `label`, node2 as `node2`'  \\\n",
    "            -o ../../allConstraintsAnalysis/\" + folderName + \"/\" + subFolderName + \"/claims.\"+ prop +\".correct_wo_exceptions.tsv \\\n",
    "            --graph-cache ~/sqlite3_caches/\" + str(graph_cache_file_prefix) + str(fCnt) + \".sqlite3.db; \\\n",
    "             kgtk --debug ifnotexists -i ../../propertiesSplit/claims.\"+ prop +\".tsv \\\n",
    "            --filter-on ../../allConstraintsAnalysis/\" + folderName + \"/\" + subFolderName + \"/claims.\"+ prop +\".correct_wo_exceptions.tsv \\\n",
    "            --filter-mode NONE \\\n",
    "            --input-keys node1 label \\\n",
    "            --filter-keys node1 label \"\n",
    "            \n",
    "            commandOPFile = \"-o ../../allConstraintsAnalysis/\" + folderName + \"/\" + subFolderName + \"/claims.\"+ prop +\".\"\n",
    "            \n",
    "            command += commandRest + commandOPFile + \"incorrect_wo_exceptions.tsv; \"\n",
    "#             print(command)\n",
    "            fOP.write(command)\n",
    "            \n",
    "            command = \"  kgtk --debug query -i ../../allConstraintsAnalysis/\" + folderName + \"/\" + subFolderName + \"/claims.\" + prop + \".incorrect_wo_exceptions.tsv \\\n",
    "                    --match '(node1)-[]->()' --where 'node1 in \" + str(list(excptns)).replace(\"'\",'\"') + \"' \\\n",
    "                    -o ../../allConstraintsAnalysis/\" + folderName + \"/\" + subFolderName + \"/claims.\" + prop + \".incorrect_w_exceptions.tsv \\\n",
    "                    --graph-cache ~/sqlite3_caches/\" + str(graph_cache_file_prefix) + str(fCnt) + \".sqlite3.db; \"\n",
    "#             print(command)        \n",
    "            fOP.write(command)\n",
    "            \n",
    "            command = \"  kgtk --debug ifnotexists -i ../../allConstraintsAnalysis/\" + folderName + \"/\" + subFolderName + \"/claims.\" + prop + \".incorrect_wo_exceptions.tsv \\\n",
    "            --filter-on ../../allConstraintsAnalysis/\" + folderName + \"/\" + subFolderName + \"/claims.\" + prop + \".incorrect_w_exceptions.tsv \\\n",
    "            --filter-mode NONE \\\n",
    "            --input-keys node1 label \\\n",
    "            --filter-keys node1 label \\\n",
    "            -o ../../allConstraintsAnalysis/\" + folderName + \"/\" + subFolderName + \"/claims.\"+ prop +\".incorrect.tsv; \"\n",
    "#             print(command)\n",
    "            fOP.write(command)\n",
    "            \n",
    "            command = \"  kgtk cat -i ../../allConstraintsAnalysis/\" + folderName + \"/\" + subFolderName + \"/claims.\"+ prop +\".correct_wo_exceptions.tsv \\\n",
    "                    ../../allConstraintsAnalysis/\" + folderName + \"/\" + subFolderName + \"/claims.\"+ prop +\".incorrect_w_exceptions.tsv \\\n",
    "                    -o ../../allConstraintsAnalysis/\" + folderName + \"/\" + subFolderName + \"/claims.\"+ prop +\".correct.tsv ) } 2>> ../../propertiesSplit/checkViolations/exec_logs/\" + shellFileSuffix + str(fCnt) + \".txt; \\n\"\n",
    "#             print(command)\n",
    "            fOP.write(command)\n",
    "        \n",
    "        \n",
    "        cnt += 1\n",
    "#     except:\n",
    "#         print(\"Something failed for prop:\",prop)\n",
    "if fOP:\n",
    "    fOP.close()"
   ]
  },
  {
   "cell_type": "code",
   "execution_count": 49,
   "id": "large-climb",
   "metadata": {},
   "outputs": [
    {
     "data": {
      "text/plain": [
       "110"
      ]
     },
     "execution_count": 49,
     "metadata": {},
     "output_type": "execute_result"
    }
   ],
   "source": [
    "cnt"
   ]
  },
  {
   "cell_type": "code",
   "execution_count": 50,
   "id": "involved-vietnamese",
   "metadata": {},
   "outputs": [],
   "source": [
    "# import os\n",
    "# for i in range(1,7):\n",
    "#     os.system(\"screen -dm sh ../../propertiesSplit/checkViolations/invConst_Validator_new3_\"+str(i)+\".sh\")"
   ]
  },
  {
   "cell_type": "markdown",
   "id": "retired-audio",
   "metadata": {},
   "source": [
    "### Analyze Violations"
   ]
  },
  {
   "cell_type": "code",
   "execution_count": 1,
   "id": "specified-evanescence",
   "metadata": {},
   "outputs": [
    {
     "data": {
      "application/vnd.jupyter.widget-view+json": {
       "model_id": "a91df974ff5549c186e5dbb8175b77f0",
       "version_major": 2,
       "version_minor": 0
      },
      "text/plain": [
       "0it [00:00, ?it/s]"
      ]
     },
     "metadata": {},
     "output_type": "display_data"
    },
    {
     "data": {
      "application/vnd.jupyter.widget-view+json": {
       "model_id": "5ad67f2455284261bcb87f9ffdc2914c",
       "version_major": 2,
       "version_minor": 0
      },
      "text/plain": [
       "  0%|          | 0/12 [00:00<?, ?it/s]"
      ]
     },
     "metadata": {},
     "output_type": "display_data"
    },
    {
     "data": {
      "application/vnd.jupyter.widget-view+json": {
       "model_id": "5baaaa6a624b4ee8a64166819f8295be",
       "version_major": 2,
       "version_minor": 0
      },
      "text/plain": [
       "  0%|          | 0/206 [00:00<?, ?it/s]"
      ]
     },
     "metadata": {},
     "output_type": "display_data"
    },
    {
     "data": {
      "application/vnd.jupyter.widget-view+json": {
       "model_id": "52a06eee748841e1aa97571873863561",
       "version_major": 2,
       "version_minor": 0
      },
      "text/plain": [
       "  0%|          | 0/8 [00:00<?, ?it/s]"
      ]
     },
     "metadata": {},
     "output_type": "display_data"
    }
   ],
   "source": [
    "import pandas as pd\n",
    "import os\n",
    "from tqdm.notebook import tqdm\n",
    "\n",
    "invConstViolations = {}\n",
    "\n",
    "def countLines(fname):\n",
    "    cnt = -1\n",
    "    with open(fname, 'r') as f:\n",
    "        for line in f:\n",
    "            cnt += 1\n",
    "    return cnt\n",
    "\n",
    "invConstViolations = {}\n",
    "invConstPropList = set()\n",
    "\n",
    "# codepConstViolationsSummary = {}\n",
    "\n",
    "\n",
    "filePath = \"../../allConstraintsAnalysis/inverseConstraint_Final/\"\n",
    "for folder in tqdm(iter(['mandatory','normal','suggestion'])):\n",
    "    for filename in tqdm(os.listdir(filePath + folder)):\n",
    "        prop = filename.split(\".\")[1]\n",
    "        correctness = filename.split(\".\")[2]\n",
    "        if correctness not in ['correct','incorrect']:\n",
    "            continue\n",
    "        invConstPropList.add(prop)\n",
    "        count1 = countLines(filePath+folder+'/'+filename)\n",
    "        if folder not in invConstViolations:\n",
    "            invConstViolations[folder] = {}\n",
    "        if prop not in invConstViolations[folder]:\n",
    "            invConstViolations[folder][prop] = {'correct': 0, 'incorrect': 0, 'paths': []}\n",
    "        invConstViolations[folder][prop][correctness] = count1\n",
    "        invConstViolations[folder][prop]['paths'].append(filePath+folder+'/'+filename)"
   ]
  },
  {
   "cell_type": "code",
   "execution_count": 2,
   "id": "circular-africa",
   "metadata": {},
   "outputs": [
    {
     "data": {
      "text/plain": [
       "110"
      ]
     },
     "execution_count": 2,
     "metadata": {},
     "output_type": "execute_result"
    }
   ],
   "source": [
    "len(invConstPropList)"
   ]
  },
  {
   "cell_type": "code",
   "execution_count": 3,
   "id": "recreational-world",
   "metadata": {},
   "outputs": [
    {
     "data": {
      "application/vnd.jupyter.widget-view+json": {
       "model_id": "685d279e7a4a4010ba43de2a54dba1da",
       "version_major": 2,
       "version_minor": 0
      },
      "text/plain": [
       "0it [00:00, ?it/s]"
      ]
     },
     "metadata": {},
     "output_type": "display_data"
    }
   ],
   "source": [
    "invConstViolationsSummary = {}\n",
    "for folder in tqdm(iter(['mandatory','normal','suggestion'])):\n",
    "    invConstViolationsSummary[folder] = {'correct': 0, 'incorrect': 0}\n",
    "    for prop in invConstViolations[folder].keys():\n",
    "        invConstViolationsSummary[folder]['correct'] += invConstViolations[folder][prop]['correct']\n",
    "        invConstViolationsSummary[folder]['incorrect'] += invConstViolations[folder][prop]['incorrect']\n",
    "    invConstViolationsSummary[folder]['total'] = invConstViolationsSummary[folder]['correct'] + invConstViolationsSummary[folder]['incorrect']\n",
    "    invConstViolationsSummary[folder]['percIncorrect'] = invConstViolationsSummary[folder]['incorrect'] / invConstViolationsSummary[folder]['total'] * 100\n",
    "    invConstViolationsSummary[folder]['propCount'] = len(invConstViolations[folder].keys())"
   ]
  },
  {
   "cell_type": "code",
   "execution_count": 4,
   "id": "headed-singer",
   "metadata": {},
   "outputs": [
    {
     "data": {
      "text/plain": [
       "{'mandatory': {'correct': 6564,\n",
       "  'incorrect': 127,\n",
       "  'total': 6691,\n",
       "  'percIncorrect': 1.8980720370647137,\n",
       "  'propCount': 6},\n",
       " 'normal': {'correct': 7131934,\n",
       "  'incorrect': 179444,\n",
       "  'total': 7311378,\n",
       "  'percIncorrect': 2.4543116222413888,\n",
       "  'propCount': 100},\n",
       " 'suggestion': {'correct': 2002102,\n",
       "  'incorrect': 93735,\n",
       "  'total': 2095837,\n",
       "  'percIncorrect': 4.4724375034890596,\n",
       "  'propCount': 4}}"
      ]
     },
     "execution_count": 4,
     "metadata": {},
     "output_type": "execute_result"
    }
   ],
   "source": [
    "invConstViolationsSummary"
   ]
  },
  {
   "cell_type": "code",
   "execution_count": 5,
   "id": "russian-steering",
   "metadata": {},
   "outputs": [
    {
     "data": {
      "text/plain": [
       "9413906"
      ]
     },
     "execution_count": 5,
     "metadata": {},
     "output_type": "execute_result"
    }
   ],
   "source": [
    "noOfStmts = 0\n",
    "for fold in invConstViolationsSummary.keys():\n",
    "    noOfStmts += invConstViolationsSummary[fold]['total']\n",
    "noOfStmts"
   ]
  },
  {
   "cell_type": "code",
   "execution_count": 6,
   "id": "sustained-prediction",
   "metadata": {},
   "outputs": [
    {
     "data": {
      "text/html": [
       "<div>\n",
       "<style scoped>\n",
       "    .dataframe tbody tr th:only-of-type {\n",
       "        vertical-align: middle;\n",
       "    }\n",
       "\n",
       "    .dataframe tbody tr th {\n",
       "        vertical-align: top;\n",
       "    }\n",
       "\n",
       "    .dataframe thead th {\n",
       "        text-align: right;\n",
       "    }\n",
       "</style>\n",
       "<table border=\"1\" class=\"dataframe\">\n",
       "  <thead>\n",
       "    <tr style=\"text-align: right;\">\n",
       "      <th></th>\n",
       "      <th>correct</th>\n",
       "      <th>incorrect</th>\n",
       "      <th>paths</th>\n",
       "      <th>violation_ratio</th>\n",
       "    </tr>\n",
       "  </thead>\n",
       "  <tbody>\n",
       "    <tr>\n",
       "      <th>P2673</th>\n",
       "      <td>819</td>\n",
       "      <td>68</td>\n",
       "      <td>[../../allConstraintsAnalysis/inverseConstrain...</td>\n",
       "      <td>0.076663</td>\n",
       "    </tr>\n",
       "    <tr>\n",
       "      <th>P4147</th>\n",
       "      <td>271</td>\n",
       "      <td>9</td>\n",
       "      <td>[../../allConstraintsAnalysis/inverseConstrain...</td>\n",
       "      <td>0.032143</td>\n",
       "    </tr>\n",
       "    <tr>\n",
       "      <th>P4149</th>\n",
       "      <td>272</td>\n",
       "      <td>4</td>\n",
       "      <td>[../../allConstraintsAnalysis/inverseConstrain...</td>\n",
       "      <td>0.014493</td>\n",
       "    </tr>\n",
       "    <tr>\n",
       "      <th>P2033</th>\n",
       "      <td>1836</td>\n",
       "      <td>26</td>\n",
       "      <td>[../../allConstraintsAnalysis/inverseConstrain...</td>\n",
       "      <td>0.013963</td>\n",
       "    </tr>\n",
       "    <tr>\n",
       "      <th>P450</th>\n",
       "      <td>1754</td>\n",
       "      <td>16</td>\n",
       "      <td>[../../allConstraintsAnalysis/inverseConstrain...</td>\n",
       "      <td>0.009040</td>\n",
       "    </tr>\n",
       "    <tr>\n",
       "      <th>P1151</th>\n",
       "      <td>1612</td>\n",
       "      <td>4</td>\n",
       "      <td>[../../allConstraintsAnalysis/inverseConstrain...</td>\n",
       "      <td>0.002475</td>\n",
       "    </tr>\n",
       "  </tbody>\n",
       "</table>\n",
       "</div>"
      ],
      "text/plain": [
       "      correct incorrect                                              paths  \\\n",
       "P2673     819        68  [../../allConstraintsAnalysis/inverseConstrain...   \n",
       "P4147     271         9  [../../allConstraintsAnalysis/inverseConstrain...   \n",
       "P4149     272         4  [../../allConstraintsAnalysis/inverseConstrain...   \n",
       "P2033    1836        26  [../../allConstraintsAnalysis/inverseConstrain...   \n",
       "P450     1754        16  [../../allConstraintsAnalysis/inverseConstrain...   \n",
       "P1151    1612         4  [../../allConstraintsAnalysis/inverseConstrain...   \n",
       "\n",
       "       violation_ratio  \n",
       "P2673         0.076663  \n",
       "P4147         0.032143  \n",
       "P4149         0.014493  \n",
       "P2033         0.013963  \n",
       "P450          0.009040  \n",
       "P1151         0.002475  "
      ]
     },
     "execution_count": 6,
     "metadata": {},
     "output_type": "execute_result"
    }
   ],
   "source": [
    "invConstDF1 = pd.DataFrame(invConstViolations['mandatory']).T\n",
    "invConstDF1['violation_ratio'] = invConstDF1.apply(lambda p: p.incorrect / (p.correct + p.incorrect), axis=1)\n",
    "invConstDF1.sort_values(by=['violation_ratio'],ascending=False).head(15)"
   ]
  },
  {
   "cell_type": "code",
   "execution_count": 7,
   "id": "valid-symposium",
   "metadata": {},
   "outputs": [
    {
     "data": {
      "text/html": [
       "<div>\n",
       "<style scoped>\n",
       "    .dataframe tbody tr th:only-of-type {\n",
       "        vertical-align: middle;\n",
       "    }\n",
       "\n",
       "    .dataframe tbody tr th {\n",
       "        vertical-align: top;\n",
       "    }\n",
       "\n",
       "    .dataframe thead th {\n",
       "        text-align: right;\n",
       "    }\n",
       "</style>\n",
       "<table border=\"1\" class=\"dataframe\">\n",
       "  <thead>\n",
       "    <tr style=\"text-align: right;\">\n",
       "      <th></th>\n",
       "      <th>correct</th>\n",
       "      <th>incorrect</th>\n",
       "      <th>paths</th>\n",
       "      <th>violation_ratio</th>\n",
       "    </tr>\n",
       "  </thead>\n",
       "  <tbody>\n",
       "    <tr>\n",
       "      <th>P1434</th>\n",
       "      <td>3512</td>\n",
       "      <td>4723</td>\n",
       "      <td>[../../allConstraintsAnalysis/inverseConstrain...</td>\n",
       "      <td>0.573528</td>\n",
       "    </tr>\n",
       "    <tr>\n",
       "      <th>P155</th>\n",
       "      <td>963205</td>\n",
       "      <td>48956</td>\n",
       "      <td>[../../allConstraintsAnalysis/inverseConstrain...</td>\n",
       "      <td>0.048368</td>\n",
       "    </tr>\n",
       "    <tr>\n",
       "      <th>P156</th>\n",
       "      <td>963183</td>\n",
       "      <td>39925</td>\n",
       "      <td>[../../allConstraintsAnalysis/inverseConstrain...</td>\n",
       "      <td>0.039801</td>\n",
       "    </tr>\n",
       "    <tr>\n",
       "      <th>P629</th>\n",
       "      <td>72202</td>\n",
       "      <td>131</td>\n",
       "      <td>[../../allConstraintsAnalysis/inverseConstrain...</td>\n",
       "      <td>0.001811</td>\n",
       "    </tr>\n",
       "  </tbody>\n",
       "</table>\n",
       "</div>"
      ],
      "text/plain": [
       "      correct incorrect                                              paths  \\\n",
       "P1434    3512      4723  [../../allConstraintsAnalysis/inverseConstrain...   \n",
       "P155   963205     48956  [../../allConstraintsAnalysis/inverseConstrain...   \n",
       "P156   963183     39925  [../../allConstraintsAnalysis/inverseConstrain...   \n",
       "P629    72202       131  [../../allConstraintsAnalysis/inverseConstrain...   \n",
       "\n",
       "       violation_ratio  \n",
       "P1434         0.573528  \n",
       "P155          0.048368  \n",
       "P156          0.039801  \n",
       "P629          0.001811  "
      ]
     },
     "execution_count": 7,
     "metadata": {},
     "output_type": "execute_result"
    }
   ],
   "source": [
    "invConstDF2 = pd.DataFrame(invConstViolations['suggestion']).T\n",
    "invConstDF2['violation_ratio'] = invConstDF2.apply(lambda p: p.incorrect / (p.correct + p.incorrect), axis=1)\n",
    "invConstDF2.sort_values(by=['violation_ratio'],ascending=False).head(15)"
   ]
  },
  {
   "cell_type": "code",
   "execution_count": 8,
   "id": "resident-mustang",
   "metadata": {},
   "outputs": [
    {
     "data": {
      "text/html": [
       "<div>\n",
       "<style scoped>\n",
       "    .dataframe tbody tr th:only-of-type {\n",
       "        vertical-align: middle;\n",
       "    }\n",
       "\n",
       "    .dataframe tbody tr th {\n",
       "        vertical-align: top;\n",
       "    }\n",
       "\n",
       "    .dataframe thead th {\n",
       "        text-align: right;\n",
       "    }\n",
       "</style>\n",
       "<table border=\"1\" class=\"dataframe\">\n",
       "  <thead>\n",
       "    <tr style=\"text-align: right;\">\n",
       "      <th></th>\n",
       "      <th>correct</th>\n",
       "      <th>incorrect</th>\n",
       "      <th>paths</th>\n",
       "      <th>violation_ratio</th>\n",
       "    </tr>\n",
       "  </thead>\n",
       "  <tbody>\n",
       "    <tr>\n",
       "      <th>P1605</th>\n",
       "      <td>12</td>\n",
       "      <td>188</td>\n",
       "      <td>[../../allConstraintsAnalysis/inverseConstrain...</td>\n",
       "      <td>0.940000</td>\n",
       "    </tr>\n",
       "    <tr>\n",
       "      <th>P3448</th>\n",
       "      <td>583</td>\n",
       "      <td>4249</td>\n",
       "      <td>[../../allConstraintsAnalysis/inverseConstrain...</td>\n",
       "      <td>0.879346</td>\n",
       "    </tr>\n",
       "    <tr>\n",
       "      <th>P926</th>\n",
       "      <td>1</td>\n",
       "      <td>5</td>\n",
       "      <td>[../../allConstraintsAnalysis/inverseConstrain...</td>\n",
       "      <td>0.833333</td>\n",
       "    </tr>\n",
       "    <tr>\n",
       "      <th>P925</th>\n",
       "      <td>1</td>\n",
       "      <td>5</td>\n",
       "      <td>[../../allConstraintsAnalysis/inverseConstrain...</td>\n",
       "      <td>0.833333</td>\n",
       "    </tr>\n",
       "    <tr>\n",
       "      <th>P1029</th>\n",
       "      <td>475</td>\n",
       "      <td>2037</td>\n",
       "      <td>[../../allConstraintsAnalysis/inverseConstrain...</td>\n",
       "      <td>0.810908</td>\n",
       "    </tr>\n",
       "    <tr>\n",
       "      <th>P115</th>\n",
       "      <td>6712</td>\n",
       "      <td>24290</td>\n",
       "      <td>[../../allConstraintsAnalysis/inverseConstrain...</td>\n",
       "      <td>0.783498</td>\n",
       "    </tr>\n",
       "    <tr>\n",
       "      <th>P8625</th>\n",
       "      <td>7</td>\n",
       "      <td>17</td>\n",
       "      <td>[../../allConstraintsAnalysis/inverseConstrain...</td>\n",
       "      <td>0.708333</td>\n",
       "    </tr>\n",
       "    <tr>\n",
       "      <th>P5132</th>\n",
       "      <td>81</td>\n",
       "      <td>89</td>\n",
       "      <td>[../../allConstraintsAnalysis/inverseConstrain...</td>\n",
       "      <td>0.523529</td>\n",
       "    </tr>\n",
       "    <tr>\n",
       "      <th>P425</th>\n",
       "      <td>2512</td>\n",
       "      <td>1956</td>\n",
       "      <td>[../../allConstraintsAnalysis/inverseConstrain...</td>\n",
       "      <td>0.437780</td>\n",
       "    </tr>\n",
       "    <tr>\n",
       "      <th>P3816</th>\n",
       "      <td>14</td>\n",
       "      <td>10</td>\n",
       "      <td>[../../allConstraintsAnalysis/inverseConstrain...</td>\n",
       "      <td>0.416667</td>\n",
       "    </tr>\n",
       "    <tr>\n",
       "      <th>P1677</th>\n",
       "      <td>6</td>\n",
       "      <td>4</td>\n",
       "      <td>[../../allConstraintsAnalysis/inverseConstrain...</td>\n",
       "      <td>0.400000</td>\n",
       "    </tr>\n",
       "    <tr>\n",
       "      <th>P2512</th>\n",
       "      <td>210</td>\n",
       "      <td>140</td>\n",
       "      <td>[../../allConstraintsAnalysis/inverseConstrain...</td>\n",
       "      <td>0.400000</td>\n",
       "    </tr>\n",
       "    <tr>\n",
       "      <th>P2578</th>\n",
       "      <td>989</td>\n",
       "      <td>527</td>\n",
       "      <td>[../../allConstraintsAnalysis/inverseConstrain...</td>\n",
       "      <td>0.347625</td>\n",
       "    </tr>\n",
       "    <tr>\n",
       "      <th>P3261</th>\n",
       "      <td>232</td>\n",
       "      <td>122</td>\n",
       "      <td>[../../allConstraintsAnalysis/inverseConstrain...</td>\n",
       "      <td>0.344633</td>\n",
       "    </tr>\n",
       "    <tr>\n",
       "      <th>P568</th>\n",
       "      <td>1049</td>\n",
       "      <td>445</td>\n",
       "      <td>[../../allConstraintsAnalysis/inverseConstrain...</td>\n",
       "      <td>0.297858</td>\n",
       "    </tr>\n",
       "  </tbody>\n",
       "</table>\n",
       "</div>"
      ],
      "text/plain": [
       "      correct incorrect                                              paths  \\\n",
       "P1605      12       188  [../../allConstraintsAnalysis/inverseConstrain...   \n",
       "P3448     583      4249  [../../allConstraintsAnalysis/inverseConstrain...   \n",
       "P926        1         5  [../../allConstraintsAnalysis/inverseConstrain...   \n",
       "P925        1         5  [../../allConstraintsAnalysis/inverseConstrain...   \n",
       "P1029     475      2037  [../../allConstraintsAnalysis/inverseConstrain...   \n",
       "P115     6712     24290  [../../allConstraintsAnalysis/inverseConstrain...   \n",
       "P8625       7        17  [../../allConstraintsAnalysis/inverseConstrain...   \n",
       "P5132      81        89  [../../allConstraintsAnalysis/inverseConstrain...   \n",
       "P425     2512      1956  [../../allConstraintsAnalysis/inverseConstrain...   \n",
       "P3816      14        10  [../../allConstraintsAnalysis/inverseConstrain...   \n",
       "P1677       6         4  [../../allConstraintsAnalysis/inverseConstrain...   \n",
       "P2512     210       140  [../../allConstraintsAnalysis/inverseConstrain...   \n",
       "P2578     989       527  [../../allConstraintsAnalysis/inverseConstrain...   \n",
       "P3261     232       122  [../../allConstraintsAnalysis/inverseConstrain...   \n",
       "P568     1049       445  [../../allConstraintsAnalysis/inverseConstrain...   \n",
       "\n",
       "       violation_ratio  \n",
       "P1605         0.940000  \n",
       "P3448         0.879346  \n",
       "P926          0.833333  \n",
       "P925          0.833333  \n",
       "P1029         0.810908  \n",
       "P115          0.783498  \n",
       "P8625         0.708333  \n",
       "P5132         0.523529  \n",
       "P425          0.437780  \n",
       "P3816         0.416667  \n",
       "P1677         0.400000  \n",
       "P2512         0.400000  \n",
       "P2578         0.347625  \n",
       "P3261         0.344633  \n",
       "P568          0.297858  "
      ]
     },
     "execution_count": 8,
     "metadata": {},
     "output_type": "execute_result"
    }
   ],
   "source": [
    "invConstDF3 = pd.DataFrame(invConstViolations['normal']).T\n",
    "invConstDF3['violation_ratio'] = invConstDF3.apply(lambda p: p.incorrect / (p.correct + p.incorrect), axis=1)\n",
    "invConstDF3.sort_values(by=['violation_ratio'],ascending=False).head(15)"
   ]
  },
  {
   "cell_type": "code",
   "execution_count": 9,
   "id": "dietary-venue",
   "metadata": {},
   "outputs": [
    {
     "name": "stdout",
     "output_type": "stream",
     "text": [
      "id\tnode1\tlabel\tnode2\trank\tnode2;wikidatatype\r\n",
      "Q1133903-P925-Q18707-eae3a579-0\tQ1133903\tP925\tQ18707\tnormal\twikibase-item\r\n",
      "Q1570272-P925-Q7135001-5dbdce8c-0\tQ1570272\tP925\tQ7135001\tnormal\twikibase-item\r\n",
      "Q301613-P925-Q7135001-528c29b2-0\tQ301613\tP925\tQ7135001\tnormal\twikibase-item\r\n",
      "Q452595-P925-Q864951-c5b34e11-0\tQ452595\tP925\tQ864951\tnormal\twikibase-item\r\n",
      "Q5064084-P925-Q4117017-76545a06-0\tQ5064084\tP925\tQ4117017\tnormal\twikibase-item\r\n"
     ]
    }
   ],
   "source": [
    "!head ../../allConstraintsAnalysis/inverseConstraint/normal/claims.P925.incorrect.tsv"
   ]
  },
  {
   "cell_type": "code",
   "execution_count": 10,
   "id": "entire-gauge",
   "metadata": {},
   "outputs": [
    {
     "data": {
      "text/plain": [
       "Text(0.5, 1.0, 'Symmetric Normal Constraint - Violation Ratios')"
      ]
     },
     "execution_count": 10,
     "metadata": {},
     "output_type": "execute_result"
    },
    {
     "data": {
      "image/png": "[encoded data removed]",
      "text/plain": [
       "<Figure size 432x288 with 1 Axes>"
      ]
     },
     "metadata": {
      "needs_background": "light"
     },
     "output_type": "display_data"
    }
   ],
   "source": [
    "invConstDF3.sort_values(by=['violation_ratio'],ascending=False)['violation_ratio'].plot.hist(bins=100).set_title(\"Symmetric Normal Constraint - Violation Ratios\")"
   ]
  },
  {
   "cell_type": "code",
   "execution_count": 11,
   "id": "hidden-gibson",
   "metadata": {},
   "outputs": [],
   "source": [
    "pd.concat([invConstDF1, invConstDF2, invConstDF3]).to_csv('../../allConstraintsAnalysis/invConstDFAnalysis.csv')"
   ]
  },
  {
   "cell_type": "markdown",
   "id": "working-stable",
   "metadata": {},
   "source": [
    "### Find out time required"
   ]
  },
  {
   "cell_type": "code",
   "execution_count": 55,
   "id": "saved-twelve",
   "metadata": {},
   "outputs": [
    {
     "data": {
      "application/vnd.jupyter.widget-view+json": {
       "model_id": "2e8a241c831b4968ae22d06c22c6e85e",
       "version_major": 2,
       "version_minor": 0
      },
      "text/plain": [
       "  0%|          | 0/122 [00:00<?, ?it/s]"
      ]
     },
     "metadata": {},
     "output_type": "display_data"
    }
   ],
   "source": [
    "import pandas as pd\n",
    "import os\n",
    "from tqdm.notebook import tqdm\n",
    "\n",
    "codepConstViolations = {}\n",
    "\n",
    "codepConstViolations = {}\n",
    "codepConstPropList = set()\n",
    "\n",
    "def extractTimes(filename):\n",
    "    times = []\n",
    "    with open(filename) as f:\n",
    "        for line in f:\n",
    "            if \"real\" in line:\n",
    "                line = line.strip()\n",
    "                time1 = line.split(\"\\t\")[1]\n",
    "                mins, sec = time1.split(\"m\")\n",
    "                mins = int(mins)\n",
    "                sec = float(sec[:-1])\n",
    "                times.append(60 * mins + sec)\n",
    "    return times\n",
    "\n",
    "# codepConstViolationsSummary = {}\n",
    "times = []\n",
    "filePath = '/data/wd-correctness/propertiesSplit/checkViolations/exec_logs/'\n",
    "for filename in tqdm(os.listdir(filePath)):\n",
    "    if filename.startswith(\"invConst_Validator_new3\"):\n",
    "        tempTimes = extractTimes(filePath + filename)\n",
    "        times += tempTimes"
   ]
  },
  {
   "cell_type": "code",
   "execution_count": 56,
   "id": "caroline-observation",
   "metadata": {},
   "outputs": [
    {
     "name": "stdout",
     "output_type": "stream",
     "text": [
      "count    110.000000\n",
      "mean       7.526318\n",
      "std       11.686634\n",
      "min        1.519000\n",
      "25%        2.624000\n",
      "50%        3.298500\n",
      "75%        6.463250\n",
      "max       80.846000\n",
      "dtype: float64\n"
     ]
    }
   ],
   "source": [
    "print(pd.Series(times).describe())"
   ]
  },
  {
   "cell_type": "code",
   "execution_count": 57,
   "id": "static-conclusion",
   "metadata": {},
   "outputs": [
    {
     "data": {
      "text/plain": [
       "Text(0.5, 1.0, 'Distribution of times (in s) taken for symmetric constraint checks')"
      ]
     },
     "execution_count": 57,
     "metadata": {},
     "output_type": "execute_result"
    },
    {
     "data": {
      "image/png": "[encoded data removed]",
      "text/plain": [
       "<Figure size 432x288 with 1 Axes>"
      ]
     },
     "metadata": {
      "needs_background": "light"
     },
     "output_type": "display_data"
    }
   ],
   "source": [
    "import seaborn as sns\n",
    "sns.lineplot(data=pd.Series(times)).set_title(\"Distribution of times (in s) taken for symmetric constraint checks\")"
   ]
  },
  {
   "cell_type": "markdown",
   "id": "colored-beijing",
   "metadata": {},
   "source": [
    "# Combine Plots for constraints"
   ]
  },
  {
   "cell_type": "code",
   "execution_count": 30,
   "id": "funky-horizon",
   "metadata": {},
   "outputs": [],
   "source": [
    "import pandas as pd\n",
    "import seaborn as sns\n",
    "import numpy as np\n",
    "import matplotlib.pyplot as plt\n",
    "\n",
    "typeConstDF = pd.read_csv(\"../../allConstraintsAnalysis/typeConstDFAnalysis.csv\")\n",
    "typeConstDF = typeConstDF.set_index(typeConstDF.iloc[:, 0])\n",
    "\n",
    "valTypeConstDF = pd.read_csv(\"../../allConstraintsAnalysis/valueTypeConstDFAnalysis.csv\")\n",
    "valTypeConstDF = valTypeConstDF.set_index(valTypeConstDF.iloc[:, 0])\n",
    "\n",
    "codepConstDF1 = pd.read_csv(\"../../allConstraintsAnalysis/codepConstDFAnalysis.csv\")\n",
    "codepConstDF1 = codepConstDF1.set_index(codepConstDF1.iloc[:, 0])\n",
    "\n",
    "symmConstDF = pd.read_csv(\"../../allConstraintsAnalysis/symmConstDFAnalysis.csv\")\n",
    "symmConstDF = symmConstDF.set_index(symmConstDF.iloc[:, 0])\n",
    "\n",
    "invConstDF = pd.read_csv(\"../../allConstraintsAnalysis/invConstDFAnalysis.csv\")\n",
    "invConstDF = invConstDF.set_index(invConstDF.iloc[:, 0])"
   ]
  },
  {
   "cell_type": "code",
   "execution_count": 3,
   "id": "seeing-millennium",
   "metadata": {},
   "outputs": [],
   "source": [
    "typeConstDF1 = typeConstDF.add_suffix(\"_type_const\")['violation_ratio_type_const'].rename().sort_values()"
   ]
  },
  {
   "cell_type": "code",
   "execution_count": 4,
   "id": "constitutional-drunk",
   "metadata": {},
   "outputs": [],
   "source": [
    "valTypeConstDF1 = valTypeConstDF.add_suffix(\"_valuetype_const\")['violation_ratio_valuetype_const'].sort_values()"
   ]
  },
  {
   "cell_type": "code",
   "execution_count": 5,
   "id": "organic-hospital",
   "metadata": {},
   "outputs": [],
   "source": [
    "codepConstDF1_1 = codepConstDF1.add_suffix(\"_codep_const\")['violation_ratio_codep_const'].sort_values()"
   ]
  },
  {
   "cell_type": "code",
   "execution_count": 6,
   "id": "opposite-division",
   "metadata": {},
   "outputs": [],
   "source": [
    "symmConstDF1_1 = symmConstDF.add_suffix(\"_symm_const\")['violation_ratio_symm_const'].sort_values()"
   ]
  },
  {
   "cell_type": "code",
   "execution_count": 7,
   "id": "maritime-metro",
   "metadata": {},
   "outputs": [],
   "source": [
    "invConstDF1_1 = invConstDF.add_suffix(\"_inv_const\")['violation_ratio_inv_const'].sort_values()"
   ]
  },
  {
   "cell_type": "code",
   "execution_count": 8,
   "id": "focal-priority",
   "metadata": {},
   "outputs": [],
   "source": [
    "typeConstDF1.index.names = ['property']\n",
    "typeConstDF1 = typeConstDF1.reset_index().reset_index()\n",
    "typeConstDF1['index'] = typeConstDF1['index'].apply(lambda p: (p+1) * 100/len(typeConstDF1))\n",
    "typeConstDF1 = typeConstDF1.set_index('index')[0]"
   ]
  },
  {
   "cell_type": "code",
   "execution_count": 9,
   "id": "joint-macintosh",
   "metadata": {},
   "outputs": [],
   "source": [
    "valTypeConstDF1.index.names = ['property']\n",
    "valTypeConstDF1 = valTypeConstDF1.reset_index().reset_index()\n",
    "valTypeConstDF1['index'] = valTypeConstDF1['index'].apply(lambda p: (p+1) * 100/len(valTypeConstDF1))\n",
    "valTypeConstDF1 = valTypeConstDF1.set_index('index')['violation_ratio_valuetype_const']"
   ]
  },
  {
   "cell_type": "code",
   "execution_count": 10,
   "id": "upset-jaguar",
   "metadata": {},
   "outputs": [],
   "source": [
    "codepConstDF1_1.index.names = ['property']\n",
    "codepConstDF1_1 = codepConstDF1_1.reset_index().reset_index()\n",
    "codepConstDF1_1['index'] = codepConstDF1_1['index'].apply(lambda p: (p+1) * 100/len(codepConstDF1_1))\n",
    "codepConstDF1_1 = codepConstDF1_1.set_index('index')['violation_ratio_codep_const']"
   ]
  },
  {
   "cell_type": "code",
   "execution_count": 11,
   "id": "returning-premiere",
   "metadata": {},
   "outputs": [],
   "source": [
    "symmConstDF1_1.index.names = ['property']\n",
    "symmConstDF1_1 = symmConstDF1_1.reset_index().reset_index()\n",
    "symmConstDF1_1['index'] = symmConstDF1_1['index'].apply(lambda p: (p+1) * 100/len(symmConstDF1_1))\n",
    "symmConstDF1_1 = symmConstDF1_1.set_index('index')['violation_ratio_symm_const']"
   ]
  },
  {
   "cell_type": "code",
   "execution_count": 12,
   "id": "august-coverage",
   "metadata": {},
   "outputs": [],
   "source": [
    "invConstDF1_1.index.names = ['property']\n",
    "invConstDF1_1 = invConstDF1_1.reset_index().reset_index()\n",
    "invConstDF1_1['index'] = invConstDF1_1['index'].apply(lambda p: (p+1) * 100/len(invConstDF1_1))\n",
    "invConstDF1_1 = invConstDF1_1.set_index('index')['violation_ratio_inv_const']"
   ]
  },
  {
   "cell_type": "code",
   "execution_count": 23,
   "id": "atlantic-breathing",
   "metadata": {},
   "outputs": [],
   "source": [
    "typeConstDF2 = [np.percentile(typeConstDF1,i)*100 for i in range(1, 101)]\n",
    "valTypeConstDF2 = [np.percentile(valTypeConstDF1,i)*100 for i in range(1, 101)]\n",
    "codepConstDF1_2 = [np.percentile(codepConstDF1_1,i)*100 for i in range(1, 101)]\n",
    "symmConstDF1_2 = [np.percentile(symmConstDF1_1,i)*100 for i in range(1, 101)]\n",
    "invConstDF1_2 = [np.percentile(invConstDF1_1,i)*100 for i in range(1, 101)]"
   ]
  },
  {
   "cell_type": "code",
   "execution_count": 24,
   "id": "nonprofit-timer",
   "metadata": {},
   "outputs": [],
   "source": [
    "constAnalysisDF = pd.DataFrame({'index':list(range(1, 101)), 'type': typeConstDF2, 'value type': valTypeConstDF2, 'irs': codepConstDF1_2, 'symmetric': symmConstDF1_2, 'inverse': invConstDF1_2})"
   ]
  },
  {
   "cell_type": "code",
   "execution_count": 25,
   "id": "divine-generator",
   "metadata": {},
   "outputs": [],
   "source": [
    "constAnalysisDF = constAnalysisDF.melt('index', var_name='constraint',  value_name='VR')"
   ]
  },
  {
   "cell_type": "code",
   "execution_count": 26,
   "id": "grave-heritage",
   "metadata": {},
   "outputs": [
    {
     "data": {
      "text/html": [
       "<div>\n",
       "<style scoped>\n",
       "    .dataframe tbody tr th:only-of-type {\n",
       "        vertical-align: middle;\n",
       "    }\n",
       "\n",
       "    .dataframe tbody tr th {\n",
       "        vertical-align: top;\n",
       "    }\n",
       "\n",
       "    .dataframe thead th {\n",
       "        text-align: right;\n",
       "    }\n",
       "</style>\n",
       "<table border=\"1\" class=\"dataframe\">\n",
       "  <thead>\n",
       "    <tr style=\"text-align: right;\">\n",
       "      <th></th>\n",
       "      <th>index</th>\n",
       "      <th>constraint</th>\n",
       "      <th>VR</th>\n",
       "    </tr>\n",
       "  </thead>\n",
       "  <tbody>\n",
       "    <tr>\n",
       "      <th>0</th>\n",
       "      <td>1</td>\n",
       "      <td>type</td>\n",
       "      <td>0.0</td>\n",
       "    </tr>\n",
       "    <tr>\n",
       "      <th>1</th>\n",
       "      <td>2</td>\n",
       "      <td>type</td>\n",
       "      <td>0.0</td>\n",
       "    </tr>\n",
       "    <tr>\n",
       "      <th>2</th>\n",
       "      <td>3</td>\n",
       "      <td>type</td>\n",
       "      <td>0.0</td>\n",
       "    </tr>\n",
       "    <tr>\n",
       "      <th>3</th>\n",
       "      <td>4</td>\n",
       "      <td>type</td>\n",
       "      <td>0.0</td>\n",
       "    </tr>\n",
       "    <tr>\n",
       "      <th>4</th>\n",
       "      <td>5</td>\n",
       "      <td>type</td>\n",
       "      <td>0.0</td>\n",
       "    </tr>\n",
       "  </tbody>\n",
       "</table>\n",
       "</div>"
      ],
      "text/plain": [
       "   index constraint   VR\n",
       "0      1       type  0.0\n",
       "1      2       type  0.0\n",
       "2      3       type  0.0\n",
       "3      4       type  0.0\n",
       "4      5       type  0.0"
      ]
     },
     "execution_count": 26,
     "metadata": {},
     "output_type": "execute_result"
    }
   ],
   "source": [
    "constAnalysisDF.head()"
   ]
  },
  {
   "cell_type": "code",
   "execution_count": 33,
   "id": "golden-oxygen",
   "metadata": {},
   "outputs": [
    {
     "data": {
      "text/plain": [
       "[Text(0.5, 0, 'Proportion of properties (in %)'),\n",
       " Text(0, 0.5, 'Violation Ratio (in %)')]"
      ]
     },
     "execution_count": 33,
     "metadata": {},
     "output_type": "execute_result"
    },
    {
     "data": {
      "image/png": "[encoded data removed]",
      "text/plain": [
       "<Figure size 720x432 with 1 Axes>"
      ]
     },
     "metadata": {
      "needs_background": "light"
     },
     "output_type": "display_data"
    }
   ],
   "source": [
    "plt.figure(figsize=(10, 6))\n",
    "ax = sns.lineplot(x='index', y='VR', hue='constraint', data=constAnalysisDF)\n",
    "ax.set(xlabel=\"Proportion of properties (in %)\", ylabel = \"Violation Ratio (in %)\")"
   ]
  },
  {
   "cell_type": "code",
   "execution_count": 14,
   "id": "multiple-temple",
   "metadata": {},
   "outputs": [],
   "source": []
  },
  {
   "cell_type": "code",
   "execution_count": 16,
   "id": "stylish-lancaster",
   "metadata": {
    "scrolled": true
   },
   "outputs": [
    {
     "ename": "KeyboardInterrupt",
     "evalue": "",
     "output_type": "error",
     "traceback": [
      "\u001b[0;31m---------------------------------------------------------------------------\u001b[0m",
      "\u001b[0;31mKeyboardInterrupt\u001b[0m                         Traceback (most recent call last)",
      "\u001b[0;32m<ipython-input-16-1df7e3deaa28>\u001b[0m in \u001b[0;36m<module>\u001b[0;34m\u001b[0m\n\u001b[0;32m----> 1\u001b[0;31m \u001b[0;32mimport\u001b[0m \u001b[0mseaborn\u001b[0m \u001b[0;32mas\u001b[0m \u001b[0msns\u001b[0m\u001b[0;34m\u001b[0m\u001b[0;34m\u001b[0m\u001b[0m\n\u001b[0m\u001b[1;32m      2\u001b[0m \u001b[0mg\u001b[0m \u001b[0;34m=\u001b[0m \u001b[0msns\u001b[0m\u001b[0;34m.\u001b[0m\u001b[0mcatplot\u001b[0m\u001b[0;34m(\u001b[0m\u001b[0mx\u001b[0m\u001b[0;34m=\u001b[0m\u001b[0;34m\"property\"\u001b[0m\u001b[0;34m,\u001b[0m \u001b[0my\u001b[0m\u001b[0;34m=\u001b[0m\u001b[0;34m\"VR\"\u001b[0m\u001b[0;34m,\u001b[0m \u001b[0mhue\u001b[0m\u001b[0;34m=\u001b[0m\u001b[0;34m'constraint'\u001b[0m\u001b[0;34m,\u001b[0m \u001b[0mdata\u001b[0m\u001b[0;34m=\u001b[0m\u001b[0mconstAnalysisPlotDF1\u001b[0m\u001b[0;34m)\u001b[0m\u001b[0;34m\u001b[0m\u001b[0;34m\u001b[0m\u001b[0m\n",
      "\u001b[0;32m~/miniconda3/envs/kgtkEnv/lib/python3.8/site-packages/seaborn/__init__.py\u001b[0m in \u001b[0;36m<module>\u001b[0;34m\u001b[0m\n\u001b[1;32m      1\u001b[0m \u001b[0;31m# Import seaborn objects\u001b[0m\u001b[0;34m\u001b[0m\u001b[0;34m\u001b[0m\u001b[0;34m\u001b[0m\u001b[0m\n\u001b[0;32m----> 2\u001b[0;31m \u001b[0;32mfrom\u001b[0m \u001b[0;34m.\u001b[0m\u001b[0mrcmod\u001b[0m \u001b[0;32mimport\u001b[0m \u001b[0;34m*\u001b[0m  \u001b[0;31m# noqa: F401,F403\u001b[0m\u001b[0;34m\u001b[0m\u001b[0;34m\u001b[0m\u001b[0m\n\u001b[0m\u001b[1;32m      3\u001b[0m \u001b[0;32mfrom\u001b[0m \u001b[0;34m.\u001b[0m\u001b[0mutils\u001b[0m \u001b[0;32mimport\u001b[0m \u001b[0;34m*\u001b[0m  \u001b[0;31m# noqa: F401,F403\u001b[0m\u001b[0;34m\u001b[0m\u001b[0;34m\u001b[0m\u001b[0m\n\u001b[1;32m      4\u001b[0m \u001b[0;32mfrom\u001b[0m \u001b[0;34m.\u001b[0m\u001b[0mpalettes\u001b[0m \u001b[0;32mimport\u001b[0m \u001b[0;34m*\u001b[0m  \u001b[0;31m# noqa: F401,F403\u001b[0m\u001b[0;34m\u001b[0m\u001b[0;34m\u001b[0m\u001b[0m\n\u001b[1;32m      5\u001b[0m \u001b[0;32mfrom\u001b[0m \u001b[0;34m.\u001b[0m\u001b[0mrelational\u001b[0m \u001b[0;32mimport\u001b[0m \u001b[0;34m*\u001b[0m  \u001b[0;31m# noqa: F401,F403\u001b[0m\u001b[0;34m\u001b[0m\u001b[0;34m\u001b[0m\u001b[0m\n",
      "\u001b[0;32m~/miniconda3/envs/kgtkEnv/lib/python3.8/site-packages/seaborn/rcmod.py\u001b[0m in \u001b[0;36m<module>\u001b[0;34m\u001b[0m\n\u001b[1;32m      5\u001b[0m \u001b[0;32mimport\u001b[0m \u001b[0mmatplotlib\u001b[0m \u001b[0;32mas\u001b[0m \u001b[0mmpl\u001b[0m\u001b[0;34m\u001b[0m\u001b[0;34m\u001b[0m\u001b[0m\n\u001b[1;32m      6\u001b[0m \u001b[0;32mfrom\u001b[0m \u001b[0mcycler\u001b[0m \u001b[0;32mimport\u001b[0m \u001b[0mcycler\u001b[0m\u001b[0;34m\u001b[0m\u001b[0;34m\u001b[0m\u001b[0m\n\u001b[0;32m----> 7\u001b[0;31m \u001b[0;32mfrom\u001b[0m \u001b[0;34m.\u001b[0m \u001b[0;32mimport\u001b[0m \u001b[0mpalettes\u001b[0m\u001b[0;34m\u001b[0m\u001b[0;34m\u001b[0m\u001b[0m\n\u001b[0m\u001b[1;32m      8\u001b[0m \u001b[0;34m\u001b[0m\u001b[0m\n\u001b[1;32m      9\u001b[0m \u001b[0;34m\u001b[0m\u001b[0m\n",
      "\u001b[0;32m~/miniconda3/envs/kgtkEnv/lib/python3.8/site-packages/seaborn/palettes.py\u001b[0m in \u001b[0;36m<module>\u001b[0;34m\u001b[0m\n\u001b[1;32m      7\u001b[0m \u001b[0;32mfrom\u001b[0m \u001b[0;34m.\u001b[0m\u001b[0mexternal\u001b[0m \u001b[0;32mimport\u001b[0m \u001b[0mhusl\u001b[0m\u001b[0;34m\u001b[0m\u001b[0;34m\u001b[0m\u001b[0m\n\u001b[1;32m      8\u001b[0m \u001b[0;34m\u001b[0m\u001b[0m\n\u001b[0;32m----> 9\u001b[0;31m \u001b[0;32mfrom\u001b[0m \u001b[0;34m.\u001b[0m\u001b[0mutils\u001b[0m \u001b[0;32mimport\u001b[0m \u001b[0mdesaturate\u001b[0m\u001b[0;34m,\u001b[0m \u001b[0mget_color_cycle\u001b[0m\u001b[0;34m\u001b[0m\u001b[0;34m\u001b[0m\u001b[0m\n\u001b[0m\u001b[1;32m     10\u001b[0m \u001b[0;32mfrom\u001b[0m \u001b[0;34m.\u001b[0m\u001b[0mcolors\u001b[0m \u001b[0;32mimport\u001b[0m \u001b[0mxkcd_rgb\u001b[0m\u001b[0;34m,\u001b[0m \u001b[0mcrayons\u001b[0m\u001b[0;34m\u001b[0m\u001b[0;34m\u001b[0m\u001b[0m\n\u001b[1;32m     11\u001b[0m \u001b[0;34m\u001b[0m\u001b[0m\n",
      "\u001b[0;32m~/miniconda3/envs/kgtkEnv/lib/python3.8/site-packages/seaborn/utils.py\u001b[0m in \u001b[0;36m<module>\u001b[0;34m\u001b[0m\n\u001b[1;32m     12\u001b[0m \u001b[0;32mimport\u001b[0m \u001b[0mmatplotlib\u001b[0m \u001b[0;32mas\u001b[0m \u001b[0mmpl\u001b[0m\u001b[0;34m\u001b[0m\u001b[0;34m\u001b[0m\u001b[0m\n\u001b[1;32m     13\u001b[0m \u001b[0;32mimport\u001b[0m \u001b[0mmatplotlib\u001b[0m\u001b[0;34m.\u001b[0m\u001b[0mcolors\u001b[0m \u001b[0;32mas\u001b[0m \u001b[0mmplcol\u001b[0m\u001b[0;34m\u001b[0m\u001b[0;34m\u001b[0m\u001b[0m\n\u001b[0;32m---> 14\u001b[0;31m \u001b[0;32mimport\u001b[0m \u001b[0mmatplotlib\u001b[0m\u001b[0;34m.\u001b[0m\u001b[0mpyplot\u001b[0m \u001b[0;32mas\u001b[0m \u001b[0mplt\u001b[0m\u001b[0;34m\u001b[0m\u001b[0;34m\u001b[0m\u001b[0m\n\u001b[0m\u001b[1;32m     15\u001b[0m \u001b[0;32mfrom\u001b[0m \u001b[0mmatplotlib\u001b[0m\u001b[0;34m.\u001b[0m\u001b[0mcbook\u001b[0m \u001b[0;32mimport\u001b[0m \u001b[0mnormalize_kwargs\u001b[0m\u001b[0;34m\u001b[0m\u001b[0;34m\u001b[0m\u001b[0m\n\u001b[1;32m     16\u001b[0m \u001b[0;34m\u001b[0m\u001b[0m\n",
      "\u001b[0;32m~/miniconda3/envs/kgtkEnv/lib/python3.8/site-packages/matplotlib/pyplot.py\u001b[0m in \u001b[0;36m<module>\u001b[0;34m\u001b[0m\n\u001b[1;32m     41\u001b[0m \u001b[0;32mfrom\u001b[0m \u001b[0mmatplotlib\u001b[0m \u001b[0;32mimport\u001b[0m \u001b[0mdocstring\u001b[0m\u001b[0;34m\u001b[0m\u001b[0;34m\u001b[0m\u001b[0m\n\u001b[1;32m     42\u001b[0m \u001b[0;32mfrom\u001b[0m \u001b[0mmatplotlib\u001b[0m\u001b[0;34m.\u001b[0m\u001b[0mbackend_bases\u001b[0m \u001b[0;32mimport\u001b[0m \u001b[0mFigureCanvasBase\u001b[0m\u001b[0;34m,\u001b[0m \u001b[0mMouseButton\u001b[0m\u001b[0;34m\u001b[0m\u001b[0;34m\u001b[0m\u001b[0m\n\u001b[0;32m---> 43\u001b[0;31m \u001b[0;32mfrom\u001b[0m \u001b[0mmatplotlib\u001b[0m\u001b[0;34m.\u001b[0m\u001b[0mfigure\u001b[0m \u001b[0;32mimport\u001b[0m \u001b[0mFigure\u001b[0m\u001b[0;34m,\u001b[0m \u001b[0mfigaspect\u001b[0m\u001b[0;34m\u001b[0m\u001b[0;34m\u001b[0m\u001b[0m\n\u001b[0m\u001b[1;32m     44\u001b[0m \u001b[0;32mfrom\u001b[0m \u001b[0mmatplotlib\u001b[0m\u001b[0;34m.\u001b[0m\u001b[0mgridspec\u001b[0m \u001b[0;32mimport\u001b[0m \u001b[0mGridSpec\u001b[0m\u001b[0;34m\u001b[0m\u001b[0;34m\u001b[0m\u001b[0m\n\u001b[1;32m     45\u001b[0m \u001b[0;32mfrom\u001b[0m \u001b[0mmatplotlib\u001b[0m \u001b[0;32mimport\u001b[0m \u001b[0mrcParams\u001b[0m\u001b[0;34m,\u001b[0m \u001b[0mrcParamsDefault\u001b[0m\u001b[0;34m,\u001b[0m \u001b[0mget_backend\u001b[0m\u001b[0;34m,\u001b[0m \u001b[0mrcParamsOrig\u001b[0m\u001b[0;34m\u001b[0m\u001b[0;34m\u001b[0m\u001b[0m\n",
      "\u001b[0;32m~/miniconda3/envs/kgtkEnv/lib/python3.8/site-packages/matplotlib/figure.py\u001b[0m in \u001b[0;36m<module>\u001b[0;34m\u001b[0m\n\u001b[1;32m     16\u001b[0m \u001b[0;34m\u001b[0m\u001b[0m\n\u001b[1;32m     17\u001b[0m \u001b[0;32mimport\u001b[0m \u001b[0mmatplotlib\u001b[0m \u001b[0;32mas\u001b[0m \u001b[0mmpl\u001b[0m\u001b[0;34m\u001b[0m\u001b[0;34m\u001b[0m\u001b[0m\n\u001b[0;32m---> 18\u001b[0;31m \u001b[0;32mfrom\u001b[0m \u001b[0mmatplotlib\u001b[0m \u001b[0;32mimport\u001b[0m \u001b[0mdocstring\u001b[0m\u001b[0;34m,\u001b[0m \u001b[0mprojections\u001b[0m\u001b[0;34m\u001b[0m\u001b[0;34m\u001b[0m\u001b[0m\n\u001b[0m\u001b[1;32m     19\u001b[0m \u001b[0;32mfrom\u001b[0m \u001b[0mmatplotlib\u001b[0m \u001b[0;32mimport\u001b[0m \u001b[0m__version__\u001b[0m \u001b[0;32mas\u001b[0m \u001b[0m_mpl_version\u001b[0m\u001b[0;34m\u001b[0m\u001b[0;34m\u001b[0m\u001b[0m\n\u001b[1;32m     20\u001b[0m \u001b[0;34m\u001b[0m\u001b[0m\n",
      "\u001b[0;32m~/miniconda3/envs/kgtkEnv/lib/python3.8/site-packages/matplotlib/projections/__init__.py\u001b[0m in \u001b[0;36m<module>\u001b[0;34m\u001b[0m\n\u001b[1;32m      2\u001b[0m \u001b[0;32mfrom\u001b[0m \u001b[0;34m.\u001b[0m\u001b[0mgeo\u001b[0m \u001b[0;32mimport\u001b[0m \u001b[0mAitoffAxes\u001b[0m\u001b[0;34m,\u001b[0m \u001b[0mHammerAxes\u001b[0m\u001b[0;34m,\u001b[0m \u001b[0mLambertAxes\u001b[0m\u001b[0;34m,\u001b[0m \u001b[0mMollweideAxes\u001b[0m\u001b[0;34m\u001b[0m\u001b[0;34m\u001b[0m\u001b[0m\n\u001b[1;32m      3\u001b[0m \u001b[0;32mfrom\u001b[0m \u001b[0;34m.\u001b[0m\u001b[0mpolar\u001b[0m \u001b[0;32mimport\u001b[0m \u001b[0mPolarAxes\u001b[0m\u001b[0;34m\u001b[0m\u001b[0;34m\u001b[0m\u001b[0m\n\u001b[0;32m----> 4\u001b[0;31m \u001b[0;32mfrom\u001b[0m \u001b[0mmpl_toolkits\u001b[0m\u001b[0;34m.\u001b[0m\u001b[0mmplot3d\u001b[0m \u001b[0;32mimport\u001b[0m \u001b[0mAxes3D\u001b[0m\u001b[0;34m\u001b[0m\u001b[0;34m\u001b[0m\u001b[0m\n\u001b[0m\u001b[1;32m      5\u001b[0m \u001b[0;34m\u001b[0m\u001b[0m\n\u001b[1;32m      6\u001b[0m \u001b[0;34m\u001b[0m\u001b[0m\n",
      "\u001b[0;32m~/miniconda3/envs/kgtkEnv/lib/python3.8/site-packages/mpl_toolkits/mplot3d/__init__.py\u001b[0m in \u001b[0;36m<module>\u001b[0;34m\u001b[0m\n\u001b[0;32m----> 1\u001b[0;31m \u001b[0;32mfrom\u001b[0m \u001b[0;34m.\u001b[0m\u001b[0maxes3d\u001b[0m \u001b[0;32mimport\u001b[0m \u001b[0mAxes3D\u001b[0m\u001b[0;34m\u001b[0m\u001b[0;34m\u001b[0m\u001b[0m\n\u001b[0m",
      "\u001b[0;32m~/miniconda3/envs/kgtkEnv/lib/python3.8/importlib/_bootstrap.py\u001b[0m in \u001b[0;36m_find_and_load\u001b[0;34m(name, import_)\u001b[0m\n",
      "\u001b[0;32m~/miniconda3/envs/kgtkEnv/lib/python3.8/importlib/_bootstrap.py\u001b[0m in \u001b[0;36m_find_and_load_unlocked\u001b[0;34m(name, import_)\u001b[0m\n",
      "\u001b[0;32m~/miniconda3/envs/kgtkEnv/lib/python3.8/importlib/_bootstrap.py\u001b[0m in \u001b[0;36m_load_unlocked\u001b[0;34m(spec)\u001b[0m\n",
      "\u001b[0;32m~/miniconda3/envs/kgtkEnv/lib/python3.8/importlib/_bootstrap_external.py\u001b[0m in \u001b[0;36mexec_module\u001b[0;34m(self, module)\u001b[0m\n",
      "\u001b[0;32m~/miniconda3/envs/kgtkEnv/lib/python3.8/importlib/_bootstrap_external.py\u001b[0m in \u001b[0;36mget_code\u001b[0;34m(self, fullname)\u001b[0m\n",
      "\u001b[0;32m~/miniconda3/envs/kgtkEnv/lib/python3.8/importlib/_bootstrap_external.py\u001b[0m in \u001b[0;36mget_data\u001b[0;34m(self, path)\u001b[0m\n",
      "\u001b[0;31mKeyboardInterrupt\u001b[0m: "
     ]
    }
   ],
   "source": [
    "g = sns.catplot(x=\"property\", y=\"VR\", hue='constraint', data=constAnalysisPlotDF1)"
   ]
  },
  {
   "cell_type": "code",
   "execution_count": 19,
   "id": "standing-prisoner",
   "metadata": {},
   "outputs": [
    {
     "data": {
      "text/plain": [
       "<AxesSubplot:xlabel='property', ylabel='VR'>"
      ]
     },
     "execution_count": 19,
     "metadata": {},
     "output_type": "execute_result"
    },
    {
     "data": {
      "image/png": "[encoded data removed]",
      "text/plain": [
       "<Figure size 432x288 with 1 Axes>"
      ]
     },
     "metadata": {
      "needs_background": "light"
     },
     "output_type": "display_data"
    }
   ],
   "source": [
    "sns.lineplot(x='property',y='VR',hue='constraint',estimator=None,data=constAnalysisPlotDF1,palette='deep')\n",
    "\n"
   ]
  },
  {
   "cell_type": "code",
   "execution_count": null,
   "id": "cordless-pacific",
   "metadata": {},
   "outputs": [],
   "source": []
  },
  {
   "cell_type": "code",
   "execution_count": null,
   "id": "funny-member",
   "metadata": {},
   "outputs": [],
   "source": []
  },
  {
   "cell_type": "markdown",
   "id": "stuck-criticism",
   "metadata": {},
   "source": [
    "# Analysis on properties with constraints"
   ]
  },
  {
   "cell_type": "code",
   "execution_count": 26,
   "id": "driven-reference",
   "metadata": {},
   "outputs": [
    {
     "name": "stdout",
     "output_type": "stream",
     "text": [
      "[2021-04-03 09:14:12 query]: SQL Translation:\r\n",
      "---------------------------------------------\r\n",
      "  SELECT *\r\n",
      "     FROM graph_1 AS graph_1_c1\r\n",
      "     WHERE graph_1_c1.\"label\"=?\r\n",
      "  PARAS: ['P2302']\r\n",
      "---------------------------------------------\r\n"
     ]
    }
   ],
   "source": [
    "!kgtk --debug query -i ../../gdrive-kgtk-dump-2020-12-07/claims.properties.tsv.gz \\\n",
    "    ../../gdrive-kgtk-dump-2020-12-07/qualifiers.properties.tsv.gz \\\n",
    "    --match \"p: (nodeProp1)-[nodePropEdge:P2302]->()\" \\\n",
    "    -o ../../constraintsOP/claims.constraints_list.tsv \\\n",
    "    --graph-cache ~/sqlite3_caches/temp1345.valuetype.sqlite3.db"
   ]
  },
  {
   "cell_type": "code",
   "execution_count": 39,
   "id": "exciting-focus",
   "metadata": {},
   "outputs": [],
   "source": [
    "!kgtk unique -i ../../gdrive-kgtk-dump-2020-12-07/claims.properties.tsv.gz --column node1 -o ../../constraintsOP/claims.propList.tsv"
   ]
  },
  {
   "cell_type": "code",
   "execution_count": 42,
   "id": "flush-romania",
   "metadata": {},
   "outputs": [
    {
     "name": "stdout",
     "output_type": "stream",
     "text": [
      "node1\tlabel\tnode2\r\n",
      "P10\tcount\t17\r\n",
      "P1000\tcount\t10\r\n",
      "P1001\tcount\t26\r\n",
      "P1002\tcount\t9\r\n",
      "P1003\tcount\t20\r\n",
      "P1004\tcount\t33\r\n",
      "P1005\tcount\t21\r\n",
      "P1006\tcount\t26\r\n",
      "P1007\tcount\t19\r\n"
     ]
    }
   ],
   "source": [
    "!head ../../constraintsOP/claims.propList.tsv"
   ]
  },
  {
   "cell_type": "code",
   "execution_count": 43,
   "id": "chemical-harris",
   "metadata": {},
   "outputs": [],
   "source": [
    "import pandas as pd\n",
    "import os\n",
    "props = pd.read_csv(\"../../constraintsOP/claims.constraints_list.tsv\", sep='\\t')"
   ]
  },
  {
   "cell_type": "code",
   "execution_count": 44,
   "id": "higher-underground",
   "metadata": {},
   "outputs": [],
   "source": [
    "props2 = props.groupby(['node1']).node2.apply(list)"
   ]
  },
  {
   "cell_type": "code",
   "execution_count": 45,
   "id": "light-appreciation",
   "metadata": {},
   "outputs": [
    {
     "data": {
      "text/plain": [
       "8100"
      ]
     },
     "execution_count": 45,
     "metadata": {},
     "output_type": "execute_result"
    }
   ],
   "source": [
    "len(props2)"
   ]
  },
  {
   "cell_type": "code",
   "execution_count": 48,
   "id": "yellow-helmet",
   "metadata": {},
   "outputs": [
    {
     "data": {
      "text/plain": [
       "(2336, 8100)"
      ]
     },
     "execution_count": 48,
     "metadata": {},
     "output_type": "execute_result"
    }
   ],
   "source": [
    "cnt = 0\n",
    "totalCnt = 0\n",
    "for prop in props2.index:\n",
    "    totalCnt += 1\n",
    "    if not(os.path.isfile(\"../../propertiesSplit/claims.\"+ prop +\".tsv\")):\n",
    "        continue\n",
    "    else:\n",
    "        cnt += 1\n",
    "cnt, totalCnt"
   ]
  },
  {
   "cell_type": "code",
   "execution_count": 50,
   "id": "detected-skiing",
   "metadata": {
    "scrolled": true
   },
   "outputs": [
    {
     "data": {
      "text/plain": [
       "node1\n",
       "P10      [Q21502404, Q21510851, Q21510852, Q52004125, Q...\n",
       "P1000                    [Q21510856, Q21510865, Q53869507]\n",
       "P1001         [Q21502838, Q21503250, Q21510865, Q25796498]\n",
       "P1002                               [Q21503250, Q21510865]\n",
       "P1003    [Q19474404, Q21502404, Q21502410, Q21510851, Q...\n",
       "                               ...                        \n",
       "P1563    [Q19474404, Q21502404, Q21502410, Q21503247, Q...\n",
       "P1564    [Q19474404, Q21502404, Q21502410, Q21503247, Q...\n",
       "P1565    [Q19474404, Q21502404, Q21502410, Q21503247, Q...\n",
       "P1566    [Q19474404, Q21502404, Q21502410, Q21502838, Q...\n",
       "P1567    [Q19474404, Q21502404, Q21502410, Q21502838, Q...\n",
       "Name: node2, Length: 500, dtype: object"
      ]
     },
     "execution_count": 50,
     "metadata": {},
     "output_type": "execute_result"
    }
   ],
   "source": [
    "props2.head(500)"
   ]
  },
  {
   "cell_type": "code",
   "execution_count": 32,
   "id": "processed-perfume",
   "metadata": {},
   "outputs": [],
   "source": [
    "import pandas as pd\n",
    "import os\n",
    "props2 = pd.read_csv(\"../../constraintsOP/claims.propList.tsv\", sep='\\t')"
   ]
  },
  {
   "cell_type": "code",
   "execution_count": 33,
   "id": "increasing-graphics",
   "metadata": {},
   "outputs": [],
   "source": [
    "props2 = props2.groupby(['node1']).node2.apply(list)"
   ]
  },
  {
   "cell_type": "code",
   "execution_count": 34,
   "id": "posted-ukraine",
   "metadata": {},
   "outputs": [
    {
     "data": {
      "text/plain": [
       "8193"
      ]
     },
     "execution_count": 34,
     "metadata": {},
     "output_type": "execute_result"
    }
   ],
   "source": [
    "len(props2)"
   ]
  },
  {
   "cell_type": "code",
   "execution_count": 35,
   "id": "fifth-provision",
   "metadata": {},
   "outputs": [
    {
     "data": {
      "text/plain": [
       "(2415, 8193)"
      ]
     },
     "execution_count": 35,
     "metadata": {},
     "output_type": "execute_result"
    }
   ],
   "source": [
    "cnt = 0\n",
    "totalCnt = 0\n",
    "for prop in props2.index:\n",
    "    totalCnt += 1\n",
    "    if not(os.path.isfile(\"../../propertiesSplit/claims.\"+ prop +\".tsv\")):\n",
    "        continue\n",
    "    else:\n",
    "        cnt += 1\n",
    "cnt, totalCnt"
   ]
  },
  {
   "cell_type": "code",
   "execution_count": 50,
   "id": "married-heating",
   "metadata": {
    "scrolled": true
   },
   "outputs": [
    {
     "data": {
      "text/plain": [
       "node1\n",
       "P10      [Q21502404, Q21510851, Q21510852, Q52004125, Q...\n",
       "P1000                    [Q21510856, Q21510865, Q53869507]\n",
       "P1001         [Q21502838, Q21503250, Q21510865, Q25796498]\n",
       "P1002                               [Q21503250, Q21510865]\n",
       "P1003    [Q19474404, Q21502404, Q21502410, Q21510851, Q...\n",
       "                               ...                        \n",
       "P1563    [Q19474404, Q21502404, Q21502410, Q21503247, Q...\n",
       "P1564    [Q19474404, Q21502404, Q21502410, Q21503247, Q...\n",
       "P1565    [Q19474404, Q21502404, Q21502410, Q21503247, Q...\n",
       "P1566    [Q19474404, Q21502404, Q21502410, Q21502838, Q...\n",
       "P1567    [Q19474404, Q21502404, Q21502410, Q21502838, Q...\n",
       "Name: node2, Length: 500, dtype: object"
      ]
     },
     "execution_count": 50,
     "metadata": {},
     "output_type": "execute_result"
    }
   ],
   "source": [
    "props2.head(500)"
   ]
  },
  {
   "cell_type": "code",
   "execution_count": null,
   "id": "magnetic-conditions",
   "metadata": {},
   "outputs": [],
   "source": []
  }
 ],
 "metadata": {
  "kernelspec": {
   "display_name": "kgtkEnv",
   "language": "python",
   "name": "kgtkenv"
  },
  "language_info": {
   "codemirror_mode": {
    "name": "ipython",
    "version": 3
   },
   "file_extension": ".py",
   "mimetype": "text/x-python",
   "name": "python",
   "nbconvert_exporter": "python",
   "pygments_lexer": "ipython3",
   "version": "3.8.5"
  },
  "toc": {
   "base_numbering": 1,
   "nav_menu": {},
   "number_sections": true,
   "sideBar": true,
   "skip_h1_title": false,
   "title_cell": "Table of Contents",
   "title_sidebar": "Contents",
   "toc_cell": false,
   "toc_position": {
    "height": "calc(100% - 180px)",
    "left": "10px",
    "top": "150px",
    "width": "318px"
   },
   "toc_section_display": true,
   "toc_window_display": true
  },
  "varInspector": {
   "cols": {
    "lenName": 16,
    "lenType": 16,
    "lenVar": 40
   },
   "kernels_config": {
    "python": {
     "delete_cmd_postfix": "",
     "delete_cmd_prefix": "del ",
     "library": "var_list.py",
     "varRefreshCmd": "print(var_dic_list())"
    },
    "r": {
     "delete_cmd_postfix": ") ",
     "delete_cmd_prefix": "rm(",
     "library": "var_list.r",
     "varRefreshCmd": "cat(var_dic_list()) "
    }
   },
   "oldHeight": 122,
   "position": {
    "height": "40px",
    "left": "1170px",
    "right": "20px",
    "top": "120px",
    "width": "250px"
   },
   "types_to_exclude": [
    "module",
    "function",
    "builtin_function_or_method",
    "instance",
    "_Feature"
   ],
   "varInspector_section_display": "none",
   "window_display": false
  }
 },
 "nbformat": 4,
 "nbformat_minor": 5
}
