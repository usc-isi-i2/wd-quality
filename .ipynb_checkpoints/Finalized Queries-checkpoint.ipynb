{
 "cells": [
  {
   "cell_type": "markdown",
   "id": "statutory-onion",
   "metadata": {},
   "source": [
    "# Understanding Removed Statements Dataset\n",
    "\n",
    "Source of data: [GDrive | Removed Stataments of Wikidata | Feb 1 2021](https://drive.google.com/file/d/1TQP1rADdvhDjsvBpLzSE9Bx3n73wf-Md/view?usp=sharing)\n",
    "\n",
    "Steps performed:\n",
    "* Divide dataset into 2 halves - redirected and non-redirected. Redirected dataset has either node1 or node2 as redirected. But non-redirected has both node1, node2 not redirected\n",
    "\n",
    "\n",
    "**Summary**\n",
    "\n",
    "Removed Statements dataset has 76.5M removed statements. Out of these, "
   ]
  },
  {
   "cell_type": "markdown",
   "id": "christian-mounting",
   "metadata": {},
   "source": [
    "## Redirects determination and division of dataset into 2 halves\n",
    "\n",
    "* Since, redirects dataset was not present, a SPARQL query was run to determine all the redirects existing at the moment. This was done on Feb 19, 2021. This was executed using [SPARQL query](https://query.wikidata.org/). Query run was:\n",
    "    ```\n",
    "    SELECT ?old_node\n",
    "    WHERE {\n",
    "      ?old_node owl:sameAs ?new_node.\n",
    "    }\n",
    "    ```\n",
    "* This has few lexemes as well which we don't need. So, I then ran the query:\n",
    "    ```\n",
    "    SELECT ?old_node\n",
    "    WHERE {\n",
    "      ?old_node owl:sameAs ?new_node.\n",
    "      ?new_node rdf:type ontolex:LexicalEntry.\n",
    "    }\n",
    "    ```\n",
    "* After removing the lexemes from the nodes file, a final redirected non-lexemes file was created with data from Feb 19, 2021: `data/SPARQL_redirects_non-lexemes.tsv`.\n",
    "* Using this reduced dataset, I was able to determine in the removed_statements.tsv dataset, which nodes have been redirected - `../opAnalysis/removed_statements_redirects_basis_node1or2.tsv`. This has removed statements in which either node1 or node2 is redirected.\n",
    "* After this, I am extracting the removed statements not present in this subset meaning it would correspond to all removed statements in neither node1 nor node2 is redirected - `../opAnalysis/removed_statements_both_nonredirects.tsv`\n",
    "\n",
    "For this, I am using the following set of commands"
   ]
  },
  {
   "cell_type": "code",
   "execution_count": 3,
   "id": "thick-absorption",
   "metadata": {},
   "outputs": [],
   "source": [
    "import pandas as pd\n",
    "import seaborn as sns"
   ]
  },
  {
   "cell_type": "code",
   "execution_count": null,
   "id": "boolean-string",
   "metadata": {},
   "outputs": [],
   "source": [
    "# On the basis of SPARQL\n",
    "!kgtk ifexists -i ../../data/removed_statements.tsv\\\n",
    "    --filter-on ../../data/SPARQL_redirects_non-lexemes.tsv \\\n",
    "    --filter-mode NONE \\\n",
    "    --input-keys node1 \\\n",
    "    --filter-keys id \\\n",
    "    -o ../../opAnalysis/removed_statements_redirects_basis_node1.tsv\n",
    "!kgtk ifnotexists -i ../../data/removed_statements.tsv\\\n",
    "    --filter-on ../../data/SPARQL_redirects_non-lexemes.tsv \\\n",
    "    --filter-mode NONE \\\n",
    "    --input-keys node1 \\\n",
    "    --filter-keys id \\\n",
    "    -o ../../opAnalysis/removed_statements_nonredirects_basis_node1.tsv\n",
    "!kgtk ifexists -i ../../data/removed_statements.tsv\\\n",
    "    --filter-on ../../data/SPARQL_redirects_non-lexemes.tsv \\\n",
    "    --filter-mode NONE \\\n",
    "    --input-keys node2 \\\n",
    "    --filter-keys id \\\n",
    "    -o ../../opAnalysis/removed_statements_redirects_basis_node2.tsv\n",
    "!kgtk ifnotexists -i ../../data/removed_statements.tsv\\\n",
    "    --filter-on ../../data/SPARQL_redirects_non-lexemes.tsv \\\n",
    "    --filter-mode NONE \\\n",
    "    --input-keys node2 \\\n",
    "    --filter-keys id \\\n",
    "    -o ../../opAnalysis/removed_statements_nonredirects_basis_node2.tsv\n",
    "!kgtk ifnotexists -i ../../opAnalysis/removed_statements_redirects_basis_node1.tsv \\\n",
    "    --filter-on ../../opAnalysis/removed_statements_redirects_basis_node2.tsv \\\n",
    "    -o ../../opAnalysis/temp1.tsv\n",
    "!kgtk cat -i ../../opAnalysis/temp1.tsv \\\n",
    "    ../../opAnalysis/removed_statements_redirects_basis_node2.tsv \\\n",
    "    -o ../../opAnalysis/removed_statements_redirects_basis_node1or2.tsv\n",
    "!kgtk ifnotexists -i ../../data/removed_statements.tsv\\\n",
    "    --filter-on ../../opAnalysis/removed_statements_redirects_basis_node1or2.tsv \\\n",
    "    -o ../../opAnalysis/removed_statements_both_nonredirects.tsv"
   ]
  },
  {
   "cell_type": "markdown",
   "id": "committed-volunteer",
   "metadata": {},
   "source": [
    "## P31 edges distribution"
   ]
  },
  {
   "cell_type": "markdown",
   "id": "objective-range",
   "metadata": {},
   "source": [
    "Now, we'll determine in this redirected dataset - `../../opAnalysis/removed_statements_redirects_basis_node1or2.tsv`, how many of these are P31 edges and determine more stats on these"
   ]
  },
  {
   "cell_type": "markdown",
   "id": "final-fraud",
   "metadata": {},
   "source": [
    "### For Redirected Removed Statements"
   ]
  },
  {
   "cell_type": "code",
   "execution_count": null,
   "id": "analyzed-silicon",
   "metadata": {},
   "outputs": [],
   "source": [
    "!kgtk --debug query -i ../../opAnalysis/removed_statements_redirects_basis_node1or2.tsv \\\n",
    "    --match 'o: (a)-[:P31]->(b)' \\\n",
    "    --return 'b, count(distinct a)' \\\n",
    "    -o ../../opAnalysis/removed_statements_redirects_P31_stats1.tsv"
   ]
  },
  {
   "cell_type": "code",
   "execution_count": 4,
   "id": "smaller-eugene",
   "metadata": {},
   "outputs": [
    {
     "data": {
      "text/html": [
       "<div>\n",
       "<style scoped>\n",
       "    .dataframe tbody tr th:only-of-type {\n",
       "        vertical-align: middle;\n",
       "    }\n",
       "\n",
       "    .dataframe tbody tr th {\n",
       "        vertical-align: top;\n",
       "    }\n",
       "\n",
       "    .dataframe thead th {\n",
       "        text-align: right;\n",
       "    }\n",
       "</style>\n",
       "<table border=\"1\" class=\"dataframe\">\n",
       "  <thead>\n",
       "    <tr style=\"text-align: right;\">\n",
       "      <th></th>\n",
       "      <th>count</th>\n",
       "    </tr>\n",
       "    <tr>\n",
       "      <th>parent</th>\n",
       "      <th></th>\n",
       "    </tr>\n",
       "  </thead>\n",
       "  <tbody>\n",
       "    <tr>\n",
       "      <th>Q4167836</th>\n",
       "      <td>526207</td>\n",
       "    </tr>\n",
       "    <tr>\n",
       "      <th>Q17329259</th>\n",
       "      <td>301359</td>\n",
       "    </tr>\n",
       "    <tr>\n",
       "      <th>Q5</th>\n",
       "      <td>222809</td>\n",
       "    </tr>\n",
       "    <tr>\n",
       "      <th>Q4167410</th>\n",
       "      <td>108583</td>\n",
       "    </tr>\n",
       "    <tr>\n",
       "      <th>Q13442814</th>\n",
       "      <td>101156</td>\n",
       "    </tr>\n",
       "    <tr>\n",
       "      <th>Q7187</th>\n",
       "      <td>88231</td>\n",
       "    </tr>\n",
       "    <tr>\n",
       "      <th>Q11266439</th>\n",
       "      <td>61007</td>\n",
       "    </tr>\n",
       "    <tr>\n",
       "      <th>Q4423781</th>\n",
       "      <td>53671</td>\n",
       "    </tr>\n",
       "    <tr>\n",
       "      <th>Q17143521</th>\n",
       "      <td>51581</td>\n",
       "    </tr>\n",
       "    <tr>\n",
       "      <th>Q15917122</th>\n",
       "      <td>50642</td>\n",
       "    </tr>\n",
       "    <tr>\n",
       "      <th>Q486972</th>\n",
       "      <td>49257</td>\n",
       "    </tr>\n",
       "    <tr>\n",
       "      <th>Q16521</th>\n",
       "      <td>46522</td>\n",
       "    </tr>\n",
       "    <tr>\n",
       "      <th>Q318</th>\n",
       "      <td>26722</td>\n",
       "    </tr>\n",
       "    <tr>\n",
       "      <th>Q532</th>\n",
       "      <td>23721</td>\n",
       "    </tr>\n",
       "    <tr>\n",
       "      <th>Q20900710</th>\n",
       "      <td>23482</td>\n",
       "    </tr>\n",
       "  </tbody>\n",
       "</table>\n",
       "</div>"
      ],
      "text/plain": [
       "            count\n",
       "parent           \n",
       "Q4167836   526207\n",
       "Q17329259  301359\n",
       "Q5         222809\n",
       "Q4167410   108583\n",
       "Q13442814  101156\n",
       "Q7187       88231\n",
       "Q11266439   61007\n",
       "Q4423781    53671\n",
       "Q17143521   51581\n",
       "Q15917122   50642\n",
       "Q486972     49257\n",
       "Q16521      46522\n",
       "Q318        26722\n",
       "Q532        23721\n",
       "Q20900710   23482"
      ]
     },
     "execution_count": 4,
     "metadata": {},
     "output_type": "execute_result"
    }
   ],
   "source": [
    "df1 = pd.read_csv('../../opAnalysis/removed_statements_redirects_P31_stats1.tsv',sep='\\t')\n",
    "df1.columns = ['parent','count']\n",
    "df1 = df1.sort_values(by=['count'],ascending=False)\n",
    "df1 = df1.set_index('parent')\n",
    "df1.head(15)"
   ]
  },
  {
   "cell_type": "markdown",
   "id": "suburban-cosmetic",
   "metadata": {},
   "source": [
    "### For non-redirected removed statements"
   ]
  },
  {
   "cell_type": "code",
   "execution_count": null,
   "id": "characteristic-still",
   "metadata": {},
   "outputs": [],
   "source": [
    "!kgtk --debug query -i ../../opAnalysis/removed_statements_both_nonredirects.tsv \\\n",
    "    --match 'o: (a)-[:P31]->(b)' \\\n",
    "    --return 'b, count(distinct a)' \\\n",
    "    -o ../../opAnalysis/removed_statements_nonredirects_P31_stats1.tsv"
   ]
  },
  {
   "cell_type": "code",
   "execution_count": 5,
   "id": "subsequent-dutch",
   "metadata": {},
   "outputs": [],
   "source": [
    "df1 = pd.read_csv('../../opAnalysis/removed_statements_nonredirects_P31_stats1.tsv',sep='\\t')\n",
    "df1.columns = ['parent','count']\n",
    "df1 = df1.sort_values(by=['count'],ascending=False)\n",
    "df1 = df1.set_index('parent')"
   ]
  },
  {
   "cell_type": "markdown",
   "id": "whole-influence",
   "metadata": {},
   "source": [
    "## Properties Distribution"
   ]
  },
  {
   "cell_type": "markdown",
   "id": "international-conditioning",
   "metadata": {},
   "source": [
    "### For redirected removed statements"
   ]
  },
  {
   "cell_type": "code",
   "execution_count": null,
   "id": "known-moore",
   "metadata": {},
   "outputs": [],
   "source": [
    "!kgtk --debug query -i ../../opAnalysis/removed_statements_redirects_basis_node1or2.tsv \\\n",
    "    --match 'o: (a)-[r]->(b)' \\\n",
    "    --return 'r.label, count(distinct a)' \\\n",
    "    -o ../../opAnalysis/removed_statements_redirects_props_dist.tsv"
   ]
  },
  {
   "cell_type": "code",
   "execution_count": 6,
   "id": "unlikely-default",
   "metadata": {},
   "outputs": [
    {
     "data": {
      "text/html": [
       "<div>\n",
       "<style scoped>\n",
       "    .dataframe tbody tr th:only-of-type {\n",
       "        vertical-align: middle;\n",
       "    }\n",
       "\n",
       "    .dataframe tbody tr th {\n",
       "        vertical-align: top;\n",
       "    }\n",
       "\n",
       "    .dataframe thead th {\n",
       "        text-align: right;\n",
       "    }\n",
       "</style>\n",
       "<table border=\"1\" class=\"dataframe\">\n",
       "  <thead>\n",
       "    <tr style=\"text-align: right;\">\n",
       "      <th></th>\n",
       "      <th>count</th>\n",
       "    </tr>\n",
       "    <tr>\n",
       "      <th>parent</th>\n",
       "      <th></th>\n",
       "    </tr>\n",
       "  </thead>\n",
       "  <tbody>\n",
       "    <tr>\n",
       "      <th>P31</th>\n",
       "      <td>2381072</td>\n",
       "    </tr>\n",
       "    <tr>\n",
       "      <th>P17</th>\n",
       "      <td>357286</td>\n",
       "    </tr>\n",
       "    <tr>\n",
       "      <th>P1433</th>\n",
       "      <td>299464</td>\n",
       "    </tr>\n",
       "    <tr>\n",
       "      <th>P735</th>\n",
       "      <td>295778</td>\n",
       "    </tr>\n",
       "    <tr>\n",
       "      <th>P50</th>\n",
       "      <td>268412</td>\n",
       "    </tr>\n",
       "    <tr>\n",
       "      <th>P2860</th>\n",
       "      <td>243607</td>\n",
       "    </tr>\n",
       "    <tr>\n",
       "      <th>P625</th>\n",
       "      <td>227779</td>\n",
       "    </tr>\n",
       "    <tr>\n",
       "      <th>P106</th>\n",
       "      <td>185184</td>\n",
       "    </tr>\n",
       "    <tr>\n",
       "      <th>P131</th>\n",
       "      <td>183759</td>\n",
       "    </tr>\n",
       "    <tr>\n",
       "      <th>P21</th>\n",
       "      <td>179069</td>\n",
       "    </tr>\n",
       "    <tr>\n",
       "      <th>P921</th>\n",
       "      <td>167723</td>\n",
       "    </tr>\n",
       "    <tr>\n",
       "      <th>P279</th>\n",
       "      <td>162394</td>\n",
       "    </tr>\n",
       "    <tr>\n",
       "      <th>P1566</th>\n",
       "      <td>160213</td>\n",
       "    </tr>\n",
       "    <tr>\n",
       "      <th>P684</th>\n",
       "      <td>152695</td>\n",
       "    </tr>\n",
       "    <tr>\n",
       "      <th>P703</th>\n",
       "      <td>119182</td>\n",
       "    </tr>\n",
       "  </tbody>\n",
       "</table>\n",
       "</div>"
      ],
      "text/plain": [
       "          count\n",
       "parent         \n",
       "P31     2381072\n",
       "P17      357286\n",
       "P1433    299464\n",
       "P735     295778\n",
       "P50      268412\n",
       "P2860    243607\n",
       "P625     227779\n",
       "P106     185184\n",
       "P131     183759\n",
       "P21      179069\n",
       "P921     167723\n",
       "P279     162394\n",
       "P1566    160213\n",
       "P684     152695\n",
       "P703     119182"
      ]
     },
     "execution_count": 6,
     "metadata": {},
     "output_type": "execute_result"
    }
   ],
   "source": [
    "df1 = pd.read_csv('../../opAnalysis/removed_statements_redirects_props_dist.tsv',sep='\\t')\n",
    "df1.columns = ['parent','count']\n",
    "df1 = df1.sort_values(by=['count'],ascending=False)\n",
    "df1 = df1.set_index('parent')\n",
    "df1.head(15)"
   ]
  },
  {
   "cell_type": "markdown",
   "id": "satisfactory-future",
   "metadata": {},
   "source": [
    "### For non-redirected removed statements"
   ]
  },
  {
   "cell_type": "code",
   "execution_count": null,
   "id": "seasonal-composite",
   "metadata": {},
   "outputs": [],
   "source": [
    "!kgtk --debug query -i ../../opAnalysis/removed_statements_both_nonredirects.tsv \\\n",
    "    --match 'o: (a)-[r]->(b)' \\\n",
    "    --return 'r.label, count(distinct a)' \\\n",
    "    -o ../../opAnalysis/removed_statements_nonredirects_props_dist.tsv"
   ]
  },
  {
   "cell_type": "code",
   "execution_count": 7,
   "id": "informal-participant",
   "metadata": {},
   "outputs": [
    {
     "data": {
      "text/html": [
       "<div>\n",
       "<style scoped>\n",
       "    .dataframe tbody tr th:only-of-type {\n",
       "        vertical-align: middle;\n",
       "    }\n",
       "\n",
       "    .dataframe tbody tr th {\n",
       "        vertical-align: top;\n",
       "    }\n",
       "\n",
       "    .dataframe thead th {\n",
       "        text-align: right;\n",
       "    }\n",
       "</style>\n",
       "<table border=\"1\" class=\"dataframe\">\n",
       "  <thead>\n",
       "    <tr style=\"text-align: right;\">\n",
       "      <th></th>\n",
       "      <th>count</th>\n",
       "    </tr>\n",
       "    <tr>\n",
       "      <th>parent</th>\n",
       "      <th></th>\n",
       "    </tr>\n",
       "  </thead>\n",
       "  <tbody>\n",
       "    <tr>\n",
       "      <th>P2093</th>\n",
       "      <td>6173393</td>\n",
       "    </tr>\n",
       "    <tr>\n",
       "      <th>P1476</th>\n",
       "      <td>4238487</td>\n",
       "    </tr>\n",
       "    <tr>\n",
       "      <th>P31</th>\n",
       "      <td>3327644</td>\n",
       "    </tr>\n",
       "    <tr>\n",
       "      <th>P569</th>\n",
       "      <td>2011539</td>\n",
       "    </tr>\n",
       "    <tr>\n",
       "      <th>P625</th>\n",
       "      <td>1494410</td>\n",
       "    </tr>\n",
       "    <tr>\n",
       "      <th>P577</th>\n",
       "      <td>1116328</td>\n",
       "    </tr>\n",
       "    <tr>\n",
       "      <th>P234</th>\n",
       "      <td>999522</td>\n",
       "    </tr>\n",
       "    <tr>\n",
       "      <th>P570</th>\n",
       "      <td>983201</td>\n",
       "    </tr>\n",
       "    <tr>\n",
       "      <th>P131</th>\n",
       "      <td>927413</td>\n",
       "    </tr>\n",
       "    <tr>\n",
       "      <th>P364</th>\n",
       "      <td>870224</td>\n",
       "    </tr>\n",
       "    <tr>\n",
       "      <th>P2044</th>\n",
       "      <td>780870</td>\n",
       "    </tr>\n",
       "    <tr>\n",
       "      <th>P279</th>\n",
       "      <td>765112</td>\n",
       "    </tr>\n",
       "    <tr>\n",
       "      <th>P969</th>\n",
       "      <td>732461</td>\n",
       "    </tr>\n",
       "    <tr>\n",
       "      <th>P356</th>\n",
       "      <td>413439</td>\n",
       "    </tr>\n",
       "    <tr>\n",
       "      <th>P637</th>\n",
       "      <td>387091</td>\n",
       "    </tr>\n",
       "  </tbody>\n",
       "</table>\n",
       "</div>"
      ],
      "text/plain": [
       "          count\n",
       "parent         \n",
       "P2093   6173393\n",
       "P1476   4238487\n",
       "P31     3327644\n",
       "P569    2011539\n",
       "P625    1494410\n",
       "P577    1116328\n",
       "P234     999522\n",
       "P570     983201\n",
       "P131     927413\n",
       "P364     870224\n",
       "P2044    780870\n",
       "P279     765112\n",
       "P969     732461\n",
       "P356     413439\n",
       "P637     387091"
      ]
     },
     "execution_count": 7,
     "metadata": {},
     "output_type": "execute_result"
    }
   ],
   "source": [
    "df1 = pd.read_csv('../../opAnalysis/removed_statements_nonredirects_props_dist.tsv',sep='\\t')\n",
    "df1.columns = ['parent','count']\n",
    "df1 = df1.sort_values(by=['count'],ascending=False)\n",
    "df1 = df1.set_index('parent')\n",
    "df1.head(15)"
   ]
  },
  {
   "cell_type": "markdown",
   "id": "martial-friday",
   "metadata": {},
   "source": [
    "# Comparison Removed NR dataset with Qnodes, literals"
   ]
  },
  {
   "cell_type": "code",
   "execution_count": 2,
   "id": "assured-recipient",
   "metadata": {},
   "outputs": [
    {
     "name": "stdout",
     "output_type": "stream",
     "text": [
      "^C\r\n"
     ]
    }
   ],
   "source": [
    "!kgtk query -i ../../opAnalysis/removed_statements_both_nonredirects.tsv \\\n",
    "    ../gdrive-kgtk-dump-2020-12-07/claims.tsv.gz \\\n",
    "    --match \"r: (x)-[r]->(y), c: (x)-[s]->(z)\" \\\n",
    "    --where \"r.label = s.label\" \\\n",
    "    --return 'x, r.label, y, s.label as node2;newLabl, z as node2;nw' \\\n",
    "    -o ../../opAnalysis/removed_statements_both_nonredirects_new_vals.tsv"
   ]
  },
  {
   "cell_type": "code",
   "execution_count": 3,
   "id": "healthy-hypothesis",
   "metadata": {},
   "outputs": [],
   "source": [
    "!cat ../opAnalysis/removed_statements_both_nonredirects_new_vals.tsv"
   ]
  },
  {
   "cell_type": "code",
   "execution_count": null,
   "id": "amazing-clock",
   "metadata": {},
   "outputs": [],
   "source": [
    "!sed -i '1s/.*/node1\\tlabel\\tnode2\\tnode2;newLabl\\tnode2;nw/' removed_statements_both_nonredirects_str_new_vals.tsv"
   ]
  },
  {
   "cell_type": "markdown",
   "id": "distant-feeling",
   "metadata": {},
   "source": [
    "The strings subset has a branching factor of approx 10. i.e. 1 removed statement with string literal has been replaced by around 10 new statements (with same node1-label combination). Doing the same comparisons won't give us much insights. Instead, let's truncate this dataset while retaining just the counts of branching factor from each of these node1-label combinations. "
   ]
  },
  {
   "cell_type": "code",
   "execution_count": 19,
   "id": "satellite-script",
   "metadata": {},
   "outputs": [
    {
     "name": "stdout",
     "output_type": "stream",
     "text": [
      "[2021-02-26 12:07:21 sqlstore]: IMPORT graph directly into table graph_4 from /data/wd-correctness/opAnalysis/removed_statements_both_nonredirects_str_new_vals_test.tsv ...\n",
      "[2021-02-26 12:07:21 query]: SQL Translation:\n",
      "---------------------------------------------\n",
      "  SELECT graph_4_c1.\"node1\", graph_4_c1.\"label\", graph_4_c1.\"node2\", graph_4_c1.\"node2;newLabl\" \"_aLias.node2;newLabel\", max(graph_4_c1.\"node2;nw\") \"_aLias.node2;newValue\", count(graph_4_c1.\"node2;nw\") \"_aLias.node2;branching\"\n",
      "     FROM graph_4 AS graph_4_c1\n",
      "     WHERE graph_4_c1.\"node2;newLabl\"=graph_4_c1.\"node2;newLabl\"\n",
      "     AND graph_4_c1.\"node2;nw\"=graph_4_c1.\"node2;nw\"\n",
      "     GROUP BY graph_4_c1.\"node1\", graph_4_c1.\"label\", graph_4_c1.\"node2\", \"_aLias.node2;newLabel\"\n",
      "  PARAS: []\n",
      "---------------------------------------------\n"
     ]
    }
   ],
   "source": [
    "!kgtk --debug query -i ../../opAnalysis/removed_statements_both_nonredirects_str_new_vals.tsv \\\n",
    "    --match \"(node1)-[r]->(node2{newLabl: newLabel, nw: newValue})\" \\\n",
    "    --return 'node1, r.label, node2, newLabel as `node2;newLabel`, max(newValue) as `node2;newValue`, count(newValue) as `node2;branching`' \\\n",
    "    -o ../../opAnalysis/removed_statements_both_nonredirects_str_new_vals_truncated.tsv \\\n",
    "    --graph-cache ~/sqlite3_caches/temptrunc.sqlite3.db"
   ]
  },
  {
   "cell_type": "markdown",
   "id": "fiscal-architect",
   "metadata": {},
   "source": [
    "On this truncated dataset, we will next compute the stats and comparisons. Note: Our original string literals subset of removed statements was around 9 GB. With the join operation with claims, this had increased to 90 GB. We have now truncated this dataset to XX GB"
   ]
  },
  {
   "cell_type": "code",
   "execution_count": null,
   "id": "swiss-disclaimer",
   "metadata": {},
   "outputs": [],
   "source": []
  },
  {
   "cell_type": "code",
   "execution_count": null,
   "id": "consolidated-cooper",
   "metadata": {},
   "outputs": [],
   "source": []
  },
  {
   "cell_type": "code",
   "execution_count": null,
   "id": "described-america",
   "metadata": {},
   "outputs": [],
   "source": []
  },
  {
   "cell_type": "code",
   "execution_count": null,
   "id": "universal-surprise",
   "metadata": {},
   "outputs": [],
   "source": []
  },
  {
   "cell_type": "code",
   "execution_count": null,
   "id": "killing-emphasis",
   "metadata": {},
   "outputs": [],
   "source": []
  },
  {
   "cell_type": "code",
   "execution_count": null,
   "id": "answering-sheriff",
   "metadata": {},
   "outputs": [],
   "source": []
  }
 ],
 "metadata": {
  "kernelspec": {
   "display_name": "kgtkEnv",
   "language": "python",
   "name": "kgtkenv"
  },
  "language_info": {
   "codemirror_mode": {
    "name": "ipython",
    "version": 3
   },
   "file_extension": ".py",
   "mimetype": "text/x-python",
   "name": "python",
   "nbconvert_exporter": "python",
   "pygments_lexer": "ipython3",
   "version": "3.8.5"
  }
 },
 "nbformat": 4,
 "nbformat_minor": 5
}
