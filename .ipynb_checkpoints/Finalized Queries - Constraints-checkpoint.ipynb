{
 "cells": [
  {
   "cell_type": "code",
   "execution_count": 35,
   "id": "logical-simon",
   "metadata": {},
   "outputs": [
    {
     "name": "stdout",
     "output_type": "stream",
     "text": [
      "[2021-02-26 12:20:58 query]: SQL Translation:\n",
      "---------------------------------------------\n",
      "  SELECT graph_2_c1.\"id\" \"_aLias.id\", graph_2_c1.\"node1\", graph_2_c1.\"label\" \"_aLias.label\", graph_2_c1.\"node2\", graph_4_c3.\"label\" \"_aLias.node1;constLabel\", graph_4_c3.\"node2\" \"_aLias.node1;constVal\"\n",
      "     FROM graph_2 AS graph_2_c1, graph_3 AS graph_3_c2, graph_4 AS graph_4_c3\n",
      "     WHERE graph_3_c2.\"label\"=?\n",
      "     AND graph_3_c2.\"node2\"=?\n",
      "     AND ((graph_2_c1.\"label\" = graph_3_c2.\"node1\") AND ((graph_3_c2.\"id\" = graph_4_c3.\"node1\") AND (graph_4_c3.\"label\" IN (?, ?, ?))))\n",
      "  PARAS: ['P2302', 'Q21503250', 'P2308', 'P2309', 'P2316']\n",
      "---------------------------------------------\n",
      "^C\n"
     ]
    }
   ],
   "source": [
    "!kgtk --debug query -i ../../gdrive-kgtk-dump-2020-12-07/claims.string.tsv.gz \\\n",
    "    ../../gdrive-kgtk-dump-2020-12-07/claims.properties.tsv.gz \\\n",
    "    ../../gdrive-kgtk-dump-2020-12-07/qualifiers.properties.tsv.gz \\\n",
    "    --match \"c: (node1)-[nodeProp]->(node2), p: (nodeProp1)-[nodePropEdge:P2302]->(:Q21503250), q: (nodePropEdge1)-[nodePropEdgeProps]->(val)\" \\\n",
    "    --where 'nodeProp.label = nodeProp1 and nodePropEdge.id = nodePropEdge1 and nodePropEdgeProps.label in [\"P2308\", \"P2309\", \"P2316\"]' \\\n",
    "    --return 'nodeProp.id as id, node1, nodeProp.label as label, node2, nodePropEdgeProps.label as `node1;constLabel`, val as `node1;constVal`' \\\n",
    "    -o ../../constraintsOP/claims.type-constraints.tsv \\\n",
    "    --graph-cache ~/sqlite3_caches/temp1.sqlite3.db\n",
    "\n"
   ]
  },
  {
   "cell_type": "code",
   "execution_count": null,
   "id": "married-victory",
   "metadata": {},
   "outputs": [],
   "source": []
  }
 ],
 "metadata": {
  "kernelspec": {
   "display_name": "kgtkEnv",
   "language": "python",
   "name": "kgtkenv"
  },
  "language_info": {
   "codemirror_mode": {
    "name": "ipython",
    "version": 3
   },
   "file_extension": ".py",
   "mimetype": "text/x-python",
   "name": "python",
   "nbconvert_exporter": "python",
   "pygments_lexer": "ipython3",
   "version": "3.8.5"
  }
 },
 "nbformat": 4,
 "nbformat_minor": 5
}
