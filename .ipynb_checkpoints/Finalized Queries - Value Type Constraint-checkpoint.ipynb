{
 "cells": [
  {
   "cell_type": "code",
   "execution_count": null,
   "id": "amber-helena",
   "metadata": {},
   "outputs": [
    {
     "name": "stdout",
     "output_type": "stream",
     "text": [
      "[2021-03-04 10:31:35 sqlstore]: IMPORT graph directly into table graph_2 from /data/wd-correctness/gdrive-kgtk-dump-2020-12-07/claims.string.tsv.gz ...\n",
      "[2021-03-04 10:38:59 sqlstore]: IMPORT graph directly into table graph_3 from /data/wd-correctness/gdrive-kgtk-dump-2020-12-07/claims.properties.tsv.gz ...\n",
      "[2021-03-04 10:39:00 sqlstore]: IMPORT graph directly into table graph_4 from /data/wd-correctness/gdrive-kgtk-dump-2020-12-07/qualifiers.properties.tsv.gz ...\n",
      "[2021-03-04 10:39:01 query]: SQL Translation:\n",
      "---------------------------------------------\n",
      "  SELECT graph_2_c1.\"id\" \"_aLias.id\", graph_2_c1.\"node1\", graph_2_c1.\"label\" \"_aLias.label\", graph_2_c1.\"node2\", graph_4_c3.\"label\" \"_aLias.node1;constLabel\", graph_4_c3.\"node2\" \"_aLias.node1;constVal\"\n",
      "     FROM graph_2 AS graph_2_c1, graph_3 AS graph_3_c2, graph_4 AS graph_4_c3\n",
      "     WHERE graph_3_c2.\"label\"=?\n",
      "     AND graph_3_c2.\"node2\"=?\n",
      "     AND ((graph_2_c1.\"label\" = graph_3_c2.\"node1\") AND ((graph_3_c2.\"id\" = graph_4_c3.\"node1\") AND (graph_4_c3.\"label\" IN (?, ?, ?, ?))))\n",
      "  PARAS: ['P2302', 'Q21510865', 'P2308', 'P2309', 'P2316', 'P2303']\n",
      "---------------------------------------------\n",
      "[2021-03-04 10:39:01 sqlstore]: CREATE INDEX on table graph_3 column node2 ...\n",
      "[2021-03-04 10:39:01 sqlstore]: ANALYZE INDEX on table graph_3 column node2 ...\n",
      "[2021-03-04 10:39:01 sqlstore]: CREATE INDEX on table graph_3 column label ...\n",
      "[2021-03-04 10:39:01 sqlstore]: ANALYZE INDEX on table graph_3 column label ...\n"
     ]
    }
   ],
   "source": [
    "!kgtk --debug query -i ../../gdrive-kgtk-dump-2020-12-07/claims.string.tsv.gz \\\n",
    "    ../../gdrive-kgtk-dump-2020-12-07/claims.properties.tsv.gz \\\n",
    "    ../../gdrive-kgtk-dump-2020-12-07/qualifiers.properties.tsv.gz \\\n",
    "    --match \"c: (node1)-[nodeProp]->(node2), p: (nodeProp1)-[nodePropEdge:P2302]->(:Q21510865), q: (nodePropEdge1)-[nodePropEdgeProps]->(val)\" \\\n",
    "    --where 'nodeProp.label = nodeProp1 and nodePropEdge.id = nodePropEdge1 and nodePropEdgeProps.label in [\"P2308\", \"P2309\", \"P2316\", \"P2303\"]' \\\n",
    "    --return 'nodeProp.id as id, node1, nodeProp.label as label, node2, nodePropEdgeProps.label as `node1;constLabel`, val as `node1;constVal`' \\\n",
    "    -o ../../constraintsOP/valuetypeConstraint/claims.type-constraints.tsv \\\n",
    "    --graph-cache ~/sqlite3_caches/temp1.valuetype.sqlite3.db"
   ]
  },
  {
   "cell_type": "code",
   "execution_count": null,
   "id": "atmospheric-civilization",
   "metadata": {},
   "outputs": [],
   "source": [
    "!kgtk --debug query -i ../../constraintsOP/typeConstraint/claims.type-constraints.tsv \\\n",
    "    ../../gdrive-kgtk-dump-2020-12-07/claims.wikibase-item.tsv.gz \\\n",
    "    --match '(a{constLabel:constLabel,constVal:constVal})-[label]->(node2)' \\\n",
    "    --return 'label.label as `node1`, constLabel as `label`, constVal as `node2`, max(a) as `node1;exampleQnode`' \\\n",
    "    --where 'constLabel = \"P2309\"' \\\n",
    "    -o ../../constraintsOP/typeConstraint/claims.type-constraints_relation.tsv\n",
    "!kgtk --debug query -i ../../constraintsOP/typeConstraint/claims.type-constraints.tsv \\\n",
    "    --match '(a{constLabel:constLabel,constVal:constVal})-[label]->(node2)' \\\n",
    "    --return 'label.label as `node1`, constLabel as `label`, constVal as `node2`, max(a) as `node1;exampleQnode`' \\\n",
    "    --where 'constLabel = \"P2316\"' \\\n",
    "    -o ../../constraintsOP/typeConstraint/claims.type-constraints_mandSug.tsv \\\n",
    "    --graph-cache ~/sqlite3_caches/temp11.sqlite3.db\n",
    "!kgtk --debug query -i ../../constraintsOP/typeConstraint/claims.type-constraints.tsv \\\n",
    "    --match '(a{constLabel:constLabel,constVal:constVal})-[label]->(node2)' \\\n",
    "    --return 'label.label as `node1`, constLabel as `label`, constVal as `node2`, max(a) as `node1;exampleQnode`' \\\n",
    "    --where 'constLabel = \"P2308\"' \\\n",
    "    -o ../../constraintsOP/typeConstraint/claims.type-constraints_classes.tsv \\\n",
    "    --graph-cache ~/sqlite3_caches/temp12.sqlite3.db\n",
    "!kgtk --debug query -i ../../gdrive-kgtk-dump-2020-12-07/claims.properties.tsv.gz \\\n",
    "    ../../gdrive-kgtk-dump-2020-12-07/qualifiers.properties.tsv.gz \\\n",
    "    --match \"p: (nodeProp1)-[nodePropEdge:P2302]->(:Q21503250), q: (nodePropEdge1)-[nodePropEdgeProps:P2303]->(val)\" \\\n",
    "    --where 'nodePropEdge.id = nodePropEdge1' \\\n",
    "    --return 'nodeProp1 as node1, nodePropEdgeProps.label as label, val as node2' \\\n",
    "    -o ../../constraintsOP/typeConstraint/claims.type-constraints_exceptions_diff_way.tsv \\\n",
    "    --graph-cache ~/sqlite3_caches/temp1.sqlite3.db"
   ]
  }
 ],
 "metadata": {
  "kernelspec": {
   "display_name": "kgtkEnv",
   "language": "python",
   "name": "kgtkenv"
  },
  "language_info": {
   "codemirror_mode": {
    "name": "ipython",
    "version": 3
   },
   "file_extension": ".py",
   "mimetype": "text/x-python",
   "name": "python",
   "nbconvert_exporter": "python",
   "pygments_lexer": "ipython3",
   "version": "3.8.5"
  }
 },
 "nbformat": 4,
 "nbformat_minor": 5
}
