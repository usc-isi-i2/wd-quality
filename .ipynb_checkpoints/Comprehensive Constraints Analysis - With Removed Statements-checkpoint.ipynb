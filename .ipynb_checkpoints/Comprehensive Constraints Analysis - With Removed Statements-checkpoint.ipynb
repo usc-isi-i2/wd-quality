{
 "cells": [
  {
   "cell_type": "code",
   "execution_count": null,
   "id": "honest-owner",
   "metadata": {},
   "outputs": [],
   "source": [
    "!kgtk cat -i ../../gdrive-kgtk-dump-2020-12-07/claims.tsv.gz \\\n",
    "    ../../data/removed_statements.tsv \\\n",
    "    -o ../../data/claims.w_removed_statements.tsv"
   ]
  },
  {
   "cell_type": "code",
   "execution_count": 1,
   "id": "juvenile-ability",
   "metadata": {},
   "outputs": [
    {
     "data": {
      "application/vnd.jupyter.widget-view+json": {
       "model_id": "51f315ee082443c0910cd6f1584aafcc",
       "version_major": 2,
       "version_minor": 0
      },
      "text/plain": [
       "  0%|          | 0/1225987894 [00:00<?, ?it/s]"
      ]
     },
     "metadata": {},
     "output_type": "display_data"
    },
    {
     "name": "stderr",
     "output_type": "stream",
     "text": [
      "IOPub message rate exceeded.\n",
      "The notebook server will temporarily stop sending output\n",
      "to the client in order to avoid crashing it.\n",
      "To change this limit, set the config variable\n",
      "`--NotebookApp.iopub_msg_rate_limit`.\n",
      "\n",
      "Current values:\n",
      "NotebookApp.iopub_msg_rate_limit=1000.0 (msgs/sec)\n",
      "NotebookApp.rate_limit_window=3.0 (secs)\n",
      "\n"
     ]
    }
   ],
   "source": [
    "import gzip\n",
    "from tqdm.notebook import tqdm\n",
    "propFileDict = {}\n",
    "fileLineCount = 1225987894\n",
    "with open('../../data/claims.w_removed_statements.tsv','r') as fin: \n",
    "    headerLine = next(fin)\n",
    "#     tstCount = 0\n",
    "    for line in tqdm(fin, total = fileLineCount):\n",
    "        lineP = line.rstrip().split(\"\\t\")\n",
    "        if \"external-id\" in lineP[-1]:\n",
    "            continue\n",
    "        prop = lineP[2]\n",
    "#         print('got line', lineP)\n",
    "        if prop not in propFileDict:\n",
    "            propFileDict[prop] = open(\"../../propertiesSplitWRemovedWRemoved/claims.\"+str(prop)+\".tsv\",\"w\")\n",
    "            propFileDict[prop].write(headerLine)\n",
    "        propFileDict[prop].write(line)\n",
    "#         tstCount += 1\n",
    "#         if tstCount == 10:\n",
    "#             break\n",
    "    for file1 in propFileDict.values():\n",
    "        file1.close()"
   ]
  },
  {
   "cell_type": "code",
   "execution_count": 2,
   "id": "knowing-bryan",
   "metadata": {},
   "outputs": [
    {
     "name": "stdout",
     "output_type": "stream",
     "text": [
      "[2021-03-12 19:33:50 sqlstore]: IMPORT graph directly into table graph_11 from /data/wd-correctness/propertiesSplit/claims.P996.tsv ...\n",
      "[2021-03-12 19:33:51 sqlstore]: IMPORT graph directly into table graph_12 from /data/wd-correctness/wikidata-20210215/derived.isastar.tsv.gz ...\n",
      "^C\n"
     ]
    }
   ],
   "source": [
    "!kgtk --debug query -i ../../propertiesSplitWRemoved/claims.P996.tsv \\\n",
    "    ../../constraintsOP/typeConstraint/claims.type-constraints_all.tsv \\\n",
    "    ../../wikidata-20210215/derived.isastar.tsv.gz \\\n",
    "    --match \"m: (node1)-[nodeProp]->(node2), c: (rLabel)-[:P2308]->(parent), d: (node1)-[]->(par), c: (eLabel)-[:P2303]->(eNode)\" \\\n",
    "    --where 'nodeProp.label = rLabel and (par = parent or (rLabel = eLabel and node1 = eNode))' \\\n",
    "    --return 'nodeProp.id, node1, nodeProp.label, node2, max(parent) as `node1;ancestor`' \\\n",
    "    -o ../../constraintsOP/typeConstraint/claims.type-constraints.mandatory.instanceOf.P996.correct.tsv \\\n",
    "    --graph-cache ~/sqlite3_caches/mandConst001.sqlite3.db ; \\\n",
    " kgtk --debug ifnotexists -i ../../constraintsOP/typeConstraint/claims.type-constraints.mandatory.instanceOf.P996.all.tsv \\\n",
    "    --filter-on ../../constraintsOP/typeConstraint/claims.type-constraints.mandatory.instanceOf.P996.correct.tsv \\\n",
    "    --filter-mode NONE \\\n",
    "    --input-keys node1 label \\\n",
    "    --filter-keys node1 label \\\n",
    "    -o ../../constraintsOP/typeConstraint/claims.type-constraints.mandatory.instanceOf.P996.incorrect.tsv"
   ]
  },
  {
   "cell_type": "code",
   "execution_count": 4,
   "id": "abstract-retreat",
   "metadata": {},
   "outputs": [
    {
     "name": "stdout",
     "output_type": "stream",
     "text": [
      "[2021-03-12 22:33:26 query]: SQL Translation:\r\n",
      "---------------------------------------------\r\n",
      "  SELECT graph_11_c1.\"id\", graph_11_c1.\"node1\", graph_11_c1.\"label\", graph_11_c1.\"node2\"\r\n",
      "     FROM graph_11 AS graph_11_c1, graph_14 AS graph_14_c2\r\n",
      "     WHERE graph_11_c1.\"node1\"=graph_14_c2.\"node1\"\r\n",
      "     AND (graph_14_c2.\"node2\" IN (?, ?, ?))\r\n",
      "  PARAS: ['Q1238720', 'Q3331189', 'Q47461344']\r\n",
      "---------------------------------------------\r\n"
     ]
    }
   ],
   "source": [
    "!kgtk --debug query -i ../../propertiesSplitWRemoved/claims.P996.tsv \\\n",
    "    ../../wikidata-20210215/derived.isastar.tsv.gz \\\n",
    "    --match \"m: (node1)-[nodeProp]->(node2), d: (node1)-[]->(par)\" \\\n",
    "    --where 'par in [\"Q1238720\",\"Q3331189\",\"Q47461344\"]' \\\n",
    "    --return 'nodeProp.id, node1, nodeProp.label, node2' \\\n",
    "    -o ../../constraintsOP/typeConstraint/claims.type-constraints.mandatory.instanceOf.P996.correct.tsv \\\n",
    "    --graph-cache ~/sqlite3_caches/mandConst001.sqlite3.db ; \\\n",
    " kgtk --debug ifnotexists -i ../../propertiesSplitWRemoved/claims.P996.tsv \\\n",
    "    --filter-on ../../constraintsOP/typeConstraint/claims.type-constraints.mandatory.instanceOf.P996.correct.tsv \\\n",
    "    --filter-mode NONE \\\n",
    "    --input-keys node1 label \\\n",
    "    --filter-keys node1 label \\\n",
    "    -o ../../constraintsOP/typeConstraint/claims.type-constraints.mandatory.instanceOf.P996.incorrect.tsv"
   ]
  },
  {
   "cell_type": "code",
   "execution_count": 7,
   "id": "strange-truck",
   "metadata": {},
   "outputs": [
    {
     "name": "stdout",
     "output_type": "stream",
     "text": [
      "81289 ../../constraintsOP/typeConstraint/claims.type-constraints.mandatory.instanceOf.P996.correct.tsv\r\n"
     ]
    }
   ],
   "source": [
    "!wc -l ../../constraintsOP/typeConstraint/claims.type-constraints.mandatory.instanceOf.P996.correct.tsv"
   ]
  },
  {
   "cell_type": "code",
   "execution_count": 8,
   "id": "finnish-hampton",
   "metadata": {},
   "outputs": [
    {
     "name": "stdout",
     "output_type": "stream",
     "text": [
      "[2021-03-12 22:49:54 sqlstore]: IMPORT graph directly into table graph_15 from /data/wd-correctness/propertiesSplit/claims.P991.tsv ...\n",
      "[2021-03-12 22:49:54 query]: SQL Translation:\n",
      "---------------------------------------------\n",
      "  SELECT graph_15_c1.\"id\", graph_15_c1.\"node1\", graph_15_c1.\"label\", graph_15_c1.\"node2\"\n",
      "     FROM graph_15 AS graph_15_c1, graph_5 AS graph_5_c2\n",
      "     WHERE graph_15_c1.\"node1\"=graph_5_c2.\"node1\"\n",
      "     AND (graph_5_c2.\"node2\" IN (?))\n",
      "  PARAS: ['Q40231']\n",
      "---------------------------------------------\n",
      "[2021-03-12 22:49:55 sqlstore]: CREATE INDEX on table graph_15 column node1 ...\n",
      "[2021-03-12 22:49:55 sqlstore]: ANALYZE INDEX on table graph_15 column node1 ...\n"
     ]
    }
   ],
   "source": [
    "!kgtk --debug query -i ../../propertiesSplitWRemoved/claims.P991.tsv \\\n",
    "    ../../wikidata-20210215/derived.P31P279star.tsv.gz \\\n",
    "    --match \"m: (node1)-[nodeProp]->(node2), d: (node1)-[]->(par)\" \\\n",
    "    --where 'par in [\"Q40231\"]' \\\n",
    "    --return 'nodeProp.id, node1, nodeProp.label, node2' \\\n",
    "    -o ../../constraintsOP/typeConstraint/claims.type-constraints.mandatory.instanceOf.P991.correct.tsv \\\n",
    "    --graph-cache ~/sqlite3_caches/mandConst001.sqlite3.db ; \\\n",
    " kgtk --debug ifnotexists -i ../../propertiesSplitWRemoved/claims.P991.tsv \\\n",
    "    --filter-on ../../constraintsOP/typeConstraint/claims.type-constraints.mandatory.instanceOf.P991.correct.tsv \\\n",
    "    --filter-mode NONE \\\n",
    "    --input-keys node1 label \\\n",
    "    --filter-keys node1 label \\\n",
    "    -o ../../constraintsOP/typeConstraint/claims.type-constraints.mandatory.instanceOf.P991.incorrect.tsv"
   ]
  },
  {
   "cell_type": "code",
   "execution_count": 9,
   "id": "elegant-reverse",
   "metadata": {},
   "outputs": [
    {
     "name": "stdout",
     "output_type": "stream",
     "text": [
      "[2021-03-12 23:54:56 sqlstore]: IMPORT graph directly into table graph_16 from /data/wd-correctness/propertiesSplit/claims.P965.tsv ...\n",
      "[2021-03-12 23:54:56 query]: SQL Translation:\n",
      "---------------------------------------------\n",
      "  SELECT graph_16_c1.\"id\", graph_5_c2.\"node1\", graph_16_c1.\"label\", graph_16_c1.\"node2\"\n",
      "     FROM graph_16 AS graph_16_c1, graph_5 AS graph_5_c2\n",
      "     WHERE graph_16_c1.\"node1\"=graph_5_c2.\"node1\"\n",
      "     AND (graph_5_c2.\"node2\" IN (?))\n",
      "  PARAS: ['Q6023295']\n",
      "---------------------------------------------\n",
      "[2021-03-12 23:54:56 sqlstore]: CREATE INDEX on table graph_16 column node1 ...\n",
      "[2021-03-12 23:54:56 sqlstore]: ANALYZE INDEX on table graph_16 column node1 ...\n"
     ]
    }
   ],
   "source": [
    "!kgtk --debug query -i ../../propertiesSplitWRemoved/claims.P965.tsv \\\n",
    "    ../../wikidata-20210215/derived.P31P279star.tsv.gz \\\n",
    "    --match \"m: (node1)-[nodeProp]->(node2), d: (node1)-[]->(par)\" \\\n",
    "    --where 'par in [\"Q6023295\"]' \\\n",
    "    --return 'nodeProp.id, node1, nodeProp.label, node2' \\\n",
    "    -o ../../constraintsOP/typeConstraint/claims.type-constraints.mandatory.instanceOf.P965.correct.tsv \\\n",
    "    --graph-cache ~/sqlite3_caches/mandConst001.sqlite3.db ; \\\n",
    " kgtk --debug ifnotexists -i ../../propertiesSplitWRemoved/claims.P965.tsv \\\n",
    "    --filter-on ../../constraintsOP/typeConstraint/claims.type-constraints.mandatory.instanceOf.P965.correct.tsv \\\n",
    "    --filter-mode NONE \\\n",
    "    --input-keys node1 label \\\n",
    "    --filter-keys node1 label \\\n",
    "    -o ../../constraintsOP/typeConstraint/claims.type-constraints.mandatory.instanceOf.P965.incorrect.tsv"
   ]
  },
  {
   "cell_type": "markdown",
   "id": "matched-strength",
   "metadata": {},
   "source": [
    "# Generate Queries"
   ]
  },
  {
   "cell_type": "markdown",
   "id": "black-insured",
   "metadata": {},
   "source": [
    "## Type Constraint"
   ]
  },
  {
   "cell_type": "markdown",
   "id": "interior-humor",
   "metadata": {},
   "source": [
    "### Understand Constraints File"
   ]
  },
  {
   "cell_type": "code",
   "execution_count": 5,
   "id": "clinical-brunei",
   "metadata": {},
   "outputs": [],
   "source": [
    "import pandas as pd\n",
    "df = pd.read_csv('../../constraintsOP/typeConstraint/claims.type-constraints_all.tsv',sep='\\t')"
   ]
  },
  {
   "cell_type": "code",
   "execution_count": 6,
   "id": "assured-cleaners",
   "metadata": {},
   "outputs": [],
   "source": [
    "df1 = df.groupby(['node1','label']).node2.apply(lambda p: p.tolist()).reset_index()"
   ]
  },
  {
   "cell_type": "code",
   "execution_count": 7,
   "id": "sharing-evolution",
   "metadata": {},
   "outputs": [
    {
     "data": {
      "text/html": [
       "<div>\n",
       "<style scoped>\n",
       "    .dataframe tbody tr th:only-of-type {\n",
       "        vertical-align: middle;\n",
       "    }\n",
       "\n",
       "    .dataframe tbody tr th {\n",
       "        vertical-align: top;\n",
       "    }\n",
       "\n",
       "    .dataframe thead th {\n",
       "        text-align: right;\n",
       "    }\n",
       "</style>\n",
       "<table border=\"1\" class=\"dataframe\">\n",
       "  <thead>\n",
       "    <tr style=\"text-align: right;\">\n",
       "      <th></th>\n",
       "      <th>node1</th>\n",
       "      <th>label</th>\n",
       "      <th>node2</th>\n",
       "    </tr>\n",
       "  </thead>\n",
       "  <tbody>\n",
       "    <tr>\n",
       "      <th>0</th>\n",
       "      <td>P1001</td>\n",
       "      <td>P2308</td>\n",
       "      <td>[Q102496, Q105985, Q1140371, Q1151067, Q119768...</td>\n",
       "    </tr>\n",
       "    <tr>\n",
       "      <th>1</th>\n",
       "      <td>P1001</td>\n",
       "      <td>P2309</td>\n",
       "      <td>[Q30208840]</td>\n",
       "    </tr>\n",
       "    <tr>\n",
       "      <th>2</th>\n",
       "      <td>P1002</td>\n",
       "      <td>P2308</td>\n",
       "      <td>[Q630010]</td>\n",
       "    </tr>\n",
       "    <tr>\n",
       "      <th>3</th>\n",
       "      <td>P1002</td>\n",
       "      <td>P2309</td>\n",
       "      <td>[Q21514624]</td>\n",
       "    </tr>\n",
       "    <tr>\n",
       "      <th>4</th>\n",
       "      <td>P1004</td>\n",
       "      <td>P2308</td>\n",
       "      <td>[Q2221906, Q23413, Q3947, Q41176, Q88291]</td>\n",
       "    </tr>\n",
       "  </tbody>\n",
       "</table>\n",
       "</div>"
      ],
      "text/plain": [
       "   node1  label                                              node2\n",
       "0  P1001  P2308  [Q102496, Q105985, Q1140371, Q1151067, Q119768...\n",
       "1  P1001  P2309                                        [Q30208840]\n",
       "2  P1002  P2308                                          [Q630010]\n",
       "3  P1002  P2309                                        [Q21514624]\n",
       "4  P1004  P2308          [Q2221906, Q23413, Q3947, Q41176, Q88291]"
      ]
     },
     "execution_count": 7,
     "metadata": {},
     "output_type": "execute_result"
    }
   ],
   "source": [
    "df1.head()"
   ]
  },
  {
   "cell_type": "code",
   "execution_count": 8,
   "id": "still-trail",
   "metadata": {},
   "outputs": [
    {
     "data": {
      "text/html": [
       "<div>\n",
       "<style scoped>\n",
       "    .dataframe tbody tr th:only-of-type {\n",
       "        vertical-align: middle;\n",
       "    }\n",
       "\n",
       "    .dataframe tbody tr th {\n",
       "        vertical-align: top;\n",
       "    }\n",
       "\n",
       "    .dataframe thead th {\n",
       "        text-align: right;\n",
       "    }\n",
       "</style>\n",
       "<table border=\"1\" class=\"dataframe\">\n",
       "  <thead>\n",
       "    <tr style=\"text-align: right;\">\n",
       "      <th></th>\n",
       "      <th>node1</th>\n",
       "      <th>label</th>\n",
       "      <th>node2</th>\n",
       "    </tr>\n",
       "  </thead>\n",
       "  <tbody>\n",
       "    <tr>\n",
       "      <th>69</th>\n",
       "      <td>P105</td>\n",
       "      <td>P2308</td>\n",
       "      <td>[Q16521]</td>\n",
       "    </tr>\n",
       "    <tr>\n",
       "      <th>70</th>\n",
       "      <td>P105</td>\n",
       "      <td>P2309</td>\n",
       "      <td>[Q21503252]</td>\n",
       "    </tr>\n",
       "    <tr>\n",
       "      <th>71</th>\n",
       "      <td>P105</td>\n",
       "      <td>P2316</td>\n",
       "      <td>[Q21502408]</td>\n",
       "    </tr>\n",
       "  </tbody>\n",
       "</table>\n",
       "</div>"
      ],
      "text/plain": [
       "   node1  label        node2\n",
       "69  P105  P2308     [Q16521]\n",
       "70  P105  P2309  [Q21503252]\n",
       "71  P105  P2316  [Q21502408]"
      ]
     },
     "execution_count": 8,
     "metadata": {},
     "output_type": "execute_result"
    }
   ],
   "source": [
    "df1[df1['node1'] == 'P105']"
   ]
  },
  {
   "cell_type": "markdown",
   "id": "solid-browser",
   "metadata": {},
   "source": [
    "### Query Generator"
   ]
  },
  {
   "cell_type": "code",
   "execution_count": 17,
   "id": "bright-impossible",
   "metadata": {},
   "outputs": [
    {
     "data": {
      "application/vnd.jupyter.widget-view+json": {
       "model_id": "8774a89ab86f413f9a434b082221d163",
       "version_major": 2,
       "version_minor": 0
      },
      "text/plain": [
       "  0%|          | 0/4810 [00:00<?, ?it/s]"
      ]
     },
     "metadata": {},
     "output_type": "display_data"
    },
    {
     "name": "stdout",
     "output_type": "stream",
     "text": [
      "Something failed for prop: P1249\n",
      "Something failed for prop: P6790\n"
     ]
    }
   ],
   "source": [
    "from tqdm.notebook import tqdm\n",
    "import os.path\n",
    "import os\n",
    "\n",
    "cnt = 0\n",
    "fCnt = 1\n",
    "fOP = None\n",
    "for prop in tqdm(df1.node1.unique()):\n",
    "    try:\n",
    "        if not(os.path.isfile(\"../../propertiesSplitWRemoved/claims.\"+ prop +\".tsv\")):\n",
    "            continue\n",
    "        relation = df1[(df1['node1'] == prop) & (df1['label'] == 'P2309')].node2.values[0][0]\n",
    "        type1 = df1[(df1['node1'] == prop) & (df1['label'] == 'P2316')].node2.values\n",
    "#         print(type1)\n",
    "\n",
    "        parents = df1[(df1['node1'] == prop) & (df1['label'] == 'P2308')].node2.values[0]\n",
    "        exceptions = df1[(df1['node1'] == prop) & (df1['label'] == 'P2303')].node2.values\n",
    "        \n",
    "        if relation == \"Q21503252\":\n",
    "            parentFile = \"P31\"\n",
    "            parentTitle = 'instanceOf'\n",
    "        elif relation == \"Q21514624\":\n",
    "            parentFile = \"P279\"\n",
    "            parentTitle = 'subclass'\n",
    "        else:\n",
    "            parentFile = \"isa\"\n",
    "            parentTitle = 'instanceOfOrSubclass'\n",
    "\n",
    "        if len(type1) != 0 and type1[0][0] == \"Q21502408\":\n",
    "            typeVal = \"mandatory\"\n",
    "        elif len(type1) != 0 and type1[0][0] == \"Q62026391\":\n",
    "            typeVal = \"suggestion\"\n",
    "        else:\n",
    "            typeVal = \"normal\"\n",
    "\n",
    "        if len(exceptions):\n",
    "            exceptionPart = \"or node1 in \" + str(exceptions[0]).replace(\"'\",'\"')\n",
    "        else:\n",
    "            exceptionPart = \"\"\n",
    "        \n",
    "        folderName = 'typeConstraint_Final'\n",
    "        shellFileSuffix = 'typeConstraintValidator'\n",
    "        \n",
    "        if cnt % 120 == 0:\n",
    "            if fOP:\n",
    "                fOP.close()\n",
    "            fOP = open(\"../../propertiesSplitWRemoved/checkViolations/\" + shellFileSuffix + str(fCnt) + \".sh\",\"w\")\n",
    "            fCnt += 1\n",
    "        \n",
    "        fOP.write(\"{ time (kgtk --debug query -i ../../propertiesSplitWRemoved/claims.\"+ prop +\".tsv \\\n",
    "        ../../wikidata-20210215/derived.\" + parentFile + \".tsv.gz \\\n",
    "        ../../wikidata-20210215/derived.P279star.tsv.gz \\\n",
    "        --match 'm: (node1)-[nodeProp]->(node2), \" + parentFile + \": (node1)-[]->(nodex), P279star: (nodex)-[]->(par)' \\\n",
    "        --where 'par in \" + str(parents).replace(\"'\",'\"') + \" \" + exceptionPart + \"' \\\n",
    "        --return 'distinct nodeProp.id, node1 as `node1`, nodeProp.label as `label`, node2 as `node2`' \\\n",
    "        -o ../../allConstraintsAnalysisWRemoved/\" + folderName + \"/\" + typeVal + \"/claims.type-constraints.\" + parentTitle + \".\"+ prop +\".correct.tsv \\\n",
    "        --graph-cache ~/sqlite3_caches/const120_\" + str(fCnt) + \".sqlite3.db; \\\n",
    "         kgtk --debug ifnotexists -i ../../propertiesSplitWRemoved/claims.\"+ prop +\".tsv \\\n",
    "        --filter-on ../../allConstraintsAnalysisWRemoved/\" + folderName + \"/\" + typeVal + \"/claims.type-constraints.\" + parentTitle + \".\"+ prop +\".correct.tsv \\\n",
    "        --filter-mode NONE \\\n",
    "        --input-keys node1 label \\\n",
    "        --filter-keys node1 label \\\n",
    "        -o ../../allConstraintsAnalysisWRemoved/\" + folderName + \"/\" + typeVal + \"/claims.type-constraints.\" + parentTitle + \".\"+ prop +\".incorrect.tsv ) } 2>> ../../propertiesSplitWRemoved/checkViolations/exec_logs/\" + shellFileSuffix + str(fCnt) + \".txt;\")\n",
    "\n",
    "        cnt += 1\n",
    "    except:\n",
    "        print(\"Something failed for prop:\",prop)\n",
    "\n",
    "if fOP:\n",
    "    fOP.close()"
   ]
  },
  {
   "cell_type": "code",
   "execution_count": 18,
   "id": "electrical-agreement",
   "metadata": {},
   "outputs": [
    {
     "data": {
      "text/plain": [
       "3743"
      ]
     },
     "execution_count": 18,
     "metadata": {},
     "output_type": "execute_result"
    }
   ],
   "source": [
    "cnt"
   ]
  },
  {
   "cell_type": "code",
   "execution_count": 19,
   "id": "outside-stupid",
   "metadata": {},
   "outputs": [],
   "source": [
    "# import os\n",
    "# for i in range(1,33):\n",
    "#     os.system(\"screen -dm sh ../../propertiesSplitWRemoved/checkViolations/typeConstraintValidator\"+str(i)+\".sh\")\n",
    "    "
   ]
  },
  {
   "cell_type": "markdown",
   "id": "competitive-canvas",
   "metadata": {},
   "source": [
    "### Analyze Violations"
   ]
  },
  {
   "cell_type": "code",
   "execution_count": 1,
   "id": "casual-perth",
   "metadata": {},
   "outputs": [
    {
     "data": {
      "application/vnd.jupyter.widget-view+json": {
       "model_id": "d3adf3ce540a4ba5bff69b56a357277e",
       "version_major": 2,
       "version_minor": 0
      },
      "text/plain": [
       "0it [00:00, ?it/s]"
      ]
     },
     "metadata": {},
     "output_type": "display_data"
    },
    {
     "data": {
      "application/vnd.jupyter.widget-view+json": {
       "model_id": "c5d144cbeb1d49598b7a30efc4bfb7af",
       "version_major": 2,
       "version_minor": 0
      },
      "text/plain": [
       "  0%|          | 0/1224 [00:00<?, ?it/s]"
      ]
     },
     "metadata": {},
     "output_type": "display_data"
    },
    {
     "data": {
      "application/vnd.jupyter.widget-view+json": {
       "model_id": "34c629bac1a94154a5be2e239f2c36d9",
       "version_major": 2,
       "version_minor": 0
      },
      "text/plain": [
       "  0%|          | 0/58 [00:00<?, ?it/s]"
      ]
     },
     "metadata": {},
     "output_type": "display_data"
    },
    {
     "data": {
      "application/vnd.jupyter.widget-view+json": {
       "model_id": "2e8cece4fc4c4bb5833818595fdd33de",
       "version_major": 2,
       "version_minor": 0
      },
      "text/plain": [
       "  0%|          | 0/6204 [00:00<?, ?it/s]"
      ]
     },
     "metadata": {},
     "output_type": "display_data"
    }
   ],
   "source": [
    "import pandas as pd\n",
    "import os\n",
    "from tqdm.notebook import tqdm\n",
    "\n",
    "typeConstViolations = {}\n",
    "\n",
    "def countLines(fname):\n",
    "    cnt = -1\n",
    "    with open(fname, 'r') as f:\n",
    "        for line in f:\n",
    "            cnt += 1\n",
    "    return cnt\n",
    "\n",
    "propList = set()\n",
    "\n",
    "violations = {}\n",
    "\n",
    "for folder in tqdm(iter(['mandatory', 'suggestion', 'normal'])):\n",
    "    typeConstViolations[folder] = {'instanceOf': {'correct': 0, 'incorrect': 0}, 'subclass': {'correct': 0, 'incorrect': 0}, 'instanceOfOrSubclass': {'correct': 0, 'incorrect': 0},'propCount': 0}\n",
    "    filePath = \"../../allConstraintsAnalysisWRemoved/typeConstraint_Final/\"+folder+\"/\"\n",
    "    for filename in tqdm(os.listdir(filePath)):\n",
    "        type1 = filename.split(\".\")[2]\n",
    "        prop = filename.split(\".\")[3]\n",
    "        propList.add(prop)\n",
    "        correctness = filename.split(\".\")[4]\n",
    "        count1 = countLines(filePath+filename)\n",
    "        typeConstViolations[folder][type1][correctness] += count1\n",
    "        if prop not in violations:\n",
    "            violations[prop] = {'correct': 0, 'incorrect': 0, 'paths': []}\n",
    "        violations[prop][correctness] = count1\n",
    "        violations[prop]['paths'].append(filePath+filename)\n",
    "        if correctness == 'correct':\n",
    "            typeConstViolations[folder]['propCount'] += 1\n",
    "        "
   ]
  },
  {
   "cell_type": "code",
   "execution_count": 2,
   "id": "widespread-sector",
   "metadata": {},
   "outputs": [],
   "source": [
    "# countLines(\"../../allConstraintsAnalysisWRemoved/typeConstraint/mandatory/claims.type-constraints.subclass.P534.incorrect.tsv\")"
   ]
  },
  {
   "cell_type": "code",
   "execution_count": 3,
   "id": "golden-affiliate",
   "metadata": {},
   "outputs": [
    {
     "name": "stdout",
     "output_type": "stream",
     "text": [
      "3743 properties processed for type constraint for 551873462 statements\n"
     ]
    }
   ],
   "source": [
    "recordCount = 0\n",
    "for elem in typeConstViolations.keys():\n",
    "    for key1 in typeConstViolations[elem].keys():\n",
    "        try:\n",
    "            recordCount += typeConstViolations[elem][key1]['correct'] + typeConstViolations[elem][key1]['incorrect']\n",
    "        except:\n",
    "            continue\n",
    "print(f\"{len(propList)} properties processed for type constraint for {recordCount} statements\")"
   ]
  },
  {
   "cell_type": "code",
   "execution_count": 4,
   "id": "needed-portfolio",
   "metadata": {},
   "outputs": [],
   "source": [
    "import pandas as pd\n",
    "typeConstDF = pd.DataFrame(violations).T"
   ]
  },
  {
   "cell_type": "code",
   "execution_count": 5,
   "id": "lesser-thomson",
   "metadata": {},
   "outputs": [],
   "source": [
    "typeConstDF['violation_ratio'] = typeConstDF.apply(lambda p: p.incorrect / (p.correct + p.incorrect), axis=1)"
   ]
  },
  {
   "cell_type": "code",
   "execution_count": 6,
   "id": "flying-context",
   "metadata": {},
   "outputs": [
    {
     "data": {
      "text/html": [
       "<div>\n",
       "<style scoped>\n",
       "    .dataframe tbody tr th:only-of-type {\n",
       "        vertical-align: middle;\n",
       "    }\n",
       "\n",
       "    .dataframe tbody tr th {\n",
       "        vertical-align: top;\n",
       "    }\n",
       "\n",
       "    .dataframe thead th {\n",
       "        text-align: right;\n",
       "    }\n",
       "</style>\n",
       "<table border=\"1\" class=\"dataframe\">\n",
       "  <thead>\n",
       "    <tr style=\"text-align: right;\">\n",
       "      <th></th>\n",
       "      <th>correct</th>\n",
       "      <th>incorrect</th>\n",
       "      <th>paths</th>\n",
       "      <th>violation_ratio</th>\n",
       "    </tr>\n",
       "  </thead>\n",
       "  <tbody>\n",
       "    <tr>\n",
       "      <th>P1370</th>\n",
       "      <td>7</td>\n",
       "      <td>4</td>\n",
       "      <td>[../../allConstraintsAnalysisWRemoved/typeCons...</td>\n",
       "      <td>0.363636</td>\n",
       "    </tr>\n",
       "    <tr>\n",
       "      <th>P6686</th>\n",
       "      <td>27</td>\n",
       "      <td>2</td>\n",
       "      <td>[../../allConstraintsAnalysisWRemoved/typeCons...</td>\n",
       "      <td>0.068966</td>\n",
       "    </tr>\n",
       "    <tr>\n",
       "      <th>P3785</th>\n",
       "      <td>4</td>\n",
       "      <td>3</td>\n",
       "      <td>[../../allConstraintsAnalysisWRemoved/typeCons...</td>\n",
       "      <td>0.428571</td>\n",
       "    </tr>\n",
       "    <tr>\n",
       "      <th>P2336</th>\n",
       "      <td>1</td>\n",
       "      <td>0</td>\n",
       "      <td>[../../allConstraintsAnalysisWRemoved/typeCons...</td>\n",
       "      <td>0.000000</td>\n",
       "    </tr>\n",
       "    <tr>\n",
       "      <th>P4602</th>\n",
       "      <td>2018</td>\n",
       "      <td>13</td>\n",
       "      <td>[../../allConstraintsAnalysisWRemoved/typeCons...</td>\n",
       "      <td>0.006401</td>\n",
       "    </tr>\n",
       "  </tbody>\n",
       "</table>\n",
       "</div>"
      ],
      "text/plain": [
       "      correct incorrect                                              paths  \\\n",
       "P1370       7         4  [../../allConstraintsAnalysisWRemoved/typeCons...   \n",
       "P6686      27         2  [../../allConstraintsAnalysisWRemoved/typeCons...   \n",
       "P3785       4         3  [../../allConstraintsAnalysisWRemoved/typeCons...   \n",
       "P2336       1         0  [../../allConstraintsAnalysisWRemoved/typeCons...   \n",
       "P4602    2018        13  [../../allConstraintsAnalysisWRemoved/typeCons...   \n",
       "\n",
       "       violation_ratio  \n",
       "P1370         0.363636  \n",
       "P6686         0.068966  \n",
       "P3785         0.428571  \n",
       "P2336         0.000000  \n",
       "P4602         0.006401  "
      ]
     },
     "execution_count": 6,
     "metadata": {},
     "output_type": "execute_result"
    }
   ],
   "source": [
    "typeConstDF.head()"
   ]
  },
  {
   "cell_type": "code",
   "execution_count": 7,
   "id": "competitive-peeing",
   "metadata": {},
   "outputs": [
    {
     "data": {
      "text/html": [
       "<div>\n",
       "<style scoped>\n",
       "    .dataframe tbody tr th:only-of-type {\n",
       "        vertical-align: middle;\n",
       "    }\n",
       "\n",
       "    .dataframe tbody tr th {\n",
       "        vertical-align: top;\n",
       "    }\n",
       "\n",
       "    .dataframe thead th {\n",
       "        text-align: right;\n",
       "    }\n",
       "</style>\n",
       "<table border=\"1\" class=\"dataframe\">\n",
       "  <thead>\n",
       "    <tr style=\"text-align: right;\">\n",
       "      <th></th>\n",
       "      <th>correct</th>\n",
       "      <th>incorrect</th>\n",
       "      <th>paths</th>\n",
       "      <th>violation_ratio</th>\n",
       "    </tr>\n",
       "  </thead>\n",
       "  <tbody>\n",
       "    <tr>\n",
       "      <th>P8894</th>\n",
       "      <td>0</td>\n",
       "      <td>1</td>\n",
       "      <td>[../../allConstraintsAnalysisWRemoved/typeCons...</td>\n",
       "      <td>1.0</td>\n",
       "    </tr>\n",
       "    <tr>\n",
       "      <th>P4866</th>\n",
       "      <td>0</td>\n",
       "      <td>1</td>\n",
       "      <td>[../../allConstraintsAnalysisWRemoved/typeCons...</td>\n",
       "      <td>1.0</td>\n",
       "    </tr>\n",
       "    <tr>\n",
       "      <th>P5083</th>\n",
       "      <td>0</td>\n",
       "      <td>1</td>\n",
       "      <td>[../../allConstraintsAnalysisWRemoved/typeCons...</td>\n",
       "      <td>1.0</td>\n",
       "    </tr>\n",
       "    <tr>\n",
       "      <th>P4031</th>\n",
       "      <td>0</td>\n",
       "      <td>2</td>\n",
       "      <td>[../../allConstraintsAnalysisWRemoved/typeCons...</td>\n",
       "      <td>1.0</td>\n",
       "    </tr>\n",
       "    <tr>\n",
       "      <th>P3855</th>\n",
       "      <td>0</td>\n",
       "      <td>4</td>\n",
       "      <td>[../../allConstraintsAnalysisWRemoved/typeCons...</td>\n",
       "      <td>1.0</td>\n",
       "    </tr>\n",
       "    <tr>\n",
       "      <th>P1760</th>\n",
       "      <td>0</td>\n",
       "      <td>2</td>\n",
       "      <td>[../../allConstraintsAnalysisWRemoved/typeCons...</td>\n",
       "      <td>1.0</td>\n",
       "    </tr>\n",
       "    <tr>\n",
       "      <th>P6880</th>\n",
       "      <td>0</td>\n",
       "      <td>3</td>\n",
       "      <td>[../../allConstraintsAnalysisWRemoved/typeCons...</td>\n",
       "      <td>1.0</td>\n",
       "    </tr>\n",
       "    <tr>\n",
       "      <th>P3968</th>\n",
       "      <td>0</td>\n",
       "      <td>1</td>\n",
       "      <td>[../../allConstraintsAnalysisWRemoved/typeCons...</td>\n",
       "      <td>1.0</td>\n",
       "    </tr>\n",
       "    <tr>\n",
       "      <th>P5086</th>\n",
       "      <td>0</td>\n",
       "      <td>1</td>\n",
       "      <td>[../../allConstraintsAnalysisWRemoved/typeCons...</td>\n",
       "      <td>1.0</td>\n",
       "    </tr>\n",
       "    <tr>\n",
       "      <th>P4172</th>\n",
       "      <td>0</td>\n",
       "      <td>2</td>\n",
       "      <td>[../../allConstraintsAnalysisWRemoved/typeCons...</td>\n",
       "      <td>1.0</td>\n",
       "    </tr>\n",
       "    <tr>\n",
       "      <th>P6128</th>\n",
       "      <td>0</td>\n",
       "      <td>33</td>\n",
       "      <td>[../../allConstraintsAnalysisWRemoved/typeCons...</td>\n",
       "      <td>1.0</td>\n",
       "    </tr>\n",
       "    <tr>\n",
       "      <th>P4217</th>\n",
       "      <td>0</td>\n",
       "      <td>2</td>\n",
       "      <td>[../../allConstraintsAnalysisWRemoved/typeCons...</td>\n",
       "      <td>1.0</td>\n",
       "    </tr>\n",
       "    <tr>\n",
       "      <th>P5633</th>\n",
       "      <td>0</td>\n",
       "      <td>4</td>\n",
       "      <td>[../../allConstraintsAnalysisWRemoved/typeCons...</td>\n",
       "      <td>1.0</td>\n",
       "    </tr>\n",
       "    <tr>\n",
       "      <th>P5298</th>\n",
       "      <td>0</td>\n",
       "      <td>1</td>\n",
       "      <td>[../../allConstraintsAnalysisWRemoved/typeCons...</td>\n",
       "      <td>1.0</td>\n",
       "    </tr>\n",
       "    <tr>\n",
       "      <th>P6700</th>\n",
       "      <td>0</td>\n",
       "      <td>3</td>\n",
       "      <td>[../../allConstraintsAnalysisWRemoved/typeCons...</td>\n",
       "      <td>1.0</td>\n",
       "    </tr>\n",
       "  </tbody>\n",
       "</table>\n",
       "</div>"
      ],
      "text/plain": [
       "      correct incorrect                                              paths  \\\n",
       "P8894       0         1  [../../allConstraintsAnalysisWRemoved/typeCons...   \n",
       "P4866       0         1  [../../allConstraintsAnalysisWRemoved/typeCons...   \n",
       "P5083       0         1  [../../allConstraintsAnalysisWRemoved/typeCons...   \n",
       "P4031       0         2  [../../allConstraintsAnalysisWRemoved/typeCons...   \n",
       "P3855       0         4  [../../allConstraintsAnalysisWRemoved/typeCons...   \n",
       "P1760       0         2  [../../allConstraintsAnalysisWRemoved/typeCons...   \n",
       "P6880       0         3  [../../allConstraintsAnalysisWRemoved/typeCons...   \n",
       "P3968       0         1  [../../allConstraintsAnalysisWRemoved/typeCons...   \n",
       "P5086       0         1  [../../allConstraintsAnalysisWRemoved/typeCons...   \n",
       "P4172       0         2  [../../allConstraintsAnalysisWRemoved/typeCons...   \n",
       "P6128       0        33  [../../allConstraintsAnalysisWRemoved/typeCons...   \n",
       "P4217       0         2  [../../allConstraintsAnalysisWRemoved/typeCons...   \n",
       "P5633       0         4  [../../allConstraintsAnalysisWRemoved/typeCons...   \n",
       "P5298       0         1  [../../allConstraintsAnalysisWRemoved/typeCons...   \n",
       "P6700       0         3  [../../allConstraintsAnalysisWRemoved/typeCons...   \n",
       "\n",
       "       violation_ratio  \n",
       "P8894              1.0  \n",
       "P4866              1.0  \n",
       "P5083              1.0  \n",
       "P4031              1.0  \n",
       "P3855              1.0  \n",
       "P1760              1.0  \n",
       "P6880              1.0  \n",
       "P3968              1.0  \n",
       "P5086              1.0  \n",
       "P4172              1.0  \n",
       "P6128              1.0  \n",
       "P4217              1.0  \n",
       "P5633              1.0  \n",
       "P5298              1.0  \n",
       "P6700              1.0  "
      ]
     },
     "execution_count": 7,
     "metadata": {},
     "output_type": "execute_result"
    }
   ],
   "source": [
    "typeConstDF.sort_values(by=['violation_ratio'],ascending=False).head(15)"
   ]
  },
  {
   "cell_type": "code",
   "execution_count": 8,
   "id": "backed-corruption",
   "metadata": {},
   "outputs": [
    {
     "data": {
      "text/plain": [
       "['../../allConstraintsAnalysisWRemoved/typeConstraint_Final/normal/claims.type-constraints.instanceOf.P4945.correct.tsv',\n",
       " '../../allConstraintsAnalysisWRemoved/typeConstraint_Final/normal/claims.type-constraints.instanceOf.P4945.incorrect.tsv']"
      ]
     },
     "execution_count": 8,
     "metadata": {},
     "output_type": "execute_result"
    }
   ],
   "source": [
    "list(typeConstDF.loc['P4945'].paths)"
   ]
  },
  {
   "cell_type": "code",
   "execution_count": 11,
   "id": "clinical-lawsuit",
   "metadata": {},
   "outputs": [
    {
     "data": {
      "text/plain": [
       "count    3743.000000\n",
       "mean        0.367622\n",
       "std         0.367966\n",
       "min         0.000000\n",
       "25%         0.016360\n",
       "50%         0.240000\n",
       "75%         0.700000\n",
       "max         1.000000\n",
       "Name: violation_ratio, dtype: float64"
      ]
     },
     "execution_count": 11,
     "metadata": {},
     "output_type": "execute_result"
    }
   ],
   "source": [
    "typeConstDF['violation_ratio'].describe()"
   ]
  },
  {
   "cell_type": "code",
   "execution_count": 12,
   "id": "wanted-domestic",
   "metadata": {},
   "outputs": [
    {
     "data": {
      "text/plain": [
       "Text(0.5, 1.0, 'Type Constraint Violation Ratios')"
      ]
     },
     "execution_count": 12,
     "metadata": {},
     "output_type": "execute_result"
    },
    {
     "data": {
      "image/png": "[encoded data removed]",
      "text/plain": [
       "<Figure size 432x288 with 1 Axes>"
      ]
     },
     "metadata": {
      "needs_background": "light"
     },
     "output_type": "display_data"
    }
   ],
   "source": [
    "typeConstDF['violation_ratio'].plot.hist(bins=100).set_title(\"Type Constraint Violation Ratios\")"
   ]
  },
  {
   "cell_type": "code",
   "execution_count": 13,
   "id": "sufficient-hollywood",
   "metadata": {},
   "outputs": [
    {
     "data": {
      "text/plain": [
       "Text(0.5, 1.0, 'Type Constraint Violation Ratios (<=0.05)')"
      ]
     },
     "execution_count": 13,
     "metadata": {},
     "output_type": "execute_result"
    },
    {
     "data": {
      "image/png": "[encoded data removed]",
      "text/plain": [
       "<Figure size 432x288 with 1 Axes>"
      ]
     },
     "metadata": {
      "needs_background": "light"
     },
     "output_type": "display_data"
    }
   ],
   "source": [
    "typeConstDF[typeConstDF['violation_ratio'] <= 0.05].violation_ratio.plot.hist(bins=100).set_title(\"Type Constraint Violation Ratios (<=0.05)\")"
   ]
  },
  {
   "cell_type": "code",
   "execution_count": 14,
   "id": "minor-marshall",
   "metadata": {},
   "outputs": [
    {
     "name": "stdout",
     "output_type": "stream",
     "text": [
      "No. of constraints whose violation ratio is greater than mean :0/3743\n"
     ]
    }
   ],
   "source": [
    "print(f\"No. of constraints whose violation ratio is greater than mean :{sum(typeConstDF['violation_ratio'] >= 5.286054)}/{len(typeConstDF)}\")"
   ]
  },
  {
   "cell_type": "code",
   "execution_count": 15,
   "id": "special-consensus",
   "metadata": {},
   "outputs": [],
   "source": [
    "# typeConstDF.sort_values(by=['incorrect'],ascending=False).head(5).paths.values"
   ]
  },
  {
   "cell_type": "code",
   "execution_count": 16,
   "id": "excited-person",
   "metadata": {},
   "outputs": [],
   "source": [
    "# !cat ../../allConstraintsAnalysisWRemoved/typeConstraint/normal/claims.type-constraints.instanceOf.P953.incorrect.tsv"
   ]
  },
  {
   "cell_type": "code",
   "execution_count": 17,
   "id": "revolutionary-violence",
   "metadata": {},
   "outputs": [],
   "source": [
    "for key1 in typeConstViolations.keys():\n",
    "    typeConstViolations[key1]['correct'] = typeConstViolations[key1]['instanceOf']['correct'] + typeConstViolations[key1]['subclass']['correct'] + typeConstViolations[key1]['instanceOfOrSubclass']['correct']\n",
    "    typeConstViolations[key1]['incorrect'] = typeConstViolations[key1]['instanceOf']['incorrect'] + typeConstViolations[key1]['subclass']['incorrect'] + typeConstViolations[key1]['instanceOfOrSubclass']['incorrect']\n",
    "    typeConstViolations[key1]['VR'] = typeConstViolations[key1]['incorrect'] / (typeConstViolations[key1]['correct'] + typeConstViolations[key1]['incorrect'])\n",
    "        "
   ]
  },
  {
   "cell_type": "code",
   "execution_count": 18,
   "id": "emotional-favorite",
   "metadata": {
    "scrolled": true
   },
   "outputs": [
    {
     "data": {
      "text/plain": [
       "{'mandatory': {'instanceOf': {'correct': 46445731, 'incorrect': 865083},\n",
       "  'subclass': {'correct': 2067, 'incorrect': 70},\n",
       "  'instanceOfOrSubclass': {'correct': 1735862, 'incorrect': 13873},\n",
       "  'propCount': 612,\n",
       "  'correct': 48183660,\n",
       "  'incorrect': 879026,\n",
       "  'VR': 0.017916385580683456},\n",
       " 'suggestion': {'instanceOf': {'correct': 74911, 'incorrect': 24201},\n",
       "  'subclass': {'correct': 0, 'incorrect': 0},\n",
       "  'instanceOfOrSubclass': {'correct': 24245, 'incorrect': 3485},\n",
       "  'propCount': 29,\n",
       "  'correct': 99156,\n",
       "  'incorrect': 27686,\n",
       "  'VR': 0.21827155043282193},\n",
       " 'normal': {'instanceOf': {'correct': 426732789, 'incorrect': 5965156},\n",
       "  'subclass': {'correct': 108191, 'incorrect': 17963},\n",
       "  'instanceOfOrSubclass': {'correct': 68863493, 'incorrect': 996342},\n",
       "  'propCount': 3102,\n",
       "  'correct': 495704473,\n",
       "  'incorrect': 6979461,\n",
       "  'VR': 0.01388439241426005}}"
      ]
     },
     "execution_count": 18,
     "metadata": {},
     "output_type": "execute_result"
    }
   ],
   "source": [
    "typeConstViolations"
   ]
  },
  {
   "cell_type": "code",
   "execution_count": 19,
   "id": "aggregate-impact",
   "metadata": {},
   "outputs": [
    {
     "data": {
      "text/html": [
       "<div>\n",
       "<style scoped>\n",
       "    .dataframe tbody tr th:only-of-type {\n",
       "        vertical-align: middle;\n",
       "    }\n",
       "\n",
       "    .dataframe tbody tr th {\n",
       "        vertical-align: top;\n",
       "    }\n",
       "\n",
       "    .dataframe thead th {\n",
       "        text-align: right;\n",
       "    }\n",
       "</style>\n",
       "<table border=\"1\" class=\"dataframe\">\n",
       "  <thead>\n",
       "    <tr style=\"text-align: right;\">\n",
       "      <th></th>\n",
       "      <th>correct</th>\n",
       "      <th>incorrect</th>\n",
       "      <th>paths</th>\n",
       "      <th>violation_ratio</th>\n",
       "      <th>total</th>\n",
       "    </tr>\n",
       "  </thead>\n",
       "  <tbody>\n",
       "    <tr>\n",
       "      <th>P2093</th>\n",
       "      <td>148843205</td>\n",
       "      <td>927027</td>\n",
       "      <td>[../../allConstraintsAnalysisWRemoved/typeCons...</td>\n",
       "      <td>0.006190</td>\n",
       "      <td>149770232</td>\n",
       "    </tr>\n",
       "    <tr>\n",
       "      <th>P1476</th>\n",
       "      <td>44059166</td>\n",
       "      <td>208472</td>\n",
       "      <td>[../../allConstraintsAnalysisWRemoved/typeCons...</td>\n",
       "      <td>0.004709</td>\n",
       "      <td>44267638</td>\n",
       "    </tr>\n",
       "    <tr>\n",
       "      <th>P577</th>\n",
       "      <td>39990807</td>\n",
       "      <td>165864</td>\n",
       "      <td>[../../allConstraintsAnalysisWRemoved/typeCons...</td>\n",
       "      <td>0.004130</td>\n",
       "      <td>40156671</td>\n",
       "    </tr>\n",
       "    <tr>\n",
       "      <th>P1433</th>\n",
       "      <td>37028672</td>\n",
       "      <td>112955</td>\n",
       "      <td>[../../allConstraintsAnalysisWRemoved/typeCons...</td>\n",
       "      <td>0.003041</td>\n",
       "      <td>37141627</td>\n",
       "    </tr>\n",
       "    <tr>\n",
       "      <th>P1215</th>\n",
       "      <td>33425605</td>\n",
       "      <td>316565</td>\n",
       "      <td>[../../allConstraintsAnalysisWRemoved/typeCons...</td>\n",
       "      <td>0.009382</td>\n",
       "      <td>33742170</td>\n",
       "    </tr>\n",
       "  </tbody>\n",
       "</table>\n",
       "</div>"
      ],
      "text/plain": [
       "         correct incorrect                                              paths  \\\n",
       "P2093  148843205    927027  [../../allConstraintsAnalysisWRemoved/typeCons...   \n",
       "P1476   44059166    208472  [../../allConstraintsAnalysisWRemoved/typeCons...   \n",
       "P577    39990807    165864  [../../allConstraintsAnalysisWRemoved/typeCons...   \n",
       "P1433   37028672    112955  [../../allConstraintsAnalysisWRemoved/typeCons...   \n",
       "P1215   33425605    316565  [../../allConstraintsAnalysisWRemoved/typeCons...   \n",
       "\n",
       "       violation_ratio      total  \n",
       "P2093         0.006190  149770232  \n",
       "P1476         0.004709   44267638  \n",
       "P577          0.004130   40156671  \n",
       "P1433         0.003041   37141627  \n",
       "P1215         0.009382   33742170  "
      ]
     },
     "execution_count": 19,
     "metadata": {},
     "output_type": "execute_result"
    }
   ],
   "source": [
    "typeConstDF['total'] = typeConstDF['correct'] + typeConstDF['incorrect']\n",
    "typeConstDF.sort_values(by=['total'],ascending=False).head()"
   ]
  },
  {
   "cell_type": "markdown",
   "id": "bearing-kruger",
   "metadata": {},
   "source": [
    "### Find out time required"
   ]
  },
  {
   "cell_type": "code",
   "execution_count": null,
   "id": "assumed-toner",
   "metadata": {},
   "outputs": [],
   "source": [
    "# from tqdm.notebook import tqdm\n",
    "# import os.path\n",
    "\n",
    "# cnt = 0\n",
    "# fCnt = 1\n",
    "# for prop in tqdm(df1.node1.unique()):\n",
    "#     try:\n",
    "#         if not(os.path.isfile(\"../../propertiesSplitWRemoved/claims.\"+ prop +\".tsv\")):\n",
    "#             continue\n",
    "#         relation = df1[(df1['node1'] == prop) & (df1['label'] == 'P2309')].node2.values[0][0]\n",
    "#         type1 = df1[(df1['node1'] == prop) & (df1['label'] == 'P2316')].node2.values\n",
    "\n",
    "#         parents = df1[(df1['node1'] == prop) & (df1['label'] == 'P2308')].node2.values[0]\n",
    "#         exceptions = df1[(df1['node1'] == prop) & (df1['label'] == 'P2303')].node2.values\n",
    "\n",
    "# #         print(prop, relation, type1, parents, exceptions)\n",
    "\n",
    "#         if relation == \"Q21503252\":\n",
    "#             parentFile = \"P31P279star\"\n",
    "#             parentTitle = 'instanceOf'\n",
    "#         elif relation == \"Q21514624\":\n",
    "#             parentFile = \"P279star\"\n",
    "#             parentTitle = 'subclass'\n",
    "#         else:\n",
    "#             parentFile = \"isastar\"\n",
    "#             parentTitle = 'instanceOfOrSubclass'\n",
    "\n",
    "#         if len(type1) != 0 and type1[0][0] == \"Q21502408\":\n",
    "#             typeVal = \"mandatory\"\n",
    "#         elif len(type1) != 0 and type1[0][0] == \"Q62026391\":\n",
    "#             typeVal = \"suggestion\"\n",
    "#         else:\n",
    "#             typeVal = \"normal\"\n",
    "\n",
    "#         if len(exceptions):\n",
    "#             exceptionPart = \"or node1 in \" + str(exceptions[0]).replace(\"'\",'\"')\n",
    "#         else:\n",
    "#             exceptionPart = \"\"\n",
    "        \n",
    "#         if cnt % 100 == 0:\n",
    "#             fOP = open(\"../../propertiesSplitWRemoved/checkViolations/TimedTypeConstraintValidator\" + str(fCnt) + \".sh\",\"w\")\n",
    "#             fCnt += 1\n",
    "        \n",
    "#         fOP.write(\"{ time kgtk --debug query -i ../../propertiesSplitWRemoved/claims.\"+ prop +\".tsv \\\n",
    "#         ../../wikidata-20210215/derived.\" + parentFile + \".tsv.gz \\\n",
    "#         --match 'm: (node1)-[nodeProp]->(node2), d: (node1)-[]->(par)' \\\n",
    "#         --where 'par in \" + str(parents).replace(\"'\",'\"') + \" \" + exceptionPart + \"' \\\n",
    "#         --return 'nodeProp.id, node1, nodeProp.label, node2' \\\n",
    "#         -o ../../allConstraintsAnalysisWRemoved/TimedTypeConstraint/\" + typeVal + \"/claims.type-constraints.\" + parentTitle + \".\"+ prop +\".correct.tsv \\\n",
    "#         --graph-cache ~/sqlite3_caches/const2123_\" + str(fCnt) + \".sqlite3.db; } 2>> ../../propertiesSplitWRemoved/checkViolations/exec_logs/TimedTypeConstraint_TimedTypeConstraintValidator\" + str(fCnt) + \".txt ; \\\n",
    "#          kgtk --debug ifnotexists -i ../../propertiesSplitWRemoved/claims.\"+ prop +\".tsv \\\n",
    "#         --filter-on ../../allConstraintsAnalysisWRemoved/TimedTypeConstraint/\" + typeVal + \"/claims.type-constraints.\" + parentTitle + \".\"+ prop +\".correct.tsv \\\n",
    "#         --filter-mode NONE \\\n",
    "#         --input-keys node1 label \\\n",
    "#         --filter-keys node1 label \\\n",
    "#         -o ../../allConstraintsAnalysisWRemoved/TimedTypeConstraint/\" + typeVal + \"/claims.type-constraints.\" + parentTitle + \".\"+ prop +\".incorrect.tsv\\n\")\n",
    "\n",
    "#         cnt += 1\n",
    "#     except:\n",
    "#         print(\"Something failed for prop:\",prop)\n",
    "    "
   ]
  },
  {
   "cell_type": "code",
   "execution_count": 93,
   "id": "veterinary-fault",
   "metadata": {},
   "outputs": [
    {
     "data": {
      "application/vnd.jupyter.widget-view+json": {
       "model_id": "52944ea021934d23b3d4ab3fb1f091f7",
       "version_major": 2,
       "version_minor": 0
      },
      "text/plain": [
       "  0%|          | 0/122 [00:00<?, ?it/s]"
      ]
     },
     "metadata": {},
     "output_type": "display_data"
    }
   ],
   "source": [
    "import pandas as pd\n",
    "import os\n",
    "from tqdm.notebook import tqdm\n",
    "\n",
    "codepConstViolations = {}\n",
    "\n",
    "codepConstViolations = {}\n",
    "codepConstPropList = set()\n",
    "\n",
    "def extractTimes(filename):\n",
    "    times = []\n",
    "    with open(filename) as f:\n",
    "        for line in f:\n",
    "            if \"real\" in line:\n",
    "                line = line.strip()\n",
    "                time1 = line.split(\"\\t\")[1]\n",
    "                mins, sec = time1.split(\"m\")\n",
    "                mins = int(mins)\n",
    "                sec = float(sec[:-1])\n",
    "                times.append(60 * mins + sec)\n",
    "    return times\n",
    "\n",
    "# codepConstViolationsSummary = {}\n",
    "times = []\n",
    "filePath = '/data/wd-correctness/propertiesSplitWRemoved/checkViolations/exec_logs/'\n",
    "for filename in tqdm(os.listdir(filePath)):\n",
    "    if filename.startswith(\"typeConstraintValidator\"):\n",
    "        tempTimes = extractTimes(filePath + filename)\n",
    "        times += tempTimes"
   ]
  },
  {
   "cell_type": "code",
   "execution_count": 94,
   "id": "infinite-assembly",
   "metadata": {},
   "outputs": [
    {
     "name": "stdout",
     "output_type": "stream",
     "text": [
      "count    1456.000000\n",
      "mean      138.470137\n",
      "std       216.121977\n",
      "min         2.111000\n",
      "25%        23.664500\n",
      "50%        43.875000\n",
      "75%       158.037250\n",
      "max      2177.421000\n",
      "dtype: float64\n"
     ]
    }
   ],
   "source": [
    "print(pd.Series(times).describe())"
   ]
  },
  {
   "cell_type": "code",
   "execution_count": 95,
   "id": "opened-essex",
   "metadata": {},
   "outputs": [
    {
     "data": {
      "text/plain": [
       "Text(0.5, 1.0, 'Distribution of times (in s) taken for type constraint checks')"
      ]
     },
     "execution_count": 95,
     "metadata": {},
     "output_type": "execute_result"
    },
    {
     "data": {
      "image/png": "[encoded data removed]",
      "text/plain": [
       "<Figure size 432x288 with 1 Axes>"
      ]
     },
     "metadata": {
      "needs_background": "light"
     },
     "output_type": "display_data"
    }
   ],
   "source": [
    "import seaborn as sns\n",
    "sns.lineplot(data=pd.Series(times)).set_title(\"Distribution of times (in s) taken for type constraint checks\")"
   ]
  },
  {
   "cell_type": "markdown",
   "id": "intense-computer",
   "metadata": {},
   "source": [
    "## Value Type Constraint"
   ]
  },
  {
   "cell_type": "markdown",
   "id": "animated-companion",
   "metadata": {},
   "source": [
    "### Understand Constraints File"
   ]
  },
  {
   "cell_type": "code",
   "execution_count": 20,
   "id": "static-profit",
   "metadata": {},
   "outputs": [],
   "source": [
    "import pandas as pd\n",
    "dfValueType = pd.read_csv('../../constraintsOP/valuetypeConstraint/claims.type-constraints_all1.tsv',sep='\\t')"
   ]
  },
  {
   "cell_type": "code",
   "execution_count": 21,
   "id": "worthy-malawi",
   "metadata": {},
   "outputs": [],
   "source": [
    "dfValueType = dfValueType.groupby(['node1','label']).node2.apply(lambda p: p.tolist()).reset_index()"
   ]
  },
  {
   "cell_type": "code",
   "execution_count": 22,
   "id": "eleven-tiffany",
   "metadata": {},
   "outputs": [
    {
     "data": {
      "text/html": [
       "<div>\n",
       "<style scoped>\n",
       "    .dataframe tbody tr th:only-of-type {\n",
       "        vertical-align: middle;\n",
       "    }\n",
       "\n",
       "    .dataframe tbody tr th {\n",
       "        vertical-align: top;\n",
       "    }\n",
       "\n",
       "    .dataframe thead th {\n",
       "        text-align: right;\n",
       "    }\n",
       "</style>\n",
       "<table border=\"1\" class=\"dataframe\">\n",
       "  <thead>\n",
       "    <tr style=\"text-align: right;\">\n",
       "      <th></th>\n",
       "      <th>node1</th>\n",
       "      <th>label</th>\n",
       "      <th>node2</th>\n",
       "    </tr>\n",
       "  </thead>\n",
       "  <tbody>\n",
       "    <tr>\n",
       "      <th>0</th>\n",
       "      <td>P1000</td>\n",
       "      <td>P2308</td>\n",
       "      <td>[Q1241356]</td>\n",
       "    </tr>\n",
       "    <tr>\n",
       "      <th>1</th>\n",
       "      <td>P1000</td>\n",
       "      <td>P2309</td>\n",
       "      <td>[Q30208840]</td>\n",
       "    </tr>\n",
       "    <tr>\n",
       "      <th>2</th>\n",
       "      <td>P1001</td>\n",
       "      <td>P2308</td>\n",
       "      <td>[Q20926517, Q2881272, Q2882257, Q3624078, Q389...</td>\n",
       "    </tr>\n",
       "    <tr>\n",
       "      <th>3</th>\n",
       "      <td>P1001</td>\n",
       "      <td>P2309</td>\n",
       "      <td>[Q30208840]</td>\n",
       "    </tr>\n",
       "    <tr>\n",
       "      <th>4</th>\n",
       "      <td>P1002</td>\n",
       "      <td>P2308</td>\n",
       "      <td>[Q2576663]</td>\n",
       "    </tr>\n",
       "  </tbody>\n",
       "</table>\n",
       "</div>"
      ],
      "text/plain": [
       "   node1  label                                              node2\n",
       "0  P1000  P2308                                         [Q1241356]\n",
       "1  P1000  P2309                                        [Q30208840]\n",
       "2  P1001  P2308  [Q20926517, Q2881272, Q2882257, Q3624078, Q389...\n",
       "3  P1001  P2309                                        [Q30208840]\n",
       "4  P1002  P2308                                         [Q2576663]"
      ]
     },
     "execution_count": 22,
     "metadata": {},
     "output_type": "execute_result"
    }
   ],
   "source": [
    "dfValueType.head()"
   ]
  },
  {
   "cell_type": "code",
   "execution_count": 23,
   "id": "expired-stuff",
   "metadata": {},
   "outputs": [
    {
     "data": {
      "text/plain": [
       "array(['P2308', 'P2309', 'P2303', 'P2316', 'P6607', 'P2304'], dtype=object)"
      ]
     },
     "execution_count": 23,
     "metadata": {},
     "output_type": "execute_result"
    }
   ],
   "source": [
    "dfValueType['label'].unique()"
   ]
  },
  {
   "cell_type": "code",
   "execution_count": 24,
   "id": "imposed-newsletter",
   "metadata": {},
   "outputs": [
    {
     "data": {
      "text/html": [
       "<div>\n",
       "<style scoped>\n",
       "    .dataframe tbody tr th:only-of-type {\n",
       "        vertical-align: middle;\n",
       "    }\n",
       "\n",
       "    .dataframe tbody tr th {\n",
       "        vertical-align: top;\n",
       "    }\n",
       "\n",
       "    .dataframe thead th {\n",
       "        text-align: right;\n",
       "    }\n",
       "</style>\n",
       "<table border=\"1\" class=\"dataframe\">\n",
       "  <thead>\n",
       "    <tr style=\"text-align: right;\">\n",
       "      <th></th>\n",
       "      <th>node1</th>\n",
       "      <th>label</th>\n",
       "      <th>node2</th>\n",
       "    </tr>\n",
       "  </thead>\n",
       "  <tbody>\n",
       "  </tbody>\n",
       "</table>\n",
       "</div>"
      ],
      "text/plain": [
       "Empty DataFrame\n",
       "Columns: [node1, label, node2]\n",
       "Index: []"
      ]
     },
     "execution_count": 24,
     "metadata": {},
     "output_type": "execute_result"
    }
   ],
   "source": [
    "dfValueType[dfValueType['label'] == '2316']"
   ]
  },
  {
   "cell_type": "code",
   "execution_count": 25,
   "id": "answering-alabama",
   "metadata": {},
   "outputs": [
    {
     "data": {
      "text/html": [
       "<div>\n",
       "<style scoped>\n",
       "    .dataframe tbody tr th:only-of-type {\n",
       "        vertical-align: middle;\n",
       "    }\n",
       "\n",
       "    .dataframe tbody tr th {\n",
       "        vertical-align: top;\n",
       "    }\n",
       "\n",
       "    .dataframe thead th {\n",
       "        text-align: right;\n",
       "    }\n",
       "</style>\n",
       "<table border=\"1\" class=\"dataframe\">\n",
       "  <thead>\n",
       "    <tr style=\"text-align: right;\">\n",
       "      <th></th>\n",
       "      <th>node1</th>\n",
       "      <th>label</th>\n",
       "      <th>node2</th>\n",
       "    </tr>\n",
       "  </thead>\n",
       "  <tbody>\n",
       "    <tr>\n",
       "      <th>330</th>\n",
       "      <td>P1659</td>\n",
       "      <td>P2308</td>\n",
       "      <td>[Q18616576]</td>\n",
       "    </tr>\n",
       "    <tr>\n",
       "      <th>331</th>\n",
       "      <td>P1659</td>\n",
       "      <td>P2309</td>\n",
       "      <td>[Q21503252]</td>\n",
       "    </tr>\n",
       "    <tr>\n",
       "      <th>332</th>\n",
       "      <td>P1659</td>\n",
       "      <td>P2316</td>\n",
       "      <td>[Q21502408]</td>\n",
       "    </tr>\n",
       "  </tbody>\n",
       "</table>\n",
       "</div>"
      ],
      "text/plain": [
       "     node1  label        node2\n",
       "330  P1659  P2308  [Q18616576]\n",
       "331  P1659  P2309  [Q21503252]\n",
       "332  P1659  P2316  [Q21502408]"
      ]
     },
     "execution_count": 25,
     "metadata": {},
     "output_type": "execute_result"
    }
   ],
   "source": [
    "dfValueType[dfValueType['node1'] == 'P1659']"
   ]
  },
  {
   "cell_type": "code",
   "execution_count": 26,
   "id": "danish-blackberry",
   "metadata": {},
   "outputs": [
    {
     "data": {
      "text/html": [
       "<div>\n",
       "<style scoped>\n",
       "    .dataframe tbody tr th:only-of-type {\n",
       "        vertical-align: middle;\n",
       "    }\n",
       "\n",
       "    .dataframe tbody tr th {\n",
       "        vertical-align: top;\n",
       "    }\n",
       "\n",
       "    .dataframe thead th {\n",
       "        text-align: right;\n",
       "    }\n",
       "</style>\n",
       "<table border=\"1\" class=\"dataframe\">\n",
       "  <thead>\n",
       "    <tr style=\"text-align: right;\">\n",
       "      <th></th>\n",
       "      <th>node1</th>\n",
       "      <th>label</th>\n",
       "      <th>node2</th>\n",
       "    </tr>\n",
       "  </thead>\n",
       "  <tbody>\n",
       "    <tr>\n",
       "      <th>2031</th>\n",
       "      <td>P991</td>\n",
       "      <td>P2308</td>\n",
       "      <td>[Q5, Q7210356]</td>\n",
       "    </tr>\n",
       "    <tr>\n",
       "      <th>2032</th>\n",
       "      <td>P991</td>\n",
       "      <td>P2309</td>\n",
       "      <td>[Q21503252]</td>\n",
       "    </tr>\n",
       "  </tbody>\n",
       "</table>\n",
       "</div>"
      ],
      "text/plain": [
       "     node1  label           node2\n",
       "2031  P991  P2308  [Q5, Q7210356]\n",
       "2032  P991  P2309     [Q21503252]"
      ]
     },
     "execution_count": 26,
     "metadata": {},
     "output_type": "execute_result"
    }
   ],
   "source": [
    "dfValueType[dfValueType.node1 == 'P991']"
   ]
  },
  {
   "cell_type": "markdown",
   "id": "digital-harvard",
   "metadata": {},
   "source": [
    "### Query Generator"
   ]
  },
  {
   "cell_type": "code",
   "execution_count": 29,
   "id": "white-badge",
   "metadata": {},
   "outputs": [
    {
     "data": {
      "application/vnd.jupyter.widget-view+json": {
       "model_id": "b96db3afdc724a0496617ce8c5838e6a",
       "version_major": 2,
       "version_minor": 0
      },
      "text/plain": [
       "  0%|          | 0/932 [00:00<?, ?it/s]"
      ]
     },
     "metadata": {},
     "output_type": "display_data"
    },
    {
     "name": "stdout",
     "output_type": "stream",
     "text": [
      "Something failed for prop: P1389\n"
     ]
    }
   ],
   "source": [
    "from tqdm.notebook import tqdm\n",
    "import os.path\n",
    "import os\n",
    "\n",
    "cnt = 0\n",
    "fCnt = 1\n",
    "for prop in tqdm(dfValueType.node1.unique()):\n",
    "    try:\n",
    "        \n",
    "        if not(os.path.isfile(\"../../propertiesSplitWRemoved/claims.\"+ prop +\".tsv\")):\n",
    "            continue\n",
    "        relation = dfValueType[(dfValueType['node1'] == prop) & (dfValueType['label'] == 'P2309')].node2.values[0][0]\n",
    "        type1 = dfValueType[(dfValueType['node1'] == prop) & (dfValueType['label'] == 'P2316')].node2.values\n",
    "#         print(type1)\n",
    "\n",
    "        parents = dfValueType[(dfValueType['node1'] == prop) & (dfValueType['label'] == 'P2308')].node2.values[0]\n",
    "        exceptions = dfValueType[(dfValueType['node1'] == prop) & (dfValueType['label'] == 'P2303')].node2.values\n",
    "        \n",
    "        if relation == \"Q21503252\":\n",
    "            parentFile = \"P31\"\n",
    "            parentTitle = 'instanceOf'\n",
    "        elif relation == \"Q21514624\":\n",
    "            parentFile = \"P279\"\n",
    "            parentTitle = 'subclass'\n",
    "        else:\n",
    "            parentFile = \"isa\"\n",
    "            parentTitle = 'instanceOfOrSubclass'\n",
    "\n",
    "        if len(type1) != 0 and type1[0][0] == \"Q21502408\":\n",
    "            typeVal = \"mandatory\"\n",
    "        elif len(type1) != 0 and type1[0][0] == \"Q62026391\":\n",
    "            typeVal = \"suggestion\"\n",
    "        else:\n",
    "            typeVal = \"normal\"\n",
    "\n",
    "        if len(exceptions):\n",
    "            exceptionPart = \"or node2 in \" + str(exceptions[0]).replace(\"'\",'\"')\n",
    "        else:\n",
    "            exceptionPart = \"\"\n",
    "        \n",
    "        folderName = 'valuetypeConstraint_Final4'\n",
    "        shellFileSuffix = 'valueTypeConstraintValidator'\n",
    "        \n",
    "        if cnt % 120 == 0:\n",
    "            if fOP:\n",
    "                fOP.close()\n",
    "            fOP = open(\"../../propertiesSplitWRemoved/checkViolations/\" + shellFileSuffix + str(fCnt) + \".sh\",\"w\")\n",
    "            fCnt += 1\n",
    "        \n",
    "        fOP.write(\"{ time (kgtk --debug query -i ../../propertiesSplitWRemoved/claims.\"+ prop +\".tsv \\\n",
    "        ../../wikidata-20210215/derived.\" + parentFile + \".tsv.gz \\\n",
    "        ../../wikidata-20210215/derived.P279star.tsv.gz \\\n",
    "        --match 'm: (node1)-[nodeProp]->(node2), \" + parentFile + \": (node2)-[]->(nodex), P279star: (nodex)-[]->(par)' \\\n",
    "        --where 'par in \" + str(parents).replace(\"'\",'\"') + \" \" + exceptionPart + \"' \\\n",
    "        --return 'distinct nodeProp.id, node1 as `node1`, nodeProp.label as `label`, node2 as `node2`' \\\n",
    "        -o ../../allConstraintsAnalysisWRemoved/\" + folderName + \"/\" + typeVal + \"/claims.type-constraints.\" + parentTitle + \".\"+ prop +\".correct.tsv \\\n",
    "        --graph-cache ~/sqlite3_caches/const112_\" + str(fCnt) + \".sqlite3.db; \\\n",
    "         kgtk --debug ifnotexists -i ../../propertiesSplitWRemoved/claims.\"+ prop +\".tsv \\\n",
    "        --filter-on ../../allConstraintsAnalysisWRemoved/\" + folderName + \"/\" + typeVal + \"/claims.type-constraints.\" + parentTitle + \".\"+ prop +\".correct.tsv \\\n",
    "        --filter-mode NONE \\\n",
    "        --input-keys node1 label \\\n",
    "        --filter-keys node1 label \\\n",
    "        -o ../../allConstraintsAnalysisWRemoved/\" + folderName + \"/\" + typeVal + \"/claims.type-constraints.\" + parentTitle + \".\"+ prop +\".incorrect.tsv ) } 2>> ../../propertiesSplitWRemoved/checkViolations/exec_logs/\" + shellFileSuffix + str(fCnt) + \".txt;\\n\")\n",
    "        \n",
    "        cnt += 1\n",
    "    except:\n",
    "        print(\"Something failed for prop:\",prop)\n",
    "if fOP:\n",
    "    fOP.close()"
   ]
  },
  {
   "cell_type": "code",
   "execution_count": 30,
   "id": "qualified-cursor",
   "metadata": {},
   "outputs": [
    {
     "data": {
      "text/plain": [
       "904"
      ]
     },
     "execution_count": 30,
     "metadata": {},
     "output_type": "execute_result"
    }
   ],
   "source": [
    "cnt"
   ]
  },
  {
   "cell_type": "code",
   "execution_count": 31,
   "id": "simplified-cameroon",
   "metadata": {},
   "outputs": [],
   "source": [
    "# import os\n",
    "# for i in range(1,9):\n",
    "#     os.system(\"screen -dm sh ../../propertiesSplitWRemoved/checkViolations/valueTypeConstraintValidator\"+str(i)+\".sh\")\n",
    "    "
   ]
  },
  {
   "cell_type": "markdown",
   "id": "spectacular-warner",
   "metadata": {},
   "source": [
    "### Analyze Violations"
   ]
  },
  {
   "cell_type": "code",
   "execution_count": 20,
   "id": "valid-defense",
   "metadata": {},
   "outputs": [
    {
     "data": {
      "application/vnd.jupyter.widget-view+json": {
       "model_id": "c502a0c289de4c23b2fa3b794a7ba160",
       "version_major": 2,
       "version_minor": 0
      },
      "text/plain": [
       "0it [00:00, ?it/s]"
      ]
     },
     "metadata": {},
     "output_type": "display_data"
    },
    {
     "data": {
      "application/vnd.jupyter.widget-view+json": {
       "model_id": "11d7ec28a49f4cdaa883b933b055cfaa",
       "version_major": 2,
       "version_minor": 0
      },
      "text/plain": [
       "  0%|          | 0/216 [00:00<?, ?it/s]"
      ]
     },
     "metadata": {},
     "output_type": "display_data"
    },
    {
     "data": {
      "application/vnd.jupyter.widget-view+json": {
       "model_id": "4d6ee69917854e399d21ef509a4b4fb6",
       "version_major": 2,
       "version_minor": 0
      },
      "text/plain": [
       "  0%|          | 0/10 [00:00<?, ?it/s]"
      ]
     },
     "metadata": {},
     "output_type": "display_data"
    },
    {
     "data": {
      "application/vnd.jupyter.widget-view+json": {
       "model_id": "6d1e8918873840c48f5944c4d0ca6ba1",
       "version_major": 2,
       "version_minor": 0
      },
      "text/plain": [
       "  0%|          | 0/1582 [00:00<?, ?it/s]"
      ]
     },
     "metadata": {},
     "output_type": "display_data"
    }
   ],
   "source": [
    "import pandas as pd\n",
    "import os\n",
    "from tqdm.notebook import tqdm\n",
    "\n",
    "valueTypeConstViolations = {}\n",
    "\n",
    "def countLines(fname):\n",
    "    cnt = -1\n",
    "    with open(fname, 'r') as f:\n",
    "        for line in f:\n",
    "            cnt += 1\n",
    "    return cnt\n",
    "\n",
    "valueTypePropList = set()\n",
    "\n",
    "violations = {}\n",
    "\n",
    "for folder in tqdm(iter(['mandatory', 'suggestion', 'normal'])):\n",
    "    valueTypeConstViolations[folder] = {'instanceOf': {'correct': 0, 'incorrect': 0}, 'subclass': {'correct': 0, 'incorrect': 0}, 'instanceOfOrSubclass': {'correct': 0, 'incorrect': 0}, 'propCount':0}\n",
    "    filePath = \"../../allConstraintsAnalysisWRemoved/valuetypeConstraint_Final4/\"+folder+\"/\"\n",
    "    for filename in tqdm(os.listdir(filePath)):\n",
    "        type1 = filename.split(\".\")[2]\n",
    "        prop = filename.split(\".\")[3]\n",
    "        valueTypePropList.add(prop)\n",
    "        correctness = filename.split(\".\")[4]\n",
    "        count1 = countLines(filePath+filename)\n",
    "        valueTypeConstViolations[folder][type1][correctness] += count1\n",
    "        if prop not in violations:\n",
    "            violations[prop] = {'correct': 0, 'incorrect': 0, 'paths': []}\n",
    "        violations[prop][correctness] = count1\n",
    "        violations[prop]['paths'].append(filePath+filename)\n",
    "        if correctness == 'correct':\n",
    "            valueTypeConstViolations[folder]['propCount'] += 1\n",
    "        "
   ]
  },
  {
   "cell_type": "code",
   "execution_count": 21,
   "id": "experienced-quick",
   "metadata": {},
   "outputs": [],
   "source": [
    "# countLines(\"../../allConstraintsAnalysisWRemoved/typeConstraint/mandatory/claims.type-constraints.subclass.P534.incorrect.tsv\")"
   ]
  },
  {
   "cell_type": "code",
   "execution_count": 22,
   "id": "refined-speaking",
   "metadata": {},
   "outputs": [
    {
     "name": "stdout",
     "output_type": "stream",
     "text": [
      "904 properties processed for value type constraint for 189304521 statements\n"
     ]
    }
   ],
   "source": [
    "recordCount = 0\n",
    "for elem in valueTypeConstViolations.keys():\n",
    "    for key1 in valueTypeConstViolations[elem].keys():\n",
    "        try:\n",
    "            recordCount += valueTypeConstViolations[elem][key1]['correct'] + valueTypeConstViolations[elem][key1]['incorrect']\n",
    "        except:\n",
    "            continue\n",
    "print(f\"{len(valueTypePropList)} properties processed for value type constraint for {recordCount} statements\")"
   ]
  },
  {
   "cell_type": "code",
   "execution_count": 23,
   "id": "designed-christian",
   "metadata": {},
   "outputs": [],
   "source": [
    "import pandas as pd\n",
    "valTypeConstDF = pd.DataFrame(violations).T"
   ]
  },
  {
   "cell_type": "code",
   "execution_count": 24,
   "id": "spare-hawaiian",
   "metadata": {},
   "outputs": [],
   "source": [
    "valTypeConstDF['violation_ratio'] = valTypeConstDF.apply(lambda p: p.incorrect / (p.incorrect + p.correct), axis=1)"
   ]
  },
  {
   "cell_type": "code",
   "execution_count": 25,
   "id": "provincial-diploma",
   "metadata": {},
   "outputs": [
    {
     "data": {
      "text/html": [
       "<div>\n",
       "<style scoped>\n",
       "    .dataframe tbody tr th:only-of-type {\n",
       "        vertical-align: middle;\n",
       "    }\n",
       "\n",
       "    .dataframe tbody tr th {\n",
       "        vertical-align: top;\n",
       "    }\n",
       "\n",
       "    .dataframe thead th {\n",
       "        text-align: right;\n",
       "    }\n",
       "</style>\n",
       "<table border=\"1\" class=\"dataframe\">\n",
       "  <thead>\n",
       "    <tr style=\"text-align: right;\">\n",
       "      <th></th>\n",
       "      <th>correct</th>\n",
       "      <th>incorrect</th>\n",
       "      <th>paths</th>\n",
       "      <th>violation_ratio</th>\n",
       "    </tr>\n",
       "  </thead>\n",
       "  <tbody>\n",
       "    <tr>\n",
       "      <th>P852</th>\n",
       "      <td>4526</td>\n",
       "      <td>4</td>\n",
       "      <td>[../../allConstraintsAnalysisWRemoved/valuetyp...</td>\n",
       "      <td>0.000883</td>\n",
       "    </tr>\n",
       "    <tr>\n",
       "      <th>P853</th>\n",
       "      <td>1600</td>\n",
       "      <td>4</td>\n",
       "      <td>[../../allConstraintsAnalysisWRemoved/valuetyp...</td>\n",
       "      <td>0.002494</td>\n",
       "    </tr>\n",
       "    <tr>\n",
       "      <th>P2302</th>\n",
       "      <td>47918</td>\n",
       "      <td>26</td>\n",
       "      <td>[../../allConstraintsAnalysisWRemoved/valuetyp...</td>\n",
       "      <td>0.000542</td>\n",
       "    </tr>\n",
       "    <tr>\n",
       "      <th>P3092</th>\n",
       "      <td>7534</td>\n",
       "      <td>7</td>\n",
       "      <td>[../../allConstraintsAnalysisWRemoved/valuetyp...</td>\n",
       "      <td>0.000928</td>\n",
       "    </tr>\n",
       "    <tr>\n",
       "      <th>P3096</th>\n",
       "      <td>11193</td>\n",
       "      <td>10</td>\n",
       "      <td>[../../allConstraintsAnalysisWRemoved/valuetyp...</td>\n",
       "      <td>0.000893</td>\n",
       "    </tr>\n",
       "  </tbody>\n",
       "</table>\n",
       "</div>"
      ],
      "text/plain": [
       "      correct incorrect                                              paths  \\\n",
       "P852     4526         4  [../../allConstraintsAnalysisWRemoved/valuetyp...   \n",
       "P853     1600         4  [../../allConstraintsAnalysisWRemoved/valuetyp...   \n",
       "P2302   47918        26  [../../allConstraintsAnalysisWRemoved/valuetyp...   \n",
       "P3092    7534         7  [../../allConstraintsAnalysisWRemoved/valuetyp...   \n",
       "P3096   11193        10  [../../allConstraintsAnalysisWRemoved/valuetyp...   \n",
       "\n",
       "       violation_ratio  \n",
       "P852          0.000883  \n",
       "P853          0.002494  \n",
       "P2302         0.000542  \n",
       "P3092         0.000928  \n",
       "P3096         0.000893  "
      ]
     },
     "execution_count": 25,
     "metadata": {},
     "output_type": "execute_result"
    }
   ],
   "source": [
    "valTypeConstDF.head()"
   ]
  },
  {
   "cell_type": "code",
   "execution_count": 26,
   "id": "neural-trail",
   "metadata": {},
   "outputs": [
    {
     "data": {
      "text/html": [
       "<div>\n",
       "<style scoped>\n",
       "    .dataframe tbody tr th:only-of-type {\n",
       "        vertical-align: middle;\n",
       "    }\n",
       "\n",
       "    .dataframe tbody tr th {\n",
       "        vertical-align: top;\n",
       "    }\n",
       "\n",
       "    .dataframe thead th {\n",
       "        text-align: right;\n",
       "    }\n",
       "</style>\n",
       "<table border=\"1\" class=\"dataframe\">\n",
       "  <thead>\n",
       "    <tr style=\"text-align: right;\">\n",
       "      <th></th>\n",
       "      <th>correct</th>\n",
       "      <th>incorrect</th>\n",
       "      <th>paths</th>\n",
       "      <th>violation_ratio</th>\n",
       "    </tr>\n",
       "  </thead>\n",
       "  <tbody>\n",
       "    <tr>\n",
       "      <th>P5008</th>\n",
       "      <td>0</td>\n",
       "      <td>341961</td>\n",
       "      <td>[../../allConstraintsAnalysisWRemoved/valuetyp...</td>\n",
       "      <td>1.0</td>\n",
       "    </tr>\n",
       "    <tr>\n",
       "      <th>P6104</th>\n",
       "      <td>0</td>\n",
       "      <td>9808</td>\n",
       "      <td>[../../allConstraintsAnalysisWRemoved/valuetyp...</td>\n",
       "      <td>1.0</td>\n",
       "    </tr>\n",
       "    <tr>\n",
       "      <th>P2545</th>\n",
       "      <td>0</td>\n",
       "      <td>1378</td>\n",
       "      <td>[../../allConstraintsAnalysisWRemoved/valuetyp...</td>\n",
       "      <td>1.0</td>\n",
       "    </tr>\n",
       "    <tr>\n",
       "      <th>P2668</th>\n",
       "      <td>0</td>\n",
       "      <td>179</td>\n",
       "      <td>[../../allConstraintsAnalysisWRemoved/valuetyp...</td>\n",
       "      <td>1.0</td>\n",
       "    </tr>\n",
       "    <tr>\n",
       "      <th>P7374</th>\n",
       "      <td>0</td>\n",
       "      <td>44</td>\n",
       "      <td>[../../allConstraintsAnalysisWRemoved/valuetyp...</td>\n",
       "      <td>1.0</td>\n",
       "    </tr>\n",
       "    <tr>\n",
       "      <th>P3028</th>\n",
       "      <td>0</td>\n",
       "      <td>15</td>\n",
       "      <td>[../../allConstraintsAnalysisWRemoved/valuetyp...</td>\n",
       "      <td>1.0</td>\n",
       "    </tr>\n",
       "    <tr>\n",
       "      <th>P2839</th>\n",
       "      <td>0</td>\n",
       "      <td>15</td>\n",
       "      <td>[../../allConstraintsAnalysisWRemoved/valuetyp...</td>\n",
       "      <td>1.0</td>\n",
       "    </tr>\n",
       "    <tr>\n",
       "      <th>P3027</th>\n",
       "      <td>0</td>\n",
       "      <td>13</td>\n",
       "      <td>[../../allConstraintsAnalysisWRemoved/valuetyp...</td>\n",
       "      <td>1.0</td>\n",
       "    </tr>\n",
       "    <tr>\n",
       "      <th>P2127</th>\n",
       "      <td>0</td>\n",
       "      <td>12</td>\n",
       "      <td>[../../allConstraintsAnalysisWRemoved/valuetyp...</td>\n",
       "      <td>1.0</td>\n",
       "    </tr>\n",
       "    <tr>\n",
       "      <th>P538</th>\n",
       "      <td>0</td>\n",
       "      <td>10</td>\n",
       "      <td>[../../allConstraintsAnalysisWRemoved/valuetyp...</td>\n",
       "      <td>1.0</td>\n",
       "    </tr>\n",
       "    <tr>\n",
       "      <th>P2241</th>\n",
       "      <td>0</td>\n",
       "      <td>6</td>\n",
       "      <td>[../../allConstraintsAnalysisWRemoved/valuetyp...</td>\n",
       "      <td>1.0</td>\n",
       "    </tr>\n",
       "    <tr>\n",
       "      <th>P4425</th>\n",
       "      <td>0</td>\n",
       "      <td>6</td>\n",
       "      <td>[../../allConstraintsAnalysisWRemoved/valuetyp...</td>\n",
       "      <td>1.0</td>\n",
       "    </tr>\n",
       "    <tr>\n",
       "      <th>P6191</th>\n",
       "      <td>0</td>\n",
       "      <td>5</td>\n",
       "      <td>[../../allConstraintsAnalysisWRemoved/valuetyp...</td>\n",
       "      <td>1.0</td>\n",
       "    </tr>\n",
       "    <tr>\n",
       "      <th>P6533</th>\n",
       "      <td>0</td>\n",
       "      <td>5</td>\n",
       "      <td>[../../allConstraintsAnalysisWRemoved/valuetyp...</td>\n",
       "      <td>1.0</td>\n",
       "    </tr>\n",
       "    <tr>\n",
       "      <th>P6534</th>\n",
       "      <td>0</td>\n",
       "      <td>5</td>\n",
       "      <td>[../../allConstraintsAnalysisWRemoved/valuetyp...</td>\n",
       "      <td>1.0</td>\n",
       "    </tr>\n",
       "  </tbody>\n",
       "</table>\n",
       "</div>"
      ],
      "text/plain": [
       "      correct incorrect                                              paths  \\\n",
       "P5008       0    341961  [../../allConstraintsAnalysisWRemoved/valuetyp...   \n",
       "P6104       0      9808  [../../allConstraintsAnalysisWRemoved/valuetyp...   \n",
       "P2545       0      1378  [../../allConstraintsAnalysisWRemoved/valuetyp...   \n",
       "P2668       0       179  [../../allConstraintsAnalysisWRemoved/valuetyp...   \n",
       "P7374       0        44  [../../allConstraintsAnalysisWRemoved/valuetyp...   \n",
       "P3028       0        15  [../../allConstraintsAnalysisWRemoved/valuetyp...   \n",
       "P2839       0        15  [../../allConstraintsAnalysisWRemoved/valuetyp...   \n",
       "P3027       0        13  [../../allConstraintsAnalysisWRemoved/valuetyp...   \n",
       "P2127       0        12  [../../allConstraintsAnalysisWRemoved/valuetyp...   \n",
       "P538        0        10  [../../allConstraintsAnalysisWRemoved/valuetyp...   \n",
       "P2241       0         6  [../../allConstraintsAnalysisWRemoved/valuetyp...   \n",
       "P4425       0         6  [../../allConstraintsAnalysisWRemoved/valuetyp...   \n",
       "P6191       0         5  [../../allConstraintsAnalysisWRemoved/valuetyp...   \n",
       "P6533       0         5  [../../allConstraintsAnalysisWRemoved/valuetyp...   \n",
       "P6534       0         5  [../../allConstraintsAnalysisWRemoved/valuetyp...   \n",
       "\n",
       "       violation_ratio  \n",
       "P5008              1.0  \n",
       "P6104              1.0  \n",
       "P2545              1.0  \n",
       "P2668              1.0  \n",
       "P7374              1.0  \n",
       "P3028              1.0  \n",
       "P2839              1.0  \n",
       "P3027              1.0  \n",
       "P2127              1.0  \n",
       "P538               1.0  \n",
       "P2241              1.0  \n",
       "P4425              1.0  \n",
       "P6191              1.0  \n",
       "P6533              1.0  \n",
       "P6534              1.0  "
      ]
     },
     "execution_count": 26,
     "metadata": {},
     "output_type": "execute_result"
    }
   ],
   "source": [
    "valTypeConstDF.sort_values(by=['violation_ratio','incorrect'],ascending=False).head(15)"
   ]
  },
  {
   "cell_type": "code",
   "execution_count": 27,
   "id": "cutting-polyester",
   "metadata": {},
   "outputs": [
    {
     "data": {
      "text/plain": [
       "count    904.000000\n",
       "mean       0.098485\n",
       "std        0.214803\n",
       "min        0.000000\n",
       "25%        0.001492\n",
       "50%        0.011225\n",
       "75%        0.063950\n",
       "max        1.000000\n",
       "Name: violation_ratio, dtype: float64"
      ]
     },
     "execution_count": 27,
     "metadata": {},
     "output_type": "execute_result"
    }
   ],
   "source": [
    "valTypeConstDF['violation_ratio'].describe()"
   ]
  },
  {
   "cell_type": "code",
   "execution_count": 28,
   "id": "alert-receiver",
   "metadata": {},
   "outputs": [
    {
     "data": {
      "text/plain": [
       "Text(0.5, 1.0, 'Value Type Constraint Violation Ratios')"
      ]
     },
     "execution_count": 28,
     "metadata": {},
     "output_type": "execute_result"
    },
    {
     "data": {
      "image/png": "[encoded data removed]",
      "text/plain": [
       "<Figure size 432x288 with 1 Axes>"
      ]
     },
     "metadata": {
      "needs_background": "light"
     },
     "output_type": "display_data"
    }
   ],
   "source": [
    "valTypeConstDF['violation_ratio'].plot.hist(bins=100).set_title(\"Value Type Constraint Violation Ratios\")"
   ]
  },
  {
   "cell_type": "code",
   "execution_count": 29,
   "id": "italian-motel",
   "metadata": {},
   "outputs": [
    {
     "data": {
      "text/plain": [
       "Text(0.5, 1.0, 'Value Type Constraint Violation Ratios (<=0.04)')"
      ]
     },
     "execution_count": 29,
     "metadata": {},
     "output_type": "execute_result"
    },
    {
     "data": {
      "image/png": "[encoded data removed]",
      "text/plain": [
       "<Figure size 432x288 with 1 Axes>"
      ]
     },
     "metadata": {
      "needs_background": "light"
     },
     "output_type": "display_data"
    }
   ],
   "source": [
    "valTypeConstDF[valTypeConstDF['violation_ratio'] <= 0.04].violation_ratio.plot.hist(bins=100).set_title(\"Value Type Constraint Violation Ratios (<=0.04)\")"
   ]
  },
  {
   "cell_type": "code",
   "execution_count": 30,
   "id": "prescription-ceramic",
   "metadata": {},
   "outputs": [
    {
     "name": "stdout",
     "output_type": "stream",
     "text": [
      "No. of constraints whose violation ratio is greater than mean :0/904\n"
     ]
    }
   ],
   "source": [
    "print(f\"No. of constraints whose violation ratio is greater than mean :{sum(valTypeConstDF['violation_ratio'] >= 3.950680)}/{len(valTypeConstDF)}\")"
   ]
  },
  {
   "cell_type": "code",
   "execution_count": 31,
   "id": "quiet-gardening",
   "metadata": {
    "scrolled": true
   },
   "outputs": [],
   "source": [
    "# valTypeConstDF.sort_values(by=['violation_ratio'],ascending=False).head().paths.values"
   ]
  },
  {
   "cell_type": "code",
   "execution_count": 32,
   "id": "documentary-pipeline",
   "metadata": {},
   "outputs": [],
   "source": [
    "# !head ../../allConstraintsAnalysisWRemoved/typeConstraint/normal/claims.type-constraints.instanceOf.P7535.incorrect.tsv"
   ]
  },
  {
   "cell_type": "code",
   "execution_count": 33,
   "id": "tutorial-mineral",
   "metadata": {},
   "outputs": [],
   "source": [
    "for key1 in valueTypeConstViolations.keys():\n",
    "    valueTypeConstViolations[key1]['correct'] = valueTypeConstViolations[key1]['instanceOf']['correct'] + valueTypeConstViolations[key1]['subclass']['correct'] + valueTypeConstViolations[key1]['instanceOfOrSubclass']['correct']\n",
    "    valueTypeConstViolations[key1]['incorrect'] = valueTypeConstViolations[key1]['instanceOf']['incorrect'] + valueTypeConstViolations[key1]['subclass']['incorrect'] + valueTypeConstViolations[key1]['instanceOfOrSubclass']['incorrect']\n",
    "    valueTypeConstViolations[key1]['VR'] = valueTypeConstViolations[key1]['incorrect'] / (valueTypeConstViolations[key1]['correct'] + valueTypeConstViolations[key1]['incorrect'])\n",
    "        "
   ]
  },
  {
   "cell_type": "code",
   "execution_count": 34,
   "id": "satellite-concern",
   "metadata": {
    "scrolled": false
   },
   "outputs": [
    {
     "data": {
      "text/plain": [
       "{'mandatory': {'instanceOf': {'correct': 11564885, 'incorrect': 8245},\n",
       "  'subclass': {'correct': 55983, 'incorrect': 28},\n",
       "  'instanceOfOrSubclass': {'correct': 13090, 'incorrect': 137},\n",
       "  'propCount': 108,\n",
       "  'correct': 11633958,\n",
       "  'incorrect': 8410,\n",
       "  'VR': 0.0007223616363956198},\n",
       " 'suggestion': {'instanceOf': {'correct': 46189, 'incorrect': 659},\n",
       "  'subclass': {'correct': 127, 'incorrect': 20},\n",
       "  'instanceOfOrSubclass': {'correct': 0, 'incorrect': 0},\n",
       "  'propCount': 5,\n",
       "  'correct': 46316,\n",
       "  'incorrect': 679,\n",
       "  'VR': 0.01444834556867752},\n",
       " 'normal': {'instanceOf': {'correct': 94112173, 'incorrect': 842434},\n",
       "  'subclass': {'correct': 4674914, 'incorrect': 9777},\n",
       "  'instanceOfOrSubclass': {'correct': 77686561, 'incorrect': 289299},\n",
       "  'propCount': 791,\n",
       "  'correct': 176473648,\n",
       "  'incorrect': 1141510,\n",
       "  'VR': 0.006426872643381034}}"
      ]
     },
     "execution_count": 34,
     "metadata": {},
     "output_type": "execute_result"
    }
   ],
   "source": [
    "valueTypeConstViolations"
   ]
  },
  {
   "cell_type": "markdown",
   "id": "traditional-shakespeare",
   "metadata": {},
   "source": [
    "### Find out time required"
   ]
  },
  {
   "cell_type": "code",
   "execution_count": 78,
   "id": "spoken-symphony",
   "metadata": {},
   "outputs": [
    {
     "data": {
      "application/vnd.jupyter.widget-view+json": {
       "model_id": "878ab763f4fa4cb9a540c8bf86ea76ec",
       "version_major": 2,
       "version_minor": 0
      },
      "text/plain": [
       "  0%|          | 0/297 [00:00<?, ?it/s]"
      ]
     },
     "metadata": {},
     "output_type": "display_data"
    }
   ],
   "source": [
    "import pandas as pd\n",
    "import os\n",
    "from tqdm.notebook import tqdm\n",
    "\n",
    "codepConstViolations = {}\n",
    "\n",
    "codepConstViolations = {}\n",
    "codepConstPropList = set()\n",
    "\n",
    "def extractTimes(filename):\n",
    "    times = []\n",
    "    with open(filename) as f:\n",
    "        for line in f:\n",
    "            if \"real\" in line:\n",
    "                line = line.strip()\n",
    "                time1 = line.split(\"\\t\")[1]\n",
    "                mins, sec = time1.split(\"m\")\n",
    "                mins = int(mins)\n",
    "                sec = float(sec[:-1])\n",
    "                times.append(60 * mins + sec)\n",
    "    return times\n",
    "\n",
    "# codepConstViolationsSummary = {}\n",
    "times = []\n",
    "filePath = '/data/wd-correctness/propertiesSplitWRemoved/checkViolations/exec_logs/'\n",
    "for filename in tqdm(os.listdir(filePath)):\n",
    "    if filename.startswith(\"valueTypeConstraintValidator_xverify3\"):\n",
    "        tempTimes = extractTimes(filePath + filename)\n",
    "        times += tempTimes"
   ]
  },
  {
   "cell_type": "code",
   "execution_count": 79,
   "id": "heavy-argentina",
   "metadata": {},
   "outputs": [
    {
     "name": "stdout",
     "output_type": "stream",
     "text": [
      "count     897.000000\n",
      "mean       41.756467\n",
      "std       133.639231\n",
      "min         1.516000\n",
      "25%         3.236000\n",
      "50%         6.851000\n",
      "75%        24.280000\n",
      "max      1683.328000\n",
      "dtype: float64\n"
     ]
    }
   ],
   "source": [
    "print(pd.Series(times).describe())"
   ]
  },
  {
   "cell_type": "code",
   "execution_count": 80,
   "id": "organized-mixer",
   "metadata": {},
   "outputs": [
    {
     "data": {
      "text/plain": [
       "Text(0.5, 1.0, 'Distribution of times (in s) taken for value type constraint checks')"
      ]
     },
     "execution_count": 80,
     "metadata": {},
     "output_type": "execute_result"
    },
    {
     "data": {
      "image/png": "[encoded data removed]",
      "text/plain": [
       "<Figure size 432x288 with 1 Axes>"
      ]
     },
     "metadata": {
      "needs_background": "light"
     },
     "output_type": "display_data"
    }
   ],
   "source": [
    "import seaborn as sns\n",
    "sns.lineplot(data=pd.Series(times)).set_title(\"Distribution of times (in s) taken for value type constraint checks\")"
   ]
  },
  {
   "cell_type": "markdown",
   "id": "motivated-sympathy",
   "metadata": {},
   "source": [
    "## Item Requires Statement Constraint"
   ]
  },
  {
   "cell_type": "markdown",
   "id": "chubby-glass",
   "metadata": {},
   "source": [
    "### Understand Constraints File"
   ]
  },
  {
   "cell_type": "code",
   "execution_count": 35,
   "id": "funny-batch",
   "metadata": {},
   "outputs": [],
   "source": [
    "import pandas as pd\n",
    "import math\n",
    "dfItemRequires = pd.read_csv('../../constraintsOP/itemRequiresConstraint/claims.type-constraints_all.tsv',sep='\\t')"
   ]
  },
  {
   "cell_type": "code",
   "execution_count": 36,
   "id": "original-expression",
   "metadata": {},
   "outputs": [],
   "source": [
    "dfItemRequires = dfItemRequires.groupby(['id','node1','label']).node2.apply(lambda p: p.tolist()).reset_index()"
   ]
  },
  {
   "cell_type": "code",
   "execution_count": 37,
   "id": "adequate-symphony",
   "metadata": {},
   "outputs": [
    {
     "data": {
      "text/plain": [
       "array(['P2306', 'P2305', 'P2316', 'P2304', 'P2303', 'P6607', 'P4155',\n",
       "       'P31', 'P2916', 'P4680', 'P2308'], dtype=object)"
      ]
     },
     "execution_count": 37,
     "metadata": {},
     "output_type": "execute_result"
    }
   ],
   "source": [
    "dfItemRequires['label'].unique()"
   ]
  },
  {
   "cell_type": "code",
   "execution_count": 38,
   "id": "infrared-canal",
   "metadata": {},
   "outputs": [
    {
     "data": {
      "text/plain": [
       "P2306    7182\n",
       "P2305    2540\n",
       "P2316    2523\n",
       "P2303     422\n",
       "P2304      14\n",
       "P6607      14\n",
       "P2916       5\n",
       "P4680       2\n",
       "P4155       1\n",
       "P2308       1\n",
       "P31         1\n",
       "Name: label, dtype: int64"
      ]
     },
     "execution_count": 38,
     "metadata": {},
     "output_type": "execute_result"
    }
   ],
   "source": [
    "dfItemRequires['label'].value_counts()"
   ]
  },
  {
   "cell_type": "code",
   "execution_count": 39,
   "id": "focused-karen",
   "metadata": {},
   "outputs": [],
   "source": [
    "#Reference: https://stackoverflow.com/a/17298454\n",
    "# dfItemRequires.pivot_table('node2', ['node1', 'id'], 'label')\n",
    "dfItemRequires = dfItemRequires.pivot(index=['node1','id'], columns='label', values='node2')"
   ]
  },
  {
   "cell_type": "code",
   "execution_count": 40,
   "id": "private-boundary",
   "metadata": {},
   "outputs": [
    {
     "data": {
      "text/html": [
       "<div>\n",
       "<style scoped>\n",
       "    .dataframe tbody tr th:only-of-type {\n",
       "        vertical-align: middle;\n",
       "    }\n",
       "\n",
       "    .dataframe tbody tr th {\n",
       "        vertical-align: top;\n",
       "    }\n",
       "\n",
       "    .dataframe thead th {\n",
       "        text-align: right;\n",
       "    }\n",
       "</style>\n",
       "<table border=\"1\" class=\"dataframe\">\n",
       "  <thead>\n",
       "    <tr style=\"text-align: right;\">\n",
       "      <th></th>\n",
       "      <th>label</th>\n",
       "      <th>P2303</th>\n",
       "      <th>P2304</th>\n",
       "      <th>P2305</th>\n",
       "      <th>P2306</th>\n",
       "      <th>P2308</th>\n",
       "      <th>P2316</th>\n",
       "      <th>P2916</th>\n",
       "      <th>P31</th>\n",
       "      <th>P4155</th>\n",
       "      <th>P4680</th>\n",
       "      <th>P6607</th>\n",
       "    </tr>\n",
       "    <tr>\n",
       "      <th>node1</th>\n",
       "      <th>id</th>\n",
       "      <th></th>\n",
       "      <th></th>\n",
       "      <th></th>\n",
       "      <th></th>\n",
       "      <th></th>\n",
       "      <th></th>\n",
       "      <th></th>\n",
       "      <th></th>\n",
       "      <th></th>\n",
       "      <th></th>\n",
       "      <th></th>\n",
       "    </tr>\n",
       "  </thead>\n",
       "  <tbody>\n",
       "    <tr>\n",
       "      <th>P1006</th>\n",
       "      <th>P1006-P2302-Q21503247-0451ef47-0</th>\n",
       "      <td>NaN</td>\n",
       "      <td>NaN</td>\n",
       "      <td>NaN</td>\n",
       "      <td>[P214]</td>\n",
       "      <td>NaN</td>\n",
       "      <td>NaN</td>\n",
       "      <td>NaN</td>\n",
       "      <td>NaN</td>\n",
       "      <td>NaN</td>\n",
       "      <td>NaN</td>\n",
       "      <td>NaN</td>\n",
       "    </tr>\n",
       "    <tr>\n",
       "      <th rowspan=\"2\" valign=\"top\">P1010</th>\n",
       "      <th>P1010-P2302-Q21503247-56183614-0</th>\n",
       "      <td>NaN</td>\n",
       "      <td>NaN</td>\n",
       "      <td>NaN</td>\n",
       "      <td>[P31]</td>\n",
       "      <td>NaN</td>\n",
       "      <td>NaN</td>\n",
       "      <td>NaN</td>\n",
       "      <td>NaN</td>\n",
       "      <td>NaN</td>\n",
       "      <td>NaN</td>\n",
       "      <td>NaN</td>\n",
       "    </tr>\n",
       "    <tr>\n",
       "      <th>P1010-P2302-Q21503247-fd256eaf-0</th>\n",
       "      <td>NaN</td>\n",
       "      <td>NaN</td>\n",
       "      <td>[Q794]</td>\n",
       "      <td>[P17]</td>\n",
       "      <td>NaN</td>\n",
       "      <td>[Q21502408]</td>\n",
       "      <td>NaN</td>\n",
       "      <td>NaN</td>\n",
       "      <td>NaN</td>\n",
       "      <td>NaN</td>\n",
       "      <td>NaN</td>\n",
       "    </tr>\n",
       "    <tr>\n",
       "      <th>P1015</th>\n",
       "      <th>P1015-P2302-Q21503247-20e3bfc5-0</th>\n",
       "      <td>NaN</td>\n",
       "      <td>NaN</td>\n",
       "      <td>NaN</td>\n",
       "      <td>[P31]</td>\n",
       "      <td>NaN</td>\n",
       "      <td>NaN</td>\n",
       "      <td>NaN</td>\n",
       "      <td>NaN</td>\n",
       "      <td>NaN</td>\n",
       "      <td>NaN</td>\n",
       "      <td>NaN</td>\n",
       "    </tr>\n",
       "    <tr>\n",
       "      <th>P1017</th>\n",
       "      <th>P1017-P2302-Q21503247-bbac2ce3-0</th>\n",
       "      <td>NaN</td>\n",
       "      <td>NaN</td>\n",
       "      <td>NaN</td>\n",
       "      <td>[P214]</td>\n",
       "      <td>NaN</td>\n",
       "      <td>NaN</td>\n",
       "      <td>NaN</td>\n",
       "      <td>NaN</td>\n",
       "      <td>NaN</td>\n",
       "      <td>NaN</td>\n",
       "      <td>NaN</td>\n",
       "    </tr>\n",
       "  </tbody>\n",
       "</table>\n",
       "</div>"
      ],
      "text/plain": [
       "label                                  P2303 P2304   P2305   P2306 P2308  \\\n",
       "node1 id                                                                   \n",
       "P1006 P1006-P2302-Q21503247-0451ef47-0   NaN   NaN     NaN  [P214]   NaN   \n",
       "P1010 P1010-P2302-Q21503247-56183614-0   NaN   NaN     NaN   [P31]   NaN   \n",
       "      P1010-P2302-Q21503247-fd256eaf-0   NaN   NaN  [Q794]   [P17]   NaN   \n",
       "P1015 P1015-P2302-Q21503247-20e3bfc5-0   NaN   NaN     NaN   [P31]   NaN   \n",
       "P1017 P1017-P2302-Q21503247-bbac2ce3-0   NaN   NaN     NaN  [P214]   NaN   \n",
       "\n",
       "label                                         P2316 P2916  P31 P4155 P4680  \\\n",
       "node1 id                                                                     \n",
       "P1006 P1006-P2302-Q21503247-0451ef47-0          NaN   NaN  NaN   NaN   NaN   \n",
       "P1010 P1010-P2302-Q21503247-56183614-0          NaN   NaN  NaN   NaN   NaN   \n",
       "      P1010-P2302-Q21503247-fd256eaf-0  [Q21502408]   NaN  NaN   NaN   NaN   \n",
       "P1015 P1015-P2302-Q21503247-20e3bfc5-0          NaN   NaN  NaN   NaN   NaN   \n",
       "P1017 P1017-P2302-Q21503247-bbac2ce3-0          NaN   NaN  NaN   NaN   NaN   \n",
       "\n",
       "label                                  P6607  \n",
       "node1 id                                      \n",
       "P1006 P1006-P2302-Q21503247-0451ef47-0   NaN  \n",
       "P1010 P1010-P2302-Q21503247-56183614-0   NaN  \n",
       "      P1010-P2302-Q21503247-fd256eaf-0   NaN  \n",
       "P1015 P1015-P2302-Q21503247-20e3bfc5-0   NaN  \n",
       "P1017 P1017-P2302-Q21503247-bbac2ce3-0   NaN  "
      ]
     },
     "execution_count": 40,
     "metadata": {},
     "output_type": "execute_result"
    }
   ],
   "source": [
    "dfItemRequires.head()"
   ]
  },
  {
   "cell_type": "code",
   "execution_count": 41,
   "id": "conceptual-schedule",
   "metadata": {},
   "outputs": [],
   "source": [
    "dfItemRequires = dfItemRequires.droplevel(1)"
   ]
  },
  {
   "cell_type": "code",
   "execution_count": 42,
   "id": "third-hayes",
   "metadata": {},
   "outputs": [
    {
     "data": {
      "text/html": [
       "<div>\n",
       "<style scoped>\n",
       "    .dataframe tbody tr th:only-of-type {\n",
       "        vertical-align: middle;\n",
       "    }\n",
       "\n",
       "    .dataframe tbody tr th {\n",
       "        vertical-align: top;\n",
       "    }\n",
       "\n",
       "    .dataframe thead th {\n",
       "        text-align: right;\n",
       "    }\n",
       "</style>\n",
       "<table border=\"1\" class=\"dataframe\">\n",
       "  <thead>\n",
       "    <tr style=\"text-align: right;\">\n",
       "      <th>label</th>\n",
       "      <th>P2303</th>\n",
       "      <th>P2304</th>\n",
       "      <th>P2305</th>\n",
       "      <th>P2306</th>\n",
       "      <th>P2308</th>\n",
       "      <th>P2316</th>\n",
       "      <th>P2916</th>\n",
       "      <th>P31</th>\n",
       "      <th>P4155</th>\n",
       "      <th>P4680</th>\n",
       "      <th>P6607</th>\n",
       "    </tr>\n",
       "    <tr>\n",
       "      <th>node1</th>\n",
       "      <th></th>\n",
       "      <th></th>\n",
       "      <th></th>\n",
       "      <th></th>\n",
       "      <th></th>\n",
       "      <th></th>\n",
       "      <th></th>\n",
       "      <th></th>\n",
       "      <th></th>\n",
       "      <th></th>\n",
       "      <th></th>\n",
       "    </tr>\n",
       "  </thead>\n",
       "  <tbody>\n",
       "    <tr>\n",
       "      <th>P1006</th>\n",
       "      <td>NaN</td>\n",
       "      <td>NaN</td>\n",
       "      <td>NaN</td>\n",
       "      <td>[P214]</td>\n",
       "      <td>NaN</td>\n",
       "      <td>NaN</td>\n",
       "      <td>NaN</td>\n",
       "      <td>NaN</td>\n",
       "      <td>NaN</td>\n",
       "      <td>NaN</td>\n",
       "      <td>NaN</td>\n",
       "    </tr>\n",
       "    <tr>\n",
       "      <th>P1010</th>\n",
       "      <td>NaN</td>\n",
       "      <td>NaN</td>\n",
       "      <td>NaN</td>\n",
       "      <td>[P31]</td>\n",
       "      <td>NaN</td>\n",
       "      <td>NaN</td>\n",
       "      <td>NaN</td>\n",
       "      <td>NaN</td>\n",
       "      <td>NaN</td>\n",
       "      <td>NaN</td>\n",
       "      <td>NaN</td>\n",
       "    </tr>\n",
       "    <tr>\n",
       "      <th>P1010</th>\n",
       "      <td>NaN</td>\n",
       "      <td>NaN</td>\n",
       "      <td>[Q794]</td>\n",
       "      <td>[P17]</td>\n",
       "      <td>NaN</td>\n",
       "      <td>[Q21502408]</td>\n",
       "      <td>NaN</td>\n",
       "      <td>NaN</td>\n",
       "      <td>NaN</td>\n",
       "      <td>NaN</td>\n",
       "      <td>NaN</td>\n",
       "    </tr>\n",
       "    <tr>\n",
       "      <th>P1015</th>\n",
       "      <td>NaN</td>\n",
       "      <td>NaN</td>\n",
       "      <td>NaN</td>\n",
       "      <td>[P31]</td>\n",
       "      <td>NaN</td>\n",
       "      <td>NaN</td>\n",
       "      <td>NaN</td>\n",
       "      <td>NaN</td>\n",
       "      <td>NaN</td>\n",
       "      <td>NaN</td>\n",
       "      <td>NaN</td>\n",
       "    </tr>\n",
       "    <tr>\n",
       "      <th>P1017</th>\n",
       "      <td>NaN</td>\n",
       "      <td>NaN</td>\n",
       "      <td>NaN</td>\n",
       "      <td>[P214]</td>\n",
       "      <td>NaN</td>\n",
       "      <td>NaN</td>\n",
       "      <td>NaN</td>\n",
       "      <td>NaN</td>\n",
       "      <td>NaN</td>\n",
       "      <td>NaN</td>\n",
       "      <td>NaN</td>\n",
       "    </tr>\n",
       "  </tbody>\n",
       "</table>\n",
       "</div>"
      ],
      "text/plain": [
       "label P2303 P2304   P2305   P2306 P2308        P2316 P2916  P31 P4155 P4680  \\\n",
       "node1                                                                         \n",
       "P1006   NaN   NaN     NaN  [P214]   NaN          NaN   NaN  NaN   NaN   NaN   \n",
       "P1010   NaN   NaN     NaN   [P31]   NaN          NaN   NaN  NaN   NaN   NaN   \n",
       "P1010   NaN   NaN  [Q794]   [P17]   NaN  [Q21502408]   NaN  NaN   NaN   NaN   \n",
       "P1015   NaN   NaN     NaN   [P31]   NaN          NaN   NaN  NaN   NaN   NaN   \n",
       "P1017   NaN   NaN     NaN  [P214]   NaN          NaN   NaN  NaN   NaN   NaN   \n",
       "\n",
       "label P6607  \n",
       "node1        \n",
       "P1006   NaN  \n",
       "P1010   NaN  \n",
       "P1010   NaN  \n",
       "P1015   NaN  \n",
       "P1017   NaN  "
      ]
     },
     "execution_count": 42,
     "metadata": {},
     "output_type": "execute_result"
    }
   ],
   "source": [
    "dfItemRequires.head()"
   ]
  },
  {
   "cell_type": "markdown",
   "id": "shaped-companion",
   "metadata": {},
   "source": [
    "However, there is one anomaly where the property does not have a co-dependency constraint associated with it, but still has a link to this constraint."
   ]
  },
  {
   "cell_type": "code",
   "execution_count": 43,
   "id": "indian-journal",
   "metadata": {},
   "outputs": [
    {
     "data": {
      "text/html": [
       "<div>\n",
       "<style scoped>\n",
       "    .dataframe tbody tr th:only-of-type {\n",
       "        vertical-align: middle;\n",
       "    }\n",
       "\n",
       "    .dataframe tbody tr th {\n",
       "        vertical-align: top;\n",
       "    }\n",
       "\n",
       "    .dataframe thead th {\n",
       "        text-align: right;\n",
       "    }\n",
       "</style>\n",
       "<table border=\"1\" class=\"dataframe\">\n",
       "  <thead>\n",
       "    <tr style=\"text-align: right;\">\n",
       "      <th>label</th>\n",
       "      <th>P2303</th>\n",
       "      <th>P2304</th>\n",
       "      <th>P2305</th>\n",
       "      <th>P2306</th>\n",
       "      <th>P2308</th>\n",
       "      <th>P2316</th>\n",
       "      <th>P2916</th>\n",
       "      <th>P31</th>\n",
       "      <th>P4155</th>\n",
       "      <th>P4680</th>\n",
       "      <th>P6607</th>\n",
       "    </tr>\n",
       "    <tr>\n",
       "      <th>node1</th>\n",
       "      <th></th>\n",
       "      <th></th>\n",
       "      <th></th>\n",
       "      <th></th>\n",
       "      <th></th>\n",
       "      <th></th>\n",
       "      <th></th>\n",
       "      <th></th>\n",
       "      <th></th>\n",
       "      <th></th>\n",
       "      <th></th>\n",
       "    </tr>\n",
       "  </thead>\n",
       "  <tbody>\n",
       "    <tr>\n",
       "      <th>P5447</th>\n",
       "      <td>NaN</td>\n",
       "      <td>NaN</td>\n",
       "      <td>[Q55426051]</td>\n",
       "      <td>[P5446]</td>\n",
       "      <td>NaN</td>\n",
       "      <td>NaN</td>\n",
       "      <td>NaN</td>\n",
       "      <td>NaN</td>\n",
       "      <td>NaN</td>\n",
       "      <td>[Q46466783]</td>\n",
       "      <td>NaN</td>\n",
       "    </tr>\n",
       "    <tr>\n",
       "      <th>P5448</th>\n",
       "      <td>NaN</td>\n",
       "      <td>NaN</td>\n",
       "      <td>[Q55426051]</td>\n",
       "      <td>[P5446]</td>\n",
       "      <td>NaN</td>\n",
       "      <td>NaN</td>\n",
       "      <td>NaN</td>\n",
       "      <td>NaN</td>\n",
       "      <td>NaN</td>\n",
       "      <td>[Q46466783]</td>\n",
       "      <td>NaN</td>\n",
       "    </tr>\n",
       "  </tbody>\n",
       "</table>\n",
       "</div>"
      ],
      "text/plain": [
       "label P2303 P2304        P2305    P2306 P2308 P2316 P2916  P31 P4155  \\\n",
       "node1                                                                  \n",
       "P5447   NaN   NaN  [Q55426051]  [P5446]   NaN   NaN   NaN  NaN   NaN   \n",
       "P5448   NaN   NaN  [Q55426051]  [P5446]   NaN   NaN   NaN  NaN   NaN   \n",
       "\n",
       "label        P4680 P6607  \n",
       "node1                     \n",
       "P5447  [Q46466783]   NaN  \n",
       "P5448  [Q46466783]   NaN  "
      ]
     },
     "execution_count": 43,
     "metadata": {},
     "output_type": "execute_result"
    }
   ],
   "source": [
    "dfItemRequires[dfItemRequires['P4680'].apply(lambda p: type(p) == list)]"
   ]
  },
  {
   "cell_type": "code",
   "execution_count": 44,
   "id": "discrete-template",
   "metadata": {},
   "outputs": [
    {
     "data": {
      "text/html": [
       "<div>\n",
       "<style scoped>\n",
       "    .dataframe tbody tr th:only-of-type {\n",
       "        vertical-align: middle;\n",
       "    }\n",
       "\n",
       "    .dataframe tbody tr th {\n",
       "        vertical-align: top;\n",
       "    }\n",
       "\n",
       "    .dataframe thead th {\n",
       "        text-align: right;\n",
       "    }\n",
       "</style>\n",
       "<table border=\"1\" class=\"dataframe\">\n",
       "  <thead>\n",
       "    <tr style=\"text-align: right;\">\n",
       "      <th>label</th>\n",
       "      <th>P2303</th>\n",
       "      <th>P2304</th>\n",
       "      <th>P2305</th>\n",
       "      <th>P2306</th>\n",
       "      <th>P2308</th>\n",
       "      <th>P2316</th>\n",
       "      <th>P2916</th>\n",
       "      <th>P31</th>\n",
       "      <th>P4155</th>\n",
       "      <th>P4680</th>\n",
       "      <th>P6607</th>\n",
       "    </tr>\n",
       "    <tr>\n",
       "      <th>node1</th>\n",
       "      <th></th>\n",
       "      <th></th>\n",
       "      <th></th>\n",
       "      <th></th>\n",
       "      <th></th>\n",
       "      <th></th>\n",
       "      <th></th>\n",
       "      <th></th>\n",
       "      <th></th>\n",
       "      <th></th>\n",
       "      <th></th>\n",
       "    </tr>\n",
       "  </thead>\n",
       "  <tbody>\n",
       "    <tr>\n",
       "      <th>P1010</th>\n",
       "      <td>NaN</td>\n",
       "      <td>NaN</td>\n",
       "      <td>[Q794]</td>\n",
       "      <td>[P17]</td>\n",
       "      <td>NaN</td>\n",
       "      <td>[Q21502408]</td>\n",
       "      <td>NaN</td>\n",
       "      <td>NaN</td>\n",
       "      <td>NaN</td>\n",
       "      <td>NaN</td>\n",
       "      <td>NaN</td>\n",
       "    </tr>\n",
       "    <tr>\n",
       "      <th>P1045</th>\n",
       "      <td>NaN</td>\n",
       "      <td>NaN</td>\n",
       "      <td>[Q20808382, Q28218485, Q3044918]</td>\n",
       "      <td>[P39]</td>\n",
       "      <td>NaN</td>\n",
       "      <td>NaN</td>\n",
       "      <td>NaN</td>\n",
       "      <td>NaN</td>\n",
       "      <td>NaN</td>\n",
       "      <td>NaN</td>\n",
       "      <td>NaN</td>\n",
       "    </tr>\n",
       "    <tr>\n",
       "      <th>P1045</th>\n",
       "      <td>NaN</td>\n",
       "      <td>NaN</td>\n",
       "      <td>[Q82955]</td>\n",
       "      <td>[P106]</td>\n",
       "      <td>NaN</td>\n",
       "      <td>NaN</td>\n",
       "      <td>NaN</td>\n",
       "      <td>NaN</td>\n",
       "      <td>NaN</td>\n",
       "      <td>NaN</td>\n",
       "      <td>NaN</td>\n",
       "    </tr>\n",
       "    <tr>\n",
       "      <th>P1045</th>\n",
       "      <td>NaN</td>\n",
       "      <td>NaN</td>\n",
       "      <td>[Q5]</td>\n",
       "      <td>[P31]</td>\n",
       "      <td>NaN</td>\n",
       "      <td>[Q21502408]</td>\n",
       "      <td>NaN</td>\n",
       "      <td>NaN</td>\n",
       "      <td>NaN</td>\n",
       "      <td>NaN</td>\n",
       "      <td>NaN</td>\n",
       "    </tr>\n",
       "    <tr>\n",
       "      <th>P1045</th>\n",
       "      <td>NaN</td>\n",
       "      <td>NaN</td>\n",
       "      <td>[Q142, Q71084]</td>\n",
       "      <td>[P27]</td>\n",
       "      <td>NaN</td>\n",
       "      <td>NaN</td>\n",
       "      <td>NaN</td>\n",
       "      <td>NaN</td>\n",
       "      <td>NaN</td>\n",
       "      <td>NaN</td>\n",
       "      <td>NaN</td>\n",
       "    </tr>\n",
       "    <tr>\n",
       "      <th>...</th>\n",
       "      <td>...</td>\n",
       "      <td>...</td>\n",
       "      <td>...</td>\n",
       "      <td>...</td>\n",
       "      <td>...</td>\n",
       "      <td>...</td>\n",
       "      <td>...</td>\n",
       "      <td>...</td>\n",
       "      <td>...</td>\n",
       "      <td>...</td>\n",
       "      <td>...</td>\n",
       "    </tr>\n",
       "    <tr>\n",
       "      <th>P980</th>\n",
       "      <td>NaN</td>\n",
       "      <td>NaN</td>\n",
       "      <td>[Q34]</td>\n",
       "      <td>[P17]</td>\n",
       "      <td>NaN</td>\n",
       "      <td>[Q21502408]</td>\n",
       "      <td>NaN</td>\n",
       "      <td>NaN</td>\n",
       "      <td>NaN</td>\n",
       "      <td>NaN</td>\n",
       "      <td>NaN</td>\n",
       "    </tr>\n",
       "    <tr>\n",
       "      <th>P981</th>\n",
       "      <td>NaN</td>\n",
       "      <td>NaN</td>\n",
       "      <td>[Q55]</td>\n",
       "      <td>[P17]</td>\n",
       "      <td>NaN</td>\n",
       "      <td>[Q21502408]</td>\n",
       "      <td>NaN</td>\n",
       "      <td>NaN</td>\n",
       "      <td>NaN</td>\n",
       "      <td>NaN</td>\n",
       "      <td>NaN</td>\n",
       "    </tr>\n",
       "    <tr>\n",
       "      <th>P981</th>\n",
       "      <td>NaN</td>\n",
       "      <td>NaN</td>\n",
       "      <td>[Q1852859]</td>\n",
       "      <td>[P31]</td>\n",
       "      <td>NaN</td>\n",
       "      <td>NaN</td>\n",
       "      <td>NaN</td>\n",
       "      <td>NaN</td>\n",
       "      <td>NaN</td>\n",
       "      <td>NaN</td>\n",
       "      <td>NaN</td>\n",
       "    </tr>\n",
       "    <tr>\n",
       "      <th>P988</th>\n",
       "      <td>NaN</td>\n",
       "      <td>NaN</td>\n",
       "      <td>[Q928]</td>\n",
       "      <td>[P17]</td>\n",
       "      <td>NaN</td>\n",
       "      <td>[Q21502408]</td>\n",
       "      <td>NaN</td>\n",
       "      <td>NaN</td>\n",
       "      <td>NaN</td>\n",
       "      <td>NaN</td>\n",
       "      <td>NaN</td>\n",
       "    </tr>\n",
       "    <tr>\n",
       "      <th>P990</th>\n",
       "      <td>[Q49678, Q853715]</td>\n",
       "      <td>NaN</td>\n",
       "      <td>[Q5]</td>\n",
       "      <td>[P31]</td>\n",
       "      <td>NaN</td>\n",
       "      <td>NaN</td>\n",
       "      <td>NaN</td>\n",
       "      <td>NaN</td>\n",
       "      <td>NaN</td>\n",
       "      <td>NaN</td>\n",
       "      <td>NaN</td>\n",
       "    </tr>\n",
       "  </tbody>\n",
       "</table>\n",
       "<p>2540 rows × 11 columns</p>\n",
       "</div>"
      ],
      "text/plain": [
       "label              P2303 P2304                             P2305   P2306  \\\n",
       "node1                                                                      \n",
       "P1010                NaN   NaN                            [Q794]   [P17]   \n",
       "P1045                NaN   NaN  [Q20808382, Q28218485, Q3044918]   [P39]   \n",
       "P1045                NaN   NaN                          [Q82955]  [P106]   \n",
       "P1045                NaN   NaN                              [Q5]   [P31]   \n",
       "P1045                NaN   NaN                    [Q142, Q71084]   [P27]   \n",
       "...                  ...   ...                               ...     ...   \n",
       "P980                 NaN   NaN                             [Q34]   [P17]   \n",
       "P981                 NaN   NaN                             [Q55]   [P17]   \n",
       "P981                 NaN   NaN                        [Q1852859]   [P31]   \n",
       "P988                 NaN   NaN                            [Q928]   [P17]   \n",
       "P990   [Q49678, Q853715]   NaN                              [Q5]   [P31]   \n",
       "\n",
       "label P2308        P2316 P2916  P31 P4155 P4680 P6607  \n",
       "node1                                                  \n",
       "P1010   NaN  [Q21502408]   NaN  NaN   NaN   NaN   NaN  \n",
       "P1045   NaN          NaN   NaN  NaN   NaN   NaN   NaN  \n",
       "P1045   NaN          NaN   NaN  NaN   NaN   NaN   NaN  \n",
       "P1045   NaN  [Q21502408]   NaN  NaN   NaN   NaN   NaN  \n",
       "P1045   NaN          NaN   NaN  NaN   NaN   NaN   NaN  \n",
       "...     ...          ...   ...  ...   ...   ...   ...  \n",
       "P980    NaN  [Q21502408]   NaN  NaN   NaN   NaN   NaN  \n",
       "P981    NaN  [Q21502408]   NaN  NaN   NaN   NaN   NaN  \n",
       "P981    NaN          NaN   NaN  NaN   NaN   NaN   NaN  \n",
       "P988    NaN  [Q21502408]   NaN  NaN   NaN   NaN   NaN  \n",
       "P990    NaN          NaN   NaN  NaN   NaN   NaN   NaN  \n",
       "\n",
       "[2540 rows x 11 columns]"
      ]
     },
     "execution_count": 44,
     "metadata": {},
     "output_type": "execute_result"
    }
   ],
   "source": [
    "dfItemRequires[dfItemRequires['P2305'].apply(lambda p: type(p) == list)]"
   ]
  },
  {
   "cell_type": "markdown",
   "id": "forced-christmas",
   "metadata": {},
   "source": [
    "### Query Generator"
   ]
  },
  {
   "cell_type": "markdown",
   "id": "acquired-floor",
   "metadata": {},
   "source": [
    "#### Version 1 - Mandatory + Suggestion + Normal"
   ]
  },
  {
   "cell_type": "code",
   "execution_count": 45,
   "id": "turkish-establishment",
   "metadata": {
    "scrolled": true
   },
   "outputs": [
    {
     "data": {
      "application/vnd.jupyter.widget-view+json": {
       "model_id": "58498333945f45ad9e343d82c18fdfb6",
       "version_major": 2,
       "version_minor": 0
      },
      "text/plain": [
       "  0%|          | 0/3147 [00:00<?, ?it/s]"
      ]
     },
     "metadata": {},
     "output_type": "display_data"
    },
    {
     "name": "stdout",
     "output_type": "stream",
     "text": [
      "File: ../../propertiesSplitWRemoved/claims.P8299.tsv does not exist\n",
      "File: ../../propertiesSplitWRemoved/claims.P8529.tsv does not exist\n",
      "File: ../../propertiesSplitWRemoved/claims.P7118.tsv does not exist\n",
      "File: ../../propertiesSplitWRemoved/claims.P7119.tsv does not exist\n"
     ]
    }
   ],
   "source": [
    "from tqdm.notebook import tqdm\n",
    "import os.path\n",
    "import os\n",
    "\n",
    "cnt = 0\n",
    "fCnt = 0\n",
    "\n",
    "folderName = 'codependencyConstraint_Final'\n",
    "subFolderName = \"Mand_Sugg_Normal\"\n",
    "shellFileSuffix = 'codepConst_MSN_Validator_new2_'\n",
    "graph_cache_file_prefix = \"codep_new3_001_\"\n",
    "\n",
    "for prop in tqdm(dfItemRequires.index.unique()):\n",
    "#     try:\n",
    "        mandatory = []\n",
    "        suggestion = []\n",
    "        normal = []\n",
    "        prop = str(prop)\n",
    "        \n",
    "        for _, constraint in dfItemRequires.loc[[prop]].iterrows():\n",
    "            if type(constraint['P2316']) == list:\n",
    "                if constraint['P2316'][0] == 'Q21502408':\n",
    "                    mandatory.append(constraint)\n",
    "                elif constraint['P2316'][0] == 'Q62026391':\n",
    "                    suggestion.append(constraint)\n",
    "            else:\n",
    "                normal.append(constraint)\n",
    "        \n",
    "        if not(os.path.isfile(\"../../propertiesSplitWRemoved/claims.\"+ prop +\".tsv\")):\n",
    "            continue\n",
    "                \n",
    "        commandInit = \"{ time ( kgtk --debug query -i ../../propertiesSplitWRemoved/claims.\"+ prop +\".tsv \"\n",
    "        commandOtherFiles = \"\"\n",
    "        commandMatch = \"--match '\"\n",
    "        commandMatchMoreFiles = [f\"{prop}: (node1)-[nodeProp]->(node2)\"]\n",
    "        commandWhere = \" --where '\"\n",
    "        commandWhere = []\n",
    "        \n",
    "        # Version 1 <<<<<<<<<<<<<<<<<<<<<<<<<<<<<<<<<<<<<<<<<<<<<<<<<<<<<<<<<<<<<<<<<<<<<<<<<<<<<<<<<<\n",
    "        constSet = mandatory + suggestion + normal\n",
    "        \n",
    "        if len(constSet) == 0:\n",
    "            continue\n",
    "        excptns = set()\n",
    "        for (rowNo, constraint) in enumerate(constSet):\n",
    "            prop2 = constraint['P2306']\n",
    "            \n",
    "            if type(prop2) != list:\n",
    "                continue\n",
    "            prop2 = prop2[0]\n",
    "                \n",
    "            if not(os.path.isfile(\"../../propertiesSplitWRemoved/claims.\"+ prop2 +\".tsv\")):\n",
    "                print(f\"File: ../../propertiesSplitWRemoved/claims.{prop2}.tsv does not exist\")\n",
    "                continue\n",
    "            \n",
    "            commandOtherFiles += \"../../propertiesSplitWRemoved/claims.\"+ prop2 +\".tsv \"\n",
    "            if type(constraint['P2303']) == list: # Exceptions present\n",
    "                if len(excptns) == 0:\n",
    "                    excptns = set(constraint['P2303'])\n",
    "                else:\n",
    "                    excptns = excptns.intersection(set(constraint['P2303']))\n",
    "            if type(constraint['P2305']) == list:\n",
    "                commandMatchMoreFiles += [f\"{prop2}: (node1)-[]->(node2_{prop2})\"]\n",
    "                commandWhere += [\"node2_\" + prop2 + \" in \" + str(list(constraint['P2305'])).replace(\"'\",'\"')]\n",
    "            else:\n",
    "                commandMatchMoreFiles += [f\"{prop2}: (node1)-[]->()\"]\n",
    "#         print(commandMatchMoreFiles)\n",
    "        if len(commandWhere) == 0:\n",
    "            command = commandInit + commandOtherFiles + commandMatch + (\", \".join(commandMatchMoreFiles)) + \"'\"\n",
    "        else:\n",
    "            command = commandInit + commandOtherFiles + commandMatch + (\", \".join(commandMatchMoreFiles)) + \"'\" + \" --where '\"+(\" and \".join(commandWhere))+\"'\"\n",
    "        \n",
    "        if cnt % 100 == 0:\n",
    "            if fOP:\n",
    "                fOP.close()\n",
    "            fCnt += 1\n",
    "            fOP = open(\"../../propertiesSplitWRemoved/checkViolations/\" + shellFileSuffix + str(fCnt) + \".sh\",\"w\")\n",
    "        \n",
    "        if len(excptns) == 0:\n",
    "            commandRest = \" --return 'distinct nodeProp.id, node1 as `node1`, nodeProp.label as `label`, node2 as `node2`'  \\\n",
    "            -o ../../allConstraintsAnalysisWRemoved/\" + folderName + \"/\" + subFolderName + \"/claims.\"+ prop +\".correct.tsv \\\n",
    "            --graph-cache ~/sqlite3_caches/\" + str(graph_cache_file_prefix) + str(fCnt) + \".sqlite3.db; \\\n",
    "             kgtk --debug ifnotexists -i ../../propertiesSplitWRemoved/claims.\"+ prop +\".tsv \\\n",
    "            --filter-on ../../allConstraintsAnalysisWRemoved/\" + folderName + \"/\" + subFolderName + \"/claims.\"+ prop +\".correct.tsv \\\n",
    "            --filter-mode NONE \\\n",
    "            --input-keys node1 label \\\n",
    "            --filter-keys node1 label \"\n",
    "            \n",
    "            commandOPFile = \"-o ../../allConstraintsAnalysisWRemoved/\" + folderName + \"/\" + subFolderName + \"/claims.\"+ prop +\".\"\n",
    "            \n",
    "            command += commandRest + commandOPFile + \"incorrect.tsv ) } 2>> ../../propertiesSplitWRemoved/checkViolations/exec_logs/timeLog_\" + shellFileSuffix + str(fCnt) + \".txt;\\n\"\n",
    "            fOP.write(command)\n",
    "        else:\n",
    "            commandRest = \" --return 'distinct nodeProp.id, node1 as `node1`, nodeProp.label as `label`, node2 as `node2`'  \\\n",
    "            -o ../../allConstraintsAnalysisWRemoved/\" + folderName + \"/\" + subFolderName + \"/claims.\"+ prop +\".correct_wo_exceptions.tsv \\\n",
    "            --graph-cache ~/sqlite3_caches/\" + str(graph_cache_file_prefix) + str(fCnt) + \".sqlite3.db; \\\n",
    "             kgtk --debug ifnotexists -i ../../propertiesSplitWRemoved/claims.\"+ prop +\".tsv \\\n",
    "            --filter-on ../../allConstraintsAnalysisWRemoved/\" + folderName + \"/\" + subFolderName + \"/claims.\"+ prop +\".correct_wo_exceptions.tsv \\\n",
    "            --filter-mode NONE \\\n",
    "            --input-keys node1 label \\\n",
    "            --filter-keys node1 label \"\n",
    "            \n",
    "            commandOPFile = \"-o ../../allConstraintsAnalysisWRemoved/\" + folderName + \"/\" + subFolderName + \"/claims.\"+ prop +\".\"\n",
    "            \n",
    "            command += commandRest + commandOPFile + \"incorrect_wo_exceptions.tsv\\n\"\n",
    "            fOP.write(command)\n",
    "            \n",
    "            command = \"  kgtk --debug query -i ../../allConstraintsAnalysisWRemoved/\" + folderName + \"/\" + subFolderName + \"/claims.\" + prop + \".incorrect_wo_exceptions.tsv \\\n",
    "                    --match '(node1)-[]->()' --where 'node1 in \" + str(list(excptns)).replace(\"'\",'\"') + \"' \\\n",
    "                    -o ../../allConstraintsAnalysisWRemoved/\" + folderName + \"/\" + subFolderName + \"/claims.\" + prop + \".incorrect_w_exceptions.tsv \\\n",
    "                    --graph-cache ~/sqlite3_caches/\" + str(graph_cache_file_prefix) + str(fCnt) + \".sqlite3.db; \"\n",
    "            fOP.write(command)\n",
    "            \n",
    "            command = \"  kgtk --debug ifnotexists -i ../../allConstraintsAnalysisWRemoved/\" + folderName + \"/\" + subFolderName + \"/claims.\" + prop + \".incorrect_wo_exceptions.tsv \\\n",
    "            --filter-on ../../allConstraintsAnalysisWRemoved/\" + folderName + \"/\" + subFolderName + \"/claims.\" + prop + \".incorrect_w_exceptions.tsv \\\n",
    "            --filter-mode NONE \\\n",
    "            --input-keys node1 label \\\n",
    "            --filter-keys node1 label \\\n",
    "            -o ../../allConstraintsAnalysisWRemoved/\" + folderName + \"/\" + subFolderName + \"/claims.\"+ prop +\".incorrect.tsv; \"\n",
    "            fOP.write(command)\n",
    "            \n",
    "            command = \"  kgtk cat -i ../../allConstraintsAnalysisWRemoved/\" + folderName + \"/\" + subFolderName + \"/claims.\"+ prop +\".correct_wo_exceptions.tsv \\\n",
    "                    ../../allConstraintsAnalysisWRemoved/\" + folderName + \"/\" + subFolderName + \"/claims.\"+ prop +\".incorrect_w_exceptions.tsv \\\n",
    "                    -o ../../allConstraintsAnalysisWRemoved/\" + folderName + \"/\" + subFolderName + \"/claims.\"+ prop +\".correct.tsv ) } 2>> ../../propertiesSplitWRemoved/checkViolations/exec_logs/timeLog_\" + shellFileSuffix + str(fCnt) + \".txt; \\n\"\n",
    "            fOP.write(command)\n",
    "        \n",
    "        \n",
    "        cnt += 1\n",
    "#     except:\n",
    "#         print(\"Something failed for prop:\",prop)\n",
    "if fOP:\n",
    "    fOP.close()"
   ]
  },
  {
   "cell_type": "code",
   "execution_count": 46,
   "id": "peripheral-herald",
   "metadata": {},
   "outputs": [
    {
     "data": {
      "text/plain": [
       "2538"
      ]
     },
     "execution_count": 46,
     "metadata": {},
     "output_type": "execute_result"
    }
   ],
   "source": [
    "cnt"
   ]
  },
  {
   "cell_type": "code",
   "execution_count": 47,
   "id": "incorporated-logistics",
   "metadata": {},
   "outputs": [
    {
     "data": {
      "text/plain": [
       "26"
      ]
     },
     "execution_count": 47,
     "metadata": {},
     "output_type": "execute_result"
    }
   ],
   "source": [
    "fCnt"
   ]
  },
  {
   "cell_type": "code",
   "execution_count": 123,
   "id": "welcome-welding",
   "metadata": {},
   "outputs": [],
   "source": [
    "# from tqdm.notebook import tqdm\n",
    "# import os.path\n",
    "# import os\n",
    "# folderName = 'codependencyConstraint'\n",
    "# for prop in tqdm(dfItemRequires.index.unique()):\n",
    "#     for subFolderName in ['Mand_Sugg_Normal', 'Mand_Normal', 'Mand', 'Normal']:\n",
    "#         if os.path.isfile(\"../../allConstraintsAnalysisWRemoved/\" + folderName + \"/\" + subFolderName + \"/claims.\"+ prop +\".correct.tsv\") and \\\n",
    "#             os.path.isfile(\"../../allConstraintsAnalysisWRemoved/\" + folderName + \"/\" + subFolderName + \"/claims.\"+ prop +\".incorrect_w_exceptions.tsv\"):\n",
    "#                 os.system(\"kgtk cat -i ../../allConstraintsAnalysisWRemoved/\" + folderName + \"/\" + subFolderName + \"/claims.\"+ prop +\".correct.tsv \\\n",
    "#                     ../../allConstraintsAnalysisWRemoved/\" + folderName + \"/\" + subFolderName + \"/claims.\"+ prop +\".incorrect_w_exceptions.tsv \\\n",
    "#                     -o ../../allConstraintsAnalysisWRemoved/\" + folderName + \"/\" + subFolderName + \"/claims.\"+ prop +\".correct_w_exceptions.tsv\")"
   ]
  },
  {
   "cell_type": "code",
   "execution_count": 48,
   "id": "optimum-blowing",
   "metadata": {},
   "outputs": [],
   "source": [
    "# import os\n",
    "# for i in range(1,28):\n",
    "#     os.system(\"screen -dm sh ../../propertiesSplitWRemoved/checkViolations/codepConst_MSN_Validator_new2_\"+str(i)+\".sh\")"
   ]
  },
  {
   "cell_type": "markdown",
   "id": "indoor-verse",
   "metadata": {},
   "source": [
    "#### Version 2 - Mandatory + Normal"
   ]
  },
  {
   "cell_type": "code",
   "execution_count": 51,
   "id": "furnished-paradise",
   "metadata": {
    "scrolled": true
   },
   "outputs": [
    {
     "data": {
      "application/vnd.jupyter.widget-view+json": {
       "model_id": "1f146f81033b43b7af22588beedb3d15",
       "version_major": 2,
       "version_minor": 0
      },
      "text/plain": [
       "  0%|          | 0/3147 [00:00<?, ?it/s]"
      ]
     },
     "metadata": {},
     "output_type": "display_data"
    },
    {
     "name": "stdout",
     "output_type": "stream",
     "text": [
      "File: ../../propertiesSplitWRemoved/claims.P8529.tsv does not exist\n"
     ]
    }
   ],
   "source": [
    "from tqdm.notebook import tqdm\n",
    "import os.path\n",
    "import os\n",
    "\n",
    "cnt = 0\n",
    "fCnt = 0\n",
    "\n",
    "folderName = 'codependencyConstraint_Final'\n",
    "subFolderName = \"Mand_Normal\"\n",
    "shellFileSuffix = 'codepConst_MN_Validator_new2_'\n",
    "graph_cache_file_prefix = \"codep_new3_02_\"\n",
    "\n",
    "for prop in tqdm(dfItemRequires.index.unique()):\n",
    "#     try:\n",
    "        mandatory = []\n",
    "        suggestion = []\n",
    "        normal = []\n",
    "        prop = str(prop)\n",
    "        \n",
    "        for _, constraint in dfItemRequires.loc[[prop]].iterrows():\n",
    "            if type(constraint['P2316']) == list:\n",
    "                if constraint['P2316'][0] == 'Q21502408':\n",
    "                    mandatory.append(constraint)\n",
    "                elif constraint['P2316'][0] == 'Q62026391':\n",
    "                    suggestion.append(constraint)\n",
    "            else:\n",
    "                normal.append(constraint)\n",
    "        \n",
    "        if not(os.path.isfile(\"../../propertiesSplitWRemoved/claims.\"+ prop +\".tsv\")):\n",
    "            continue\n",
    "                \n",
    "        commandInit = \"{ time ( kgtk --debug query -i ../../propertiesSplitWRemoved/claims.\"+ prop +\".tsv \"\n",
    "        commandOtherFiles = \"\"\n",
    "        commandMatch = \"--match '\"\n",
    "        commandMatchMoreFiles = [f\"{prop}: (node1)-[nodeProp]->(node2)\"]\n",
    "        commandWhere = \" --where '\"\n",
    "        commandWhere = []\n",
    "        \n",
    "        # Version 1 <<<<<<<<<<<<<<<<<<<<<<<<<<<<<<<<<<<<<<<<<<<<<<<<<<<<<<<<<<<<<<<<<<<<<<<<<<<<<<<<<<\n",
    "        constSet = mandatory + normal\n",
    "        \n",
    "        if len(constSet) == 0:\n",
    "            continue\n",
    "        excptns = set()\n",
    "        for (rowNo, constraint) in enumerate(constSet):\n",
    "            prop2 = constraint['P2306']\n",
    "            \n",
    "            if type(prop2) != list:\n",
    "                continue\n",
    "            prop2 = prop2[0]\n",
    "                \n",
    "            if not(os.path.isfile(\"../../propertiesSplitWRemoved/claims.\"+ prop2 +\".tsv\")):\n",
    "                print(f\"File: ../../propertiesSplitWRemoved/claims.{prop2}.tsv does not exist\")\n",
    "                continue\n",
    "            \n",
    "            commandOtherFiles += \"../../propertiesSplitWRemoved/claims.\"+ prop2 +\".tsv \"\n",
    "            if type(constraint['P2303']) == list: # Exceptions present\n",
    "                if len(excptns) == 0:\n",
    "                    excptns = set(constraint['P2303'])\n",
    "                else:\n",
    "                    excptns = excptns.intersection(set(constraint['P2303']))\n",
    "            if type(constraint['P2305']) == list:\n",
    "                commandMatchMoreFiles += [f\"{prop2}: (node1)-[]->(node2_{prop2})\"]\n",
    "                commandWhere += [\"node2_\" + prop2 + \" in \" + str(list(constraint['P2305'])).replace(\"'\",'\"')]\n",
    "            else:\n",
    "                commandMatchMoreFiles += [f\"{prop2}: (node1)-[]->()\"]\n",
    "#         print(commandMatchMoreFiles)\n",
    "        if len(commandWhere) == 0:\n",
    "            command = commandInit + commandOtherFiles + commandMatch + (\", \".join(commandMatchMoreFiles)) + \"'\"\n",
    "        else:\n",
    "            command = commandInit + commandOtherFiles + commandMatch + (\", \".join(commandMatchMoreFiles)) + \"'\" + \" --where '\"+(\" and \".join(commandWhere))+\"'\"\n",
    "        \n",
    "        if cnt % 100 == 0:\n",
    "            if fOP:\n",
    "                fOP.close()\n",
    "            fCnt += 1\n",
    "            fOP = open(\"../../propertiesSplitWRemoved/checkViolations/\" + shellFileSuffix + str(fCnt) + \".sh\",\"w\")\n",
    "        \n",
    "        if len(excptns) == 0:\n",
    "            commandRest = \" --return 'distinct nodeProp.id, node1 as `node1`, nodeProp.label as `label`, node2 as `node2`'  \\\n",
    "            -o ../../allConstraintsAnalysisWRemoved/\" + folderName + \"/\" + subFolderName + \"/claims.\"+ prop +\".correct.tsv \\\n",
    "            --graph-cache ~/sqlite3_caches/\" + str(graph_cache_file_prefix) + str(fCnt) + \".sqlite3.db; \\\n",
    "             kgtk --debug ifnotexists -i ../../propertiesSplitWRemoved/claims.\"+ prop +\".tsv \\\n",
    "            --filter-on ../../allConstraintsAnalysisWRemoved/\" + folderName + \"/\" + subFolderName + \"/claims.\"+ prop +\".correct.tsv \\\n",
    "            --filter-mode NONE \\\n",
    "            --input-keys node1 label \\\n",
    "            --filter-keys node1 label \"\n",
    "            \n",
    "            commandOPFile = \"-o ../../allConstraintsAnalysisWRemoved/\" + folderName + \"/\" + subFolderName + \"/claims.\"+ prop +\".\"\n",
    "            \n",
    "            command += commandRest + commandOPFile + \"incorrect.tsv ) } 2>> ../../propertiesSplitWRemoved/checkViolations/exec_logs/timeLog_\" + shellFileSuffix + str(fCnt) + \".txt;\\n\"\n",
    "            fOP.write(command)\n",
    "        else:\n",
    "            commandRest = \" --return 'distinct nodeProp.id, node1 as `node1`, nodeProp.label as `label`, node2 as `node2`'  \\\n",
    "            -o ../../allConstraintsAnalysisWRemoved/\" + folderName + \"/\" + subFolderName + \"/claims.\"+ prop +\".correct_wo_exceptions.tsv \\\n",
    "            --graph-cache ~/sqlite3_caches/\" + str(graph_cache_file_prefix) + str(fCnt) + \".sqlite3.db; \\\n",
    "             kgtk --debug ifnotexists -i ../../propertiesSplitWRemoved/claims.\"+ prop +\".tsv \\\n",
    "            --filter-on ../../allConstraintsAnalysisWRemoved/\" + folderName + \"/\" + subFolderName + \"/claims.\"+ prop +\".correct_wo_exceptions.tsv \\\n",
    "            --filter-mode NONE \\\n",
    "            --input-keys node1 label \\\n",
    "            --filter-keys node1 label \"\n",
    "            \n",
    "            commandOPFile = \"-o ../../allConstraintsAnalysisWRemoved/\" + folderName + \"/\" + subFolderName + \"/claims.\"+ prop +\".\"\n",
    "            \n",
    "            command += commandRest + commandOPFile + \"incorrect_wo_exceptions.tsv\\n\"\n",
    "            fOP.write(command)\n",
    "            \n",
    "            command = \"  kgtk --debug query -i ../../allConstraintsAnalysisWRemoved/\" + folderName + \"/\" + subFolderName + \"/claims.\" + prop + \".incorrect_wo_exceptions.tsv \\\n",
    "                    --match '(node1)-[]->()' --where 'node1 in \" + str(list(excptns)).replace(\"'\",'\"') + \"' \\\n",
    "                    -o ../../allConstraintsAnalysisWRemoved/\" + folderName + \"/\" + subFolderName + \"/claims.\" + prop + \".incorrect_w_exceptions.tsv \\\n",
    "                    --graph-cache ~/sqlite3_caches/\" + str(graph_cache_file_prefix) + str(fCnt) + \".sqlite3.db; \"\n",
    "            fOP.write(command)\n",
    "            \n",
    "            command = \"  kgtk --debug ifnotexists -i ../../allConstraintsAnalysisWRemoved/\" + folderName + \"/\" + subFolderName + \"/claims.\" + prop + \".incorrect_wo_exceptions.tsv \\\n",
    "            --filter-on ../../allConstraintsAnalysisWRemoved/\" + folderName + \"/\" + subFolderName + \"/claims.\" + prop + \".incorrect_w_exceptions.tsv \\\n",
    "            --filter-mode NONE \\\n",
    "            --input-keys node1 label \\\n",
    "            --filter-keys node1 label \\\n",
    "            -o ../../allConstraintsAnalysisWRemoved/\" + folderName + \"/\" + subFolderName + \"/claims.\"+ prop +\".incorrect.tsv; \"\n",
    "            fOP.write(command)\n",
    "            \n",
    "            command = \"  kgtk cat -i ../../allConstraintsAnalysisWRemoved/\" + folderName + \"/\" + subFolderName + \"/claims.\"+ prop +\".correct_wo_exceptions.tsv \\\n",
    "                    ../../allConstraintsAnalysisWRemoved/\" + folderName + \"/\" + subFolderName + \"/claims.\"+ prop +\".incorrect_w_exceptions.tsv \\\n",
    "                    -o ../../allConstraintsAnalysisWRemoved/\" + folderName + \"/\" + subFolderName + \"/claims.\"+ prop +\".correct.tsv ) } 2>> ../../propertiesSplitWRemoved/checkViolations/exec_logs/timeLog_\" + shellFileSuffix + str(fCnt) + \".txt; \\n\"\n",
    "            fOP.write(command)\n",
    "        \n",
    "        \n",
    "        cnt += 1\n",
    "#     except:\n",
    "#         print(\"Something failed for prop:\",prop)\n",
    "if fOP:\n",
    "    fOP.close()"
   ]
  },
  {
   "cell_type": "code",
   "execution_count": 52,
   "id": "searching-individual",
   "metadata": {},
   "outputs": [
    {
     "data": {
      "text/plain": [
       "2419"
      ]
     },
     "execution_count": 52,
     "metadata": {},
     "output_type": "execute_result"
    }
   ],
   "source": [
    "cnt"
   ]
  },
  {
   "cell_type": "code",
   "execution_count": 53,
   "id": "silver-clarity",
   "metadata": {},
   "outputs": [],
   "source": [
    "# import os\n",
    "# for i in range(1,26):\n",
    "#     os.system(\"screen -dm sh ../../propertiesSplitWRemoved/checkViolations/codepConst_MN_Validator_new2_\"+str(i)+\".sh\")"
   ]
  },
  {
   "cell_type": "markdown",
   "id": "prescription-access",
   "metadata": {},
   "source": [
    "#### Version 3 - Mandatory"
   ]
  },
  {
   "cell_type": "code",
   "execution_count": 54,
   "id": "married-porter",
   "metadata": {},
   "outputs": [
    {
     "data": {
      "application/vnd.jupyter.widget-view+json": {
       "model_id": "932a7247db9b47568838f6219c1e2119",
       "version_major": 2,
       "version_minor": 0
      },
      "text/plain": [
       "  0%|          | 0/3147 [00:00<?, ?it/s]"
      ]
     },
     "metadata": {},
     "output_type": "display_data"
    }
   ],
   "source": [
    "from tqdm.notebook import tqdm\n",
    "import os.path\n",
    "import os\n",
    "\n",
    "cnt = 0\n",
    "fCnt = 0\n",
    "\n",
    "folderName = 'codependencyConstraint_Final'\n",
    "subFolderName = \"Mand\"\n",
    "shellFileSuffix = 'codepConst_M_Validator_new2_'\n",
    "graph_cache_file_prefix = \"codep_new3_03_\"\n",
    "\n",
    "for prop in tqdm(dfItemRequires.index.unique()):\n",
    "#     try:\n",
    "        mandatory = []\n",
    "        suggestion = []\n",
    "        normal = []\n",
    "        prop = str(prop)\n",
    "        \n",
    "        for _, constraint in dfItemRequires.loc[[prop]].iterrows():\n",
    "            if type(constraint['P2316']) == list:\n",
    "                if constraint['P2316'][0] == 'Q21502408':\n",
    "                    mandatory.append(constraint)\n",
    "                elif constraint['P2316'][0] == 'Q62026391':\n",
    "                    suggestion.append(constraint)\n",
    "            else:\n",
    "                normal.append(constraint)\n",
    "        \n",
    "        if not(os.path.isfile(\"../../propertiesSplitWRemoved/claims.\"+ prop +\".tsv\")):\n",
    "            continue\n",
    "                \n",
    "        commandInit = \"{ time ( kgtk --debug query -i ../../propertiesSplitWRemoved/claims.\"+ prop +\".tsv \"\n",
    "        commandOtherFiles = \"\"\n",
    "        commandMatch = \"--match '\"\n",
    "        commandMatchMoreFiles = [f\"{prop}: (node1)-[nodeProp]->(node2)\"]\n",
    "        commandWhere = \" --where '\"\n",
    "        commandWhere = []\n",
    "        \n",
    "        # Version 1 <<<<<<<<<<<<<<<<<<<<<<<<<<<<<<<<<<<<<<<<<<<<<<<<<<<<<<<<<<<<<<<<<<<<<<<<<<<<<<<<<<\n",
    "        constSet = mandatory\n",
    "        \n",
    "        if len(constSet) == 0:\n",
    "            continue\n",
    "        excptns = set()\n",
    "        for (rowNo, constraint) in enumerate(constSet):\n",
    "            prop2 = constraint['P2306']\n",
    "            \n",
    "            if type(prop2) != list:\n",
    "                continue\n",
    "            prop2 = prop2[0]\n",
    "                \n",
    "            if not(os.path.isfile(\"../../propertiesSplitWRemoved/claims.\"+ prop2 +\".tsv\")):\n",
    "                print(f\"File: ../../propertiesSplitWRemoved/claims.{prop2}.tsv does not exist\")\n",
    "                continue\n",
    "            \n",
    "            commandOtherFiles += \"../../propertiesSplitWRemoved/claims.\"+ prop2 +\".tsv \"\n",
    "            if type(constraint['P2303']) == list: # Exceptions present\n",
    "                if len(excptns) == 0:\n",
    "                    excptns = set(constraint['P2303'])\n",
    "                else:\n",
    "                    excptns = excptns.intersection(set(constraint['P2303']))\n",
    "            if type(constraint['P2305']) == list:\n",
    "                commandMatchMoreFiles += [f\"{prop2}: (node1)-[]->(node2_{prop2})\"]\n",
    "                commandWhere += [\"node2_\" + prop2 + \" in \" + str(list(constraint['P2305'])).replace(\"'\",'\"')]\n",
    "            else:\n",
    "                commandMatchMoreFiles += [f\"{prop2}: (node1)-[]->()\"]\n",
    "#         print(commandMatchMoreFiles)\n",
    "        if len(commandWhere) == 0:\n",
    "            command = commandInit + commandOtherFiles + commandMatch + (\", \".join(commandMatchMoreFiles)) + \"'\"\n",
    "        else:\n",
    "            command = commandInit + commandOtherFiles + commandMatch + (\", \".join(commandMatchMoreFiles)) + \"'\" + \" --where '\"+(\" and \".join(commandWhere))+\"'\"\n",
    "        \n",
    "        if cnt % 100 == 0:\n",
    "            if fOP:\n",
    "                fOP.close()\n",
    "            fCnt += 1\n",
    "            fOP = open(\"../../propertiesSplitWRemoved/checkViolations/\" + shellFileSuffix + str(fCnt) + \".sh\",\"w\")\n",
    "        \n",
    "        if len(excptns) == 0:\n",
    "            commandRest = \" --return 'distinct nodeProp.id, node1 as `node1`, nodeProp.label as `label`, node2 as `node2`'  \\\n",
    "            -o ../../allConstraintsAnalysisWRemoved/\" + folderName + \"/\" + subFolderName + \"/claims.\"+ prop +\".correct.tsv \\\n",
    "            --graph-cache ~/sqlite3_caches/\" + str(graph_cache_file_prefix) + str(fCnt) + \".sqlite3.db; \\\n",
    "             kgtk --debug ifnotexists -i ../../propertiesSplitWRemoved/claims.\"+ prop +\".tsv \\\n",
    "            --filter-on ../../allConstraintsAnalysisWRemoved/\" + folderName + \"/\" + subFolderName + \"/claims.\"+ prop +\".correct.tsv \\\n",
    "            --filter-mode NONE \\\n",
    "            --input-keys node1 label \\\n",
    "            --filter-keys node1 label \"\n",
    "            \n",
    "            commandOPFile = \"-o ../../allConstraintsAnalysisWRemoved/\" + folderName + \"/\" + subFolderName + \"/claims.\"+ prop +\".\"\n",
    "            \n",
    "            command += commandRest + commandOPFile + \"incorrect.tsv ) } 2>> ../../propertiesSplitWRemoved/checkViolations/exec_logs/timeLog_\" + shellFileSuffix + str(fCnt) + \".txt;\\n\"\n",
    "            fOP.write(command)\n",
    "        else:\n",
    "            commandRest = \" --return 'distinct nodeProp.id, node1 as `node1`, nodeProp.label as `label`, node2 as `node2`'  \\\n",
    "            -o ../../allConstraintsAnalysisWRemoved/\" + folderName + \"/\" + subFolderName + \"/claims.\"+ prop +\".correct_wo_exceptions.tsv \\\n",
    "            --graph-cache ~/sqlite3_caches/\" + str(graph_cache_file_prefix) + str(fCnt) + \".sqlite3.db; \\\n",
    "             kgtk --debug ifnotexists -i ../../propertiesSplitWRemoved/claims.\"+ prop +\".tsv \\\n",
    "            --filter-on ../../allConstraintsAnalysisWRemoved/\" + folderName + \"/\" + subFolderName + \"/claims.\"+ prop +\".correct_wo_exceptions.tsv \\\n",
    "            --filter-mode NONE \\\n",
    "            --input-keys node1 label \\\n",
    "            --filter-keys node1 label \"\n",
    "            \n",
    "            commandOPFile = \"-o ../../allConstraintsAnalysisWRemoved/\" + folderName + \"/\" + subFolderName + \"/claims.\"+ prop +\".\"\n",
    "            \n",
    "            command += commandRest + commandOPFile + \"incorrect_wo_exceptions.tsv\\n\"\n",
    "            fOP.write(command)\n",
    "            \n",
    "            command = \"  kgtk --debug query -i ../../allConstraintsAnalysisWRemoved/\" + folderName + \"/\" + subFolderName + \"/claims.\" + prop + \".incorrect_wo_exceptions.tsv \\\n",
    "                    --match '(node1)-[]->()' --where 'node1 in \" + str(list(excptns)).replace(\"'\",'\"') + \"' \\\n",
    "                    -o ../../allConstraintsAnalysisWRemoved/\" + folderName + \"/\" + subFolderName + \"/claims.\" + prop + \".incorrect_w_exceptions.tsv \\\n",
    "                    --graph-cache ~/sqlite3_caches/\" + str(graph_cache_file_prefix) + str(fCnt) + \".sqlite3.db; \"\n",
    "            fOP.write(command)\n",
    "            \n",
    "            command = \"  kgtk --debug ifnotexists -i ../../allConstraintsAnalysisWRemoved/\" + folderName + \"/\" + subFolderName + \"/claims.\" + prop + \".incorrect_wo_exceptions.tsv \\\n",
    "            --filter-on ../../allConstraintsAnalysisWRemoved/\" + folderName + \"/\" + subFolderName + \"/claims.\" + prop + \".incorrect_w_exceptions.tsv \\\n",
    "            --filter-mode NONE \\\n",
    "            --input-keys node1 label \\\n",
    "            --filter-keys node1 label \\\n",
    "            -o ../../allConstraintsAnalysisWRemoved/\" + folderName + \"/\" + subFolderName + \"/claims.\"+ prop +\".incorrect.tsv; \"\n",
    "            fOP.write(command)\n",
    "            \n",
    "            command = \"  kgtk cat -i ../../allConstraintsAnalysisWRemoved/\" + folderName + \"/\" + subFolderName + \"/claims.\"+ prop +\".correct_wo_exceptions.tsv \\\n",
    "                    ../../allConstraintsAnalysisWRemoved/\" + folderName + \"/\" + subFolderName + \"/claims.\"+ prop +\".incorrect_w_exceptions.tsv \\\n",
    "                    -o ../../allConstraintsAnalysisWRemoved/\" + folderName + \"/\" + subFolderName + \"/claims.\"+ prop +\".correct.tsv ) } 2>> ../../propertiesSplitWRemoved/checkViolations/exec_logs/timeLog_\" + shellFileSuffix + str(fCnt) + \".txt; \\n\"\n",
    "            fOP.write(command)\n",
    "        \n",
    "        \n",
    "        cnt += 1\n",
    "#     except:\n",
    "#         print(\"Something failed for prop:\",prop)\n",
    "if fOP:\n",
    "    fOP.close()"
   ]
  },
  {
   "cell_type": "code",
   "execution_count": 55,
   "id": "according-blackberry",
   "metadata": {},
   "outputs": [
    {
     "data": {
      "text/plain": [
       "1089"
      ]
     },
     "execution_count": 55,
     "metadata": {},
     "output_type": "execute_result"
    }
   ],
   "source": [
    "cnt"
   ]
  },
  {
   "cell_type": "code",
   "execution_count": 56,
   "id": "extraordinary-drawing",
   "metadata": {},
   "outputs": [],
   "source": [
    "# import os\n",
    "# for i in range(1,12):\n",
    "#     os.system(\"screen -dm sh ../../propertiesSplitWRemoved/checkViolations/codepConst_M_Validator_new2_\"+str(i)+\".sh\")"
   ]
  },
  {
   "cell_type": "markdown",
   "id": "subsequent-brown",
   "metadata": {},
   "source": [
    "#### Version 4 - Normal"
   ]
  },
  {
   "cell_type": "code",
   "execution_count": 57,
   "id": "operational-migration",
   "metadata": {},
   "outputs": [
    {
     "data": {
      "application/vnd.jupyter.widget-view+json": {
       "model_id": "d81d5232c18940e59e50956651839125",
       "version_major": 2,
       "version_minor": 0
      },
      "text/plain": [
       "  0%|          | 0/3147 [00:00<?, ?it/s]"
      ]
     },
     "metadata": {},
     "output_type": "display_data"
    },
    {
     "name": "stdout",
     "output_type": "stream",
     "text": [
      "File: ../../propertiesSplitWRemoved/claims.P8529.tsv does not exist\n"
     ]
    }
   ],
   "source": [
    "from tqdm.notebook import tqdm\n",
    "import os.path\n",
    "import os\n",
    "\n",
    "cnt = 0\n",
    "fCnt = 0\n",
    "\n",
    "folderName = 'codependencyConstraint_Final'\n",
    "subFolderName = \"Normal\"\n",
    "shellFileSuffix = 'codepConst_N_Validator_new2_'\n",
    "graph_cache_file_prefix = \"codep_new3_04_\"\n",
    "\n",
    "for prop in tqdm(dfItemRequires.index.unique()):\n",
    "#     try:\n",
    "        mandatory = []\n",
    "        suggestion = []\n",
    "        normal = []\n",
    "        prop = str(prop)\n",
    "        \n",
    "        for _, constraint in dfItemRequires.loc[[prop]].iterrows():\n",
    "            if type(constraint['P2316']) == list:\n",
    "                if constraint['P2316'][0] == 'Q21502408':\n",
    "                    mandatory.append(constraint)\n",
    "                elif constraint['P2316'][0] == 'Q62026391':\n",
    "                    suggestion.append(constraint)\n",
    "            else:\n",
    "                normal.append(constraint)\n",
    "        \n",
    "        if not(os.path.isfile(\"../../propertiesSplitWRemoved/claims.\"+ prop +\".tsv\")):\n",
    "            continue\n",
    "                \n",
    "        commandInit = \"{ time ( kgtk --debug query -i ../../propertiesSplitWRemoved/claims.\"+ prop +\".tsv \"\n",
    "        commandOtherFiles = \"\"\n",
    "        commandMatch = \"--match '\"\n",
    "        commandMatchMoreFiles = [f\"{prop}: (node1)-[nodeProp]->(node2)\"]\n",
    "        commandWhere = \" --where '\"\n",
    "        commandWhere = []\n",
    "        \n",
    "        # Version 1 <<<<<<<<<<<<<<<<<<<<<<<<<<<<<<<<<<<<<<<<<<<<<<<<<<<<<<<<<<<<<<<<<<<<<<<<<<<<<<<<<<\n",
    "        constSet = normal\n",
    "        \n",
    "        if len(constSet) == 0:\n",
    "            continue\n",
    "        excptns = set()\n",
    "        for (rowNo, constraint) in enumerate(constSet):\n",
    "            prop2 = constraint['P2306']\n",
    "            \n",
    "            if type(prop2) != list:\n",
    "                continue\n",
    "            prop2 = prop2[0]\n",
    "                \n",
    "            if not(os.path.isfile(\"../../propertiesSplitWRemoved/claims.\"+ prop2 +\".tsv\")):\n",
    "                print(f\"File: ../../propertiesSplitWRemoved/claims.{prop2}.tsv does not exist\")\n",
    "                continue\n",
    "            \n",
    "            commandOtherFiles += \"../../propertiesSplitWRemoved/claims.\"+ prop2 +\".tsv \"\n",
    "            if type(constraint['P2303']) == list: # Exceptions present\n",
    "                if len(excptns) == 0:\n",
    "                    excptns = set(constraint['P2303'])\n",
    "                else:\n",
    "                    excptns = excptns.intersection(set(constraint['P2303']))\n",
    "            if type(constraint['P2305']) == list:\n",
    "                commandMatchMoreFiles += [f\"{prop2}: (node1)-[]->(node2_{prop2})\"]\n",
    "                commandWhere += [\"node2_\" + prop2 + \" in \" + str(list(constraint['P2305'])).replace(\"'\",'\"')]\n",
    "            else:\n",
    "                commandMatchMoreFiles += [f\"{prop2}: (node1)-[]->()\"]\n",
    "#         print(commandMatchMoreFiles)\n",
    "        if len(commandWhere) == 0:\n",
    "            command = commandInit + commandOtherFiles + commandMatch + (\", \".join(commandMatchMoreFiles)) + \"'\"\n",
    "        else:\n",
    "            command = commandInit + commandOtherFiles + commandMatch + (\", \".join(commandMatchMoreFiles)) + \"'\" + \" --where '\"+(\" and \".join(commandWhere))+\"'\"\n",
    "        \n",
    "        if cnt % 100 == 0:\n",
    "            if fOP:\n",
    "                fOP.close()\n",
    "            fCnt += 1\n",
    "            fOP = open(\"../../propertiesSplitWRemoved/checkViolations/\" + shellFileSuffix + str(fCnt) + \".sh\",\"w\")\n",
    "        \n",
    "        if len(excptns) == 0:\n",
    "            commandRest = \" --return 'distinct nodeProp.id, node1 as `node1`, nodeProp.label as `label`, node2 as `node2`'  \\\n",
    "            -o ../../allConstraintsAnalysisWRemoved/\" + folderName + \"/\" + subFolderName + \"/claims.\"+ prop +\".correct.tsv \\\n",
    "            --graph-cache ~/sqlite3_caches/\" + str(graph_cache_file_prefix) + str(fCnt) + \".sqlite3.db; \\\n",
    "             kgtk --debug ifnotexists -i ../../propertiesSplitWRemoved/claims.\"+ prop +\".tsv \\\n",
    "            --filter-on ../../allConstraintsAnalysisWRemoved/\" + folderName + \"/\" + subFolderName + \"/claims.\"+ prop +\".correct.tsv \\\n",
    "            --filter-mode NONE \\\n",
    "            --input-keys node1 label \\\n",
    "            --filter-keys node1 label \"\n",
    "            \n",
    "            commandOPFile = \"-o ../../allConstraintsAnalysisWRemoved/\" + folderName + \"/\" + subFolderName + \"/claims.\"+ prop +\".\"\n",
    "            \n",
    "            command += commandRest + commandOPFile + \"incorrect.tsv ) } 2>> ../../propertiesSplitWRemoved/checkViolations/exec_logs/timeLog_\" + shellFileSuffix + str(fCnt) + \".txt;\\n\"\n",
    "            fOP.write(command)\n",
    "        else:\n",
    "            commandRest = \" --return 'distinct nodeProp.id, node1 as `node1`, nodeProp.label as `label`, node2 as `node2`'  \\\n",
    "            -o ../../allConstraintsAnalysisWRemoved/\" + folderName + \"/\" + subFolderName + \"/claims.\"+ prop +\".correct_wo_exceptions.tsv \\\n",
    "            --graph-cache ~/sqlite3_caches/\" + str(graph_cache_file_prefix) + str(fCnt) + \".sqlite3.db; \\\n",
    "             kgtk --debug ifnotexists -i ../../propertiesSplitWRemoved/claims.\"+ prop +\".tsv \\\n",
    "            --filter-on ../../allConstraintsAnalysisWRemoved/\" + folderName + \"/\" + subFolderName + \"/claims.\"+ prop +\".correct_wo_exceptions.tsv \\\n",
    "            --filter-mode NONE \\\n",
    "            --input-keys node1 label \\\n",
    "            --filter-keys node1 label \"\n",
    "            \n",
    "            commandOPFile = \"-o ../../allConstraintsAnalysisWRemoved/\" + folderName + \"/\" + subFolderName + \"/claims.\"+ prop +\".\"\n",
    "            \n",
    "            command += commandRest + commandOPFile + \"incorrect_wo_exceptions.tsv\\n\"\n",
    "            fOP.write(command)\n",
    "            \n",
    "            command = \"  kgtk --debug query -i ../../allConstraintsAnalysisWRemoved/\" + folderName + \"/\" + subFolderName + \"/claims.\" + prop + \".incorrect_wo_exceptions.tsv \\\n",
    "                    --match '(node1)-[]->()' --where 'node1 in \" + str(list(excptns)).replace(\"'\",'\"') + \"' \\\n",
    "                    -o ../../allConstraintsAnalysisWRemoved/\" + folderName + \"/\" + subFolderName + \"/claims.\" + prop + \".incorrect_w_exceptions.tsv \\\n",
    "                    --graph-cache ~/sqlite3_caches/\" + str(graph_cache_file_prefix) + str(fCnt) + \".sqlite3.db; \"\n",
    "            fOP.write(command)\n",
    "            \n",
    "            command = \"  kgtk --debug ifnotexists -i ../../allConstraintsAnalysisWRemoved/\" + folderName + \"/\" + subFolderName + \"/claims.\" + prop + \".incorrect_wo_exceptions.tsv \\\n",
    "            --filter-on ../../allConstraintsAnalysisWRemoved/\" + folderName + \"/\" + subFolderName + \"/claims.\" + prop + \".incorrect_w_exceptions.tsv \\\n",
    "            --filter-mode NONE \\\n",
    "            --input-keys node1 label \\\n",
    "            --filter-keys node1 label \\\n",
    "            -o ../../allConstraintsAnalysisWRemoved/\" + folderName + \"/\" + subFolderName + \"/claims.\"+ prop +\".incorrect.tsv; \"\n",
    "            fOP.write(command)\n",
    "            \n",
    "            command = \"  kgtk cat -i ../../allConstraintsAnalysisWRemoved/\" + folderName + \"/\" + subFolderName + \"/claims.\"+ prop +\".correct_wo_exceptions.tsv \\\n",
    "                    ../../allConstraintsAnalysisWRemoved/\" + folderName + \"/\" + subFolderName + \"/claims.\"+ prop +\".incorrect_w_exceptions.tsv \\\n",
    "                    -o ../../allConstraintsAnalysisWRemoved/\" + folderName + \"/\" + subFolderName + \"/claims.\"+ prop +\".correct.tsv ) } 2>> ../../propertiesSplitWRemoved/checkViolations/exec_logs/timeLog_\" + shellFileSuffix + str(fCnt) + \".txt; \\n\"\n",
    "            fOP.write(command)\n",
    "        \n",
    "        \n",
    "        cnt += 1\n",
    "#     except:\n",
    "#         print(\"Something failed for prop:\",prop)\n",
    "if fOP:\n",
    "    fOP.close()"
   ]
  },
  {
   "cell_type": "code",
   "execution_count": 58,
   "id": "harmful-binary",
   "metadata": {},
   "outputs": [
    {
     "data": {
      "text/plain": [
       "1925"
      ]
     },
     "execution_count": 58,
     "metadata": {},
     "output_type": "execute_result"
    }
   ],
   "source": [
    "cnt"
   ]
  },
  {
   "cell_type": "code",
   "execution_count": 59,
   "id": "advance-married",
   "metadata": {},
   "outputs": [],
   "source": [
    "# import os\n",
    "# for i in range(1,21):\n",
    "#     os.system(\"screen -dm sh ../../propertiesSplitWRemoved/checkViolations/codepConst_N_Validator_new2_\"+str(i)+\".sh\")"
   ]
  },
  {
   "cell_type": "markdown",
   "id": "ranging-journal",
   "metadata": {},
   "source": [
    "#### Version 5 - Suggestion"
   ]
  },
  {
   "cell_type": "code",
   "execution_count": 60,
   "id": "missing-jordan",
   "metadata": {},
   "outputs": [
    {
     "data": {
      "application/vnd.jupyter.widget-view+json": {
       "model_id": "174a69094d0b4d30aeeba66e2eb28a5c",
       "version_major": 2,
       "version_minor": 0
      },
      "text/plain": [
       "  0%|          | 0/3147 [00:00<?, ?it/s]"
      ]
     },
     "metadata": {},
     "output_type": "display_data"
    },
    {
     "name": "stdout",
     "output_type": "stream",
     "text": [
      "File: ../../propertiesSplitWRemoved/claims.P8299.tsv does not exist\n",
      "File: ../../propertiesSplitWRemoved/claims.P7118.tsv does not exist\n",
      "File: ../../propertiesSplitWRemoved/claims.P7119.tsv does not exist\n"
     ]
    }
   ],
   "source": [
    "from tqdm.notebook import tqdm\n",
    "import os.path\n",
    "import os\n",
    "\n",
    "cnt = 0\n",
    "fCnt = 0\n",
    "\n",
    "folderName = 'codependencyConstraint_Final'\n",
    "subFolderName = \"Suggestion\"\n",
    "shellFileSuffix = 'codepConst_S_Validator_new_3_'\n",
    "graph_cache_file_prefix = \"codep_new4_05_\"\n",
    "\n",
    "fOP = None\n",
    "\n",
    "for prop in tqdm(dfItemRequires.index.unique()):\n",
    "#     try:\n",
    "        mandatory = []\n",
    "        suggestion = []\n",
    "        normal = []\n",
    "        prop = str(prop)\n",
    "        \n",
    "        for _, constraint in dfItemRequires.loc[[prop]].iterrows():\n",
    "            if type(constraint['P2316']) == list:\n",
    "                if constraint['P2316'][0] == 'Q21502408':\n",
    "                    mandatory.append(constraint)\n",
    "                elif constraint['P2316'][0] == 'Q62026391':\n",
    "                    suggestion.append(constraint)\n",
    "            else:\n",
    "                normal.append(constraint)\n",
    "        \n",
    "        if not(os.path.isfile(\"../../propertiesSplitWRemoved/claims.\"+ prop +\".tsv\")):\n",
    "            continue\n",
    "                \n",
    "        commandInit = \"{ time ( kgtk --debug query -i ../../propertiesSplitWRemoved/claims.\"+ prop +\".tsv \"\n",
    "        commandOtherFiles = \"\"\n",
    "        commandMatch = \"--match '\"\n",
    "        commandMatchMoreFiles = [f\"{prop}: (node1)-[nodeProp]->(node2)\"]\n",
    "        commandWhere = \" --where '\"\n",
    "        commandWhere = []\n",
    "        \n",
    "        # Version 1 <<<<<<<<<<<<<<<<<<<<<<<<<<<<<<<<<<<<<<<<<<<<<<<<<<<<<<<<<<<<<<<<<<<<<<<<<<<<<<<<<<\n",
    "        constSet = suggestion\n",
    "        \n",
    "        if len(constSet) == 0:\n",
    "            continue\n",
    "        excptns = set()\n",
    "        for (rowNo, constraint) in enumerate(constSet):\n",
    "            prop2 = constraint['P2306']\n",
    "            \n",
    "            if type(prop2) != list:\n",
    "                continue\n",
    "            prop2 = prop2[0]\n",
    "                \n",
    "            if not(os.path.isfile(\"../../propertiesSplitWRemoved/claims.\"+ prop2 +\".tsv\")):\n",
    "                print(f\"File: ../../propertiesSplitWRemoved/claims.{prop2}.tsv does not exist\")\n",
    "                continue\n",
    "            \n",
    "            commandOtherFiles += \"../../propertiesSplitWRemoved/claims.\"+ prop2 +\".tsv \"\n",
    "            if type(constraint['P2303']) == list: # Exceptions present\n",
    "                if len(excptns) == 0:\n",
    "                    excptns = set(constraint['P2303'])\n",
    "                else:\n",
    "                    excptns = excptns.intersection(set(constraint['P2303']))\n",
    "            if type(constraint['P2305']) == list:\n",
    "                commandMatchMoreFiles += [f\"{prop2}: (node1)-[]->(node2_{prop2})\"]\n",
    "                commandWhere += [\"node2_\" + prop2 + \" in \" + str(list(constraint['P2305'])).replace(\"'\",'\"')]\n",
    "            else:\n",
    "                commandMatchMoreFiles += [f\"{prop2}: (node1)-[]->()\"]\n",
    "#         print(commandMatchMoreFiles)\n",
    "        if len(commandWhere) == 0:\n",
    "            command = commandInit + commandOtherFiles + commandMatch + (\", \".join(commandMatchMoreFiles)) + \"'\"\n",
    "        else:\n",
    "            command = commandInit + commandOtherFiles + commandMatch + (\", \".join(commandMatchMoreFiles)) + \"'\" + \" --where '\"+(\" and \".join(commandWhere))+\"'\"\n",
    "        \n",
    "        if cnt % 100 == 0:\n",
    "            if fOP:\n",
    "                fOP.close()\n",
    "            fCnt += 1\n",
    "            fOP = open(\"../../propertiesSplitWRemoved/checkViolations/\" + shellFileSuffix + str(fCnt) + \".sh\",\"w\")\n",
    "        \n",
    "        if len(excptns) == 0:\n",
    "            commandRest = \" --return 'distinct nodeProp.id, node1 as `node1`, nodeProp.label as `label`, node2 as `node2`'  \\\n",
    "            -o ../../allConstraintsAnalysisWRemoved/\" + folderName + \"/\" + subFolderName + \"/claims.\"+ prop +\".correct.tsv \\\n",
    "            --graph-cache ~/sqlite3_caches/\" + str(graph_cache_file_prefix) + str(fCnt) + \".sqlite3.db; \\\n",
    "             kgtk --debug ifnotexists -i ../../propertiesSplitWRemoved/claims.\"+ prop +\".tsv \\\n",
    "            --filter-on ../../allConstraintsAnalysisWRemoved/\" + folderName + \"/\" + subFolderName + \"/claims.\"+ prop +\".correct.tsv \\\n",
    "            --filter-mode NONE \\\n",
    "            --input-keys node1 label \\\n",
    "            --filter-keys node1 label \"\n",
    "            \n",
    "            commandOPFile = \"-o ../../allConstraintsAnalysisWRemoved/\" + folderName + \"/\" + subFolderName + \"/claims.\"+ prop +\".\"\n",
    "            \n",
    "            command += commandRest + commandOPFile + \"incorrect.tsv ) } 2>> ../../propertiesSplitWRemoved/checkViolations/exec_logs/timeLog_\" + shellFileSuffix + str(fCnt) + \".txt;\\n\"\n",
    "            fOP.write(command)\n",
    "        else:\n",
    "            commandRest = \" --return 'distinct nodeProp.id, node1 as `node1`, nodeProp.label as `label`, node2 as `node2`'  \\\n",
    "            -o ../../allConstraintsAnalysisWRemoved/\" + folderName + \"/\" + subFolderName + \"/claims.\"+ prop +\".correct_wo_exceptions.tsv \\\n",
    "            --graph-cache ~/sqlite3_caches/\" + str(graph_cache_file_prefix) + str(fCnt) + \".sqlite3.db; \\\n",
    "             kgtk --debug ifnotexists -i ../../propertiesSplitWRemoved/claims.\"+ prop +\".tsv \\\n",
    "            --filter-on ../../allConstraintsAnalysisWRemoved/\" + folderName + \"/\" + subFolderName + \"/claims.\"+ prop +\".correct_wo_exceptions.tsv \\\n",
    "            --filter-mode NONE \\\n",
    "            --input-keys node1 label \\\n",
    "            --filter-keys node1 label \"\n",
    "            \n",
    "            commandOPFile = \"-o ../../allConstraintsAnalysisWRemoved/\" + folderName + \"/\" + subFolderName + \"/claims.\"+ prop +\".\"\n",
    "            \n",
    "            command += commandRest + commandOPFile + \"incorrect_wo_exceptions.tsv\\n\"\n",
    "            fOP.write(command)\n",
    "            \n",
    "            command = \"  kgtk --debug query -i ../../allConstraintsAnalysisWRemoved/\" + folderName + \"/\" + subFolderName + \"/claims.\" + prop + \".incorrect_wo_exceptions.tsv \\\n",
    "                    --match '(node1)-[]->()' --where 'node1 in \" + str(list(excptns)).replace(\"'\",'\"') + \"' \\\n",
    "                    -o ../../allConstraintsAnalysisWRemoved/\" + folderName + \"/\" + subFolderName + \"/claims.\" + prop + \".incorrect_w_exceptions.tsv \\\n",
    "                    --graph-cache ~/sqlite3_caches/\" + str(graph_cache_file_prefix) + str(fCnt) + \".sqlite3.db; \"\n",
    "            fOP.write(command)\n",
    "            \n",
    "            command = \"  kgtk --debug ifnotexists -i ../../allConstraintsAnalysisWRemoved/\" + folderName + \"/\" + subFolderName + \"/claims.\" + prop + \".incorrect_wo_exceptions.tsv \\\n",
    "            --filter-on ../../allConstraintsAnalysisWRemoved/\" + folderName + \"/\" + subFolderName + \"/claims.\" + prop + \".incorrect_w_exceptions.tsv \\\n",
    "            --filter-mode NONE \\\n",
    "            --input-keys node1 label \\\n",
    "            --filter-keys node1 label \\\n",
    "            -o ../../allConstraintsAnalysisWRemoved/\" + folderName + \"/\" + subFolderName + \"/claims.\"+ prop +\".incorrect.tsv; \"\n",
    "            fOP.write(command)\n",
    "            \n",
    "            command = \"  kgtk cat -i ../../allConstraintsAnalysisWRemoved/\" + folderName + \"/\" + subFolderName + \"/claims.\"+ prop +\".correct_wo_exceptions.tsv \\\n",
    "                    ../../allConstraintsAnalysisWRemoved/\" + folderName + \"/\" + subFolderName + \"/claims.\"+ prop +\".incorrect_w_exceptions.tsv \\\n",
    "                    -o ../../allConstraintsAnalysisWRemoved/\" + folderName + \"/\" + subFolderName + \"/claims.\"+ prop +\".correct.tsv ) } 2>> ../../propertiesSplitWRemoved/checkViolations/exec_logs/timeLog_\" + shellFileSuffix + str(fCnt) + \".txt; \\n\"\n",
    "            fOP.write(command)\n",
    "        \n",
    "        \n",
    "        cnt += 1\n",
    "#     except:\n",
    "#         print(\"Something failed for prop:\",prop)\n",
    "if fOP:\n",
    "    fOP.close()"
   ]
  },
  {
   "cell_type": "code",
   "execution_count": 61,
   "id": "soviet-forth",
   "metadata": {},
   "outputs": [
    {
     "data": {
      "text/plain": [
       "312"
      ]
     },
     "execution_count": 61,
     "metadata": {},
     "output_type": "execute_result"
    }
   ],
   "source": [
    "cnt"
   ]
  },
  {
   "cell_type": "code",
   "execution_count": 62,
   "id": "racial-stationery",
   "metadata": {},
   "outputs": [],
   "source": [
    "# import os\n",
    "# for i in range(1,5):\n",
    "#     os.system(\"screen -dm sh ../../propertiesSplitWRemoved/checkViolations/codepConst_S_Validator_new_3_\"+str(i)+\".sh\")"
   ]
  },
  {
   "cell_type": "markdown",
   "id": "structural-envelope",
   "metadata": {},
   "source": [
    "### Merge all correct/incorrect outputs"
   ]
  },
  {
   "cell_type": "code",
   "execution_count": 17,
   "id": "joined-invention",
   "metadata": {},
   "outputs": [
    {
     "data": {
      "application/vnd.jupyter.widget-view+json": {
       "model_id": "57dcbdd4c8014c9288dbb92b331a05a6",
       "version_major": 2,
       "version_minor": 0
      },
      "text/plain": [
       "0it [00:00, ?it/s]"
      ]
     },
     "metadata": {},
     "output_type": "display_data"
    }
   ],
   "source": [
    "# import os\n",
    "# from tqdm.notebook import tqdm\n",
    "\n",
    "# for folder in tqdm(iter(['Mand_Sugg_Normal', 'Mand_Normal', 'Mand', 'Normal'])):\n",
    "#     folderPath = \"../../allConstraintsAnalysisWRemoved/codependencyConstraint/\" + folder + \"/\"\n",
    "#     correct_files_list = \" \".join([folderPath + f for f in filter(lambda f: \".correct.\" in f, os.listdir(folderPath))])\n",
    "#     incorrect_files_list = \" \".join([folderPath + f for f in filter(lambda f: \".incorrect.\" in f, os.listdir(folderPath))])\n",
    "# #     print(files_list)\n",
    "#     os.system(\"{ kgtk cat -i \"+ correct_files_list + \" -o \"+folderPath+\"claims.all.correctSuperSet.tsv -v True; } 2> \"+folderPath+\"claims.all.correctSuperSet.log\")\n",
    "#     os.system(\"{ kgtk cat -i \"+ incorrect_files_list + \" -o \"+folderPath+\"claims.all.incorrectSuperSet.tsv -v True; } 2> \"+folderPath+\"claims.all.incorrectSuperSet.log\")"
   ]
  },
  {
   "cell_type": "code",
   "execution_count": 15,
   "id": "stopped-bolivia",
   "metadata": {},
   "outputs": [
    {
     "data": {
      "application/vnd.jupyter.widget-view+json": {
       "model_id": "68395f72036a469fad8908d916303bcd",
       "version_major": 2,
       "version_minor": 0
      },
      "text/plain": [
       "0it [00:00, ?it/s]"
      ]
     },
     "metadata": {},
     "output_type": "display_data"
    }
   ],
   "source": [
    "# import os\n",
    "# from tqdm.notebook import tqdm\n",
    "\n",
    "# for folder in tqdm(iter(['Mand_Sugg_Normal', 'Mand_Normal', 'Mand', 'Normal'])):\n",
    "#     folderPath = \"../../allConstraintsAnalysisWRemoved/codependencyConstraint_Final/\" + folder + \"/\"\n",
    "#     correct_files_list = \" \".join([folderPath + f for f in filter(lambda f: \".correct.\" in f, os.listdir(folderPath))])\n",
    "#     incorrect_files_list = \" \".join([folderPath + f for f in filter(lambda f: \".incorrect.\" in f, os.listdir(folderPath))])\n",
    "# #     print(files_list)\n",
    "#     os.system(\"{ kgtk cat -i \"+ correct_files_list + \" -o \"+folderPath+\"claims.all.correctSuperSet.tsv; } 2> \"+folderPath+\"claims.all.correctSuperSet.log\")\n",
    "#     os.system(\"{ kgtk cat -i \"+ incorrect_files_list + \" -o \"+folderPath+\"claims.all.incorrectSuperSet.tsv; } 2> \"+folderPath+\"claims.all.incorrectSuperSet.log\")"
   ]
  },
  {
   "cell_type": "code",
   "execution_count": null,
   "id": "criminal-central",
   "metadata": {},
   "outputs": [],
   "source": [
    "# for folder in tqdm(iter(['Mand_Sugg_Normal', 'Mand_Normal', 'Mand', 'Normal'])):\n",
    "#     folderPath = \"../../allConstraintsAnalysisWRemoved/codependencyConstraint/\" + folder + \"/\"\n",
    "#     folderPathNew = \"../../allConstraintsAnalysisWRemoved/codependencyConstraint_Final/\" + folder + \"/\"\n",
    "#     os.system(f\"screen -dm kgtk ifnotexists -i {folderPathNew}claims.all.correctSuperSet.tsv --filter-on {folderPath}claims.all.correctSuperSet.tsv -o {folderPathNew}claims.all.correctSuperSet.diff.tsv\")\n",
    "#     os.system(f\"screen -dm kgtk ifnotexists -i {folderPathNew}claims.all.incorrectSuperSet.tsv --filter-on {folderPath}claims.all.incorrectSuperSet.tsv -o {folderPathNew}claims.all.incorrectSuperSet.diff.tsv\")\n",
    "    "
   ]
  },
  {
   "cell_type": "markdown",
   "id": "homeless-pleasure",
   "metadata": {},
   "source": [
    "### Analyze Violations"
   ]
  },
  {
   "cell_type": "code",
   "execution_count": 45,
   "id": "welcome-dependence",
   "metadata": {
    "scrolled": true
   },
   "outputs": [
    {
     "data": {
      "application/vnd.jupyter.widget-view+json": {
       "model_id": "22a3c57a824e437b9c097ce45f245631",
       "version_major": 2,
       "version_minor": 0
      },
      "text/plain": [
       "0it [00:00, ?it/s]"
      ]
     },
     "metadata": {},
     "output_type": "display_data"
    },
    {
     "data": {
      "application/vnd.jupyter.widget-view+json": {
       "model_id": "7dd9536a9ed647de9171b7e41388b861",
       "version_major": 2,
       "version_minor": 0
      },
      "text/plain": [
       "  0%|          | 0/5781 [00:00<?, ?it/s]"
      ]
     },
     "metadata": {},
     "output_type": "display_data"
    },
    {
     "data": {
      "application/vnd.jupyter.widget-view+json": {
       "model_id": "ad21da09d00b46d9a1f5e7ab5e7401f1",
       "version_major": 2,
       "version_minor": 0
      },
      "text/plain": [
       "  0%|          | 0/5486 [00:00<?, ?it/s]"
      ]
     },
     "metadata": {},
     "output_type": "display_data"
    },
    {
     "data": {
      "application/vnd.jupyter.widget-view+json": {
       "model_id": "f3ac9d0d591b4a429cfcdcda9b6d0530",
       "version_major": 2,
       "version_minor": 0
      },
      "text/plain": [
       "  0%|          | 0/2193 [00:00<?, ?it/s]"
      ]
     },
     "metadata": {},
     "output_type": "display_data"
    },
    {
     "data": {
      "application/vnd.jupyter.widget-view+json": {
       "model_id": "72b073aa981b47acb278ff698465121e",
       "version_major": 2,
       "version_minor": 0
      },
      "text/plain": [
       "  0%|          | 0/4483 [00:00<?, ?it/s]"
      ]
     },
     "metadata": {},
     "output_type": "display_data"
    },
    {
     "data": {
      "application/vnd.jupyter.widget-view+json": {
       "model_id": "b73b08dc91654c599ded7bd32878e9c8",
       "version_major": 2,
       "version_minor": 0
      },
      "text/plain": [
       "  0%|          | 0/690 [00:00<?, ?it/s]"
      ]
     },
     "metadata": {},
     "output_type": "display_data"
    }
   ],
   "source": [
    "import pandas as pd\n",
    "import os\n",
    "from tqdm.notebook import tqdm\n",
    "\n",
    "codepConstViolations = {}\n",
    "\n",
    "def countLines(fname):\n",
    "    cnt = -1\n",
    "    with open(fname, 'r') as f:\n",
    "        for line in f:\n",
    "            cnt += 1\n",
    "    return cnt\n",
    "\n",
    "codepConstViolations = {}\n",
    "codepConstPropList = set()\n",
    "\n",
    "# codepConstViolationsSummary = {}\n",
    "\n",
    "for folder in tqdm(iter(['Mand_Sugg_Normal', 'Mand_Normal', 'Mand', 'Normal','Suggestion'])):\n",
    "    filePath = \"../../allConstraintsAnalysisWRemoved/codependencyConstraint_Final/\"+folder+\"/\"\n",
    "    for filename in tqdm(os.listdir(filePath)):\n",
    "        prop = filename.split(\".\")[1]\n",
    "        correctness = filename.split(\".\")[2]\n",
    "        if correctness not in ['correct','incorrect']:\n",
    "            continue\n",
    "        codepConstPropList.add(prop)\n",
    "        count1 = countLines(filePath+filename)\n",
    "        if folder not in codepConstViolations:\n",
    "            codepConstViolations[folder] = {}\n",
    "        if prop not in codepConstViolations[folder]:\n",
    "            codepConstViolations[folder][prop] = {'correct': 0, 'incorrect': 0, 'paths': []}\n",
    "        codepConstViolations[folder][prop][correctness] = count1\n",
    "        codepConstViolations[folder][prop]['paths'].append(filePath+filename)\n",
    "        \n",
    "#         if folder not in codepConstViolationsSummary:\n",
    "#             codepConstViolationsSummary[folder] = {'correct': 0, 'incorrect': 0}\n",
    "#         codepConstViolationsSummary[folder][correctness] += count1"
   ]
  },
  {
   "cell_type": "code",
   "execution_count": 46,
   "id": "heated-astrology",
   "metadata": {},
   "outputs": [],
   "source": [
    "codepConstViolationsSummary = {}\n",
    "for folder in codepConstViolations.keys():\n",
    "    for prop in codepConstViolations[folder].keys():\n",
    "        if folder not in codepConstViolationsSummary:\n",
    "            codepConstViolationsSummary[folder] = {'correct': 0, 'incorrect': 0, 'propCount': 0}\n",
    "        codepConstViolationsSummary[folder]['correct'] += codepConstViolations[folder][prop]['correct']\n",
    "        codepConstViolationsSummary[folder]['incorrect'] += codepConstViolations[folder][prop]['incorrect']\n",
    "        codepConstViolationsSummary[folder]['propCount'] += 1"
   ]
  },
  {
   "cell_type": "code",
   "execution_count": 47,
   "id": "grateful-catalog",
   "metadata": {},
   "outputs": [],
   "source": [
    "for elem in codepConstViolationsSummary.keys():\n",
    "    codepConstViolationsSummary[elem]['total'] = codepConstViolationsSummary[elem]['correct'] + codepConstViolationsSummary[elem]['incorrect']\n",
    "    codepConstViolationsSummary[elem]['percIncorrect'] = codepConstViolationsSummary[elem]['incorrect'] / codepConstViolationsSummary[elem]['total'] * 100"
   ]
  },
  {
   "cell_type": "code",
   "execution_count": 48,
   "id": "physical-soviet",
   "metadata": {},
   "outputs": [
    {
     "data": {
      "text/plain": [
       "{'Mand_Sugg_Normal': {'correct': 310335209,\n",
       "  'incorrect': 6204247,\n",
       "  'propCount': 2538,\n",
       "  'total': 316539456,\n",
       "  'percIncorrect': 1.9600232711589676},\n",
       " 'Mand_Normal': {'correct': 280118891,\n",
       "  'incorrect': 3724480,\n",
       "  'propCount': 2419,\n",
       "  'total': 283843371,\n",
       "  'percIncorrect': 1.3121602899790814},\n",
       " 'Mand': {'correct': 5721696,\n",
       "  'incorrect': 80247,\n",
       "  'propCount': 1089,\n",
       "  'total': 5801943,\n",
       "  'percIncorrect': 1.3831056251328218},\n",
       " 'Normal': {'correct': 279065966,\n",
       "  'incorrect': 3646780,\n",
       "  'propCount': 1925,\n",
       "  'total': 282712746,\n",
       "  'percIncorrect': 1.2899241550290768},\n",
       " 'Suggestion': {'correct': 31515015,\n",
       "  'incorrect': 2587324,\n",
       "  'propCount': 312,\n",
       "  'total': 34102339,\n",
       "  'percIncorrect': 7.586940004320525}}"
      ]
     },
     "execution_count": 48,
     "metadata": {},
     "output_type": "execute_result"
    }
   ],
   "source": [
    "codepConstViolationsSummary"
   ]
  },
  {
   "cell_type": "code",
   "execution_count": 49,
   "id": "permanent-triumph",
   "metadata": {},
   "outputs": [
    {
     "data": {
      "application/vnd.jupyter.widget-view+json": {
       "model_id": "c69632919d004e0cabb3400bda4eb036",
       "version_major": 2,
       "version_minor": 0
      },
      "text/plain": [
       "  0%|          | 0/3147 [00:00<?, ?it/s]"
      ]
     },
     "metadata": {},
     "output_type": "display_data"
    },
    {
     "name": "stdout",
     "output_type": "stream",
     "text": [
      "File: ../../propertiesSplitWRemoved/claims.P8299.tsv does not exist\n",
      "File: ../../propertiesSplitWRemoved/claims.P8529.tsv does not exist\n",
      "File: ../../propertiesSplitWRemoved/claims.P7118.tsv does not exist\n",
      "File: ../../propertiesSplitWRemoved/claims.P7119.tsv does not exist\n"
     ]
    }
   ],
   "source": [
    "mandatoryPropCount = 0\n",
    "suggestionPropCount = 0\n",
    "normalPropCount = 0\n",
    "for prop in tqdm(dfItemRequires.index.unique()):\n",
    "    if not(os.path.isfile(\"../../propertiesSplitWRemoved/claims.\"+ prop +\".tsv\")):\n",
    "        continue\n",
    "    prop = str(prop)\n",
    "    hasMandatory = False\n",
    "    hasSuggestion = False\n",
    "    hasNormal = False\n",
    "\n",
    "    for _, constraint in dfItemRequires.loc[[prop]].iterrows():\n",
    "        prop2 = constraint['P2306']\n",
    "            \n",
    "        if type(prop2) != list:\n",
    "            continue\n",
    "        prop2 = prop2[0]\n",
    "\n",
    "        if not(os.path.isfile(\"../../propertiesSplitWRemoved/claims.\"+ prop2 +\".tsv\")):\n",
    "            print(f\"File: ../../propertiesSplitWRemoved/claims.{prop2}.tsv does not exist\")\n",
    "            continue\n",
    "            \n",
    "        if type(constraint['P2316']) == list:\n",
    "            if constraint['P2316'][0] == 'Q21502408':\n",
    "                hasMandatory = True\n",
    "            elif constraint['P2316'][0] == 'Q62026391':\n",
    "                hasSuggestion = True\n",
    "        else:\n",
    "            hasNormal = True\n",
    "    if hasMandatory:\n",
    "        mandatoryPropCount += 1\n",
    "    if hasSuggestion:\n",
    "        suggestionPropCount += 1\n",
    "    if hasNormal:\n",
    "        normalPropCount += 1"
   ]
  },
  {
   "cell_type": "code",
   "execution_count": 50,
   "id": "boring-tooth",
   "metadata": {},
   "outputs": [
    {
     "name": "stdout",
     "output_type": "stream",
     "text": [
      "No. of props having at least 1 mandatory constraint: 1088\n",
      "No. of props having at least 1 suggestion constraint: 309\n",
      "No. of props having at least 1 normal constraint: 1924\n"
     ]
    }
   ],
   "source": [
    "print(f\"No. of props having at least 1 mandatory constraint: {mandatoryPropCount}\")\n",
    "print(f\"No. of props having at least 1 suggestion constraint: {suggestionPropCount}\")\n",
    "print(f\"No. of props having at least 1 normal constraint: {normalPropCount}\")"
   ]
  },
  {
   "cell_type": "markdown",
   "id": "loving-double",
   "metadata": {},
   "source": [
    "#### Version 1 - Mand Sugg Normal"
   ]
  },
  {
   "cell_type": "code",
   "execution_count": 51,
   "id": "beautiful-xerox",
   "metadata": {},
   "outputs": [],
   "source": [
    "import pandas as pd\n",
    "codepConstDF1 = pd.DataFrame(codepConstViolations['Mand_Sugg_Normal']).T"
   ]
  },
  {
   "cell_type": "code",
   "execution_count": 52,
   "id": "genetic-venezuela",
   "metadata": {},
   "outputs": [
    {
     "data": {
      "text/html": [
       "<div>\n",
       "<style scoped>\n",
       "    .dataframe tbody tr th:only-of-type {\n",
       "        vertical-align: middle;\n",
       "    }\n",
       "\n",
       "    .dataframe tbody tr th {\n",
       "        vertical-align: top;\n",
       "    }\n",
       "\n",
       "    .dataframe thead th {\n",
       "        text-align: right;\n",
       "    }\n",
       "</style>\n",
       "<table border=\"1\" class=\"dataframe\">\n",
       "  <thead>\n",
       "    <tr style=\"text-align: right;\">\n",
       "      <th></th>\n",
       "      <th>correct</th>\n",
       "      <th>incorrect</th>\n",
       "      <th>paths</th>\n",
       "    </tr>\n",
       "  </thead>\n",
       "  <tbody>\n",
       "    <tr>\n",
       "      <th>P6307</th>\n",
       "      <td>4</td>\n",
       "      <td>2</td>\n",
       "      <td>[../../allConstraintsAnalysisWRemoved/codepend...</td>\n",
       "    </tr>\n",
       "    <tr>\n",
       "      <th>P3225</th>\n",
       "      <td>31</td>\n",
       "      <td>308</td>\n",
       "      <td>[../../allConstraintsAnalysisWRemoved/codepend...</td>\n",
       "    </tr>\n",
       "    <tr>\n",
       "      <th>P1336</th>\n",
       "      <td>232</td>\n",
       "      <td>999</td>\n",
       "      <td>[../../allConstraintsAnalysisWRemoved/codepend...</td>\n",
       "    </tr>\n",
       "    <tr>\n",
       "      <th>P8810</th>\n",
       "      <td>1</td>\n",
       "      <td>0</td>\n",
       "      <td>[../../allConstraintsAnalysisWRemoved/codepend...</td>\n",
       "    </tr>\n",
       "    <tr>\n",
       "      <th>P6670</th>\n",
       "      <td>7</td>\n",
       "      <td>3</td>\n",
       "      <td>[../../allConstraintsAnalysisWRemoved/codepend...</td>\n",
       "    </tr>\n",
       "    <tr>\n",
       "      <th>...</th>\n",
       "      <td>...</td>\n",
       "      <td>...</td>\n",
       "      <td>...</td>\n",
       "    </tr>\n",
       "    <tr>\n",
       "      <th>P1884</th>\n",
       "      <td>8913</td>\n",
       "      <td>23</td>\n",
       "      <td>[../../allConstraintsAnalysisWRemoved/codepend...</td>\n",
       "    </tr>\n",
       "    <tr>\n",
       "      <th>P1886</th>\n",
       "      <td>26</td>\n",
       "      <td>3</td>\n",
       "      <td>[../../allConstraintsAnalysisWRemoved/codepend...</td>\n",
       "    </tr>\n",
       "    <tr>\n",
       "      <th>P1888</th>\n",
       "      <td>128</td>\n",
       "      <td>48</td>\n",
       "      <td>[../../allConstraintsAnalysisWRemoved/codepend...</td>\n",
       "    </tr>\n",
       "    <tr>\n",
       "      <th>P1894</th>\n",
       "      <td>38</td>\n",
       "      <td>48</td>\n",
       "      <td>[../../allConstraintsAnalysisWRemoved/codepend...</td>\n",
       "    </tr>\n",
       "    <tr>\n",
       "      <th>P1895</th>\n",
       "      <td>457</td>\n",
       "      <td>4</td>\n",
       "      <td>[../../allConstraintsAnalysisWRemoved/codepend...</td>\n",
       "    </tr>\n",
       "  </tbody>\n",
       "</table>\n",
       "<p>2538 rows × 3 columns</p>\n",
       "</div>"
      ],
      "text/plain": [
       "      correct incorrect                                              paths\n",
       "P6307       4         2  [../../allConstraintsAnalysisWRemoved/codepend...\n",
       "P3225      31       308  [../../allConstraintsAnalysisWRemoved/codepend...\n",
       "P1336     232       999  [../../allConstraintsAnalysisWRemoved/codepend...\n",
       "P8810       1         0  [../../allConstraintsAnalysisWRemoved/codepend...\n",
       "P6670       7         3  [../../allConstraintsAnalysisWRemoved/codepend...\n",
       "...       ...       ...                                                ...\n",
       "P1884    8913        23  [../../allConstraintsAnalysisWRemoved/codepend...\n",
       "P1886      26         3  [../../allConstraintsAnalysisWRemoved/codepend...\n",
       "P1888     128        48  [../../allConstraintsAnalysisWRemoved/codepend...\n",
       "P1894      38        48  [../../allConstraintsAnalysisWRemoved/codepend...\n",
       "P1895     457         4  [../../allConstraintsAnalysisWRemoved/codepend...\n",
       "\n",
       "[2538 rows x 3 columns]"
      ]
     },
     "execution_count": 52,
     "metadata": {},
     "output_type": "execute_result"
    }
   ],
   "source": [
    "codepConstDF1"
   ]
  },
  {
   "cell_type": "code",
   "execution_count": 53,
   "id": "powered-residence",
   "metadata": {},
   "outputs": [],
   "source": [
    "codepConstDF1['violation_ratio'] = codepConstDF1.apply(lambda p: p.incorrect / (p.correct + p.incorrect), axis=1)"
   ]
  },
  {
   "cell_type": "code",
   "execution_count": 54,
   "id": "chinese-pressing",
   "metadata": {},
   "outputs": [
    {
     "data": {
      "text/html": [
       "<div>\n",
       "<style scoped>\n",
       "    .dataframe tbody tr th:only-of-type {\n",
       "        vertical-align: middle;\n",
       "    }\n",
       "\n",
       "    .dataframe tbody tr th {\n",
       "        vertical-align: top;\n",
       "    }\n",
       "\n",
       "    .dataframe thead th {\n",
       "        text-align: right;\n",
       "    }\n",
       "</style>\n",
       "<table border=\"1\" class=\"dataframe\">\n",
       "  <thead>\n",
       "    <tr style=\"text-align: right;\">\n",
       "      <th></th>\n",
       "      <th>correct</th>\n",
       "      <th>incorrect</th>\n",
       "      <th>paths</th>\n",
       "      <th>violation_ratio</th>\n",
       "    </tr>\n",
       "  </thead>\n",
       "  <tbody>\n",
       "    <tr>\n",
       "      <th>P4674</th>\n",
       "      <td>0</td>\n",
       "      <td>4</td>\n",
       "      <td>[../../allConstraintsAnalysisWRemoved/codepend...</td>\n",
       "      <td>1.0</td>\n",
       "    </tr>\n",
       "    <tr>\n",
       "      <th>P4645</th>\n",
       "      <td>0</td>\n",
       "      <td>6</td>\n",
       "      <td>[../../allConstraintsAnalysisWRemoved/codepend...</td>\n",
       "      <td>1.0</td>\n",
       "    </tr>\n",
       "    <tr>\n",
       "      <th>P4334</th>\n",
       "      <td>0</td>\n",
       "      <td>1</td>\n",
       "      <td>[../../allConstraintsAnalysisWRemoved/codepend...</td>\n",
       "      <td>1.0</td>\n",
       "    </tr>\n",
       "    <tr>\n",
       "      <th>P507</th>\n",
       "      <td>0</td>\n",
       "      <td>1</td>\n",
       "      <td>[../../allConstraintsAnalysisWRemoved/codepend...</td>\n",
       "      <td>1.0</td>\n",
       "    </tr>\n",
       "    <tr>\n",
       "      <th>P2304</th>\n",
       "      <td>0</td>\n",
       "      <td>1</td>\n",
       "      <td>[../../allConstraintsAnalysisWRemoved/codepend...</td>\n",
       "      <td>1.0</td>\n",
       "    </tr>\n",
       "    <tr>\n",
       "      <th>P2586</th>\n",
       "      <td>0</td>\n",
       "      <td>1</td>\n",
       "      <td>[../../allConstraintsAnalysisWRemoved/codepend...</td>\n",
       "      <td>1.0</td>\n",
       "    </tr>\n",
       "    <tr>\n",
       "      <th>P7948</th>\n",
       "      <td>0</td>\n",
       "      <td>1</td>\n",
       "      <td>[../../allConstraintsAnalysisWRemoved/codepend...</td>\n",
       "      <td>1.0</td>\n",
       "    </tr>\n",
       "    <tr>\n",
       "      <th>P5745</th>\n",
       "      <td>0</td>\n",
       "      <td>1</td>\n",
       "      <td>[../../allConstraintsAnalysisWRemoved/codepend...</td>\n",
       "      <td>1.0</td>\n",
       "    </tr>\n",
       "    <tr>\n",
       "      <th>P7263</th>\n",
       "      <td>0</td>\n",
       "      <td>1</td>\n",
       "      <td>[../../allConstraintsAnalysisWRemoved/codepend...</td>\n",
       "      <td>1.0</td>\n",
       "    </tr>\n",
       "    <tr>\n",
       "      <th>P6645</th>\n",
       "      <td>0</td>\n",
       "      <td>2</td>\n",
       "      <td>[../../allConstraintsAnalysisWRemoved/codepend...</td>\n",
       "      <td>1.0</td>\n",
       "    </tr>\n",
       "    <tr>\n",
       "      <th>P6759</th>\n",
       "      <td>0</td>\n",
       "      <td>1</td>\n",
       "      <td>[../../allConstraintsAnalysisWRemoved/codepend...</td>\n",
       "      <td>1.0</td>\n",
       "    </tr>\n",
       "    <tr>\n",
       "      <th>P1555</th>\n",
       "      <td>0</td>\n",
       "      <td>5</td>\n",
       "      <td>[../../allConstraintsAnalysisWRemoved/codepend...</td>\n",
       "      <td>1.0</td>\n",
       "    </tr>\n",
       "    <tr>\n",
       "      <th>P8229</th>\n",
       "      <td>0</td>\n",
       "      <td>4</td>\n",
       "      <td>[../../allConstraintsAnalysisWRemoved/codepend...</td>\n",
       "      <td>1.0</td>\n",
       "    </tr>\n",
       "    <tr>\n",
       "      <th>P8280</th>\n",
       "      <td>0</td>\n",
       "      <td>1</td>\n",
       "      <td>[../../allConstraintsAnalysisWRemoved/codepend...</td>\n",
       "      <td>1.0</td>\n",
       "    </tr>\n",
       "    <tr>\n",
       "      <th>P1837</th>\n",
       "      <td>0</td>\n",
       "      <td>1</td>\n",
       "      <td>[../../allConstraintsAnalysisWRemoved/codepend...</td>\n",
       "      <td>1.0</td>\n",
       "    </tr>\n",
       "  </tbody>\n",
       "</table>\n",
       "</div>"
      ],
      "text/plain": [
       "      correct incorrect                                              paths  \\\n",
       "P4674       0         4  [../../allConstraintsAnalysisWRemoved/codepend...   \n",
       "P4645       0         6  [../../allConstraintsAnalysisWRemoved/codepend...   \n",
       "P4334       0         1  [../../allConstraintsAnalysisWRemoved/codepend...   \n",
       "P507        0         1  [../../allConstraintsAnalysisWRemoved/codepend...   \n",
       "P2304       0         1  [../../allConstraintsAnalysisWRemoved/codepend...   \n",
       "P2586       0         1  [../../allConstraintsAnalysisWRemoved/codepend...   \n",
       "P7948       0         1  [../../allConstraintsAnalysisWRemoved/codepend...   \n",
       "P5745       0         1  [../../allConstraintsAnalysisWRemoved/codepend...   \n",
       "P7263       0         1  [../../allConstraintsAnalysisWRemoved/codepend...   \n",
       "P6645       0         2  [../../allConstraintsAnalysisWRemoved/codepend...   \n",
       "P6759       0         1  [../../allConstraintsAnalysisWRemoved/codepend...   \n",
       "P1555       0         5  [../../allConstraintsAnalysisWRemoved/codepend...   \n",
       "P8229       0         4  [../../allConstraintsAnalysisWRemoved/codepend...   \n",
       "P8280       0         1  [../../allConstraintsAnalysisWRemoved/codepend...   \n",
       "P1837       0         1  [../../allConstraintsAnalysisWRemoved/codepend...   \n",
       "\n",
       "       violation_ratio  \n",
       "P4674              1.0  \n",
       "P4645              1.0  \n",
       "P4334              1.0  \n",
       "P507               1.0  \n",
       "P2304              1.0  \n",
       "P2586              1.0  \n",
       "P7948              1.0  \n",
       "P5745              1.0  \n",
       "P7263              1.0  \n",
       "P6645              1.0  \n",
       "P6759              1.0  \n",
       "P1555              1.0  \n",
       "P8229              1.0  \n",
       "P8280              1.0  \n",
       "P1837              1.0  "
      ]
     },
     "execution_count": 54,
     "metadata": {},
     "output_type": "execute_result"
    }
   ],
   "source": [
    "codepConstDF1.sort_values(by=['violation_ratio'],ascending=False).head(15)"
   ]
  },
  {
   "cell_type": "code",
   "execution_count": 55,
   "id": "armed-constitution",
   "metadata": {},
   "outputs": [
    {
     "data": {
      "text/plain": [
       "['../../allConstraintsAnalysisWRemoved/codependencyConstraint_Final/Mand_Sugg_Normal/claims.P2302.correct.tsv',\n",
       " '../../allConstraintsAnalysisWRemoved/codependencyConstraint_Final/Mand_Sugg_Normal/claims.P2302.incorrect.tsv']"
      ]
     },
     "execution_count": 55,
     "metadata": {},
     "output_type": "execute_result"
    }
   ],
   "source": [
    "list(codepConstDF1.loc['P2302']['paths'])"
   ]
  },
  {
   "cell_type": "code",
   "execution_count": 56,
   "id": "continued-desire",
   "metadata": {},
   "outputs": [
    {
     "name": "stdout",
     "output_type": "stream",
     "text": [
      "id\tnode1\tlabel\tnode2\trank\tnode2;wikidatatype\r\n",
      "P10-P2302-Q21502404-d012aef4-0\tP10\tP2302\tQ21502404\tnormal\twikibase-item\r\n",
      "P10-P2302-Q21510851-5224fe0b-0\tP10\tP2302\tQ21510851\tnormal\twikibase-item\r\n",
      "P10-P2302-Q21510852-dde2f0ce-0\tP10\tP2302\tQ21510852\tnormal\twikibase-item\r\n",
      "P10-P2302-Q52004125-d0288d06-0\tP10\tP2302\tQ52004125\tnormal\twikibase-item\r\n",
      "P10-P2302-Q53869507-974ce3b1-0\tP10\tP2302\tQ53869507\tnormal\twikibase-item\r\n",
      "P1000-P2302-Q21510856-b2772a67-0\tP1000\tP2302\tQ21510856\tnormal\twikibase-item\r\n",
      "P1000-P2302-Q21510865-1f5093e9-0\tP1000\tP2302\tQ21510865\tnormal\twikibase-item\r\n",
      "P1000-P2302-Q53869507-36dbee67-0\tP1000\tP2302\tQ53869507\tnormal\twikibase-item\r\n",
      "P1001-P2302-Q21502838-3cc7ade2-0\tP1001\tP2302\tQ21502838\tnormal\twikibase-item\r\n"
     ]
    }
   ],
   "source": [
    "!head ../../allConstraintsAnalysisWRemoved/codependencyConstraint_Final/Mand_Sugg_Normal/claims.P2302.incorrect.tsv"
   ]
  },
  {
   "cell_type": "code",
   "execution_count": 57,
   "id": "demonstrated-debut",
   "metadata": {
    "scrolled": false
   },
   "outputs": [
    {
     "data": {
      "text/html": [
       "<div>\n",
       "<style scoped>\n",
       "    .dataframe tbody tr th:only-of-type {\n",
       "        vertical-align: middle;\n",
       "    }\n",
       "\n",
       "    .dataframe tbody tr th {\n",
       "        vertical-align: top;\n",
       "    }\n",
       "\n",
       "    .dataframe thead th {\n",
       "        text-align: right;\n",
       "    }\n",
       "</style>\n",
       "<table border=\"1\" class=\"dataframe\">\n",
       "  <thead>\n",
       "    <tr style=\"text-align: right;\">\n",
       "      <th></th>\n",
       "      <th>correct</th>\n",
       "      <th>incorrect</th>\n",
       "      <th>paths</th>\n",
       "      <th>violation_ratio</th>\n",
       "    </tr>\n",
       "  </thead>\n",
       "  <tbody>\n",
       "    <tr>\n",
       "      <th>P234</th>\n",
       "      <td>7232</td>\n",
       "      <td>997624</td>\n",
       "      <td>[../../allConstraintsAnalysisWRemoved/codepend...</td>\n",
       "      <td>0.992803</td>\n",
       "    </tr>\n",
       "    <tr>\n",
       "      <th>P734</th>\n",
       "      <td>2119055</td>\n",
       "      <td>738534</td>\n",
       "      <td>[../../allConstraintsAnalysisWRemoved/codepend...</td>\n",
       "      <td>0.258447</td>\n",
       "    </tr>\n",
       "    <tr>\n",
       "      <th>P2214</th>\n",
       "      <td>2989348</td>\n",
       "      <td>721476</td>\n",
       "      <td>[../../allConstraintsAnalysisWRemoved/codepend...</td>\n",
       "      <td>0.194425</td>\n",
       "    </tr>\n",
       "    <tr>\n",
       "      <th>P433</th>\n",
       "      <td>31113458</td>\n",
       "      <td>436934</td>\n",
       "      <td>[../../allConstraintsAnalysisWRemoved/codepend...</td>\n",
       "      <td>0.013849</td>\n",
       "    </tr>\n",
       "    <tr>\n",
       "      <th>P195</th>\n",
       "      <td>1150231</td>\n",
       "      <td>401686</td>\n",
       "      <td>[../../allConstraintsAnalysisWRemoved/codepend...</td>\n",
       "      <td>0.258832</td>\n",
       "    </tr>\n",
       "    <tr>\n",
       "      <th>P569</th>\n",
       "      <td>6926852</td>\n",
       "      <td>267556</td>\n",
       "      <td>[../../allConstraintsAnalysisWRemoved/codepend...</td>\n",
       "      <td>0.037189</td>\n",
       "    </tr>\n",
       "    <tr>\n",
       "      <th>P131</th>\n",
       "      <td>11274319</td>\n",
       "      <td>200519</td>\n",
       "      <td>[../../allConstraintsAnalysisWRemoved/codepend...</td>\n",
       "      <td>0.017475</td>\n",
       "    </tr>\n",
       "    <tr>\n",
       "      <th>P275</th>\n",
       "      <td>7295</td>\n",
       "      <td>163856</td>\n",
       "      <td>[../../allConstraintsAnalysisWRemoved/codepend...</td>\n",
       "      <td>0.957377</td>\n",
       "    </tr>\n",
       "    <tr>\n",
       "      <th>P2860</th>\n",
       "      <td>174842113</td>\n",
       "      <td>152425</td>\n",
       "      <td>[../../allConstraintsAnalysisWRemoved/codepend...</td>\n",
       "      <td>0.000871</td>\n",
       "    </tr>\n",
       "    <tr>\n",
       "      <th>P570</th>\n",
       "      <td>3471930</td>\n",
       "      <td>105652</td>\n",
       "      <td>[../../allConstraintsAnalysisWRemoved/codepend...</td>\n",
       "      <td>0.029532</td>\n",
       "    </tr>\n",
       "    <tr>\n",
       "      <th>P1435</th>\n",
       "      <td>2121637</td>\n",
       "      <td>92401</td>\n",
       "      <td>[../../allConstraintsAnalysisWRemoved/codepend...</td>\n",
       "      <td>0.041734</td>\n",
       "    </tr>\n",
       "    <tr>\n",
       "      <th>P2017</th>\n",
       "      <td>86770</td>\n",
       "      <td>90445</td>\n",
       "      <td>[../../allConstraintsAnalysisWRemoved/codepend...</td>\n",
       "      <td>0.510369</td>\n",
       "    </tr>\n",
       "    <tr>\n",
       "      <th>P1376</th>\n",
       "      <td>2806</td>\n",
       "      <td>79392</td>\n",
       "      <td>[../../allConstraintsAnalysisWRemoved/codepend...</td>\n",
       "      <td>0.965863</td>\n",
       "    </tr>\n",
       "    <tr>\n",
       "      <th>P7902</th>\n",
       "      <td>12924</td>\n",
       "      <td>68302</td>\n",
       "      <td>[../../allConstraintsAnalysisWRemoved/codepend...</td>\n",
       "      <td>0.840888</td>\n",
       "    </tr>\n",
       "    <tr>\n",
       "      <th>P1922</th>\n",
       "      <td>30636</td>\n",
       "      <td>63745</td>\n",
       "      <td>[../../allConstraintsAnalysisWRemoved/codepend...</td>\n",
       "      <td>0.675401</td>\n",
       "    </tr>\n",
       "  </tbody>\n",
       "</table>\n",
       "</div>"
      ],
      "text/plain": [
       "         correct incorrect                                              paths  \\\n",
       "P234        7232    997624  [../../allConstraintsAnalysisWRemoved/codepend...   \n",
       "P734     2119055    738534  [../../allConstraintsAnalysisWRemoved/codepend...   \n",
       "P2214    2989348    721476  [../../allConstraintsAnalysisWRemoved/codepend...   \n",
       "P433    31113458    436934  [../../allConstraintsAnalysisWRemoved/codepend...   \n",
       "P195     1150231    401686  [../../allConstraintsAnalysisWRemoved/codepend...   \n",
       "P569     6926852    267556  [../../allConstraintsAnalysisWRemoved/codepend...   \n",
       "P131    11274319    200519  [../../allConstraintsAnalysisWRemoved/codepend...   \n",
       "P275        7295    163856  [../../allConstraintsAnalysisWRemoved/codepend...   \n",
       "P2860  174842113    152425  [../../allConstraintsAnalysisWRemoved/codepend...   \n",
       "P570     3471930    105652  [../../allConstraintsAnalysisWRemoved/codepend...   \n",
       "P1435    2121637     92401  [../../allConstraintsAnalysisWRemoved/codepend...   \n",
       "P2017      86770     90445  [../../allConstraintsAnalysisWRemoved/codepend...   \n",
       "P1376       2806     79392  [../../allConstraintsAnalysisWRemoved/codepend...   \n",
       "P7902      12924     68302  [../../allConstraintsAnalysisWRemoved/codepend...   \n",
       "P1922      30636     63745  [../../allConstraintsAnalysisWRemoved/codepend...   \n",
       "\n",
       "       violation_ratio  \n",
       "P234          0.992803  \n",
       "P734          0.258447  \n",
       "P2214         0.194425  \n",
       "P433          0.013849  \n",
       "P195          0.258832  \n",
       "P569          0.037189  \n",
       "P131          0.017475  \n",
       "P275          0.957377  \n",
       "P2860         0.000871  \n",
       "P570          0.029532  \n",
       "P1435         0.041734  \n",
       "P2017         0.510369  \n",
       "P1376         0.965863  \n",
       "P7902         0.840888  \n",
       "P1922         0.675401  "
      ]
     },
     "execution_count": 57,
     "metadata": {},
     "output_type": "execute_result"
    }
   ],
   "source": [
    "codepConstDF1.sort_values(by=['incorrect'],ascending=False).head(15)"
   ]
  },
  {
   "cell_type": "code",
   "execution_count": 58,
   "id": "developed-zimbabwe",
   "metadata": {
    "scrolled": true
   },
   "outputs": [
    {
     "data": {
      "text/plain": [
       "count    2538.000000\n",
       "mean        0.270460\n",
       "std         0.348561\n",
       "min         0.000000\n",
       "25%         0.000000\n",
       "50%         0.066600\n",
       "75%         0.500000\n",
       "max         1.000000\n",
       "Name: violation_ratio, dtype: float64"
      ]
     },
     "execution_count": 58,
     "metadata": {},
     "output_type": "execute_result"
    }
   ],
   "source": [
    "codepConstDF1['violation_ratio'].describe()"
   ]
  },
  {
   "cell_type": "code",
   "execution_count": 59,
   "id": "unknown-johnston",
   "metadata": {},
   "outputs": [
    {
     "data": {
      "text/plain": [
       "Text(0.5, 1.0, 'Co-Dependency Constraint - Version 1 - Violation Ratios')"
      ]
     },
     "execution_count": 59,
     "metadata": {},
     "output_type": "execute_result"
    },
    {
     "data": {
      "image/png": "[encoded data removed]",
      "text/plain": [
       "<Figure size 432x288 with 1 Axes>"
      ]
     },
     "metadata": {
      "needs_background": "light"
     },
     "output_type": "display_data"
    }
   ],
   "source": [
    "codepConstDF1['violation_ratio'].plot.hist(bins=100).set_title(\"Co-Dependency Constraint - Version 1 - Violation Ratios\")"
   ]
  },
  {
   "cell_type": "code",
   "execution_count": 60,
   "id": "exceptional-dakota",
   "metadata": {
    "scrolled": true
   },
   "outputs": [
    {
     "data": {
      "text/plain": [
       "Text(0.5, 1.0, 'Co-Dependency Constraint - Version 1 - Violation Ratios <= 0.5')"
      ]
     },
     "execution_count": 60,
     "metadata": {},
     "output_type": "execute_result"
    },
    {
     "data": {
      "image/png": "[encoded data removed]",
      "text/plain": [
       "<Figure size 432x288 with 1 Axes>"
      ]
     },
     "metadata": {
      "needs_background": "light"
     },
     "output_type": "display_data"
    }
   ],
   "source": [
    "codepConstDF1[codepConstDF1['violation_ratio'] <= 0.5].violation_ratio.plot.hist(bins=100).set_title(\"Co-Dependency Constraint - Version 1 - Violation Ratios <= 0.5\")"
   ]
  },
  {
   "cell_type": "code",
   "execution_count": 61,
   "id": "interior-joseph",
   "metadata": {},
   "outputs": [
    {
     "name": "stdout",
     "output_type": "stream",
     "text": [
      "No. of properties whose violation ratio is greater than mean: 0/2538\n"
     ]
    }
   ],
   "source": [
    "print(f\"No. of properties whose violation ratio is greater than mean: {sum(codepConstDF1['violation_ratio'] >= 3.539484)}/{len(codepConstDF1)}\")"
   ]
  },
  {
   "cell_type": "markdown",
   "id": "greater-genetics",
   "metadata": {},
   "source": [
    "#### Version 2 - Mand Normal"
   ]
  },
  {
   "cell_type": "code",
   "execution_count": 62,
   "id": "constant-chance",
   "metadata": {},
   "outputs": [],
   "source": [
    "import pandas as pd\n",
    "codepConstDF2 = pd.DataFrame(codepConstViolations['Mand_Normal']).T"
   ]
  },
  {
   "cell_type": "code",
   "execution_count": 63,
   "id": "included-adjustment",
   "metadata": {},
   "outputs": [
    {
     "data": {
      "text/html": [
       "<div>\n",
       "<style scoped>\n",
       "    .dataframe tbody tr th:only-of-type {\n",
       "        vertical-align: middle;\n",
       "    }\n",
       "\n",
       "    .dataframe tbody tr th {\n",
       "        vertical-align: top;\n",
       "    }\n",
       "\n",
       "    .dataframe thead th {\n",
       "        text-align: right;\n",
       "    }\n",
       "</style>\n",
       "<table border=\"1\" class=\"dataframe\">\n",
       "  <thead>\n",
       "    <tr style=\"text-align: right;\">\n",
       "      <th></th>\n",
       "      <th>correct</th>\n",
       "      <th>incorrect</th>\n",
       "      <th>paths</th>\n",
       "    </tr>\n",
       "  </thead>\n",
       "  <tbody>\n",
       "    <tr>\n",
       "      <th>P1006</th>\n",
       "      <td>4024</td>\n",
       "      <td>403</td>\n",
       "      <td>[../../allConstraintsAnalysisWRemoved/codepend...</td>\n",
       "    </tr>\n",
       "    <tr>\n",
       "      <th>P5878</th>\n",
       "      <td>234</td>\n",
       "      <td>0</td>\n",
       "      <td>[../../allConstraintsAnalysisWRemoved/codepend...</td>\n",
       "    </tr>\n",
       "    <tr>\n",
       "      <th>P5527</th>\n",
       "      <td>1</td>\n",
       "      <td>0</td>\n",
       "      <td>[../../allConstraintsAnalysisWRemoved/codepend...</td>\n",
       "    </tr>\n",
       "    <tr>\n",
       "      <th>P1949</th>\n",
       "      <td>19</td>\n",
       "      <td>2</td>\n",
       "      <td>[../../allConstraintsAnalysisWRemoved/codepend...</td>\n",
       "    </tr>\n",
       "    <tr>\n",
       "      <th>P2458</th>\n",
       "      <td>58</td>\n",
       "      <td>3</td>\n",
       "      <td>[../../allConstraintsAnalysisWRemoved/codepend...</td>\n",
       "    </tr>\n",
       "    <tr>\n",
       "      <th>...</th>\n",
       "      <td>...</td>\n",
       "      <td>...</td>\n",
       "      <td>...</td>\n",
       "    </tr>\n",
       "    <tr>\n",
       "      <th>P1935</th>\n",
       "      <td>1499</td>\n",
       "      <td>49</td>\n",
       "      <td>[../../allConstraintsAnalysisWRemoved/codepend...</td>\n",
       "    </tr>\n",
       "    <tr>\n",
       "      <th>P1937</th>\n",
       "      <td>199</td>\n",
       "      <td>4</td>\n",
       "      <td>[../../allConstraintsAnalysisWRemoved/codepend...</td>\n",
       "    </tr>\n",
       "    <tr>\n",
       "      <th>P1938</th>\n",
       "      <td>254</td>\n",
       "      <td>0</td>\n",
       "      <td>[../../allConstraintsAnalysisWRemoved/codepend...</td>\n",
       "    </tr>\n",
       "    <tr>\n",
       "      <th>P1939</th>\n",
       "      <td>907</td>\n",
       "      <td>1</td>\n",
       "      <td>[../../allConstraintsAnalysisWRemoved/codepend...</td>\n",
       "    </tr>\n",
       "    <tr>\n",
       "      <th>P1940</th>\n",
       "      <td>7</td>\n",
       "      <td>0</td>\n",
       "      <td>[../../allConstraintsAnalysisWRemoved/codepend...</td>\n",
       "    </tr>\n",
       "  </tbody>\n",
       "</table>\n",
       "<p>2419 rows × 3 columns</p>\n",
       "</div>"
      ],
      "text/plain": [
       "      correct incorrect                                              paths\n",
       "P1006    4024       403  [../../allConstraintsAnalysisWRemoved/codepend...\n",
       "P5878     234         0  [../../allConstraintsAnalysisWRemoved/codepend...\n",
       "P5527       1         0  [../../allConstraintsAnalysisWRemoved/codepend...\n",
       "P1949      19         2  [../../allConstraintsAnalysisWRemoved/codepend...\n",
       "P2458      58         3  [../../allConstraintsAnalysisWRemoved/codepend...\n",
       "...       ...       ...                                                ...\n",
       "P1935    1499        49  [../../allConstraintsAnalysisWRemoved/codepend...\n",
       "P1937     199         4  [../../allConstraintsAnalysisWRemoved/codepend...\n",
       "P1938     254         0  [../../allConstraintsAnalysisWRemoved/codepend...\n",
       "P1939     907         1  [../../allConstraintsAnalysisWRemoved/codepend...\n",
       "P1940       7         0  [../../allConstraintsAnalysisWRemoved/codepend...\n",
       "\n",
       "[2419 rows x 3 columns]"
      ]
     },
     "execution_count": 63,
     "metadata": {},
     "output_type": "execute_result"
    }
   ],
   "source": [
    "codepConstDF2"
   ]
  },
  {
   "cell_type": "code",
   "execution_count": 64,
   "id": "fundamental-knowing",
   "metadata": {},
   "outputs": [],
   "source": [
    "codepConstDF2['violation_ratio'] = codepConstDF2.apply(lambda p: p.incorrect / (p.correct + p.incorrect), axis=1)"
   ]
  },
  {
   "cell_type": "code",
   "execution_count": 65,
   "id": "harmful-discipline",
   "metadata": {},
   "outputs": [
    {
     "data": {
      "text/html": [
       "<div>\n",
       "<style scoped>\n",
       "    .dataframe tbody tr th:only-of-type {\n",
       "        vertical-align: middle;\n",
       "    }\n",
       "\n",
       "    .dataframe tbody tr th {\n",
       "        vertical-align: top;\n",
       "    }\n",
       "\n",
       "    .dataframe thead th {\n",
       "        text-align: right;\n",
       "    }\n",
       "</style>\n",
       "<table border=\"1\" class=\"dataframe\">\n",
       "  <thead>\n",
       "    <tr style=\"text-align: right;\">\n",
       "      <th></th>\n",
       "      <th>correct</th>\n",
       "      <th>incorrect</th>\n",
       "      <th>paths</th>\n",
       "      <th>violation_ratio</th>\n",
       "    </tr>\n",
       "  </thead>\n",
       "  <tbody>\n",
       "    <tr>\n",
       "      <th>P4668</th>\n",
       "      <td>0</td>\n",
       "      <td>1</td>\n",
       "      <td>[../../allConstraintsAnalysisWRemoved/codepend...</td>\n",
       "      <td>1.0</td>\n",
       "    </tr>\n",
       "    <tr>\n",
       "      <th>P6189</th>\n",
       "      <td>0</td>\n",
       "      <td>2</td>\n",
       "      <td>[../../allConstraintsAnalysisWRemoved/codepend...</td>\n",
       "      <td>1.0</td>\n",
       "    </tr>\n",
       "    <tr>\n",
       "      <th>P2586</th>\n",
       "      <td>0</td>\n",
       "      <td>1</td>\n",
       "      <td>[../../allConstraintsAnalysisWRemoved/codepend...</td>\n",
       "      <td>1.0</td>\n",
       "    </tr>\n",
       "    <tr>\n",
       "      <th>P3796</th>\n",
       "      <td>0</td>\n",
       "      <td>1</td>\n",
       "      <td>[../../allConstraintsAnalysisWRemoved/codepend...</td>\n",
       "      <td>1.0</td>\n",
       "    </tr>\n",
       "    <tr>\n",
       "      <th>P2863</th>\n",
       "      <td>0</td>\n",
       "      <td>4</td>\n",
       "      <td>[../../allConstraintsAnalysisWRemoved/codepend...</td>\n",
       "      <td>1.0</td>\n",
       "    </tr>\n",
       "    <tr>\n",
       "      <th>P8888</th>\n",
       "      <td>0</td>\n",
       "      <td>1</td>\n",
       "      <td>[../../allConstraintsAnalysisWRemoved/codepend...</td>\n",
       "      <td>1.0</td>\n",
       "    </tr>\n",
       "    <tr>\n",
       "      <th>P4727</th>\n",
       "      <td>0</td>\n",
       "      <td>1</td>\n",
       "      <td>[../../allConstraintsAnalysisWRemoved/codepend...</td>\n",
       "      <td>1.0</td>\n",
       "    </tr>\n",
       "    <tr>\n",
       "      <th>P5783</th>\n",
       "      <td>0</td>\n",
       "      <td>1</td>\n",
       "      <td>[../../allConstraintsAnalysisWRemoved/codepend...</td>\n",
       "      <td>1.0</td>\n",
       "    </tr>\n",
       "    <tr>\n",
       "      <th>P2489</th>\n",
       "      <td>0</td>\n",
       "      <td>12</td>\n",
       "      <td>[../../allConstraintsAnalysisWRemoved/codepend...</td>\n",
       "      <td>1.0</td>\n",
       "    </tr>\n",
       "    <tr>\n",
       "      <th>P2309</th>\n",
       "      <td>0</td>\n",
       "      <td>55</td>\n",
       "      <td>[../../allConstraintsAnalysisWRemoved/codepend...</td>\n",
       "      <td>1.0</td>\n",
       "    </tr>\n",
       "    <tr>\n",
       "      <th>P6645</th>\n",
       "      <td>0</td>\n",
       "      <td>2</td>\n",
       "      <td>[../../allConstraintsAnalysisWRemoved/codepend...</td>\n",
       "      <td>1.0</td>\n",
       "    </tr>\n",
       "    <tr>\n",
       "      <th>P2310</th>\n",
       "      <td>0</td>\n",
       "      <td>4</td>\n",
       "      <td>[../../allConstraintsAnalysisWRemoved/codepend...</td>\n",
       "      <td>1.0</td>\n",
       "    </tr>\n",
       "    <tr>\n",
       "      <th>P7882</th>\n",
       "      <td>0</td>\n",
       "      <td>1</td>\n",
       "      <td>[../../allConstraintsAnalysisWRemoved/codepend...</td>\n",
       "      <td>1.0</td>\n",
       "    </tr>\n",
       "    <tr>\n",
       "      <th>P8769</th>\n",
       "      <td>0</td>\n",
       "      <td>1</td>\n",
       "      <td>[../../allConstraintsAnalysisWRemoved/codepend...</td>\n",
       "      <td>1.0</td>\n",
       "    </tr>\n",
       "    <tr>\n",
       "      <th>P3692</th>\n",
       "      <td>0</td>\n",
       "      <td>96</td>\n",
       "      <td>[../../allConstraintsAnalysisWRemoved/codepend...</td>\n",
       "      <td>1.0</td>\n",
       "    </tr>\n",
       "  </tbody>\n",
       "</table>\n",
       "</div>"
      ],
      "text/plain": [
       "      correct incorrect                                              paths  \\\n",
       "P4668       0         1  [../../allConstraintsAnalysisWRemoved/codepend...   \n",
       "P6189       0         2  [../../allConstraintsAnalysisWRemoved/codepend...   \n",
       "P2586       0         1  [../../allConstraintsAnalysisWRemoved/codepend...   \n",
       "P3796       0         1  [../../allConstraintsAnalysisWRemoved/codepend...   \n",
       "P2863       0         4  [../../allConstraintsAnalysisWRemoved/codepend...   \n",
       "P8888       0         1  [../../allConstraintsAnalysisWRemoved/codepend...   \n",
       "P4727       0         1  [../../allConstraintsAnalysisWRemoved/codepend...   \n",
       "P5783       0         1  [../../allConstraintsAnalysisWRemoved/codepend...   \n",
       "P2489       0        12  [../../allConstraintsAnalysisWRemoved/codepend...   \n",
       "P2309       0        55  [../../allConstraintsAnalysisWRemoved/codepend...   \n",
       "P6645       0         2  [../../allConstraintsAnalysisWRemoved/codepend...   \n",
       "P2310       0         4  [../../allConstraintsAnalysisWRemoved/codepend...   \n",
       "P7882       0         1  [../../allConstraintsAnalysisWRemoved/codepend...   \n",
       "P8769       0         1  [../../allConstraintsAnalysisWRemoved/codepend...   \n",
       "P3692       0        96  [../../allConstraintsAnalysisWRemoved/codepend...   \n",
       "\n",
       "       violation_ratio  \n",
       "P4668              1.0  \n",
       "P6189              1.0  \n",
       "P2586              1.0  \n",
       "P3796              1.0  \n",
       "P2863              1.0  \n",
       "P8888              1.0  \n",
       "P4727              1.0  \n",
       "P5783              1.0  \n",
       "P2489              1.0  \n",
       "P2309              1.0  \n",
       "P6645              1.0  \n",
       "P2310              1.0  \n",
       "P7882              1.0  \n",
       "P8769              1.0  \n",
       "P3692              1.0  "
      ]
     },
     "execution_count": 65,
     "metadata": {},
     "output_type": "execute_result"
    }
   ],
   "source": [
    "codepConstDF2.sort_values(by=['violation_ratio'],ascending=False).head(15)"
   ]
  },
  {
   "cell_type": "code",
   "execution_count": 66,
   "id": "unlikely-chamber",
   "metadata": {
    "scrolled": false
   },
   "outputs": [
    {
     "data": {
      "text/html": [
       "<div>\n",
       "<style scoped>\n",
       "    .dataframe tbody tr th:only-of-type {\n",
       "        vertical-align: middle;\n",
       "    }\n",
       "\n",
       "    .dataframe tbody tr th {\n",
       "        vertical-align: top;\n",
       "    }\n",
       "\n",
       "    .dataframe thead th {\n",
       "        text-align: right;\n",
       "    }\n",
       "</style>\n",
       "<table border=\"1\" class=\"dataframe\">\n",
       "  <thead>\n",
       "    <tr style=\"text-align: right;\">\n",
       "      <th></th>\n",
       "      <th>correct</th>\n",
       "      <th>incorrect</th>\n",
       "      <th>paths</th>\n",
       "      <th>violation_ratio</th>\n",
       "    </tr>\n",
       "  </thead>\n",
       "  <tbody>\n",
       "    <tr>\n",
       "      <th>P234</th>\n",
       "      <td>7232</td>\n",
       "      <td>997624</td>\n",
       "      <td>[../../allConstraintsAnalysisWRemoved/codepend...</td>\n",
       "      <td>0.992803</td>\n",
       "    </tr>\n",
       "    <tr>\n",
       "      <th>P2214</th>\n",
       "      <td>2989348</td>\n",
       "      <td>721476</td>\n",
       "      <td>[../../allConstraintsAnalysisWRemoved/codepend...</td>\n",
       "      <td>0.194425</td>\n",
       "    </tr>\n",
       "    <tr>\n",
       "      <th>P433</th>\n",
       "      <td>31113458</td>\n",
       "      <td>436934</td>\n",
       "      <td>[../../allConstraintsAnalysisWRemoved/codepend...</td>\n",
       "      <td>0.013849</td>\n",
       "    </tr>\n",
       "    <tr>\n",
       "      <th>P275</th>\n",
       "      <td>7295</td>\n",
       "      <td>163856</td>\n",
       "      <td>[../../allConstraintsAnalysisWRemoved/codepend...</td>\n",
       "      <td>0.957377</td>\n",
       "    </tr>\n",
       "    <tr>\n",
       "      <th>P2860</th>\n",
       "      <td>174842113</td>\n",
       "      <td>152425</td>\n",
       "      <td>[../../allConstraintsAnalysisWRemoved/codepend...</td>\n",
       "      <td>0.000871</td>\n",
       "    </tr>\n",
       "    <tr>\n",
       "      <th>P1435</th>\n",
       "      <td>2121637</td>\n",
       "      <td>92401</td>\n",
       "      <td>[../../allConstraintsAnalysisWRemoved/codepend...</td>\n",
       "      <td>0.041734</td>\n",
       "    </tr>\n",
       "    <tr>\n",
       "      <th>P7902</th>\n",
       "      <td>20387</td>\n",
       "      <td>60838</td>\n",
       "      <td>[../../allConstraintsAnalysisWRemoved/codepend...</td>\n",
       "      <td>0.749006</td>\n",
       "    </tr>\n",
       "    <tr>\n",
       "      <th>P708</th>\n",
       "      <td>45718</td>\n",
       "      <td>57276</td>\n",
       "      <td>[../../allConstraintsAnalysisWRemoved/codepend...</td>\n",
       "      <td>0.556110</td>\n",
       "    </tr>\n",
       "    <tr>\n",
       "      <th>P197</th>\n",
       "      <td>122018</td>\n",
       "      <td>52917</td>\n",
       "      <td>[../../allConstraintsAnalysisWRemoved/codepend...</td>\n",
       "      <td>0.302495</td>\n",
       "    </tr>\n",
       "    <tr>\n",
       "      <th>P1598</th>\n",
       "      <td>40600</td>\n",
       "      <td>49329</td>\n",
       "      <td>[../../allConstraintsAnalysisWRemoved/codepend...</td>\n",
       "      <td>0.548533</td>\n",
       "    </tr>\n",
       "    <tr>\n",
       "      <th>P1111</th>\n",
       "      <td>1</td>\n",
       "      <td>46803</td>\n",
       "      <td>[../../allConstraintsAnalysisWRemoved/codepend...</td>\n",
       "      <td>0.999979</td>\n",
       "    </tr>\n",
       "    <tr>\n",
       "      <th>P856</th>\n",
       "      <td>1451949</td>\n",
       "      <td>43599</td>\n",
       "      <td>[../../allConstraintsAnalysisWRemoved/codepend...</td>\n",
       "      <td>0.029153</td>\n",
       "    </tr>\n",
       "    <tr>\n",
       "      <th>P2248</th>\n",
       "      <td>4025</td>\n",
       "      <td>41608</td>\n",
       "      <td>[../../allConstraintsAnalysisWRemoved/codepend...</td>\n",
       "      <td>0.911796</td>\n",
       "    </tr>\n",
       "    <tr>\n",
       "      <th>P2325</th>\n",
       "      <td>4079</td>\n",
       "      <td>40619</td>\n",
       "      <td>[../../allConstraintsAnalysisWRemoved/codepend...</td>\n",
       "      <td>0.908743</td>\n",
       "    </tr>\n",
       "    <tr>\n",
       "      <th>P2243</th>\n",
       "      <td>4035</td>\n",
       "      <td>36870</td>\n",
       "      <td>[../../allConstraintsAnalysisWRemoved/codepend...</td>\n",
       "      <td>0.901357</td>\n",
       "    </tr>\n",
       "  </tbody>\n",
       "</table>\n",
       "</div>"
      ],
      "text/plain": [
       "         correct incorrect                                              paths  \\\n",
       "P234        7232    997624  [../../allConstraintsAnalysisWRemoved/codepend...   \n",
       "P2214    2989348    721476  [../../allConstraintsAnalysisWRemoved/codepend...   \n",
       "P433    31113458    436934  [../../allConstraintsAnalysisWRemoved/codepend...   \n",
       "P275        7295    163856  [../../allConstraintsAnalysisWRemoved/codepend...   \n",
       "P2860  174842113    152425  [../../allConstraintsAnalysisWRemoved/codepend...   \n",
       "P1435    2121637     92401  [../../allConstraintsAnalysisWRemoved/codepend...   \n",
       "P7902      20387     60838  [../../allConstraintsAnalysisWRemoved/codepend...   \n",
       "P708       45718     57276  [../../allConstraintsAnalysisWRemoved/codepend...   \n",
       "P197      122018     52917  [../../allConstraintsAnalysisWRemoved/codepend...   \n",
       "P1598      40600     49329  [../../allConstraintsAnalysisWRemoved/codepend...   \n",
       "P1111          1     46803  [../../allConstraintsAnalysisWRemoved/codepend...   \n",
       "P856     1451949     43599  [../../allConstraintsAnalysisWRemoved/codepend...   \n",
       "P2248       4025     41608  [../../allConstraintsAnalysisWRemoved/codepend...   \n",
       "P2325       4079     40619  [../../allConstraintsAnalysisWRemoved/codepend...   \n",
       "P2243       4035     36870  [../../allConstraintsAnalysisWRemoved/codepend...   \n",
       "\n",
       "       violation_ratio  \n",
       "P234          0.992803  \n",
       "P2214         0.194425  \n",
       "P433          0.013849  \n",
       "P275          0.957377  \n",
       "P2860         0.000871  \n",
       "P1435         0.041734  \n",
       "P7902         0.749006  \n",
       "P708          0.556110  \n",
       "P197          0.302495  \n",
       "P1598         0.548533  \n",
       "P1111         0.999979  \n",
       "P856          0.029153  \n",
       "P2248         0.911796  \n",
       "P2325         0.908743  \n",
       "P2243         0.901357  "
      ]
     },
     "execution_count": 66,
     "metadata": {},
     "output_type": "execute_result"
    }
   ],
   "source": [
    "codepConstDF2.sort_values(by=['incorrect'],ascending=False).head(15)"
   ]
  },
  {
   "cell_type": "code",
   "execution_count": 67,
   "id": "violent-match",
   "metadata": {
    "scrolled": true
   },
   "outputs": [
    {
     "data": {
      "text/plain": [
       "count    2419.000000\n",
       "mean        0.244716\n",
       "std         0.335376\n",
       "min         0.000000\n",
       "25%         0.000000\n",
       "50%         0.041734\n",
       "75%         0.420357\n",
       "max         1.000000\n",
       "Name: violation_ratio, dtype: float64"
      ]
     },
     "execution_count": 67,
     "metadata": {},
     "output_type": "execute_result"
    }
   ],
   "source": [
    "codepConstDF2['violation_ratio'].describe()"
   ]
  },
  {
   "cell_type": "code",
   "execution_count": 68,
   "id": "educational-thickness",
   "metadata": {},
   "outputs": [
    {
     "data": {
      "text/plain": [
       "Text(0.5, 1.0, 'Co-Dependency Constraint - Version 2 - Violation Ratios')"
      ]
     },
     "execution_count": 68,
     "metadata": {},
     "output_type": "execute_result"
    },
    {
     "data": {
      "image/png": "[encoded data removed]",
      "text/plain": [
       "<Figure size 432x288 with 1 Axes>"
      ]
     },
     "metadata": {
      "needs_background": "light"
     },
     "output_type": "display_data"
    }
   ],
   "source": [
    "codepConstDF2['violation_ratio'].plot.hist(bins=100).set_title(\"Co-Dependency Constraint - Version 2 - Violation Ratios\")"
   ]
  },
  {
   "cell_type": "code",
   "execution_count": 69,
   "id": "latin-mitchell",
   "metadata": {
    "scrolled": true
   },
   "outputs": [
    {
     "data": {
      "text/plain": [
       "Text(0.5, 1.0, 'Co-Dependency Constraint - Version 2 - Violation Ratios <= 0.5')"
      ]
     },
     "execution_count": 69,
     "metadata": {},
     "output_type": "execute_result"
    },
    {
     "data": {
      "image/png": "[encoded data removed]",
      "text/plain": [
       "<Figure size 432x288 with 1 Axes>"
      ]
     },
     "metadata": {
      "needs_background": "light"
     },
     "output_type": "display_data"
    }
   ],
   "source": [
    "codepConstDF2[codepConstDF2['violation_ratio'] <= 0.5].violation_ratio.plot.hist(bins=100).set_title(\"Co-Dependency Constraint - Version 2 - Violation Ratios <= 0.5\")"
   ]
  },
  {
   "cell_type": "code",
   "execution_count": 70,
   "id": "asian-forwarding",
   "metadata": {},
   "outputs": [
    {
     "name": "stdout",
     "output_type": "stream",
     "text": [
      "No. of properties whose violation ratio is greater than mean: 0/2419\n"
     ]
    }
   ],
   "source": [
    "print(f\"No. of properties whose violation ratio is greater than mean: {sum(codepConstDF2['violation_ratio'] >= 2.290915)}/{len(codepConstDF2)}\")"
   ]
  },
  {
   "cell_type": "markdown",
   "id": "destroyed-flash",
   "metadata": {},
   "source": [
    "#### Version 3 - Mand"
   ]
  },
  {
   "cell_type": "code",
   "execution_count": 71,
   "id": "consecutive-plenty",
   "metadata": {},
   "outputs": [],
   "source": [
    "import pandas as pd\n",
    "codepConstDF3 = pd.DataFrame(codepConstViolations['Mand']).T"
   ]
  },
  {
   "cell_type": "code",
   "execution_count": 72,
   "id": "digital-mileage",
   "metadata": {},
   "outputs": [
    {
     "data": {
      "text/html": [
       "<div>\n",
       "<style scoped>\n",
       "    .dataframe tbody tr th:only-of-type {\n",
       "        vertical-align: middle;\n",
       "    }\n",
       "\n",
       "    .dataframe tbody tr th {\n",
       "        vertical-align: top;\n",
       "    }\n",
       "\n",
       "    .dataframe thead th {\n",
       "        text-align: right;\n",
       "    }\n",
       "</style>\n",
       "<table border=\"1\" class=\"dataframe\">\n",
       "  <thead>\n",
       "    <tr style=\"text-align: right;\">\n",
       "      <th></th>\n",
       "      <th>correct</th>\n",
       "      <th>incorrect</th>\n",
       "      <th>paths</th>\n",
       "    </tr>\n",
       "  </thead>\n",
       "  <tbody>\n",
       "    <tr>\n",
       "      <th>P721</th>\n",
       "      <td>32349</td>\n",
       "      <td>13</td>\n",
       "      <td>[../../allConstraintsAnalysisWRemoved/codepend...</td>\n",
       "    </tr>\n",
       "    <tr>\n",
       "      <th>P4019</th>\n",
       "      <td>11</td>\n",
       "      <td>0</td>\n",
       "      <td>[../../allConstraintsAnalysisWRemoved/codepend...</td>\n",
       "    </tr>\n",
       "    <tr>\n",
       "      <th>P3672</th>\n",
       "      <td>1</td>\n",
       "      <td>0</td>\n",
       "      <td>[../../allConstraintsAnalysisWRemoved/codepend...</td>\n",
       "    </tr>\n",
       "    <tr>\n",
       "      <th>P1808</th>\n",
       "      <td>53</td>\n",
       "      <td>2</td>\n",
       "      <td>[../../allConstraintsAnalysisWRemoved/codepend...</td>\n",
       "    </tr>\n",
       "    <tr>\n",
       "      <th>P2948</th>\n",
       "      <td>17</td>\n",
       "      <td>2</td>\n",
       "      <td>[../../allConstraintsAnalysisWRemoved/codepend...</td>\n",
       "    </tr>\n",
       "    <tr>\n",
       "      <th>...</th>\n",
       "      <td>...</td>\n",
       "      <td>...</td>\n",
       "      <td>...</td>\n",
       "    </tr>\n",
       "    <tr>\n",
       "      <th>P1770</th>\n",
       "      <td>169</td>\n",
       "      <td>3</td>\n",
       "      <td>[../../allConstraintsAnalysisWRemoved/codepend...</td>\n",
       "    </tr>\n",
       "    <tr>\n",
       "      <th>P1787</th>\n",
       "      <td>2095</td>\n",
       "      <td>1</td>\n",
       "      <td>[../../allConstraintsAnalysisWRemoved/codepend...</td>\n",
       "    </tr>\n",
       "    <tr>\n",
       "      <th>P2946</th>\n",
       "      <td>341</td>\n",
       "      <td>181</td>\n",
       "      <td>[../../allConstraintsAnalysisWRemoved/codepend...</td>\n",
       "    </tr>\n",
       "    <tr>\n",
       "      <th>P1799</th>\n",
       "      <td>23</td>\n",
       "      <td>1</td>\n",
       "      <td>[../../allConstraintsAnalysisWRemoved/codepend...</td>\n",
       "    </tr>\n",
       "    <tr>\n",
       "      <th>P1800</th>\n",
       "      <td>20</td>\n",
       "      <td>6</td>\n",
       "      <td>[../../allConstraintsAnalysisWRemoved/codepend...</td>\n",
       "    </tr>\n",
       "  </tbody>\n",
       "</table>\n",
       "<p>1089 rows × 3 columns</p>\n",
       "</div>"
      ],
      "text/plain": [
       "      correct incorrect                                              paths\n",
       "P721    32349        13  [../../allConstraintsAnalysisWRemoved/codepend...\n",
       "P4019      11         0  [../../allConstraintsAnalysisWRemoved/codepend...\n",
       "P3672       1         0  [../../allConstraintsAnalysisWRemoved/codepend...\n",
       "P1808      53         2  [../../allConstraintsAnalysisWRemoved/codepend...\n",
       "P2948      17         2  [../../allConstraintsAnalysisWRemoved/codepend...\n",
       "...       ...       ...                                                ...\n",
       "P1770     169         3  [../../allConstraintsAnalysisWRemoved/codepend...\n",
       "P1787    2095         1  [../../allConstraintsAnalysisWRemoved/codepend...\n",
       "P2946     341       181  [../../allConstraintsAnalysisWRemoved/codepend...\n",
       "P1799      23         1  [../../allConstraintsAnalysisWRemoved/codepend...\n",
       "P1800      20         6  [../../allConstraintsAnalysisWRemoved/codepend...\n",
       "\n",
       "[1089 rows x 3 columns]"
      ]
     },
     "execution_count": 72,
     "metadata": {},
     "output_type": "execute_result"
    }
   ],
   "source": [
    "codepConstDF3"
   ]
  },
  {
   "cell_type": "code",
   "execution_count": 73,
   "id": "formed-battle",
   "metadata": {},
   "outputs": [],
   "source": [
    "codepConstDF3['violation_ratio'] = codepConstDF3.apply(lambda p: p.incorrect / p.correct if p.correct != 0 else p.incorrect/100, axis=1)"
   ]
  },
  {
   "cell_type": "code",
   "execution_count": 74,
   "id": "numerous-construction",
   "metadata": {},
   "outputs": [
    {
     "data": {
      "text/html": [
       "<div>\n",
       "<style scoped>\n",
       "    .dataframe tbody tr th:only-of-type {\n",
       "        vertical-align: middle;\n",
       "    }\n",
       "\n",
       "    .dataframe tbody tr th {\n",
       "        vertical-align: top;\n",
       "    }\n",
       "\n",
       "    .dataframe thead th {\n",
       "        text-align: right;\n",
       "    }\n",
       "</style>\n",
       "<table border=\"1\" class=\"dataframe\">\n",
       "  <thead>\n",
       "    <tr style=\"text-align: right;\">\n",
       "      <th></th>\n",
       "      <th>correct</th>\n",
       "      <th>incorrect</th>\n",
       "      <th>paths</th>\n",
       "      <th>violation_ratio</th>\n",
       "    </tr>\n",
       "  </thead>\n",
       "  <tbody>\n",
       "    <tr>\n",
       "      <th>P3823</th>\n",
       "      <td>55</td>\n",
       "      <td>7348</td>\n",
       "      <td>[../../allConstraintsAnalysisWRemoved/codepend...</td>\n",
       "      <td>133.600000</td>\n",
       "    </tr>\n",
       "    <tr>\n",
       "      <th>P5051</th>\n",
       "      <td>2</td>\n",
       "      <td>79</td>\n",
       "      <td>[../../allConstraintsAnalysisWRemoved/codepend...</td>\n",
       "      <td>39.500000</td>\n",
       "    </tr>\n",
       "    <tr>\n",
       "      <th>P8613</th>\n",
       "      <td>2</td>\n",
       "      <td>43</td>\n",
       "      <td>[../../allConstraintsAnalysisWRemoved/codepend...</td>\n",
       "      <td>21.500000</td>\n",
       "    </tr>\n",
       "    <tr>\n",
       "      <th>P219</th>\n",
       "      <td>17</td>\n",
       "      <td>98</td>\n",
       "      <td>[../../allConstraintsAnalysisWRemoved/codepend...</td>\n",
       "      <td>5.764706</td>\n",
       "    </tr>\n",
       "    <tr>\n",
       "      <th>P2431</th>\n",
       "      <td>1</td>\n",
       "      <td>5</td>\n",
       "      <td>[../../allConstraintsAnalysisWRemoved/codepend...</td>\n",
       "      <td>5.000000</td>\n",
       "    </tr>\n",
       "    <tr>\n",
       "      <th>P2482</th>\n",
       "      <td>1</td>\n",
       "      <td>5</td>\n",
       "      <td>[../../allConstraintsAnalysisWRemoved/codepend...</td>\n",
       "      <td>5.000000</td>\n",
       "    </tr>\n",
       "    <tr>\n",
       "      <th>P2685</th>\n",
       "      <td>9</td>\n",
       "      <td>43</td>\n",
       "      <td>[../../allConstraintsAnalysisWRemoved/codepend...</td>\n",
       "      <td>4.777778</td>\n",
       "    </tr>\n",
       "    <tr>\n",
       "      <th>P3220</th>\n",
       "      <td>1</td>\n",
       "      <td>4</td>\n",
       "      <td>[../../allConstraintsAnalysisWRemoved/codepend...</td>\n",
       "      <td>4.000000</td>\n",
       "    </tr>\n",
       "    <tr>\n",
       "      <th>P4069</th>\n",
       "      <td>1</td>\n",
       "      <td>4</td>\n",
       "      <td>[../../allConstraintsAnalysisWRemoved/codepend...</td>\n",
       "      <td>4.000000</td>\n",
       "    </tr>\n",
       "    <tr>\n",
       "      <th>P1959</th>\n",
       "      <td>10</td>\n",
       "      <td>39</td>\n",
       "      <td>[../../allConstraintsAnalysisWRemoved/codepend...</td>\n",
       "      <td>3.900000</td>\n",
       "    </tr>\n",
       "    <tr>\n",
       "      <th>P2432</th>\n",
       "      <td>1</td>\n",
       "      <td>3</td>\n",
       "      <td>[../../allConstraintsAnalysisWRemoved/codepend...</td>\n",
       "      <td>3.000000</td>\n",
       "    </tr>\n",
       "    <tr>\n",
       "      <th>P7902</th>\n",
       "      <td>20387</td>\n",
       "      <td>60838</td>\n",
       "      <td>[../../allConstraintsAnalysisWRemoved/codepend...</td>\n",
       "      <td>2.984157</td>\n",
       "    </tr>\n",
       "    <tr>\n",
       "      <th>P3421</th>\n",
       "      <td>6</td>\n",
       "      <td>15</td>\n",
       "      <td>[../../allConstraintsAnalysisWRemoved/codepend...</td>\n",
       "      <td>2.500000</td>\n",
       "    </tr>\n",
       "    <tr>\n",
       "      <th>P778</th>\n",
       "      <td>38</td>\n",
       "      <td>91</td>\n",
       "      <td>[../../allConstraintsAnalysisWRemoved/codepend...</td>\n",
       "      <td>2.394737</td>\n",
       "    </tr>\n",
       "    <tr>\n",
       "      <th>P2252</th>\n",
       "      <td>30</td>\n",
       "      <td>69</td>\n",
       "      <td>[../../allConstraintsAnalysisWRemoved/codepend...</td>\n",
       "      <td>2.300000</td>\n",
       "    </tr>\n",
       "  </tbody>\n",
       "</table>\n",
       "</div>"
      ],
      "text/plain": [
       "      correct incorrect                                              paths  \\\n",
       "P3823      55      7348  [../../allConstraintsAnalysisWRemoved/codepend...   \n",
       "P5051       2        79  [../../allConstraintsAnalysisWRemoved/codepend...   \n",
       "P8613       2        43  [../../allConstraintsAnalysisWRemoved/codepend...   \n",
       "P219       17        98  [../../allConstraintsAnalysisWRemoved/codepend...   \n",
       "P2431       1         5  [../../allConstraintsAnalysisWRemoved/codepend...   \n",
       "P2482       1         5  [../../allConstraintsAnalysisWRemoved/codepend...   \n",
       "P2685       9        43  [../../allConstraintsAnalysisWRemoved/codepend...   \n",
       "P3220       1         4  [../../allConstraintsAnalysisWRemoved/codepend...   \n",
       "P4069       1         4  [../../allConstraintsAnalysisWRemoved/codepend...   \n",
       "P1959      10        39  [../../allConstraintsAnalysisWRemoved/codepend...   \n",
       "P2432       1         3  [../../allConstraintsAnalysisWRemoved/codepend...   \n",
       "P7902   20387     60838  [../../allConstraintsAnalysisWRemoved/codepend...   \n",
       "P3421       6        15  [../../allConstraintsAnalysisWRemoved/codepend...   \n",
       "P778       38        91  [../../allConstraintsAnalysisWRemoved/codepend...   \n",
       "P2252      30        69  [../../allConstraintsAnalysisWRemoved/codepend...   \n",
       "\n",
       "       violation_ratio  \n",
       "P3823       133.600000  \n",
       "P5051        39.500000  \n",
       "P8613        21.500000  \n",
       "P219          5.764706  \n",
       "P2431         5.000000  \n",
       "P2482         5.000000  \n",
       "P2685         4.777778  \n",
       "P3220         4.000000  \n",
       "P4069         4.000000  \n",
       "P1959         3.900000  \n",
       "P2432         3.000000  \n",
       "P7902         2.984157  \n",
       "P3421         2.500000  \n",
       "P778          2.394737  \n",
       "P2252         2.300000  "
      ]
     },
     "execution_count": 74,
     "metadata": {},
     "output_type": "execute_result"
    }
   ],
   "source": [
    "codepConstDF3.sort_values(by=['violation_ratio'],ascending=False).head(15)"
   ]
  },
  {
   "cell_type": "code",
   "execution_count": 75,
   "id": "identified-marble",
   "metadata": {},
   "outputs": [
    {
     "data": {
      "text/plain": [
       "correct                                                         2935\n",
       "incorrect                                                         79\n",
       "paths              [../../allConstraintsAnalysisWRemoved/codepend...\n",
       "violation_ratio                                             0.026917\n",
       "Name: P1713, dtype: object"
      ]
     },
     "execution_count": 75,
     "metadata": {},
     "output_type": "execute_result"
    }
   ],
   "source": [
    "codepConstDF3.loc['P1713']"
   ]
  },
  {
   "cell_type": "code",
   "execution_count": 76,
   "id": "established-mounting",
   "metadata": {},
   "outputs": [
    {
     "name": "stdout",
     "output_type": "stream",
     "text": [
      "id\tnode1\tlabel\tnode2\trank\tnode2;wikidatatype\r\n",
      "Q4681882-P1713-d878eb-9fff460e-0\tQ4681882\tP1713\t\"https://heightnetworth.com/adele-givens-net-worth-2020/\"\tnormal\turl\r\n",
      "Q1763529-P1713-c190308f-q1763529$ffe0aa48-c924-4913-ad50-343dc2d666f1-0\tQ1763529\tP1713\thttp://www.bundestag.de/bundestag/abgeordnete18/biografien/H/heck_stefan/258446\t\t\r\n",
      "Q2571287-P1713-6ac225c1-q2571287$bb1e6912-f58f-4106-be9c-55ad68bde759-0\tQ2571287\tP1713\thttp://www.bundestag.de/bundestag/abgeordnete18/biografien/L/lorenz_wilfried/258666\t\t\r\n",
      "Q41019201-P1713-16045f49-q41019201$f550afb5-9a1e-4e19-b3cf-7cacc61a2e9e-0\tQ41019201\tP1713\thttps://www.bundestag.de/abgeordnete/biografien/P/-/522580\t\t\r\n",
      "Q41105197-P1713-5ed2f31e-q41105197$d493bc2d-023b-4e2f-babc-221a3e720054-0\tQ41105197\tP1713\thttps://www.bundestag.de/abgeordnete/biografien/S/-/523620\t\t\r\n",
      "Q41160336-P1713-72b7c975-q41160336$7b946af4-7cb4-4dc8-8a98-6534fb729a4a-0\tQ41160336\tP1713\thttps://www.bundestag.de/abgeordnete/biografien/C/-/518870\t\t\r\n",
      "Q41356018-P1713-02640366-q41356018$5e59f8fa-cb0a-4abe-9a90-ad9e82a474c4-0\tQ41356018\tP1713\thttps://www.bundestag.de/abgeordnete/biografien/O/-/522500\t\t\r\n",
      "Q41435421-P1713-7c3cb808-q41435421$38660da2-d639-43fc-9adf-614771a29db9-0\tQ41435421\tP1713\thttps://www.bundestag.de/abgeordnete/biografien/M/muenz_volker/522234\t\t\r\n",
      "Q29946731-P1713-c997a778-q29946731$5e3c92ab-a298-4fb6-a49c-8e57816275c4-0\tQ29946731\tP1713\thttps://www.bundestag.de/abgeordnete/biografien/R/-/522880\t\t\r\n"
     ]
    }
   ],
   "source": [
    "!head ../../allConstraintsAnalysisWRemoved/codependencyConstraint_Final/Mand/claims.P1713.incorrect.tsv"
   ]
  },
  {
   "cell_type": "code",
   "execution_count": 77,
   "id": "naval-functionality",
   "metadata": {},
   "outputs": [
    {
     "name": "stdout",
     "output_type": "stream",
     "text": [
      "cat: ../../allConstraintsAnalysisWRemoved/codependencyConstraint/Mand/claims.P1713.incorrect.tsv: No such file or directory\r\n"
     ]
    }
   ],
   "source": [
    "!cat ../../allConstraintsAnalysisWRemoved/codependencyConstraint/Mand/claims.P1713.incorrect.tsv"
   ]
  },
  {
   "cell_type": "code",
   "execution_count": 78,
   "id": "imposed-bibliography",
   "metadata": {
    "scrolled": false
   },
   "outputs": [
    {
     "data": {
      "text/html": [
       "<div>\n",
       "<style scoped>\n",
       "    .dataframe tbody tr th:only-of-type {\n",
       "        vertical-align: middle;\n",
       "    }\n",
       "\n",
       "    .dataframe tbody tr th {\n",
       "        vertical-align: top;\n",
       "    }\n",
       "\n",
       "    .dataframe thead th {\n",
       "        text-align: right;\n",
       "    }\n",
       "</style>\n",
       "<table border=\"1\" class=\"dataframe\">\n",
       "  <thead>\n",
       "    <tr style=\"text-align: right;\">\n",
       "      <th></th>\n",
       "      <th>correct</th>\n",
       "      <th>incorrect</th>\n",
       "      <th>paths</th>\n",
       "      <th>violation_ratio</th>\n",
       "    </tr>\n",
       "  </thead>\n",
       "  <tbody>\n",
       "    <tr>\n",
       "      <th>P7902</th>\n",
       "      <td>20387</td>\n",
       "      <td>60838</td>\n",
       "      <td>[../../allConstraintsAnalysisWRemoved/codepend...</td>\n",
       "      <td>2.984157</td>\n",
       "    </tr>\n",
       "    <tr>\n",
       "      <th>P3823</th>\n",
       "      <td>55</td>\n",
       "      <td>7348</td>\n",
       "      <td>[../../allConstraintsAnalysisWRemoved/codepend...</td>\n",
       "      <td>133.600000</td>\n",
       "    </tr>\n",
       "    <tr>\n",
       "      <th>P141</th>\n",
       "      <td>131232</td>\n",
       "      <td>3270</td>\n",
       "      <td>[../../allConstraintsAnalysisWRemoved/codepend...</td>\n",
       "      <td>0.024918</td>\n",
       "    </tr>\n",
       "    <tr>\n",
       "      <th>P428</th>\n",
       "      <td>2655</td>\n",
       "      <td>1223</td>\n",
       "      <td>[../../allConstraintsAnalysisWRemoved/codepend...</td>\n",
       "      <td>0.460640</td>\n",
       "    </tr>\n",
       "    <tr>\n",
       "      <th>P1087</th>\n",
       "      <td>3774635</td>\n",
       "      <td>1210</td>\n",
       "      <td>[../../allConstraintsAnalysisWRemoved/codepend...</td>\n",
       "      <td>0.000321</td>\n",
       "    </tr>\n",
       "    <tr>\n",
       "      <th>P3647</th>\n",
       "      <td>407</td>\n",
       "      <td>510</td>\n",
       "      <td>[../../allConstraintsAnalysisWRemoved/codepend...</td>\n",
       "      <td>1.253071</td>\n",
       "    </tr>\n",
       "    <tr>\n",
       "      <th>P7959</th>\n",
       "      <td>657006</td>\n",
       "      <td>322</td>\n",
       "      <td>[../../allConstraintsAnalysisWRemoved/codepend...</td>\n",
       "      <td>0.000490</td>\n",
       "    </tr>\n",
       "    <tr>\n",
       "      <th>P380</th>\n",
       "      <td>2151</td>\n",
       "      <td>296</td>\n",
       "      <td>[../../allConstraintsAnalysisWRemoved/codepend...</td>\n",
       "      <td>0.137610</td>\n",
       "    </tr>\n",
       "    <tr>\n",
       "      <th>P3963</th>\n",
       "      <td>5997</td>\n",
       "      <td>281</td>\n",
       "      <td>[../../allConstraintsAnalysisWRemoved/codepend...</td>\n",
       "      <td>0.046857</td>\n",
       "    </tr>\n",
       "    <tr>\n",
       "      <th>P3371</th>\n",
       "      <td>903</td>\n",
       "      <td>183</td>\n",
       "      <td>[../../allConstraintsAnalysisWRemoved/codepend...</td>\n",
       "      <td>0.202658</td>\n",
       "    </tr>\n",
       "    <tr>\n",
       "      <th>P2946</th>\n",
       "      <td>341</td>\n",
       "      <td>181</td>\n",
       "      <td>[../../allConstraintsAnalysisWRemoved/codepend...</td>\n",
       "      <td>0.530792</td>\n",
       "    </tr>\n",
       "    <tr>\n",
       "      <th>P359</th>\n",
       "      <td>5375</td>\n",
       "      <td>171</td>\n",
       "      <td>[../../allConstraintsAnalysisWRemoved/codepend...</td>\n",
       "      <td>0.031814</td>\n",
       "    </tr>\n",
       "    <tr>\n",
       "      <th>P3318</th>\n",
       "      <td>278</td>\n",
       "      <td>167</td>\n",
       "      <td>[../../allConstraintsAnalysisWRemoved/codepend...</td>\n",
       "      <td>0.600719</td>\n",
       "    </tr>\n",
       "    <tr>\n",
       "      <th>P8425</th>\n",
       "      <td>241</td>\n",
       "      <td>165</td>\n",
       "      <td>[../../allConstraintsAnalysisWRemoved/codepend...</td>\n",
       "      <td>0.684647</td>\n",
       "    </tr>\n",
       "    <tr>\n",
       "      <th>P1954</th>\n",
       "      <td>1377</td>\n",
       "      <td>164</td>\n",
       "      <td>[../../allConstraintsAnalysisWRemoved/codepend...</td>\n",
       "      <td>0.119099</td>\n",
       "    </tr>\n",
       "  </tbody>\n",
       "</table>\n",
       "</div>"
      ],
      "text/plain": [
       "       correct incorrect                                              paths  \\\n",
       "P7902    20387     60838  [../../allConstraintsAnalysisWRemoved/codepend...   \n",
       "P3823       55      7348  [../../allConstraintsAnalysisWRemoved/codepend...   \n",
       "P141    131232      3270  [../../allConstraintsAnalysisWRemoved/codepend...   \n",
       "P428      2655      1223  [../../allConstraintsAnalysisWRemoved/codepend...   \n",
       "P1087  3774635      1210  [../../allConstraintsAnalysisWRemoved/codepend...   \n",
       "P3647      407       510  [../../allConstraintsAnalysisWRemoved/codepend...   \n",
       "P7959   657006       322  [../../allConstraintsAnalysisWRemoved/codepend...   \n",
       "P380      2151       296  [../../allConstraintsAnalysisWRemoved/codepend...   \n",
       "P3963     5997       281  [../../allConstraintsAnalysisWRemoved/codepend...   \n",
       "P3371      903       183  [../../allConstraintsAnalysisWRemoved/codepend...   \n",
       "P2946      341       181  [../../allConstraintsAnalysisWRemoved/codepend...   \n",
       "P359      5375       171  [../../allConstraintsAnalysisWRemoved/codepend...   \n",
       "P3318      278       167  [../../allConstraintsAnalysisWRemoved/codepend...   \n",
       "P8425      241       165  [../../allConstraintsAnalysisWRemoved/codepend...   \n",
       "P1954     1377       164  [../../allConstraintsAnalysisWRemoved/codepend...   \n",
       "\n",
       "       violation_ratio  \n",
       "P7902         2.984157  \n",
       "P3823       133.600000  \n",
       "P141          0.024918  \n",
       "P428          0.460640  \n",
       "P1087         0.000321  \n",
       "P3647         1.253071  \n",
       "P7959         0.000490  \n",
       "P380          0.137610  \n",
       "P3963         0.046857  \n",
       "P3371         0.202658  \n",
       "P2946         0.530792  \n",
       "P359          0.031814  \n",
       "P3318         0.600719  \n",
       "P8425         0.684647  \n",
       "P1954         0.119099  "
      ]
     },
     "execution_count": 78,
     "metadata": {},
     "output_type": "execute_result"
    }
   ],
   "source": [
    "codepConstDF3.sort_values(by=['incorrect'],ascending=False).head(15)"
   ]
  },
  {
   "cell_type": "code",
   "execution_count": 79,
   "id": "emotional-crown",
   "metadata": {
    "scrolled": true
   },
   "outputs": [
    {
     "data": {
      "text/plain": [
       "count    1089.000000\n",
       "mean        0.298588\n",
       "std         4.291846\n",
       "min         0.000000\n",
       "25%         0.000000\n",
       "50%         0.000000\n",
       "75%         0.018405\n",
       "max       133.600000\n",
       "Name: violation_ratio, dtype: float64"
      ]
     },
     "execution_count": 79,
     "metadata": {},
     "output_type": "execute_result"
    }
   ],
   "source": [
    "codepConstDF3['violation_ratio'].describe()"
   ]
  },
  {
   "cell_type": "code",
   "execution_count": 80,
   "id": "certain-freeze",
   "metadata": {},
   "outputs": [
    {
     "data": {
      "text/plain": [
       "Text(0.5, 1.0, 'Co-Dependency Constraint - Version 3 - Violation Ratios')"
      ]
     },
     "execution_count": 80,
     "metadata": {},
     "output_type": "execute_result"
    },
    {
     "data": {
      "image/png": "[encoded data removed]",
      "text/plain": [
       "<Figure size 432x288 with 1 Axes>"
      ]
     },
     "metadata": {
      "needs_background": "light"
     },
     "output_type": "display_data"
    }
   ],
   "source": [
    "codepConstDF3['violation_ratio'].plot.hist(bins=100).set_title(\"Co-Dependency Constraint - Version 3 - Violation Ratios\")"
   ]
  },
  {
   "cell_type": "code",
   "execution_count": 81,
   "id": "cooperative-ownership",
   "metadata": {
    "scrolled": true
   },
   "outputs": [
    {
     "data": {
      "text/plain": [
       "Text(0.5, 1.0, 'Co-Dependency Constraint - Version 3 - Violation Ratios <= 0.0005')"
      ]
     },
     "execution_count": 81,
     "metadata": {},
     "output_type": "execute_result"
    },
    {
     "data": {
      "image/png": "[encoded data removed]",
      "text/plain": [
       "<Figure size 432x288 with 1 Axes>"
      ]
     },
     "metadata": {
      "needs_background": "light"
     },
     "output_type": "display_data"
    }
   ],
   "source": [
    "codepConstDF3[codepConstDF3['violation_ratio'] <= 0.0005].violation_ratio.plot.hist(bins=100).set_title(\"Co-Dependency Constraint - Version 3 - Violation Ratios <= 0.0005\")"
   ]
  },
  {
   "cell_type": "code",
   "execution_count": 82,
   "id": "studied-inclusion",
   "metadata": {},
   "outputs": [
    {
     "name": "stdout",
     "output_type": "stream",
     "text": [
      "No. of properties whose violation ratio is greater than mean: 44/1089\n"
     ]
    }
   ],
   "source": [
    "print(f\"No. of properties whose violation ratio is greater than mean: {sum(codepConstDF3['violation_ratio'] >= 0.922928)}/{len(codepConstDF3)}\")"
   ]
  },
  {
   "cell_type": "markdown",
   "id": "protective-brazil",
   "metadata": {},
   "source": [
    "#### Version 4 - Normal"
   ]
  },
  {
   "cell_type": "code",
   "execution_count": 83,
   "id": "laughing-pressing",
   "metadata": {},
   "outputs": [],
   "source": [
    "import pandas as pd\n",
    "codepConstDF4 = pd.DataFrame(codepConstViolations['Normal']).T"
   ]
  },
  {
   "cell_type": "code",
   "execution_count": 84,
   "id": "loving-swift",
   "metadata": {},
   "outputs": [
    {
     "data": {
      "text/html": [
       "<div>\n",
       "<style scoped>\n",
       "    .dataframe tbody tr th:only-of-type {\n",
       "        vertical-align: middle;\n",
       "    }\n",
       "\n",
       "    .dataframe tbody tr th {\n",
       "        vertical-align: top;\n",
       "    }\n",
       "\n",
       "    .dataframe thead th {\n",
       "        text-align: right;\n",
       "    }\n",
       "</style>\n",
       "<table border=\"1\" class=\"dataframe\">\n",
       "  <thead>\n",
       "    <tr style=\"text-align: right;\">\n",
       "      <th></th>\n",
       "      <th>correct</th>\n",
       "      <th>incorrect</th>\n",
       "      <th>paths</th>\n",
       "    </tr>\n",
       "  </thead>\n",
       "  <tbody>\n",
       "    <tr>\n",
       "      <th>P1404</th>\n",
       "      <td>13</td>\n",
       "      <td>1</td>\n",
       "      <td>[../../allConstraintsAnalysisWRemoved/codepend...</td>\n",
       "    </tr>\n",
       "    <tr>\n",
       "      <th>P2100</th>\n",
       "      <td>364</td>\n",
       "      <td>97</td>\n",
       "      <td>[../../allConstraintsAnalysisWRemoved/codepend...</td>\n",
       "    </tr>\n",
       "    <tr>\n",
       "      <th>P3862</th>\n",
       "      <td>7</td>\n",
       "      <td>1</td>\n",
       "      <td>[../../allConstraintsAnalysisWRemoved/codepend...</td>\n",
       "    </tr>\n",
       "    <tr>\n",
       "      <th>P6769</th>\n",
       "      <td>31</td>\n",
       "      <td>0</td>\n",
       "      <td>[../../allConstraintsAnalysisWRemoved/codepend...</td>\n",
       "    </tr>\n",
       "    <tr>\n",
       "      <th>P4474</th>\n",
       "      <td>2</td>\n",
       "      <td>0</td>\n",
       "      <td>[../../allConstraintsAnalysisWRemoved/codepend...</td>\n",
       "    </tr>\n",
       "    <tr>\n",
       "      <th>...</th>\n",
       "      <td>...</td>\n",
       "      <td>...</td>\n",
       "      <td>...</td>\n",
       "    </tr>\n",
       "    <tr>\n",
       "      <th>P8174</th>\n",
       "      <td>367</td>\n",
       "      <td>1</td>\n",
       "      <td>[../../allConstraintsAnalysisWRemoved/codepend...</td>\n",
       "    </tr>\n",
       "    <tr>\n",
       "      <th>P2778</th>\n",
       "      <td>1</td>\n",
       "      <td>2</td>\n",
       "      <td>[../../allConstraintsAnalysisWRemoved/codepend...</td>\n",
       "    </tr>\n",
       "    <tr>\n",
       "      <th>P5418</th>\n",
       "      <td>3</td>\n",
       "      <td>1</td>\n",
       "      <td>[../../allConstraintsAnalysisWRemoved/codepend...</td>\n",
       "    </tr>\n",
       "    <tr>\n",
       "      <th>P2783</th>\n",
       "      <td>26</td>\n",
       "      <td>0</td>\n",
       "      <td>[../../allConstraintsAnalysisWRemoved/codepend...</td>\n",
       "    </tr>\n",
       "    <tr>\n",
       "      <th>P8177</th>\n",
       "      <td>1</td>\n",
       "      <td>0</td>\n",
       "      <td>[../../allConstraintsAnalysisWRemoved/codepend...</td>\n",
       "    </tr>\n",
       "  </tbody>\n",
       "</table>\n",
       "<p>1925 rows × 3 columns</p>\n",
       "</div>"
      ],
      "text/plain": [
       "      correct incorrect                                              paths\n",
       "P1404      13         1  [../../allConstraintsAnalysisWRemoved/codepend...\n",
       "P2100     364        97  [../../allConstraintsAnalysisWRemoved/codepend...\n",
       "P3862       7         1  [../../allConstraintsAnalysisWRemoved/codepend...\n",
       "P6769      31         0  [../../allConstraintsAnalysisWRemoved/codepend...\n",
       "P4474       2         0  [../../allConstraintsAnalysisWRemoved/codepend...\n",
       "...       ...       ...                                                ...\n",
       "P8174     367         1  [../../allConstraintsAnalysisWRemoved/codepend...\n",
       "P2778       1         2  [../../allConstraintsAnalysisWRemoved/codepend...\n",
       "P5418       3         1  [../../allConstraintsAnalysisWRemoved/codepend...\n",
       "P2783      26         0  [../../allConstraintsAnalysisWRemoved/codepend...\n",
       "P8177       1         0  [../../allConstraintsAnalysisWRemoved/codepend...\n",
       "\n",
       "[1925 rows x 3 columns]"
      ]
     },
     "execution_count": 84,
     "metadata": {},
     "output_type": "execute_result"
    }
   ],
   "source": [
    "codepConstDF4"
   ]
  },
  {
   "cell_type": "code",
   "execution_count": 85,
   "id": "north-christian",
   "metadata": {},
   "outputs": [],
   "source": [
    "codepConstDF4['violation_ratio'] = codepConstDF4.apply(lambda p: p.incorrect / p.correct if p.correct != 0 else p.incorrect/100, axis=1)"
   ]
  },
  {
   "cell_type": "code",
   "execution_count": 86,
   "id": "closing-causing",
   "metadata": {},
   "outputs": [
    {
     "data": {
      "text/html": [
       "<div>\n",
       "<style scoped>\n",
       "    .dataframe tbody tr th:only-of-type {\n",
       "        vertical-align: middle;\n",
       "    }\n",
       "\n",
       "    .dataframe tbody tr th {\n",
       "        vertical-align: top;\n",
       "    }\n",
       "\n",
       "    .dataframe thead th {\n",
       "        text-align: right;\n",
       "    }\n",
       "</style>\n",
       "<table border=\"1\" class=\"dataframe\">\n",
       "  <thead>\n",
       "    <tr style=\"text-align: right;\">\n",
       "      <th></th>\n",
       "      <th>correct</th>\n",
       "      <th>incorrect</th>\n",
       "      <th>paths</th>\n",
       "      <th>violation_ratio</th>\n",
       "    </tr>\n",
       "  </thead>\n",
       "  <tbody>\n",
       "    <tr>\n",
       "      <th>P1111</th>\n",
       "      <td>1</td>\n",
       "      <td>46803</td>\n",
       "      <td>[../../allConstraintsAnalysisWRemoved/codepend...</td>\n",
       "      <td>46803.000000</td>\n",
       "    </tr>\n",
       "    <tr>\n",
       "      <th>P374</th>\n",
       "      <td>3</td>\n",
       "      <td>2542</td>\n",
       "      <td>[../../allConstraintsAnalysisWRemoved/codepend...</td>\n",
       "      <td>847.333333</td>\n",
       "    </tr>\n",
       "    <tr>\n",
       "      <th>P1116</th>\n",
       "      <td>8</td>\n",
       "      <td>3199</td>\n",
       "      <td>[../../allConstraintsAnalysisWRemoved/codepend...</td>\n",
       "      <td>399.875000</td>\n",
       "    </tr>\n",
       "    <tr>\n",
       "      <th>P769</th>\n",
       "      <td>5</td>\n",
       "      <td>1851</td>\n",
       "      <td>[../../allConstraintsAnalysisWRemoved/codepend...</td>\n",
       "      <td>370.200000</td>\n",
       "    </tr>\n",
       "    <tr>\n",
       "      <th>P2643</th>\n",
       "      <td>48</td>\n",
       "      <td>17084</td>\n",
       "      <td>[../../allConstraintsAnalysisWRemoved/codepend...</td>\n",
       "      <td>355.916667</td>\n",
       "    </tr>\n",
       "    <tr>\n",
       "      <th>P1283</th>\n",
       "      <td>13</td>\n",
       "      <td>3871</td>\n",
       "      <td>[../../allConstraintsAnalysisWRemoved/codepend...</td>\n",
       "      <td>297.769231</td>\n",
       "    </tr>\n",
       "    <tr>\n",
       "      <th>P2758</th>\n",
       "      <td>123</td>\n",
       "      <td>18919</td>\n",
       "      <td>[../../allConstraintsAnalysisWRemoved/codepend...</td>\n",
       "      <td>153.813008</td>\n",
       "    </tr>\n",
       "    <tr>\n",
       "      <th>P2637</th>\n",
       "      <td>2</td>\n",
       "      <td>295</td>\n",
       "      <td>[../../allConstraintsAnalysisWRemoved/codepend...</td>\n",
       "      <td>147.500000</td>\n",
       "    </tr>\n",
       "    <tr>\n",
       "      <th>P234</th>\n",
       "      <td>7232</td>\n",
       "      <td>997624</td>\n",
       "      <td>[../../allConstraintsAnalysisWRemoved/codepend...</td>\n",
       "      <td>137.945796</td>\n",
       "    </tr>\n",
       "    <tr>\n",
       "      <th>P1995</th>\n",
       "      <td>89</td>\n",
       "      <td>11360</td>\n",
       "      <td>[../../allConstraintsAnalysisWRemoved/codepend...</td>\n",
       "      <td>127.640449</td>\n",
       "    </tr>\n",
       "    <tr>\n",
       "      <th>P3156</th>\n",
       "      <td>3</td>\n",
       "      <td>365</td>\n",
       "      <td>[../../allConstraintsAnalysisWRemoved/codepend...</td>\n",
       "      <td>121.666667</td>\n",
       "    </tr>\n",
       "    <tr>\n",
       "      <th>P525</th>\n",
       "      <td>1</td>\n",
       "      <td>100</td>\n",
       "      <td>[../../allConstraintsAnalysisWRemoved/codepend...</td>\n",
       "      <td>100.000000</td>\n",
       "    </tr>\n",
       "    <tr>\n",
       "      <th>P852</th>\n",
       "      <td>46</td>\n",
       "      <td>4505</td>\n",
       "      <td>[../../allConstraintsAnalysisWRemoved/codepend...</td>\n",
       "      <td>97.934783</td>\n",
       "    </tr>\n",
       "    <tr>\n",
       "      <th>P597</th>\n",
       "      <td>105</td>\n",
       "      <td>7210</td>\n",
       "      <td>[../../allConstraintsAnalysisWRemoved/codepend...</td>\n",
       "      <td>68.666667</td>\n",
       "    </tr>\n",
       "    <tr>\n",
       "      <th>P562</th>\n",
       "      <td>7</td>\n",
       "      <td>449</td>\n",
       "      <td>[../../allConstraintsAnalysisWRemoved/codepend...</td>\n",
       "      <td>64.142857</td>\n",
       "    </tr>\n",
       "  </tbody>\n",
       "</table>\n",
       "</div>"
      ],
      "text/plain": [
       "      correct incorrect                                              paths  \\\n",
       "P1111       1     46803  [../../allConstraintsAnalysisWRemoved/codepend...   \n",
       "P374        3      2542  [../../allConstraintsAnalysisWRemoved/codepend...   \n",
       "P1116       8      3199  [../../allConstraintsAnalysisWRemoved/codepend...   \n",
       "P769        5      1851  [../../allConstraintsAnalysisWRemoved/codepend...   \n",
       "P2643      48     17084  [../../allConstraintsAnalysisWRemoved/codepend...   \n",
       "P1283      13      3871  [../../allConstraintsAnalysisWRemoved/codepend...   \n",
       "P2758     123     18919  [../../allConstraintsAnalysisWRemoved/codepend...   \n",
       "P2637       2       295  [../../allConstraintsAnalysisWRemoved/codepend...   \n",
       "P234     7232    997624  [../../allConstraintsAnalysisWRemoved/codepend...   \n",
       "P1995      89     11360  [../../allConstraintsAnalysisWRemoved/codepend...   \n",
       "P3156       3       365  [../../allConstraintsAnalysisWRemoved/codepend...   \n",
       "P525        1       100  [../../allConstraintsAnalysisWRemoved/codepend...   \n",
       "P852       46      4505  [../../allConstraintsAnalysisWRemoved/codepend...   \n",
       "P597      105      7210  [../../allConstraintsAnalysisWRemoved/codepend...   \n",
       "P562        7       449  [../../allConstraintsAnalysisWRemoved/codepend...   \n",
       "\n",
       "       violation_ratio  \n",
       "P1111     46803.000000  \n",
       "P374        847.333333  \n",
       "P1116       399.875000  \n",
       "P769        370.200000  \n",
       "P2643       355.916667  \n",
       "P1283       297.769231  \n",
       "P2758       153.813008  \n",
       "P2637       147.500000  \n",
       "P234        137.945796  \n",
       "P1995       127.640449  \n",
       "P3156       121.666667  \n",
       "P525        100.000000  \n",
       "P852         97.934783  \n",
       "P597         68.666667  \n",
       "P562         64.142857  "
      ]
     },
     "execution_count": 86,
     "metadata": {},
     "output_type": "execute_result"
    }
   ],
   "source": [
    "codepConstDF4.sort_values(by=['violation_ratio'],ascending=False).head(15)"
   ]
  },
  {
   "cell_type": "code",
   "execution_count": 87,
   "id": "weighted-input",
   "metadata": {},
   "outputs": [],
   "source": [
    "# list(codepConstDF4.sort_values(by=['violation_ratio'],ascending=False).head(5).paths)"
   ]
  },
  {
   "cell_type": "code",
   "execution_count": 88,
   "id": "brief-effect",
   "metadata": {
    "scrolled": false
   },
   "outputs": [
    {
     "data": {
      "text/html": [
       "<div>\n",
       "<style scoped>\n",
       "    .dataframe tbody tr th:only-of-type {\n",
       "        vertical-align: middle;\n",
       "    }\n",
       "\n",
       "    .dataframe tbody tr th {\n",
       "        vertical-align: top;\n",
       "    }\n",
       "\n",
       "    .dataframe thead th {\n",
       "        text-align: right;\n",
       "    }\n",
       "</style>\n",
       "<table border=\"1\" class=\"dataframe\">\n",
       "  <thead>\n",
       "    <tr style=\"text-align: right;\">\n",
       "      <th></th>\n",
       "      <th>correct</th>\n",
       "      <th>incorrect</th>\n",
       "      <th>paths</th>\n",
       "      <th>violation_ratio</th>\n",
       "    </tr>\n",
       "  </thead>\n",
       "  <tbody>\n",
       "    <tr>\n",
       "      <th>P234</th>\n",
       "      <td>7232</td>\n",
       "      <td>997624</td>\n",
       "      <td>[../../allConstraintsAnalysisWRemoved/codepend...</td>\n",
       "      <td>137.945796</td>\n",
       "    </tr>\n",
       "    <tr>\n",
       "      <th>P2214</th>\n",
       "      <td>2989348</td>\n",
       "      <td>721476</td>\n",
       "      <td>[../../allConstraintsAnalysisWRemoved/codepend...</td>\n",
       "      <td>0.241349</td>\n",
       "    </tr>\n",
       "    <tr>\n",
       "      <th>P433</th>\n",
       "      <td>31113458</td>\n",
       "      <td>436934</td>\n",
       "      <td>[../../allConstraintsAnalysisWRemoved/codepend...</td>\n",
       "      <td>0.014043</td>\n",
       "    </tr>\n",
       "    <tr>\n",
       "      <th>P275</th>\n",
       "      <td>7295</td>\n",
       "      <td>163856</td>\n",
       "      <td>[../../allConstraintsAnalysisWRemoved/codepend...</td>\n",
       "      <td>22.461412</td>\n",
       "    </tr>\n",
       "    <tr>\n",
       "      <th>P2860</th>\n",
       "      <td>174842113</td>\n",
       "      <td>152425</td>\n",
       "      <td>[../../allConstraintsAnalysisWRemoved/codepend...</td>\n",
       "      <td>0.000872</td>\n",
       "    </tr>\n",
       "    <tr>\n",
       "      <th>P1435</th>\n",
       "      <td>2121637</td>\n",
       "      <td>92401</td>\n",
       "      <td>[../../allConstraintsAnalysisWRemoved/codepend...</td>\n",
       "      <td>0.043552</td>\n",
       "    </tr>\n",
       "    <tr>\n",
       "      <th>P708</th>\n",
       "      <td>45718</td>\n",
       "      <td>57276</td>\n",
       "      <td>[../../allConstraintsAnalysisWRemoved/codepend...</td>\n",
       "      <td>1.252811</td>\n",
       "    </tr>\n",
       "    <tr>\n",
       "      <th>P197</th>\n",
       "      <td>122018</td>\n",
       "      <td>52917</td>\n",
       "      <td>[../../allConstraintsAnalysisWRemoved/codepend...</td>\n",
       "      <td>0.433682</td>\n",
       "    </tr>\n",
       "    <tr>\n",
       "      <th>P1598</th>\n",
       "      <td>40600</td>\n",
       "      <td>49329</td>\n",
       "      <td>[../../allConstraintsAnalysisWRemoved/codepend...</td>\n",
       "      <td>1.215000</td>\n",
       "    </tr>\n",
       "    <tr>\n",
       "      <th>P1111</th>\n",
       "      <td>1</td>\n",
       "      <td>46803</td>\n",
       "      <td>[../../allConstraintsAnalysisWRemoved/codepend...</td>\n",
       "      <td>46803.000000</td>\n",
       "    </tr>\n",
       "    <tr>\n",
       "      <th>P856</th>\n",
       "      <td>1451949</td>\n",
       "      <td>43599</td>\n",
       "      <td>[../../allConstraintsAnalysisWRemoved/codepend...</td>\n",
       "      <td>0.030028</td>\n",
       "    </tr>\n",
       "    <tr>\n",
       "      <th>P2248</th>\n",
       "      <td>4025</td>\n",
       "      <td>41608</td>\n",
       "      <td>[../../allConstraintsAnalysisWRemoved/codepend...</td>\n",
       "      <td>10.337391</td>\n",
       "    </tr>\n",
       "    <tr>\n",
       "      <th>P2325</th>\n",
       "      <td>4079</td>\n",
       "      <td>40619</td>\n",
       "      <td>[../../allConstraintsAnalysisWRemoved/codepend...</td>\n",
       "      <td>9.958078</td>\n",
       "    </tr>\n",
       "    <tr>\n",
       "      <th>P2243</th>\n",
       "      <td>4035</td>\n",
       "      <td>36870</td>\n",
       "      <td>[../../allConstraintsAnalysisWRemoved/codepend...</td>\n",
       "      <td>9.137546</td>\n",
       "    </tr>\n",
       "    <tr>\n",
       "      <th>P2244</th>\n",
       "      <td>4036</td>\n",
       "      <td>36801</td>\n",
       "      <td>[../../allConstraintsAnalysisWRemoved/codepend...</td>\n",
       "      <td>9.118186</td>\n",
       "    </tr>\n",
       "  </tbody>\n",
       "</table>\n",
       "</div>"
      ],
      "text/plain": [
       "         correct incorrect                                              paths  \\\n",
       "P234        7232    997624  [../../allConstraintsAnalysisWRemoved/codepend...   \n",
       "P2214    2989348    721476  [../../allConstraintsAnalysisWRemoved/codepend...   \n",
       "P433    31113458    436934  [../../allConstraintsAnalysisWRemoved/codepend...   \n",
       "P275        7295    163856  [../../allConstraintsAnalysisWRemoved/codepend...   \n",
       "P2860  174842113    152425  [../../allConstraintsAnalysisWRemoved/codepend...   \n",
       "P1435    2121637     92401  [../../allConstraintsAnalysisWRemoved/codepend...   \n",
       "P708       45718     57276  [../../allConstraintsAnalysisWRemoved/codepend...   \n",
       "P197      122018     52917  [../../allConstraintsAnalysisWRemoved/codepend...   \n",
       "P1598      40600     49329  [../../allConstraintsAnalysisWRemoved/codepend...   \n",
       "P1111          1     46803  [../../allConstraintsAnalysisWRemoved/codepend...   \n",
       "P856     1451949     43599  [../../allConstraintsAnalysisWRemoved/codepend...   \n",
       "P2248       4025     41608  [../../allConstraintsAnalysisWRemoved/codepend...   \n",
       "P2325       4079     40619  [../../allConstraintsAnalysisWRemoved/codepend...   \n",
       "P2243       4035     36870  [../../allConstraintsAnalysisWRemoved/codepend...   \n",
       "P2244       4036     36801  [../../allConstraintsAnalysisWRemoved/codepend...   \n",
       "\n",
       "       violation_ratio  \n",
       "P234        137.945796  \n",
       "P2214         0.241349  \n",
       "P433          0.014043  \n",
       "P275         22.461412  \n",
       "P2860         0.000872  \n",
       "P1435         0.043552  \n",
       "P708          1.252811  \n",
       "P197          0.433682  \n",
       "P1598         1.215000  \n",
       "P1111     46803.000000  \n",
       "P856          0.030028  \n",
       "P2248        10.337391  \n",
       "P2325         9.958078  \n",
       "P2243         9.137546  \n",
       "P2244         9.118186  "
      ]
     },
     "execution_count": 88,
     "metadata": {},
     "output_type": "execute_result"
    }
   ],
   "source": [
    "codepConstDF4.sort_values(by=['incorrect'],ascending=False).head(15)"
   ]
  },
  {
   "cell_type": "code",
   "execution_count": 89,
   "id": "wireless-passenger",
   "metadata": {
    "scrolled": true
   },
   "outputs": [
    {
     "data": {
      "text/plain": [
       "count     1925.000000\n",
       "mean        27.339989\n",
       "std       1067.009120\n",
       "min          0.000000\n",
       "25%          0.000000\n",
       "50%          0.060000\n",
       "75%          0.580000\n",
       "max      46803.000000\n",
       "Name: violation_ratio, dtype: float64"
      ]
     },
     "execution_count": 89,
     "metadata": {},
     "output_type": "execute_result"
    }
   ],
   "source": [
    "codepConstDF4['violation_ratio'].describe()"
   ]
  },
  {
   "cell_type": "code",
   "execution_count": 90,
   "id": "civilian-arnold",
   "metadata": {},
   "outputs": [
    {
     "data": {
      "text/plain": [
       "Text(0.5, 1.0, 'Co-Dependency Constraint - Version 4 - Violation Ratios')"
      ]
     },
     "execution_count": 90,
     "metadata": {},
     "output_type": "execute_result"
    },
    {
     "data": {
      "image/png": "[encoded data removed]",
      "text/plain": [
       "<Figure size 432x288 with 1 Axes>"
      ]
     },
     "metadata": {
      "needs_background": "light"
     },
     "output_type": "display_data"
    }
   ],
   "source": [
    "codepConstDF4['violation_ratio'].plot.hist(bins=100).set_title(\"Co-Dependency Constraint - Version 4 - Violation Ratios\")"
   ]
  },
  {
   "cell_type": "code",
   "execution_count": 91,
   "id": "threaded-cooler",
   "metadata": {
    "scrolled": true
   },
   "outputs": [
    {
     "data": {
      "text/plain": [
       "Text(0.5, 1.0, 'Co-Dependency Constraint - Version 4 - Violation Ratios <= 0.5')"
      ]
     },
     "execution_count": 91,
     "metadata": {},
     "output_type": "execute_result"
    },
    {
     "data": {
      "image/png": "[encoded data removed]",
      "text/plain": [
       "<Figure size 432x288 with 1 Axes>"
      ]
     },
     "metadata": {
      "needs_background": "light"
     },
     "output_type": "display_data"
    }
   ],
   "source": [
    "codepConstDF4[codepConstDF4['violation_ratio'] <= 0.5].violation_ratio.plot.hist(bins=100).set_title(\"Co-Dependency Constraint - Version 4 - Violation Ratios <= 0.5\")"
   ]
  },
  {
   "cell_type": "code",
   "execution_count": 92,
   "id": "olympic-charlotte",
   "metadata": {},
   "outputs": [
    {
     "name": "stdout",
     "output_type": "stream",
     "text": [
      "No. of properties whose violation ratio is greater than mean: 206/1925\n"
     ]
    }
   ],
   "source": [
    "print(f\"No. of properties whose violation ratio is greater than mean: {sum(codepConstDF4['violation_ratio'] >= 2.414703)}/{len(codepConstDF4)}\")"
   ]
  },
  {
   "cell_type": "markdown",
   "id": "published-affiliate",
   "metadata": {},
   "source": [
    "### Find out time required"
   ]
  },
  {
   "cell_type": "code",
   "execution_count": null,
   "id": "aggregate-conservative",
   "metadata": {},
   "outputs": [],
   "source": [
    "import pandas as pd\n",
    "import os\n",
    "from tqdm.notebook import tqdm\n",
    "\n",
    "codepConstViolations = {}\n",
    "\n",
    "codepConstViolations = {}\n",
    "codepConstPropList = set()\n",
    "\n",
    "def extractTimes(filename):\n",
    "    times = []\n",
    "    with open(filename) as f:\n",
    "        for line in f:\n",
    "            if \"real\" in line:\n",
    "                line = line.strip()\n",
    "                time1 = line.split(\"\\t\")[1]\n",
    "                mins, sec = time1.split(\"m\")\n",
    "                mins = int(mins)\n",
    "                sec = float(sec[:-1])\n",
    "                times.append(60 * mins + sec)\n",
    "    return times\n",
    "\n",
    "# codepConstViolationsSummary = {}\n",
    "times = []\n",
    "timesVersion = {\"MSN\": [], \"MN\": [], \"M\": [], \"N\": [], \"S\": []}\n",
    "filePath = '/data/wd-correctness/propertiesSplitWRemoved/checkViolations/exec_logs/'\n",
    "for filename in tqdm(os.listdir(filePath)):\n",
    "    if filename.startswith(\"timeLog_codepConst_\"):\n",
    "        ver = filename.split('_')[2]\n",
    "        tempTimes = extractTimes(filePath + filename)\n",
    "        times += tempTimes\n",
    "        timesVersion[ver] += tempTimes\n",
    "print(pd.Series(times).describe())"
   ]
  },
  {
   "cell_type": "code",
   "execution_count": null,
   "id": "hearing-treasury",
   "metadata": {},
   "outputs": [],
   "source": [
    "print(pd.Series(timesVersion['MSN']).describe())"
   ]
  },
  {
   "cell_type": "code",
   "execution_count": null,
   "id": "animal-vocabulary",
   "metadata": {},
   "outputs": [],
   "source": [
    "print(pd.Series(timesVersion['MN']).describe())"
   ]
  },
  {
   "cell_type": "code",
   "execution_count": null,
   "id": "gentle-accessory",
   "metadata": {},
   "outputs": [],
   "source": [
    "print(pd.Series(timesVersion['M']).describe())"
   ]
  },
  {
   "cell_type": "code",
   "execution_count": null,
   "id": "fresh-namibia",
   "metadata": {},
   "outputs": [],
   "source": [
    "print(pd.Series(timesVersion['N']).describe())"
   ]
  },
  {
   "cell_type": "markdown",
   "id": "industrial-parcel",
   "metadata": {},
   "source": [
    "## Symmetric Constraint (Q21510862)\n",
    "\n",
    "This constraint says, if node1 has a property with this constraint, then both `(node1)-[prop]->(node2)` and `(node2)-[prop]->(node1)` must be present with few exceptions"
   ]
  },
  {
   "cell_type": "markdown",
   "id": "silent-fundamentals",
   "metadata": {},
   "source": [
    "### Constraints File"
   ]
  },
  {
   "cell_type": "code",
   "execution_count": 2,
   "id": "known-wednesday",
   "metadata": {},
   "outputs": [
    {
     "name": "stdout",
     "output_type": "stream",
     "text": [
      "[2021-04-12 01:02:26 query]: SQL Translation:\r\n",
      "---------------------------------------------\r\n",
      "  SELECT *\r\n",
      "     FROM graph_1 AS graph_1_c1\r\n",
      "     WHERE graph_1_c1.\"label\"=?\r\n",
      "     AND graph_1_c1.\"node2\"=?\r\n",
      "  PARAS: ['P2302', 'Q21510862']\r\n",
      "---------------------------------------------\r\n"
     ]
    }
   ],
   "source": [
    "!kgtk --debug query -i ../../gdrive-kgtk-dump-2020-12-07/claims.properties.tsv.gz \\\n",
    "    ../../gdrive-kgtk-dump-2020-12-07/qualifiers.properties.tsv.gz \\\n",
    "    --match \"p: (nodeProp1)-[nodePropEdge:P2302]->(:Q21510862)\" \\\n",
    "    -o ../../constraintsOP/symmetricConstraint/claims.constraints_list.tsv \\\n",
    "    --graph-cache ~/sqlite3_caches/temp1345.valuetype.sqlite3.db"
   ]
  },
  {
   "cell_type": "code",
   "execution_count": 3,
   "id": "legal-diamond",
   "metadata": {},
   "outputs": [],
   "source": [
    "import pandas as pd\n",
    "qualiDF = pd.read_csv(\"../../gdrive-kgtk-dump-2020-12-07/qualifiers.properties.tsv.gz\",sep='\\t')\n",
    "constDF = pd.read_csv(\"../../constraintsOP/symmetricConstraint/claims.constraints_list.tsv\",sep='\\t')"
   ]
  },
  {
   "cell_type": "code",
   "execution_count": 4,
   "id": "exceptional-morris",
   "metadata": {},
   "outputs": [],
   "source": [
    "constDF2 = constDF.set_index('id').join(qualiDF.set_index('node1'),rsuffix='_qualifier').drop(columns=['id', 'node2;wikidatatype_qualifier', 'rank', 'node2', 'label', 'node2;wikidatatype']).rename(columns={'label_qualifier':'label', 'node2_qualifier': 'node2'})\n",
    "constDF2 = constDF2.reset_index()\n",
    "constDF2 = constDF2.rename(columns={'index':'id'})\n",
    "constDF2['label'] = constDF2.label.fillna(\"P2316\")\n",
    "constDF2['node2'] = constDF2.node2.fillna(\"Normal\")"
   ]
  },
  {
   "cell_type": "code",
   "execution_count": 5,
   "id": "burning-involvement",
   "metadata": {},
   "outputs": [],
   "source": [
    "constDF2.to_csv(\"../../constraintsOP/symmetricConstraint/claims.constraints_all.tsv\",sep=\"\\t\",index=False)"
   ]
  },
  {
   "cell_type": "code",
   "execution_count": 6,
   "id": "naval-identification",
   "metadata": {},
   "outputs": [],
   "source": [
    "import pandas as pd\n",
    "import math\n",
    "dfItemRequires = pd.read_csv('../../constraintsOP/symmetricConstraint/claims.constraints_all.tsv',sep='\\t')"
   ]
  },
  {
   "cell_type": "code",
   "execution_count": 7,
   "id": "considered-madison",
   "metadata": {},
   "outputs": [],
   "source": [
    "dfItemRequires = dfItemRequires.groupby(['id','node1','label']).node2.apply(lambda p: p.tolist()).reset_index()"
   ]
  },
  {
   "cell_type": "code",
   "execution_count": 8,
   "id": "alone-cattle",
   "metadata": {},
   "outputs": [
    {
     "data": {
      "text/plain": [
       "array(['P2316', 'P2303'], dtype=object)"
      ]
     },
     "execution_count": 8,
     "metadata": {},
     "output_type": "execute_result"
    }
   ],
   "source": [
    "dfItemRequires['label'].unique()"
   ]
  },
  {
   "cell_type": "code",
   "execution_count": 9,
   "id": "mighty-ordinary",
   "metadata": {},
   "outputs": [
    {
     "data": {
      "text/plain": [
       "P2316    42\n",
       "P2303     3\n",
       "Name: label, dtype: int64"
      ]
     },
     "execution_count": 9,
     "metadata": {},
     "output_type": "execute_result"
    }
   ],
   "source": [
    "dfItemRequires['label'].value_counts()"
   ]
  },
  {
   "cell_type": "code",
   "execution_count": 10,
   "id": "sensitive-alliance",
   "metadata": {},
   "outputs": [],
   "source": [
    "#Reference: https://stackoverflow.com/a/17298454\n",
    "# dfItemRequires.pivot_table('node2', ['node1', 'id'], 'label')\n",
    "dfItemRequires = dfItemRequires.pivot(index=['node1','id'], columns='label', values='node2')"
   ]
  },
  {
   "cell_type": "code",
   "execution_count": 11,
   "id": "tender-valley",
   "metadata": {},
   "outputs": [
    {
     "data": {
      "text/html": [
       "<div>\n",
       "<style scoped>\n",
       "    .dataframe tbody tr th:only-of-type {\n",
       "        vertical-align: middle;\n",
       "    }\n",
       "\n",
       "    .dataframe tbody tr th {\n",
       "        vertical-align: top;\n",
       "    }\n",
       "\n",
       "    .dataframe thead th {\n",
       "        text-align: right;\n",
       "    }\n",
       "</style>\n",
       "<table border=\"1\" class=\"dataframe\">\n",
       "  <thead>\n",
       "    <tr style=\"text-align: right;\">\n",
       "      <th></th>\n",
       "      <th>label</th>\n",
       "      <th>P2303</th>\n",
       "      <th>P2316</th>\n",
       "    </tr>\n",
       "    <tr>\n",
       "      <th>node1</th>\n",
       "      <th>id</th>\n",
       "      <th></th>\n",
       "      <th></th>\n",
       "    </tr>\n",
       "  </thead>\n",
       "  <tbody>\n",
       "    <tr>\n",
       "      <th>P1322</th>\n",
       "      <th>P1322-P2302-Q21510862-85dea891-0</th>\n",
       "      <td>NaN</td>\n",
       "      <td>[Normal]</td>\n",
       "    </tr>\n",
       "    <tr>\n",
       "      <th>P1327</th>\n",
       "      <th>P1327-P2302-Q21510862-a3c3a094-0</th>\n",
       "      <td>NaN</td>\n",
       "      <td>[Normal]</td>\n",
       "    </tr>\n",
       "    <tr>\n",
       "      <th>P1382</th>\n",
       "      <th>P1382-P2302-Q21510862-f6bcfecf-0</th>\n",
       "      <td>NaN</td>\n",
       "      <td>[Normal]</td>\n",
       "    </tr>\n",
       "    <tr>\n",
       "      <th>P1560</th>\n",
       "      <th>P1560-P2302-Q21510862-fabecaeb-0</th>\n",
       "      <td>NaN</td>\n",
       "      <td>[Q21502408]</td>\n",
       "    </tr>\n",
       "    <tr>\n",
       "      <th>P1639</th>\n",
       "      <th>P1639-P2302-Q21510862-384edcd4-0</th>\n",
       "      <td>NaN</td>\n",
       "      <td>[Q21502408]</td>\n",
       "    </tr>\n",
       "  </tbody>\n",
       "</table>\n",
       "</div>"
      ],
      "text/plain": [
       "label                                  P2303        P2316\n",
       "node1 id                                                 \n",
       "P1322 P1322-P2302-Q21510862-85dea891-0   NaN     [Normal]\n",
       "P1327 P1327-P2302-Q21510862-a3c3a094-0   NaN     [Normal]\n",
       "P1382 P1382-P2302-Q21510862-f6bcfecf-0   NaN     [Normal]\n",
       "P1560 P1560-P2302-Q21510862-fabecaeb-0   NaN  [Q21502408]\n",
       "P1639 P1639-P2302-Q21510862-384edcd4-0   NaN  [Q21502408]"
      ]
     },
     "execution_count": 11,
     "metadata": {},
     "output_type": "execute_result"
    }
   ],
   "source": [
    "dfItemRequires.head()"
   ]
  },
  {
   "cell_type": "code",
   "execution_count": 12,
   "id": "cellular-canal",
   "metadata": {},
   "outputs": [],
   "source": [
    "dfItemRequires = dfItemRequires.droplevel(1)"
   ]
  },
  {
   "cell_type": "code",
   "execution_count": 13,
   "id": "desperate-poster",
   "metadata": {},
   "outputs": [
    {
     "data": {
      "text/html": [
       "<div>\n",
       "<style scoped>\n",
       "    .dataframe tbody tr th:only-of-type {\n",
       "        vertical-align: middle;\n",
       "    }\n",
       "\n",
       "    .dataframe tbody tr th {\n",
       "        vertical-align: top;\n",
       "    }\n",
       "\n",
       "    .dataframe thead th {\n",
       "        text-align: right;\n",
       "    }\n",
       "</style>\n",
       "<table border=\"1\" class=\"dataframe\">\n",
       "  <thead>\n",
       "    <tr style=\"text-align: right;\">\n",
       "      <th>label</th>\n",
       "      <th>P2303</th>\n",
       "      <th>P2316</th>\n",
       "    </tr>\n",
       "    <tr>\n",
       "      <th>node1</th>\n",
       "      <th></th>\n",
       "      <th></th>\n",
       "    </tr>\n",
       "  </thead>\n",
       "  <tbody>\n",
       "    <tr>\n",
       "      <th>P1322</th>\n",
       "      <td>NaN</td>\n",
       "      <td>[Normal]</td>\n",
       "    </tr>\n",
       "    <tr>\n",
       "      <th>P1327</th>\n",
       "      <td>NaN</td>\n",
       "      <td>[Normal]</td>\n",
       "    </tr>\n",
       "    <tr>\n",
       "      <th>P1382</th>\n",
       "      <td>NaN</td>\n",
       "      <td>[Normal]</td>\n",
       "    </tr>\n",
       "    <tr>\n",
       "      <th>P1560</th>\n",
       "      <td>NaN</td>\n",
       "      <td>[Q21502408]</td>\n",
       "    </tr>\n",
       "    <tr>\n",
       "      <th>P1639</th>\n",
       "      <td>NaN</td>\n",
       "      <td>[Q21502408]</td>\n",
       "    </tr>\n",
       "  </tbody>\n",
       "</table>\n",
       "</div>"
      ],
      "text/plain": [
       "label P2303        P2316\n",
       "node1                   \n",
       "P1322   NaN     [Normal]\n",
       "P1327   NaN     [Normal]\n",
       "P1382   NaN     [Normal]\n",
       "P1560   NaN  [Q21502408]\n",
       "P1639   NaN  [Q21502408]"
      ]
     },
     "execution_count": 13,
     "metadata": {},
     "output_type": "execute_result"
    }
   ],
   "source": [
    "dfItemRequires.head()"
   ]
  },
  {
   "cell_type": "markdown",
   "id": "primary-netherlands",
   "metadata": {},
   "source": [
    "### Query Generator"
   ]
  },
  {
   "cell_type": "code",
   "execution_count": 14,
   "id": "pointed-haven",
   "metadata": {},
   "outputs": [
    {
     "data": {
      "application/vnd.jupyter.widget-view+json": {
       "model_id": "d32afc9683cb4bdc9252b04f5608a5f2",
       "version_major": 2,
       "version_minor": 0
      },
      "text/plain": [
       "0it [00:00, ?it/s]"
      ]
     },
     "metadata": {},
     "output_type": "display_data"
    }
   ],
   "source": [
    "from tqdm.notebook import tqdm\n",
    "import os.path\n",
    "import os\n",
    "\n",
    "cnt = 0\n",
    "fCnt = 0\n",
    "\n",
    "folderName = 'symmetricConstraint'\n",
    "shellFileSuffix = 'symmConst_Validator_'\n",
    "graph_cache_prefix = 'symm_03'\n",
    "\n",
    "for row in tqdm(dfItemRequires.iterrows()):\n",
    "#     try:\n",
    "        prop = row[0]\n",
    "        constraint = row[1]\n",
    "        mandatory = []\n",
    "        suggestion = []\n",
    "        normal = []\n",
    "        prop = str(prop)\n",
    "        \n",
    "        if type(constraint['P2316']) == list:\n",
    "            if constraint['P2316'][0] == 'Q21502408':\n",
    "                sfname = 'mandatory'\n",
    "            elif constraint['P2316'][0] == 'Q62026391':\n",
    "                sfname = 'suggestion'\n",
    "            elif constraint['P2316'][0] == 'Normal':\n",
    "                sfname = 'normal'\n",
    "        else:\n",
    "            sfname = 'normal'\n",
    "        \n",
    "        if not(os.path.isfile(\"../../propertiesSplitWRemoved/claims.\"+ prop +\".tsv\")):\n",
    "            continue\n",
    "                \n",
    "        command = \"{ time ( kgtk --debug query -i ../../propertiesSplitWRemoved/claims.\"+ prop +\".tsv \\\n",
    "                    ../../propertiesSplitWRemoved/claims.\"+ prop +\".copy2.tsv \\\n",
    "                    --match 'tsv: (node1)-[nodeProp]->(node2), copy2: (node2)-[]->(node1)' \"\n",
    "        \n",
    "        os.system(\"cp ../../propertiesSplitWRemoved/claims.\"+ prop +\".tsv ../../propertiesSplitWRemoved/claims.\"+ prop +\".copy2.tsv\")\n",
    "        \n",
    "        if cnt % 60 == 0:\n",
    "            fCnt += 1\n",
    "            fOP = open(\"../../propertiesSplitWRemoved/checkViolations/\" + shellFileSuffix + str(fCnt) + \".sh\",\"w\")\n",
    "        command\n",
    "        if type(constraint['P2303']) != list: # Exceptions not present\n",
    "            commandRest = \" --return 'nodeProp.id, node1 as `node1`, nodeProp.label as `label`, node2 as `node2`'  \\\n",
    "            -o ../../allConstraintsAnalysisWRemoved/\" + folderName + \"/\" + sfname + \"/claims.\"+ prop +\".correct.tsv \\\n",
    "            --graph-cache ~/sqlite3_caches/\"+graph_cache_prefix+\"_\" + str(fCnt) + \".sqlite3.db; \\\n",
    "             kgtk --debug ifnotexists -i ../../propertiesSplitWRemoved/claims.\"+ prop +\".tsv \\\n",
    "            --filter-on ../../allConstraintsAnalysisWRemoved/\" + folderName + \"/\" + sfname + \"/claims.\"+ prop +\".correct.tsv \\\n",
    "            --filter-mode NONE \\\n",
    "            --input-keys node1 label \\\n",
    "            --filter-keys node1 label \"\n",
    "            \n",
    "            commandOPFile = \"-o ../../allConstraintsAnalysisWRemoved/\" + folderName + \"/\" + sfname + \"/claims.\"+ prop +\".\"\n",
    "            \n",
    "            command += commandRest + commandOPFile + \"incorrect.tsv ) } 2>> ../../propertiesSplitWRemoved/checkViolations/exec_logs/\" + shellFileSuffix + str(fCnt) + \".txt;\\n\"\n",
    "#             print(command)\n",
    "            fOP.write(command)\n",
    "        else:\n",
    "            excptns = constraint['P2303']\n",
    "            commandRest = \" --return 'distinct nodeProp.id, node1 as `node1`, nodeProp.label as `label`, node2 as `node2`'  \\\n",
    "            -o ../../allConstraintsAnalysisWRemoved/\" + folderName + \"/\" + sfname + \"/claims.\"+ prop +\".correct_wo_exceptions.tsv \\\n",
    "            --graph-cache ~/sqlite3_caches/\"+graph_cache_prefix+\"_\" + str(fCnt) + \".sqlite3.db; \\\n",
    "             kgtk --debug ifnotexists -i ../../propertiesSplitWRemoved/claims.\"+ prop +\".tsv \\\n",
    "            --filter-on ../../allConstraintsAnalysisWRemoved/\" + folderName + \"/\" + sfname + \"/claims.\"+ prop +\".correct_wo_exceptions.tsv \\\n",
    "            --filter-mode NONE \\\n",
    "            --input-keys node1 label \\\n",
    "            --filter-keys node1 label \"\n",
    "            \n",
    "            commandOPFile = \"-o ../../allConstraintsAnalysisWRemoved/\" + folderName + \"/\" + sfname + \"/claims.\"+ prop +\".\"\n",
    "            \n",
    "            command += commandRest + commandOPFile + \"incorrect_wo_exceptions.tsv; \"\n",
    "#             print(command)\n",
    "            fOP.write(command)\n",
    "            \n",
    "            command = \" kgtk --debug query -i ../../allConstraintsAnalysisWRemoved/\" + folderName + \"/\" + sfname + \"/claims.\" + prop + \".incorrect_wo_exceptions.tsv \\\n",
    "                    --match '(node1)-[]->()' --where 'node1 in \" + str(list(excptns)).replace(\"'\",'\"') + \"' \\\n",
    "                    -o ../../allConstraintsAnalysisWRemoved/\" + folderName + \"/\" + sfname + \"/claims.\" + prop + \".correct_exceptions.tsv \\\n",
    "                    --graph-cache ~/sqlite3_caches/\"+graph_cache_prefix+\"_\" + str(fCnt) + \".sqlite3.db; \"\n",
    "#             print(command)\n",
    "            fOP.write(command)\n",
    "            \n",
    "            command = \"  kgtk --debug ifnotexists -i ../../allConstraintsAnalysisWRemoved/\" + folderName + \"/\" + sfname + \"/claims.\" + prop + \".incorrect_wo_exceptions.tsv \\\n",
    "            --filter-on ../../allConstraintsAnalysisWRemoved/\" + folderName + \"/\" + sfname + \"/claims.\" + prop + \".correct_exceptions.tsv \\\n",
    "            --filter-mode NONE \\\n",
    "            --input-keys node1 label \\\n",
    "            --filter-keys node1 label \\\n",
    "            -o ../../allConstraintsAnalysisWRemoved/\" + folderName + \"/\" + sfname + \"/claims.\"+ prop +\".incorrect.tsv; \"\n",
    "#             print(command)\n",
    "            fOP.write(command)\n",
    "            \n",
    "            command = \" kgtk cat -i ../../allConstraintsAnalysisWRemoved/\" + folderName + \"/\" + sfname + \"/claims.\"+ prop +\".correct_wo_exceptions.tsv \\\n",
    "                    ../../allConstraintsAnalysisWRemoved/\" + folderName + \"/\" + sfname + \"/claims.\"+ prop +\".correct_exceptions.tsv \\\n",
    "                    -o ../../allConstraintsAnalysisWRemoved/\" + folderName + \"/\" + sfname + \"/claims.\"+ prop +\".correct.tsv ) } 2>> ../../propertiesSplitWRemoved/checkViolations/exec_logs/\" + shellFileSuffix + str(fCnt) + \".txt;\\n\"\n",
    "#             print(command)\n",
    "            fOP.write(command)\n",
    "        \n",
    "        \n",
    "        cnt += 1\n",
    "#     except:\n",
    "#         print(\"Something failed for prop:\",prop)"
   ]
  },
  {
   "cell_type": "code",
   "execution_count": 15,
   "id": "polar-canada",
   "metadata": {},
   "outputs": [
    {
     "data": {
      "text/plain": [
       "39"
      ]
     },
     "execution_count": 15,
     "metadata": {},
     "output_type": "execute_result"
    }
   ],
   "source": [
    "cnt"
   ]
  },
  {
   "cell_type": "code",
   "execution_count": 105,
   "id": "virtual-disney",
   "metadata": {},
   "outputs": [],
   "source": [
    "# import os\n",
    "# for i in range(1,2):\n",
    "#     os.system(\"screen -dm sh ../../propertiesSplitWRemoved/checkViolations/symmConst_Validator_\"+str(i)+\".sh\")"
   ]
  },
  {
   "cell_type": "markdown",
   "id": "coral-cheese",
   "metadata": {},
   "source": [
    "### Analyze Violations"
   ]
  },
  {
   "cell_type": "code",
   "execution_count": 16,
   "id": "governmental-backup",
   "metadata": {},
   "outputs": [
    {
     "data": {
      "application/vnd.jupyter.widget-view+json": {
       "model_id": "a2a80c6bae2542478392fe2d804285f3",
       "version_major": 2,
       "version_minor": 0
      },
      "text/plain": [
       "0it [00:00, ?it/s]"
      ]
     },
     "metadata": {},
     "output_type": "display_data"
    },
    {
     "data": {
      "application/vnd.jupyter.widget-view+json": {
       "model_id": "472d2081d6734791bba9336e216f61ec",
       "version_major": 2,
       "version_minor": 0
      },
      "text/plain": [
       "  0%|          | 0/13 [00:00<?, ?it/s]"
      ]
     },
     "metadata": {},
     "output_type": "display_data"
    },
    {
     "data": {
      "application/vnd.jupyter.widget-view+json": {
       "model_id": "47d0ebe8ae544a38aa6fc3d77a0b1cc6",
       "version_major": 2,
       "version_minor": 0
      },
      "text/plain": [
       "  0%|          | 0/68 [00:00<?, ?it/s]"
      ]
     },
     "metadata": {},
     "output_type": "display_data"
    },
    {
     "data": {
      "application/vnd.jupyter.widget-view+json": {
       "model_id": "3ad972dff67c46a8aaaabac8e18d8953",
       "version_major": 2,
       "version_minor": 0
      },
      "text/plain": [
       "  0%|          | 0/6 [00:00<?, ?it/s]"
      ]
     },
     "metadata": {},
     "output_type": "display_data"
    }
   ],
   "source": [
    "import pandas as pd\n",
    "import os\n",
    "from tqdm.notebook import tqdm\n",
    "\n",
    "symmConstViolations = {}\n",
    "\n",
    "def countLines(fname):\n",
    "    cnt = -1\n",
    "    with open(fname, 'r') as f:\n",
    "        for line in f:\n",
    "            cnt += 1\n",
    "    return cnt\n",
    "\n",
    "symmConstViolations = {}\n",
    "symmConstPropList = set()\n",
    "\n",
    "# codepConstViolationsSummary = {}\n",
    "\n",
    "\n",
    "filePath = \"../../allConstraintsAnalysisWRemoved/symmetricConstraint/\"\n",
    "for folder in tqdm(iter(['mandatory','normal','suggestion'])):\n",
    "    for filename in tqdm(os.listdir(filePath + folder)):\n",
    "        prop = filename.split(\".\")[1]\n",
    "        correctness = filename.split(\".\")[2]\n",
    "        if correctness not in ['correct','incorrect']:\n",
    "            continue\n",
    "        symmConstPropList.add(prop)\n",
    "        count1 = countLines(filePath+folder+'/'+filename)\n",
    "        if folder not in symmConstViolations:\n",
    "            symmConstViolations[folder] = {}\n",
    "        if prop not in symmConstViolations[folder]:\n",
    "            symmConstViolations[folder][prop] = {'correct': 0, 'incorrect': 0, 'paths': []}\n",
    "        symmConstViolations[folder][prop][correctness] = count1\n",
    "        symmConstViolations[folder][prop]['paths'].append(filePath+folder+'/'+filename)"
   ]
  },
  {
   "cell_type": "code",
   "execution_count": 17,
   "id": "helpful-offset",
   "metadata": {},
   "outputs": [
    {
     "data": {
      "text/plain": [
       "39"
      ]
     },
     "execution_count": 17,
     "metadata": {},
     "output_type": "execute_result"
    }
   ],
   "source": [
    "len(symmConstPropList)"
   ]
  },
  {
   "cell_type": "code",
   "execution_count": 18,
   "id": "entertaining-rescue",
   "metadata": {},
   "outputs": [
    {
     "data": {
      "application/vnd.jupyter.widget-view+json": {
       "model_id": "1fd5da393bf3491a96b878ab99c558c9",
       "version_major": 2,
       "version_minor": 0
      },
      "text/plain": [
       "0it [00:00, ?it/s]"
      ]
     },
     "metadata": {},
     "output_type": "display_data"
    }
   ],
   "source": [
    "symmConstViolationsSummary = {}\n",
    "for folder in tqdm(iter(['mandatory','normal','suggestion'])):\n",
    "    symmConstViolationsSummary[folder] = {'correct': 0, 'incorrect': 0}\n",
    "    for prop in symmConstViolations[folder].keys():\n",
    "        symmConstViolationsSummary[folder]['correct'] += symmConstViolations[folder][prop]['correct']\n",
    "        symmConstViolationsSummary[folder]['incorrect'] += symmConstViolations[folder][prop]['incorrect']\n",
    "    symmConstViolationsSummary[folder]['total'] = symmConstViolationsSummary[folder]['correct'] + symmConstViolationsSummary[folder]['incorrect']\n",
    "    symmConstViolationsSummary[folder]['percIncorrect'] = symmConstViolationsSummary[folder]['incorrect'] / symmConstViolationsSummary[folder]['total'] * 100\n",
    "    symmConstViolationsSummary[folder]['propCount'] = len(symmConstViolations[folder].keys())"
   ]
  },
  {
   "cell_type": "code",
   "execution_count": 5,
   "id": "copyrighted-marshall",
   "metadata": {},
   "outputs": [
    {
     "data": {
      "text/plain": [
       "{'mandatory': {'correct': 7768,\n",
       "  'incorrect': 41,\n",
       "  'total': 7809,\n",
       "  'percIncorrect': 0.525035215776668,\n",
       "  'propCount': 5},\n",
       " 'normal': {'correct': 14155303,\n",
       "  'incorrect': 3484987,\n",
       "  'total': 17640290,\n",
       "  'percIncorrect': 19.755837347345196,\n",
       "  'propCount': 31},\n",
       " 'suggestion': {'correct': 819403,\n",
       "  'incorrect': 33067,\n",
       "  'total': 852470,\n",
       "  'percIncorrect': 3.8789634825858976,\n",
       "  'propCount': 3}}"
      ]
     },
     "execution_count": 5,
     "metadata": {},
     "output_type": "execute_result"
    }
   ],
   "source": [
    "symmConstViolationsSummary"
   ]
  },
  {
   "cell_type": "code",
   "execution_count": 19,
   "id": "enhanced-ontario",
   "metadata": {},
   "outputs": [
    {
     "data": {
      "text/plain": [
       "18500569"
      ]
     },
     "execution_count": 19,
     "metadata": {},
     "output_type": "execute_result"
    }
   ],
   "source": [
    "noOfStmts = 0\n",
    "for fold in symmConstViolationsSummary.keys():\n",
    "    noOfStmts += symmConstViolationsSummary[fold]['total']\n",
    "noOfStmts"
   ]
  },
  {
   "cell_type": "code",
   "execution_count": 7,
   "id": "representative-conjunction",
   "metadata": {},
   "outputs": [
    {
     "data": {
      "text/html": [
       "<div>\n",
       "<style scoped>\n",
       "    .dataframe tbody tr th:only-of-type {\n",
       "        vertical-align: middle;\n",
       "    }\n",
       "\n",
       "    .dataframe tbody tr th {\n",
       "        vertical-align: top;\n",
       "    }\n",
       "\n",
       "    .dataframe thead th {\n",
       "        text-align: right;\n",
       "    }\n",
       "</style>\n",
       "<table border=\"1\" class=\"dataframe\">\n",
       "  <thead>\n",
       "    <tr style=\"text-align: right;\">\n",
       "      <th></th>\n",
       "      <th>correct</th>\n",
       "      <th>incorrect</th>\n",
       "      <th>paths</th>\n",
       "      <th>violation_ratio</th>\n",
       "    </tr>\n",
       "  </thead>\n",
       "  <tbody>\n",
       "    <tr>\n",
       "      <th>P1639</th>\n",
       "      <td>2105</td>\n",
       "      <td>25</td>\n",
       "      <td>[../../allConstraintsAnalysisWRemoved/symmetri...</td>\n",
       "      <td>0.011737</td>\n",
       "    </tr>\n",
       "    <tr>\n",
       "      <th>P1560</th>\n",
       "      <td>3488</td>\n",
       "      <td>15</td>\n",
       "      <td>[../../allConstraintsAnalysisWRemoved/symmetri...</td>\n",
       "      <td>0.004282</td>\n",
       "    </tr>\n",
       "    <tr>\n",
       "      <th>P3364</th>\n",
       "      <td>1813</td>\n",
       "      <td>1</td>\n",
       "      <td>[../../allConstraintsAnalysisWRemoved/symmetri...</td>\n",
       "      <td>0.000551</td>\n",
       "    </tr>\n",
       "    <tr>\n",
       "      <th>P2152</th>\n",
       "      <td>80</td>\n",
       "      <td>0</td>\n",
       "      <td>[../../allConstraintsAnalysisWRemoved/symmetri...</td>\n",
       "      <td>0.000000</td>\n",
       "    </tr>\n",
       "    <tr>\n",
       "      <th>P6185</th>\n",
       "      <td>282</td>\n",
       "      <td>0</td>\n",
       "      <td>[../../allConstraintsAnalysisWRemoved/symmetri...</td>\n",
       "      <td>0.000000</td>\n",
       "    </tr>\n",
       "  </tbody>\n",
       "</table>\n",
       "</div>"
      ],
      "text/plain": [
       "      correct incorrect                                              paths  \\\n",
       "P1639    2105        25  [../../allConstraintsAnalysisWRemoved/symmetri...   \n",
       "P1560    3488        15  [../../allConstraintsAnalysisWRemoved/symmetri...   \n",
       "P3364    1813         1  [../../allConstraintsAnalysisWRemoved/symmetri...   \n",
       "P2152      80         0  [../../allConstraintsAnalysisWRemoved/symmetri...   \n",
       "P6185     282         0  [../../allConstraintsAnalysisWRemoved/symmetri...   \n",
       "\n",
       "       violation_ratio  \n",
       "P1639         0.011737  \n",
       "P1560         0.004282  \n",
       "P3364         0.000551  \n",
       "P2152         0.000000  \n",
       "P6185         0.000000  "
      ]
     },
     "execution_count": 7,
     "metadata": {},
     "output_type": "execute_result"
    }
   ],
   "source": [
    "symmConstDF1 = pd.DataFrame(symmConstViolations['mandatory']).T\n",
    "symmConstDF1['violation_ratio'] = symmConstDF1.apply(lambda p: p.incorrect / (p.incorrect + p.correct), axis=1)\n",
    "symmConstDF1.sort_values(by=['violation_ratio'],ascending=False).head(15)"
   ]
  },
  {
   "cell_type": "code",
   "execution_count": 8,
   "id": "gross-extraction",
   "metadata": {},
   "outputs": [
    {
     "data": {
      "text/html": [
       "<div>\n",
       "<style scoped>\n",
       "    .dataframe tbody tr th:only-of-type {\n",
       "        vertical-align: middle;\n",
       "    }\n",
       "\n",
       "    .dataframe tbody tr th {\n",
       "        vertical-align: top;\n",
       "    }\n",
       "\n",
       "    .dataframe thead th {\n",
       "        text-align: right;\n",
       "    }\n",
       "</style>\n",
       "<table border=\"1\" class=\"dataframe\">\n",
       "  <thead>\n",
       "    <tr style=\"text-align: right;\">\n",
       "      <th></th>\n",
       "      <th>correct</th>\n",
       "      <th>incorrect</th>\n",
       "      <th>paths</th>\n",
       "      <th>violation_ratio</th>\n",
       "    </tr>\n",
       "  </thead>\n",
       "  <tbody>\n",
       "    <tr>\n",
       "      <th>P2789</th>\n",
       "      <td>105201</td>\n",
       "      <td>6590</td>\n",
       "      <td>[../../allConstraintsAnalysisWRemoved/symmetri...</td>\n",
       "      <td>0.058949</td>\n",
       "    </tr>\n",
       "    <tr>\n",
       "      <th>P1889</th>\n",
       "      <td>533338</td>\n",
       "      <td>24740</td>\n",
       "      <td>[../../allConstraintsAnalysisWRemoved/symmetri...</td>\n",
       "      <td>0.044331</td>\n",
       "    </tr>\n",
       "    <tr>\n",
       "      <th>P197</th>\n",
       "      <td>180864</td>\n",
       "      <td>1737</td>\n",
       "      <td>[../../allConstraintsAnalysisWRemoved/symmetri...</td>\n",
       "      <td>0.009513</td>\n",
       "    </tr>\n",
       "  </tbody>\n",
       "</table>\n",
       "</div>"
      ],
      "text/plain": [
       "      correct incorrect                                              paths  \\\n",
       "P2789  105201      6590  [../../allConstraintsAnalysisWRemoved/symmetri...   \n",
       "P1889  533338     24740  [../../allConstraintsAnalysisWRemoved/symmetri...   \n",
       "P197   180864      1737  [../../allConstraintsAnalysisWRemoved/symmetri...   \n",
       "\n",
       "       violation_ratio  \n",
       "P2789         0.058949  \n",
       "P1889         0.044331  \n",
       "P197          0.009513  "
      ]
     },
     "execution_count": 8,
     "metadata": {},
     "output_type": "execute_result"
    }
   ],
   "source": [
    "symmConstDF2 = pd.DataFrame(symmConstViolations['suggestion']).T\n",
    "symmConstDF2['violation_ratio'] = symmConstDF2.apply(lambda p: p.incorrect / (p.incorrect + p.correct), axis=1)\n",
    "symmConstDF2.sort_values(by=['violation_ratio'],ascending=False).head(15)"
   ]
  },
  {
   "cell_type": "code",
   "execution_count": 9,
   "id": "heavy-scout",
   "metadata": {},
   "outputs": [
    {
     "data": {
      "text/html": [
       "<div>\n",
       "<style scoped>\n",
       "    .dataframe tbody tr th:only-of-type {\n",
       "        vertical-align: middle;\n",
       "    }\n",
       "\n",
       "    .dataframe tbody tr th {\n",
       "        vertical-align: top;\n",
       "    }\n",
       "\n",
       "    .dataframe thead th {\n",
       "        text-align: right;\n",
       "    }\n",
       "</style>\n",
       "<table border=\"1\" class=\"dataframe\">\n",
       "  <thead>\n",
       "    <tr style=\"text-align: right;\">\n",
       "      <th></th>\n",
       "      <th>correct</th>\n",
       "      <th>incorrect</th>\n",
       "      <th>paths</th>\n",
       "      <th>violation_ratio</th>\n",
       "    </tr>\n",
       "  </thead>\n",
       "  <tbody>\n",
       "    <tr>\n",
       "      <th>P5188</th>\n",
       "      <td>0</td>\n",
       "      <td>5</td>\n",
       "      <td>[../../allConstraintsAnalysisWRemoved/symmetri...</td>\n",
       "      <td>1.000000</td>\n",
       "    </tr>\n",
       "    <tr>\n",
       "      <th>P5974</th>\n",
       "      <td>0</td>\n",
       "      <td>1</td>\n",
       "      <td>[../../allConstraintsAnalysisWRemoved/symmetri...</td>\n",
       "      <td>1.000000</td>\n",
       "    </tr>\n",
       "    <tr>\n",
       "      <th>P1706</th>\n",
       "      <td>12</td>\n",
       "      <td>84</td>\n",
       "      <td>[../../allConstraintsAnalysisWRemoved/symmetri...</td>\n",
       "      <td>0.875000</td>\n",
       "    </tr>\n",
       "    <tr>\n",
       "      <th>P2652</th>\n",
       "      <td>500</td>\n",
       "      <td>836</td>\n",
       "      <td>[../../allConstraintsAnalysisWRemoved/symmetri...</td>\n",
       "      <td>0.625749</td>\n",
       "    </tr>\n",
       "    <tr>\n",
       "      <th>P521</th>\n",
       "      <td>424</td>\n",
       "      <td>146</td>\n",
       "      <td>[../../allConstraintsAnalysisWRemoved/symmetri...</td>\n",
       "      <td>0.256140</td>\n",
       "    </tr>\n",
       "    <tr>\n",
       "      <th>P684</th>\n",
       "      <td>12091769</td>\n",
       "      <td>3437304</td>\n",
       "      <td>[../../allConstraintsAnalysisWRemoved/symmetri...</td>\n",
       "      <td>0.221346</td>\n",
       "    </tr>\n",
       "    <tr>\n",
       "      <th>P3032</th>\n",
       "      <td>1743</td>\n",
       "      <td>316</td>\n",
       "      <td>[../../allConstraintsAnalysisWRemoved/symmetri...</td>\n",
       "      <td>0.153473</td>\n",
       "    </tr>\n",
       "    <tr>\n",
       "      <th>P1382</th>\n",
       "      <td>11075</td>\n",
       "      <td>1657</td>\n",
       "      <td>[../../allConstraintsAnalysisWRemoved/symmetri...</td>\n",
       "      <td>0.130145</td>\n",
       "    </tr>\n",
       "    <tr>\n",
       "      <th>P2293</th>\n",
       "      <td>14736</td>\n",
       "      <td>1969</td>\n",
       "      <td>[../../allConstraintsAnalysisWRemoved/symmetri...</td>\n",
       "      <td>0.117869</td>\n",
       "    </tr>\n",
       "    <tr>\n",
       "      <th>P1327</th>\n",
       "      <td>7954</td>\n",
       "      <td>706</td>\n",
       "      <td>[../../allConstraintsAnalysisWRemoved/symmetri...</td>\n",
       "      <td>0.081524</td>\n",
       "    </tr>\n",
       "    <tr>\n",
       "      <th>P4545</th>\n",
       "      <td>46</td>\n",
       "      <td>4</td>\n",
       "      <td>[../../allConstraintsAnalysisWRemoved/symmetri...</td>\n",
       "      <td>0.080000</td>\n",
       "    </tr>\n",
       "    <tr>\n",
       "      <th>P451</th>\n",
       "      <td>11072</td>\n",
       "      <td>790</td>\n",
       "      <td>[../../allConstraintsAnalysisWRemoved/symmetri...</td>\n",
       "      <td>0.066599</td>\n",
       "    </tr>\n",
       "    <tr>\n",
       "      <th>P530</th>\n",
       "      <td>6730</td>\n",
       "      <td>382</td>\n",
       "      <td>[../../allConstraintsAnalysisWRemoved/symmetri...</td>\n",
       "      <td>0.053712</td>\n",
       "    </tr>\n",
       "    <tr>\n",
       "      <th>P3403</th>\n",
       "      <td>2174</td>\n",
       "      <td>112</td>\n",
       "      <td>[../../allConstraintsAnalysisWRemoved/symmetri...</td>\n",
       "      <td>0.048994</td>\n",
       "    </tr>\n",
       "    <tr>\n",
       "      <th>P460</th>\n",
       "      <td>265706</td>\n",
       "      <td>12622</td>\n",
       "      <td>[../../allConstraintsAnalysisWRemoved/symmetri...</td>\n",
       "      <td>0.045349</td>\n",
       "    </tr>\n",
       "  </tbody>\n",
       "</table>\n",
       "</div>"
      ],
      "text/plain": [
       "        correct incorrect                                              paths  \\\n",
       "P5188         0         5  [../../allConstraintsAnalysisWRemoved/symmetri...   \n",
       "P5974         0         1  [../../allConstraintsAnalysisWRemoved/symmetri...   \n",
       "P1706        12        84  [../../allConstraintsAnalysisWRemoved/symmetri...   \n",
       "P2652       500       836  [../../allConstraintsAnalysisWRemoved/symmetri...   \n",
       "P521        424       146  [../../allConstraintsAnalysisWRemoved/symmetri...   \n",
       "P684   12091769   3437304  [../../allConstraintsAnalysisWRemoved/symmetri...   \n",
       "P3032      1743       316  [../../allConstraintsAnalysisWRemoved/symmetri...   \n",
       "P1382     11075      1657  [../../allConstraintsAnalysisWRemoved/symmetri...   \n",
       "P2293     14736      1969  [../../allConstraintsAnalysisWRemoved/symmetri...   \n",
       "P1327      7954       706  [../../allConstraintsAnalysisWRemoved/symmetri...   \n",
       "P4545        46         4  [../../allConstraintsAnalysisWRemoved/symmetri...   \n",
       "P451      11072       790  [../../allConstraintsAnalysisWRemoved/symmetri...   \n",
       "P530       6730       382  [../../allConstraintsAnalysisWRemoved/symmetri...   \n",
       "P3403      2174       112  [../../allConstraintsAnalysisWRemoved/symmetri...   \n",
       "P460     265706     12622  [../../allConstraintsAnalysisWRemoved/symmetri...   \n",
       "\n",
       "       violation_ratio  \n",
       "P5188         1.000000  \n",
       "P5974         1.000000  \n",
       "P1706         0.875000  \n",
       "P2652         0.625749  \n",
       "P521          0.256140  \n",
       "P684          0.221346  \n",
       "P3032         0.153473  \n",
       "P1382         0.130145  \n",
       "P2293         0.117869  \n",
       "P1327         0.081524  \n",
       "P4545         0.080000  \n",
       "P451          0.066599  \n",
       "P530          0.053712  \n",
       "P3403         0.048994  \n",
       "P460          0.045349  "
      ]
     },
     "execution_count": 9,
     "metadata": {},
     "output_type": "execute_result"
    }
   ],
   "source": [
    "symmConstDF3 = pd.DataFrame(symmConstViolations['normal']).T\n",
    "symmConstDF3['violation_ratio'] = symmConstDF3.apply(lambda p: p.incorrect / (p.incorrect + p.correct), axis=1)\n",
    "symmConstDF3.sort_values(by=['violation_ratio'],ascending=False).head(15)"
   ]
  },
  {
   "cell_type": "code",
   "execution_count": 10,
   "id": "sexual-blowing",
   "metadata": {},
   "outputs": [],
   "source": [
    "# !head ../../allConstraintsAnalysisWRemoved/symmetricConstraint/normal/claims.P3032.incorrect.tsv\n",
    "\n"
   ]
  },
  {
   "cell_type": "code",
   "execution_count": 11,
   "id": "legitimate-aspect",
   "metadata": {},
   "outputs": [
    {
     "data": {
      "text/plain": [
       "Text(0.5, 1.0, 'Symmetric Normal Constraint - Violation Ratios')"
      ]
     },
     "execution_count": 11,
     "metadata": {},
     "output_type": "execute_result"
    },
    {
     "data": {
      "image/png": "[encoded data removed]",
      "text/plain": [
       "<Figure size 432x288 with 1 Axes>"
      ]
     },
     "metadata": {
      "needs_background": "light"
     },
     "output_type": "display_data"
    }
   ],
   "source": [
    "symmConstDF3.sort_values(by=['violation_ratio'],ascending=False)['violation_ratio'].plot.hist(bins=100).set_title(\"Symmetric Normal Constraint - Violation Ratios\")"
   ]
  },
  {
   "cell_type": "markdown",
   "id": "unlikely-sewing",
   "metadata": {},
   "source": [
    "### Find out time required"
   ]
  },
  {
   "cell_type": "code",
   "execution_count": 11,
   "id": "southern-reasoning",
   "metadata": {},
   "outputs": [
    {
     "data": {
      "application/vnd.jupyter.widget-view+json": {
       "model_id": "01675fcd83284c8ab2aa683f43fef458",
       "version_major": 2,
       "version_minor": 0
      },
      "text/plain": [
       "  0%|          | 0/108 [00:00<?, ?it/s]"
      ]
     },
     "metadata": {},
     "output_type": "display_data"
    }
   ],
   "source": [
    "import pandas as pd\n",
    "import os\n",
    "from tqdm.notebook import tqdm\n",
    "\n",
    "codepConstViolations = {}\n",
    "\n",
    "codepConstViolations = {}\n",
    "codepConstPropList = set()\n",
    "\n",
    "def extractTimes(filename):\n",
    "    times = []\n",
    "    with open(filename) as f:\n",
    "        for line in f:\n",
    "            if \"real\" in line:\n",
    "                line = line.strip()\n",
    "                time1 = line.split(\"\\t\")[1]\n",
    "                mins, sec = time1.split(\"m\")\n",
    "                mins = int(mins)\n",
    "                sec = float(sec[:-1])\n",
    "                times.append(60 * mins + sec)\n",
    "    return times\n",
    "\n",
    "# codepConstViolationsSummary = {}\n",
    "times = []\n",
    "filePath = '/data/wd-correctness/propertiesSplitWRemoved/checkViolations/exec_logs/'\n",
    "for filename in tqdm(os.listdir(filePath)):\n",
    "    if filename.startswith(\"symmConst_Validator_\"):\n",
    "        tempTimes = extractTimes(filePath + filename)\n",
    "        times += tempTimes"
   ]
  },
  {
   "cell_type": "code",
   "execution_count": 12,
   "id": "classical-updating",
   "metadata": {},
   "outputs": [
    {
     "name": "stdout",
     "output_type": "stream",
     "text": [
      "count     38.000000\n",
      "mean      15.315868\n",
      "std       61.526228\n",
      "min        2.069000\n",
      "25%        2.617750\n",
      "50%        3.003000\n",
      "75%        5.889250\n",
      "max      383.135000\n",
      "dtype: float64\n"
     ]
    }
   ],
   "source": [
    "print(pd.Series(times).describe())"
   ]
  },
  {
   "cell_type": "code",
   "execution_count": 13,
   "id": "fundamental-bottle",
   "metadata": {},
   "outputs": [
    {
     "data": {
      "text/plain": [
       "Text(0.5, 1.0, 'Distribution of times (in s) taken for symmetric constraint checks')"
      ]
     },
     "execution_count": 13,
     "metadata": {},
     "output_type": "execute_result"
    },
    {
     "data": {
      "image/png": "[encoded data removed]",
      "text/plain": [
       "<Figure size 432x288 with 1 Axes>"
      ]
     },
     "metadata": {
      "needs_background": "light"
     },
     "output_type": "display_data"
    }
   ],
   "source": [
    "import seaborn as sns\n",
    "sns.lineplot(data=pd.Series(times)).set_title(\"Distribution of times (in s) taken for symmetric constraint checks\")"
   ]
  },
  {
   "cell_type": "markdown",
   "id": "informed-animal",
   "metadata": {},
   "source": [
    "## Inverse Constraint (Q21510855)\n",
    "\n",
    "This constraint says, if node1 has a property with this constraint, then both `(node1)-[prop]->(node2)` and `(node2)-[prop]->(node1)` must be present with few exceptions"
   ]
  },
  {
   "cell_type": "markdown",
   "id": "dramatic-manchester",
   "metadata": {},
   "source": [
    "### Constraints File"
   ]
  },
  {
   "cell_type": "code",
   "execution_count": 4,
   "id": "leading-server",
   "metadata": {},
   "outputs": [
    {
     "name": "stdout",
     "output_type": "stream",
     "text": [
      "[2021-04-11 11:05:47 query]: SQL Translation:\r\n",
      "---------------------------------------------\r\n",
      "  SELECT *\r\n",
      "     FROM graph_1 AS graph_1_c1\r\n",
      "     WHERE graph_1_c1.\"label\"=?\r\n",
      "     AND graph_1_c1.\"node2\"=?\r\n",
      "  PARAS: ['P2302', 'Q21510855']\r\n",
      "---------------------------------------------\r\n"
     ]
    }
   ],
   "source": [
    "!kgtk --debug query -i ../../gdrive-kgtk-dump-2020-12-07/claims.properties.tsv.gz \\\n",
    "    ../../gdrive-kgtk-dump-2020-12-07/qualifiers.properties.tsv.gz \\\n",
    "    --match \"p: (nodeProp1)-[nodePropEdge:P2302]->(:Q21510855)\" \\\n",
    "    -o ../../constraintsOP/inverseConstraint/claims.constraints_list.tsv \\\n",
    "    --graph-cache ~/sqlite3_caches/temp1345.valuetype.sqlite3.db"
   ]
  },
  {
   "cell_type": "code",
   "execution_count": 5,
   "id": "offshore-sudan",
   "metadata": {},
   "outputs": [
    {
     "name": "stdout",
     "output_type": "stream",
     "text": [
      "id\tnode1\tlabel\tnode2\trank\tnode2;wikidatatype\r\n",
      "P1026-P2302-Q21510855-adc83b86-0\tP1026\tP2302\tQ21510855\tnormal\twikibase-item\r\n",
      "P1029-P2302-Q21510855-6b55e057-0\tP1029\tP2302\tQ21510855\tnormal\twikibase-item\r\n",
      "P115-P2302-Q21510855-f7aa0b78-0\tP115\tP2302\tQ21510855\tnormal\twikibase-item\r\n",
      "P1151-P2302-Q21510855-0d9aa9c6-0\tP1151\tP2302\tQ21510855\tnormal\twikibase-item\r\n",
      "P1204-P2302-Q21510855-e3d53bb6-0\tP1204\tP2302\tQ21510855\tnormal\twikibase-item\r\n",
      "P1283-P2302-Q21510855-0e7699bb-0\tP1283\tP2302\tQ21510855\tnormal\twikibase-item\r\n",
      "P1308-P2302-Q21510855-2aba96b7-0\tP1308\tP2302\tQ21510855\tnormal\twikibase-item\r\n",
      "P1365-P2302-Q21510855-c809b758-0\tP1365\tP2302\tQ21510855\tnormal\twikibase-item\r\n",
      "P1366-P2302-Q21510855-eee12ef8-0\tP1366\tP2302\tQ21510855\tnormal\twikibase-item\r\n"
     ]
    }
   ],
   "source": [
    "!head ../../constraintsOP/inverseConstraint/claims.constraints_list.tsv"
   ]
  },
  {
   "cell_type": "code",
   "execution_count": 6,
   "id": "received-colonial",
   "metadata": {},
   "outputs": [],
   "source": [
    "import pandas as pd\n",
    "qualiDF = pd.read_csv(\"../../gdrive-kgtk-dump-2020-12-07/qualifiers.properties.tsv.gz\",sep='\\t')\n",
    "constDF = pd.read_csv(\"../../constraintsOP/inverseConstraint/claims.constraints_list.tsv\",sep='\\t')"
   ]
  },
  {
   "cell_type": "code",
   "execution_count": 7,
   "id": "overall-expense",
   "metadata": {},
   "outputs": [],
   "source": [
    "constDF2 = constDF.set_index('id').join(qualiDF.set_index('node1'),rsuffix='_qualifier').drop(columns=['id', 'node2;wikidatatype_qualifier', 'rank', 'node2', 'label', 'node2;wikidatatype']).rename(columns={'label_qualifier':'label', 'node2_qualifier': 'node2'})\n",
    "constDF2 = constDF2.reset_index()\n",
    "constDF2 = constDF2.rename(columns={'index':'id'})\n",
    "constDF2['label'] = constDF2.label.fillna(\"P2316\")\n",
    "constDF2['node2'] = constDF2.node2.fillna(\"Normal\")"
   ]
  },
  {
   "cell_type": "code",
   "execution_count": 8,
   "id": "valid-throat",
   "metadata": {},
   "outputs": [],
   "source": [
    "constDF2.to_csv(\"../../constraintsOP/inverseConstraint/claims.constraints_all.tsv\",sep=\"\\t\",index=False)"
   ]
  },
  {
   "cell_type": "code",
   "execution_count": 9,
   "id": "focused-pennsylvania",
   "metadata": {},
   "outputs": [],
   "source": [
    "import pandas as pd\n",
    "import math\n",
    "dfItemRequires = pd.read_csv('../../constraintsOP/inverseConstraint/claims.constraints_all.tsv',sep='\\t')"
   ]
  },
  {
   "cell_type": "code",
   "execution_count": 10,
   "id": "moved-rental",
   "metadata": {},
   "outputs": [],
   "source": [
    "dfItemRequires = dfItemRequires.groupby(['id','node1','label']).node2.apply(lambda p: p.tolist()).reset_index()"
   ]
  },
  {
   "cell_type": "code",
   "execution_count": 11,
   "id": "attached-rings",
   "metadata": {},
   "outputs": [
    {
     "data": {
      "text/plain": [
       "array(['P2306', 'P2316', 'P4155', 'P2303'], dtype=object)"
      ]
     },
     "execution_count": 11,
     "metadata": {},
     "output_type": "execute_result"
    }
   ],
   "source": [
    "dfItemRequires['label'].unique()"
   ]
  },
  {
   "cell_type": "code",
   "execution_count": 12,
   "id": "loving-mileage",
   "metadata": {},
   "outputs": [
    {
     "data": {
      "text/plain": [
       "P2306    110\n",
       "P2316     10\n",
       "P2303      2\n",
       "P4155      1\n",
       "Name: label, dtype: int64"
      ]
     },
     "execution_count": 12,
     "metadata": {},
     "output_type": "execute_result"
    }
   ],
   "source": [
    "dfItemRequires['label'].value_counts()"
   ]
  },
  {
   "cell_type": "code",
   "execution_count": 13,
   "id": "local-forty",
   "metadata": {},
   "outputs": [],
   "source": [
    "#Reference: https://stackoverflow.com/a/17298454\n",
    "# dfItemRequires.pivot_table('node2', ['node1', 'id'], 'label')\n",
    "dfItemRequires = dfItemRequires.pivot(index=['node1','id'], columns='label', values='node2')"
   ]
  },
  {
   "cell_type": "code",
   "execution_count": 14,
   "id": "pressed-upset",
   "metadata": {},
   "outputs": [
    {
     "data": {
      "text/html": [
       "<div>\n",
       "<style scoped>\n",
       "    .dataframe tbody tr th:only-of-type {\n",
       "        vertical-align: middle;\n",
       "    }\n",
       "\n",
       "    .dataframe tbody tr th {\n",
       "        vertical-align: top;\n",
       "    }\n",
       "\n",
       "    .dataframe thead th {\n",
       "        text-align: right;\n",
       "    }\n",
       "</style>\n",
       "<table border=\"1\" class=\"dataframe\">\n",
       "  <thead>\n",
       "    <tr style=\"text-align: right;\">\n",
       "      <th></th>\n",
       "      <th>label</th>\n",
       "      <th>P2303</th>\n",
       "      <th>P2306</th>\n",
       "      <th>P2316</th>\n",
       "      <th>P4155</th>\n",
       "    </tr>\n",
       "    <tr>\n",
       "      <th>node1</th>\n",
       "      <th>id</th>\n",
       "      <th></th>\n",
       "      <th></th>\n",
       "      <th></th>\n",
       "      <th></th>\n",
       "    </tr>\n",
       "  </thead>\n",
       "  <tbody>\n",
       "    <tr>\n",
       "      <th>P1026</th>\n",
       "      <th>P1026-P2302-Q21510855-adc83b86-0</th>\n",
       "      <td>NaN</td>\n",
       "      <td>[P50]</td>\n",
       "      <td>NaN</td>\n",
       "      <td>NaN</td>\n",
       "    </tr>\n",
       "    <tr>\n",
       "      <th>P1029</th>\n",
       "      <th>P1029-P2302-Q21510855-6b55e057-0</th>\n",
       "      <td>NaN</td>\n",
       "      <td>[P5096]</td>\n",
       "      <td>NaN</td>\n",
       "      <td>NaN</td>\n",
       "    </tr>\n",
       "    <tr>\n",
       "      <th>P115</th>\n",
       "      <th>P115-P2302-Q21510855-f7aa0b78-0</th>\n",
       "      <td>NaN</td>\n",
       "      <td>[P466]</td>\n",
       "      <td>NaN</td>\n",
       "      <td>NaN</td>\n",
       "    </tr>\n",
       "    <tr>\n",
       "      <th>P1151</th>\n",
       "      <th>P1151-P2302-Q21510855-0d9aa9c6-0</th>\n",
       "      <td>NaN</td>\n",
       "      <td>[P1204]</td>\n",
       "      <td>[Q21502408]</td>\n",
       "      <td>NaN</td>\n",
       "    </tr>\n",
       "    <tr>\n",
       "      <th>P1204</th>\n",
       "      <th>P1204-P2302-Q21510855-e3d53bb6-0</th>\n",
       "      <td>NaN</td>\n",
       "      <td>[P1151]</td>\n",
       "      <td>NaN</td>\n",
       "      <td>NaN</td>\n",
       "    </tr>\n",
       "  </tbody>\n",
       "</table>\n",
       "</div>"
      ],
      "text/plain": [
       "label                                  P2303    P2306        P2316 P4155\n",
       "node1 id                                                                \n",
       "P1026 P1026-P2302-Q21510855-adc83b86-0   NaN    [P50]          NaN   NaN\n",
       "P1029 P1029-P2302-Q21510855-6b55e057-0   NaN  [P5096]          NaN   NaN\n",
       "P115  P115-P2302-Q21510855-f7aa0b78-0    NaN   [P466]          NaN   NaN\n",
       "P1151 P1151-P2302-Q21510855-0d9aa9c6-0   NaN  [P1204]  [Q21502408]   NaN\n",
       "P1204 P1204-P2302-Q21510855-e3d53bb6-0   NaN  [P1151]          NaN   NaN"
      ]
     },
     "execution_count": 14,
     "metadata": {},
     "output_type": "execute_result"
    }
   ],
   "source": [
    "dfItemRequires.head()"
   ]
  },
  {
   "cell_type": "code",
   "execution_count": 15,
   "id": "extra-stomach",
   "metadata": {},
   "outputs": [],
   "source": [
    "dfItemRequires = dfItemRequires.droplevel(1)"
   ]
  },
  {
   "cell_type": "code",
   "execution_count": 16,
   "id": "seeing-marine",
   "metadata": {},
   "outputs": [
    {
     "data": {
      "text/html": [
       "<div>\n",
       "<style scoped>\n",
       "    .dataframe tbody tr th:only-of-type {\n",
       "        vertical-align: middle;\n",
       "    }\n",
       "\n",
       "    .dataframe tbody tr th {\n",
       "        vertical-align: top;\n",
       "    }\n",
       "\n",
       "    .dataframe thead th {\n",
       "        text-align: right;\n",
       "    }\n",
       "</style>\n",
       "<table border=\"1\" class=\"dataframe\">\n",
       "  <thead>\n",
       "    <tr style=\"text-align: right;\">\n",
       "      <th>label</th>\n",
       "      <th>P2303</th>\n",
       "      <th>P2306</th>\n",
       "      <th>P2316</th>\n",
       "      <th>P4155</th>\n",
       "    </tr>\n",
       "    <tr>\n",
       "      <th>node1</th>\n",
       "      <th></th>\n",
       "      <th></th>\n",
       "      <th></th>\n",
       "      <th></th>\n",
       "    </tr>\n",
       "  </thead>\n",
       "  <tbody>\n",
       "    <tr>\n",
       "      <th>P1026</th>\n",
       "      <td>NaN</td>\n",
       "      <td>[P50]</td>\n",
       "      <td>NaN</td>\n",
       "      <td>NaN</td>\n",
       "    </tr>\n",
       "    <tr>\n",
       "      <th>P1029</th>\n",
       "      <td>NaN</td>\n",
       "      <td>[P5096]</td>\n",
       "      <td>NaN</td>\n",
       "      <td>NaN</td>\n",
       "    </tr>\n",
       "    <tr>\n",
       "      <th>P115</th>\n",
       "      <td>NaN</td>\n",
       "      <td>[P466]</td>\n",
       "      <td>NaN</td>\n",
       "      <td>NaN</td>\n",
       "    </tr>\n",
       "    <tr>\n",
       "      <th>P1151</th>\n",
       "      <td>NaN</td>\n",
       "      <td>[P1204]</td>\n",
       "      <td>[Q21502408]</td>\n",
       "      <td>NaN</td>\n",
       "    </tr>\n",
       "    <tr>\n",
       "      <th>P1204</th>\n",
       "      <td>NaN</td>\n",
       "      <td>[P1151]</td>\n",
       "      <td>NaN</td>\n",
       "      <td>NaN</td>\n",
       "    </tr>\n",
       "  </tbody>\n",
       "</table>\n",
       "</div>"
      ],
      "text/plain": [
       "label P2303    P2306        P2316 P4155\n",
       "node1                                  \n",
       "P1026   NaN    [P50]          NaN   NaN\n",
       "P1029   NaN  [P5096]          NaN   NaN\n",
       "P115    NaN   [P466]          NaN   NaN\n",
       "P1151   NaN  [P1204]  [Q21502408]   NaN\n",
       "P1204   NaN  [P1151]          NaN   NaN"
      ]
     },
     "execution_count": 16,
     "metadata": {},
     "output_type": "execute_result"
    }
   ],
   "source": [
    "dfItemRequires.head()"
   ]
  },
  {
   "cell_type": "markdown",
   "id": "composite-cutting",
   "metadata": {},
   "source": [
    "### Query Generator"
   ]
  },
  {
   "cell_type": "code",
   "execution_count": 17,
   "id": "acoustic-belarus",
   "metadata": {},
   "outputs": [
    {
     "data": {
      "application/vnd.jupyter.widget-view+json": {
       "model_id": "b59f5f665aca4df7a79eaa3420c47bc5",
       "version_major": 2,
       "version_minor": 0
      },
      "text/plain": [
       "0it [00:00, ?it/s]"
      ]
     },
     "metadata": {},
     "output_type": "display_data"
    }
   ],
   "source": [
    "from tqdm.notebook import tqdm\n",
    "import os.path\n",
    "import os\n",
    "\n",
    "cnt = 0\n",
    "fCnt = 0\n",
    "fOP = None\n",
    "\n",
    "folderName = 'inverseConstraint_Final'\n",
    "shellFileSuffix = 'invConst_Validator_new3_'\n",
    "graph_cache_file_prefix = \"inv_4_\"\n",
    "\n",
    "for prop, constraint in tqdm(dfItemRequires.iterrows()):\n",
    "#     try:\n",
    "        \n",
    "        if type(constraint['P2316']) == list:\n",
    "            if constraint['P2316'][0] == 'Q21502408':\n",
    "                subFolderName = \"mandatory\"\n",
    "            elif constraint['P2316'][0] == 'Q62026391':\n",
    "                subFolderName = \"suggestion\"\n",
    "        else:\n",
    "            subFolderName = \"normal\"\n",
    "        \n",
    "        if not(os.path.isfile(\"../../propertiesSplitWRemoved/claims.\"+ prop +\".tsv\")):\n",
    "            continue\n",
    "            \n",
    "        prop2 = constraint['P2306']\n",
    "\n",
    "        if type(prop2) != list:\n",
    "            continue\n",
    "        prop2 = prop2[0]\n",
    "\n",
    "        if not(os.path.isfile(\"../../propertiesSplitWRemoved/claims.\"+ prop2 +\".tsv\")):\n",
    "            print(f\"File: ../../propertiesSplitWRemoved/claims.{prop2}.tsv does not exist\")\n",
    "            continue\n",
    "        \n",
    "        if cnt % 40 == 0:\n",
    "            if fOP:\n",
    "                fOP.close()\n",
    "            fCnt += 1\n",
    "            fOP = open(\"../../propertiesSplitWRemoved/checkViolations/\" + shellFileSuffix + str(fCnt) + \".sh\",\"w\")\n",
    "        \n",
    "            \n",
    "        command = \"{ time ( kgtk --debug query -i ../../propertiesSplitWRemoved/claims.\"+ prop +\".tsv \\\n",
    "                        ../../propertiesSplitWRemoved/claims.\"+ prop2 +\".tsv \\\n",
    "                        --match '\"+ \\\n",
    "                        f\"{prop}: (node1)-[nodeProp]->(node2), {prop2}: (node2)-[]->(node1)' \"\n",
    "\n",
    "        if type(constraint['P2303']) != list: # Exceptions not present\n",
    "            commandRest = \" --return 'distinct nodeProp.id, node1 as `node1`, nodeProp.label as `label`, node2 as `node2`'  \\\n",
    "            -o ../../allConstraintsAnalysisWRemoved/\" + folderName + \"/\" + subFolderName + \"/claims.\"+ prop +\".correct.tsv \\\n",
    "            --graph-cache ~/sqlite3_caches/\" + str(graph_cache_file_prefix) + str(fCnt) + \".sqlite3.db; \\\n",
    "             kgtk --debug ifnotexists -i ../../propertiesSplitWRemoved/claims.\"+ prop +\".tsv \\\n",
    "            --filter-on ../../allConstraintsAnalysisWRemoved/\" + folderName + \"/\" + subFolderName + \"/claims.\"+ prop +\".correct.tsv \\\n",
    "            --filter-mode NONE \\\n",
    "            --input-keys node1 label \\\n",
    "            --filter-keys node1 label \"\n",
    "            \n",
    "            commandOPFile = \"-o ../../allConstraintsAnalysisWRemoved/\" + folderName + \"/\" + subFolderName + \"/claims.\"+ prop +\".\"\n",
    "            \n",
    "            command += commandRest + commandOPFile + \"incorrect.tsv ) } 2>> ../../propertiesSplitWRemoved/checkViolations/exec_logs/\" + shellFileSuffix + str(fCnt) + \".txt;\\n\"\n",
    "#             print(command)\n",
    "            fOP.write(command)\n",
    "        else:\n",
    "            excptns = set(constraint['P2303'])\n",
    "            commandRest = \" --return 'distinct nodeProp.id, node1 as `node1`, nodeProp.label as `label`, node2 as `node2`'  \\\n",
    "            -o ../../allConstraintsAnalysisWRemoved/\" + folderName + \"/\" + subFolderName + \"/claims.\"+ prop +\".correct_wo_exceptions.tsv \\\n",
    "            --graph-cache ~/sqlite3_caches/\" + str(graph_cache_file_prefix) + str(fCnt) + \".sqlite3.db; \\\n",
    "             kgtk --debug ifnotexists -i ../../propertiesSplitWRemoved/claims.\"+ prop +\".tsv \\\n",
    "            --filter-on ../../allConstraintsAnalysisWRemoved/\" + folderName + \"/\" + subFolderName + \"/claims.\"+ prop +\".correct_wo_exceptions.tsv \\\n",
    "            --filter-mode NONE \\\n",
    "            --input-keys node1 label \\\n",
    "            --filter-keys node1 label \"\n",
    "            \n",
    "            commandOPFile = \"-o ../../allConstraintsAnalysisWRemoved/\" + folderName + \"/\" + subFolderName + \"/claims.\"+ prop +\".\"\n",
    "            \n",
    "            command += commandRest + commandOPFile + \"incorrect_wo_exceptions.tsv; \"\n",
    "#             print(command)\n",
    "            fOP.write(command)\n",
    "            \n",
    "            command = \"  kgtk --debug query -i ../../allConstraintsAnalysisWRemoved/\" + folderName + \"/\" + subFolderName + \"/claims.\" + prop + \".incorrect_wo_exceptions.tsv \\\n",
    "                    --match '(node1)-[]->()' --where 'node1 in \" + str(list(excptns)).replace(\"'\",'\"') + \"' \\\n",
    "                    -o ../../allConstraintsAnalysisWRemoved/\" + folderName + \"/\" + subFolderName + \"/claims.\" + prop + \".incorrect_w_exceptions.tsv \\\n",
    "                    --graph-cache ~/sqlite3_caches/\" + str(graph_cache_file_prefix) + str(fCnt) + \".sqlite3.db; \"\n",
    "#             print(command)        \n",
    "            fOP.write(command)\n",
    "            \n",
    "            command = \"  kgtk --debug ifnotexists -i ../../allConstraintsAnalysisWRemoved/\" + folderName + \"/\" + subFolderName + \"/claims.\" + prop + \".incorrect_wo_exceptions.tsv \\\n",
    "            --filter-on ../../allConstraintsAnalysisWRemoved/\" + folderName + \"/\" + subFolderName + \"/claims.\" + prop + \".incorrect_w_exceptions.tsv \\\n",
    "            --filter-mode NONE \\\n",
    "            --input-keys node1 label \\\n",
    "            --filter-keys node1 label \\\n",
    "            -o ../../allConstraintsAnalysisWRemoved/\" + folderName + \"/\" + subFolderName + \"/claims.\"+ prop +\".incorrect.tsv; \"\n",
    "#             print(command)\n",
    "            fOP.write(command)\n",
    "            \n",
    "            command = \"  kgtk cat -i ../../allConstraintsAnalysisWRemoved/\" + folderName + \"/\" + subFolderName + \"/claims.\"+ prop +\".correct_wo_exceptions.tsv \\\n",
    "                    ../../allConstraintsAnalysisWRemoved/\" + folderName + \"/\" + subFolderName + \"/claims.\"+ prop +\".incorrect_w_exceptions.tsv \\\n",
    "                    -o ../../allConstraintsAnalysisWRemoved/\" + folderName + \"/\" + subFolderName + \"/claims.\"+ prop +\".correct.tsv ) } 2>> ../../propertiesSplitWRemoved/checkViolations/exec_logs/\" + shellFileSuffix + str(fCnt) + \".txt; \\n\"\n",
    "#             print(command)\n",
    "            fOP.write(command)\n",
    "        \n",
    "        \n",
    "        cnt += 1\n",
    "#     except:\n",
    "#         print(\"Something failed for prop:\",prop)\n",
    "if fOP:\n",
    "    fOP.close()"
   ]
  },
  {
   "cell_type": "code",
   "execution_count": 18,
   "id": "large-climb",
   "metadata": {},
   "outputs": [
    {
     "data": {
      "text/plain": [
       "110"
      ]
     },
     "execution_count": 18,
     "metadata": {},
     "output_type": "execute_result"
    }
   ],
   "source": [
    "cnt"
   ]
  },
  {
   "cell_type": "code",
   "execution_count": null,
   "id": "involved-vietnamese",
   "metadata": {},
   "outputs": [],
   "source": [
    "# import os\n",
    "# for i in range(1,7):\n",
    "#     os.system(\"screen -dm sh ../../propertiesSplitWRemoved/checkViolations/invConst_Validator_new3_\"+str(i)+\".sh\")"
   ]
  },
  {
   "cell_type": "markdown",
   "id": "retired-audio",
   "metadata": {},
   "source": [
    "### Analyze Violations"
   ]
  },
  {
   "cell_type": "code",
   "execution_count": 20,
   "id": "specified-evanescence",
   "metadata": {},
   "outputs": [
    {
     "data": {
      "application/vnd.jupyter.widget-view+json": {
       "model_id": "a74a23c16aba41699ee53f4b2fc430ee",
       "version_major": 2,
       "version_minor": 0
      },
      "text/plain": [
       "0it [00:00, ?it/s]"
      ]
     },
     "metadata": {},
     "output_type": "display_data"
    },
    {
     "data": {
      "application/vnd.jupyter.widget-view+json": {
       "model_id": "daa550eb584443cfa2cebf366c663cd1",
       "version_major": 2,
       "version_minor": 0
      },
      "text/plain": [
       "  0%|          | 0/12 [00:00<?, ?it/s]"
      ]
     },
     "metadata": {},
     "output_type": "display_data"
    },
    {
     "data": {
      "application/vnd.jupyter.widget-view+json": {
       "model_id": "685dc6f19fa946aab60837d34b26ed2c",
       "version_major": 2,
       "version_minor": 0
      },
      "text/plain": [
       "  0%|          | 0/206 [00:00<?, ?it/s]"
      ]
     },
     "metadata": {},
     "output_type": "display_data"
    },
    {
     "data": {
      "application/vnd.jupyter.widget-view+json": {
       "model_id": "9196990f2ed74b3b85f6acfb8f5fbca9",
       "version_major": 2,
       "version_minor": 0
      },
      "text/plain": [
       "  0%|          | 0/8 [00:00<?, ?it/s]"
      ]
     },
     "metadata": {},
     "output_type": "display_data"
    }
   ],
   "source": [
    "import pandas as pd\n",
    "import os\n",
    "from tqdm.notebook import tqdm\n",
    "\n",
    "invConstViolations = {}\n",
    "\n",
    "def countLines(fname):\n",
    "    cnt = -1\n",
    "    with open(fname, 'r') as f:\n",
    "        for line in f:\n",
    "            cnt += 1\n",
    "    return cnt\n",
    "\n",
    "invConstViolations = {}\n",
    "invConstPropList = set()\n",
    "\n",
    "# codepConstViolationsSummary = {}\n",
    "\n",
    "\n",
    "filePath = \"../../allConstraintsAnalysisWRemoved/inverseConstraint_Final/\"\n",
    "for folder in tqdm(iter(['mandatory','normal','suggestion'])):\n",
    "    for filename in tqdm(os.listdir(filePath + folder)):\n",
    "        prop = filename.split(\".\")[1]\n",
    "        correctness = filename.split(\".\")[2]\n",
    "        if correctness not in ['correct','incorrect']:\n",
    "            continue\n",
    "        invConstPropList.add(prop)\n",
    "        count1 = countLines(filePath+folder+'/'+filename)\n",
    "        if folder not in invConstViolations:\n",
    "            invConstViolations[folder] = {}\n",
    "        if prop not in invConstViolations[folder]:\n",
    "            invConstViolations[folder][prop] = {'correct': 0, 'incorrect': 0, 'paths': []}\n",
    "        invConstViolations[folder][prop][correctness] = count1\n",
    "        invConstViolations[folder][prop]['paths'].append(filePath+folder+'/'+filename)"
   ]
  },
  {
   "cell_type": "code",
   "execution_count": 21,
   "id": "circular-africa",
   "metadata": {},
   "outputs": [
    {
     "data": {
      "text/plain": [
       "110"
      ]
     },
     "execution_count": 21,
     "metadata": {},
     "output_type": "execute_result"
    }
   ],
   "source": [
    "len(invConstPropList)"
   ]
  },
  {
   "cell_type": "code",
   "execution_count": 22,
   "id": "recreational-world",
   "metadata": {},
   "outputs": [
    {
     "data": {
      "application/vnd.jupyter.widget-view+json": {
       "model_id": "71e0e1be64f54492970176a634e04b60",
       "version_major": 2,
       "version_minor": 0
      },
      "text/plain": [
       "0it [00:00, ?it/s]"
      ]
     },
     "metadata": {},
     "output_type": "display_data"
    }
   ],
   "source": [
    "invConstViolationsSummary = {}\n",
    "for folder in tqdm(iter(['mandatory','normal','suggestion'])):\n",
    "    invConstViolationsSummary[folder] = {'correct': 0, 'incorrect': 0}\n",
    "    for prop in invConstViolations[folder].keys():\n",
    "        invConstViolationsSummary[folder]['correct'] += invConstViolations[folder][prop]['correct']\n",
    "        invConstViolationsSummary[folder]['incorrect'] += invConstViolations[folder][prop]['incorrect']\n",
    "    invConstViolationsSummary[folder]['total'] = invConstViolationsSummary[folder]['correct'] + invConstViolationsSummary[folder]['incorrect']\n",
    "    invConstViolationsSummary[folder]['percIncorrect'] = invConstViolationsSummary[folder]['incorrect'] / invConstViolationsSummary[folder]['total'] * 100\n",
    "    invConstViolationsSummary[folder]['propCount'] = len(invConstViolations[folder].keys())"
   ]
  },
  {
   "cell_type": "code",
   "execution_count": 23,
   "id": "headed-singer",
   "metadata": {},
   "outputs": [
    {
     "data": {
      "text/plain": [
       "{'mandatory': {'correct': 6872,\n",
       "  'incorrect': 143,\n",
       "  'total': 7015,\n",
       "  'percIncorrect': 2.0384889522451886,\n",
       "  'propCount': 6},\n",
       " 'normal': {'correct': 7489249,\n",
       "  'incorrect': 328065,\n",
       "  'total': 7817314,\n",
       "  'percIncorrect': 4.1966460602708295,\n",
       "  'propCount': 100},\n",
       " 'suggestion': {'correct': 2150990,\n",
       "  'incorrect': 99214,\n",
       "  'total': 2250204,\n",
       "  'percIncorrect': 4.409111351681892,\n",
       "  'propCount': 4}}"
      ]
     },
     "execution_count": 23,
     "metadata": {},
     "output_type": "execute_result"
    }
   ],
   "source": [
    "invConstViolationsSummary"
   ]
  },
  {
   "cell_type": "code",
   "execution_count": 24,
   "id": "russian-steering",
   "metadata": {},
   "outputs": [
    {
     "data": {
      "text/plain": [
       "10074533"
      ]
     },
     "execution_count": 24,
     "metadata": {},
     "output_type": "execute_result"
    }
   ],
   "source": [
    "noOfStmts = 0\n",
    "for fold in invConstViolationsSummary.keys():\n",
    "    noOfStmts += invConstViolationsSummary[fold]['total']\n",
    "noOfStmts"
   ]
  },
  {
   "cell_type": "code",
   "execution_count": 25,
   "id": "sustained-prediction",
   "metadata": {},
   "outputs": [
    {
     "data": {
      "text/html": [
       "<div>\n",
       "<style scoped>\n",
       "    .dataframe tbody tr th:only-of-type {\n",
       "        vertical-align: middle;\n",
       "    }\n",
       "\n",
       "    .dataframe tbody tr th {\n",
       "        vertical-align: top;\n",
       "    }\n",
       "\n",
       "    .dataframe thead th {\n",
       "        text-align: right;\n",
       "    }\n",
       "</style>\n",
       "<table border=\"1\" class=\"dataframe\">\n",
       "  <thead>\n",
       "    <tr style=\"text-align: right;\">\n",
       "      <th></th>\n",
       "      <th>correct</th>\n",
       "      <th>incorrect</th>\n",
       "      <th>paths</th>\n",
       "      <th>violation_ratio</th>\n",
       "    </tr>\n",
       "  </thead>\n",
       "  <tbody>\n",
       "    <tr>\n",
       "      <th>P2673</th>\n",
       "      <td>839</td>\n",
       "      <td>67</td>\n",
       "      <td>[../../allConstraintsAnalysisWRemoved/inverseC...</td>\n",
       "      <td>0.073951</td>\n",
       "    </tr>\n",
       "    <tr>\n",
       "      <th>P4147</th>\n",
       "      <td>286</td>\n",
       "      <td>8</td>\n",
       "      <td>[../../allConstraintsAnalysisWRemoved/inverseC...</td>\n",
       "      <td>0.027211</td>\n",
       "    </tr>\n",
       "    <tr>\n",
       "      <th>P4149</th>\n",
       "      <td>286</td>\n",
       "      <td>4</td>\n",
       "      <td>[../../allConstraintsAnalysisWRemoved/inverseC...</td>\n",
       "      <td>0.013793</td>\n",
       "    </tr>\n",
       "    <tr>\n",
       "      <th>P2033</th>\n",
       "      <td>1879</td>\n",
       "      <td>25</td>\n",
       "      <td>[../../allConstraintsAnalysisWRemoved/inverseC...</td>\n",
       "      <td>0.013130</td>\n",
       "    </tr>\n",
       "    <tr>\n",
       "      <th>P450</th>\n",
       "      <td>1779</td>\n",
       "      <td>22</td>\n",
       "      <td>[../../allConstraintsAnalysisWRemoved/inverseC...</td>\n",
       "      <td>0.012215</td>\n",
       "    </tr>\n",
       "    <tr>\n",
       "      <th>P1151</th>\n",
       "      <td>1803</td>\n",
       "      <td>17</td>\n",
       "      <td>[../../allConstraintsAnalysisWRemoved/inverseC...</td>\n",
       "      <td>0.009341</td>\n",
       "    </tr>\n",
       "  </tbody>\n",
       "</table>\n",
       "</div>"
      ],
      "text/plain": [
       "      correct incorrect                                              paths  \\\n",
       "P2673     839        67  [../../allConstraintsAnalysisWRemoved/inverseC...   \n",
       "P4147     286         8  [../../allConstraintsAnalysisWRemoved/inverseC...   \n",
       "P4149     286         4  [../../allConstraintsAnalysisWRemoved/inverseC...   \n",
       "P2033    1879        25  [../../allConstraintsAnalysisWRemoved/inverseC...   \n",
       "P450     1779        22  [../../allConstraintsAnalysisWRemoved/inverseC...   \n",
       "P1151    1803        17  [../../allConstraintsAnalysisWRemoved/inverseC...   \n",
       "\n",
       "       violation_ratio  \n",
       "P2673         0.073951  \n",
       "P4147         0.027211  \n",
       "P4149         0.013793  \n",
       "P2033         0.013130  \n",
       "P450          0.012215  \n",
       "P1151         0.009341  "
      ]
     },
     "execution_count": 25,
     "metadata": {},
     "output_type": "execute_result"
    }
   ],
   "source": [
    "invConstDF1 = pd.DataFrame(invConstViolations['mandatory']).T\n",
    "invConstDF1['violation_ratio'] = invConstDF1.apply(lambda p: p.incorrect / (p.correct + p.incorrect), axis=1)\n",
    "invConstDF1.sort_values(by=['violation_ratio'],ascending=False).head(15)"
   ]
  },
  {
   "cell_type": "code",
   "execution_count": 26,
   "id": "valid-symposium",
   "metadata": {},
   "outputs": [
    {
     "data": {
      "text/html": [
       "<div>\n",
       "<style scoped>\n",
       "    .dataframe tbody tr th:only-of-type {\n",
       "        vertical-align: middle;\n",
       "    }\n",
       "\n",
       "    .dataframe tbody tr th {\n",
       "        vertical-align: top;\n",
       "    }\n",
       "\n",
       "    .dataframe thead th {\n",
       "        text-align: right;\n",
       "    }\n",
       "</style>\n",
       "<table border=\"1\" class=\"dataframe\">\n",
       "  <thead>\n",
       "    <tr style=\"text-align: right;\">\n",
       "      <th></th>\n",
       "      <th>correct</th>\n",
       "      <th>incorrect</th>\n",
       "      <th>paths</th>\n",
       "      <th>violation_ratio</th>\n",
       "    </tr>\n",
       "  </thead>\n",
       "  <tbody>\n",
       "    <tr>\n",
       "      <th>P1434</th>\n",
       "      <td>3677</td>\n",
       "      <td>5003</td>\n",
       "      <td>[../../allConstraintsAnalysisWRemoved/inverseC...</td>\n",
       "      <td>0.576382</td>\n",
       "    </tr>\n",
       "    <tr>\n",
       "      <th>P155</th>\n",
       "      <td>1036647</td>\n",
       "      <td>53103</td>\n",
       "      <td>[../../allConstraintsAnalysisWRemoved/inverseC...</td>\n",
       "      <td>0.048730</td>\n",
       "    </tr>\n",
       "    <tr>\n",
       "      <th>P156</th>\n",
       "      <td>1036636</td>\n",
       "      <td>40868</td>\n",
       "      <td>[../../allConstraintsAnalysisWRemoved/inverseC...</td>\n",
       "      <td>0.037928</td>\n",
       "    </tr>\n",
       "    <tr>\n",
       "      <th>P629</th>\n",
       "      <td>74030</td>\n",
       "      <td>240</td>\n",
       "      <td>[../../allConstraintsAnalysisWRemoved/inverseC...</td>\n",
       "      <td>0.003231</td>\n",
       "    </tr>\n",
       "  </tbody>\n",
       "</table>\n",
       "</div>"
      ],
      "text/plain": [
       "       correct incorrect                                              paths  \\\n",
       "P1434     3677      5003  [../../allConstraintsAnalysisWRemoved/inverseC...   \n",
       "P155   1036647     53103  [../../allConstraintsAnalysisWRemoved/inverseC...   \n",
       "P156   1036636     40868  [../../allConstraintsAnalysisWRemoved/inverseC...   \n",
       "P629     74030       240  [../../allConstraintsAnalysisWRemoved/inverseC...   \n",
       "\n",
       "       violation_ratio  \n",
       "P1434         0.576382  \n",
       "P155          0.048730  \n",
       "P156          0.037928  \n",
       "P629          0.003231  "
      ]
     },
     "execution_count": 26,
     "metadata": {},
     "output_type": "execute_result"
    }
   ],
   "source": [
    "invConstDF2 = pd.DataFrame(invConstViolations['suggestion']).T\n",
    "invConstDF2['violation_ratio'] = invConstDF2.apply(lambda p: p.incorrect / (p.correct + p.incorrect), axis=1)\n",
    "invConstDF2.sort_values(by=['violation_ratio'],ascending=False).head(15)"
   ]
  },
  {
   "cell_type": "code",
   "execution_count": 27,
   "id": "resident-mustang",
   "metadata": {},
   "outputs": [
    {
     "data": {
      "text/html": [
       "<div>\n",
       "<style scoped>\n",
       "    .dataframe tbody tr th:only-of-type {\n",
       "        vertical-align: middle;\n",
       "    }\n",
       "\n",
       "    .dataframe tbody tr th {\n",
       "        vertical-align: top;\n",
       "    }\n",
       "\n",
       "    .dataframe thead th {\n",
       "        text-align: right;\n",
       "    }\n",
       "</style>\n",
       "<table border=\"1\" class=\"dataframe\">\n",
       "  <thead>\n",
       "    <tr style=\"text-align: right;\">\n",
       "      <th></th>\n",
       "      <th>correct</th>\n",
       "      <th>incorrect</th>\n",
       "      <th>paths</th>\n",
       "      <th>violation_ratio</th>\n",
       "    </tr>\n",
       "  </thead>\n",
       "  <tbody>\n",
       "    <tr>\n",
       "      <th>P1605</th>\n",
       "      <td>13</td>\n",
       "      <td>190</td>\n",
       "      <td>[../../allConstraintsAnalysisWRemoved/inverseC...</td>\n",
       "      <td>0.935961</td>\n",
       "    </tr>\n",
       "    <tr>\n",
       "      <th>P3448</th>\n",
       "      <td>605</td>\n",
       "      <td>4575</td>\n",
       "      <td>[../../allConstraintsAnalysisWRemoved/inverseC...</td>\n",
       "      <td>0.883205</td>\n",
       "    </tr>\n",
       "    <tr>\n",
       "      <th>P925</th>\n",
       "      <td>1</td>\n",
       "      <td>5</td>\n",
       "      <td>[../../allConstraintsAnalysisWRemoved/inverseC...</td>\n",
       "      <td>0.833333</td>\n",
       "    </tr>\n",
       "    <tr>\n",
       "      <th>P926</th>\n",
       "      <td>1</td>\n",
       "      <td>5</td>\n",
       "      <td>[../../allConstraintsAnalysisWRemoved/inverseC...</td>\n",
       "      <td>0.833333</td>\n",
       "    </tr>\n",
       "    <tr>\n",
       "      <th>P1029</th>\n",
       "      <td>490</td>\n",
       "      <td>2397</td>\n",
       "      <td>[../../allConstraintsAnalysisWRemoved/inverseC...</td>\n",
       "      <td>0.830274</td>\n",
       "    </tr>\n",
       "    <tr>\n",
       "      <th>P115</th>\n",
       "      <td>6948</td>\n",
       "      <td>24721</td>\n",
       "      <td>[../../allConstraintsAnalysisWRemoved/inverseC...</td>\n",
       "      <td>0.780606</td>\n",
       "    </tr>\n",
       "    <tr>\n",
       "      <th>P5134</th>\n",
       "      <td>23</td>\n",
       "      <td>54</td>\n",
       "      <td>[../../allConstraintsAnalysisWRemoved/inverseC...</td>\n",
       "      <td>0.701299</td>\n",
       "    </tr>\n",
       "    <tr>\n",
       "      <th>P3816</th>\n",
       "      <td>14</td>\n",
       "      <td>27</td>\n",
       "      <td>[../../allConstraintsAnalysisWRemoved/inverseC...</td>\n",
       "      <td>0.658537</td>\n",
       "    </tr>\n",
       "    <tr>\n",
       "      <th>P1283</th>\n",
       "      <td>1405</td>\n",
       "      <td>2423</td>\n",
       "      <td>[../../allConstraintsAnalysisWRemoved/inverseC...</td>\n",
       "      <td>0.632968</td>\n",
       "    </tr>\n",
       "    <tr>\n",
       "      <th>P8625</th>\n",
       "      <td>9</td>\n",
       "      <td>15</td>\n",
       "      <td>[../../allConstraintsAnalysisWRemoved/inverseC...</td>\n",
       "      <td>0.625000</td>\n",
       "    </tr>\n",
       "    <tr>\n",
       "      <th>P5132</th>\n",
       "      <td>81</td>\n",
       "      <td>90</td>\n",
       "      <td>[../../allConstraintsAnalysisWRemoved/inverseC...</td>\n",
       "      <td>0.526316</td>\n",
       "    </tr>\n",
       "    <tr>\n",
       "      <th>P425</th>\n",
       "      <td>2741</td>\n",
       "      <td>2938</td>\n",
       "      <td>[../../allConstraintsAnalysisWRemoved/inverseC...</td>\n",
       "      <td>0.517345</td>\n",
       "    </tr>\n",
       "    <tr>\n",
       "      <th>P2512</th>\n",
       "      <td>221</td>\n",
       "      <td>159</td>\n",
       "      <td>[../../allConstraintsAnalysisWRemoved/inverseC...</td>\n",
       "      <td>0.418421</td>\n",
       "    </tr>\n",
       "    <tr>\n",
       "      <th>P1677</th>\n",
       "      <td>6</td>\n",
       "      <td>4</td>\n",
       "      <td>[../../allConstraintsAnalysisWRemoved/inverseC...</td>\n",
       "      <td>0.400000</td>\n",
       "    </tr>\n",
       "    <tr>\n",
       "      <th>P2578</th>\n",
       "      <td>1111</td>\n",
       "      <td>622</td>\n",
       "      <td>[../../allConstraintsAnalysisWRemoved/inverseC...</td>\n",
       "      <td>0.358915</td>\n",
       "    </tr>\n",
       "  </tbody>\n",
       "</table>\n",
       "</div>"
      ],
      "text/plain": [
       "      correct incorrect                                              paths  \\\n",
       "P1605      13       190  [../../allConstraintsAnalysisWRemoved/inverseC...   \n",
       "P3448     605      4575  [../../allConstraintsAnalysisWRemoved/inverseC...   \n",
       "P925        1         5  [../../allConstraintsAnalysisWRemoved/inverseC...   \n",
       "P926        1         5  [../../allConstraintsAnalysisWRemoved/inverseC...   \n",
       "P1029     490      2397  [../../allConstraintsAnalysisWRemoved/inverseC...   \n",
       "P115     6948     24721  [../../allConstraintsAnalysisWRemoved/inverseC...   \n",
       "P5134      23        54  [../../allConstraintsAnalysisWRemoved/inverseC...   \n",
       "P3816      14        27  [../../allConstraintsAnalysisWRemoved/inverseC...   \n",
       "P1283    1405      2423  [../../allConstraintsAnalysisWRemoved/inverseC...   \n",
       "P8625       9        15  [../../allConstraintsAnalysisWRemoved/inverseC...   \n",
       "P5132      81        90  [../../allConstraintsAnalysisWRemoved/inverseC...   \n",
       "P425     2741      2938  [../../allConstraintsAnalysisWRemoved/inverseC...   \n",
       "P2512     221       159  [../../allConstraintsAnalysisWRemoved/inverseC...   \n",
       "P1677       6         4  [../../allConstraintsAnalysisWRemoved/inverseC...   \n",
       "P2578    1111       622  [../../allConstraintsAnalysisWRemoved/inverseC...   \n",
       "\n",
       "       violation_ratio  \n",
       "P1605         0.935961  \n",
       "P3448         0.883205  \n",
       "P925          0.833333  \n",
       "P926          0.833333  \n",
       "P1029         0.830274  \n",
       "P115          0.780606  \n",
       "P5134         0.701299  \n",
       "P3816         0.658537  \n",
       "P1283         0.632968  \n",
       "P8625         0.625000  \n",
       "P5132         0.526316  \n",
       "P425          0.517345  \n",
       "P2512         0.418421  \n",
       "P1677         0.400000  \n",
       "P2578         0.358915  "
      ]
     },
     "execution_count": 27,
     "metadata": {},
     "output_type": "execute_result"
    }
   ],
   "source": [
    "invConstDF3 = pd.DataFrame(invConstViolations['normal']).T\n",
    "invConstDF3['violation_ratio'] = invConstDF3.apply(lambda p: p.incorrect / (p.correct + p.incorrect), axis=1)\n",
    "invConstDF3.sort_values(by=['violation_ratio'],ascending=False).head(15)"
   ]
  },
  {
   "cell_type": "code",
   "execution_count": 28,
   "id": "dietary-venue",
   "metadata": {},
   "outputs": [
    {
     "name": "stdout",
     "output_type": "stream",
     "text": [
      "head: cannot open ‘../../allConstraintsAnalysisWRemoved/inverseConstraint/normal/claims.P925.incorrect.tsv’ for reading: No such file or directory\r\n"
     ]
    }
   ],
   "source": [
    "!head ../../allConstraintsAnalysisWRemoved/inverseConstraint/normal/claims.P925.incorrect.tsv"
   ]
  },
  {
   "cell_type": "code",
   "execution_count": 29,
   "id": "entire-gauge",
   "metadata": {},
   "outputs": [
    {
     "data": {
      "text/plain": [
       "Text(0.5, 1.0, 'Symmetric Normal Constraint - Violation Ratios')"
      ]
     },
     "execution_count": 29,
     "metadata": {},
     "output_type": "execute_result"
    },
    {
     "data": {
      "image/png": "[encoded data removed]",
      "text/plain": [
       "<Figure size 432x288 with 1 Axes>"
      ]
     },
     "metadata": {
      "needs_background": "light"
     },
     "output_type": "display_data"
    }
   ],
   "source": [
    "invConstDF3.sort_values(by=['violation_ratio'],ascending=False)['violation_ratio'].plot.hist(bins=100).set_title(\"Symmetric Normal Constraint - Violation Ratios\")"
   ]
  },
  {
   "cell_type": "markdown",
   "id": "working-stable",
   "metadata": {},
   "source": [
    "### Find out time required"
   ]
  },
  {
   "cell_type": "code",
   "execution_count": 55,
   "id": "saved-twelve",
   "metadata": {},
   "outputs": [
    {
     "data": {
      "application/vnd.jupyter.widget-view+json": {
       "model_id": "2e8a241c831b4968ae22d06c22c6e85e",
       "version_major": 2,
       "version_minor": 0
      },
      "text/plain": [
       "  0%|          | 0/122 [00:00<?, ?it/s]"
      ]
     },
     "metadata": {},
     "output_type": "display_data"
    }
   ],
   "source": [
    "import pandas as pd\n",
    "import os\n",
    "from tqdm.notebook import tqdm\n",
    "\n",
    "codepConstViolations = {}\n",
    "\n",
    "codepConstViolations = {}\n",
    "codepConstPropList = set()\n",
    "\n",
    "def extractTimes(filename):\n",
    "    times = []\n",
    "    with open(filename) as f:\n",
    "        for line in f:\n",
    "            if \"real\" in line:\n",
    "                line = line.strip()\n",
    "                time1 = line.split(\"\\t\")[1]\n",
    "                mins, sec = time1.split(\"m\")\n",
    "                mins = int(mins)\n",
    "                sec = float(sec[:-1])\n",
    "                times.append(60 * mins + sec)\n",
    "    return times\n",
    "\n",
    "# codepConstViolationsSummary = {}\n",
    "times = []\n",
    "filePath = '/data/wd-correctness/propertiesSplitWRemoved/checkViolations/exec_logs/'\n",
    "for filename in tqdm(os.listdir(filePath)):\n",
    "    if filename.startswith(\"invConst_Validator_new3\"):\n",
    "        tempTimes = extractTimes(filePath + filename)\n",
    "        times += tempTimes"
   ]
  },
  {
   "cell_type": "code",
   "execution_count": 56,
   "id": "caroline-observation",
   "metadata": {},
   "outputs": [
    {
     "name": "stdout",
     "output_type": "stream",
     "text": [
      "count    110.000000\n",
      "mean       7.526318\n",
      "std       11.686634\n",
      "min        1.519000\n",
      "25%        2.624000\n",
      "50%        3.298500\n",
      "75%        6.463250\n",
      "max       80.846000\n",
      "dtype: float64\n"
     ]
    }
   ],
   "source": [
    "print(pd.Series(times).describe())"
   ]
  },
  {
   "cell_type": "code",
   "execution_count": 57,
   "id": "static-conclusion",
   "metadata": {},
   "outputs": [
    {
     "data": {
      "text/plain": [
       "Text(0.5, 1.0, 'Distribution of times (in s) taken for symmetric constraint checks')"
      ]
     },
     "execution_count": 57,
     "metadata": {},
     "output_type": "execute_result"
    },
    {
     "data": {
      "image/png": "[encoded data removed]",
      "text/plain": [
       "<Figure size 432x288 with 1 Axes>"
      ]
     },
     "metadata": {
      "needs_background": "light"
     },
     "output_type": "display_data"
    }
   ],
   "source": [
    "import seaborn as sns\n",
    "sns.lineplot(data=pd.Series(times)).set_title(\"Distribution of times (in s) taken for symmetric constraint checks\")"
   ]
  },
  {
   "cell_type": "code",
   "execution_count": null,
   "id": "numerical-month",
   "metadata": {},
   "outputs": [],
   "source": []
  },
  {
   "cell_type": "markdown",
   "id": "stuck-criticism",
   "metadata": {},
   "source": [
    "# Analysis on properties with constraints"
   ]
  },
  {
   "cell_type": "code",
   "execution_count": 26,
   "id": "driven-reference",
   "metadata": {},
   "outputs": [
    {
     "name": "stdout",
     "output_type": "stream",
     "text": [
      "[2021-04-03 09:14:12 query]: SQL Translation:\r\n",
      "---------------------------------------------\r\n",
      "  SELECT *\r\n",
      "     FROM graph_1 AS graph_1_c1\r\n",
      "     WHERE graph_1_c1.\"label\"=?\r\n",
      "  PARAS: ['P2302']\r\n",
      "---------------------------------------------\r\n"
     ]
    }
   ],
   "source": [
    "!kgtk --debug query -i ../../gdrive-kgtk-dump-2020-12-07/claims.properties.tsv.gz \\\n",
    "    ../../gdrive-kgtk-dump-2020-12-07/qualifiers.properties.tsv.gz \\\n",
    "    --match \"p: (nodeProp1)-[nodePropEdge:P2302]->()\" \\\n",
    "    -o ../../constraintsOP/claims.constraints_list.tsv \\\n",
    "    --graph-cache ~/sqlite3_caches/temp1345.valuetype.sqlite3.db"
   ]
  },
  {
   "cell_type": "code",
   "execution_count": 39,
   "id": "exciting-focus",
   "metadata": {},
   "outputs": [],
   "source": [
    "!kgtk unique -i ../../gdrive-kgtk-dump-2020-12-07/claims.properties.tsv.gz --column node1 -o ../../constraintsOP/claims.propList.tsv"
   ]
  },
  {
   "cell_type": "code",
   "execution_count": 42,
   "id": "flush-romania",
   "metadata": {},
   "outputs": [
    {
     "name": "stdout",
     "output_type": "stream",
     "text": [
      "node1\tlabel\tnode2\r\n",
      "P10\tcount\t17\r\n",
      "P1000\tcount\t10\r\n",
      "P1001\tcount\t26\r\n",
      "P1002\tcount\t9\r\n",
      "P1003\tcount\t20\r\n",
      "P1004\tcount\t33\r\n",
      "P1005\tcount\t21\r\n",
      "P1006\tcount\t26\r\n",
      "P1007\tcount\t19\r\n"
     ]
    }
   ],
   "source": [
    "!head ../../constraintsOP/claims.propList.tsv"
   ]
  },
  {
   "cell_type": "code",
   "execution_count": 43,
   "id": "chemical-harris",
   "metadata": {},
   "outputs": [],
   "source": [
    "import pandas as pd\n",
    "import os\n",
    "props = pd.read_csv(\"../../constraintsOP/claims.constraints_list.tsv\", sep='\\t')"
   ]
  },
  {
   "cell_type": "code",
   "execution_count": 44,
   "id": "higher-underground",
   "metadata": {},
   "outputs": [],
   "source": [
    "props2 = props.groupby(['node1']).node2.apply(list)"
   ]
  },
  {
   "cell_type": "code",
   "execution_count": 45,
   "id": "light-appreciation",
   "metadata": {},
   "outputs": [
    {
     "data": {
      "text/plain": [
       "8100"
      ]
     },
     "execution_count": 45,
     "metadata": {},
     "output_type": "execute_result"
    }
   ],
   "source": [
    "len(props2)"
   ]
  },
  {
   "cell_type": "code",
   "execution_count": 48,
   "id": "yellow-helmet",
   "metadata": {},
   "outputs": [
    {
     "data": {
      "text/plain": [
       "(2336, 8100)"
      ]
     },
     "execution_count": 48,
     "metadata": {},
     "output_type": "execute_result"
    }
   ],
   "source": [
    "cnt = 0\n",
    "totalCnt = 0\n",
    "for prop in props2.index:\n",
    "    totalCnt += 1\n",
    "    if not(os.path.isfile(\"../../propertiesSplitWRemoved/claims.\"+ prop +\".tsv\")):\n",
    "        continue\n",
    "    else:\n",
    "        cnt += 1\n",
    "cnt, totalCnt"
   ]
  },
  {
   "cell_type": "code",
   "execution_count": 50,
   "id": "detected-skiing",
   "metadata": {
    "scrolled": true
   },
   "outputs": [
    {
     "data": {
      "text/plain": [
       "node1\n",
       "P10      [Q21502404, Q21510851, Q21510852, Q52004125, Q...\n",
       "P1000                    [Q21510856, Q21510865, Q53869507]\n",
       "P1001         [Q21502838, Q21503250, Q21510865, Q25796498]\n",
       "P1002                               [Q21503250, Q21510865]\n",
       "P1003    [Q19474404, Q21502404, Q21502410, Q21510851, Q...\n",
       "                               ...                        \n",
       "P1563    [Q19474404, Q21502404, Q21502410, Q21503247, Q...\n",
       "P1564    [Q19474404, Q21502404, Q21502410, Q21503247, Q...\n",
       "P1565    [Q19474404, Q21502404, Q21502410, Q21503247, Q...\n",
       "P1566    [Q19474404, Q21502404, Q21502410, Q21502838, Q...\n",
       "P1567    [Q19474404, Q21502404, Q21502410, Q21502838, Q...\n",
       "Name: node2, Length: 500, dtype: object"
      ]
     },
     "execution_count": 50,
     "metadata": {},
     "output_type": "execute_result"
    }
   ],
   "source": [
    "props2.head(500)"
   ]
  },
  {
   "cell_type": "code",
   "execution_count": 32,
   "id": "processed-perfume",
   "metadata": {},
   "outputs": [],
   "source": [
    "import pandas as pd\n",
    "import os\n",
    "props2 = pd.read_csv(\"../../constraintsOP/claims.propList.tsv\", sep='\\t')"
   ]
  },
  {
   "cell_type": "code",
   "execution_count": 33,
   "id": "increasing-graphics",
   "metadata": {},
   "outputs": [],
   "source": [
    "props2 = props2.groupby(['node1']).node2.apply(list)"
   ]
  },
  {
   "cell_type": "code",
   "execution_count": 34,
   "id": "posted-ukraine",
   "metadata": {},
   "outputs": [
    {
     "data": {
      "text/plain": [
       "8193"
      ]
     },
     "execution_count": 34,
     "metadata": {},
     "output_type": "execute_result"
    }
   ],
   "source": [
    "len(props2)"
   ]
  },
  {
   "cell_type": "code",
   "execution_count": 35,
   "id": "fifth-provision",
   "metadata": {},
   "outputs": [
    {
     "data": {
      "text/plain": [
       "(2415, 8193)"
      ]
     },
     "execution_count": 35,
     "metadata": {},
     "output_type": "execute_result"
    }
   ],
   "source": [
    "cnt = 0\n",
    "totalCnt = 0\n",
    "for prop in props2.index:\n",
    "    totalCnt += 1\n",
    "    if not(os.path.isfile(\"../../propertiesSplitWRemoved/claims.\"+ prop +\".tsv\")):\n",
    "        continue\n",
    "    else:\n",
    "        cnt += 1\n",
    "cnt, totalCnt"
   ]
  },
  {
   "cell_type": "code",
   "execution_count": 50,
   "id": "married-heating",
   "metadata": {
    "scrolled": true
   },
   "outputs": [
    {
     "data": {
      "text/plain": [
       "node1\n",
       "P10      [Q21502404, Q21510851, Q21510852, Q52004125, Q...\n",
       "P1000                    [Q21510856, Q21510865, Q53869507]\n",
       "P1001         [Q21502838, Q21503250, Q21510865, Q25796498]\n",
       "P1002                               [Q21503250, Q21510865]\n",
       "P1003    [Q19474404, Q21502404, Q21502410, Q21510851, Q...\n",
       "                               ...                        \n",
       "P1563    [Q19474404, Q21502404, Q21502410, Q21503247, Q...\n",
       "P1564    [Q19474404, Q21502404, Q21502410, Q21503247, Q...\n",
       "P1565    [Q19474404, Q21502404, Q21502410, Q21503247, Q...\n",
       "P1566    [Q19474404, Q21502404, Q21502410, Q21502838, Q...\n",
       "P1567    [Q19474404, Q21502404, Q21502410, Q21502838, Q...\n",
       "Name: node2, Length: 500, dtype: object"
      ]
     },
     "execution_count": 50,
     "metadata": {},
     "output_type": "execute_result"
    }
   ],
   "source": [
    "props2.head(500)"
   ]
  },
  {
   "cell_type": "code",
   "execution_count": null,
   "id": "magnetic-conditions",
   "metadata": {},
   "outputs": [],
   "source": []
  }
 ],
 "metadata": {
  "kernelspec": {
   "display_name": "kgtkEnv",
   "language": "python",
   "name": "kgtkenv"
  },
  "language_info": {
   "codemirror_mode": {
    "name": "ipython",
    "version": 3
   },
   "file_extension": ".py",
   "mimetype": "text/x-python",
   "name": "python",
   "nbconvert_exporter": "python",
   "pygments_lexer": "ipython3",
   "version": "3.8.5"
  },
  "toc": {
   "base_numbering": 1,
   "nav_menu": {},
   "number_sections": true,
   "sideBar": true,
   "skip_h1_title": false,
   "title_cell": "Table of Contents",
   "title_sidebar": "Contents",
   "toc_cell": false,
   "toc_position": {
    "height": "calc(100% - 180px)",
    "left": "10px",
    "top": "150px",
    "width": "318px"
   },
   "toc_section_display": true,
   "toc_window_display": true
  },
  "varInspector": {
   "cols": {
    "lenName": 16,
    "lenType": 16,
    "lenVar": 40
   },
   "kernels_config": {
    "python": {
     "delete_cmd_postfix": "",
     "delete_cmd_prefix": "del ",
     "library": "var_list.py",
     "varRefreshCmd": "print(var_dic_list())"
    },
    "r": {
     "delete_cmd_postfix": ") ",
     "delete_cmd_prefix": "rm(",
     "library": "var_list.r",
     "varRefreshCmd": "cat(var_dic_list()) "
    }
   },
   "oldHeight": 122,
   "position": {
    "height": "40px",
    "left": "1170px",
    "right": "20px",
    "top": "120px",
    "width": "250px"
   },
   "types_to_exclude": [
    "module",
    "function",
    "builtin_function_or_method",
    "instance",
    "_Feature"
   ],
   "varInspector_section_display": "none",
   "window_display": false
  }
 },
 "nbformat": 4,
 "nbformat_minor": 5
}
