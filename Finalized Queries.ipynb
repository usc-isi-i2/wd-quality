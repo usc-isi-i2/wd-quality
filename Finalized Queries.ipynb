{
 "cells": [
  {
   "cell_type": "markdown",
   "id": "statutory-onion",
   "metadata": {},
   "source": [
    "# Understanding Removed Statements Dataset\n",
    "\n",
    "Source of data: [GDrive | Removed Stataments of Wikidata | Feb 1 2021](https://drive.google.com/file/d/1TQP1rADdvhDjsvBpLzSE9Bx3n73wf-Md/view?usp=sharing)\n",
    "\n",
    "Steps performed:\n",
    "* Divide dataset into 2 halves - redirected and non-redirected. Redirected dataset has either node1 or node2 as redirected. But non-redirected has both node1, node2 not redirected\n",
    "\n",
    "\n",
    "**Summary**\n",
    "\n",
    "Removed Statements dataset has 76.5M removed statements. Out of these, "
   ]
  },
  {
   "cell_type": "markdown",
   "id": "christian-mounting",
   "metadata": {},
   "source": [
    "## Redirects determination and division of dataset into 2 halves\n",
    "\n",
    "* Since, redirects dataset was not present, a SPARQL query was run to determine all the redirects existing at the moment. This was done on Feb 19, 2021. This was executed using [SPARQL query](https://query.wikidata.org/). Query run was:\n",
    "    ```\n",
    "    SELECT ?old_node\n",
    "    WHERE {\n",
    "      ?old_node owl:sameAs ?new_node.\n",
    "    }\n",
    "    ```\n",
    "* This has few lexemes as well which we don't need. So, I then ran the query:\n",
    "    ```\n",
    "    SELECT ?old_node\n",
    "    WHERE {\n",
    "      ?old_node owl:sameAs ?new_node.\n",
    "      ?new_node rdf:type ontolex:LexicalEntry.\n",
    "    }\n",
    "    ```\n",
    "* After removing the lexemes from the nodes file, a final redirected non-lexemes file was created with data from Feb 19, 2021: `data/SPARQL_redirects_non-lexemes.tsv`.\n",
    "* Using this reduced dataset, I was able to determine in the removed_statements.tsv dataset, which nodes have been redirected - `../opAnalysis/removed_statements_redirects_basis_node1or2.tsv`. This has removed statements in which either node1 or node2 is redirected.\n",
    "* After this, I am extracting the removed statements not present in this subset meaning it would correspond to all removed statements in neither node1 nor node2 is redirected - `../opAnalysis/removed_statements_both_nonredirects.tsv`\n",
    "\n",
    "For this, I am using the following set of commands"
   ]
  },
  {
   "cell_type": "code",
   "execution_count": 3,
   "id": "thick-absorption",
   "metadata": {},
   "outputs": [],
   "source": [
    "import pandas as pd\n",
    "import seaborn as sns"
   ]
  },
  {
   "cell_type": "code",
   "execution_count": null,
   "id": "boolean-string",
   "metadata": {},
   "outputs": [],
   "source": [
    "# On the basis of SPARQL\n",
    "!kgtk ifexists -i ../../data/removed_statements.tsv\\\n",
    "    --filter-on ../../data/SPARQL_redirects_non-lexemes.tsv \\\n",
    "    --filter-mode NONE \\\n",
    "    --input-keys node1 \\\n",
    "    --filter-keys id \\\n",
    "    -o ../../opAnalysis/removed_statements_redirects_basis_node1.tsv\n",
    "!kgtk ifnotexists -i ../../data/removed_statements.tsv\\\n",
    "    --filter-on ../../data/SPARQL_redirects_non-lexemes.tsv \\\n",
    "    --filter-mode NONE \\\n",
    "    --input-keys node1 \\\n",
    "    --filter-keys id \\\n",
    "    -o ../../opAnalysis/removed_statements_nonredirects_basis_node1.tsv\n",
    "!kgtk ifexists -i ../../data/removed_statements.tsv\\\n",
    "    --filter-on ../../data/SPARQL_redirects_non-lexemes.tsv \\\n",
    "    --filter-mode NONE \\\n",
    "    --input-keys node2 \\\n",
    "    --filter-keys id \\\n",
    "    -o ../../opAnalysis/removed_statements_redirects_basis_node2.tsv\n",
    "!kgtk ifnotexists -i ../../data/removed_statements.tsv\\\n",
    "    --filter-on ../../data/SPARQL_redirects_non-lexemes.tsv \\\n",
    "    --filter-mode NONE \\\n",
    "    --input-keys node2 \\\n",
    "    --filter-keys id \\\n",
    "    -o ../../opAnalysis/removed_statements_nonredirects_basis_node2.tsv\n",
    "!kgtk ifnotexists -i ../../opAnalysis/removed_statements_redirects_basis_node1.tsv \\\n",
    "    --filter-on ../../opAnalysis/removed_statements_redirects_basis_node2.tsv \\\n",
    "    -o ../../opAnalysis/temp1.tsv\n",
    "!kgtk cat -i ../../opAnalysis/temp1.tsv \\\n",
    "    ../../opAnalysis/removed_statements_redirects_basis_node2.tsv \\\n",
    "    -o ../../opAnalysis/removed_statements_redirects_basis_node1or2.tsv\n",
    "!kgtk ifnotexists -i ../../data/removed_statements.tsv\\\n",
    "    --filter-on ../../opAnalysis/removed_statements_redirects_basis_node1or2.tsv \\\n",
    "    -o ../../opAnalysis/removed_statements_both_nonredirects.tsv"
   ]
  },
  {
   "cell_type": "markdown",
   "id": "committed-volunteer",
   "metadata": {},
   "source": [
    "## P31 edges distribution"
   ]
  },
  {
   "cell_type": "markdown",
   "id": "objective-range",
   "metadata": {},
   "source": [
    "Now, we'll determine in this redirected dataset - `../../opAnalysis/removed_statements_redirects_basis_node1or2.tsv`, how many of these are P31 edges and determine more stats on these"
   ]
  },
  {
   "cell_type": "markdown",
   "id": "final-fraud",
   "metadata": {},
   "source": [
    "### For Redirected Removed Statements"
   ]
  },
  {
   "cell_type": "code",
   "execution_count": null,
   "id": "analyzed-silicon",
   "metadata": {},
   "outputs": [],
   "source": [
    "!kgtk --debug query -i ../../opAnalysis/removed_statements_redirects_basis_node1or2.tsv \\\n",
    "    --match 'o: (a)-[:P31]->(b)' \\\n",
    "    --return 'b, count(distinct a)' \\\n",
    "    -o ../../opAnalysis/removed_statements_redirects_P31_stats1.tsv"
   ]
  },
  {
   "cell_type": "code",
   "execution_count": 4,
   "id": "smaller-eugene",
   "metadata": {},
   "outputs": [
    {
     "data": {
      "text/html": [
       "<div>\n",
       "<style scoped>\n",
       "    .dataframe tbody tr th:only-of-type {\n",
       "        vertical-align: middle;\n",
       "    }\n",
       "\n",
       "    .dataframe tbody tr th {\n",
       "        vertical-align: top;\n",
       "    }\n",
       "\n",
       "    .dataframe thead th {\n",
       "        text-align: right;\n",
       "    }\n",
       "</style>\n",
       "<table border=\"1\" class=\"dataframe\">\n",
       "  <thead>\n",
       "    <tr style=\"text-align: right;\">\n",
       "      <th></th>\n",
       "      <th>count</th>\n",
       "    </tr>\n",
       "    <tr>\n",
       "      <th>parent</th>\n",
       "      <th></th>\n",
       "    </tr>\n",
       "  </thead>\n",
       "  <tbody>\n",
       "    <tr>\n",
       "      <th>Q4167836</th>\n",
       "      <td>526207</td>\n",
       "    </tr>\n",
       "    <tr>\n",
       "      <th>Q17329259</th>\n",
       "      <td>301359</td>\n",
       "    </tr>\n",
       "    <tr>\n",
       "      <th>Q5</th>\n",
       "      <td>222809</td>\n",
       "    </tr>\n",
       "    <tr>\n",
       "      <th>Q4167410</th>\n",
       "      <td>108583</td>\n",
       "    </tr>\n",
       "    <tr>\n",
       "      <th>Q13442814</th>\n",
       "      <td>101156</td>\n",
       "    </tr>\n",
       "    <tr>\n",
       "      <th>Q7187</th>\n",
       "      <td>88231</td>\n",
       "    </tr>\n",
       "    <tr>\n",
       "      <th>Q11266439</th>\n",
       "      <td>61007</td>\n",
       "    </tr>\n",
       "    <tr>\n",
       "      <th>Q4423781</th>\n",
       "      <td>53671</td>\n",
       "    </tr>\n",
       "    <tr>\n",
       "      <th>Q17143521</th>\n",
       "      <td>51581</td>\n",
       "    </tr>\n",
       "    <tr>\n",
       "      <th>Q15917122</th>\n",
       "      <td>50642</td>\n",
       "    </tr>\n",
       "    <tr>\n",
       "      <th>Q486972</th>\n",
       "      <td>49257</td>\n",
       "    </tr>\n",
       "    <tr>\n",
       "      <th>Q16521</th>\n",
       "      <td>46522</td>\n",
       "    </tr>\n",
       "    <tr>\n",
       "      <th>Q318</th>\n",
       "      <td>26722</td>\n",
       "    </tr>\n",
       "    <tr>\n",
       "      <th>Q532</th>\n",
       "      <td>23721</td>\n",
       "    </tr>\n",
       "    <tr>\n",
       "      <th>Q20900710</th>\n",
       "      <td>23482</td>\n",
       "    </tr>\n",
       "  </tbody>\n",
       "</table>\n",
       "</div>"
      ],
      "text/plain": [
       "            count\n",
       "parent           \n",
       "Q4167836   526207\n",
       "Q17329259  301359\n",
       "Q5         222809\n",
       "Q4167410   108583\n",
       "Q13442814  101156\n",
       "Q7187       88231\n",
       "Q11266439   61007\n",
       "Q4423781    53671\n",
       "Q17143521   51581\n",
       "Q15917122   50642\n",
       "Q486972     49257\n",
       "Q16521      46522\n",
       "Q318        26722\n",
       "Q532        23721\n",
       "Q20900710   23482"
      ]
     },
     "execution_count": 4,
     "metadata": {},
     "output_type": "execute_result"
    }
   ],
   "source": [
    "df1 = pd.read_csv('../../opAnalysis/removed_statements_redirects_P31_stats1.tsv',sep='\\t')\n",
    "df1.columns = ['parent','count']\n",
    "df1 = df1.sort_values(by=['count'],ascending=False)\n",
    "df1 = df1.set_index('parent')\n",
    "df1.head(15)"
   ]
  },
  {
   "cell_type": "markdown",
   "id": "suburban-cosmetic",
   "metadata": {},
   "source": [
    "### For non-redirected removed statements"
   ]
  },
  {
   "cell_type": "code",
   "execution_count": null,
   "id": "characteristic-still",
   "metadata": {},
   "outputs": [],
   "source": [
    "!kgtk --debug query -i ../../opAnalysis/removed_statements_both_nonredirects.tsv \\\n",
    "    --match 'o: (a)-[:P31]->(b)' \\\n",
    "    --return 'b, count(distinct a)' \\\n",
    "    -o ../../opAnalysis/removed_statements_nonredirects_P31_stats1.tsv"
   ]
  },
  {
   "cell_type": "code",
   "execution_count": 5,
   "id": "subsequent-dutch",
   "metadata": {},
   "outputs": [],
   "source": [
    "df1 = pd.read_csv('../../opAnalysis/removed_statements_nonredirects_P31_stats1.tsv',sep='\\t')\n",
    "df1.columns = ['parent','count']\n",
    "df1 = df1.sort_values(by=['count'],ascending=False)\n",
    "df1 = df1.set_index('parent')"
   ]
  },
  {
   "cell_type": "markdown",
   "id": "whole-influence",
   "metadata": {},
   "source": [
    "## Properties Distribution"
   ]
  },
  {
   "cell_type": "markdown",
   "id": "international-conditioning",
   "metadata": {},
   "source": [
    "### For redirected removed statements"
   ]
  },
  {
   "cell_type": "code",
   "execution_count": null,
   "id": "known-moore",
   "metadata": {},
   "outputs": [],
   "source": [
    "!kgtk --debug query -i ../../opAnalysis/removed_statements_redirects_basis_node1or2.tsv \\\n",
    "    --match 'o: (a)-[r]->(b)' \\\n",
    "    --return 'r.label, count(distinct a)' \\\n",
    "    -o ../../opAnalysis/removed_statements_redirects_props_dist.tsv"
   ]
  },
  {
   "cell_type": "code",
   "execution_count": 6,
   "id": "unlikely-default",
   "metadata": {},
   "outputs": [
    {
     "data": {
      "text/html": [
       "<div>\n",
       "<style scoped>\n",
       "    .dataframe tbody tr th:only-of-type {\n",
       "        vertical-align: middle;\n",
       "    }\n",
       "\n",
       "    .dataframe tbody tr th {\n",
       "        vertical-align: top;\n",
       "    }\n",
       "\n",
       "    .dataframe thead th {\n",
       "        text-align: right;\n",
       "    }\n",
       "</style>\n",
       "<table border=\"1\" class=\"dataframe\">\n",
       "  <thead>\n",
       "    <tr style=\"text-align: right;\">\n",
       "      <th></th>\n",
       "      <th>count</th>\n",
       "    </tr>\n",
       "    <tr>\n",
       "      <th>parent</th>\n",
       "      <th></th>\n",
       "    </tr>\n",
       "  </thead>\n",
       "  <tbody>\n",
       "    <tr>\n",
       "      <th>P31</th>\n",
       "      <td>2381072</td>\n",
       "    </tr>\n",
       "    <tr>\n",
       "      <th>P17</th>\n",
       "      <td>357286</td>\n",
       "    </tr>\n",
       "    <tr>\n",
       "      <th>P1433</th>\n",
       "      <td>299464</td>\n",
       "    </tr>\n",
       "    <tr>\n",
       "      <th>P735</th>\n",
       "      <td>295778</td>\n",
       "    </tr>\n",
       "    <tr>\n",
       "      <th>P50</th>\n",
       "      <td>268412</td>\n",
       "    </tr>\n",
       "    <tr>\n",
       "      <th>P2860</th>\n",
       "      <td>243607</td>\n",
       "    </tr>\n",
       "    <tr>\n",
       "      <th>P625</th>\n",
       "      <td>227779</td>\n",
       "    </tr>\n",
       "    <tr>\n",
       "      <th>P106</th>\n",
       "      <td>185184</td>\n",
       "    </tr>\n",
       "    <tr>\n",
       "      <th>P131</th>\n",
       "      <td>183759</td>\n",
       "    </tr>\n",
       "    <tr>\n",
       "      <th>P21</th>\n",
       "      <td>179069</td>\n",
       "    </tr>\n",
       "    <tr>\n",
       "      <th>P921</th>\n",
       "      <td>167723</td>\n",
       "    </tr>\n",
       "    <tr>\n",
       "      <th>P279</th>\n",
       "      <td>162394</td>\n",
       "    </tr>\n",
       "    <tr>\n",
       "      <th>P1566</th>\n",
       "      <td>160213</td>\n",
       "    </tr>\n",
       "    <tr>\n",
       "      <th>P684</th>\n",
       "      <td>152695</td>\n",
       "    </tr>\n",
       "    <tr>\n",
       "      <th>P703</th>\n",
       "      <td>119182</td>\n",
       "    </tr>\n",
       "  </tbody>\n",
       "</table>\n",
       "</div>"
      ],
      "text/plain": [
       "          count\n",
       "parent         \n",
       "P31     2381072\n",
       "P17      357286\n",
       "P1433    299464\n",
       "P735     295778\n",
       "P50      268412\n",
       "P2860    243607\n",
       "P625     227779\n",
       "P106     185184\n",
       "P131     183759\n",
       "P21      179069\n",
       "P921     167723\n",
       "P279     162394\n",
       "P1566    160213\n",
       "P684     152695\n",
       "P703     119182"
      ]
     },
     "execution_count": 6,
     "metadata": {},
     "output_type": "execute_result"
    }
   ],
   "source": [
    "df1 = pd.read_csv('../../opAnalysis/removed_statements_redirects_props_dist.tsv',sep='\\t')\n",
    "df1.columns = ['parent','count']\n",
    "df1 = df1.sort_values(by=['count'],ascending=False)\n",
    "df1 = df1.set_index('parent')\n",
    "df1.head(15)"
   ]
  },
  {
   "cell_type": "markdown",
   "id": "satisfactory-future",
   "metadata": {},
   "source": [
    "### For non-redirected removed statements"
   ]
  },
  {
   "cell_type": "code",
   "execution_count": null,
   "id": "seasonal-composite",
   "metadata": {},
   "outputs": [],
   "source": [
    "!kgtk --debug query -i ../../opAnalysis/removed_statements_both_nonredirects.tsv \\\n",
    "    --match 'o: (a)-[r]->(b)' \\\n",
    "    --return 'r.label, count(distinct a)' \\\n",
    "    -o ../../opAnalysis/removed_statements_nonredirects_props_dist.tsv"
   ]
  },
  {
   "cell_type": "code",
   "execution_count": 7,
   "id": "informal-participant",
   "metadata": {},
   "outputs": [
    {
     "data": {
      "text/html": [
       "<div>\n",
       "<style scoped>\n",
       "    .dataframe tbody tr th:only-of-type {\n",
       "        vertical-align: middle;\n",
       "    }\n",
       "\n",
       "    .dataframe tbody tr th {\n",
       "        vertical-align: top;\n",
       "    }\n",
       "\n",
       "    .dataframe thead th {\n",
       "        text-align: right;\n",
       "    }\n",
       "</style>\n",
       "<table border=\"1\" class=\"dataframe\">\n",
       "  <thead>\n",
       "    <tr style=\"text-align: right;\">\n",
       "      <th></th>\n",
       "      <th>count</th>\n",
       "    </tr>\n",
       "    <tr>\n",
       "      <th>parent</th>\n",
       "      <th></th>\n",
       "    </tr>\n",
       "  </thead>\n",
       "  <tbody>\n",
       "    <tr>\n",
       "      <th>P2093</th>\n",
       "      <td>6173393</td>\n",
       "    </tr>\n",
       "    <tr>\n",
       "      <th>P1476</th>\n",
       "      <td>4238487</td>\n",
       "    </tr>\n",
       "    <tr>\n",
       "      <th>P31</th>\n",
       "      <td>3327644</td>\n",
       "    </tr>\n",
       "    <tr>\n",
       "      <th>P569</th>\n",
       "      <td>2011539</td>\n",
       "    </tr>\n",
       "    <tr>\n",
       "      <th>P625</th>\n",
       "      <td>1494410</td>\n",
       "    </tr>\n",
       "    <tr>\n",
       "      <th>P577</th>\n",
       "      <td>1116328</td>\n",
       "    </tr>\n",
       "    <tr>\n",
       "      <th>P234</th>\n",
       "      <td>999522</td>\n",
       "    </tr>\n",
       "    <tr>\n",
       "      <th>P570</th>\n",
       "      <td>983201</td>\n",
       "    </tr>\n",
       "    <tr>\n",
       "      <th>P131</th>\n",
       "      <td>927413</td>\n",
       "    </tr>\n",
       "    <tr>\n",
       "      <th>P364</th>\n",
       "      <td>870224</td>\n",
       "    </tr>\n",
       "    <tr>\n",
       "      <th>P2044</th>\n",
       "      <td>780870</td>\n",
       "    </tr>\n",
       "    <tr>\n",
       "      <th>P279</th>\n",
       "      <td>765112</td>\n",
       "    </tr>\n",
       "    <tr>\n",
       "      <th>P969</th>\n",
       "      <td>732461</td>\n",
       "    </tr>\n",
       "    <tr>\n",
       "      <th>P356</th>\n",
       "      <td>413439</td>\n",
       "    </tr>\n",
       "    <tr>\n",
       "      <th>P637</th>\n",
       "      <td>387091</td>\n",
       "    </tr>\n",
       "  </tbody>\n",
       "</table>\n",
       "</div>"
      ],
      "text/plain": [
       "          count\n",
       "parent         \n",
       "P2093   6173393\n",
       "P1476   4238487\n",
       "P31     3327644\n",
       "P569    2011539\n",
       "P625    1494410\n",
       "P577    1116328\n",
       "P234     999522\n",
       "P570     983201\n",
       "P131     927413\n",
       "P364     870224\n",
       "P2044    780870\n",
       "P279     765112\n",
       "P969     732461\n",
       "P356     413439\n",
       "P637     387091"
      ]
     },
     "execution_count": 7,
     "metadata": {},
     "output_type": "execute_result"
    }
   ],
   "source": [
    "df1 = pd.read_csv('../../opAnalysis/removed_statements_nonredirects_props_dist.tsv',sep='\\t')\n",
    "df1.columns = ['parent','count']\n",
    "df1 = df1.sort_values(by=['count'],ascending=False)\n",
    "df1 = df1.set_index('parent')\n",
    "df1.head(15)"
   ]
  },
  {
   "cell_type": "markdown",
   "id": "martial-friday",
   "metadata": {},
   "source": [
    "# Comparison Removed NR dataset with Qnodes, literals\n",
    "\n",
    "First, let's split this dataset"
   ]
  },
  {
   "cell_type": "code",
   "execution_count": null,
   "id": "higher-photograph",
   "metadata": {},
   "outputs": [],
   "source": [
    "from dateutil.parser import parse\n",
    "import re\n",
    "import rltk\n",
    "from rltk.similarity import levenshtein_distance as ld\n",
    "from nltk.tokenize import word_tokenize as wt\n",
    "\n",
    "def is_num(string):\n",
    "    try: \n",
    "        float(string)\n",
    "        return True\n",
    "\n",
    "    except ValueError:\n",
    "        return False\n",
    "\n",
    "f1 = open(\"../opAnalysis/removed_statements_both_nonredirects.tsv\",\"r\").read().split(\"\\n\")\n",
    "fStr = open(\"../opAnalysis/removed_statements_both_nonredirects_node2_string.tsv\",\"w\")\n",
    "fDat = open(\"../opAnalysis/removed_statements_both_nonredirects_node2_date.tsv\",\"w\")\n",
    "fQnd = open(\"../opAnalysis/removed_statements_both_nonredirects_node2_qnode.tsv\",\"w\")\n",
    "fNum = open(\"../opAnalysis/removed_statements_both_nonredirects_node2_num.tsv\",\"w\")\n",
    "fnonQnd = open(\"../opAnalysis/removed_statements_both_nonredirects_node2_lit.tsv\",\"w\")\n",
    "\n",
    "fStr.write(f1[0]+\"\\n\")\n",
    "fDat.write(f1[0]+\"\\n\")\n",
    "fQnd.write(f1[0]+\"\\n\")\n",
    "fNum.write(f1[0]+\"\\n\")\n",
    "fnonQnd.write(f1[0]+\"\\n\")\n",
    "\n",
    "for i in range(1,len(f1)):\n",
    "    val1 = f1[i].split(\"\\t\")[3]\n",
    "    if val1.startswith('Q'):\n",
    "        fQnd.write(f1[i]+\"\\n\")\n",
    "#     elif bool(re.search(\"\\^\\d{11}-\\d{2}-\\d{2}T\\d{2}:\\d{2}:\\d{2}Z\\/\\d{,2}\",val1)):\n",
    "    elif val1.startswith(\"^\"):\n",
    "        fDat.write(f1[i]+\"\\n\")\n",
    "        fnonQnd.write(f1[i]+\"\\n\")\n",
    "    elif is_num(val1):\n",
    "        fNum.write(f1[i]+\"\\n\")\n",
    "        fnonQnd.write(f1[i]+\"\\n\")\n",
    "    else:\n",
    "        fStr.write(f1[i]+\"\\n\")\n",
    "        fnonQnd.write(f1[i]+\"\\n\")\n",
    "\n",
    "fQnd.close()\n",
    "fDat.close()\n",
    "fNum.close()\n",
    "fStr.close()\n",
    "fnonQnd.close()"
   ]
  },
  {
   "cell_type": "markdown",
   "id": "rough-emerald",
   "metadata": {},
   "source": [
    "### String Comparison"
   ]
  },
  {
   "cell_type": "code",
   "execution_count": null,
   "id": "amateur-effort",
   "metadata": {},
   "outputs": [],
   "source": [
    "!kgtk query -i ../opAnalysis/removed_statements_both_nonredirects_node2_string.tsv     \\\n",
    "    ../gdrive-kgtk-dump-2020-12-07/claims.string.tsv.gz     \\\n",
    "    --match \"r: (x)-[r]->(y), c: (x)-[s]->(z)\"     \\\n",
    "    --where \"r.label = s.label\"     \\\n",
    "    --return 'x, r.label, y, s.label as newNode2Label, z as newNode2'     \\\n",
    "    -o ../opAnalysis/removed_statements_both_nonredirects_str_new_vals.tsv \\\n",
    "    --graph-cache ~/temp2.sqlite3.db"
   ]
  },
  {
   "cell_type": "code",
   "execution_count": null,
   "id": "separate-georgia",
   "metadata": {},
   "outputs": [],
   "source": [
    "!sed -i '1s/.*/node1\\tlabel\\tnode2\\tnode2;newLabl\\tnode2;nw/' removed_statements_both_nonredirects_str_new_vals.tsv"
   ]
  },
  {
   "cell_type": "markdown",
   "id": "disturbed-geology",
   "metadata": {},
   "source": [
    "The strings subset has a branching factor of approx 10. i.e. 1 removed statement with string literal has been replaced by around 10 new statements (with same node1-label combination). Doing the same comparisons won't give us much insights. Instead, let's truncate this dataset while retaining just the counts of branching factor from each of these node1-label combinations. "
   ]
  },
  {
   "cell_type": "code",
   "execution_count": null,
   "id": "downtown-alabama",
   "metadata": {},
   "outputs": [],
   "source": [
    "!kgtk --debug query -i ../../opAnalysis/removed_statements_both_nonredirects_str_new_vals.tsv \\\n",
    "    --match \"(node1)-[r]->(node2{newLabl: newLabel, nw: newValue})\" \\\n",
    "    --return 'node1, r.label, node2, newLabel as `node2;newLabel`, max(newValue) as `node2;newValue`, count(newValue) as `node2;branching`' \\\n",
    "    -o ../../opAnalysis/removed_statements_both_nonredirects_str_new_vals_truncated.tsv \\\n",
    "    --graph-cache ~/sqlite3_caches/temptrunc.sqlite3.db"
   ]
  },
  {
   "cell_type": "markdown",
   "id": "tropical-cooperation",
   "metadata": {},
   "source": [
    "On this truncated dataset, we will next compute the stats and comparisons. Note: Our original string literals subset of removed statements was around 9 GB. With the join operation with claims, this had increased to 90 GB. We have now truncated this dataset to 778 MB"
   ]
  },
  {
   "cell_type": "code",
   "execution_count": null,
   "id": "successful-singer",
   "metadata": {},
   "outputs": [],
   "source": [
    "from dateutil.parser import parse\n",
    "import re\n",
    "import rltk\n",
    "from rltk.similarity import levenshtein_distance as ld\n",
    "from nltk.tokenize import word_tokenize as wt\n",
    "from tqdm.notebook import tqdm\n",
    "\n",
    "f1 = open(\"../../opAnalysis/removed_statements_both_nonredirects_str_new_vals_truncated.tsv\",\"r\")\n",
    "fStr = open(\"../../opAnalysis/removed_statements_both_nonredirects_str_new_vals_measured.tsv\",\"w\")\n",
    "\n",
    "firstLine = next(f1).rstrip()\n",
    "\n",
    "fStr.write(firstLine+\"\\tVersionBool\\tRangeBool\\tLevDist\\tRearranged\\tRearrangedFirstNP\\n\")\n",
    "\n",
    "for line in tqdm(f1):\n",
    "    val1 = line.split(\"\\t\")[2]\n",
    "    val2 = line.split(\"\\t\")[4]\n",
    "    val2 = val2[1:-1]\n",
    "    versionBool = bool(re.fullmatch(\"[\\d\\.]+[\\w\\s\\d]*\",val1))\n",
    "    rangeBool = bool(re.fullmatch(\"[\\d]+[-|–][\\d]+\",val1))\n",
    "    LevDist = ld(val1,val2)\n",
    "    rearranged = set(wt(val1)) == set(wt(val2))\n",
    "    rearrangedFirstNP = set(wt(val1)) == set(wt(val2[1:]))\n",
    "    fStr.write(line+ \"\\t\" + str(versionBool) + \"\\t\" + str(rangeBool) + \"\\t\" + \\\n",
    "               str(LevDist) + \"\\t\" + str(rearranged) + \"\\t\" + str(rearrangedFirstNP) + \"\\n\")\n",
    "\n",
    "fStr.close()"
   ]
  },
  {
   "cell_type": "code",
   "execution_count": 10,
   "id": "international-violation",
   "metadata": {},
   "outputs": [
    {
     "name": "stdout",
     "output_type": "stream",
     "text": [
      "list index out of range\r\n"
     ]
    }
   ],
   "source": [
    "!kgtk ifnotexists -i ../../opAnalysis/removed_statements_both_nonredirects_node2_string.tsv \\\n",
    "    --filter-on ../../opAnalysis/removed_statements_both_nonredirects_str_new_vals_measured.tsv \\\n",
    "    --filter-mode NONE \\\n",
    "    --input-keys label node1 \\\n",
    "    --filter-keys label node1 \\\n",
    "    -o ../../opAnalysis/removed_statements_both_nonredirects_node2_string_unmatched.tsv"
   ]
  },
  {
   "cell_type": "code",
   "execution_count": 17,
   "id": "tracked-carroll",
   "metadata": {},
   "outputs": [
    {
     "name": "stdout",
     "output_type": "stream",
     "text": [
      "1923347844 ../../opAnalysis/removed_statements_both_nonredirects_str_new_vals.tsv\r\n"
     ]
    }
   ],
   "source": [
    "!wc -l ../../opAnalysis/removed_statements_both_nonredirects_str_new_vals.tsv"
   ]
  },
  {
   "cell_type": "code",
   "execution_count": 13,
   "id": "vocational-pound",
   "metadata": {},
   "outputs": [
    {
     "name": "stdout",
     "output_type": "stream",
     "text": [
      "14091661 ../../opAnalysis/removed_statements_both_nonredirects_str_new_vals_measured.tsv\r\n"
     ]
    }
   ],
   "source": [
    "!wc -l ../../opAnalysis/removed_statements_both_nonredirects_str_new_vals_measured.tsv"
   ]
  },
  {
   "cell_type": "code",
   "execution_count": 11,
   "id": "trained-tuning",
   "metadata": {},
   "outputs": [
    {
     "name": "stdout",
     "output_type": "stream",
     "text": [
      "16922586 ../../opAnalysis/removed_statements_both_nonredirects_node2_string_unmatched.tsv\r\n"
     ]
    }
   ],
   "source": [
    "!wc -l ../../opAnalysis/removed_statements_both_nonredirects_node2_string_unmatched.tsv"
   ]
  },
  {
   "cell_type": "code",
   "execution_count": 35,
   "id": "daily-complexity",
   "metadata": {},
   "outputs": [],
   "source": [
    "str_df = pd.read_csv(\"../../opAnalysis/removed_statements_both_nonredirects_str_new_vals_measured.tsv\",sep='\\t')"
   ]
  },
  {
   "cell_type": "code",
   "execution_count": 5,
   "id": "otherwise-bones",
   "metadata": {},
   "outputs": [
    {
     "data": {
      "text/html": [
       "<div>\n",
       "<style scoped>\n",
       "    .dataframe tbody tr th:only-of-type {\n",
       "        vertical-align: middle;\n",
       "    }\n",
       "\n",
       "    .dataframe tbody tr th {\n",
       "        vertical-align: top;\n",
       "    }\n",
       "\n",
       "    .dataframe thead th {\n",
       "        text-align: right;\n",
       "    }\n",
       "</style>\n",
       "<table border=\"1\" class=\"dataframe\">\n",
       "  <thead>\n",
       "    <tr style=\"text-align: right;\">\n",
       "      <th></th>\n",
       "      <th>node1</th>\n",
       "      <th>label</th>\n",
       "      <th>node2</th>\n",
       "      <th>node2;newLabel</th>\n",
       "      <th>node2;newValue</th>\n",
       "      <th>node2;branching</th>\n",
       "      <th>VersionBool</th>\n",
       "      <th>RangeBool</th>\n",
       "      <th>LevDist</th>\n",
       "      <th>Rearranged</th>\n",
       "      <th>RearrangedFirstNP</th>\n",
       "    </tr>\n",
       "  </thead>\n",
       "  <tbody>\n",
       "    <tr>\n",
       "      <th>0</th>\n",
       "      <td>P1003</td>\n",
       "      <td>P1630</td>\n",
       "      <td>http://alephnew.bibnat.ro:8991/F?func=find-b&amp;r...</td>\n",
       "      <td>P1630</td>\n",
       "      <td>http://aleph.bibnat.ro:8991/F/?func=direct&amp;loc...</td>\n",
       "      <td>1</td>\n",
       "      <td>False</td>\n",
       "      <td>False</td>\n",
       "      <td>51</td>\n",
       "      <td>False</td>\n",
       "      <td>False</td>\n",
       "    </tr>\n",
       "    <tr>\n",
       "      <th>1</th>\n",
       "      <td>P1004</td>\n",
       "      <td>P1921</td>\n",
       "      <td>http://musicbrainz.org/$1/place</td>\n",
       "      <td>P1921</td>\n",
       "      <td>http://musicbrainz.org/place/$1</td>\n",
       "      <td>1</td>\n",
       "      <td>False</td>\n",
       "      <td>False</td>\n",
       "      <td>6</td>\n",
       "      <td>False</td>\n",
       "      <td>False</td>\n",
       "    </tr>\n",
       "    <tr>\n",
       "      <th>2</th>\n",
       "      <td>P1004</td>\n",
       "      <td>P1921</td>\n",
       "      <td>https://musicbrainz.org/place/$1</td>\n",
       "      <td>P1921</td>\n",
       "      <td>http://musicbrainz.org/place/$1</td>\n",
       "      <td>1</td>\n",
       "      <td>False</td>\n",
       "      <td>False</td>\n",
       "      <td>1</td>\n",
       "      <td>False</td>\n",
       "      <td>False</td>\n",
       "    </tr>\n",
       "    <tr>\n",
       "      <th>3</th>\n",
       "      <td>P1005</td>\n",
       "      <td>P1630</td>\n",
       "      <td>http://purl.pt/index/geral/aut/PT/$1.html</td>\n",
       "      <td>P1630</td>\n",
       "      <td>http://urn.bn.pt/nca/unimarc-authorities/html?...</td>\n",
       "      <td>3</td>\n",
       "      <td>False</td>\n",
       "      <td>False</td>\n",
       "      <td>31</td>\n",
       "      <td>False</td>\n",
       "      <td>False</td>\n",
       "    </tr>\n",
       "    <tr>\n",
       "      <th>4</th>\n",
       "      <td>P1005</td>\n",
       "      <td>P1630</td>\n",
       "      <td>http://urn.bn.pt/nca/unimarc-authorities/txt?i...</td>\n",
       "      <td>P1630</td>\n",
       "      <td>http://urn.bn.pt/nca/unimarc-authorities/html?...</td>\n",
       "      <td>3</td>\n",
       "      <td>False</td>\n",
       "      <td>False</td>\n",
       "      <td>3</td>\n",
       "      <td>False</td>\n",
       "      <td>False</td>\n",
       "    </tr>\n",
       "  </tbody>\n",
       "</table>\n",
       "</div>"
      ],
      "text/plain": [
       "   node1  label                                              node2  \\\n",
       "0  P1003  P1630  http://alephnew.bibnat.ro:8991/F?func=find-b&r...   \n",
       "1  P1004  P1921                    http://musicbrainz.org/$1/place   \n",
       "2  P1004  P1921                   https://musicbrainz.org/place/$1   \n",
       "3  P1005  P1630          http://purl.pt/index/geral/aut/PT/$1.html   \n",
       "4  P1005  P1630  http://urn.bn.pt/nca/unimarc-authorities/txt?i...   \n",
       "\n",
       "  node2;newLabel                                     node2;newValue  \\\n",
       "0          P1630  http://aleph.bibnat.ro:8991/F/?func=direct&loc...   \n",
       "1          P1921                    http://musicbrainz.org/place/$1   \n",
       "2          P1921                    http://musicbrainz.org/place/$1   \n",
       "3          P1630  http://urn.bn.pt/nca/unimarc-authorities/html?...   \n",
       "4          P1630  http://urn.bn.pt/nca/unimarc-authorities/html?...   \n",
       "\n",
       "   node2;branching  VersionBool  RangeBool  LevDist  Rearranged  \\\n",
       "0                1        False      False       51       False   \n",
       "1                1        False      False        6       False   \n",
       "2                1        False      False        1       False   \n",
       "3                3        False      False       31       False   \n",
       "4                3        False      False        3       False   \n",
       "\n",
       "   RearrangedFirstNP  \n",
       "0              False  \n",
       "1              False  \n",
       "2              False  \n",
       "3              False  \n",
       "4              False  "
      ]
     },
     "execution_count": 5,
     "metadata": {},
     "output_type": "execute_result"
    }
   ],
   "source": [
    "str_df.head()"
   ]
  },
  {
   "cell_type": "code",
   "execution_count": 15,
   "id": "restricted-locking",
   "metadata": {},
   "outputs": [
    {
     "data": {
      "text/plain": [
       "136.48837958054622"
      ]
     },
     "execution_count": 15,
     "metadata": {},
     "output_type": "execute_result"
    }
   ],
   "source": [
    "str_df['node2;branching'].mean()"
   ]
  },
  {
   "cell_type": "code",
   "execution_count": 23,
   "id": "hundred-entrepreneur",
   "metadata": {},
   "outputs": [
    {
     "data": {
      "text/plain": [
       "1        2084163\n",
       "2        1739757\n",
       "3        1645943\n",
       "4        1530528\n",
       "5        1209068\n",
       "          ...   \n",
       "12813          2\n",
       "12840          1\n",
       "13554          1\n",
       "18192          1\n",
       "29360          1\n",
       "Name: node2;branching, Length: 2191, dtype: int64"
      ]
     },
     "execution_count": 23,
     "metadata": {},
     "output_type": "execute_result"
    }
   ],
   "source": [
    "str_df['node2;branching'].value_counts().sort_index()"
   ]
  },
  {
   "cell_type": "code",
   "execution_count": 36,
   "id": "editorial-romance",
   "metadata": {},
   "outputs": [
    {
     "name": "stdout",
     "output_type": "stream",
     "text": [
      "Out of 14091660 updates, 25167 correspond to changes due to version change with average branching factor: 5.597170898398697\n"
     ]
    }
   ],
   "source": [
    "print(f\"Out of {len(str_df)} updates, {str_df['VersionBool'].sum()} correspond to changes due to version change with average branching factor: {str_df[str_df['VersionBool'] == True]['node2;branching'].mean()}\")"
   ]
  },
  {
   "cell_type": "code",
   "execution_count": 29,
   "id": "social-plenty",
   "metadata": {},
   "outputs": [
    {
     "data": {
      "text/plain": [
       "count    25167.000000\n",
       "mean         4.792625\n",
       "std          6.162759\n",
       "min          0.000000\n",
       "25%          1.000000\n",
       "50%          2.000000\n",
       "75%          5.000000\n",
       "max         63.000000\n",
       "Name: LevDist, dtype: float64"
      ]
     },
     "execution_count": 29,
     "metadata": {},
     "output_type": "execute_result"
    }
   ],
   "source": [
    "str_df[str_df['VersionBool'] == True].LevDist.describe()"
   ]
  },
  {
   "cell_type": "code",
   "execution_count": 37,
   "id": "promising-hopkins",
   "metadata": {},
   "outputs": [
    {
     "name": "stdout",
     "output_type": "stream",
     "text": [
      "Out of 14091660 updates, 321952 correspond to changes due to range change with average branching factor: 1.0656495378193023\n"
     ]
    }
   ],
   "source": [
    "print(f\"Out of {len(str_df)} updates, {str_df['RangeBool'].sum()} correspond to changes due to range change with average branching factor: {str_df[str_df['RangeBool'] == True]['node2;branching'].mean()}\")"
   ]
  },
  {
   "cell_type": "code",
   "execution_count": 30,
   "id": "varied-reform",
   "metadata": {
    "scrolled": true
   },
   "outputs": [
    {
     "data": {
      "text/plain": [
       "count    321952.000000\n",
       "mean          2.343707\n",
       "std           2.188651\n",
       "min           0.000000\n",
       "25%           1.000000\n",
       "50%           2.000000\n",
       "75%           3.000000\n",
       "max          47.000000\n",
       "Name: LevDist, dtype: float64"
      ]
     },
     "execution_count": 30,
     "metadata": {},
     "output_type": "execute_result"
    }
   ],
   "source": [
    "str_df[str_df['RangeBool'] == True].LevDist.describe()"
   ]
  },
  {
   "cell_type": "code",
   "execution_count": 38,
   "id": "annoying-transaction",
   "metadata": {},
   "outputs": [
    {
     "name": "stdout",
     "output_type": "stream",
     "text": [
      "Out of 14091660 updates, 229782 correspond to changes due to rearrangement with average branching factor: 3.5381753139932632\n"
     ]
    }
   ],
   "source": [
    "print(f\"Out of {len(str_df)} updates, {str_df['Rearranged'].sum()} correspond to changes due to rearrangement with average branching factor: {str_df[str_df['Rearranged'] == True]['node2;branching'].mean()}\")"
   ]
  },
  {
   "cell_type": "code",
   "execution_count": 32,
   "id": "three-characteristic",
   "metadata": {},
   "outputs": [
    {
     "data": {
      "text/plain": [
       "count    229782.000000\n",
       "mean          2.934938\n",
       "std           1.989685\n",
       "min           0.000000\n",
       "25%           1.000000\n",
       "50%           4.000000\n",
       "75%           4.000000\n",
       "max          56.000000\n",
       "Name: LevDist, dtype: float64"
      ]
     },
     "execution_count": 32,
     "metadata": {},
     "output_type": "execute_result"
    }
   ],
   "source": [
    "str_df[str_df['Rearranged'] == True].LevDist.describe()"
   ]
  },
  {
   "cell_type": "code",
   "execution_count": 39,
   "id": "military-coordinator",
   "metadata": {},
   "outputs": [
    {
     "data": {
      "text/plain": [
       "count    1.409166e+07\n",
       "mean     1.165120e+01\n",
       "std      5.339850e+00\n",
       "min      0.000000e+00\n",
       "25%      9.000000e+00\n",
       "50%      1.200000e+01\n",
       "75%      1.400000e+01\n",
       "max      1.445000e+03\n",
       "Name: LevDist, dtype: float64"
      ]
     },
     "execution_count": 39,
     "metadata": {},
     "output_type": "execute_result"
    }
   ],
   "source": [
    "str_df.LevDist.describe()"
   ]
  },
  {
   "cell_type": "code",
   "execution_count": null,
   "id": "european-treat",
   "metadata": {},
   "outputs": [],
   "source": []
  },
  {
   "cell_type": "markdown",
   "id": "administrative-barbados",
   "metadata": {},
   "source": [
    "### Dates Comparison"
   ]
  },
  {
   "cell_type": "code",
   "execution_count": null,
   "id": "creative-office",
   "metadata": {},
   "outputs": [],
   "source": [
    "!kgtk --debug query -i ../opAnalysis/removed_statements_both_nonredirects_node2_date.tsv \\\n",
    "    ../gdrive-kgtk-dump-2020-12-07/claims.tsv.gz \\\n",
    "    --match \"a: (x)-[r]->(y), b: (x)-[s]->(z)\" \\\n",
    "    --where \"r.label = s.label\" \\\n",
    "    --return 'x, r.label, y, s.label as newNode2Label, z as newNode2' \\\n",
    "    -o ../opAnalysis/removed_statements_both_nonredirects_date_new_vals.tsv\n"
   ]
  },
  {
   "cell_type": "code",
   "execution_count": 1,
   "id": "sophisticated-glance",
   "metadata": {},
   "outputs": [
    {
     "data": {
      "application/vnd.jupyter.widget-view+json": {
       "model_id": "ecfcbad943d4424988500d50cbfa3405",
       "version_major": 2,
       "version_minor": 0
      },
      "text/plain": [
       "  0%|          | 0/3326867 [00:00<?, ?it/s]"
      ]
     },
     "metadata": {},
     "output_type": "display_data"
    }
   ],
   "source": [
    "from dateutil.parser import parse\n",
    "import re\n",
    "import rltk\n",
    "from rltk.similarity import levenshtein_distance as ld\n",
    "from nltk.tokenize import word_tokenize as wt\n",
    "from tqdm.notebook import tqdm\n",
    "\n",
    "f1 = open(\"../../opAnalysis/removed_statements_both_nonredirects_new_vals_date.tsv\",\"r\").read().split('\\n')\n",
    "fStr = open(\"../../opAnalysis/removed_statements_both_nonredirects_new_vals_date_measured.tsv\",\"w\")\n",
    "\n",
    "firstLine = f1[0]\n",
    "\n",
    "fStr.write(firstLine+\"\\tSameDate\\n\")\n",
    "\n",
    "for i in tqdm(range(1, len(f1)-1)):\n",
    "    line = f1[i]\n",
    "    val1 = line.split(\"\\t\")[2]\n",
    "    val2 = line.split(\"\\t\")[4]\n",
    "    val2 = val2[1:-1]\n",
    "    versionBool = bool(re.fullmatch(\"[\\d\\.]+[\\w\\s\\d]*\",val1))\n",
    "    rangeBool = bool(re.fullmatch(\"[\\d]+[-|–][\\d]+\",val1))\n",
    "    LevDist = ld(val1,val2)\n",
    "    rearranged = set(wt(val1)) == set(wt(val2))\n",
    "    rearrangedFirstNP = set(wt(val1)) == set(wt(val2[1:]))\n",
    "    fStr.write(line+ \"\\t\" + str(versionBool) + \"\\t\" + str(rangeBool) + \"\\t\" + \\\n",
    "               str(LevDist) + \"\\t\" + str(rearranged) + \"\\t\" + str(rearrangedFirstNP) + \"\\n\")\n",
    "\n",
    "fStr.close()"
   ]
  },
  {
   "cell_type": "code",
   "execution_count": 4,
   "id": "identified-calculation",
   "metadata": {},
   "outputs": [],
   "source": [
    "date_df = pd.read_csv(\"../../opAnalysis/removed_statements_both_nonredirects_new_vals_date_measured.tsv\",sep='\\t')"
   ]
  },
  {
   "cell_type": "code",
   "execution_count": 6,
   "id": "infinite-handbook",
   "metadata": {},
   "outputs": [
    {
     "data": {
      "text/html": [
       "<div>\n",
       "<style scoped>\n",
       "    .dataframe tbody tr th:only-of-type {\n",
       "        vertical-align: middle;\n",
       "    }\n",
       "\n",
       "    .dataframe tbody tr th {\n",
       "        vertical-align: top;\n",
       "    }\n",
       "\n",
       "    .dataframe thead th {\n",
       "        text-align: right;\n",
       "    }\n",
       "</style>\n",
       "<table border=\"1\" class=\"dataframe\">\n",
       "  <thead>\n",
       "    <tr style=\"text-align: right;\">\n",
       "      <th></th>\n",
       "      <th></th>\n",
       "      <th></th>\n",
       "      <th></th>\n",
       "      <th>node1</th>\n",
       "      <th>label</th>\n",
       "      <th>node2</th>\n",
       "      <th>newNode2Label</th>\n",
       "      <th>newNode2</th>\n",
       "      <th>SameBool</th>\n",
       "      <th>SameDate</th>\n",
       "    </tr>\n",
       "  </thead>\n",
       "  <tbody>\n",
       "    <tr>\n",
       "      <th>Q1004723</th>\n",
       "      <th>P569</th>\n",
       "      <th>^00000001887-00-00T00:00:00Z/9</th>\n",
       "      <th>P569</th>\n",
       "      <td>^1887-01-01T00:00:00Z/9</td>\n",
       "      <td>False</td>\n",
       "      <td>False</td>\n",
       "      <td>False</td>\n",
       "      <td>11</td>\n",
       "      <td>False</td>\n",
       "      <td>False</td>\n",
       "    </tr>\n",
       "    <tr>\n",
       "      <th>Q102084</th>\n",
       "      <th>P569</th>\n",
       "      <th>^00000001093-00-00T00:00:00Z/9</th>\n",
       "      <th>P569</th>\n",
       "      <td>^1093-01-01T00:00:00Z/9</td>\n",
       "      <td>False</td>\n",
       "      <td>False</td>\n",
       "      <td>False</td>\n",
       "      <td>11</td>\n",
       "      <td>False</td>\n",
       "      <td>False</td>\n",
       "    </tr>\n",
       "    <tr>\n",
       "      <th>Q10272460</th>\n",
       "      <th>P570</th>\n",
       "      <th>^00000001917-00-00T00:00:00Z/9</th>\n",
       "      <th>P570</th>\n",
       "      <td>^1919-03-06T00:00:00Z/11</td>\n",
       "      <td>False</td>\n",
       "      <td>False</td>\n",
       "      <td>False</td>\n",
       "      <td>12</td>\n",
       "      <td>False</td>\n",
       "      <td>False</td>\n",
       "    </tr>\n",
       "    <tr>\n",
       "      <th>Q10289892</th>\n",
       "      <th>P569</th>\n",
       "      <th>^00000001953-00-00T00:00:00Z/9</th>\n",
       "      <th>P569</th>\n",
       "      <td>^1953-01-01T00:00:00Z/9</td>\n",
       "      <td>False</td>\n",
       "      <td>False</td>\n",
       "      <td>False</td>\n",
       "      <td>11</td>\n",
       "      <td>False</td>\n",
       "      <td>False</td>\n",
       "    </tr>\n",
       "    <tr>\n",
       "      <th>Q1029352</th>\n",
       "      <th>P569</th>\n",
       "      <th>^00000001893-00-00T00:00:00Z/9</th>\n",
       "      <th>P569</th>\n",
       "      <td>^1893-01-20T00:00:00Z/11</td>\n",
       "      <td>False</td>\n",
       "      <td>False</td>\n",
       "      <td>False</td>\n",
       "      <td>11</td>\n",
       "      <td>False</td>\n",
       "      <td>False</td>\n",
       "    </tr>\n",
       "  </tbody>\n",
       "</table>\n",
       "</div>"
      ],
      "text/plain": [
       "                                                                       node1  \\\n",
       "Q1004723  P569 ^00000001887-00-00T00:00:00Z/9 P569   ^1887-01-01T00:00:00Z/9   \n",
       "Q102084   P569 ^00000001093-00-00T00:00:00Z/9 P569   ^1093-01-01T00:00:00Z/9   \n",
       "Q10272460 P570 ^00000001917-00-00T00:00:00Z/9 P570  ^1919-03-06T00:00:00Z/11   \n",
       "Q10289892 P569 ^00000001953-00-00T00:00:00Z/9 P569   ^1953-01-01T00:00:00Z/9   \n",
       "Q1029352  P569 ^00000001893-00-00T00:00:00Z/9 P569  ^1893-01-20T00:00:00Z/11   \n",
       "\n",
       "                                                    label  node2  \\\n",
       "Q1004723  P569 ^00000001887-00-00T00:00:00Z/9 P569  False  False   \n",
       "Q102084   P569 ^00000001093-00-00T00:00:00Z/9 P569  False  False   \n",
       "Q10272460 P570 ^00000001917-00-00T00:00:00Z/9 P570  False  False   \n",
       "Q10289892 P569 ^00000001953-00-00T00:00:00Z/9 P569  False  False   \n",
       "Q1029352  P569 ^00000001893-00-00T00:00:00Z/9 P569  False  False   \n",
       "\n",
       "                                                    newNode2Label  newNode2  \\\n",
       "Q1004723  P569 ^00000001887-00-00T00:00:00Z/9 P569          False        11   \n",
       "Q102084   P569 ^00000001093-00-00T00:00:00Z/9 P569          False        11   \n",
       "Q10272460 P570 ^00000001917-00-00T00:00:00Z/9 P570          False        12   \n",
       "Q10289892 P569 ^00000001953-00-00T00:00:00Z/9 P569          False        11   \n",
       "Q1029352  P569 ^00000001893-00-00T00:00:00Z/9 P569          False        11   \n",
       "\n",
       "                                                    SameBool  SameDate  \n",
       "Q1004723  P569 ^00000001887-00-00T00:00:00Z/9 P569     False     False  \n",
       "Q102084   P569 ^00000001093-00-00T00:00:00Z/9 P569     False     False  \n",
       "Q10272460 P570 ^00000001917-00-00T00:00:00Z/9 P570     False     False  \n",
       "Q10289892 P569 ^00000001953-00-00T00:00:00Z/9 P569     False     False  \n",
       "Q1029352  P569 ^00000001893-00-00T00:00:00Z/9 P569     False     False  "
      ]
     },
     "execution_count": 6,
     "metadata": {},
     "output_type": "execute_result"
    }
   ],
   "source": [
    "date_df.head()"
   ]
  },
  {
   "cell_type": "markdown",
   "id": "relative-tomorrow",
   "metadata": {},
   "source": [
    "### Numeric Values Comparison"
   ]
  },
  {
   "cell_type": "code",
   "execution_count": null,
   "id": "continued-landscape",
   "metadata": {},
   "outputs": [],
   "source": [
    "from dateutil.parser import parse\n",
    "import re\n",
    "import rltk\n",
    "from rltk.similarity import levenshtein_distance as ld\n",
    "from nltk.tokenize import word_tokenize as wt\n",
    "from tqdm.notebook import tqdm\n",
    "\n",
    "def is_num(string):\n",
    "    try: \n",
    "        float(string)\n",
    "        return True\n",
    "\n",
    "    except ValueError:\n",
    "        return False\n",
    "    \n",
    "f1 = open(\"../../opAnalysis/removed_statements_both_nonredirects_num_new_vals.tsv\",\"r\").read().split(\"\\n\")\n",
    "fNum = open(\"../../opAnalysis/removed_statements_both_nonredirects_num_new_vals_measured.tsv\",\"w\")\n",
    "\n",
    "firstLine = f1[0]\n",
    "\n",
    "fNum.write(firstLine+\"\\tDiff\\tLevDist\\n\")\n",
    "# fnonQnd.write(f1[0]+\"\\n\")\n",
    "\n",
    "for i in tqdm(range(1,len(f1))):\n",
    "    line = f1[i]\n",
    "    val1 = line.split(\"\\t\")[2]\n",
    "    val2 = line.split(\"\\t\")[4]\n",
    "    if is_num(val2):\n",
    "        diff = float(val2) - float(val1)\n",
    "        fNum.write(line+ \"\\t\" + str(diff) + \"\\tNone\\n\")\n",
    "    else:\n",
    "        LevDist = ld(val1,val2)\n",
    "        fNum.write(line+ \"\\tNone\\t\" + str(LevDist) + \"\\n\")\n",
    "\n",
    "fNum.close()"
   ]
  },
  {
   "cell_type": "code",
   "execution_count": 5,
   "id": "impaired-venue",
   "metadata": {},
   "outputs": [
    {
     "name": "stderr",
     "output_type": "stream",
     "text": [
      "/nas/home/kshenoy/miniconda3/envs/kgtkEnv/lib/python3.8/site-packages/IPython/core/interactiveshell.py:3155: DtypeWarning: Columns (4,5) have mixed types.Specify dtype option on import or set low_memory=False.\n",
      "  has_raised = await self.run_ast_nodes(code_ast.body, cell_name,\n"
     ]
    }
   ],
   "source": [
    "num_df = pd.read_csv(\"../../opAnalysis/removed_statements_both_nonredirects_num_new_vals_measured.tsv\",sep='\\t')"
   ]
  },
  {
   "cell_type": "code",
   "execution_count": 7,
   "id": "structured-interaction",
   "metadata": {},
   "outputs": [
    {
     "data": {
      "text/html": [
       "<div>\n",
       "<style scoped>\n",
       "    .dataframe tbody tr th:only-of-type {\n",
       "        vertical-align: middle;\n",
       "    }\n",
       "\n",
       "    .dataframe tbody tr th {\n",
       "        vertical-align: top;\n",
       "    }\n",
       "\n",
       "    .dataframe thead th {\n",
       "        text-align: right;\n",
       "    }\n",
       "</style>\n",
       "<table border=\"1\" class=\"dataframe\">\n",
       "  <thead>\n",
       "    <tr style=\"text-align: right;\">\n",
       "      <th></th>\n",
       "      <th>node1</th>\n",
       "      <th>label</th>\n",
       "      <th>node2</th>\n",
       "      <th>newNode2Label</th>\n",
       "      <th>newNode2</th>\n",
       "      <th>Diff</th>\n",
       "      <th>LevDist</th>\n",
       "    </tr>\n",
       "  </thead>\n",
       "  <tbody>\n",
       "    <tr>\n",
       "      <th>0</th>\n",
       "      <td>Q1067235</td>\n",
       "      <td>P1083</td>\n",
       "      <td>25000.0</td>\n",
       "      <td>P1083</td>\n",
       "      <td>+21000</td>\n",
       "      <td>-4000.0</td>\n",
       "      <td>None</td>\n",
       "    </tr>\n",
       "    <tr>\n",
       "      <th>1</th>\n",
       "      <td>Q1067235</td>\n",
       "      <td>P1083</td>\n",
       "      <td>25000.0</td>\n",
       "      <td>P1083</td>\n",
       "      <td>+41000</td>\n",
       "      <td>16000.0</td>\n",
       "      <td>None</td>\n",
       "    </tr>\n",
       "    <tr>\n",
       "      <th>2</th>\n",
       "      <td>Q13501891</td>\n",
       "      <td>P1352</td>\n",
       "      <td>450.0</td>\n",
       "      <td>P1352</td>\n",
       "      <td>+437</td>\n",
       "      <td>-13.0</td>\n",
       "      <td>None</td>\n",
       "    </tr>\n",
       "    <tr>\n",
       "      <th>3</th>\n",
       "      <td>Q13501891</td>\n",
       "      <td>P1352</td>\n",
       "      <td>450.0</td>\n",
       "      <td>P1352</td>\n",
       "      <td>+534</td>\n",
       "      <td>84.0</td>\n",
       "      <td>None</td>\n",
       "    </tr>\n",
       "    <tr>\n",
       "      <th>4</th>\n",
       "      <td>Q13501891</td>\n",
       "      <td>P1352</td>\n",
       "      <td>450.0</td>\n",
       "      <td>P1352</td>\n",
       "      <td>+8</td>\n",
       "      <td>-442.0</td>\n",
       "      <td>None</td>\n",
       "    </tr>\n",
       "  </tbody>\n",
       "</table>\n",
       "</div>"
      ],
      "text/plain": [
       "       node1  label    node2 newNode2Label newNode2     Diff LevDist\n",
       "0   Q1067235  P1083  25000.0         P1083   +21000  -4000.0    None\n",
       "1   Q1067235  P1083  25000.0         P1083   +41000  16000.0    None\n",
       "2  Q13501891  P1352    450.0         P1352     +437    -13.0    None\n",
       "3  Q13501891  P1352    450.0         P1352     +534     84.0    None\n",
       "4  Q13501891  P1352    450.0         P1352       +8   -442.0    None"
      ]
     },
     "execution_count": 7,
     "metadata": {},
     "output_type": "execute_result"
    }
   ],
   "source": [
    "num_df.head()"
   ]
  },
  {
   "cell_type": "code",
   "execution_count": null,
   "id": "short-incidence",
   "metadata": {},
   "outputs": [],
   "source": []
  },
  {
   "cell_type": "code",
   "execution_count": 2,
   "id": "assured-recipient",
   "metadata": {},
   "outputs": [
    {
     "name": "stdout",
     "output_type": "stream",
     "text": [
      "^C\r\n"
     ]
    }
   ],
   "source": [
    "# !kgtk query -i ../../opAnalysis/removed_statements_both_nonredirects.tsv \\\n",
    "#     ../gdrive-kgtk-dump-2020-12-07/claims.tsv.gz \\\n",
    "#     --match \"r: (x)-[r]->(y), c: (x)-[s]->(z)\" \\\n",
    "#     --where \"r.label = s.label\" \\\n",
    "#     --return 'x, r.label, y, s.label as node2;newLabl, z as node2;nw' \\\n",
    "#     -o ../../opAnalysis/removed_statements_both_nonredirects_new_vals.tsv"
   ]
  },
  {
   "cell_type": "code",
   "execution_count": null,
   "id": "amazing-clock",
   "metadata": {},
   "outputs": [],
   "source": []
  },
  {
   "cell_type": "code",
   "execution_count": null,
   "id": "described-america",
   "metadata": {},
   "outputs": [],
   "source": []
  },
  {
   "cell_type": "code",
   "execution_count": null,
   "id": "universal-surprise",
   "metadata": {},
   "outputs": [],
   "source": []
  },
  {
   "cell_type": "code",
   "execution_count": null,
   "id": "killing-emphasis",
   "metadata": {},
   "outputs": [],
   "source": []
  },
  {
   "cell_type": "code",
   "execution_count": null,
   "id": "answering-sheriff",
   "metadata": {},
   "outputs": [],
   "source": []
  }
 ],
 "metadata": {
  "kernelspec": {
   "display_name": "kgtkEnv",
   "language": "python",
   "name": "kgtkenv"
  },
  "language_info": {
   "codemirror_mode": {
    "name": "ipython",
    "version": 3
   },
   "file_extension": ".py",
   "mimetype": "text/x-python",
   "name": "python",
   "nbconvert_exporter": "python",
   "pygments_lexer": "ipython3",
   "version": "3.8.5"
  }
 },
 "nbformat": 4,
 "nbformat_minor": 5
}
