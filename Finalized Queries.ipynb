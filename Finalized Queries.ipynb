{
 "cells": [
  {
   "cell_type": "markdown",
   "id": "statutory-onion",
   "metadata": {},
   "source": [
    "# Understanding Removed Statements Dataset\n",
    "\n",
    "Source of data: [GDrive | Removed Stataments of Wikidata | Feb 1 2021](https://drive.google.com/file/d/1TQP1rADdvhDjsvBpLzSE9Bx3n73wf-Md/view?usp=sharing)\n",
    "\n",
    "Steps performed:\n",
    "* Divide dataset into 2 halves - redirected and non-redirected. Redirected dataset has either node1 or node2 as redirected. But non-redirected has both node1, node2 not redirected\n",
    "\n",
    "\n",
    "**Summary**\n",
    "\n",
    "Removed Statements dataset has 76.5M removed statements. Out of these, "
   ]
  },
  {
   "cell_type": "markdown",
   "id": "christian-mounting",
   "metadata": {},
   "source": [
    "## Redirects determination and division of dataset into 2 halves\n",
    "\n",
    "* Since, redirects dataset was not present, a SPARQL query was run to determine all the redirects existing at the moment. This was done on Feb 19, 2021. This was executed using [SPARQL query](https://query.wikidata.org/). Query run was:\n",
    "    ```\n",
    "    SELECT ?old_node\n",
    "    WHERE {\n",
    "      ?old_node owl:sameAs ?new_node.\n",
    "    }\n",
    "    ```\n",
    "* This has few lexemes as well which we don't need. So, I then ran the query:\n",
    "    ```\n",
    "    SELECT ?old_node\n",
    "    WHERE {\n",
    "      ?old_node owl:sameAs ?new_node.\n",
    "      ?new_node rdf:type ontolex:LexicalEntry.\n",
    "    }\n",
    "    ```\n",
    "* After removing the lexemes from the nodes file, a final redirected non-lexemes file was created with data from Feb 19, 2021: `data/SPARQL_redirects_non-lexemes.tsv`.\n",
    "* Using this reduced dataset, I was able to determine in the removed_statements.tsv dataset, which nodes have been redirected - `../opAnalysis/removed_statements_redirects_basis_node1or2.tsv`. This has removed statements in which either node1 or node2 is redirected.\n",
    "* After this, I am extracting the removed statements not present in this subset meaning it would correspond to all removed statements in neither node1 nor node2 is redirected - `../opAnalysis/removed_statements_both_nonredirects.tsv`\n",
    "\n",
    "For this, I am using the following set of commands"
   ]
  },
  {
   "cell_type": "code",
   "execution_count": 2,
   "id": "thick-absorption",
   "metadata": {},
   "outputs": [],
   "source": [
    "import pandas as pd\n",
    "import seaborn as sns"
   ]
  },
  {
   "cell_type": "code",
   "execution_count": null,
   "id": "boolean-string",
   "metadata": {},
   "outputs": [],
   "source": [
    "# On the basis of SPARQL\n",
    "!kgtk ifexists -i ../../data/removed_statements.tsv\\\n",
    "    --filter-on ../../data/SPARQL_redirects_non-lexemes.tsv \\\n",
    "    --filter-mode NONE \\\n",
    "    --input-keys node1 \\\n",
    "    --filter-keys id \\\n",
    "    -o ../../opAnalysis/removed_statements_redirects_basis_node1.tsv\n",
    "!kgtk ifnotexists -i ../../data/removed_statements.tsv\\\n",
    "    --filter-on ../../data/SPARQL_redirects_non-lexemes.tsv \\\n",
    "    --filter-mode NONE \\\n",
    "    --input-keys node1 \\\n",
    "    --filter-keys id \\\n",
    "    -o ../../opAnalysis/removed_statements_nonredirects_basis_node1.tsv\n",
    "!kgtk ifexists -i ../../data/removed_statements.tsv\\\n",
    "    --filter-on ../../data/SPARQL_redirects_non-lexemes.tsv \\\n",
    "    --filter-mode NONE \\\n",
    "    --input-keys node2 \\\n",
    "    --filter-keys id \\\n",
    "    -o ../../opAnalysis/removed_statements_redirects_basis_node2.tsv\n",
    "!kgtk ifnotexists -i ../../data/removed_statements.tsv\\\n",
    "    --filter-on ../../data/SPARQL_redirects_non-lexemes.tsv \\\n",
    "    --filter-mode NONE \\\n",
    "    --input-keys node2 \\\n",
    "    --filter-keys id \\\n",
    "    -o ../../opAnalysis/removed_statements_nonredirects_basis_node2.tsv\n",
    "!kgtk ifnotexists -i ../../opAnalysis/removed_statements_redirects_basis_node1.tsv \\\n",
    "    --filter-on ../../opAnalysis/removed_statements_redirects_basis_node2.tsv \\\n",
    "    -o ../../opAnalysis/temp1.tsv\n",
    "!kgtk cat -i ../../opAnalysis/temp1.tsv \\\n",
    "    ../../opAnalysis/removed_statements_redirects_basis_node2.tsv \\\n",
    "    -o ../../opAnalysis/removed_statements_redirects_basis_node1or2.tsv\n",
    "!kgtk ifnotexists -i ../../data/removed_statements.tsv\\\n",
    "    --filter-on ../../opAnalysis/removed_statements_redirects_basis_node1or2.tsv \\\n",
    "    -o ../../opAnalysis/removed_statements_both_nonredirects.tsv"
   ]
  },
  {
   "cell_type": "markdown",
   "id": "committed-volunteer",
   "metadata": {},
   "source": [
    "## P31 edges distribution"
   ]
  },
  {
   "cell_type": "markdown",
   "id": "objective-range",
   "metadata": {},
   "source": [
    "Now, we'll determine in this redirected dataset - `../../opAnalysis/removed_statements_redirects_basis_node1or2.tsv`, how many of these are P31 edges and determine more stats on these"
   ]
  },
  {
   "cell_type": "markdown",
   "id": "final-fraud",
   "metadata": {},
   "source": [
    "### For Redirected Removed Statements"
   ]
  },
  {
   "cell_type": "code",
   "execution_count": null,
   "id": "analyzed-silicon",
   "metadata": {},
   "outputs": [],
   "source": [
    "!kgtk --debug query -i ../../opAnalysis/removed_statements_redirects_basis_node1or2.tsv \\\n",
    "    --match 'o: (a)-[:P31]->(b)' \\\n",
    "    --return 'b, count(distinct a)' \\\n",
    "    -o ../../opAnalysis/removed_statements_redirects_P31_stats1.tsv"
   ]
  },
  {
   "cell_type": "code",
   "execution_count": 4,
   "id": "smaller-eugene",
   "metadata": {},
   "outputs": [
    {
     "data": {
      "text/html": [
       "<div>\n",
       "<style scoped>\n",
       "    .dataframe tbody tr th:only-of-type {\n",
       "        vertical-align: middle;\n",
       "    }\n",
       "\n",
       "    .dataframe tbody tr th {\n",
       "        vertical-align: top;\n",
       "    }\n",
       "\n",
       "    .dataframe thead th {\n",
       "        text-align: right;\n",
       "    }\n",
       "</style>\n",
       "<table border=\"1\" class=\"dataframe\">\n",
       "  <thead>\n",
       "    <tr style=\"text-align: right;\">\n",
       "      <th></th>\n",
       "      <th>count</th>\n",
       "    </tr>\n",
       "    <tr>\n",
       "      <th>parent</th>\n",
       "      <th></th>\n",
       "    </tr>\n",
       "  </thead>\n",
       "  <tbody>\n",
       "    <tr>\n",
       "      <th>Q4167836</th>\n",
       "      <td>526207</td>\n",
       "    </tr>\n",
       "    <tr>\n",
       "      <th>Q17329259</th>\n",
       "      <td>301359</td>\n",
       "    </tr>\n",
       "    <tr>\n",
       "      <th>Q5</th>\n",
       "      <td>222809</td>\n",
       "    </tr>\n",
       "    <tr>\n",
       "      <th>Q4167410</th>\n",
       "      <td>108583</td>\n",
       "    </tr>\n",
       "    <tr>\n",
       "      <th>Q13442814</th>\n",
       "      <td>101156</td>\n",
       "    </tr>\n",
       "    <tr>\n",
       "      <th>Q7187</th>\n",
       "      <td>88231</td>\n",
       "    </tr>\n",
       "    <tr>\n",
       "      <th>Q11266439</th>\n",
       "      <td>61007</td>\n",
       "    </tr>\n",
       "    <tr>\n",
       "      <th>Q4423781</th>\n",
       "      <td>53671</td>\n",
       "    </tr>\n",
       "    <tr>\n",
       "      <th>Q17143521</th>\n",
       "      <td>51581</td>\n",
       "    </tr>\n",
       "    <tr>\n",
       "      <th>Q15917122</th>\n",
       "      <td>50642</td>\n",
       "    </tr>\n",
       "    <tr>\n",
       "      <th>Q486972</th>\n",
       "      <td>49257</td>\n",
       "    </tr>\n",
       "    <tr>\n",
       "      <th>Q16521</th>\n",
       "      <td>46522</td>\n",
       "    </tr>\n",
       "    <tr>\n",
       "      <th>Q318</th>\n",
       "      <td>26722</td>\n",
       "    </tr>\n",
       "    <tr>\n",
       "      <th>Q532</th>\n",
       "      <td>23721</td>\n",
       "    </tr>\n",
       "    <tr>\n",
       "      <th>Q20900710</th>\n",
       "      <td>23482</td>\n",
       "    </tr>\n",
       "  </tbody>\n",
       "</table>\n",
       "</div>"
      ],
      "text/plain": [
       "            count\n",
       "parent           \n",
       "Q4167836   526207\n",
       "Q17329259  301359\n",
       "Q5         222809\n",
       "Q4167410   108583\n",
       "Q13442814  101156\n",
       "Q7187       88231\n",
       "Q11266439   61007\n",
       "Q4423781    53671\n",
       "Q17143521   51581\n",
       "Q15917122   50642\n",
       "Q486972     49257\n",
       "Q16521      46522\n",
       "Q318        26722\n",
       "Q532        23721\n",
       "Q20900710   23482"
      ]
     },
     "execution_count": 4,
     "metadata": {},
     "output_type": "execute_result"
    }
   ],
   "source": [
    "df1 = pd.read_csv('../../opAnalysis/removed_statements_redirects_P31_stats1.tsv',sep='\\t')\n",
    "df1.columns = ['parent','count']\n",
    "df1 = df1.sort_values(by=['count'],ascending=False)\n",
    "df1 = df1.set_index('parent')\n",
    "df1.head(15)"
   ]
  },
  {
   "cell_type": "markdown",
   "id": "suburban-cosmetic",
   "metadata": {},
   "source": [
    "### For non-redirected removed statements"
   ]
  },
  {
   "cell_type": "code",
   "execution_count": null,
   "id": "characteristic-still",
   "metadata": {},
   "outputs": [],
   "source": [
    "!kgtk --debug query -i ../../opAnalysis/removed_statements_both_nonredirects.tsv \\\n",
    "    --match 'o: (a)-[:P31]->(b)' \\\n",
    "    --return 'b, count(distinct a)' \\\n",
    "    -o ../../opAnalysis/removed_statements_nonredirects_P31_stats1.tsv"
   ]
  },
  {
   "cell_type": "code",
   "execution_count": 5,
   "id": "subsequent-dutch",
   "metadata": {},
   "outputs": [],
   "source": [
    "df1 = pd.read_csv('../../opAnalysis/removed_statements_nonredirects_P31_stats1.tsv',sep='\\t')\n",
    "df1.columns = ['parent','count']\n",
    "df1 = df1.sort_values(by=['count'],ascending=False)\n",
    "df1 = df1.set_index('parent')"
   ]
  },
  {
   "cell_type": "markdown",
   "id": "whole-influence",
   "metadata": {},
   "source": [
    "## Properties Distribution"
   ]
  },
  {
   "cell_type": "markdown",
   "id": "international-conditioning",
   "metadata": {},
   "source": [
    "### For redirected removed statements"
   ]
  },
  {
   "cell_type": "code",
   "execution_count": null,
   "id": "known-moore",
   "metadata": {},
   "outputs": [],
   "source": [
    "!kgtk --debug query -i ../../opAnalysis/removed_statements_redirects_basis_node1or2.tsv \\\n",
    "    --match 'o: (a)-[r]->(b)' \\\n",
    "    --return 'r.label, count(distinct a)' \\\n",
    "    -o ../../opAnalysis/removed_statements_redirects_props_dist.tsv"
   ]
  },
  {
   "cell_type": "code",
   "execution_count": 6,
   "id": "unlikely-default",
   "metadata": {},
   "outputs": [
    {
     "data": {
      "text/html": [
       "<div>\n",
       "<style scoped>\n",
       "    .dataframe tbody tr th:only-of-type {\n",
       "        vertical-align: middle;\n",
       "    }\n",
       "\n",
       "    .dataframe tbody tr th {\n",
       "        vertical-align: top;\n",
       "    }\n",
       "\n",
       "    .dataframe thead th {\n",
       "        text-align: right;\n",
       "    }\n",
       "</style>\n",
       "<table border=\"1\" class=\"dataframe\">\n",
       "  <thead>\n",
       "    <tr style=\"text-align: right;\">\n",
       "      <th></th>\n",
       "      <th>count</th>\n",
       "    </tr>\n",
       "    <tr>\n",
       "      <th>parent</th>\n",
       "      <th></th>\n",
       "    </tr>\n",
       "  </thead>\n",
       "  <tbody>\n",
       "    <tr>\n",
       "      <th>P31</th>\n",
       "      <td>2381072</td>\n",
       "    </tr>\n",
       "    <tr>\n",
       "      <th>P17</th>\n",
       "      <td>357286</td>\n",
       "    </tr>\n",
       "    <tr>\n",
       "      <th>P1433</th>\n",
       "      <td>299464</td>\n",
       "    </tr>\n",
       "    <tr>\n",
       "      <th>P735</th>\n",
       "      <td>295778</td>\n",
       "    </tr>\n",
       "    <tr>\n",
       "      <th>P50</th>\n",
       "      <td>268412</td>\n",
       "    </tr>\n",
       "    <tr>\n",
       "      <th>P2860</th>\n",
       "      <td>243607</td>\n",
       "    </tr>\n",
       "    <tr>\n",
       "      <th>P625</th>\n",
       "      <td>227779</td>\n",
       "    </tr>\n",
       "    <tr>\n",
       "      <th>P106</th>\n",
       "      <td>185184</td>\n",
       "    </tr>\n",
       "    <tr>\n",
       "      <th>P131</th>\n",
       "      <td>183759</td>\n",
       "    </tr>\n",
       "    <tr>\n",
       "      <th>P21</th>\n",
       "      <td>179069</td>\n",
       "    </tr>\n",
       "    <tr>\n",
       "      <th>P921</th>\n",
       "      <td>167723</td>\n",
       "    </tr>\n",
       "    <tr>\n",
       "      <th>P279</th>\n",
       "      <td>162394</td>\n",
       "    </tr>\n",
       "    <tr>\n",
       "      <th>P1566</th>\n",
       "      <td>160213</td>\n",
       "    </tr>\n",
       "    <tr>\n",
       "      <th>P684</th>\n",
       "      <td>152695</td>\n",
       "    </tr>\n",
       "    <tr>\n",
       "      <th>P703</th>\n",
       "      <td>119182</td>\n",
       "    </tr>\n",
       "  </tbody>\n",
       "</table>\n",
       "</div>"
      ],
      "text/plain": [
       "          count\n",
       "parent         \n",
       "P31     2381072\n",
       "P17      357286\n",
       "P1433    299464\n",
       "P735     295778\n",
       "P50      268412\n",
       "P2860    243607\n",
       "P625     227779\n",
       "P106     185184\n",
       "P131     183759\n",
       "P21      179069\n",
       "P921     167723\n",
       "P279     162394\n",
       "P1566    160213\n",
       "P684     152695\n",
       "P703     119182"
      ]
     },
     "execution_count": 6,
     "metadata": {},
     "output_type": "execute_result"
    }
   ],
   "source": [
    "df1 = pd.read_csv('../../opAnalysis/removed_statements_redirects_props_dist.tsv',sep='\\t')\n",
    "df1.columns = ['parent','count']\n",
    "df1 = df1.sort_values(by=['count'],ascending=False)\n",
    "df1 = df1.set_index('parent')\n",
    "df1.head(15)"
   ]
  },
  {
   "cell_type": "markdown",
   "id": "satisfactory-future",
   "metadata": {},
   "source": [
    "### For non-redirected removed statements"
   ]
  },
  {
   "cell_type": "code",
   "execution_count": null,
   "id": "seasonal-composite",
   "metadata": {},
   "outputs": [],
   "source": [
    "!kgtk --debug query -i ../../opAnalysis/removed_statements_both_nonredirects.tsv \\\n",
    "    --match 'o: (a)-[r]->(b)' \\\n",
    "    --return 'r.label, count(distinct a)' \\\n",
    "    -o ../../opAnalysis/removed_statements_nonredirects_props_dist.tsv"
   ]
  },
  {
   "cell_type": "code",
   "execution_count": 7,
   "id": "informal-participant",
   "metadata": {},
   "outputs": [
    {
     "data": {
      "text/html": [
       "<div>\n",
       "<style scoped>\n",
       "    .dataframe tbody tr th:only-of-type {\n",
       "        vertical-align: middle;\n",
       "    }\n",
       "\n",
       "    .dataframe tbody tr th {\n",
       "        vertical-align: top;\n",
       "    }\n",
       "\n",
       "    .dataframe thead th {\n",
       "        text-align: right;\n",
       "    }\n",
       "</style>\n",
       "<table border=\"1\" class=\"dataframe\">\n",
       "  <thead>\n",
       "    <tr style=\"text-align: right;\">\n",
       "      <th></th>\n",
       "      <th>count</th>\n",
       "    </tr>\n",
       "    <tr>\n",
       "      <th>parent</th>\n",
       "      <th></th>\n",
       "    </tr>\n",
       "  </thead>\n",
       "  <tbody>\n",
       "    <tr>\n",
       "      <th>P2093</th>\n",
       "      <td>6173393</td>\n",
       "    </tr>\n",
       "    <tr>\n",
       "      <th>P1476</th>\n",
       "      <td>4238487</td>\n",
       "    </tr>\n",
       "    <tr>\n",
       "      <th>P31</th>\n",
       "      <td>3327644</td>\n",
       "    </tr>\n",
       "    <tr>\n",
       "      <th>P569</th>\n",
       "      <td>2011539</td>\n",
       "    </tr>\n",
       "    <tr>\n",
       "      <th>P625</th>\n",
       "      <td>1494410</td>\n",
       "    </tr>\n",
       "    <tr>\n",
       "      <th>P577</th>\n",
       "      <td>1116328</td>\n",
       "    </tr>\n",
       "    <tr>\n",
       "      <th>P234</th>\n",
       "      <td>999522</td>\n",
       "    </tr>\n",
       "    <tr>\n",
       "      <th>P570</th>\n",
       "      <td>983201</td>\n",
       "    </tr>\n",
       "    <tr>\n",
       "      <th>P131</th>\n",
       "      <td>927413</td>\n",
       "    </tr>\n",
       "    <tr>\n",
       "      <th>P364</th>\n",
       "      <td>870224</td>\n",
       "    </tr>\n",
       "    <tr>\n",
       "      <th>P2044</th>\n",
       "      <td>780870</td>\n",
       "    </tr>\n",
       "    <tr>\n",
       "      <th>P279</th>\n",
       "      <td>765112</td>\n",
       "    </tr>\n",
       "    <tr>\n",
       "      <th>P969</th>\n",
       "      <td>732461</td>\n",
       "    </tr>\n",
       "    <tr>\n",
       "      <th>P356</th>\n",
       "      <td>413439</td>\n",
       "    </tr>\n",
       "    <tr>\n",
       "      <th>P637</th>\n",
       "      <td>387091</td>\n",
       "    </tr>\n",
       "  </tbody>\n",
       "</table>\n",
       "</div>"
      ],
      "text/plain": [
       "          count\n",
       "parent         \n",
       "P2093   6173393\n",
       "P1476   4238487\n",
       "P31     3327644\n",
       "P569    2011539\n",
       "P625    1494410\n",
       "P577    1116328\n",
       "P234     999522\n",
       "P570     983201\n",
       "P131     927413\n",
       "P364     870224\n",
       "P2044    780870\n",
       "P279     765112\n",
       "P969     732461\n",
       "P356     413439\n",
       "P637     387091"
      ]
     },
     "execution_count": 7,
     "metadata": {},
     "output_type": "execute_result"
    }
   ],
   "source": [
    "df1 = pd.read_csv('../../opAnalysis/removed_statements_nonredirects_props_dist.tsv',sep='\\t')\n",
    "df1.columns = ['parent','count']\n",
    "df1 = df1.sort_values(by=['count'],ascending=False)\n",
    "df1 = df1.set_index('parent')\n",
    "df1.head(15)"
   ]
  },
  {
   "cell_type": "markdown",
   "id": "martial-friday",
   "metadata": {},
   "source": [
    "# Comparison Removed NR dataset with Qnodes, literals\n",
    "\n",
    "First, let's split this dataset"
   ]
  },
  {
   "cell_type": "code",
   "execution_count": null,
   "id": "higher-photograph",
   "metadata": {},
   "outputs": [],
   "source": [
    "from dateutil.parser import parse\n",
    "import re\n",
    "import rltk\n",
    "from rltk.similarity import levenshtein_distance as ld\n",
    "from nltk.tokenize import word_tokenize as wt\n",
    "\n",
    "def is_num(string):\n",
    "    try: \n",
    "        float(string)\n",
    "        return True\n",
    "\n",
    "    except ValueError:\n",
    "        return False\n",
    "\n",
    "f1 = open(\"../../opAnalysis/removed_statements_both_nonredirects.tsv\",\"r\").read().split(\"\\n\")\n",
    "fStr = open(\"../../opAnalysis/removed_statements_both_nonredirects_node2_string.tsv\",\"w\")\n",
    "fDat = open(\"../../opAnalysis/removed_statements_both_nonredirects_node2_date.tsv\",\"w\")\n",
    "fQnd = open(\"../../opAnalysis/removed_statements_both_nonredirects_node2_qnode.tsv\",\"w\")\n",
    "fNum = open(\"../../opAnalysis/removed_statements_both_nonredirects_node2_num.tsv\",\"w\")\n",
    "fnonQnd = open(\"../../opAnalysis/removed_statements_both_nonredirects_node2_lit.tsv\",\"w\")\n",
    "\n",
    "fStr.write(f1[0]+\"\\n\")\n",
    "fDat.write(f1[0]+\"\\n\")\n",
    "fQnd.write(f1[0]+\"\\n\")\n",
    "fNum.write(f1[0]+\"\\n\")\n",
    "fnonQnd.write(f1[0]+\"\\n\")\n",
    "\n",
    "for i in range(1,len(f1)):\n",
    "    val1 = f1[i].split(\"\\t\")[3]\n",
    "    if val1.startswith('Q'):\n",
    "        fQnd.write(f1[i]+\"\\n\")\n",
    "#     elif bool(re.search(\"\\^\\d{11}-\\d{2}-\\d{2}T\\d{2}:\\d{2}:\\d{2}Z\\/\\d{,2}\",val1)):\n",
    "    elif val1.startswith(\"^\"):\n",
    "        fDat.write(f1[i]+\"\\n\")\n",
    "        fnonQnd.write(f1[i]+\"\\n\")\n",
    "    elif is_num(val1):\n",
    "        fNum.write(f1[i]+\"\\n\")\n",
    "        fnonQnd.write(f1[i]+\"\\n\")\n",
    "    else:\n",
    "        fStr.write(f1[i]+\"\\n\")\n",
    "        fnonQnd.write(f1[i]+\"\\n\")\n",
    "\n",
    "fQnd.close()\n",
    "fDat.close()\n",
    "fNum.close()\n",
    "fStr.close()\n",
    "fnonQnd.close()"
   ]
  },
  {
   "cell_type": "markdown",
   "id": "rough-emerald",
   "metadata": {},
   "source": [
    "### String Comparison"
   ]
  },
  {
   "cell_type": "code",
   "execution_count": null,
   "id": "amateur-effort",
   "metadata": {},
   "outputs": [],
   "source": [
    "!kgtk query -i ../../opAnalysis/removed_statements_both_nonredirects_node2_string.tsv     \\\n",
    "    ../gdrive-kgtk-dump-2020-12-07/claims.string.tsv.gz     \\\n",
    "    --match \"r: (x)-[r]->(y), c: (x)-[s]->(z)\"     \\\n",
    "    --where \"r.label = s.label\"     \\\n",
    "    --return 'x, r.label, y, s.label as newNode2Label, z as newNode2'     \\\n",
    "    -o ../../opAnalysis/removed_statements_both_nonredirects_str_new_vals.tsv \\\n",
    "    --graph-cache ~/temp2.sqlite3.db"
   ]
  },
  {
   "cell_type": "code",
   "execution_count": null,
   "id": "separate-georgia",
   "metadata": {},
   "outputs": [],
   "source": [
    "!sed -i '1s/.*/node1\\tlabel\\tnode2\\tnode2;newLabl\\tnode2;nw/' removed_statements_both_nonredirects_str_new_vals.tsv"
   ]
  },
  {
   "cell_type": "markdown",
   "id": "disturbed-geology",
   "metadata": {},
   "source": [
    "The strings subset has a branching factor of approx 10. i.e. 1 removed statement with string literal has been replaced by around 10 new statements (with same node1-label combination). Doing the same comparisons won't give us much insights. Instead, let's truncate this dataset while retaining just the counts of branching factor from each of these node1-label combinations. "
   ]
  },
  {
   "cell_type": "code",
   "execution_count": null,
   "id": "downtown-alabama",
   "metadata": {},
   "outputs": [],
   "source": [
    "!kgtk --debug query -i ../../opAnalysis/removed_statements_both_nonredirects_str_new_vals.tsv \\\n",
    "    --match \"(node1)-[r]->(node2{newLabl: newLabel, nw: newValue})\" \\\n",
    "    --return 'node1, r.label, node2, newLabel as `node2;newLabel`, max(newValue) as `node2;newValue`, count(newValue) as `node2;branching`' \\\n",
    "    -o ../../opAnalysis/removed_statements_both_nonredirects_str_new_vals_truncated.tsv \\\n",
    "    --graph-cache ~/sqlite3_caches/temptrunc.sqlite3.db"
   ]
  },
  {
   "cell_type": "markdown",
   "id": "tropical-cooperation",
   "metadata": {},
   "source": [
    "On this truncated dataset, we will next compute the stats and comparisons. Note: Our original string literals subset of removed statements was around 9 GB. With the join operation with claims, this had increased to 90 GB. We have now truncated this dataset to 778 MB"
   ]
  },
  {
   "cell_type": "code",
   "execution_count": null,
   "id": "successful-singer",
   "metadata": {},
   "outputs": [],
   "source": [
    "from dateutil.parser import parse\n",
    "import re\n",
    "import rltk\n",
    "from rltk.similarity import levenshtein_distance as ld\n",
    "from nltk.tokenize import word_tokenize as wt\n",
    "from tqdm.notebook import tqdm\n",
    "\n",
    "f1 = open(\"../../opAnalysis/removed_statements_both_nonredirects_str_new_vals_truncated.tsv\",\"r\")\n",
    "fStr = open(\"../../opAnalysis/removed_statements_both_nonredirects_str_new_vals_measured.tsv\",\"w\")\n",
    "\n",
    "firstLine = next(f1).rstrip()\n",
    "\n",
    "fStr.write(firstLine+\"\\tVersionBool\\tRangeBool\\tLevDist\\tRearranged\\tRearrangedFirstNP\\n\")\n",
    "\n",
    "for line in tqdm(f1):\n",
    "    val1 = line.split(\"\\t\")[2]\n",
    "    val2 = line.split(\"\\t\")[4]\n",
    "    val2 = val2[1:-1]\n",
    "    versionBool = bool(re.fullmatch(\"[\\d\\.]+[\\w\\s\\d]*\",val1))\n",
    "    rangeBool = bool(re.fullmatch(\"[\\d]+[-|–][\\d]+\",val1))\n",
    "    LevDist = ld(val1,val2)\n",
    "    rearranged = set(wt(val1)) == set(wt(val2))\n",
    "    rearrangedFirstNP = set(wt(val1)) == set(wt(val2[1:]))\n",
    "    fStr.write(line+ \"\\t\" + str(versionBool) + \"\\t\" + str(rangeBool) + \"\\t\" + \\\n",
    "               str(LevDist) + \"\\t\" + str(rearranged) + \"\\t\" + str(rearrangedFirstNP) + \"\\n\")\n",
    "\n",
    "fStr.close()"
   ]
  },
  {
   "cell_type": "code",
   "execution_count": 10,
   "id": "international-violation",
   "metadata": {},
   "outputs": [
    {
     "name": "stdout",
     "output_type": "stream",
     "text": [
      "list index out of range\r\n"
     ]
    }
   ],
   "source": [
    "!kgtk ifnotexists -i ../../opAnalysis/removed_statements_both_nonredirects_node2_string.tsv \\\n",
    "    --filter-on ../../opAnalysis/removed_statements_both_nonredirects_str_new_vals_measured.tsv \\\n",
    "    --filter-mode NONE \\\n",
    "    --input-keys label node1 \\\n",
    "    --filter-keys label node1 \\\n",
    "    -o ../../opAnalysis/removed_statements_both_nonredirects_node2_string_unmatched.tsv"
   ]
  },
  {
   "cell_type": "code",
   "execution_count": 17,
   "id": "tracked-carroll",
   "metadata": {},
   "outputs": [
    {
     "name": "stdout",
     "output_type": "stream",
     "text": [
      "1923347844 ../../opAnalysis/removed_statements_both_nonredirects_str_new_vals.tsv\r\n"
     ]
    }
   ],
   "source": [
    "!wc -l ../../opAnalysis/removed_statements_both_nonredirects_str_new_vals.tsv"
   ]
  },
  {
   "cell_type": "code",
   "execution_count": 13,
   "id": "vocational-pound",
   "metadata": {},
   "outputs": [
    {
     "name": "stdout",
     "output_type": "stream",
     "text": [
      "14091661 ../../opAnalysis/removed_statements_both_nonredirects_str_new_vals_measured.tsv\r\n"
     ]
    }
   ],
   "source": [
    "!wc -l ../../opAnalysis/removed_statements_both_nonredirects_str_new_vals_measured.tsv"
   ]
  },
  {
   "cell_type": "code",
   "execution_count": 11,
   "id": "trained-tuning",
   "metadata": {},
   "outputs": [
    {
     "name": "stdout",
     "output_type": "stream",
     "text": [
      "16922586 ../../opAnalysis/removed_statements_both_nonredirects_node2_string_unmatched.tsv\r\n"
     ]
    }
   ],
   "source": [
    "!wc -l ../../opAnalysis/removed_statements_both_nonredirects_node2_string_unmatched.tsv"
   ]
  },
  {
   "cell_type": "code",
   "execution_count": 3,
   "id": "daily-complexity",
   "metadata": {},
   "outputs": [],
   "source": [
    "str_df = pd.read_csv(\"../../opAnalysis/removed_statements_both_nonredirects_str_new_vals_measured.tsv\",sep='\\t')"
   ]
  },
  {
   "cell_type": "code",
   "execution_count": 4,
   "id": "otherwise-bones",
   "metadata": {},
   "outputs": [
    {
     "data": {
      "text/html": [
       "<div>\n",
       "<style scoped>\n",
       "    .dataframe tbody tr th:only-of-type {\n",
       "        vertical-align: middle;\n",
       "    }\n",
       "\n",
       "    .dataframe tbody tr th {\n",
       "        vertical-align: top;\n",
       "    }\n",
       "\n",
       "    .dataframe thead th {\n",
       "        text-align: right;\n",
       "    }\n",
       "</style>\n",
       "<table border=\"1\" class=\"dataframe\">\n",
       "  <thead>\n",
       "    <tr style=\"text-align: right;\">\n",
       "      <th></th>\n",
       "      <th>node1</th>\n",
       "      <th>label</th>\n",
       "      <th>node2</th>\n",
       "      <th>node2;newLabel</th>\n",
       "      <th>node2;newValue</th>\n",
       "      <th>node2;branching</th>\n",
       "      <th>VersionBool</th>\n",
       "      <th>RangeBool</th>\n",
       "      <th>LevDist</th>\n",
       "      <th>Rearranged</th>\n",
       "      <th>RearrangedFirstNP</th>\n",
       "    </tr>\n",
       "  </thead>\n",
       "  <tbody>\n",
       "    <tr>\n",
       "      <th>0</th>\n",
       "      <td>P1003</td>\n",
       "      <td>P1630</td>\n",
       "      <td>http://alephnew.bibnat.ro:8991/F?func=find-b&amp;r...</td>\n",
       "      <td>P1630</td>\n",
       "      <td>http://aleph.bibnat.ro:8991/F/?func=direct&amp;loc...</td>\n",
       "      <td>1</td>\n",
       "      <td>False</td>\n",
       "      <td>False</td>\n",
       "      <td>51</td>\n",
       "      <td>False</td>\n",
       "      <td>False</td>\n",
       "    </tr>\n",
       "    <tr>\n",
       "      <th>1</th>\n",
       "      <td>P1004</td>\n",
       "      <td>P1921</td>\n",
       "      <td>http://musicbrainz.org/$1/place</td>\n",
       "      <td>P1921</td>\n",
       "      <td>http://musicbrainz.org/place/$1</td>\n",
       "      <td>1</td>\n",
       "      <td>False</td>\n",
       "      <td>False</td>\n",
       "      <td>6</td>\n",
       "      <td>False</td>\n",
       "      <td>False</td>\n",
       "    </tr>\n",
       "    <tr>\n",
       "      <th>2</th>\n",
       "      <td>P1004</td>\n",
       "      <td>P1921</td>\n",
       "      <td>https://musicbrainz.org/place/$1</td>\n",
       "      <td>P1921</td>\n",
       "      <td>http://musicbrainz.org/place/$1</td>\n",
       "      <td>1</td>\n",
       "      <td>False</td>\n",
       "      <td>False</td>\n",
       "      <td>1</td>\n",
       "      <td>False</td>\n",
       "      <td>False</td>\n",
       "    </tr>\n",
       "    <tr>\n",
       "      <th>3</th>\n",
       "      <td>P1005</td>\n",
       "      <td>P1630</td>\n",
       "      <td>http://purl.pt/index/geral/aut/PT/$1.html</td>\n",
       "      <td>P1630</td>\n",
       "      <td>http://urn.bn.pt/nca/unimarc-authorities/html?...</td>\n",
       "      <td>3</td>\n",
       "      <td>False</td>\n",
       "      <td>False</td>\n",
       "      <td>31</td>\n",
       "      <td>False</td>\n",
       "      <td>False</td>\n",
       "    </tr>\n",
       "    <tr>\n",
       "      <th>4</th>\n",
       "      <td>P1005</td>\n",
       "      <td>P1630</td>\n",
       "      <td>http://urn.bn.pt/nca/unimarc-authorities/txt?i...</td>\n",
       "      <td>P1630</td>\n",
       "      <td>http://urn.bn.pt/nca/unimarc-authorities/html?...</td>\n",
       "      <td>3</td>\n",
       "      <td>False</td>\n",
       "      <td>False</td>\n",
       "      <td>3</td>\n",
       "      <td>False</td>\n",
       "      <td>False</td>\n",
       "    </tr>\n",
       "  </tbody>\n",
       "</table>\n",
       "</div>"
      ],
      "text/plain": [
       "   node1  label                                              node2  \\\n",
       "0  P1003  P1630  http://alephnew.bibnat.ro:8991/F?func=find-b&r...   \n",
       "1  P1004  P1921                    http://musicbrainz.org/$1/place   \n",
       "2  P1004  P1921                   https://musicbrainz.org/place/$1   \n",
       "3  P1005  P1630          http://purl.pt/index/geral/aut/PT/$1.html   \n",
       "4  P1005  P1630  http://urn.bn.pt/nca/unimarc-authorities/txt?i...   \n",
       "\n",
       "  node2;newLabel                                     node2;newValue  \\\n",
       "0          P1630  http://aleph.bibnat.ro:8991/F/?func=direct&loc...   \n",
       "1          P1921                    http://musicbrainz.org/place/$1   \n",
       "2          P1921                    http://musicbrainz.org/place/$1   \n",
       "3          P1630  http://urn.bn.pt/nca/unimarc-authorities/html?...   \n",
       "4          P1630  http://urn.bn.pt/nca/unimarc-authorities/html?...   \n",
       "\n",
       "   node2;branching  VersionBool  RangeBool  LevDist  Rearranged  \\\n",
       "0                1        False      False       51       False   \n",
       "1                1        False      False        6       False   \n",
       "2                1        False      False        1       False   \n",
       "3                3        False      False       31       False   \n",
       "4                3        False      False        3       False   \n",
       "\n",
       "   RearrangedFirstNP  \n",
       "0              False  \n",
       "1              False  \n",
       "2              False  \n",
       "3              False  \n",
       "4              False  "
      ]
     },
     "execution_count": 4,
     "metadata": {},
     "output_type": "execute_result"
    }
   ],
   "source": [
    "str_df.head()"
   ]
  },
  {
   "cell_type": "code",
   "execution_count": 15,
   "id": "restricted-locking",
   "metadata": {},
   "outputs": [
    {
     "data": {
      "text/plain": [
       "136.48837958054622"
      ]
     },
     "execution_count": 15,
     "metadata": {},
     "output_type": "execute_result"
    }
   ],
   "source": [
    "str_df['node2;branching'].mean()"
   ]
  },
  {
   "cell_type": "code",
   "execution_count": 23,
   "id": "hundred-entrepreneur",
   "metadata": {},
   "outputs": [
    {
     "data": {
      "text/plain": [
       "1        2084163\n",
       "2        1739757\n",
       "3        1645943\n",
       "4        1530528\n",
       "5        1209068\n",
       "          ...   \n",
       "12813          2\n",
       "12840          1\n",
       "13554          1\n",
       "18192          1\n",
       "29360          1\n",
       "Name: node2;branching, Length: 2191, dtype: int64"
      ]
     },
     "execution_count": 23,
     "metadata": {},
     "output_type": "execute_result"
    }
   ],
   "source": [
    "str_df['node2;branching'].value_counts().sort_index()"
   ]
  },
  {
   "cell_type": "code",
   "execution_count": 36,
   "id": "editorial-romance",
   "metadata": {},
   "outputs": [
    {
     "name": "stdout",
     "output_type": "stream",
     "text": [
      "Out of 14091660 updates, 25167 correspond to changes due to version change with average branching factor: 5.597170898398697\n"
     ]
    }
   ],
   "source": [
    "print(f\"Out of {len(str_df)} updates, {str_df['VersionBool'].sum()} correspond to changes due to version change with average branching factor: {str_df[str_df['VersionBool'] == True]['node2;branching'].mean()}\")"
   ]
  },
  {
   "cell_type": "code",
   "execution_count": 29,
   "id": "social-plenty",
   "metadata": {},
   "outputs": [
    {
     "data": {
      "text/plain": [
       "count    25167.000000\n",
       "mean         4.792625\n",
       "std          6.162759\n",
       "min          0.000000\n",
       "25%          1.000000\n",
       "50%          2.000000\n",
       "75%          5.000000\n",
       "max         63.000000\n",
       "Name: LevDist, dtype: float64"
      ]
     },
     "execution_count": 29,
     "metadata": {},
     "output_type": "execute_result"
    }
   ],
   "source": [
    "str_df[str_df['VersionBool'] == True].LevDist.describe()"
   ]
  },
  {
   "cell_type": "code",
   "execution_count": 37,
   "id": "promising-hopkins",
   "metadata": {},
   "outputs": [
    {
     "name": "stdout",
     "output_type": "stream",
     "text": [
      "Out of 14091660 updates, 321952 correspond to changes due to range change with average branching factor: 1.0656495378193023\n"
     ]
    }
   ],
   "source": [
    "print(f\"Out of {len(str_df)} updates, {str_df['RangeBool'].sum()} correspond to changes due to range change with average branching factor: {str_df[str_df['RangeBool'] == True]['node2;branching'].mean()}\")"
   ]
  },
  {
   "cell_type": "code",
   "execution_count": 30,
   "id": "varied-reform",
   "metadata": {
    "scrolled": true
   },
   "outputs": [
    {
     "data": {
      "text/plain": [
       "count    321952.000000\n",
       "mean          2.343707\n",
       "std           2.188651\n",
       "min           0.000000\n",
       "25%           1.000000\n",
       "50%           2.000000\n",
       "75%           3.000000\n",
       "max          47.000000\n",
       "Name: LevDist, dtype: float64"
      ]
     },
     "execution_count": 30,
     "metadata": {},
     "output_type": "execute_result"
    }
   ],
   "source": [
    "str_df[str_df['RangeBool'] == True].LevDist.describe()"
   ]
  },
  {
   "cell_type": "code",
   "execution_count": 38,
   "id": "annoying-transaction",
   "metadata": {},
   "outputs": [
    {
     "name": "stdout",
     "output_type": "stream",
     "text": [
      "Out of 14091660 updates, 229782 correspond to changes due to rearrangement with average branching factor: 3.5381753139932632\n"
     ]
    }
   ],
   "source": [
    "print(f\"Out of {len(str_df)} updates, {str_df['Rearranged'].sum()} correspond to changes due to rearrangement with average branching factor: {str_df[str_df['Rearranged'] == True]['node2;branching'].mean()}\")"
   ]
  },
  {
   "cell_type": "code",
   "execution_count": 32,
   "id": "three-characteristic",
   "metadata": {},
   "outputs": [
    {
     "data": {
      "text/plain": [
       "count    229782.000000\n",
       "mean          2.934938\n",
       "std           1.989685\n",
       "min           0.000000\n",
       "25%           1.000000\n",
       "50%           4.000000\n",
       "75%           4.000000\n",
       "max          56.000000\n",
       "Name: LevDist, dtype: float64"
      ]
     },
     "execution_count": 32,
     "metadata": {},
     "output_type": "execute_result"
    }
   ],
   "source": [
    "str_df[str_df['Rearranged'] == True].LevDist.describe()"
   ]
  },
  {
   "cell_type": "code",
   "execution_count": 39,
   "id": "military-coordinator",
   "metadata": {},
   "outputs": [
    {
     "data": {
      "text/plain": [
       "count    1.409166e+07\n",
       "mean     1.165120e+01\n",
       "std      5.339850e+00\n",
       "min      0.000000e+00\n",
       "25%      9.000000e+00\n",
       "50%      1.200000e+01\n",
       "75%      1.400000e+01\n",
       "max      1.445000e+03\n",
       "Name: LevDist, dtype: float64"
      ]
     },
     "execution_count": 39,
     "metadata": {},
     "output_type": "execute_result"
    }
   ],
   "source": [
    "str_df.LevDist.describe()"
   ]
  },
  {
   "cell_type": "code",
   "execution_count": 14,
   "id": "european-treat",
   "metadata": {},
   "outputs": [
    {
     "data": {
      "text/plain": [
       "Text(0.5, 1.0, 'count v/s Lev edit distances')"
      ]
     },
     "execution_count": 14,
     "metadata": {},
     "output_type": "execute_result"
    },
    {
     "data": {
      "image/png": "[encoded data removed]",
      "text/plain": [
       "<Figure size 432x288 with 1 Axes>"
      ]
     },
     "metadata": {
      "needs_background": "light"
     },
     "output_type": "display_data"
    }
   ],
   "source": [
    "str_df.LevDist.hist(bins=50).set_title(\"count v/s Lev edit distances\")"
   ]
  },
  {
   "cell_type": "code",
   "execution_count": 15,
   "id": "quarterly-shock",
   "metadata": {},
   "outputs": [
    {
     "data": {
      "text/plain": [
       "Text(0.5, 1.0, 'count v/s Lev edit distances till 20')"
      ]
     },
     "execution_count": 15,
     "metadata": {},
     "output_type": "execute_result"
    },
    {
     "data": {
      "image/png": "[encoded data removed]",
      "text/plain": [
       "<Figure size 432x288 with 1 Axes>"
      ]
     },
     "metadata": {
      "needs_background": "light"
     },
     "output_type": "display_data"
    }
   ],
   "source": [
    "str_df.LevDist[str_df.LevDist <= 20].hist(bins=100).set_title(\"count v/s Lev edit distances till 20\")"
   ]
  },
  {
   "cell_type": "markdown",
   "id": "administrative-barbados",
   "metadata": {},
   "source": [
    "### Dates Comparison"
   ]
  },
  {
   "cell_type": "code",
   "execution_count": null,
   "id": "creative-office",
   "metadata": {},
   "outputs": [],
   "source": [
    "!kgtk --debug query -i ../opAnalysis/removed_statements_both_nonredirects_node2_date.tsv \\\n",
    "    ../gdrive-kgtk-dump-2020-12-07/claims.tsv.gz \\\n",
    "    --match \"a: (x)-[r]->(y), b: (x)-[s]->(z)\" \\\n",
    "    --where \"r.label = s.label\" \\\n",
    "    --return 'x, r.label, y, s.label as newNode2Label, z as newNode2' \\\n",
    "    -o ../opAnalysis/removed_statements_both_nonredirects_date_new_vals.tsv\n"
   ]
  },
  {
   "cell_type": "code",
   "execution_count": 21,
   "id": "sophisticated-glance",
   "metadata": {},
   "outputs": [],
   "source": [
    "# from dateutil.parser import parse\n",
    "# import re\n",
    "# import rltk\n",
    "# from rltk.similarity import levenshtein_distance as ld\n",
    "# from nltk.tokenize import word_tokenize as wt\n",
    "# from tqdm.notebook import tqdm\n",
    "\n",
    "# f1 = open(\"../../opAnalysis/removed_statements_both_nonredirects_new_vals_date.tsv\",\"r\").read().split('\\n')\n",
    "# fStr = open(\"../../opAnalysis/removed_statements_both_nonredirects_new_vals_date_measured.tsv\",\"w\")\n",
    "\n",
    "# firstLine = f1[0]\n",
    "\n",
    "# fStr.write(firstLine+\"\\tSameDate\\n\")\n",
    "\n",
    "# for i in tqdm(range(1, len(f1)-1)):\n",
    "#     line = f1[i]\n",
    "#     val1 = line.split(\"\\t\")[2]\n",
    "#     val2 = line.split(\"\\t\")[4]\n",
    "#     val2 = val2[1:-1]\n",
    "#     versionBool = bool(re.fullmatch(\"[\\d\\.]+[\\w\\s\\d]*\",val1))\n",
    "#     rangeBool = bool(re.fullmatch(\"[\\d]+[-|–][\\d]+\",val1))\n",
    "#     LevDist = ld(val1,val2)\n",
    "#     rearranged = set(wt(val1)) == set(wt(val2))\n",
    "#     rearrangedFirstNP = set(wt(val1)) == set(wt(val2[1:]))\n",
    "#     fStr.write(line+ \"\\t\" + str(versionBool) + \"\\t\" + str(rangeBool) + \"\\t\" + \\\n",
    "#                str(LevDist) + \"\\t\" + str(rearranged) + \"\\t\" + str(rearrangedFirstNP) + \"\\n\")\n",
    "\n",
    "# fStr.close()"
   ]
  },
  {
   "cell_type": "code",
   "execution_count": 19,
   "id": "identified-calculation",
   "metadata": {},
   "outputs": [],
   "source": [
    "date_df = pd.read_csv(\"../../opAnalysis/removed_statements_both_nonredirects_new_vals_date.tsv\",sep='\\t')"
   ]
  },
  {
   "cell_type": "code",
   "execution_count": 20,
   "id": "infinite-handbook",
   "metadata": {},
   "outputs": [
    {
     "data": {
      "text/html": [
       "<div>\n",
       "<style scoped>\n",
       "    .dataframe tbody tr th:only-of-type {\n",
       "        vertical-align: middle;\n",
       "    }\n",
       "\n",
       "    .dataframe tbody tr th {\n",
       "        vertical-align: top;\n",
       "    }\n",
       "\n",
       "    .dataframe thead th {\n",
       "        text-align: right;\n",
       "    }\n",
       "</style>\n",
       "<table border=\"1\" class=\"dataframe\">\n",
       "  <thead>\n",
       "    <tr style=\"text-align: right;\">\n",
       "      <th></th>\n",
       "      <th>node1</th>\n",
       "      <th>label</th>\n",
       "      <th>node2</th>\n",
       "      <th>newNode2Label</th>\n",
       "      <th>newNode2</th>\n",
       "      <th>SameBool</th>\n",
       "    </tr>\n",
       "  </thead>\n",
       "  <tbody>\n",
       "    <tr>\n",
       "      <th>0</th>\n",
       "      <td>Q1004723</td>\n",
       "      <td>P569</td>\n",
       "      <td>^00000001887-00-00T00:00:00Z/9</td>\n",
       "      <td>P569</td>\n",
       "      <td>^1887-01-01T00:00:00Z/9</td>\n",
       "      <td>False</td>\n",
       "    </tr>\n",
       "    <tr>\n",
       "      <th>1</th>\n",
       "      <td>Q102084</td>\n",
       "      <td>P569</td>\n",
       "      <td>^00000001093-00-00T00:00:00Z/9</td>\n",
       "      <td>P569</td>\n",
       "      <td>^1093-01-01T00:00:00Z/9</td>\n",
       "      <td>False</td>\n",
       "    </tr>\n",
       "    <tr>\n",
       "      <th>2</th>\n",
       "      <td>Q10272460</td>\n",
       "      <td>P570</td>\n",
       "      <td>^00000001917-00-00T00:00:00Z/9</td>\n",
       "      <td>P570</td>\n",
       "      <td>^1919-03-06T00:00:00Z/11</td>\n",
       "      <td>False</td>\n",
       "    </tr>\n",
       "    <tr>\n",
       "      <th>3</th>\n",
       "      <td>Q10289892</td>\n",
       "      <td>P569</td>\n",
       "      <td>^00000001953-00-00T00:00:00Z/9</td>\n",
       "      <td>P569</td>\n",
       "      <td>^1953-01-01T00:00:00Z/9</td>\n",
       "      <td>False</td>\n",
       "    </tr>\n",
       "    <tr>\n",
       "      <th>4</th>\n",
       "      <td>Q1029352</td>\n",
       "      <td>P569</td>\n",
       "      <td>^00000001893-00-00T00:00:00Z/9</td>\n",
       "      <td>P569</td>\n",
       "      <td>^1893-01-20T00:00:00Z/11</td>\n",
       "      <td>False</td>\n",
       "    </tr>\n",
       "  </tbody>\n",
       "</table>\n",
       "</div>"
      ],
      "text/plain": [
       "       node1 label                           node2 newNode2Label  \\\n",
       "0   Q1004723  P569  ^00000001887-00-00T00:00:00Z/9          P569   \n",
       "1    Q102084  P569  ^00000001093-00-00T00:00:00Z/9          P569   \n",
       "2  Q10272460  P570  ^00000001917-00-00T00:00:00Z/9          P570   \n",
       "3  Q10289892  P569  ^00000001953-00-00T00:00:00Z/9          P569   \n",
       "4   Q1029352  P569  ^00000001893-00-00T00:00:00Z/9          P569   \n",
       "\n",
       "                   newNode2  SameBool  \n",
       "0   ^1887-01-01T00:00:00Z/9     False  \n",
       "1   ^1093-01-01T00:00:00Z/9     False  \n",
       "2  ^1919-03-06T00:00:00Z/11     False  \n",
       "3   ^1953-01-01T00:00:00Z/9     False  \n",
       "4  ^1893-01-20T00:00:00Z/11     False  "
      ]
     },
     "execution_count": 20,
     "metadata": {},
     "output_type": "execute_result"
    }
   ],
   "source": [
    "date_df.head()"
   ]
  },
  {
   "cell_type": "code",
   "execution_count": 33,
   "id": "wired-owner",
   "metadata": {},
   "outputs": [],
   "source": [
    "date_df1 = pd.read_csv(\"../../opAnalysis/removed_statements_both_nonredirects_new_vals_date.tsv\",sep='\\t', parse_dates=['node2','newNode2'], infer_datetime_format=True)"
   ]
  },
  {
   "cell_type": "code",
   "execution_count": 42,
   "id": "further-sugar",
   "metadata": {},
   "outputs": [
    {
     "ename": "ValueError",
     "evalue": "month must be in 1..12",
     "output_type": "error",
     "traceback": [
      "\u001b[0;31m---------------------------------------------------------------------------\u001b[0m",
      "\u001b[0;31mValueError\u001b[0m                                Traceback (most recent call last)",
      "\u001b[0;32m<ipython-input-42-7f831cd5a747>\u001b[0m in \u001b[0;36m<module>\u001b[0;34m\u001b[0m\n\u001b[1;32m      1\u001b[0m \u001b[0;32mfrom\u001b[0m \u001b[0mdatetime\u001b[0m \u001b[0;32mimport\u001b[0m \u001b[0mdatetime\u001b[0m\u001b[0;34m\u001b[0m\u001b[0;34m\u001b[0m\u001b[0m\n\u001b[0;32m----> 2\u001b[0;31m \u001b[0mdatetime\u001b[0m\u001b[0;34m.\u001b[0m\u001b[0mfromisoformat\u001b[0m\u001b[0;34m(\u001b[0m\u001b[0;34m\"1893-00-00T00:00:00\"\u001b[0m\u001b[0;34m)\u001b[0m\u001b[0;34m\u001b[0m\u001b[0;34m\u001b[0m\u001b[0m\n\u001b[0m",
      "\u001b[0;31mValueError\u001b[0m: month must be in 1..12"
     ]
    }
   ],
   "source": [
    "from datetime import datetime\n",
    "datetime.fromisoformat(\"1893-00-00T00:00:00\")"
   ]
  },
  {
   "cell_type": "code",
   "execution_count": 44,
   "id": "exposed-clearing",
   "metadata": {},
   "outputs": [
    {
     "ename": "ValueError",
     "evalue": "month must be in 1..12",
     "output_type": "error",
     "traceback": [
      "\u001b[0;31m---------------------------------------------------------------------------\u001b[0m",
      "\u001b[0;31mValueError\u001b[0m                                Traceback (most recent call last)",
      "\u001b[0;32m<ipython-input-44-0dc5b567cc1d>\u001b[0m in \u001b[0;36m<module>\u001b[0;34m\u001b[0m\n\u001b[1;32m      1\u001b[0m \u001b[0;32mfrom\u001b[0m \u001b[0mdateutil\u001b[0m \u001b[0;32mimport\u001b[0m \u001b[0mparser\u001b[0m\u001b[0;34m\u001b[0m\u001b[0;34m\u001b[0m\u001b[0m\n\u001b[0;32m----> 2\u001b[0;31m \u001b[0mparser\u001b[0m\u001b[0;34m.\u001b[0m\u001b[0misoparse\u001b[0m\u001b[0;34m(\u001b[0m\u001b[0;34m\"1893-00-00T00:00:00\"\u001b[0m\u001b[0;34m)\u001b[0m\u001b[0;34m\u001b[0m\u001b[0;34m\u001b[0m\u001b[0m\n\u001b[0m",
      "\u001b[0;32m~/miniconda3/envs/kgtkEnv/lib/python3.8/site-packages/dateutil/parser/isoparser.py\u001b[0m in \u001b[0;36mfunc\u001b[0;34m(self, str_in, *args, **kwargs)\u001b[0m\n\u001b[1;32m     35\u001b[0m                 \u001b[0msix\u001b[0m\u001b[0;34m.\u001b[0m\u001b[0mraise_from\u001b[0m\u001b[0;34m(\u001b[0m\u001b[0mValueError\u001b[0m\u001b[0;34m(\u001b[0m\u001b[0mmsg\u001b[0m\u001b[0;34m)\u001b[0m\u001b[0;34m,\u001b[0m \u001b[0me\u001b[0m\u001b[0;34m)\u001b[0m\u001b[0;34m\u001b[0m\u001b[0;34m\u001b[0m\u001b[0m\n\u001b[1;32m     36\u001b[0m \u001b[0;34m\u001b[0m\u001b[0m\n\u001b[0;32m---> 37\u001b[0;31m         \u001b[0;32mreturn\u001b[0m \u001b[0mf\u001b[0m\u001b[0;34m(\u001b[0m\u001b[0mself\u001b[0m\u001b[0;34m,\u001b[0m \u001b[0mstr_in\u001b[0m\u001b[0;34m,\u001b[0m \u001b[0;34m*\u001b[0m\u001b[0margs\u001b[0m\u001b[0;34m,\u001b[0m \u001b[0;34m**\u001b[0m\u001b[0mkwargs\u001b[0m\u001b[0;34m)\u001b[0m\u001b[0;34m\u001b[0m\u001b[0;34m\u001b[0m\u001b[0m\n\u001b[0m\u001b[1;32m     38\u001b[0m \u001b[0;34m\u001b[0m\u001b[0m\n\u001b[1;32m     39\u001b[0m     \u001b[0;32mreturn\u001b[0m \u001b[0mfunc\u001b[0m\u001b[0;34m\u001b[0m\u001b[0;34m\u001b[0m\u001b[0m\n",
      "\u001b[0;32m~/miniconda3/envs/kgtkEnv/lib/python3.8/site-packages/dateutil/parser/isoparser.py\u001b[0m in \u001b[0;36misoparse\u001b[0;34m(self, dt_str)\u001b[0m\n\u001b[1;32m    144\u001b[0m             \u001b[0;32mreturn\u001b[0m \u001b[0mdatetime\u001b[0m\u001b[0;34m(\u001b[0m\u001b[0;34m*\u001b[0m\u001b[0mcomponents\u001b[0m\u001b[0;34m)\u001b[0m \u001b[0;34m+\u001b[0m \u001b[0mtimedelta\u001b[0m\u001b[0;34m(\u001b[0m\u001b[0mdays\u001b[0m\u001b[0;34m=\u001b[0m\u001b[0;36m1\u001b[0m\u001b[0;34m)\u001b[0m\u001b[0;34m\u001b[0m\u001b[0;34m\u001b[0m\u001b[0m\n\u001b[1;32m    145\u001b[0m \u001b[0;34m\u001b[0m\u001b[0m\n\u001b[0;32m--> 146\u001b[0;31m         \u001b[0;32mreturn\u001b[0m \u001b[0mdatetime\u001b[0m\u001b[0;34m(\u001b[0m\u001b[0;34m*\u001b[0m\u001b[0mcomponents\u001b[0m\u001b[0;34m)\u001b[0m\u001b[0;34m\u001b[0m\u001b[0;34m\u001b[0m\u001b[0m\n\u001b[0m\u001b[1;32m    147\u001b[0m \u001b[0;34m\u001b[0m\u001b[0m\n\u001b[1;32m    148\u001b[0m     \u001b[0;34m@\u001b[0m\u001b[0m_takes_ascii\u001b[0m\u001b[0;34m\u001b[0m\u001b[0;34m\u001b[0m\u001b[0m\n",
      "\u001b[0;31mValueError\u001b[0m: month must be in 1..12"
     ]
    }
   ],
   "source": [
    "from dateutil import parser\n",
    "parser.isoparse(\"1893-00-00T00:00:00\")"
   ]
  },
  {
   "cell_type": "code",
   "execution_count": 34,
   "id": "engaging-plasma",
   "metadata": {},
   "outputs": [
    {
     "data": {
      "text/html": [
       "<div>\n",
       "<style scoped>\n",
       "    .dataframe tbody tr th:only-of-type {\n",
       "        vertical-align: middle;\n",
       "    }\n",
       "\n",
       "    .dataframe tbody tr th {\n",
       "        vertical-align: top;\n",
       "    }\n",
       "\n",
       "    .dataframe thead th {\n",
       "        text-align: right;\n",
       "    }\n",
       "</style>\n",
       "<table border=\"1\" class=\"dataframe\">\n",
       "  <thead>\n",
       "    <tr style=\"text-align: right;\">\n",
       "      <th></th>\n",
       "      <th>node1</th>\n",
       "      <th>label</th>\n",
       "      <th>node2</th>\n",
       "      <th>newNode2Label</th>\n",
       "      <th>newNode2</th>\n",
       "      <th>SameBool</th>\n",
       "    </tr>\n",
       "  </thead>\n",
       "  <tbody>\n",
       "    <tr>\n",
       "      <th>0</th>\n",
       "      <td>Q1004723</td>\n",
       "      <td>P569</td>\n",
       "      <td>^00000001887-00-00T00:00:00Z/9</td>\n",
       "      <td>P569</td>\n",
       "      <td>^1887-01-01T00:00:00Z/9</td>\n",
       "      <td>False</td>\n",
       "    </tr>\n",
       "    <tr>\n",
       "      <th>1</th>\n",
       "      <td>Q102084</td>\n",
       "      <td>P569</td>\n",
       "      <td>^00000001093-00-00T00:00:00Z/9</td>\n",
       "      <td>P569</td>\n",
       "      <td>^1093-01-01T00:00:00Z/9</td>\n",
       "      <td>False</td>\n",
       "    </tr>\n",
       "    <tr>\n",
       "      <th>2</th>\n",
       "      <td>Q10272460</td>\n",
       "      <td>P570</td>\n",
       "      <td>^00000001917-00-00T00:00:00Z/9</td>\n",
       "      <td>P570</td>\n",
       "      <td>^1919-03-06T00:00:00Z/11</td>\n",
       "      <td>False</td>\n",
       "    </tr>\n",
       "    <tr>\n",
       "      <th>3</th>\n",
       "      <td>Q10289892</td>\n",
       "      <td>P569</td>\n",
       "      <td>^00000001953-00-00T00:00:00Z/9</td>\n",
       "      <td>P569</td>\n",
       "      <td>^1953-01-01T00:00:00Z/9</td>\n",
       "      <td>False</td>\n",
       "    </tr>\n",
       "    <tr>\n",
       "      <th>4</th>\n",
       "      <td>Q1029352</td>\n",
       "      <td>P569</td>\n",
       "      <td>^00000001893-00-00T00:00:00Z/9</td>\n",
       "      <td>P569</td>\n",
       "      <td>^1893-01-20T00:00:00Z/11</td>\n",
       "      <td>False</td>\n",
       "    </tr>\n",
       "  </tbody>\n",
       "</table>\n",
       "</div>"
      ],
      "text/plain": [
       "       node1 label                           node2 newNode2Label  \\\n",
       "0   Q1004723  P569  ^00000001887-00-00T00:00:00Z/9          P569   \n",
       "1    Q102084  P569  ^00000001093-00-00T00:00:00Z/9          P569   \n",
       "2  Q10272460  P570  ^00000001917-00-00T00:00:00Z/9          P570   \n",
       "3  Q10289892  P569  ^00000001953-00-00T00:00:00Z/9          P569   \n",
       "4   Q1029352  P569  ^00000001893-00-00T00:00:00Z/9          P569   \n",
       "\n",
       "                   newNode2  SameBool  \n",
       "0   ^1887-01-01T00:00:00Z/9     False  \n",
       "1   ^1093-01-01T00:00:00Z/9     False  \n",
       "2  ^1919-03-06T00:00:00Z/11     False  \n",
       "3   ^1953-01-01T00:00:00Z/9     False  \n",
       "4  ^1893-01-20T00:00:00Z/11     False  "
      ]
     },
     "execution_count": 34,
     "metadata": {},
     "output_type": "execute_result"
    }
   ],
   "source": [
    "date_df1.head()"
   ]
  },
  {
   "cell_type": "code",
   "execution_count": 54,
   "id": "established-joining",
   "metadata": {},
   "outputs": [],
   "source": [
    "def date_parser(str):\n",
    "    elems = []\n",
    "    toFetchI = 0\n",
    "    dash1 = str.find(\"-\",toFetchI)\n",
    "    toFetchI = dash1 + 1\n",
    "    elems.append(int(str[:dash1]))\n",
    "    \n",
    "    dash2 = str.find(\"-\",toFetchI)\n",
    "    toFetchI = dash2 + 1\n",
    "    elems.append(int(str[dash1+1:dash2]))\n",
    "    \n",
    "    dashT = str.find(\"T\",toFetchI)\n",
    "    toFetchI = dashT + 1\n",
    "    elems.append(int(str[dash2+1:dashT]))\n",
    "    \n",
    "    dashC = str.find(\":\",toFetchI)\n",
    "    toFetchI = dashC + 1\n",
    "    elems.append(int(str[dashT+1:dashC]))\n",
    "    \n",
    "    dashC2 = str.find(\":\",toFetchI)\n",
    "    toFetchI = dashC2 + 1\n",
    "    elems.append(int(str[dashC+1:dashC2]))\n",
    "    \n",
    "    dashZ = str.find(\"Z\",toFetchI)\n",
    "    toFetchI = dashZ + 2\n",
    "    elems.append(int(str[dashC2+1:dashZ]))\n",
    "    \n",
    "    elems.append(int(str[toFetchI:]))\n",
    "    precision = elems[-1]\n",
    "    if precision == 14:\n",
    "        lastIndex = 5\n",
    "        status = all([elem !=0 for elem in elems[:lastIndex+1]]) and all([elem ==0 for elem in elems[lastIndex:]])\n",
    "    elif precision == 13:\n",
    "        lastIndex = 4\n",
    "        status = all([elem !=0 for elem in elems[:lastIndex+1]]) and all([elem ==0 for elem in elems[lastIndex:]])\n",
    "    elif precision == 12:\n",
    "        lastIndex = 3\n",
    "        status = all([elem !=0 for elem in elems[:lastIndex+1]]) and all([elem ==0 for elem in elems[lastIndex:]])\n",
    "    elif precision == 11:\n",
    "        lastIndex = 2\n",
    "        status = all([elem !=0 for elem in elems[:lastIndex+1]]) and all([elem ==0 for elem in elems[lastIndex:]])\n",
    "    elif precision == 10:\n",
    "        lastIndex = 1\n",
    "        status = all([elem !=0 for elem in elems[:lastIndex+1]]) and all([elem ==0 for elem in elems[lastIndex:]])\n",
    "    elif precision == 9:\n",
    "        lastIndex = 0\n",
    "        status = all([elem !=0 for elem in elems[:lastIndex+1]]) and all([elem ==0 for elem in elems[lastIndex:]])\n",
    "    return status\n",
    "    "
   ]
  },
  {
   "cell_type": "code",
   "execution_count": 55,
   "id": "executed-theater",
   "metadata": {},
   "outputs": [
    {
     "data": {
      "text/plain": [
       "False"
      ]
     },
     "execution_count": 55,
     "metadata": {},
     "output_type": "execute_result"
    }
   ],
   "source": [
    "date_parser(\"1887-01-01T00:00:00Z/9\")"
   ]
  },
  {
   "cell_type": "code",
   "execution_count": 37,
   "id": "complete-index",
   "metadata": {},
   "outputs": [
    {
     "ename": "ParserError",
     "evalue": "Unknown string format: ^00000001887-00-00T00:00:00Z/9",
     "output_type": "error",
     "traceback": [
      "\u001b[0;31m---------------------------------------------------------------------------\u001b[0m",
      "\u001b[0;31mTypeError\u001b[0m                                 Traceback (most recent call last)",
      "\u001b[0;32m~/miniconda3/envs/kgtkEnv/lib/python3.8/site-packages/pandas/core/arrays/datetimes.py\u001b[0m in \u001b[0;36mobjects_to_datetime64ns\u001b[0;34m(data, dayfirst, yearfirst, utc, errors, require_iso8601, allow_object)\u001b[0m\n\u001b[1;32m   2084\u001b[0m         \u001b[0;32mtry\u001b[0m\u001b[0;34m:\u001b[0m\u001b[0;34m\u001b[0m\u001b[0;34m\u001b[0m\u001b[0m\n\u001b[0;32m-> 2085\u001b[0;31m             \u001b[0mvalues\u001b[0m\u001b[0;34m,\u001b[0m \u001b[0mtz_parsed\u001b[0m \u001b[0;34m=\u001b[0m \u001b[0mconversion\u001b[0m\u001b[0;34m.\u001b[0m\u001b[0mdatetime_to_datetime64\u001b[0m\u001b[0;34m(\u001b[0m\u001b[0mdata\u001b[0m\u001b[0;34m)\u001b[0m\u001b[0;34m\u001b[0m\u001b[0;34m\u001b[0m\u001b[0m\n\u001b[0m\u001b[1;32m   2086\u001b[0m             \u001b[0;31m# If tzaware, these values represent unix timestamps, so we\u001b[0m\u001b[0;34m\u001b[0m\u001b[0;34m\u001b[0m\u001b[0;34m\u001b[0m\u001b[0m\n",
      "\u001b[0;32mpandas/_libs/tslibs/conversion.pyx\u001b[0m in \u001b[0;36mpandas._libs.tslibs.conversion.datetime_to_datetime64\u001b[0;34m()\u001b[0m\n",
      "\u001b[0;31mTypeError\u001b[0m: Unrecognized value type: <class 'str'>",
      "\nDuring handling of the above exception, another exception occurred:\n",
      "\u001b[0;31mParserError\u001b[0m                               Traceback (most recent call last)",
      "\u001b[0;32m<ipython-input-37-d1a3b6fc49b5>\u001b[0m in \u001b[0;36m<module>\u001b[0;34m\u001b[0m\n\u001b[0;32m----> 1\u001b[0;31m date_df1['node2'].apply(\n\u001b[0m\u001b[1;32m      2\u001b[0m         lambda x: pd.to_datetime(x))\n",
      "\u001b[0;32m~/miniconda3/envs/kgtkEnv/lib/python3.8/site-packages/pandas/core/series.py\u001b[0m in \u001b[0;36mapply\u001b[0;34m(self, func, convert_dtype, args, **kwds)\u001b[0m\n\u001b[1;32m   4133\u001b[0m             \u001b[0;32melse\u001b[0m\u001b[0;34m:\u001b[0m\u001b[0;34m\u001b[0m\u001b[0;34m\u001b[0m\u001b[0m\n\u001b[1;32m   4134\u001b[0m                 \u001b[0mvalues\u001b[0m \u001b[0;34m=\u001b[0m \u001b[0mself\u001b[0m\u001b[0;34m.\u001b[0m\u001b[0mastype\u001b[0m\u001b[0;34m(\u001b[0m\u001b[0mobject\u001b[0m\u001b[0;34m)\u001b[0m\u001b[0;34m.\u001b[0m\u001b[0m_values\u001b[0m\u001b[0;34m\u001b[0m\u001b[0;34m\u001b[0m\u001b[0m\n\u001b[0;32m-> 4135\u001b[0;31m                 \u001b[0mmapped\u001b[0m \u001b[0;34m=\u001b[0m \u001b[0mlib\u001b[0m\u001b[0;34m.\u001b[0m\u001b[0mmap_infer\u001b[0m\u001b[0;34m(\u001b[0m\u001b[0mvalues\u001b[0m\u001b[0;34m,\u001b[0m \u001b[0mf\u001b[0m\u001b[0;34m,\u001b[0m \u001b[0mconvert\u001b[0m\u001b[0;34m=\u001b[0m\u001b[0mconvert_dtype\u001b[0m\u001b[0;34m)\u001b[0m\u001b[0;34m\u001b[0m\u001b[0;34m\u001b[0m\u001b[0m\n\u001b[0m\u001b[1;32m   4136\u001b[0m \u001b[0;34m\u001b[0m\u001b[0m\n\u001b[1;32m   4137\u001b[0m         \u001b[0;32mif\u001b[0m \u001b[0mlen\u001b[0m\u001b[0;34m(\u001b[0m\u001b[0mmapped\u001b[0m\u001b[0;34m)\u001b[0m \u001b[0;32mand\u001b[0m \u001b[0misinstance\u001b[0m\u001b[0;34m(\u001b[0m\u001b[0mmapped\u001b[0m\u001b[0;34m[\u001b[0m\u001b[0;36m0\u001b[0m\u001b[0;34m]\u001b[0m\u001b[0;34m,\u001b[0m \u001b[0mSeries\u001b[0m\u001b[0;34m)\u001b[0m\u001b[0;34m:\u001b[0m\u001b[0;34m\u001b[0m\u001b[0;34m\u001b[0m\u001b[0m\n",
      "\u001b[0;32mpandas/_libs/lib.pyx\u001b[0m in \u001b[0;36mpandas._libs.lib.map_infer\u001b[0;34m()\u001b[0m\n",
      "\u001b[0;32m<ipython-input-37-d1a3b6fc49b5>\u001b[0m in \u001b[0;36m<lambda>\u001b[0;34m(x)\u001b[0m\n\u001b[1;32m      1\u001b[0m date_df1['node2'].apply(\n\u001b[0;32m----> 2\u001b[0;31m         lambda x: pd.to_datetime(x))\n\u001b[0m",
      "\u001b[0;32m~/miniconda3/envs/kgtkEnv/lib/python3.8/site-packages/pandas/core/tools/datetimes.py\u001b[0m in \u001b[0;36mto_datetime\u001b[0;34m(arg, errors, dayfirst, yearfirst, utc, format, exact, unit, infer_datetime_format, origin, cache)\u001b[0m\n\u001b[1;32m    830\u001b[0m             \u001b[0mresult\u001b[0m \u001b[0;34m=\u001b[0m \u001b[0mconvert_listlike\u001b[0m\u001b[0;34m(\u001b[0m\u001b[0marg\u001b[0m\u001b[0;34m,\u001b[0m \u001b[0mformat\u001b[0m\u001b[0;34m)\u001b[0m\u001b[0;34m\u001b[0m\u001b[0;34m\u001b[0m\u001b[0m\n\u001b[1;32m    831\u001b[0m     \u001b[0;32melse\u001b[0m\u001b[0;34m:\u001b[0m\u001b[0;34m\u001b[0m\u001b[0;34m\u001b[0m\u001b[0m\n\u001b[0;32m--> 832\u001b[0;31m         \u001b[0mresult\u001b[0m \u001b[0;34m=\u001b[0m \u001b[0mconvert_listlike\u001b[0m\u001b[0;34m(\u001b[0m\u001b[0mnp\u001b[0m\u001b[0;34m.\u001b[0m\u001b[0marray\u001b[0m\u001b[0;34m(\u001b[0m\u001b[0;34m[\u001b[0m\u001b[0marg\u001b[0m\u001b[0;34m]\u001b[0m\u001b[0;34m)\u001b[0m\u001b[0;34m,\u001b[0m \u001b[0mformat\u001b[0m\u001b[0;34m)\u001b[0m\u001b[0;34m[\u001b[0m\u001b[0;36m0\u001b[0m\u001b[0;34m]\u001b[0m\u001b[0;34m\u001b[0m\u001b[0;34m\u001b[0m\u001b[0m\n\u001b[0m\u001b[1;32m    833\u001b[0m \u001b[0;34m\u001b[0m\u001b[0m\n\u001b[1;32m    834\u001b[0m     \u001b[0;32mreturn\u001b[0m \u001b[0mresult\u001b[0m\u001b[0;34m\u001b[0m\u001b[0;34m\u001b[0m\u001b[0m\n",
      "\u001b[0;32m~/miniconda3/envs/kgtkEnv/lib/python3.8/site-packages/pandas/core/tools/datetimes.py\u001b[0m in \u001b[0;36m_convert_listlike_datetimes\u001b[0;34m(arg, format, name, tz, unit, errors, infer_datetime_format, dayfirst, yearfirst, exact)\u001b[0m\n\u001b[1;32m    463\u001b[0m         \u001b[0;32massert\u001b[0m \u001b[0mformat\u001b[0m \u001b[0;32mis\u001b[0m \u001b[0;32mNone\u001b[0m \u001b[0;32mor\u001b[0m \u001b[0minfer_datetime_format\u001b[0m\u001b[0;34m\u001b[0m\u001b[0;34m\u001b[0m\u001b[0m\n\u001b[1;32m    464\u001b[0m         \u001b[0mutc\u001b[0m \u001b[0;34m=\u001b[0m \u001b[0mtz\u001b[0m \u001b[0;34m==\u001b[0m \u001b[0;34m\"utc\"\u001b[0m\u001b[0;34m\u001b[0m\u001b[0;34m\u001b[0m\u001b[0m\n\u001b[0;32m--> 465\u001b[0;31m         result, tz_parsed = objects_to_datetime64ns(\n\u001b[0m\u001b[1;32m    466\u001b[0m             \u001b[0marg\u001b[0m\u001b[0;34m,\u001b[0m\u001b[0;34m\u001b[0m\u001b[0;34m\u001b[0m\u001b[0m\n\u001b[1;32m    467\u001b[0m             \u001b[0mdayfirst\u001b[0m\u001b[0;34m=\u001b[0m\u001b[0mdayfirst\u001b[0m\u001b[0;34m,\u001b[0m\u001b[0;34m\u001b[0m\u001b[0;34m\u001b[0m\u001b[0m\n",
      "\u001b[0;32m~/miniconda3/envs/kgtkEnv/lib/python3.8/site-packages/pandas/core/arrays/datetimes.py\u001b[0m in \u001b[0;36mobjects_to_datetime64ns\u001b[0;34m(data, dayfirst, yearfirst, utc, errors, require_iso8601, allow_object)\u001b[0m\n\u001b[1;32m   2088\u001b[0m             \u001b[0;32mreturn\u001b[0m \u001b[0mvalues\u001b[0m\u001b[0;34m.\u001b[0m\u001b[0mview\u001b[0m\u001b[0;34m(\u001b[0m\u001b[0;34m\"i8\"\u001b[0m\u001b[0;34m)\u001b[0m\u001b[0;34m,\u001b[0m \u001b[0mtz_parsed\u001b[0m\u001b[0;34m\u001b[0m\u001b[0;34m\u001b[0m\u001b[0m\n\u001b[1;32m   2089\u001b[0m         \u001b[0;32mexcept\u001b[0m \u001b[0;34m(\u001b[0m\u001b[0mValueError\u001b[0m\u001b[0;34m,\u001b[0m \u001b[0mTypeError\u001b[0m\u001b[0;34m)\u001b[0m\u001b[0;34m:\u001b[0m\u001b[0;34m\u001b[0m\u001b[0;34m\u001b[0m\u001b[0m\n\u001b[0;32m-> 2090\u001b[0;31m             \u001b[0;32mraise\u001b[0m \u001b[0me\u001b[0m\u001b[0;34m\u001b[0m\u001b[0;34m\u001b[0m\u001b[0m\n\u001b[0m\u001b[1;32m   2091\u001b[0m \u001b[0;34m\u001b[0m\u001b[0m\n\u001b[1;32m   2092\u001b[0m     \u001b[0;32mif\u001b[0m \u001b[0mtz_parsed\u001b[0m \u001b[0;32mis\u001b[0m \u001b[0;32mnot\u001b[0m \u001b[0;32mNone\u001b[0m\u001b[0;34m:\u001b[0m\u001b[0;34m\u001b[0m\u001b[0;34m\u001b[0m\u001b[0m\n",
      "\u001b[0;32m~/miniconda3/envs/kgtkEnv/lib/python3.8/site-packages/pandas/core/arrays/datetimes.py\u001b[0m in \u001b[0;36mobjects_to_datetime64ns\u001b[0;34m(data, dayfirst, yearfirst, utc, errors, require_iso8601, allow_object)\u001b[0m\n\u001b[1;32m   2073\u001b[0m \u001b[0;34m\u001b[0m\u001b[0m\n\u001b[1;32m   2074\u001b[0m     \u001b[0;32mtry\u001b[0m\u001b[0;34m:\u001b[0m\u001b[0;34m\u001b[0m\u001b[0;34m\u001b[0m\u001b[0m\n\u001b[0;32m-> 2075\u001b[0;31m         result, tz_parsed = tslib.array_to_datetime(\n\u001b[0m\u001b[1;32m   2076\u001b[0m             \u001b[0mdata\u001b[0m\u001b[0;34m,\u001b[0m\u001b[0;34m\u001b[0m\u001b[0;34m\u001b[0m\u001b[0m\n\u001b[1;32m   2077\u001b[0m             \u001b[0merrors\u001b[0m\u001b[0;34m=\u001b[0m\u001b[0merrors\u001b[0m\u001b[0;34m,\u001b[0m\u001b[0;34m\u001b[0m\u001b[0;34m\u001b[0m\u001b[0m\n",
      "\u001b[0;32mpandas/_libs/tslib.pyx\u001b[0m in \u001b[0;36mpandas._libs.tslib.array_to_datetime\u001b[0;34m()\u001b[0m\n",
      "\u001b[0;32mpandas/_libs/tslib.pyx\u001b[0m in \u001b[0;36mpandas._libs.tslib.array_to_datetime\u001b[0;34m()\u001b[0m\n",
      "\u001b[0;32mpandas/_libs/tslib.pyx\u001b[0m in \u001b[0;36mpandas._libs.tslib.array_to_datetime_object\u001b[0;34m()\u001b[0m\n",
      "\u001b[0;32mpandas/_libs/tslib.pyx\u001b[0m in \u001b[0;36mpandas._libs.tslib.array_to_datetime_object\u001b[0;34m()\u001b[0m\n",
      "\u001b[0;32mpandas/_libs/tslibs/parsing.pyx\u001b[0m in \u001b[0;36mpandas._libs.tslibs.parsing.parse_datetime_string\u001b[0;34m()\u001b[0m\n",
      "\u001b[0;32m~/miniconda3/envs/kgtkEnv/lib/python3.8/site-packages/dateutil/parser/_parser.py\u001b[0m in \u001b[0;36mparse\u001b[0;34m(timestr, parserinfo, **kwargs)\u001b[0m\n\u001b[1;32m   1372\u001b[0m         \u001b[0;32mreturn\u001b[0m \u001b[0mparser\u001b[0m\u001b[0;34m(\u001b[0m\u001b[0mparserinfo\u001b[0m\u001b[0;34m)\u001b[0m\u001b[0;34m.\u001b[0m\u001b[0mparse\u001b[0m\u001b[0;34m(\u001b[0m\u001b[0mtimestr\u001b[0m\u001b[0;34m,\u001b[0m \u001b[0;34m**\u001b[0m\u001b[0mkwargs\u001b[0m\u001b[0;34m)\u001b[0m\u001b[0;34m\u001b[0m\u001b[0;34m\u001b[0m\u001b[0m\n\u001b[1;32m   1373\u001b[0m     \u001b[0;32melse\u001b[0m\u001b[0;34m:\u001b[0m\u001b[0;34m\u001b[0m\u001b[0;34m\u001b[0m\u001b[0m\n\u001b[0;32m-> 1374\u001b[0;31m         \u001b[0;32mreturn\u001b[0m \u001b[0mDEFAULTPARSER\u001b[0m\u001b[0;34m.\u001b[0m\u001b[0mparse\u001b[0m\u001b[0;34m(\u001b[0m\u001b[0mtimestr\u001b[0m\u001b[0;34m,\u001b[0m \u001b[0;34m**\u001b[0m\u001b[0mkwargs\u001b[0m\u001b[0;34m)\u001b[0m\u001b[0;34m\u001b[0m\u001b[0;34m\u001b[0m\u001b[0m\n\u001b[0m\u001b[1;32m   1375\u001b[0m \u001b[0;34m\u001b[0m\u001b[0m\n\u001b[1;32m   1376\u001b[0m \u001b[0;34m\u001b[0m\u001b[0m\n",
      "\u001b[0;32m~/miniconda3/envs/kgtkEnv/lib/python3.8/site-packages/dateutil/parser/_parser.py\u001b[0m in \u001b[0;36mparse\u001b[0;34m(self, timestr, default, ignoretz, tzinfos, **kwargs)\u001b[0m\n\u001b[1;32m    647\u001b[0m \u001b[0;34m\u001b[0m\u001b[0m\n\u001b[1;32m    648\u001b[0m         \u001b[0;32mif\u001b[0m \u001b[0mres\u001b[0m \u001b[0;32mis\u001b[0m \u001b[0;32mNone\u001b[0m\u001b[0;34m:\u001b[0m\u001b[0;34m\u001b[0m\u001b[0;34m\u001b[0m\u001b[0m\n\u001b[0;32m--> 649\u001b[0;31m             \u001b[0;32mraise\u001b[0m \u001b[0mParserError\u001b[0m\u001b[0;34m(\u001b[0m\u001b[0;34m\"Unknown string format: %s\"\u001b[0m\u001b[0;34m,\u001b[0m \u001b[0mtimestr\u001b[0m\u001b[0;34m)\u001b[0m\u001b[0;34m\u001b[0m\u001b[0;34m\u001b[0m\u001b[0m\n\u001b[0m\u001b[1;32m    650\u001b[0m \u001b[0;34m\u001b[0m\u001b[0m\n\u001b[1;32m    651\u001b[0m         \u001b[0;32mif\u001b[0m \u001b[0mlen\u001b[0m\u001b[0;34m(\u001b[0m\u001b[0mres\u001b[0m\u001b[0;34m)\u001b[0m \u001b[0;34m==\u001b[0m \u001b[0;36m0\u001b[0m\u001b[0;34m:\u001b[0m\u001b[0;34m\u001b[0m\u001b[0;34m\u001b[0m\u001b[0m\n",
      "\u001b[0;31mParserError\u001b[0m: Unknown string format: ^00000001887-00-00T00:00:00Z/9"
     ]
    }
   ],
   "source": [
    "date_df1['node2'].apply(\n",
    "        lambda x: pd.to_datetime(x)\n",
    ")"
   ]
  },
  {
   "cell_type": "code",
   "execution_count": 18,
   "id": "dutch-projection",
   "metadata": {},
   "outputs": [
    {
     "name": "stdout",
     "output_type": "stream",
     "text": [
      "node1\tlabel\tnode2\tnewNode2Label\tnewNode2\tSameBool\tSameDate\r\n",
      "Q1004723\tP569\t^00000001887-00-00T00:00:00Z/9\tP569\t^1887-01-01T00:00:00Z/9\tFalse\tFalse\tFalse\t11\tFalse\tFalse\r\n",
      "Q102084\tP569\t^00000001093-00-00T00:00:00Z/9\tP569\t^1093-01-01T00:00:00Z/9\tFalse\tFalse\tFalse\t11\tFalse\tFalse\r\n",
      "Q10272460\tP570\t^00000001917-00-00T00:00:00Z/9\tP570\t^1919-03-06T00:00:00Z/11\tFalse\tFalse\tFalse\t12\tFalse\tFalse\r\n",
      "Q10289892\tP569\t^00000001953-00-00T00:00:00Z/9\tP569\t^1953-01-01T00:00:00Z/9\tFalse\tFalse\tFalse\t11\tFalse\tFalse\r\n",
      "Q1029352\tP569\t^00000001893-00-00T00:00:00Z/9\tP569\t^1893-01-20T00:00:00Z/11\tFalse\tFalse\tFalse\t11\tFalse\tFalse\r\n",
      "Q1029352\tP570\t^00000001981-00-00T00:00:00Z/9\tP570\t^1981-07-07T00:00:00Z/11\tFalse\tFalse\tFalse\t11\tFalse\tFalse\r\n",
      "Q10294911\tP569\t^00000001796-00-00T00:00:00Z/9\tP569\t^1796-10-02T00:00:00Z/11\tFalse\tFalse\tFalse\t11\tFalse\tFalse\r\n",
      "Q10294911\tP569\t^00000001796-00-00T00:00:00Z/9\tP569\t^1796-01-01T00:00:00Z/9\tFalse\tFalse\tFalse\t11\tFalse\tFalse\r\n",
      "Q10294911\tP570\t^00000001844-00-00T00:00:00Z/9\tP570\t^1844-01-01T00:00:00Z/9\tFalse\tFalse\tFalse\t11\tFalse\tFalse\r\n"
     ]
    }
   ],
   "source": [
    "!head ../../opAnalysis/removed_statements_both_nonredirects_new_vals_date_measured.tsv"
   ]
  },
  {
   "cell_type": "code",
   "execution_count": null,
   "id": "prepared-magnet",
   "metadata": {},
   "outputs": [],
   "source": []
  },
  {
   "cell_type": "markdown",
   "id": "relative-tomorrow",
   "metadata": {},
   "source": [
    "### Numeric Values Comparison"
   ]
  },
  {
   "cell_type": "code",
   "execution_count": null,
   "id": "continued-landscape",
   "metadata": {},
   "outputs": [],
   "source": [
    "from dateutil.parser import parse\n",
    "import re\n",
    "import rltk\n",
    "from rltk.similarity import levenshtein_distance as ld\n",
    "from nltk.tokenize import word_tokenize as wt\n",
    "from tqdm.notebook import tqdm\n",
    "\n",
    "def is_num(string):\n",
    "    try: \n",
    "        float(string)\n",
    "        return True\n",
    "\n",
    "    except ValueError:\n",
    "        return False\n",
    "    \n",
    "f1 = open(\"../../opAnalysis/removed_statements_both_nonredirects_num_new_vals.tsv\",\"r\").read().split(\"\\n\")\n",
    "fNum = open(\"../../opAnalysis/removed_statements_both_nonredirects_num_new_vals_measured.tsv\",\"w\")\n",
    "\n",
    "firstLine = f1[0]\n",
    "\n",
    "fNum.write(firstLine+\"\\tDiff\\tLevDist\\n\")\n",
    "# fnonQnd.write(f1[0]+\"\\n\")\n",
    "\n",
    "for i in tqdm(range(1,len(f1))):\n",
    "    line = f1[i]\n",
    "    val1 = line.split(\"\\t\")[2]\n",
    "    val2 = line.split(\"\\t\")[4]\n",
    "    if is_num(val2):\n",
    "        diff = float(val2) - float(val1)\n",
    "        fNum.write(line+ \"\\t\" + str(diff) + \"\\tNone\\n\")\n",
    "    else:\n",
    "        LevDist = ld(val1,val2)\n",
    "        fNum.write(line+ \"\\tNone\\t\" + str(LevDist) + \"\\n\")\n",
    "\n",
    "fNum.close()"
   ]
  },
  {
   "cell_type": "code",
   "execution_count": 5,
   "id": "impaired-venue",
   "metadata": {},
   "outputs": [
    {
     "name": "stderr",
     "output_type": "stream",
     "text": [
      "/nas/home/kshenoy/miniconda3/envs/kgtkEnv/lib/python3.8/site-packages/IPython/core/interactiveshell.py:3155: DtypeWarning: Columns (4,5) have mixed types.Specify dtype option on import or set low_memory=False.\n",
      "  has_raised = await self.run_ast_nodes(code_ast.body, cell_name,\n"
     ]
    }
   ],
   "source": [
    "num_df = pd.read_csv(\"../../opAnalysis/removed_statements_both_nonredirects_num_new_vals_measured.tsv\",sep='\\t')"
   ]
  },
  {
   "cell_type": "code",
   "execution_count": 7,
   "id": "structured-interaction",
   "metadata": {},
   "outputs": [
    {
     "data": {
      "text/html": [
       "<div>\n",
       "<style scoped>\n",
       "    .dataframe tbody tr th:only-of-type {\n",
       "        vertical-align: middle;\n",
       "    }\n",
       "\n",
       "    .dataframe tbody tr th {\n",
       "        vertical-align: top;\n",
       "    }\n",
       "\n",
       "    .dataframe thead th {\n",
       "        text-align: right;\n",
       "    }\n",
       "</style>\n",
       "<table border=\"1\" class=\"dataframe\">\n",
       "  <thead>\n",
       "    <tr style=\"text-align: right;\">\n",
       "      <th></th>\n",
       "      <th>node1</th>\n",
       "      <th>label</th>\n",
       "      <th>node2</th>\n",
       "      <th>newNode2Label</th>\n",
       "      <th>newNode2</th>\n",
       "      <th>Diff</th>\n",
       "      <th>LevDist</th>\n",
       "    </tr>\n",
       "  </thead>\n",
       "  <tbody>\n",
       "    <tr>\n",
       "      <th>0</th>\n",
       "      <td>Q1067235</td>\n",
       "      <td>P1083</td>\n",
       "      <td>25000.0</td>\n",
       "      <td>P1083</td>\n",
       "      <td>+21000</td>\n",
       "      <td>-4000.0</td>\n",
       "      <td>None</td>\n",
       "    </tr>\n",
       "    <tr>\n",
       "      <th>1</th>\n",
       "      <td>Q1067235</td>\n",
       "      <td>P1083</td>\n",
       "      <td>25000.0</td>\n",
       "      <td>P1083</td>\n",
       "      <td>+41000</td>\n",
       "      <td>16000.0</td>\n",
       "      <td>None</td>\n",
       "    </tr>\n",
       "    <tr>\n",
       "      <th>2</th>\n",
       "      <td>Q13501891</td>\n",
       "      <td>P1352</td>\n",
       "      <td>450.0</td>\n",
       "      <td>P1352</td>\n",
       "      <td>+437</td>\n",
       "      <td>-13.0</td>\n",
       "      <td>None</td>\n",
       "    </tr>\n",
       "    <tr>\n",
       "      <th>3</th>\n",
       "      <td>Q13501891</td>\n",
       "      <td>P1352</td>\n",
       "      <td>450.0</td>\n",
       "      <td>P1352</td>\n",
       "      <td>+534</td>\n",
       "      <td>84.0</td>\n",
       "      <td>None</td>\n",
       "    </tr>\n",
       "    <tr>\n",
       "      <th>4</th>\n",
       "      <td>Q13501891</td>\n",
       "      <td>P1352</td>\n",
       "      <td>450.0</td>\n",
       "      <td>P1352</td>\n",
       "      <td>+8</td>\n",
       "      <td>-442.0</td>\n",
       "      <td>None</td>\n",
       "    </tr>\n",
       "  </tbody>\n",
       "</table>\n",
       "</div>"
      ],
      "text/plain": [
       "       node1  label    node2 newNode2Label newNode2     Diff LevDist\n",
       "0   Q1067235  P1083  25000.0         P1083   +21000  -4000.0    None\n",
       "1   Q1067235  P1083  25000.0         P1083   +41000  16000.0    None\n",
       "2  Q13501891  P1352    450.0         P1352     +437    -13.0    None\n",
       "3  Q13501891  P1352    450.0         P1352     +534     84.0    None\n",
       "4  Q13501891  P1352    450.0         P1352       +8   -442.0    None"
      ]
     },
     "execution_count": 7,
     "metadata": {},
     "output_type": "execute_result"
    }
   ],
   "source": [
    "num_df.head()"
   ]
  },
  {
   "cell_type": "code",
   "execution_count": null,
   "id": "short-incidence",
   "metadata": {},
   "outputs": [],
   "source": []
  },
  {
   "cell_type": "code",
   "execution_count": 2,
   "id": "assured-recipient",
   "metadata": {},
   "outputs": [
    {
     "name": "stdout",
     "output_type": "stream",
     "text": [
      "^C\r\n"
     ]
    }
   ],
   "source": [
    "# !kgtk query -i ../../opAnalysis/removed_statements_both_nonredirects.tsv \\\n",
    "#     ../gdrive-kgtk-dump-2020-12-07/claims.tsv.gz \\\n",
    "#     --match \"r: (x)-[r]->(y), c: (x)-[s]->(z)\" \\\n",
    "#     --where \"r.label = s.label\" \\\n",
    "#     --return 'x, r.label, y, s.label as node2;newLabl, z as node2;nw' \\\n",
    "#     -o ../../opAnalysis/removed_statements_both_nonredirects_new_vals.tsv"
   ]
  },
  {
   "cell_type": "markdown",
   "id": "muslim-dryer",
   "metadata": {},
   "source": [
    "### Qnodes comparison"
   ]
  },
  {
   "cell_type": "code",
   "execution_count": null,
   "id": "described-america",
   "metadata": {},
   "outputs": [],
   "source": [
    "!kgtk ifexists -i ../../opAnalysis/removed_statements_both_nonredirects_node2_qnode.tsv \\\n",
    "    --filter-on ../../wikidata-20210215/derived.P31.tsv.gz \\\n",
    "    --filter-mode NONE \\\n",
    "    --input-keys node1 \\\n",
    "    --filter-keys node1 \\\n",
    "    -o ../../opAnalysis/removed_statements_both_nonredirects_node_qnode1.P31.tsv"
   ]
  },
  {
   "cell_type": "code",
   "execution_count": null,
   "id": "universal-surprise",
   "metadata": {},
   "outputs": [],
   "source": [
    "!kgtk ifexists -i ../../opAnalysis/removed_statements_both_nonredirects_node2_qnode.tsv \\\n",
    "    --filter-on ../../wikidata-20210215/derived.P279.tsv.gz \\\n",
    "    --filter-mode NONE \\\n",
    "    --input-keys node1 \\\n",
    "    --filter-keys node1 \\\n",
    "    -o ../../opAnalysis/removed_statements_both_nonredirects_node_qnode1.P279.tsv"
   ]
  },
  {
   "cell_type": "code",
   "execution_count": 60,
   "id": "elder-tissue",
   "metadata": {},
   "outputs": [],
   "source": [
    "!kgtk ifexists -i ../../opAnalysis/removed_statements_both_nonredirects_node_qnode1.P279.tsv \\\n",
    "    --filter-on ../../wikidata-20210215/derived.P31.tsv.gz \\\n",
    "    --filter-mode NONE \\\n",
    "    --input-keys node1 \\\n",
    "    --filter-keys node1 \\\n",
    "    -o ../../opAnalysis/removed_statements_both_nonredirects_node_qnode1.P31andP279.tsv"
   ]
  },
  {
   "cell_type": "code",
   "execution_count": null,
   "id": "killing-emphasis",
   "metadata": {},
   "outputs": [],
   "source": [
    "!kgtk ifexists -i ../../opAnalysis/removed_statements_both_nonredirects_node2_qnode.tsv \\\n",
    "    --filter-on ../../wikidata-20210215/derived.P31.tsv.gz \\\n",
    "    --filter-mode NONE \\\n",
    "    --input-keys node2 \\\n",
    "    --filter-keys node1 \\\n",
    "    -o ../../opAnalysis/removed_statements_both_nonredirects_node_qnode2.P31.tsv"
   ]
  },
  {
   "cell_type": "code",
   "execution_count": null,
   "id": "answering-sheriff",
   "metadata": {},
   "outputs": [],
   "source": [
    "!kgtk ifexists -i ../../opAnalysis/removed_statements_both_nonredirects_node2_qnode.tsv \\\n",
    "    --filter-on ../../wikidata-20210215/derived.P279.tsv.gz \\\n",
    "    --filter-mode NONE \\\n",
    "    --input-keys node2 \\\n",
    "    --filter-keys node1 \\\n",
    "    -o ../../opAnalysis/removed_statements_both_nonredirects_node_qnode2.P279.tsv"
   ]
  },
  {
   "cell_type": "code",
   "execution_count": 61,
   "id": "intimate-sullivan",
   "metadata": {},
   "outputs": [],
   "source": [
    "!kgtk ifexists -i ../../opAnalysis/removed_statements_both_nonredirects_node_qnode2.P279.tsv \\\n",
    "    --filter-on ../../wikidata-20210215/derived.P31.tsv.gz \\\n",
    "    --filter-mode NONE \\\n",
    "    --input-keys node2 \\\n",
    "    --filter-keys node1 \\\n",
    "    -o ../../opAnalysis/removed_statements_both_nonredirects_node_qnode2.P31andP279.tsv"
   ]
  },
  {
   "cell_type": "code",
   "execution_count": 57,
   "id": "surprising-clone",
   "metadata": {},
   "outputs": [
    {
     "name": "stdout",
     "output_type": "stream",
     "text": [
      "15682364 ../../opAnalysis/removed_statements_both_nonredirects_node2_qnode.tsv\r\n"
     ]
    }
   ],
   "source": [
    "!wc -l ../../opAnalysis/removed_statements_both_nonredirects_node2_qnode.tsv"
   ]
  },
  {
   "cell_type": "code",
   "execution_count": 62,
   "id": "innovative-thread",
   "metadata": {},
   "outputs": [
    {
     "name": "stdout",
     "output_type": "stream",
     "text": [
      "   3500869 ../../opAnalysis/removed_statements_both_nonredirects_node_qnode1.P279.tsv\n",
      "   3396316 ../../opAnalysis/removed_statements_both_nonredirects_node_qnode1.P31andP279.tsv\n",
      "  14206459 ../../opAnalysis/removed_statements_both_nonredirects_node_qnode1.P31.tsv\n",
      "  21103644 total\n"
     ]
    }
   ],
   "source": [
    "!wc -l ../../opAnalysis/removed_statements_both_nonredirects_node_qnode1*"
   ]
  },
  {
   "cell_type": "code",
   "execution_count": 63,
   "id": "accompanied-lighting",
   "metadata": {},
   "outputs": [
    {
     "name": "stdout",
     "output_type": "stream",
     "text": [
      "  10064419 ../../opAnalysis/removed_statements_both_nonredirects_node_qnode2.P279.tsv\n",
      "   6622159 ../../opAnalysis/removed_statements_both_nonredirects_node_qnode2.P31andP279.tsv\n",
      "  12057758 ../../opAnalysis/removed_statements_both_nonredirects_node_qnode2.P31.tsv\n",
      "  28744336 total\n"
     ]
    }
   ],
   "source": [
    "!wc -l ../../opAnalysis/removed_statements_both_nonredirects_node_qnode2*"
   ]
  },
  {
   "cell_type": "code",
   "execution_count": null,
   "id": "discrete-hudson",
   "metadata": {},
   "outputs": [],
   "source": []
  }
 ],
 "metadata": {
  "kernelspec": {
   "display_name": "kgtkEnv",
   "language": "python",
   "name": "kgtkenv"
  },
  "language_info": {
   "codemirror_mode": {
    "name": "ipython",
    "version": 3
   },
   "file_extension": ".py",
   "mimetype": "text/x-python",
   "name": "python",
   "nbconvert_exporter": "python",
   "pygments_lexer": "ipython3",
   "version": "3.8.5"
  }
 },
 "nbformat": 4,
 "nbformat_minor": 5
}
