{
 "cells": [
  {
   "cell_type": "code",
   "execution_count": null,
   "id": "juvenile-ability",
   "metadata": {},
   "outputs": [],
   "source": [
    "import gzip\n",
    "from tqdm.notebook import tqdm\n",
    "propFileDict = {}\n",
    "fileLineCount = 1149471184\n",
    "with gzip.open('../../gdrive-kgtk-dump-2020-12-07/claims.tsv.gz','r') as fin: \n",
    "    headerLine = next(fin).decode(\"utf-8\")\n",
    "#     tstCount = 0\n",
    "    for line in tqdm(fin, total = fileLineCount):\n",
    "        line = line.decode(\"utf-8\")\n",
    "        lineP = line.rstrip().split(\"\\t\")\n",
    "        if \"external-id\" in lineP[-1]:\n",
    "            continue\n",
    "        prop = lineP[2]\n",
    "        print('got line', lineP)\n",
    "        if prop not in propFileDict:\n",
    "            propFileDict[prop] = open(\"../../propertiesSplit/claims.\"+str(prop)+\".tsv\",\"w\")\n",
    "            propFileDict[prop].write(headerLine)\n",
    "        propFileDict[prop].write(line)\n",
    "#         tstCount += 1\n",
    "#         if tstCount == 10:\n",
    "#             break\n",
    "    for file1 in propFileDict.values():\n",
    "        file1.close()"
   ]
  },
  {
   "cell_type": "code",
   "execution_count": 2,
   "id": "knowing-bryan",
   "metadata": {},
   "outputs": [
    {
     "name": "stdout",
     "output_type": "stream",
     "text": [
      "[2021-03-12 19:33:50 sqlstore]: IMPORT graph directly into table graph_11 from /data/wd-correctness/propertiesSplit/claims.P996.tsv ...\n",
      "[2021-03-12 19:33:51 sqlstore]: IMPORT graph directly into table graph_12 from /data/wd-correctness/wikidata-20210215/derived.isastar.tsv.gz ...\n",
      "^C\n"
     ]
    }
   ],
   "source": [
    "!kgtk --debug query -i ../../propertiesSplit/claims.P996.tsv \\\n",
    "    ../../constraintsOP/typeConstraint/claims.type-constraints_all.tsv \\\n",
    "    ../../wikidata-20210215/derived.isastar.tsv.gz \\\n",
    "    --match \"m: (node1)-[nodeProp]->(node2), c: (rLabel)-[:P2308]->(parent), d: (node1)-[]->(par), c: (eLabel)-[:P2303]->(eNode)\" \\\n",
    "    --where 'nodeProp.label = rLabel and (par = parent or (rLabel = eLabel and node1 = eNode))' \\\n",
    "    --return 'nodeProp.id, node1, nodeProp.label, node2, max(parent) as `node1;ancestor`' \\\n",
    "    -o ../../constraintsOP/typeConstraint/claims.type-constraints.mandatory.instanceOf.P996.correct.tsv \\\n",
    "    --graph-cache ~/sqlite3_caches/mandConst001.sqlite3.db ; \\\n",
    " kgtk --debug ifnotexists -i ../../constraintsOP/typeConstraint/claims.type-constraints.mandatory.instanceOf.P996.all.tsv \\\n",
    "    --filter-on ../../constraintsOP/typeConstraint/claims.type-constraints.mandatory.instanceOf.P996.correct.tsv \\\n",
    "    --filter-mode NONE \\\n",
    "    --input-keys node1 label \\\n",
    "    --filter-keys node1 label \\\n",
    "    -o ../../constraintsOP/typeConstraint/claims.type-constraints.mandatory.instanceOf.P996.incorrect.tsv"
   ]
  },
  {
   "cell_type": "code",
   "execution_count": 4,
   "id": "abstract-retreat",
   "metadata": {},
   "outputs": [
    {
     "name": "stdout",
     "output_type": "stream",
     "text": [
      "[2021-03-12 22:33:26 query]: SQL Translation:\r\n",
      "---------------------------------------------\r\n",
      "  SELECT graph_11_c1.\"id\", graph_11_c1.\"node1\", graph_11_c1.\"label\", graph_11_c1.\"node2\"\r\n",
      "     FROM graph_11 AS graph_11_c1, graph_14 AS graph_14_c2\r\n",
      "     WHERE graph_11_c1.\"node1\"=graph_14_c2.\"node1\"\r\n",
      "     AND (graph_14_c2.\"node2\" IN (?, ?, ?))\r\n",
      "  PARAS: ['Q1238720', 'Q3331189', 'Q47461344']\r\n",
      "---------------------------------------------\r\n"
     ]
    }
   ],
   "source": [
    "!kgtk --debug query -i ../../propertiesSplit/claims.P996.tsv \\\n",
    "    ../../wikidata-20210215/derived.isastar.tsv.gz \\\n",
    "    --match \"m: (node1)-[nodeProp]->(node2), d: (node1)-[]->(par)\" \\\n",
    "    --where 'par in [\"Q1238720\",\"Q3331189\",\"Q47461344\"]' \\\n",
    "    --return 'nodeProp.id, node1, nodeProp.label, node2' \\\n",
    "    -o ../../constraintsOP/typeConstraint/claims.type-constraints.mandatory.instanceOf.P996.correct.tsv \\\n",
    "    --graph-cache ~/sqlite3_caches/mandConst001.sqlite3.db ; \\\n",
    " kgtk --debug ifnotexists -i ../../propertiesSplit/claims.P996.tsv \\\n",
    "    --filter-on ../../constraintsOP/typeConstraint/claims.type-constraints.mandatory.instanceOf.P996.correct.tsv \\\n",
    "    --filter-mode NONE \\\n",
    "    --input-keys node1 label \\\n",
    "    --filter-keys node1 label \\\n",
    "    -o ../../constraintsOP/typeConstraint/claims.type-constraints.mandatory.instanceOf.P996.incorrect.tsv"
   ]
  },
  {
   "cell_type": "code",
   "execution_count": 7,
   "id": "strange-truck",
   "metadata": {},
   "outputs": [
    {
     "name": "stdout",
     "output_type": "stream",
     "text": [
      "81289 ../../constraintsOP/typeConstraint/claims.type-constraints.mandatory.instanceOf.P996.correct.tsv\r\n"
     ]
    }
   ],
   "source": [
    "!wc -l ../../constraintsOP/typeConstraint/claims.type-constraints.mandatory.instanceOf.P996.correct.tsv"
   ]
  },
  {
   "cell_type": "code",
   "execution_count": 8,
   "id": "finnish-hampton",
   "metadata": {},
   "outputs": [
    {
     "name": "stdout",
     "output_type": "stream",
     "text": [
      "[2021-03-12 22:49:54 sqlstore]: IMPORT graph directly into table graph_15 from /data/wd-correctness/propertiesSplit/claims.P991.tsv ...\n",
      "[2021-03-12 22:49:54 query]: SQL Translation:\n",
      "---------------------------------------------\n",
      "  SELECT graph_15_c1.\"id\", graph_15_c1.\"node1\", graph_15_c1.\"label\", graph_15_c1.\"node2\"\n",
      "     FROM graph_15 AS graph_15_c1, graph_5 AS graph_5_c2\n",
      "     WHERE graph_15_c1.\"node1\"=graph_5_c2.\"node1\"\n",
      "     AND (graph_5_c2.\"node2\" IN (?))\n",
      "  PARAS: ['Q40231']\n",
      "---------------------------------------------\n",
      "[2021-03-12 22:49:55 sqlstore]: CREATE INDEX on table graph_15 column node1 ...\n",
      "[2021-03-12 22:49:55 sqlstore]: ANALYZE INDEX on table graph_15 column node1 ...\n"
     ]
    }
   ],
   "source": [
    "!kgtk --debug query -i ../../propertiesSplit/claims.P991.tsv \\\n",
    "    ../../wikidata-20210215/derived.P31P279star.tsv.gz \\\n",
    "    --match \"m: (node1)-[nodeProp]->(node2), d: (node1)-[]->(par)\" \\\n",
    "    --where 'par in [\"Q40231\"]' \\\n",
    "    --return 'nodeProp.id, node1, nodeProp.label, node2' \\\n",
    "    -o ../../constraintsOP/typeConstraint/claims.type-constraints.mandatory.instanceOf.P991.correct.tsv \\\n",
    "    --graph-cache ~/sqlite3_caches/mandConst001.sqlite3.db ; \\\n",
    " kgtk --debug ifnotexists -i ../../propertiesSplit/claims.P991.tsv \\\n",
    "    --filter-on ../../constraintsOP/typeConstraint/claims.type-constraints.mandatory.instanceOf.P991.correct.tsv \\\n",
    "    --filter-mode NONE \\\n",
    "    --input-keys node1 label \\\n",
    "    --filter-keys node1 label \\\n",
    "    -o ../../constraintsOP/typeConstraint/claims.type-constraints.mandatory.instanceOf.P991.incorrect.tsv"
   ]
  },
  {
   "cell_type": "code",
   "execution_count": 9,
   "id": "elegant-reverse",
   "metadata": {},
   "outputs": [
    {
     "name": "stdout",
     "output_type": "stream",
     "text": [
      "[2021-03-12 23:54:56 sqlstore]: IMPORT graph directly into table graph_16 from /data/wd-correctness/propertiesSplit/claims.P965.tsv ...\n",
      "[2021-03-12 23:54:56 query]: SQL Translation:\n",
      "---------------------------------------------\n",
      "  SELECT graph_16_c1.\"id\", graph_5_c2.\"node1\", graph_16_c1.\"label\", graph_16_c1.\"node2\"\n",
      "     FROM graph_16 AS graph_16_c1, graph_5 AS graph_5_c2\n",
      "     WHERE graph_16_c1.\"node1\"=graph_5_c2.\"node1\"\n",
      "     AND (graph_5_c2.\"node2\" IN (?))\n",
      "  PARAS: ['Q6023295']\n",
      "---------------------------------------------\n",
      "[2021-03-12 23:54:56 sqlstore]: CREATE INDEX on table graph_16 column node1 ...\n",
      "[2021-03-12 23:54:56 sqlstore]: ANALYZE INDEX on table graph_16 column node1 ...\n"
     ]
    }
   ],
   "source": [
    "!kgtk --debug query -i ../../propertiesSplit/claims.P965.tsv \\\n",
    "    ../../wikidata-20210215/derived.P31P279star.tsv.gz \\\n",
    "    --match \"m: (node1)-[nodeProp]->(node2), d: (node1)-[]->(par)\" \\\n",
    "    --where 'par in [\"Q6023295\"]' \\\n",
    "    --return 'nodeProp.id, node1, nodeProp.label, node2' \\\n",
    "    -o ../../constraintsOP/typeConstraint/claims.type-constraints.mandatory.instanceOf.P965.correct.tsv \\\n",
    "    --graph-cache ~/sqlite3_caches/mandConst001.sqlite3.db ; \\\n",
    " kgtk --debug ifnotexists -i ../../propertiesSplit/claims.P965.tsv \\\n",
    "    --filter-on ../../constraintsOP/typeConstraint/claims.type-constraints.mandatory.instanceOf.P965.correct.tsv \\\n",
    "    --filter-mode NONE \\\n",
    "    --input-keys node1 label \\\n",
    "    --filter-keys node1 label \\\n",
    "    -o ../../constraintsOP/typeConstraint/claims.type-constraints.mandatory.instanceOf.P965.incorrect.tsv"
   ]
  },
  {
   "cell_type": "markdown",
   "id": "matched-strength",
   "metadata": {},
   "source": [
    "# Generate Queries"
   ]
  },
  {
   "cell_type": "markdown",
   "id": "decimal-kuwait",
   "metadata": {},
   "source": [
    "## Type Constraint"
   ]
  },
  {
   "cell_type": "code",
   "execution_count": 7,
   "id": "clinical-brunei",
   "metadata": {},
   "outputs": [],
   "source": [
    "import pandas as pd\n",
    "df = pd.read_csv('../../constraintsOP/typeConstraint/claims.type-constraints_all.tsv',sep='\\t')"
   ]
  },
  {
   "cell_type": "code",
   "execution_count": 8,
   "id": "assured-cleaners",
   "metadata": {},
   "outputs": [],
   "source": [
    "df1 = df.groupby(['node1','label']).node2.apply(lambda p: p.tolist()).reset_index()"
   ]
  },
  {
   "cell_type": "code",
   "execution_count": 9,
   "id": "sharing-evolution",
   "metadata": {},
   "outputs": [
    {
     "data": {
      "text/html": [
       "<div>\n",
       "<style scoped>\n",
       "    .dataframe tbody tr th:only-of-type {\n",
       "        vertical-align: middle;\n",
       "    }\n",
       "\n",
       "    .dataframe tbody tr th {\n",
       "        vertical-align: top;\n",
       "    }\n",
       "\n",
       "    .dataframe thead th {\n",
       "        text-align: right;\n",
       "    }\n",
       "</style>\n",
       "<table border=\"1\" class=\"dataframe\">\n",
       "  <thead>\n",
       "    <tr style=\"text-align: right;\">\n",
       "      <th></th>\n",
       "      <th>node1</th>\n",
       "      <th>label</th>\n",
       "      <th>node2</th>\n",
       "    </tr>\n",
       "  </thead>\n",
       "  <tbody>\n",
       "    <tr>\n",
       "      <th>0</th>\n",
       "      <td>P1001</td>\n",
       "      <td>P2308</td>\n",
       "      <td>[Q102496, Q105985, Q1140371, Q1151067, Q119768...</td>\n",
       "    </tr>\n",
       "    <tr>\n",
       "      <th>1</th>\n",
       "      <td>P1001</td>\n",
       "      <td>P2309</td>\n",
       "      <td>[Q30208840]</td>\n",
       "    </tr>\n",
       "    <tr>\n",
       "      <th>2</th>\n",
       "      <td>P1002</td>\n",
       "      <td>P2308</td>\n",
       "      <td>[Q630010]</td>\n",
       "    </tr>\n",
       "    <tr>\n",
       "      <th>3</th>\n",
       "      <td>P1002</td>\n",
       "      <td>P2309</td>\n",
       "      <td>[Q21514624]</td>\n",
       "    </tr>\n",
       "    <tr>\n",
       "      <th>4</th>\n",
       "      <td>P1004</td>\n",
       "      <td>P2308</td>\n",
       "      <td>[Q2221906, Q23413, Q3947, Q41176, Q88291]</td>\n",
       "    </tr>\n",
       "  </tbody>\n",
       "</table>\n",
       "</div>"
      ],
      "text/plain": [
       "   node1  label                                              node2\n",
       "0  P1001  P2308  [Q102496, Q105985, Q1140371, Q1151067, Q119768...\n",
       "1  P1001  P2309                                        [Q30208840]\n",
       "2  P1002  P2308                                          [Q630010]\n",
       "3  P1002  P2309                                        [Q21514624]\n",
       "4  P1004  P2308          [Q2221906, Q23413, Q3947, Q41176, Q88291]"
      ]
     },
     "execution_count": 9,
     "metadata": {},
     "output_type": "execute_result"
    }
   ],
   "source": [
    "df1.head()"
   ]
  },
  {
   "cell_type": "code",
   "execution_count": 11,
   "id": "bright-impossible",
   "metadata": {},
   "outputs": [
    {
     "data": {
      "application/vnd.jupyter.widget-view+json": {
       "model_id": "5a11735306b248de85407682de7567f3",
       "version_major": 2,
       "version_minor": 0
      },
      "text/plain": [
       "  0%|          | 0/4810 [00:00<?, ?it/s]"
      ]
     },
     "metadata": {},
     "output_type": "display_data"
    },
    {
     "name": "stderr",
     "output_type": "stream",
     "text": [
      "<ipython-input-11-e07423ae21e9>:28: DeprecationWarning: The truth value of an empty array is ambiguous. Returning False, but in future this will result in an error. Use `array.size > 0` to check that an array is not empty.\n",
      "  if type1 == \"Q21502408\":\n",
      "<ipython-input-11-e07423ae21e9>:30: DeprecationWarning: The truth value of an empty array is ambiguous. Returning False, but in future this will result in an error. Use `array.size > 0` to check that an array is not empty.\n",
      "  elif type1 == \"Q62026391\":\n"
     ]
    },
    {
     "name": "stdout",
     "output_type": "stream",
     "text": [
      "Something failed for prop: P1249\n",
      "Something failed for prop: P6790\n"
     ]
    }
   ],
   "source": [
    "from tqdm.notebook import tqdm\n",
    "import os.path\n",
    "\n",
    "cnt = 0\n",
    "fCnt = 1\n",
    "for prop in tqdm(df1.node1.unique()):\n",
    "    try:\n",
    "        if not(os.path.isfile(\"../../propertiesSplit/claims.\"+ prop +\".tsv\")):\n",
    "            continue\n",
    "        relation = df1[(df1['node1'] == prop) & (df1['label'] == 'P2309')].node2.values[0][0]\n",
    "        type1 = df1[(df1['node1'] == prop) & (df1['label'] == 'P2316')].node2.values\n",
    "\n",
    "        parents = df1[(df1['node1'] == prop) & (df1['label'] == 'P2308')].node2.values[0]\n",
    "        exceptions = df1[(df1['node1'] == prop) & (df1['label'] == 'P2303')].node2.values\n",
    "\n",
    "#         print(prop, relation, type1, parents, exceptions)\n",
    "\n",
    "        if relation == \"Q21503252\":\n",
    "            parentFile = \"P31P279star\"\n",
    "            parentTitle = 'instanceOf'\n",
    "        elif relation == \"Q21514624\":\n",
    "            parentFile = \"P279star\"\n",
    "            parentTitle = 'subclass'\n",
    "        else:\n",
    "            parentFile = \"isastar\"\n",
    "            parentTitle = 'instanceOfOrSubclass'\n",
    "\n",
    "        if type1 == \"Q21502408\":\n",
    "            typeVal = \"mandatory\"\n",
    "        elif type1 == \"Q62026391\":\n",
    "            typeVal = \"suggestion\"\n",
    "        else:\n",
    "            typeVal = \"normal\"\n",
    "\n",
    "        if len(exceptions):\n",
    "            exceptionPart = \"or node1 in \" + str(exceptions[0]).replace(\"'\",'\"')\n",
    "        else:\n",
    "            exceptionPart = \"\"\n",
    "        \n",
    "        if cnt % 150 == 0:\n",
    "            fOP = open(\"../../propertiesSplit/checkViolations/typeConstraintValidator\" + str(fCnt) + \".sh\",\"w\")\n",
    "            fCnt += 1\n",
    "        \n",
    "        fOP.write(\"kgtk --debug query -i ../../propertiesSplit/claims.\"+ prop +\".tsv \\\n",
    "        ../../wikidata-20210215/derived.\" + parentFile + \".tsv.gz \\\n",
    "        --match 'm: (node1)-[nodeProp]->(node2), d: (node1)-[]->(par)' \\\n",
    "        --where 'par in \" + str(parents).replace(\"'\",'\"') + \" \" + exceptionPart + \"' \\\n",
    "        --return 'nodeProp.id, node1, nodeProp.label, node2' \\\n",
    "        -o ../../allConstraintsAnalysis/typeConstraint/\" + typeVal + \"/claims.type-constraints.\" + parentTitle + \".\"+ prop +\".correct.tsv \\\n",
    "        --graph-cache ~/sqlite3_caches/const2_\" + str(fCnt) + \".sqlite3.db ; \\\n",
    "         kgtk --debug ifnotexists -i ../../propertiesSplit/claims.\"+ prop +\".tsv \\\n",
    "        --filter-on ../../allConstraintsAnalysis/typeConstraint/\" + typeVal + \"/claims.type-constraints.\" + parentTitle + \".\"+ prop +\".correct.tsv \\\n",
    "        --filter-mode NONE \\\n",
    "        --input-keys node1 label \\\n",
    "        --filter-keys node1 label \\\n",
    "        -o ../../allConstraintsAnalysis/typeConstraint/\" + typeVal + \"/claims.type-constraints.\" + parentTitle + \".\"+ prop +\".incorrect.tsv\\n\")\n",
    "\n",
    "        cnt += 1\n",
    "    except:\n",
    "        print(\"Something failed for prop:\",prop)\n",
    "    "
   ]
  },
  {
   "cell_type": "markdown",
   "id": "bearing-bridges",
   "metadata": {},
   "source": [
    "## Value Type Constraint"
   ]
  },
  {
   "cell_type": "code",
   "execution_count": 12,
   "id": "classical-northern",
   "metadata": {},
   "outputs": [],
   "source": [
    "import pandas as pd\n",
    "df = pd.read_csv('../../constraintsOP/valuetypeConstraint/claims.type-constraints_all1.tsv',sep='\\t')"
   ]
  },
  {
   "cell_type": "code",
   "execution_count": 13,
   "id": "determined-parent",
   "metadata": {},
   "outputs": [],
   "source": [
    "df1 = df.groupby(['node1','label']).node2.apply(lambda p: p.tolist()).reset_index()"
   ]
  },
  {
   "cell_type": "code",
   "execution_count": 14,
   "id": "pressed-magnet",
   "metadata": {},
   "outputs": [
    {
     "data": {
      "text/html": [
       "<div>\n",
       "<style scoped>\n",
       "    .dataframe tbody tr th:only-of-type {\n",
       "        vertical-align: middle;\n",
       "    }\n",
       "\n",
       "    .dataframe tbody tr th {\n",
       "        vertical-align: top;\n",
       "    }\n",
       "\n",
       "    .dataframe thead th {\n",
       "        text-align: right;\n",
       "    }\n",
       "</style>\n",
       "<table border=\"1\" class=\"dataframe\">\n",
       "  <thead>\n",
       "    <tr style=\"text-align: right;\">\n",
       "      <th></th>\n",
       "      <th>node1</th>\n",
       "      <th>label</th>\n",
       "      <th>node2</th>\n",
       "    </tr>\n",
       "  </thead>\n",
       "  <tbody>\n",
       "    <tr>\n",
       "      <th>0</th>\n",
       "      <td>P1000</td>\n",
       "      <td>P2308</td>\n",
       "      <td>[Q1241356]</td>\n",
       "    </tr>\n",
       "    <tr>\n",
       "      <th>1</th>\n",
       "      <td>P1000</td>\n",
       "      <td>P2309</td>\n",
       "      <td>[Q30208840]</td>\n",
       "    </tr>\n",
       "    <tr>\n",
       "      <th>2</th>\n",
       "      <td>P1001</td>\n",
       "      <td>P2308</td>\n",
       "      <td>[Q20926517, Q2881272, Q2882257, Q3624078, Q389...</td>\n",
       "    </tr>\n",
       "    <tr>\n",
       "      <th>3</th>\n",
       "      <td>P1001</td>\n",
       "      <td>P2309</td>\n",
       "      <td>[Q30208840]</td>\n",
       "    </tr>\n",
       "    <tr>\n",
       "      <th>4</th>\n",
       "      <td>P1002</td>\n",
       "      <td>P2308</td>\n",
       "      <td>[Q2576663]</td>\n",
       "    </tr>\n",
       "  </tbody>\n",
       "</table>\n",
       "</div>"
      ],
      "text/plain": [
       "   node1  label                                              node2\n",
       "0  P1000  P2308                                         [Q1241356]\n",
       "1  P1000  P2309                                        [Q30208840]\n",
       "2  P1001  P2308  [Q20926517, Q2881272, Q2882257, Q3624078, Q389...\n",
       "3  P1001  P2309                                        [Q30208840]\n",
       "4  P1002  P2308                                         [Q2576663]"
      ]
     },
     "execution_count": 14,
     "metadata": {},
     "output_type": "execute_result"
    }
   ],
   "source": [
    "df1.head()"
   ]
  },
  {
   "cell_type": "code",
   "execution_count": 24,
   "id": "legitimate-zoning",
   "metadata": {},
   "outputs": [
    {
     "data": {
      "application/vnd.jupyter.widget-view+json": {
       "model_id": "69ce954d638f47efa0275eab9162af4b",
       "version_major": 2,
       "version_minor": 0
      },
      "text/plain": [
       "  0%|          | 0/932 [00:00<?, ?it/s]"
      ]
     },
     "metadata": {},
     "output_type": "display_data"
    },
    {
     "name": "stderr",
     "output_type": "stream",
     "text": [
      "<ipython-input-24-ecc70555518c>:27: DeprecationWarning: The truth value of an empty array is ambiguous. Returning False, but in future this will result in an error. Use `array.size > 0` to check that an array is not empty.\n",
      "  if type1 == \"Q21502408\":\n",
      "<ipython-input-24-ecc70555518c>:29: DeprecationWarning: The truth value of an empty array is ambiguous. Returning False, but in future this will result in an error. Use `array.size > 0` to check that an array is not empty.\n",
      "  elif type1 == \"Q62026391\":\n"
     ]
    },
    {
     "name": "stdout",
     "output_type": "stream",
     "text": [
      "Something failed for prop: P1389\n"
     ]
    }
   ],
   "source": [
    "from tqdm.notebook import tqdm\n",
    "import os.path\n",
    "import os\n",
    "\n",
    "cnt = 0\n",
    "fCnt = 1\n",
    "for prop in tqdm(df1.node1.unique()):\n",
    "    try:\n",
    "        if not(os.path.isfile(\"../../propertiesSplit/claims.\"+ prop +\".tsv\")):\n",
    "            continue\n",
    "        relation = df1[(df1['node1'] == prop) & (df1['label'] == 'P2309')].node2.values[0][0]\n",
    "        type1 = df1[(df1['node1'] == prop) & (df1['label'] == 'P2316')].node2.values\n",
    "\n",
    "        parents = df1[(df1['node1'] == prop) & (df1['label'] == 'P2308')].node2.values[0]\n",
    "        exceptions = df1[(df1['node1'] == prop) & (df1['label'] == 'P2303')].node2.values\n",
    "        \n",
    "        if relation == \"Q21503252\":\n",
    "            parentFile = \"P31\"\n",
    "            parentTitle = 'instanceOf'\n",
    "        elif relation == \"Q21514624\":\n",
    "            parentFile = \"P279\"\n",
    "            parentTitle = 'subclass'\n",
    "        else:\n",
    "            parentFile = \"isa\"\n",
    "            parentTitle = 'instanceOfOrSubclass'\n",
    "\n",
    "        if type1 == \"Q21502408\":\n",
    "            typeVal = \"mandatory\"\n",
    "        elif type1 == \"Q62026391\":\n",
    "            typeVal = \"suggestion\"\n",
    "        else:\n",
    "            typeVal = \"normal\"\n",
    "\n",
    "        if len(exceptions):\n",
    "            exceptionPart = \"or node1 in \" + str(exceptions[0]).replace(\"'\",'\"')\n",
    "        else:\n",
    "            exceptionPart = \"\"\n",
    "        \n",
    "        folderName = 'valuetypeConstraint'\n",
    "        shellFileSuffix = 'valueTypeConstraintValidator'\n",
    "        \n",
    "        if cnt % 60 == 0:\n",
    "            fOP = open(\"../../propertiesSplit/checkViolations/\" + shellFileSuffix + str(fCnt) + \".sh\",\"w\")\n",
    "            fCnt += 1\n",
    "        \n",
    "        fOP.write(\"time kgtk --debug query -i ../../propertiesSplit/claims.\"+ prop +\".tsv \\\n",
    "        ../../wikidata-20210215/derived.\" + parentFile + \".tsv.gz \\\n",
    "        ../../wikidata-20210215/derived.P279star.tsv.gz \\\n",
    "        --match 'm: (node1)-[nodeProp]->(node2), \" + parentFile + \": (node2)-[]->(nodex), P279star: (nodex)-[]->(par)' \\\n",
    "        --where 'par in \" + str(parents).replace(\"'\",'\"') + \" \" + exceptionPart + \"' \\\n",
    "        --return 'nodeProp.id, node1, nodeProp.label, node2' \\\n",
    "        -o ../../allConstraintsAnalysis/\" + folderName + \"/\" + typeVal + \"/claims.type-constraints.\" + parentTitle + \".\"+ prop +\".correct.tsv \\\n",
    "        --graph-cache ~/sqlite3_caches/const4_\" + str(fCnt) + \".sqlite3.db; \\\n",
    "         kgtk --debug ifnotexists -i ../../propertiesSplit/claims.\"+ prop +\".tsv \\\n",
    "        --filter-on ../../allConstraintsAnalysis/\" + folderName + \"/\" + typeVal + \"/claims.type-constraints.\" + parentTitle + \".\"+ prop +\".correct.tsv \\\n",
    "        --filter-mode NONE \\\n",
    "        --input-keys node1 label \\\n",
    "        --filter-keys node1 label \\\n",
    "        -o ../../allConstraintsAnalysis/\" + folderName + \"/\" + typeVal + \"/claims.type-constraints.\" + parentTitle + \".\"+ prop +\".incorrect.tsv\\n\")\n",
    "\n",
    "        cnt += 1\n",
    "    except:\n",
    "        print(\"Something failed for prop:\",prop)"
   ]
  },
  {
   "cell_type": "code",
   "execution_count": 21,
   "id": "settled-bangladesh",
   "metadata": {},
   "outputs": [],
   "source": [
    "for i in range(1,16):\n",
    "    os.system(\"screen -dm sh ../../propertiesSplit/checkViolations/\" + shellFileSuffix + str(fCnt) + \".sh\")"
   ]
  },
  {
   "cell_type": "markdown",
   "id": "outdoor-language",
   "metadata": {},
   "source": [
    "# Comparing isa + P279star with isastar"
   ]
  },
  {
   "cell_type": "code",
   "execution_count": 13,
   "id": "killing-amsterdam",
   "metadata": {},
   "outputs": [],
   "source": [
    "import os\n",
    "wiki_root_folder = \"../../gdrive-kgtk-dump-2020-12-07/\"\n",
    "\n",
    "claims_file = \"claims.tsv.gz\"\n",
    "label_file = \"labels.en.tsv.gz\"\n",
    "\n",
    "derived_files_root_folder = \"../../wikidata-20210215/\"\n",
    "p279file = \"derived.P279star.tsv.gz\"\n",
    "isa_file = \"derived.isa.tsv.gz\"\n",
    "isa_star_file = \"derived.isastar.tsv.gz\"\n",
    "\n",
    "os.environ['CLAIMS'] = wiki_root_folder + claims_file\n",
    "os.environ['LABEL'] = wiki_root_folder + label_file\n",
    "os.environ['P279STAR'] = derived_files_root_folder + p279file\n",
    "os.environ['ISASTAR'] = derived_files_root_folder + isa_star_file\n",
    "os.environ['ISA'] = derived_files_root_folder + isa_file\n",
    "os.environ['TEMP'] = \"../../temp\""
   ]
  },
  {
   "cell_type": "code",
   "execution_count": 14,
   "id": "overhead-ferry",
   "metadata": {},
   "outputs": [
    {
     "name": "stdout",
     "output_type": "stream",
     "text": [
      "[2021-03-13 13:03:17 sqlstore]: IMPORT graph directly into table graph_3 from /data/wd-correctness/wikidata-20210215/derived.P279star.tsv.gz ...\n",
      "[2021-03-13 13:05:15 sqlstore]: IMPORT graph directly into table graph_4 from /data/wd-correctness/wikidata-20210215/derived.isa.tsv.gz ...\n",
      "[2021-03-13 13:06:41 query]: SQL Translation:\n",
      "---------------------------------------------\n",
      "  SELECT DISTINCT graph_1_c1.\"node1\", graph_1_c1.\"label\" \"_aLias.label\", graph_4_c2.\"node1\" \"_aLias.node2\"\n",
      "     FROM graph_1 AS graph_1_c1, graph_3 AS graph_3_c3, graph_4 AS graph_4_c2\n",
      "     WHERE graph_1_c1.\"label\"=?\n",
      "     AND graph_1_c1.\"node2\"=graph_4_c2.\"node1\"\n",
      "     AND graph_3_c3.\"node1\"=graph_4_c2.\"node2\"\n",
      "     AND (graph_3_c3.\"node2\" IN (?, ?, ?, ?, ?, ?, ?, ?, ?, ?, ?, ?, ?, ?, ?))\n",
      "  PARAS: ['P166', 'Q618779', 'Q2003221', 'Q38033430', 'Q131647', 'Q193622', 'Q60754876', 'Q7810129', 'Q4164871', 'Q2658935', 'Q1046088', 'Q3001412', 'Q3320743', 'Q657438', 'Q841654', 'Q103880535']\n",
      "---------------------------------------------\n",
      "[2021-03-13 13:06:41 sqlstore]: CREATE INDEX on table graph_4 column node2 ...\n",
      "[2021-03-13 13:08:02 sqlstore]: ANALYZE INDEX on table graph_4 column node2 ...\n",
      "[2021-03-13 13:08:09 sqlstore]: CREATE INDEX on table graph_4 column node1 ...\n",
      "[2021-03-13 13:08:59 sqlstore]: ANALYZE INDEX on table graph_4 column node1 ...\n",
      "[2021-03-13 13:09:07 sqlstore]: CREATE INDEX on table graph_1 column label ...\n",
      "[2021-03-13 13:38:29 sqlstore]: ANALYZE INDEX on table graph_1 column label ...\n",
      "[2021-03-13 13:39:49 sqlstore]: CREATE INDEX on table graph_3 column node1 ...\n",
      "[2021-03-13 13:41:04 sqlstore]: ANALYZE INDEX on table graph_3 column node1 ...\n",
      "[2021-03-13 13:41:10 sqlstore]: CREATE INDEX on table graph_1 column node2 ...\n",
      "[2021-03-13 14:22:16 sqlstore]: ANALYZE INDEX on table graph_1 column node2 ...\n",
      "\n",
      "real\t91m9.845s\n",
      "user\t59m11.425s\n",
      "sys\t7m18.944s\n"
     ]
    }
   ],
   "source": [
    "!time kgtk --debug query -i \"$CLAIMS\" -i \"$LABEL\" -i \"$P279STAR\" -i \"$ISA\"  \\\n",
    "--match '\\\n",
    "  claims: (n1)-[l:P166]->(award), \\\n",
    "  isa: (award)-[]->(x), \\\n",
    "  P279star: (x)-[]->(valid)' \\\n",
    "--where 'valid in [\"Q618779\", \"Q2003221\" ,\"Q38033430\" ,\"Q131647\" ,\"Q193622\" ,\"Q60754876\" ,\"Q7810129\" ,\"Q4164871\" ,\"Q2658935\" ,\"Q1046088\" ,\"Q3001412\" ,\"Q3320743\" ,\"Q657438\" ,\"Q841654\" ,\"Q103880535\"]' \\\n",
    "--return 'distinct n1, l.label as label, award as node2' \\\n",
    "-o \"$TEMP/constraint.award.tsv.gz\""
   ]
  },
  {
   "cell_type": "code",
   "execution_count": 15,
   "id": "weird-weekly",
   "metadata": {},
   "outputs": [
    {
     "name": "stdout",
     "output_type": "stream",
     "text": [
      "[2021-03-13 14:34:21 query]: SQL Translation:\n",
      "---------------------------------------------\n",
      "  SELECT DISTINCT graph_1_c1.\"node1\", graph_1_c1.\"label\" \"_aLias.label\", graph_4_c2.\"node1\" \"_aLias.node2\"\n",
      "     FROM graph_1 AS graph_1_c1, graph_3 AS graph_3_c3, graph_4 AS graph_4_c2\n",
      "     WHERE graph_1_c1.\"label\"=?\n",
      "     AND graph_1_c1.\"node2\"=graph_4_c2.\"node1\"\n",
      "     AND graph_3_c3.\"node1\"=graph_4_c2.\"node2\"\n",
      "     AND (graph_3_c3.\"node2\" IN (?, ?, ?, ?, ?, ?, ?, ?, ?, ?, ?, ?, ?, ?, ?))\n",
      "  PARAS: ['P166', 'Q618779', 'Q2003221', 'Q38033430', 'Q131647', 'Q193622', 'Q60754876', 'Q7810129', 'Q4164871', 'Q2658935', 'Q1046088', 'Q3001412', 'Q3320743', 'Q657438', 'Q841654', 'Q103880535']\n",
      "---------------------------------------------\n",
      "\n",
      "real\t4m13.305s\n",
      "user\t0m42.020s\n",
      "sys\t0m7.273s\n"
     ]
    }
   ],
   "source": [
    "!time kgtk --debug query -i \"$CLAIMS\" -i \"$LABEL\" -i \"$P279STAR\" -i \"$ISA\"  \\\n",
    "--match '\\\n",
    "  claims: (n1)-[l:P166]->(award), \\\n",
    "  isa: (award)-[]->(x), \\\n",
    "  P279star: (x)-[]->(valid)' \\\n",
    "--where 'valid in [\"Q618779\", \"Q2003221\" ,\"Q38033430\" ,\"Q131647\" ,\"Q193622\" ,\"Q60754876\" ,\"Q7810129\" ,\"Q4164871\" ,\"Q2658935\" ,\"Q1046088\" ,\"Q3001412\" ,\"Q3320743\" ,\"Q657438\" ,\"Q841654\" ,\"Q103880535\"]' \\\n",
    "--return 'distinct n1, l.label as label, award as node2' \\\n",
    "-o \"$TEMP/constraint.award.tsv.gz\""
   ]
  },
  {
   "cell_type": "code",
   "execution_count": 16,
   "id": "clean-crisis",
   "metadata": {},
   "outputs": [
    {
     "name": "stdout",
     "output_type": "stream",
     "text": [
      "[2021-03-13 14:38:37 sqlstore]: IMPORT graph directly into table graph_5 from /data/wd-correctness/wikidata-20210215/derived.isastar.tsv.gz ...\n",
      "[2021-03-13 15:37:18 query]: SQL Translation:\n",
      "---------------------------------------------\n",
      "  SELECT DISTINCT graph_1_c1.\"node1\", graph_1_c1.\"label\" \"_aLias.label\", graph_1_c1.\"node2\" \"_aLias.node2\"\n",
      "     FROM graph_1 AS graph_1_c1, graph_5 AS graph_5_c2\n",
      "     WHERE graph_1_c1.\"label\"=?\n",
      "     AND graph_1_c1.\"node2\"=graph_5_c2.\"node1\"\n",
      "     AND (graph_5_c2.\"node2\" IN (?, ?, ?, ?, ?, ?, ?, ?, ?, ?, ?, ?, ?, ?, ?))\n",
      "  PARAS: ['P166', 'Q618779', 'Q2003221', 'Q38033430', 'Q131647', 'Q193622', 'Q60754876', 'Q7810129', 'Q4164871', 'Q2658935', 'Q1046088', 'Q3001412', 'Q3320743', 'Q657438', 'Q841654', 'Q103880535']\n",
      "---------------------------------------------\n",
      "[2021-03-13 15:37:18 sqlstore]: CREATE INDEX on table graph_5 column node1 ...\n",
      "[2021-03-13 16:15:50 sqlstore]: ANALYZE INDEX on table graph_5 column node1 ...\n",
      "\n",
      "real\t109m29.885s\n",
      "user\t90m41.390s\n",
      "sys\t13m32.324s\n"
     ]
    }
   ],
   "source": [
    "!time kgtk --debug query -i \"$CLAIMS\" -i \"$LABEL\" -i \"$ISASTAR\"  \\\n",
    "--match '\\\n",
    "  claims: (n1)-[l:P166]->(award), \\\n",
    "  isastar: (award)-[]->(valid)' \\\n",
    "--where 'valid in [\"Q618779\", \"Q2003221\" ,\"Q38033430\" ,\"Q131647\" ,\"Q193622\" ,\"Q60754876\" ,\"Q7810129\" ,\"Q4164871\" ,\"Q2658935\" ,\"Q1046088\" ,\"Q3001412\" ,\"Q3320743\" ,\"Q657438\" ,\"Q841654\" ,\"Q103880535\"]' \\\n",
    "--return 'distinct n1, l.label as label, award as node2' \\\n",
    "-o \"$TEMP/constraint.award.tsv.gz\""
   ]
  },
  {
   "cell_type": "code",
   "execution_count": 17,
   "id": "opposed-compensation",
   "metadata": {},
   "outputs": [
    {
     "name": "stdout",
     "output_type": "stream",
     "text": [
      "[2021-03-13 16:28:05 query]: SQL Translation:\n",
      "---------------------------------------------\n",
      "  SELECT DISTINCT graph_1_c1.\"node1\", graph_1_c1.\"label\" \"_aLias.label\", graph_5_c2.\"node1\" \"_aLias.node2\"\n",
      "     FROM graph_1 AS graph_1_c1, graph_5 AS graph_5_c2\n",
      "     WHERE graph_1_c1.\"label\"=?\n",
      "     AND graph_1_c1.\"node2\"=graph_5_c2.\"node1\"\n",
      "     AND (graph_5_c2.\"node2\" IN (?, ?, ?, ?, ?, ?, ?, ?, ?, ?, ?, ?, ?, ?, ?))\n",
      "  PARAS: ['P166', 'Q618779', 'Q2003221', 'Q38033430', 'Q131647', 'Q193622', 'Q60754876', 'Q7810129', 'Q4164871', 'Q2658935', 'Q1046088', 'Q3001412', 'Q3320743', 'Q657438', 'Q841654', 'Q103880535']\n",
      "---------------------------------------------\n",
      "\n",
      "real\t0m31.045s\n",
      "user\t0m23.087s\n",
      "sys\t0m3.079s\n"
     ]
    }
   ],
   "source": [
    "!time kgtk --debug query -i \"$CLAIMS\" -i \"$LABEL\" -i \"$ISASTAR\"  \\\n",
    "--match '\\\n",
    "  claims: (n1)-[l:P166]->(award), \\\n",
    "  isastar: (award)-[]->(valid)' \\\n",
    "--where 'valid in [\"Q618779\", \"Q2003221\" ,\"Q38033430\" ,\"Q131647\" ,\"Q193622\" ,\"Q60754876\" ,\"Q7810129\" ,\"Q4164871\" ,\"Q2658935\" ,\"Q1046088\" ,\"Q3001412\" ,\"Q3320743\" ,\"Q657438\" ,\"Q841654\" ,\"Q103880535\"]' \\\n",
    "--return 'distinct n1, l.label as label, award as node2' \\\n",
    "-o \"$TEMP/constraint.award.tsv.gz\""
   ]
  },
  {
   "cell_type": "code",
   "execution_count": null,
   "id": "greatest-communist",
   "metadata": {},
   "outputs": [],
   "source": []
  }
 ],
 "metadata": {
  "kernelspec": {
   "display_name": "kgtkEnv",
   "language": "python",
   "name": "kgtkenv"
  },
  "language_info": {
   "codemirror_mode": {
    "name": "ipython",
    "version": 3
   },
   "file_extension": ".py",
   "mimetype": "text/x-python",
   "name": "python",
   "nbconvert_exporter": "python",
   "pygments_lexer": "ipython3",
   "version": "3.8.5"
  }
 },
 "nbformat": 4,
 "nbformat_minor": 5
}
