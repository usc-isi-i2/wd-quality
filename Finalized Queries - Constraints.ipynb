{
 "cells": [
  {
   "cell_type": "markdown",
   "id": "bulgarian-scotland",
   "metadata": {},
   "source": [
    "# Type Constraint (Domain)"
   ]
  },
  {
   "cell_type": "code",
   "execution_count": 13,
   "id": "logical-simon",
   "metadata": {},
   "outputs": [
    {
     "name": "stdout",
     "output_type": "stream",
     "text": [
      "[2021-03-03 21:59:11 query]: SQL Translation:\r\n",
      "---------------------------------------------\r\n",
      "  SELECT graph_2_c1.\"id\" \"_aLias.id\", graph_2_c1.\"node1\", graph_2_c1.\"label\" \"_aLias.label\", graph_2_c1.\"node2\", graph_4_c3.\"label\" \"_aLias.node1;constLabel\", graph_4_c3.\"node2\" \"_aLias.node1;constVal\"\r\n",
      "     FROM graph_2 AS graph_2_c1, graph_3 AS graph_3_c2, graph_4 AS graph_4_c3\r\n",
      "     WHERE graph_3_c2.\"label\"=?\r\n",
      "     AND graph_3_c2.\"node2\"=?\r\n",
      "     AND ((graph_2_c1.\"label\" = graph_3_c2.\"node1\") AND ((graph_3_c2.\"id\" = graph_4_c3.\"node1\") AND (graph_4_c3.\"label\" IN (?, ?, ?, ?))))\r\n",
      "  PARAS: ['P2302', 'Q21503250', 'P2308', 'P2309', 'P2316', 'P2303']\r\n",
      "---------------------------------------------\r\n"
     ]
    }
   ],
   "source": [
    "!kgtk --debug query -i ../../gdrive-kgtk-dump-2020-12-07/claims.string.tsv.gz \\\n",
    "    ../../gdrive-kgtk-dump-2020-12-07/claims.properties.tsv.gz \\\n",
    "    ../../gdrive-kgtk-dump-2020-12-07/qualifiers.properties.tsv.gz \\\n",
    "    --match \"c: (node1)-[nodeProp]->(node2), p: (nodeProp1)-[nodePropEdge:P2302]->(:Q21503250), q: (nodePropEdge1)-[nodePropEdgeProps]->(val)\" \\\n",
    "    --where 'nodeProp.label = nodeProp1 and nodePropEdge.id = nodePropEdge1 and nodePropEdgeProps.label in [\"P2308\", \"P2309\", \"P2316\", \"P2303\"]' \\\n",
    "    --return 'nodeProp.id as id, node1, nodeProp.label as label, node2, nodePropEdgeProps.label as `node1;constLabel`, val as `node1;constVal`' \\\n",
    "    -o ../../constraintsOP/typeConstraint/claims.type-constraints.tsv \\\n",
    "    --graph-cache ~/sqlite3_caches/temp1.sqlite3.db\n"
   ]
  },
  {
   "cell_type": "code",
   "execution_count": null,
   "id": "corporate-snake",
   "metadata": {},
   "outputs": [],
   "source": [
    "!kgtk --debug query -i ../../constraintsOP/typeConstraint/claims.type-constraints.tsv \\\n",
    "    ../../gdrive-kgtk-dump-2020-12-07/claims.wikibase-item.tsv.gz \\\n",
    "    --match '(a{constLabel:constLabel,constVal:constVal})-[label]->(node2)' \\\n",
    "    --return 'label.label as `node1`, constLabel as `label`, constVal as `node2`, max(a) as `node1;exampleQnode`' \\\n",
    "    --where 'constLabel = \"P2309\"' \\\n",
    "    -o ../../constraintsOP/typeConstraint/claims.type-constraints_relation.tsv"
   ]
  },
  {
   "cell_type": "code",
   "execution_count": 15,
   "id": "capital-certification",
   "metadata": {},
   "outputs": [],
   "source": [
    "# !kgtk --debug query -i ../../constraintsOP/typeConstraint/claims.type-constraints.tsv \\\n",
    "#     ../../gdrive-kgtk-dump-2020-12-07/claims.wikibase-item.tsv.gz \\\n",
    "#     --match '(node1{constLabel:constLabel,constVal:constVal})-[label]->(node2)' \\\n",
    "#     --return 'label.id, node1, label.label, max(node2), constLabel as `node1;constLabel`, constVal as `node1;constVal`' \\\n",
    "#     --where 'constLabel = \"P2309\"' \\\n",
    "#     -o ../../constraintsOP/typeConstraint/claims.type-constraints_relation.tsv"
   ]
  },
  {
   "cell_type": "code",
   "execution_count": null,
   "id": "complicated-philip",
   "metadata": {},
   "outputs": [],
   "source": [
    "!kgtk --debug query -i ../../constraintsOP/typeConstraint/claims.type-constraints.tsv \\\n",
    "    --match '(a{constLabel:constLabel,constVal:constVal})-[label]->(node2)' \\\n",
    "    --return 'label.label as `node1`, constLabel as `label`, constVal as `node2`, max(a) as `node1;exampleQnode`' \\\n",
    "    --where 'constLabel = \"P2316\"' \\\n",
    "    -o ../../constraintsOP/typeConstraint/claims.type-constraints_mandSug.tsv \\\n",
    "    --graph-cache ~/sqlite3_caches/temp11.sqlite3.db"
   ]
  },
  {
   "cell_type": "code",
   "execution_count": null,
   "id": "hungry-logan",
   "metadata": {},
   "outputs": [
    {
     "name": "stdout",
     "output_type": "stream",
     "text": [
      "[2021-03-02 09:20:10 query]: SQL Translation:\r\n",
      "---------------------------------------------\r\n",
      "  SELECT *\r\n",
      "     FROM graph_39 AS graph_39_c1\r\n",
      "     WHERE graph_39_c1.\"node1;constLabel\"=graph_39_c1.\"node1;constLabel\"\r\n",
      "     AND graph_39_c1.\"node1;constVal\"=graph_39_c1.\"node1;constVal\"\r\n",
      "     AND (graph_39_c1.\"node1;constLabel\" = ?)\r\n",
      "  PARAS: ['P2308']\r\n",
      "---------------------------------------------\r\n"
     ]
    }
   ],
   "source": [
    "!kgtk --debug query -i ../../constraintsOP/typeConstraint/claims.type-constraints.tsv \\\n",
    "    --match '(a{constLabel:constLabel,constVal:constVal})-[label]->(node2)' \\\n",
    "    --return 'label.label as `node1`, constLabel as `label`, constVal as `node2`, max(a) as `node1;exampleQnode`' \\\n",
    "    --where 'constLabel = \"P2308\"' \\\n",
    "    -o ../../constraintsOP/typeConstraint/claims.type-constraints_classes.tsv \\\n",
    "    --graph-cache ~/sqlite3_caches/temp12.sqlite3.db"
   ]
  },
  {
   "cell_type": "code",
   "execution_count": 107,
   "id": "grave-dressing",
   "metadata": {},
   "outputs": [
    {
     "name": "stdout",
     "output_type": "stream",
     "text": [
      "[2021-03-04 01:39:38 query]: SQL Translation:\r\n",
      "---------------------------------------------\r\n",
      "  SELECT graph_3_c1.\"node1\" \"_aLias.node1\", graph_4_c2.\"label\" \"_aLias.label\", graph_4_c2.\"node2\" \"_aLias.node2\"\r\n",
      "     FROM graph_3 AS graph_3_c1, graph_4 AS graph_4_c2\r\n",
      "     WHERE graph_3_c1.\"label\"=?\r\n",
      "     AND graph_3_c1.\"node2\"=?\r\n",
      "     AND graph_4_c2.\"label\"=?\r\n",
      "     AND (graph_3_c1.\"id\" = graph_4_c2.\"node1\")\r\n",
      "  PARAS: ['P2302', 'Q21503250', 'P2303']\r\n",
      "---------------------------------------------\r\n"
     ]
    }
   ],
   "source": [
    "!kgtk --debug query -i ../../gdrive-kgtk-dump-2020-12-07/claims.properties.tsv.gz \\\n",
    "    ../../gdrive-kgtk-dump-2020-12-07/qualifiers.properties.tsv.gz \\\n",
    "    --match \"p: (nodeProp1)-[nodePropEdge:P2302]->(:Q21503250), q: (nodePropEdge1)-[nodePropEdgeProps:P2303]->(val)\" \\\n",
    "    --where 'nodePropEdge.id = nodePropEdge1' \\\n",
    "    --return 'nodeProp1 as node1, nodePropEdgeProps.label as label, val as node2' \\\n",
    "    -o ../../constraintsOP/typeConstraint/claims.type-constraints_exceptions_diff_way.tsv \\\n",
    "    --graph-cache ~/sqlite3_caches/temp1.sqlite3.db\n"
   ]
  },
  {
   "cell_type": "code",
   "execution_count": 105,
   "id": "noble-banking",
   "metadata": {},
   "outputs": [],
   "source": [
    "# !kgtk --debug query -i ../../constraintsOP/typeConstraint/claims.type-constraints.tsv \\\n",
    "#     --match '(a{constLabel:constLabel,constVal:constVal})-[label]->(node2)' \\\n",
    "#     --return 'label.label as `node1`, constLabel as `label`, constVal as `node2`, max(a) as `node1;exampleQnode`' \\\n",
    "#     --where 'constLabel = \"P2303\"' \\\n",
    "#     -o ../../constraintsOP/typeConstraint/claims.type-constraints_exceptions.tsv \\\n",
    "#     --graph-cache ~/sqlite3_caches/temp13.sqlite3.db"
   ]
  },
  {
   "cell_type": "markdown",
   "id": "optimum-details",
   "metadata": {},
   "source": [
    "## Test Constraints Queries"
   ]
  },
  {
   "cell_type": "code",
   "execution_count": 118,
   "id": "detailed-encoding",
   "metadata": {},
   "outputs": [],
   "source": [
    "# !printf \"id\\tnode1\\tlabel\\tnode2\\nxxxx\\tQ106810\\tderived\\tQ135031\\n\" \\\n",
    "#     > ../../constraintsOP/testConstraints/derivedP31P279star.tsv\n",
    "# !printf \"id\\tnode1\\tlabel\\tnode2\\nxxxx\\tQ106810\\tP988\\t1234\\n\" \\\n",
    "#     > ../../constraintsOP/testConstraints/claims.properties.tsv\n",
    "# !printf \"node1\\tlabel\\tnode2\\tnode1;exampleQnode\\nP988\\tP2303\\tQ106811\\tQ106810\\n\" \\\n",
    "#     > ../../constraintsOP/testConstraints/claims.type-constraints_exceptions.tsv\n",
    "# !printf \"node1\\tlabel\\tnode2\\tnode1;exampleQnode\\nP988\\tP2303\\tQ21502408\\tQ106810\\n\" \\\n",
    "#     > ../../constraintsOP/testConstraints/claims.type-constraints_mandSug.tsv\n",
    "# !printf \"node1\\tlabel\\tnode2\\tnode1;exampleQnode\\nP988\\tP2303\\tQ1350312\\tQ106810\\n\" \\\n",
    "#     > ../../constraintsOP/testConstraints/claims.type-constraints_classes.tsv\n",
    "# !printf \"node1\\tlabel\\tnode2\\tnode1;exampleQnode\\nP988\\tP2303\\tQ21503252\\tQ106810\\n\" \\\n",
    "#     > ../../constraintsOP/testConstraints/claims.type-constraints_relation.tsv"
   ]
  },
  {
   "cell_type": "code",
   "execution_count": 119,
   "id": "affected-incentive",
   "metadata": {},
   "outputs": [],
   "source": [
    "# !kgtk --debug query -i ../../constraintsOP/testConstraints/claims.properties.tsv \\\n",
    "#     ../../constraintsOP/testConstraints/claims.type-constraints_relation.tsv \\\n",
    "#     ../../constraintsOP/testConstraints/claims.type-constraints_mandSug.tsv \\\n",
    "#     ../../constraintsOP/testConstraints/claims.type-constraints_classes.tsv \\\n",
    "#     ../../constraintsOP/testConstraints/derivedP31P279star.tsv \\\n",
    "#     ../../constraintsOP/testConstraints/claims.type-constraints_exceptions.tsv \\\n",
    "#     --match \"p: (node1)-[nodeProp]->(node2), r: (rLabel)-[]->(relConstVal), m: (rLabel)-[]->(typeConstVal), c: (rLabel)-[]->(parent), d: (node1)-[]->(par), e: (rLabel)-[]->(eNode)\" \\\n",
    "#     --where 'nodeProp.label = rLabel and relConstVal = \"Q21503252\" and typeConstVal = \"Q21502408\" and par != parent and node1 != eNode' \\\n",
    "#     --return 'nodeProp.id, node1, nodeProp.label, node2, par as `node1;ancestor`' \\\n",
    "#     --graph-cache ~/sqlite3_caches/temp111.sqlite3.db"
   ]
  },
  {
   "cell_type": "markdown",
   "id": "polyphonic-shell",
   "metadata": {},
   "source": [
    "## Mandatory Constraints"
   ]
  },
  {
   "cell_type": "markdown",
   "id": "vietnamese-agenda",
   "metadata": {},
   "source": [
    "#### Correct"
   ]
  },
  {
   "cell_type": "code",
   "execution_count": 120,
   "id": "perceived-stuff",
   "metadata": {},
   "outputs": [],
   "source": [
    "!screen -dm kgtk --debug query -i ../../gdrive-kgtk-dump-2020-12-07/claims.string.tsv.gz \\\n",
    "    ../../constraintsOP/typeConstraint/claims.type-constraints_relation.tsv \\\n",
    "    ../../constraintsOP/typeConstraint/claims.type-constraints_mandSug.tsv \\\n",
    "    ../../constraintsOP/typeConstraint/claims.type-constraints_classes.tsv \\\n",
    "    ../../wikidataoas-v4/derived.P31P279star.tsv.gz \\\n",
    "    ../../constraintsOP/typeConstraint/claims.type-constraints_exceptions_diff_way.tsv \\\n",
    "    --match \"g: (node1)-[nodeProp]->(node2), r: (rLabel)-[]->(relConstVal), m: (rLabel)-[]->(typeConstVal), c: (rLabel)-[]->(parent), d: (node1)-[]->(par), e: (rLabel)-[]->(eNode)\" \\\n",
    "    --where 'nodeProp.label = rLabel and relConstVal = \"Q21503252\" and typeConstVal = \"Q21502408\" and (par = parent or node1 = eNode)' \\\n",
    "    --return 'nodeProp.id, node1, nodeProp.label, node2, par as `node1;ancestor`' \\\n",
    "    -o ../../constraintsOP/typeConstraint/claims.type-constraints.mandatory.instanceOf.correct.tsv \\\n",
    "    --graph-cache ~/sqlite3_caches/temp111.sqlite3.db\n",
    "!screen -dm kgtk --debug query -i ../../gdrive-kgtk-dump-2020-12-07/claims.string.tsv.gz \\\n",
    "    ../../constraintsOP/typeConstraint/claims.type-constraints_relation.tsv \\\n",
    "    ../../constraintsOP/typeConstraint/claims.type-constraints_mandSug.tsv \\\n",
    "    ../../constraintsOP/typeConstraint/claims.type-constraints_classes.tsv \\\n",
    "    ../../wikidataoas-v4/derived.P279star.tsv.gz \\\n",
    "    ../../constraintsOP/typeConstraint/claims.type-constraints_exceptions_diff_way.tsv \\\n",
    "    --match \"g: (node1)-[nodeProp]->(node2), r: (rLabel)-[]->(relConstVal), m: (rLabel)-[]->(typeConstVal), c: (rLabel)-[]->(parent), d: (node1)-[]->(par), e: (rLabel)-[]->(eNode)\" \\\n",
    "    --where 'nodeProp.label = rLabel and relConstVal = \"Q21514624\" and typeConstVal = \"Q21502408\" and (par = parent or node1 = eNode)' \\\n",
    "    --return 'nodeProp.id, node1, nodeProp.label, node2, par as `node1;ancestor`' \\\n",
    "    -o ../../constraintsOP/typeConstraint/claims.type-constraints.mandatory.subclass.correct.tsv \\\n",
    "    --graph-cache ~/sqlite3_caches/temp112.sqlite3.db\n",
    "!screen -dm kgtk --debug query -i ../../gdrive-kgtk-dump-2020-12-07/claims.string.tsv.gz \\\n",
    "    ../../constraintsOP/typeConstraint/claims.type-constraints_relation.tsv \\\n",
    "    ../../constraintsOP/typeConstraint/claims.type-constraints_mandSug.tsv \\\n",
    "    ../../constraintsOP/typeConstraint/claims.type-constraints_classes.tsv \\\n",
    "    ../../wikidataoas-v4/derived.isastar.tsv.gz \\\n",
    "    ../../constraintsOP/typeConstraint/claims.type-constraints_exceptions_diff_way.tsv \\\n",
    "    --match \"g: (node1)-[nodeProp]->(node2), r: (rLabel)-[]->(relConstVal), m: (rLabel)-[]->(typeConstVal), c: (rLabel)-[]->(parent), d: (node1)-[]->(par), e: (rLabel)-[]->(eNode)\" \\\n",
    "    --where 'nodeProp.label = rLabel and relConstVal = \"Q30208840\" and typeConstVal = \"Q21502408\" and (par = parent or node1 = eNode)' \\\n",
    "    --return 'nodeProp.id, node1, nodeProp.label, node2, par as `node1;ancestor`' \\\n",
    "    -o ../../constraintsOP/typeConstraint/claims.type-constraints.mandatory.instanceofOrsubclass.correct.tsv \\\n",
    "    --graph-cache ~/sqlite3_caches/temp113.sqlite3.db"
   ]
  },
  {
   "cell_type": "markdown",
   "id": "oriental-parks",
   "metadata": {},
   "source": [
    "#### Incorrect"
   ]
  },
  {
   "cell_type": "code",
   "execution_count": 121,
   "id": "removable-vocabulary",
   "metadata": {},
   "outputs": [],
   "source": [
    "!screen -dm kgtk --debug query -i ../../gdrive-kgtk-dump-2020-12-07/claims.string.tsv.gz \\\n",
    "    ../../constraintsOP/typeConstraint/claims.type-constraints_relation.tsv \\\n",
    "    ../../constraintsOP/typeConstraint/claims.type-constraints_mandSug.tsv \\\n",
    "    ../../constraintsOP/typeConstraint/claims.type-constraints_classes.tsv \\\n",
    "    ../../wikidataoas-v4/derived.P31P279star.tsv.gz \\\n",
    "    ../../constraintsOP/typeConstraint/claims.type-constraints_exceptions_diff_way.tsv \\\n",
    "    --match \"g: (node1)-[nodeProp]->(node2), r: (rLabel)-[]->(relConstVal), m: (rLabel)-[]->(typeConstVal), c: (rLabel)-[]->(parent), d: (node1)-[]->(par), e: (rLabel)-[]->(eNode)\" \\\n",
    "    --where 'nodeProp.label = rLabel and relConstVal = \"Q21503252\" and typeConstVal = \"Q21502408\" and par != parent and node1 != eNode' \\\n",
    "    --return 'nodeProp.id, node1, nodeProp.label, node2, par as `node1;ancestor`' \\\n",
    "    -o ../../constraintsOP/typeConstraint/claims.type-constraints.mandatory.instanceOf.incorrect.tsv \\\n",
    "    --graph-cache ~/sqlite3_caches/temp111a.sqlite3.db\n",
    "!screen -dm kgtk --debug query -i ../../gdrive-kgtk-dump-2020-12-07/claims.string.tsv.gz \\\n",
    "    ../../constraintsOP/typeConstraint/claims.type-constraints_relation.tsv \\\n",
    "    ../../constraintsOP/typeConstraint/claims.type-constraints_mandSug.tsv \\\n",
    "    ../../constraintsOP/typeConstraint/claims.type-constraints_classes.tsv \\\n",
    "    ../../wikidataoas-v4/derived.P279star.tsv.gz \\\n",
    "    ../../constraintsOP/typeConstraint/claims.type-constraints_exceptions_diff_way.tsv \\\n",
    "    --match \"g: (node1)-[nodeProp]->(node2), r: (rLabel)-[]->(relConstVal), m: (rLabel)-[]->(typeConstVal), c: (rLabel)-[]->(parent), d: (node1)-[]->(par), e: (rLabel)-[]->(eNode)\" \\\n",
    "    --where 'nodeProp.label = rLabel and relConstVal = \"Q21514624\" and typeConstVal = \"Q21502408\" and par != parent and node1 != eNode' \\\n",
    "    --return 'nodeProp.id, node1, nodeProp.label, node2, par as `node1;ancestor`' \\\n",
    "    -o ../../constraintsOP/typeConstraint/claims.type-constraints.mandatory.subclass.incorrect.tsv \\\n",
    "    --graph-cache ~/sqlite3_caches/temp112a.sqlite3.db\n",
    "!screen -dm kgtk --debug query -i ../../gdrive-kgtk-dump-2020-12-07/claims.string.tsv.gz \\\n",
    "    ../../constraintsOP/typeConstraint/claims.type-constraints_relation.tsv \\\n",
    "    ../../constraintsOP/typeConstraint/claims.type-constraints_mandSug.tsv \\\n",
    "    ../../constraintsOP/typeConstraint/claims.type-constraints_classes.tsv \\\n",
    "    ../../wikidataoas-v4/derived.isastar.tsv.gz \\\n",
    "    ../../constraintsOP/typeConstraint/claims.type-constraints_exceptions_diff_way.tsv \\\n",
    "    --match \"g: (node1)-[nodeProp]->(node2), r: (rLabel)-[]->(relConstVal), m: (rLabel)-[]->(typeConstVal), c: (rLabel)-[]->(parent), d: (node1)-[]->(par), e: (rLabel)-[]->(eNode)\" \\\n",
    "    --where 'nodeProp.label = rLabel and relConstVal = \"Q30208840\" and typeConstVal = \"Q21502408\" and par != parent and node1 != eNode' \\\n",
    "    --return 'nodeProp.id, node1, nodeProp.label, node2, par as `node1;ancestor`' \\\n",
    "    -o ../../constraintsOP/typeConstraint/claims.type-constraints.mandatory.instanceofOrsubclass.incorrect.tsv \\\n",
    "    --graph-cache ~/sqlite3_caches/temp113a.sqlite3.db"
   ]
  },
  {
   "cell_type": "markdown",
   "id": "parliamentary-tiger",
   "metadata": {},
   "source": [
    "## Suggestion Constraints"
   ]
  },
  {
   "cell_type": "markdown",
   "id": "finnish-smile",
   "metadata": {},
   "source": [
    "#### Correct"
   ]
  },
  {
   "cell_type": "code",
   "execution_count": 122,
   "id": "designing-worth",
   "metadata": {},
   "outputs": [],
   "source": [
    "!screen -dm kgtk --debug query -i ../../gdrive-kgtk-dump-2020-12-07/claims.string.tsv.gz \\\n",
    "    ../../constraintsOP/typeConstraint/claims.type-constraints_relation.tsv \\\n",
    "    ../../constraintsOP/typeConstraint/claims.type-constraints_mandSug.tsv \\\n",
    "    ../../constraintsOP/typeConstraint/claims.type-constraints_classes.tsv \\\n",
    "    ../../wikidataoas-v4/derived.P31P279star.tsv.gz \\\n",
    "    ../../constraintsOP/typeConstraint/claims.type-constraints_exceptions_diff_way.tsv \\\n",
    "    --match \"g: (node1)-[nodeProp]->(node2), r: (rLabel)-[]->(relConstVal), m: (rLabel)-[]->(typeConstVal), c: (rLabel)-[]->(parent), d: (node1)-[]->(par), e: (rLabel)-[]->(eNode)\" \\\n",
    "    --where 'nodeProp.label = rLabel and relConstVal = \"Q21503252\" and typeConstVal = \"Q62026391\" and (par = parent or node1 = eNode)' \\\n",
    "    --return 'nodeProp.id, node1, nodeProp.label, node2, par as `node1;ancestor`' \\\n",
    "    -o ../../constraintsOP/typeConstraint/claims.type-constraints.suggestion.instanceOf.correct.tsv \\\n",
    "    --graph-cache ~/sqlite3_caches/temp121.sqlite3.db\n",
    "!screen -dm kgtk --debug query -i ../../gdrive-kgtk-dump-2020-12-07/claims.string.tsv.gz \\\n",
    "    ../../constraintsOP/typeConstraint/claims.type-constraints_relation.tsv \\\n",
    "    ../../constraintsOP/typeConstraint/claims.type-constraints_mandSug.tsv \\\n",
    "    ../../constraintsOP/typeConstraint/claims.type-constraints_classes.tsv \\\n",
    "    ../../wikidataoas-v4/derived.P279star.tsv.gz \\\n",
    "    ../../constraintsOP/typeConstraint/claims.type-constraints_exceptions_diff_way.tsv \\\n",
    "    --match \"g: (node1)-[nodeProp]->(node2), r: (rLabel)-[]->(relConstVal), m: (rLabel)-[]->(typeConstVal), c: (rLabel)-[]->(parent), d: (node1)-[]->(par), e: (rLabel)-[]->(eNode)\" \\\n",
    "    --where 'nodeProp.label = rLabel and relConstVal = \"Q21514624\" and typeConstVal = \"Q62026391\" and (par = parent or node1 = eNode)' \\\n",
    "    --return 'nodeProp.id, node1, nodeProp.label, node2, par as `node1;ancestor`' \\\n",
    "    -o ../../constraintsOP/typeConstraint/claims.type-constraints.suggestion.subclass.correct.tsv \\\n",
    "    --graph-cache ~/sqlite3_caches/temp122.sqlite3.db\n",
    "!screen -dm kgtk --debug query -i ../../gdrive-kgtk-dump-2020-12-07/claims.string.tsv.gz \\\n",
    "    ../../constraintsOP/typeConstraint/claims.type-constraints_relation.tsv \\\n",
    "    ../../constraintsOP/typeConstraint/claims.type-constraints_mandSug.tsv \\\n",
    "    ../../constraintsOP/typeConstraint/claims.type-constraints_classes.tsv \\\n",
    "    ../../wikidataoas-v4/derived.isastar.tsv.gz \\\n",
    "    ../../constraintsOP/typeConstraint/claims.type-constraints_exceptions_diff_way.tsv \\\n",
    "    --match \"g: (node1)-[nodeProp]->(node2), r: (rLabel)-[]->(relConstVal), m: (rLabel)-[]->(typeConstVal), c: (rLabel)-[]->(parent), d: (node1)-[]->(par), e: (rLabel)-[]->(eNode)\" \\\n",
    "    --where 'nodeProp.label = rLabel and relConstVal = \"Q30208840\" and typeConstVal = \"Q62026391\" and (par = parent or node1 = eNode)' \\\n",
    "    --return 'nodeProp.id, node1, nodeProp.label, node2, par as `node1;ancestor`' \\\n",
    "    -o ../../constraintsOP/typeConstraint/claims.type-constraints.suggestion.instanceofOrsubclass.correct.tsv \\\n",
    "    --graph-cache ~/sqlite3_caches/temp123.sqlite3.db"
   ]
  },
  {
   "cell_type": "markdown",
   "id": "selective-spoke",
   "metadata": {},
   "source": [
    "#### Incorrect"
   ]
  },
  {
   "cell_type": "code",
   "execution_count": 123,
   "id": "retired-television",
   "metadata": {},
   "outputs": [],
   "source": [
    "!screen -dm kgtk --debug query -i ../../gdrive-kgtk-dump-2020-12-07/claims.string.tsv.gz \\\n",
    "    ../../constraintsOP/typeConstraint/claims.type-constraints_relation.tsv \\\n",
    "    ../../constraintsOP/typeConstraint/claims.type-constraints_mandSug.tsv \\\n",
    "    ../../constraintsOP/typeConstraint/claims.type-constraints_classes.tsv \\\n",
    "    ../../wikidataoas-v4/derived.P31P279star.tsv.gz \\\n",
    "    ../../constraintsOP/typeConstraint/claims.type-constraints_exceptions_diff_way.tsv \\\n",
    "    --match \"g: (node1)-[nodeProp]->(node2), r: (rLabel)-[]->(relConstVal), m: (rLabel)-[]->(typeConstVal), c: (rLabel)-[]->(parent), d: (node1)-[]->(par), e: (rLabel)-[]->(eNode)\" \\\n",
    "    --where 'nodeProp.label = rLabel and relConstVal = \"Q21503252\" and typeConstVal = \"Q62026391\" and par != parent and node1 != eNode' \\\n",
    "    --return 'nodeProp.id, node1, nodeProp.label, node2, par as `node1;ancestor`' \\\n",
    "    -o ../../constraintsOP/typeConstraint/claims.type-constraints.suggestion.instanceOf.incorrect.tsv \\\n",
    "    --graph-cache ~/sqlite3_caches/temp121a.sqlite3.db\n",
    "!screen -dm kgtk --debug query -i ../../gdrive-kgtk-dump-2020-12-07/claims.string.tsv.gz \\\n",
    "    ../../constraintsOP/typeConstraint/claims.type-constraints_relation.tsv \\\n",
    "    ../../constraintsOP/typeConstraint/claims.type-constraints_mandSug.tsv \\\n",
    "    ../../constraintsOP/typeConstraint/claims.type-constraints_classes.tsv \\\n",
    "    ../../wikidataoas-v4/derived.P279star.tsv.gz \\\n",
    "    ../../constraintsOP/typeConstraint/claims.type-constraints_exceptions_diff_way.tsv \\\n",
    "    --match \"g: (node1)-[nodeProp]->(node2), r: (rLabel)-[]->(relConstVal), m: (rLabel)-[]->(typeConstVal), c: (rLabel)-[]->(parent), d: (node1)-[]->(par), e: (rLabel)-[]->(eNode)\" \\\n",
    "    --where 'nodeProp.label = rLabel and relConstVal = \"Q21514624\" and typeConstVal = \"Q62026391\" and par != parent and node1 != eNode' \\\n",
    "    --return 'nodeProp.id, node1, nodeProp.label, node2, par as `node1;ancestor`' \\\n",
    "    -o ../../constraintsOP/typeConstraint/claims.type-constraints.suggestion.subclass.incorrect.tsv \\\n",
    "    --graph-cache ~/sqlite3_caches/temp122a.sqlite3.db\n",
    "!screen -dm kgtk --debug query -i ../../gdrive-kgtk-dump-2020-12-07/claims.string.tsv.gz \\\n",
    "    ../../constraintsOP/typeConstraint/claims.type-constraints_relation.tsv \\\n",
    "    ../../constraintsOP/typeConstraint/claims.type-constraints_mandSug.tsv \\\n",
    "    ../../constraintsOP/typeConstraint/claims.type-constraints_classes.tsv \\\n",
    "    ../../wikidataoas-v4/derived.isastar.tsv.gz \\\n",
    "    ../../constraintsOP/typeConstraint/claims.type-constraints_exceptions_diff_way.tsv \\\n",
    "    --match \"g: (node1)-[nodeProp]->(node2), r: (rLabel)-[]->(relConstVal), m: (rLabel)-[]->(typeConstVal), c: (rLabel)-[]->(parent), d: (node1)-[]->(par), e: (rLabel)-[]->(eNode)\" \\\n",
    "    --where 'nodeProp.label = rLabel and relConstVal = \"Q30208840\" and typeConstVal = \"Q62026391\" and par != parent and node1 != eNode' \\\n",
    "    --return 'nodeProp.id, node1, nodeProp.label, node2, par as `node1;ancestor`' \\\n",
    "    -o ../../constraintsOP/typeConstraint/claims.type-constraints.suggestion.instanceofOrsubclass.incorrect.tsv \\\n",
    "    --graph-cache ~/sqlite3_caches/temp123a.sqlite3.db"
   ]
  },
  {
   "cell_type": "markdown",
   "id": "filled-nelson",
   "metadata": {},
   "source": [
    "## Normal Constraints"
   ]
  },
  {
   "cell_type": "code",
   "execution_count": 128,
   "id": "local-copying",
   "metadata": {
    "scrolled": true
   },
   "outputs": [],
   "source": [
    "!kgtk ifnotexists -i ../../constraintsOP/typeConstraint/claims.type-constraints_relation.tsv \\\n",
    "    --filter-on ../../constraintsOP/typeConstraint/claims.type-constraints_mandSug.tsv \\\n",
    "    --filter-mode NONE \\\n",
    "    --input-keys node1 label \\\n",
    "    --filter-keys node1 label \\\n",
    "    -o ../../constraintsOP/typeConstraint/claims.type-constraints_mandSug_normalConst.tsv"
   ]
  },
  {
   "cell_type": "code",
   "execution_count": 125,
   "id": "practical-remainder",
   "metadata": {},
   "outputs": [],
   "source": [
    "# !kgtk --debug query -i ../../constraintsOP/typeConstraint/claims.type-constraints_mandSug_normalConst.tsv \\\n",
    "#     --match '(a{constLabel:constLabel,constVal:constVal})-[label]->(node2)' \\\n",
    "#     --return 'label.label as `node1`, constLabel as `label`, constVal as `node2`, max(a) as `node1;exampleQnode`' \\\n",
    "#     -o ../../constraintsOP/typeConstraint/claims.type-constraints_mandSug_normalConst_reformated.tsv \\\n",
    "#     --graph-cache ~/sqlite3_caches/temp1.sqlite3.db"
   ]
  },
  {
   "cell_type": "markdown",
   "id": "documented-dictionary",
   "metadata": {},
   "source": [
    "#### Correct"
   ]
  },
  {
   "cell_type": "code",
   "execution_count": 126,
   "id": "duplicate-screening",
   "metadata": {},
   "outputs": [],
   "source": [
    "!screen -dm kgtk --debug query -i ../../gdrive-kgtk-dump-2020-12-07/claims.string.tsv.gz \\\n",
    "    ../../constraintsOP/typeConstraint/claims.type-constraints_relation.tsv \\\n",
    "    ../../constraintsOP/typeConstraint/claims.type-constraints_mandSug_normalConst.tsv \\\n",
    "    ../../constraintsOP/typeConstraint/claims.type-constraints_classes.tsv \\\n",
    "    ../../wikidataoas-v4/derived.P31P279star.tsv.gz \\\n",
    "    ../../constraintsOP/typeConstraint/claims.type-constraints_exceptions_diff_way.tsv \\\n",
    "    --match \"g: (node1)-[nodeProp]->(node2), r: (rLabel)-[]->(relConstVal), m: (rLabel)-[]->(), c: (rLabel)-[]->(parent), d: (node1)-[]->(par), e: (rLabel)-[]->(eNode)\" \\\n",
    "    --where 'nodeProp.label = rLabel and relConstVal = \"Q21503252\" and (par = parent or node1 = eNode)' \\\n",
    "    --return 'nodeProp.id, node1, nodeProp.label, node2, par as `node1;ancestor`' \\\n",
    "    -o ../../constraintsOP/typeConstraint/claims.type-constraints.normal.instanceOf.correct.tsv \\\n",
    "    --graph-cache ~/sqlite3_caches/temp131.sqlite3.db\n",
    "!screen -dm kgtk --debug query -i ../../gdrive-kgtk-dump-2020-12-07/claims.string.tsv.gz \\\n",
    "    ../../constraintsOP/typeConstraint/claims.type-constraints_relation.tsv \\\n",
    "    ../../constraintsOP/typeConstraint/claims.type-constraints_mandSug_normalConst.tsv \\\n",
    "    ../../constraintsOP/typeConstraint/claims.type-constraints_classes.tsv \\\n",
    "    ../../wikidataoas-v4/derived.P279star.tsv.gz \\\n",
    "    ../../constraintsOP/typeConstraint/claims.type-constraints_exceptions_diff_way.tsv \\\n",
    "    --match \"g: (node1)-[nodeProp]->(node2), r: (rLabel)-[]->(relConstVal), m: (rLabel)-[]->(), c: (rLabel)-[]->(parent), d: (node1)-[]->(par), e: (rLabel)-[]->(eNode)\" \\\n",
    "    --where 'nodeProp.label = rLabel and relConstVal = \"Q21514624\" and (par = parent or node1 = eNode)' \\\n",
    "    --return 'nodeProp.id, node1, nodeProp.label, node2, par as `node1;ancestor`' \\\n",
    "    -o ../../constraintsOP/typeConstraint/claims.type-constraints.normal.subclass.correct.tsv \\\n",
    "    --graph-cache ~/sqlite3_caches/temp132.sqlite3.db\n",
    "!screen -dm kgtk --debug query -i ../../gdrive-kgtk-dump-2020-12-07/claims.string.tsv.gz \\\n",
    "    ../../constraintsOP/typeConstraint/claims.type-constraints_relation.tsv \\\n",
    "    ../../constraintsOP/typeConstraint/claims.type-constraints_mandSug_normalConst.tsv \\\n",
    "    ../../constraintsOP/typeConstraint/claims.type-constraints_classes.tsv \\\n",
    "    ../../wikidataoas-v4/derived.isastar.tsv.gz \\\n",
    "    ../../constraintsOP/typeConstraint/claims.type-constraints_exceptions_diff_way.tsv \\\n",
    "    --match \"g: (node1)-[nodeProp]->(node2), r: (rLabel)-[]->(relConstVal), m: (rLabel)-[]->(), c: (rLabel)-[]->(parent), d: (node1)-[]->(par), e: (rLabel)-[]->(eNode)\" \\\n",
    "    --where 'nodeProp.label = rLabel and relConstVal = \"Q30208840\" and (par = parent or node1 = eNode)' \\\n",
    "    --return 'nodeProp.id, node1, nodeProp.label, node2, par as `node1;ancestor`' \\\n",
    "    -o ../../constraintsOP/typeConstraint/claims.type-constraints.normal.instanceofOrsubclass.correct.tsv \\\n",
    "    --graph-cache ~/sqlite3_caches/temp133.sqlite3.db"
   ]
  },
  {
   "cell_type": "markdown",
   "id": "miniature-shark",
   "metadata": {},
   "source": [
    "#### Incorrect"
   ]
  },
  {
   "cell_type": "code",
   "execution_count": 127,
   "id": "disciplinary-omega",
   "metadata": {},
   "outputs": [],
   "source": [
    "!screen -dm kgtk --debug query -i ../../gdrive-kgtk-dump-2020-12-07/claims.string.tsv.gz \\\n",
    "    ../../constraintsOP/typeConstraint/claims.type-constraints_relation.tsv \\\n",
    "    ../../constraintsOP/typeConstraint/claims.type-constraints_mandSug_normalConst.tsv \\\n",
    "    ../../constraintsOP/typeConstraint/claims.type-constraints_classes.tsv \\\n",
    "    ../../wikidataoas-v4/derived.P31P279star.tsv.gz \\\n",
    "    ../../constraintsOP/typeConstraint/claims.type-constraints_exceptions_diff_way.tsv \\\n",
    "    --match \"g: (node1)-[nodeProp]->(node2), r: (rLabel)-[]->(relConstVal), m: (rLabel)-[]->(), c: (rLabel)-[]->(parent), d: (node1)-[]->(par), e: (rLabel)-[]->(eNode)\" \\\n",
    "    --where 'nodeProp.label = rLabel and relConstVal = \"Q21503252\" and par != parent and node1 != eNode' \\\n",
    "    --return 'nodeProp.id, node1, nodeProp.label, node2, par as `node1;ancestor`' \\\n",
    "    -o ../../constraintsOP/typeConstraint/claims.type-constraints.normal.instanceOf.incorrect.tsv \\\n",
    "    --graph-cache ~/sqlite3_caches/temp131a.sqlite3.db\n",
    "!screen -dm kgtk --debug query -i ../../gdrive-kgtk-dump-2020-12-07/claims.string.tsv.gz \\\n",
    "    ../../constraintsOP/typeConstraint/claims.type-constraints_relation.tsv \\\n",
    "    ../../constraintsOP/typeConstraint/claims.type-constraints_mandSug_normalConst.tsv \\\n",
    "    ../../constraintsOP/typeConstraint/claims.type-constraints_classes.tsv \\\n",
    "    ../../wikidataoas-v4/derived.P279star.tsv.gz \\\n",
    "    ../../constraintsOP/typeConstraint/claims.type-constraints_exceptions_diff_way.tsv \\\n",
    "    --match \"g: (node1)-[nodeProp]->(node2), r: (rLabel)-[]->(relConstVal), m: (rLabel)-[]->(), c: (rLabel)-[]->(parent), d: (node1)-[]->(par), e: (rLabel)-[]->(eNode)\" \\\n",
    "    --where 'nodeProp.label = rLabel and relConstVal = \"Q21514624\" and par != parent and node1 != eNode' \\\n",
    "    --return 'nodeProp.id, node1, nodeProp.label, node2, par as `node1;ancestor`' \\\n",
    "    -o ../../constraintsOP/typeConstraint/claims.type-constraints.normal.subclass.incorrect.tsv \\\n",
    "    --graph-cache ~/sqlite3_caches/temp132a.sqlite3.db\n",
    "!screen -dm kgtk --debug query -i ../../gdrive-kgtk-dump-2020-12-07/claims.string.tsv.gz \\\n",
    "    ../../constraintsOP/typeConstraint/claims.type-constraints_relation.tsv \\\n",
    "    ../../constraintsOP/typeConstraint/claims.type-constraints_mandSug_normalConst.tsv \\\n",
    "    ../../constraintsOP/typeConstraint/claims.type-constraints_classes.tsv \\\n",
    "    ../../wikidataoas-v4/derived.isastar.tsv.gz \\\n",
    "    ../../constraintsOP/typeConstraint/claims.type-constraints_exceptions_diff_way.tsv \\\n",
    "    --match \"g: (node1)-[nodeProp]->(node2), r: (rLabel)-[]->(relConstVal), m: (rLabel)-[]->(), c: (rLabel)-[]->(parent), d: (node1)-[]->(par), e: (rLabel)-[]->(eNode)\" \\\n",
    "    --where 'nodeProp.label = rLabel and relConstVal = \"Q30208840\" and par != parent and node1 != eNode' \\\n",
    "    --return 'nodeProp.id, node1, nodeProp.label, node2, par as `node1;ancestor`' \\\n",
    "    -o ../../constraintsOP/typeConstraint/claims.type-constraints.normal.instanceofOrsubclass.incorrect.tsv \\\n",
    "    --graph-cache ~/sqlite3_caches/temp133a.sqlite3.db"
   ]
  },
  {
   "cell_type": "code",
   "execution_count": null,
   "id": "informative-needle",
   "metadata": {},
   "outputs": [],
   "source": []
  }
 ],
 "metadata": {
  "kernelspec": {
   "display_name": "kgtkEnv",
   "language": "python",
   "name": "kgtkenv"
  },
  "language_info": {
   "codemirror_mode": {
    "name": "ipython",
    "version": 3
   },
   "file_extension": ".py",
   "mimetype": "text/x-python",
   "name": "python",
   "nbconvert_exporter": "python",
   "pygments_lexer": "ipython3",
   "version": "3.8.5"
  }
 },
 "nbformat": 4,
 "nbformat_minor": 5
}
