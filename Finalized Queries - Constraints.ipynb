{
 "cells": [
  {
   "cell_type": "markdown",
   "id": "bulgarian-scotland",
   "metadata": {},
   "source": [
    "# Type Constraint (Domain)"
   ]
  },
  {
   "cell_type": "code",
   "execution_count": 2,
   "id": "logical-simon",
   "metadata": {},
   "outputs": [
    {
     "name": "stdout",
     "output_type": "stream",
     "text": [
      "[2021-03-02 20:40:23 query]: SQL Translation:\r\n",
      "---------------------------------------------\r\n",
      "  SELECT graph_2_c1.\"id\" \"_aLias.id\", graph_2_c1.\"node1\", graph_2_c1.\"label\" \"_aLias.label\", graph_2_c1.\"node2\", graph_4_c3.\"label\" \"_aLias.node1;constLabel\", graph_4_c3.\"node2\" \"_aLias.node1;constVal\"\r\n",
      "     FROM graph_2 AS graph_2_c1, graph_3 AS graph_3_c2, graph_4 AS graph_4_c3\r\n",
      "     WHERE graph_3_c2.\"label\"=?\r\n",
      "     AND graph_3_c2.\"node2\"=?\r\n",
      "     AND ((graph_2_c1.\"label\" = graph_3_c2.\"node1\") AND ((graph_3_c2.\"id\" = graph_4_c3.\"node1\") AND (graph_4_c3.\"label\" IN (?, ?, ?, ?))))\r\n",
      "  PARAS: ['P2302', 'Q21503250', 'P2308', 'P2309', 'P2316', 'P2303']\r\n",
      "---------------------------------------------\r\n"
     ]
    }
   ],
   "source": [
    "!kgtk --debug query -i ../../gdrive-kgtk-dump-2020-12-07/claims.string.tsv.gz \\\n",
    "    ../../gdrive-kgtk-dump-2020-12-07/claims.properties.tsv.gz \\\n",
    "    ../../gdrive-kgtk-dump-2020-12-07/qualifiers.properties.tsv.gz \\\n",
    "    --match \"c: (node1)-[nodeProp]->(node2), p: (nodeProp1)-[nodePropEdge:P2302]->(:Q21503250), q: (nodePropEdge1)-[nodePropEdgeProps]->(val)\" \\\n",
    "    --where 'nodeProp.label = nodeProp1 and nodePropEdge.id = nodePropEdge1 and nodePropEdgeProps.label in [\"P2308\", \"P2309\", \"P2316\", \"P2303\"]' \\\n",
    "    --return 'nodeProp.id as id, node1, nodeProp.label as label, node2, nodePropEdgeProps.label as `node1;constLabel`, val as `node1;constVal`' \\\n",
    "    -o ../../constraintsOP/typeConstraint/claims.type-constraints.tsv \\\n",
    "    --graph-cache ~/sqlite3_caches/temp1.sqlite3.db\n"
   ]
  },
  {
   "cell_type": "code",
   "execution_count": 3,
   "id": "capital-certification",
   "metadata": {},
   "outputs": [
    {
     "name": "stdout",
     "output_type": "stream",
     "text": [
      "[2021-03-02 21:18:48 sqlstore]: DROP graph data table graph_39 from /data/wd-correctness/constraintsOP/claims.type-constraints.tsv\n",
      "[2021-03-02 21:26:04 sqlstore]: IMPORT graph directly into table graph_39 from /data/wd-correctness/constraintsOP/claims.type-constraints.tsv ...\n",
      "[2021-03-02 21:42:12 query]: SQL Translation:\n",
      "---------------------------------------------\n",
      "  SELECT *\n",
      "     FROM graph_39 AS graph_39_c1\n",
      "     WHERE graph_39_c1.\"node1;constLabel\"=graph_39_c1.\"node1;constLabel\"\n",
      "     AND graph_39_c1.\"node1;constVal\"=graph_39_c1.\"node1;constVal\"\n",
      "     AND (graph_39_c1.\"node1;constLabel\" = ?)\n",
      "  PARAS: ['P2309']\n",
      "---------------------------------------------\n"
     ]
    }
   ],
   "source": [
    "!kgtk --debug query -i ../../constraintsOP/typeConstraint/claims.type-constraints.tsv \\\n",
    "    ../../gdrive-kgtk-dump-2020-12-07/claims.wikibase-item.tsv.gz \\\n",
    "    --match '(node1{constLabel:constLabel,constVal:constVal})-[label]->(node2)' \\\n",
    "    --where 'constLabel = \"P2309\"' \\\n",
    "    -o ../../constraintsOP/typeConstraint/claims.type-constraints_relation.tsv"
   ]
  },
  {
   "cell_type": "code",
   "execution_count": null,
   "id": "complicated-philip",
   "metadata": {},
   "outputs": [],
   "source": [
    "!kgtk --debug query -i ../../constraintsOP/typeConstraint/claims.type-constraints.tsv \\\n",
    "    --match '(node1{constLabel:constLabel,constVal:constVal})-[label]->(node2)' \\\n",
    "    --where 'constLabel = \"P2316\"' \\\n",
    "    -o ../../constraintsOP/typeConstraint/claims.type-constraints_mandSug.tsv \\\n",
    "    --graph-cache ~/sqlite3_caches/temp11.sqlite3.db"
   ]
  },
  {
   "cell_type": "code",
   "execution_count": null,
   "id": "hungry-logan",
   "metadata": {},
   "outputs": [
    {
     "name": "stdout",
     "output_type": "stream",
     "text": [
      "[2021-03-02 09:20:10 query]: SQL Translation:\r\n",
      "---------------------------------------------\r\n",
      "  SELECT *\r\n",
      "     FROM graph_39 AS graph_39_c1\r\n",
      "     WHERE graph_39_c1.\"node1;constLabel\"=graph_39_c1.\"node1;constLabel\"\r\n",
      "     AND graph_39_c1.\"node1;constVal\"=graph_39_c1.\"node1;constVal\"\r\n",
      "     AND (graph_39_c1.\"node1;constLabel\" = ?)\r\n",
      "  PARAS: ['P2308']\r\n",
      "---------------------------------------------\r\n"
     ]
    }
   ],
   "source": [
    "!kgtk --debug query -i ../../constraintsOP/typeConstraint/claims.type-constraints.tsv \\\n",
    "    --match '(node1{constLabel:constLabel,constVal:constVal})-[label]->(node2)' \\\n",
    "    --where 'constLabel = \"P2308\"' \\\n",
    "    -o ../../constraintsOP/typeConstraint/claims.type-constraints_classes.tsv \\\n",
    "    --graph-cache ~/sqlite3_caches/temp12.sqlite3.db"
   ]
  },
  {
   "cell_type": "code",
   "execution_count": null,
   "id": "copyrighted-image",
   "metadata": {},
   "outputs": [],
   "source": [
    "!kgtk --debug query -i ../../constraintsOP/typeConstraint/claims.type-constraints.tsv \\\n",
    "    --match '(node1{constLabel:constLabel,constVal:constVal})-[label]->(node2)' \\\n",
    "    --where 'constLabel = \"P2303\"' \\\n",
    "    -o ../../constraintsOP/typeConstraint/claims.type-constraints_exceptions.tsv \\\n",
    "    --graph-cache ~/sqlite3_caches/temp13.sqlite3.db"
   ]
  },
  {
   "cell_type": "markdown",
   "id": "cooperative-wound",
   "metadata": {},
   "source": [
    "## Mandatory Constraints"
   ]
  },
  {
   "cell_type": "code",
   "execution_count": null,
   "id": "perceived-stuff",
   "metadata": {},
   "outputs": [],
   "source": [
    "!kgtk --debug query -i ../../constraintsOP/typeConstraint/claims.type-constraints_relation.tsv \\\n",
    "    ../../constraintsOP/typeConstraint/claims.type-constraints_mandSug.tsv \\\n",
    "    ../../constraintsOP/typeConstraint/claims.type-constraints_classes.tsv \\\n",
    "    ../../wikidataoas-v4/derived.P279star.tsv.gz \\\n",
    "    ../../constraintsOP/typeConstraint/claims.type-constraints_exceptions.tsv \\\n",
    "    --match \"r: (a{constVal:Q21503252})-[rLabel]->(rVal), m: (a{constVal:Q21502408})-[mLabel]->(), c: (a)-[cLabel]->(), w: (a)-[]->(c), e: (eNode)-[eLabel]->()\" \\\n",
    "    --where 'rLabel.label = mLabel.label and mLabel.label = cLabel.label and (c = a.constVal or (rLabel.label = eLabel.label and a = eNode))' \\\n",
    "    --return 'rLabel.id as id, a as node1, rLabel.label as label, rVal as node2, c as `node1;ancestor`' \\\n",
    "    -o ../../constraintsOP/typeConstraint/claims.type-constraints.mandatory.instanceOf.tsv \\\n",
    "    --graph-cache ~/sqlite3_caches/temp12.sqlite3.db"
   ]
  },
  {
   "cell_type": "code",
   "execution_count": null,
   "id": "incorporate-silly",
   "metadata": {},
   "outputs": [],
   "source": [
    "!kgtk --debug query -i ../../constraintsOP/typeConstraint/claims.type-constraints_relation.tsv \\\n",
    "    ../../constraintsOP/typeConstraint/claims.type-constraints_mandSug.tsv \\\n",
    "    ../../constraintsOP/typeConstraint/claims.type-constraints_classes.tsv \\\n",
    "    ../../wikidataoas-v4/derived.P279star.tsv.gz \\\n",
    "    ../../constraintsOP/typeConstraint/claims.type-constraints_exceptions.tsv \\\n",
    "    --match \"r: (a{constVal:Q21514624})-[rLabel]->(rVal), m: (a{constVal:Q21502408})-[mLabel]->(), c: (a)-[cLabel]->(), w: (a)-[]->(c), e: (eNode)-[eLabel]->()\" \\\n",
    "    --where 'rLabel.label = mLabel.label and mLabel.label = cLabel.label and (c = a.constVal or (rLabel.label = eLabel.label and a = eNode))' \\\n",
    "    --return 'rLabel.id as id, a as node1, rLabel.label as label, rVal as node2, c as `node1;ancestor`' \\\n",
    "    -o ../../constraintsOP/typeConstraint/claims.type-constraints.mandatory.subclass.tsv \\\n",
    "    --graph-cache ~/sqlite3_caches/temp12.sqlite3.db"
   ]
  },
  {
   "cell_type": "code",
   "execution_count": null,
   "id": "moral-statistics",
   "metadata": {},
   "outputs": [],
   "source": [
    "!kgtk --debug query -i ../../wikidataoas-v4/derived.isastar.tsv.gz \\\n",
    "    ../../constraintsOP/typeConstraint/claims.type-constraints_relation.tsv \\\n",
    "    ../../constraintsOP/typeConstraint/claims.type-constraints_mandSug.tsv \\\n",
    "    ../../constraintsOP/typeConstraint/claims.type-constraints_classes.tsv \\\n",
    "    --match \"w: (a)-[]->(c), r: (a)-[]->(:Q30208840), m: (a)-[]->(:Q21502408), l: (a)-[]->(c)\" \\\n",
    "    -o ../../constraintsOP/typeConstraint/claims.type-constraints.mandatory.subclass.tsv \\\n",
    "    --graph-cache ~/sqlite3_caches/temp13.sqlite3.db"
   ]
  },
  {
   "cell_type": "markdown",
   "id": "professional-climb",
   "metadata": {},
   "source": [
    "## Suggestion Constraints"
   ]
  },
  {
   "cell_type": "code",
   "execution_count": null,
   "id": "hourly-wagon",
   "metadata": {},
   "outputs": [],
   "source": [
    "!kgtk --debug query -i ../../wikidataoas-v4/derived.P31P279star.tsv.gz \\\n",
    "    ../../constraintsOP/typeConstraint/claims.type-constraints_relation.tsv \\\n",
    "    ../../constraintsOP/typeConstraint/claims.type-constraints_mandSug.tsv \\\n",
    "    ../../constraintsOP/typeConstraint/claims.type-constraints_classes.tsv \\\n",
    "    --match \"w: (a)-[]->(c), r: (a)-[]->(:Q21503252), m: (a)-[]->(:Q62026391), l: (a)-[]->(c)\" \\\n",
    "    -o ../../constraintsOP/typeConstraint/claims.type-constraints.suggestion.instanceOf.tsv \\\n",
    "    --graph-cache ~/sqlite3_caches/temp21.sqlite3.db"
   ]
  },
  {
   "cell_type": "code",
   "execution_count": null,
   "id": "impaired-temple",
   "metadata": {},
   "outputs": [],
   "source": [
    "!kgtk --debug query -i ../../wikidataoas-v4/derived.P279star.tsv.gz \\\n",
    "    ../../constraintsOP/typeConstraint/claims.type-constraints_relation.tsv \\\n",
    "    ../../constraintsOP/typeConstraint/claims.type-constraints_mandSug.tsv \\\n",
    "    ../../constraintsOP/typeConstraint/claims.type-constraints_classes.tsv \\\n",
    "    --match \"w: (a)-[]->(c), r: (a)-[]->(:Q21514624), m: (a)-[]->(:Q62026391), l: (a)-[]->(c)\" \\\n",
    "    -o ../../constraintsOP/typeConstraint/claims.type-constraints.suggestion.subclass.tsv \\\n",
    "    --graph-cache ~/sqlite3_caches/temp22.sqlite3.db"
   ]
  },
  {
   "cell_type": "code",
   "execution_count": null,
   "id": "humanitarian-arcade",
   "metadata": {},
   "outputs": [],
   "source": [
    "!kgtk --debug query -i ../../wikidataoas-v4/derived.isastar.tsv.gz \\\n",
    "    ../../constraintsOP/typeConstraint/claims.type-constraints_relation.tsv \\\n",
    "    ../../constraintsOP/typeConstraint/claims.type-constraints_mandSug.tsv \\\n",
    "    ../../constraintsOP/typeConstraint/claims.type-constraints_classes.tsv \\\n",
    "    --match \"w: (a)-[]->(c), r: (a)-[]->(:Q30208840), m: (a)-[]->(:Q62026391), l: (a)-[]->(c)\" \\\n",
    "    -o ../../constraintsOP/typeConstraint/claims.type-constraints.suggestion.subclass.tsv \\\n",
    "    --graph-cache ~/sqlite3_caches/temp23.sqlite3.db"
   ]
  },
  {
   "cell_type": "markdown",
   "id": "interested-recorder",
   "metadata": {},
   "source": [
    "## Normal Constraints"
   ]
  },
  {
   "cell_type": "code",
   "execution_count": 4,
   "id": "graduate-electricity",
   "metadata": {},
   "outputs": [
    {
     "name": "stdout",
     "output_type": "stream",
     "text": [
      "^C\r\n",
      "\r\n",
      "Keyboard interrupt in ifnotexists -i ../../constraintsOP/claims.type-constraints_relation.tsv --filter-on ../../constraintsOP/claims.type-constraints_mandSug.tsv --filter-mode NONE --input-keys node1 --filter-keys node1 -o ../../constraintsOP/claims.type-constraints_normalConst.tsv.\r\n"
     ]
    }
   ],
   "source": [
    "!kgtk ifnotexists -i ../../constraintsOP/typeConstraint/claims.type-constraints_relation.tsv \\\n",
    "    --filter-on ../../constraintsOP/typeConstraint/claims.type-constraints_mandSug.tsv \\\n",
    "    --filter-mode NONE \\\n",
    "    --input-keys node1 \\\n",
    "    --filter-keys node1 \\\n",
    "    -o ../../constraintsOP/typeConstraint/claims.type-constraints_normalConst.tsv"
   ]
  },
  {
   "cell_type": "code",
   "execution_count": null,
   "id": "general-people",
   "metadata": {},
   "outputs": [],
   "source": []
  },
  {
   "cell_type": "code",
   "execution_count": null,
   "id": "exact-spotlight",
   "metadata": {},
   "outputs": [],
   "source": []
  }
 ],
 "metadata": {
  "kernelspec": {
   "display_name": "kgtkEnv",
   "language": "python",
   "name": "kgtkenv"
  }
 },
 "nbformat": 4,
 "nbformat_minor": 5
}
