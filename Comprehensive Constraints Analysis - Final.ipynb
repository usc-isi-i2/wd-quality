{
 "cells": [
  {
   "cell_type": "markdown",
   "id": "korean-footage",
   "metadata": {},
   "source": [
    "# Comprehensive Constraints Analysis - Final\n",
    "\n",
    "In this notebook, for the original dataset, the violations are determined in total."
   ]
  },
  {
   "cell_type": "code",
   "execution_count": 1,
   "id": "juvenile-ability",
   "metadata": {},
   "outputs": [
    {
     "data": {
      "application/vnd.jupyter.widget-view+json": {
       "model_id": "349f5cc52068481facf1df0e1bdece67",
       "version_major": 2,
       "version_minor": 0
      },
      "text/plain": [
       "  0%|          | 0/1149471184 [00:00<?, ?it/s]"
      ]
     },
     "metadata": {},
     "output_type": "display_data"
    }
   ],
   "source": [
    "import gzip\n",
    "from tqdm.notebook import tqdm\n",
    "propFileDict = {}\n",
    "fileLineCount = 1149471184\n",
    "with gzip.open('../../gdrive-kgtk-dump-2020-12-07/claims.tsv.gz','r') as fin: \n",
    "    headerLine = next(fin).decode(\"utf-8\")\n",
    "#     tstCount = 0\n",
    "    for line in tqdm(fin, total = fileLineCount):\n",
    "        line = line.decode(\"utf-8\")\n",
    "        lineP = line.rstrip().split(\"\\t\")\n",
    "        if \"external-id\" in lineP[-1]:\n",
    "            continue\n",
    "        prop = lineP[2]\n",
    "        if prop not in propFileDict:\n",
    "            propFileDict[prop] = open(\"../../propertiesSplit_Final/claims.\"+str(prop)+\".tsv\",\"w\")\n",
    "            propFileDict[prop].write(headerLine)\n",
    "        propFileDict[prop].write(line)\n",
    "#         tstCount += 1\n",
    "#         if tstCount == 10:\n",
    "#             break\n",
    "    for file1 in propFileDict.values():\n",
    "        file1.close()"
   ]
  },
  {
   "cell_type": "markdown",
   "id": "matched-strength",
   "metadata": {},
   "source": [
    "# Generate Queries"
   ]
  },
  {
   "cell_type": "markdown",
   "id": "black-insured",
   "metadata": {},
   "source": [
    "## Type Constraint\n",
    "\n",
    "Type constraint indicates that node1 must be an instance of or subclass of the class specified."
   ]
  },
  {
   "cell_type": "markdown",
   "id": "interior-humor",
   "metadata": {},
   "source": [
    "### Understand Constraints File"
   ]
  },
  {
   "cell_type": "code",
   "execution_count": 2,
   "id": "brown-packing",
   "metadata": {},
   "outputs": [
    {
     "name": "stdout",
     "output_type": "stream",
     "text": [
      "[2021-05-10 20:16:55 sqlstore]: IMPORT graph directly into table graph_1 from /data/wd-correctness/gdrive-kgtk-dump-2020-12-07/claims.properties.tsv.gz ...\n",
      "[2021-05-10 20:16:55 sqlstore]: IMPORT graph directly into table graph_2 from /data/wd-correctness/gdrive-kgtk-dump-2020-12-07/qualifiers.properties.tsv.gz ...\n",
      "[2021-05-10 20:16:56 query]: SQL Translation:\n",
      "---------------------------------------------\n",
      "  SELECT graph_1_c1.\"id\" \"_aLias.id\", graph_1_c1.\"node1\" \"_aLias.node1\", graph_2_c2.\"label\" \"_aLias.label\", graph_2_c2.\"node2\" \"_aLias.node2\", graph_1_c1.\"node2;wikidatatype\" \"_aLias.node2;wikidatatype\"\n",
      "     FROM graph_1 AS graph_1_c1, graph_2 AS graph_2_c2\n",
      "     WHERE graph_1_c1.\"label\"=?\n",
      "     AND graph_1_c1.\"node2;wikidatatype\"=graph_1_c1.\"node2;wikidatatype\"\n",
      "     AND ((graph_1_c1.\"id\" = graph_2_c2.\"node1\") AND (graph_1_c1.\"node2\" = ?))\n",
      "  PARAS: ['P2302', 'Q21503250']\n",
      "---------------------------------------------\n",
      "[2021-05-10 20:16:56 sqlstore]: CREATE INDEX on table graph_1 column label ...\n",
      "[2021-05-10 20:16:56 sqlstore]: ANALYZE INDEX on table graph_1 column label ...\n"
     ]
    }
   ],
   "source": [
    "!kgtk --debug query -i ../../gdrive-kgtk-dump-2020-12-07/claims.properties.tsv.gz \\\n",
    "    ../../gdrive-kgtk-dump-2020-12-07/qualifiers.properties.tsv.gz \\\n",
    "    --match \"p: (nodeProp1)-[nodePropEdge:P2302]->(nodeabc{wikidatatype:wikidatatype}), q: (nodePropEdge1)-[nodePropEdgeProps]->(val)\" \\\n",
    "    --where 'nodePropEdge.id = nodePropEdge1 and nodeabc = \"Q21503250\"' \\\n",
    "    --return 'nodePropEdge.id as id, nodeProp1 as node1, nodePropEdgeProps.label as label, val as node2, wikidatatype as `node2;wikidatatype`' \\\n",
    "    -o ../../constraintsOP/typeConstraint/claims.type-constraints_all.tsv \\\n",
    "    --graph-cache ../../sqlite3_caches/temp156.sqlite3.db"
   ]
  },
  {
   "cell_type": "code",
   "execution_count": 7,
   "id": "clinical-brunei",
   "metadata": {},
   "outputs": [],
   "source": [
    "import pandas as pd\n",
    "df = pd.read_csv('../../constraintsOP/typeConstraint/claims.type-constraints_all.tsv',sep='\\t')"
   ]
  },
  {
   "cell_type": "code",
   "execution_count": 8,
   "id": "assured-cleaners",
   "metadata": {},
   "outputs": [],
   "source": [
    "df1 = df.groupby(['node1','label']).node2.apply(lambda p: p.tolist()).reset_index()"
   ]
  },
  {
   "cell_type": "code",
   "execution_count": 9,
   "id": "sharing-evolution",
   "metadata": {},
   "outputs": [
    {
     "data": {
      "text/html": [
       "<div>\n",
       "<style scoped>\n",
       "    .dataframe tbody tr th:only-of-type {\n",
       "        vertical-align: middle;\n",
       "    }\n",
       "\n",
       "    .dataframe tbody tr th {\n",
       "        vertical-align: top;\n",
       "    }\n",
       "\n",
       "    .dataframe thead th {\n",
       "        text-align: right;\n",
       "    }\n",
       "</style>\n",
       "<table border=\"1\" class=\"dataframe\">\n",
       "  <thead>\n",
       "    <tr style=\"text-align: right;\">\n",
       "      <th></th>\n",
       "      <th>node1</th>\n",
       "      <th>label</th>\n",
       "      <th>node2</th>\n",
       "    </tr>\n",
       "  </thead>\n",
       "  <tbody>\n",
       "    <tr>\n",
       "      <th>0</th>\n",
       "      <td>P1001</td>\n",
       "      <td>P2308</td>\n",
       "      <td>[Q102496, Q105985, Q1140371, Q1151067, Q119768...</td>\n",
       "    </tr>\n",
       "    <tr>\n",
       "      <th>1</th>\n",
       "      <td>P1001</td>\n",
       "      <td>P2309</td>\n",
       "      <td>[Q30208840]</td>\n",
       "    </tr>\n",
       "    <tr>\n",
       "      <th>2</th>\n",
       "      <td>P1002</td>\n",
       "      <td>P2308</td>\n",
       "      <td>[Q630010]</td>\n",
       "    </tr>\n",
       "    <tr>\n",
       "      <th>3</th>\n",
       "      <td>P1002</td>\n",
       "      <td>P2309</td>\n",
       "      <td>[Q21514624]</td>\n",
       "    </tr>\n",
       "    <tr>\n",
       "      <th>4</th>\n",
       "      <td>P1004</td>\n",
       "      <td>P2308</td>\n",
       "      <td>[Q2221906, Q23413, Q3947, Q41176, Q88291]</td>\n",
       "    </tr>\n",
       "  </tbody>\n",
       "</table>\n",
       "</div>"
      ],
      "text/plain": [
       "   node1  label                                              node2\n",
       "0  P1001  P2308  [Q102496, Q105985, Q1140371, Q1151067, Q119768...\n",
       "1  P1001  P2309                                        [Q30208840]\n",
       "2  P1002  P2308                                          [Q630010]\n",
       "3  P1002  P2309                                        [Q21514624]\n",
       "4  P1004  P2308          [Q2221906, Q23413, Q3947, Q41176, Q88291]"
      ]
     },
     "execution_count": 9,
     "metadata": {},
     "output_type": "execute_result"
    }
   ],
   "source": [
    "df1.head()"
   ]
  },
  {
   "cell_type": "code",
   "execution_count": 10,
   "id": "still-trail",
   "metadata": {},
   "outputs": [
    {
     "data": {
      "text/html": [
       "<div>\n",
       "<style scoped>\n",
       "    .dataframe tbody tr th:only-of-type {\n",
       "        vertical-align: middle;\n",
       "    }\n",
       "\n",
       "    .dataframe tbody tr th {\n",
       "        vertical-align: top;\n",
       "    }\n",
       "\n",
       "    .dataframe thead th {\n",
       "        text-align: right;\n",
       "    }\n",
       "</style>\n",
       "<table border=\"1\" class=\"dataframe\">\n",
       "  <thead>\n",
       "    <tr style=\"text-align: right;\">\n",
       "      <th></th>\n",
       "      <th>node1</th>\n",
       "      <th>label</th>\n",
       "      <th>node2</th>\n",
       "    </tr>\n",
       "  </thead>\n",
       "  <tbody>\n",
       "    <tr>\n",
       "      <th>9318</th>\n",
       "      <td>P8138</td>\n",
       "      <td>P2308</td>\n",
       "      <td>[Q27096213]</td>\n",
       "    </tr>\n",
       "    <tr>\n",
       "      <th>9319</th>\n",
       "      <td>P8138</td>\n",
       "      <td>P2309</td>\n",
       "      <td>[Q21514624]</td>\n",
       "    </tr>\n",
       "  </tbody>\n",
       "</table>\n",
       "</div>"
      ],
      "text/plain": [
       "      node1  label        node2\n",
       "9318  P8138  P2308  [Q27096213]\n",
       "9319  P8138  P2309  [Q21514624]"
      ]
     },
     "execution_count": 10,
     "metadata": {},
     "output_type": "execute_result"
    }
   ],
   "source": [
    "df1[df1['node1'] == 'P8138']"
   ]
  },
  {
   "cell_type": "markdown",
   "id": "solid-browser",
   "metadata": {},
   "source": [
    "### Query Generator"
   ]
  },
  {
   "cell_type": "code",
   "execution_count": 14,
   "id": "bright-impossible",
   "metadata": {},
   "outputs": [
    {
     "data": {
      "application/vnd.jupyter.widget-view+json": {
       "model_id": "5d29b6306baa42f2ac3d05865c80f312",
       "version_major": 2,
       "version_minor": 0
      },
      "text/plain": [
       "  0%|          | 0/4810 [00:00<?, ?it/s]"
      ]
     },
     "metadata": {},
     "output_type": "display_data"
    },
    {
     "name": "stdout",
     "output_type": "stream",
     "text": [
      "Something failed for prop: P1249\n",
      "Something failed for prop: P6790\n"
     ]
    }
   ],
   "source": [
    "from tqdm.notebook import tqdm\n",
    "import os.path\n",
    "import os\n",
    "\n",
    "cnt = 0\n",
    "fCnt = 1\n",
    "\n",
    "fOP = None\n",
    "\n",
    "for prop in tqdm(df1.node1.unique()):\n",
    "    try:\n",
    "        if not(os.path.isfile(\"../../propertiesSplit_Final/claims.\"+ prop +\".tsv\")):\n",
    "            continue\n",
    "        relation = df1[(df1['node1'] == prop) & (df1['label'] == 'P2309')].node2.values[0][0]\n",
    "        type1 = df1[(df1['node1'] == prop) & (df1['label'] == 'P2316')].node2.values\n",
    "#         print(type1)\n",
    "\n",
    "        parents = df1[(df1['node1'] == prop) & (df1['label'] == 'P2308')].node2.values[0]\n",
    "        exceptions = df1[(df1['node1'] == prop) & (df1['label'] == 'P2303')].node2.values\n",
    "        \n",
    "        if relation == \"Q21503252\":\n",
    "            parentFile = \"P31\"\n",
    "            parentTitle = 'instanceOf'\n",
    "        elif relation == \"Q21514624\":\n",
    "            parentFile = \"P279\"\n",
    "            parentTitle = 'subclass'\n",
    "        else:\n",
    "            parentFile = \"isa\"\n",
    "            parentTitle = 'instanceOfOrSubclass'\n",
    "\n",
    "        if len(type1) != 0 and type1[0][0] == \"Q21502408\":\n",
    "            typeVal = \"mandatory\"\n",
    "        elif len(type1) != 0 and type1[0][0] == \"Q62026391\":\n",
    "            typeVal = \"suggestion\"\n",
    "        else:\n",
    "            typeVal = \"normal\"\n",
    "\n",
    "        if len(exceptions):\n",
    "            exceptionPart = \"or node1 in \" + str(exceptions[0]).replace(\"'\",'\"')\n",
    "        else:\n",
    "            exceptionPart = \"\"\n",
    "        \n",
    "        folderName = 'typeConstraint'\n",
    "        shellFileSuffix = 'typeConstraintValidator'\n",
    "        \n",
    "        if cnt % 150 == 0:\n",
    "            if fOP:\n",
    "                fOP.close()\n",
    "            fOP = open(\"../../propertiesSplit_Final/checkViolations/\" + shellFileSuffix + str(fCnt) + \".sh\",\"w\")\n",
    "            fCnt += 1\n",
    "        \n",
    "        fOP.write(\"{ time (kgtk --debug query -i ../../propertiesSplit_Final/claims.\"+ prop +\".tsv \\\n",
    "        ../../wikidata-20210215/derived.\" + parentFile + \".tsv.gz \\\n",
    "        ../../wikidata-20210215/derived.P279star.tsv.gz \\\n",
    "        --match 'm: (node1)-[nodeProp]->(node2), \" + parentFile + \": (node1)-[]->(nodex), P279star: (nodex)-[]->(par)' \\\n",
    "        --where 'par in \" + str(parents).replace(\"'\",'\"') + \" \" + exceptionPart + \"' \\\n",
    "        --return 'distinct nodeProp.id, node1 as `node1`, nodeProp.label as `label`, node2 as `node2`' \\\n",
    "        -o ../../allConstraintsAnalysis_Final/\" + folderName + \"/\" + typeVal + \"/claims.type-constraints.\" + parentTitle + \".\"+ prop +\".correct_temp.tsv \\\n",
    "        --graph-cache ../../sqlite3_caches/type_new_\" + str(fCnt) + \".sqlite3.db; \\\n",
    "         kgtk --debug ifnotexists -i ../../propertiesSplit_Final/claims.\"+ prop +\".tsv \\\n",
    "        --filter-on ../../allConstraintsAnalysis_Final/\" + folderName + \"/\" + typeVal + \"/claims.type-constraints.\" + parentTitle + \".\"+ prop +\".correct_temp.tsv \\\n",
    "        -o ../../allConstraintsAnalysis_Final/\" + folderName + \"/\" + typeVal + \"/claims.type-constraints.\" + parentTitle + \".\"+ prop +\".incorrect_temp.tsv ;\\\n",
    "        kgtk --debug query -i ../../allConstraintsAnalysis_Final/\" + folderName + \"/\" + typeVal + \"/claims.type-constraints.\" + parentTitle + \".\"+ prop +\".incorrect_temp.tsv \\\n",
    "        ../../wikidata-20210215/derived.\" + parentFile + \".tsv.gz \\\n",
    "        --match 'm: (node1)-[nodeProp]->(node2), \" + parentFile + \": (node1)-[]->(par)' \\\n",
    "        --where 'par in \" + str(parents).replace(\"'\",'\"') + \" \" + exceptionPart + \"' \\\n",
    "        --return 'distinct nodeProp.id, node1 as `node1`, nodeProp.label as `label`, node2 as `node2`' \\\n",
    "        -o ../../allConstraintsAnalysis_Final/\" + folderName + \"/\" + typeVal + \"/claims.type-constraints.\" + parentTitle + \".\"+ prop +\".correct_temp2.tsv \\\n",
    "        --graph-cache ../../sqlite3_caches/type_new_\" + str(fCnt) + \".sqlite3.db; \\\n",
    "         kgtk --debug ifnotexists -i ../../allConstraintsAnalysis_Final/\" + folderName + \"/\" + typeVal + \"/claims.type-constraints.\" + parentTitle + \".\"+ prop +\".incorrect_temp.tsv \\\n",
    "        --filter-on ../../allConstraintsAnalysis_Final/\" + folderName + \"/\" + typeVal + \"/claims.type-constraints.\" + parentTitle + \".\"+ prop +\".correct_temp2.tsv \\\n",
    "        -o ../../allConstraintsAnalysis_Final/\" + folderName + \"/\" + typeVal + \"/claims.type-constraints.\" + parentTitle + \".\"+ prop +\".incorrect.tsv ; \\\n",
    "         kgtk --debug cat -i ../../allConstraintsAnalysis_Final/\" + folderName + \"/\" + typeVal + \"/claims.type-constraints.\" + parentTitle + \".\"+ prop +\".correct_temp.tsv \\\n",
    "        ../../allConstraintsAnalysis_Final/\" + folderName + \"/\" + typeVal + \"/claims.type-constraints.\" + parentTitle + \".\"+ prop +\".correct_temp2.tsv \\\n",
    "        -o ../../allConstraintsAnalysis_Final/\" + folderName + \"/\" + typeVal + \"/claims.type-constraints.\" + parentTitle + \".\"+ prop +\".correct.tsv ; \\\n",
    "        ) } 2>> ../../propertiesSplit_Final/checkViolations/exec_logs/\" + shellFileSuffix + str(fCnt) + \".txt;\\n\")\n",
    "\n",
    "        cnt += 1\n",
    "    except:\n",
    "        print(\"Something failed for prop:\",prop)\n",
    "\n",
    "if fOP:\n",
    "    fOP.close()"
   ]
  },
  {
   "cell_type": "code",
   "execution_count": 15,
   "id": "electrical-agreement",
   "metadata": {},
   "outputs": [
    {
     "data": {
      "text/plain": [
       "1456"
      ]
     },
     "execution_count": 15,
     "metadata": {},
     "output_type": "execute_result"
    }
   ],
   "source": [
    "cnt"
   ]
  },
  {
   "cell_type": "code",
   "execution_count": 16,
   "id": "outside-stupid",
   "metadata": {},
   "outputs": [],
   "source": [
    "# import os\n",
    "# for i in range(1,14):\n",
    "#     os.system(\"screen -dm sh ../../propertiesSplit_Final/checkViolations/typeConstraintValidator\"+str(i)+\".sh\")\n",
    "    "
   ]
  },
  {
   "cell_type": "markdown",
   "id": "competitive-canvas",
   "metadata": {},
   "source": [
    "### Analyze Violations"
   ]
  },
  {
   "cell_type": "code",
   "execution_count": 2,
   "id": "casual-perth",
   "metadata": {},
   "outputs": [
    {
     "data": {
      "application/vnd.jupyter.widget-view+json": {
       "model_id": "eab7c7290e7748a1b59fbedaa7537bad",
       "version_major": 2,
       "version_minor": 0
      },
      "text/plain": [
       "0it [00:00, ?it/s]"
      ]
     },
     "metadata": {},
     "output_type": "display_data"
    },
    {
     "data": {
      "application/vnd.jupyter.widget-view+json": {
       "model_id": "7da52562efb548ef9209ef336c1922ab",
       "version_major": 2,
       "version_minor": 0
      },
      "text/plain": [
       "  0%|          | 0/825 [00:00<?, ?it/s]"
      ]
     },
     "metadata": {},
     "output_type": "display_data"
    },
    {
     "data": {
      "application/vnd.jupyter.widget-view+json": {
       "model_id": "3cf38a90180c483b805b65a71892b10b",
       "version_major": 2,
       "version_minor": 0
      },
      "text/plain": [
       "  0%|          | 0/55 [00:00<?, ?it/s]"
      ]
     },
     "metadata": {},
     "output_type": "display_data"
    },
    {
     "data": {
      "application/vnd.jupyter.widget-view+json": {
       "model_id": "e761a56b4c9c426ca936dff29115a31d",
       "version_major": 2,
       "version_minor": 0
      },
      "text/plain": [
       "  0%|          | 0/6400 [00:00<?, ?it/s]"
      ]
     },
     "metadata": {},
     "output_type": "display_data"
    }
   ],
   "source": [
    "import pandas as pd\n",
    "import os\n",
    "from tqdm.notebook import tqdm\n",
    "\n",
    "typeConstViolations = {}\n",
    "\n",
    "def countLines(fname):\n",
    "    cnt = -1\n",
    "    with open(fname, 'r') as f:\n",
    "        for line in f:\n",
    "            cnt += 1\n",
    "    return cnt\n",
    "\n",
    "propList = set()\n",
    "\n",
    "violations = {}\n",
    "\n",
    "for folder in tqdm(iter(['mandatory', 'suggestion', 'normal'])):\n",
    "    typeConstViolations[folder] = {'instanceOf': {'correct': 0, 'incorrect': 0}, 'subclass': {'correct': 0, 'incorrect': 0}, 'instanceOfOrSubclass': {'correct': 0, 'incorrect': 0},'propCount': 0}\n",
    "    filePath = \"../../allConstraintsAnalysis_Final/typeConstraint/\"+folder+\"/\"\n",
    "    for filename in tqdm(os.listdir(filePath)):\n",
    "        type1 = filename.split(\".\")[2]\n",
    "        prop = filename.split(\".\")[3]\n",
    "        propList.add(prop)\n",
    "        correctness = filename.split(\".\")[4]\n",
    "        count1 = countLines(filePath+filename)\n",
    "        if correctness not in ['correct','incorrect']:\n",
    "            continue\n",
    "        typeConstViolations[folder][type1][correctness] += count1\n",
    "        if prop not in violations:\n",
    "            violations[prop] = {'correct': 0, 'incorrect': 0, 'paths': []}\n",
    "        violations[prop][correctness] = count1\n",
    "        violations[prop]['paths'].append(filePath+filename)\n",
    "        if correctness == 'correct':\n",
    "            typeConstViolations[folder]['propCount'] += 1\n",
    "        "
   ]
  },
  {
   "cell_type": "code",
   "execution_count": 3,
   "id": "golden-affiliate",
   "metadata": {},
   "outputs": [
    {
     "name": "stdout",
     "output_type": "stream",
     "text": [
      "1456 properties processed for type constraint for 513424170 statements\n"
     ]
    }
   ],
   "source": [
    "recordCount = 0\n",
    "for elem in typeConstViolations.keys():\n",
    "    for key1 in typeConstViolations[elem].keys():\n",
    "        try:\n",
    "            recordCount += typeConstViolations[elem][key1]['correct'] + typeConstViolations[elem][key1]['incorrect']\n",
    "        except:\n",
    "            continue\n",
    "print(f\"{len(propList)} properties processed for type constraint for {recordCount} statements\")"
   ]
  },
  {
   "cell_type": "code",
   "execution_count": 4,
   "id": "needed-portfolio",
   "metadata": {},
   "outputs": [],
   "source": [
    "import pandas as pd\n",
    "typeConstDF = pd.DataFrame(violations).T"
   ]
  },
  {
   "cell_type": "code",
   "execution_count": 5,
   "id": "lesser-thomson",
   "metadata": {},
   "outputs": [],
   "source": [
    "typeConstDF['violation_ratio'] = typeConstDF.apply(lambda p: p.incorrect / (p.correct + p.incorrect), axis=1)"
   ]
  },
  {
   "cell_type": "code",
   "execution_count": 6,
   "id": "flying-context",
   "metadata": {},
   "outputs": [
    {
     "data": {
      "text/html": [
       "<div>\n",
       "<style scoped>\n",
       "    .dataframe tbody tr th:only-of-type {\n",
       "        vertical-align: middle;\n",
       "    }\n",
       "\n",
       "    .dataframe tbody tr th {\n",
       "        vertical-align: top;\n",
       "    }\n",
       "\n",
       "    .dataframe thead th {\n",
       "        text-align: right;\n",
       "    }\n",
       "</style>\n",
       "<table border=\"1\" class=\"dataframe\">\n",
       "  <thead>\n",
       "    <tr style=\"text-align: right;\">\n",
       "      <th></th>\n",
       "      <th>correct</th>\n",
       "      <th>incorrect</th>\n",
       "      <th>paths</th>\n",
       "      <th>violation_ratio</th>\n",
       "    </tr>\n",
       "  </thead>\n",
       "  <tbody>\n",
       "    <tr>\n",
       "      <th>P8379</th>\n",
       "      <td>29</td>\n",
       "      <td>3</td>\n",
       "      <td>[../../allConstraintsAnalysis_Final/typeConstr...</td>\n",
       "      <td>0.093750</td>\n",
       "    </tr>\n",
       "    <tr>\n",
       "      <th>P5105</th>\n",
       "      <td>1919</td>\n",
       "      <td>95</td>\n",
       "      <td>[../../allConstraintsAnalysis_Final/typeConstr...</td>\n",
       "      <td>0.047170</td>\n",
       "    </tr>\n",
       "    <tr>\n",
       "      <th>P720</th>\n",
       "      <td>403</td>\n",
       "      <td>0</td>\n",
       "      <td>[../../allConstraintsAnalysis_Final/typeConstr...</td>\n",
       "      <td>0.000000</td>\n",
       "    </tr>\n",
       "    <tr>\n",
       "      <th>P3022</th>\n",
       "      <td>3743</td>\n",
       "      <td>0</td>\n",
       "      <td>[../../allConstraintsAnalysis_Final/typeConstr...</td>\n",
       "      <td>0.000000</td>\n",
       "    </tr>\n",
       "    <tr>\n",
       "      <th>P512</th>\n",
       "      <td>101717</td>\n",
       "      <td>95</td>\n",
       "      <td>[../../allConstraintsAnalysis_Final/typeConstr...</td>\n",
       "      <td>0.000933</td>\n",
       "    </tr>\n",
       "  </tbody>\n",
       "</table>\n",
       "</div>"
      ],
      "text/plain": [
       "      correct incorrect                                              paths  \\\n",
       "P8379      29         3  [../../allConstraintsAnalysis_Final/typeConstr...   \n",
       "P5105    1919        95  [../../allConstraintsAnalysis_Final/typeConstr...   \n",
       "P720      403         0  [../../allConstraintsAnalysis_Final/typeConstr...   \n",
       "P3022    3743         0  [../../allConstraintsAnalysis_Final/typeConstr...   \n",
       "P512   101717        95  [../../allConstraintsAnalysis_Final/typeConstr...   \n",
       "\n",
       "       violation_ratio  \n",
       "P8379         0.093750  \n",
       "P5105         0.047170  \n",
       "P720          0.000000  \n",
       "P3022         0.000000  \n",
       "P512          0.000933  "
      ]
     },
     "execution_count": 6,
     "metadata": {},
     "output_type": "execute_result"
    }
   ],
   "source": [
    "typeConstDF.head()"
   ]
  },
  {
   "cell_type": "code",
   "execution_count": 7,
   "id": "competitive-peeing",
   "metadata": {},
   "outputs": [
    {
     "data": {
      "text/html": [
       "<div>\n",
       "<style scoped>\n",
       "    .dataframe tbody tr th:only-of-type {\n",
       "        vertical-align: middle;\n",
       "    }\n",
       "\n",
       "    .dataframe tbody tr th {\n",
       "        vertical-align: top;\n",
       "    }\n",
       "\n",
       "    .dataframe thead th {\n",
       "        text-align: right;\n",
       "    }\n",
       "</style>\n",
       "<table border=\"1\" class=\"dataframe\">\n",
       "  <thead>\n",
       "    <tr style=\"text-align: right;\">\n",
       "      <th></th>\n",
       "      <th>correct</th>\n",
       "      <th>incorrect</th>\n",
       "      <th>paths</th>\n",
       "      <th>violation_ratio</th>\n",
       "    </tr>\n",
       "  </thead>\n",
       "  <tbody>\n",
       "    <tr>\n",
       "      <th>P8138</th>\n",
       "      <td>0</td>\n",
       "      <td>461</td>\n",
       "      <td>[../../allConstraintsAnalysis_Final/typeConstr...</td>\n",
       "      <td>1.0</td>\n",
       "    </tr>\n",
       "    <tr>\n",
       "      <th>P5051</th>\n",
       "      <td>0</td>\n",
       "      <td>64</td>\n",
       "      <td>[../../allConstraintsAnalysis_Final/typeConstr...</td>\n",
       "      <td>1.0</td>\n",
       "    </tr>\n",
       "    <tr>\n",
       "      <th>P2303</th>\n",
       "      <td>0</td>\n",
       "      <td>39</td>\n",
       "      <td>[../../allConstraintsAnalysis_Final/typeConstr...</td>\n",
       "      <td>1.0</td>\n",
       "    </tr>\n",
       "    <tr>\n",
       "      <th>P1227</th>\n",
       "      <td>0</td>\n",
       "      <td>19</td>\n",
       "      <td>[../../allConstraintsAnalysis_Final/typeConstr...</td>\n",
       "      <td>1.0</td>\n",
       "    </tr>\n",
       "    <tr>\n",
       "      <th>P2308</th>\n",
       "      <td>0</td>\n",
       "      <td>17</td>\n",
       "      <td>[../../allConstraintsAnalysis_Final/typeConstr...</td>\n",
       "      <td>1.0</td>\n",
       "    </tr>\n",
       "    <tr>\n",
       "      <th>P6001</th>\n",
       "      <td>0</td>\n",
       "      <td>16</td>\n",
       "      <td>[../../allConstraintsAnalysis_Final/typeConstr...</td>\n",
       "      <td>1.0</td>\n",
       "    </tr>\n",
       "    <tr>\n",
       "      <th>P8738</th>\n",
       "      <td>0</td>\n",
       "      <td>14</td>\n",
       "      <td>[../../allConstraintsAnalysis_Final/typeConstr...</td>\n",
       "      <td>1.0</td>\n",
       "    </tr>\n",
       "    <tr>\n",
       "      <th>P538</th>\n",
       "      <td>0</td>\n",
       "      <td>10</td>\n",
       "      <td>[../../allConstraintsAnalysis_Final/typeConstr...</td>\n",
       "      <td>1.0</td>\n",
       "    </tr>\n",
       "    <tr>\n",
       "      <th>P8004</th>\n",
       "      <td>0</td>\n",
       "      <td>6</td>\n",
       "      <td>[../../allConstraintsAnalysis_Final/typeConstr...</td>\n",
       "      <td>1.0</td>\n",
       "    </tr>\n",
       "    <tr>\n",
       "      <th>P5589</th>\n",
       "      <td>0</td>\n",
       "      <td>4</td>\n",
       "      <td>[../../allConstraintsAnalysis_Final/typeConstr...</td>\n",
       "      <td>1.0</td>\n",
       "    </tr>\n",
       "    <tr>\n",
       "      <th>P6510</th>\n",
       "      <td>0</td>\n",
       "      <td>4</td>\n",
       "      <td>[../../allConstraintsAnalysis_Final/typeConstr...</td>\n",
       "      <td>1.0</td>\n",
       "    </tr>\n",
       "    <tr>\n",
       "      <th>P7174</th>\n",
       "      <td>0</td>\n",
       "      <td>3</td>\n",
       "      <td>[../../allConstraintsAnalysis_Final/typeConstr...</td>\n",
       "      <td>1.0</td>\n",
       "    </tr>\n",
       "    <tr>\n",
       "      <th>P6014</th>\n",
       "      <td>0</td>\n",
       "      <td>3</td>\n",
       "      <td>[../../allConstraintsAnalysis_Final/typeConstr...</td>\n",
       "      <td>1.0</td>\n",
       "    </tr>\n",
       "    <tr>\n",
       "      <th>P817</th>\n",
       "      <td>0</td>\n",
       "      <td>3</td>\n",
       "      <td>[../../allConstraintsAnalysis_Final/typeConstr...</td>\n",
       "      <td>1.0</td>\n",
       "    </tr>\n",
       "    <tr>\n",
       "      <th>P4882</th>\n",
       "      <td>0</td>\n",
       "      <td>3</td>\n",
       "      <td>[../../allConstraintsAnalysis_Final/typeConstr...</td>\n",
       "      <td>1.0</td>\n",
       "    </tr>\n",
       "  </tbody>\n",
       "</table>\n",
       "</div>"
      ],
      "text/plain": [
       "      correct incorrect                                              paths  \\\n",
       "P8138       0       461  [../../allConstraintsAnalysis_Final/typeConstr...   \n",
       "P5051       0        64  [../../allConstraintsAnalysis_Final/typeConstr...   \n",
       "P2303       0        39  [../../allConstraintsAnalysis_Final/typeConstr...   \n",
       "P1227       0        19  [../../allConstraintsAnalysis_Final/typeConstr...   \n",
       "P2308       0        17  [../../allConstraintsAnalysis_Final/typeConstr...   \n",
       "P6001       0        16  [../../allConstraintsAnalysis_Final/typeConstr...   \n",
       "P8738       0        14  [../../allConstraintsAnalysis_Final/typeConstr...   \n",
       "P538        0        10  [../../allConstraintsAnalysis_Final/typeConstr...   \n",
       "P8004       0         6  [../../allConstraintsAnalysis_Final/typeConstr...   \n",
       "P5589       0         4  [../../allConstraintsAnalysis_Final/typeConstr...   \n",
       "P6510       0         4  [../../allConstraintsAnalysis_Final/typeConstr...   \n",
       "P7174       0         3  [../../allConstraintsAnalysis_Final/typeConstr...   \n",
       "P6014       0         3  [../../allConstraintsAnalysis_Final/typeConstr...   \n",
       "P817        0         3  [../../allConstraintsAnalysis_Final/typeConstr...   \n",
       "P4882       0         3  [../../allConstraintsAnalysis_Final/typeConstr...   \n",
       "\n",
       "       violation_ratio  \n",
       "P8138              1.0  \n",
       "P5051              1.0  \n",
       "P2303              1.0  \n",
       "P1227              1.0  \n",
       "P2308              1.0  \n",
       "P6001              1.0  \n",
       "P8738              1.0  \n",
       "P538               1.0  \n",
       "P8004              1.0  \n",
       "P5589              1.0  \n",
       "P6510              1.0  \n",
       "P7174              1.0  \n",
       "P6014              1.0  \n",
       "P817               1.0  \n",
       "P4882              1.0  "
      ]
     },
     "execution_count": 7,
     "metadata": {},
     "output_type": "execute_result"
    }
   ],
   "source": [
    "typeConstDF.sort_values(by=['violation_ratio','incorrect'],ascending=False).head(15)"
   ]
  },
  {
   "cell_type": "code",
   "execution_count": 8,
   "id": "clinical-lawsuit",
   "metadata": {},
   "outputs": [
    {
     "data": {
      "text/plain": [
       "count    1456.000000\n",
       "mean        0.100094\n",
       "std         0.222405\n",
       "min         0.000000\n",
       "25%         0.000708\n",
       "50%         0.009036\n",
       "75%         0.061943\n",
       "max         1.000000\n",
       "Name: violation_ratio, dtype: float64"
      ]
     },
     "execution_count": 8,
     "metadata": {},
     "output_type": "execute_result"
    }
   ],
   "source": [
    "typeConstDF['violation_ratio'].describe()"
   ]
  },
  {
   "cell_type": "code",
   "execution_count": 9,
   "id": "wanted-domestic",
   "metadata": {},
   "outputs": [
    {
     "data": {
      "text/plain": [
       "Text(0.5, 1.0, 'Type Constraint Violation Ratios')"
      ]
     },
     "execution_count": 9,
     "metadata": {},
     "output_type": "execute_result"
    },
    {
     "data": {
      "image/png": "[encoded data removed]",
      "text/plain": [
       "<Figure size 432x288 with 1 Axes>"
      ]
     },
     "metadata": {
      "needs_background": "light"
     },
     "output_type": "display_data"
    }
   ],
   "source": [
    "typeConstDF['violation_ratio'].plot.hist(bins=100).set_title(\"Type Constraint Violation Ratios\")"
   ]
  },
  {
   "cell_type": "code",
   "execution_count": 10,
   "id": "sufficient-hollywood",
   "metadata": {},
   "outputs": [
    {
     "data": {
      "text/plain": [
       "Text(0.5, 1.0, 'Type Constraint Violation Ratios (<=0.05)')"
      ]
     },
     "execution_count": 10,
     "metadata": {},
     "output_type": "execute_result"
    },
    {
     "data": {
      "image/png": "[encoded data removed]",
      "text/plain": [
       "<Figure size 432x288 with 1 Axes>"
      ]
     },
     "metadata": {
      "needs_background": "light"
     },
     "output_type": "display_data"
    }
   ],
   "source": [
    "typeConstDF[typeConstDF['violation_ratio'] <= 0.05].violation_ratio.plot.hist(bins=100).set_title(\"Type Constraint Violation Ratios (<=0.05)\")"
   ]
  },
  {
   "cell_type": "code",
   "execution_count": 11,
   "id": "minor-marshall",
   "metadata": {},
   "outputs": [
    {
     "name": "stdout",
     "output_type": "stream",
     "text": [
      "No. of constraints whose violation ratio is greater than mean :0/1456\n"
     ]
    }
   ],
   "source": [
    "print(f\"No. of constraints whose violation ratio is greater than mean :{sum(typeConstDF['violation_ratio'] >= 5.286054)}/{len(typeConstDF)}\")"
   ]
  },
  {
   "cell_type": "code",
   "execution_count": 12,
   "id": "revolutionary-violence",
   "metadata": {},
   "outputs": [],
   "source": [
    "for key1 in typeConstViolations.keys():\n",
    "    typeConstViolations[key1]['correct'] = typeConstViolations[key1]['instanceOf']['correct'] + typeConstViolations[key1]['subclass']['correct'] + typeConstViolations[key1]['instanceOfOrSubclass']['correct']\n",
    "    typeConstViolations[key1]['incorrect'] = typeConstViolations[key1]['instanceOf']['incorrect'] + typeConstViolations[key1]['subclass']['incorrect'] + typeConstViolations[key1]['instanceOfOrSubclass']['incorrect']\n",
    "    typeConstViolations[key1]['VR'] = typeConstViolations[key1]['incorrect'] / (typeConstViolations[key1]['correct'] + typeConstViolations[key1]['incorrect'])\n",
    "        "
   ]
  },
  {
   "cell_type": "code",
   "execution_count": 13,
   "id": "emotional-favorite",
   "metadata": {
    "scrolled": false
   },
   "outputs": [
    {
     "data": {
      "text/plain": [
       "{'mandatory': {'instanceOf': {'correct': 44771087, 'incorrect': 37435},\n",
       "  'subclass': {'correct': 1966, 'incorrect': 30},\n",
       "  'instanceOfOrSubclass': {'correct': 221394, 'incorrect': 204},\n",
       "  'propCount': 165,\n",
       "  'correct': 44994447,\n",
       "  'incorrect': 37669,\n",
       "  'VR': 0.0008364918939185536},\n",
       " 'suggestion': {'instanceOf': {'correct': 61720, 'incorrect': 18709},\n",
       "  'subclass': {'correct': 0, 'incorrect': 0},\n",
       "  'instanceOfOrSubclass': {'correct': 23314, 'incorrect': 2939},\n",
       "  'propCount': 11,\n",
       "  'correct': 85034,\n",
       "  'incorrect': 21648,\n",
       "  'VR': 0.20292083013066872},\n",
       " 'normal': {'instanceOf': {'correct': 398242129, 'incorrect': 3281243},\n",
       "  'subclass': {'correct': 96605, 'incorrect': 9501},\n",
       "  'instanceOfOrSubclass': {'correct': 66370309, 'incorrect': 285585},\n",
       "  'propCount': 1280,\n",
       "  'correct': 464709043,\n",
       "  'incorrect': 3576329,\n",
       "  'VR': 0.007637071781093346}}"
      ]
     },
     "execution_count": 13,
     "metadata": {},
     "output_type": "execute_result"
    }
   ],
   "source": [
    "typeConstViolations"
   ]
  },
  {
   "cell_type": "code",
   "execution_count": 14,
   "id": "aggregate-impact",
   "metadata": {},
   "outputs": [
    {
     "data": {
      "text/html": [
       "<div>\n",
       "<style scoped>\n",
       "    .dataframe tbody tr th:only-of-type {\n",
       "        vertical-align: middle;\n",
       "    }\n",
       "\n",
       "    .dataframe tbody tr th {\n",
       "        vertical-align: top;\n",
       "    }\n",
       "\n",
       "    .dataframe thead th {\n",
       "        text-align: right;\n",
       "    }\n",
       "</style>\n",
       "<table border=\"1\" class=\"dataframe\">\n",
       "  <thead>\n",
       "    <tr style=\"text-align: right;\">\n",
       "      <th></th>\n",
       "      <th>correct</th>\n",
       "      <th>incorrect</th>\n",
       "      <th>paths</th>\n",
       "      <th>violation_ratio</th>\n",
       "      <th>total</th>\n",
       "    </tr>\n",
       "  </thead>\n",
       "  <tbody>\n",
       "    <tr>\n",
       "      <th>P2093</th>\n",
       "      <td>134805165</td>\n",
       "      <td>543246</td>\n",
       "      <td>[../../allConstraintsAnalysis_Final/typeConstr...</td>\n",
       "      <td>0.004014</td>\n",
       "      <td>135348411</td>\n",
       "    </tr>\n",
       "    <tr>\n",
       "      <th>P1476</th>\n",
       "      <td>39898142</td>\n",
       "      <td>1858292</td>\n",
       "      <td>[../../allConstraintsAnalysis_Final/typeConstr...</td>\n",
       "      <td>0.044503</td>\n",
       "      <td>41756434</td>\n",
       "    </tr>\n",
       "    <tr>\n",
       "      <th>P577</th>\n",
       "      <td>38855314</td>\n",
       "      <td>33977</td>\n",
       "      <td>[../../allConstraintsAnalysis_Final/typeConstr...</td>\n",
       "      <td>0.000874</td>\n",
       "      <td>38889291</td>\n",
       "    </tr>\n",
       "    <tr>\n",
       "      <th>P1433</th>\n",
       "      <td>36723283</td>\n",
       "      <td>12050</td>\n",
       "      <td>[../../allConstraintsAnalysis_Final/typeConstr...</td>\n",
       "      <td>0.000328</td>\n",
       "      <td>36735333</td>\n",
       "    </tr>\n",
       "    <tr>\n",
       "      <th>P1215</th>\n",
       "      <td>33099195</td>\n",
       "      <td>24104</td>\n",
       "      <td>[../../allConstraintsAnalysis_Final/typeConstr...</td>\n",
       "      <td>0.000728</td>\n",
       "      <td>33123299</td>\n",
       "    </tr>\n",
       "  </tbody>\n",
       "</table>\n",
       "</div>"
      ],
      "text/plain": [
       "         correct incorrect                                              paths  \\\n",
       "P2093  134805165    543246  [../../allConstraintsAnalysis_Final/typeConstr...   \n",
       "P1476   39898142   1858292  [../../allConstraintsAnalysis_Final/typeConstr...   \n",
       "P577    38855314     33977  [../../allConstraintsAnalysis_Final/typeConstr...   \n",
       "P1433   36723283     12050  [../../allConstraintsAnalysis_Final/typeConstr...   \n",
       "P1215   33099195     24104  [../../allConstraintsAnalysis_Final/typeConstr...   \n",
       "\n",
       "       violation_ratio      total  \n",
       "P2093         0.004014  135348411  \n",
       "P1476         0.044503   41756434  \n",
       "P577          0.000874   38889291  \n",
       "P1433         0.000328   36735333  \n",
       "P1215         0.000728   33123299  "
      ]
     },
     "execution_count": 14,
     "metadata": {},
     "output_type": "execute_result"
    }
   ],
   "source": [
    "typeConstDF['total'] = typeConstDF['correct'] + typeConstDF['incorrect']\n",
    "typeConstDF.sort_values(by=['total'],ascending=False).head()"
   ]
  },
  {
   "cell_type": "code",
   "execution_count": 15,
   "id": "grateful-telling",
   "metadata": {},
   "outputs": [],
   "source": [
    "typeConstDF.to_csv('../../allConstraintsAnalysis_Final/typeConstDFAnalysis.csv')"
   ]
  },
  {
   "cell_type": "markdown",
   "id": "bearing-kruger",
   "metadata": {},
   "source": [
    "### Find out time required"
   ]
  },
  {
   "cell_type": "code",
   "execution_count": 124,
   "id": "veterinary-fault",
   "metadata": {},
   "outputs": [
    {
     "data": {
      "application/vnd.jupyter.widget-view+json": {
       "model_id": "9b0ae1938e10429e8c42a485d82b5dcf",
       "version_major": 2,
       "version_minor": 0
      },
      "text/plain": [
       "  0%|          | 0/52 [00:00<?, ?it/s]"
      ]
     },
     "metadata": {},
     "output_type": "display_data"
    }
   ],
   "source": [
    "import pandas as pd\n",
    "import os\n",
    "from tqdm.notebook import tqdm\n",
    "\n",
    "codepConstViolations = {}\n",
    "\n",
    "codepConstViolations = {}\n",
    "codepConstPropList = set()\n",
    "\n",
    "def extractTimes(filename):\n",
    "    times = []\n",
    "    with open(filename) as f:\n",
    "        for line in f:\n",
    "            if \"real\" in line:\n",
    "                line = line.strip()\n",
    "                time1 = line.split(\"\\t\")[1]\n",
    "                mins, sec = time1.split(\"m\")\n",
    "                mins = int(mins)\n",
    "                sec = float(sec[:-1])\n",
    "                times.append(60 * mins + sec)\n",
    "    return times\n",
    "\n",
    "# codepConstViolationsSummary = {}\n",
    "times = []\n",
    "filePath = '/data/wd-correctness/propertiesSplit_Final/checkViolations/exec_logs/'\n",
    "for filename in tqdm(os.listdir(filePath)):\n",
    "    if filename.startswith(\"typeConstraintValidator\"):\n",
    "        tempTimes = extractTimes(filePath + filename)\n",
    "        times += tempTimes"
   ]
  },
  {
   "cell_type": "code",
   "execution_count": 125,
   "id": "infinite-assembly",
   "metadata": {},
   "outputs": [
    {
     "name": "stdout",
     "output_type": "stream",
     "text": [
      "count    1456.000000\n",
      "mean      366.161277\n",
      "std       486.075212\n",
      "min         4.953000\n",
      "25%       102.821500\n",
      "50%       174.777000\n",
      "75%       455.812750\n",
      "max      5231.151000\n",
      "dtype: float64\n"
     ]
    }
   ],
   "source": [
    "print(pd.Series(times).describe())"
   ]
  },
  {
   "cell_type": "code",
   "execution_count": 126,
   "id": "opened-essex",
   "metadata": {},
   "outputs": [
    {
     "data": {
      "text/plain": [
       "Text(0.5, 1.0, 'Distribution of times (in s) taken for type constraint checks')"
      ]
     },
     "execution_count": 126,
     "metadata": {},
     "output_type": "execute_result"
    },
    {
     "data": {
      "image/png": "[encoded data removed]",
      "text/plain": [
       "<Figure size 432x288 with 1 Axes>"
      ]
     },
     "metadata": {
      "needs_background": "light"
     },
     "output_type": "display_data"
    }
   ],
   "source": [
    "import seaborn as sns\n",
    "sns.lineplot(data=pd.Series(times)).set_title(\"Distribution of times (in s) taken for type constraint checks\")"
   ]
  },
  {
   "cell_type": "markdown",
   "id": "intense-computer",
   "metadata": {},
   "source": [
    "## Value Type Constraint\n",
    "\n",
    "Here, the constraint indicates that node2 must be an instance of or subclass of the specified class"
   ]
  },
  {
   "cell_type": "markdown",
   "id": "animated-companion",
   "metadata": {},
   "source": [
    "### Understand Constraints File"
   ]
  },
  {
   "cell_type": "code",
   "execution_count": 17,
   "id": "preceding-distribution",
   "metadata": {},
   "outputs": [
    {
     "name": "stdout",
     "output_type": "stream",
     "text": [
      "[2021-05-10 20:31:12 sqlstore]: IMPORT graph directly into table graph_1 from /data/wd-correctness/gdrive-kgtk-dump-2020-12-07/claims.properties.tsv.gz ...\n",
      "[2021-05-10 20:31:14 sqlstore]: IMPORT graph directly into table graph_2 from /data/wd-correctness/gdrive-kgtk-dump-2020-12-07/qualifiers.properties.tsv.gz ...\n",
      "[2021-05-10 20:31:15 query]: SQL Translation:\n",
      "---------------------------------------------\n",
      "  SELECT graph_1_c1.\"id\" \"_aLias.id\", graph_1_c1.\"node1\" \"_aLias.node1\", graph_2_c2.\"label\" \"_aLias.label\", graph_2_c2.\"node2\" \"_aLias.node2\", graph_1_c1.\"node2;wikidatatype\" \"_aLias.node2;wikidatatype\"\n",
      "     FROM graph_1 AS graph_1_c1, graph_2 AS graph_2_c2\n",
      "     WHERE graph_1_c1.\"label\"=?\n",
      "     AND graph_1_c1.\"node2;wikidatatype\"=graph_1_c1.\"node2;wikidatatype\"\n",
      "     AND ((graph_1_c1.\"id\" = graph_2_c2.\"node1\") AND (graph_1_c1.\"node2\" = ?))\n",
      "  PARAS: ['P2302', 'Q21510865']\n",
      "---------------------------------------------\n",
      "[2021-05-10 20:31:15 sqlstore]: CREATE INDEX on table graph_1 column label ...\n",
      "[2021-05-10 20:31:15 sqlstore]: ANALYZE INDEX on table graph_1 column label ...\n"
     ]
    }
   ],
   "source": [
    "!kgtk --debug query -i ../../gdrive-kgtk-dump-2020-12-07/claims.properties.tsv.gz \\\n",
    "    ../../gdrive-kgtk-dump-2020-12-07/qualifiers.properties.tsv.gz \\\n",
    "    --match \"p: (nodeProp1)-[nodePropEdge:P2302]->(nodeabc{wikidatatype:wikidatatype}), q: (nodePropEdge1)-[nodePropEdgeProps]->(val)\" \\\n",
    "    --where 'nodePropEdge.id = nodePropEdge1 and nodeabc = \"Q21510865\"' \\\n",
    "    --return 'nodePropEdge.id as id, nodeProp1 as node1, nodePropEdgeProps.label as label, val as node2, wikidatatype as `node2;wikidatatype`' \\\n",
    "    -o ../../constraintsOP/valuetypeConstraint/claims.type-constraints_all1.tsv \\\n",
    "    --graph-cache ../../sqlite3_caches/temp1345.valuetype.sqlite3.db"
   ]
  },
  {
   "cell_type": "code",
   "execution_count": 18,
   "id": "static-profit",
   "metadata": {},
   "outputs": [],
   "source": [
    "import pandas as pd\n",
    "dfValueType = pd.read_csv('../../constraintsOP/valuetypeConstraint/claims.type-constraints_all1.tsv',sep='\\t')"
   ]
  },
  {
   "cell_type": "code",
   "execution_count": 19,
   "id": "worthy-malawi",
   "metadata": {},
   "outputs": [],
   "source": [
    "dfValueType = dfValueType.groupby(['node1','label']).node2.apply(lambda p: p.tolist()).reset_index()"
   ]
  },
  {
   "cell_type": "code",
   "execution_count": 20,
   "id": "eleven-tiffany",
   "metadata": {},
   "outputs": [
    {
     "data": {
      "text/html": [
       "<div>\n",
       "<style scoped>\n",
       "    .dataframe tbody tr th:only-of-type {\n",
       "        vertical-align: middle;\n",
       "    }\n",
       "\n",
       "    .dataframe tbody tr th {\n",
       "        vertical-align: top;\n",
       "    }\n",
       "\n",
       "    .dataframe thead th {\n",
       "        text-align: right;\n",
       "    }\n",
       "</style>\n",
       "<table border=\"1\" class=\"dataframe\">\n",
       "  <thead>\n",
       "    <tr style=\"text-align: right;\">\n",
       "      <th></th>\n",
       "      <th>node1</th>\n",
       "      <th>label</th>\n",
       "      <th>node2</th>\n",
       "    </tr>\n",
       "  </thead>\n",
       "  <tbody>\n",
       "    <tr>\n",
       "      <th>0</th>\n",
       "      <td>P1000</td>\n",
       "      <td>P2308</td>\n",
       "      <td>[Q1241356]</td>\n",
       "    </tr>\n",
       "    <tr>\n",
       "      <th>1</th>\n",
       "      <td>P1000</td>\n",
       "      <td>P2309</td>\n",
       "      <td>[Q30208840]</td>\n",
       "    </tr>\n",
       "    <tr>\n",
       "      <th>2</th>\n",
       "      <td>P1001</td>\n",
       "      <td>P2308</td>\n",
       "      <td>[Q20926517, Q2881272, Q2882257, Q3624078, Q389...</td>\n",
       "    </tr>\n",
       "    <tr>\n",
       "      <th>3</th>\n",
       "      <td>P1001</td>\n",
       "      <td>P2309</td>\n",
       "      <td>[Q30208840]</td>\n",
       "    </tr>\n",
       "    <tr>\n",
       "      <th>4</th>\n",
       "      <td>P1002</td>\n",
       "      <td>P2308</td>\n",
       "      <td>[Q2576663]</td>\n",
       "    </tr>\n",
       "  </tbody>\n",
       "</table>\n",
       "</div>"
      ],
      "text/plain": [
       "   node1  label                                              node2\n",
       "0  P1000  P2308                                         [Q1241356]\n",
       "1  P1000  P2309                                        [Q30208840]\n",
       "2  P1001  P2308  [Q20926517, Q2881272, Q2882257, Q3624078, Q389...\n",
       "3  P1001  P2309                                        [Q30208840]\n",
       "4  P1002  P2308                                         [Q2576663]"
      ]
     },
     "execution_count": 20,
     "metadata": {},
     "output_type": "execute_result"
    }
   ],
   "source": [
    "dfValueType.head()"
   ]
  },
  {
   "cell_type": "code",
   "execution_count": 21,
   "id": "expired-stuff",
   "metadata": {},
   "outputs": [
    {
     "data": {
      "text/plain": [
       "array(['P2308', 'P2309', 'P2303', 'P2316', 'P6607', 'P2304'], dtype=object)"
      ]
     },
     "execution_count": 21,
     "metadata": {},
     "output_type": "execute_result"
    }
   ],
   "source": [
    "dfValueType['label'].unique()"
   ]
  },
  {
   "cell_type": "markdown",
   "id": "digital-harvard",
   "metadata": {},
   "source": [
    "### Query Generator"
   ]
  },
  {
   "cell_type": "code",
   "execution_count": 55,
   "id": "white-badge",
   "metadata": {},
   "outputs": [
    {
     "data": {
      "application/vnd.jupyter.widget-view+json": {
       "model_id": "113614976cb74d2ba2e2f42741d14d93",
       "version_major": 2,
       "version_minor": 0
      },
      "text/plain": [
       "  0%|          | 0/932 [00:00<?, ?it/s]"
      ]
     },
     "metadata": {},
     "output_type": "display_data"
    },
    {
     "name": "stdout",
     "output_type": "stream",
     "text": [
      "Something failed for prop: P1389\n"
     ]
    }
   ],
   "source": [
    "from tqdm.notebook import tqdm\n",
    "import os.path\n",
    "import os\n",
    "\n",
    "cnt = 0\n",
    "fCnt = 1\n",
    "\n",
    "fOP = None\n",
    "\n",
    "for prop in tqdm(dfValueType.node1.unique()):\n",
    "    try:\n",
    "        if not(os.path.isfile(\"../../propertiesSplit_Final/claims.\"+ prop +\".tsv\")):\n",
    "            continue\n",
    "        relation = dfValueType[(dfValueType['node1'] == prop) & (dfValueType['label'] == 'P2309')].node2.values[0][0]\n",
    "        type1 = dfValueType[(dfValueType['node1'] == prop) & (dfValueType['label'] == 'P2316')].node2.values\n",
    "#         print(type1)\n",
    "\n",
    "        parents = dfValueType[(dfValueType['node1'] == prop) & (dfValueType['label'] == 'P2308')].node2.values[0]\n",
    "        exceptions = dfValueType[(dfValueType['node1'] == prop) & (dfValueType['label'] == 'P2303')].node2.values\n",
    "        \n",
    "        if relation == \"Q21503252\":\n",
    "            parentFile = \"P31\"\n",
    "            parentTitle = 'instanceOf'\n",
    "        elif relation == \"Q21514624\":\n",
    "            parentFile = \"P279\"\n",
    "            parentTitle = 'subclass'\n",
    "        else:\n",
    "            parentFile = \"isa\"\n",
    "            parentTitle = 'instanceOfOrSubclass'\n",
    "\n",
    "        if len(type1) != 0 and type1[0][0] == \"Q21502408\":\n",
    "            typeVal = \"mandatory\"\n",
    "        elif len(type1) != 0 and type1[0][0] == \"Q62026391\":\n",
    "            typeVal = \"suggestion\"\n",
    "        else:\n",
    "            typeVal = \"normal\"\n",
    "\n",
    "        if len(exceptions):\n",
    "            exceptionPart = \"or node2 in \" + str(exceptions[0]).replace(\"'\",'\"')\n",
    "        else:\n",
    "            exceptionPart = \"\"\n",
    "        \n",
    "        folderName = 'valueTypeConstraint'\n",
    "        shellFileSuffix = 'valueTypeConstraintValidator'\n",
    "        \n",
    "        if cnt % 120 == 0:\n",
    "            if fOP:\n",
    "                fOP.close()\n",
    "            fOP = open(\"../../propertiesSplit_Final/checkViolations/\" + shellFileSuffix + str(fCnt) + \".sh\",\"w\")\n",
    "            fCnt += 1\n",
    "        \n",
    "        fOP.write(\"{ time (kgtk --debug query -i ../../propertiesSplit_Final/claims.\"+ prop +\".tsv \\\n",
    "        ../../wikidata-20210215/derived.\" + parentFile + \".tsv.gz \\\n",
    "        ../../wikidata-20210215/derived.P279star.tsv.gz \\\n",
    "        --match 'm: (node1)-[nodeProp]->(node2), \" + parentFile + \": (node2)-[]->(nodex), P279star: (nodex)-[]->(par)' \\\n",
    "        --where 'par in \" + str(parents).replace(\"'\",'\"') + \" \" + exceptionPart + \"' \\\n",
    "        --return 'distinct nodeProp.id, node1 as `node1`, nodeProp.label as `label`, node2 as `node2`' \\\n",
    "        -o ../../allConstraintsAnalysis_Final/\" + folderName + \"/\" + typeVal + \"/claims.type-constraints.\" + parentTitle + \".\"+ prop +\".correct_temp.tsv \\\n",
    "        --graph-cache ../../sqlite3_caches/valueType_new_\" + str(fCnt) + \".sqlite3.db; \\\n",
    "         kgtk --debug ifnotexists -i ../../propertiesSplit_Final/claims.\"+ prop +\".tsv \\\n",
    "        --filter-on ../../allConstraintsAnalysis_Final/\" + folderName + \"/\" + typeVal + \"/claims.type-constraints.\" + parentTitle + \".\"+ prop +\".correct_temp.tsv \\\n",
    "        -o ../../allConstraintsAnalysis_Final/\" + folderName + \"/\" + typeVal + \"/claims.type-constraints.\" + parentTitle + \".\"+ prop +\".incorrect_temp.tsv ;\\\n",
    "        kgtk --debug query -i ../../allConstraintsAnalysis_Final/\" + folderName + \"/\" + typeVal + \"/claims.type-constraints.\" + parentTitle + \".\"+ prop +\".incorrect_temp.tsv \\\n",
    "        ../../wikidata-20210215/derived.\" + parentFile + \".tsv.gz \\\n",
    "        --match 'm: (node1)-[nodeProp]->(node2), \" + parentFile + \": (node2)-[]->(par)' \\\n",
    "        --where 'par in \" + str(parents).replace(\"'\",'\"') + \" \" + exceptionPart + \"' \\\n",
    "        --return 'distinct nodeProp.id, node1 as `node1`, nodeProp.label as `label`, node2 as `node2`' \\\n",
    "        -o ../../allConstraintsAnalysis_Final/\" + folderName + \"/\" + typeVal + \"/claims.type-constraints.\" + parentTitle + \".\"+ prop +\".correct_temp2.tsv \\\n",
    "        --graph-cache ../../sqlite3_caches/valueType_new_\" + str(fCnt) + \".sqlite3.db; \\\n",
    "         kgtk --debug ifnotexists -i ../../allConstraintsAnalysis_Final/\" + folderName + \"/\" + typeVal + \"/claims.type-constraints.\" + parentTitle + \".\"+ prop +\".incorrect_temp.tsv \\\n",
    "        --filter-on ../../allConstraintsAnalysis_Final/\" + folderName + \"/\" + typeVal + \"/claims.type-constraints.\" + parentTitle + \".\"+ prop +\".correct_temp2.tsv \\\n",
    "        -o ../../allConstraintsAnalysis_Final/\" + folderName + \"/\" + typeVal + \"/claims.type-constraints.\" + parentTitle + \".\"+ prop +\".incorrect.tsv ; \\\n",
    "         kgtk --debug cat -i ../../allConstraintsAnalysis_Final/\" + folderName + \"/\" + typeVal + \"/claims.type-constraints.\" + parentTitle + \".\"+ prop +\".correct_temp.tsv \\\n",
    "        ../../allConstraintsAnalysis_Final/\" + folderName + \"/\" + typeVal + \"/claims.type-constraints.\" + parentTitle + \".\"+ prop +\".correct_temp2.tsv \\\n",
    "        -o ../../allConstraintsAnalysis_Final/\" + folderName + \"/\" + typeVal + \"/claims.type-constraints.\" + parentTitle + \".\"+ prop +\".correct.tsv ; \\\n",
    "        ) } 2>> ../../propertiesSplit_Final/checkViolations/exec_logs/\" + shellFileSuffix + str(fCnt) + \".txt;\\n\")\n",
    "\n",
    "        cnt += 1\n",
    "    except:\n",
    "        print(\"Something failed for prop:\",prop)\n",
    "\n",
    "if fOP:\n",
    "    fOP.close()"
   ]
  },
  {
   "cell_type": "code",
   "execution_count": 56,
   "id": "qualified-cursor",
   "metadata": {},
   "outputs": [
    {
     "data": {
      "text/plain": [
       "897"
      ]
     },
     "execution_count": 56,
     "metadata": {},
     "output_type": "execute_result"
    }
   ],
   "source": [
    "cnt"
   ]
  },
  {
   "cell_type": "code",
   "execution_count": 85,
   "id": "simplified-cameroon",
   "metadata": {},
   "outputs": [],
   "source": [
    "# import os\n",
    "# for i in range(1,9):\n",
    "#     os.system(\"screen -dm sh ../../propertiesSplit_Final/checkViolations/valueTypeConstraintValidator\"+str(i)+\".sh\")\n",
    "    "
   ]
  },
  {
   "cell_type": "markdown",
   "id": "spectacular-warner",
   "metadata": {},
   "source": [
    "### Analyze Violations"
   ]
  },
  {
   "cell_type": "code",
   "execution_count": 16,
   "id": "valid-defense",
   "metadata": {},
   "outputs": [
    {
     "data": {
      "application/vnd.jupyter.widget-view+json": {
       "model_id": "83b35f4c4ef243f6b3b9404cf9b6a64f",
       "version_major": 2,
       "version_minor": 0
      },
      "text/plain": [
       "0it [00:00, ?it/s]"
      ]
     },
     "metadata": {},
     "output_type": "display_data"
    },
    {
     "data": {
      "application/vnd.jupyter.widget-view+json": {
       "model_id": "78d004eb1661492f996d5525cb14d403",
       "version_major": 2,
       "version_minor": 0
      },
      "text/plain": [
       "  0%|          | 0/530 [00:00<?, ?it/s]"
      ]
     },
     "metadata": {},
     "output_type": "display_data"
    },
    {
     "data": {
      "application/vnd.jupyter.widget-view+json": {
       "model_id": "698daea7d1ac4e569b2625a3c25713ce",
       "version_major": 2,
       "version_minor": 0
      },
      "text/plain": [
       "  0%|          | 0/25 [00:00<?, ?it/s]"
      ]
     },
     "metadata": {},
     "output_type": "display_data"
    },
    {
     "data": {
      "application/vnd.jupyter.widget-view+json": {
       "model_id": "31d53a0c0bbe465493440be05085fa0a",
       "version_major": 2,
       "version_minor": 0
      },
      "text/plain": [
       "  0%|          | 0/3930 [00:00<?, ?it/s]"
      ]
     },
     "metadata": {},
     "output_type": "display_data"
    }
   ],
   "source": [
    "import pandas as pd\n",
    "import os\n",
    "from tqdm.notebook import tqdm\n",
    "\n",
    "valueTypeConstViolations = {}\n",
    "\n",
    "def countLines(fname):\n",
    "    cnt = -1\n",
    "    with open(fname, 'r') as f:\n",
    "        for line in f:\n",
    "            cnt += 1\n",
    "    return cnt\n",
    "\n",
    "valueTypePropList = set()\n",
    "\n",
    "violations = {}\n",
    "\n",
    "for folder in tqdm(iter(['mandatory', 'suggestion', 'normal'])):\n",
    "    valueTypeConstViolations[folder] = {'instanceOf': {'correct': 0, 'incorrect': 0}, 'subclass': {'correct': 0, 'incorrect': 0}, 'instanceOfOrSubclass': {'correct': 0, 'incorrect': 0}, 'propCount':0}\n",
    "    filePath = \"../../allConstraintsAnalysis_Final/valueTypeConstraint/\"+folder+\"/\"\n",
    "    for filename in tqdm(os.listdir(filePath)):\n",
    "        type1 = filename.split(\".\")[2]\n",
    "        prop = filename.split(\".\")[3]\n",
    "        valueTypePropList.add(prop)\n",
    "        correctness = filename.split(\".\")[4]\n",
    "        count1 = countLines(filePath+filename)\n",
    "        if correctness not in ['correct','incorrect']:\n",
    "            continue\n",
    "        valueTypeConstViolations[folder][type1][correctness] += count1\n",
    "        if prop not in violations:\n",
    "            violations[prop] = {'correct': 0, 'incorrect': 0, 'paths': []}\n",
    "        violations[prop][correctness] = count1\n",
    "        violations[prop]['paths'].append(filePath+filename)\n",
    "        if correctness == 'correct':\n",
    "            valueTypeConstViolations[folder]['propCount'] += 1\n",
    "        "
   ]
  },
  {
   "cell_type": "code",
   "execution_count": 17,
   "id": "refined-speaking",
   "metadata": {},
   "outputs": [
    {
     "name": "stdout",
     "output_type": "stream",
     "text": [
      "897 properties processed for value type constraint for 182087480 statements\n"
     ]
    }
   ],
   "source": [
    "recordCount = 0\n",
    "for elem in valueTypeConstViolations.keys():\n",
    "    for key1 in valueTypeConstViolations[elem].keys():\n",
    "        try:\n",
    "            recordCount += valueTypeConstViolations[elem][key1]['correct'] + valueTypeConstViolations[elem][key1]['incorrect']\n",
    "        except:\n",
    "            continue\n",
    "print(f\"{len(valueTypePropList)} properties processed for value type constraint for {recordCount} statements\")"
   ]
  },
  {
   "cell_type": "code",
   "execution_count": 18,
   "id": "designed-christian",
   "metadata": {},
   "outputs": [],
   "source": [
    "import pandas as pd\n",
    "valTypeConstDF = pd.DataFrame(violations).T"
   ]
  },
  {
   "cell_type": "code",
   "execution_count": 19,
   "id": "spare-hawaiian",
   "metadata": {},
   "outputs": [],
   "source": [
    "valTypeConstDF['violation_ratio'] = valTypeConstDF.apply(lambda p: p.incorrect / (p.incorrect + p.correct), axis=1)"
   ]
  },
  {
   "cell_type": "code",
   "execution_count": 20,
   "id": "provincial-diploma",
   "metadata": {},
   "outputs": [
    {
     "data": {
      "text/html": [
       "<div>\n",
       "<style scoped>\n",
       "    .dataframe tbody tr th:only-of-type {\n",
       "        vertical-align: middle;\n",
       "    }\n",
       "\n",
       "    .dataframe tbody tr th {\n",
       "        vertical-align: top;\n",
       "    }\n",
       "\n",
       "    .dataframe thead th {\n",
       "        text-align: right;\n",
       "    }\n",
       "</style>\n",
       "<table border=\"1\" class=\"dataframe\">\n",
       "  <thead>\n",
       "    <tr style=\"text-align: right;\">\n",
       "      <th></th>\n",
       "      <th>correct</th>\n",
       "      <th>incorrect</th>\n",
       "      <th>paths</th>\n",
       "      <th>violation_ratio</th>\n",
       "    </tr>\n",
       "  </thead>\n",
       "  <tbody>\n",
       "    <tr>\n",
       "      <th>P2302</th>\n",
       "      <td>42211</td>\n",
       "      <td>0</td>\n",
       "      <td>[../../allConstraintsAnalysis_Final/valueTypeC...</td>\n",
       "      <td>0.000000</td>\n",
       "    </tr>\n",
       "    <tr>\n",
       "      <th>P3092</th>\n",
       "      <td>4620</td>\n",
       "      <td>29</td>\n",
       "      <td>[../../allConstraintsAnalysis_Final/valueTypeC...</td>\n",
       "      <td>0.006238</td>\n",
       "    </tr>\n",
       "    <tr>\n",
       "      <th>P3096</th>\n",
       "      <td>11150</td>\n",
       "      <td>2</td>\n",
       "      <td>[../../allConstraintsAnalysis_Final/valueTypeC...</td>\n",
       "      <td>0.000179</td>\n",
       "    </tr>\n",
       "    <tr>\n",
       "      <th>P3156</th>\n",
       "      <td>348</td>\n",
       "      <td>0</td>\n",
       "      <td>[../../allConstraintsAnalysis_Final/valueTypeC...</td>\n",
       "      <td>0.000000</td>\n",
       "    </tr>\n",
       "    <tr>\n",
       "      <th>P3179</th>\n",
       "      <td>5057</td>\n",
       "      <td>8</td>\n",
       "      <td>[../../allConstraintsAnalysis_Final/valueTypeC...</td>\n",
       "      <td>0.001579</td>\n",
       "    </tr>\n",
       "  </tbody>\n",
       "</table>\n",
       "</div>"
      ],
      "text/plain": [
       "      correct incorrect                                              paths  \\\n",
       "P2302   42211         0  [../../allConstraintsAnalysis_Final/valueTypeC...   \n",
       "P3092    4620        29  [../../allConstraintsAnalysis_Final/valueTypeC...   \n",
       "P3096   11150         2  [../../allConstraintsAnalysis_Final/valueTypeC...   \n",
       "P3156     348         0  [../../allConstraintsAnalysis_Final/valueTypeC...   \n",
       "P3179    5057         8  [../../allConstraintsAnalysis_Final/valueTypeC...   \n",
       "\n",
       "       violation_ratio  \n",
       "P2302         0.000000  \n",
       "P3092         0.006238  \n",
       "P3096         0.000179  \n",
       "P3156         0.000000  \n",
       "P3179         0.001579  "
      ]
     },
     "execution_count": 20,
     "metadata": {},
     "output_type": "execute_result"
    }
   ],
   "source": [
    "valTypeConstDF.head()"
   ]
  },
  {
   "cell_type": "code",
   "execution_count": 21,
   "id": "neural-trail",
   "metadata": {},
   "outputs": [
    {
     "data": {
      "text/html": [
       "<div>\n",
       "<style scoped>\n",
       "    .dataframe tbody tr th:only-of-type {\n",
       "        vertical-align: middle;\n",
       "    }\n",
       "\n",
       "    .dataframe tbody tr th {\n",
       "        vertical-align: top;\n",
       "    }\n",
       "\n",
       "    .dataframe thead th {\n",
       "        text-align: right;\n",
       "    }\n",
       "</style>\n",
       "<table border=\"1\" class=\"dataframe\">\n",
       "  <thead>\n",
       "    <tr style=\"text-align: right;\">\n",
       "      <th></th>\n",
       "      <th>correct</th>\n",
       "      <th>incorrect</th>\n",
       "      <th>paths</th>\n",
       "      <th>violation_ratio</th>\n",
       "    </tr>\n",
       "  </thead>\n",
       "  <tbody>\n",
       "    <tr>\n",
       "      <th>P5008</th>\n",
       "      <td>0</td>\n",
       "      <td>331026</td>\n",
       "      <td>[../../allConstraintsAnalysis_Final/valueTypeC...</td>\n",
       "      <td>1.0</td>\n",
       "    </tr>\n",
       "    <tr>\n",
       "      <th>P6104</th>\n",
       "      <td>0</td>\n",
       "      <td>9764</td>\n",
       "      <td>[../../allConstraintsAnalysis_Final/valueTypeC...</td>\n",
       "      <td>1.0</td>\n",
       "    </tr>\n",
       "    <tr>\n",
       "      <th>P7374</th>\n",
       "      <td>0</td>\n",
       "      <td>32</td>\n",
       "      <td>[../../allConstraintsAnalysis_Final/valueTypeC...</td>\n",
       "      <td>1.0</td>\n",
       "    </tr>\n",
       "    <tr>\n",
       "      <th>P2839</th>\n",
       "      <td>0</td>\n",
       "      <td>14</td>\n",
       "      <td>[../../allConstraintsAnalysis_Final/valueTypeC...</td>\n",
       "      <td>1.0</td>\n",
       "    </tr>\n",
       "    <tr>\n",
       "      <th>P3028</th>\n",
       "      <td>0</td>\n",
       "      <td>13</td>\n",
       "      <td>[../../allConstraintsAnalysis_Final/valueTypeC...</td>\n",
       "      <td>1.0</td>\n",
       "    </tr>\n",
       "    <tr>\n",
       "      <th>P3027</th>\n",
       "      <td>0</td>\n",
       "      <td>12</td>\n",
       "      <td>[../../allConstraintsAnalysis_Final/valueTypeC...</td>\n",
       "      <td>1.0</td>\n",
       "    </tr>\n",
       "    <tr>\n",
       "      <th>P538</th>\n",
       "      <td>0</td>\n",
       "      <td>10</td>\n",
       "      <td>[../../allConstraintsAnalysis_Final/valueTypeC...</td>\n",
       "      <td>1.0</td>\n",
       "    </tr>\n",
       "    <tr>\n",
       "      <th>P143</th>\n",
       "      <td>0</td>\n",
       "      <td>7</td>\n",
       "      <td>[../../allConstraintsAnalysis_Final/valueTypeC...</td>\n",
       "      <td>1.0</td>\n",
       "    </tr>\n",
       "    <tr>\n",
       "      <th>P4425</th>\n",
       "      <td>0</td>\n",
       "      <td>6</td>\n",
       "      <td>[../../allConstraintsAnalysis_Final/valueTypeC...</td>\n",
       "      <td>1.0</td>\n",
       "    </tr>\n",
       "    <tr>\n",
       "      <th>P6191</th>\n",
       "      <td>0</td>\n",
       "      <td>5</td>\n",
       "      <td>[../../allConstraintsAnalysis_Final/valueTypeC...</td>\n",
       "      <td>1.0</td>\n",
       "    </tr>\n",
       "    <tr>\n",
       "      <th>P6533</th>\n",
       "      <td>0</td>\n",
       "      <td>5</td>\n",
       "      <td>[../../allConstraintsAnalysis_Final/valueTypeC...</td>\n",
       "      <td>1.0</td>\n",
       "    </tr>\n",
       "    <tr>\n",
       "      <th>P6534</th>\n",
       "      <td>0</td>\n",
       "      <td>5</td>\n",
       "      <td>[../../allConstraintsAnalysis_Final/valueTypeC...</td>\n",
       "      <td>1.0</td>\n",
       "    </tr>\n",
       "    <tr>\n",
       "      <th>P7174</th>\n",
       "      <td>0</td>\n",
       "      <td>3</td>\n",
       "      <td>[../../allConstraintsAnalysis_Final/valueTypeC...</td>\n",
       "      <td>1.0</td>\n",
       "    </tr>\n",
       "    <tr>\n",
       "      <th>P922</th>\n",
       "      <td>0</td>\n",
       "      <td>2</td>\n",
       "      <td>[../../allConstraintsAnalysis_Final/valueTypeC...</td>\n",
       "      <td>1.0</td>\n",
       "    </tr>\n",
       "    <tr>\n",
       "      <th>P660</th>\n",
       "      <td>0</td>\n",
       "      <td>2</td>\n",
       "      <td>[../../allConstraintsAnalysis_Final/valueTypeC...</td>\n",
       "      <td>1.0</td>\n",
       "    </tr>\n",
       "  </tbody>\n",
       "</table>\n",
       "</div>"
      ],
      "text/plain": [
       "      correct incorrect                                              paths  \\\n",
       "P5008       0    331026  [../../allConstraintsAnalysis_Final/valueTypeC...   \n",
       "P6104       0      9764  [../../allConstraintsAnalysis_Final/valueTypeC...   \n",
       "P7374       0        32  [../../allConstraintsAnalysis_Final/valueTypeC...   \n",
       "P2839       0        14  [../../allConstraintsAnalysis_Final/valueTypeC...   \n",
       "P3028       0        13  [../../allConstraintsAnalysis_Final/valueTypeC...   \n",
       "P3027       0        12  [../../allConstraintsAnalysis_Final/valueTypeC...   \n",
       "P538        0        10  [../../allConstraintsAnalysis_Final/valueTypeC...   \n",
       "P143        0         7  [../../allConstraintsAnalysis_Final/valueTypeC...   \n",
       "P4425       0         6  [../../allConstraintsAnalysis_Final/valueTypeC...   \n",
       "P6191       0         5  [../../allConstraintsAnalysis_Final/valueTypeC...   \n",
       "P6533       0         5  [../../allConstraintsAnalysis_Final/valueTypeC...   \n",
       "P6534       0         5  [../../allConstraintsAnalysis_Final/valueTypeC...   \n",
       "P7174       0         3  [../../allConstraintsAnalysis_Final/valueTypeC...   \n",
       "P922        0         2  [../../allConstraintsAnalysis_Final/valueTypeC...   \n",
       "P660        0         2  [../../allConstraintsAnalysis_Final/valueTypeC...   \n",
       "\n",
       "       violation_ratio  \n",
       "P5008              1.0  \n",
       "P6104              1.0  \n",
       "P7374              1.0  \n",
       "P2839              1.0  \n",
       "P3028              1.0  \n",
       "P3027              1.0  \n",
       "P538               1.0  \n",
       "P143               1.0  \n",
       "P4425              1.0  \n",
       "P6191              1.0  \n",
       "P6533              1.0  \n",
       "P6534              1.0  \n",
       "P7174              1.0  \n",
       "P922               1.0  \n",
       "P660               1.0  "
      ]
     },
     "execution_count": 21,
     "metadata": {},
     "output_type": "execute_result"
    }
   ],
   "source": [
    "valTypeConstDF.sort_values(by=['violation_ratio','incorrect'],ascending=False).head(15)"
   ]
  },
  {
   "cell_type": "code",
   "execution_count": 22,
   "id": "cutting-polyester",
   "metadata": {},
   "outputs": [
    {
     "data": {
      "text/plain": [
       "count    897.000000\n",
       "mean       0.087631\n",
       "std        0.201504\n",
       "min        0.000000\n",
       "25%        0.000867\n",
       "50%        0.008197\n",
       "75%        0.053288\n",
       "max        1.000000\n",
       "Name: violation_ratio, dtype: float64"
      ]
     },
     "execution_count": 22,
     "metadata": {},
     "output_type": "execute_result"
    }
   ],
   "source": [
    "valTypeConstDF['violation_ratio'].describe()"
   ]
  },
  {
   "cell_type": "code",
   "execution_count": 23,
   "id": "alert-receiver",
   "metadata": {},
   "outputs": [
    {
     "data": {
      "text/plain": [
       "Text(0.5, 1.0, 'Value Type Constraint Violation Ratios')"
      ]
     },
     "execution_count": 23,
     "metadata": {},
     "output_type": "execute_result"
    },
    {
     "data": {
      "image/png": "[encoded data removed]",
      "text/plain": [
       "<Figure size 432x288 with 1 Axes>"
      ]
     },
     "metadata": {
      "needs_background": "light"
     },
     "output_type": "display_data"
    }
   ],
   "source": [
    "valTypeConstDF['violation_ratio'].plot.hist(bins=100).set_title(\"Value Type Constraint Violation Ratios\")"
   ]
  },
  {
   "cell_type": "code",
   "execution_count": 24,
   "id": "italian-motel",
   "metadata": {},
   "outputs": [
    {
     "data": {
      "text/plain": [
       "Text(0.5, 1.0, 'Value Type Constraint Violation Ratios (<=0.04)')"
      ]
     },
     "execution_count": 24,
     "metadata": {},
     "output_type": "execute_result"
    },
    {
     "data": {
      "image/png": "[encoded data removed]",
      "text/plain": [
       "<Figure size 432x288 with 1 Axes>"
      ]
     },
     "metadata": {
      "needs_background": "light"
     },
     "output_type": "display_data"
    }
   ],
   "source": [
    "valTypeConstDF[valTypeConstDF['violation_ratio'] <= 0.04].violation_ratio.plot.hist(bins=100).set_title(\"Value Type Constraint Violation Ratios (<=0.04)\")"
   ]
  },
  {
   "cell_type": "code",
   "execution_count": 25,
   "id": "prescription-ceramic",
   "metadata": {},
   "outputs": [
    {
     "name": "stdout",
     "output_type": "stream",
     "text": [
      "No. of constraints whose violation ratio is greater than mean :0/897\n"
     ]
    }
   ],
   "source": [
    "print(f\"No. of constraints whose violation ratio is greater than mean :{sum(valTypeConstDF['violation_ratio'] >= 3.950680)}/{len(valTypeConstDF)}\")"
   ]
  },
  {
   "cell_type": "code",
   "execution_count": 26,
   "id": "tutorial-mineral",
   "metadata": {},
   "outputs": [],
   "source": [
    "for key1 in valueTypeConstViolations.keys():\n",
    "    valueTypeConstViolations[key1]['correct'] = valueTypeConstViolations[key1]['instanceOf']['correct'] + valueTypeConstViolations[key1]['subclass']['correct'] + valueTypeConstViolations[key1]['instanceOfOrSubclass']['correct']\n",
    "    valueTypeConstViolations[key1]['incorrect'] = valueTypeConstViolations[key1]['instanceOf']['incorrect'] + valueTypeConstViolations[key1]['subclass']['incorrect'] + valueTypeConstViolations[key1]['instanceOfOrSubclass']['incorrect']\n",
    "    valueTypeConstViolations[key1]['VR'] = valueTypeConstViolations[key1]['incorrect'] / (valueTypeConstViolations[key1]['correct'] + valueTypeConstViolations[key1]['incorrect'])\n",
    "        "
   ]
  },
  {
   "cell_type": "code",
   "execution_count": 27,
   "id": "satellite-concern",
   "metadata": {
    "scrolled": false
   },
   "outputs": [
    {
     "data": {
      "text/plain": [
       "{'mandatory': {'instanceOf': {'correct': 11391695, 'incorrect': 5338},\n",
       "  'subclass': {'correct': 44764, 'incorrect': 1},\n",
       "  'instanceOfOrSubclass': {'correct': 11638, 'incorrect': 47},\n",
       "  'propCount': 106,\n",
       "  'correct': 11448097,\n",
       "  'incorrect': 5386,\n",
       "  'VR': 0.0004702499667568372},\n",
       " 'suggestion': {'instanceOf': {'correct': 46036, 'incorrect': 486},\n",
       "  'subclass': {'correct': 118, 'incorrect': 26},\n",
       "  'instanceOfOrSubclass': {'correct': 0, 'incorrect': 0},\n",
       "  'propCount': 5,\n",
       "  'correct': 46154,\n",
       "  'incorrect': 512,\n",
       "  'VR': 0.010971585308361549},\n",
       " 'normal': {'instanceOf': {'correct': 88862554, 'incorrect': 847461},\n",
       "  'subclass': {'correct': 4373665, 'incorrect': 11677},\n",
       "  'instanceOfOrSubclass': {'correct': 76234049, 'incorrect': 257925},\n",
       "  'propCount': 786,\n",
       "  'correct': 169470268,\n",
       "  'incorrect': 1117063,\n",
       "  'VR': 0.0065483350577775325}}"
      ]
     },
     "execution_count": 27,
     "metadata": {},
     "output_type": "execute_result"
    }
   ],
   "source": [
    "valueTypeConstViolations"
   ]
  },
  {
   "cell_type": "code",
   "execution_count": 28,
   "id": "fabulous-sudan",
   "metadata": {},
   "outputs": [],
   "source": [
    "valTypeConstDF.to_csv('../../allConstraintsAnalysis_Final/valueTypeConstDFAnalysis.csv')"
   ]
  },
  {
   "cell_type": "markdown",
   "id": "traditional-shakespeare",
   "metadata": {},
   "source": [
    "### Find out time required"
   ]
  },
  {
   "cell_type": "code",
   "execution_count": 127,
   "id": "spoken-symphony",
   "metadata": {},
   "outputs": [
    {
     "data": {
      "application/vnd.jupyter.widget-view+json": {
       "model_id": "5275228e86554cfeb4ac2ffbbf029d30",
       "version_major": 2,
       "version_minor": 0
      },
      "text/plain": [
       "  0%|          | 0/52 [00:00<?, ?it/s]"
      ]
     },
     "metadata": {},
     "output_type": "display_data"
    }
   ],
   "source": [
    "import pandas as pd\n",
    "import os\n",
    "from tqdm.notebook import tqdm\n",
    "\n",
    "codepConstViolations = {}\n",
    "\n",
    "codepConstViolations = {}\n",
    "codepConstPropList = set()\n",
    "\n",
    "def extractTimes(filename):\n",
    "    times = []\n",
    "    with open(filename) as f:\n",
    "        for line in f:\n",
    "            if \"real\" in line:\n",
    "                line = line.strip()\n",
    "                time1 = line.split(\"\\t\")[1]\n",
    "                mins, sec = time1.split(\"m\")\n",
    "                mins = int(mins)\n",
    "                sec = float(sec[:-1])\n",
    "                times.append(60 * mins + sec)\n",
    "    return times\n",
    "\n",
    "# codepConstViolationsSummary = {}\n",
    "times = []\n",
    "filePath = '/data/wd-correctness/propertiesSplit_Final/checkViolations/exec_logs/'\n",
    "for filename in tqdm(os.listdir(filePath)):\n",
    "    if filename.startswith(\"valueTypeConstraintValidator\"):\n",
    "        tempTimes = extractTimes(filePath + filename)\n",
    "        times += tempTimes"
   ]
  },
  {
   "cell_type": "code",
   "execution_count": 128,
   "id": "heavy-argentina",
   "metadata": {},
   "outputs": [
    {
     "name": "stdout",
     "output_type": "stream",
     "text": [
      "count     897.000000\n",
      "mean      352.077361\n",
      "std       612.832794\n",
      "min        11.407000\n",
      "25%       102.123000\n",
      "50%       144.146000\n",
      "75%       300.513000\n",
      "max      5323.176000\n",
      "dtype: float64\n"
     ]
    }
   ],
   "source": [
    "print(pd.Series(times).describe())"
   ]
  },
  {
   "cell_type": "code",
   "execution_count": 129,
   "id": "organized-mixer",
   "metadata": {},
   "outputs": [
    {
     "data": {
      "text/plain": [
       "Text(0.5, 1.0, 'Distribution of times (in s) taken for value type constraint checks')"
      ]
     },
     "execution_count": 129,
     "metadata": {},
     "output_type": "execute_result"
    },
    {
     "data": {
      "image/png": "[encoded data removed]",
      "text/plain": [
       "<Figure size 432x288 with 1 Axes>"
      ]
     },
     "metadata": {
      "needs_background": "light"
     },
     "output_type": "display_data"
    }
   ],
   "source": [
    "import seaborn as sns\n",
    "sns.lineplot(data=pd.Series(times)).set_title(\"Distribution of times (in s) taken for value type constraint checks\")"
   ]
  },
  {
   "cell_type": "markdown",
   "id": "motivated-sympathy",
   "metadata": {},
   "source": [
    "\n",
    "## Item Requires Statement Constraint\n",
    "\n",
    "Here, the constraint mentions the other properties that node1 must have and the values that this property must have in few cases\n",
    "\n",
    "For a property, codependency constraint mentions the list of other properties that this node must have. If the property mentions an exception, this listed node is exempt from this constraint. If the property mentions an item of property constraint this node-property value must have the mentioned value . Keeping this in mind, this is how we have structured the set of queries:\n",
    "\n",
    "* Correct Statements without exceptions: Here, we extract all statements where the node has all other properties mentioned. Along with this, I also check if the values for each of the properties are as expected.\n",
    "\n",
    "\n",
    "```\n",
    "kgtk --debug query -i ../../propertiesSplit_Final/claims.P1421.tsv ../../propertiesSplit_Final/claims.P225.tsv ../../propertiesSplit_Final/claims.P105.tsv \n",
    "--match 'P1421: (node1)-[nodeProp]->(node2), P225: (node1)-[]->(), P105: (node1)-[]->(node2_P105)' \n",
    "--where 'node2_P105 in [\"Q164280\", \"Q227936\", \"Q279749\", \"Q3025161\", \"Q3181348\", \"Q3238261\", \"Q34740\", \"Q35409\", \"Q3965313\", \"Q5998839\", \"Q630771\", \"Q68947\", \"Q7432\", \"Q767728\"]' \n",
    "--return 'distinct nodeProp.id, node1 as `node1`, nodeProp.label as `label`, node2 as `node2`'              \n",
    "-o ../../allConstraintsAnalysis_Final/codependencyConstraint/Mand_Normal/claims.P1421.correct_wo_exceptions.tsv             \n",
    "--graph-cache ../../sqlite3_caches/cache_new_2_1.sqlite3.db;\n",
    "```\n",
    "\n",
    "* Incorrect Statements without exceptions: Here, we just take the complement using `ifnotexists`. This might include cases where the exceptions are not exempt and hence are being called incorrect. We handle this in the next query.\n",
    "\n",
    "```\n",
    "kgtk --debug ifnotexists -i ../../propertiesSplit_Final/claims.P1421.tsv             \n",
    "--filter-on ../../allConstraintsAnalysis_Final/codependencyConstraint/Mand_Normal/claims.P1421.correct_wo_exceptions.tsv \n",
    "-o ../../allConstraintsAnalysis_Final/codependencyConstraint/Mand_Normal/claims.P1421.incorrect_wo_exceptions.tsv\n",
    "```\n",
    "\n",
    "* Incorrect with exceptions: This file will have the list of statements from the incorrect file where node1 is exempted. Now, the trick we used here is that, if there are say 3 properties which have exceptions listed, we take the intersection of all the 3 lists and use it here. This would mean a node will be called as exempted only if all 3 properties have it mentioned as an exception.\n",
    "\n",
    "```\n",
    "kgtk --debug query -i ../../allConstraintsAnalysis_Final/codependencyConstraint/Mand_Normal/claims.P1421.incorrect_wo_exceptions.tsv                     \n",
    "--match '(node1)-[]->()' \n",
    "--where 'node1 in [\"Q18674606\", \"Q2591510\"]'                     \n",
    "-o ../../allConstraintsAnalysis_Final/codependencyConstraint/Mand_Normal/claims.P1421.incorrect_w_exceptions.tsv                     \n",
    "--graph-cache ../../sqlite3_caches/cache_new_2_1.sqlite3.db;\n",
    "```\n",
    "\n",
    "* Pure incorrect set: This is `Incorrect Statements without exceptions` minus `Incorrect with exceptions`\n",
    "\n",
    "```\n",
    "kgtk --debug ifnotexists -i ../../allConstraintsAnalysis_Final/codependencyConstraint/Mand_Normal/claims.P1421.incorrect_wo_exceptions.tsv             \n",
    "--filter-on ../../allConstraintsAnalysis_Final/codependencyConstraint/Mand_Normal/claims.P1421.incorrect_w_exceptions.tsv             \n",
    "-o ../../allConstraintsAnalysis_Final/codependencyConstraint/Mand_Normal/claims.P1421.incorrect.tsv;\n",
    "```\n",
    "\n",
    "* Final correct set: This is `Correct Statements without exceptions` plus `Incorrect with exceptions`\n",
    "\n",
    "```\n",
    "kgtk cat -i ../../allConstraintsAnalysis_Final/codependencyConstraint/Mand_Normal/claims.P1421.correct_wo_exceptions.tsv                     ../../allConstraintsAnalysis_Final/codependencyConstraint/Mand_Normal/claims.P1421.incorrect_w_exceptions.tsv                     \n",
    "-o ../../allConstraintsAnalysis_Final/codependencyConstraint/Mand_Normal/claims.P1421.correct.tsv\n",
    "```"
   ]
  },
  {
   "cell_type": "markdown",
   "id": "chubby-glass",
   "metadata": {},
   "source": [
    "### Understand Constraints File"
   ]
  },
  {
   "cell_type": "code",
   "execution_count": 34,
   "id": "expired-amplifier",
   "metadata": {},
   "outputs": [
    {
     "name": "stdout",
     "output_type": "stream",
     "text": [
      "[2021-05-13 13:12:05 query]: SQL Translation:\r\n",
      "---------------------------------------------\r\n",
      "  SELECT graph_1_c1.\"id\" \"_aLias.id\", graph_1_c1.\"node1\" \"_aLias.node1\", graph_2_c2.\"label\" \"_aLias.label\", graph_2_c2.\"node2\" \"_aLias.node2\"\r\n",
      "     FROM graph_1 AS graph_1_c1, graph_2 AS graph_2_c2\r\n",
      "     WHERE graph_1_c1.\"label\"=?\r\n",
      "     AND graph_1_c1.\"node2\"=?\r\n",
      "     AND (graph_1_c1.\"id\" = graph_2_c2.\"node1\")\r\n",
      "  PARAS: ['P2302', 'Q21503247']\r\n",
      "---------------------------------------------\r\n"
     ]
    }
   ],
   "source": [
    "!kgtk --debug query -i ../../gdrive-kgtk-dump-2020-12-07/claims.properties.tsv.gz \\\n",
    "    ../../gdrive-kgtk-dump-2020-12-07/qualifiers.properties.tsv.gz \\\n",
    "    --match \"p: (nodeProp1)-[nodePropEdge:P2302]->(:Q21503247), q: (nodePropEdge1)-[nodePropEdgeProps]->(val)\" \\\n",
    "    --where 'nodePropEdge.id = nodePropEdge1' \\\n",
    "    --return 'nodePropEdge.id as id, nodeProp1 as node1, nodePropEdgeProps.label as label, val as node2' \\\n",
    "    -o ../../constraintsOP/itemRequiresConstraint/claims.type-constraints_all.tsv \\\n",
    "    --graph-cache ../../sqlite3_caches/temp1345.valuetype.sqlite3.db"
   ]
  },
  {
   "cell_type": "code",
   "execution_count": 35,
   "id": "funny-batch",
   "metadata": {},
   "outputs": [],
   "source": [
    "import pandas as pd\n",
    "import math\n",
    "dfItemRequires = pd.read_csv('../../constraintsOP/itemRequiresConstraint/claims.type-constraints_all.tsv',sep='\\t')"
   ]
  },
  {
   "cell_type": "code",
   "execution_count": 36,
   "id": "original-expression",
   "metadata": {},
   "outputs": [],
   "source": [
    "dfItemRequires = dfItemRequires.groupby(['id','node1','label']).node2.apply(lambda p: p.tolist()).reset_index()"
   ]
  },
  {
   "cell_type": "code",
   "execution_count": 37,
   "id": "adequate-symphony",
   "metadata": {},
   "outputs": [
    {
     "data": {
      "text/plain": [
       "array(['P2306', 'P2305', 'P2316', 'P2304', 'P2303', 'P6607', 'P4155',\n",
       "       'P31', 'P2916', 'P4680', 'P2308'], dtype=object)"
      ]
     },
     "execution_count": 37,
     "metadata": {},
     "output_type": "execute_result"
    }
   ],
   "source": [
    "dfItemRequires['label'].unique()"
   ]
  },
  {
   "cell_type": "code",
   "execution_count": 38,
   "id": "infrared-canal",
   "metadata": {},
   "outputs": [
    {
     "data": {
      "text/plain": [
       "P2306    7182\n",
       "P2305    2540\n",
       "P2316    2523\n",
       "P2303     422\n",
       "P6607      14\n",
       "P2304      14\n",
       "P2916       5\n",
       "P4680       2\n",
       "P4155       1\n",
       "P2308       1\n",
       "P31         1\n",
       "Name: label, dtype: int64"
      ]
     },
     "execution_count": 38,
     "metadata": {},
     "output_type": "execute_result"
    }
   ],
   "source": [
    "dfItemRequires['label'].value_counts()"
   ]
  },
  {
   "cell_type": "code",
   "execution_count": 39,
   "id": "focused-karen",
   "metadata": {},
   "outputs": [],
   "source": [
    "#Reference: https://stackoverflow.com/a/17298454\n",
    "# dfItemRequires.pivot_table('node2', ['node1', 'id'], 'label')\n",
    "dfItemRequires = dfItemRequires.pivot(index=['node1','id'], columns='label', values='node2')"
   ]
  },
  {
   "cell_type": "code",
   "execution_count": 40,
   "id": "private-boundary",
   "metadata": {},
   "outputs": [
    {
     "data": {
      "text/html": [
       "<div>\n",
       "<style scoped>\n",
       "    .dataframe tbody tr th:only-of-type {\n",
       "        vertical-align: middle;\n",
       "    }\n",
       "\n",
       "    .dataframe tbody tr th {\n",
       "        vertical-align: top;\n",
       "    }\n",
       "\n",
       "    .dataframe thead th {\n",
       "        text-align: right;\n",
       "    }\n",
       "</style>\n",
       "<table border=\"1\" class=\"dataframe\">\n",
       "  <thead>\n",
       "    <tr style=\"text-align: right;\">\n",
       "      <th></th>\n",
       "      <th>label</th>\n",
       "      <th>P2303</th>\n",
       "      <th>P2304</th>\n",
       "      <th>P2305</th>\n",
       "      <th>P2306</th>\n",
       "      <th>P2308</th>\n",
       "      <th>P2316</th>\n",
       "      <th>P2916</th>\n",
       "      <th>P31</th>\n",
       "      <th>P4155</th>\n",
       "      <th>P4680</th>\n",
       "      <th>P6607</th>\n",
       "    </tr>\n",
       "    <tr>\n",
       "      <th>node1</th>\n",
       "      <th>id</th>\n",
       "      <th></th>\n",
       "      <th></th>\n",
       "      <th></th>\n",
       "      <th></th>\n",
       "      <th></th>\n",
       "      <th></th>\n",
       "      <th></th>\n",
       "      <th></th>\n",
       "      <th></th>\n",
       "      <th></th>\n",
       "      <th></th>\n",
       "    </tr>\n",
       "  </thead>\n",
       "  <tbody>\n",
       "    <tr>\n",
       "      <th>P1006</th>\n",
       "      <th>P1006-P2302-Q21503247-0451ef47-0</th>\n",
       "      <td>NaN</td>\n",
       "      <td>NaN</td>\n",
       "      <td>NaN</td>\n",
       "      <td>[P214]</td>\n",
       "      <td>NaN</td>\n",
       "      <td>NaN</td>\n",
       "      <td>NaN</td>\n",
       "      <td>NaN</td>\n",
       "      <td>NaN</td>\n",
       "      <td>NaN</td>\n",
       "      <td>NaN</td>\n",
       "    </tr>\n",
       "    <tr>\n",
       "      <th rowspan=\"2\" valign=\"top\">P1010</th>\n",
       "      <th>P1010-P2302-Q21503247-56183614-0</th>\n",
       "      <td>NaN</td>\n",
       "      <td>NaN</td>\n",
       "      <td>NaN</td>\n",
       "      <td>[P31]</td>\n",
       "      <td>NaN</td>\n",
       "      <td>NaN</td>\n",
       "      <td>NaN</td>\n",
       "      <td>NaN</td>\n",
       "      <td>NaN</td>\n",
       "      <td>NaN</td>\n",
       "      <td>NaN</td>\n",
       "    </tr>\n",
       "    <tr>\n",
       "      <th>P1010-P2302-Q21503247-fd256eaf-0</th>\n",
       "      <td>NaN</td>\n",
       "      <td>NaN</td>\n",
       "      <td>[Q794]</td>\n",
       "      <td>[P17]</td>\n",
       "      <td>NaN</td>\n",
       "      <td>[Q21502408]</td>\n",
       "      <td>NaN</td>\n",
       "      <td>NaN</td>\n",
       "      <td>NaN</td>\n",
       "      <td>NaN</td>\n",
       "      <td>NaN</td>\n",
       "    </tr>\n",
       "    <tr>\n",
       "      <th>P1015</th>\n",
       "      <th>P1015-P2302-Q21503247-20e3bfc5-0</th>\n",
       "      <td>NaN</td>\n",
       "      <td>NaN</td>\n",
       "      <td>NaN</td>\n",
       "      <td>[P31]</td>\n",
       "      <td>NaN</td>\n",
       "      <td>NaN</td>\n",
       "      <td>NaN</td>\n",
       "      <td>NaN</td>\n",
       "      <td>NaN</td>\n",
       "      <td>NaN</td>\n",
       "      <td>NaN</td>\n",
       "    </tr>\n",
       "    <tr>\n",
       "      <th>P1017</th>\n",
       "      <th>P1017-P2302-Q21503247-bbac2ce3-0</th>\n",
       "      <td>NaN</td>\n",
       "      <td>NaN</td>\n",
       "      <td>NaN</td>\n",
       "      <td>[P214]</td>\n",
       "      <td>NaN</td>\n",
       "      <td>NaN</td>\n",
       "      <td>NaN</td>\n",
       "      <td>NaN</td>\n",
       "      <td>NaN</td>\n",
       "      <td>NaN</td>\n",
       "      <td>NaN</td>\n",
       "    </tr>\n",
       "  </tbody>\n",
       "</table>\n",
       "</div>"
      ],
      "text/plain": [
       "label                                  P2303 P2304   P2305   P2306 P2308  \\\n",
       "node1 id                                                                   \n",
       "P1006 P1006-P2302-Q21503247-0451ef47-0   NaN   NaN     NaN  [P214]   NaN   \n",
       "P1010 P1010-P2302-Q21503247-56183614-0   NaN   NaN     NaN   [P31]   NaN   \n",
       "      P1010-P2302-Q21503247-fd256eaf-0   NaN   NaN  [Q794]   [P17]   NaN   \n",
       "P1015 P1015-P2302-Q21503247-20e3bfc5-0   NaN   NaN     NaN   [P31]   NaN   \n",
       "P1017 P1017-P2302-Q21503247-bbac2ce3-0   NaN   NaN     NaN  [P214]   NaN   \n",
       "\n",
       "label                                         P2316 P2916  P31 P4155 P4680  \\\n",
       "node1 id                                                                     \n",
       "P1006 P1006-P2302-Q21503247-0451ef47-0          NaN   NaN  NaN   NaN   NaN   \n",
       "P1010 P1010-P2302-Q21503247-56183614-0          NaN   NaN  NaN   NaN   NaN   \n",
       "      P1010-P2302-Q21503247-fd256eaf-0  [Q21502408]   NaN  NaN   NaN   NaN   \n",
       "P1015 P1015-P2302-Q21503247-20e3bfc5-0          NaN   NaN  NaN   NaN   NaN   \n",
       "P1017 P1017-P2302-Q21503247-bbac2ce3-0          NaN   NaN  NaN   NaN   NaN   \n",
       "\n",
       "label                                  P6607  \n",
       "node1 id                                      \n",
       "P1006 P1006-P2302-Q21503247-0451ef47-0   NaN  \n",
       "P1010 P1010-P2302-Q21503247-56183614-0   NaN  \n",
       "      P1010-P2302-Q21503247-fd256eaf-0   NaN  \n",
       "P1015 P1015-P2302-Q21503247-20e3bfc5-0   NaN  \n",
       "P1017 P1017-P2302-Q21503247-bbac2ce3-0   NaN  "
      ]
     },
     "execution_count": 40,
     "metadata": {},
     "output_type": "execute_result"
    }
   ],
   "source": [
    "dfItemRequires.head()"
   ]
  },
  {
   "cell_type": "code",
   "execution_count": 41,
   "id": "conceptual-schedule",
   "metadata": {},
   "outputs": [],
   "source": [
    "dfItemRequires = dfItemRequires.droplevel(1)"
   ]
  },
  {
   "cell_type": "code",
   "execution_count": 42,
   "id": "third-hayes",
   "metadata": {},
   "outputs": [
    {
     "data": {
      "text/html": [
       "<div>\n",
       "<style scoped>\n",
       "    .dataframe tbody tr th:only-of-type {\n",
       "        vertical-align: middle;\n",
       "    }\n",
       "\n",
       "    .dataframe tbody tr th {\n",
       "        vertical-align: top;\n",
       "    }\n",
       "\n",
       "    .dataframe thead th {\n",
       "        text-align: right;\n",
       "    }\n",
       "</style>\n",
       "<table border=\"1\" class=\"dataframe\">\n",
       "  <thead>\n",
       "    <tr style=\"text-align: right;\">\n",
       "      <th>label</th>\n",
       "      <th>P2303</th>\n",
       "      <th>P2304</th>\n",
       "      <th>P2305</th>\n",
       "      <th>P2306</th>\n",
       "      <th>P2308</th>\n",
       "      <th>P2316</th>\n",
       "      <th>P2916</th>\n",
       "      <th>P31</th>\n",
       "      <th>P4155</th>\n",
       "      <th>P4680</th>\n",
       "      <th>P6607</th>\n",
       "    </tr>\n",
       "    <tr>\n",
       "      <th>node1</th>\n",
       "      <th></th>\n",
       "      <th></th>\n",
       "      <th></th>\n",
       "      <th></th>\n",
       "      <th></th>\n",
       "      <th></th>\n",
       "      <th></th>\n",
       "      <th></th>\n",
       "      <th></th>\n",
       "      <th></th>\n",
       "      <th></th>\n",
       "    </tr>\n",
       "  </thead>\n",
       "  <tbody>\n",
       "    <tr>\n",
       "      <th>P1006</th>\n",
       "      <td>NaN</td>\n",
       "      <td>NaN</td>\n",
       "      <td>NaN</td>\n",
       "      <td>[P214]</td>\n",
       "      <td>NaN</td>\n",
       "      <td>NaN</td>\n",
       "      <td>NaN</td>\n",
       "      <td>NaN</td>\n",
       "      <td>NaN</td>\n",
       "      <td>NaN</td>\n",
       "      <td>NaN</td>\n",
       "    </tr>\n",
       "    <tr>\n",
       "      <th>P1010</th>\n",
       "      <td>NaN</td>\n",
       "      <td>NaN</td>\n",
       "      <td>NaN</td>\n",
       "      <td>[P31]</td>\n",
       "      <td>NaN</td>\n",
       "      <td>NaN</td>\n",
       "      <td>NaN</td>\n",
       "      <td>NaN</td>\n",
       "      <td>NaN</td>\n",
       "      <td>NaN</td>\n",
       "      <td>NaN</td>\n",
       "    </tr>\n",
       "    <tr>\n",
       "      <th>P1010</th>\n",
       "      <td>NaN</td>\n",
       "      <td>NaN</td>\n",
       "      <td>[Q794]</td>\n",
       "      <td>[P17]</td>\n",
       "      <td>NaN</td>\n",
       "      <td>[Q21502408]</td>\n",
       "      <td>NaN</td>\n",
       "      <td>NaN</td>\n",
       "      <td>NaN</td>\n",
       "      <td>NaN</td>\n",
       "      <td>NaN</td>\n",
       "    </tr>\n",
       "    <tr>\n",
       "      <th>P1015</th>\n",
       "      <td>NaN</td>\n",
       "      <td>NaN</td>\n",
       "      <td>NaN</td>\n",
       "      <td>[P31]</td>\n",
       "      <td>NaN</td>\n",
       "      <td>NaN</td>\n",
       "      <td>NaN</td>\n",
       "      <td>NaN</td>\n",
       "      <td>NaN</td>\n",
       "      <td>NaN</td>\n",
       "      <td>NaN</td>\n",
       "    </tr>\n",
       "    <tr>\n",
       "      <th>P1017</th>\n",
       "      <td>NaN</td>\n",
       "      <td>NaN</td>\n",
       "      <td>NaN</td>\n",
       "      <td>[P214]</td>\n",
       "      <td>NaN</td>\n",
       "      <td>NaN</td>\n",
       "      <td>NaN</td>\n",
       "      <td>NaN</td>\n",
       "      <td>NaN</td>\n",
       "      <td>NaN</td>\n",
       "      <td>NaN</td>\n",
       "    </tr>\n",
       "  </tbody>\n",
       "</table>\n",
       "</div>"
      ],
      "text/plain": [
       "label P2303 P2304   P2305   P2306 P2308        P2316 P2916  P31 P4155 P4680  \\\n",
       "node1                                                                         \n",
       "P1006   NaN   NaN     NaN  [P214]   NaN          NaN   NaN  NaN   NaN   NaN   \n",
       "P1010   NaN   NaN     NaN   [P31]   NaN          NaN   NaN  NaN   NaN   NaN   \n",
       "P1010   NaN   NaN  [Q794]   [P17]   NaN  [Q21502408]   NaN  NaN   NaN   NaN   \n",
       "P1015   NaN   NaN     NaN   [P31]   NaN          NaN   NaN  NaN   NaN   NaN   \n",
       "P1017   NaN   NaN     NaN  [P214]   NaN          NaN   NaN  NaN   NaN   NaN   \n",
       "\n",
       "label P6607  \n",
       "node1        \n",
       "P1006   NaN  \n",
       "P1010   NaN  \n",
       "P1010   NaN  \n",
       "P1015   NaN  \n",
       "P1017   NaN  "
      ]
     },
     "execution_count": 42,
     "metadata": {},
     "output_type": "execute_result"
    }
   ],
   "source": [
    "dfItemRequires.head()"
   ]
  },
  {
   "cell_type": "markdown",
   "id": "shaped-companion",
   "metadata": {},
   "source": [
    "However, there is one anomaly where the property does not have a co-dependency constraint associated with it, but still has a link to this constraint."
   ]
  },
  {
   "cell_type": "markdown",
   "id": "forced-christmas",
   "metadata": {},
   "source": [
    "### Query Generator"
   ]
  },
  {
   "cell_type": "markdown",
   "id": "acquired-floor",
   "metadata": {},
   "source": [
    "#### Version 1 - Mandatory + Suggestion + Normal"
   ]
  },
  {
   "cell_type": "code",
   "execution_count": 66,
   "id": "turkish-establishment",
   "metadata": {
    "scrolled": true
   },
   "outputs": [
    {
     "data": {
      "application/vnd.jupyter.widget-view+json": {
       "model_id": "1e84de79091d4a59a015c9b8b72bfc84",
       "version_major": 2,
       "version_minor": 0
      },
      "text/plain": [
       "  0%|          | 0/3147 [00:00<?, ?it/s]"
      ]
     },
     "metadata": {},
     "output_type": "display_data"
    },
    {
     "name": "stdout",
     "output_type": "stream",
     "text": [
      "File: ../../propertiesSplit_Final/claims.P345.tsv does not exist\n",
      "File: ../../propertiesSplit_Final/claims.P2604.tsv does not exist\n",
      "File: ../../propertiesSplit_Final/claims.P1566.tsv does not exist\n",
      "File: ../../propertiesSplit_Final/claims.P1566.tsv does not exist\n",
      "File: ../../propertiesSplit_Final/claims.P2355.tsv does not exist\n",
      "File: ../../propertiesSplit_Final/claims.P3350.tsv does not exist\n",
      "File: ../../propertiesSplit_Final/claims.P1014.tsv does not exist\n",
      "File: ../../propertiesSplit_Final/claims.P2636.tsv does not exist\n",
      "File: ../../propertiesSplit_Final/claims.P1771.tsv does not exist\n",
      "File: ../../propertiesSplit_Final/claims.P2755.tsv does not exist\n",
      "File: ../../propertiesSplit_Final/claims.P8326.tsv does not exist\n",
      "File: ../../propertiesSplit_Final/claims.P5128.tsv does not exist\n",
      "File: ../../propertiesSplit_Final/claims.P1627.tsv does not exist\n",
      "File: ../../propertiesSplit_Final/claims.P954.tsv does not exist\n",
      "File: ../../propertiesSplit_Final/claims.P498.tsv does not exist\n",
      "File: ../../propertiesSplit_Final/claims.P1297.tsv does not exist\n",
      "File: ../../propertiesSplit_Final/claims.P8680.tsv does not exist\n",
      "File: ../../propertiesSplit_Final/claims.P715.tsv does not exist\n",
      "File: ../../propertiesSplit_Final/claims.P2606.tsv does not exist\n",
      "File: ../../propertiesSplit_Final/claims.P8303.tsv does not exist\n",
      "File: ../../propertiesSplit_Final/claims.P1874.tsv does not exist\n"
     ]
    }
   ],
   "source": [
    "from tqdm.notebook import tqdm\n",
    "import os.path\n",
    "import os\n",
    "\n",
    "cnt = 0\n",
    "fCnt = 0\n",
    "\n",
    "fOP = None\n",
    "\n",
    "folderName = 'codependencyConstraint'\n",
    "subFolderName = \"Mand_Sugg_Normal\"\n",
    "shellFileSuffix = 'codepConst_MSN_Validator'\n",
    "graph_cache_file_prefix = \"cache_new_1_\"\n",
    "\n",
    "for prop in tqdm(dfItemRequires.index.unique()):\n",
    "#     try:\n",
    "        mandatory = []\n",
    "        suggestion = []\n",
    "        normal = []\n",
    "        prop = str(prop)\n",
    "        \n",
    "        for _, constraint in dfItemRequires.loc[[prop]].iterrows():\n",
    "            if type(constraint['P2316']) == list:\n",
    "                if constraint['P2316'][0] == 'Q21502408':\n",
    "                    mandatory.append(constraint)\n",
    "                elif constraint['P2316'][0] == 'Q62026391':\n",
    "                    suggestion.append(constraint)\n",
    "            else:\n",
    "                normal.append(constraint)\n",
    "        \n",
    "        if not(os.path.isfile(\"../../propertiesSplit_Final/claims.\"+ prop +\".tsv\")):\n",
    "            continue\n",
    "                \n",
    "        commandInit = \"{ time ( kgtk --debug query -i ../../propertiesSplit_Final/claims.\"+ prop +\".tsv \"\n",
    "        commandOtherFiles = \"\"\n",
    "        commandMatch = \"--match '\"\n",
    "        commandMatchMoreFiles = [f\"{prop}: (node1)-[nodeProp]->(node2)\"]\n",
    "        commandWhere = \" --where '\"\n",
    "        commandWhere = []\n",
    "        \n",
    "        # Version 1 <<<<<<<<<<<<<<<<<<<<<<<<<<<<<<<<<<<<<<<<<<<<<<<<<<<<<<<<<<<<<<<<<<<<<<<<<<<<<<<<<<\n",
    "        constSet = mandatory + suggestion + normal\n",
    "        \n",
    "        if len(constSet) == 0:\n",
    "            continue\n",
    "        excptns = set()\n",
    "        for (rowNo, constraint) in enumerate(constSet):\n",
    "            prop2 = constraint['P2306']\n",
    "            \n",
    "            if type(prop2) != list:\n",
    "                continue\n",
    "            prop2 = prop2[0]\n",
    "                \n",
    "            if not(os.path.isfile(\"../../propertiesSplit_Final/claims.\"+ prop2 +\".tsv\")):\n",
    "                print(f\"File: ../../propertiesSplit_Final/claims.{prop2}.tsv does not exist\")\n",
    "                continue\n",
    "            \n",
    "            commandOtherFiles += \"../../propertiesSplit_Final/claims.\"+ prop2 +\".tsv \"\n",
    "            if type(constraint['P2303']) == list: # Exceptions present\n",
    "                if len(excptns) == 0:\n",
    "                    excptns = set(constraint['P2303'])\n",
    "                else:\n",
    "                    excptns = excptns.intersection(set(constraint['P2303']))\n",
    "            if type(constraint['P2305']) == list:\n",
    "                commandMatchMoreFiles += [f\"{prop2}: (node1)-[]->(node2_{prop2})\"]\n",
    "                commandWhere += [\"node2_\" + prop2 + \" in \" + str(list(constraint['P2305'])).replace(\"'\",'\"')]\n",
    "            else:\n",
    "                commandMatchMoreFiles += [f\"{prop2}: (node1)-[]->()\"]\n",
    "#         print(commandMatchMoreFiles)\n",
    "        if len(commandWhere) == 0:\n",
    "            command = commandInit + commandOtherFiles + commandMatch + (\", \".join(commandMatchMoreFiles)) + \"'\"\n",
    "        else:\n",
    "            command = commandInit + commandOtherFiles + commandMatch + (\", \".join(commandMatchMoreFiles)) + \"'\" + \" --where '\"+(\" and \".join(commandWhere))+\"'\"\n",
    "        \n",
    "        if cnt % 60 == 0:\n",
    "            if fOP:\n",
    "                fOP.close()\n",
    "            fCnt += 1\n",
    "            fOP = open(\"../../propertiesSplit_Final/checkViolations/\" + shellFileSuffix + str(fCnt) + \".sh\",\"w\")\n",
    "        \n",
    "        if len(excptns) == 0:\n",
    "            commandRest = \" --return 'distinct nodeProp.id, node1 as `node1`, nodeProp.label as `label`, node2 as `node2`'  \\\n",
    "            -o ../../allConstraintsAnalysis_Final/\" + folderName + \"/\" + subFolderName + \"/claims.\"+ prop +\".correct.tsv \\\n",
    "            --graph-cache ../../sqlite3_caches/\" + str(graph_cache_file_prefix) + str(fCnt) + \".sqlite3.db; \\\n",
    "             kgtk --debug ifnotexists -i ../../propertiesSplit_Final/claims.\"+ prop +\".tsv \\\n",
    "            --filter-on ../../allConstraintsAnalysis_Final/\" + folderName + \"/\" + subFolderName + \"/claims.\"+ prop +\".correct.tsv \"\n",
    "            \n",
    "            commandOPFile = \"-o ../../allConstraintsAnalysis_Final/\" + folderName + \"/\" + subFolderName + \"/claims.\"+ prop +\".\"\n",
    "            \n",
    "            command += commandRest + commandOPFile + \"incorrect.tsv ) } 2>> ../../propertiesSplit_Final/checkViolations/exec_logs/timeLog_\" + shellFileSuffix + str(fCnt) + \".txt;\\n\"\n",
    "            fOP.write(command)\n",
    "        else:\n",
    "            commandRest = \" --return 'distinct nodeProp.id, node1 as `node1`, nodeProp.label as `label`, node2 as `node2`'  \\\n",
    "            -o ../../allConstraintsAnalysis_Final/\" + folderName + \"/\" + subFolderName + \"/claims.\"+ prop +\".correct_wo_exceptions.tsv \\\n",
    "            --graph-cache ../../sqlite3_caches/\" + str(graph_cache_file_prefix) + str(fCnt) + \".sqlite3.db; \\\n",
    "             kgtk --debug ifnotexists -i ../../propertiesSplit_Final/claims.\"+ prop +\".tsv \\\n",
    "            --filter-on ../../allConstraintsAnalysis_Final/\" + folderName + \"/\" + subFolderName + \"/claims.\"+ prop +\".correct_wo_exceptions.tsv \"\n",
    "            \n",
    "            commandOPFile = \"-o ../../allConstraintsAnalysis_Final/\" + folderName + \"/\" + subFolderName + \"/claims.\"+ prop +\".\"\n",
    "            \n",
    "            command += commandRest + commandOPFile + \"incorrect_wo_exceptions.tsv\\n\"\n",
    "            fOP.write(command)\n",
    "            \n",
    "            command = \"  kgtk --debug query -i ../../allConstraintsAnalysis_Final/\" + folderName + \"/\" + subFolderName + \"/claims.\" + prop + \".incorrect_wo_exceptions.tsv \\\n",
    "                    --match '(node1)-[]->()' --where 'node1 in \" + str(list(excptns)).replace(\"'\",'\"') + \"' \\\n",
    "                    -o ../../allConstraintsAnalysis_Final/\" + folderName + \"/\" + subFolderName + \"/claims.\" + prop + \".incorrect_w_exceptions.tsv \\\n",
    "                    --graph-cache ../../sqlite3_caches/\" + str(graph_cache_file_prefix) + str(fCnt) + \".sqlite3.db; \"\n",
    "            fOP.write(command)\n",
    "            \n",
    "            command = \"  kgtk --debug ifnotexists -i ../../allConstraintsAnalysis_Final/\" + folderName + \"/\" + subFolderName + \"/claims.\" + prop + \".incorrect_wo_exceptions.tsv \\\n",
    "            --filter-on ../../allConstraintsAnalysis_Final/\" + folderName + \"/\" + subFolderName + \"/claims.\" + prop + \".incorrect_w_exceptions.tsv \\\n",
    "            -o ../../allConstraintsAnalysis_Final/\" + folderName + \"/\" + subFolderName + \"/claims.\"+ prop +\".incorrect.tsv; \"\n",
    "            fOP.write(command)\n",
    "            \n",
    "            command = \"  kgtk cat -i ../../allConstraintsAnalysis_Final/\" + folderName + \"/\" + subFolderName + \"/claims.\"+ prop +\".correct_wo_exceptions.tsv \\\n",
    "                    ../../allConstraintsAnalysis_Final/\" + folderName + \"/\" + subFolderName + \"/claims.\"+ prop +\".incorrect_w_exceptions.tsv \\\n",
    "                    -o ../../allConstraintsAnalysis_Final/\" + folderName + \"/\" + subFolderName + \"/claims.\"+ prop +\".correct.tsv ) } 2>> ../../propertiesSplit_Final/checkViolations/exec_logs/timeLog_\" + shellFileSuffix + str(fCnt) + \".txt; \\n\"\n",
    "            fOP.write(command)\n",
    "        \n",
    "        \n",
    "        cnt += 1\n",
    "#     except:\n",
    "#         print(\"Something failed for prop:\",prop)\n",
    "if fOP:\n",
    "    fOP.close()"
   ]
  },
  {
   "cell_type": "code",
   "execution_count": 67,
   "id": "peripheral-herald",
   "metadata": {},
   "outputs": [
    {
     "data": {
      "text/plain": [
       "527"
      ]
     },
     "execution_count": 67,
     "metadata": {},
     "output_type": "execute_result"
    }
   ],
   "source": [
    "cnt"
   ]
  },
  {
   "cell_type": "code",
   "execution_count": 68,
   "id": "incorporated-logistics",
   "metadata": {},
   "outputs": [
    {
     "data": {
      "text/plain": [
       "9"
      ]
     },
     "execution_count": 68,
     "metadata": {},
     "output_type": "execute_result"
    }
   ],
   "source": [
    "fCnt"
   ]
  },
  {
   "cell_type": "code",
   "execution_count": 86,
   "id": "optimum-blowing",
   "metadata": {},
   "outputs": [],
   "source": [
    "# import os\n",
    "# for i in range(1,28):\n",
    "#     os.system(\"screen -dm sh ../../propertiesSplit_Final/checkViolations/codepConst_MSN_Validator\"+str(i)+\".sh\")"
   ]
  },
  {
   "cell_type": "markdown",
   "id": "indoor-verse",
   "metadata": {},
   "source": [
    "#### Version 2 - Mandatory + Normal"
   ]
  },
  {
   "cell_type": "code",
   "execution_count": 70,
   "id": "furnished-paradise",
   "metadata": {
    "scrolled": true
   },
   "outputs": [
    {
     "data": {
      "application/vnd.jupyter.widget-view+json": {
       "model_id": "35900bc92f3742b89eb5f6919bfb62cb",
       "version_major": 2,
       "version_minor": 0
      },
      "text/plain": [
       "  0%|          | 0/3147 [00:00<?, ?it/s]"
      ]
     },
     "metadata": {},
     "output_type": "display_data"
    },
    {
     "name": "stdout",
     "output_type": "stream",
     "text": [
      "File: ../../propertiesSplit_Final/claims.P345.tsv does not exist\n",
      "File: ../../propertiesSplit_Final/claims.P2604.tsv does not exist\n",
      "File: ../../propertiesSplit_Final/claims.P1566.tsv does not exist\n",
      "File: ../../propertiesSplit_Final/claims.P2355.tsv does not exist\n",
      "File: ../../propertiesSplit_Final/claims.P1014.tsv does not exist\n",
      "File: ../../propertiesSplit_Final/claims.P2636.tsv does not exist\n",
      "File: ../../propertiesSplit_Final/claims.P1771.tsv does not exist\n",
      "File: ../../propertiesSplit_Final/claims.P2755.tsv does not exist\n",
      "File: ../../propertiesSplit_Final/claims.P8326.tsv does not exist\n",
      "File: ../../propertiesSplit_Final/claims.P1627.tsv does not exist\n",
      "File: ../../propertiesSplit_Final/claims.P954.tsv does not exist\n",
      "File: ../../propertiesSplit_Final/claims.P498.tsv does not exist\n",
      "File: ../../propertiesSplit_Final/claims.P1297.tsv does not exist\n",
      "File: ../../propertiesSplit_Final/claims.P8680.tsv does not exist\n",
      "File: ../../propertiesSplit_Final/claims.P715.tsv does not exist\n",
      "File: ../../propertiesSplit_Final/claims.P2606.tsv does not exist\n",
      "File: ../../propertiesSplit_Final/claims.P8303.tsv does not exist\n",
      "File: ../../propertiesSplit_Final/claims.P1874.tsv does not exist\n"
     ]
    }
   ],
   "source": [
    "from tqdm.notebook import tqdm\n",
    "import os.path\n",
    "import os\n",
    "\n",
    "cnt = 0\n",
    "fCnt = 0\n",
    "\n",
    "fOP = None\n",
    "\n",
    "folderName = 'codependencyConstraint'\n",
    "subFolderName = \"Mand_Normal\"\n",
    "shellFileSuffix = 'codepConst_MN_Validator'\n",
    "graph_cache_file_prefix = \"cache_new_2_\"\n",
    "\n",
    "for prop in tqdm(dfItemRequires.index.unique()):\n",
    "#     try:\n",
    "        mandatory = []\n",
    "        suggestion = []\n",
    "        normal = []\n",
    "        prop = str(prop)\n",
    "        \n",
    "        for _, constraint in dfItemRequires.loc[[prop]].iterrows():\n",
    "            if type(constraint['P2316']) == list:\n",
    "                if constraint['P2316'][0] == 'Q21502408':\n",
    "                    mandatory.append(constraint)\n",
    "                elif constraint['P2316'][0] == 'Q62026391':\n",
    "                    suggestion.append(constraint)\n",
    "            else:\n",
    "                normal.append(constraint)\n",
    "        \n",
    "        if not(os.path.isfile(\"../../propertiesSplit_Final/claims.\"+ prop +\".tsv\")):\n",
    "            continue\n",
    "                \n",
    "        commandInit = \"{ time ( kgtk --debug query -i ../../propertiesSplit_Final/claims.\"+ prop +\".tsv \"\n",
    "        commandOtherFiles = \"\"\n",
    "        commandMatch = \"--match '\"\n",
    "        commandMatchMoreFiles = [f\"{prop}: (node1)-[nodeProp]->(node2)\"]\n",
    "        commandWhere = \" --where '\"\n",
    "        commandWhere = []\n",
    "        \n",
    "        # Version 1 <<<<<<<<<<<<<<<<<<<<<<<<<<<<<<<<<<<<<<<<<<<<<<<<<<<<<<<<<<<<<<<<<<<<<<<<<<<<<<<<<<\n",
    "        constSet = mandatory + normal\n",
    "        \n",
    "        if len(constSet) == 0:\n",
    "            continue\n",
    "        excptns = set()\n",
    "        for (rowNo, constraint) in enumerate(constSet):\n",
    "            prop2 = constraint['P2306']\n",
    "            \n",
    "            if type(prop2) != list:\n",
    "                continue\n",
    "            prop2 = prop2[0]\n",
    "                \n",
    "            if not(os.path.isfile(\"../../propertiesSplit_Final/claims.\"+ prop2 +\".tsv\")):\n",
    "                print(f\"File: ../../propertiesSplit_Final/claims.{prop2}.tsv does not exist\")\n",
    "                continue\n",
    "            \n",
    "            commandOtherFiles += \"../../propertiesSplit_Final/claims.\"+ prop2 +\".tsv \"\n",
    "            if type(constraint['P2303']) == list: # Exceptions present\n",
    "                if len(excptns) == 0:\n",
    "                    excptns = set(constraint['P2303'])\n",
    "                else:\n",
    "                    excptns = excptns.intersection(set(constraint['P2303']))\n",
    "            if type(constraint['P2305']) == list:\n",
    "                commandMatchMoreFiles += [f\"{prop2}: (node1)-[]->(node2_{prop2})\"]\n",
    "                commandWhere += [\"node2_\" + prop2 + \" in \" + str(list(constraint['P2305'])).replace(\"'\",'\"')]\n",
    "            else:\n",
    "                commandMatchMoreFiles += [f\"{prop2}: (node1)-[]->()\"]\n",
    "#         print(commandMatchMoreFiles)\n",
    "        if len(commandWhere) == 0:\n",
    "            command = commandInit + commandOtherFiles + commandMatch + (\", \".join(commandMatchMoreFiles)) + \"'\"\n",
    "        else:\n",
    "            command = commandInit + commandOtherFiles + commandMatch + (\", \".join(commandMatchMoreFiles)) + \"'\" + \" --where '\"+(\" and \".join(commandWhere))+\"'\"\n",
    "        \n",
    "        if cnt % 60 == 0:\n",
    "            if fOP:\n",
    "                fOP.close()\n",
    "            fCnt += 1\n",
    "            fOP = open(\"../../propertiesSplit_Final/checkViolations/\" + shellFileSuffix + str(fCnt) + \".sh\",\"w\")\n",
    "        \n",
    "        if len(excptns) == 0:\n",
    "            commandRest = \" --return 'distinct nodeProp.id, node1 as `node1`, nodeProp.label as `label`, node2 as `node2`'  \\\n",
    "            -o ../../allConstraintsAnalysis_Final/\" + folderName + \"/\" + subFolderName + \"/claims.\"+ prop +\".correct.tsv \\\n",
    "            --graph-cache ../../sqlite3_caches/\" + str(graph_cache_file_prefix) + str(fCnt) + \".sqlite3.db; \\\n",
    "             kgtk --debug ifnotexists -i ../../propertiesSplit_Final/claims.\"+ prop +\".tsv \\\n",
    "            --filter-on ../../allConstraintsAnalysis_Final/\" + folderName + \"/\" + subFolderName + \"/claims.\"+ prop +\".correct.tsv \"\n",
    "            \n",
    "            commandOPFile = \"-o ../../allConstraintsAnalysis_Final/\" + folderName + \"/\" + subFolderName + \"/claims.\"+ prop +\".\"\n",
    "            \n",
    "            command += commandRest + commandOPFile + \"incorrect.tsv ) } 2>> ../../propertiesSplit_Final/checkViolations/exec_logs/timeLog_\" + shellFileSuffix + str(fCnt) + \".txt;\\n\"\n",
    "            fOP.write(command)\n",
    "        else:\n",
    "            commandRest = \" --return 'distinct nodeProp.id, node1 as `node1`, nodeProp.label as `label`, node2 as `node2`'  \\\n",
    "            -o ../../allConstraintsAnalysis_Final/\" + folderName + \"/\" + subFolderName + \"/claims.\"+ prop +\".correct_wo_exceptions.tsv \\\n",
    "            --graph-cache ../../sqlite3_caches/\" + str(graph_cache_file_prefix) + str(fCnt) + \".sqlite3.db; \\\n",
    "             kgtk --debug ifnotexists -i ../../propertiesSplit_Final/claims.\"+ prop +\".tsv \\\n",
    "            --filter-on ../../allConstraintsAnalysis_Final/\" + folderName + \"/\" + subFolderName + \"/claims.\"+ prop +\".correct_wo_exceptions.tsv \"\n",
    "            \n",
    "            commandOPFile = \"-o ../../allConstraintsAnalysis_Final/\" + folderName + \"/\" + subFolderName + \"/claims.\"+ prop +\".\"\n",
    "            \n",
    "            command += commandRest + commandOPFile + \"incorrect_wo_exceptions.tsv\\n\"\n",
    "            fOP.write(command)\n",
    "            \n",
    "            command = \"  kgtk --debug query -i ../../allConstraintsAnalysis_Final/\" + folderName + \"/\" + subFolderName + \"/claims.\" + prop + \".incorrect_wo_exceptions.tsv \\\n",
    "                    --match '(node1)-[]->()' --where 'node1 in \" + str(list(excptns)).replace(\"'\",'\"') + \"' \\\n",
    "                    -o ../../allConstraintsAnalysis_Final/\" + folderName + \"/\" + subFolderName + \"/claims.\" + prop + \".incorrect_w_exceptions.tsv \\\n",
    "                    --graph-cache ../../sqlite3_caches/\" + str(graph_cache_file_prefix) + str(fCnt) + \".sqlite3.db; \"\n",
    "            fOP.write(command)\n",
    "            \n",
    "            command = \"  kgtk --debug ifnotexists -i ../../allConstraintsAnalysis_Final/\" + folderName + \"/\" + subFolderName + \"/claims.\" + prop + \".incorrect_wo_exceptions.tsv \\\n",
    "            --filter-on ../../allConstraintsAnalysis_Final/\" + folderName + \"/\" + subFolderName + \"/claims.\" + prop + \".incorrect_w_exceptions.tsv \\\n",
    "            -o ../../allConstraintsAnalysis_Final/\" + folderName + \"/\" + subFolderName + \"/claims.\"+ prop +\".incorrect.tsv; \"\n",
    "            fOP.write(command)\n",
    "            \n",
    "            command = \"  kgtk cat -i ../../allConstraintsAnalysis_Final/\" + folderName + \"/\" + subFolderName + \"/claims.\"+ prop +\".correct_wo_exceptions.tsv \\\n",
    "                    ../../allConstraintsAnalysis_Final/\" + folderName + \"/\" + subFolderName + \"/claims.\"+ prop +\".incorrect_w_exceptions.tsv \\\n",
    "                    -o ../../allConstraintsAnalysis_Final/\" + folderName + \"/\" + subFolderName + \"/claims.\"+ prop +\".correct.tsv ) } 2>> ../../propertiesSplit_Final/checkViolations/exec_logs/timeLog_\" + shellFileSuffix + str(fCnt) + \".txt; \\n\"\n",
    "            fOP.write(command)\n",
    "        \n",
    "        \n",
    "        cnt += 1\n",
    "#     except:\n",
    "#         print(\"Something failed for prop:\",prop)\n",
    "if fOP:\n",
    "    fOP.close()"
   ]
  },
  {
   "cell_type": "code",
   "execution_count": 71,
   "id": "searching-individual",
   "metadata": {},
   "outputs": [
    {
     "data": {
      "text/plain": [
       "468"
      ]
     },
     "execution_count": 71,
     "metadata": {},
     "output_type": "execute_result"
    }
   ],
   "source": [
    "cnt"
   ]
  },
  {
   "cell_type": "code",
   "execution_count": 87,
   "id": "silver-clarity",
   "metadata": {},
   "outputs": [],
   "source": [
    "# import os\n",
    "# for i in range(1,25):\n",
    "#     os.system(\"screen -dm sh ../../propertiesSplit_Final/checkViolations/codepConst_MN_Validator\"+str(i)+\".sh\")"
   ]
  },
  {
   "cell_type": "markdown",
   "id": "prescription-access",
   "metadata": {},
   "source": [
    "#### Version 3 - Mandatory"
   ]
  },
  {
   "cell_type": "code",
   "execution_count": 73,
   "id": "married-porter",
   "metadata": {},
   "outputs": [
    {
     "data": {
      "application/vnd.jupyter.widget-view+json": {
       "model_id": "4c720c0c129f45e48fdf9152a95249c5",
       "version_major": 2,
       "version_minor": 0
      },
      "text/plain": [
       "  0%|          | 0/3147 [00:00<?, ?it/s]"
      ]
     },
     "metadata": {},
     "output_type": "display_data"
    },
    {
     "name": "stdout",
     "output_type": "stream",
     "text": [
      "File: ../../propertiesSplit_Final/claims.P1627.tsv does not exist\n"
     ]
    }
   ],
   "source": [
    "from tqdm.notebook import tqdm\n",
    "import os.path\n",
    "import os\n",
    "\n",
    "cnt = 0\n",
    "fCnt = 0\n",
    "\n",
    "folderName = 'codependencyConstraint'\n",
    "subFolderName = \"Mand\"\n",
    "shellFileSuffix = 'codepConst_M_Validator'\n",
    "graph_cache_file_prefix = \"cache_3_new_\"\n",
    "\n",
    "for prop in tqdm(dfItemRequires.index.unique()):\n",
    "#     try:\n",
    "        mandatory = []\n",
    "        suggestion = []\n",
    "        normal = []\n",
    "        prop = str(prop)\n",
    "        \n",
    "        for _, constraint in dfItemRequires.loc[[prop]].iterrows():\n",
    "            if type(constraint['P2316']) == list:\n",
    "                if constraint['P2316'][0] == 'Q21502408':\n",
    "                    mandatory.append(constraint)\n",
    "                elif constraint['P2316'][0] == 'Q62026391':\n",
    "                    suggestion.append(constraint)\n",
    "            else:\n",
    "                normal.append(constraint)\n",
    "        \n",
    "        if not(os.path.isfile(\"../../propertiesSplit_Final/claims.\"+ prop +\".tsv\")):\n",
    "            continue\n",
    "                \n",
    "        commandInit = \"{ time ( kgtk --debug query -i ../../propertiesSplit_Final/claims.\"+ prop +\".tsv \"\n",
    "        commandOtherFiles = \"\"\n",
    "        commandMatch = \"--match '\"\n",
    "        commandMatchMoreFiles = [f\"{prop}: (node1)-[nodeProp]->(node2)\"]\n",
    "        commandWhere = \" --where '\"\n",
    "        commandWhere = []\n",
    "        \n",
    "        # Version 1 <<<<<<<<<<<<<<<<<<<<<<<<<<<<<<<<<<<<<<<<<<<<<<<<<<<<<<<<<<<<<<<<<<<<<<<<<<<<<<<<<<\n",
    "        constSet = mandatory\n",
    "        \n",
    "        if len(constSet) == 0:\n",
    "            continue\n",
    "        excptns = set()\n",
    "        for (rowNo, constraint) in enumerate(constSet):\n",
    "            prop2 = constraint['P2306']\n",
    "            \n",
    "            if type(prop2) != list:\n",
    "                continue\n",
    "            prop2 = prop2[0]\n",
    "                \n",
    "            if not(os.path.isfile(\"../../propertiesSplit_Final/claims.\"+ prop2 +\".tsv\")):\n",
    "                print(f\"File: ../../propertiesSplit_Final/claims.{prop2}.tsv does not exist\")\n",
    "                continue\n",
    "            \n",
    "            commandOtherFiles += \"../../propertiesSplit_Final/claims.\"+ prop2 +\".tsv \"\n",
    "            if type(constraint['P2303']) == list: # Exceptions present\n",
    "                if len(excptns) == 0:\n",
    "                    excptns = set(constraint['P2303'])\n",
    "                else:\n",
    "                    excptns = excptns.intersection(set(constraint['P2303']))\n",
    "            if type(constraint['P2305']) == list:\n",
    "                commandMatchMoreFiles += [f\"{prop2}: (node1)-[]->(node2_{prop2})\"]\n",
    "                commandWhere += [\"node2_\" + prop2 + \" in \" + str(list(constraint['P2305'])).replace(\"'\",'\"')]\n",
    "            else:\n",
    "                commandMatchMoreFiles += [f\"{prop2}: (node1)-[]->()\"]\n",
    "#         print(commandMatchMoreFiles)\n",
    "        if len(commandWhere) == 0:\n",
    "            command = commandInit + commandOtherFiles + commandMatch + (\", \".join(commandMatchMoreFiles)) + \"'\"\n",
    "        else:\n",
    "            command = commandInit + commandOtherFiles + commandMatch + (\", \".join(commandMatchMoreFiles)) + \"'\" + \" --where '\"+(\" and \".join(commandWhere))+\"'\"\n",
    "        \n",
    "        if cnt % 60 == 0:\n",
    "            if fOP:\n",
    "                fOP.close()\n",
    "            fCnt += 1\n",
    "            fOP = open(\"../../propertiesSplit_Final/checkViolations/\" + shellFileSuffix + str(fCnt) + \".sh\",\"w\")\n",
    "        \n",
    "        if len(excptns) == 0:\n",
    "            commandRest = \" --return 'distinct nodeProp.id, node1 as `node1`, nodeProp.label as `label`, node2 as `node2`'  \\\n",
    "            -o ../../allConstraintsAnalysis_Final/\" + folderName + \"/\" + subFolderName + \"/claims.\"+ prop +\".correct.tsv \\\n",
    "            --graph-cache ../../sqlite3_caches/\" + str(graph_cache_file_prefix) + str(fCnt) + \".sqlite3.db; \\\n",
    "             kgtk --debug ifnotexists -i ../../propertiesSplit_Final/claims.\"+ prop +\".tsv \\\n",
    "            --filter-on ../../allConstraintsAnalysis_Final/\" + folderName + \"/\" + subFolderName + \"/claims.\"+ prop +\".correct.tsv \"\n",
    "            \n",
    "            commandOPFile = \"-o ../../allConstraintsAnalysis_Final/\" + folderName + \"/\" + subFolderName + \"/claims.\"+ prop +\".\"\n",
    "            \n",
    "            command += commandRest + commandOPFile + \"incorrect.tsv ) } 2>> ../../propertiesSplit_Final/checkViolations/exec_logs/timeLog_\" + shellFileSuffix + str(fCnt) + \".txt;\\n\"\n",
    "            fOP.write(command)\n",
    "        else:\n",
    "            commandRest = \" --return 'distinct nodeProp.id, node1 as `node1`, nodeProp.label as `label`, node2 as `node2`'  \\\n",
    "            -o ../../allConstraintsAnalysis_Final/\" + folderName + \"/\" + subFolderName + \"/claims.\"+ prop +\".correct_wo_exceptions.tsv \\\n",
    "            --graph-cache ../../sqlite3_caches/\" + str(graph_cache_file_prefix) + str(fCnt) + \".sqlite3.db; \\\n",
    "             kgtk --debug ifnotexists -i ../../propertiesSplit_Final/claims.\"+ prop +\".tsv \\\n",
    "            --filter-on ../../allConstraintsAnalysis_Final/\" + folderName + \"/\" + subFolderName + \"/claims.\"+ prop +\".correct_wo_exceptions.tsv \"\n",
    "            \n",
    "            commandOPFile = \"-o ../../allConstraintsAnalysis_Final/\" + folderName + \"/\" + subFolderName + \"/claims.\"+ prop +\".\"\n",
    "            \n",
    "            command += commandRest + commandOPFile + \"incorrect_wo_exceptions.tsv\\n\"\n",
    "            fOP.write(command)\n",
    "            \n",
    "            command = \"  kgtk --debug query -i ../../allConstraintsAnalysis_Final/\" + folderName + \"/\" + subFolderName + \"/claims.\" + prop + \".incorrect_wo_exceptions.tsv \\\n",
    "                    --match '(node1)-[]->()' --where 'node1 in \" + str(list(excptns)).replace(\"'\",'\"') + \"' \\\n",
    "                    -o ../../allConstraintsAnalysis_Final/\" + folderName + \"/\" + subFolderName + \"/claims.\" + prop + \".incorrect_w_exceptions.tsv \\\n",
    "                    --graph-cache ../../sqlite3_caches/\" + str(graph_cache_file_prefix) + str(fCnt) + \".sqlite3.db; \"\n",
    "            fOP.write(command)\n",
    "            \n",
    "            command = \"  kgtk --debug ifnotexists -i ../../allConstraintsAnalysis_Final/\" + folderName + \"/\" + subFolderName + \"/claims.\" + prop + \".incorrect_wo_exceptions.tsv \\\n",
    "            --filter-on ../../allConstraintsAnalysis_Final/\" + folderName + \"/\" + subFolderName + \"/claims.\" + prop + \".incorrect_w_exceptions.tsv \\\n",
    "            -o ../../allConstraintsAnalysis_Final/\" + folderName + \"/\" + subFolderName + \"/claims.\"+ prop +\".incorrect.tsv; \"\n",
    "            fOP.write(command)\n",
    "            \n",
    "            command = \"  kgtk cat -i ../../allConstraintsAnalysis_Final/\" + folderName + \"/\" + subFolderName + \"/claims.\"+ prop +\".correct_wo_exceptions.tsv \\\n",
    "                    ../../allConstraintsAnalysis_Final/\" + folderName + \"/\" + subFolderName + \"/claims.\"+ prop +\".incorrect_w_exceptions.tsv \\\n",
    "                    -o ../../allConstraintsAnalysis_Final/\" + folderName + \"/\" + subFolderName + \"/claims.\"+ prop +\".correct.tsv ) } 2>> ../../propertiesSplit_Final/checkViolations/exec_logs/timeLog_\" + shellFileSuffix + str(fCnt) + \".txt; \\n\"\n",
    "            fOP.write(command)\n",
    "        \n",
    "        \n",
    "        cnt += 1\n",
    "#     except:\n",
    "#         print(\"Something failed for prop:\",prop)\n",
    "if fOP:\n",
    "    fOP.close()"
   ]
  },
  {
   "cell_type": "code",
   "execution_count": 74,
   "id": "according-blackberry",
   "metadata": {},
   "outputs": [
    {
     "data": {
      "text/plain": [
       "78"
      ]
     },
     "execution_count": 74,
     "metadata": {},
     "output_type": "execute_result"
    }
   ],
   "source": [
    "cnt"
   ]
  },
  {
   "cell_type": "code",
   "execution_count": 88,
   "id": "extraordinary-drawing",
   "metadata": {},
   "outputs": [],
   "source": [
    "# import os\n",
    "# for i in range(1,5):\n",
    "#     os.system(\"screen -dm sh ../../propertiesSplit_Final/checkViolations/codepConst_M_Validator\"+str(i)+\".sh\")"
   ]
  },
  {
   "cell_type": "markdown",
   "id": "subsequent-brown",
   "metadata": {},
   "source": [
    "#### Version 4 - Normal"
   ]
  },
  {
   "cell_type": "code",
   "execution_count": 76,
   "id": "operational-migration",
   "metadata": {},
   "outputs": [
    {
     "data": {
      "application/vnd.jupyter.widget-view+json": {
       "model_id": "5112a04504a94ca3931f2a5db93c6ae5",
       "version_major": 2,
       "version_minor": 0
      },
      "text/plain": [
       "  0%|          | 0/3147 [00:00<?, ?it/s]"
      ]
     },
     "metadata": {},
     "output_type": "display_data"
    },
    {
     "name": "stdout",
     "output_type": "stream",
     "text": [
      "File: ../../propertiesSplit_Final/claims.P345.tsv does not exist\n",
      "File: ../../propertiesSplit_Final/claims.P2604.tsv does not exist\n",
      "File: ../../propertiesSplit_Final/claims.P1566.tsv does not exist\n",
      "File: ../../propertiesSplit_Final/claims.P2355.tsv does not exist\n",
      "File: ../../propertiesSplit_Final/claims.P1014.tsv does not exist\n",
      "File: ../../propertiesSplit_Final/claims.P2636.tsv does not exist\n",
      "File: ../../propertiesSplit_Final/claims.P1771.tsv does not exist\n",
      "File: ../../propertiesSplit_Final/claims.P2755.tsv does not exist\n",
      "File: ../../propertiesSplit_Final/claims.P8326.tsv does not exist\n",
      "File: ../../propertiesSplit_Final/claims.P954.tsv does not exist\n",
      "File: ../../propertiesSplit_Final/claims.P498.tsv does not exist\n",
      "File: ../../propertiesSplit_Final/claims.P1297.tsv does not exist\n",
      "File: ../../propertiesSplit_Final/claims.P8680.tsv does not exist\n",
      "File: ../../propertiesSplit_Final/claims.P715.tsv does not exist\n",
      "File: ../../propertiesSplit_Final/claims.P2606.tsv does not exist\n",
      "File: ../../propertiesSplit_Final/claims.P8303.tsv does not exist\n",
      "File: ../../propertiesSplit_Final/claims.P1874.tsv does not exist\n"
     ]
    }
   ],
   "source": [
    "from tqdm.notebook import tqdm\n",
    "import os.path\n",
    "import os\n",
    "\n",
    "cnt = 0\n",
    "fCnt = 0\n",
    "\n",
    "fOP = None\n",
    "\n",
    "folderName = 'codependencyConstraint'\n",
    "subFolderName = \"Normal\"\n",
    "shellFileSuffix = 'codepConst_N_Validator'\n",
    "graph_cache_file_prefix = \"cache_4_new_\"\n",
    "\n",
    "for prop in tqdm(dfItemRequires.index.unique()):\n",
    "#     try:\n",
    "        mandatory = []\n",
    "        suggestion = []\n",
    "        normal = []\n",
    "        prop = str(prop)\n",
    "        \n",
    "        for _, constraint in dfItemRequires.loc[[prop]].iterrows():\n",
    "            if type(constraint['P2316']) == list:\n",
    "                if constraint['P2316'][0] == 'Q21502408':\n",
    "                    mandatory.append(constraint)\n",
    "                elif constraint['P2316'][0] == 'Q62026391':\n",
    "                    suggestion.append(constraint)\n",
    "            else:\n",
    "                normal.append(constraint)\n",
    "        \n",
    "        if not(os.path.isfile(\"../../propertiesSplit_Final/claims.\"+ prop +\".tsv\")):\n",
    "            continue\n",
    "                \n",
    "        commandInit = \"{ time ( kgtk --debug query -i ../../propertiesSplit_Final/claims.\"+ prop +\".tsv \"\n",
    "        commandOtherFiles = \"\"\n",
    "        commandMatch = \"--match '\"\n",
    "        commandMatchMoreFiles = [f\"{prop}: (node1)-[nodeProp]->(node2)\"]\n",
    "        commandWhere = \" --where '\"\n",
    "        commandWhere = []\n",
    "        \n",
    "        # Version 1 <<<<<<<<<<<<<<<<<<<<<<<<<<<<<<<<<<<<<<<<<<<<<<<<<<<<<<<<<<<<<<<<<<<<<<<<<<<<<<<<<<\n",
    "        constSet = normal\n",
    "        \n",
    "        if len(constSet) == 0:\n",
    "            continue\n",
    "        excptns = set()\n",
    "        for (rowNo, constraint) in enumerate(constSet):\n",
    "            prop2 = constraint['P2306']\n",
    "            \n",
    "            if type(prop2) != list:\n",
    "                continue\n",
    "            prop2 = prop2[0]\n",
    "                \n",
    "            if not(os.path.isfile(\"../../propertiesSplit_Final/claims.\"+ prop2 +\".tsv\")):\n",
    "                print(f\"File: ../../propertiesSplit_Final/claims.{prop2}.tsv does not exist\")\n",
    "                continue\n",
    "            \n",
    "            commandOtherFiles += \"../../propertiesSplit_Final/claims.\"+ prop2 +\".tsv \"\n",
    "            if type(constraint['P2303']) == list: # Exceptions present\n",
    "                if len(excptns) == 0:\n",
    "                    excptns = set(constraint['P2303'])\n",
    "                else:\n",
    "                    excptns = excptns.intersection(set(constraint['P2303']))\n",
    "            if type(constraint['P2305']) == list:\n",
    "                commandMatchMoreFiles += [f\"{prop2}: (node1)-[]->(node2_{prop2})\"]\n",
    "                commandWhere += [\"node2_\" + prop2 + \" in \" + str(list(constraint['P2305'])).replace(\"'\",'\"')]\n",
    "            else:\n",
    "                commandMatchMoreFiles += [f\"{prop2}: (node1)-[]->()\"]\n",
    "#         print(commandMatchMoreFiles)\n",
    "        if len(commandWhere) == 0:\n",
    "            command = commandInit + commandOtherFiles + commandMatch + (\", \".join(commandMatchMoreFiles)) + \"'\"\n",
    "        else:\n",
    "            command = commandInit + commandOtherFiles + commandMatch + (\", \".join(commandMatchMoreFiles)) + \"'\" + \" --where '\"+(\" and \".join(commandWhere))+\"'\"\n",
    "        \n",
    "        if cnt % 60 == 0:\n",
    "            if fOP:\n",
    "                fOP.close()\n",
    "            fCnt += 1\n",
    "            fOP = open(\"../../propertiesSplit_Final/checkViolations/\" + shellFileSuffix + str(fCnt) + \".sh\",\"w\")\n",
    "        \n",
    "        if len(excptns) == 0:\n",
    "            commandRest = \" --return 'distinct nodeProp.id, node1 as `node1`, nodeProp.label as `label`, node2 as `node2`'  \\\n",
    "            -o ../../allConstraintsAnalysis_Final/\" + folderName + \"/\" + subFolderName + \"/claims.\"+ prop +\".correct.tsv \\\n",
    "            --graph-cache ../../sqlite3_caches/\" + str(graph_cache_file_prefix) + str(fCnt) + \".sqlite3.db; \\\n",
    "             kgtk --debug ifnotexists -i ../../propertiesSplit_Final/claims.\"+ prop +\".tsv \\\n",
    "            --filter-on ../../allConstraintsAnalysis_Final/\" + folderName + \"/\" + subFolderName + \"/claims.\"+ prop +\".correct.tsv \"\n",
    "            \n",
    "            commandOPFile = \"-o ../../allConstraintsAnalysis_Final/\" + folderName + \"/\" + subFolderName + \"/claims.\"+ prop +\".\"\n",
    "            \n",
    "            command += commandRest + commandOPFile + \"incorrect.tsv ) } 2>> ../../propertiesSplit_Final/checkViolations/exec_logs/timeLog_\" + shellFileSuffix + str(fCnt) + \".txt;\\n\"\n",
    "            fOP.write(command)\n",
    "        else:\n",
    "            commandRest = \" --return 'distinct nodeProp.id, node1 as `node1`, nodeProp.label as `label`, node2 as `node2`'  \\\n",
    "            -o ../../allConstraintsAnalysis_Final/\" + folderName + \"/\" + subFolderName + \"/claims.\"+ prop +\".correct_wo_exceptions.tsv \\\n",
    "            --graph-cache ../../sqlite3_caches/\" + str(graph_cache_file_prefix) + str(fCnt) + \".sqlite3.db; \\\n",
    "             kgtk --debug ifnotexists -i ../../propertiesSplit_Final/claims.\"+ prop +\".tsv \\\n",
    "            --filter-on ../../allConstraintsAnalysis_Final/\" + folderName + \"/\" + subFolderName + \"/claims.\"+ prop +\".correct_wo_exceptions.tsv \"\n",
    "            \n",
    "            commandOPFile = \"-o ../../allConstraintsAnalysis_Final/\" + folderName + \"/\" + subFolderName + \"/claims.\"+ prop +\".\"\n",
    "            \n",
    "            command += commandRest + commandOPFile + \"incorrect_wo_exceptions.tsv\\n\"\n",
    "            fOP.write(command)\n",
    "            \n",
    "            command = \"  kgtk --debug query -i ../../allConstraintsAnalysis_Final/\" + folderName + \"/\" + subFolderName + \"/claims.\" + prop + \".incorrect_wo_exceptions.tsv \\\n",
    "                    --match '(node1)-[]->()' --where 'node1 in \" + str(list(excptns)).replace(\"'\",'\"') + \"' \\\n",
    "                    -o ../../allConstraintsAnalysis_Final/\" + folderName + \"/\" + subFolderName + \"/claims.\" + prop + \".incorrect_w_exceptions.tsv \\\n",
    "                    --graph-cache ../../sqlite3_caches/\" + str(graph_cache_file_prefix) + str(fCnt) + \".sqlite3.db; \"\n",
    "            fOP.write(command)\n",
    "            \n",
    "            command = \"  kgtk --debug ifnotexists -i ../../allConstraintsAnalysis_Final/\" + folderName + \"/\" + subFolderName + \"/claims.\" + prop + \".incorrect_wo_exceptions.tsv \\\n",
    "            --filter-on ../../allConstraintsAnalysis_Final/\" + folderName + \"/\" + subFolderName + \"/claims.\" + prop + \".incorrect_w_exceptions.tsv\\\n",
    "            -o ../../allConstraintsAnalysis_Final/\" + folderName + \"/\" + subFolderName + \"/claims.\"+ prop +\".incorrect.tsv; \"\n",
    "            fOP.write(command)\n",
    "            \n",
    "            command = \"  kgtk cat -i ../../allConstraintsAnalysis_Final/\" + folderName + \"/\" + subFolderName + \"/claims.\"+ prop +\".correct_wo_exceptions.tsv \\\n",
    "                    ../../allConstraintsAnalysis_Final/\" + folderName + \"/\" + subFolderName + \"/claims.\"+ prop +\".incorrect_w_exceptions.tsv \\\n",
    "                    -o ../../allConstraintsAnalysis_Final/\" + folderName + \"/\" + subFolderName + \"/claims.\"+ prop +\".correct.tsv ) } 2>> ../../propertiesSplit_Final/checkViolations/exec_logs/timeLog_\" + shellFileSuffix + str(fCnt) + \".txt; \\n\"\n",
    "            fOP.write(command)\n",
    "        \n",
    "        \n",
    "        cnt += 1\n",
    "#     except:\n",
    "#         print(\"Something failed for prop:\",prop)\n",
    "if fOP:\n",
    "    fOP.close()"
   ]
  },
  {
   "cell_type": "code",
   "execution_count": 77,
   "id": "harmful-binary",
   "metadata": {},
   "outputs": [
    {
     "data": {
      "text/plain": [
       "418"
      ]
     },
     "execution_count": 77,
     "metadata": {},
     "output_type": "execute_result"
    }
   ],
   "source": [
    "cnt"
   ]
  },
  {
   "cell_type": "code",
   "execution_count": 1,
   "id": "advance-married",
   "metadata": {},
   "outputs": [],
   "source": [
    "# import os\n",
    "# for i in range(1,23):\n",
    "#     os.system(\"screen -dm sh ../../propertiesSplit_Final/checkViolations/codepConst_N_Validator\"+str(i)+\".sh\")"
   ]
  },
  {
   "cell_type": "markdown",
   "id": "ranging-journal",
   "metadata": {},
   "source": [
    "#### Version 5 - Suggestion"
   ]
  },
  {
   "cell_type": "code",
   "execution_count": 79,
   "id": "missing-jordan",
   "metadata": {},
   "outputs": [
    {
     "data": {
      "application/vnd.jupyter.widget-view+json": {
       "model_id": "7db5ffb8ea4c4778aaf92a4c4d752040",
       "version_major": 2,
       "version_minor": 0
      },
      "text/plain": [
       "  0%|          | 0/3147 [00:00<?, ?it/s]"
      ]
     },
     "metadata": {},
     "output_type": "display_data"
    },
    {
     "name": "stdout",
     "output_type": "stream",
     "text": [
      "File: ../../propertiesSplit_Final/claims.P1566.tsv does not exist\n",
      "File: ../../propertiesSplit_Final/claims.P3350.tsv does not exist\n",
      "File: ../../propertiesSplit_Final/claims.P5128.tsv does not exist\n"
     ]
    }
   ],
   "source": [
    "from tqdm.notebook import tqdm\n",
    "import os.path\n",
    "import os\n",
    "\n",
    "cnt = 0\n",
    "fCnt = 0\n",
    "\n",
    "folderName = 'codependencyConstraint'\n",
    "subFolderName = \"Suggestion\"\n",
    "shellFileSuffix = 'codepConst_S_Validator'\n",
    "graph_cache_file_prefix = \"codep_new_6_1_\"\n",
    "\n",
    "fOP = None\n",
    "\n",
    "for prop in tqdm(dfItemRequires.index.unique()):\n",
    "#     try:\n",
    "        mandatory = []\n",
    "        suggestion = []\n",
    "        normal = []\n",
    "        prop = str(prop)\n",
    "        \n",
    "        for _, constraint in dfItemRequires.loc[[prop]].iterrows():\n",
    "            if type(constraint['P2316']) == list:\n",
    "                if constraint['P2316'][0] == 'Q21502408':\n",
    "                    mandatory.append(constraint)\n",
    "                elif constraint['P2316'][0] == 'Q62026391':\n",
    "                    suggestion.append(constraint)\n",
    "            else:\n",
    "                normal.append(constraint)\n",
    "        \n",
    "        if not(os.path.isfile(\"../../propertiesSplit_Final/claims.\"+ prop +\".tsv\")):\n",
    "            continue\n",
    "                \n",
    "        commandInit = \"{ time ( kgtk --debug query -i ../../propertiesSplit_Final/claims.\"+ prop +\".tsv \"\n",
    "        commandOtherFiles = \"\"\n",
    "        commandMatch = \"--match '\"\n",
    "        commandMatchMoreFiles = [f\"{prop}: (node1)-[nodeProp]->(node2)\"]\n",
    "        commandWhere = \" --where '\"\n",
    "        commandWhere = []\n",
    "        \n",
    "        # Version 1 <<<<<<<<<<<<<<<<<<<<<<<<<<<<<<<<<<<<<<<<<<<<<<<<<<<<<<<<<<<<<<<<<<<<<<<<<<<<<<<<<<\n",
    "        constSet = suggestion\n",
    "        \n",
    "        if len(constSet) == 0:\n",
    "            continue\n",
    "        excptns = set()\n",
    "        for (rowNo, constraint) in enumerate(constSet):\n",
    "            prop2 = constraint['P2306']\n",
    "            \n",
    "            if type(prop2) != list:\n",
    "                continue\n",
    "            prop2 = prop2[0]\n",
    "                \n",
    "            if not(os.path.isfile(\"../../propertiesSplit_Final/claims.\"+ prop2 +\".tsv\")):\n",
    "                print(f\"File: ../../propertiesSplit_Final/claims.{prop2}.tsv does not exist\")\n",
    "                continue\n",
    "            \n",
    "            commandOtherFiles += \"../../propertiesSplit_Final/claims.\"+ prop2 +\".tsv \"\n",
    "            if type(constraint['P2303']) == list: # Exceptions present\n",
    "                if len(excptns) == 0:\n",
    "                    excptns = set(constraint['P2303'])\n",
    "                else:\n",
    "                    excptns = excptns.intersection(set(constraint['P2303']))\n",
    "            if type(constraint['P2305']) == list:\n",
    "                commandMatchMoreFiles += [f\"{prop2}: (node1)-[]->(node2_{prop2})\"]\n",
    "                commandWhere += [\"node2_\" + prop2 + \" in \" + str(list(constraint['P2305'])).replace(\"'\",'\"')]\n",
    "            else:\n",
    "                commandMatchMoreFiles += [f\"{prop2}: (node1)-[]->()\"]\n",
    "#         print(commandMatchMoreFiles)\n",
    "        if len(commandWhere) == 0:\n",
    "            command = commandInit + commandOtherFiles + commandMatch + (\", \".join(commandMatchMoreFiles)) + \"'\"\n",
    "        else:\n",
    "            command = commandInit + commandOtherFiles + commandMatch + (\", \".join(commandMatchMoreFiles)) + \"'\" + \" --where '\"+(\" and \".join(commandWhere))+\"'\"\n",
    "        \n",
    "        if cnt % 60 == 0:\n",
    "            if fOP:\n",
    "                fOP.close()\n",
    "            fCnt += 1\n",
    "            fOP = open(\"../../propertiesSplit_Final/checkViolations/\" + shellFileSuffix + str(fCnt) + \".sh\",\"w\")\n",
    "        \n",
    "        if len(excptns) == 0:\n",
    "            commandRest = \" --return 'distinct nodeProp.id, node1 as `node1`, nodeProp.label as `label`, node2 as `node2`'  \\\n",
    "            -o ../../allConstraintsAnalysis_Final/\" + folderName + \"/\" + subFolderName + \"/claims.\"+ prop +\".correct.tsv \\\n",
    "            --graph-cache ../../sqlite3_caches/\" + str(graph_cache_file_prefix) + str(fCnt) + \".sqlite3.db; \\\n",
    "             kgtk --debug ifnotexists -i ../../propertiesSplit_Final/claims.\"+ prop +\".tsv \\\n",
    "            --filter-on ../../allConstraintsAnalysis_Final/\" + folderName + \"/\" + subFolderName + \"/claims.\"+ prop +\".correct.tsv \"\n",
    "            \n",
    "            commandOPFile = \"-o ../../allConstraintsAnalysis_Final/\" + folderName + \"/\" + subFolderName + \"/claims.\"+ prop +\".\"\n",
    "            \n",
    "            command += commandRest + commandOPFile + \"incorrect.tsv ) } 2>> ../../propertiesSplit_Final/checkViolations/exec_logs/timeLog_\" + shellFileSuffix + str(fCnt) + \".txt;\\n\"\n",
    "            fOP.write(command)\n",
    "        else:\n",
    "            commandRest = \" --return 'distinct nodeProp.id, node1 as `node1`, nodeProp.label as `label`, node2 as `node2`'  \\\n",
    "            -o ../../allConstraintsAnalysis_Final/\" + folderName + \"/\" + subFolderName + \"/claims.\"+ prop +\".correct_wo_exceptions.tsv \\\n",
    "            --graph-cache ../../sqlite3_caches/\" + str(graph_cache_file_prefix) + str(fCnt) + \".sqlite3.db; \\\n",
    "             kgtk --debug ifnotexists -i ../../propertiesSplit_Final/claims.\"+ prop +\".tsv \\\n",
    "            --filter-on ../../allConstraintsAnalysis_Final/\" + folderName + \"/\" + subFolderName + \"/claims.\"+ prop +\".correct_wo_exceptions.tsv \"\n",
    "            \n",
    "            commandOPFile = \"-o ../../allConstraintsAnalysis_Final/\" + folderName + \"/\" + subFolderName + \"/claims.\"+ prop +\".\"\n",
    "            \n",
    "            command += commandRest + commandOPFile + \"incorrect_wo_exceptions.tsv\\n\"\n",
    "            fOP.write(command)\n",
    "            \n",
    "            command = \"  kgtk --debug query -i ../../allConstraintsAnalysis_Final/\" + folderName + \"/\" + subFolderName + \"/claims.\" + prop + \".incorrect_wo_exceptions.tsv \\\n",
    "                    --match '(node1)-[]->()' --where 'node1 in \" + str(list(excptns)).replace(\"'\",'\"') + \"' \\\n",
    "                    -o ../../allConstraintsAnalysis_Final/\" + folderName + \"/\" + subFolderName + \"/claims.\" + prop + \".incorrect_w_exceptions.tsv \\\n",
    "                    --graph-cache ../../sqlite3_caches/\" + str(graph_cache_file_prefix) + str(fCnt) + \".sqlite3.db; \"\n",
    "            fOP.write(command)\n",
    "            \n",
    "            command = \"  kgtk --debug ifnotexists -i ../../allConstraintsAnalysis_Final/\" + folderName + \"/\" + subFolderName + \"/claims.\" + prop + \".incorrect_wo_exceptions.tsv \\\n",
    "            --filter-on ../../allConstraintsAnalysis_Final/\" + folderName + \"/\" + subFolderName + \"/claims.\" + prop + \".incorrect_w_exceptions.tsv \\\n",
    "            -o ../../allConstraintsAnalysis_Final/\" + folderName + \"/\" + subFolderName + \"/claims.\"+ prop +\".incorrect.tsv; \"\n",
    "            fOP.write(command)\n",
    "            \n",
    "            command = \"  kgtk cat -i ../../allConstraintsAnalysis_Final/\" + folderName + \"/\" + subFolderName + \"/claims.\"+ prop +\".correct_wo_exceptions.tsv \\\n",
    "                    ../../allConstraintsAnalysis_Final/\" + folderName + \"/\" + subFolderName + \"/claims.\"+ prop +\".incorrect_w_exceptions.tsv \\\n",
    "                    -o ../../allConstraintsAnalysis_Final/\" + folderName + \"/\" + subFolderName + \"/claims.\"+ prop +\".correct.tsv ) } 2>> ../../propertiesSplit_Final/checkViolations/exec_logs/timeLog_\" + shellFileSuffix + str(fCnt) + \".txt; \\n\"\n",
    "            fOP.write(command)\n",
    "        \n",
    "        \n",
    "        cnt += 1\n",
    "#     except:\n",
    "#         print(\"Something failed for prop:\",prop)\n",
    "if fOP:\n",
    "    fOP.close()"
   ]
  },
  {
   "cell_type": "code",
   "execution_count": null,
   "id": "soviet-forth",
   "metadata": {},
   "outputs": [],
   "source": [
    "cnt"
   ]
  },
  {
   "cell_type": "code",
   "execution_count": 2,
   "id": "racial-stationery",
   "metadata": {},
   "outputs": [],
   "source": [
    "# import os\n",
    "# for i in range(1,6):\n",
    "#     os.system(\"screen -dm sh ../../propertiesSplit_Final/checkViolations/codepConst_S_Validator\"+str(i)+\".sh\")"
   ]
  },
  {
   "cell_type": "markdown",
   "id": "homeless-pleasure",
   "metadata": {},
   "source": [
    "### Analyze Violations"
   ]
  },
  {
   "cell_type": "code",
   "execution_count": 43,
   "id": "welcome-dependence",
   "metadata": {
    "scrolled": true
   },
   "outputs": [
    {
     "data": {
      "application/vnd.jupyter.widget-view+json": {
       "model_id": "94838068c0034792846bf1103e76dfc1",
       "version_major": 2,
       "version_minor": 0
      },
      "text/plain": [
       "0it [00:00, ?it/s]"
      ]
     },
     "metadata": {},
     "output_type": "display_data"
    },
    {
     "data": {
      "application/vnd.jupyter.widget-view+json": {
       "model_id": "c72ed8fa7449495986c6aea38cfec315",
       "version_major": 2,
       "version_minor": 0
      },
      "text/plain": [
       "  0%|          | 0/1192 [00:00<?, ?it/s]"
      ]
     },
     "metadata": {},
     "output_type": "display_data"
    },
    {
     "data": {
      "application/vnd.jupyter.widget-view+json": {
       "model_id": "a619f51c168340dcb0268d1363dabcd1",
       "version_major": 2,
       "version_minor": 0
      },
      "text/plain": [
       "  0%|          | 0/1053 [00:00<?, ?it/s]"
      ]
     },
     "metadata": {},
     "output_type": "display_data"
    },
    {
     "data": {
      "application/vnd.jupyter.widget-view+json": {
       "model_id": "50c08060e0754d62bf953d216b4671f4",
       "version_major": 2,
       "version_minor": 0
      },
      "text/plain": [
       "  0%|          | 0/156 [00:00<?, ?it/s]"
      ]
     },
     "metadata": {},
     "output_type": "display_data"
    },
    {
     "data": {
      "application/vnd.jupyter.widget-view+json": {
       "model_id": "b85d7e61bd7b432888f8e691ad5460b1",
       "version_major": 2,
       "version_minor": 0
      },
      "text/plain": [
       "  0%|          | 0/953 [00:00<?, ?it/s]"
      ]
     },
     "metadata": {},
     "output_type": "display_data"
    },
    {
     "data": {
      "application/vnd.jupyter.widget-view+json": {
       "model_id": "f8e78f63140b4dedbc5bf5822db3deec",
       "version_major": 2,
       "version_minor": 0
      },
      "text/plain": [
       "  0%|          | 0/215 [00:00<?, ?it/s]"
      ]
     },
     "metadata": {},
     "output_type": "display_data"
    }
   ],
   "source": [
    "import pandas as pd\n",
    "import os\n",
    "from tqdm.notebook import tqdm\n",
    "\n",
    "codepConstViolations = {}\n",
    "\n",
    "def countLines(fname):\n",
    "    cnt = -1\n",
    "    with open(fname, 'r') as f:\n",
    "        for line in f:\n",
    "            cnt += 1\n",
    "    return cnt\n",
    "\n",
    "codepConstViolations = {}\n",
    "codepConstPropList = set()\n",
    "\n",
    "# codepConstViolationsSummary = {}\n",
    "\n",
    "for folder in tqdm(iter(['Mand_Sugg_Normal', 'Mand_Normal', 'Mand', 'Normal','Suggestion'])):\n",
    "    filePath = \"../../allConstraintsAnalysis_Final/codependencyConstraint/\"+folder+\"/\"\n",
    "    for filename in tqdm(os.listdir(filePath)):\n",
    "        prop = filename.split(\".\")[1]\n",
    "        correctness = filename.split(\".\")[2]\n",
    "        if correctness not in ['correct','incorrect']:\n",
    "            continue\n",
    "        codepConstPropList.add(prop)\n",
    "        count1 = countLines(filePath+filename)\n",
    "        if folder not in codepConstViolations:\n",
    "            codepConstViolations[folder] = {}\n",
    "        if prop not in codepConstViolations[folder]:\n",
    "            codepConstViolations[folder][prop] = {'correct': 0, 'incorrect': 0, 'paths': []}\n",
    "        codepConstViolations[folder][prop][correctness] = count1\n",
    "        codepConstViolations[folder][prop]['paths'].append(filePath+filename)\n",
    "        \n",
    "#         if folder not in codepConstViolationsSummary:\n",
    "#             codepConstViolationsSummary[folder] = {'correct': 0, 'incorrect': 0}\n",
    "#         codepConstViolationsSummary[folder][correctness] += count1"
   ]
  },
  {
   "cell_type": "code",
   "execution_count": 44,
   "id": "heated-astrology",
   "metadata": {},
   "outputs": [],
   "source": [
    "codepConstViolationsSummary = {}\n",
    "for folder in codepConstViolations.keys():\n",
    "    for prop in codepConstViolations[folder].keys():\n",
    "        if folder not in codepConstViolationsSummary:\n",
    "            codepConstViolationsSummary[folder] = {'correct': 0, 'incorrect': 0, 'propCount': 0}\n",
    "        codepConstViolationsSummary[folder]['correct'] += codepConstViolations[folder][prop]['correct']\n",
    "        codepConstViolationsSummary[folder]['incorrect'] += codepConstViolations[folder][prop]['incorrect']\n",
    "        codepConstViolationsSummary[folder]['propCount'] += 1"
   ]
  },
  {
   "cell_type": "code",
   "execution_count": 45,
   "id": "grateful-catalog",
   "metadata": {},
   "outputs": [],
   "source": [
    "for elem in codepConstViolationsSummary.keys():\n",
    "    codepConstViolationsSummary[elem]['total'] = codepConstViolationsSummary[elem]['correct'] + codepConstViolationsSummary[elem]['incorrect']\n",
    "    codepConstViolationsSummary[elem]['percIncorrect'] = codepConstViolationsSummary[elem]['incorrect'] / codepConstViolationsSummary[elem]['total'] * 100"
   ]
  },
  {
   "cell_type": "code",
   "execution_count": 46,
   "id": "physical-soviet",
   "metadata": {},
   "outputs": [
    {
     "data": {
      "text/plain": [
       "{'Mand_Sugg_Normal': {'correct': 298173993,\n",
       "  'incorrect': 4468153,\n",
       "  'propCount': 527,\n",
       "  'total': 302642146,\n",
       "  'percIncorrect': 1.47638161407962},\n",
       " 'Mand_Normal': {'correct': 273602683,\n",
       "  'incorrect': 2248323,\n",
       "  'propCount': 468,\n",
       "  'total': 275851006,\n",
       "  'percIncorrect': 0.815049773644835},\n",
       " 'Mand': {'correct': 3984740,\n",
       "  'incorrect': 767,\n",
       "  'propCount': 78,\n",
       "  'total': 3985507,\n",
       "  'percIncorrect': 0.019244728462401398},\n",
       " 'Normal': {'correct': 272710532,\n",
       "  'incorrect': 2247659,\n",
       "  'propCount': 418,\n",
       "  'total': 274958191,\n",
       "  'percIncorrect': 0.8174548253410643},\n",
       " 'Suggestion': {'correct': 25729758,\n",
       "  'incorrect': 2240178,\n",
       "  'propCount': 97,\n",
       "  'total': 27969936,\n",
       "  'percIncorrect': 8.009235344692959}}"
      ]
     },
     "execution_count": 46,
     "metadata": {},
     "output_type": "execute_result"
    }
   ],
   "source": [
    "codepConstViolationsSummary"
   ]
  },
  {
   "cell_type": "code",
   "execution_count": 47,
   "id": "permanent-triumph",
   "metadata": {},
   "outputs": [
    {
     "data": {
      "application/vnd.jupyter.widget-view+json": {
       "model_id": "3e7eafb70a1b42eba5baaffd906ee678",
       "version_major": 2,
       "version_minor": 0
      },
      "text/plain": [
       "  0%|          | 0/3147 [00:00<?, ?it/s]"
      ]
     },
     "metadata": {},
     "output_type": "display_data"
    },
    {
     "name": "stdout",
     "output_type": "stream",
     "text": [
      "File: ../../propertiesSplit_Final/claims.P345.tsv does not exist\n",
      "File: ../../propertiesSplit_Final/claims.P2604.tsv does not exist\n",
      "File: ../../propertiesSplit_Final/claims.P1566.tsv does not exist\n",
      "File: ../../propertiesSplit_Final/claims.P1566.tsv does not exist\n",
      "File: ../../propertiesSplit_Final/claims.P2355.tsv does not exist\n",
      "File: ../../propertiesSplit_Final/claims.P3350.tsv does not exist\n",
      "File: ../../propertiesSplit_Final/claims.P1014.tsv does not exist\n",
      "File: ../../propertiesSplit_Final/claims.P2636.tsv does not exist\n",
      "File: ../../propertiesSplit_Final/claims.P1771.tsv does not exist\n",
      "File: ../../propertiesSplit_Final/claims.P2755.tsv does not exist\n",
      "File: ../../propertiesSplit_Final/claims.P8326.tsv does not exist\n",
      "File: ../../propertiesSplit_Final/claims.P5128.tsv does not exist\n",
      "File: ../../propertiesSplit_Final/claims.P1627.tsv does not exist\n",
      "File: ../../propertiesSplit_Final/claims.P954.tsv does not exist\n",
      "File: ../../propertiesSplit_Final/claims.P498.tsv does not exist\n",
      "File: ../../propertiesSplit_Final/claims.P1297.tsv does not exist\n",
      "File: ../../propertiesSplit_Final/claims.P8680.tsv does not exist\n",
      "File: ../../propertiesSplit_Final/claims.P715.tsv does not exist\n",
      "File: ../../propertiesSplit_Final/claims.P2606.tsv does not exist\n",
      "File: ../../propertiesSplit_Final/claims.P8303.tsv does not exist\n",
      "File: ../../propertiesSplit_Final/claims.P1874.tsv does not exist\n"
     ]
    }
   ],
   "source": [
    "mandatoryPropCount = 0\n",
    "suggestionPropCount = 0\n",
    "normalPropCount = 0\n",
    "for prop in tqdm(dfItemRequires.index.unique()):\n",
    "    if not(os.path.isfile(\"../../propertiesSplit_Final/claims.\"+ prop +\".tsv\")):\n",
    "        continue\n",
    "    prop = str(prop)\n",
    "    hasMandatory = False\n",
    "    hasSuggestion = False\n",
    "    hasNormal = False\n",
    "\n",
    "    for _, constraint in dfItemRequires.loc[[prop]].iterrows():\n",
    "        prop2 = constraint['P2306']\n",
    "            \n",
    "        if type(prop2) != list:\n",
    "            continue\n",
    "        prop2 = prop2[0]\n",
    "\n",
    "        if not(os.path.isfile(\"../../propertiesSplit_Final/claims.\"+ prop2 +\".tsv\")):\n",
    "            print(f\"File: ../../propertiesSplit_Final/claims.{prop2}.tsv does not exist\")\n",
    "            continue\n",
    "            \n",
    "        if type(constraint['P2316']) == list:\n",
    "            if constraint['P2316'][0] == 'Q21502408':\n",
    "                hasMandatory = True\n",
    "            elif constraint['P2316'][0] == 'Q62026391':\n",
    "                hasSuggestion = True\n",
    "        else:\n",
    "            hasNormal = True\n",
    "    if hasMandatory:\n",
    "        mandatoryPropCount += 1\n",
    "    if hasSuggestion:\n",
    "        suggestionPropCount += 1\n",
    "    if hasNormal:\n",
    "        normalPropCount += 1"
   ]
  },
  {
   "cell_type": "code",
   "execution_count": 48,
   "id": "boring-tooth",
   "metadata": {},
   "outputs": [
    {
     "name": "stdout",
     "output_type": "stream",
     "text": [
      "No. of props having at least 1 mandatory constraint: 76\n",
      "No. of props having at least 1 suggestion constraint: 95\n",
      "No. of props having at least 1 normal constraint: 408\n"
     ]
    }
   ],
   "source": [
    "print(f\"No. of props having at least 1 mandatory constraint: {mandatoryPropCount}\")\n",
    "print(f\"No. of props having at least 1 suggestion constraint: {suggestionPropCount}\")\n",
    "print(f\"No. of props having at least 1 normal constraint: {normalPropCount}\")"
   ]
  },
  {
   "cell_type": "markdown",
   "id": "loving-double",
   "metadata": {},
   "source": [
    "#### Version 1 - Mand Sugg Normal"
   ]
  },
  {
   "cell_type": "code",
   "execution_count": 49,
   "id": "beautiful-xerox",
   "metadata": {},
   "outputs": [],
   "source": [
    "import pandas as pd\n",
    "codepConstDF1 = pd.DataFrame(codepConstViolations['Mand_Sugg_Normal']).T"
   ]
  },
  {
   "cell_type": "code",
   "execution_count": 50,
   "id": "genetic-venezuela",
   "metadata": {},
   "outputs": [
    {
     "data": {
      "text/html": [
       "<div>\n",
       "<style scoped>\n",
       "    .dataframe tbody tr th:only-of-type {\n",
       "        vertical-align: middle;\n",
       "    }\n",
       "\n",
       "    .dataframe tbody tr th {\n",
       "        vertical-align: top;\n",
       "    }\n",
       "\n",
       "    .dataframe thead th {\n",
       "        text-align: right;\n",
       "    }\n",
       "</style>\n",
       "<table border=\"1\" class=\"dataframe\">\n",
       "  <thead>\n",
       "    <tr style=\"text-align: right;\">\n",
       "      <th></th>\n",
       "      <th>correct</th>\n",
       "      <th>incorrect</th>\n",
       "      <th>paths</th>\n",
       "    </tr>\n",
       "  </thead>\n",
       "  <tbody>\n",
       "    <tr>\n",
       "      <th>P1018</th>\n",
       "      <td>156</td>\n",
       "      <td>28</td>\n",
       "      <td>[../../allConstraintsAnalysis_Final/codependen...</td>\n",
       "    </tr>\n",
       "    <tr>\n",
       "      <th>P1464</th>\n",
       "      <td>35000</td>\n",
       "      <td>831</td>\n",
       "      <td>[../../allConstraintsAnalysis_Final/codependen...</td>\n",
       "    </tr>\n",
       "    <tr>\n",
       "      <th>P1906</th>\n",
       "      <td>316</td>\n",
       "      <td>186</td>\n",
       "      <td>[../../allConstraintsAnalysis_Final/codependen...</td>\n",
       "    </tr>\n",
       "    <tr>\n",
       "      <th>P2322</th>\n",
       "      <td>1207</td>\n",
       "      <td>65</td>\n",
       "      <td>[../../allConstraintsAnalysis_Final/codependen...</td>\n",
       "    </tr>\n",
       "    <tr>\n",
       "      <th>P2916</th>\n",
       "      <td>0</td>\n",
       "      <td>1</td>\n",
       "      <td>[../../allConstraintsAnalysis_Final/codependen...</td>\n",
       "    </tr>\n",
       "    <tr>\n",
       "      <th>...</th>\n",
       "      <td>...</td>\n",
       "      <td>...</td>\n",
       "      <td>...</td>\n",
       "    </tr>\n",
       "    <tr>\n",
       "      <th>P5460</th>\n",
       "      <td>523</td>\n",
       "      <td>29</td>\n",
       "      <td>[../../allConstraintsAnalysis_Final/codependen...</td>\n",
       "    </tr>\n",
       "    <tr>\n",
       "      <th>P2873</th>\n",
       "      <td>642</td>\n",
       "      <td>8</td>\n",
       "      <td>[../../allConstraintsAnalysis_Final/codependen...</td>\n",
       "    </tr>\n",
       "    <tr>\n",
       "      <th>P2875</th>\n",
       "      <td>3547</td>\n",
       "      <td>16</td>\n",
       "      <td>[../../allConstraintsAnalysis_Final/codependen...</td>\n",
       "    </tr>\n",
       "    <tr>\n",
       "      <th>P2876</th>\n",
       "      <td>51</td>\n",
       "      <td>14</td>\n",
       "      <td>[../../allConstraintsAnalysis_Final/codependen...</td>\n",
       "    </tr>\n",
       "    <tr>\n",
       "      <th>P2900</th>\n",
       "      <td>21844</td>\n",
       "      <td>813</td>\n",
       "      <td>[../../allConstraintsAnalysis_Final/codependen...</td>\n",
       "    </tr>\n",
       "  </tbody>\n",
       "</table>\n",
       "<p>527 rows × 3 columns</p>\n",
       "</div>"
      ],
      "text/plain": [
       "      correct incorrect                                              paths\n",
       "P1018     156        28  [../../allConstraintsAnalysis_Final/codependen...\n",
       "P1464   35000       831  [../../allConstraintsAnalysis_Final/codependen...\n",
       "P1906     316       186  [../../allConstraintsAnalysis_Final/codependen...\n",
       "P2322    1207        65  [../../allConstraintsAnalysis_Final/codependen...\n",
       "P2916       0         1  [../../allConstraintsAnalysis_Final/codependen...\n",
       "...       ...       ...                                                ...\n",
       "P5460     523        29  [../../allConstraintsAnalysis_Final/codependen...\n",
       "P2873     642         8  [../../allConstraintsAnalysis_Final/codependen...\n",
       "P2875    3547        16  [../../allConstraintsAnalysis_Final/codependen...\n",
       "P2876      51        14  [../../allConstraintsAnalysis_Final/codependen...\n",
       "P2900   21844       813  [../../allConstraintsAnalysis_Final/codependen...\n",
       "\n",
       "[527 rows x 3 columns]"
      ]
     },
     "execution_count": 50,
     "metadata": {},
     "output_type": "execute_result"
    }
   ],
   "source": [
    "codepConstDF1"
   ]
  },
  {
   "cell_type": "code",
   "execution_count": 51,
   "id": "powered-residence",
   "metadata": {},
   "outputs": [],
   "source": [
    "codepConstDF1['violation_ratio'] = codepConstDF1.apply(lambda p: p.incorrect / (p.correct + p.incorrect), axis=1)"
   ]
  },
  {
   "cell_type": "code",
   "execution_count": 52,
   "id": "chinese-pressing",
   "metadata": {},
   "outputs": [
    {
     "data": {
      "text/html": [
       "<div>\n",
       "<style scoped>\n",
       "    .dataframe tbody tr th:only-of-type {\n",
       "        vertical-align: middle;\n",
       "    }\n",
       "\n",
       "    .dataframe tbody tr th {\n",
       "        vertical-align: top;\n",
       "    }\n",
       "\n",
       "    .dataframe thead th {\n",
       "        text-align: right;\n",
       "    }\n",
       "</style>\n",
       "<table border=\"1\" class=\"dataframe\">\n",
       "  <thead>\n",
       "    <tr style=\"text-align: right;\">\n",
       "      <th></th>\n",
       "      <th>correct</th>\n",
       "      <th>incorrect</th>\n",
       "      <th>paths</th>\n",
       "      <th>violation_ratio</th>\n",
       "    </tr>\n",
       "  </thead>\n",
       "  <tbody>\n",
       "    <tr>\n",
       "      <th>P1111</th>\n",
       "      <td>0</td>\n",
       "      <td>46327</td>\n",
       "      <td>[../../allConstraintsAnalysis_Final/codependen...</td>\n",
       "      <td>1.0</td>\n",
       "    </tr>\n",
       "    <tr>\n",
       "      <th>P2302</th>\n",
       "      <td>0</td>\n",
       "      <td>42211</td>\n",
       "      <td>[../../allConstraintsAnalysis_Final/codependen...</td>\n",
       "      <td>1.0</td>\n",
       "    </tr>\n",
       "    <tr>\n",
       "      <th>P3063</th>\n",
       "      <td>0</td>\n",
       "      <td>549</td>\n",
       "      <td>[../../allConstraintsAnalysis_Final/codependen...</td>\n",
       "      <td>1.0</td>\n",
       "    </tr>\n",
       "    <tr>\n",
       "      <th>P2303</th>\n",
       "      <td>0</td>\n",
       "      <td>39</td>\n",
       "      <td>[../../allConstraintsAnalysis_Final/codependen...</td>\n",
       "      <td>1.0</td>\n",
       "    </tr>\n",
       "    <tr>\n",
       "      <th>P5447</th>\n",
       "      <td>0</td>\n",
       "      <td>23</td>\n",
       "      <td>[../../allConstraintsAnalysis_Final/codependen...</td>\n",
       "      <td>1.0</td>\n",
       "    </tr>\n",
       "    <tr>\n",
       "      <th>P5448</th>\n",
       "      <td>0</td>\n",
       "      <td>23</td>\n",
       "      <td>[../../allConstraintsAnalysis_Final/codependen...</td>\n",
       "      <td>1.0</td>\n",
       "    </tr>\n",
       "    <tr>\n",
       "      <th>P2308</th>\n",
       "      <td>0</td>\n",
       "      <td>17</td>\n",
       "      <td>[../../allConstraintsAnalysis_Final/codependen...</td>\n",
       "      <td>1.0</td>\n",
       "    </tr>\n",
       "    <tr>\n",
       "      <th>P7569</th>\n",
       "      <td>0</td>\n",
       "      <td>8</td>\n",
       "      <td>[../../allConstraintsAnalysis_Final/codependen...</td>\n",
       "      <td>1.0</td>\n",
       "    </tr>\n",
       "    <tr>\n",
       "      <th>P7903</th>\n",
       "      <td>0</td>\n",
       "      <td>7</td>\n",
       "      <td>[../../allConstraintsAnalysis_Final/codependen...</td>\n",
       "      <td>1.0</td>\n",
       "    </tr>\n",
       "    <tr>\n",
       "      <th>P574</th>\n",
       "      <td>0</td>\n",
       "      <td>4</td>\n",
       "      <td>[../../allConstraintsAnalysis_Final/codependen...</td>\n",
       "      <td>1.0</td>\n",
       "    </tr>\n",
       "    <tr>\n",
       "      <th>P2306</th>\n",
       "      <td>0</td>\n",
       "      <td>3</td>\n",
       "      <td>[../../allConstraintsAnalysis_Final/codependen...</td>\n",
       "      <td>1.0</td>\n",
       "    </tr>\n",
       "    <tr>\n",
       "      <th>P2916</th>\n",
       "      <td>0</td>\n",
       "      <td>1</td>\n",
       "      <td>[../../allConstraintsAnalysis_Final/codependen...</td>\n",
       "      <td>1.0</td>\n",
       "    </tr>\n",
       "    <tr>\n",
       "      <th>P8264</th>\n",
       "      <td>0</td>\n",
       "      <td>1</td>\n",
       "      <td>[../../allConstraintsAnalysis_Final/codependen...</td>\n",
       "      <td>1.0</td>\n",
       "    </tr>\n",
       "    <tr>\n",
       "      <th>P2307</th>\n",
       "      <td>0</td>\n",
       "      <td>1</td>\n",
       "      <td>[../../allConstraintsAnalysis_Final/codependen...</td>\n",
       "      <td>1.0</td>\n",
       "    </tr>\n",
       "    <tr>\n",
       "      <th>P2309</th>\n",
       "      <td>0</td>\n",
       "      <td>1</td>\n",
       "      <td>[../../allConstraintsAnalysis_Final/codependen...</td>\n",
       "      <td>1.0</td>\n",
       "    </tr>\n",
       "  </tbody>\n",
       "</table>\n",
       "</div>"
      ],
      "text/plain": [
       "      correct incorrect                                              paths  \\\n",
       "P1111       0     46327  [../../allConstraintsAnalysis_Final/codependen...   \n",
       "P2302       0     42211  [../../allConstraintsAnalysis_Final/codependen...   \n",
       "P3063       0       549  [../../allConstraintsAnalysis_Final/codependen...   \n",
       "P2303       0        39  [../../allConstraintsAnalysis_Final/codependen...   \n",
       "P5447       0        23  [../../allConstraintsAnalysis_Final/codependen...   \n",
       "P5448       0        23  [../../allConstraintsAnalysis_Final/codependen...   \n",
       "P2308       0        17  [../../allConstraintsAnalysis_Final/codependen...   \n",
       "P7569       0         8  [../../allConstraintsAnalysis_Final/codependen...   \n",
       "P7903       0         7  [../../allConstraintsAnalysis_Final/codependen...   \n",
       "P574        0         4  [../../allConstraintsAnalysis_Final/codependen...   \n",
       "P2306       0         3  [../../allConstraintsAnalysis_Final/codependen...   \n",
       "P2916       0         1  [../../allConstraintsAnalysis_Final/codependen...   \n",
       "P8264       0         1  [../../allConstraintsAnalysis_Final/codependen...   \n",
       "P2307       0         1  [../../allConstraintsAnalysis_Final/codependen...   \n",
       "P2309       0         1  [../../allConstraintsAnalysis_Final/codependen...   \n",
       "\n",
       "       violation_ratio  \n",
       "P1111              1.0  \n",
       "P2302              1.0  \n",
       "P3063              1.0  \n",
       "P2303              1.0  \n",
       "P5447              1.0  \n",
       "P5448              1.0  \n",
       "P2308              1.0  \n",
       "P7569              1.0  \n",
       "P7903              1.0  \n",
       "P574               1.0  \n",
       "P2306              1.0  \n",
       "P2916              1.0  \n",
       "P8264              1.0  \n",
       "P2307              1.0  \n",
       "P2309              1.0  "
      ]
     },
     "execution_count": 52,
     "metadata": {},
     "output_type": "execute_result"
    }
   ],
   "source": [
    "codepConstDF1.sort_values(by=['violation_ratio', 'incorrect'],ascending=False).head(15)"
   ]
  },
  {
   "cell_type": "code",
   "execution_count": 53,
   "id": "demonstrated-debut",
   "metadata": {
    "scrolled": false
   },
   "outputs": [
    {
     "data": {
      "text/html": [
       "<div>\n",
       "<style scoped>\n",
       "    .dataframe tbody tr th:only-of-type {\n",
       "        vertical-align: middle;\n",
       "    }\n",
       "\n",
       "    .dataframe tbody tr th {\n",
       "        vertical-align: top;\n",
       "    }\n",
       "\n",
       "    .dataframe thead th {\n",
       "        text-align: right;\n",
       "    }\n",
       "</style>\n",
       "<table border=\"1\" class=\"dataframe\">\n",
       "  <thead>\n",
       "    <tr style=\"text-align: right;\">\n",
       "      <th></th>\n",
       "      <th>correct</th>\n",
       "      <th>incorrect</th>\n",
       "      <th>paths</th>\n",
       "      <th>violation_ratio</th>\n",
       "    </tr>\n",
       "  </thead>\n",
       "  <tbody>\n",
       "    <tr>\n",
       "      <th>P2214</th>\n",
       "      <td>2962988</td>\n",
       "      <td>711699</td>\n",
       "      <td>[../../allConstraintsAnalysis_Final/codependen...</td>\n",
       "      <td>0.193676</td>\n",
       "    </tr>\n",
       "    <tr>\n",
       "      <th>P734</th>\n",
       "      <td>2001246</td>\n",
       "      <td>704728</td>\n",
       "      <td>[../../allConstraintsAnalysis_Final/codependen...</td>\n",
       "      <td>0.260434</td>\n",
       "    </tr>\n",
       "    <tr>\n",
       "      <th>P433</th>\n",
       "      <td>31028893</td>\n",
       "      <td>435543</td>\n",
       "      <td>[../../allConstraintsAnalysis_Final/codependen...</td>\n",
       "      <td>0.013842</td>\n",
       "    </tr>\n",
       "    <tr>\n",
       "      <th>P195</th>\n",
       "      <td>1132062</td>\n",
       "      <td>384602</td>\n",
       "      <td>[../../allConstraintsAnalysis_Final/codependen...</td>\n",
       "      <td>0.253584</td>\n",
       "    </tr>\n",
       "    <tr>\n",
       "      <th>P569</th>\n",
       "      <td>4646728</td>\n",
       "      <td>241105</td>\n",
       "      <td>[../../allConstraintsAnalysis_Final/codependen...</td>\n",
       "      <td>0.049328</td>\n",
       "    </tr>\n",
       "    <tr>\n",
       "      <th>P131</th>\n",
       "      <td>10056935</td>\n",
       "      <td>198870</td>\n",
       "      <td>[../../allConstraintsAnalysis_Final/codependen...</td>\n",
       "      <td>0.019391</td>\n",
       "    </tr>\n",
       "    <tr>\n",
       "      <th>P275</th>\n",
       "      <td>5955</td>\n",
       "      <td>123578</td>\n",
       "      <td>[../../allConstraintsAnalysis_Final/codependen...</td>\n",
       "      <td>0.954027</td>\n",
       "    </tr>\n",
       "    <tr>\n",
       "      <th>P2860</th>\n",
       "      <td>174402886</td>\n",
       "      <td>114713</td>\n",
       "      <td>[../../allConstraintsAnalysis_Final/codependen...</td>\n",
       "      <td>0.000657</td>\n",
       "    </tr>\n",
       "    <tr>\n",
       "      <th>P2017</th>\n",
       "      <td>84792</td>\n",
       "      <td>101300</td>\n",
       "      <td>[../../allConstraintsAnalysis_Final/codependen...</td>\n",
       "      <td>0.544354</td>\n",
       "    </tr>\n",
       "    <tr>\n",
       "      <th>P570</th>\n",
       "      <td>2332611</td>\n",
       "      <td>94455</td>\n",
       "      <td>[../../allConstraintsAnalysis_Final/codependen...</td>\n",
       "      <td>0.038917</td>\n",
       "    </tr>\n",
       "    <tr>\n",
       "      <th>P1435</th>\n",
       "      <td>1893874</td>\n",
       "      <td>79479</td>\n",
       "      <td>[../../allConstraintsAnalysis_Final/codependen...</td>\n",
       "      <td>0.040276</td>\n",
       "    </tr>\n",
       "    <tr>\n",
       "      <th>P1922</th>\n",
       "      <td>30451</td>\n",
       "      <td>63926</td>\n",
       "      <td>[../../allConstraintsAnalysis_Final/codependen...</td>\n",
       "      <td>0.677347</td>\n",
       "    </tr>\n",
       "    <tr>\n",
       "      <th>P708</th>\n",
       "      <td>45253</td>\n",
       "      <td>54258</td>\n",
       "      <td>[../../allConstraintsAnalysis_Final/codependen...</td>\n",
       "      <td>0.545246</td>\n",
       "    </tr>\n",
       "    <tr>\n",
       "      <th>P197</th>\n",
       "      <td>117522</td>\n",
       "      <td>49904</td>\n",
       "      <td>[../../allConstraintsAnalysis_Final/codependen...</td>\n",
       "      <td>0.298066</td>\n",
       "    </tr>\n",
       "    <tr>\n",
       "      <th>P1598</th>\n",
       "      <td>36544</td>\n",
       "      <td>46915</td>\n",
       "      <td>[../../allConstraintsAnalysis_Final/codependen...</td>\n",
       "      <td>0.562132</td>\n",
       "    </tr>\n",
       "  </tbody>\n",
       "</table>\n",
       "</div>"
      ],
      "text/plain": [
       "         correct incorrect                                              paths  \\\n",
       "P2214    2962988    711699  [../../allConstraintsAnalysis_Final/codependen...   \n",
       "P734     2001246    704728  [../../allConstraintsAnalysis_Final/codependen...   \n",
       "P433    31028893    435543  [../../allConstraintsAnalysis_Final/codependen...   \n",
       "P195     1132062    384602  [../../allConstraintsAnalysis_Final/codependen...   \n",
       "P569     4646728    241105  [../../allConstraintsAnalysis_Final/codependen...   \n",
       "P131    10056935    198870  [../../allConstraintsAnalysis_Final/codependen...   \n",
       "P275        5955    123578  [../../allConstraintsAnalysis_Final/codependen...   \n",
       "P2860  174402886    114713  [../../allConstraintsAnalysis_Final/codependen...   \n",
       "P2017      84792    101300  [../../allConstraintsAnalysis_Final/codependen...   \n",
       "P570     2332611     94455  [../../allConstraintsAnalysis_Final/codependen...   \n",
       "P1435    1893874     79479  [../../allConstraintsAnalysis_Final/codependen...   \n",
       "P1922      30451     63926  [../../allConstraintsAnalysis_Final/codependen...   \n",
       "P708       45253     54258  [../../allConstraintsAnalysis_Final/codependen...   \n",
       "P197      117522     49904  [../../allConstraintsAnalysis_Final/codependen...   \n",
       "P1598      36544     46915  [../../allConstraintsAnalysis_Final/codependen...   \n",
       "\n",
       "       violation_ratio  \n",
       "P2214         0.193676  \n",
       "P734          0.260434  \n",
       "P433          0.013842  \n",
       "P195          0.253584  \n",
       "P569          0.049328  \n",
       "P131          0.019391  \n",
       "P275          0.954027  \n",
       "P2860         0.000657  \n",
       "P2017         0.544354  \n",
       "P570          0.038917  \n",
       "P1435         0.040276  \n",
       "P1922         0.677347  \n",
       "P708          0.545246  \n",
       "P197          0.298066  \n",
       "P1598         0.562132  "
      ]
     },
     "execution_count": 53,
     "metadata": {},
     "output_type": "execute_result"
    }
   ],
   "source": [
    "codepConstDF1.sort_values(by=['incorrect'],ascending=False).head(15)"
   ]
  },
  {
   "cell_type": "code",
   "execution_count": 54,
   "id": "developed-zimbabwe",
   "metadata": {
    "scrolled": true
   },
   "outputs": [
    {
     "data": {
      "text/plain": [
       "count    527.000000\n",
       "mean       0.209456\n",
       "std        0.306132\n",
       "min        0.000000\n",
       "25%        0.001024\n",
       "50%        0.037037\n",
       "75%        0.300012\n",
       "max        1.000000\n",
       "Name: violation_ratio, dtype: float64"
      ]
     },
     "execution_count": 54,
     "metadata": {},
     "output_type": "execute_result"
    }
   ],
   "source": [
    "codepConstDF1['violation_ratio'].describe()"
   ]
  },
  {
   "cell_type": "code",
   "execution_count": 55,
   "id": "unknown-johnston",
   "metadata": {},
   "outputs": [
    {
     "data": {
      "text/plain": [
       "Text(0.5, 1.0, 'Co-Dependency Constraint - Version 1 - Violation Ratios')"
      ]
     },
     "execution_count": 55,
     "metadata": {},
     "output_type": "execute_result"
    },
    {
     "data": {
      "image/png": "[encoded data removed]",
      "text/plain": [
       "<Figure size 432x288 with 1 Axes>"
      ]
     },
     "metadata": {
      "needs_background": "light"
     },
     "output_type": "display_data"
    }
   ],
   "source": [
    "codepConstDF1['violation_ratio'].plot.hist(bins=100).set_title(\"Co-Dependency Constraint - Version 1 - Violation Ratios\")"
   ]
  },
  {
   "cell_type": "code",
   "execution_count": 56,
   "id": "exceptional-dakota",
   "metadata": {
    "scrolled": true
   },
   "outputs": [
    {
     "data": {
      "text/plain": [
       "Text(0.5, 1.0, 'Co-Dependency Constraint - Version 1 - Violation Ratios <= 0.5')"
      ]
     },
     "execution_count": 56,
     "metadata": {},
     "output_type": "execute_result"
    },
    {
     "data": {
      "image/png": "[encoded data removed]",
      "text/plain": [
       "<Figure size 432x288 with 1 Axes>"
      ]
     },
     "metadata": {
      "needs_background": "light"
     },
     "output_type": "display_data"
    }
   ],
   "source": [
    "codepConstDF1[codepConstDF1['violation_ratio'] <= 0.5].violation_ratio.plot.hist(bins=100).set_title(\"Co-Dependency Constraint - Version 1 - Violation Ratios <= 0.5\")"
   ]
  },
  {
   "cell_type": "code",
   "execution_count": 57,
   "id": "interior-joseph",
   "metadata": {},
   "outputs": [
    {
     "name": "stdout",
     "output_type": "stream",
     "text": [
      "No. of properties whose violation ratio is greater than mean: 0/527\n"
     ]
    }
   ],
   "source": [
    "print(f\"No. of properties whose violation ratio is greater than mean: {sum(codepConstDF1['violation_ratio'] >= 3.539484)}/{len(codepConstDF1)}\")"
   ]
  },
  {
   "cell_type": "code",
   "execution_count": 58,
   "id": "english-difference",
   "metadata": {},
   "outputs": [],
   "source": [
    "codepConstDF1.to_csv('../../allConstraintsAnalysis_Final/codepConstDFAnalysis.csv')"
   ]
  },
  {
   "cell_type": "markdown",
   "id": "greater-genetics",
   "metadata": {},
   "source": [
    "#### Version 2 - Mand Normal"
   ]
  },
  {
   "cell_type": "code",
   "execution_count": 59,
   "id": "constant-chance",
   "metadata": {},
   "outputs": [],
   "source": [
    "import pandas as pd\n",
    "codepConstDF2 = pd.DataFrame(codepConstViolations['Mand_Normal']).T"
   ]
  },
  {
   "cell_type": "code",
   "execution_count": 60,
   "id": "included-adjustment",
   "metadata": {},
   "outputs": [
    {
     "data": {
      "text/html": [
       "<div>\n",
       "<style scoped>\n",
       "    .dataframe tbody tr th:only-of-type {\n",
       "        vertical-align: middle;\n",
       "    }\n",
       "\n",
       "    .dataframe tbody tr th {\n",
       "        vertical-align: top;\n",
       "    }\n",
       "\n",
       "    .dataframe thead th {\n",
       "        text-align: right;\n",
       "    }\n",
       "</style>\n",
       "<table border=\"1\" class=\"dataframe\">\n",
       "  <thead>\n",
       "    <tr style=\"text-align: right;\">\n",
       "      <th></th>\n",
       "      <th>correct</th>\n",
       "      <th>incorrect</th>\n",
       "      <th>paths</th>\n",
       "    </tr>\n",
       "  </thead>\n",
       "  <tbody>\n",
       "    <tr>\n",
       "      <th>P1538</th>\n",
       "      <td>194334</td>\n",
       "      <td>152</td>\n",
       "      <td>[../../allConstraintsAnalysis_Final/codependen...</td>\n",
       "    </tr>\n",
       "    <tr>\n",
       "      <th>P2010</th>\n",
       "      <td>963</td>\n",
       "      <td>2</td>\n",
       "      <td>[../../allConstraintsAnalysis_Final/codependen...</td>\n",
       "    </tr>\n",
       "    <tr>\n",
       "      <th>P1018</th>\n",
       "      <td>156</td>\n",
       "      <td>28</td>\n",
       "      <td>[../../allConstraintsAnalysis_Final/codependen...</td>\n",
       "    </tr>\n",
       "    <tr>\n",
       "      <th>P2429</th>\n",
       "      <td>2228</td>\n",
       "      <td>236</td>\n",
       "      <td>[../../allConstraintsAnalysis_Final/codependen...</td>\n",
       "    </tr>\n",
       "    <tr>\n",
       "      <th>P3864</th>\n",
       "      <td>301</td>\n",
       "      <td>0</td>\n",
       "      <td>[../../allConstraintsAnalysis_Final/codependen...</td>\n",
       "    </tr>\n",
       "    <tr>\n",
       "      <th>...</th>\n",
       "      <td>...</td>\n",
       "      <td>...</td>\n",
       "      <td>...</td>\n",
       "    </tr>\n",
       "    <tr>\n",
       "      <th>P3816</th>\n",
       "      <td>17</td>\n",
       "      <td>7</td>\n",
       "      <td>[../../allConstraintsAnalysis_Final/codependen...</td>\n",
       "    </tr>\n",
       "    <tr>\n",
       "      <th>P3823</th>\n",
       "      <td>7376</td>\n",
       "      <td>0</td>\n",
       "      <td>[../../allConstraintsAnalysis_Final/codependen...</td>\n",
       "    </tr>\n",
       "    <tr>\n",
       "      <th>P3834</th>\n",
       "      <td>2070</td>\n",
       "      <td>0</td>\n",
       "      <td>[../../allConstraintsAnalysis_Final/codependen...</td>\n",
       "    </tr>\n",
       "    <tr>\n",
       "      <th>P3842</th>\n",
       "      <td>9338</td>\n",
       "      <td>338</td>\n",
       "      <td>[../../allConstraintsAnalysis_Final/codependen...</td>\n",
       "    </tr>\n",
       "    <tr>\n",
       "      <th>P3858</th>\n",
       "      <td>3336</td>\n",
       "      <td>106</td>\n",
       "      <td>[../../allConstraintsAnalysis_Final/codependen...</td>\n",
       "    </tr>\n",
       "  </tbody>\n",
       "</table>\n",
       "<p>468 rows × 3 columns</p>\n",
       "</div>"
      ],
      "text/plain": [
       "      correct incorrect                                              paths\n",
       "P1538  194334       152  [../../allConstraintsAnalysis_Final/codependen...\n",
       "P2010     963         2  [../../allConstraintsAnalysis_Final/codependen...\n",
       "P1018     156        28  [../../allConstraintsAnalysis_Final/codependen...\n",
       "P2429    2228       236  [../../allConstraintsAnalysis_Final/codependen...\n",
       "P3864     301         0  [../../allConstraintsAnalysis_Final/codependen...\n",
       "...       ...       ...                                                ...\n",
       "P3816      17         7  [../../allConstraintsAnalysis_Final/codependen...\n",
       "P3823    7376         0  [../../allConstraintsAnalysis_Final/codependen...\n",
       "P3834    2070         0  [../../allConstraintsAnalysis_Final/codependen...\n",
       "P3842    9338       338  [../../allConstraintsAnalysis_Final/codependen...\n",
       "P3858    3336       106  [../../allConstraintsAnalysis_Final/codependen...\n",
       "\n",
       "[468 rows x 3 columns]"
      ]
     },
     "execution_count": 60,
     "metadata": {},
     "output_type": "execute_result"
    }
   ],
   "source": [
    "codepConstDF2"
   ]
  },
  {
   "cell_type": "code",
   "execution_count": 61,
   "id": "fundamental-knowing",
   "metadata": {},
   "outputs": [],
   "source": [
    "codepConstDF2['violation_ratio'] = codepConstDF2.apply(lambda p: p.incorrect / (p.correct + p.incorrect), axis=1)"
   ]
  },
  {
   "cell_type": "code",
   "execution_count": 62,
   "id": "harmful-discipline",
   "metadata": {},
   "outputs": [
    {
     "data": {
      "text/html": [
       "<div>\n",
       "<style scoped>\n",
       "    .dataframe tbody tr th:only-of-type {\n",
       "        vertical-align: middle;\n",
       "    }\n",
       "\n",
       "    .dataframe tbody tr th {\n",
       "        vertical-align: top;\n",
       "    }\n",
       "\n",
       "    .dataframe thead th {\n",
       "        text-align: right;\n",
       "    }\n",
       "</style>\n",
       "<table border=\"1\" class=\"dataframe\">\n",
       "  <thead>\n",
       "    <tr style=\"text-align: right;\">\n",
       "      <th></th>\n",
       "      <th>correct</th>\n",
       "      <th>incorrect</th>\n",
       "      <th>paths</th>\n",
       "      <th>violation_ratio</th>\n",
       "    </tr>\n",
       "  </thead>\n",
       "  <tbody>\n",
       "    <tr>\n",
       "      <th>P2313</th>\n",
       "      <td>0</td>\n",
       "      <td>1</td>\n",
       "      <td>[../../allConstraintsAnalysis_Final/codependen...</td>\n",
       "      <td>1.0</td>\n",
       "    </tr>\n",
       "    <tr>\n",
       "      <th>P5448</th>\n",
       "      <td>0</td>\n",
       "      <td>23</td>\n",
       "      <td>[../../allConstraintsAnalysis_Final/codependen...</td>\n",
       "      <td>1.0</td>\n",
       "    </tr>\n",
       "    <tr>\n",
       "      <th>P2309</th>\n",
       "      <td>0</td>\n",
       "      <td>1</td>\n",
       "      <td>[../../allConstraintsAnalysis_Final/codependen...</td>\n",
       "      <td>1.0</td>\n",
       "    </tr>\n",
       "    <tr>\n",
       "      <th>P2308</th>\n",
       "      <td>0</td>\n",
       "      <td>17</td>\n",
       "      <td>[../../allConstraintsAnalysis_Final/codependen...</td>\n",
       "      <td>1.0</td>\n",
       "    </tr>\n",
       "    <tr>\n",
       "      <th>P2916</th>\n",
       "      <td>0</td>\n",
       "      <td>1</td>\n",
       "      <td>[../../allConstraintsAnalysis_Final/codependen...</td>\n",
       "      <td>1.0</td>\n",
       "    </tr>\n",
       "    <tr>\n",
       "      <th>P2307</th>\n",
       "      <td>0</td>\n",
       "      <td>1</td>\n",
       "      <td>[../../allConstraintsAnalysis_Final/codependen...</td>\n",
       "      <td>1.0</td>\n",
       "    </tr>\n",
       "    <tr>\n",
       "      <th>P2306</th>\n",
       "      <td>0</td>\n",
       "      <td>3</td>\n",
       "      <td>[../../allConstraintsAnalysis_Final/codependen...</td>\n",
       "      <td>1.0</td>\n",
       "    </tr>\n",
       "    <tr>\n",
       "      <th>P2303</th>\n",
       "      <td>0</td>\n",
       "      <td>39</td>\n",
       "      <td>[../../allConstraintsAnalysis_Final/codependen...</td>\n",
       "      <td>1.0</td>\n",
       "    </tr>\n",
       "    <tr>\n",
       "      <th>P7569</th>\n",
       "      <td>0</td>\n",
       "      <td>8</td>\n",
       "      <td>[../../allConstraintsAnalysis_Final/codependen...</td>\n",
       "      <td>1.0</td>\n",
       "    </tr>\n",
       "    <tr>\n",
       "      <th>P8264</th>\n",
       "      <td>0</td>\n",
       "      <td>1</td>\n",
       "      <td>[../../allConstraintsAnalysis_Final/codependen...</td>\n",
       "      <td>1.0</td>\n",
       "    </tr>\n",
       "    <tr>\n",
       "      <th>P2312</th>\n",
       "      <td>0</td>\n",
       "      <td>1</td>\n",
       "      <td>[../../allConstraintsAnalysis_Final/codependen...</td>\n",
       "      <td>1.0</td>\n",
       "    </tr>\n",
       "    <tr>\n",
       "      <th>P7903</th>\n",
       "      <td>0</td>\n",
       "      <td>7</td>\n",
       "      <td>[../../allConstraintsAnalysis_Final/codependen...</td>\n",
       "      <td>1.0</td>\n",
       "    </tr>\n",
       "    <tr>\n",
       "      <th>P5447</th>\n",
       "      <td>0</td>\n",
       "      <td>23</td>\n",
       "      <td>[../../allConstraintsAnalysis_Final/codependen...</td>\n",
       "      <td>1.0</td>\n",
       "    </tr>\n",
       "    <tr>\n",
       "      <th>P574</th>\n",
       "      <td>0</td>\n",
       "      <td>4</td>\n",
       "      <td>[../../allConstraintsAnalysis_Final/codependen...</td>\n",
       "      <td>1.0</td>\n",
       "    </tr>\n",
       "    <tr>\n",
       "      <th>P1111</th>\n",
       "      <td>0</td>\n",
       "      <td>46327</td>\n",
       "      <td>[../../allConstraintsAnalysis_Final/codependen...</td>\n",
       "      <td>1.0</td>\n",
       "    </tr>\n",
       "  </tbody>\n",
       "</table>\n",
       "</div>"
      ],
      "text/plain": [
       "      correct incorrect                                              paths  \\\n",
       "P2313       0         1  [../../allConstraintsAnalysis_Final/codependen...   \n",
       "P5448       0        23  [../../allConstraintsAnalysis_Final/codependen...   \n",
       "P2309       0         1  [../../allConstraintsAnalysis_Final/codependen...   \n",
       "P2308       0        17  [../../allConstraintsAnalysis_Final/codependen...   \n",
       "P2916       0         1  [../../allConstraintsAnalysis_Final/codependen...   \n",
       "P2307       0         1  [../../allConstraintsAnalysis_Final/codependen...   \n",
       "P2306       0         3  [../../allConstraintsAnalysis_Final/codependen...   \n",
       "P2303       0        39  [../../allConstraintsAnalysis_Final/codependen...   \n",
       "P7569       0         8  [../../allConstraintsAnalysis_Final/codependen...   \n",
       "P8264       0         1  [../../allConstraintsAnalysis_Final/codependen...   \n",
       "P2312       0         1  [../../allConstraintsAnalysis_Final/codependen...   \n",
       "P7903       0         7  [../../allConstraintsAnalysis_Final/codependen...   \n",
       "P5447       0        23  [../../allConstraintsAnalysis_Final/codependen...   \n",
       "P574        0         4  [../../allConstraintsAnalysis_Final/codependen...   \n",
       "P1111       0     46327  [../../allConstraintsAnalysis_Final/codependen...   \n",
       "\n",
       "       violation_ratio  \n",
       "P2313              1.0  \n",
       "P5448              1.0  \n",
       "P2309              1.0  \n",
       "P2308              1.0  \n",
       "P2916              1.0  \n",
       "P2307              1.0  \n",
       "P2306              1.0  \n",
       "P2303              1.0  \n",
       "P7569              1.0  \n",
       "P8264              1.0  \n",
       "P2312              1.0  \n",
       "P7903              1.0  \n",
       "P5447              1.0  \n",
       "P574               1.0  \n",
       "P1111              1.0  "
      ]
     },
     "execution_count": 62,
     "metadata": {},
     "output_type": "execute_result"
    }
   ],
   "source": [
    "codepConstDF2.sort_values(by=['violation_ratio'],ascending=False).head(15)"
   ]
  },
  {
   "cell_type": "code",
   "execution_count": 63,
   "id": "unlikely-chamber",
   "metadata": {
    "scrolled": false
   },
   "outputs": [
    {
     "data": {
      "text/html": [
       "<div>\n",
       "<style scoped>\n",
       "    .dataframe tbody tr th:only-of-type {\n",
       "        vertical-align: middle;\n",
       "    }\n",
       "\n",
       "    .dataframe tbody tr th {\n",
       "        vertical-align: top;\n",
       "    }\n",
       "\n",
       "    .dataframe thead th {\n",
       "        text-align: right;\n",
       "    }\n",
       "</style>\n",
       "<table border=\"1\" class=\"dataframe\">\n",
       "  <thead>\n",
       "    <tr style=\"text-align: right;\">\n",
       "      <th></th>\n",
       "      <th>correct</th>\n",
       "      <th>incorrect</th>\n",
       "      <th>paths</th>\n",
       "      <th>violation_ratio</th>\n",
       "    </tr>\n",
       "  </thead>\n",
       "  <tbody>\n",
       "    <tr>\n",
       "      <th>P2214</th>\n",
       "      <td>2962988</td>\n",
       "      <td>711699</td>\n",
       "      <td>[../../allConstraintsAnalysis_Final/codependen...</td>\n",
       "      <td>0.193676</td>\n",
       "    </tr>\n",
       "    <tr>\n",
       "      <th>P433</th>\n",
       "      <td>31028893</td>\n",
       "      <td>435543</td>\n",
       "      <td>[../../allConstraintsAnalysis_Final/codependen...</td>\n",
       "      <td>0.013842</td>\n",
       "    </tr>\n",
       "    <tr>\n",
       "      <th>P275</th>\n",
       "      <td>5955</td>\n",
       "      <td>123578</td>\n",
       "      <td>[../../allConstraintsAnalysis_Final/codependen...</td>\n",
       "      <td>0.954027</td>\n",
       "    </tr>\n",
       "    <tr>\n",
       "      <th>P2860</th>\n",
       "      <td>174402886</td>\n",
       "      <td>114713</td>\n",
       "      <td>[../../allConstraintsAnalysis_Final/codependen...</td>\n",
       "      <td>0.000657</td>\n",
       "    </tr>\n",
       "    <tr>\n",
       "      <th>P1435</th>\n",
       "      <td>1893874</td>\n",
       "      <td>79479</td>\n",
       "      <td>[../../allConstraintsAnalysis_Final/codependen...</td>\n",
       "      <td>0.040276</td>\n",
       "    </tr>\n",
       "    <tr>\n",
       "      <th>P708</th>\n",
       "      <td>45253</td>\n",
       "      <td>54258</td>\n",
       "      <td>[../../allConstraintsAnalysis_Final/codependen...</td>\n",
       "      <td>0.545246</td>\n",
       "    </tr>\n",
       "    <tr>\n",
       "      <th>P197</th>\n",
       "      <td>117522</td>\n",
       "      <td>49904</td>\n",
       "      <td>[../../allConstraintsAnalysis_Final/codependen...</td>\n",
       "      <td>0.298066</td>\n",
       "    </tr>\n",
       "    <tr>\n",
       "      <th>P1598</th>\n",
       "      <td>36978</td>\n",
       "      <td>46481</td>\n",
       "      <td>[../../allConstraintsAnalysis_Final/codependen...</td>\n",
       "      <td>0.556932</td>\n",
       "    </tr>\n",
       "    <tr>\n",
       "      <th>P1111</th>\n",
       "      <td>0</td>\n",
       "      <td>46327</td>\n",
       "      <td>[../../allConstraintsAnalysis_Final/codependen...</td>\n",
       "      <td>1.000000</td>\n",
       "    </tr>\n",
       "    <tr>\n",
       "      <th>P2248</th>\n",
       "      <td>4020</td>\n",
       "      <td>41566</td>\n",
       "      <td>[../../allConstraintsAnalysis_Final/codependen...</td>\n",
       "      <td>0.911815</td>\n",
       "    </tr>\n",
       "    <tr>\n",
       "      <th>P2325</th>\n",
       "      <td>4071</td>\n",
       "      <td>40611</td>\n",
       "      <td>[../../allConstraintsAnalysis_Final/codependen...</td>\n",
       "      <td>0.908889</td>\n",
       "    </tr>\n",
       "    <tr>\n",
       "      <th>P856</th>\n",
       "      <td>1239292</td>\n",
       "      <td>38107</td>\n",
       "      <td>[../../allConstraintsAnalysis_Final/codependen...</td>\n",
       "      <td>0.029832</td>\n",
       "    </tr>\n",
       "    <tr>\n",
       "      <th>P2243</th>\n",
       "      <td>4025</td>\n",
       "      <td>36540</td>\n",
       "      <td>[../../allConstraintsAnalysis_Final/codependen...</td>\n",
       "      <td>0.900777</td>\n",
       "    </tr>\n",
       "    <tr>\n",
       "      <th>P2244</th>\n",
       "      <td>4027</td>\n",
       "      <td>36527</td>\n",
       "      <td>[../../allConstraintsAnalysis_Final/codependen...</td>\n",
       "      <td>0.900700</td>\n",
       "    </tr>\n",
       "    <tr>\n",
       "      <th>P413</th>\n",
       "      <td>357793</td>\n",
       "      <td>33607</td>\n",
       "      <td>[../../allConstraintsAnalysis_Final/codependen...</td>\n",
       "      <td>0.085864</td>\n",
       "    </tr>\n",
       "  </tbody>\n",
       "</table>\n",
       "</div>"
      ],
      "text/plain": [
       "         correct incorrect                                              paths  \\\n",
       "P2214    2962988    711699  [../../allConstraintsAnalysis_Final/codependen...   \n",
       "P433    31028893    435543  [../../allConstraintsAnalysis_Final/codependen...   \n",
       "P275        5955    123578  [../../allConstraintsAnalysis_Final/codependen...   \n",
       "P2860  174402886    114713  [../../allConstraintsAnalysis_Final/codependen...   \n",
       "P1435    1893874     79479  [../../allConstraintsAnalysis_Final/codependen...   \n",
       "P708       45253     54258  [../../allConstraintsAnalysis_Final/codependen...   \n",
       "P197      117522     49904  [../../allConstraintsAnalysis_Final/codependen...   \n",
       "P1598      36978     46481  [../../allConstraintsAnalysis_Final/codependen...   \n",
       "P1111          0     46327  [../../allConstraintsAnalysis_Final/codependen...   \n",
       "P2248       4020     41566  [../../allConstraintsAnalysis_Final/codependen...   \n",
       "P2325       4071     40611  [../../allConstraintsAnalysis_Final/codependen...   \n",
       "P856     1239292     38107  [../../allConstraintsAnalysis_Final/codependen...   \n",
       "P2243       4025     36540  [../../allConstraintsAnalysis_Final/codependen...   \n",
       "P2244       4027     36527  [../../allConstraintsAnalysis_Final/codependen...   \n",
       "P413      357793     33607  [../../allConstraintsAnalysis_Final/codependen...   \n",
       "\n",
       "       violation_ratio  \n",
       "P2214         0.193676  \n",
       "P433          0.013842  \n",
       "P275          0.954027  \n",
       "P2860         0.000657  \n",
       "P1435         0.040276  \n",
       "P708          0.545246  \n",
       "P197          0.298066  \n",
       "P1598         0.556932  \n",
       "P1111         1.000000  \n",
       "P2248         0.911815  \n",
       "P2325         0.908889  \n",
       "P856          0.029832  \n",
       "P2243         0.900777  \n",
       "P2244         0.900700  \n",
       "P413          0.085864  "
      ]
     },
     "execution_count": 63,
     "metadata": {},
     "output_type": "execute_result"
    }
   ],
   "source": [
    "codepConstDF2.sort_values(by=['incorrect'],ascending=False).head(15)"
   ]
  },
  {
   "cell_type": "code",
   "execution_count": 64,
   "id": "violent-match",
   "metadata": {
    "scrolled": true
   },
   "outputs": [
    {
     "data": {
      "text/plain": [
       "count    468.000000\n",
       "mean       0.171527\n",
       "std        0.285675\n",
       "min        0.000000\n",
       "25%        0.000690\n",
       "50%        0.017889\n",
       "75%        0.208292\n",
       "max        1.000000\n",
       "Name: violation_ratio, dtype: float64"
      ]
     },
     "execution_count": 64,
     "metadata": {},
     "output_type": "execute_result"
    }
   ],
   "source": [
    "codepConstDF2['violation_ratio'].describe()"
   ]
  },
  {
   "cell_type": "code",
   "execution_count": 65,
   "id": "educational-thickness",
   "metadata": {},
   "outputs": [
    {
     "data": {
      "text/plain": [
       "Text(0.5, 1.0, 'Co-Dependency Constraint - Version 2 - Violation Ratios')"
      ]
     },
     "execution_count": 65,
     "metadata": {},
     "output_type": "execute_result"
    },
    {
     "data": {
      "image/png": "[encoded data removed]",
      "text/plain": [
       "<Figure size 432x288 with 1 Axes>"
      ]
     },
     "metadata": {
      "needs_background": "light"
     },
     "output_type": "display_data"
    }
   ],
   "source": [
    "codepConstDF2['violation_ratio'].plot.hist(bins=100).set_title(\"Co-Dependency Constraint - Version 2 - Violation Ratios\")"
   ]
  },
  {
   "cell_type": "code",
   "execution_count": 66,
   "id": "latin-mitchell",
   "metadata": {
    "scrolled": true
   },
   "outputs": [
    {
     "data": {
      "text/plain": [
       "Text(0.5, 1.0, 'Co-Dependency Constraint - Version 2 - Violation Ratios <= 0.5')"
      ]
     },
     "execution_count": 66,
     "metadata": {},
     "output_type": "execute_result"
    },
    {
     "data": {
      "image/png": "[encoded data removed]",
      "text/plain": [
       "<Figure size 432x288 with 1 Axes>"
      ]
     },
     "metadata": {
      "needs_background": "light"
     },
     "output_type": "display_data"
    }
   ],
   "source": [
    "codepConstDF2[codepConstDF2['violation_ratio'] <= 0.5].violation_ratio.plot.hist(bins=100).set_title(\"Co-Dependency Constraint - Version 2 - Violation Ratios <= 0.5\")"
   ]
  },
  {
   "cell_type": "code",
   "execution_count": 67,
   "id": "asian-forwarding",
   "metadata": {},
   "outputs": [
    {
     "name": "stdout",
     "output_type": "stream",
     "text": [
      "No. of properties whose violation ratio is greater than mean: 0/468\n"
     ]
    }
   ],
   "source": [
    "print(f\"No. of properties whose violation ratio is greater than mean: {sum(codepConstDF2['violation_ratio'] >= 2.290915)}/{len(codepConstDF2)}\")"
   ]
  },
  {
   "cell_type": "markdown",
   "id": "destroyed-flash",
   "metadata": {},
   "source": [
    "#### Version 3 - Mand"
   ]
  },
  {
   "cell_type": "code",
   "execution_count": 68,
   "id": "consecutive-plenty",
   "metadata": {},
   "outputs": [],
   "source": [
    "import pandas as pd\n",
    "codepConstDF3 = pd.DataFrame(codepConstViolations['Mand']).T"
   ]
  },
  {
   "cell_type": "code",
   "execution_count": 69,
   "id": "digital-mileage",
   "metadata": {},
   "outputs": [
    {
     "data": {
      "text/html": [
       "<div>\n",
       "<style scoped>\n",
       "    .dataframe tbody tr th:only-of-type {\n",
       "        vertical-align: middle;\n",
       "    }\n",
       "\n",
       "    .dataframe tbody tr th {\n",
       "        vertical-align: top;\n",
       "    }\n",
       "\n",
       "    .dataframe thead th {\n",
       "        text-align: right;\n",
       "    }\n",
       "</style>\n",
       "<table border=\"1\" class=\"dataframe\">\n",
       "  <thead>\n",
       "    <tr style=\"text-align: right;\">\n",
       "      <th></th>\n",
       "      <th>correct</th>\n",
       "      <th>incorrect</th>\n",
       "      <th>paths</th>\n",
       "    </tr>\n",
       "  </thead>\n",
       "  <tbody>\n",
       "    <tr>\n",
       "      <th>P1081</th>\n",
       "      <td>12300</td>\n",
       "      <td>0</td>\n",
       "      <td>[../../allConstraintsAnalysis_Final/codependen...</td>\n",
       "    </tr>\n",
       "    <tr>\n",
       "      <th>P5982</th>\n",
       "      <td>1326</td>\n",
       "      <td>0</td>\n",
       "      <td>[../../allConstraintsAnalysis_Final/codependen...</td>\n",
       "    </tr>\n",
       "    <tr>\n",
       "      <th>P613</th>\n",
       "      <td>68854</td>\n",
       "      <td>3</td>\n",
       "      <td>[../../allConstraintsAnalysis_Final/codependen...</td>\n",
       "    </tr>\n",
       "    <tr>\n",
       "      <th>P1087</th>\n",
       "      <td>2587284</td>\n",
       "      <td>0</td>\n",
       "      <td>[../../allConstraintsAnalysis_Final/codependen...</td>\n",
       "    </tr>\n",
       "    <tr>\n",
       "      <th>P6280</th>\n",
       "      <td>721</td>\n",
       "      <td>0</td>\n",
       "      <td>[../../allConstraintsAnalysis_Final/codependen...</td>\n",
       "    </tr>\n",
       "    <tr>\n",
       "      <th>...</th>\n",
       "      <td>...</td>\n",
       "      <td>...</td>\n",
       "      <td>...</td>\n",
       "    </tr>\n",
       "    <tr>\n",
       "      <th>P517</th>\n",
       "      <td>240</td>\n",
       "      <td>0</td>\n",
       "      <td>[../../allConstraintsAnalysis_Final/codependen...</td>\n",
       "    </tr>\n",
       "    <tr>\n",
       "      <th>P521</th>\n",
       "      <td>1717</td>\n",
       "      <td>1</td>\n",
       "      <td>[../../allConstraintsAnalysis_Final/codependen...</td>\n",
       "    </tr>\n",
       "    <tr>\n",
       "      <th>P555</th>\n",
       "      <td>3876</td>\n",
       "      <td>1</td>\n",
       "      <td>[../../allConstraintsAnalysis_Final/codependen...</td>\n",
       "    </tr>\n",
       "    <tr>\n",
       "      <th>P5623</th>\n",
       "      <td>1472</td>\n",
       "      <td>0</td>\n",
       "      <td>[../../allConstraintsAnalysis_Final/codependen...</td>\n",
       "    </tr>\n",
       "    <tr>\n",
       "      <th>P564</th>\n",
       "      <td>3899</td>\n",
       "      <td>2</td>\n",
       "      <td>[../../allConstraintsAnalysis_Final/codependen...</td>\n",
       "    </tr>\n",
       "  </tbody>\n",
       "</table>\n",
       "<p>78 rows × 3 columns</p>\n",
       "</div>"
      ],
      "text/plain": [
       "       correct incorrect                                              paths\n",
       "P1081    12300         0  [../../allConstraintsAnalysis_Final/codependen...\n",
       "P5982     1326         0  [../../allConstraintsAnalysis_Final/codependen...\n",
       "P613     68854         3  [../../allConstraintsAnalysis_Final/codependen...\n",
       "P1087  2587284         0  [../../allConstraintsAnalysis_Final/codependen...\n",
       "P6280      721         0  [../../allConstraintsAnalysis_Final/codependen...\n",
       "...        ...       ...                                                ...\n",
       "P517       240         0  [../../allConstraintsAnalysis_Final/codependen...\n",
       "P521      1717         1  [../../allConstraintsAnalysis_Final/codependen...\n",
       "P555      3876         1  [../../allConstraintsAnalysis_Final/codependen...\n",
       "P5623     1472         0  [../../allConstraintsAnalysis_Final/codependen...\n",
       "P564      3899         2  [../../allConstraintsAnalysis_Final/codependen...\n",
       "\n",
       "[78 rows x 3 columns]"
      ]
     },
     "execution_count": 69,
     "metadata": {},
     "output_type": "execute_result"
    }
   ],
   "source": [
    "codepConstDF3"
   ]
  },
  {
   "cell_type": "code",
   "execution_count": 70,
   "id": "formed-battle",
   "metadata": {},
   "outputs": [],
   "source": [
    "codepConstDF3['violation_ratio'] = codepConstDF3.apply(lambda p: p.incorrect / p.correct if p.correct != 0 else p.incorrect/100, axis=1)"
   ]
  },
  {
   "cell_type": "code",
   "execution_count": 71,
   "id": "numerous-construction",
   "metadata": {},
   "outputs": [
    {
     "data": {
      "text/html": [
       "<div>\n",
       "<style scoped>\n",
       "    .dataframe tbody tr th:only-of-type {\n",
       "        vertical-align: middle;\n",
       "    }\n",
       "\n",
       "    .dataframe tbody tr th {\n",
       "        vertical-align: top;\n",
       "    }\n",
       "\n",
       "    .dataframe thead th {\n",
       "        text-align: right;\n",
       "    }\n",
       "</style>\n",
       "<table border=\"1\" class=\"dataframe\">\n",
       "  <thead>\n",
       "    <tr style=\"text-align: right;\">\n",
       "      <th></th>\n",
       "      <th>correct</th>\n",
       "      <th>incorrect</th>\n",
       "      <th>paths</th>\n",
       "      <th>violation_ratio</th>\n",
       "    </tr>\n",
       "  </thead>\n",
       "  <tbody>\n",
       "    <tr>\n",
       "      <th>P5051</th>\n",
       "      <td>1</td>\n",
       "      <td>63</td>\n",
       "      <td>[../../allConstraintsAnalysis_Final/codependen...</td>\n",
       "      <td>63.000000</td>\n",
       "    </tr>\n",
       "    <tr>\n",
       "      <th>P4341</th>\n",
       "      <td>7</td>\n",
       "      <td>1</td>\n",
       "      <td>[../../allConstraintsAnalysis_Final/codependen...</td>\n",
       "      <td>0.142857</td>\n",
       "    </tr>\n",
       "    <tr>\n",
       "      <th>P2095</th>\n",
       "      <td>38</td>\n",
       "      <td>3</td>\n",
       "      <td>[../../allConstraintsAnalysis_Final/codependen...</td>\n",
       "      <td>0.078947</td>\n",
       "    </tr>\n",
       "    <tr>\n",
       "      <th>P990</th>\n",
       "      <td>966</td>\n",
       "      <td>41</td>\n",
       "      <td>[../../allConstraintsAnalysis_Final/codependen...</td>\n",
       "      <td>0.042443</td>\n",
       "    </tr>\n",
       "    <tr>\n",
       "      <th>P3931</th>\n",
       "      <td>2250</td>\n",
       "      <td>64</td>\n",
       "      <td>[../../allConstraintsAnalysis_Final/codependen...</td>\n",
       "      <td>0.028444</td>\n",
       "    </tr>\n",
       "    <tr>\n",
       "      <th>P1731</th>\n",
       "      <td>363</td>\n",
       "      <td>9</td>\n",
       "      <td>[../../allConstraintsAnalysis_Final/codependen...</td>\n",
       "      <td>0.024793</td>\n",
       "    </tr>\n",
       "    <tr>\n",
       "      <th>P2009</th>\n",
       "      <td>1019</td>\n",
       "      <td>15</td>\n",
       "      <td>[../../allConstraintsAnalysis_Final/codependen...</td>\n",
       "      <td>0.014720</td>\n",
       "    </tr>\n",
       "    <tr>\n",
       "      <th>P246</th>\n",
       "      <td>169</td>\n",
       "      <td>2</td>\n",
       "      <td>[../../allConstraintsAnalysis_Final/codependen...</td>\n",
       "      <td>0.011834</td>\n",
       "    </tr>\n",
       "    <tr>\n",
       "      <th>P8264</th>\n",
       "      <td>0</td>\n",
       "      <td>1</td>\n",
       "      <td>[../../allConstraintsAnalysis_Final/codependen...</td>\n",
       "      <td>0.010000</td>\n",
       "    </tr>\n",
       "    <tr>\n",
       "      <th>P1635</th>\n",
       "      <td>890</td>\n",
       "      <td>7</td>\n",
       "      <td>[../../allConstraintsAnalysis_Final/codependen...</td>\n",
       "      <td>0.007865</td>\n",
       "    </tr>\n",
       "    <tr>\n",
       "      <th>P944</th>\n",
       "      <td>577</td>\n",
       "      <td>4</td>\n",
       "      <td>[../../allConstraintsAnalysis_Final/codependen...</td>\n",
       "      <td>0.006932</td>\n",
       "    </tr>\n",
       "    <tr>\n",
       "      <th>P1560</th>\n",
       "      <td>3235</td>\n",
       "      <td>20</td>\n",
       "      <td>[../../allConstraintsAnalysis_Final/codependen...</td>\n",
       "      <td>0.006182</td>\n",
       "    </tr>\n",
       "    <tr>\n",
       "      <th>P2679</th>\n",
       "      <td>887</td>\n",
       "      <td>5</td>\n",
       "      <td>[../../allConstraintsAnalysis_Final/codependen...</td>\n",
       "      <td>0.005637</td>\n",
       "    </tr>\n",
       "    <tr>\n",
       "      <th>P451</th>\n",
       "      <td>10502</td>\n",
       "      <td>36</td>\n",
       "      <td>[../../allConstraintsAnalysis_Final/codependen...</td>\n",
       "      <td>0.003428</td>\n",
       "    </tr>\n",
       "    <tr>\n",
       "      <th>P2365</th>\n",
       "      <td>1650</td>\n",
       "      <td>5</td>\n",
       "      <td>[../../allConstraintsAnalysis_Final/codependen...</td>\n",
       "      <td>0.003030</td>\n",
       "    </tr>\n",
       "  </tbody>\n",
       "</table>\n",
       "</div>"
      ],
      "text/plain": [
       "      correct incorrect                                              paths  \\\n",
       "P5051       1        63  [../../allConstraintsAnalysis_Final/codependen...   \n",
       "P4341       7         1  [../../allConstraintsAnalysis_Final/codependen...   \n",
       "P2095      38         3  [../../allConstraintsAnalysis_Final/codependen...   \n",
       "P990      966        41  [../../allConstraintsAnalysis_Final/codependen...   \n",
       "P3931    2250        64  [../../allConstraintsAnalysis_Final/codependen...   \n",
       "P1731     363         9  [../../allConstraintsAnalysis_Final/codependen...   \n",
       "P2009    1019        15  [../../allConstraintsAnalysis_Final/codependen...   \n",
       "P246      169         2  [../../allConstraintsAnalysis_Final/codependen...   \n",
       "P8264       0         1  [../../allConstraintsAnalysis_Final/codependen...   \n",
       "P1635     890         7  [../../allConstraintsAnalysis_Final/codependen...   \n",
       "P944      577         4  [../../allConstraintsAnalysis_Final/codependen...   \n",
       "P1560    3235        20  [../../allConstraintsAnalysis_Final/codependen...   \n",
       "P2679     887         5  [../../allConstraintsAnalysis_Final/codependen...   \n",
       "P451    10502        36  [../../allConstraintsAnalysis_Final/codependen...   \n",
       "P2365    1650         5  [../../allConstraintsAnalysis_Final/codependen...   \n",
       "\n",
       "       violation_ratio  \n",
       "P5051        63.000000  \n",
       "P4341         0.142857  \n",
       "P2095         0.078947  \n",
       "P990          0.042443  \n",
       "P3931         0.028444  \n",
       "P1731         0.024793  \n",
       "P2009         0.014720  \n",
       "P246          0.011834  \n",
       "P8264         0.010000  \n",
       "P1635         0.007865  \n",
       "P944          0.006932  \n",
       "P1560         0.006182  \n",
       "P2679         0.005637  \n",
       "P451          0.003428  \n",
       "P2365         0.003030  "
      ]
     },
     "execution_count": 71,
     "metadata": {},
     "output_type": "execute_result"
    }
   ],
   "source": [
    "codepConstDF3.sort_values(by=['violation_ratio'],ascending=False).head(15)"
   ]
  },
  {
   "cell_type": "code",
   "execution_count": 72,
   "id": "imposed-bibliography",
   "metadata": {
    "scrolled": false
   },
   "outputs": [
    {
     "data": {
      "text/html": [
       "<div>\n",
       "<style scoped>\n",
       "    .dataframe tbody tr th:only-of-type {\n",
       "        vertical-align: middle;\n",
       "    }\n",
       "\n",
       "    .dataframe tbody tr th {\n",
       "        vertical-align: top;\n",
       "    }\n",
       "\n",
       "    .dataframe thead th {\n",
       "        text-align: right;\n",
       "    }\n",
       "</style>\n",
       "<table border=\"1\" class=\"dataframe\">\n",
       "  <thead>\n",
       "    <tr style=\"text-align: right;\">\n",
       "      <th></th>\n",
       "      <th>correct</th>\n",
       "      <th>incorrect</th>\n",
       "      <th>paths</th>\n",
       "      <th>violation_ratio</th>\n",
       "    </tr>\n",
       "  </thead>\n",
       "  <tbody>\n",
       "    <tr>\n",
       "      <th>P7959</th>\n",
       "      <td>655743</td>\n",
       "      <td>376</td>\n",
       "      <td>[../../allConstraintsAnalysis_Final/codependen...</td>\n",
       "      <td>0.000573</td>\n",
       "    </tr>\n",
       "    <tr>\n",
       "      <th>P3931</th>\n",
       "      <td>2250</td>\n",
       "      <td>64</td>\n",
       "      <td>[../../allConstraintsAnalysis_Final/codependen...</td>\n",
       "      <td>0.028444</td>\n",
       "    </tr>\n",
       "    <tr>\n",
       "      <th>P5051</th>\n",
       "      <td>1</td>\n",
       "      <td>63</td>\n",
       "      <td>[../../allConstraintsAnalysis_Final/codependen...</td>\n",
       "      <td>63.000000</td>\n",
       "    </tr>\n",
       "    <tr>\n",
       "      <th>P915</th>\n",
       "      <td>28364</td>\n",
       "      <td>45</td>\n",
       "      <td>[../../allConstraintsAnalysis_Final/codependen...</td>\n",
       "      <td>0.001587</td>\n",
       "    </tr>\n",
       "    <tr>\n",
       "      <th>P990</th>\n",
       "      <td>966</td>\n",
       "      <td>41</td>\n",
       "      <td>[../../allConstraintsAnalysis_Final/codependen...</td>\n",
       "      <td>0.042443</td>\n",
       "    </tr>\n",
       "    <tr>\n",
       "      <th>P451</th>\n",
       "      <td>10502</td>\n",
       "      <td>36</td>\n",
       "      <td>[../../allConstraintsAnalysis_Final/codependen...</td>\n",
       "      <td>0.003428</td>\n",
       "    </tr>\n",
       "    <tr>\n",
       "      <th>P197</th>\n",
       "      <td>167392</td>\n",
       "      <td>34</td>\n",
       "      <td>[../../allConstraintsAnalysis_Final/codependen...</td>\n",
       "      <td>0.000203</td>\n",
       "    </tr>\n",
       "    <tr>\n",
       "      <th>P1560</th>\n",
       "      <td>3235</td>\n",
       "      <td>20</td>\n",
       "      <td>[../../allConstraintsAnalysis_Final/codependen...</td>\n",
       "      <td>0.006182</td>\n",
       "    </tr>\n",
       "    <tr>\n",
       "      <th>P2009</th>\n",
       "      <td>1019</td>\n",
       "      <td>15</td>\n",
       "      <td>[../../allConstraintsAnalysis_Final/codependen...</td>\n",
       "      <td>0.014720</td>\n",
       "    </tr>\n",
       "    <tr>\n",
       "      <th>P1731</th>\n",
       "      <td>363</td>\n",
       "      <td>9</td>\n",
       "      <td>[../../allConstraintsAnalysis_Final/codependen...</td>\n",
       "      <td>0.024793</td>\n",
       "    </tr>\n",
       "    <tr>\n",
       "      <th>P1635</th>\n",
       "      <td>890</td>\n",
       "      <td>7</td>\n",
       "      <td>[../../allConstraintsAnalysis_Final/codependen...</td>\n",
       "      <td>0.007865</td>\n",
       "    </tr>\n",
       "    <tr>\n",
       "      <th>P1196</th>\n",
       "      <td>88070</td>\n",
       "      <td>6</td>\n",
       "      <td>[../../allConstraintsAnalysis_Final/codependen...</td>\n",
       "      <td>0.000068</td>\n",
       "    </tr>\n",
       "    <tr>\n",
       "      <th>P2679</th>\n",
       "      <td>887</td>\n",
       "      <td>5</td>\n",
       "      <td>[../../allConstraintsAnalysis_Final/codependen...</td>\n",
       "      <td>0.005637</td>\n",
       "    </tr>\n",
       "    <tr>\n",
       "      <th>P2365</th>\n",
       "      <td>1650</td>\n",
       "      <td>5</td>\n",
       "      <td>[../../allConstraintsAnalysis_Final/codependen...</td>\n",
       "      <td>0.003030</td>\n",
       "    </tr>\n",
       "    <tr>\n",
       "      <th>P141</th>\n",
       "      <td>121709</td>\n",
       "      <td>4</td>\n",
       "      <td>[../../allConstraintsAnalysis_Final/codependen...</td>\n",
       "      <td>0.000033</td>\n",
       "    </tr>\n",
       "  </tbody>\n",
       "</table>\n",
       "</div>"
      ],
      "text/plain": [
       "      correct incorrect                                              paths  \\\n",
       "P7959  655743       376  [../../allConstraintsAnalysis_Final/codependen...   \n",
       "P3931    2250        64  [../../allConstraintsAnalysis_Final/codependen...   \n",
       "P5051       1        63  [../../allConstraintsAnalysis_Final/codependen...   \n",
       "P915    28364        45  [../../allConstraintsAnalysis_Final/codependen...   \n",
       "P990      966        41  [../../allConstraintsAnalysis_Final/codependen...   \n",
       "P451    10502        36  [../../allConstraintsAnalysis_Final/codependen...   \n",
       "P197   167392        34  [../../allConstraintsAnalysis_Final/codependen...   \n",
       "P1560    3235        20  [../../allConstraintsAnalysis_Final/codependen...   \n",
       "P2009    1019        15  [../../allConstraintsAnalysis_Final/codependen...   \n",
       "P1731     363         9  [../../allConstraintsAnalysis_Final/codependen...   \n",
       "P1635     890         7  [../../allConstraintsAnalysis_Final/codependen...   \n",
       "P1196   88070         6  [../../allConstraintsAnalysis_Final/codependen...   \n",
       "P2679     887         5  [../../allConstraintsAnalysis_Final/codependen...   \n",
       "P2365    1650         5  [../../allConstraintsAnalysis_Final/codependen...   \n",
       "P141   121709         4  [../../allConstraintsAnalysis_Final/codependen...   \n",
       "\n",
       "       violation_ratio  \n",
       "P7959         0.000573  \n",
       "P3931         0.028444  \n",
       "P5051        63.000000  \n",
       "P915          0.001587  \n",
       "P990          0.042443  \n",
       "P451          0.003428  \n",
       "P197          0.000203  \n",
       "P1560         0.006182  \n",
       "P2009         0.014720  \n",
       "P1731         0.024793  \n",
       "P1635         0.007865  \n",
       "P1196         0.000068  \n",
       "P2679         0.005637  \n",
       "P2365         0.003030  \n",
       "P141          0.000033  "
      ]
     },
     "execution_count": 72,
     "metadata": {},
     "output_type": "execute_result"
    }
   ],
   "source": [
    "codepConstDF3.sort_values(by=['incorrect'],ascending=False).head(15)"
   ]
  },
  {
   "cell_type": "code",
   "execution_count": 73,
   "id": "emotional-crown",
   "metadata": {
    "scrolled": true
   },
   "outputs": [
    {
     "data": {
      "text/plain": [
       "count    78.000000\n",
       "mean      0.812773\n",
       "std       7.132789\n",
       "min       0.000000\n",
       "25%       0.000000\n",
       "50%       0.000000\n",
       "75%       0.000641\n",
       "max      63.000000\n",
       "Name: violation_ratio, dtype: float64"
      ]
     },
     "execution_count": 73,
     "metadata": {},
     "output_type": "execute_result"
    }
   ],
   "source": [
    "codepConstDF3['violation_ratio'].describe()"
   ]
  },
  {
   "cell_type": "code",
   "execution_count": 74,
   "id": "certain-freeze",
   "metadata": {},
   "outputs": [
    {
     "data": {
      "text/plain": [
       "Text(0.5, 1.0, 'Co-Dependency Constraint - Version 3 - Violation Ratios')"
      ]
     },
     "execution_count": 74,
     "metadata": {},
     "output_type": "execute_result"
    },
    {
     "data": {
      "image/png": "[encoded data removed]",
      "text/plain": [
       "<Figure size 432x288 with 1 Axes>"
      ]
     },
     "metadata": {
      "needs_background": "light"
     },
     "output_type": "display_data"
    }
   ],
   "source": [
    "codepConstDF3['violation_ratio'].plot.hist(bins=100).set_title(\"Co-Dependency Constraint - Version 3 - Violation Ratios\")"
   ]
  },
  {
   "cell_type": "code",
   "execution_count": 75,
   "id": "cooperative-ownership",
   "metadata": {
    "scrolled": true
   },
   "outputs": [
    {
     "data": {
      "text/plain": [
       "Text(0.5, 1.0, 'Co-Dependency Constraint - Version 3 - Violation Ratios <= 0.0005')"
      ]
     },
     "execution_count": 75,
     "metadata": {},
     "output_type": "execute_result"
    },
    {
     "data": {
      "image/png": "[encoded data removed]",
      "text/plain": [
       "<Figure size 432x288 with 1 Axes>"
      ]
     },
     "metadata": {
      "needs_background": "light"
     },
     "output_type": "display_data"
    }
   ],
   "source": [
    "codepConstDF3[codepConstDF3['violation_ratio'] <= 0.0005].violation_ratio.plot.hist(bins=100).set_title(\"Co-Dependency Constraint - Version 3 - Violation Ratios <= 0.0005\")"
   ]
  },
  {
   "cell_type": "code",
   "execution_count": 76,
   "id": "studied-inclusion",
   "metadata": {},
   "outputs": [
    {
     "name": "stdout",
     "output_type": "stream",
     "text": [
      "No. of properties whose violation ratio is greater than mean: 1/78\n"
     ]
    }
   ],
   "source": [
    "print(f\"No. of properties whose violation ratio is greater than mean: {sum(codepConstDF3['violation_ratio'] >= 0.922928)}/{len(codepConstDF3)}\")"
   ]
  },
  {
   "cell_type": "markdown",
   "id": "protective-brazil",
   "metadata": {},
   "source": [
    "#### Version 4 - Normal"
   ]
  },
  {
   "cell_type": "code",
   "execution_count": 77,
   "id": "laughing-pressing",
   "metadata": {},
   "outputs": [],
   "source": [
    "import pandas as pd\n",
    "codepConstDF4 = pd.DataFrame(codepConstViolations['Normal']).T"
   ]
  },
  {
   "cell_type": "code",
   "execution_count": 78,
   "id": "loving-swift",
   "metadata": {},
   "outputs": [
    {
     "data": {
      "text/html": [
       "<div>\n",
       "<style scoped>\n",
       "    .dataframe tbody tr th:only-of-type {\n",
       "        vertical-align: middle;\n",
       "    }\n",
       "\n",
       "    .dataframe tbody tr th {\n",
       "        vertical-align: top;\n",
       "    }\n",
       "\n",
       "    .dataframe thead th {\n",
       "        text-align: right;\n",
       "    }\n",
       "</style>\n",
       "<table border=\"1\" class=\"dataframe\">\n",
       "  <thead>\n",
       "    <tr style=\"text-align: right;\">\n",
       "      <th></th>\n",
       "      <th>correct</th>\n",
       "      <th>incorrect</th>\n",
       "      <th>paths</th>\n",
       "    </tr>\n",
       "  </thead>\n",
       "  <tbody>\n",
       "    <tr>\n",
       "      <th>P1540</th>\n",
       "      <td>236379</td>\n",
       "      <td>456</td>\n",
       "      <td>[../../allConstraintsAnalysis_Final/codependen...</td>\n",
       "    </tr>\n",
       "    <tr>\n",
       "      <th>P2660</th>\n",
       "      <td>10136</td>\n",
       "      <td>21</td>\n",
       "      <td>[../../allConstraintsAnalysis_Final/codependen...</td>\n",
       "    </tr>\n",
       "    <tr>\n",
       "      <th>P769</th>\n",
       "      <td>1850</td>\n",
       "      <td>0</td>\n",
       "      <td>[../../allConstraintsAnalysis_Final/codependen...</td>\n",
       "    </tr>\n",
       "    <tr>\n",
       "      <th>P5947</th>\n",
       "      <td>1</td>\n",
       "      <td>0</td>\n",
       "      <td>[../../allConstraintsAnalysis_Final/codependen...</td>\n",
       "    </tr>\n",
       "    <tr>\n",
       "      <th>P1018</th>\n",
       "      <td>156</td>\n",
       "      <td>28</td>\n",
       "      <td>[../../allConstraintsAnalysis_Final/codependen...</td>\n",
       "    </tr>\n",
       "    <tr>\n",
       "      <th>...</th>\n",
       "      <td>...</td>\n",
       "      <td>...</td>\n",
       "      <td>...</td>\n",
       "    </tr>\n",
       "    <tr>\n",
       "      <th>P4213</th>\n",
       "      <td>42542</td>\n",
       "      <td>13</td>\n",
       "      <td>[../../allConstraintsAnalysis_Final/codependen...</td>\n",
       "    </tr>\n",
       "    <tr>\n",
       "      <th>P4238</th>\n",
       "      <td>258</td>\n",
       "      <td>11</td>\n",
       "      <td>[../../allConstraintsAnalysis_Final/codependen...</td>\n",
       "    </tr>\n",
       "    <tr>\n",
       "      <th>P427</th>\n",
       "      <td>27232</td>\n",
       "      <td>26</td>\n",
       "      <td>[../../allConstraintsAnalysis_Final/codependen...</td>\n",
       "    </tr>\n",
       "    <tr>\n",
       "      <th>P4316</th>\n",
       "      <td>183</td>\n",
       "      <td>72</td>\n",
       "      <td>[../../allConstraintsAnalysis_Final/codependen...</td>\n",
       "    </tr>\n",
       "    <tr>\n",
       "      <th>P433</th>\n",
       "      <td>31028893</td>\n",
       "      <td>435543</td>\n",
       "      <td>[../../allConstraintsAnalysis_Final/codependen...</td>\n",
       "    </tr>\n",
       "  </tbody>\n",
       "</table>\n",
       "<p>418 rows × 3 columns</p>\n",
       "</div>"
      ],
      "text/plain": [
       "        correct incorrect                                              paths\n",
       "P1540    236379       456  [../../allConstraintsAnalysis_Final/codependen...\n",
       "P2660     10136        21  [../../allConstraintsAnalysis_Final/codependen...\n",
       "P769       1850         0  [../../allConstraintsAnalysis_Final/codependen...\n",
       "P5947         1         0  [../../allConstraintsAnalysis_Final/codependen...\n",
       "P1018       156        28  [../../allConstraintsAnalysis_Final/codependen...\n",
       "...         ...       ...                                                ...\n",
       "P4213     42542        13  [../../allConstraintsAnalysis_Final/codependen...\n",
       "P4238       258        11  [../../allConstraintsAnalysis_Final/codependen...\n",
       "P427      27232        26  [../../allConstraintsAnalysis_Final/codependen...\n",
       "P4316       183        72  [../../allConstraintsAnalysis_Final/codependen...\n",
       "P433   31028893    435543  [../../allConstraintsAnalysis_Final/codependen...\n",
       "\n",
       "[418 rows x 3 columns]"
      ]
     },
     "execution_count": 78,
     "metadata": {},
     "output_type": "execute_result"
    }
   ],
   "source": [
    "codepConstDF4"
   ]
  },
  {
   "cell_type": "code",
   "execution_count": 79,
   "id": "north-christian",
   "metadata": {},
   "outputs": [],
   "source": [
    "codepConstDF4['violation_ratio'] = codepConstDF4.apply(lambda p: p.incorrect / p.correct if p.correct != 0 else p.incorrect/100, axis=1)"
   ]
  },
  {
   "cell_type": "code",
   "execution_count": 80,
   "id": "closing-causing",
   "metadata": {},
   "outputs": [
    {
     "data": {
      "text/html": [
       "<div>\n",
       "<style scoped>\n",
       "    .dataframe tbody tr th:only-of-type {\n",
       "        vertical-align: middle;\n",
       "    }\n",
       "\n",
       "    .dataframe tbody tr th {\n",
       "        vertical-align: top;\n",
       "    }\n",
       "\n",
       "    .dataframe thead th {\n",
       "        text-align: right;\n",
       "    }\n",
       "</style>\n",
       "<table border=\"1\" class=\"dataframe\">\n",
       "  <thead>\n",
       "    <tr style=\"text-align: right;\">\n",
       "      <th></th>\n",
       "      <th>correct</th>\n",
       "      <th>incorrect</th>\n",
       "      <th>paths</th>\n",
       "      <th>violation_ratio</th>\n",
       "    </tr>\n",
       "  </thead>\n",
       "  <tbody>\n",
       "    <tr>\n",
       "      <th>P1111</th>\n",
       "      <td>0</td>\n",
       "      <td>46327</td>\n",
       "      <td>[../../allConstraintsAnalysis_Final/codependen...</td>\n",
       "      <td>463.270000</td>\n",
       "    </tr>\n",
       "    <tr>\n",
       "      <th>P1995</th>\n",
       "      <td>80</td>\n",
       "      <td>9985</td>\n",
       "      <td>[../../allConstraintsAnalysis_Final/codependen...</td>\n",
       "      <td>124.812500</td>\n",
       "    </tr>\n",
       "    <tr>\n",
       "      <th>P768</th>\n",
       "      <td>133</td>\n",
       "      <td>15143</td>\n",
       "      <td>[../../allConstraintsAnalysis_Final/codependen...</td>\n",
       "      <td>113.857143</td>\n",
       "    </tr>\n",
       "    <tr>\n",
       "      <th>P4501</th>\n",
       "      <td>419</td>\n",
       "      <td>22682</td>\n",
       "      <td>[../../allConstraintsAnalysis_Final/codependen...</td>\n",
       "      <td>54.133652</td>\n",
       "    </tr>\n",
       "    <tr>\n",
       "      <th>P2715</th>\n",
       "      <td>4</td>\n",
       "      <td>158</td>\n",
       "      <td>[../../allConstraintsAnalysis_Final/codependen...</td>\n",
       "      <td>39.500000</td>\n",
       "    </tr>\n",
       "    <tr>\n",
       "      <th>P275</th>\n",
       "      <td>5955</td>\n",
       "      <td>123578</td>\n",
       "      <td>[../../allConstraintsAnalysis_Final/codependen...</td>\n",
       "      <td>20.751973</td>\n",
       "    </tr>\n",
       "    <tr>\n",
       "      <th>P2376</th>\n",
       "      <td>1</td>\n",
       "      <td>19</td>\n",
       "      <td>[../../allConstraintsAnalysis_Final/codependen...</td>\n",
       "      <td>19.000000</td>\n",
       "    </tr>\n",
       "    <tr>\n",
       "      <th>P3912</th>\n",
       "      <td>297</td>\n",
       "      <td>3705</td>\n",
       "      <td>[../../allConstraintsAnalysis_Final/codependen...</td>\n",
       "      <td>12.474747</td>\n",
       "    </tr>\n",
       "    <tr>\n",
       "      <th>P2720</th>\n",
       "      <td>12</td>\n",
       "      <td>134</td>\n",
       "      <td>[../../allConstraintsAnalysis_Final/codependen...</td>\n",
       "      <td>11.166667</td>\n",
       "    </tr>\n",
       "    <tr>\n",
       "      <th>P2248</th>\n",
       "      <td>4020</td>\n",
       "      <td>41566</td>\n",
       "      <td>[../../allConstraintsAnalysis_Final/codependen...</td>\n",
       "      <td>10.339801</td>\n",
       "    </tr>\n",
       "    <tr>\n",
       "      <th>P2325</th>\n",
       "      <td>4071</td>\n",
       "      <td>40611</td>\n",
       "      <td>[../../allConstraintsAnalysis_Final/codependen...</td>\n",
       "      <td>9.975682</td>\n",
       "    </tr>\n",
       "    <tr>\n",
       "      <th>P2243</th>\n",
       "      <td>4025</td>\n",
       "      <td>36540</td>\n",
       "      <td>[../../allConstraintsAnalysis_Final/codependen...</td>\n",
       "      <td>9.078261</td>\n",
       "    </tr>\n",
       "    <tr>\n",
       "      <th>P2244</th>\n",
       "      <td>4027</td>\n",
       "      <td>36527</td>\n",
       "      <td>[../../allConstraintsAnalysis_Final/codependen...</td>\n",
       "      <td>9.070524</td>\n",
       "    </tr>\n",
       "    <tr>\n",
       "      <th>P3448</th>\n",
       "      <td>547</td>\n",
       "      <td>4302</td>\n",
       "      <td>[../../allConstraintsAnalysis_Final/codependen...</td>\n",
       "      <td>7.864717</td>\n",
       "    </tr>\n",
       "    <tr>\n",
       "      <th>P7707</th>\n",
       "      <td>65</td>\n",
       "      <td>445</td>\n",
       "      <td>[../../allConstraintsAnalysis_Final/codependen...</td>\n",
       "      <td>6.846154</td>\n",
       "    </tr>\n",
       "  </tbody>\n",
       "</table>\n",
       "</div>"
      ],
      "text/plain": [
       "      correct incorrect                                              paths  \\\n",
       "P1111       0     46327  [../../allConstraintsAnalysis_Final/codependen...   \n",
       "P1995      80      9985  [../../allConstraintsAnalysis_Final/codependen...   \n",
       "P768      133     15143  [../../allConstraintsAnalysis_Final/codependen...   \n",
       "P4501     419     22682  [../../allConstraintsAnalysis_Final/codependen...   \n",
       "P2715       4       158  [../../allConstraintsAnalysis_Final/codependen...   \n",
       "P275     5955    123578  [../../allConstraintsAnalysis_Final/codependen...   \n",
       "P2376       1        19  [../../allConstraintsAnalysis_Final/codependen...   \n",
       "P3912     297      3705  [../../allConstraintsAnalysis_Final/codependen...   \n",
       "P2720      12       134  [../../allConstraintsAnalysis_Final/codependen...   \n",
       "P2248    4020     41566  [../../allConstraintsAnalysis_Final/codependen...   \n",
       "P2325    4071     40611  [../../allConstraintsAnalysis_Final/codependen...   \n",
       "P2243    4025     36540  [../../allConstraintsAnalysis_Final/codependen...   \n",
       "P2244    4027     36527  [../../allConstraintsAnalysis_Final/codependen...   \n",
       "P3448     547      4302  [../../allConstraintsAnalysis_Final/codependen...   \n",
       "P7707      65       445  [../../allConstraintsAnalysis_Final/codependen...   \n",
       "\n",
       "       violation_ratio  \n",
       "P1111       463.270000  \n",
       "P1995       124.812500  \n",
       "P768        113.857143  \n",
       "P4501        54.133652  \n",
       "P2715        39.500000  \n",
       "P275         20.751973  \n",
       "P2376        19.000000  \n",
       "P3912        12.474747  \n",
       "P2720        11.166667  \n",
       "P2248        10.339801  \n",
       "P2325         9.975682  \n",
       "P2243         9.078261  \n",
       "P2244         9.070524  \n",
       "P3448         7.864717  \n",
       "P7707         6.846154  "
      ]
     },
     "execution_count": 80,
     "metadata": {},
     "output_type": "execute_result"
    }
   ],
   "source": [
    "codepConstDF4.sort_values(by=['violation_ratio'],ascending=False).head(15)"
   ]
  },
  {
   "cell_type": "code",
   "execution_count": 81,
   "id": "brief-effect",
   "metadata": {
    "scrolled": false
   },
   "outputs": [
    {
     "data": {
      "text/html": [
       "<div>\n",
       "<style scoped>\n",
       "    .dataframe tbody tr th:only-of-type {\n",
       "        vertical-align: middle;\n",
       "    }\n",
       "\n",
       "    .dataframe tbody tr th {\n",
       "        vertical-align: top;\n",
       "    }\n",
       "\n",
       "    .dataframe thead th {\n",
       "        text-align: right;\n",
       "    }\n",
       "</style>\n",
       "<table border=\"1\" class=\"dataframe\">\n",
       "  <thead>\n",
       "    <tr style=\"text-align: right;\">\n",
       "      <th></th>\n",
       "      <th>correct</th>\n",
       "      <th>incorrect</th>\n",
       "      <th>paths</th>\n",
       "      <th>violation_ratio</th>\n",
       "    </tr>\n",
       "  </thead>\n",
       "  <tbody>\n",
       "    <tr>\n",
       "      <th>P2214</th>\n",
       "      <td>2962988</td>\n",
       "      <td>711699</td>\n",
       "      <td>[../../allConstraintsAnalysis_Final/codependen...</td>\n",
       "      <td>0.240196</td>\n",
       "    </tr>\n",
       "    <tr>\n",
       "      <th>P433</th>\n",
       "      <td>31028893</td>\n",
       "      <td>435543</td>\n",
       "      <td>[../../allConstraintsAnalysis_Final/codependen...</td>\n",
       "      <td>0.014037</td>\n",
       "    </tr>\n",
       "    <tr>\n",
       "      <th>P275</th>\n",
       "      <td>5955</td>\n",
       "      <td>123578</td>\n",
       "      <td>[../../allConstraintsAnalysis_Final/codependen...</td>\n",
       "      <td>20.751973</td>\n",
       "    </tr>\n",
       "    <tr>\n",
       "      <th>P2860</th>\n",
       "      <td>174402886</td>\n",
       "      <td>114713</td>\n",
       "      <td>[../../allConstraintsAnalysis_Final/codependen...</td>\n",
       "      <td>0.000658</td>\n",
       "    </tr>\n",
       "    <tr>\n",
       "      <th>P1435</th>\n",
       "      <td>1893874</td>\n",
       "      <td>79479</td>\n",
       "      <td>[../../allConstraintsAnalysis_Final/codependen...</td>\n",
       "      <td>0.041966</td>\n",
       "    </tr>\n",
       "    <tr>\n",
       "      <th>P708</th>\n",
       "      <td>45253</td>\n",
       "      <td>54258</td>\n",
       "      <td>[../../allConstraintsAnalysis_Final/codependen...</td>\n",
       "      <td>1.198992</td>\n",
       "    </tr>\n",
       "    <tr>\n",
       "      <th>P197</th>\n",
       "      <td>117523</td>\n",
       "      <td>49903</td>\n",
       "      <td>[../../allConstraintsAnalysis_Final/codependen...</td>\n",
       "      <td>0.424623</td>\n",
       "    </tr>\n",
       "    <tr>\n",
       "      <th>P1598</th>\n",
       "      <td>36978</td>\n",
       "      <td>46481</td>\n",
       "      <td>[../../allConstraintsAnalysis_Final/codependen...</td>\n",
       "      <td>1.256991</td>\n",
       "    </tr>\n",
       "    <tr>\n",
       "      <th>P1111</th>\n",
       "      <td>0</td>\n",
       "      <td>46327</td>\n",
       "      <td>[../../allConstraintsAnalysis_Final/codependen...</td>\n",
       "      <td>463.270000</td>\n",
       "    </tr>\n",
       "    <tr>\n",
       "      <th>P2248</th>\n",
       "      <td>4020</td>\n",
       "      <td>41566</td>\n",
       "      <td>[../../allConstraintsAnalysis_Final/codependen...</td>\n",
       "      <td>10.339801</td>\n",
       "    </tr>\n",
       "    <tr>\n",
       "      <th>P2325</th>\n",
       "      <td>4071</td>\n",
       "      <td>40611</td>\n",
       "      <td>[../../allConstraintsAnalysis_Final/codependen...</td>\n",
       "      <td>9.975682</td>\n",
       "    </tr>\n",
       "    <tr>\n",
       "      <th>P856</th>\n",
       "      <td>1239292</td>\n",
       "      <td>38107</td>\n",
       "      <td>[../../allConstraintsAnalysis_Final/codependen...</td>\n",
       "      <td>0.030749</td>\n",
       "    </tr>\n",
       "    <tr>\n",
       "      <th>P2243</th>\n",
       "      <td>4025</td>\n",
       "      <td>36540</td>\n",
       "      <td>[../../allConstraintsAnalysis_Final/codependen...</td>\n",
       "      <td>9.078261</td>\n",
       "    </tr>\n",
       "    <tr>\n",
       "      <th>P2244</th>\n",
       "      <td>4027</td>\n",
       "      <td>36527</td>\n",
       "      <td>[../../allConstraintsAnalysis_Final/codependen...</td>\n",
       "      <td>9.070524</td>\n",
       "    </tr>\n",
       "    <tr>\n",
       "      <th>P413</th>\n",
       "      <td>357793</td>\n",
       "      <td>33607</td>\n",
       "      <td>[../../allConstraintsAnalysis_Final/codependen...</td>\n",
       "      <td>0.093929</td>\n",
       "    </tr>\n",
       "  </tbody>\n",
       "</table>\n",
       "</div>"
      ],
      "text/plain": [
       "         correct incorrect                                              paths  \\\n",
       "P2214    2962988    711699  [../../allConstraintsAnalysis_Final/codependen...   \n",
       "P433    31028893    435543  [../../allConstraintsAnalysis_Final/codependen...   \n",
       "P275        5955    123578  [../../allConstraintsAnalysis_Final/codependen...   \n",
       "P2860  174402886    114713  [../../allConstraintsAnalysis_Final/codependen...   \n",
       "P1435    1893874     79479  [../../allConstraintsAnalysis_Final/codependen...   \n",
       "P708       45253     54258  [../../allConstraintsAnalysis_Final/codependen...   \n",
       "P197      117523     49903  [../../allConstraintsAnalysis_Final/codependen...   \n",
       "P1598      36978     46481  [../../allConstraintsAnalysis_Final/codependen...   \n",
       "P1111          0     46327  [../../allConstraintsAnalysis_Final/codependen...   \n",
       "P2248       4020     41566  [../../allConstraintsAnalysis_Final/codependen...   \n",
       "P2325       4071     40611  [../../allConstraintsAnalysis_Final/codependen...   \n",
       "P856     1239292     38107  [../../allConstraintsAnalysis_Final/codependen...   \n",
       "P2243       4025     36540  [../../allConstraintsAnalysis_Final/codependen...   \n",
       "P2244       4027     36527  [../../allConstraintsAnalysis_Final/codependen...   \n",
       "P413      357793     33607  [../../allConstraintsAnalysis_Final/codependen...   \n",
       "\n",
       "       violation_ratio  \n",
       "P2214         0.240196  \n",
       "P433          0.014037  \n",
       "P275         20.751973  \n",
       "P2860         0.000658  \n",
       "P1435         0.041966  \n",
       "P708          1.198992  \n",
       "P197          0.424623  \n",
       "P1598         1.256991  \n",
       "P1111       463.270000  \n",
       "P2248        10.339801  \n",
       "P2325         9.975682  \n",
       "P856          0.030749  \n",
       "P2243         9.078261  \n",
       "P2244         9.070524  \n",
       "P413          0.093929  "
      ]
     },
     "execution_count": 81,
     "metadata": {},
     "output_type": "execute_result"
    }
   ],
   "source": [
    "codepConstDF4.sort_values(by=['incorrect'],ascending=False).head(15)"
   ]
  },
  {
   "cell_type": "code",
   "execution_count": 82,
   "id": "wireless-passenger",
   "metadata": {
    "scrolled": true
   },
   "outputs": [
    {
     "data": {
      "text/plain": [
       "count    418.000000\n",
       "mean       2.454376\n",
       "std       24.333809\n",
       "min        0.000000\n",
       "25%        0.001419\n",
       "50%        0.026024\n",
       "75%        0.237647\n",
       "max      463.270000\n",
       "Name: violation_ratio, dtype: float64"
      ]
     },
     "execution_count": 82,
     "metadata": {},
     "output_type": "execute_result"
    }
   ],
   "source": [
    "codepConstDF4['violation_ratio'].describe()"
   ]
  },
  {
   "cell_type": "code",
   "execution_count": 83,
   "id": "civilian-arnold",
   "metadata": {},
   "outputs": [
    {
     "data": {
      "text/plain": [
       "Text(0.5, 1.0, 'Co-Dependency Constraint - Version 4 - Violation Ratios')"
      ]
     },
     "execution_count": 83,
     "metadata": {},
     "output_type": "execute_result"
    },
    {
     "data": {
      "image/png": "[encoded data removed]",
      "text/plain": [
       "<Figure size 432x288 with 1 Axes>"
      ]
     },
     "metadata": {
      "needs_background": "light"
     },
     "output_type": "display_data"
    }
   ],
   "source": [
    "codepConstDF4['violation_ratio'].plot.hist(bins=100).set_title(\"Co-Dependency Constraint - Version 4 - Violation Ratios\")"
   ]
  },
  {
   "cell_type": "code",
   "execution_count": 84,
   "id": "threaded-cooler",
   "metadata": {
    "scrolled": true
   },
   "outputs": [
    {
     "data": {
      "text/plain": [
       "Text(0.5, 1.0, 'Co-Dependency Constraint - Version 4 - Violation Ratios <= 0.5')"
      ]
     },
     "execution_count": 84,
     "metadata": {},
     "output_type": "execute_result"
    },
    {
     "data": {
      "image/png": "[encoded data removed]",
      "text/plain": [
       "<Figure size 432x288 with 1 Axes>"
      ]
     },
     "metadata": {
      "needs_background": "light"
     },
     "output_type": "display_data"
    }
   ],
   "source": [
    "codepConstDF4[codepConstDF4['violation_ratio'] <= 0.5].violation_ratio.plot.hist(bins=100).set_title(\"Co-Dependency Constraint - Version 4 - Violation Ratios <= 0.5\")"
   ]
  },
  {
   "cell_type": "code",
   "execution_count": 85,
   "id": "olympic-charlotte",
   "metadata": {},
   "outputs": [
    {
     "name": "stdout",
     "output_type": "stream",
     "text": [
      "No. of properties whose violation ratio is greater than mean: 25/418\n"
     ]
    }
   ],
   "source": [
    "print(f\"No. of properties whose violation ratio is greater than mean: {sum(codepConstDF4['violation_ratio'] >= 2.414703)}/{len(codepConstDF4)}\")"
   ]
  },
  {
   "cell_type": "markdown",
   "id": "published-affiliate",
   "metadata": {},
   "source": [
    "### Find out time required"
   ]
  },
  {
   "cell_type": "code",
   "execution_count": 86,
   "id": "aggregate-conservative",
   "metadata": {},
   "outputs": [
    {
     "data": {
      "application/vnd.jupyter.widget-view+json": {
       "model_id": "30ee937f4ab94fba994a875748146d41",
       "version_major": 2,
       "version_minor": 0
      },
      "text/plain": [
       "  0%|          | 0/54 [00:00<?, ?it/s]"
      ]
     },
     "metadata": {},
     "output_type": "display_data"
    },
    {
     "name": "stdout",
     "output_type": "stream",
     "text": [
      "count    1588.000000\n",
      "mean       33.859051\n",
      "std       152.985712\n",
      "min         1.297000\n",
      "25%         2.227750\n",
      "50%         4.343500\n",
      "75%        12.581250\n",
      "max      2828.460000\n",
      "dtype: float64\n"
     ]
    }
   ],
   "source": [
    "import pandas as pd\n",
    "import os\n",
    "from tqdm.notebook import tqdm\n",
    "\n",
    "codepConstViolations = {}\n",
    "\n",
    "codepConstViolations = {}\n",
    "codepConstPropList = set()\n",
    "\n",
    "def extractTimes(filename):\n",
    "    times = []\n",
    "    with open(filename) as f:\n",
    "        for line in f:\n",
    "            if \"real\" in line:\n",
    "                line = line.strip()\n",
    "                time1 = line.split(\"\\t\")[1]\n",
    "                mins, sec = time1.split(\"m\")\n",
    "                mins = int(mins)\n",
    "                sec = float(sec[:-1])\n",
    "                times.append(60 * mins + sec)\n",
    "    return times\n",
    "\n",
    "# codepConstViolationsSummary = {}\n",
    "times = []\n",
    "timesVersion = {\"MSN\": [], \"MN\": [], \"M\": [], \"N\": [], \"S\": []}\n",
    "filePath = '/data/wd-correctness/propertiesSplit_Final/checkViolations/exec_logs/'\n",
    "for filename in tqdm(os.listdir(filePath)):\n",
    "    if filename.startswith(\"timeLog_codepConst_\"):\n",
    "        ver = filename.split('_')[2]\n",
    "        tempTimes = extractTimes(filePath + filename)\n",
    "        times += tempTimes\n",
    "        timesVersion[ver] += tempTimes\n",
    "print(pd.Series(times).describe())"
   ]
  },
  {
   "cell_type": "code",
   "execution_count": 3,
   "id": "hearing-treasury",
   "metadata": {},
   "outputs": [
    {
     "name": "stdout",
     "output_type": "stream",
     "text": [
      "count     527.000000\n",
      "mean      133.514751\n",
      "std       219.717844\n",
      "min         1.899000\n",
      "25%        25.236500\n",
      "50%        58.603000\n",
      "75%       145.354000\n",
      "max      2199.569000\n",
      "dtype: float64\n"
     ]
    }
   ],
   "source": [
    "print(pd.Series(timesVersion['MSN']).describe())"
   ]
  },
  {
   "cell_type": "code",
   "execution_count": 4,
   "id": "animal-vocabulary",
   "metadata": {},
   "outputs": [
    {
     "name": "stdout",
     "output_type": "stream",
     "text": [
      "count     468.000000\n",
      "mean      131.495897\n",
      "std       232.398622\n",
      "min         1.780000\n",
      "25%        19.863500\n",
      "50%        50.195000\n",
      "75%       147.243250\n",
      "max      2783.638000\n",
      "dtype: float64\n"
     ]
    }
   ],
   "source": [
    "print(pd.Series(timesVersion['MN']).describe())"
   ]
  },
  {
   "cell_type": "code",
   "execution_count": 133,
   "id": "gentle-accessory",
   "metadata": {},
   "outputs": [
    {
     "name": "stdout",
     "output_type": "stream",
     "text": [
      "count     78.000000\n",
      "mean     158.441372\n",
      "std      205.424068\n",
      "min        2.758000\n",
      "25%       22.989000\n",
      "50%       72.119500\n",
      "75%      207.367000\n",
      "max      848.583000\n",
      "dtype: float64\n"
     ]
    }
   ],
   "source": [
    "print(pd.Series(timesVersion['M']).describe())"
   ]
  },
  {
   "cell_type": "code",
   "execution_count": 134,
   "id": "fresh-namibia",
   "metadata": {},
   "outputs": [
    {
     "name": "stdout",
     "output_type": "stream",
     "text": [
      "count     418.000000\n",
      "mean      128.126914\n",
      "std       222.603826\n",
      "min         2.543000\n",
      "25%        19.653000\n",
      "50%        50.284500\n",
      "75%       140.122000\n",
      "max      2891.457000\n",
      "dtype: float64\n"
     ]
    }
   ],
   "source": [
    "print(pd.Series(timesVersion['N']).describe())"
   ]
  },
  {
   "cell_type": "markdown",
   "id": "industrial-parcel",
   "metadata": {},
   "source": [
    "## Symmetric Constraint (Q21510862)\n",
    "\n",
    "This constraint says, if node1 has a property with this constraint, then both `(node1)-[prop]->(node2)` and `(node2)-[prop]->(node1)` must be present with few exceptions"
   ]
  },
  {
   "cell_type": "markdown",
   "id": "silent-fundamentals",
   "metadata": {},
   "source": [
    "### Constraints File"
   ]
  },
  {
   "cell_type": "code",
   "execution_count": 107,
   "id": "known-wednesday",
   "metadata": {},
   "outputs": [
    {
     "name": "stdout",
     "output_type": "stream",
     "text": [
      "[2021-05-13 23:11:42 query]: SQL Translation:\r\n",
      "---------------------------------------------\r\n",
      "  SELECT *\r\n",
      "     FROM graph_1 AS graph_1_c1\r\n",
      "     WHERE graph_1_c1.\"label\"=?\r\n",
      "     AND graph_1_c1.\"node2\"=?\r\n",
      "  PARAS: ['P2302', 'Q21510862']\r\n",
      "---------------------------------------------\r\n"
     ]
    }
   ],
   "source": [
    "!kgtk --debug query -i ../../gdrive-kgtk-dump-2020-12-07/claims.properties.tsv.gz \\\n",
    "    ../../gdrive-kgtk-dump-2020-12-07/qualifiers.properties.tsv.gz \\\n",
    "    --match \"p: (nodeProp1)-[nodePropEdge:P2302]->(:Q21510862)\" \\\n",
    "    -o ../../constraintsOP/symmetricConstraint/claims.constraints_list.tsv \\\n",
    "    --graph-cache ../../sqlite3_caches/temp1345.valuetype.sqlite3.db"
   ]
  },
  {
   "cell_type": "code",
   "execution_count": 108,
   "id": "legal-diamond",
   "metadata": {},
   "outputs": [],
   "source": [
    "import pandas as pd\n",
    "qualiDF = pd.read_csv(\"../../gdrive-kgtk-dump-2020-12-07/qualifiers.properties.tsv.gz\",sep='\\t')\n",
    "constDF = pd.read_csv(\"../../constraintsOP/symmetricConstraint/claims.constraints_list.tsv\",sep='\\t')"
   ]
  },
  {
   "cell_type": "code",
   "execution_count": 109,
   "id": "exceptional-morris",
   "metadata": {},
   "outputs": [],
   "source": [
    "constDF2 = constDF.set_index('id').join(qualiDF.set_index('node1'),rsuffix='_qualifier').drop(columns=['id', 'node2;wikidatatype_qualifier', 'rank', 'node2', 'label', 'node2;wikidatatype']).rename(columns={'label_qualifier':'label', 'node2_qualifier': 'node2'})\n",
    "constDF2 = constDF2.reset_index()\n",
    "constDF2 = constDF2.rename(columns={'index':'id'})\n",
    "constDF2['label'] = constDF2.label.fillna(\"P2316\")\n",
    "constDF2['node2'] = constDF2.node2.fillna(\"Normal\")"
   ]
  },
  {
   "cell_type": "code",
   "execution_count": 110,
   "id": "burning-involvement",
   "metadata": {},
   "outputs": [],
   "source": [
    "constDF2.to_csv(\"../../constraintsOP/symmetricConstraint/claims.constraints_all.tsv\",sep=\"\\t\",index=False)"
   ]
  },
  {
   "cell_type": "code",
   "execution_count": 111,
   "id": "naval-identification",
   "metadata": {},
   "outputs": [],
   "source": [
    "import pandas as pd\n",
    "import math\n",
    "dfItemRequires = pd.read_csv('../../constraintsOP/symmetricConstraint/claims.constraints_all.tsv',sep='\\t')"
   ]
  },
  {
   "cell_type": "code",
   "execution_count": 112,
   "id": "considered-madison",
   "metadata": {},
   "outputs": [],
   "source": [
    "dfItemRequires = dfItemRequires.groupby(['id','node1','label']).node2.apply(lambda p: p.tolist()).reset_index()"
   ]
  },
  {
   "cell_type": "code",
   "execution_count": 113,
   "id": "alone-cattle",
   "metadata": {},
   "outputs": [
    {
     "data": {
      "text/plain": [
       "array(['P2316', 'P2303'], dtype=object)"
      ]
     },
     "execution_count": 113,
     "metadata": {},
     "output_type": "execute_result"
    }
   ],
   "source": [
    "dfItemRequires['label'].unique()"
   ]
  },
  {
   "cell_type": "code",
   "execution_count": 114,
   "id": "mighty-ordinary",
   "metadata": {},
   "outputs": [
    {
     "data": {
      "text/plain": [
       "P2316    42\n",
       "P2303     3\n",
       "Name: label, dtype: int64"
      ]
     },
     "execution_count": 114,
     "metadata": {},
     "output_type": "execute_result"
    }
   ],
   "source": [
    "dfItemRequires['label'].value_counts()"
   ]
  },
  {
   "cell_type": "code",
   "execution_count": 115,
   "id": "sensitive-alliance",
   "metadata": {},
   "outputs": [],
   "source": [
    "#Reference: https://stackoverflow.com/a/17298454\n",
    "# dfItemRequires.pivot_table('node2', ['node1', 'id'], 'label')\n",
    "dfItemRequires = dfItemRequires.pivot(index=['node1','id'], columns='label', values='node2')"
   ]
  },
  {
   "cell_type": "code",
   "execution_count": 116,
   "id": "tender-valley",
   "metadata": {},
   "outputs": [
    {
     "data": {
      "text/html": [
       "<div>\n",
       "<style scoped>\n",
       "    .dataframe tbody tr th:only-of-type {\n",
       "        vertical-align: middle;\n",
       "    }\n",
       "\n",
       "    .dataframe tbody tr th {\n",
       "        vertical-align: top;\n",
       "    }\n",
       "\n",
       "    .dataframe thead th {\n",
       "        text-align: right;\n",
       "    }\n",
       "</style>\n",
       "<table border=\"1\" class=\"dataframe\">\n",
       "  <thead>\n",
       "    <tr style=\"text-align: right;\">\n",
       "      <th></th>\n",
       "      <th>label</th>\n",
       "      <th>P2303</th>\n",
       "      <th>P2316</th>\n",
       "    </tr>\n",
       "    <tr>\n",
       "      <th>node1</th>\n",
       "      <th>id</th>\n",
       "      <th></th>\n",
       "      <th></th>\n",
       "    </tr>\n",
       "  </thead>\n",
       "  <tbody>\n",
       "    <tr>\n",
       "      <th>P1322</th>\n",
       "      <th>P1322-P2302-Q21510862-85dea891-0</th>\n",
       "      <td>NaN</td>\n",
       "      <td>[Normal]</td>\n",
       "    </tr>\n",
       "    <tr>\n",
       "      <th>P1327</th>\n",
       "      <th>P1327-P2302-Q21510862-a3c3a094-0</th>\n",
       "      <td>NaN</td>\n",
       "      <td>[Normal]</td>\n",
       "    </tr>\n",
       "    <tr>\n",
       "      <th>P1382</th>\n",
       "      <th>P1382-P2302-Q21510862-f6bcfecf-0</th>\n",
       "      <td>NaN</td>\n",
       "      <td>[Normal]</td>\n",
       "    </tr>\n",
       "    <tr>\n",
       "      <th>P1560</th>\n",
       "      <th>P1560-P2302-Q21510862-fabecaeb-0</th>\n",
       "      <td>NaN</td>\n",
       "      <td>[Q21502408]</td>\n",
       "    </tr>\n",
       "    <tr>\n",
       "      <th>P1639</th>\n",
       "      <th>P1639-P2302-Q21510862-384edcd4-0</th>\n",
       "      <td>NaN</td>\n",
       "      <td>[Q21502408]</td>\n",
       "    </tr>\n",
       "  </tbody>\n",
       "</table>\n",
       "</div>"
      ],
      "text/plain": [
       "label                                  P2303        P2316\n",
       "node1 id                                                 \n",
       "P1322 P1322-P2302-Q21510862-85dea891-0   NaN     [Normal]\n",
       "P1327 P1327-P2302-Q21510862-a3c3a094-0   NaN     [Normal]\n",
       "P1382 P1382-P2302-Q21510862-f6bcfecf-0   NaN     [Normal]\n",
       "P1560 P1560-P2302-Q21510862-fabecaeb-0   NaN  [Q21502408]\n",
       "P1639 P1639-P2302-Q21510862-384edcd4-0   NaN  [Q21502408]"
      ]
     },
     "execution_count": 116,
     "metadata": {},
     "output_type": "execute_result"
    }
   ],
   "source": [
    "dfItemRequires.head()"
   ]
  },
  {
   "cell_type": "code",
   "execution_count": 117,
   "id": "cellular-canal",
   "metadata": {},
   "outputs": [],
   "source": [
    "dfItemRequires = dfItemRequires.droplevel(1)"
   ]
  },
  {
   "cell_type": "code",
   "execution_count": 118,
   "id": "desperate-poster",
   "metadata": {},
   "outputs": [
    {
     "data": {
      "text/html": [
       "<div>\n",
       "<style scoped>\n",
       "    .dataframe tbody tr th:only-of-type {\n",
       "        vertical-align: middle;\n",
       "    }\n",
       "\n",
       "    .dataframe tbody tr th {\n",
       "        vertical-align: top;\n",
       "    }\n",
       "\n",
       "    .dataframe thead th {\n",
       "        text-align: right;\n",
       "    }\n",
       "</style>\n",
       "<table border=\"1\" class=\"dataframe\">\n",
       "  <thead>\n",
       "    <tr style=\"text-align: right;\">\n",
       "      <th>label</th>\n",
       "      <th>P2303</th>\n",
       "      <th>P2316</th>\n",
       "    </tr>\n",
       "    <tr>\n",
       "      <th>node1</th>\n",
       "      <th></th>\n",
       "      <th></th>\n",
       "    </tr>\n",
       "  </thead>\n",
       "  <tbody>\n",
       "    <tr>\n",
       "      <th>P1322</th>\n",
       "      <td>NaN</td>\n",
       "      <td>[Normal]</td>\n",
       "    </tr>\n",
       "    <tr>\n",
       "      <th>P1327</th>\n",
       "      <td>NaN</td>\n",
       "      <td>[Normal]</td>\n",
       "    </tr>\n",
       "    <tr>\n",
       "      <th>P1382</th>\n",
       "      <td>NaN</td>\n",
       "      <td>[Normal]</td>\n",
       "    </tr>\n",
       "    <tr>\n",
       "      <th>P1560</th>\n",
       "      <td>NaN</td>\n",
       "      <td>[Q21502408]</td>\n",
       "    </tr>\n",
       "    <tr>\n",
       "      <th>P1639</th>\n",
       "      <td>NaN</td>\n",
       "      <td>[Q21502408]</td>\n",
       "    </tr>\n",
       "  </tbody>\n",
       "</table>\n",
       "</div>"
      ],
      "text/plain": [
       "label P2303        P2316\n",
       "node1                   \n",
       "P1322   NaN     [Normal]\n",
       "P1327   NaN     [Normal]\n",
       "P1382   NaN     [Normal]\n",
       "P1560   NaN  [Q21502408]\n",
       "P1639   NaN  [Q21502408]"
      ]
     },
     "execution_count": 118,
     "metadata": {},
     "output_type": "execute_result"
    }
   ],
   "source": [
    "dfItemRequires.head()"
   ]
  },
  {
   "cell_type": "markdown",
   "id": "primary-netherlands",
   "metadata": {},
   "source": [
    "### Query Generator"
   ]
  },
  {
   "cell_type": "code",
   "execution_count": 121,
   "id": "pointed-haven",
   "metadata": {},
   "outputs": [
    {
     "data": {
      "application/vnd.jupyter.widget-view+json": {
       "model_id": "826d58b62c2b43d695826e16e943ec8e",
       "version_major": 2,
       "version_minor": 0
      },
      "text/plain": [
       "0it [00:00, ?it/s]"
      ]
     },
     "metadata": {},
     "output_type": "display_data"
    }
   ],
   "source": [
    "from tqdm.notebook import tqdm\n",
    "import os.path\n",
    "import os\n",
    "\n",
    "cnt = 0\n",
    "fCnt = 0\n",
    "\n",
    "folderName = 'symmetricConstraint'\n",
    "shellFileSuffix = 'symmConst_Validator_'\n",
    "graph_cache_prefix = 'symm_new_1_1_'\n",
    "\n",
    "for row in tqdm(dfItemRequires.iterrows()):\n",
    "#     try:\n",
    "        prop = row[0]\n",
    "        constraint = row[1]\n",
    "        mandatory = []\n",
    "        suggestion = []\n",
    "        normal = []\n",
    "        prop = str(prop)\n",
    "        \n",
    "        if type(constraint['P2316']) == list:\n",
    "            if constraint['P2316'][0] == 'Q21502408':\n",
    "                sfname = 'mandatory'\n",
    "            elif constraint['P2316'][0] == 'Q62026391':\n",
    "                sfname = 'suggestion'\n",
    "            elif constraint['P2316'][0] == 'Normal':\n",
    "                sfname = 'normal'\n",
    "        else:\n",
    "            sfname = 'normal'\n",
    "        \n",
    "        if not(os.path.isfile(\"../../propertiesSplit_Final/claims.\"+ prop +\".tsv\")):\n",
    "            continue\n",
    "                \n",
    "        command = \"{ time ( kgtk --debug query -i ../../propertiesSplit_Final/claims.\"+ prop +\".tsv \\\n",
    "                    ../../propertiesSplit_Final/claims.\"+ prop +\".copy2.tsv \\\n",
    "                    --match 'tsv: (node1)-[nodeProp]->(node2), copy2: (node2)-[]->(node1)' \"\n",
    "        \n",
    "        os.system(\"cp ../../propertiesSplit_Final/claims.\"+ prop +\".tsv ../../propertiesSplit_Final/claims.\"+ prop +\".copy2.tsv\")\n",
    "        \n",
    "        if cnt % 60 == 0:\n",
    "            fCnt += 1\n",
    "            fOP = open(\"../../propertiesSplit_Final/checkViolations/\" + shellFileSuffix + str(fCnt) + \".sh\",\"w\")\n",
    "        command\n",
    "        if type(constraint['P2303']) != list: # Exceptions not present\n",
    "            commandRest = \" --return 'distinct nodeProp.id, node1 as `node1`, nodeProp.label as `label`, node2 as `node2`'  \\\n",
    "            -o ../../allConstraintsAnalysis_Final/\" + folderName + \"/\" + sfname + \"/claims.\"+ prop +\".correct.tsv \\\n",
    "            --graph-cache ../../sqlite3_caches/\"+graph_cache_prefix+\"_\" + str(fCnt) + \".sqlite3.db; \\\n",
    "             kgtk --debug ifnotexists -i ../../propertiesSplit_Final/claims.\"+ prop +\".tsv \\\n",
    "            --filter-on ../../allConstraintsAnalysis_Final/\" + folderName + \"/\" + sfname + \"/claims.\"+ prop +\".correct.tsv \"\n",
    "            \n",
    "            commandOPFile = \"-o ../../allConstraintsAnalysis_Final/\" + folderName + \"/\" + sfname + \"/claims.\"+ prop +\".\"\n",
    "            \n",
    "            command += commandRest + commandOPFile + \"incorrect.tsv ) } 2>> ../../propertiesSplit_Final/checkViolations/exec_logs/\" + shellFileSuffix + str(fCnt) + \".txt;\\n\"\n",
    "#             print(command)\n",
    "            fOP.write(command)\n",
    "        else:\n",
    "            excptns = constraint['P2303']\n",
    "            commandRest = \" --return 'distinct nodeProp.id, node1 as `node1`, nodeProp.label as `label`, node2 as `node2`'  \\\n",
    "            -o ../../allConstraintsAnalysis_Final/\" + folderName + \"/\" + sfname + \"/claims.\"+ prop +\".correct_wo_exceptions.tsv \\\n",
    "            --graph-cache ../../sqlite3_caches/\"+graph_cache_prefix+\"_\" + str(fCnt) + \".sqlite3.db; \\\n",
    "             kgtk --debug ifnotexists -i ../../propertiesSplit_Final/claims.\"+ prop +\".tsv \\\n",
    "            --filter-on ../../allConstraintsAnalysis_Final/\" + folderName + \"/\" + sfname + \"/claims.\"+ prop +\".correct_wo_exceptions.tsv \"\n",
    "            \n",
    "            commandOPFile = \"-o ../../allConstraintsAnalysis_Final/\" + folderName + \"/\" + sfname + \"/claims.\"+ prop +\".\"\n",
    "            \n",
    "            command += commandRest + commandOPFile + \"incorrect_wo_exceptions.tsv; \"\n",
    "#             print(command)\n",
    "            fOP.write(command)\n",
    "            \n",
    "            command = \" kgtk --debug query -i ../../allConstraintsAnalysis_Final/\" + folderName + \"/\" + sfname + \"/claims.\" + prop + \".incorrect_wo_exceptions.tsv \\\n",
    "                    --match '(node1)-[]->()' --where 'node1 in \" + str(list(excptns)).replace(\"'\",'\"') + \"' \\\n",
    "                    -o ../../allConstraintsAnalysis_Final/\" + folderName + \"/\" + sfname + \"/claims.\" + prop + \".correct_exceptions.tsv \\\n",
    "                    --graph-cache ../../sqlite3_caches/\"+graph_cache_prefix+\"_\" + str(fCnt) + \".sqlite3.db; \"\n",
    "#             print(command)\n",
    "            fOP.write(command)\n",
    "            \n",
    "            command = \"  kgtk --debug ifnotexists -i ../../allConstraintsAnalysis_Final/\" + folderName + \"/\" + sfname + \"/claims.\" + prop + \".incorrect_wo_exceptions.tsv \\\n",
    "            --filter-on ../../allConstraintsAnalysis_Final/\" + folderName + \"/\" + sfname + \"/claims.\" + prop + \".correct_exceptions.tsv \\\n",
    "            -o ../../allConstraintsAnalysis_Final/\" + folderName + \"/\" + sfname + \"/claims.\"+ prop +\".incorrect.tsv; \"\n",
    "#             print(command)\n",
    "            fOP.write(command)\n",
    "            \n",
    "            command = \" kgtk cat -i ../../allConstraintsAnalysis_Final/\" + folderName + \"/\" + sfname + \"/claims.\"+ prop +\".correct_wo_exceptions.tsv \\\n",
    "                    ../../allConstraintsAnalysis_Final/\" + folderName + \"/\" + sfname + \"/claims.\"+ prop +\".correct_exceptions.tsv \\\n",
    "                    -o ../../allConstraintsAnalysis_Final/\" + folderName + \"/\" + sfname + \"/claims.\"+ prop +\".correct.tsv ) } 2>> ../../propertiesSplit_Final/checkViolations/exec_logs/\" + shellFileSuffix + str(fCnt) + \".txt;\\n\"\n",
    "#             print(command)\n",
    "            fOP.write(command)\n",
    "        \n",
    "        \n",
    "        cnt += 1\n",
    "#     except:\n",
    "#         print(\"Something failed for prop:\",prop)"
   ]
  },
  {
   "cell_type": "code",
   "execution_count": 122,
   "id": "polar-canada",
   "metadata": {},
   "outputs": [
    {
     "data": {
      "text/plain": [
       "38"
      ]
     },
     "execution_count": 122,
     "metadata": {},
     "output_type": "execute_result"
    }
   ],
   "source": [
    "cnt"
   ]
  },
  {
   "cell_type": "code",
   "execution_count": 123,
   "id": "virtual-disney",
   "metadata": {},
   "outputs": [],
   "source": [
    "# import os\n",
    "# for i in range(1,3):\n",
    "#     os.system(\"screen -dm sh ../../propertiesSplit_Final/checkViolations/symmConst_Validator_\"+str(i)+\".sh\")"
   ]
  },
  {
   "cell_type": "markdown",
   "id": "coral-cheese",
   "metadata": {},
   "source": [
    "### Analyze Violations"
   ]
  },
  {
   "cell_type": "code",
   "execution_count": 143,
   "id": "governmental-backup",
   "metadata": {},
   "outputs": [
    {
     "data": {
      "application/vnd.jupyter.widget-view+json": {
       "model_id": "e84f13b9ec284bf2b0b14dbcaf12d6c7",
       "version_major": 2,
       "version_minor": 0
      },
      "text/plain": [
       "0it [00:00, ?it/s]"
      ]
     },
     "metadata": {},
     "output_type": "display_data"
    },
    {
     "data": {
      "application/vnd.jupyter.widget-view+json": {
       "model_id": "7512d86896fd442fa5ab2229bea160fc",
       "version_major": 2,
       "version_minor": 0
      },
      "text/plain": [
       "  0%|          | 0/13 [00:00<?, ?it/s]"
      ]
     },
     "metadata": {},
     "output_type": "display_data"
    },
    {
     "data": {
      "application/vnd.jupyter.widget-view+json": {
       "model_id": "bc22b74482594412b4b73e7e8ebd8f5b",
       "version_major": 2,
       "version_minor": 0
      },
      "text/plain": [
       "  0%|          | 0/66 [00:00<?, ?it/s]"
      ]
     },
     "metadata": {},
     "output_type": "display_data"
    },
    {
     "data": {
      "application/vnd.jupyter.widget-view+json": {
       "model_id": "e02a9efd8f3b4716a3087ca4303f4958",
       "version_major": 2,
       "version_minor": 0
      },
      "text/plain": [
       "  0%|          | 0/6 [00:00<?, ?it/s]"
      ]
     },
     "metadata": {},
     "output_type": "display_data"
    }
   ],
   "source": [
    "import pandas as pd\n",
    "import os\n",
    "from tqdm.notebook import tqdm\n",
    "\n",
    "symmConstViolations = {}\n",
    "\n",
    "def countLines(fname):\n",
    "    cnt = -1\n",
    "    with open(fname, 'r') as f:\n",
    "        for line in f:\n",
    "            cnt += 1\n",
    "    return cnt \n",
    "\n",
    "symmConstViolations = {}\n",
    "symmConstPropList = set()\n",
    "\n",
    "# codepConstViolationsSummary = {}\n",
    "\n",
    "\n",
    "filePath = \"../../allConstraintsAnalysis_Final/symmetricConstraint/\"\n",
    "for folder in tqdm(iter(['mandatory','normal','suggestion'])):\n",
    "    for filename in tqdm(os.listdir(filePath + folder)):\n",
    "        prop = filename.split(\".\")[1]\n",
    "        correctness = filename.split(\".\")[2]\n",
    "        if correctness not in ['correct','incorrect']:\n",
    "            continue\n",
    "        symmConstPropList.add(prop)\n",
    "        count1 = countLines(filePath+folder+'/'+filename)\n",
    "        if folder not in symmConstViolations:\n",
    "            symmConstViolations[folder] = {}\n",
    "        if prop not in symmConstViolations[folder]:\n",
    "            symmConstViolations[folder][prop] = {'correct': 0, 'incorrect': 0, 'paths': []}\n",
    "        symmConstViolations[folder][prop][correctness] = count1\n",
    "        symmConstViolations[folder][prop]['paths'].append(filePath+folder+'/'+filename)"
   ]
  },
  {
   "cell_type": "code",
   "execution_count": 144,
   "id": "helpful-offset",
   "metadata": {},
   "outputs": [
    {
     "data": {
      "text/plain": [
       "38"
      ]
     },
     "execution_count": 144,
     "metadata": {},
     "output_type": "execute_result"
    }
   ],
   "source": [
    "len(symmConstPropList)"
   ]
  },
  {
   "cell_type": "code",
   "execution_count": 145,
   "id": "entertaining-rescue",
   "metadata": {},
   "outputs": [
    {
     "data": {
      "application/vnd.jupyter.widget-view+json": {
       "model_id": "45a8ce1517a54fbb821a7c44438e6d25",
       "version_major": 2,
       "version_minor": 0
      },
      "text/plain": [
       "0it [00:00, ?it/s]"
      ]
     },
     "metadata": {},
     "output_type": "display_data"
    }
   ],
   "source": [
    "symmConstViolationsSummary = {}\n",
    "for folder in tqdm(iter(['mandatory','normal','suggestion'])):\n",
    "    symmConstViolationsSummary[folder] = {'correct': 0, 'incorrect': 0}\n",
    "    for prop in symmConstViolations[folder].keys():\n",
    "        symmConstViolationsSummary[folder]['correct'] += symmConstViolations[folder][prop]['correct']\n",
    "        symmConstViolationsSummary[folder]['incorrect'] += symmConstViolations[folder][prop]['incorrect']\n",
    "    symmConstViolationsSummary[folder]['total'] = symmConstViolationsSummary[folder]['correct'] + symmConstViolationsSummary[folder]['incorrect']\n",
    "    symmConstViolationsSummary[folder]['percIncorrect'] = symmConstViolationsSummary[folder]['incorrect'] / symmConstViolationsSummary[folder]['total'] * 100\n",
    "    symmConstViolationsSummary[folder]['propCount'] = len(symmConstViolations[folder].keys())"
   ]
  },
  {
   "cell_type": "code",
   "execution_count": 146,
   "id": "copyrighted-marshall",
   "metadata": {},
   "outputs": [
    {
     "data": {
      "text/plain": [
       "{'mandatory': {'correct': 7432,\n",
       "  'incorrect': 42,\n",
       "  'total': 7474,\n",
       "  'percIncorrect': 0.561948086700562,\n",
       "  'propCount': 5},\n",
       " 'normal': {'correct': 6230891,\n",
       "  'incorrect': 78884,\n",
       "  'total': 6309775,\n",
       "  'percIncorrect': 1.2501872095280735,\n",
       "  'propCount': 30},\n",
       " 'suggestion': {'correct': 773722,\n",
       "  'incorrect': 54226,\n",
       "  'total': 827948,\n",
       "  'percIncorrect': 6.549445134235484,\n",
       "  'propCount': 3}}"
      ]
     },
     "execution_count": 146,
     "metadata": {},
     "output_type": "execute_result"
    }
   ],
   "source": [
    "symmConstViolationsSummary"
   ]
  },
  {
   "cell_type": "code",
   "execution_count": 147,
   "id": "enhanced-ontario",
   "metadata": {},
   "outputs": [
    {
     "data": {
      "text/plain": [
       "7145197"
      ]
     },
     "execution_count": 147,
     "metadata": {},
     "output_type": "execute_result"
    }
   ],
   "source": [
    "noOfStmts = 0\n",
    "for fold in symmConstViolationsSummary.keys():\n",
    "    noOfStmts += symmConstViolationsSummary[fold]['total']\n",
    "noOfStmts"
   ]
  },
  {
   "cell_type": "code",
   "execution_count": 148,
   "id": "representative-conjunction",
   "metadata": {},
   "outputs": [
    {
     "data": {
      "text/html": [
       "<div>\n",
       "<style scoped>\n",
       "    .dataframe tbody tr th:only-of-type {\n",
       "        vertical-align: middle;\n",
       "    }\n",
       "\n",
       "    .dataframe tbody tr th {\n",
       "        vertical-align: top;\n",
       "    }\n",
       "\n",
       "    .dataframe thead th {\n",
       "        text-align: right;\n",
       "    }\n",
       "</style>\n",
       "<table border=\"1\" class=\"dataframe\">\n",
       "  <thead>\n",
       "    <tr style=\"text-align: right;\">\n",
       "      <th></th>\n",
       "      <th>correct</th>\n",
       "      <th>incorrect</th>\n",
       "      <th>paths</th>\n",
       "      <th>violation_ratio</th>\n",
       "    </tr>\n",
       "  </thead>\n",
       "  <tbody>\n",
       "    <tr>\n",
       "      <th>P2152</th>\n",
       "      <td>75</td>\n",
       "      <td>1</td>\n",
       "      <td>[../../allConstraintsAnalysis_Final/symmetricC...</td>\n",
       "      <td>0.013158</td>\n",
       "    </tr>\n",
       "    <tr>\n",
       "      <th>P1639</th>\n",
       "      <td>2059</td>\n",
       "      <td>21</td>\n",
       "      <td>[../../allConstraintsAnalysis_Final/symmetricC...</td>\n",
       "      <td>0.010096</td>\n",
       "    </tr>\n",
       "    <tr>\n",
       "      <th>P1560</th>\n",
       "      <td>3235</td>\n",
       "      <td>20</td>\n",
       "      <td>[../../allConstraintsAnalysis_Final/symmetricC...</td>\n",
       "      <td>0.006144</td>\n",
       "    </tr>\n",
       "    <tr>\n",
       "      <th>P3364</th>\n",
       "      <td>1784</td>\n",
       "      <td>0</td>\n",
       "      <td>[../../allConstraintsAnalysis_Final/symmetricC...</td>\n",
       "      <td>0.000000</td>\n",
       "    </tr>\n",
       "    <tr>\n",
       "      <th>P6185</th>\n",
       "      <td>279</td>\n",
       "      <td>0</td>\n",
       "      <td>[../../allConstraintsAnalysis_Final/symmetricC...</td>\n",
       "      <td>0.000000</td>\n",
       "    </tr>\n",
       "  </tbody>\n",
       "</table>\n",
       "</div>"
      ],
      "text/plain": [
       "      correct incorrect                                              paths  \\\n",
       "P2152      75         1  [../../allConstraintsAnalysis_Final/symmetricC...   \n",
       "P1639    2059        21  [../../allConstraintsAnalysis_Final/symmetricC...   \n",
       "P1560    3235        20  [../../allConstraintsAnalysis_Final/symmetricC...   \n",
       "P3364    1784         0  [../../allConstraintsAnalysis_Final/symmetricC...   \n",
       "P6185     279         0  [../../allConstraintsAnalysis_Final/symmetricC...   \n",
       "\n",
       "       violation_ratio  \n",
       "P2152         0.013158  \n",
       "P1639         0.010096  \n",
       "P1560         0.006144  \n",
       "P3364         0.000000  \n",
       "P6185         0.000000  "
      ]
     },
     "execution_count": 148,
     "metadata": {},
     "output_type": "execute_result"
    }
   ],
   "source": [
    "symmConstDF1 = pd.DataFrame(symmConstViolations['mandatory']).T\n",
    "symmConstDF1['violation_ratio'] = symmConstDF1.apply(lambda p: p.incorrect / (p.incorrect + p.correct), axis=1)\n",
    "symmConstDF1.sort_values(by=['violation_ratio'],ascending=False).head(15)"
   ]
  },
  {
   "cell_type": "code",
   "execution_count": 149,
   "id": "gross-extraction",
   "metadata": {},
   "outputs": [
    {
     "data": {
      "text/html": [
       "<div>\n",
       "<style scoped>\n",
       "    .dataframe tbody tr th:only-of-type {\n",
       "        vertical-align: middle;\n",
       "    }\n",
       "\n",
       "    .dataframe tbody tr th {\n",
       "        vertical-align: top;\n",
       "    }\n",
       "\n",
       "    .dataframe thead th {\n",
       "        text-align: right;\n",
       "    }\n",
       "</style>\n",
       "<table border=\"1\" class=\"dataframe\">\n",
       "  <thead>\n",
       "    <tr style=\"text-align: right;\">\n",
       "      <th></th>\n",
       "      <th>correct</th>\n",
       "      <th>incorrect</th>\n",
       "      <th>paths</th>\n",
       "      <th>violation_ratio</th>\n",
       "    </tr>\n",
       "  </thead>\n",
       "  <tbody>\n",
       "    <tr>\n",
       "      <th>P2789</th>\n",
       "      <td>103536</td>\n",
       "      <td>22758</td>\n",
       "      <td>[../../allConstraintsAnalysis_Final/symmetricC...</td>\n",
       "      <td>0.180199</td>\n",
       "    </tr>\n",
       "    <tr>\n",
       "      <th>P1889</th>\n",
       "      <td>505837</td>\n",
       "      <td>28391</td>\n",
       "      <td>[../../allConstraintsAnalysis_Final/symmetricC...</td>\n",
       "      <td>0.053144</td>\n",
       "    </tr>\n",
       "    <tr>\n",
       "      <th>P197</th>\n",
       "      <td>164349</td>\n",
       "      <td>3077</td>\n",
       "      <td>[../../allConstraintsAnalysis_Final/symmetricC...</td>\n",
       "      <td>0.018378</td>\n",
       "    </tr>\n",
       "  </tbody>\n",
       "</table>\n",
       "</div>"
      ],
      "text/plain": [
       "      correct incorrect                                              paths  \\\n",
       "P2789  103536     22758  [../../allConstraintsAnalysis_Final/symmetricC...   \n",
       "P1889  505837     28391  [../../allConstraintsAnalysis_Final/symmetricC...   \n",
       "P197   164349      3077  [../../allConstraintsAnalysis_Final/symmetricC...   \n",
       "\n",
       "       violation_ratio  \n",
       "P2789         0.180199  \n",
       "P1889         0.053144  \n",
       "P197          0.018378  "
      ]
     },
     "execution_count": 149,
     "metadata": {},
     "output_type": "execute_result"
    }
   ],
   "source": [
    "symmConstDF2 = pd.DataFrame(symmConstViolations['suggestion']).T\n",
    "symmConstDF2['violation_ratio'] = symmConstDF2.apply(lambda p: p.incorrect / (p.incorrect + p.correct), axis=1)\n",
    "symmConstDF2.sort_values(by=['violation_ratio'],ascending=False).head(15)"
   ]
  },
  {
   "cell_type": "code",
   "execution_count": 150,
   "id": "heavy-scout",
   "metadata": {},
   "outputs": [
    {
     "data": {
      "text/html": [
       "<div>\n",
       "<style scoped>\n",
       "    .dataframe tbody tr th:only-of-type {\n",
       "        vertical-align: middle;\n",
       "    }\n",
       "\n",
       "    .dataframe tbody tr th {\n",
       "        vertical-align: top;\n",
       "    }\n",
       "\n",
       "    .dataframe thead th {\n",
       "        text-align: right;\n",
       "    }\n",
       "</style>\n",
       "<table border=\"1\" class=\"dataframe\">\n",
       "  <thead>\n",
       "    <tr style=\"text-align: right;\">\n",
       "      <th></th>\n",
       "      <th>correct</th>\n",
       "      <th>incorrect</th>\n",
       "      <th>paths</th>\n",
       "      <th>violation_ratio</th>\n",
       "    </tr>\n",
       "  </thead>\n",
       "  <tbody>\n",
       "    <tr>\n",
       "      <th>P5188</th>\n",
       "      <td>0</td>\n",
       "      <td>2</td>\n",
       "      <td>[../../allConstraintsAnalysis_Final/symmetricC...</td>\n",
       "      <td>1.000000</td>\n",
       "    </tr>\n",
       "    <tr>\n",
       "      <th>P1706</th>\n",
       "      <td>4</td>\n",
       "      <td>52</td>\n",
       "      <td>[../../allConstraintsAnalysis_Final/symmetricC...</td>\n",
       "      <td>0.928571</td>\n",
       "    </tr>\n",
       "    <tr>\n",
       "      <th>P521</th>\n",
       "      <td>418</td>\n",
       "      <td>1300</td>\n",
       "      <td>[../../allConstraintsAnalysis_Final/symmetricC...</td>\n",
       "      <td>0.756694</td>\n",
       "    </tr>\n",
       "    <tr>\n",
       "      <th>P2652</th>\n",
       "      <td>460</td>\n",
       "      <td>852</td>\n",
       "      <td>[../../allConstraintsAnalysis_Final/symmetricC...</td>\n",
       "      <td>0.649390</td>\n",
       "    </tr>\n",
       "    <tr>\n",
       "      <th>P8702</th>\n",
       "      <td>6</td>\n",
       "      <td>2</td>\n",
       "      <td>[../../allConstraintsAnalysis_Final/symmetricC...</td>\n",
       "      <td>0.250000</td>\n",
       "    </tr>\n",
       "    <tr>\n",
       "      <th>P1382</th>\n",
       "      <td>10622</td>\n",
       "      <td>2811</td>\n",
       "      <td>[../../allConstraintsAnalysis_Final/symmetricC...</td>\n",
       "      <td>0.209261</td>\n",
       "    </tr>\n",
       "    <tr>\n",
       "      <th>P2293</th>\n",
       "      <td>9980</td>\n",
       "      <td>2230</td>\n",
       "      <td>[../../allConstraintsAnalysis_Final/symmetricC...</td>\n",
       "      <td>0.182637</td>\n",
       "    </tr>\n",
       "    <tr>\n",
       "      <th>P3032</th>\n",
       "      <td>1674</td>\n",
       "      <td>345</td>\n",
       "      <td>[../../allConstraintsAnalysis_Final/symmetricC...</td>\n",
       "      <td>0.170877</td>\n",
       "    </tr>\n",
       "    <tr>\n",
       "      <th>P451</th>\n",
       "      <td>9520</td>\n",
       "      <td>1018</td>\n",
       "      <td>[../../allConstraintsAnalysis_Final/symmetricC...</td>\n",
       "      <td>0.096603</td>\n",
       "    </tr>\n",
       "    <tr>\n",
       "      <th>P1327</th>\n",
       "      <td>7734</td>\n",
       "      <td>758</td>\n",
       "      <td>[../../allConstraintsAnalysis_Final/symmetricC...</td>\n",
       "      <td>0.089260</td>\n",
       "    </tr>\n",
       "    <tr>\n",
       "      <th>P4915</th>\n",
       "      <td>328</td>\n",
       "      <td>28</td>\n",
       "      <td>[../../allConstraintsAnalysis_Final/symmetricC...</td>\n",
       "      <td>0.078652</td>\n",
       "    </tr>\n",
       "    <tr>\n",
       "      <th>P3403</th>\n",
       "      <td>2126</td>\n",
       "      <td>114</td>\n",
       "      <td>[../../allConstraintsAnalysis_Final/symmetricC...</td>\n",
       "      <td>0.050893</td>\n",
       "    </tr>\n",
       "    <tr>\n",
       "      <th>P47</th>\n",
       "      <td>548251</td>\n",
       "      <td>29281</td>\n",
       "      <td>[../../allConstraintsAnalysis_Final/symmetricC...</td>\n",
       "      <td>0.050700</td>\n",
       "    </tr>\n",
       "    <tr>\n",
       "      <th>P460</th>\n",
       "      <td>238967</td>\n",
       "      <td>11571</td>\n",
       "      <td>[../../allConstraintsAnalysis_Final/symmetricC...</td>\n",
       "      <td>0.046185</td>\n",
       "    </tr>\n",
       "    <tr>\n",
       "      <th>P530</th>\n",
       "      <td>6595</td>\n",
       "      <td>319</td>\n",
       "      <td>[../../allConstraintsAnalysis_Final/symmetricC...</td>\n",
       "      <td>0.046138</td>\n",
       "    </tr>\n",
       "  </tbody>\n",
       "</table>\n",
       "</div>"
      ],
      "text/plain": [
       "      correct incorrect                                              paths  \\\n",
       "P5188       0         2  [../../allConstraintsAnalysis_Final/symmetricC...   \n",
       "P1706       4        52  [../../allConstraintsAnalysis_Final/symmetricC...   \n",
       "P521      418      1300  [../../allConstraintsAnalysis_Final/symmetricC...   \n",
       "P2652     460       852  [../../allConstraintsAnalysis_Final/symmetricC...   \n",
       "P8702       6         2  [../../allConstraintsAnalysis_Final/symmetricC...   \n",
       "P1382   10622      2811  [../../allConstraintsAnalysis_Final/symmetricC...   \n",
       "P2293    9980      2230  [../../allConstraintsAnalysis_Final/symmetricC...   \n",
       "P3032    1674       345  [../../allConstraintsAnalysis_Final/symmetricC...   \n",
       "P451     9520      1018  [../../allConstraintsAnalysis_Final/symmetricC...   \n",
       "P1327    7734       758  [../../allConstraintsAnalysis_Final/symmetricC...   \n",
       "P4915     328        28  [../../allConstraintsAnalysis_Final/symmetricC...   \n",
       "P3403    2126       114  [../../allConstraintsAnalysis_Final/symmetricC...   \n",
       "P47    548251     29281  [../../allConstraintsAnalysis_Final/symmetricC...   \n",
       "P460   238967     11571  [../../allConstraintsAnalysis_Final/symmetricC...   \n",
       "P530     6595       319  [../../allConstraintsAnalysis_Final/symmetricC...   \n",
       "\n",
       "       violation_ratio  \n",
       "P5188         1.000000  \n",
       "P1706         0.928571  \n",
       "P521          0.756694  \n",
       "P2652         0.649390  \n",
       "P8702         0.250000  \n",
       "P1382         0.209261  \n",
       "P2293         0.182637  \n",
       "P3032         0.170877  \n",
       "P451          0.096603  \n",
       "P1327         0.089260  \n",
       "P4915         0.078652  \n",
       "P3403         0.050893  \n",
       "P47           0.050700  \n",
       "P460          0.046185  \n",
       "P530          0.046138  "
      ]
     },
     "execution_count": 150,
     "metadata": {},
     "output_type": "execute_result"
    }
   ],
   "source": [
    "symmConstDF3 = pd.DataFrame(symmConstViolations['normal']).T\n",
    "symmConstDF3['violation_ratio'] = symmConstDF3.apply(lambda p: p.incorrect / (p.incorrect + p.correct), axis=1)\n",
    "symmConstDF3.sort_values(by=['violation_ratio'],ascending=False).head(15)"
   ]
  },
  {
   "cell_type": "code",
   "execution_count": 151,
   "id": "legitimate-aspect",
   "metadata": {},
   "outputs": [
    {
     "data": {
      "text/plain": [
       "Text(0.5, 1.0, 'Symmetric Normal Constraint - Violation Ratios')"
      ]
     },
     "execution_count": 151,
     "metadata": {},
     "output_type": "execute_result"
    },
    {
     "data": {
      "image/png": "[encoded data removed]",
      "text/plain": [
       "<Figure size 432x288 with 1 Axes>"
      ]
     },
     "metadata": {
      "needs_background": "light"
     },
     "output_type": "display_data"
    }
   ],
   "source": [
    "symmConstDF3.sort_values(by=['violation_ratio'],ascending=False)['violation_ratio'].plot.hist(bins=100).set_title(\"Symmetric Normal Constraint - Violation Ratios\")"
   ]
  },
  {
   "cell_type": "code",
   "execution_count": 152,
   "id": "junior-marketing",
   "metadata": {},
   "outputs": [],
   "source": [
    "pd.concat([symmConstDF1, symmConstDF2, symmConstDF3]).to_csv('../../allConstraintsAnalysis_Final/symmConstDFAnalysis.csv')"
   ]
  },
  {
   "cell_type": "markdown",
   "id": "unlikely-sewing",
   "metadata": {},
   "source": [
    "### Find out time required"
   ]
  },
  {
   "cell_type": "code",
   "execution_count": 135,
   "id": "southern-reasoning",
   "metadata": {},
   "outputs": [
    {
     "data": {
      "application/vnd.jupyter.widget-view+json": {
       "model_id": "a6d9bf7b68ec4aa6a5403175de15cd14",
       "version_major": 2,
       "version_minor": 0
      },
      "text/plain": [
       "  0%|          | 0/52 [00:00<?, ?it/s]"
      ]
     },
     "metadata": {},
     "output_type": "display_data"
    }
   ],
   "source": [
    "import pandas as pd\n",
    "import os\n",
    "from tqdm.notebook import tqdm\n",
    "\n",
    "codepConstViolations = {}\n",
    "\n",
    "codepConstViolations = {}\n",
    "codepConstPropList = set()\n",
    "\n",
    "def extractTimes(filename):\n",
    "    times = []\n",
    "    with open(filename) as f:\n",
    "        for line in f:\n",
    "            if \"real\" in line:\n",
    "                line = line.strip()\n",
    "                time1 = line.split(\"\\t\")[1]\n",
    "                mins, sec = time1.split(\"m\")\n",
    "                mins = int(mins)\n",
    "                sec = float(sec[:-1])\n",
    "                times.append(60 * mins + sec)\n",
    "    return times\n",
    "\n",
    "# codepConstViolationsSummary = {}\n",
    "times = []\n",
    "filePath = '/data/wd-correctness/propertiesSplit_Final/checkViolations/exec_logs/'\n",
    "for filename in tqdm(os.listdir(filePath)):\n",
    "    if filename.startswith(\"symmConst_Validator_\"):\n",
    "        tempTimes = extractTimes(filePath + filename)\n",
    "        times += tempTimes"
   ]
  },
  {
   "cell_type": "code",
   "execution_count": 136,
   "id": "classical-updating",
   "metadata": {},
   "outputs": [
    {
     "name": "stdout",
     "output_type": "stream",
     "text": [
      "count     38.000000\n",
      "mean     118.440816\n",
      "std      119.145724\n",
      "min        9.715000\n",
      "25%       40.780500\n",
      "50%       68.670000\n",
      "75%      135.589750\n",
      "max      527.332000\n",
      "dtype: float64\n"
     ]
    }
   ],
   "source": [
    "print(pd.Series(times).describe())"
   ]
  },
  {
   "cell_type": "code",
   "execution_count": 137,
   "id": "fundamental-bottle",
   "metadata": {},
   "outputs": [
    {
     "data": {
      "text/plain": [
       "Text(0.5, 1.0, 'Distribution of times (in s) taken for symmetric constraint checks')"
      ]
     },
     "execution_count": 137,
     "metadata": {},
     "output_type": "execute_result"
    },
    {
     "data": {
      "image/png": "[encoded data removed]",
      "text/plain": [
       "<Figure size 432x288 with 1 Axes>"
      ]
     },
     "metadata": {
      "needs_background": "light"
     },
     "output_type": "display_data"
    }
   ],
   "source": [
    "import seaborn as sns\n",
    "sns.lineplot(data=pd.Series(times)).set_title(\"Distribution of times (in s) taken for symmetric constraint checks\")"
   ]
  },
  {
   "cell_type": "markdown",
   "id": "informed-animal",
   "metadata": {},
   "source": [
    "## Inverse Constraint (Q21510855)\n",
    "\n",
    "This constraint says, if node1 has a property with this constraint, then node2 must have the specified property and the value must be node1."
   ]
  },
  {
   "cell_type": "markdown",
   "id": "dramatic-manchester",
   "metadata": {},
   "source": [
    "### Constraints File"
   ]
  },
  {
   "cell_type": "code",
   "execution_count": 124,
   "id": "leading-server",
   "metadata": {},
   "outputs": [
    {
     "name": "stdout",
     "output_type": "stream",
     "text": [
      "[2021-05-13 23:13:26 query]: SQL Translation:\r\n",
      "---------------------------------------------\r\n",
      "  SELECT *\r\n",
      "     FROM graph_1 AS graph_1_c1\r\n",
      "     WHERE graph_1_c1.\"label\"=?\r\n",
      "     AND graph_1_c1.\"node2\"=?\r\n",
      "  PARAS: ['P2302', 'Q21510855']\r\n",
      "---------------------------------------------\r\n"
     ]
    }
   ],
   "source": [
    "!kgtk --debug query -i ../../gdrive-kgtk-dump-2020-12-07/claims.properties.tsv.gz \\\n",
    "    ../../gdrive-kgtk-dump-2020-12-07/qualifiers.properties.tsv.gz \\\n",
    "    --match \"p: (nodeProp1)-[nodePropEdge:P2302]->(:Q21510855)\" \\\n",
    "    -o ../../constraintsOP/inverseConstraint/claims.constraints_list.tsv \\\n",
    "    --graph-cache ../../sqlite3_caches/temp1345.valuetype.sqlite3.db"
   ]
  },
  {
   "cell_type": "code",
   "execution_count": 125,
   "id": "received-colonial",
   "metadata": {},
   "outputs": [],
   "source": [
    "import pandas as pd\n",
    "qualiDF = pd.read_csv(\"../../gdrive-kgtk-dump-2020-12-07/qualifiers.properties.tsv.gz\",sep='\\t')\n",
    "constDF = pd.read_csv(\"../../constraintsOP/inverseConstraint/claims.constraints_list.tsv\",sep='\\t')"
   ]
  },
  {
   "cell_type": "code",
   "execution_count": 126,
   "id": "overall-expense",
   "metadata": {},
   "outputs": [],
   "source": [
    "constDF2 = constDF.set_index('id').join(qualiDF.set_index('node1'),rsuffix='_qualifier').drop(columns=['id', 'node2;wikidatatype_qualifier', 'rank', 'node2', 'label', 'node2;wikidatatype']).rename(columns={'label_qualifier':'label', 'node2_qualifier': 'node2'})\n",
    "constDF2 = constDF2.reset_index()\n",
    "constDF2 = constDF2.rename(columns={'index':'id'})\n",
    "constDF2['label'] = constDF2.label.fillna(\"P2316\")\n",
    "constDF2['node2'] = constDF2.node2.fillna(\"Normal\")"
   ]
  },
  {
   "cell_type": "code",
   "execution_count": 127,
   "id": "valid-throat",
   "metadata": {},
   "outputs": [],
   "source": [
    "constDF2.to_csv(\"../../constraintsOP/inverseConstraint/claims.constraints_all.tsv\",sep=\"\\t\",index=False)"
   ]
  },
  {
   "cell_type": "code",
   "execution_count": 128,
   "id": "focused-pennsylvania",
   "metadata": {},
   "outputs": [],
   "source": [
    "import pandas as pd\n",
    "import math\n",
    "dfItemRequires = pd.read_csv('../../constraintsOP/inverseConstraint/claims.constraints_all.tsv',sep='\\t')"
   ]
  },
  {
   "cell_type": "code",
   "execution_count": 129,
   "id": "moved-rental",
   "metadata": {},
   "outputs": [],
   "source": [
    "dfItemRequires = dfItemRequires.groupby(['id','node1','label']).node2.apply(lambda p: p.tolist()).reset_index()"
   ]
  },
  {
   "cell_type": "code",
   "execution_count": 130,
   "id": "attached-rings",
   "metadata": {},
   "outputs": [
    {
     "data": {
      "text/plain": [
       "array(['P2306', 'P2316', 'P4155', 'P2303'], dtype=object)"
      ]
     },
     "execution_count": 130,
     "metadata": {},
     "output_type": "execute_result"
    }
   ],
   "source": [
    "dfItemRequires['label'].unique()"
   ]
  },
  {
   "cell_type": "code",
   "execution_count": 131,
   "id": "loving-mileage",
   "metadata": {},
   "outputs": [
    {
     "data": {
      "text/plain": [
       "P2306    110\n",
       "P2316     10\n",
       "P2303      2\n",
       "P4155      1\n",
       "Name: label, dtype: int64"
      ]
     },
     "execution_count": 131,
     "metadata": {},
     "output_type": "execute_result"
    }
   ],
   "source": [
    "dfItemRequires['label'].value_counts()"
   ]
  },
  {
   "cell_type": "code",
   "execution_count": 132,
   "id": "local-forty",
   "metadata": {},
   "outputs": [],
   "source": [
    "#Reference: https://stackoverflow.com/a/17298454\n",
    "# dfItemRequires.pivot_table('node2', ['node1', 'id'], 'label')\n",
    "dfItemRequires = dfItemRequires.pivot(index=['node1','id'], columns='label', values='node2')"
   ]
  },
  {
   "cell_type": "code",
   "execution_count": 133,
   "id": "pressed-upset",
   "metadata": {},
   "outputs": [
    {
     "data": {
      "text/html": [
       "<div>\n",
       "<style scoped>\n",
       "    .dataframe tbody tr th:only-of-type {\n",
       "        vertical-align: middle;\n",
       "    }\n",
       "\n",
       "    .dataframe tbody tr th {\n",
       "        vertical-align: top;\n",
       "    }\n",
       "\n",
       "    .dataframe thead th {\n",
       "        text-align: right;\n",
       "    }\n",
       "</style>\n",
       "<table border=\"1\" class=\"dataframe\">\n",
       "  <thead>\n",
       "    <tr style=\"text-align: right;\">\n",
       "      <th></th>\n",
       "      <th>label</th>\n",
       "      <th>P2303</th>\n",
       "      <th>P2306</th>\n",
       "      <th>P2316</th>\n",
       "      <th>P4155</th>\n",
       "    </tr>\n",
       "    <tr>\n",
       "      <th>node1</th>\n",
       "      <th>id</th>\n",
       "      <th></th>\n",
       "      <th></th>\n",
       "      <th></th>\n",
       "      <th></th>\n",
       "    </tr>\n",
       "  </thead>\n",
       "  <tbody>\n",
       "    <tr>\n",
       "      <th>P1026</th>\n",
       "      <th>P1026-P2302-Q21510855-adc83b86-0</th>\n",
       "      <td>NaN</td>\n",
       "      <td>[P50]</td>\n",
       "      <td>NaN</td>\n",
       "      <td>NaN</td>\n",
       "    </tr>\n",
       "    <tr>\n",
       "      <th>P1029</th>\n",
       "      <th>P1029-P2302-Q21510855-6b55e057-0</th>\n",
       "      <td>NaN</td>\n",
       "      <td>[P5096]</td>\n",
       "      <td>NaN</td>\n",
       "      <td>NaN</td>\n",
       "    </tr>\n",
       "    <tr>\n",
       "      <th>P115</th>\n",
       "      <th>P115-P2302-Q21510855-f7aa0b78-0</th>\n",
       "      <td>NaN</td>\n",
       "      <td>[P466]</td>\n",
       "      <td>NaN</td>\n",
       "      <td>NaN</td>\n",
       "    </tr>\n",
       "    <tr>\n",
       "      <th>P1151</th>\n",
       "      <th>P1151-P2302-Q21510855-0d9aa9c6-0</th>\n",
       "      <td>NaN</td>\n",
       "      <td>[P1204]</td>\n",
       "      <td>[Q21502408]</td>\n",
       "      <td>NaN</td>\n",
       "    </tr>\n",
       "    <tr>\n",
       "      <th>P1204</th>\n",
       "      <th>P1204-P2302-Q21510855-e3d53bb6-0</th>\n",
       "      <td>NaN</td>\n",
       "      <td>[P1151]</td>\n",
       "      <td>NaN</td>\n",
       "      <td>NaN</td>\n",
       "    </tr>\n",
       "  </tbody>\n",
       "</table>\n",
       "</div>"
      ],
      "text/plain": [
       "label                                  P2303    P2306        P2316 P4155\n",
       "node1 id                                                                \n",
       "P1026 P1026-P2302-Q21510855-adc83b86-0   NaN    [P50]          NaN   NaN\n",
       "P1029 P1029-P2302-Q21510855-6b55e057-0   NaN  [P5096]          NaN   NaN\n",
       "P115  P115-P2302-Q21510855-f7aa0b78-0    NaN   [P466]          NaN   NaN\n",
       "P1151 P1151-P2302-Q21510855-0d9aa9c6-0   NaN  [P1204]  [Q21502408]   NaN\n",
       "P1204 P1204-P2302-Q21510855-e3d53bb6-0   NaN  [P1151]          NaN   NaN"
      ]
     },
     "execution_count": 133,
     "metadata": {},
     "output_type": "execute_result"
    }
   ],
   "source": [
    "dfItemRequires.head()"
   ]
  },
  {
   "cell_type": "code",
   "execution_count": 134,
   "id": "extra-stomach",
   "metadata": {},
   "outputs": [],
   "source": [
    "dfItemRequires = dfItemRequires.droplevel(1)"
   ]
  },
  {
   "cell_type": "code",
   "execution_count": 135,
   "id": "seeing-marine",
   "metadata": {},
   "outputs": [
    {
     "data": {
      "text/html": [
       "<div>\n",
       "<style scoped>\n",
       "    .dataframe tbody tr th:only-of-type {\n",
       "        vertical-align: middle;\n",
       "    }\n",
       "\n",
       "    .dataframe tbody tr th {\n",
       "        vertical-align: top;\n",
       "    }\n",
       "\n",
       "    .dataframe thead th {\n",
       "        text-align: right;\n",
       "    }\n",
       "</style>\n",
       "<table border=\"1\" class=\"dataframe\">\n",
       "  <thead>\n",
       "    <tr style=\"text-align: right;\">\n",
       "      <th>label</th>\n",
       "      <th>P2303</th>\n",
       "      <th>P2306</th>\n",
       "      <th>P2316</th>\n",
       "      <th>P4155</th>\n",
       "    </tr>\n",
       "    <tr>\n",
       "      <th>node1</th>\n",
       "      <th></th>\n",
       "      <th></th>\n",
       "      <th></th>\n",
       "      <th></th>\n",
       "    </tr>\n",
       "  </thead>\n",
       "  <tbody>\n",
       "    <tr>\n",
       "      <th>P1026</th>\n",
       "      <td>NaN</td>\n",
       "      <td>[P50]</td>\n",
       "      <td>NaN</td>\n",
       "      <td>NaN</td>\n",
       "    </tr>\n",
       "    <tr>\n",
       "      <th>P1029</th>\n",
       "      <td>NaN</td>\n",
       "      <td>[P5096]</td>\n",
       "      <td>NaN</td>\n",
       "      <td>NaN</td>\n",
       "    </tr>\n",
       "    <tr>\n",
       "      <th>P115</th>\n",
       "      <td>NaN</td>\n",
       "      <td>[P466]</td>\n",
       "      <td>NaN</td>\n",
       "      <td>NaN</td>\n",
       "    </tr>\n",
       "    <tr>\n",
       "      <th>P1151</th>\n",
       "      <td>NaN</td>\n",
       "      <td>[P1204]</td>\n",
       "      <td>[Q21502408]</td>\n",
       "      <td>NaN</td>\n",
       "    </tr>\n",
       "    <tr>\n",
       "      <th>P1204</th>\n",
       "      <td>NaN</td>\n",
       "      <td>[P1151]</td>\n",
       "      <td>NaN</td>\n",
       "      <td>NaN</td>\n",
       "    </tr>\n",
       "  </tbody>\n",
       "</table>\n",
       "</div>"
      ],
      "text/plain": [
       "label P2303    P2306        P2316 P4155\n",
       "node1                                  \n",
       "P1026   NaN    [P50]          NaN   NaN\n",
       "P1029   NaN  [P5096]          NaN   NaN\n",
       "P115    NaN   [P466]          NaN   NaN\n",
       "P1151   NaN  [P1204]  [Q21502408]   NaN\n",
       "P1204   NaN  [P1151]          NaN   NaN"
      ]
     },
     "execution_count": 135,
     "metadata": {},
     "output_type": "execute_result"
    }
   ],
   "source": [
    "dfItemRequires.head()"
   ]
  },
  {
   "cell_type": "markdown",
   "id": "composite-cutting",
   "metadata": {},
   "source": [
    "### Query Generator"
   ]
  },
  {
   "cell_type": "code",
   "execution_count": 136,
   "id": "acoustic-belarus",
   "metadata": {},
   "outputs": [
    {
     "data": {
      "application/vnd.jupyter.widget-view+json": {
       "model_id": "c0747553a34949f9bfcce47e0815de33",
       "version_major": 2,
       "version_minor": 0
      },
      "text/plain": [
       "0it [00:00, ?it/s]"
      ]
     },
     "metadata": {},
     "output_type": "display_data"
    }
   ],
   "source": [
    "from tqdm.notebook import tqdm\n",
    "import os.path\n",
    "import os\n",
    "\n",
    "cnt = 0\n",
    "fCnt = 0\n",
    "fOP = None\n",
    "\n",
    "folderName = 'inverseConstraint'\n",
    "shellFileSuffix = 'invConst_Validator_'\n",
    "graph_cache_file_prefix = \"inv_new_1_1_\"\n",
    "\n",
    "for prop, constraint in tqdm(dfItemRequires.iterrows()):\n",
    "#     try:\n",
    "        \n",
    "        if type(constraint['P2316']) == list:\n",
    "            if constraint['P2316'][0] == 'Q21502408':\n",
    "                subFolderName = \"mandatory\"\n",
    "            elif constraint['P2316'][0] == 'Q62026391':\n",
    "                subFolderName = \"suggestion\"\n",
    "        else:\n",
    "            subFolderName = \"normal\"\n",
    "        \n",
    "        if not(os.path.isfile(\"../../propertiesSplit_Final/claims.\"+ prop +\".tsv\")):\n",
    "            continue\n",
    "            \n",
    "        prop2 = constraint['P2306']\n",
    "\n",
    "        if type(prop2) != list:\n",
    "            continue\n",
    "        prop2 = prop2[0]\n",
    "\n",
    "        if not(os.path.isfile(\"../../propertiesSplit_Final/claims.\"+ prop2 +\".tsv\")):\n",
    "            print(f\"File: ../../propertiesSplit_Final/claims.{prop2}.tsv does not exist\")\n",
    "            continue\n",
    "        \n",
    "        if cnt % 60 == 0:\n",
    "            if fOP:\n",
    "                fOP.close()\n",
    "            fCnt += 1\n",
    "            fOP = open(\"../../propertiesSplit_Final/checkViolations/\" + shellFileSuffix + str(fCnt) + \".sh\",\"w\")\n",
    "        \n",
    "            \n",
    "        command = \"{ time ( kgtk --debug query -i ../../propertiesSplit_Final/claims.\"+ prop +\".tsv \\\n",
    "                        ../../propertiesSplit_Final/claims.\"+ prop2 +\".tsv \\\n",
    "                        --match '\"+ \\\n",
    "                        f\"{prop}: (node1)-[nodeProp]->(node2), {prop2}: (node2)-[]->(node1)' \"\n",
    "\n",
    "        if type(constraint['P2303']) != list: # Exceptions not present\n",
    "            commandRest = \" --return 'distinct nodeProp.id, node1 as `node1`, nodeProp.label as `label`, node2 as `node2`'  \\\n",
    "            -o ../../allConstraintsAnalysis_Final/\" + folderName + \"/\" + subFolderName + \"/claims.\"+ prop +\".correct.tsv \\\n",
    "            --graph-cache ../../sqlite3_caches/\" + str(graph_cache_file_prefix) + str(fCnt) + \".sqlite3.db; \\\n",
    "             kgtk --debug ifnotexists -i ../../propertiesSplit_Final/claims.\"+ prop +\".tsv \\\n",
    "            --filter-on ../../allConstraintsAnalysis_Final/\" + folderName + \"/\" + subFolderName + \"/claims.\"+ prop +\".correct.tsv \"\n",
    "            \n",
    "            commandOPFile = \"-o ../../allConstraintsAnalysis_Final/\" + folderName + \"/\" + subFolderName + \"/claims.\"+ prop +\".\"\n",
    "            \n",
    "            command += commandRest + commandOPFile + \"incorrect.tsv ) } 2>> ../../propertiesSplit_Final/checkViolations/exec_logs/\" + shellFileSuffix + str(fCnt) + \".txt;\\n\"\n",
    "#             print(command)\n",
    "            fOP.write(command)\n",
    "        else:\n",
    "            excptns = set(constraint['P2303'])\n",
    "            commandRest = \" --return 'distinct nodeProp.id, node1 as `node1`, nodeProp.label as `label`, node2 as `node2`'  \\\n",
    "            -o ../../allConstraintsAnalysis_Final/\" + folderName + \"/\" + subFolderName + \"/claims.\"+ prop +\".correct_wo_exceptions.tsv \\\n",
    "            --graph-cache ../../sqlite3_caches/\" + str(graph_cache_file_prefix) + str(fCnt) + \".sqlite3.db; \\\n",
    "             kgtk --debug ifnotexists -i ../../propertiesSplit_Final/claims.\"+ prop +\".tsv \\\n",
    "            --filter-on ../../allConstraintsAnalysis_Final/\" + folderName + \"/\" + subFolderName + \"/claims.\"+ prop +\".correct_wo_exceptions.tsv \"\n",
    "            \n",
    "            commandOPFile = \"-o ../../allConstraintsAnalysis_Final/\" + folderName + \"/\" + subFolderName + \"/claims.\"+ prop +\".\"\n",
    "            \n",
    "            command += commandRest + commandOPFile + \"incorrect_wo_exceptions.tsv; \"\n",
    "#             print(command)\n",
    "            fOP.write(command)\n",
    "            \n",
    "            command = \"  kgtk --debug query -i ../../allConstraintsAnalysis_Final/\" + folderName + \"/\" + subFolderName + \"/claims.\" + prop + \".incorrect_wo_exceptions.tsv \\\n",
    "                    --match '(node1)-[]->()' --where 'node1 in \" + str(list(excptns)).replace(\"'\",'\"') + \"' \\\n",
    "                    -o ../../allConstraintsAnalysis_Final/\" + folderName + \"/\" + subFolderName + \"/claims.\" + prop + \".incorrect_w_exceptions.tsv \\\n",
    "                    --graph-cache ../../sqlite3_caches/\" + str(graph_cache_file_prefix) + str(fCnt) + \".sqlite3.db; \"\n",
    "#             print(command)        \n",
    "            fOP.write(command)\n",
    "            \n",
    "            command = \"  kgtk --debug ifnotexists -i ../../allConstraintsAnalysis_Final/\" + folderName + \"/\" + subFolderName + \"/claims.\" + prop + \".incorrect_wo_exceptions.tsv \\\n",
    "            --filter-on ../../allConstraintsAnalysis_Final/\" + folderName + \"/\" + subFolderName + \"/claims.\" + prop + \".incorrect_w_exceptions.tsv \\\n",
    "            -o ../../allConstraintsAnalysis_Final/\" + folderName + \"/\" + subFolderName + \"/claims.\"+ prop +\".incorrect.tsv; \"\n",
    "#             print(command)\n",
    "            fOP.write(command)\n",
    "            \n",
    "            command = \"  kgtk cat -i ../../allConstraintsAnalysis_Final/\" + folderName + \"/\" + subFolderName + \"/claims.\"+ prop +\".correct_wo_exceptions.tsv \\\n",
    "                    ../../allConstraintsAnalysis_Final/\" + folderName + \"/\" + subFolderName + \"/claims.\"+ prop +\".incorrect_w_exceptions.tsv \\\n",
    "                    -o ../../allConstraintsAnalysis_Final/\" + folderName + \"/\" + subFolderName + \"/claims.\"+ prop +\".correct.tsv ) } 2>> ../../propertiesSplit_Final/checkViolations/exec_logs/\" + shellFileSuffix + str(fCnt) + \".txt; \\n\"\n",
    "#             print(command)\n",
    "            fOP.write(command)\n",
    "        \n",
    "        \n",
    "        cnt += 1\n",
    "#     except:\n",
    "#         print(\"Something failed for prop:\",prop)\n",
    "if fOP:\n",
    "    fOP.close()"
   ]
  },
  {
   "cell_type": "code",
   "execution_count": 137,
   "id": "large-climb",
   "metadata": {},
   "outputs": [
    {
     "data": {
      "text/plain": [
       "110"
      ]
     },
     "execution_count": 137,
     "metadata": {},
     "output_type": "execute_result"
    }
   ],
   "source": [
    "cnt"
   ]
  },
  {
   "cell_type": "code",
   "execution_count": 138,
   "id": "involved-vietnamese",
   "metadata": {},
   "outputs": [],
   "source": [
    "# import os\n",
    "# for i in range(1,7):\n",
    "#     os.system(\"screen -dm sh ../../propertiesSplit_Final/checkViolations/invConst_Validator_\"+str(i)+\".sh\")"
   ]
  },
  {
   "cell_type": "markdown",
   "id": "retired-audio",
   "metadata": {},
   "source": [
    "### Analyze Violations"
   ]
  },
  {
   "cell_type": "code",
   "execution_count": 153,
   "id": "specified-evanescence",
   "metadata": {},
   "outputs": [
    {
     "data": {
      "application/vnd.jupyter.widget-view+json": {
       "model_id": "a2d2765887594918b68c97a3a28c3ea6",
       "version_major": 2,
       "version_minor": 0
      },
      "text/plain": [
       "0it [00:00, ?it/s]"
      ]
     },
     "metadata": {},
     "output_type": "display_data"
    },
    {
     "data": {
      "application/vnd.jupyter.widget-view+json": {
       "model_id": "61569933ccaa4a6e9c107b98db897706",
       "version_major": 2,
       "version_minor": 0
      },
      "text/plain": [
       "  0%|          | 0/12 [00:00<?, ?it/s]"
      ]
     },
     "metadata": {},
     "output_type": "display_data"
    },
    {
     "data": {
      "application/vnd.jupyter.widget-view+json": {
       "model_id": "769abe04e3824cab832b94b790817bb3",
       "version_major": 2,
       "version_minor": 0
      },
      "text/plain": [
       "  0%|          | 0/206 [00:00<?, ?it/s]"
      ]
     },
     "metadata": {},
     "output_type": "display_data"
    },
    {
     "data": {
      "application/vnd.jupyter.widget-view+json": {
       "model_id": "4de71088e5c44404973e041e82421290",
       "version_major": 2,
       "version_minor": 0
      },
      "text/plain": [
       "  0%|          | 0/8 [00:00<?, ?it/s]"
      ]
     },
     "metadata": {},
     "output_type": "display_data"
    }
   ],
   "source": [
    "import pandas as pd\n",
    "import os\n",
    "from tqdm.notebook import tqdm\n",
    "\n",
    "invConstViolations = {}\n",
    "\n",
    "def countLines(fname):\n",
    "    cnt = -1\n",
    "    with open(fname, 'r') as f:\n",
    "        for line in f:\n",
    "            cnt += 1\n",
    "    return cnt\n",
    "\n",
    "invConstViolations = {}\n",
    "invConstPropList = set()\n",
    "\n",
    "# codepConstViolationsSummary = {}\n",
    "\n",
    "\n",
    "filePath = \"../../allConstraintsAnalysis_Final/inverseConstraint/\"\n",
    "for folder in tqdm(iter(['mandatory','normal','suggestion'])):\n",
    "    for filename in tqdm(os.listdir(filePath + folder)):\n",
    "        prop = filename.split(\".\")[1]\n",
    "        correctness = filename.split(\".\")[2]\n",
    "        if correctness not in ['correct','incorrect']:\n",
    "            continue\n",
    "        invConstPropList.add(prop)\n",
    "        count1 = countLines(filePath+folder+'/'+filename)\n",
    "        if folder not in invConstViolations:\n",
    "            invConstViolations[folder] = {}\n",
    "        if prop not in invConstViolations[folder]:\n",
    "            invConstViolations[folder][prop] = {'correct': 0, 'incorrect': 0, 'paths': []}\n",
    "        invConstViolations[folder][prop][correctness] = count1\n",
    "        invConstViolations[folder][prop]['paths'].append(filePath+folder+'/'+filename)"
   ]
  },
  {
   "cell_type": "code",
   "execution_count": 154,
   "id": "circular-africa",
   "metadata": {},
   "outputs": [
    {
     "data": {
      "text/plain": [
       "110"
      ]
     },
     "execution_count": 154,
     "metadata": {},
     "output_type": "execute_result"
    }
   ],
   "source": [
    "len(invConstPropList)"
   ]
  },
  {
   "cell_type": "code",
   "execution_count": 155,
   "id": "recreational-world",
   "metadata": {},
   "outputs": [
    {
     "data": {
      "application/vnd.jupyter.widget-view+json": {
       "model_id": "a1a9f87a27e548909c153fed869dc026",
       "version_major": 2,
       "version_minor": 0
      },
      "text/plain": [
       "0it [00:00, ?it/s]"
      ]
     },
     "metadata": {},
     "output_type": "display_data"
    }
   ],
   "source": [
    "invConstViolationsSummary = {}\n",
    "for folder in tqdm(iter(['mandatory','normal','suggestion'])):\n",
    "    invConstViolationsSummary[folder] = {'correct': 0, 'incorrect': 0}\n",
    "    for prop in invConstViolations[folder].keys():\n",
    "        invConstViolationsSummary[folder]['correct'] += invConstViolations[folder][prop]['correct']\n",
    "        invConstViolationsSummary[folder]['incorrect'] += invConstViolations[folder][prop]['incorrect']\n",
    "    invConstViolationsSummary[folder]['total'] = invConstViolationsSummary[folder]['correct'] + invConstViolationsSummary[folder]['incorrect']\n",
    "    invConstViolationsSummary[folder]['percIncorrect'] = invConstViolationsSummary[folder]['incorrect'] / invConstViolationsSummary[folder]['total'] * 100\n",
    "    invConstViolationsSummary[folder]['propCount'] = len(invConstViolations[folder].keys())"
   ]
  },
  {
   "cell_type": "code",
   "execution_count": 156,
   "id": "headed-singer",
   "metadata": {},
   "outputs": [
    {
     "data": {
      "text/plain": [
       "{'mandatory': {'correct': 6564,\n",
       "  'incorrect': 133,\n",
       "  'total': 6697,\n",
       "  'percIncorrect': 1.9859638644169029,\n",
       "  'propCount': 6},\n",
       " 'normal': {'correct': 7131934,\n",
       "  'incorrect': 204841,\n",
       "  'total': 7336775,\n",
       "  'percIncorrect': 2.7919760385182864,\n",
       "  'propCount': 100},\n",
       " 'suggestion': {'correct': 2002102,\n",
       "  'incorrect': 95351,\n",
       "  'total': 2097453,\n",
       "  'percIncorrect': 4.546037503581725,\n",
       "  'propCount': 4}}"
      ]
     },
     "execution_count": 156,
     "metadata": {},
     "output_type": "execute_result"
    }
   ],
   "source": [
    "invConstViolationsSummary"
   ]
  },
  {
   "cell_type": "code",
   "execution_count": 157,
   "id": "russian-steering",
   "metadata": {},
   "outputs": [
    {
     "data": {
      "text/plain": [
       "9440925"
      ]
     },
     "execution_count": 157,
     "metadata": {},
     "output_type": "execute_result"
    }
   ],
   "source": [
    "noOfStmts = 0\n",
    "for fold in invConstViolationsSummary.keys():\n",
    "    noOfStmts += invConstViolationsSummary[fold]['total']\n",
    "noOfStmts"
   ]
  },
  {
   "cell_type": "code",
   "execution_count": 158,
   "id": "sustained-prediction",
   "metadata": {},
   "outputs": [
    {
     "data": {
      "text/html": [
       "<div>\n",
       "<style scoped>\n",
       "    .dataframe tbody tr th:only-of-type {\n",
       "        vertical-align: middle;\n",
       "    }\n",
       "\n",
       "    .dataframe tbody tr th {\n",
       "        vertical-align: top;\n",
       "    }\n",
       "\n",
       "    .dataframe thead th {\n",
       "        text-align: right;\n",
       "    }\n",
       "</style>\n",
       "<table border=\"1\" class=\"dataframe\">\n",
       "  <thead>\n",
       "    <tr style=\"text-align: right;\">\n",
       "      <th></th>\n",
       "      <th>correct</th>\n",
       "      <th>incorrect</th>\n",
       "      <th>paths</th>\n",
       "      <th>violation_ratio</th>\n",
       "    </tr>\n",
       "  </thead>\n",
       "  <tbody>\n",
       "    <tr>\n",
       "      <th>P2673</th>\n",
       "      <td>819</td>\n",
       "      <td>69</td>\n",
       "      <td>[../../allConstraintsAnalysis_Final/inverseCon...</td>\n",
       "      <td>0.077703</td>\n",
       "    </tr>\n",
       "    <tr>\n",
       "      <th>P4147</th>\n",
       "      <td>271</td>\n",
       "      <td>9</td>\n",
       "      <td>[../../allConstraintsAnalysis_Final/inverseCon...</td>\n",
       "      <td>0.032143</td>\n",
       "    </tr>\n",
       "    <tr>\n",
       "      <th>P4149</th>\n",
       "      <td>272</td>\n",
       "      <td>4</td>\n",
       "      <td>[../../allConstraintsAnalysis_Final/inverseCon...</td>\n",
       "      <td>0.014493</td>\n",
       "    </tr>\n",
       "    <tr>\n",
       "      <th>P2033</th>\n",
       "      <td>1836</td>\n",
       "      <td>26</td>\n",
       "      <td>[../../allConstraintsAnalysis_Final/inverseCon...</td>\n",
       "      <td>0.013963</td>\n",
       "    </tr>\n",
       "    <tr>\n",
       "      <th>P450</th>\n",
       "      <td>1754</td>\n",
       "      <td>21</td>\n",
       "      <td>[../../allConstraintsAnalysis_Final/inverseCon...</td>\n",
       "      <td>0.011831</td>\n",
       "    </tr>\n",
       "    <tr>\n",
       "      <th>P1151</th>\n",
       "      <td>1612</td>\n",
       "      <td>4</td>\n",
       "      <td>[../../allConstraintsAnalysis_Final/inverseCon...</td>\n",
       "      <td>0.002475</td>\n",
       "    </tr>\n",
       "  </tbody>\n",
       "</table>\n",
       "</div>"
      ],
      "text/plain": [
       "      correct incorrect                                              paths  \\\n",
       "P2673     819        69  [../../allConstraintsAnalysis_Final/inverseCon...   \n",
       "P4147     271         9  [../../allConstraintsAnalysis_Final/inverseCon...   \n",
       "P4149     272         4  [../../allConstraintsAnalysis_Final/inverseCon...   \n",
       "P2033    1836        26  [../../allConstraintsAnalysis_Final/inverseCon...   \n",
       "P450     1754        21  [../../allConstraintsAnalysis_Final/inverseCon...   \n",
       "P1151    1612         4  [../../allConstraintsAnalysis_Final/inverseCon...   \n",
       "\n",
       "       violation_ratio  \n",
       "P2673         0.077703  \n",
       "P4147         0.032143  \n",
       "P4149         0.014493  \n",
       "P2033         0.013963  \n",
       "P450          0.011831  \n",
       "P1151         0.002475  "
      ]
     },
     "execution_count": 158,
     "metadata": {},
     "output_type": "execute_result"
    }
   ],
   "source": [
    "invConstDF1 = pd.DataFrame(invConstViolations['mandatory']).T\n",
    "invConstDF1['violation_ratio'] = invConstDF1.apply(lambda p: p.incorrect / (p.correct + p.incorrect), axis=1)\n",
    "invConstDF1.sort_values(by=['violation_ratio'],ascending=False).head(15)"
   ]
  },
  {
   "cell_type": "code",
   "execution_count": 159,
   "id": "valid-symposium",
   "metadata": {},
   "outputs": [
    {
     "data": {
      "text/html": [
       "<div>\n",
       "<style scoped>\n",
       "    .dataframe tbody tr th:only-of-type {\n",
       "        vertical-align: middle;\n",
       "    }\n",
       "\n",
       "    .dataframe tbody tr th {\n",
       "        vertical-align: top;\n",
       "    }\n",
       "\n",
       "    .dataframe thead th {\n",
       "        text-align: right;\n",
       "    }\n",
       "</style>\n",
       "<table border=\"1\" class=\"dataframe\">\n",
       "  <thead>\n",
       "    <tr style=\"text-align: right;\">\n",
       "      <th></th>\n",
       "      <th>correct</th>\n",
       "      <th>incorrect</th>\n",
       "      <th>paths</th>\n",
       "      <th>violation_ratio</th>\n",
       "    </tr>\n",
       "  </thead>\n",
       "  <tbody>\n",
       "    <tr>\n",
       "      <th>P1434</th>\n",
       "      <td>3512</td>\n",
       "      <td>4745</td>\n",
       "      <td>[../../allConstraintsAnalysis_Final/inverseCon...</td>\n",
       "      <td>0.574664</td>\n",
       "    </tr>\n",
       "    <tr>\n",
       "      <th>P155</th>\n",
       "      <td>963205</td>\n",
       "      <td>49783</td>\n",
       "      <td>[../../allConstraintsAnalysis_Final/inverseCon...</td>\n",
       "      <td>0.049145</td>\n",
       "    </tr>\n",
       "    <tr>\n",
       "      <th>P156</th>\n",
       "      <td>963183</td>\n",
       "      <td>40682</td>\n",
       "      <td>[../../allConstraintsAnalysis_Final/inverseCon...</td>\n",
       "      <td>0.040525</td>\n",
       "    </tr>\n",
       "    <tr>\n",
       "      <th>P629</th>\n",
       "      <td>72202</td>\n",
       "      <td>141</td>\n",
       "      <td>[../../allConstraintsAnalysis_Final/inverseCon...</td>\n",
       "      <td>0.001949</td>\n",
       "    </tr>\n",
       "  </tbody>\n",
       "</table>\n",
       "</div>"
      ],
      "text/plain": [
       "      correct incorrect                                              paths  \\\n",
       "P1434    3512      4745  [../../allConstraintsAnalysis_Final/inverseCon...   \n",
       "P155   963205     49783  [../../allConstraintsAnalysis_Final/inverseCon...   \n",
       "P156   963183     40682  [../../allConstraintsAnalysis_Final/inverseCon...   \n",
       "P629    72202       141  [../../allConstraintsAnalysis_Final/inverseCon...   \n",
       "\n",
       "       violation_ratio  \n",
       "P1434         0.574664  \n",
       "P155          0.049145  \n",
       "P156          0.040525  \n",
       "P629          0.001949  "
      ]
     },
     "execution_count": 159,
     "metadata": {},
     "output_type": "execute_result"
    }
   ],
   "source": [
    "invConstDF2 = pd.DataFrame(invConstViolations['suggestion']).T\n",
    "invConstDF2['violation_ratio'] = invConstDF2.apply(lambda p: p.incorrect / (p.correct + p.incorrect), axis=1)\n",
    "invConstDF2.sort_values(by=['violation_ratio'],ascending=False).head(15)"
   ]
  },
  {
   "cell_type": "code",
   "execution_count": 160,
   "id": "resident-mustang",
   "metadata": {},
   "outputs": [
    {
     "data": {
      "text/html": [
       "<div>\n",
       "<style scoped>\n",
       "    .dataframe tbody tr th:only-of-type {\n",
       "        vertical-align: middle;\n",
       "    }\n",
       "\n",
       "    .dataframe tbody tr th {\n",
       "        vertical-align: top;\n",
       "    }\n",
       "\n",
       "    .dataframe thead th {\n",
       "        text-align: right;\n",
       "    }\n",
       "</style>\n",
       "<table border=\"1\" class=\"dataframe\">\n",
       "  <thead>\n",
       "    <tr style=\"text-align: right;\">\n",
       "      <th></th>\n",
       "      <th>correct</th>\n",
       "      <th>incorrect</th>\n",
       "      <th>paths</th>\n",
       "      <th>violation_ratio</th>\n",
       "    </tr>\n",
       "  </thead>\n",
       "  <tbody>\n",
       "    <tr>\n",
       "      <th>P1605</th>\n",
       "      <td>12</td>\n",
       "      <td>189</td>\n",
       "      <td>[../../allConstraintsAnalysis_Final/inverseCon...</td>\n",
       "      <td>0.940299</td>\n",
       "    </tr>\n",
       "    <tr>\n",
       "      <th>P3448</th>\n",
       "      <td>583</td>\n",
       "      <td>4266</td>\n",
       "      <td>[../../allConstraintsAnalysis_Final/inverseCon...</td>\n",
       "      <td>0.879769</td>\n",
       "    </tr>\n",
       "    <tr>\n",
       "      <th>P926</th>\n",
       "      <td>1</td>\n",
       "      <td>6</td>\n",
       "      <td>[../../allConstraintsAnalysis_Final/inverseCon...</td>\n",
       "      <td>0.857143</td>\n",
       "    </tr>\n",
       "    <tr>\n",
       "      <th>P925</th>\n",
       "      <td>1</td>\n",
       "      <td>5</td>\n",
       "      <td>[../../allConstraintsAnalysis_Final/inverseCon...</td>\n",
       "      <td>0.833333</td>\n",
       "    </tr>\n",
       "    <tr>\n",
       "      <th>P1029</th>\n",
       "      <td>475</td>\n",
       "      <td>2263</td>\n",
       "      <td>[../../allConstraintsAnalysis_Final/inverseCon...</td>\n",
       "      <td>0.826516</td>\n",
       "    </tr>\n",
       "    <tr>\n",
       "      <th>P115</th>\n",
       "      <td>6712</td>\n",
       "      <td>24515</td>\n",
       "      <td>[../../allConstraintsAnalysis_Final/inverseCon...</td>\n",
       "      <td>0.785058</td>\n",
       "    </tr>\n",
       "    <tr>\n",
       "      <th>P8625</th>\n",
       "      <td>7</td>\n",
       "      <td>17</td>\n",
       "      <td>[../../allConstraintsAnalysis_Final/inverseCon...</td>\n",
       "      <td>0.708333</td>\n",
       "    </tr>\n",
       "    <tr>\n",
       "      <th>P5132</th>\n",
       "      <td>81</td>\n",
       "      <td>89</td>\n",
       "      <td>[../../allConstraintsAnalysis_Final/inverseCon...</td>\n",
       "      <td>0.523529</td>\n",
       "    </tr>\n",
       "    <tr>\n",
       "      <th>P425</th>\n",
       "      <td>2512</td>\n",
       "      <td>2024</td>\n",
       "      <td>[../../allConstraintsAnalysis_Final/inverseCon...</td>\n",
       "      <td>0.446208</td>\n",
       "    </tr>\n",
       "    <tr>\n",
       "      <th>P3816</th>\n",
       "      <td>14</td>\n",
       "      <td>10</td>\n",
       "      <td>[../../allConstraintsAnalysis_Final/inverseCon...</td>\n",
       "      <td>0.416667</td>\n",
       "    </tr>\n",
       "    <tr>\n",
       "      <th>P2512</th>\n",
       "      <td>210</td>\n",
       "      <td>149</td>\n",
       "      <td>[../../allConstraintsAnalysis_Final/inverseCon...</td>\n",
       "      <td>0.415042</td>\n",
       "    </tr>\n",
       "    <tr>\n",
       "      <th>P1677</th>\n",
       "      <td>6</td>\n",
       "      <td>4</td>\n",
       "      <td>[../../allConstraintsAnalysis_Final/inverseCon...</td>\n",
       "      <td>0.400000</td>\n",
       "    </tr>\n",
       "    <tr>\n",
       "      <th>P2578</th>\n",
       "      <td>989</td>\n",
       "      <td>604</td>\n",
       "      <td>[../../allConstraintsAnalysis_Final/inverseCon...</td>\n",
       "      <td>0.379159</td>\n",
       "    </tr>\n",
       "    <tr>\n",
       "      <th>P3261</th>\n",
       "      <td>232</td>\n",
       "      <td>125</td>\n",
       "      <td>[../../allConstraintsAnalysis_Final/inverseCon...</td>\n",
       "      <td>0.350140</td>\n",
       "    </tr>\n",
       "    <tr>\n",
       "      <th>P568</th>\n",
       "      <td>1049</td>\n",
       "      <td>450</td>\n",
       "      <td>[../../allConstraintsAnalysis_Final/inverseCon...</td>\n",
       "      <td>0.300200</td>\n",
       "    </tr>\n",
       "  </tbody>\n",
       "</table>\n",
       "</div>"
      ],
      "text/plain": [
       "      correct incorrect                                              paths  \\\n",
       "P1605      12       189  [../../allConstraintsAnalysis_Final/inverseCon...   \n",
       "P3448     583      4266  [../../allConstraintsAnalysis_Final/inverseCon...   \n",
       "P926        1         6  [../../allConstraintsAnalysis_Final/inverseCon...   \n",
       "P925        1         5  [../../allConstraintsAnalysis_Final/inverseCon...   \n",
       "P1029     475      2263  [../../allConstraintsAnalysis_Final/inverseCon...   \n",
       "P115     6712     24515  [../../allConstraintsAnalysis_Final/inverseCon...   \n",
       "P8625       7        17  [../../allConstraintsAnalysis_Final/inverseCon...   \n",
       "P5132      81        89  [../../allConstraintsAnalysis_Final/inverseCon...   \n",
       "P425     2512      2024  [../../allConstraintsAnalysis_Final/inverseCon...   \n",
       "P3816      14        10  [../../allConstraintsAnalysis_Final/inverseCon...   \n",
       "P2512     210       149  [../../allConstraintsAnalysis_Final/inverseCon...   \n",
       "P1677       6         4  [../../allConstraintsAnalysis_Final/inverseCon...   \n",
       "P2578     989       604  [../../allConstraintsAnalysis_Final/inverseCon...   \n",
       "P3261     232       125  [../../allConstraintsAnalysis_Final/inverseCon...   \n",
       "P568     1049       450  [../../allConstraintsAnalysis_Final/inverseCon...   \n",
       "\n",
       "       violation_ratio  \n",
       "P1605         0.940299  \n",
       "P3448         0.879769  \n",
       "P926          0.857143  \n",
       "P925          0.833333  \n",
       "P1029         0.826516  \n",
       "P115          0.785058  \n",
       "P8625         0.708333  \n",
       "P5132         0.523529  \n",
       "P425          0.446208  \n",
       "P3816         0.416667  \n",
       "P2512         0.415042  \n",
       "P1677         0.400000  \n",
       "P2578         0.379159  \n",
       "P3261         0.350140  \n",
       "P568          0.300200  "
      ]
     },
     "execution_count": 160,
     "metadata": {},
     "output_type": "execute_result"
    }
   ],
   "source": [
    "invConstDF3 = pd.DataFrame(invConstViolations['normal']).T\n",
    "invConstDF3['violation_ratio'] = invConstDF3.apply(lambda p: p.incorrect / (p.correct + p.incorrect), axis=1)\n",
    "invConstDF3.sort_values(by=['violation_ratio'],ascending=False).head(15)"
   ]
  },
  {
   "cell_type": "code",
   "execution_count": 161,
   "id": "entire-gauge",
   "metadata": {},
   "outputs": [
    {
     "data": {
      "text/plain": [
       "Text(0.5, 1.0, 'Symmetric Normal Constraint - Violation Ratios')"
      ]
     },
     "execution_count": 161,
     "metadata": {},
     "output_type": "execute_result"
    },
    {
     "data": {
      "image/png": "[encoded data removed]",
      "text/plain": [
       "<Figure size 432x288 with 1 Axes>"
      ]
     },
     "metadata": {
      "needs_background": "light"
     },
     "output_type": "display_data"
    }
   ],
   "source": [
    "invConstDF3.sort_values(by=['violation_ratio'],ascending=False)['violation_ratio'].plot.hist(bins=100).set_title(\"Symmetric Normal Constraint - Violation Ratios\")"
   ]
  },
  {
   "cell_type": "code",
   "execution_count": 162,
   "id": "infectious-clothing",
   "metadata": {},
   "outputs": [],
   "source": [
    "pd.concat([invConstDF1, invConstDF2, invConstDF3]).to_csv('../../allConstraintsAnalysis_Final/invConstDFAnalysis.csv')"
   ]
  },
  {
   "cell_type": "markdown",
   "id": "working-stable",
   "metadata": {},
   "source": [
    "### Find out time required"
   ]
  },
  {
   "cell_type": "code",
   "execution_count": 138,
   "id": "saved-twelve",
   "metadata": {},
   "outputs": [
    {
     "data": {
      "application/vnd.jupyter.widget-view+json": {
       "model_id": "cbac40ccbf5c44a9963ead4fa2f371ac",
       "version_major": 2,
       "version_minor": 0
      },
      "text/plain": [
       "  0%|          | 0/52 [00:00<?, ?it/s]"
      ]
     },
     "metadata": {},
     "output_type": "display_data"
    }
   ],
   "source": [
    "import pandas as pd\n",
    "import os\n",
    "from tqdm.notebook import tqdm\n",
    "\n",
    "codepConstViolations = {}\n",
    "\n",
    "codepConstViolations = {}\n",
    "codepConstPropList = set()\n",
    "\n",
    "def extractTimes(filename):\n",
    "    times = []\n",
    "    with open(filename) as f:\n",
    "        for line in f:\n",
    "            if \"real\" in line:\n",
    "                line = line.strip()\n",
    "                time1 = line.split(\"\\t\")[1]\n",
    "                mins, sec = time1.split(\"m\")\n",
    "                mins = int(mins)\n",
    "                sec = float(sec[:-1])\n",
    "                times.append(60 * mins + sec)\n",
    "    return times\n",
    "\n",
    "# codepConstViolationsSummary = {}\n",
    "times = []\n",
    "filePath = '/data/wd-correctness/propertiesSplit_Final/checkViolations/exec_logs/'\n",
    "for filename in tqdm(os.listdir(filePath)):\n",
    "    if filename.startswith(\"invConst_Validator\"):\n",
    "        tempTimes = extractTimes(filePath + filename)\n",
    "        times += tempTimes"
   ]
  },
  {
   "cell_type": "code",
   "execution_count": 139,
   "id": "caroline-observation",
   "metadata": {},
   "outputs": [
    {
     "name": "stdout",
     "output_type": "stream",
     "text": [
      "count    110.000000\n",
      "mean     100.688809\n",
      "std      111.183132\n",
      "min        8.677000\n",
      "25%       32.859750\n",
      "50%       54.791000\n",
      "75%      119.579750\n",
      "max      646.215000\n",
      "dtype: float64\n"
     ]
    }
   ],
   "source": [
    "print(pd.Series(times).describe())"
   ]
  },
  {
   "cell_type": "code",
   "execution_count": 140,
   "id": "static-conclusion",
   "metadata": {},
   "outputs": [
    {
     "data": {
      "text/plain": [
       "Text(0.5, 1.0, 'Distribution of times (in s) taken for symmetric constraint checks')"
      ]
     },
     "execution_count": 140,
     "metadata": {},
     "output_type": "execute_result"
    },
    {
     "data": {
      "image/png": "[encoded data removed]",
      "text/plain": [
       "<Figure size 432x288 with 1 Axes>"
      ]
     },
     "metadata": {
      "needs_background": "light"
     },
     "output_type": "display_data"
    }
   ],
   "source": [
    "import seaborn as sns\n",
    "sns.lineplot(data=pd.Series(times)).set_title(\"Distribution of times (in s) taken for symmetric constraint checks\")"
   ]
  },
  {
   "cell_type": "markdown",
   "id": "mature-suite",
   "metadata": {},
   "source": [
    "# Combine Plots for constraints"
   ]
  },
  {
   "cell_type": "code",
   "execution_count": null,
   "id": "behind-nurse",
   "metadata": {},
   "outputs": [],
   "source": [
    "import pandas as pd\n",
    "import seaborn as sns\n",
    "import numpy as np\n",
    "import matplotlib.pyplot as plt\n",
    "\n",
    "typeConstDF = pd.read_csv(\"../../allConstraintsAnalysis_Final/typeConstDFAnalysis.csv\")\n",
    "typeConstDF = typeConstDF.set_index(typeConstDF.iloc[:, 0])\n",
    "\n",
    "valTypeConstDF = pd.read_csv(\"../../allConstraintsAnalysis_Final/valueTypeConstDFAnalysis.csv\")\n",
    "valTypeConstDF = valTypeConstDF.set_index(valTypeConstDF.iloc[:, 0])\n",
    "\n",
    "codepConstDF1 = pd.read_csv(\"../../allConstraintsAnalysis_Final/codepConstDFAnalysis.csv\")\n",
    "codepConstDF1 = codepConstDF1.set_index(codepConstDF1.iloc[:, 0])\n",
    "\n",
    "symmConstDF = pd.read_csv(\"../../allConstraintsAnalysis_Final/symmConstDFAnalysis.csv\")\n",
    "symmConstDF = symmConstDF.set_index(symmConstDF.iloc[:, 0])\n",
    "\n",
    "invConstDF = pd.read_csv(\"../../allConstraintsAnalysis_Final/invConstDFAnalysis.csv\")\n",
    "invConstDF = invConstDF.set_index(invConstDF.iloc[:, 0])"
   ]
  },
  {
   "cell_type": "code",
   "execution_count": null,
   "id": "ultimate-chorus",
   "metadata": {},
   "outputs": [],
   "source": [
    "typeConstDF1 = typeConstDF.add_suffix(\"_type_const\")['violation_ratio_type_const'].rename().sort_values()"
   ]
  },
  {
   "cell_type": "code",
   "execution_count": null,
   "id": "dynamic-castle",
   "metadata": {},
   "outputs": [],
   "source": [
    "valTypeConstDF1 = valTypeConstDF.add_suffix(\"_valuetype_const\")['violation_ratio_valuetype_const'].sort_values()"
   ]
  },
  {
   "cell_type": "code",
   "execution_count": null,
   "id": "global-performer",
   "metadata": {},
   "outputs": [],
   "source": [
    "codepConstDF1_1 = codepConstDF1.add_suffix(\"_codep_const\")['violation_ratio_codep_const'].sort_values()"
   ]
  },
  {
   "cell_type": "code",
   "execution_count": null,
   "id": "enabling-instrumentation",
   "metadata": {},
   "outputs": [],
   "source": [
    "symmConstDF1_1 = symmConstDF.add_suffix(\"_symm_const\")['violation_ratio_symm_const'].sort_values()"
   ]
  },
  {
   "cell_type": "code",
   "execution_count": null,
   "id": "realistic-cannon",
   "metadata": {},
   "outputs": [],
   "source": [
    "invConstDF1_1 = invConstDF.add_suffix(\"_inv_const\")['violation_ratio_inv_const'].sort_values()"
   ]
  },
  {
   "cell_type": "code",
   "execution_count": null,
   "id": "about-coalition",
   "metadata": {},
   "outputs": [],
   "source": [
    "typeConstDF1.index.names = ['property']\n",
    "typeConstDF1 = typeConstDF1.reset_index().reset_index()\n",
    "typeConstDF1['index'] = typeConstDF1['index'].apply(lambda p: (p+1) * 100/len(typeConstDF1))\n",
    "typeConstDF1 = typeConstDF1.set_index('index')[0]"
   ]
  },
  {
   "cell_type": "code",
   "execution_count": null,
   "id": "hidden-anaheim",
   "metadata": {},
   "outputs": [],
   "source": [
    "valTypeConstDF1.index.names = ['property']\n",
    "valTypeConstDF1 = valTypeConstDF1.reset_index().reset_index()\n",
    "valTypeConstDF1['index'] = valTypeConstDF1['index'].apply(lambda p: (p+1) * 100/len(valTypeConstDF1))\n",
    "valTypeConstDF1 = valTypeConstDF1.set_index('index')['violation_ratio_valuetype_const']"
   ]
  },
  {
   "cell_type": "code",
   "execution_count": null,
   "id": "toxic-straight",
   "metadata": {},
   "outputs": [],
   "source": [
    "codepConstDF1_1.index.names = ['property']\n",
    "codepConstDF1_1 = codepConstDF1_1.reset_index().reset_index()\n",
    "codepConstDF1_1['index'] = codepConstDF1_1['index'].apply(lambda p: (p+1) * 100/len(codepConstDF1_1))\n",
    "codepConstDF1_1 = codepConstDF1_1.set_index('index')['violation_ratio_codep_const']"
   ]
  },
  {
   "cell_type": "code",
   "execution_count": null,
   "id": "legal-socket",
   "metadata": {},
   "outputs": [],
   "source": [
    "symmConstDF1_1.index.names = ['property']\n",
    "symmConstDF1_1 = symmConstDF1_1.reset_index().reset_index()\n",
    "symmConstDF1_1['index'] = symmConstDF1_1['index'].apply(lambda p: (p+1) * 100/len(symmConstDF1_1))\n",
    "symmConstDF1_1 = symmConstDF1_1.set_index('index')['violation_ratio_symm_const']"
   ]
  },
  {
   "cell_type": "code",
   "execution_count": null,
   "id": "dietary-attack",
   "metadata": {},
   "outputs": [],
   "source": [
    "invConstDF1_1.index.names = ['property']\n",
    "invConstDF1_1 = invConstDF1_1.reset_index().reset_index()\n",
    "invConstDF1_1['index'] = invConstDF1_1['index'].apply(lambda p: (p+1) * 100/len(invConstDF1_1))\n",
    "invConstDF1_1 = invConstDF1_1.set_index('index')['violation_ratio_inv_const']"
   ]
  },
  {
   "cell_type": "code",
   "execution_count": null,
   "id": "familiar-packing",
   "metadata": {},
   "outputs": [],
   "source": [
    "typeConstDF2 = [np.percentile(typeConstDF1,i)*100 for i in range(1, 101)]\n",
    "valTypeConstDF2 = [np.percentile(valTypeConstDF1,i)*100 for i in range(1, 101)]\n",
    "codepConstDF1_2 = [np.percentile(codepConstDF1_1,i)*100 for i in range(1, 101)]\n",
    "symmConstDF1_2 = [np.percentile(symmConstDF1_1,i)*100 for i in range(1, 101)]\n",
    "invConstDF1_2 = [np.percentile(invConstDF1_1,i)*100 for i in range(1, 101)]"
   ]
  },
  {
   "cell_type": "code",
   "execution_count": null,
   "id": "forward-tutorial",
   "metadata": {},
   "outputs": [],
   "source": [
    "constAnalysisDF = pd.DataFrame({'index':list(range(1, 101)), 'type': typeConstDF2, 'value type': valTypeConstDF2, 'irs': codepConstDF1_2, 'symmetric': symmConstDF1_2, 'inverse': invConstDF1_2})"
   ]
  },
  {
   "cell_type": "code",
   "execution_count": null,
   "id": "mobile-rings",
   "metadata": {},
   "outputs": [],
   "source": [
    "constAnalysisDF = constAnalysisDF.melt('index', var_name='constraint',  value_name='VR')"
   ]
  },
  {
   "cell_type": "code",
   "execution_count": null,
   "id": "contrary-conviction",
   "metadata": {},
   "outputs": [],
   "source": [
    "constAnalysisDF.head()"
   ]
  },
  {
   "cell_type": "code",
   "execution_count": 33,
   "id": "ruled-rough",
   "metadata": {},
   "outputs": [
    {
     "data": {
      "text/plain": [
       "[Text(0.5, 0, 'Proportion of properties (in %)'),\n",
       " Text(0, 0.5, 'Violation Ratio (in %)')]"
      ]
     },
     "execution_count": 33,
     "metadata": {},
     "output_type": "execute_result"
    },
    {
     "data": {
      "image/png": "[encoded data removed]",
      "text/plain": [
       "<Figure size 720x432 with 1 Axes>"
      ]
     },
     "metadata": {
      "needs_background": "light"
     },
     "output_type": "display_data"
    }
   ],
   "source": [
    "plt.figure(figsize=(10, 6))\n",
    "ax = sns.lineplot(x='index', y='VR', hue='constraint', data=constAnalysisDF)\n",
    "ax.set(xlabel=\"Proportion of properties (in %)\", ylabel = \"Violation Ratio (in %)\")"
   ]
  },
  {
   "cell_type": "markdown",
   "id": "amazing-growing",
   "metadata": {},
   "source": [
    "## Scatterplot"
   ]
  },
  {
   "cell_type": "code",
   "execution_count": 7,
   "id": "federal-diversity",
   "metadata": {},
   "outputs": [],
   "source": [
    "import pandas as pd\n",
    "import seaborn as sns\n",
    "import numpy as np\n",
    "import matplotlib.pyplot as plt\n",
    "\n",
    "typeConstDF = pd.read_csv(\"../../allConstraintsAnalysis_Final/typeConstDFAnalysis.csv\")\n",
    "typeConstDF = typeConstDF.set_index(typeConstDF.iloc[:, 0])\n",
    "\n",
    "valTypeConstDF = pd.read_csv(\"../../allConstraintsAnalysis_Final/valueTypeConstDFAnalysis.csv\")\n",
    "valTypeConstDF = valTypeConstDF.set_index(valTypeConstDF.iloc[:, 0])\n",
    "\n",
    "codepConstDF1 = pd.read_csv(\"../../allConstraintsAnalysis_Final/codepConstDFAnalysis.csv\")\n",
    "codepConstDF1 = codepConstDF1.set_index(codepConstDF1.iloc[:, 0])\n",
    "\n",
    "symmConstDF = pd.read_csv(\"../../allConstraintsAnalysis_Final/symmConstDFAnalysis.csv\")\n",
    "symmConstDF = symmConstDF.set_index(symmConstDF.iloc[:, 0])\n",
    "\n",
    "invConstDF = pd.read_csv(\"../../allConstraintsAnalysis_Final/invConstDFAnalysis.csv\")\n",
    "invConstDF = invConstDF.set_index(invConstDF.iloc[:, 0])"
   ]
  },
  {
   "cell_type": "code",
   "execution_count": 8,
   "id": "polish-supplier",
   "metadata": {},
   "outputs": [
    {
     "data": {
      "text/html": [
       "<div>\n",
       "<style scoped>\n",
       "    .dataframe tbody tr th:only-of-type {\n",
       "        vertical-align: middle;\n",
       "    }\n",
       "\n",
       "    .dataframe tbody tr th {\n",
       "        vertical-align: top;\n",
       "    }\n",
       "\n",
       "    .dataframe thead th {\n",
       "        text-align: right;\n",
       "    }\n",
       "</style>\n",
       "<table border=\"1\" class=\"dataframe\">\n",
       "  <thead>\n",
       "    <tr style=\"text-align: right;\">\n",
       "      <th></th>\n",
       "      <th>violation_ratio_inv_const</th>\n",
       "    </tr>\n",
       "    <tr>\n",
       "      <th>Unnamed: 0</th>\n",
       "      <th></th>\n",
       "    </tr>\n",
       "  </thead>\n",
       "  <tbody>\n",
       "    <tr>\n",
       "      <th>P1605</th>\n",
       "      <td>0.940299</td>\n",
       "    </tr>\n",
       "    <tr>\n",
       "      <th>P3448</th>\n",
       "      <td>0.879769</td>\n",
       "    </tr>\n",
       "    <tr>\n",
       "      <th>P926</th>\n",
       "      <td>0.857143</td>\n",
       "    </tr>\n",
       "    <tr>\n",
       "      <th>P925</th>\n",
       "      <td>0.833333</td>\n",
       "    </tr>\n",
       "    <tr>\n",
       "      <th>P1029</th>\n",
       "      <td>0.826516</td>\n",
       "    </tr>\n",
       "  </tbody>\n",
       "</table>\n",
       "</div>"
      ],
      "text/plain": [
       "            violation_ratio_inv_const\n",
       "Unnamed: 0                           \n",
       "P1605                        0.940299\n",
       "P3448                        0.879769\n",
       "P926                         0.857143\n",
       "P925                         0.833333\n",
       "P1029                        0.826516"
      ]
     },
     "execution_count": 8,
     "metadata": {},
     "output_type": "execute_result"
    }
   ],
   "source": [
    "typeConstDF1 = typeConstDF.add_suffix(\"_type_const\")[['violation_ratio_type_const']].sort_values(by=['violation_ratio_type_const'],ascending=False)\n",
    "valTypeConstDF1 = valTypeConstDF.add_suffix(\"_valuetype_const\")[['violation_ratio_valuetype_const']].sort_values(by=['violation_ratio_valuetype_const'],ascending=False)\n",
    "codepConstDF1_1 = codepConstDF1.add_suffix(\"_codep_const\")[['violation_ratio_codep_const']].sort_values(by=['violation_ratio_codep_const'],ascending=False)\n",
    "symmConstDF1_1 = symmConstDF.add_suffix(\"_symm_const\")[['violation_ratio_symm_const']].sort_values(by=['violation_ratio_symm_const'],ascending=False)\n",
    "invConstDF1_1 = invConstDF.add_suffix(\"_inv_const\")[['violation_ratio_inv_const']].sort_values(by=['violation_ratio_inv_const'],ascending=False)\n",
    "invConstDF1_1.head()"
   ]
  },
  {
   "cell_type": "code",
   "execution_count": 9,
   "id": "sexual-giant",
   "metadata": {},
   "outputs": [
    {
     "data": {
      "text/plain": [
       "(1456, 897, 527, 38, 110)"
      ]
     },
     "execution_count": 9,
     "metadata": {},
     "output_type": "execute_result"
    }
   ],
   "source": [
    "len(typeConstDF1), len(valTypeConstDF1), len(codepConstDF1_1), len(symmConstDF), len(invConstDF1_1)"
   ]
  },
  {
   "cell_type": "code",
   "execution_count": 10,
   "id": "photographic-signature",
   "metadata": {},
   "outputs": [],
   "source": [
    "typeConstDF1.index.names = ['property']\n",
    "typeConstDF1 = typeConstDF1.reset_index()[['violation_ratio_type_const']]\n",
    "valTypeConstDF1.index.names = ['property']\n",
    "valTypeConstDF1 = valTypeConstDF1.reset_index()[['violation_ratio_valuetype_const']]\n",
    "codepConstDF1_1.index.names = ['property']\n",
    "codepConstDF1_1 = codepConstDF1_1.reset_index()[['violation_ratio_codep_const']]\n",
    "symmConstDF1_1.index.names = ['property']\n",
    "symmConstDF1_1 = symmConstDF1_1.reset_index()[['violation_ratio_symm_const']]\n",
    "invConstDF1_1.index.names = ['property']\n",
    "invConstDF1_1 = invConstDF1_1.reset_index()[['violation_ratio_inv_const']]\n",
    "\n",
    "import numpy as np\n",
    "\n",
    "typeConstDF2 = pd.DataFrame({'index': list(np.arange(100, 1, -0.05)), 'type': [np.percentile(typeConstDF1,i)*100 for i in np.arange(1, 100,0.05)]}).set_index('index')\n",
    "valTypeConstDF2 = pd.DataFrame({'index': list(np.arange(100, 1, -0.1)), 'value type': [np.percentile(valTypeConstDF1,i)*100 for i in np.arange(1, 100, 0.1)]}).set_index('index')\n",
    "codepConstDF1_2 = pd.DataFrame({'index': list(np.arange(100, 1, -0.5)), 'irs': [np.percentile(codepConstDF1_1,i)*100 for i in np.arange(1, 100, 0.5)]}).set_index('index')\n",
    "symmConstDF1_2 = pd.DataFrame({'index': list(np.arange(100, 1, -5)), 'symmetric': [np.percentile(symmConstDF1_1,i)*100 for i in np.arange(1, 100,5)]}).set_index('index')\n",
    "invConstDF1_2 = pd.DataFrame({'index': list(np.arange(100, 1, -1)), 'inverse': [np.percentile(invConstDF1_1,i)*100 for i in np.arange(1, 100,1)]}).set_index('index')"
   ]
  },
  {
   "cell_type": "code",
   "execution_count": 11,
   "id": "unique-marijuana",
   "metadata": {},
   "outputs": [],
   "source": [
    "constAnalysisDF = typeConstDF2.join(valTypeConstDF2, how='outer').join(codepConstDF1_2, how='outer').join(symmConstDF1_2, how='outer').join(invConstDF1_2, how='outer')\n",
    "constAnalysisDF = constAnalysisDF.reset_index()"
   ]
  },
  {
   "cell_type": "code",
   "execution_count": 12,
   "id": "social-pipeline",
   "metadata": {},
   "outputs": [],
   "source": [
    "constAnalysisDF = constAnalysisDF.melt('index', var_name='constraint',  value_name='VR')"
   ]
  },
  {
   "cell_type": "code",
   "execution_count": 13,
   "id": "institutional-imaging",
   "metadata": {},
   "outputs": [
    {
     "data": {
      "text/html": [
       "<div>\n",
       "<style scoped>\n",
       "    .dataframe tbody tr th:only-of-type {\n",
       "        vertical-align: middle;\n",
       "    }\n",
       "\n",
       "    .dataframe tbody tr th {\n",
       "        vertical-align: top;\n",
       "    }\n",
       "\n",
       "    .dataframe thead th {\n",
       "        text-align: right;\n",
       "    }\n",
       "</style>\n",
       "<table border=\"1\" class=\"dataframe\">\n",
       "  <thead>\n",
       "    <tr style=\"text-align: right;\">\n",
       "      <th></th>\n",
       "      <th>index</th>\n",
       "      <th>constraint</th>\n",
       "      <th>VR</th>\n",
       "    </tr>\n",
       "  </thead>\n",
       "  <tbody>\n",
       "    <tr>\n",
       "      <th>0</th>\n",
       "      <td>1.05</td>\n",
       "      <td>type</td>\n",
       "      <td>100.0</td>\n",
       "    </tr>\n",
       "    <tr>\n",
       "      <th>1</th>\n",
       "      <td>1.10</td>\n",
       "      <td>type</td>\n",
       "      <td>100.0</td>\n",
       "    </tr>\n",
       "    <tr>\n",
       "      <th>2</th>\n",
       "      <td>1.15</td>\n",
       "      <td>type</td>\n",
       "      <td>100.0</td>\n",
       "    </tr>\n",
       "    <tr>\n",
       "      <th>3</th>\n",
       "      <td>1.20</td>\n",
       "      <td>type</td>\n",
       "      <td>100.0</td>\n",
       "    </tr>\n",
       "    <tr>\n",
       "      <th>4</th>\n",
       "      <td>1.25</td>\n",
       "      <td>type</td>\n",
       "      <td>100.0</td>\n",
       "    </tr>\n",
       "  </tbody>\n",
       "</table>\n",
       "</div>"
      ],
      "text/plain": [
       "   index constraint     VR\n",
       "0   1.05       type  100.0\n",
       "1   1.10       type  100.0\n",
       "2   1.15       type  100.0\n",
       "3   1.20       type  100.0\n",
       "4   1.25       type  100.0"
      ]
     },
     "execution_count": 13,
     "metadata": {},
     "output_type": "execute_result"
    }
   ],
   "source": [
    "constAnalysisDF.head()"
   ]
  },
  {
   "cell_type": "code",
   "execution_count": 16,
   "id": "straight-purpose",
   "metadata": {},
   "outputs": [
    {
     "data": {
      "text/plain": [
       "[Text(0.5, 0, 'Properties'),\n",
       " Text(0, 0.5, 'Violation Ratio (in %)'),\n",
       " [Text(-20.0, 0, ''),\n",
       "  Text(0.0, 0, ''),\n",
       "  Text(20.0, 0, ''),\n",
       "  Text(40.0, 0, ''),\n",
       "  Text(60.0, 0, ''),\n",
       "  Text(80.0, 0, ''),\n",
       "  Text(100.0, 0, ''),\n",
       "  Text(120.0, 0, '')]]"
      ]
     },
     "execution_count": 16,
     "metadata": {},
     "output_type": "execute_result"
    },
    {
     "data": {
      "image/png": "[encoded data removed]",
      "text/plain": [
       "<Figure size 1080x720 with 1 Axes>"
      ]
     },
     "metadata": {},
     "output_type": "display_data"
    }
   ],
   "source": [
    "plt.figure(figsize=(15, 10))\n",
    "sns.set(font_scale=2)\n",
    "ax = sns.scatterplot(x='index',y='VR',hue='constraint',data=constAnalysisDF)\n",
    "ax.set(xlabel=\"Properties\", ylabel = \"Violation Ratio (in %)\",xticklabels=[])\n",
    "# h,l = ax.get_legend_handles_labels()\n",
    "# plt.legend(h[0:3],l[0:3],bbox_to_anchor=(1.05, 1), loc=0, borderaxespad=0., fontsize=13)\n",
    "# plt.show(ax)"
   ]
  },
  {
   "cell_type": "markdown",
   "id": "stuck-criticism",
   "metadata": {},
   "source": [
    "# Analysis on properties with constraints"
   ]
  },
  {
   "cell_type": "code",
   "execution_count": 26,
   "id": "driven-reference",
   "metadata": {},
   "outputs": [
    {
     "name": "stdout",
     "output_type": "stream",
     "text": [
      "[2021-04-03 09:14:12 query]: SQL Translation:\r\n",
      "---------------------------------------------\r\n",
      "  SELECT *\r\n",
      "     FROM graph_1 AS graph_1_c1\r\n",
      "     WHERE graph_1_c1.\"label\"=?\r\n",
      "  PARAS: ['P2302']\r\n",
      "---------------------------------------------\r\n"
     ]
    }
   ],
   "source": [
    "!kgtk --debug query -i ../../gdrive-kgtk-dump-2020-12-07/claims.properties.tsv.gz \\\n",
    "    ../../gdrive-kgtk-dump-2020-12-07/qualifiers.properties.tsv.gz \\\n",
    "    --match \"p: (nodeProp1)-[nodePropEdge:P2302]->()\" \\\n",
    "    -o ../../constraintsOP/claims.constraints_list.tsv \\\n",
    "    --graph-cache ../../sqlite3_caches/temp1345.valuetype.sqlite3.db"
   ]
  },
  {
   "cell_type": "code",
   "execution_count": 39,
   "id": "exciting-focus",
   "metadata": {},
   "outputs": [],
   "source": [
    "!kgtk unique -i ../../gdrive-kgtk-dump-2020-12-07/claims.properties.tsv.gz --column node1 -o ../../constraintsOP/claims.propList.tsv"
   ]
  },
  {
   "cell_type": "code",
   "execution_count": 42,
   "id": "flush-romania",
   "metadata": {},
   "outputs": [
    {
     "name": "stdout",
     "output_type": "stream",
     "text": [
      "node1\tlabel\tnode2\r\n",
      "P10\tcount\t17\r\n",
      "P1000\tcount\t10\r\n",
      "P1001\tcount\t26\r\n",
      "P1002\tcount\t9\r\n",
      "P1003\tcount\t20\r\n",
      "P1004\tcount\t33\r\n",
      "P1005\tcount\t21\r\n",
      "P1006\tcount\t26\r\n",
      "P1007\tcount\t19\r\n"
     ]
    }
   ],
   "source": [
    "!head ../../constraintsOP/claims.propList.tsv"
   ]
  },
  {
   "cell_type": "code",
   "execution_count": 43,
   "id": "chemical-harris",
   "metadata": {},
   "outputs": [],
   "source": [
    "import pandas as pd\n",
    "import os\n",
    "props = pd.read_csv(\"../../constraintsOP/claims.constraints_list.tsv\", sep='\\t')"
   ]
  },
  {
   "cell_type": "code",
   "execution_count": 44,
   "id": "higher-underground",
   "metadata": {},
   "outputs": [],
   "source": [
    "props2 = props.groupby(['node1']).node2.apply(list)"
   ]
  },
  {
   "cell_type": "code",
   "execution_count": 45,
   "id": "light-appreciation",
   "metadata": {},
   "outputs": [
    {
     "data": {
      "text/plain": [
       "8100"
      ]
     },
     "execution_count": 45,
     "metadata": {},
     "output_type": "execute_result"
    }
   ],
   "source": [
    "len(props2)"
   ]
  },
  {
   "cell_type": "code",
   "execution_count": 48,
   "id": "yellow-helmet",
   "metadata": {},
   "outputs": [
    {
     "data": {
      "text/plain": [
       "(2336, 8100)"
      ]
     },
     "execution_count": 48,
     "metadata": {},
     "output_type": "execute_result"
    }
   ],
   "source": [
    "cnt = 0\n",
    "totalCnt = 0\n",
    "for prop in props2.index:\n",
    "    totalCnt += 1\n",
    "    if not(os.path.isfile(\"../../propertiesSplit_Final/claims.\"+ prop +\".tsv\")):\n",
    "        continue\n",
    "    else:\n",
    "        cnt += 1\n",
    "cnt, totalCnt"
   ]
  },
  {
   "cell_type": "code",
   "execution_count": 50,
   "id": "detected-skiing",
   "metadata": {
    "scrolled": true
   },
   "outputs": [
    {
     "data": {
      "text/plain": [
       "node1\n",
       "P10      [Q21502404, Q21510851, Q21510852, Q52004125, Q...\n",
       "P1000                    [Q21510856, Q21510865, Q53869507]\n",
       "P1001         [Q21502838, Q21503250, Q21510865, Q25796498]\n",
       "P1002                               [Q21503250, Q21510865]\n",
       "P1003    [Q19474404, Q21502404, Q21502410, Q21510851, Q...\n",
       "                               ...                        \n",
       "P1563    [Q19474404, Q21502404, Q21502410, Q21503247, Q...\n",
       "P1564    [Q19474404, Q21502404, Q21502410, Q21503247, Q...\n",
       "P1565    [Q19474404, Q21502404, Q21502410, Q21503247, Q...\n",
       "P1566    [Q19474404, Q21502404, Q21502410, Q21502838, Q...\n",
       "P1567    [Q19474404, Q21502404, Q21502410, Q21502838, Q...\n",
       "Name: node2, Length: 500, dtype: object"
      ]
     },
     "execution_count": 50,
     "metadata": {},
     "output_type": "execute_result"
    }
   ],
   "source": [
    "props2.head(500)"
   ]
  },
  {
   "cell_type": "code",
   "execution_count": 32,
   "id": "processed-perfume",
   "metadata": {},
   "outputs": [],
   "source": [
    "import pandas as pd\n",
    "import os\n",
    "props2 = pd.read_csv(\"../../constraintsOP/claims.propList.tsv\", sep='\\t')"
   ]
  },
  {
   "cell_type": "code",
   "execution_count": 33,
   "id": "increasing-graphics",
   "metadata": {},
   "outputs": [],
   "source": [
    "props2 = props2.groupby(['node1']).node2.apply(list)"
   ]
  },
  {
   "cell_type": "code",
   "execution_count": 34,
   "id": "posted-ukraine",
   "metadata": {},
   "outputs": [
    {
     "data": {
      "text/plain": [
       "8193"
      ]
     },
     "execution_count": 34,
     "metadata": {},
     "output_type": "execute_result"
    }
   ],
   "source": [
    "len(props2)"
   ]
  },
  {
   "cell_type": "code",
   "execution_count": 35,
   "id": "fifth-provision",
   "metadata": {},
   "outputs": [
    {
     "data": {
      "text/plain": [
       "(2415, 8193)"
      ]
     },
     "execution_count": 35,
     "metadata": {},
     "output_type": "execute_result"
    }
   ],
   "source": [
    "cnt = 0\n",
    "totalCnt = 0\n",
    "for prop in props2.index:\n",
    "    totalCnt += 1\n",
    "    if not(os.path.isfile(\"../../propertiesSplit_Final/claims.\"+ prop +\".tsv\")):\n",
    "        continue\n",
    "    else:\n",
    "        cnt += 1\n",
    "cnt, totalCnt"
   ]
  },
  {
   "cell_type": "code",
   "execution_count": 50,
   "id": "married-heating",
   "metadata": {
    "scrolled": true
   },
   "outputs": [
    {
     "data": {
      "text/plain": [
       "node1\n",
       "P10      [Q21502404, Q21510851, Q21510852, Q52004125, Q...\n",
       "P1000                    [Q21510856, Q21510865, Q53869507]\n",
       "P1001         [Q21502838, Q21503250, Q21510865, Q25796498]\n",
       "P1002                               [Q21503250, Q21510865]\n",
       "P1003    [Q19474404, Q21502404, Q21502410, Q21510851, Q...\n",
       "                               ...                        \n",
       "P1563    [Q19474404, Q21502404, Q21502410, Q21503247, Q...\n",
       "P1564    [Q19474404, Q21502404, Q21502410, Q21503247, Q...\n",
       "P1565    [Q19474404, Q21502404, Q21502410, Q21503247, Q...\n",
       "P1566    [Q19474404, Q21502404, Q21502410, Q21502838, Q...\n",
       "P1567    [Q19474404, Q21502404, Q21502410, Q21502838, Q...\n",
       "Name: node2, Length: 500, dtype: object"
      ]
     },
     "execution_count": 50,
     "metadata": {},
     "output_type": "execute_result"
    }
   ],
   "source": [
    "props2.head(500)"
   ]
  },
  {
   "cell_type": "code",
   "execution_count": null,
   "id": "magnetic-conditions",
   "metadata": {},
   "outputs": [],
   "source": []
  }
 ],
 "metadata": {
  "kernelspec": {
   "display_name": "kgtkEnv",
   "language": "python",
   "name": "kgtkenv"
  },
  "language_info": {
   "codemirror_mode": {
    "name": "ipython",
    "version": 3
   },
   "file_extension": ".py",
   "mimetype": "text/x-python",
   "name": "python",
   "nbconvert_exporter": "python",
   "pygments_lexer": "ipython3",
   "version": "3.8.5"
  },
  "toc": {
   "base_numbering": 1,
   "nav_menu": {},
   "number_sections": true,
   "sideBar": true,
   "skip_h1_title": false,
   "title_cell": "Table of Contents",
   "title_sidebar": "Contents",
   "toc_cell": false,
   "toc_position": {
    "height": "calc(100% - 180px)",
    "left": "10px",
    "top": "150px",
    "width": "318px"
   },
   "toc_section_display": true,
   "toc_window_display": true
  },
  "varInspector": {
   "cols": {
    "lenName": 16,
    "lenType": 16,
    "lenVar": 40
   },
   "kernels_config": {
    "python": {
     "delete_cmd_postfix": "",
     "delete_cmd_prefix": "del ",
     "library": "var_list.py",
     "varRefreshCmd": "print(var_dic_list())"
    },
    "r": {
     "delete_cmd_postfix": ") ",
     "delete_cmd_prefix": "rm(",
     "library": "var_list.r",
     "varRefreshCmd": "cat(var_dic_list()) "
    }
   },
   "oldHeight": 122,
   "position": {
    "height": "40px",
    "left": "1170px",
    "right": "20px",
    "top": "120px",
    "width": "250px"
   },
   "types_to_exclude": [
    "module",
    "function",
    "builtin_function_or_method",
    "instance",
    "_Feature"
   ],
   "varInspector_section_display": "none",
   "window_display": false
  }
 },
 "nbformat": 4,
 "nbformat_minor": 5
}
